{
 "cells": [
  {
   "cell_type": "markdown",
   "id": "b2eec24f-e9f3-475c-80b6-cfc02600f979",
   "metadata": {},
   "source": [
    "# Einführung in Jupyter Notebooks\n",
    "\n",
    "Dies ist ein statischer Textblock, der mit Markdown oder Html befüllt werden kann. Bei einer Ausführung, wird der *Code* interpretiert und dargestellt. In diesem Kurs müssen Sie diese Teile eines Notebooks nicht bearbeiten. Sie werde verwendet, um Ihnen die Theorie darzustellen.    \n",
    "\n",
    "\n",
    "Es folgt ein Codeblock, der dynamischer Natur ist. Er kann verändert und ausgeführt werden. Dazu muss jedoch ein *kernel* ausgewählt werden, mit dem der Code interpretiert wird. In diesem Kurs wird das der *Kotlin-Kernel* sein, der auch schon automatisch ausgewählt ist. Den Block können Sie ausführen, indem Sie die Tastenkombination *Shift+Enter* oder den Block markieren und in der Menüleiste unter *Cell* den entsprechenden Punkt auswählen.  \n",
    "Alle Blöcke können Sie mit dem Menüpunkt *Run All* ausführen lassen."
   ]
  },
  {
   "cell_type": "code",
   "execution_count": null,
   "id": "81e89ce6-fe04-4851-b66c-9931b0c7225a",
   "metadata": {},
   "outputs": [],
   "source": [
    "System.out.println(\"Dies ist ein Codeblock.\")"
   ]
  },
  {
   "cell_type": "markdown",
   "id": "f266560a-9251-4310-9b64-0ab4b4771aca",
   "metadata": {},
   "source": [
    "Probieren Sie als Übung den folgenden Codeblock zu verändern, um eine andere Zeichenkette auszugeben."
   ]
  },
  {
   "cell_type": "code",
   "execution_count": null,
   "id": "ee5e1994-3381-4b7e-b62c-3dbec0a21aa0",
   "metadata": {},
   "outputs": [],
   "source": [
    "System.out.println(\"Dies ist ein weiterer Codeblock.\")"
   ]
  }
 ],
 "metadata": {
  "kernelspec": {
   "display_name": "Kotlin",
   "language": "kotlin",
   "name": "kotlin"
  },
  "language_info": {
   "codemirror_mode": "text/x-kotlin",
   "file_extension": ".kt",
   "mimetype": "text/x-kotlin",
   "name": "kotlin",
   "nbconvert_exporter": "",
   "pygments_lexer": "kotlin",
   "version": "1.5.20-dev-5817"
  }
 },
 "nbformat": 4,
 "nbformat_minor": 5
}
