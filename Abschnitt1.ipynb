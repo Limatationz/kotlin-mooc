{
 "cells": [
  {
   "cell_type": "markdown",
   "id": "attached-christmas",
   "metadata": {},
   "source": [
    "<div class=\"alert alert-block alert-info\">\n",
    "<b>Tip:</b> Use blue boxes (alert-info) for tips and notes. \n",
    "If it’s a note, you don’t have to include the word “Note”.\n",
    "</div>\n",
    "<div class=\"alert alert-block alert-warning\">\n",
    "<b>Example:</b> Use yellow boxes for examples that are not \n",
    "inside code cells, or use for mathematical formulas if needed.\n",
    "</div>\n",
    "<div class=\"alert alert-block alert-success\">\n",
    "<b>Up to you:</b> Use green boxes sparingly, and only for some specific \n",
    "purpose that the other boxes can't cover. For example, if you have a lot \n",
    "of related content to link to, maybe you decide to use green boxes for \n",
    "related links from each section of a notebook.\n",
    "</div>\n",
    "<div class=\"alert alert-block alert-danger\">\n",
    "<b>Just don't:</b> In general, avoid the red boxes. These should only be\n",
    "used for actions that might cause data loss or another major issue.\n",
    "</div>"
   ]
  },
  {
   "cell_type": "markdown",
   "id": "bridal-principle",
   "metadata": {},
   "source": [
    "# Abschnitt 1 - Grundlagen\n",
    "## Einführung"
   ]
  },
  {
   "cell_type": "markdown",
   "id": "characteristic-collective",
   "metadata": {},
   "source": [
    "## Lektion 1 - Hello World\n",
    "### Grundgerüst\n",
    "Der Start des Erlernens einer neuen Programmiersprache ist traditionell ein \"Hello World\"-Programm. Dieses gibt in der Konsole den String \"Hello World\" aus.<br />\n",
    "<div style=\"float: left; width: 50%\">\n",
    "    <pre lang=\"java\">\n",
    "//Java\n",
    "public class Main{\n",
    "    public static void main(String[] args){\n",
    "        System.out.println(\"Hello World Java.\")\n",
    "    }\n",
    "}\n",
    "</pre>\n",
    "</div>\n",
    "<div style=\"float: left; width: 50%\">\n",
    "<pre lang=\"kotlin\">\n",
    "//Kotlin\n",
    "fun main(){\n",
    "    println(\"Hello World Kotlin.\")\n",
    "}\n",
    "</pre>\n",
    "</div>\n",
    "<div style=\"clear:both\">\n",
    "    \n",
    "Im direkten Vergleich sind einige Unterschiede festzustellen:\n",
    "<ul>    \n",
    "<li> Klasse: Es können Methoden auf der höchste Ebene deklariert und aufgerufen werden. </li>\n",
    "    <li> Methodensyntax: Methoden werden mit dem Schlüsselbegriff <code>fun</code> gekenntzeichnet. Falls die Methode keinen Rückgabetyp (in Java gekennzeichnet durch <code>void</code>) besitzt, wird die explizite Angabe des Rückgabetyps weggelassen.</li>\n",
    "<li> Hauptprogramm: Das Argument der <code>main</code>-Methode (in Java <code>String[] args</code>) muss nicht übergeben werden und wird, falls es nicht existiert, von Kotlin ergänzt.</li>\n",
    "<li> <code>Println</code>: Die Bibliotheksmethode <code>println()</code> befindet sich in der Standardbibliothek von Kotlin, weswegen sie direkt ausgerufen werden kann.</li>\n",
    "</ul>    \n",
    "Die Methode kann, wie in Java, mit ihrem Namen aufgerufen werden:"
   ]
  },
  {
   "cell_type": "code",
   "execution_count": 1,
   "id": "needed-purse",
   "metadata": {
    "tags": [
     "hide-input"
    ]
   },
   "outputs": [],
   "source": [
    "fun main(){\n",
    "    println(\"Hello World Kotlin.\")\n",
    "}"
   ]
  },
  {
   "cell_type": "code",
   "execution_count": 2,
   "id": "violent-findings",
   "metadata": {},
   "outputs": [
    {
     "name": "stdout",
     "output_type": "stream",
     "text": [
      "Hello World Kotlin.\n"
     ]
    }
   ],
   "source": [
    "main()"
   ]
  },
  {
   "cell_type": "markdown",
   "id": "tropical-syria",
   "metadata": {
    "tags": []
   },
   "source": [
    "### Erweiterung\n",
    "Das \"Hello World\"-Programm wird nun so erweitert, dass dem \"Hello World\"-String eine Variable angehängt wird."
   ]
  },
  {
   "cell_type": "code",
   "execution_count": 3,
   "id": "typical-heavy",
   "metadata": {
    "tags": []
   },
   "outputs": [
    {
     "name": "stdout",
     "output_type": "stream",
     "text": [
      "Hello World Max.\n"
     ]
    }
   ],
   "source": [
    "fun main(){\n",
    "    val name : String = \"Max\"\n",
    "    println(\"Hello World $name.\")\n",
    "}\n",
    "main()"
   ]
  },
  {
   "cell_type": "markdown",
   "id": "ranking-architect",
   "metadata": {
    "tags": []
   },
   "source": [
    "Der Methodenkopf und -aufruf verändern sich nicht. <br>\n",
    "In der Methode hingegen wurde eine neue Variable `name` deklariert und dieser direkt ein Wert zugewiesen. Das hier verwendete Stichwort zur Deklaration der Variable ist `val` (näheres dazu in [Lektion 2](#Lektion-2---Variablen)). Der Datentyp der Variable wird hinter deren Namen mit einem `:` getrennt angegeben. Eine weitere Auffälligkeit ist das Fehlen von `;`. Während in Java nach jeder Anweisung ein Semikolon folgen muss, ist das in Kotlin nur noch der Fall, wenn mehrere Anweisungen in eine Zeile geschrieben werden. Ansonsten ist kein Semikolon notwendig.<br>\n",
    "Ein weiterer Unterschied zwischen Kotlin und Java ist die Verwendung von Variablen in Strings:\n",
    "\n",
    "<table style=\"width:800px; font-size:18px\">\n",
    "<tr>\n",
    "<th>Java</th>\n",
    "<th>Kotlin</th>\n",
    "</tr>\n",
    "\n",
    "<tr>\n",
    "<td>\"Hello World\" + name</td>\n",
    "<td>\"Hello World \\$name\" </td>\n",
    "</tr>\n",
    "\n",
    "<tr>\n",
    "<td>String.format(\"Hello World %s\", name)</td>\n",
    "<td></td>\n",
    "</tr>\n",
    "</table>\n",
    "\n",
    "Während in Java die Variablen mit `+` oder `String.format()` in einen String eingegliedert bzw. angehängt werden, können diese in Kotlin direkt in String mit `$` integriert werden.<br />\n",
    "Falls ein Methodenaufruf mit `print()` ausgegeben werden soll, müssen zusätzlich geschweifte Klammern um diesen. "
   ]
  },
  {
   "cell_type": "code",
   "execution_count": 4,
   "id": "second-negative",
   "metadata": {},
   "outputs": [
    {
     "name": "stdout",
     "output_type": "stream",
     "text": [
      "Hello World MAX.toLowerCase().\n",
      "Hello World max.\n"
     ]
    }
   ],
   "source": [
    "fun main(){\n",
    "    val name : String = \"MAX\"\n",
    "    println(\"Hello World $name.toLowerCase().\") //Falsch\n",
    "    println(\"Hello World ${name.toLowerCase()}.\") //Richtig\n",
    "}\n",
    "main()"
   ]
  },
  {
   "cell_type": "markdown",
   "id": "peripheral-trainer",
   "metadata": {},
   "source": [
    "## Lektion 2 - Variablen\n",
    "Diese Lektion behandelt Variablen, Datentypen und Vergleiche.\n",
    "### Variablen\n",
    "Variablen lassen sich in Kotlin in 2 Arten unterglieder: **(Illustration)**\n",
    "- `val` (value): Beschreibt eine Variable mit **lesenden** Zugriff. Bei Deklarierung muss ihr direkt ein Wert zugewiesen werden, welcher nicht mehr verädnert werdne kann. Eine `val`-Variable in Kotlin ist mit einer `final`-Variable in Java zu vergleichen.\n",
    "- `var` (variable): Beschreibt eine Variable mit **lesenden** und **schreibenden** Zugriff. Ihr Wert kann beliebig oft verändert werden und muss nicht direkt bei Deklarierung gesetzt werden. Dies entspricht einer normalen Variable in Java.\n",
    "\n",
    "Beispiel:"
   ]
  },
  {
   "cell_type": "code",
   "execution_count": 5,
   "id": "fancy-james",
   "metadata": {},
   "outputs": [
    {
     "name": "stdout",
     "output_type": "stream",
     "text": [
      "schreibgeschützte Variable - Test\n"
     ]
    }
   ],
   "source": [
    "val v1 : String = \"schreibgeschützte Variable\"\n",
    "//v1 = \"Test\"   //Fehler: Val cannot be reassigned\n",
    "var v2 : String = \"veränderbare Variable\"\n",
    "v2 = \"Test\"\n",
    "println(\"$v1 - $v2\")"
   ]
  },
  {
   "cell_type": "markdown",
   "id": "adjustable-mexico",
   "metadata": {},
   "source": [
    "Die Untergliederung der Variablen in `val` und `var` hat den Hintergrund, dass der funktionale Programmierstil, welcher einfacher zu verstehen ist, gefördert wird. Es herrscht der Grundsatz: Überall wo es geht `val` statt `var`. **(andere Formulierung)**<br />\n",
    "Der Syntax (Wissensstand jetzt) der Deklarierung und Initialsisierung ist folgendermaßen: <br />\n",
    "Variable :<br />\n",
    "     \"var\" name \":\" Datentyp<br />\n",
    "Variable -> (\"var\"|\"val\") name \":\" Datentyp \"=\" Wert.<br />\n",
    "Eine weitere Besonderheit bei Variablen ist der Umgang mit `null`. Variablen, die mit dem eben kennengelernten Syntax initialisiert und deklariert werden, können nicht den Wert `null` annehmen:\n",
    "```kotlin \n",
    "var test_null : Int = null //-> Null can not be a value of a non-null type Int\n",
    "```\n",
    "Genauer werden wir uns den Umgang mit `null` in Abschnitt 2 beschäftigen.<br />\n",
    "<br />\n",
    "Konstanten werden in Kotlin sind Variablen der Kategorie `val`, denen das Schlüsselwort `const` vorangestellt wird. Sie dürfen nur auf der Top-Level-Ebene oder in Objekten (näheres dazu in Abschnitt 3) deklariert werden:\n",
    "```kotlin \n",
    "const val constant : Int = 24\n",
    "```\n",
    "Auf den ersten Blick scheinen schreibgeschützte Variablen und Konstanten den gleichen Nutzen haben: Einen unveränderlichen Wert speichern und zur Verfügung stellen. Im Grunde ist das richtig, jedoch gibt es einen großen Unterschied. Während `val`-Variablen als so genannte runtime constants angesehen werden, sind Konstenten compile-time constants. Praktisch bedeutet dies, dass eine Konstante immer den zugewiesenen Wert besitzt, während eine schreibgeschützte Variable bei jedem Ausführen einen unterschiedlichen, aber unveränderlichen Wert annehmen kann."
   ]
  },
  {
   "cell_type": "code",
   "execution_count": 6,
   "id": "backed-idaho",
   "metadata": {},
   "outputs": [
    {
     "name": "stderr",
     "output_type": "stream",
     "text": [
      "Line_5.jupyter.kts (5:1 - 6) Const 'val' are only allowed on top level or in objects"
     ]
    }
   ],
   "source": [
    "val value : Int = foo()\n",
    "println(value)\n",
    "\n",
    "//const val constant : Int = foo()   -> Error\n",
    "const val constant : Int = 5       //-> Kein Error\n",
    "println(constant)\n",
    "\n",
    "fun foo() : Int { //Gibt eine zufällige ganze Zahl zwischen 0 und 10 zurück\n",
    "    return (0..10).random()\n",
    "}"
   ]
  },
  {
   "cell_type": "markdown",
   "id": "smooth-application",
   "metadata": {},
   "source": [
    "### Datentypen\n",
    "Kotlin ist - wie Java - eine statisch typisierte Programmiersprache. Das bedeutet, dass jeder Variable, jeder Ausdruck einen statischen Typ besitzt, der bei der Deklarierung festgelegt werden und bei Kompilierung erkennbar sein muss. Dies kann entweder explizit durch eine Datentypzuweisung (wie wir es bis jetzt gemacht haben) oder implizit durch eine direkte aussagekräftige Initialisierung erfolgen. In diesem Fall wird vom Compiler ein zum Wert passender Datentyp der Variable zugewiesen."
   ]
  },
  {
   "cell_type": "code",
   "execution_count": 7,
   "id": "retired-colorado",
   "metadata": {},
   "outputs": [
    {
     "name": "stdout",
     "output_type": "stream",
     "text": [
      "Datentyp von v1: String, Datentyp von v2: String\n",
      "Datentyp von string1: String, Datentyp von string2: String\n"
     ]
    }
   ],
   "source": [
    "val int1 : Int = 5\n",
    "val int2 = 5\n",
    "println(\"Datentyp von v1: ${v1::class.simpleName}, Datentyp von v2: ${v2::class.simpleName}\")\n",
    "\n",
    "val string1 : String = \"String 1\"\n",
    "val string2 = \"String 2\"\n",
    "println(\"Datentyp von string1: ${string1::class.simpleName}, Datentyp von string2: ${string2::class.simpleName}\") "
   ]
  },
  {
   "cell_type": "markdown",
   "id": "incomplete-scholarship",
   "metadata": {},
   "source": [
    "Dadurch kann der bisher kennengelernte Syntax von Variablen erweitert werden:<br />\n",
    "Variable -> \"var\" name \":\" Datentyp.<br />\n",
    "Variable -> [const] (\"var\"|\"val\") name [\":\" Datentyp] \"=\" Wert.<br />\n",
    "\n",
    "Überblick der wichtigsten Datentypen:\n",
    "\n",
    "| Kotlin  | Werte                                                    | Java    |\n",
    "|---------|----------------------------------------------------------|---------|\n",
    "| Byte    | -128 bis 127                                             | byte    |\n",
    "| Short   | -32768 bis 32767                                         | short   |\n",
    "| Int     | -2.147.483.648 bis 2.147.483.647                         | int     |\n",
    "| Long    | -9.223.372.036.854.775.808 bis 9.223.372.036.854.775.808 | long    |\n",
    "| Float   | 6 bis 7 Dezimalstellen                                   | float   |\n",
    "| Double  | 15 bis 16 Dezimalstellen                                 | double  |\n",
    "| Boolean | `true` oder `false`                                      | boolean |\n",
    "| Char    | 16-Bit-Unicode-Zeichen                                   | char    |\n",
    "| String  | Folge von Zeichen                                        | String  |\n",
    "\n",
    "Anders als in Java wird nicht zwischen primitiven und nicht-premitiven Datentypen entschieden. Alle Datentypen repräsentieren eine Klasse. Dadurch kann eine Typhierarchie aufgebaut werden. Dazu müssen aber zunächst 2 neue Typen eingeführt werden: `Any` und `Nothing`. Sie beschreiben das extreme Datentypen.`Any` ist der allgemeinste Datentyp und somit die Super-Klasse aller anderen Typen. `Nothing` hingegen ist der kleinste Datentyp und die Sub-Klasse aller anderen Typen.<br />\n",
    "<img title=\"Typhierarchie\" alt=\"Typhierarchie\" src=\"images/typhierarchie.png\" style=\"width: 20%; text-align: center\">\n",
    "\n",
    "### Vergleiche\n",
    "Vergleiche in Kotlin sind einfacher und intuitiver als in Java. Der Grund dafür ist, dass nicht mehr zwischen elementaren und nicht-elementaren Datentypen unterschieden wird. Alle von Kotlin bereitgestellte Datentypen implementieren das `Comparable`-Interface und können somit mit `compareTo` verglichen werden. Jedoch muss man nicht die Methode zum Vergleichen aufrufen, sondern kann dies mit den bekannten Vergleichszeichen bewerkstelligen. Der Vorteil ist in Kotlin mit `==` immer der Inhalt der Variable, des Parameters verglichen wird und nicht wie in Java die Referenz. Außerdem sind dadurch auch einfach kleiner und größer Vergleiche möglich. Für einen Vergleich der Refernzen wurde in Kotlin das `===` eingeführt."
   ]
  },
  {
   "cell_type": "code",
   "execution_count": 8,
   "id": "military-politics",
   "metadata": {},
   "outputs": [
    {
     "name": "stdout",
     "output_type": "stream",
     "text": [
      "vergleicheElemente: Gleich\n",
      "vergleicheSpeicher: Ungleich\n"
     ]
    }
   ],
   "source": [
    "fun vergleicheElemente(a: List<Int>, b: List<Int>){\n",
    "    if (a == b) println(\"vergleicheElemente: Gleich\")\n",
    "    else println(\"vergleicheElemente: Ungleich\")\n",
    "}\n",
    "fun vergleicheSpeicher(a: List<Int>, b: List<Int>){\n",
    "    if (a === b) println(\"vergleicheSpeicher: Gleich\")\n",
    "    else println(\"vergleicheSpeicher: Ungleich\")\n",
    "}\n",
    "val a = listOf(1,2,3)\n",
    "val b = listOf(1,2,3)\n",
    "vergleicheElemente(a, b)\n",
    "vergleicheSpeicher(a, b)"
   ]
  },
  {
   "cell_type": "code",
   "execution_count": 9,
   "id": "positive-ground",
   "metadata": {},
   "outputs": [
    {
     "name": "stdout",
     "output_type": "stream",
     "text": [
      "vergleicheStrings: Kotlin > Java\n",
      "vergleicheStrings: Java < Kotlin\n"
     ]
    }
   ],
   "source": [
    "fun vergleicheStrings(a: String, b: String){\n",
    "    if (a == b) println(\"vergleicheStrings: $a == $b\")\n",
    "    else if (a < b) println(\"vergleicheStrings: $a < $b\")\n",
    "    else println(\"vergleicheStrings: $a > $b\")\n",
    "}\n",
    "val a = \"Kotlin\"\n",
    "val b = \"Java\"\n",
    "vergleicheStrings(a,b)\n",
    "vergleicheStrings(b,a)"
   ]
  },
  {
   "cell_type": "markdown",
   "id": "elegant-thesaurus",
   "metadata": {},
   "source": [
    "### Aufgabe\n",
    "Übersetzen Sie folgenden Java-Code nach Kotlin und wählen Sie passende Variablen.\n",
    "```java\n",
    "final static float PI = 3.14159f;\n",
    "int a = 50;\n",
    "int b = 20;\n",
    "int res;\n",
    "final boolean bool = false;\n",
    "a = a + 30;\n",
    "res = a - b;\n",
    "String output = \"a - b ist: \" + res + \".\";\n",
    "System.out.println(output);\n",
    "```"
   ]
  },
  {
   "cell_type": "code",
   "execution_count": 10,
   "id": "rising-stock",
   "metadata": {},
   "outputs": [
    {
     "name": "stdout",
     "output_type": "stream",
     "text": [
      "a - b ist: 60.\n"
     ]
    }
   ],
   "source": [
    "//const val PI = 3.14159f\n",
    "var a = 50\n",
    "val b = 20\n",
    "var res : Int\n",
    "val bool = false\n",
    "a = a + 30\n",
    "res = a - b\n",
    "val output = \"a - b ist: $res.\"\n",
    "println(output)"
   ]
  },
  {
   "cell_type": "markdown",
   "id": "incident-french",
   "metadata": {},
   "source": [
    "## Lektion 3 - Methoden\n",
    "In dieser Lektion werden die Methoden näher beleuchtet.\n",
    "### Grundlagen\n",
    "Eine Methode in Kotlin unterscheidet sich in der Grundstruktur nicht viel von einer Mehtode in Java.<br />\n",
    "<img title=\"Struktur einer Methode\" alt=\"Struktur einer Methode\" src=\"images/methoden_struktur.png\" style=\"width: 700px; text-align: center\">\n",
    "\n",
    "Beginnend mit dem Schlüsselwort `fun`, das eine Methode angkündigt, folgt der Name. Danach werden in runden Klammern, falls benötigt, die Parameter angegeben. Bevor der Methodenrumpf durch `{` beginnt, ist noch ein optionaler Rückgabetyp zu finden. Es ergibt sich folgender Syntax: <br />\n",
    "Funktion -> \"fun\" name \"(\" Parameter \")\" [\":\" Rückgabetyp] \"{\" ... \"}\"<br />\n",
    "Falls ein Rückgabetyp angegeben ist, muss etwas zurückgegeben werden. Dies wird mit `return` eingeleitet. Falls der Rückgabetyp fehlt, gibt die Methode nichts zurück, kann aber mit `return` beendet werden. Das Hauptprogramm besitzt den Methodenkopf:\n",
    "```kotlin\n",
    "fun main(){ ... }\n",
    "//oder\n",
    "fun main(args: Array) { ... }\n",
    "```"
   ]
  },
  {
   "cell_type": "code",
   "execution_count": 11,
   "id": "diagnostic-macro",
   "metadata": {},
   "outputs": [
    {
     "name": "stdout",
     "output_type": "stream",
     "text": [
      "TEST\n"
     ]
    }
   ],
   "source": [
    "fun foo(): String{\n",
    "    return \"TEST\"\n",
    "}\n",
    "\n",
    "fun show(a: String){\n",
    "    println(a)\n",
    "}\n",
    "\n",
    "fun main(){\n",
    "    val a = foo()\n",
    "    show(a)\n",
    "}\n",
    "main()"
   ]
  },
  {
   "cell_type": "markdown",
   "id": "emerging-bread",
   "metadata": {},
   "source": [
    "### Parameter\n",
    "Es können einer Methode beliebig viele Parameter übergeben werden. Dabei wird zuerst der Name und danach der Datentyp angegeben. Sie sind mit einem Doppelpunkt getrennt. Außerdem kann jedem Parameter ein default-Wert zugewiesen werden. Wird der Parameter bei Methodenaufruf weggelassen wird er auf diesen gesetzt. Falls kein default-Wert festgelegt wurde, wird der Parameter mit dem default-Wert des Datentyps gefüllt. Es können auch bestimmte Parameter mit deren Namen im Methodenaufrug angesprochen werden. Dann ist die Reihenfolge der mit Namen genannten Übergabeparameer unwichtig. Es sollte jedoch nur eine Form der Übergabe angewendet werden, da dies sonst zu einer falschen Positionierung führen kann.<br />\n",
    "Syntax der Parameter:<br />\n",
    "Parameter -> Name \":\" Datentyp [\"=\" defaukt-Wert] {\",\" Parameter}<br />"
   ]
  },
  {
   "cell_type": "code",
   "execution_count": 12,
   "id": "square-button",
   "metadata": {},
   "outputs": [
    {
     "name": "stdout",
     "output_type": "stream",
     "text": [
      "a: 1, b: 2, c: 1, d: 2\n",
      "a: 1, b: 2, c: 0, d: 0\n",
      "a: 0, b: 0, c: 0, d: 0\n",
      "a: 0, b: 2, c: 0, d: 2\n"
     ]
    }
   ],
   "source": [
    "fun foo(a: Int = 0, b: Int = 0, c: Int = 0, d:Int = 0) {\n",
    "    println(\"a: $a, b: $b, c: $c, d: $d\")\n",
    "}\n",
    "foo(1,2,1,2)\n",
    "foo(1,2)\n",
    "foo()\n",
    "foo(b=2,d=2)\n",
    "//foo(b=2,d=2, 3, 4) -> Error: Mixing named and positioned arguments is not allowed"
   ]
  },
  {
   "cell_type": "markdown",
   "id": "increasing-surge",
   "metadata": {},
   "source": [
    "### Rückgabe\n",
    "Eine Methode kann, falls ein Rückgabetyp definiert ist, einen Wert zurückgeben. Falls mehrere Wert zurückgegeben sollen, muss eine Kollektion (zum Beispiel ein Array) oder eine eigens definierte Datenklasse (näheres dazu in Abschnitt 3) erstellt werden. Ist kein Rückgabetyp definiert, wird implizit `Unit` zurückgegeben. Dies ist das Gegenstück zu dem Schlüsselwort `void` in Java. Jedoch könnte auch das bereits kennengelernte `Nothing` signalisieren, dass nichts zurückgegeben wird. Der Unterschied ist, dass `Unit` signalsisiert, dass keine wichtigen Daten zurückgegeben werden. `Nothing` hingegen bedeutet jedoch, dass nichts zurückgegeben wird beziehungsweise die Methode nicht terminieren wird. Der einzig praktische Anwendungsfall ist, wenn die Methode immer einen Fehler wirft.\n",
    "```kotlin\n",
    "//Fall 1\n",
    "fun loop(): Nothing{\n",
    "    while(true){ ... }\n",
    "}\n",
    "//Fall 2\n",
    "fun fail(message: String): Nothing{\n",
    "    throw Exception(message)\n",
    "}\n",
    "```\n",
    "Schauen wir uns den 2. Fall genauer an. Der Methode `fail` wird eine Nachricht übergeben, die durch einen geworfenen Fehler ausgegeben wird. Ein konkreter Anwendungsfall wäre zum Beispiel:\n",
    "```kotlin\n",
    "fun foo(num: Int) : Int{\n",
    "    if (num == 42){\n",
    "        return 42\n",
    "    }\n",
    "    else{\n",
    "        return fail(\"Falsch\")\n",
    "    }\n",
    "}\n",
    "```\n",
    "<div style=\"width:80%; float:left\">Ziel der Methode ist es, herauszufinden, ob eine übergebe Zahl 42 ist, falls nicht soll eine Fehlermeldung geworfen werden. Optimaler Rückgabetyp ist deswegen <code>Int</code>. Falls <code>42</code> übergeben wird, gibt die Methode den Wert <code>42</code> vom Typ <code>Int</code> zurück. Jedoch könnte auch eine falschhe Zahl übergeben werden. Dann würde man in den <code>else</code>-Fall kommen und die Methode <code>fail</code> aufrufen, die einen Fehler wirft und <code>Nothing</code> zurückgibt. In Lektion 2 wurde <code>Nothing</code> bereits als Sub-Typ aller Datentypen eingeführt. Eine Methode besitzt immer den größten gemeinsamen Rückgabetyp aller return-Statements. In diesem Beispiel ist der Datentyp des if-Blocks <code>Int</code> und der des else-Blocks <code>Nothing</code>. Da <code>Nothing</code> der Sub-Typ von <code>Int</code> ist, ist der größte gemeinsame Datentyp <code>Int</code>. Würde die Methode <code>fail</code> jedoch <code>Unit</code> zurückgeben, dürfte der Rückgabetyp von <code>foo</code> nicht <code>Int</code> sein, da der größte gemeinsame Datentyp <code>Any</code> wäre.</div>\n",
    "<img title=\"Nothing & Util\" alt=\"Nothing & Util\" src=\"images/nothing_util.png\" style=\"width: 20%; float:left\">\n",
    "\n",
    "\n",
    "### Besonderheiten\n",
    "#### Kurzschreibweise\n",
    "Bestimmte Arten von Methoden können in einer Kurzschreibweise geschrieben werden. Besonders praktisch ist dies für Methoden, die nur wenige Zeilen umfassen, und etwas zurückgeben. Dabei wird der Methodenrumpf mit `=` getrennt direkt hinter den Methodenkopf geschrieben. Auch wird das Schlüsselwort `return` weggelassen. Der Rückgabetyp wird nach dem Prinzip des größten gemeinsamen Typ (falls, Kontrollstrukturen vorkommen) implizit ermittelt."
   ]
  },
  {
   "cell_type": "code",
   "execution_count": 13,
   "id": "postal-delhi",
   "metadata": {},
   "outputs": [
    {
     "name": "stdout",
     "output_type": "stream",
     "text": [
      "10\n",
      "42\n",
      "0\n"
     ]
    }
   ],
   "source": [
    "fun sum(a: Int, b: Int) = a+b\n",
    "println(sum(5,5))\n",
    "\n",
    "fun foo(num: Int) = if (num == 42) 42 else 0\n",
    "println(foo(42))\n",
    "println(foo(24))"
   ]
  },
  {
   "cell_type": "markdown",
   "id": "christian-button",
   "metadata": {},
   "source": [
    "#### Überladen\n",
    "Das Überladen von Methoden ist auch in Kotlin möglich. Einzige Einschränkung ist, dass der Compiler - genauso wie in Java - das Parameterprofil der unterschiedlichen Methoden voeinander unterscheiden kann."
   ]
  },
  {
   "cell_type": "code",
   "execution_count": 14,
   "id": "outstanding-citizen",
   "metadata": {},
   "outputs": [
    {
     "name": "stdout",
     "output_type": "stream",
     "text": [
      "Sum mit 2 Int-Parametern: 5\n",
      "Sum mit 3 Int-Parametern: 9\n",
      "Sum mit 2 Double-Parametern: 5.0\n"
     ]
    }
   ],
   "source": [
    "fun sum(a: Int, b: Int) = println(\"Sum mit 2 Int-Parametern: ${a+b}\")\n",
    "fun sum(a: Int, b: Int, c: Int) = println(\"Sum mit 3 Int-Parametern: ${a+b+c}\")\n",
    "fun sum(a: Double, b: Double) = println(\"Sum mit 2 Double-Parametern: ${a+b}\")\n",
    "sum(2,3)\n",
    "sum(2,3,4)\n",
    "sum(2.0,3.0)"
   ]
  },
  {
   "cell_type": "markdown",
   "id": "familiar-passing",
   "metadata": {},
   "source": [
    "## Lektion 4 - Kontrollstrukturen\n",
    "In dieser Lektion werden die Kontrollstrukturen in Kotlin behandelt und Ranges eingeführt."
   ]
  },
  {
   "cell_type": "markdown",
   "id": "vocal-stable",
   "metadata": {},
   "source": [
    "### `if`-Verzweigung\n",
    "Die simpelste Art der Verzweigung ist `if`. In Verbindung mit `else` und `else if` können so mehrere Fälle definiert, geprüft und nach deren Ergebnis gehandelt werden. Falls nur eine Anweisung einem Fall zugeordnet wird, können die geschweiften Klammern weggelassen werden.\n",
    "```kotlin\n",
    "fun foo(a: Int): String {\n",
    "    if (a < 10) \n",
    "        return \"kleiner 10\"\n",
    "    else if (a == 10) \n",
    "        return \"gleich 10\"\n",
    "    else {\n",
    "        val b = 20\n",
    "        return \"groeßer 10\"\n",
    "    }\n",
    "}\n",
    "```\n",
    "Eine Neuerung ist, dass falls eine `if`-Verzweigung einen Wert zurückgibt dieser auch direkt einer Variable zugewiesen werden kann oder bei einer Methode zurückgegeben werden kann."
   ]
  },
  {
   "cell_type": "code",
   "execution_count": 15,
   "id": "surface-separate",
   "metadata": {},
   "outputs": [
    {
     "name": "stdout",
     "output_type": "stream",
     "text": [
      "gleich 10\n",
      "gleich 10\n",
      "gleich 10\n"
     ]
    }
   ],
   "source": [
    "fun foo(a: Int): String {\n",
    "    val res = if (a < 10) \n",
    "                  \"kleiner 10\"\n",
    "              else if (a == 10) \n",
    "                  \"gleich 10\"\n",
    "              else \n",
    "                  \"groeßer 10\"\n",
    "    return res\n",
    "}\n",
    "fun foo2(a: Int): String {\n",
    "    return if (a < 10) \n",
    "               \"kleiner 10\"\n",
    "           else if (a == 10) \n",
    "               \"gleich 10\"\n",
    "           else \n",
    "               \"groeßer 10\"\n",
    "}\n",
    "fun foo3(a: Int) = if (a < 10) \n",
    "                       \"kleiner 10\"\n",
    "                   else if (a == 10) \n",
    "                       \"gleich 10\"\n",
    "                   else \n",
    "                       \"groeßer 10\"\n",
    "val a = 10\n",
    "println(foo(a))\n",
    "println(foo2(a))\n",
    "println(foo3(a))"
   ]
  },
  {
   "cell_type": "markdown",
   "id": "completed-outline",
   "metadata": {},
   "source": [
    "### `when`-Verzweigung\n",
    "Eine weitere Art der Verzweigung ist `when`. Diese ähnelt von der Funktionalität an Javas `switch`. Das Schlüsselwort mit dem ein `when`-Block eingeleitet wird, ist `when`. In runden Klammern muss daraufhin die zu untersuchende Variable folgen. In dem Block steht links der Vergleichswert (die Vergleichswerte mit Komma getrennt) und rechts die Anweisung. Diese kann als Einzeiler ohne geschweifte Klammern geschrieben werden oder als Block mit. Getrennt werden die Seite mit mit `->`. Anders als in Java muss nicht nach jedem Block ein `break` stehen. Standardmäßig wird nach dem Ausführen der rechten Seite der `when`-Block verlassen. Ein \"Durchrustschen\" geschieht nicht. Der default-Fall wird mit `else` auf der linken Seite gekennzeichnet."
   ]
  },
  {
   "cell_type": "code",
   "execution_count": 16,
   "id": "correct-jimmy",
   "metadata": {},
   "outputs": [
    {
     "name": "stdout",
     "output_type": "stream",
     "text": [
      "Umlaut\n"
     ]
    }
   ],
   "source": [
    "val c = 'ä'\n",
    "when (c) {\n",
    "    'a', 'e', 'i', 'o', 'u' -> println(\"Vokal\")\n",
    "    'ä', 'ö', 'ü' -> {\n",
    "                        val res = \"Umlaut\"\n",
    "                        println(res)\n",
    "                     }\n",
    "    '0', '1', '2', '3', '4', '5', '6', '7', '8', '9' -> println(\"Zahl\")\n",
    "    else -> println(\"Kostante\")\n",
    "}"
   ]
  },
  {
   "cell_type": "markdown",
   "id": "charged-warrant",
   "metadata": {},
   "source": [
    "Es können aber auch weiterführende Vergleiche angestellt werden. Mit `is` kann überprüft werden, ob die zu untersuchende Variable einen bestimmten Datentyp besitzt. `in` hingegen sucht die Variable in einer Datenstruktur."
   ]
  },
  {
   "cell_type": "code",
   "execution_count": 17,
   "id": "quarterly-huntington",
   "metadata": {},
   "outputs": [
    {
     "name": "stdout",
     "output_type": "stream",
     "text": [
      "0 ist in Liste [0, 1, 2, 3]\n"
     ]
    }
   ],
   "source": [
    "val a: Any = 0\n",
    "val liste = listOf(0, 1, 2, 3)\n",
    "when (a) {\n",
    "    is Double -> println(\"$a ist vom Datentyp Double\")\n",
    "    is Long -> println(\"$a ist vom Datentyp Long\")\n",
    "    in liste -> println(\"$a ist in Liste $liste\")\n",
    "}"
   ]
  },
  {
   "cell_type": "markdown",
   "id": "wrong-rhythm",
   "metadata": {},
   "source": [
    "Außerdem kann `when` auch ein Ersatz für `if` sein. Dies bietet sich vor Allem an, wenn die `if`-Verzweigung mehr als 2 Fälle besitzt. Dabei wird die zu untersuchende Variable nicht zu Beginn, sondern auf die linken Seite mit einem boolschen Ausdruck geschrieben. Folgender Code mit einer `if`-Verzweigung soll nun mit einer `when`-Verzweigung ersetzt werden:\n",
    "```kotlin\n",
    "val a = 10\n",
    "if (a < 10) \n",
    "   println(\"gleich 10\")\n",
    "else if (a < 10) \n",
    "   println(\"kleiner 10\")\n",
    "else \n",
    "   println(\"groeßer 10\")\n",
    "```"
   ]
  },
  {
   "cell_type": "code",
   "execution_count": 18,
   "id": "breathing-porcelain",
   "metadata": {},
   "outputs": [
    {
     "name": "stdout",
     "output_type": "stream",
     "text": [
      "gleich 10\n"
     ]
    }
   ],
   "source": [
    "val a = 10\n",
    "when {\n",
    "    a == 10 -> println(\"gleich 10\")\n",
    "    a < 10 -> println(\"kleiner 10\")\n",
    "    else -> println(\"groeßer 10\")\n",
    "}"
   ]
  },
  {
   "cell_type": "markdown",
   "id": "filled-myrtle",
   "metadata": {},
   "source": [
    "### `for`-Schleife\n",
    "Auch sind `for`-Schleifen in Kotlin zu finden. Jedoch weicht ihr Syntax stark von dem in Java ab. Der normale Aufbau einer `for`-Schleife mit 3 Teilen fällt weg und wird durch Breiche oder auch Ranges ersetzt.\n",
    "#### Bereiche\n",
    "Bereiche sind eine Folge von Elementen, die einen definierten Start- und Endpunkt besitzen. Die beiden Werte werden durch `..` getrennt. Kotlin stellt Bereiche des Typs `Int`, `Long` und `Char` bereit. Der Endwert ist dabei immer der letzte Wert des Bereichs.\n",
    "Der Startwert kann mit `first` und der Endwert mit `last` adressiert werden. Ein Bereich des Datentyps `Range` ist aufsteigend mit einer Schrittweite von 1. Alle anderen Bereiche besitzen den Datentyp `Progression` und sind mächtiger. So kann ein Bereich entweder mit `reversed()` oder mit dem Schlüsselwort `downTo` statt `..` erzeugt werden. Soll die Obergrenze exklusiv sein, hilft zudem das Schlüsselwort `until` anstelle von `..`. Zur schöneren Darstellung oder zum Erzeugen einfacher Listen können Bereiche in Listen oder Sets umgewandelt werden mit `toList()` beziehungsweise `toSet()` (näheres zu Datenstrukturen in [Lektion 6](#Lektion-6---Datenstrukturen))."
   ]
  },
  {
   "cell_type": "code",
   "execution_count": 19,
   "id": "alive-prague",
   "metadata": {},
   "outputs": [
    {
     "name": "stdout",
     "output_type": "stream",
     "text": [
      "Der Bereich 0..10 vom Typ IntRange geht von 0 bis 10 und umfasst [0, 1, 2, 3, 4, 5, 6, 7, 8, 9, 10]\n",
      "Der Bereich 5..10 vom Typ IntRange geht von 5 bis 10 und umfasst [5, 6, 7, 8, 9, 10]\n",
      "Der Bereich a..e vom Typ CharRange geht von a bis e und umfasst [a, b, c, d, e]\n",
      "Der Bereich 0..9 vom Typ IntRange geht von 0 bis 9 und umfasst [0, 1, 2, 3, 4, 5, 6, 7, 8, 9]\n",
      "Der Bereich 10 downTo 0 step 1 vom Typ IntProgression geht von 10 bis 0 und umfasst [10, 9, 8, 7, 6, 5, 4, 3, 2, 1, 0]\n",
      "Der Bereich 0..10 step 2 vom Typ IntProgression geht von 0 bis 10 und umfasst [0, 2, 4, 6, 8, 10]\n"
     ]
    }
   ],
   "source": [
    "val intBereich = 0..10 //Bereich von 0 - 10\n",
    "println(\"Der Bereich $intBereich vom Typ ${intBereich::class.simpleName} geht von ${intBereich.first} bis ${intBereich.last} und umfasst ${intBereich.toList()}\")\n",
    "\n",
    "val start = 5\n",
    "val intBereichMitVariable = start..start+5 //Bereich von start bis start+5\n",
    "println(\"Der Bereich $intBereichMitVariable vom Typ ${intBereichMitVariable::class.simpleName} geht von ${intBereichMitVariable.first} bis ${intBereichMitVariable.last} und umfasst ${intBereichMitVariable.toList()}\")\n",
    "\n",
    "val charBereich = 'a'..'e' //Bereich von a bis e\n",
    "println(\"Der Bereich $charBereich vom Typ ${charBereich::class.simpleName} geht von ${charBereich.first} bis ${charBereich.last} und umfasst ${charBereich.toList()}\")\n",
    "\n",
    "val intBereichUntil = 0 until 10 //Bereich von 0 - 9\n",
    "println(\"Der Bereich $intBereichUntil vom Typ ${intBereichUntil::class.simpleName} geht von ${intBereichUntil.first} bis ${intBereichUntil.last} und umfasst ${intBereichUntil.toList()}\")\n",
    "\n",
    "var umgekehrterIntBereich = 10 downTo 0 //Bereich von 10 - 0\n",
    "println(\"Der Bereich $umgekehrterIntBereich vom Typ ${umgekehrterIntBereich::class.simpleName} geht von ${umgekehrterIntBereich.first} bis ${umgekehrterIntBereich.last} und umfasst ${umgekehrterIntBereich.toList()}\")\n",
    "\n",
    "val intBereichSchrittweite = 0..10 step 2 //Bereich von 0 - 10 mit Schrittweite 2\n",
    "println(\"Der Bereich $intBereichSchrittweite vom Typ ${intBereichSchrittweite::class.simpleName} geht von ${intBereichSchrittweite.first} bis ${intBereichSchrittweite.last} und umfasst ${intBereichSchrittweite.toList()}\")"
   ]
  },
  {
   "cell_type": "markdown",
   "id": "oriental-control",
   "metadata": {},
   "source": [
    "#### Schleife\n",
    "Die aus Java bekannte 3 gliedrige `for`-Schleife wird in Kotlin durch eine Schleife über einen Bereich ersetzt. Das benötigt Schlüsselwort lautet `in`."
   ]
  },
  {
   "cell_type": "code",
   "execution_count": 20,
   "id": "parliamentary-muscle",
   "metadata": {},
   "outputs": [
    {
     "name": "stdout",
     "output_type": "stream",
     "text": [
      "0 1 2 3 4 5 6 7 8 9 10 \n",
      "0 1 2 3 4 5 6 7 8 9 10 11 12 13 14 15 16 17 18 19 \n",
      "15 10 5 "
     ]
    }
   ],
   "source": [
    "for (i in 0..10){\n",
    "    print(\"$i \")\n",
    "}\n",
    "println()\n",
    "for (i in 0 until 20){\n",
    "    print(\"$i \")\n",
    "}\n",
    "println()\n",
    "for (i in 15 downTo 5 step 5){\n",
    "    print(\"$i \")\n",
    "}"
   ]
  },
  {
   "cell_type": "markdown",
   "id": "corresponding-chaos",
   "metadata": {},
   "source": [
    "Anstelle über eine Range kann aber auch über eine Kollektion (zum Beispiel eine Liste) iteriert werden."
   ]
  },
  {
   "cell_type": "code",
   "execution_count": 21,
   "id": "acceptable-nickel",
   "metadata": {},
   "outputs": [
    {
     "name": "stdout",
     "output_type": "stream",
     "text": [
      "Kotlin Java C Python "
     ]
    }
   ],
   "source": [
    "val liste = listOf(\"Kotlin\", \"Java\", \"C\", \"Python\")\n",
    "for (i in liste){\n",
    "    print(\"$i \")\n",
    "}"
   ]
  },
  {
   "cell_type": "markdown",
   "id": "built-mirror",
   "metadata": {},
   "source": [
    "Dabei ist aber zu beachten, dass das Element nicht in der Schleife verändert werden kann. Dies geht nur mit einem Bereich und Zugriff auf den Index an der aktuellen Stelle."
   ]
  },
  {
   "cell_type": "code",
   "execution_count": 22,
   "id": "lonely-survivor",
   "metadata": {},
   "outputs": [
    {
     "name": "stderr",
     "output_type": "stream",
     "text": [
      "Line_21.jupyter.kts (3:5 - 6) Val cannot be reassigned"
     ]
    }
   ],
   "source": [
    "val liste = mutableListOf(1,2,3,4,5)\n",
    "for (i in liste){\n",
    "    i = i*i\n",
    "}"
   ]
  },
  {
   "cell_type": "code",
   "execution_count": 23,
   "id": "turkish-series",
   "metadata": {},
   "outputs": [
    {
     "name": "stdout",
     "output_type": "stream",
     "text": [
      "[1, 4, 9, 16, 25]\n"
     ]
    }
   ],
   "source": [
    "val liste = mutableListOf(1,2,3,4,5)\n",
    "for (i in 0 until liste.size){\n",
    "    liste[i] = liste[i] * liste[i]\n",
    "}\n",
    "println(liste)"
   ]
  },
  {
   "cell_type": "markdown",
   "id": "sexual-bibliography",
   "metadata": {},
   "source": [
    "Eine elegantere Lösung ist die Option über die Liste und den aktuellen Index zu iterieren. Dies ist mit Hilfe von `.withIndex()` möglich. Ein ähnlicher Fall ist die Itereriung über Maps. Dies wird in [Lektion 6](#Lektion-6---Datenstrukturen) behandelt."
   ]
  },
  {
   "cell_type": "code",
   "execution_count": 24,
   "id": "brazilian-brand",
   "metadata": {},
   "outputs": [
    {
     "name": "stdout",
     "output_type": "stream",
     "text": [
      "An Stelle 0 ist 1 gespeichert\n",
      "An Stelle 1 ist 2 gespeichert\n",
      "An Stelle 2 ist 3 gespeichert\n",
      "An Stelle 3 ist 4 gespeichert\n",
      "An Stelle 4 ist 5 gespeichert\n",
      "[1, 4, 9, 16, 25]\n"
     ]
    }
   ],
   "source": [
    "val liste = mutableListOf(1,2,3,4,5)\n",
    "for ((index, element) in liste.withIndex()){\n",
    "    println(\"An Stelle $index ist $element gespeichert\")\n",
    "    liste[index] = element * element\n",
    "}\n",
    "println(liste)"
   ]
  },
  {
   "cell_type": "markdown",
   "id": "abstract-intervention",
   "metadata": {},
   "source": [
    "#### `break`\n",
    "In Kotlin kann mit Hilfe von `break` die aktuelle oder eine bestimmte Schleife abgebrochen werden. Der 2. Fall benötigt eine Bezeichnung der abzubrechenden Schleife. Dies kann mit `@` gefolgt von dem Namen vor der Schleife gemacht werden. Der Name der Schleife inklusive dem `@` wird in der Schleife dem `break` angehängt."
   ]
  },
  {
   "cell_type": "code",
   "execution_count": 25,
   "id": "modular-stereo",
   "metadata": {},
   "outputs": [
    {
     "name": "stdout",
     "output_type": "stream",
     "text": [
      "Aktuell untersucht: 0\n",
      "Aktuell untersucht: 11\n",
      "Aktuell untersucht: 22\n",
      "Aktuell untersucht: 33\n",
      "Aktuell untersucht: 44\n",
      "Aktuell untersucht: 55\n",
      "Gefunden 55\n"
     ]
    }
   ],
   "source": [
    "val liste1 = (0..100 step 11).toList()\n",
    "val liste2 = (0..100 step 5).toList()\n",
    "iloop@\n",
    "for (i in liste1){\n",
    "    println(\"Aktuell untersucht: $i\")\n",
    "    for(j in liste2){\n",
    "        if(i == j && i != 0){\n",
    "            println(\"Gefunden $i\")\n",
    "            break@iloop\n",
    "        }\n",
    "    }\n",
    "}"
   ]
  },
  {
   "cell_type": "markdown",
   "id": "skilled-steering",
   "metadata": {},
   "source": [
    "### `while`-Schleife\n",
    "Die `while`-Schleife ist identisch zu der in Java. Zusätzlich zu der normalen `while`-Schleife gibt es auch die `do-while`-Schleife."
   ]
  },
  {
   "cell_type": "code",
   "execution_count": 26,
   "id": "operational-miniature",
   "metadata": {},
   "outputs": [
    {
     "name": "stdout",
     "output_type": "stream",
     "text": [
      "0 1 2 3 4 5 6 7 8 9 10 11 10 9 8 7 6 5 4 3 2 1 0 "
     ]
    }
   ],
   "source": [
    "var i = 0\n",
    "while (i<=10){\n",
    "    print(\"$i \")\n",
    "    i++\n",
    "}\n",
    "do {\n",
    "    print(\"$i \")\n",
    "    i--\n",
    "} while(i >= 0)"
   ]
  },
  {
   "cell_type": "markdown",
   "id": "multiple-claim",
   "metadata": {},
   "source": [
    "### `repeat`-Schleife\n",
    "Die `repeat`-Schleife ist vor Allem an Anfänger:innen gerichtet. Es wird lediglich ein exklusiver Endwert angegeben, zu dem von 0 aus hochgezählt wird. In der Schleife kann auf die aktuelle Durchlaufzahl mit `it` zugegriffen werden."
   ]
  },
  {
   "cell_type": "code",
   "execution_count": 27,
   "id": "regulated-benjamin",
   "metadata": {},
   "outputs": [
    {
     "name": "stdout",
     "output_type": "stream",
     "text": [
      "0 1 2 3 4 5 6 7 8 9 "
     ]
    }
   ],
   "source": [
    "repeat (10){\n",
    "    print(\"$it \")\n",
    "}"
   ]
  },
  {
   "cell_type": "markdown",
   "id": "naughty-geometry",
   "metadata": {},
   "source": [
    "## Lektion 5 - Weitere Methodentypen\n",
    "In dieser Lektion werden weitere Methodentypen behandelt.\n",
    "### Erweiterungsmethoden\n",
    "Erweiterungsfunktionen können eine bestehende Klasse einfach durch eine Methode, die außerhalb der Klasse definiert wird, erweitern. Dies findet vor Allem Anwendung bei Klassen, der keine Objektmethode hinzugefügt werden kann. Beispielsweise die Klassen der Datentypen. Im folgenden Beispiel wird die Klasse `Int` mit einer Methode erweitert, die die Zehnerstelle zurückgibt:"
   ]
  },
  {
   "cell_type": "code",
   "execution_count": 28,
   "id": "distributed-sword",
   "metadata": {},
   "outputs": [
    {
     "name": "stdout",
     "output_type": "stream",
     "text": [
      "Die Zehnerstelle von der Zahl 34291 lautet 9\n"
     ]
    }
   ],
   "source": [
    "fun Int.zehner() = if (this < 10) //Test, ob eine Zehnerstelle existiert\n",
    "                        -1\n",
    "                   else\n",
    "                        this % 100 / 10\n",
    "\n",
    "val zahl = 34291\n",
    "println(\"Die Zehnerstelle von der Zahl $zahl lautet ${zahl.zehner()}\")"
   ]
  },
  {
   "cell_type": "markdown",
   "id": "necessary-meeting",
   "metadata": {},
   "source": [
    "In dem Beispiel wird der Klasse `Int` eine Erweiterungsmethode `zehner` hinzugefügt. Dies wird dadruch gekennzeichnet, dass die zu erweiternde Klasse (hier: `Int`) mit `.` getrennt vor dem Namen der Methode (hier: `zehner`) steht. Da keine weiteren Parameter benötigt werden, bleiben diese leer. Auf das Objekt, auf den die Methode aufgerufen wird, kann mit `this` zugegriffen werden.<br />\n",
    "Es ist außerdem zu beachten, dass Erweiterungsmethoden **immer** von Objektmethoden überdeckt werden. "
   ]
  },
  {
   "cell_type": "markdown",
   "id": "confirmed-lawsuit",
   "metadata": {},
   "source": [
    "#### Aufgabe\n",
    "Erweitern Sie die Klasse `String` mit der Methode `addNewLine`, die am Ende des Strings einem Zeilenumbruch (`'\\n'`) hinzufügt. Vervollständigen Sie dazu das folgende Grundgerüst:"
   ]
  },
  {
   "cell_type": "code",
   "execution_count": 29,
   "id": "handled-belle",
   "metadata": {},
   "outputs": [
    {
     "name": "stderr",
     "output_type": "stream",
     "text": [
      "Line_28.jupyter.kts (5:10 - 20) Unresolved reference: addNewLine\n",
      "Line_28.jupyter.kts (6:30 - 40) Unresolved reference: addNewLine\n",
      "Line_28.jupyter.kts (6:51 - 61) Unresolved reference: addNewLine\n",
      "Line_28.jupyter.kts (8:29 - 39) Unresolved reference: addNewLine\n",
      "Line_28.jupyter.kts (8:50 - 60) Unresolved reference: addNewLine"
     ]
    }
   ],
   "source": [
    "//TODO\n",
    "\n",
    "//Test\n",
    "val zeile = \"Erweiterungsmethoden erweitern eine Klasse.\"\n",
    "if(zeile.addNewLine() == \"Erweiterungsmethoden erweitern eine Klasse.\\n\")\n",
    "    print(\"Richtig:\\n${zeile.addNewLine()}${zeile.addNewLine()}\")\n",
    "else\n",
    "    print(\"Falsch:\\n${zeile.addNewLine()}${zeile.addNewLine()}\\nRichtig wäre:\\nErweiterungsmethoden erweitern eine Klasse.\\nErweiterungsmethoden erweitern eine Klasse.\\n\")"
   ]
  },
  {
   "cell_type": "code",
   "execution_count": 30,
   "id": "integral-windows",
   "metadata": {},
   "outputs": [
    {
     "name": "stdout",
     "output_type": "stream",
     "text": [
      "Richtig:\n",
      "Erweiterungsmethoden erweitern eine Klasse.\n",
      "Erweiterungsmethoden erweitern eine Klasse.\n"
     ]
    }
   ],
   "source": [
    "//Lösung\n",
    "fun String.addNewLine() = \"$this\\n\"\n",
    "\n",
    "val zeile = \"Erweiterungsmethoden erweitern eine Klasse.\"\n",
    "if(zeile.addNewLine() == \"Erweiterungsmethoden erweitern eine Klasse.\\n\")\n",
    "    print(\"Richtig:\\n${zeile.addNewLine()}${zeile.addNewLine()}\")\n",
    "else\n",
    "    print(\"Falsch:\\n${zeile.addNewLine()}${zeile.addNewLine()}\\nRichtig wäre:\\nErweiterungsmethoden erweitern eine Klasse.\\nErweiterungsmethoden erweitern eine Klasse.\\n\")"
   ]
  },
  {
   "cell_type": "markdown",
   "id": "about-budget",
   "metadata": {},
   "source": [
    "### `infix`-Methoden\n",
    "Bereits kennengelertne Beispiele von `infix`-Methoden sind bei Bereichen zu finden. Anstelle von konkreten Methodenaufrufen werden Schlüsselworte bereitgestellt, die auf eine bestimmte `infix`-Methode verweisen. Dadurch wird der Code näher an den Sprachgebrauch angegliedert, was die Verständlichkeit fördert. Diesen Methoden wird das Schlüsselwort `infix` vorangestellt. Vor den Methodenname getrennt mit einem `.` wird der Datentyp des ersten Objekts angegeben, ähnlich zu eienr Erweiterungsmethode. In den Parametern der des Zweiten zusammen mit dem Namen des Parameters. Auf den \"ersten\" Parameter kann wieder mit `this` zugegriffen werden.\n",
    "```kotlin\n",
    "5 until 10 //infix\n",
    "5.until(10) //umgewandelt\n",
    "infix fun Int.until(to: Int): IntRange //Methodenkopf\n",
    "```\n",
    "Es können beliebige `infix`-Methoden implementiert werden, falls das Schlüsselwort noch nicht besetzt ist."
   ]
  },
  {
   "cell_type": "markdown",
   "id": "introductory-transmission",
   "metadata": {},
   "source": [
    "#### Aufgabe\n",
    "Eine weit verbreitete Operation ist das Addieren der Inhalt 2er Listen. Schreiben Sie eine `infix`-Methode mit der 2 Listen vom Typ `MutableList<Int>` mit dem Schlüsselwort `addAllElements` elementweise addiert und als neue Liste vom Typ `List<Int>` zurückgegeben werden. Es kann angenommen werden, dass beide Listen gleich viele Elemente besitzen."
   ]
  },
  {
   "cell_type": "code",
   "execution_count": 31,
   "id": "progressive-cherry",
   "metadata": {},
   "outputs": [
    {
     "name": "stderr",
     "output_type": "stream",
     "text": [
      "Line_30.jupyter.kts (6:23 - 37) Unresolved reference: addAllElements"
     ]
    }
   ],
   "source": [
    "//TODO\n",
    "\n",
    "//Test\n",
    "val liste1 = mutableListOf(0,1,2,3,4)\n",
    "val liste2 = mutableListOf(0,1,2,3,4)\n",
    "val sumListe = liste1 addAllElements liste2\n",
    "if (sumListe == listOf(0,2,4,6,8))\n",
    "    println(\"Richtig: $sumListe\")\n",
    "else\n",
    "    println(\"Falsch: $sumListe. Das Ergebnis sollte eigentlich ${listOf(0,2,4,6,8)} beinhalten\")"
   ]
  },
  {
   "cell_type": "code",
   "execution_count": 32,
   "id": "egyptian-contract",
   "metadata": {},
   "outputs": [
    {
     "name": "stdout",
     "output_type": "stream",
     "text": [
      "Richtig: [0, 2, 4, 6, 8]\n"
     ]
    }
   ],
   "source": [
    "infix fun MutableList<Int>.addAllElements(to: MutableList<Int>): List<Int>{\n",
    "    for(i in 0 until this.size){\n",
    "        this[i] += to[i]\n",
    "    }\n",
    "    return this\n",
    "}\n",
    "\n",
    "//Test\n",
    "val liste1 = mutableListOf(0,1,2,3,4)\n",
    "val liste2 = mutableListOf(0,1,2,3,4)\n",
    "val sumListe = liste1 addAllElements liste2\n",
    "if (sumListe == listOf(0,2,4,6,8))\n",
    "    println(\"Richtig: $sumListe\")\n",
    "else\n",
    "    println(\"Falsch: $sumListe. Das Ergebnis sollte eigentlich ${listOf(0,2,4,6,8)} beinhalten\")"
   ]
  },
  {
   "cell_type": "markdown",
   "id": "increased-increase",
   "metadata": {},
   "source": [
    "### `operator`-Methoden\n",
    "Einige Anweisungen shene auf den ersten Block nach `infix`-Methoden aus, sind aber keine. Dies ist immer der Fall, wenn mathematische Zeichen im Spiel sind. Für diese gibt es keine `infix`-Methoden, da sie auf sogenannte `operator`-Methoden abgebildet werden. Sie werden auf Methoden mit bestimmten Namen abgebildet. So wird aus `5 + 10` im Hintergund `5.plus(10)` aufgerufen. Weitere Beispiele:\n",
    "\n",
    "| Ausdruck | Aufruf         |\n",
    "|----------|----------------|\n",
    "| +a       | a.unaryPlus()  |\n",
    "| a++    | a.inc()       |\n",
    "| -a       | a.unaryMinus() |\n",
    "| a--    | a.dec()       |\n",
    "| !a       | a.not()        |\n",
    "| a + b    | a.plus(b)      |\n",
    "| a - b    | a.minus(b)     |\n",
    "| a * b    | a.times(b)     |\n",
    "| a / b    | a.div(b)       |\n",
    "| a..b     | a.rangeTo(b)   |\n",
    "\n",
    "Der Methodenkopf einer `operator`-Methode ähnelt dem einer `infix`-Methode. Statt dem Schlüsselword `infix` wird nun aber `operator` benutzt. Im Folgenden wird eine Datenklasse (näheres dazu in Abschnitt 3) `Punkt` definiert und den unären Operator `-` implementiert.\n"
   ]
  },
  {
   "cell_type": "code",
   "execution_count": 33,
   "id": "floating-patent",
   "metadata": {},
   "outputs": [
    {
     "name": "stdout",
     "output_type": "stream",
     "text": [
      "Punkt(x=-10, y=-20, z=-30)\n"
     ]
    }
   ],
   "source": [
    "data class Punkt(val x: Int, val y: Int, val z: Int)\n",
    "\n",
    "operator fun Punkt.unaryMinus() = Punkt(-x, -y, -z)\n",
    "\n",
    "val punkt = Punkt(10, 20, 30)\n",
    "println(-punkt)"
   ]
  },
  {
   "cell_type": "markdown",
   "id": "classical-decision",
   "metadata": {},
   "source": [
    "#### Aufgabe\n",
    "Erweitern Sie die Datenklasse `Punkt`, sodass zwei Punkte mit dem Operator `+`addiert werden können."
   ]
  },
  {
   "cell_type": "code",
   "execution_count": 34,
   "id": "ordinary-perception",
   "metadata": {},
   "outputs": [
    {
     "name": "stderr",
     "output_type": "stream",
     "text": [
      "Line_33.jupyter.kts (6:23 - 24) Unresolved reference. None of the following candidates is applicable because of receiver type mismatch: \n",
      "public inline operator fun BigDecimal.plus(other: BigDecimal): BigDecimal defined in kotlin\n",
      "public inline operator fun BigInteger.plus(other: BigInteger): BigInteger defined in kotlin\n",
      "public operator fun <T> Array<TypeVariable(T)>.plus(element: TypeVariable(T)): Array<TypeVariable(T)> defined in kotlin.collections\n",
      "public operator fun <T> Array<TypeVariable(T)>.plus(elements: Array<out TypeVariable(T)>): Array<TypeVariable(T)> defined in kotlin.collections\n",
      "public operator fun <T> Array<TypeVariable(T)>.plus(elements: Collection<TypeVariable(T)>): Array<TypeVariable(T)> defined in kotlin.collections\n",
      "public operator fun BooleanArray.plus(element: Boolean): BooleanArray defined in kotlin.collections\n",
      "public operator fun BooleanArray.plus(elements: BooleanArray): BooleanArray defined in kotlin.collections\n",
      "public operator fun BooleanArray.plus(elements: Collection<Boolean>): BooleanArray defined in kotlin.collections\n",
      "public operator fun ByteArray.plus(element: Byte): ByteArray defined in kotlin.collections\n",
      "public operator fun ByteArray.plus(elements: ByteArray): ByteArray defined in kotlin.collections\n",
      "public operator fun ByteArray.plus(elements: Collection<Byte>): ByteArray defined in kotlin.collections\n",
      "public inline operator fun Char.plus(other: String): String defined in kotlin.text\n",
      "public operator fun CharArray.plus(element: Char): CharArray defined in kotlin.collections\n",
      "public operator fun CharArray.plus(elements: CharArray): CharArray defined in kotlin.collections\n",
      "public operator fun CharArray.plus(elements: Collection<Char>): CharArray defined in kotlin.collections\n",
      "public operator fun DoubleArray.plus(element: Double): DoubleArray defined in kotlin.collections\n",
      "public operator fun DoubleArray.plus(elements: DoubleArray): DoubleArray defined in kotlin.collections\n",
      "public operator fun DoubleArray.plus(elements: Collection<Double>): DoubleArray defined in kotlin.collections\n",
      "public operator fun FloatArray.plus(element: Float): FloatArray defined in kotlin.collections\n",
      "public operator fun FloatArray.plus(elements: FloatArray): FloatArray defined in kotlin.collections\n",
      "public operator fun FloatArray.plus(elements: Collection<Float>): FloatArray defined in kotlin.collections\n",
      "public operator fun IntArray.plus(element: Int): IntArray defined in kotlin.collections\n",
      "public operator fun IntArray.plus(elements: IntArray): IntArray defined in kotlin.collections\n",
      "public operator fun IntArray.plus(elements: Collection<Int>): IntArray defined in kotlin.collections\n",
      "public operator fun LongArray.plus(element: Long): LongArray defined in kotlin.collections\n",
      "public operator fun LongArray.plus(elements: LongArray): LongArray defined in kotlin.collections\n",
      "public operator fun LongArray.plus(elements: Collection<Long>): LongArray defined in kotlin.collections\n",
      "public operator fun ShortArray.plus(element: Short): ShortArray defined in kotlin.collections\n",
      "public operator fun ShortArray.plus(elements: ShortArray): ShortArray defined in kotlin.collections\n",
      "public operator fun ShortArray.plus(elements: Collection<Short>): ShortArray defined in kotlin.collections\n",
      "public operator fun String?.plus(other: Any?): String defined in kotlin\n",
      "public inline operator fun UByteArray.plus(element: UByte): UByteArray defined in kotlin.collections\n",
      "public inline operator fun UByteArray.plus(elements: UByteArray): UByteArray defined in kotlin.collections\n",
      "public operator fun UByteArray.plus(elements: Collection<UByte>): UByteArray defined in kotlin.collections\n",
      "public inline operator fun UIntArray.plus(element: UInt): UIntArray defined in kotlin.collections\n",
      "public inline operator fun UIntArray.plus(elements: UIntArray): UIntArray defined in kotlin.collections\n",
      "public operator fun UIntArray.plus(elements: Collection<UInt>): UIntArray defined in kotlin.collections\n",
      "public inline operator fun ULongArray.plus(element: ULong): ULongArray defined in kotlin.collections\n",
      "public inline operator fun ULongArray.plus(elements: ULongArray): ULongArray defined in kotlin.collections\n",
      "public operator fun ULongArray.plus(elements: Collection<ULong>): ULongArray defined in kotlin.collections\n",
      "public inline operator fun UShortArray.plus(element: UShort): UShortArray defined in kotlin.collections\n",
      "public inline operator fun UShortArray.plus(elements: UShortArray): UShortArray defined in kotlin.collections\n",
      "public operator fun UShortArray.plus(elements: Collection<UShort>): UShortArray defined in kotlin.collections\n",
      "public operator fun <T> Collection<TypeVariable(T)>.plus(element: TypeVariable(T)): List<TypeVariable(T)> defined in kotlin.collections\n",
      "public operator fun <T> Collection<TypeVariable(T)>.plus(elements: Array<out TypeVariable(T)>): List<TypeVariable(T)> defined in kotlin.collections\n",
      "public operator fun <T> Collection<TypeVariable(T)>.plus(elements: Iterable<TypeVariable(T)>): List<TypeVariable(T)> defined in kotlin.collections\n",
      "public operator fun <T> Collection<TypeVariable(T)>.plus(elements: Sequence<TypeVariable(T)>): List<TypeVariable(T)> defined in kotlin.collections\n",
      "public operator fun <T> Iterable<TypeVariable(T)>.plus(element: TypeVariable(T)): List<TypeVariable(T)> defined in kotlin.collections\n",
      "public operator fun <T> Iterable<TypeVariable(T)>.plus(elements: Array<out TypeVariable(T)>): List<TypeVariable(T)> defined in kotlin.collections\n",
      "public operator fun <T> Iterable<TypeVariable(T)>.plus(elements: Iterable<TypeVariable(T)>): List<TypeVariable(T)> defined in kotlin.collections\n",
      "public operator fun <T> Iterable<TypeVariable(T)>.plus(elements: Sequence<TypeVariable(T)>): List<TypeVariable(T)> defined in kotlin.collections\n",
      "public operator fun <K, V> Map<out TypeVariable(K), TypeVariable(V)>.plus(pairs: Array<out Pair<TypeVariable(K), TypeVariable(V)>>): Map<TypeVariable(K), TypeVariable(V)> defined in kotlin.collections\n",
      "public operator fun <K, V> Map<out TypeVariable(K), TypeVariable(V)>.plus(pair: Pair<TypeVariable(K), TypeVariable(V)>): Map<TypeVariable(K), TypeVariable(V)> defined in kotlin.collections\n",
      "public operator fun <K, V> Map<out TypeVariable(K), TypeVariable(V)>.plus(pairs: Iterable<Pair<TypeVariable(K), TypeVariable(V)>>): Map<TypeVariable(K), TypeVariable(V)> defined in kotlin.collections\n",
      "public operator fun <K, V> Map<out TypeVariable(K), TypeVariable(V)>.plus(map: Map<out TypeVariable(K), TypeVariable(V)>): Map<TypeVariable(K), TypeVariable(V)> defined in kotlin.collections\n",
      "public operator fun <K, V> Map<out TypeVariable(K), TypeVariable(V)>.plus(pairs: Sequence<Pair<TypeVariable(K), TypeVariable(V)>>): Map<TypeVariable(K), TypeVariable(V)> defined in kotlin.collections\n",
      "public operator fun <T> Set<TypeVariable(T)>.plus(element: TypeVariable(T)): Set<TypeVariable(T)> defined in kotlin.collections\n",
      "public operator fun <T> Set<TypeVariable(T)>.plus(elements: Array<out TypeVariable(T)>): Set<TypeVariable(T)> defined in kotlin.collections\n",
      "public operator fun <T> Set<TypeVariable(T)>.plus(elements: Iterable<TypeVariable(T)>): Set<TypeVariable(T)> defined in kotlin.collections\n",
      "public operator fun <T> Set<TypeVariable(T)>.plus(elements: Sequence<TypeVariable(T)>): Set<TypeVariable(T)> defined in kotlin.collections\n",
      "public operator fun <T> Sequence<TypeVariable(T)>.plus(element: TypeVariable(T)): Sequence<TypeVariable(T)> defined in kotlin.sequences\n",
      "public operator fun <T> Sequence<TypeVariable(T)>.plus(elements: Array<out TypeVariable(T)>): Sequence<TypeVariable(T)> defined in kotlin.sequences\n",
      "public operator fun <T> Sequence<TypeVariable(T)>.plus(elements: Iterable<TypeVariable(T)>): Sequence<TypeVariable(T)> defined in kotlin.sequences\n",
      "public operator fun <T> Sequence<TypeVariable(T)>.plus(elements: Sequence<TypeVariable(T)>): Sequence<TypeVariable(T)> defined in kotlin.sequences"
     ]
    }
   ],
   "source": [
    "//TODO\n",
    "\n",
    "//Test\n",
    "val punkt1 = Punkt(10, 20, 30)\n",
    "val punkt2 = Punkt(30, 20, 10)\n",
    "val sumPunkt = punkt1 + punkt2\n",
    "if (sumPunkt == Punkt(40,40,40)){\n",
    "    println(\"Richtig: $sumPunkt\")\n",
    "}\n",
    "else\n",
    "    println(\"Falsch: $sumPunkt. Das Ergebnis sollte eigentlich ${Punkt(40,40,40)} sein.\")"
   ]
  },
  {
   "cell_type": "code",
   "execution_count": 35,
   "id": "driven-heating",
   "metadata": {},
   "outputs": [
    {
     "name": "stdout",
     "output_type": "stream",
     "text": [
      "Richtig: Punkt(x=40, y=40, z=40)\n"
     ]
    }
   ],
   "source": [
    "//Lösung\n",
    "operator fun Punkt.plus(other: Punkt) = Punkt(x+other.x, y+other.y,z+other.z)\n",
    "\n",
    "//Test\n",
    "val punkt1 = Punkt(10, 20, 30)\n",
    "val punkt2 = Punkt(30, 20, 10)\n",
    "val sumPunkt = punkt1 + punkt2\n",
    "if (sumPunkt == Punkt(40,40,40)){\n",
    "    println(\"Richtig: $sumPunkt\")\n",
    "}\n",
    "else\n",
    "    println(\"Falsch: $sumPunkt. Das Ergebnis sollte eigentlich ${Punkt(40,40,40)} sein.\")"
   ]
  },
  {
   "cell_type": "markdown",
   "id": "forty-conviction",
   "metadata": {},
   "source": [
    "## Lektion 6 - Datenstrukturen\n",
    "In dieser Lektion werden ausgewählte Datenstrukturen in Kotlin vorgestellt."
   ]
  },
  {
   "cell_type": "markdown",
   "id": "limited-digit",
   "metadata": {},
   "source": [
    "### Array\n",
    "Die Datenstruktur des Arrays sollte bereits umfänglich bekannt sein. Die Funktionsweise unterscheidet sich nicht von Java, abgesehen von der Inititalisierung. Diese kann entweder mit dem Schlüselwort `arrayOf` erfolgen, falls alle Werte bereits vorliegen. Ansonsten kann ein leeres Array mit einer festgelegten Länge mit dem Ausdruck `Array(Länge) {Standardwert}` definiert werden.\n",
    "```kotlin\n",
    "val array1 = arrayOf(1,2,3,4) //[1, 2, 3, 4] -> Int-Array\n",
    "println(array1[2]) //3\n",
    "println(array1.size) //4\n",
    "\n",
    "val array2 = Array(6) {0.0} //[0.0, 0.0, 0.0, 0.0, 0.0, 0.0] -> Double-Array\n",
    "println(array2[2]) //0.0\n",
    "println(array2.size) //6\n",
    "array2[3] = 5.0 //[0.0, 0.0, 0.0, 5.0, 0.0, 0.0]\n",
    "println(array2[3]) //5.0\n",
    "```\n",
    "\n",
    "Mehrdimensionale Arrays können, wie in Java, erstellt werden, indem in ein Element eines eindimensionales Arrays ein weiteres Array zu finden ist.\n",
    "```kotlin\n",
    "val arrayDim2 = Array(5) { Array(5) {\"Eintrag\"} } //Erzeugt ein 2 dimensionales String-Array der Größe 5x5, welches gefüllt ist mit \"Eintrag\"\n",
    "println(arrayDim2[0][3]) //\"Eintrag\"\n",
    "````\n",
    "\n",
    "[Weiterführende Informationen](https://kotlinlang.org/api/latest/jvm/stdlib/kotlin/-array/)"
   ]
  },
  {
   "cell_type": "markdown",
   "id": "attempted-dayton",
   "metadata": {},
   "source": [
    "### Liste\n",
    "Aufgrund einer größeren Flexibilität und besseren Implementierung in Kotlin sind Listen gegenüber Arrays zu bevorzugen. Ähnlich zu den zwei verschiedene Variablentypen (`val`/`var`), sind Listen ebenso in Veränderbare (`MutableList`) und Unveränderbare (`List`) aufgeteilt. Währund die `MutableList` an eine klassische `List` in Java erinnert, können die Einträge einer Kotlin-`List` im Nachhinein nicht verändert werden. Außerdem können in einer Liste nur Elemente eines Typs gespeichert werden.\n",
    "#### Inititalisierung\n",
    "Eine Liste kann, ähnlich zu einem Array, mit der Methode `listOf()` beziehungsweise `mutableListOf()` erzeugt werden. Als Parameter können die Listeneinträge übergeben werden. Falls sie leer sind, muss der Datentyp der Elemente der Liste angegeben werden. Außerdem kann auch der bereits bei Arrays kennengelernte Konstruktor angewendet werden. Dabei muss die (festgesetzte) Länge angegeben werden. In den geschweiften Klammern kann mit dem Schlüsselwort `it` der Index des zu füllenden Elements abgerufen werden."
   ]
  },
  {
   "cell_type": "code",
   "execution_count": 36,
   "id": "adjustable-antibody",
   "metadata": {},
   "outputs": [
    {
     "name": "stdout",
     "output_type": "stream",
     "text": [
      "liste1: [1, 2, 3, 4, 5, 6]\n",
      "liste2: []\n",
      "liste3: [1, 2.0, Kotlin, a, /]\n",
      "liste4: [Kotlin, Java]\n",
      "liste5: [0, 1, 2, 3, 4]\n",
      "liste6: [0, 1, 4, 9, 16, 25, 36, 49, 64, 81]\n",
      "liste7: [0, 0, 0, 0, 0, 10]\n"
     ]
    }
   ],
   "source": [
    "val liste1 = listOf(1,2,3,4,5,6) //unveränderbare Liste mit Elementen des Datentyps Int\n",
    "//liste1.add(5) -> Error: Unresolved reference: add\n",
    "println(\"liste1: $liste1\")\n",
    "\n",
    "val liste2 = listOf<Int>() //leere, unveränderbare Liste mit Elementen des Datentyps Int\n",
    "println(\"liste2: $liste2\")\n",
    "\n",
    "val liste3 = mutableListOf(1,2.0,\"Kotlin\",4.5,'a','/') //veränderbare Liste mit Elementen des Datentyps Any\n",
    "liste3.removeAt(3)\n",
    "println(\"liste3: $liste3\")\n",
    "\n",
    "val liste4 = mutableListOf<String>() //leere, veränderbare Liste mit Elementen des Datentyps String\n",
    "liste4.add(\"Kotlin\")\n",
    "liste4.add(\"Java\")\n",
    "//liste4.add(10) -> Error: The integer literal does not conform to the expected type String\n",
    "println(\"liste4: $liste4\")\n",
    "\n",
    "val liste5 = List(5) { it } //unveränderbare Liste mit Elementen des Datentyps Int, die den Index beinhalten\n",
    "println(\"liste5: $liste5\")\n",
    "\n",
    "val liste6 = MutableList(10) { it*it } //veränderbare Liste mit Elementen des Datentyps Int, die den quadrierten Index beinhalten\n",
    "println(\"liste6: $liste6\")\n",
    "\n",
    "val liste7 = MutableList(5) { 0 } //veränderbare Liste mit Elementen des Datentyps Int, die 0 beinhalten\n",
    "liste7.add(10)\n",
    "println(\"liste7: $liste7\")"
   ]
  },
  {
   "cell_type": "markdown",
   "id": "copyrighted-peeing",
   "metadata": {},
   "source": [
    "#### Veränderbar & Unveränderbar\n",
    "Bei der Betrachtung des obigen Beispiels könnten einige Fragen aufgekommen sein, die mit der Veränderbarkeit der Listen und deren Variablen zutun hat. Deswegen folgt hier noch eine ausführlichere Erklärung.<br />\n",
    "Beginnen wir mit einer Betrachtung der Listentypen: \n",
    "- Eine Liste der Klasse `List` können Sie sich vorstellen wie eine Liste mit einer, bei Inititalisierung festgelegter, Länge. In der Liste sind Variablen des Typs `val` gespeichert. Diese können also nicht verändert werden. \n",
    "- Eine Liste der Klasse `MutableList` hat keine festgelegte Länge und kann folglich beliebig verlängert oder verkürzt werden. Die Elemente sind Variablen des Typs `var` und können verändert werden.\n",
    "\n",
    "Gespeichert werden die Listen in eigenen Variablen, die wiederum verschieden veränderbar sein können:\n",
    "- Wird eine beliebige in einer Variable des Typs `val` gespeichert, kann der Variable keine neue Liste zugewiesen werden. Dies hat jedoch **keinen** Einfluss auf den Typ der Liste.\n",
    "- Wird eine beliebige in einer Variable des Typs `var` gespeichert, kann die gespeicherte Liste durch eine Andere ersetzt werden. Die Variable ist veränderbar. Falls jedoch eine unveränderbare Liste in einer veränderbaren Variable gespeichert wird, kann die Liste dennoch nicht bearbeitet werden.\n",
    "\n",
    "Zusammenfassung:\n",
    "\n",
    "|     | List                                                      | MutableList                                                     |\n",
    "|-----|-----------------------------------------------------------|-----------------------------------------------------------------|\n",
    "| val | Variable und Liste können nicht verändert werden          | Variable kann nicht verändert werden, die Liste hingegen schon. |\n",
    "| val | Variable kann verändert werden, die Liste hingegen nicht. | Variable und Liste können verändert werden                      |"
   ]
  },
  {
   "cell_type": "markdown",
   "id": "literary-democracy",
   "metadata": {},
   "source": [
    "#### Ausgewählte Operationen\n",
    "Im folgenden werden einige ausgewählte Operationen vorgestellt, mit denen Listen bearbeitet werden können.\n",
    "##### Zugriff auf ein Element\n",
    "Der Zugriff auf ein Element kann entweder wie bei einem Array mit dem Index erfolgen oder mit der Methode `get()` und dem Index als Parameter."
   ]
  },
  {
   "cell_type": "code",
   "execution_count": 37,
   "id": "aware-intro",
   "metadata": {},
   "outputs": [
    {
     "name": "stdout",
     "output_type": "stream",
     "text": [
      "liste[1]: 1, liste.get(1): 1\n"
     ]
    }
   ],
   "source": [
    "val liste = listOf(0,1,2,3,4)\n",
    "println(\"liste[1]: ${liste[1]}, liste.get(1): ${liste.get(1)}\")"
   ]
  },
  {
   "cell_type": "markdown",
   "id": "happy-tribute",
   "metadata": {},
   "source": [
    "##### Länge\n",
    "Die Länge einer Liste kann mit der Variable `size` abgerufen werden."
   ]
  },
  {
   "cell_type": "code",
   "execution_count": 38,
   "id": "consecutive-league",
   "metadata": {},
   "outputs": [
    {
     "name": "stdout",
     "output_type": "stream",
     "text": [
      "Länge der Liste [true, false, false, false, true, true]: 6\n"
     ]
    }
   ],
   "source": [
    "val liste = listOf(true, false, false, false, true, true)\n",
    "println(\"Länge der Liste $liste: ${liste.size}\")"
   ]
  },
  {
   "cell_type": "markdown",
   "id": "medieval-calibration",
   "metadata": {},
   "source": [
    "##### Konvertierung\n",
    "Listen können untereinander mit `toList()` konvertiert werden. Außerdem können auch andere Datenstrukturen mit dieser Methode zu einer Liste konvertiert werden."
   ]
  },
  {
   "cell_type": "code",
   "execution_count": 39,
   "id": "pacific-helen",
   "metadata": {},
   "outputs": [
    {
     "name": "stdout",
     "output_type": "stream",
     "text": [
      "array ist ein Array: true\n",
      "liste1 ist eine List: true\n",
      "liste2 ist eine MutableList: true\n"
     ]
    }
   ],
   "source": [
    "val array = arrayOf(1,2,3,4,5,6)\n",
    "println(\"array ist ein Array: ${array is Array<*>}\")\n",
    "val liste1 = array.toList()\n",
    "// liste.add(5) -> Error\n",
    "println(\"liste1 ist eine List: ${liste1 is List<*>}\")\n",
    "val liste2 = liste1.toMutableList()\n",
    "liste2.add(5) //-> funktioniert\n",
    "println(\"liste2 ist eine MutableList: ${liste2 is MutableList<*>}\")"
   ]
  },
  {
   "cell_type": "markdown",
   "id": "recent-smoke",
   "metadata": {},
   "source": [
    "##### Füllen und Leeren\n",
    "Eine veränderbare Liste kann mit `fill()` mit dem übergebenden Element gefüllt werden. `clear()` hingegen löscht alle Elemente aus der Liste."
   ]
  },
  {
   "cell_type": "code",
   "execution_count": 40,
   "id": "automatic-withdrawal",
   "metadata": {},
   "outputs": [
    {
     "name": "stdout",
     "output_type": "stream",
     "text": [
      "Liste: [1, 2, 3, 4, 5, 6]\n",
      "Gefüllte Liste: [100, 100, 100, 100, 100, 100]\n",
      "Geleerte Liste: []\n"
     ]
    }
   ],
   "source": [
    "val liste = mutableListOf(1,2,3,4,5,6)\n",
    "println(\"Liste: $liste\")\n",
    "liste.fill(100)\n",
    "println(\"Gefüllte Liste: $liste\")\n",
    "liste.clear()\n",
    "println(\"Geleerte Liste: $liste\")"
   ]
  },
  {
   "cell_type": "markdown",
   "id": "entire-restriction",
   "metadata": {},
   "source": [
    "##### Hinzufügen und Löschen\n",
    "Einer veränderbaren Liste können Elemente mit `add()` hinzugefügt werden. Wird nur das Element übergeben, wird dieses am Ende angehängt. Wenn zusätzlich noch ein Index angegeben wird, wird das Element an diesem Index eingefügt.<br />\n",
    "Mit `remove()` beziehungsweise `removeAt()` kann ein bestimmtes Element oder ein Element an einem bestimmten Index entfernt werden.<br />\n",
    "Für eine bessere Übersitlichkeit kann das Hinzufügen beziehungsweise Löschen mit Operatoren abgekürzt werden. Diese ersetzen aber lediglich die einfachen Methoden `add` und `remove`."
   ]
  },
  {
   "cell_type": "code",
   "execution_count": 41,
   "id": "brilliant-fetish",
   "metadata": {},
   "outputs": [
    {
     "name": "stdout",
     "output_type": "stream",
     "text": [
      "Liste: [a, b, c, d, e]\n",
      "Liste mit hinzugefügten Elementen: [a, b, z, c, d, e, f]\n",
      "Liste mit entfernten Elementen: [b, c, d, e, f]\n",
      "\n",
      "Kurzschreibweise\n",
      "Liste2: [a, b, c, d, e]\n",
      "Liste2 mit hinzugefügten Elementen: [a, b, z, c, d, e, f]\n",
      "Liste2 mit entfernten Elementen: [b, c, d, e, f]\n"
     ]
    }
   ],
   "source": [
    "val liste = mutableListOf('a', 'b', 'c', 'd', 'e')\n",
    "println(\"Liste: $liste\")\n",
    "liste.add('f')\n",
    "liste.add(2, 'z')\n",
    "println(\"Liste mit hinzugefügten Elementen: $liste\")\n",
    "liste.remove('z')\n",
    "liste.removeAt(0)\n",
    "println(\"Liste mit entfernten Elementen: $liste\")\n",
    "\n",
    "//Kurzschreibweise\n",
    "println(\"\\nKurzschreibweise\")\n",
    "val liste2 = mutableListOf('a', 'b', 'c', 'd', 'e')\n",
    "println(\"Liste2: $liste2\")\n",
    "liste2 += 'f'\n",
    "liste2.add(2, 'z')\n",
    "println(\"Liste2 mit hinzugefügten Elementen: $liste2\")\n",
    "liste2 -= 'z'\n",
    "liste2.removeAt(0)\n",
    "println(\"Liste2 mit entfernten Elementen: $liste2\")"
   ]
  },
  {
   "cell_type": "markdown",
   "id": "occasional-demographic",
   "metadata": {},
   "source": [
    "##### Teilliste\n",
    "Eine Teilliste kann mit der Methode `subList()` erstellt werden. Dabei müssen als Parameter der Startindex (inklusive) und Endindex (exklusive) angegeben werden.<br />\n",
    "Eine neue Liste mit den ersten n Elementen einer Liste kann mit `take(n)` erzeugt werden. Sollen hingegen die letzten n Elemente zurückgegeben werden findet `takeLast(n)` Anwendung.<br />\n",
    "Eine Liste ohne die ersten n Elemente kann mit der Methode `drop(n)` erlangt werden."
   ]
  },
  {
   "cell_type": "code",
   "execution_count": 42,
   "id": "distant-collar",
   "metadata": {},
   "outputs": [
    {
     "name": "stdout",
     "output_type": "stream",
     "text": [
      "Ausgangsliste: [1, 2, 3, 4, 5, 6]\n",
      "Teilliste von 3 bis liste.size: [4, 5, 6]\n",
      "Teilliste der ersten 3 Elemente: [1, 2, 3]\n",
      "Teilliste der letzten 3 Elemente: [4, 5, 6]\n",
      "Teilliste ohne die ersten 3 Elemente: [4, 5, 6]\n"
     ]
    }
   ],
   "source": [
    "val liste = listOf(1,2,3,4,5,6)\n",
    "println(\"Ausgangsliste: $liste\")\n",
    "val teilliste = liste.subList(3, liste.size)\n",
    "println(\"Teilliste von 3 bis liste.size: $teilliste\")\n",
    "val teilliste2 = liste.take(3)\n",
    "println(\"Teilliste der ersten 3 Elemente: $teilliste2\")\n",
    "val teilliste3 = liste.takeLast(3)\n",
    "println(\"Teilliste der letzten 3 Elemente: $teilliste3\")\n",
    "val teilliste4 = liste.drop(3)\n",
    "println(\"Teilliste ohne die ersten 3 Elemente: $teilliste4\")"
   ]
  },
  {
   "cell_type": "markdown",
   "id": "satisfied-abortion",
   "metadata": {},
   "source": [
    "##### Suchen\n",
    "Mit dem Schlüsselwort `in` kann ein Element in einer Liste gesucht werden. Zurückgegeben wird `true`, falls es gefunden wurde, ansonsten `false`.<br />\n",
    "Wenn statt der Information, ob das Element vorhanden ist, zusätzlich noch der Index gesucht ist, kann die Methode `indexOf()` benutzt werden. Falls das übergebene Element nicht in der Liste vorhanden ist, wird `-1` zurückgegeben."
   ]
  },
  {
   "cell_type": "code",
   "execution_count": 43,
   "id": "appreciated-cooperative",
   "metadata": {},
   "outputs": [
    {
     "name": "stdout",
     "output_type": "stream",
     "text": [
      "Ist 'Java' in der Liste: true\n",
      "Ist 'Javascript' in der Liste: false\n",
      "Welchen Index besitzt 'Java' in der Liste: 1\n",
      "Welchen Index besitzt 'Javascript' in der Liste: -1\n"
     ]
    }
   ],
   "source": [
    "val liste = listOf(\"Kotlin\", \"Java\", \"Lua\", \"C\", \"Swift\")\n",
    "println(\"Ist 'Java' in der Liste: ${\"Java\" in liste}\")\n",
    "println(\"Ist 'Javascript' in der Liste: ${\"Javascript\" in liste}\")\n",
    "println(\"Welchen Index besitzt 'Java' in der Liste: ${liste.indexOf(\"Java\")}\")\n",
    "println(\"Welchen Index besitzt 'Javascript' in der Liste: ${liste.indexOf(\"Javascript\")}\")"
   ]
  },
  {
   "cell_type": "markdown",
   "id": "demanding-reference",
   "metadata": {},
   "source": [
    "##### Anordnen und Zufall\n",
    "Ein zufälliges Element einer Liste kann mit `random()` erhalten werden.<br />\n",
    "Soll eine veränderbaren Liste durchmischt werden, findet `shuffle()` Anwendung.<br />\n",
    "Das sortieren einer veränderbaren Liste funktioniert unter Anderem mit `sort()`. [Genauere Informationen](https://kotlinlang.org/api/latest/jvm/stdlib/kotlin.collections/sort.html) zum Sortieren"
   ]
  },
  {
   "cell_type": "code",
   "execution_count": 44,
   "id": "incident-teens",
   "metadata": {},
   "outputs": [
    {
     "name": "stdout",
     "output_type": "stream",
     "text": [
      "Ausgangsliste: [0, 1, 2, 3, 4, 5, 6, 7, 8, 9]\n",
      "Zufälliges Element: 4\n",
      "Zufällige Anordnung: [9, 1, 2, 6, 5, 0, 7, 8, 3, 4]\n",
      "Wieder sortiert: [0, 1, 2, 3, 4, 5, 6, 7, 8, 9]\n"
     ]
    }
   ],
   "source": [
    "val liste = mutableListOf(0,1,2,3,4,5,6,7,8,9)\n",
    "println(\"Ausgangsliste: $liste\")\n",
    "println(\"Zufälliges Element: ${liste.random()}\")\n",
    "liste.shuffle()\n",
    "println(\"Zufällige Anordnung: ${liste}\")\n",
    "liste.sort()\n",
    "println(\"Wieder sortiert: ${liste}\")"
   ]
  },
  {
   "cell_type": "markdown",
   "id": "interstate-senator",
   "metadata": {},
   "source": [
    "### Set\n",
    "Sets sind primitivere Listen. Ihre Elemente sind ungeordnet und besitzen keine Duplikate. Nur ein `MutableSet` kann nur vergrößert oder verkleinert werden. Erzeugen kann man sie mit `setOf()` beziehungsweise `mutableSetOf()`."
   ]
  },
  {
   "cell_type": "code",
   "execution_count": 45,
   "id": "enhanced-belief",
   "metadata": {},
   "outputs": [
    {
     "name": "stdout",
     "output_type": "stream",
     "text": [
      "unveränderbares Set: [1, 2, 3, 4, 5]\n",
      "veränderbares Set: [1, 2, 3, 4, 5]\n",
      "veränderbares Set ohne 3: [1, 2, 4, 5]\n",
      "veränderbares Set mit 10: [1, 2, 4, 5, 10]\n"
     ]
    }
   ],
   "source": [
    "val set = setOf(1,2,3,4,5,1,2,3)\n",
    "println(\"unveränderbares Set: $set\")\n",
    "val set2 = mutableSetOf(1,2,3,4,5,1,2,3)\n",
    "println(\"veränderbares Set: $set2\")\n",
    "set2.remove(3)\n",
    "println(\"veränderbares Set ohne 3: $set2\")\n",
    "set2.add(10)\n",
    "println(\"veränderbares Set mit 10: $set2\")"
   ]
  },
  {
   "cell_type": "markdown",
   "id": "pointed-rebound",
   "metadata": {},
   "source": [
    "Ein Vorteil an Sets ist, dass einfache Operationen mit Mengen ermöglicht werden. Mit `union` oder `+` können zwei Sets vereinigt werden, `intersect` gibt eine Schnittmenge zurück und `subtract` entfernt alle Elemente der ersten Menge aus der Zweiten."
   ]
  },
  {
   "cell_type": "code",
   "execution_count": 46,
   "id": "recreational-tampa",
   "metadata": {
    "tags": []
   },
   "outputs": [
    {
     "name": "stdout",
     "output_type": "stream",
     "text": [
      "Set1: [1, 2, 3, 4, 5], Set2: [4, 5, 6, 7, 8]\n",
      "Vereinigung: [1, 2, 3, 4, 5, 6, 7, 8]\n",
      "Schnittmenge: [4, 5]\n",
      "Subtraktion: [1, 2, 3]\n"
     ]
    }
   ],
   "source": [
    "val set1 = setOf(1,2,3,4,5)\n",
    "val set2 = setOf(4,5,6,7,8)\n",
    "println(\"Set1: $set1, Set2: $set2\")\n",
    "val vereinigung = set1 union set2\n",
    "println(\"Vereinigung: $vereinigung\")\n",
    "val schnitt = set1 intersect set2\n",
    "println(\"Schnittmenge: $schnitt\")\n",
    "val subset = set1 subtract set2\n",
    "println(\"Subtraktion: $subset\")"
   ]
  },
  {
   "cell_type": "markdown",
   "id": "saving-rhythm",
   "metadata": {},
   "source": [
    "### Map\n",
    "Maps sind eine Liste von Paaren von Elementen. Ein Paar besteht aus einem Schlüssel (key) und einem Wert (value). Der Schlüssel ist dabei der \"Index\" eines Werts. Eine unveränderbare Map gehört der Klasse `Map` an und kann mit `mapOf()` erzeugt werden, während eine Veränderbare der Klasse `MutableMap` zugeordnet wird und mit Hilfe von `mutableMapOf()` initialisiert werden. Ein Eintrag in der Map wird mit dem Schlüssel und dem Wert verbunden mit `to` gekennzeichnet. Zu einer veränderbaren Map kann mit der Methode `put()` ein Eintrag hinzugefügt werden. Dazu müssen der Schlüssel und der Wert mit Komma getrennt übergeben werden. Ein Eintrag kann mit `remove()` und der übergabe des Schlüssels entfernt werden."
   ]
  },
  {
   "cell_type": "code",
   "execution_count": 47,
   "id": "mexican-pierre",
   "metadata": {},
   "outputs": [
    {
     "name": "stdout",
     "output_type": "stream",
     "text": [
      "unveränderbare Map: {Kotlin=0, Java=1, C=2}\n",
      "veränderbare Map: {AI1=Westfechtel, AI2=Rauber, AI3=Henrich}\n",
      "Wert zum Schlüssel AI2: Rauber\n",
      "veränderbare Map mit AI4: {AI1=Westfechtel, AI2=Rauber, AI3=Henrich, AI4=Jablonski}\n",
      "veränderbare Map ohne AI2: {AI1=Westfechtel, AI3=Henrich, AI4=Jablonski}\n"
     ]
    }
   ],
   "source": [
    "val map = mapOf(\"Kotlin\" to 0, \"Java\" to 1, \"C\" to 2)\n",
    "println(\"unveränderbare Map: $map\")\n",
    "\n",
    "val map2 = mutableMapOf(\"AI1\" to \"Westfechtel\", \"AI2\" to \"Rauber\", \"AI3\" to \"Henrich\")\n",
    "println(\"veränderbare Map: $map2\")\n",
    "println(\"Wert zum Schlüssel AI2: ${map2[\"AI2\"]}\")\n",
    "map2.put(\"AI4\", \"Jablonski\")\n",
    "println(\"veränderbare Map mit AI4: $map2\")\n",
    "map2.remove(\"AI2\")\n",
    "println(\"veränderbare Map ohne AI2: $map2\")"
   ]
  },
  {
   "cell_type": "markdown",
   "id": "expected-wealth",
   "metadata": {},
   "source": [
    "Eine Map kann mit einer `for`-Schleife einfach durchlaufen werden:"
   ]
  },
  {
   "cell_type": "code",
   "execution_count": 48,
   "id": "electrical-rental",
   "metadata": {},
   "outputs": [
    {
     "name": "stdout",
     "output_type": "stream",
     "text": [
      "AI1: Westfechtel\n",
      "AI2: Rauber\n",
      "AI3: Henrich\n",
      "AI4: Jablonski\n"
     ]
    }
   ],
   "source": [
    "val map = mapOf(\"AI1\" to \"Westfechtel\", \"AI2\" to \"Rauber\", \"AI3\" to \"Henrich\", \"AI4\" to \"Jablonski\")\n",
    "for ((key, value) in map){\n",
    "    println(\"$key: $value\")\n",
    "}"
   ]
  },
  {
   "cell_type": "markdown",
   "id": "piano-lecture",
   "metadata": {},
   "source": [
    "## Zusammenfassung\n",
    "In diesem Abschnitt wurden die Grundlagen von Kotlin vorgestellt. Dabei wurde Bezug auf ihre Umsetzung in Java genommen.<br/><br />\n",
    "Die `main`-Methode wird standardmäßig beim Ausfüühren eines Programms aufgerufen und kann mit (`fun main(args: Array) { ... }`) oder ohne (`fun main() { ... }`) Kommandizeilenargumente aufgerufen werden.<br />\n",
    "Eine Variable oder ein Ausdruck kann mit `$` beziehungsweise `${ ... }` in einen `String` eingebaut werden.<br /><br />\n",
    "Variablen werden in Kotlin in zwei Arten unterteilt. `val` beschreibt eine schreibgeschützte Variable, während eine `var`-Variable beliebig oft verändert werden kann. Der Datentyp kann mit `:` getrennt nach dem Variablennamen angegeben werden, kann aber bei einer direkten Wertzuweisung weggelassen werden. Dann wird implizit vom Kompiler ein Datentyp zugewiesen. Aktuell kann kein bekannter Datentyp den Wert `null` annehmen. Eine Konstante besitzt den Typ `val` und wird `const`  vorangestellt. Syntax von Variablen:<br />\n",
    "Variable -> \"var\" name \":\" Datentyp.<br />\n",
    "Variable -> [const] (\"var\"|\"val\") name [\":\" Datentyp] \"=\" Wert.<br />\n",
    "Kotlin unterscheidet nicht zwischen primitiven und komplexen (Klassen) Datentypen. Alle Datentypen besitzen eine Klasse und werden somit groß geschrieben. Zusätzlich zu den bereits bekannten Datentypen aus Java kommen `Any`, `Nothing` und `Unit` dazu. `Any` beschreibt den Super-Typ, während `Nothing` der Sub-Typ aller Datentypen ist. `Unit` kommt bei Methoden zum Einsatz, die in Java den Rückgabetyp `void` besitzen. Er gibt an, dass nichts interessantes zurückgegeben wird.<br />\n",
    "Vergleiche finden standardmäßig auf der Inhaltsebene statt. Mit `===` kann ein Vergleich auf der Referenzebene angestellt werden.<br /><br />\n",
    "Methoden besitzen in Kotlin folgenden Syntax:<br />\n",
    "Funktion -> \"fun\" name \"(\" Parameter \")\" [\":\" Rückgabetyp] \"{\" ... \"}\"<br />\n",
    "Parameter -> Name \":\" Datentyp [\"=\" defaukt-Wert] {\",\" Parameter}<br />\n",
    "Parametern kann ein default-Wert zugewiesen werden, der Anwendung findet, wenn dieser Parameter nicht ünergeben wird. Ansonsten wird der default-Wert des Datentyps angewendet. Parameter können außerdem mit ihrem Namen übergeben werden.<br />\n",
    "Falls ein Rückgabetyp vorhanden ist, muss ein Element dieses Typs zurückgegeben werden. Das Zurückgeben mehrerer Elemente ist nicht möglich. Falls nichts zurückgegeben werden soll, wird `Unit` als Rückgabetyp angegeben oder dieser komplett weggelassen. Terminiert die Methode nie oder wirft immer einen Fehler ist `Nothing` als Rückgabetyp zu präferieren.<br />\n",
    "Falls die Methode kurz ist, kann die Kurzschreibweise angewendet werden. Dabei wird der Rückgabetyp implizit vom Kompiler bestimmt.<br /><br />\n",
    "Die Kontrollstrukturen in Kotlin ähneln den in Java. <br />\n",
    "Wird bei einer `if`-Verzweigung in allen Fällen ein Wert zurückgegeben, kann das `return` vor das `if` geschrieben und in den Fällen weggelassen werden.<br />\n",
    "Die `when`-Verzweigung ist ähnlich zu `switch-case` in Java und ist bei Verzweigungen mit mehr als zwei Fällen zu bevorzugen. Es wird im vergleich zu `switch` das Schlüsselwort im Kopf mit `when` ausgetauscht. Jeder Fall wird in eine rechte und eine linke Seite aufgeteilt. Während links ein Vergleichswert oder ein Wahrheitsausdruck zu finden ist, wird rechts die Folge in Form einer Anweisung hingeschrieben. Wenn ein Anweisungsblock ausgeführt wurde, wird der `when`-Block verlassen und nicht weiter ausgeführt.<br />\n",
    "Die `for`-Schleife iteriert über Bereiche. Diese werden durch einen Start- und Endpunkt definiert getrennt von `..`. Die von Kotlin bereitgestellten Bereiche sind von den Typen `Int`, `Long` und `Char`. Soll ein Bereich absteigend sein, muss statt `..` `downTo` verwendet werden. Bei einem Bereich mit dem Schlüsselwort `until` ist der Endwert explizit. Nach dem Endwert kann noch ein `step` mit anschließender Schrittweite angegeben werden.<br />\n",
    "Die normale Iteration über einen Bereich wird mit dem Schlüsselwort `in` herbeigeführt. Ebenso kann aber mit diesem auch über eine Datenstruktur (zum Beispiel eine Liste) iteriert werden. In diesem Fall wird in der Laufvariable das Element der Liste gespeichert. Dieses kann nicht verändert werden. Hängt man der Liste `withIndex()` an, so wird ein Paar aus Index und Element bei jedem Durchlauf belegt.<br />\n",
    "Soll eine bestimmte Schleife beendet werden, kann dies mit dem Schlüsselwort `break` passieren. Diesem wird getrennt mit einem `@` der Name der Schleife angegeben. Zuvor muss dieser Name dieser aber zugewiesen werden. Dies erfolgt mit name`@` vor dem Schleifenkopf.<br />\n",
    "Eine weitere Schleife ist die `while`-Schleife. Diese ist identisch zu der Umsetzung in Java. Außerdem wird ebenfalls die `do-while`-Schleife unterstützt.<br />\n",
    "Für einfache Zwecke ist die `repeat`-Schleife vorteilhaft. Dieser wird als Parameter ein positiver `Int`-Wert übergeben, bis zu dem von 0 aus iteriert wird. In der Schleife kann auf die aktuelle Durchlaufzahl mit `it` zugegriffen werden.<br /><br />"
   ]
  },
  {
   "cell_type": "code",
   "execution_count": null,
   "id": "looking-lottery",
   "metadata": {},
   "outputs": [],
   "source": []
  }
 ],
 "metadata": {
  "celltoolbar": "Create Assignment",
  "kernelspec": {
   "display_name": "Kotlin",
   "language": "kotlin",
   "name": "kotlin"
  },
  "language_info": {
   "codemirror_mode": "text/x-kotlin",
   "file_extension": ".kt",
   "mimetype": "text/x-kotlin",
   "name": "kotlin",
   "pygments_lexer": "kotlin",
   "version": "1.5.0-dev-1206"
  },
  "toc-autonumbering": false,
  "toc-showcode": false,
  "toc-showmarkdowntxt": false,
  "toc-showtags": false
 },
 "nbformat": 4,
 "nbformat_minor": 5
}
