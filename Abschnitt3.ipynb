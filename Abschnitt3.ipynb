{
 "cells": [
  {
   "cell_type": "markdown",
   "id": "legal-landing",
   "metadata": {
    "tags": []
   },
   "source": [
    "# Abschnitt 3\n",
    "Thema dieses Abschnittes wird die objektorientierte Programmierung sein.\n",
    "\n",
    "## Lektion 1 - Klassen\n",
    "Aufgrund der Kompatibilität mit Java ist auch Kotlin eine objektorientierte Sprache. Deswegen werden im Hintergrund alle Daten als Objekte behandelt. In Kotlin sind alle bekannten objektorientierte Konzepte vorhanden, jedoch angepasst und teilweise auch vereinfacht. Dazu ein Einführungsbeispiel. Es soll eine Klasse `Person` implementiert werden, die zwei Felder besitzt: `name` vom Typ `String`, das nur bei Objekterzeugung gesetzt wird, und `alter` vom Typ `Int`, das immer verändert werden kann.\n",
    "\n",
    "\n",
    "<table style=\"font-size:16px\">\n",
    "<thead>\n",
    "  <tr>\n",
    "    <th>Kotlin</th>\n",
    "    <th>Java</th>\n",
    "  </tr>\n",
    "</thead>\n",
    "<tbody>\n",
    "  <tr>\n",
    "    <td><code>class Person (val name: String, var alter: Int)</code></td>\n",
    "    <td><code>public class Person{<br>&nbsp;&nbsp;&nbsp;&nbsp;private String name;<br>&nbsp;&nbsp;&nbsp;&nbsp;private int alter;<br>&nbsp;&nbsp;&nbsp;&nbsp;public Person(String name, int alter){<br>&nbsp;&nbsp;&nbsp;&nbsp;&nbsp;&nbsp;&nbsp;&nbsp;this.name = name<br>&nbsp;&nbsp;&nbsp;&nbsp;&nbsp;&nbsp;&nbsp;&nbsp;this.alter = alter<br>&nbsp;&nbsp;&nbsp;&nbsp;}<br>&nbsp;&nbsp;&nbsp;&nbsp;public String gibName(){<br>&nbsp;&nbsp;&nbsp;&nbsp;&nbsp;&nbsp;&nbsp;&nbsp;return name;<br>&nbsp;&nbsp;&nbsp;&nbsp;}<br>&nbsp;&nbsp;&nbsp;&nbsp;public String gibAlter(){<br>&nbsp;&nbsp;&nbsp;&nbsp;&nbsp;&nbsp;&nbsp;&nbsp;return alter;<br>&nbsp;&nbsp;&nbsp;&nbsp;}<br>&nbsp;&nbsp;&nbsp;&nbsp;public String setzeAlter(int alter){<br>&nbsp;&nbsp;&nbsp;&nbsp;&nbsp;&nbsp;&nbsp;&nbsp;this.alter = alter;<br>&nbsp;&nbsp;&nbsp;&nbsp;}<br>}<br></code></td>\n",
    "  </tr>\n",
    "</tbody>\n",
    "</table>"
   ]
  },
  {
   "cell_type": "code",
   "execution_count": 1,
   "id": "adaptive-mechanics",
   "metadata": {
    "execution": {
     "iopub.execute_input": "2021-04-23T11:22+0200",
     "iopub.status.busy": "2021-04-23T11:22+0200",
     "iopub.status.idle": "2021-04-23T11:22+0200",
     "shell.execute_reply": "2021-04-23T11:22+0200",
     "shell.execute_reply.started": "2021-04-23T11:22+0200"
    },
    "tags": []
   },
   "outputs": [
    {
     "name": "stdout",
     "output_type": "stream",
     "text": [
      "Person p1, Line_0_jupyter$Person@642b2176: \n",
      "Name: Max Mustermann, Alter: 21\n"
     ]
    }
   ],
   "source": [
    "class Person (val name: String, var alter: Int)\n",
    "\n",
    "val p1 = Person(\"Max Mustermann\", 21)\n",
    "println(\"Person p1, $p1: \\nName: ${p1.name}, Alter: ${p1.alter}\")"
   ]
  },
  {
   "cell_type": "markdown",
   "id": "closing-september",
   "metadata": {},
   "source": [
    "Es ist zu erkennen, dass der Kotlincode deutlich kürzer und übersichtlicher ist. Warum er so aussieht wird in den folgenden Lektionen genauer besprochen.\n",
    "\n",
    "### Felder\n",
    "Felder können Klassen einfach Hinzugefügt werden. Die erste Möglichkeit ist durch die Übergabeparameter der Klasse. Diese entsprechen den Parametern des Konstruktors und sind im Kopf der Klasse angesiedelt. Wird diesen bei öffentlicher Sichtbarkeit eine Variablenart (`val` oder `var`) zugewiesen, werden die Parameter zu Feldern umgewandelt. Das heißt es wird im Hintergrund ein Feld mit dem Namen des Parameters angelegt, welches bei Objekterzeugung mit dem Wert des Übergabeparameters gefüllt wird. Außerdem wird immer ein unsichtbarer Standard-Getter erzeugt. Wird dem Parameter `var` zugeordnet, wird zusätzlich ein rudimentärer Setter der Klasse hinzugefügt."
   ]
  },
  {
   "cell_type": "code",
   "execution_count": 2,
   "id": "prospective-season",
   "metadata": {
    "execution": {
     "iopub.execute_input": "2021-04-23T11:22+0200",
     "iopub.status.busy": "2021-04-23T11:22+0200",
     "iopub.status.idle": "2021-04-23T11:22+0200",
     "shell.execute_reply": "2021-04-23T11:22+0200",
     "shell.execute_reply.started": "2021-04-23T11:22+0200"
    },
    "tags": []
   },
   "outputs": [
    {
     "name": "stdout",
     "output_type": "stream",
     "text": [
      "Marke von a1: BMW, Farbe von a1: Gelb.\n",
      "Farbe von a1 nach Umlackierung: Rot.\n"
     ]
    }
   ],
   "source": [
    "class Auto (\n",
    "    val marke: String, //Es wird ein Feld mit dem Namen marke und ein Getter hinzugefügt und bei Erzeugung mit dem übergebenen Wert gefüllt.\n",
    "    var farbe: String, //Es wird ein Feld mit dem Namen farbe und einem Getter sowie Setter hinzugefügt und bei Erzeugung mit dem übergebenen Wert gefüllt.\n",
    "    ps: Int //Dies ist lediglich ein Übergabeparameter, der im Konstruktor verwendet werden kann.\n",
    ")\n",
    "\n",
    "val a1 = Auto (\"BMW\", \"Gelb\", 220)\n",
    "println(\"Marke von a1: ${a1.marke}, Farbe von a1: ${a1.farbe}.\") //Benutzung der Getter von marke und farbe\n",
    "//println(a1.ps) -> Error, da ps kein Feld sondern nur ein Übergabeparameter ist\n",
    "//a1.marke = \"Audi\" -> Error, da das Feld marke nicht verändert werden kann und auch keinen Setter besitzt\n",
    "a1.farbe = \"Rot\" //Aufruf des Setters von farbe. Das Feld farbe kann verändert werden, da ein Setter vorhanden ist und das Feld den Typ var besitzt\n",
    "println(\"Farbe von a1 nach Umlackierung: ${a1.farbe}.\")"
   ]
  },
  {
   "cell_type": "markdown",
   "id": "deadly-store",
   "metadata": {},
   "source": [
    "Eine weitere Möglichkeit Felder zu definieren ist klassisch zu Beginn im Rumpf der Klasse. Diese werden jedoch nicht automatisch bei Objekterzeugung, sondern mit dem angegebenen Standardwert gefüllt. Diesen wird auch je nach Typ im Hintergrund ein Getter und Setter bei Seite gestellt."
   ]
  },
  {
   "cell_type": "code",
   "execution_count": 3,
   "id": "pointed-klein",
   "metadata": {
    "execution": {
     "iopub.execute_input": "2021-04-23T11:22+0200",
     "iopub.status.busy": "2021-04-23T11:22+0200",
     "iopub.status.idle": "2021-04-23T11:22+0200",
     "shell.execute_reply": "2021-04-23T11:22+0200",
     "shell.execute_reply.started": "2021-04-23T11:22+0200"
    },
    "tags": []
   },
   "outputs": [
    {
     "name": "stdout",
     "output_type": "stream",
     "text": [
      "Marke von c1: Fuhitsu, ist c1 an?: false.\n",
      "ist c1 an?: true\n"
     ]
    }
   ],
   "source": [
    "class Computer (){\n",
    "    val marke: String = \"Fuhitsu\"\n",
    "    var istAn: Boolean = false\n",
    "}\n",
    "\n",
    "val c1 = Computer ()\n",
    "println(\"Marke von c1: ${c1.marke}, ist c1 an?: ${c1.istAn}.\") //Benutzung der Getter von marke und istAn\n",
    "// c1.marke = \"LD\" -> Error, da das Feld marke nicht verändert werden kann und auch keinen Setter besitzt\n",
    "c1.istAn = true //Aufruf des Setters von istAn. Das Feld istAn kann verändert werden, da ein Setter vorhanden ist und das Feld den Typ var besitzt\n",
    "println(\"ist c1 an?: ${c1.istAn}\")"
   ]
  },
  {
   "cell_type": "markdown",
   "id": "reasonable-sucking",
   "metadata": {},
   "source": [
    "### Konstruktor\n",
    "Mit dem Konstruktor können die Felder mit Werten bestückt werden. Aufgrund des Konstruktorwirrars in Java, unterscheidet Kotlin zwischen 2 verschiedenenen Arten:\n",
    "* primärer Konstruktor: Dieser Konstruktor muss mindestens ein Mal in jeder Klasse enthalten sein. Falls er nicht explizit definiert wird, wird ein automatisch generierter Konstruktor implizit hinzugefügt.\n",
    "* sekundärer Konstruktor: Eine Anweisung, die auf den primären Konstruktor verweist und eine alternative Handhabung des primären Konstruktors ermöglicht.\n",
    "#### Primärer Konstruktor\n",
    "Der primäre Konstruktor besitzt drei verschiedene Erscheinungsformen:\n",
    "<ul>\n",
    "    <li>Defaultkonstruktor</li>\n",
    "    <li>Konstruktor mit <code>init</code>-Block</li>\n",
    "    <li>Konstruktor durch direkte Zuweisung</li>\n",
    "</ul>\n",
    "\n",
    "Im folgenden wird auf alle Arten Bezug genommen und im Anschluss ein Vergleich angestellt.\n",
    "##### Defaultkonstruktor\n",
    "Den Defaultkonstruktor wurde bereits bei den [Feldern](#Felder) kennengelernt. Dieser wird vom Compiler für alle Parameter, die einem Variablentyp zugewiesen sind, generiert.  "
   ]
  },
  {
   "cell_type": "code",
   "execution_count": 4,
   "id": "offshore-berkeley",
   "metadata": {
    "execution": {
     "iopub.execute_input": "2021-04-23T11:22+0200",
     "iopub.status.busy": "2021-04-23T11:22+0200",
     "iopub.status.idle": "2021-04-23T11:22+0200",
     "shell.execute_reply": "2021-04-23T11:22+0200",
     "shell.execute_reply.started": "2021-04-23T11:22+0200"
    },
    "tags": []
   },
   "outputs": [
    {
     "name": "stdout",
     "output_type": "stream",
     "text": [
      "Die Flasche mit der Farbe Grau ist zu 20% gefüllt.\n"
     ]
    }
   ],
   "source": [
    "class Flasche (val farbe: String, var füllung: Int)\n",
    "val f1 = Flasche (\"Grau\", 20)\n",
    "println(\"Die Flasche mit der Farbe ${f1.farbe} ist zu ${f1.füllung}% gefüllt.\")"
   ]
  },
  {
   "cell_type": "markdown",
   "id": "catholic-greenhouse",
   "metadata": {},
   "source": [
    "##### Konstruktor mit `init`-Block\n",
    "Natürlich kann der Konstruktor auch selbst, wie in Java gewohnt, definiert werden. Dieser ist zwischen der Deklaration der Felder und den Objektmethoden anzusiedeln. Eingeleitet wird er mit dem Schlüsselwort `init` gefolgt von einem Methodenrumpf. Anders als von Java gewöhnt werden dessen Parameter nicht direkt im Kopf des Konstruktors angegeben, sondern im Kopf der Klasse. Die dort definierten Parameter können im Konstruktor benutzt werden. Bei Namenskonflikten findet wieder das Schlüsselwort `this` Anwendung, das das aktuelle Objekt referenziert."
   ]
  },
  {
   "cell_type": "code",
   "execution_count": 5,
   "id": "heard-maker",
   "metadata": {
    "execution": {
     "iopub.execute_input": "2021-04-23T11:22+0200",
     "iopub.status.busy": "2021-04-23T11:22+0200",
     "iopub.status.idle": "2021-04-23T11:22+0200",
     "shell.execute_reply": "2021-04-23T11:22+0200",
     "shell.execute_reply.started": "2021-04-23T11:22+0200"
    },
    "tags": []
   },
   "outputs": [
    {
     "name": "stdout",
     "output_type": "stream",
     "text": [
      "Bett b1: Länge 160, Breite 200, belegt false\n",
      "Bett b2: Länge 0, Breite 50, belegt true\n"
     ]
    }
   ],
   "source": [
    "class Bett (\n",
    "    laenge: Int, breite: Int, belegt: Boolean //Übergabeparameter bei Objekterzeugung. Können im init-Block verwendet werden.\n",
    "){\n",
    "    val laenge: Int\n",
    "    val breite: Int\n",
    "    var belegt: Boolean\n",
    "    \n",
    "    init { //primärer Konstruktor mit init-Block. In diesem kann auf die Parameter zugegriffen werden.\n",
    "        this.laenge = if (laenge > 0) laenge else 0\n",
    "        this.breite = if (breite > 0) breite else 0\n",
    "        this.belegt = belegt\n",
    "    }\n",
    "}\n",
    "val b1 = Bett (160, 200, false)\n",
    "val b2 = Bett (-100, 50, true)\n",
    "println(\"Bett b1: Länge ${b1.laenge}, Breite ${b1.breite}, belegt ${b1.belegt}\")\n",
    "println(\"Bett b2: Länge ${b2.laenge}, Breite ${b2.breite}, belegt ${b2.belegt}\")"
   ]
  },
  {
   "cell_type": "markdown",
   "id": "mature-passing",
   "metadata": {},
   "source": [
    "##### Konstruktor durch direkte Initialisierung\n",
    "Eine weitere Möglichkeit der Initialisierung ist die Felder direkt bei der Deklaration den Parametern oder festgelegten Werten zuzuweisen."
   ]
  },
  {
   "cell_type": "code",
   "execution_count": 6,
   "id": "canadian-paintball",
   "metadata": {
    "execution": {
     "iopub.execute_input": "2021-04-23T11:22+0200",
     "iopub.status.busy": "2021-04-23T11:22+0200",
     "iopub.status.idle": "2021-04-23T11:22+0200",
     "shell.execute_reply": "2021-04-23T11:22+0200",
     "shell.execute_reply.started": "2021-04-23T11:22+0200"
    },
    "tags": []
   },
   "outputs": [
    {
     "name": "stdout",
     "output_type": "stream",
     "text": [
      "Tisch t1: Länge 100, Breite 100, Farbe Braun\n",
      "Tisch t2: Länge 0, Breite 50, Farbe Weiß\n"
     ]
    }
   ],
   "source": [
    "class Tisch (\n",
    "    laenge: Int, breite: Int, farbe: String //Übergabeparameter bei Objekterzeugung. Können den Feldern direkt zugewiesen werden.\n",
    "){\n",
    "    val laenge: Int = if (laenge > 0) laenge else 0\n",
    "    val breite = if (breite > 0) breite else 0 //Kurzschreibweise ist zulässig. Dabei wird der Datentyp des Parameters übernommen\n",
    "    var farbe: String = farbe\n",
    "}\n",
    "\n",
    "val t1 = Tisch (100, 100, \"Braun\")\n",
    "val t2 = Tisch (-100, 50, \"Weiß\")\n",
    "println(\"Tisch t1: Länge ${t1.laenge}, Breite ${t1.breite}, Farbe ${t1.farbe}\")\n",
    "println(\"Tisch t2: Länge ${t2.laenge}, Breite ${t2.breite}, Farbe ${t2.farbe}\")"
   ]
  },
  {
   "cell_type": "markdown",
   "id": "appropriate-remainder",
   "metadata": {},
   "source": [
    "##### Vergleich\n",
    "Jede Erscheinungsform des Konstruktors hat seine Vorteile und Anwendungsbereiche. Während der Defaultkonstruktor bei einfachen Klassen, bei denen nicht mit den Übergabedaten vor der Zuweisung gearbeitet werden, zu bevorzugen ist, bieten die expliziten Konstruktoren genau das. Auf dem ersten Blick scheint es so, als benötige man den Konstruktor mit einem `init`-Block nicht, da die Parameter scheinbar mit dem gleichen Ergebnis direkt zugewiesen werden können. Jedoch ist dieser bei komplexeren Klassen zu bevorzugen, da dort alle Daten erst auf Richtigkeit geprüft werden und so beispielweise auch mit `try` und `catch` gearbeitet werden kann (näheres dazu in [Lektion X](Lektion-X---Fehlerbehandlung)).\n",
    "\n",
    "##### Kombination\n",
    "Die verschiedenen Konstruktoren können auch beliebig miteinander kombiniert werden. "
   ]
  },
  {
   "cell_type": "code",
   "execution_count": 7,
   "id": "nominated-handy",
   "metadata": {
    "execution": {
     "iopub.execute_input": "2021-04-23T11:22+0200",
     "iopub.status.busy": "2021-04-23T11:22+0200",
     "iopub.status.idle": "2021-04-23T11:22+0200",
     "shell.execute_reply": "2021-04-23T11:22+0200",
     "shell.execute_reply.started": "2021-04-23T11:22+0200"
    },
    "tags": []
   },
   "outputs": [
    {
     "name": "stdout",
     "output_type": "stream",
     "text": [
      "Stuhl s1: Länge 20, Breite 20, belegt true\n",
      "Stuhl s2: Länge 0, Breite 30, belegt false\n"
     ]
    }
   ],
   "source": [
    "class Stuhl (laenge: Int, breite: Int, var belegt: Boolean){\n",
    "    val laenge = if (laenge > 0) laenge else 0\n",
    "    val breite: Int\n",
    "    \n",
    "    init {\n",
    "        this.breite = if (breite > 0) breite else 0\n",
    "    }\n",
    "}\n",
    "val s1 = Stuhl (20, 20, true)\n",
    "val s2 = Stuhl (-20, 30, false)\n",
    "println(\"Stuhl s1: Länge ${s1.laenge}, Breite ${s1.breite}, belegt ${s1.belegt}\")\n",
    "println(\"Stuhl s2: Länge ${s2.laenge}, Breite ${s2.breite}, belegt ${s2.belegt}\")"
   ]
  },
  {
   "cell_type": "markdown",
   "id": "heard-lancaster",
   "metadata": {},
   "source": [
    "##### Mehrere primäre Konstruktoren\n",
    "Eine wichtige Eigenschaft einer Klasse fehlt aber noch: Die Erzeugung eines Objekts mit unterschiedlichen Parameterprofilen. Dazu können in der Klasse mehrere primäre Konstruktoren implementiert werden. Diesen wird das Schlüsselwort `constructor` vorangestellt. Außerdem bekommt jeder Konstruktor sein eigenes Parameterprofil, mit dem dieser dann in dessen Rumpf arbeiten kann. Die Konstruktoren ähnelm dabei dem `init`-Verfahren, da sie alle ihren eigenen Rumpf besitzen. Die Parameterklammern der Klasse werden weggelassen."
   ]
  },
  {
   "cell_type": "code",
   "execution_count": 8,
   "id": "addressed-grave",
   "metadata": {
    "execution": {
     "iopub.execute_input": "2021-04-23T11:22+0200",
     "iopub.status.busy": "2021-04-23T11:22+0200",
     "iopub.status.idle": "2021-04-23T11:22+0200",
     "shell.execute_reply": "2021-04-23T11:22+0200",
     "shell.execute_reply.started": "2021-04-23T11:22+0200"
    },
    "tags": []
   },
   "outputs": [
    {
     "name": "stdout",
     "output_type": "stream",
     "text": [
      "Konstruktor eines normalen Fensters\n",
      "Fenster fensterNormal: Länge 50, Breite 0, Zustand Gebraucht \n",
      "\n",
      "Konstruktor eines quadratischen Fensters\n",
      "Fenster fensterQuadrat: Länge 60, Breite 60, Zustand Schmutzig \n",
      "\n",
      "Konstruktor eines neuen Fensters\n",
      "Fenster fensterNeu: Länge 100, Breite 120, Zustand Neu\n"
     ]
    }
   ],
   "source": [
    "class Fenster { //Parameterklammern fehlen\n",
    "    val laenge: Int\n",
    "    val breite: Int\n",
    "    var zustand: String\n",
    "    \n",
    "    //Konstruktor eines normalen Fensters\n",
    "    constructor (laenge: Int, breite: Int, zustand: String){\n",
    "        println(\"Konstruktor eines normalen Fensters\")\n",
    "        this.laenge = if (laenge > 0) laenge else 0\n",
    "        this.breite = if (breite > 0) breite else 0\n",
    "        this.zustand = zustand\n",
    "    }\n",
    "    //Konstruktor eines quadratischen Fensters\n",
    "    constructor (laenge: Int, zustand: String){\n",
    "        println(\"Konstruktor eines quadratischen Fensters\")\n",
    "        this.laenge = if (laenge > 0) laenge else 0\n",
    "        this.breite = laenge\n",
    "        this.zustand = zustand\n",
    "    }\n",
    "    //Konstruktor eines neuen Fensters\n",
    "    constructor (laenge: Int, breite: Int){\n",
    "        println(\"Konstruktor eines neuen Fensters\")\n",
    "        this.laenge = if (laenge > 0) laenge else 0\n",
    "        this.breite = if (breite > 0) breite else 0\n",
    "        this.zustand = \"Neu\"\n",
    "    }\n",
    "}\n",
    "\n",
    "val fensterNormal = Fenster (50, -80, \"Gebraucht\")\n",
    "println(\"Fenster fensterNormal: Länge ${fensterNormal.laenge}, Breite ${fensterNormal.breite}, Zustand ${fensterNormal.zustand} \\n\")\n",
    "val fensterQuadrat = Fenster (60, \"Schmutzig\")\n",
    "println(\"Fenster fensterQuadrat: Länge ${fensterQuadrat.laenge}, Breite ${fensterQuadrat.breite}, Zustand ${fensterQuadrat.zustand} \\n\")\n",
    "val fensterNeu = Fenster (100, 120)\n",
    "println(\"Fenster fensterNeu: Länge ${fensterNeu.laenge}, Breite ${fensterNeu.breite}, Zustand ${fensterNeu.zustand}\")"
   ]
  },
  {
   "cell_type": "markdown",
   "id": "regulation-needle",
   "metadata": {},
   "source": [
    "#### Sekundärer Konstruktor\n",
    "Mit Hilfe eines sekundären Konstruktors ist es einfach möglich alternative Objekterzeugungen zu implementierten. Dazu wird ein primärer Konstruktor mit `this()` mit zu bestimmenden Parametern aufgerufen. Auch kann ein anderer sekündärer Konstruktor aufgerufen, jedoch muss am Ende ein Primärer benutzt werden, da nur dieser das Objekt erzeugen kann. Die Implementierung eines sekundären Konstruktors ähnelt der bei Benutzung mehrerer primärer Konstruktoren. Jedoch ist nur eine Anweisung erlaubt, die von den Parametern mit `:` getrennt wird. Diese muss einen Konstruktor aufrufen (`this()` oder `super()`)."
   ]
  },
  {
   "cell_type": "code",
   "execution_count": 9,
   "id": "wired-conference",
   "metadata": {
    "execution": {
     "iopub.execute_input": "2021-04-23T11:22+0200",
     "iopub.status.busy": "2021-04-23T11:22+0200",
     "iopub.status.idle": "2021-04-23T11:22+0200",
     "shell.execute_reply": "2021-04-23T11:22+0200",
     "shell.execute_reply.started": "2021-04-23T11:22+0200"
    },
    "tags": []
   },
   "outputs": [
    {
     "name": "stdout",
     "output_type": "stream",
     "text": [
      "Batterie eigeneBatterie: Kapazität 2000, Wiederaufladbar true, Ladezyklen 42, Status Gebraucht\n",
      "Batterie neueBatterie: Kapazität 3000, Wiederaufladbar false, Ladezyklen 0, Status Neu\n",
      "Batterie BBBatterie: Kapazität 2400, Wiederaufladbar false, Ladezyklen 0, Status Neu\n"
     ]
    }
   ],
   "source": [
    "//primärer Konstruktor: Defaultkonstruktor\n",
    "class Batterie (val kapazitaet: Int, val wiederaufladbar: Boolean, var ladezyklen: Int, val status: String){\n",
    "    //sekundärer Konstruktor: Neue Batterie mit Angabe von Kapazität und Wiederaufladbarkeit\n",
    "    constructor (kapazitaet: Int, wiederaufladbar: Boolean) : this(kapazitaet, wiederaufladbar, 0, \"Neu\") //Benutzt den primären Konstruktor\n",
    "    //sekundärer Konstruktor: Neue BB Einmalbatterie\n",
    "    constructor () : this(2400, false) //Benutzt den anderen sekundären Konstruktor\n",
    "}\n",
    "val eigeneBatterie = Batterie(2000, true, 42, \"Gebraucht\") //primärer Konstruktor\n",
    "println(\"Batterie eigeneBatterie: Kapazität ${eigeneBatterie.kapazitaet}, Wiederaufladbar ${eigeneBatterie.wiederaufladbar}, Ladezyklen ${eigeneBatterie.ladezyklen}, Status ${eigeneBatterie.status}\")\n",
    "val neueBatterie = Batterie(3000, false) //sekundärer Konstruktor: Neue Batterie mit Angabe von Kapazität und Wiederaufladbarkeit\n",
    "println(\"Batterie neueBatterie: Kapazität ${neueBatterie.kapazitaet}, Wiederaufladbar ${neueBatterie.wiederaufladbar}, Ladezyklen ${neueBatterie.ladezyklen}, Status ${neueBatterie.status}\")\n",
    "val BBBatterie = Batterie() //sekundärer Konstruktor: Neue BB Einmalbatterie\n",
    "println(\"Batterie BBBatterie: Kapazität ${BBBatterie.kapazitaet}, Wiederaufladbar ${BBBatterie.wiederaufladbar}, Ladezyklen ${BBBatterie.ladezyklen}, Status ${BBBatterie.status}\")"
   ]
  },
  {
   "cell_type": "markdown",
   "id": "awful-reality",
   "metadata": {},
   "source": [
    "### Aufgabe\n",
    "Implementieren Sie eine Klasse `Pizza`. Jede Pizza soll eine Größe `groeße` (zwischen 15 und 30 [cm], ansonsten -1) und eine Liste aus Belägen `belaege` (Standardmäßig bereits mit Tomatensoße und Käse befüllt) enthalten. Außerdem soll gespeichert werden, ob sie geschnitten `geschnitten` werden soll. Wählen Sie einen passenden primären Konstruktor, der für jedes Feld einen Übergabeparameter besitzt. Fügen Sie außerdem weitere (sekundäre) Konstruktoren hinzu, die eine Pizza Magaritha (Tomatensoße, Mozzarella) und eine 25cm Pizza al Tonno (Tomatensoße, Mozzarella, Thunfisch, Zwiebeln, Peperoni) initialisieren. Beide Pizzas sollen geschnitten werden."
   ]
  },
  {
   "cell_type": "code",
   "execution_count": 12,
   "id": "small-mistress",
   "metadata": {
    "execution": {
     "iopub.execute_input": "2021-04-23T11:23+0200",
     "iopub.status.busy": "2021-04-23T11:23+0200",
     "iopub.status.idle": "2021-04-23T11:23+0200",
     "shell.execute_reply": "2021-04-23T11:23+0200"
    }
   },
   "outputs": [
    {
     "name": "stderr",
     "output_type": "stream",
     "text": [
      "Line_11.jupyter.kts (5:13 - 18) Unresolved reference: Pizza\n",
      "Line_11.jupyter.kts (10:13 - 18) Unresolved reference: Pizza\n",
      "Line_11.jupyter.kts (15:13 - 18) Unresolved reference: Pizza\n",
      "Line_11.jupyter.kts (20:13 - 18) Unresolved reference: Pizza\n",
      "Line_11.jupyter.kts (25:13 - 18) Unresolved reference: Pizza\n",
      "Line_11.jupyter.kts (30:13 - 18) Unresolved reference: Pizza\n",
      "Line_11.jupyter.kts (35:13 - 18) Unresolved reference: Pizza"
     ]
    }
   ],
   "source": [
    "//TODO\n",
    "\n",
    "//Tests\n",
    "var fehler = 0\n",
    "val test1 = Pizza(25, listOf(\"Schinken\"), false)\n",
    "if( test1.groeße != 25 || test1.belaege != listOf(\"Tomatensoße\", \"Mozzarella\", \"Schinken\") || test1.geschnitten != false ){\n",
    "    fehler++\n",
    "    println(\"Fehler bei Test 1! Richtig wäre: Größe 25, Beläge [Tomatensoße, Mozzarella, Schinken], Geschnitten false \\n  Ist: Größe ${test1.groeße}, Beläge ${test1.belaege}, Geschnitten ${test1.geschnitten}\")\n",
    "}\n",
    "val test2 = Pizza(31, listOf(\"Schinken\"), false)\n",
    "if( test2.groeße != -1 || test2.belaege != listOf(\"Tomatensoße\", \"Mozzarella\", \"Schinken\") || test2.geschnitten != false ){\n",
    "    fehler++\n",
    "    println(\"Fehler bei Test 2! Richtig wäre: Größe -1, Beläge [Tomatensoße, Mozzarella, Schinken], Geschnitten false \\n  Ist: Größe ${test2.groeße}, Beläge ${test2.belaege}, Geschnitten ${test2.geschnitten}\")\n",
    "}\n",
    "val test3 = Pizza(14, listOf(\"Schinken\"), false)\n",
    "if( test3.groeße != -1 || test3.belaege != listOf(\"Tomatensoße\", \"Mozzarella\", \"Schinken\") || test3.geschnitten != false ){\n",
    "    fehler++\n",
    "    println(\"Fehler bei Test 3! Richtig wäre: Größe -1, Beläge [Tomatensoße, Mozzarella, Schinken], Geschnitten false \\n  Ist: Größe ${test3.groeße}, Beläge ${test3.belaege}, Geschnitten ${test3.geschnitten}\")\n",
    "}\n",
    "val test4 = Pizza(31, listOf(\"Schinken\"), false)\n",
    "if( test4.groeße != -1 || test4.belaege != listOf(\"Tomatensoße\", \"Mozzarella\", \"Schinken\") || test4.geschnitten != false ){\n",
    "    fehler++\n",
    "    println(\"Fehler bei Test 4! Richtig wäre: Größe -1, Beläge [Tomatensoße, Mozzarella, Schinken], Geschnitten false \\n  Ist: Größe ${test4.groeße}, Beläge ${test4.belaege}, Geschnitten ${test4.geschnitten}\")\n",
    "}\n",
    "val test5 = Pizza(28, emptyList(), true)\n",
    "if( test5.groeße != 28 || test5.belaege != listOf(\"Tomatensoße\", \"Mozzarella\") || test5.geschnitten != true ){\n",
    "    fehler++\n",
    "    println(\"Fehler bei Test 5! Richtig wäre: Größe 28, Beläge [Tomatensoße, Mozzarella], Geschnitten true \\n  Ist: Größe ${test5.groeße}, Beläge ${test5.belaege}, Geschnitten ${test5.geschnitten}\")\n",
    "}\n",
    "val test6 = Pizza(15)\n",
    "if( test6.groeße != 15 || test6.belaege != listOf(\"Tomatensoße\", \"Mozzarella\") || test6.geschnitten != true ){\n",
    "    fehler++\n",
    "    println(\"Fehler bei Test 6! Richtig wäre: Größe 15, Beläge [Tomatensoße, Mozzarella], Geschnitten true \\n  Ist: Größe ${test6.groeße}, Beläge ${test6.belaege}, Geschnitten ${test6.geschnitten}\")\n",
    "}\n",
    "val test7 = Pizza()\n",
    "if( test7.groeße != 25 || test7.belaege != listOf(\"Tomatensoße\", \"Mozzarella\", \"Thunfisch\", \"Zwiebeln\", \"Peperoni\") || test7.geschnitten != true ){\n",
    "    fehler++\n",
    "    println(\"Fehler bei Test 7! Richtig wäre: Größe 25, Beläge [Tomatensoße, Mozzarella, Thunfisch, Zwiebeln, Peperoni], Geschnitten false \\n  Ist: Größe ${test7.groeße}, Beläge ${test7.belaege}, Geschnitten ${test7.geschnitten}\")\n",
    "}\n",
    "if(fehler == 0)\n",
    "    println(\"Super! Alle Tests bestanden!\")\n",
    "else\n",
    "    println(\"Bei $fehler Tests kamen Fehler auf.\")"
   ]
  },
  {
   "cell_type": "code",
   "execution_count": 22,
   "id": "searching-working",
   "metadata": {
    "execution": {
     "iopub.execute_input": "2021-04-23T11:59+0200",
     "iopub.status.busy": "2021-04-23T11:59+0200",
     "iopub.status.idle": "2021-04-23T11:59+0200",
     "shell.execute_reply": "2021-04-23T11:59+0200"
    },
    "tags": []
   },
   "outputs": [
    {
     "name": "stderr",
     "output_type": "stream",
     "text": [
      "Line_21.jupyter.kts (50:13 - 18) None of the following functions can be called with the arguments supplied: \n",
      "public constructor Pizza(groeße: Int) defined in Line_21_jupyter.Pizza\n",
      "public constructor Pizza(groeße: Int, belaege: List<String>, geschnitten: Boolean) defined in Line_21_jupyter.Pizza"
     ]
    }
   ],
   "source": [
    "//Lösung\n",
    "class Pizza (groeße: Int, belaege: List<String>, geschnitten: Boolean){\n",
    "    val groeße: Int\n",
    "    val belaege: MutableList<String>\n",
    "    val geschnitten: Boolean\n",
    "    \n",
    "    init {\n",
    "        this.groeße = if (15 <= groeße && groeße <= 30) groeße else -1\n",
    "        this.belaege = mutableListOf(\"Tomatensoße\", \"Mozzarella\")\n",
    "        this.belaege += belaege\n",
    "        this.geschnitten = geschnitten\n",
    "    }\n",
    "    \n",
    "    constructor (groeße: Int) : this(groeße, emptyList(), true)\n",
    "    constructor () : this(25, listOf(\"Thunfisch\", \"Zwiebeln\", \"Peperoni\"), true)\n",
    "}\n",
    "\n",
    "//Tests\n",
    "var fehler = 0\n",
    "val test1 = Pizza(25, listOf(\"Schinken\"), false)\n",
    "if( test1.groeße != 25 || test1.belaege != listOf(\"Tomatensoße\", \"Mozzarella\", \"Schinken\") || test1.geschnitten != false ){\n",
    "    fehler++\n",
    "    println(\"Fehler bei Test 1! Richtig wäre: Größe 25, Beläge [Tomatensoße, Mozzarella, Schinken], Geschnitten false \\n  Ist: Größe ${test1.groeße}, Beläge ${test1.belaege}, Geschnitten ${test1.geschnitten}\")\n",
    "}\n",
    "val test2 = Pizza(31, listOf(\"Schinken\"), false)\n",
    "if( test2.groeße != -1 || test2.belaege != listOf(\"Tomatensoße\", \"Mozzarella\", \"Schinken\") || test2.geschnitten != false ){\n",
    "    fehler++\n",
    "    println(\"Fehler bei Test 2! Richtig wäre: Größe -1, Beläge [Tomatensoße, Mozzarella, Schinken], Geschnitten false \\n  Ist: Größe ${test2.groeße}, Beläge ${test2.belaege}, Geschnitten ${test2.geschnitten}\")\n",
    "}\n",
    "val test3 = Pizza(14, listOf(\"Schinken\"), false)\n",
    "if( test3.groeße != -1 || test3.belaege != listOf(\"Tomatensoße\", \"Mozzarella\", \"Schinken\") || test3.geschnitten != false ){\n",
    "    fehler++\n",
    "    println(\"Fehler bei Test 3! Richtig wäre: Größe -1, Beläge [Tomatensoße, Mozzarella, Schinken], Geschnitten false \\n  Ist: Größe ${test3.groeße}, Beläge ${test3.belaege}, Geschnitten ${test3.geschnitten}\")\n",
    "}\n",
    "val test4 = Pizza(31, listOf(\"Schinken\"), false)\n",
    "if( test4.groeße != -1 || test4.belaege != listOf(\"Tomatensoße\", \"Mozzarella\", \"Schinken\") || test4.geschnitten != false ){\n",
    "    fehler++\n",
    "    println(\"Fehler bei Test 4! Richtig wäre: Größe -1, Beläge [Tomatensoße, Mozzarella, Schinken], Geschnitten false \\n  Ist: Größe ${test4.groeße}, Beläge ${test4.belaege}, Geschnitten ${test4.geschnitten}\")\n",
    "}\n",
    "val test5 = Pizza(28, emptyList(), true)\n",
    "if( test5.groeße != 28 || test5.belaege != listOf(\"Tomatensoße\", \"Mozzarella\") || test5.geschnitten != true ){\n",
    "    fehler++\n",
    "    println(\"Fehler bei Test 5! Richtig wäre: Größe 28, Beläge [Tomatensoße, Mozzarella], Geschnitten true \\n  Ist: Größe ${test5.groeße}, Beläge ${test5.belaege}, Geschnitten ${test5.geschnitten}\")\n",
    "}\n",
    "val test6 = Pizza(15)\n",
    "if( test6.groeße != 15 || test6.belaege != listOf(\"Tomatensoße\", \"Mozzarella\") || test6.geschnitten != true ){\n",
    "    fehler++\n",
    "    println(\"Fehler bei Test 6! Richtig wäre: Größe 15, Beläge [Tomatensoße, Mozzarella], Geschnitten true \\n  Ist: Größe ${test6.groeße}, Beläge ${test6.belaege}, Geschnitten ${test6.geschnitten}\")\n",
    "}\n",
    "val test7 = Pizza()\n",
    "if( test7.groeße != 25 || test7.belaege != listOf(\"Tomatensoße\", \"Mozzarella\", \"Thunfisch\", \"Zwiebeln\", \"Peperoni\") || test7.geschnitten != true ){\n",
    "    fehler++\n",
    "    println(\"Fehler bei Test 7! Richtig wäre: Größe 25, Beläge [Tomatensoße, Mozzarella, Thunfisch, Zwiebeln, Peperoni], Geschnitten false \\n  Ist: Größe ${test7.groeße}, Beläge ${test7.belaege}, Geschnitten ${test7.geschnitten}\")\n",
    "}\n",
    "if(fehler == 0)\n",
    "    println(\"Super! Alle Tests bestanden!\")\n",
    "else\n",
    "    println(\"Bei $fehler Tests kamen Fehler auf.\")"
   ]
  },
  {
   "cell_type": "markdown",
   "id": "entitled-blackjack",
   "metadata": {},
   "source": [
    "### Getter und Setter\n",
    "Es können aber auch eigene Getter und Setter für jedes Feld definiert werden, falls der Variablentyp dies zulässt. Sie müssen direkt nach den Feld definiert werden. Auf der aktuelle Wert des Feldes kann mit `field` zugegriffen werden. Der Setter bekommt den neuen Wert als Parameter übergeben. Der Datentyp des Parameters muss nicht angegeben werden, da dieser durch das Feld gegeben ist, jedoch muss ihm ein Name zugewiesen werden, der im Rumpf den neuen Wert repräsentiert. Ein Wert wird dem Feld mit einer Zuweisung an `field` geändert. Es sind immer die Datentypen der Felder zu beachten."
   ]
  },
  {
   "cell_type": "code",
   "execution_count": 25,
   "id": "enhanced-garbage",
   "metadata": {
    "execution": {
     "iopub.execute_input": "2021-04-23T12:01+0200",
     "iopub.status.busy": "2021-04-23T12:01+0200",
     "iopub.status.idle": "2021-04-23T12:01+0200",
     "shell.execute_reply": "2021-04-23T12:01+0200",
     "shell.execute_reply.started": "2021-04-23T12:01+0200"
    },
    "tags": []
   },
   "outputs": [
    {
     "name": "stdout",
     "output_type": "stream",
     "text": [
      "Person p1: Name: Max Mustermann, Alter -1\n",
      "Person p1: Name: Max Mustermann, Alter 21\n",
      "Person p1: Name: Max Mustermann, Alter 21\n"
     ]
    }
   ],
   "source": [
    "public class Person (name: String, alter: Int){\n",
    "    val name: String = name\n",
    "        get() = \"Name: $field\" //Wird auf das Feld name zugegeriffen, wird der String \"Name: name\" zurückgegeben\n",
    "        //Kein Setter möglich, da val\n",
    "    var alter = if (alter > 0) alter else -1\n",
    "        get() = field //Standardgetter\n",
    "        set(value){ //Eigener Setter. Der neue Wert wird in value gespeichert\n",
    "            field = if (value > field) value else field //Das Feld wird auf den neuen Wert gesetzt, falls dieser größer als der Aktuelle ist.\n",
    "        }\n",
    "}\n",
    "val p1 = Person (\"Max Mustermann\", -10)\n",
    "println(\"Person p1: ${p1.name}, Alter ${p1.alter}\")\n",
    "p1.alter = 21\n",
    "println(\"Person p1: ${p1.name}, Alter ${p1.alter}\")\n",
    "p1.alter = -10\n",
    "println(\"Person p1: ${p1.name}, Alter ${p1.alter}\")"
   ]
  },
  {
   "cell_type": "markdown",
   "id": "congressional-trading",
   "metadata": {},
   "source": [
    "#### Computed Properties\n",
    "Durch die Definition eigener Getter können Felder auch kleine Methoden darstellen ohne einen eigenen Wert zu speichern. So können beispielsweise berechnete Wahrheitswerte zurückgegeben werden. Diese Handhabung kann rudimentäre Methoden ersetzen. Als Beispiel wird die bereits kennengelernte Klasse `Person` mit einem berechnetem Feld `istVolljaerig` ergänzt."
   ]
  },
  {
   "cell_type": "code",
   "execution_count": 28,
   "id": "confused-closing",
   "metadata": {
    "execution": {
     "iopub.execute_input": "2021-04-23T12:10+0200",
     "iopub.status.busy": "2021-04-23T12:10+0200",
     "iopub.status.idle": "2021-04-23T12:10+0200",
     "shell.execute_reply": "2021-04-23T12:10+0200",
     "shell.execute_reply.started": "2021-04-23T12:10+0200"
    },
    "tags": []
   },
   "outputs": [
    {
     "name": "stdout",
     "output_type": "stream",
     "text": [
      "Person p1: Name: Max Mustermann, Alter 21, Volljährig true\n"
     ]
    }
   ],
   "source": [
    "public class Person (name: String, alter: Int){\n",
    "    val name: String = name\n",
    "        get() = \"Name: $field\" //Wird auf das Feld name zugegeriffen, wird der String \"Name: name\" zurückgegeben\n",
    "        //Kein Setter möglich, da val\n",
    "    var alter = if (alter > 0) alter else -1\n",
    "        get() = field //Standardgetter\n",
    "        set(value){ //Eigener Setter. Der neue Wert wird in value gespeichert\n",
    "            field = if (value > field) value else field //Das Feld wird auf den neuen Wert gesetzt, falls dieser größer als der Aktuelle ist.\n",
    "        }\n",
    "    val istVolljaerig //Datentyp Boolean aus dem Getter\n",
    "        get() = alter > 17\n",
    "}\n",
    "val p1 = Person (\"Max Mustermann\", 21)\n",
    "println(\"Person p1: ${p1.name}, Alter ${p1.alter}, Volljährig ${p1.istVolljaerig}\")"
   ]
  },
  {
   "cell_type": "markdown",
   "id": "ideal-dealer",
   "metadata": {},
   "source": [
    "#### Lazy Properties\n",
    "Eine Variable oder ein Feld des Typs `val` kann mit dem Schlüsselwort `by lazy` träge gemacht werden. Das heißt, dass der Wert erst bei Verwendung berechnet wird. Dazu ist ein Lambda-Ausdruck nötig, dessen Ergebnis der Wert des Feldes oder der Variable ist. Wird die Variable danach noch einmal verwendet, wird der Wert jedoch nicht noch einmal berechnet, sondern der gespeicherte Wert wird verwendet.\n",
    "\n",
    "Quiz: Wie oft wird \"Wird berechnet...\" ausgegeben?"
   ]
  },
  {
   "cell_type": "code",
   "execution_count": 43,
   "id": "handled-watson",
   "metadata": {
    "execution": {
     "iopub.execute_input": "2021-04-23T13:29+0200",
     "iopub.status.busy": "2021-04-23T13:29+0200",
     "iopub.status.idle": "2021-04-23T13:29+0200",
     "shell.execute_reply": "2021-04-23T13:29+0200",
     "shell.execute_reply.started": "2021-04-23T13:29+0200"
    },
    "tags": []
   },
   "outputs": [
    {
     "name": "stdout",
     "output_type": "stream",
     "text": [
      "Volljährigkeit wird berechnet...\n",
      "true\n",
      "true\n"
     ]
    }
   ],
   "source": [
    "public class Person (name: String, alter: Int){\n",
    "    val name = name\n",
    "    var alter = alter\n",
    "    val istVolljaehrig: Boolean by lazy {\n",
    "        println(\"Wird berechnet...\")\n",
    "        alter > 18\n",
    "    }\n",
    "}\n",
    "val p1 = Person(\"Erika Musterfrau\", 32)\n",
    "println(p1.istVolljaehrig)\n",
    "println(p1.istVolljaehrig)"
   ]
  },
  {
   "cell_type": "markdown",
   "id": "ancient-bobby",
   "metadata": {},
   "source": [
    "#### `lateinit`\n",
    "Ein weiteres ähnliches Konstrukt ist `lateinit`. Dies findet Anwendung, wenn ein Feld erst nach der Objekterzeugung einen Wert zurgewiesen bekommt. Dieses Feld kann dann im Konstruktor ignoriert werden.<br />\n",
    "Vorraussetzungen:\n",
    "* Das Feld ist vom Typ `var`\n",
    "* Der Datentyp des Feldes ist nonnullable\n",
    "* Der Datentyp des Feldes ist nicht primitiv"
   ]
  },
  {
   "cell_type": "code",
   "execution_count": 50,
   "id": "completed-artwork",
   "metadata": {
    "execution": {
     "iopub.execute_input": "2021-04-23T13:36+0200",
     "iopub.status.busy": "2021-04-23T13:36+0200",
     "iopub.status.idle": "2021-04-23T13:36+0200",
     "shell.execute_reply": "2021-04-23T13:36+0200",
     "shell.execute_reply.started": "2021-04-23T13:36+0200"
    },
    "tags": []
   },
   "outputs": [
    {
     "name": "stdout",
     "output_type": "stream",
     "text": [
      "Volljährig\n"
     ]
    }
   ],
   "source": [
    "public class Person (name: String, alter: Int){\n",
    "    val name = name\n",
    "    var alter = alter\n",
    "    lateinit var istVolljaehrig: String\n",
    "    \n",
    "    fun berechneIstVolljaehrig(){\n",
    "        istVolljaehrig = if (alter > 17) \"Volljährig\" else \"Nicht Volljährig\"\n",
    "    }\n",
    "}\n",
    "val p1 = Person (\"Max Mustermann\", 30)\n",
    "//println(p1.istVolljaehrig) //Error: UninitializedPropertyAccessException: lateinit property istVolljaehrig has not been initialized\n",
    "p1.berechneIstVolljaehrig() //istVolljaehrig wird berechnet\n",
    "println(p1.istVolljaehrig)"
   ]
  },
  {
   "cell_type": "markdown",
   "id": "descending-equity",
   "metadata": {},
   "source": [
    "Einem `lateinit` Feld ist zusätzlich gespeichert, ob es bereits initialisiert wurde. Diese Information kann mit `this::name.isInitialized` abgerufen werden."
   ]
  },
  {
   "cell_type": "code",
   "execution_count": 54,
   "id": "french-dealing",
   "metadata": {
    "execution": {
     "iopub.execute_input": "2021-04-23T13:42+0200",
     "iopub.status.busy": "2021-04-23T13:42+0200",
     "iopub.status.idle": "2021-04-23T13:42+0200",
     "shell.execute_reply": "2021-04-23T13:42+0200",
     "shell.execute_reply.started": "2021-04-23T13:42+0200"
    },
    "tags": []
   },
   "outputs": [
    {
     "name": "stdout",
     "output_type": "stream",
     "text": [
      "false\n",
      "true\n"
     ]
    }
   ],
   "source": [
    "public class Person (name: String, alter: Int){\n",
    "    val name = name\n",
    "    var alter = alter\n",
    "    lateinit var istVolljaehrig: String\n",
    "    \n",
    "    fun berechneIstVolljaehrig(){\n",
    "        istVolljaehrig = if (alter > 17) \"Volljährig\" else \"Nicht Volljährig\"\n",
    "    }\n",
    "    fun istInitialisiert() = this::istVolljaehrig.isInitialized\n",
    "}\n",
    "\n",
    "val p1 = Person (\"Max Mustermann\", 30)\n",
    "println(p1.istInitialisiert())\n",
    "p1.berechneIstVolljaehrig() //istVolljaehrig wird berechnet\n",
    "println(p1.istInitialisiert())"
   ]
  },
  {
   "cell_type": "markdown",
   "id": "turkish-conflict",
   "metadata": {},
   "source": [
    "### Sichtbarkeiten\n",
    "Bis jetzt wurden alle Variablen, Felder und Klassen öffentlich implementiert. Jedoch gibt es in Kotlin wie auch in Java Sichtbarkeiten, mit denen der Zugriff eingeschränkt werden kann.\n",
    "* `private`: Das Element kann nur in der Klasse verwendet werden. \n",
    "* `protected`: Erweitertung von `private`. Zusätzlich können auf die Elemente auch in Unterklassen zugegriffen werden.\n",
    "* `internal`: Erweiterung von `protected`. Das Element kann im ganzen Modul verwendet werden. Module können sich als größere Pakete vorgestellt werden.\n",
    "* `public`: Das Element kann überall benutzt werden."
   ]
  },
  {
   "cell_type": "markdown",
   "id": "imported-finger",
   "metadata": {},
   "source": [
    "### Methoden\n",
    "Objektmethoden sind mit normalen statischen Methoden zu vergleichen. Es kann die Kurzschreibweise angewendet und eine Sichtbarkeit zugewiesen werden. Auf Objektmethoden kann, wie in Java, mit der Punktnotation zugegriffen werden. Soll eine bereits generierte Methode, zum Beispiel `toString()`, überschrieben werden, muss der Methode das Schlüsselwort `override` vorangestellt werden."
   ]
  },
  {
   "cell_type": "code",
   "execution_count": 77,
   "id": "gorgeous-realtor",
   "metadata": {
    "execution": {
     "iopub.execute_input": "2021-04-24T14:53+0200",
     "iopub.status.busy": "2021-04-24T14:53+0200",
     "iopub.status.idle": "2021-04-24T14:53+0200",
     "shell.execute_reply": "2021-04-24T14:53+0200",
     "shell.execute_reply.started": "2021-04-24T14:53+0200"
    },
    "tags": []
   },
   "outputs": [
    {
     "name": "stdout",
     "output_type": "stream",
     "text": [
      "Vor Geburtstag: Max Mustermann ist 30 Jahre alt.\n",
      "Nach Geburtstag: Max Mustermann ist 31 Jahre alt.\n"
     ]
    }
   ],
   "source": [
    "class Person(val name: String, var alter: Int){\n",
    "    fun hatGeburtstag() = alter++ //Objektmethode\n",
    "    override fun toString() = \"$name ist $alter Jahre alt.\" //Objektmethode die die Methode toString() überschreibt\n",
    "}\n",
    "\n",
    "val p1 = Person(\"Max Mustermann\", 30)\n",
    "println(\"Vor Geburtstag: $p1\")\n",
    "p1.hatGeburtstag()\n",
    "println(\"Nach Geburtstag: $p1\")"
   ]
  },
  {
   "cell_type": "markdown",
   "id": "narrow-spider",
   "metadata": {},
   "source": [
    "### Aufgabe\n",
    "Implementieren Sie eine Klasse `Parkplatzverwaltung`, die einen Parkplatz repräsentieren soll. Der Grundriss und die Belegung soll mit Hilfe einer Liste der Länge 5 verwirklicht werden. Ist ein Parkplatz belegt, so soll an diesem Eintrag `true` stehen. Benutzen Sie passende Sichtbarkeiten. Standardmäßig wird bei Erzeugung eine passendes Liste übergeben. Falls kein Parameter übergeben wird, soll ein leerer Parkplatz erstellt werden. Implementieren Sie zusätzlich eine Methode `einparken()` die die Nummer des Parkplatzes übergeben bekommt und diesen belegt falls möglich. Bei Erfolg soll `true` zurückgegebn werden, ansonsten `false`. Gehen Sie davon aus, dass nur korrekte Parameter übergeben werden. Überschreiben Sie zusätzlich die Methode `toString()`, die den Parkplatz übersichtlich nach folgendem Muster ausgegeben soll: <br />\n",
    "<p>--x-- (Parkplatz Nummer 2 ist belegt)</p>"
   ]
  },
  {
   "cell_type": "code",
   "execution_count": 120,
   "id": "tested-imaging",
   "metadata": {
    "execution": {
     "iopub.execute_input": "2021-04-24T17:18+0200",
     "iopub.status.busy": "2021-04-24T17:18+0200",
     "iopub.status.idle": "2021-04-24T17:18+0200",
     "shell.execute_reply": "2021-04-24T17:18+0200",
     "shell.execute_reply.started": "2021-04-24T17:18+0200"
    }
   },
   "outputs": [
    {
     "name": "stdout",
     "output_type": "stream",
     "text": [
      "Super! Alle Tests bestanden!\n"
     ]
    }
   ],
   "source": [
    "//TODO\n",
    "\n",
    "//Test\n",
    "var fehler = 0\n",
    "val p1 = Parkplatzverwaltung(mutableListOf(true, true, false, false, true))\n",
    "if (p1.toString() != \"xx--x\"){\n",
    "    println(\"Fehler! p1 sollte eigentlich 'xx--x' sein, ist jedoch '$p1'\")\n",
    "    fehler++\n",
    "}\n",
    "if (!p1.einparken(3)){\n",
    "    println(\"Fehler! Parkplatz Nummer 3 sollte eigentlich belegt werden können. Parkplatz: $p1\")\n",
    "    fehler++\n",
    "}\n",
    "if (p1.einparken(3)){\n",
    "    println(\"Fehler! Parkplatz Nummer 3 sollte eigentlich nicht belegt werden können. Parkplatz: $p1\")\n",
    "    fehler++\n",
    "}\n",
    "if (p1.toString() != \"xx-xx\"){\n",
    "    println(\"Fehler! p1 sollte eigentlich 'xx--x' sein, ist jedoch '$p1'\")\n",
    "    fehler++\n",
    "}\n",
    "val p2 = Parkplatzverwaltung()\n",
    "if (p2.toString() != \"-----\"){\n",
    "    println(\"Fehler! p2 sollte eigentlich '-----' sein, ist jedoch '$p2'\")\n",
    "    fehler++\n",
    "}\n",
    "if(fehler == 0)\n",
    "    println(\"Super! Alle Tests bestanden!\")\n",
    "else\n",
    "    println(\"Bei $fehler Tests kamen Fehler auf.\")"
   ]
  },
  {
   "cell_type": "code",
   "execution_count": 119,
   "id": "ordered-heath",
   "metadata": {
    "execution": {
     "iopub.execute_input": "2021-04-24T17:17+0200",
     "iopub.status.busy": "2021-04-24T17:17+0200",
     "iopub.status.idle": "2021-04-24T17:17+0200",
     "shell.execute_reply": "2021-04-24T17:17+0200",
     "shell.execute_reply.started": "2021-04-24T17:17+0200"
    },
    "tags": []
   },
   "outputs": [
    {
     "name": "stdout",
     "output_type": "stream",
     "text": [
      "Super! Alle Tests bestanden!\n"
     ]
    }
   ],
   "source": [
    "//Lösung\n",
    "class Parkplatzverwaltung(parkplatz: MutableList<Boolean>){\n",
    "    private val parkplatz: MutableList<Boolean> = parkplatz\n",
    "    \n",
    "    constructor() : this(MutableList<Boolean>(5) { false })\n",
    "    \n",
    "    fun einparken(nummer: Int): Boolean {\n",
    "        return if (!parkplatz[nummer]) {\n",
    "            parkplatz[nummer] = true\n",
    "            true\n",
    "        }\n",
    "        else {\n",
    "            false\n",
    "        }\n",
    "    } \n",
    "\n",
    "    override fun toString(): String {\n",
    "        var res = \"\"\n",
    "        parkplatz.forEach {\n",
    "            res += if (it) \"x\" else \"-\"\n",
    "        }\n",
    "        return res\n",
    "    }\n",
    "}\n",
    "\n",
    "//Test\n",
    "var fehler = 0\n",
    "val p1 = Parkplatzverwaltung(mutableListOf(true, true, false, false, true))\n",
    "if (p1.toString() != \"xx--x\"){\n",
    "    println(\"Fehler! p1 sollte eigentlich 'xx--x' sein, ist jedoch '$p1'\")\n",
    "    fehler++\n",
    "}\n",
    "if (!p1.einparken(3)){\n",
    "    println(\"Fehler! Parkplatz Nummer 3 sollte eigentlich belegt werden können. Parkplatz: $p1\")\n",
    "    fehler++\n",
    "}\n",
    "if (p1.einparken(3)){\n",
    "    println(\"Fehler! Parkplatz Nummer 3 sollte eigentlich nicht belegt werden können. Parkplatz: $p1\")\n",
    "    fehler++\n",
    "}\n",
    "if (p1.toString() != \"xx-xx\"){\n",
    "    println(\"Fehler! p1 sollte eigentlich 'xx--x' sein, ist jedoch '$p1'\")\n",
    "    fehler++\n",
    "}\n",
    "val p2 = Parkplatzverwaltung()\n",
    "if (p2.toString() != \"-----\"){\n",
    "    println(\"Fehler! p2 sollte eigentlich '-----' sein, ist jedoch '$p2'\")\n",
    "    fehler++\n",
    "}\n",
    "if(fehler == 0)\n",
    "    println(\"Super! Alle Tests bestanden!\")\n",
    "else\n",
    "    println(\"Bei $fehler Tests kamen Fehler auf.\")"
   ]
  },
  {
   "cell_type": "markdown",
   "id": "combined-satellite",
   "metadata": {},
   "source": [
    "## Lektion 2 - Datenklassen\n",
    "Zusätzlich zu normalen Klassen bietet Kotlin auch die Möglichkeit Klassen zu erstellen, die nur die Aufgabe der Speicherung von Daten haben. Auf den ersten Blick könnte dies auch mit normalen Klassen bewerkstelligt werden. Jedoch müssen dann alle Methoden per Hand implementiert werden. Beispielsweise `toString()`oder auch `equals()`. Um dem aus dem Weg zu gehen, gibt es Datenklassen. Für diese generiert der Kotlin-Compiler im Hintergrund folgende Methoden: `componentN()`, `copy()`, `equals()`, `hashCode()`, `toString()`. Gekennzeichnet werden Datenklassen mit dem Schlüsselwort `data class`."
   ]
  },
  {
   "cell_type": "code",
   "execution_count": 60,
   "id": "wicked-wisdom",
   "metadata": {
    "execution": {
     "iopub.execute_input": "2021-04-23T14:19+0200",
     "iopub.status.busy": "2021-04-23T14:19+0200",
     "iopub.status.idle": "2021-04-23T14:19+0200",
     "shell.execute_reply": "2021-04-23T14:19+0200",
     "shell.execute_reply.started": "2021-04-23T14:19+0200"
    },
    "tags": []
   },
   "outputs": [
    {
     "name": "stdout",
     "output_type": "stream",
     "text": [
      "Punkt p1: Punkt(x=0, y=0, z=0)\n",
      "p1 und p2 sind ungleich.\n"
     ]
    }
   ],
   "source": [
    "data class Punkt(val x: Int, val y: Int, val z: Int)\n",
    "val p1 = Punkt (0,0,0)\n",
    "println(\"Punkt p1: $p1\") //Verwendung der automatisch generierten toString()-Methode\n",
    "val p2 = Punkt (1,1,1)\n",
    "if (p1 == p2) //Verwendung der automatisch generierten equals()-Methode\n",
    "    println(\"p1 und p2 sind gleich.\")\n",
    "else\n",
    "    println(\"p1 und p2 sind ungleich.\")"
   ]
  },
  {
   "cell_type": "markdown",
   "id": "southern-liechtenstein",
   "metadata": {},
   "source": [
    "Durch die Verwendung der `componentN()`-Methode kann auf mehrere Felder der Datenklasse zugeggriffen werden. Dabei bekommt jedes Feld eine eigene Nummer, beispielsweise x die Nummer 1, zugewisen. Wird `N` durch die Nummer ersetzt und auf dem Objekt aufgerufen, wird das Feld zurückgegeben. Auch können dadurch mehrere Felder abgerufen werden, indem eine Folge als Rückgabe erwartet wird."
   ]
  },
  {
   "cell_type": "code",
   "execution_count": 61,
   "id": "rising-footage",
   "metadata": {
    "execution": {
     "iopub.execute_input": "2021-04-23T14:24+0200",
     "iopub.status.busy": "2021-04-23T14:24+0200",
     "iopub.status.idle": "2021-04-23T14:24+0200",
     "shell.execute_reply": "2021-04-23T14:24+0200",
     "shell.execute_reply.started": "2021-04-23T14:24+0200"
    }
   },
   "outputs": [
    {
     "name": "stdout",
     "output_type": "stream",
     "text": [
      "p1.component1(): 0\n",
      "x: 0, y: 1, z: 2\n"
     ]
    }
   ],
   "source": [
    "val p1 = Punkt (0,1,2)\n",
    "println(\"p1.component1(): ${p1.component1()}\")\n",
    "val (x, y, z) = p1\n",
    "println(\"x: $x, y: $y, z: $z\")"
   ]
  },
  {
   "cell_type": "markdown",
   "id": "dietary-graphics",
   "metadata": {},
   "source": [
    "Mit Hilfe von `copy()` kann ein neues Objekt mit den gleichen Daten erzeugt werden. Sollen bestimmte Felder aber einen anderen Wert bekommen, kann dies der Methode mit Namen des Feldes und dem gewünschten Wert übergeben werden."
   ]
  },
  {
   "cell_type": "code",
   "execution_count": 64,
   "id": "welcome-queen",
   "metadata": {
    "execution": {
     "iopub.execute_input": "2021-04-23T14:26+0200",
     "iopub.status.busy": "2021-04-23T14:26+0200",
     "iopub.status.idle": "2021-04-23T14:26+0200",
     "shell.execute_reply": "2021-04-23T14:26+0200",
     "shell.execute_reply.started": "2021-04-23T14:26+0200"
    },
    "tags": []
   },
   "outputs": [
    {
     "name": "stdout",
     "output_type": "stream",
     "text": [
      "p1: Punkt(x=0, y=1, z=2)\n",
      "p2: Punkt(x=0, y=1, z=2)\n",
      "p3: Punkt(x=4, y=1, z=2)\n"
     ]
    }
   ],
   "source": [
    "val p1 = Punkt (0,1,2)\n",
    "val p2 = p1.copy()\n",
    "println(\"p1: $p1\")\n",
    "println(\"p2: $p2\")\n",
    "val p3 = p1.copy(x=4)\n",
    "println(\"p3: $p3\")"
   ]
  },
  {
   "cell_type": "markdown",
   "id": "auburn-gilbert",
   "metadata": {},
   "source": [
    "Zusätzlich können auch weitere Felder in der Datenklasse hinzugefügt werden. Diese werden jedoch nicht bei den automatisch generierten Methoden berücksichtigt. Außerdem darf der primäre Konstruktor keine Parameter besitzen. Somit können die eigens erstellten Felder in der Klasse nur berechnet und nicht mit einem Parameter gefüllt werden."
   ]
  },
  {
   "cell_type": "code",
   "execution_count": 71,
   "id": "naked-karaoke",
   "metadata": {
    "execution": {
     "iopub.execute_input": "2021-04-23T14:44+0200",
     "iopub.status.busy": "2021-04-23T14:44+0200",
     "iopub.status.idle": "2021-04-23T14:44+0200",
     "shell.execute_reply": "2021-04-23T14:44+0200",
     "shell.execute_reply.started": "2021-04-23T14:44+0200"
    },
    "tags": []
   },
   "outputs": [
    {
     "name": "stdout",
     "output_type": "stream",
     "text": [
      "Punkt p1 ist im Ursprung: true, Punkt(x=0, y=0, z=0)\n",
      "Punkt p2 ist im Ursprung: false, Punkt(x=1, y=1, z=1)\n"
     ]
    }
   ],
   "source": [
    "data class Punkt (val x: Int, val y: Int, val z: Int){\n",
    "    val istUrsprung = x == 0 && y == 0 && z == 0\n",
    "}\n",
    "val p1 = Punkt (0,0,0)\n",
    "println(\"Punkt p1 ist im Ursprung: ${p1.istUrsprung}, $p1\")\n",
    "val p2 = Punkt (1,1,1)\n",
    "println(\"Punkt p2 ist im Ursprung: ${p2.istUrsprung}, $p2\")"
   ]
  },
  {
   "cell_type": "markdown",
   "id": "fresh-render",
   "metadata": {},
   "source": [
    "### Aufgabe - TODO"
   ]
  },
  {
   "cell_type": "markdown",
   "id": "tutorial-middle",
   "metadata": {},
   "source": [
    "## Lektion 3 - Objekte\n",
    "Eine Besonderheit von Kotlin ist, dass nicht jedes Objekt eine Klasse benötigt. Dadurch kann beispielsweise ein statisches Feld simuliert werden oder unkompliziert mehrere Daten an einem Ort zusammengefasst werden.\n",
    "### Ad-hoc Objekte\n",
    "Mit sogeannten Ad-hoc Objekten können Daten ähnlich einer Map komprimiert werden. Es kann ein Objekt erzeugt werden ohne vorher eine Klasse angelegt zu haben. Dies ist mit dem Schlüsselwort `object` einzuleiten. Wie auch einer Klasse können dem Ad-hoch Objekt Felder zugewiesen werden."
   ]
  },
  {
   "cell_type": "code",
   "execution_count": null,
   "id": "three-oregon",
   "metadata": {
    "execution": {
     "iopub.execute_input": "2021-04-24T15:17+0200",
     "iopub.status.busy": "2021-04-24T15:17+0200"
    },
    "tags": []
   },
   "outputs": [
    {
     "name": "stdout",
     "output_type": "stream",
     "text": [
      "Kotlin\n"
     ]
    }
   ],
   "source": [
    "private val satz = object {\n",
    "    val subjekt = \"Kotlin\"\n",
    "    val praedikat = \"ist\"\n",
    "    val objekt = \"Programmiersprache\"\n",
    "    val vollstaendig = \"Kotlin ist eine Programmiersprache\"\n",
    "}\n",
    "\n",
    "println(\"Das Subjekt des Satzes ${satz.vollstaendig} ist ${satz.subjekt} \")"
   ]
  },
  {
   "cell_type": "markdown",
   "id": "adequate-worry",
   "metadata": {},
   "source": [
    "### Singletons\n",
    "Singletons sind Objekte, die nur ein Mal erzeugt werden können und bis zum Ende der Ausführung bestehen. Ein solches Objekt wird mit dem Schlüsselwort `object` gekennzeichnet und kann nicht einer Variable zugewiesen werden, da es erst bei der ersten Benutzung erzeugt wird. Deswegen kann es auch nicht erzeugt werden. Dies wird automatisch beim ersten Aufruf, der in der Punktnotation mit dem Namen des Singletons erfolgt. Ein Singleton kann aus Feldern und Methoden bestehen. Ein Konstruktor kann jedoch nicht angewendet werden, da die Erzeugung ohne Übergabeparameter stattfindet."
   ]
  },
  {
   "cell_type": "code",
   "execution_count": 4,
   "id": "quarterly-picking",
   "metadata": {
    "execution": {
     "iopub.execute_input": "2021-04-24T15:27+0200",
     "iopub.status.busy": "2021-04-24T15:27+0200",
     "iopub.status.idle": "2021-04-24T15:27+0200",
     "shell.execute_reply": "2021-04-24T15:27+0200",
     "shell.execute_reply.started": "2021-04-24T15:27+0200"
    },
    "tags": []
   },
   "outputs": [
    {
     "name": "stdout",
     "output_type": "stream",
     "text": [
      "Berechnung ohne Singleton: 15\n",
      "Singleton Rechner wurde erzeugt.\n",
      "Berechnung mit Singleton: 15\n",
      "Zufallszahl des Singletons: 4\n"
     ]
    }
   ],
   "source": [
    "object Rechner {\n",
    "    val zahl: Int\n",
    "    init {\n",
    "        println(\"Singleton Rechner wurde erzeugt.\")\n",
    "        zahl = (0..10).random()\n",
    "    }\n",
    "    \n",
    "    fun addieren(a: Int, b: Int) = a + b\n",
    "}\n",
    "\n",
    "val a = 5\n",
    "val b = 10\n",
    "println(\"Berechnung ohne Singleton: ${a+b}\")\n",
    "println(\"Berechnung mit Singleton: ${Rechner.addieren(a,b)}\")\n",
    "println(\"Zufallszahl des Singletons: ${Rechner.zahl}\")"
   ]
  },
  {
   "cell_type": "markdown",
   "id": "found-premises",
   "metadata": {},
   "source": [
    "### Companion Objekte\n",
    "Einer Klasse können sogenannte Companion Objekte angehängt werden. Diese sind für alle Objekte der Klasse gleich und ähneln somit statischen Variablen oder Methoden. Sie können nur in einer Klasse implementiert werden und besitzen das Schlüsselwort `companion object`. Im Hintergrund ist ein solches Konstrukt nichts weiter als ein Singleton einer Klasse das alle Objekte verwenden können. In dem Objekt können Felder und Methoden implementiert werden.<br />\n",
    "Anstelle eines Companion Objects könnte auch eine Top-Level-Variable verwendet werden. Jedoch läge dort kein Zusammenhang zwischen den Klassen vor und die Variable könnte auch von anderen Objekten verändert werden."
   ]
  },
  {
   "cell_type": "code",
   "execution_count": 23,
   "id": "living-backing",
   "metadata": {
    "execution": {
     "iopub.execute_input": "2021-04-24T15:46+0200",
     "iopub.status.busy": "2021-04-24T15:46+0200",
     "iopub.status.idle": "2021-04-24T15:46+0200",
     "shell.execute_reply": "2021-04-24T15:46+0200",
     "shell.execute_reply.started": "2021-04-24T15:46+0200"
    },
    "tags": []
   },
   "outputs": [
    {
     "name": "stdout",
     "output_type": "stream",
     "text": [
      "Die Marikelnummer von Max ist 0.\n",
      "Die Marikelnummer von Anna ist 1.\n",
      "Die Marikelnummer von Simon ist 2.\n",
      "Die Marikelnummer von Sophie ist 3.\n"
     ]
    }
   ],
   "source": [
    "class Student(val name: String, var alter: Int){\n",
    "    companion object {\n",
    "        var zaehler = 0\n",
    "            get() = field++\n",
    "    }\n",
    "    \n",
    "    var matrikelnummer: Int\n",
    "    \n",
    "    init {\n",
    "        matrikelnummer = zaehler\n",
    "    }\n",
    "}\n",
    "\n",
    "val s1 = Student (\"Max\", 21)\n",
    "val s2 = Student (\"Anna\", 25)\n",
    "val s3 = Student (\"Simon\", 26)\n",
    "val s4 = Student (\"Sophie\", 19)\n",
    "println(\"Die Marikelnummer von ${s1.name} ist ${s1.matrikelnummer}.\")\n",
    "println(\"Die Marikelnummer von ${s2.name} ist ${s2.matrikelnummer}.\")\n",
    "println(\"Die Marikelnummer von ${s3.name} ist ${s3.matrikelnummer}.\")\n",
    "println(\"Die Marikelnummer von ${s4.name} ist ${s4.matrikelnummer}.\")"
   ]
  },
  {
   "cell_type": "markdown",
   "id": "fifth-copyright",
   "metadata": {},
   "source": [
    "Falls in einer Klasse mehrere Companion Objekte gewünscht sind, ist ab dem Zweiten das Schlüsselwort `companion` wegzulassen und außerdem ein Name anzugeben. Außerhalb der Klasse kann auf das Objekt nur durch die Klasse und nicht einem Objekt der Klasse zugegriffen werden."
   ]
  },
  {
   "cell_type": "code",
   "execution_count": 26,
   "id": "soviet-chemical",
   "metadata": {
    "execution": {
     "iopub.execute_input": "2021-04-24T15:48+0200",
     "iopub.status.busy": "2021-04-24T15:48+0200",
     "iopub.status.idle": "2021-04-24T15:48+0200",
     "shell.execute_reply": "2021-04-24T15:48+0200",
     "shell.execute_reply.started": "2021-04-24T15:48+0200"
    },
    "tags": []
   },
   "outputs": [
    {
     "name": "stdout",
     "output_type": "stream",
     "text": [
      "Die Nummer des Standard Companion Objects ist 1.\n",
      "Die Nummer des Companion Objects Zwei ist 2.\n",
      "Die Nummer des Companion Objects Drei ist 3.\n",
      "Es ist aktuell 15:48:34.186670 Uhr.\n"
     ]
    }
   ],
   "source": [
    "import java.time.LocalTime\n",
    "\n",
    "class Zahlen(){\n",
    "    companion object {\n",
    "        var nummer = 1\n",
    "            get() = field\n",
    "    }\n",
    "    object Zwei {\n",
    "        var nummer = 2\n",
    "    }\n",
    "    object Drei {\n",
    "        var nummer = 3\n",
    "    }\n",
    "    object Zeit {\n",
    "        fun gibZeit() = LocalTime.now()\n",
    "    }\n",
    "}\n",
    "\n",
    "println(\"Die Nummer des Standard Companion Objects ist ${Zahlen.nummer}.\")\n",
    "println(\"Die Nummer des Companion Objects Zwei ist ${Zahlen.Zwei.nummer}.\")\n",
    "println(\"Die Nummer des Companion Objects Drei ist ${Zahlen.Drei.nummer}.\")\n",
    "println(\"Es ist aktuell ${Zahlen.Zeit.gibZeit()} Uhr.\")"
   ]
  },
  {
   "cell_type": "markdown",
   "id": "patient-belgium",
   "metadata": {},
   "source": [
    "## Lektion 4 - Enumeration\n",
    "Mit Hilfe einer Enumeration kann ein eigener limitierter Datentyp erstellt werden, der nur gewisse Werte annehmen kann. Der Klasse wird dann das Schlüsselwort `enum` vorrangestellt. Soll ein Wert des Enums verwendet werden, muss der Name der Enumeration zusätzlich angegeben werden."
   ]
  },
  {
   "cell_type": "code",
   "execution_count": 32,
   "id": "banner-theorem",
   "metadata": {
    "execution": {
     "iopub.execute_input": "2021-04-24T16:18+0200",
     "iopub.status.busy": "2021-04-24T16:18+0200",
     "iopub.status.idle": "2021-04-24T16:18+0200",
     "shell.execute_reply": "2021-04-24T16:18+0200",
     "shell.execute_reply.started": "2021-04-24T16:18+0200"
    },
    "tags": []
   },
   "outputs": [
    {
     "name": "stdout",
     "output_type": "stream",
     "text": [
      "Der Name von montag ist MONTAG\n"
     ]
    }
   ],
   "source": [
    "enum class Wochentag {\n",
    "    MONTAG, DIENSTAG, MITTWOCH, DONNERSTAG, FREITAG, SAMSTAG, SONNTAG\n",
    "}\n",
    "\n",
    "class Tag (val name : Wochentag)\n",
    "\n",
    "val montag = Tag(Wochentag.MONTAG)\n",
    "println(\"Der Name von montag ist ${montag.name}\")"
   ]
  },
  {
   "cell_type": "markdown",
   "id": "hired-creator",
   "metadata": {},
   "source": [
    "Auf alle möglichen Werte eines Enums kann mit `values()` zugegriffen werden. Zurückgegeben wird ein Array. Soll auf das Enum-Objekt eines Strings zugegriffen werden, kann dies mit `valueOf()` mit dem String als Parameter, bewerkstelligt werden. Wird kein passendes Element gefunden, wird eine `IllegalArgumentException` geworfen."
   ]
  },
  {
   "cell_type": "code",
   "execution_count": 74,
   "id": "extended-mercy",
   "metadata": {
    "execution": {
     "iopub.execute_input": "2021-04-24T16:47+0200",
     "iopub.status.busy": "2021-04-24T16:47+0200",
     "iopub.status.idle": "2021-04-24T16:47+0200",
     "shell.execute_reply": "2021-04-24T16:47+0200",
     "shell.execute_reply.started": "2021-04-24T16:47+0200"
    },
    "tags": []
   },
   "outputs": [
    {
     "name": "stdout",
     "output_type": "stream",
     "text": [
      "Alle Einträge des Enums: MONTAG, DIENSTAG, MITTWOCH, DONNERSTAG, FREITAG, SAMSTAG, SONNTAG, \n",
      "Vollständiger Name von FREITAG: FREITAG\n"
     ]
    }
   ],
   "source": [
    "print(\"Alle Einträge des Enums: \")\n",
    "Wochentag.values().forEach { \n",
    "    print(\"$it, \")\n",
    "}\n",
    "\n",
    "println()\n",
    "println(\"Vollständiger Name von FREITAG: ${Wochentag.valueOf(\"FREITAG\")}\")"
   ]
  },
  {
   "cell_type": "markdown",
   "id": "premier-ethernet",
   "metadata": {},
   "source": [
    "Da Enums als vollständige Klassen angesehen werden, können ihnen Felder und sogar Methoden hinzugefügt werden. Sollen Felder mit einem bestimmten Wert der von dem Wert des Enums anhängt gefüllt werden, kann hinter dem Wert des Enums die Werte für den Konstruktor übergeben werden."
   ]
  },
  {
   "cell_type": "code",
   "execution_count": 77,
   "id": "controlled-celtic",
   "metadata": {
    "execution": {
     "iopub.execute_input": "2021-04-24T16:48+0200",
     "iopub.status.busy": "2021-04-24T16:48+0200",
     "iopub.status.idle": "2021-04-24T16:48+0200",
     "shell.execute_reply": "2021-04-24T16:48+0200",
     "shell.execute_reply.started": "2021-04-24T16:48+0200"
    },
    "tags": []
   },
   "outputs": [
    {
     "name": "stdout",
     "output_type": "stream",
     "text": [
      "Montag ist ein Tag des Wochenendes: false, Nummer des Tags: 1, Zufallszahl: 8\n",
      "Samstag ist ein Tag des Wochenendes: true, Nummer des Tags: 6, Zufallszahl: 8\n"
     ]
    }
   ],
   "source": [
    "enum class Wochentag (val nummer: Int){\n",
    "    MONTAG(1), DIENSTAG(2), MITTWOCH(3), DONNERSTAG(4), FREITAG(5), SAMSTAG(6), SONNTAG(7);\n",
    "    \n",
    "    val zufallszahl = (0..10).random()\n",
    "    \n",
    "    fun istWochenende() = if (this == SAMSTAG || this == SONNTAG) true else false\n",
    "}\n",
    "\n",
    "val montag = Wochentag.MONTAG\n",
    "println(\"Montag ist ein Tag des Wochenendes: ${montag.istWochenende()}, Nummer des Tags: ${montag.nummer}, Zufallszahl: ${montag.zufallszahl}\")\n",
    "val samstag = Wochentag.SAMSTAG\n",
    "println(\"Samstag ist ein Tag des Wochenendes: ${samstag.istWochenende()}, Nummer des Tags: ${samstag.nummer}, Zufallszahl: ${montag.zufallszahl}\")"
   ]
  },
  {
   "cell_type": "code",
   "execution_count": null,
   "id": "responsible-removal",
   "metadata": {},
   "outputs": [],
   "source": []
  },
  {
   "cell_type": "markdown",
   "id": "selective-forge",
   "metadata": {},
   "source": [
    "## Lektion 5 - Vererbung\n",
    "In Kotlin kann nicht von einer beliebigen Klasse geerbt werden. Diese muss als Vorraussetzung den Vorsatz `open` besitzen. Dies signaliesiert, dass eine Vererbung stattfinden darf. Der Namen der Klasse, von der geerbt werden soll, ist mit einem `:` getrennt hinter den Parameterklammern der erbenden Klasse zu schreiben. Dem Konstruktor der super-Klasse werden die Parameter direkt im Kopf der Klasse übergeben. "
   ]
  },
  {
   "cell_type": "code",
   "execution_count": 11,
   "id": "figured-entrepreneur",
   "metadata": {
    "execution": {
     "iopub.execute_input": "2021-04-25T12:04+0200",
     "iopub.status.busy": "2021-04-25T12:04+0200",
     "iopub.status.idle": "2021-04-25T12:04+0200",
     "shell.execute_reply": "2021-04-25T12:04+0200",
     "shell.execute_reply.started": "2021-04-25T12:04+0200"
    },
    "tags": []
   },
   "outputs": [
    {
     "name": "stdout",
     "output_type": "stream",
     "text": [
      "p1: Ich bin Max Mustermann und bin 25 Jahre alt.\n",
      "s1: Ich bin Erika Mustermann, bin 21 Jahre alt und besitze die Matrikelnummer 0.\n"
     ]
    }
   ],
   "source": [
    "open class Person(val name: String, var alter: Int){\n",
    "    override fun toString() = \"Ich bin $name und bin $alter Jahre alt.\"\n",
    "}\n",
    "\n",
    "class Student(name: String, alter: Int) : Person (name, alter){\n",
    "    companion object {\n",
    "        var zaehler = 0\n",
    "            get() = field++\n",
    "    }\n",
    "    val matrikelnummer = zaehler\n",
    "    \n",
    "    override fun toString() = \"Ich bin $name, bin $alter Jahre alt und besitze die Matrikelnummer $matrikelnummer.\"\n",
    "}\n",
    "\n",
    "val p1 = Person (\"Max Mustermann\", 25)\n",
    "val s1 = Student (\"Erika Mustermann\", 21)\n",
    "println(\"p1: $p1\")\n",
    "println(\"s1: $s1\")"
   ]
  },
  {
   "cell_type": "markdown",
   "id": "shared-oregon",
   "metadata": {},
   "source": [
    "### Felder und Methoden überschreiben\n",
    "Sollen Felder oder Methoden der super-Klasse in der sub-Klasse überschrieben werden, müssen diese auch mit `open` gekennzeichnet werden. Erst dann ist es möglich das gleiche Feld oder die gleiche Methode in der sub-Klasse mit dem Zusatz `override` zu definieren. Soll auf das Feld oder die Methode der Oberklasse zugegriffen werden, findet das Schlüsselwort `super` Anwendung. Bei Mehrfachvererbung wird die nächst höhere Klasse angesprochen."
   ]
  },
  {
   "cell_type": "code",
   "execution_count": 20,
   "id": "affected-mathematics",
   "metadata": {
    "execution": {
     "iopub.execute_input": "2021-04-25T12:15+0200",
     "iopub.status.busy": "2021-04-25T12:15+0200",
     "iopub.status.idle": "2021-04-25T12:15+0200",
     "shell.execute_reply": "2021-04-25T12:15+0200",
     "shell.execute_reply.started": "2021-04-25T12:15+0200"
    },
    "tags": []
   },
   "outputs": [
    {
     "name": "stdout",
     "output_type": "stream",
     "text": [
      "p1: Ich bin Max Mustermann und bin 25 Jahre alt. Für die Horde!\n",
      "Max Mustermann hat Geburtstag. Alles Gute!\n",
      "p1: Ich bin Max Mustermann und bin 26 Jahre alt. Für die Horde!\n",
      "s1: Ich bin Erika Mustermann, bin 21 Jahre alt und habe die Matrikelnummer 0. Für die Allianz! Oder vielleicht doch: Für die Horde!?\n",
      "Erika Mustermann hat Geburtstag. Alles Gute!\n",
      "s1: Ich bin Erika Mustermann, bin 20 Jahre alt und habe die Matrikelnummer 0. Für die Allianz! Oder vielleicht doch: Für die Horde!?\n"
     ]
    }
   ],
   "source": [
    "open class Person(val name: String, var alter: Int){\n",
    "    open val schlachtruf\n",
    "        get() = \"Für die Horde!\"\n",
    "    \n",
    "    open fun hatGeburtstag() {\n",
    "        println(\"$name hat Geburtstag. Alles Gute!\")\n",
    "        alter++\n",
    "    } \n",
    "    override fun toString() = \"Ich bin $name und bin $alter Jahre alt. $schlachtruf\"\n",
    "}\n",
    "\n",
    "class Student(name: String, alter: Int) : Person (name, alter){\n",
    "    companion object {\n",
    "        var zaehler = 0\n",
    "            get() = field++\n",
    "    }\n",
    "    val matrikelnummer = zaehler\n",
    "    \n",
    "    override val schlachtruf\n",
    "        get() = \"Für die Allianz!\"\n",
    "    \n",
    "    override fun hatGeburtstag() {\n",
    "        println(\"$name hat Geburtstag. Alles Gute!\")\n",
    "        alter--\n",
    "    } \n",
    "    \n",
    "    override fun toString() = \"Ich bin $name, bin $alter Jahre alt und habe die Matrikelnummer $matrikelnummer. $schlachtruf Oder vielleicht doch: ${super.schlachtruf}?\"\n",
    "}\n",
    "\n",
    "val p1 = Person (\"Max Mustermann\", 25)\n",
    "val s1 = Student (\"Erika Mustermann\", 21)\n",
    "println(\"p1: $p1\")\n",
    "p1.hatGeburtstag()\n",
    "println(\"p1: $p1\")\n",
    "println(\"s1: $s1\")\n",
    "s1.hatGeburtstag()\n",
    "println(\"s1: $s1\")"
   ]
  },
  {
   "cell_type": "markdown",
   "id": "dynamic-norfolk",
   "metadata": {},
   "source": [
    "### Sekundäre Konstruktoren\n",
    "Wir sind bis jetzt von dem einfachen Fall ausgegangen, dass die Unterklasse einen primären Konstruktor besitzt. Jedoch gibt es auch die Möglichkeit diese nut mit sekunären Konstruktoren auszustatten. Diese müssen jedoch immer den primären Konstruktor der Oberklasse aufrufen."
   ]
  },
  {
   "cell_type": "code",
   "execution_count": 3,
   "id": "touched-security",
   "metadata": {
    "execution": {
     "iopub.execute_input": "2021-04-25T12:31+0200",
     "iopub.status.busy": "2021-04-25T12:31+0200",
     "iopub.status.idle": "2021-04-25T12:31+0200",
     "shell.execute_reply": "2021-04-25T12:31+0200",
     "shell.execute_reply.started": "2021-04-25T12:31+0200"
    },
    "tags": []
   },
   "outputs": [
    {
     "name": "stdout",
     "output_type": "stream",
     "text": [
      "Punkt p1: x: 4, y: 2, z: 8\n",
      "Punkt p2: x: 0, y: 0, z: 0\n"
     ]
    }
   ],
   "source": [
    "open class Punkt2D (val x: Int, val y: Int){\n",
    "    override fun toString() = \"x: $x, y: $y\"\n",
    "}\n",
    "\n",
    "class Punkt3D : Punkt2D{\n",
    "    val z: Int\n",
    "    \n",
    "    //sekundäre Konstruktoren\n",
    "    constructor (x: Int, y: Int, z: Int) : super (x, y) {\n",
    "        this.z = z\n",
    "    }\n",
    "    constructor () : super (0, 0) {\n",
    "        this.z = 0\n",
    "    }\n",
    "    \n",
    "    override fun toString() = \"${super.toString()}, z: $z\"\n",
    "}\n",
    "\n",
    "val p1 = Punkt3D (4, 2, 8)\n",
    "println(\"Punkt p1: $p1\")\n",
    "val p2 = Punkt3D()\n",
    "println(\"Punkt p2: $p2\")"
   ]
  },
  {
   "cell_type": "markdown",
   "id": "familiar-metadata",
   "metadata": {},
   "source": [
    "### Abstrakte Klassen\n",
    "Das Konzept der abtrakten Klasse sollte bereits aus Java bekannt sein. Auch in Kotlin gibt es die Möglichkeit unintiierbare Klassen mit abstrakten Methoden zu implementieren. Diesen wird das Schlüsselwort `abstract` vorangestellt und können ohne Probleme geerbt werden. Die Subklassen müssen jedoch die Methoden vervollständigen."
   ]
  },
  {
   "cell_type": "code",
   "execution_count": 8,
   "id": "imported-notebook",
   "metadata": {
    "execution": {
     "iopub.execute_input": "2021-04-25T12:42+0200",
     "iopub.status.busy": "2021-04-25T12:42+0200",
     "iopub.status.idle": "2021-04-25T12:42+0200",
     "shell.execute_reply": "2021-04-25T12:42+0200",
     "shell.execute_reply.started": "2021-04-25T12:42+0200"
    },
    "tags": []
   },
   "outputs": [
    {
     "name": "stdout",
     "output_type": "stream",
     "text": [
      "Laptop wurde eingeschalten.\n",
      "Standcomputer wurde eingeschalten.\n"
     ]
    }
   ],
   "source": [
    "abstract class Computer (val kerne: Int, val farbe: String){\n",
    "    var istAn = false\n",
    "    abstract fun einschalten()\n",
    "}\n",
    "\n",
    "class Laptop (kerne: Int, farbe: String, val hatTouchscreen: Boolean) : Computer(kerne, farbe){\n",
    "    var istAufgeklappt = false\n",
    "    override fun einschalten() {\n",
    "        if (!istAufgeklappt) \n",
    "            istAufgeklappt = true\n",
    "        istAn = true\n",
    "        println(\"Laptop wurde eingeschalten.\")\n",
    "    }\n",
    "}\n",
    "\n",
    "class Standcomputer (kerne: Int, farbe: String) : Computer(kerne, farbe){\n",
    "    override fun einschalten() {\n",
    "        istAn = true\n",
    "        println(\"Standcomputer wurde eingeschalten.\")\n",
    "    }\n",
    "}\n",
    "\n",
    "//val c1 = Computer (8, \"Schwarz\") -> Error: Cannot create an instance of an abstract class\n",
    "val l1 = Laptop(6, \"Rot\", false)\n",
    "l1.einschalten()\n",
    "val s1 = Standcomputer(12, \"Weiß\")\n",
    "s1.einschalten()"
   ]
  },
  {
   "cell_type": "markdown",
   "id": "available-august",
   "metadata": {},
   "source": [
    "### Geschlossene Klassen\n",
    "Eine geschlossene Klasse ist eine besondere abstrakte Klasse. Ihr wird das Schlüsselwort `sealed` vorangestellt und sie besitzt einen privaten Konstruktor. Außerdem darf von der Klasse nur in der Datei geerbt werden. Dieses Konstrukt ist somit eine Alternative zu einer Enumeration. Da alle Subtypen bekannt sind, kann bei Verwendung einer `when`-Verzweifung der default-Fall weggelassen werden."
   ]
  },
  {
   "cell_type": "code",
   "execution_count": 14,
   "id": "fancy-anatomy",
   "metadata": {
    "execution": {
     "iopub.execute_input": "2021-04-25T15:59+0200",
     "iopub.status.busy": "2021-04-25T15:59+0200",
     "iopub.status.idle": "2021-04-25T15:59+0200",
     "shell.execute_reply": "2021-04-25T15:59+0200"
    },
    "tags": []
   },
   "outputs": [
    {
     "name": "stderr",
     "output_type": "stream",
     "text": [
      "Line_13.jupyter.kts (2:41 - 47) Cannot access '<init>': it is private in 'Fehler'\n",
      "Line_13.jupyter.kts (2:41 - 47) This type is sealed, so it can be inherited by only its own nested classes or objects\n",
      "Line_13.jupyter.kts (3:27 - 29) Data class must have at least one primary constructor parameter\n",
      "Line_13.jupyter.kts (3:32 - 38) Cannot access '<init>': it is private in 'Fehler'\n",
      "Line_13.jupyter.kts (3:32 - 38) This type is sealed, so it can be inherited by only its own nested classes or objects\n",
      "Line_13.jupyter.kts (4:26 - 28) Data class must have at least one primary constructor parameter\n",
      "Line_13.jupyter.kts (4:31 - 37) Cannot access '<init>': it is private in 'Fehler'\n",
      "Line_13.jupyter.kts (4:31 - 37) This type is sealed, so it can be inherited by only its own nested classes or objects\n",
      "Line_13.jupyter.kts (9:8 - 22) Incompatible types: Line_13_jupyter.Laufzeitfehler and Line_13_jupyter.Kompilierfehler\n",
      "Line_13.jupyter.kts (10:5 - 23) Check for instance is always 'true'\n",
      "Line_13.jupyter.kts (11:8 - 22) Incompatible types: Line_13_jupyter.Referenzfehler and Line_13_jupyter.Kompilierfehler"
     ]
    }
   ],
   "source": [
    "//Kotlin Fehelr??\n",
    "\n",
    "sealed class Fehler\n",
    "data class Laufzeitfehler(val f: Int) : Fehler()\n",
    "data class Kompilierfehler() : Fehler()\n",
    "data class Referenzfehler() : Fehler()\n",
    "\n",
    "val f1 = Kompilierfehler()\n",
    "\n",
    "when (f1){\n",
    "    is Laufzeitfehler -> println(\"Es ist ein Laufzeitfehler aufgetreten.\")\n",
    "    is Kompilierfehler -> println(\"Es ist ein Kompilierfehler aufgetreten.\")\n",
    "    is Referenzfehler -> println(\"Es ist ein Referenzfehler aufgetreten.\")\n",
    "}"
   ]
  },
  {
   "cell_type": "markdown",
   "id": "photographic-offense",
   "metadata": {},
   "source": [
    "## Lektion 6 - Schnittstellen\n",
    "Ein wichtiges objektorientiertes Konzept ist das der Schnittstelle. Ein bekanntes Beispiel ist hier das `Comparable`-Interface, das eine `compareTo()`-Methode vorschreibt. Aber anstelle des Vorschreibens von Methoden können auch Zugriffe definiert werden. Eine Schnittstelle hat das Schlüsselwort `interface` und wird bei der implementierenden Klasse ähnlich zur Vererbung angegeben. In einem Interface können sowohl Methoden voll implementiert oder nur deren Kopf angegeben werden, sodass diese von jeder Klasse selbst vervollständigt werden muss. Außerdem können sie auch Felder beinhalten.\n",
    "Kotlin bietet bereits einige vorimplementierte Schnittstellen an:\n",
    "\n",
    "<table style=\"font-size:16px\">\n",
    "<thead>\n",
    "  <tr>\n",
    "    <th>Name</th>\n",
    "    <th>Funktion</th>\n",
    "  </tr>\n",
    "</thead>\n",
    "<tbody>\n",
    "  <tr>\n",
    "    <td>Appendable</td>\n",
    "    <td>append()</td>\n",
    "  </tr>\n",
    "  <tr>\n",
    "    <td>Closeable</td>\n",
    "    <td>close()</td>\n",
    "  </tr>\n",
    "  <tr>\n",
    "    <td>Compareable</td>\n",
    "    <td>compare()</td>\n",
    "  </tr>\n",
    "  <tr>\n",
    "    <td>Iterable</td>\n",
    "    <td>Verarbeitung der Elemente in einer Schleife</td>\n",
    "  </tr>\n",
    "  <tr>\n",
    "    <td>Collection</td>\n",
    "    <td>allgemeine Aufzählung</td>\n",
    "  </tr>\n",
    "  <tr>\n",
    "    <td>List</td>\n",
    "    <td>Liste</td>\n",
    "  </tr>\n",
    "  <tr>\n",
    "    <td>Map</td>\n",
    "    <td>Dictionary</td>\n",
    "  </tr>\n",
    "  <tr>\n",
    "    <td>Set</td>\n",
    "    <td>Menge</td>\n",
    "  </tr>\n",
    "</tbody>\n",
    "</table>"
   ]
  },
  {
   "cell_type": "code",
   "execution_count": 22,
   "id": "material-edgar",
   "metadata": {
    "execution": {
     "iopub.execute_input": "2021-04-25T16:20+0200",
     "iopub.status.busy": "2021-04-25T16:20+0200",
     "iopub.status.idle": "2021-04-25T16:20+0200",
     "shell.execute_reply": "2021-04-25T16:20+0200",
     "shell.execute_reply.started": "2021-04-25T16:20+0200"
    },
    "tags": []
   },
   "outputs": [
    {
     "name": "stdout",
     "output_type": "stream",
     "text": [
      "rechner.dieZahl: 42\n",
      "rechner.add2(5,3): 8\n",
      "rechner.add3(5,9,3): 17\n"
     ]
    }
   ],
   "source": [
    "interface Addition {\n",
    "    val dieZahl: Int\n",
    "    \n",
    "    fun add2(a: Int, b: Int): Int\n",
    "    fun add3(a: Int, b: Int, c: Int) = a + b + c\n",
    "}\n",
    "\n",
    "class Rechner : Addition {\n",
    "    override val dieZahl = 42\n",
    "    override fun add2(a: Int, b: Int) = a + b\n",
    "}\n",
    "\n",
    "val rechner = Rechner()\n",
    "println(\"rechner.dieZahl: ${rechner.dieZahl}\")\n",
    "println(\"rechner.add2(5,3): ${rechner.add2(5,3)}\")\n",
    "println(\"rechner.add3(5,9,3): ${rechner.add3(5,9,3)}\")"
   ]
  },
  {
   "cell_type": "markdown",
   "id": "agricultural-navigator",
   "metadata": {},
   "source": [
    "## Lektion 7 - Generizität\n",
    "### Generische Klassen\n",
    "Bei manchen Softwareprojekten kommt man um generische Klassen nicht vorbei, falls mehrfache Arbeit vermieden werden soll. An sich unterscheiden sich die Unterschiede von solchen Klassen in Kotlin und Java nicht. Der generische Datentyp wird nach dem Klassennamen in `<>` angegeben und kann in der Klasse anstelle normalen Datentypen eingesetzt werden."
   ]
  },
  {
   "cell_type": "code",
   "execution_count": 26,
   "id": "excited-opportunity",
   "metadata": {
    "execution": {
     "iopub.execute_input": "2021-04-25T16:36+0200",
     "iopub.status.busy": "2021-04-25T16:36+0200",
     "iopub.status.idle": "2021-04-25T16:36+0200",
     "shell.execute_reply": "2021-04-25T16:36+0200",
     "shell.execute_reply.started": "2021-04-25T16:36+0200"
    },
    "tags": []
   },
   "outputs": [
    {
     "name": "stdout",
     "output_type": "stream",
     "text": [
      "s1: Speicher(platz1=1, platz2=2, platz3=3)\n",
      "s2: Speicher(platz1=[1, 2, 3], platz2=[1, 2, 3], platz3=[1, 2, 3])\n",
      "s3: Speicher(platz1=Kotlin, platz2=Java, platz3=C)\n"
     ]
    }
   ],
   "source": [
    "data class Speicher<T> (var platz1: T, var platz2: T, var platz3: T)\n",
    "\n",
    "val s1 = Speicher(1,2,3)\n",
    "val s2 = Speicher(listOf(1,2,3),listOf(1,2,3),listOf(1,2,3))\n",
    "val s3 = Speicher(\"Kotlin\",\"Java\",\"C\")\n",
    "println(\"s1: $s1\")\n",
    "println(\"s2: $s2\")\n",
    "println(\"s3: $s3\")"
   ]
  },
  {
   "cell_type": "markdown",
   "id": "graphic-plasma",
   "metadata": {},
   "source": [
    "Soll der generische Datentyp eingeschränkt werden, kann dies durch ein Interface passieren. Dieses gibt vor welche Methoden der Datentyp implementieren muss."
   ]
  },
  {
   "cell_type": "code",
   "execution_count": 37,
   "id": "dated-separation",
   "metadata": {
    "execution": {
     "iopub.execute_input": "2021-04-25T16:49+0200",
     "iopub.status.busy": "2021-04-25T16:49+0200",
     "iopub.status.idle": "2021-04-25T16:49+0200",
     "shell.execute_reply": "2021-04-25T16:49+0200",
     "shell.execute_reply.started": "2021-04-25T16:49+0200"
    },
    "tags": []
   },
   "outputs": [
    {
     "name": "stdout",
     "output_type": "stream",
     "text": [
      "gleichheitstestInt.istGleich(3,3): true\n",
      "gleichheitstestInt.istGleich(10,3): false\n",
      "gleichheitstestString.istGleich('Kotlin','Kotlin'): true\n"
     ]
    }
   ],
   "source": [
    "class Gleichheitstest<T: Comparable<T>>{\n",
    "    fun istGleich(a: T, b: T) = if(a.compareTo(b) == 0) true else false\n",
    "}\n",
    "val gleichheitstestInt = Gleichheitstest<Int>()\n",
    "println(\"gleichheitstestInt.istGleich(3,3): ${gleichheitstestInt.istGleich(3,3)}\")\n",
    "println(\"gleichheitstestInt.istGleich(10,3): ${gleichheitstestInt.istGleich(10,3)}\")\n",
    "val gleichheitstestString = Gleichheitstest<String>()\n",
    "println(\"gleichheitstestString.istGleich('Kotlin','Kotlin'): ${gleichheitstestString.istGleich(\"Kotlin\",\"Kotlin\")}\")"
   ]
  },
  {
   "cell_type": "markdown",
   "id": "revolutionary-newspaper",
   "metadata": {},
   "source": [
    "### Generische Funktionen\n",
    "Generizität findet aber nicht nur bei Klassen, sondern auch bei Funktionen Anwendung. Jedoch wird hier der generische Typ vor dem Namen der Funktion angegeben. Bei Aufruf der Methode muss der Typ nicht angegeben werden, sondern wird vom Kompiler erkannt."
   ]
  },
  {
   "cell_type": "code",
   "execution_count": 38,
   "id": "interracial-kitchen",
   "metadata": {
    "execution": {
     "iopub.execute_input": "2021-04-25T16:49+0200",
     "iopub.status.busy": "2021-04-25T16:49+0200",
     "iopub.status.idle": "2021-04-25T16:49+0200",
     "shell.execute_reply": "2021-04-25T16:49+0200",
     "shell.execute_reply.started": "2021-04-25T16:49+0200"
    },
    "tags": []
   },
   "outputs": [
    {
     "name": "stdout",
     "output_type": "stream",
     "text": [
      "istGleich(3,3): true\n",
      "istGleich('Kotlin','Kotlin'): true\n"
     ]
    }
   ],
   "source": [
    "fun <T: Comparable<T>> istGleich(a: T, b: T) = if(a.compareTo(b) == 0) true else false\n",
    "println(\"istGleich(3,3): ${istGleich(3,3)}\")\n",
    "println(\"istGleich('Kotlin','Kotlin'): ${istGleich(\"Kotlin\",\"Kotlin\")}\")"
   ]
  },
  {
   "cell_type": "markdown",
   "id": "quantitative-commodity",
   "metadata": {},
   "source": [
    "### Generische Erweiterungsfunktionen\n",
    "Erweiterungsfunktionen einer bestimmten Klasse wurden bereits in Abschnitt 1 kennengelernt. Dieses Konzept kann aber auch auf generische Klassen übertragen werden. So können beispielsweise einer generischen Liste neue Methoden hinzugefügt werden."
   ]
  },
  {
   "cell_type": "code",
   "execution_count": 46,
   "id": "stock-extent",
   "metadata": {
    "execution": {
     "iopub.execute_input": "2021-04-25T17:01+0200",
     "iopub.status.busy": "2021-04-25T17:01+0200",
     "iopub.status.idle": "2021-04-25T17:01+0200",
     "shell.execute_reply": "2021-04-25T17:01+0200",
     "shell.execute_reply.started": "2021-04-25T17:01+0200"
    },
    "tags": []
   },
   "outputs": [
    {
     "name": "stdout",
     "output_type": "stream",
     "text": [
      "Entferntes Element: 1\n",
      "liste: [3, 6, 8, 10]\n"
     ]
    }
   ],
   "source": [
    "fun <T: Comparable<T>> MutableList<T>.entferneMinimum(): T?{\n",
    "    val min = minOrNull()\n",
    "    return if (min != null){\n",
    "        remove(min)\n",
    "        min\n",
    "    }\n",
    "    else {\n",
    "        null\n",
    "    }\n",
    "}\n",
    "\n",
    "val liste = mutableListOf(3,6,1,8,10)\n",
    "println(\"Entferntes Element: ${liste.entferneMinimum()}\")\n",
    "println(\"liste: $liste\")"
   ]
  },
  {
   "cell_type": "markdown",
   "id": "enormous-simon",
   "metadata": {},
   "source": [
    "## Lektion 8 - Fehlerbehandlung"
   ]
  },
  {
   "cell_type": "code",
   "execution_count": null,
   "id": "visible-aquarium",
   "metadata": {},
   "outputs": [],
   "source": []
  }
 ],
 "metadata": {
  "kernelspec": {
   "display_name": "Kotlin",
   "language": "kotlin",
   "name": "kotlin"
  },
  "language_info": {
   "codemirror_mode": "text/x-kotlin",
   "file_extension": ".kt",
   "mimetype": "text/x-kotlin",
   "name": "kotlin",
   "pygments_lexer": "kotlin",
   "version": "1.5.0-dev-1206"
  }
 },
 "nbformat": 4,
 "nbformat_minor": 5
}
