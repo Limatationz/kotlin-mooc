{
 "cells": [
  {
   "cell_type": "code",
   "execution_count": 2,
   "metadata": {
    "execution": {
     "iopub.execute_input": "2021-04-26T20:51+0200",
     "iopub.status.busy": "2021-04-26T20:51+0200",
     "iopub.status.idle": "2021-04-26T20:51+0200",
     "shell.execute_reply": "2021-04-26T20:51+0200",
     "shell.execute_reply.started": "2021-04-26T20:51+0200"
    }
   },
   "outputs": [
    {
     "name": "stdout",
     "output_type": "stream",
     "text": [
      "Hello world\n"
     ]
    }
   ],
   "source": [
    "println(\"Hello world\")"
   ]
  },
  {
   "cell_type": "code",
   "execution_count": 1,
   "metadata": {
    "execution": {
     "iopub.execute_input": "2021-04-26T20:51+0200",
     "iopub.status.busy": "2021-04-26T20:51+0200",
     "iopub.status.idle": "2021-04-26T20:51+0200",
     "shell.execute_reply": "2021-04-26T20:51+0200",
     "shell.execute_reply.started": "2021-04-26T20:51+0200"
    },
    "tags": []
   },
   "outputs": [
    {
     "name": "stdout",
     "output_type": "stream",
     "text": [
      "Hallo\n",
      "Welt\n"
     ]
    }
   ],
   "source": [
    "val liste = listOf(\"Hallo\", \"Welt\")\n",
    "\n",
    "for (i in liste){\n",
    "    println(i)\n",
    "}"
   ]
  },
  {
   "cell_type": "code",
   "execution_count": null,
   "metadata": {},
   "outputs": [],
   "source": []
  }
 ],
 "metadata": {
  "kernelspec": {
   "display_name": "Kotlin",
   "language": "kotlin",
   "name": "kotlin"
  },
  "language_info": {
   "codemirror_mode": "text/x-kotlin",
   "file_extension": ".kt",
   "mimetype": "text/x-kotlin",
   "name": "kotlin",
   "pygments_lexer": "kotlin",
   "version": "1.5.0-dev-1206"
  }
 },
 "nbformat": 4,
 "nbformat_minor": 4
}
