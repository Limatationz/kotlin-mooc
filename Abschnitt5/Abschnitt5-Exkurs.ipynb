{
 "cells": [
  {
   "cell_type": "markdown",
   "id": "20470ccd-e092-44e7-a275-3ba19142bcb7",
   "metadata": {},
   "source": [
    "<h1>Exkurs: Koroutinen</h1>\n",
    "<p>Wie angekündigt wird der Zugriff auf die Datenbank über ein <i>Repository</i> stattfinden. Dieses verwaltet den Zugriff auf die Datenbank und später das Internet. Da diese Operationen einige Zeit in Anspruch nehmen können, werden  beziehungsweise müssen diese asynchron durchgeführt werden. In Kotlin stehen dafür <i>Coroutines</i> bereit, die in diesem Exkurs rudimentär eingeführt werden. Die Anweisungen führt ein neuer Thread aus, der entweder eigenständig oder mit dem Hauptthread interagieren kann. Ein Vorteil ist, dass der Hauptthread durch die Operationen nicht blockiert wird und seine Berechnungen weiterführen kann. Um sie in Notebooks zu verwenden, muss zunächst die zugehörige Bibliothek importiert werden:</p>\n",
    "\n",
    "<blockquote><code>@file:DependsOn(\"org.jetbrains.kotlinx:kotlinx-coroutines-core:1.5.0\")\n",
    "import kotlinx.coroutines.*</code></blockquote>\n",
    "\n",
    "<p>Es folgt ein einfaches Einführungsbeispiel:</p>"
   ]
  },
  {
   "cell_type": "code",
   "execution_count": 1,
   "id": "b6b2aeab-d1de-428f-a879-0aaeaa5d37bd",
   "metadata": {},
   "outputs": [
    {
     "name": "stdout",
     "output_type": "stream",
     "text": [
      "Hauptthread\n",
      "Coroutine 0\n",
      "Coroutine 1\n",
      "Coroutine 2\n",
      "Coroutine 3\n",
      "Coroutine 4\n"
     ]
    }
   ],
   "source": [
    "@file:DependsOn(\"org.jetbrains.kotlinx:kotlinx-coroutines-core:1.5.0\")\n",
    "import kotlinx.coroutines.*\n",
    "\n",
    "GlobalScope.launch { //Startet die Koroutine\n",
    "    var i = 0\n",
    "    while(i < 5){\n",
    "        println(\"Coroutine $i\")\n",
    "        delay(100L)\n",
    "        i++\n",
    "    }\n",
    "}\n",
    "println(\"Hauptthread\")\n",
    "Thread.sleep(2000L) //Hauptthread muss warten, da sonst die Koroutine vorzeitig abgebrochen wird"
   ]
  },
  {
   "cell_type": "markdown",
   "id": "74e74d03-13aa-4d19-957e-ec960196e79e",
   "metadata": {},
   "source": [
    "<p>Es wird vom Hauptthread eine Koroutine mit <code>GlobalScope.launch</code> gestartet. In dieser wird in einer Schleife fünf Mal ein Text auf der Konsole ausgegeben. Der Hauptthread <i>schläft</i> zum Schluss kurz, sodass die Koroutine noch beendet wird.<br />\n",
    "Es sind aber bereits schon einige Fachbegriffe gefallen, die hier näher erklärt werden:</p>\n",
    "<ul>\n",
    "    <li><b>Threads</b> werden von der Java Virtual Machine (JVM) verwaltet und verwenden die Multi-Threading-Funktionen des Betriebssystems. Sie besitzen zudem einen eigenen Stack-Speicher. Gemeinsame Informationen werden über einen Heap-Speicher mit anderen Threads geteilt.</li>\n",
    "    <li><b>Koroutinen</b> werden von Kotlin verwaltet und sind nicht an einen konkreten CPU gebunden, sondern können beliebig verschoben werden. Beispielsweise wird eine Koroutine zuerst auf Kern 1 gestartet und dann auf dem Dritten beendet. Sie sind deutlich flexibler als Threads. Zudem besitzen sie keinen eigenen Speicher und sind ressourcensparsamer. Im Hintergund werden sie auf einer geringen Anzahl an Threads ausgeführt.</li>\n",
    "    <li>Ein <b>Scope</b> ist der Kontext einer Koroutine. <i>GlobalScope</i> ist beispielsweise die <i>Top-Level</i>-Ebene.</li>\n",
    "    <li>Der <b>Dispatcher</b> ist mit dem <i>Scope</i> verbunden und entscheidet von welchem Thread die Koroutine ausgeführt wird. Außerdem lässt sich aus diesem der Aufgabenbereich ableiten:</li>\n",
    "</ul>"
   ]
  },
  {
   "cell_type": "code",
   "execution_count": 33,
   "id": "34dc68f5-1b7d-4144-ae29-52459576b60d",
   "metadata": {},
   "outputs": [
    {
     "name": "stdout",
     "output_type": "stream",
     "text": [
      "IO                    : Thread-Name:  DefaultDispatcher-worker-1\n",
      "Unconfined            : Thread-Name:  Thread-138\n",
      "Default               : Thread-Name:  DefaultDispatcher-worker-1\n",
      "main runBlocking      : Thread-Name:  Thread-138\n",
      "newSingleThreadContext: Thread-Name:  eigenerThread\n"
     ]
    },
    {
     "data": {
      "text/plain": [
       "StandaloneCoroutine{Completed}@1b7c473a"
      ]
     },
     "execution_count": 33,
     "metadata": {},
     "output_type": "execute_result"
    }
   ],
   "source": [
    "import kotlinx.coroutines.*\n",
    "\n",
    "runBlocking {\n",
    "    launch { // Besitzt den Kontext des Main-Treads\n",
    "        println(\"main runBlocking      : Thread-Name:  ${Thread.currentThread().name}\")\n",
    "    }\n",
    "    launch(Dispatchers.IO) { // Wird verwendet, wenn im Hintergund auf Dateien oder Netzwerk-Ressourcen zugegriffen wird\n",
    "        println(\"IO                    : Thread-Name:  ${Thread.currentThread().name}\")\n",
    "    }\n",
    "    launch(Dispatchers.Unconfined) { // Verwendet den aktuellen Thread\n",
    "        println(\"Unconfined            : Thread-Name:  ${Thread.currentThread().name}\")\n",
    "    }\n",
    "    launch(Dispatchers.Default) { // Für CPU-intensive Aufgaben\n",
    "        println(\"Default               : Thread-Name:  ${Thread.currentThread().name}\")\n",
    "    }\n",
    "    launch(newSingleThreadContext(\"eigenerThread\")) { // Wird von einem eigenen Thread ausgeführt\n",
    "        println(\"newSingleThreadContext: Thread-Name:  ${Thread.currentThread().name}\")\n",
    "    }\n",
    "}"
   ]
  },
  {
   "cell_type": "markdown",
   "id": "6738f9e4-b2b2-4bda-88ab-dadd46dde69f",
   "metadata": {},
   "source": [
    "<p>Gestartet können Koroutinen mit dem Schlüsselwort <i>launch</i>, welches üblicherweise auf einem Kontext aufgerufen wird. Zusätzlich kann der <i>Dispatcher</i> bestimmt werden. Bei keiner Angabe, wird der <i>Default-Dispatcher</i> verwendet. Eine weitere Möglichkeit ist das Verwenden von <i>launch</i> in <i>runBlocking</i>, das den aktuellen Thread stoppt und nach Beendigung der Koroutinen wieder aktiviert.</p>"
   ]
  },
  {
   "cell_type": "code",
   "execution_count": 8,
   "id": "fdda6083-3088-49bd-9e8b-e36c7267cec0",
   "metadata": {},
   "outputs": [
    {
     "name": "stdout",
     "output_type": "stream",
     "text": [
      "Anfang....................................................................................................................................................................................................................................................................................................................................................................................................................................................................................................................Ende"
     ]
    }
   ],
   "source": [
    "print(\"Anfang\")\n",
    "runBlocking {\n",
    "    repeat(500) { //wird 500 mal ausgeführt\n",
    "        launch { //startet eine Koroutine\n",
    "            print(\".\")\n",
    "        }\n",
    "    }\n",
    "}\n",
    "print(\"Ende\")"
   ]
  },
  {
   "cell_type": "markdown",
   "id": "f7eec83c-7a5b-4123-9c73-817170196c4d",
   "metadata": {},
   "source": [
    "<p>Mit <i>join</i> kann auf eine gestarteten Koroutine gewartet werden.</p>"
   ]
  },
  {
   "cell_type": "code",
   "execution_count": 41,
   "id": "dafce6ec-11d6-4aec-96bb-f3d6d1a1473b",
   "metadata": {},
   "outputs": [
    {
     "name": "stdout",
     "output_type": "stream",
     "text": [
      "Fertig\n",
      "Koroutine beendet\n"
     ]
    }
   ],
   "source": [
    "import kotlinx.coroutines.*\n",
    "\n",
    "val job = GlobalScope.launch { //Startet die Koroutine und weist sie der Variable job zu\n",
    "        delay((500..10000L).random())\n",
    "        println(\"Fertig\")\n",
    "}\n",
    "\n",
    "runBlocking { //Wartet auf die Koroutine\n",
    "    job.join()\n",
    "}\n",
    "\n",
    "println(\"Koroutine beendet\")"
   ]
  },
  {
   "cell_type": "markdown",
   "id": "7cc89924-0617-452b-aaee-86cad9ae2d43",
   "metadata": {},
   "source": [
    "<p>Soll eine Koroutine ein Ergebnis zurückgeben, findet statt <i>launch async</i> Anwendung:</p>"
   ]
  },
  {
   "cell_type": "code",
   "execution_count": 9,
   "id": "3f6ec753-3a0f-43a8-972f-ef1d1f217712",
   "metadata": {},
   "outputs": [
    {
     "name": "stdout",
     "output_type": "stream",
     "text": [
      "Typ vom laenge: DeferredCoroutine\n",
      "Fehler: java.lang.IllegalStateException: This job has not completed yet\n",
      "laenge: 15\n"
     ]
    }
   ],
   "source": [
    "import kotlinx.coroutines.*\n",
    "\n",
    "val text = \"Kotlin ist Toll\"\n",
    "val laenge = GlobalScope.async(Dispatchers.IO){\n",
    "    delay(500L) //Wird diese Zeile einkommentiert, wirft getComplete() keinen Fehler\n",
    "    text.length\n",
    "}\n",
    "\n",
    "println(\"Typ vom laenge: ${laenge::class.simpleName}\")\n",
    "\n",
    "try{\n",
    "  println(\"laenge.getCompleted(): ${laenge.getCompleted()}\")  \n",
    "}\n",
    "catch (e: Exception){\n",
    "    println(\"Fehler: $e\")\n",
    "}\n",
    "\n",
    "runBlocking {\n",
    "    println(\"laenge: ${laenge.await()}\")\n",
    "}"
   ]
  },
  {
   "cell_type": "markdown",
   "id": "ac0e6d9b-aa88-4223-838b-36aacbeca82f",
   "metadata": {},
   "source": [
    "<p>Die Rückgabe ist vom Typ <i>Deferred&#60;Int></i>. Zusätzlich zum Wert ist gespeichert, ob die Koroutine beendet ist oder nicht. Mit <i>await()</i> in Verbindung mit <i>runBlocking</i> oder <i>getCompleted()</i> kann auf das Ergebnis gewartet werden. Zweiteres löst aber eine <i>IllegalStateException</i> aus, falls die Berechnung noch läuft.</p>"
   ]
  },
  {
   "cell_type": "markdown",
   "id": "a10e2b7e-e1a7-4c2b-a683-88764cd22952",
   "metadata": {},
   "source": [
    "<p>Mit <i>cancel()</i> kann eine <i>Coroutine</i> abgebrochen werden:</p>"
   ]
  },
  {
   "cell_type": "code",
   "execution_count": 59,
   "id": "791f358d-b748-47dc-b9b6-3a4ed8ca6407",
   "metadata": {},
   "outputs": [
    {
     "name": "stdout",
     "output_type": "stream",
     "text": [
      "Koroutine beendet\n"
     ]
    }
   ],
   "source": [
    "import kotlinx.coroutines.*\n",
    "\n",
    "val job = GlobalScope.launch { //Startet die Koroutine\n",
    "        delay((500..10000L).random())\n",
    "        println(\"Fertig\")\n",
    "}\n",
    "\n",
    "job.cancel()\n",
    "println(\"Koroutine abgebrochen\")"
   ]
  },
  {
   "cell_type": "markdown",
   "id": "86a0fa57-c11f-43dd-af88-a1756414188a",
   "metadata": {},
   "source": [
    "<p>Bis jetzt wurde der Code der Koroutine immer in einem Lambda-Ausdruck angegeben. Dieser wird immer benötigt, jedoch können die Zeilen in eigene Funktionen geschoben werden. Diese müssen mit dem Schlüsselwort <i>suspend</i> gekennzeichnet sein.</p>"
   ]
  },
  {
   "cell_type": "code",
   "execution_count": 14,
   "id": "66d03b2d-6817-4d99-8a8e-c2a1843f43dc",
   "metadata": {},
   "outputs": [
    {
     "name": "stdout",
     "output_type": "stream",
     "text": [
      "fak(5): 120\n"
     ]
    }
   ],
   "source": [
    "import kotlinx.coroutines.*\n",
    "\n",
    "suspend fun fak(a: Int): Int{\n",
    "    var result = 1\n",
    "    var i = a\n",
    "\n",
    "    while(i > 1){\n",
    "        result *= i\n",
    "        i--\n",
    "    }\n",
    "    return result\n",
    "}\n",
    "\n",
    "runBlocking{\n",
    "    val result = async { //Startet die Koroutine\n",
    "        fak(5)\n",
    "    }\n",
    "    println(\"fak(5): ${result.await()}\")\n",
    "}\n"
   ]
  }
 ],
 "metadata": {
  "kernelspec": {
   "display_name": "Kotlin",
   "language": "kotlin",
   "name": "kotlin"
  },
  "language_info": {
   "codemirror_mode": "text/x-kotlin",
   "file_extension": ".kt",
   "mimetype": "text/x-kotlin",
   "name": "kotlin",
   "nbconvert_exporter": "",
   "pygments_lexer": "kotlin",
   "version": "1.5.20-dev-5817"
  }
 },
 "nbformat": 4,
 "nbformat_minor": 5
}
