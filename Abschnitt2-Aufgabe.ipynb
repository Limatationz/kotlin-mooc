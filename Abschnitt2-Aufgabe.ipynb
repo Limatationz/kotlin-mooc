{
 "cells": [
  {
   "cell_type": "code",
   "execution_count": 1,
   "id": "sacred-hamburg",
   "metadata": {
    "execution": {
     "iopub.execute_input": "2021-04-10T16:59+0200",
     "iopub.status.busy": "2021-04-10T16:59+0200",
     "iopub.status.idle": "2021-04-10T16:59+0200",
     "shell.execute_reply": "2021-04-10T16:59+0200",
     "shell.execute_reply.started": "2021-04-10T16:59+0200"
    }
   },
   "outputs": [],
   "source": [
    "%use krangl"
   ]
  },
  {
   "cell_type": "markdown",
   "id": "concerned-corruption",
   "metadata": {},
   "source": [
    "# Aufgabe - Impfdaten\n",
    "Eine weitere interessante Datensammlung ist die Zusammenstellung des Impffortschritts in Deutschland. Im folgenden sollen mit Hilfe von Lambda-Ausdrücken in Verbindung mit kennengelernten Methoden verschiedene Daten aus einem Datensatz extrahiert und aufbereitet werden. Die Quelle der der Daten ist das [rki-impf-archive](https://github.com/ard-data/2020-rki-impf-archive), welches die Rohdaten des Robert-Koch-Instituts archiviert und aufbereitet."
   ]
  },
  {
   "cell_type": "markdown",
   "id": "quick-chemical",
   "metadata": {},
   "source": [
    "**Aktuelle Daten oder aus data-Ordner!?!!**"
   ]
  },
  {
   "cell_type": "code",
   "execution_count": 12,
   "id": "measured-salmon",
   "metadata": {
    "execution": {
     "iopub.execute_input": "2021-04-10T17:08+0200",
     "iopub.status.busy": "2021-04-10T17:08+0200",
     "iopub.status.idle": "2021-04-10T17:08+0200",
     "shell.execute_reply": "2021-04-10T17:08+0200",
     "shell.execute_reply.started": "2021-04-10T17:08+0200"
    },
    "tags": []
   },
   "outputs": [],
   "source": [
    "val dataUrl = \"https://raw.githubusercontent.com/ard-data/2020-rki-impf-archive/master/data/9_csv_v2/all.csv\" //URL zur Raw-Datei der Daten\n",
    "val dataRaw = DataFrame.readCSV(dataUrl) //Liest die csv-Datei und wandelt sie in einen DataFrame um\n",
    "val data = dataRaw.filterByRow { \n",
    "    (!(it[\"metric\"]as String).contains(\"erst\") && !(it[\"metric\"]as String).contains(\"voll\") && !(it[\"metric\"]as String).contains(\"impfstelle\")) || it[\"metric\"] == \"personen_erst_kumulativ\" || it[\"metric\"] == \"personen_zweit_kumulativ\"\n",
    "}"
   ]
  },
  {
   "cell_type": "markdown",
   "id": "committed-brisbane",
   "metadata": {},
   "source": [
    "Der Aufbau der Daten ist folgendermaßen:"
   ]
  },
  {
   "cell_type": "code",
   "execution_count": 3,
   "id": "hollywood-oxford",
   "metadata": {
    "execution": {
     "iopub.execute_input": "2021-04-10T16:59+0200",
     "iopub.status.busy": "2021-04-10T16:59+0200",
     "iopub.status.idle": "2021-04-10T16:59+0200",
     "shell.execute_reply": "2021-04-10T16:59+0200",
     "shell.execute_reply.started": "2021-04-10T16:59+0200"
    }
   },
   "outputs": [
    {
     "name": "stdout",
     "output_type": "stream",
     "text": [
      "DataFrame with 112200 observations\n",
      "date              [Str]  2020-12-27, 2020-12-27, 2020-12-27, 2020-12-27, 2020-12-27, 2020-12-27, 2020-12-27, 2020-12-27, 2020...\n",
      "publication_date  [Str]  2020-12-28 16:15, 2020-12-28 16:15, 2020-12-28 16:15, 2020-12-28 16:15, 2020-12-28 16:15, 2020-12-28...\n",
      "region            [Str]  BW, BW, BW, BW, BW, BW, BW, BW, BW, BW, BW, BW, BW, BW, BW, BW, BW, BW, BW, BW, BW, BW, BW, BW, BW, ...\n",
      "metric            [Str]  dosen_kumulativ, personen_erst_kumulativ, personen_voll_kumulativ, dosen_biontech_kumulativ, dosen_e...\n",
      "value             [Str]  2084, 2084, 0, 2084, 2084, 0, 0, 0, 0, 0, 0, 0, 624, 624, 0, 964, 964, 0, 151, 151, 0, 0, , 0, , , ,...\n"
     ]
    }
   ],
   "source": [
    "data.schema()"
   ]
  },
  {
   "cell_type": "code",
   "execution_count": 13,
   "id": "closed-ethernet",
   "metadata": {
    "execution": {
     "iopub.execute_input": "2021-04-10T17:08+0200",
     "iopub.status.busy": "2021-04-10T17:08+0200",
     "iopub.status.idle": "2021-04-10T17:08+0200",
     "shell.execute_reply": "2021-04-10T17:08+0200",
     "shell.execute_reply.started": "2021-04-10T17:08+0200"
    },
    "tags": []
   },
   "outputs": [
    {
     "data": {
      "text/html": [
       "<html><body><table><tr><th style=\"text-align:left\">date</th><th style=\"text-align:left\">publication_date</th><th style=\"text-align:left\">region</th><th style=\"text-align:left\">metric</th><th style=\"text-align:left\">value</th></tr><tr><td style=\"text-align:left\" title=\"2020-12-27\">2020-12-27</td><td style=\"text-align:left\" title=\"2020-12-28 16:15\">2020-12-28 16:15</td><td style=\"text-align:left\" title=\"BW\">BW</td><td style=\"text-align:left\" title=\"dosen_kumulativ\">dosen_kumulativ</td><td style=\"text-align:left\" title=\"2084\">2084</td></tr><tr><td style=\"text-align:left\" title=\"2020-12-27\">2020-12-27</td><td style=\"text-align:left\" title=\"2020-12-28 16:15\">2020-12-28 16:15</td><td style=\"text-align:left\" title=\"BW\">BW</td><td style=\"text-align:left\" title=\"personen_erst_kumulativ\">personen_erst_kumulativ</td><td style=\"text-align:left\" title=\"2084\">2084</td></tr><tr><td style=\"text-align:left\" title=\"2020-12-27\">2020-12-27</td><td style=\"text-align:left\" title=\"2020-12-28 16:15\">2020-12-28 16:15</td><td style=\"text-align:left\" title=\"BW\">BW</td><td style=\"text-align:left\" title=\"dosen_biontech_kumulativ\">dosen_biontech_kumulativ</td><td style=\"text-align:left\" title=\"2084\">2084</td></tr><tr><td style=\"text-align:left\" title=\"2020-12-27\">2020-12-27</td><td style=\"text-align:left\" title=\"2020-12-28 16:15\">2020-12-28 16:15</td><td style=\"text-align:left\" title=\"BW\">BW</td><td style=\"text-align:left\" title=\"dosen_moderna_kumulativ\">dosen_moderna_kumulativ</td><td style=\"text-align:left\" title=\"0\">0</td></tr><tr><td style=\"text-align:left\" title=\"2020-12-27\">2020-12-27</td><td style=\"text-align:left\" title=\"2020-12-28 16:15\">2020-12-28 16:15</td><td style=\"text-align:left\" title=\"BW\">BW</td><td style=\"text-align:left\" title=\"dosen_astrazeneca_kumulativ\">dosen_astrazeneca_kumulativ</td><td style=\"text-align:left\" title=\"0\">0</td></tr><tr><td style=\"text-align:left\" title=\"2020-12-27\">2020-12-27</td><td style=\"text-align:left\" title=\"2020-12-28 16:15\">2020-12-28 16:15</td><td style=\"text-align:left\" title=\"BW\">BW</td><td style=\"text-align:left\" title=\"indikation_alter_dosen\">indikation_alter_dosen</td><td style=\"text-align:left\" title=\"624\">624</td></tr><tr><td style=\"text-align:left\" title=\"2020-12-27\">2020-12-27</td><td style=\"text-align:left\" title=\"2020-12-28 16:15\">2020-12-28 16:15</td><td style=\"text-align:left\" title=\"BW\">BW</td><td style=\"text-align:left\" title=\"indikation_beruf_dosen\">indikation_beruf_dosen</td><td style=\"text-align:left\" title=\"964\">964</td></tr><tr><td style=\"text-align:left\" title=\"2020-12-27\">2020-12-27</td><td style=\"text-align:left\" title=\"2020-12-28 16:15\">2020-12-28 16:15</td><td style=\"text-align:left\" title=\"BW\">BW</td><td style=\"text-align:left\" title=\"indikation_medizinisch_dosen\">indikation_medizinisch_dosen</td><td style=\"text-align:left\" title=\"151\">151</td></tr><tr><td style=\"text-align:left\" title=\"2020-12-27\">2020-12-27</td><td style=\"text-align:left\" title=\"2020-12-28 16:15\">2020-12-28 16:15</td><td style=\"text-align:left\" title=\"BW\">BW</td><td style=\"text-align:left\" title=\"indikation_pflegeheim_dosen\">indikation_pflegeheim_dosen</td><td style=\"text-align:left\" title=\"0\">0</td></tr><tr><td style=\"text-align:left\" title=\"2020-12-27\">2020-12-27</td><td style=\"text-align:left\" title=\"2020-12-28 16:15\">2020-12-28 16:15</td><td style=\"text-align:left\" title=\"BW\">BW</td><td style=\"text-align:left\" title=\"dosen_differenz_zum_vortag\">dosen_differenz_zum_vortag</td><td style=\"text-align:left\" title=\"\"></td></tr><tr><td style=\"text-align:left\" title=\"2020-12-27\">2020-12-27</td><td style=\"text-align:left\" title=\"2020-12-28 16:15\">2020-12-28 16:15</td><td style=\"text-align:left\" title=\"BW\">BW</td><td style=\"text-align:left\" title=\"impf_quote_dosen\">impf_quote_dosen</td><td style=\"text-align:left\" title=\"0.018774108378495392\">0.018774108378495392</td></tr><tr><td style=\"text-align:left\" title=\"2020-12-27\">2020-12-27</td><td style=\"text-align:left\" title=\"2020-12-28 16:15\">2020-12-28 16:15</td><td style=\"text-align:left\" title=\"BW\">BW</td><td style=\"text-align:left\" title=\"impf_inzidenz_dosen\">impf_inzidenz_dosen</td><td style=\"text-align:left\" title=\"0.18774108378495394\">0.18774108378495394</td></tr><tr><td style=\"text-align:left\" title=\"2020-12-27\">2020-12-27</td><td style=\"text-align:left\" title=\"2020-12-28 16:15\">2020-12-28 16:15</td><td style=\"text-align:left\" title=\"BW\">BW</td><td style=\"text-align:left\" title=\"dosen_kumulativ_alter_unter60\">dosen_kumulativ_alter_unter60</td><td style=\"text-align:left\" title=\"\"></td></tr><tr><td style=\"text-align:left\" title=\"2020-12-27\">2020-12-27</td><td style=\"text-align:left\" title=\"2020-12-28 16:15\">2020-12-28 16:15</td><td style=\"text-align:left\" title=\"BW\">BW</td><td style=\"text-align:left\" title=\"dosen_kumulativ_alter_60plus\">dosen_kumulativ_alter_60plus</td><td style=\"text-align:left\" title=\"\"></td></tr><tr><td style=\"text-align:left\" title=\"2020-12-27\">2020-12-27</td><td style=\"text-align:left\" title=\"2020-12-28 16:15\">2020-12-28 16:15</td><td style=\"text-align:left\" title=\"BY\">BY</td><td style=\"text-align:left\" title=\"dosen_kumulativ\">dosen_kumulativ</td><td style=\"text-align:left\" title=\"3389\">3389</td></tr><tr><td style=\"text-align:left\" title=\"2020-12-27\">2020-12-27</td><td style=\"text-align:left\" title=\"2020-12-28 16:15\">2020-12-28 16:15</td><td style=\"text-align:left\" title=\"BY\">BY</td><td style=\"text-align:left\" title=\"personen_erst_kumulativ\">personen_erst_kumulativ</td><td style=\"text-align:left\" title=\"3389\">3389</td></tr><tr><td style=\"text-align:left\" title=\"2020-12-27\">2020-12-27</td><td style=\"text-align:left\" title=\"2020-12-28 16:15\">2020-12-28 16:15</td><td style=\"text-align:left\" title=\"BY\">BY</td><td style=\"text-align:left\" title=\"dosen_biontech_kumulativ\">dosen_biontech_kumulativ</td><td style=\"text-align:left\" title=\"3389\">3389</td></tr><tr><td style=\"text-align:left\" title=\"2020-12-27\">2020-12-27</td><td style=\"text-align:left\" title=\"2020-12-28 16:15\">2020-12-28 16:15</td><td style=\"text-align:left\" title=\"BY\">BY</td><td style=\"text-align:left\" title=\"dosen_moderna_kumulativ\">dosen_moderna_kumulativ</td><td style=\"text-align:left\" title=\"0\">0</td></tr><tr><td style=\"text-align:left\" title=\"2020-12-27\">2020-12-27</td><td style=\"text-align:left\" title=\"2020-12-28 16:15\">2020-12-28 16:15</td><td style=\"text-align:left\" title=\"BY\">BY</td><td style=\"text-align:left\" title=\"dosen_astrazeneca_kumulativ\">dosen_astrazeneca_kumulativ</td><td style=\"text-align:left\" title=\"0\">0</td></tr><tr><td style=\"text-align:left\" title=\"2020-12-27\">2020-12-27</td><td style=\"text-align:left\" title=\"2020-12-28 16:15\">2020-12-28 16:15</td><td style=\"text-align:left\" title=\"BY\">BY</td><td style=\"text-align:left\" title=\"indikation_alter_dosen\">indikation_alter_dosen</td><td style=\"text-align:left\" title=\"994\">994</td></tr></table></body></html>"
      ]
     },
     "execution_count": 13,
     "metadata": {
      "new_classpath": []
     },
     "output_type": "execute_result"
    }
   ],
   "source": [
    "data.head(20)"
   ]
  },
  {
   "cell_type": "markdown",
   "id": "wooden-cuisine",
   "metadata": {},
   "source": [
    "## Die Daten kennenlernen\n",
    "In dieser Teilaufgabe sollen die Daten und deren Struktur kennengelernt werden. Es ist zu erkennen, dass in der Spalte metric eine Liste an Beschreibungen für die Daten, die in value zufinden sein, zu finden ist. Implementieren Sie eine Erweiterungsmethode `gibBeschreibungen()` der Klasse `DataFrame`, die alle Beschreibungen in einer Liste zurückgibt.<br />\n",
    "Beispiel: [dosen_kumulativ, personen_erst_kumulativ, personen_voll_kumulativ, ...]"
   ]
  },
  {
   "cell_type": "code",
   "execution_count": null,
   "id": "rocky-jefferson",
   "metadata": {},
   "outputs": [],
   "source": [
    "//TODO\n",
    "\n",
    "val ergebnis = listOf(\"dosen_kumulativ\", \"personen_erst_kumulativ\", \"dosen_biontech_kumulativ\", \"dosen_moderna_kumulativ\", \"dosen_astrazeneca_kumulativ\", \"indikation_alter_dosen\", \"indikation_beruf_dosen\", \"indikation_medizinisch_dosen\", \"indikation_pflegeheim_dosen\", \"dosen_differenz_zum_vortag\", \"impf_quote_dosen\", \"impf_inzidenz_dosen\", \"dosen_kumulativ_alter_unter60\", \"dosen_kumulativ_alter_60plus\")\n",
    "if(data.gibBeschreibungen() == ergebnis)\n",
    "    println(\"Richtig!\")\n",
    "else\n",
    "    println(\"Falsch! Richtig wäre: \\n$ergebnis\\ndata.gibBeschreibungen(): \\n${data.gibBeschreibungen()}\")"
   ]
  },
  {
   "cell_type": "code",
   "execution_count": 18,
   "id": "weighted-vegetation",
   "metadata": {
    "execution": {
     "iopub.execute_input": "2021-04-10T17:11+0200",
     "iopub.status.busy": "2021-04-10T17:11+0200",
     "iopub.status.idle": "2021-04-10T17:11+0200",
     "shell.execute_reply": "2021-04-10T17:11+0200",
     "shell.execute_reply.started": "2021-04-10T17:11+0200"
    },
    "tags": []
   },
   "outputs": [
    {
     "name": "stdout",
     "output_type": "stream",
     "text": [
      "Richtig!\n"
     ]
    }
   ],
   "source": [
    "//Lösung\n",
    "fun DataFrame.gibBeschreibungen() = this.rows.groupBy { it[\"metric\"] }.keys.toList()\n",
    "\n",
    "val ergebnis = listOf(\"dosen_kumulativ\", \"personen_erst_kumulativ\", \"dosen_biontech_kumulativ\", \"dosen_moderna_kumulativ\", \"dosen_astrazeneca_kumulativ\", \"indikation_alter_dosen\", \"indikation_beruf_dosen\", \"indikation_medizinisch_dosen\", \"indikation_pflegeheim_dosen\", \"dosen_differenz_zum_vortag\", \"impf_quote_dosen\", \"impf_inzidenz_dosen\", \"dosen_kumulativ_alter_unter60\", \"dosen_kumulativ_alter_60plus\")\n",
    "if(data.gibBeschreibungen() == ergebnis)\n",
    "    println(\"Richtig!\")\n",
    "else\n",
    "    println(\"Falsch! Richtig wäre: \\n$ergebnis\\ndata.gibBeschreibungen(): \\n${data.gibBeschreibungen()}\")"
   ]
  },
  {
   "cell_type": "markdown",
   "id": "sorted-performer",
   "metadata": {},
   "source": [
    "## Wieviele Dosen wurden gestern verimpft?\n",
    "Implementieren Sie eine Methode `gibAnzahlGestern()`, die die Anzahl der Impfdosen, welche gestern verimpft wurden, zurückgibt.\n",
    "<details><summary>Tipp 1: Datum</summary><p>Um das gestrige Datum zu berechnen, können Sie beispielsweise die Bibliothek <a href=\"https://docs.oracle.com/javase/8/docs/api/java/time/LocalDateTime.html\"><code>java.time.LocalDateTimejava.time.LocalDateTime</code></a> in Verbindung mit <a href=\"https://docs.oracle.com/javase/8/docs/api/java/time/format/DateTimeFormatter.html\"><code>java.time.format.DateTimeFormatter</code></a> verwenden.</p></details>\n",
    "<details><summary>Tipp 2</summary><p>Mit <code>data.schema()</code> können Sie die Datentypen der Spalten herausfinden.</p></details>\n",
    "\n",
    "Erweiterung:<br />\n",
    "Anstelle dem gestrigen Tag, soll ab heute jeder Tag nach Daten geprüft werden und der erste, an dem die Prüfung gelingt, ausgewählt werden."
   ]
  },
  {
   "cell_type": "code",
   "execution_count": 47,
   "id": "subjective-racing",
   "metadata": {
    "execution": {
     "iopub.execute_input": "2021-04-10T17:27+0200",
     "iopub.status.busy": "2021-04-10T17:27+0200",
     "iopub.status.idle": "2021-04-10T17:27+0200",
     "shell.execute_reply": "2021-04-10T17:27+0200",
     "shell.execute_reply.started": "2021-04-10T17:27+0200"
    }
   },
   "outputs": [
    {
     "name": "stdout",
     "output_type": "stream",
     "text": [
      "Richtig!\n"
     ]
    }
   ],
   "source": [
    "//TODO\n",
    "\n",
    "if (data.gibAnzahlGestern() == 17580596)\n",
    "    println(\"Richtig!\")\n",
    "else\n",
    "    println(\"Falsch! Richtig wäre: 17580596\\ndata.gibAnzahlGestern(): \\n${data.gibAnzahlGestern()}\")"
   ]
  },
  {
   "cell_type": "code",
   "execution_count": 46,
   "id": "opposite-enemy",
   "metadata": {
    "execution": {
     "iopub.execute_input": "2021-04-10T17:26+0200",
     "iopub.status.busy": "2021-04-10T17:26+0200",
     "iopub.status.idle": "2021-04-10T17:26+0200",
     "shell.execute_reply": "2021-04-10T17:26+0200",
     "shell.execute_reply.started": "2021-04-10T17:26+0200"
    },
    "tags": []
   },
   "outputs": [
    {
     "name": "stdout",
     "output_type": "stream",
     "text": [
      "Richtig!\n"
     ]
    }
   ],
   "source": [
    "//Lösung geht aber bestimmt noch schöner!!\n",
    "import java.time.LocalDateTime\n",
    "import java.time.format.DateTimeFormatter\n",
    "\n",
    "fun gibDatumGestern(): String{\n",
    "    val current = LocalDateTime.now().minusDays(1);\n",
    "    val formatter = DateTimeFormatter.ofPattern(\"yyyy-MM-dd\")\n",
    "    val datumHeute = current.format(formatter).toString()\n",
    "    return datumHeute\n",
    "}\n",
    "\n",
    "fun DataFrame.gibAnzahlGestern(): Int{\n",
    "    val datumGestern = gibDatumGestern()\n",
    "    val row = data.rows.filter { it[\"date\"] == datumGestern && it[\"metric\"] == \"dosen_kumulativ\" && it[\"region\"] == \"DE\" }\n",
    "    return (row[0].get(\"value\") as String).toInt()\n",
    "}\n",
    "\n",
    "if (data.gibAnzahlGestern() == 17580596)\n",
    "    println(\"Richtig!\")\n",
    "else\n",
    "    println(\"Falsch! Richtig wäre: 17580596\\ndata.gibAnzahlGestern(): \\n${data.gibAnzahlGestern()}\")"
   ]
  },
  {
   "cell_type": "code",
   "execution_count": null,
   "id": "geographic-facial",
   "metadata": {},
   "outputs": [],
   "source": []
  }
 ],
 "metadata": {
  "kernelspec": {
   "display_name": "Kotlin",
   "language": "kotlin",
   "name": "kotlin"
  },
  "language_info": {
   "codemirror_mode": "text/x-kotlin",
   "file_extension": ".kt",
   "mimetype": "text/x-kotlin",
   "name": "kotlin",
   "pygments_lexer": "kotlin",
   "version": "1.5.0-dev-1206"
  }
 },
 "nbformat": 4,
 "nbformat_minor": 5
}
