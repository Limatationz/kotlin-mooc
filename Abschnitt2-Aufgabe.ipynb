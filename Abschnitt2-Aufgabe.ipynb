{
 "cells": [
  {
   "cell_type": "code",
   "execution_count": 2,
   "id": "settled-pursuit",
   "metadata": {
    "execution": {
     "iopub.execute_input": "2021-04-16T12:11+0200",
     "iopub.status.busy": "2021-04-16T12:11+0200",
     "iopub.status.idle": "2021-04-16T12:11+0200",
     "shell.execute_reply": "2021-04-16T12:11+0200",
     "shell.execute_reply.started": "2021-04-16T12:11+0200"
    },
    "tags": []
   },
   "outputs": [],
   "source": [
    "%use krangl"
   ]
  },
  {
   "cell_type": "markdown",
   "id": "exterior-sessions",
   "metadata": {},
   "source": [
    "# Aufgabe - Impfdaten\n",
    "Schnell haben die ersten Länder auf Erde-14 angefangen mit der Impfstoffentwicklung, da Allen klar war, dass man das Virus nur mit einer Herdenimmunität, durch beispielsweise einer Impfung, kontrollieren kann. Ende des Jahres 2052 waren die ersten Impfstoffe bereit für die Bevölkerung. Die ersten drei Zugelassenen sind von den Unternehmen Bioneca, Moderntech und Asterna. Da das Land Dendenland eine ähnliche Geseelschaft zu Deutschland besitzt, werden Sie zusätzlich damit beauftragt den Impfablauf auszuwerten, um aus möglichen Fehlern zu lernen. Dazu wird Ihnen der folgende Datensatz bereitgestellt:"
   ]
  },
  {
   "cell_type": "code",
   "execution_count": 3,
   "id": "corresponding-plenty",
   "metadata": {
    "execution": {
     "iopub.execute_input": "2021-04-16T12:11+0200",
     "iopub.status.busy": "2021-04-16T12:11+0200",
     "iopub.status.idle": "2021-04-16T12:11+0200",
     "shell.execute_reply": "2021-04-16T12:11+0200",
     "shell.execute_reply.started": "2021-04-16T12:11+0200"
    },
    "tags": []
   },
   "outputs": [],
   "source": [
    "//val dataUrl = \"https://raw.githubusercontent.com/ard-data/2020-rki-impf-archive/master/data/9_csv_v2/all.csv\" //URL zur Raw-Datei der Daten\n",
    "val path = System.getProperty(\"user.dir\")\n",
    "val dataUrl = path + \"/data/impfzahlenDendenland.csv\"\n",
    "val dataRaw = DataFrame.readCSV(dataUrl) //Liest die csv-Datei und wandelt sie in einen DataFrame um\n",
    "val data = dataRaw.filterByRow { \n",
    "    (!(it[\"metric\"]as String).contains(\"erst\") && !(it[\"metric\"]as String).contains(\"voll\") && !(it[\"metric\"]as String).contains(\"impfstelle\")) || it[\"metric\"] == \"personen_erst_kumulativ\" || it[\"metric\"] == \"personen_voll_kumulativ\"\n",
    "}"
   ]
  },
  {
   "cell_type": "markdown",
   "id": "endangered-stockholm",
   "metadata": {},
   "source": [
    "Der Aufbau der Daten ist folgendermaßen:"
   ]
  },
  {
   "cell_type": "code",
   "execution_count": 4,
   "id": "arbitrary-finland",
   "metadata": {
    "execution": {
     "iopub.execute_input": "2021-04-16T12:11+0200",
     "iopub.status.busy": "2021-04-16T12:11+0200",
     "iopub.status.idle": "2021-04-16T12:11+0200",
     "shell.execute_reply": "2021-04-16T12:11+0200",
     "shell.execute_reply.started": "2021-04-16T12:11+0200"
    },
    "tags": []
   },
   "outputs": [
    {
     "name": "stdout",
     "output_type": "stream",
     "text": [
      "DataFrame with 22440 observations\n",
      "date              [Str]  2052-12-27, 2052-12-27, 2052-12-27, 2052-12-27, 2052-12-27, 2052-12-27, 2052-12-27, 2052-12-27, 2052...\n",
      "publication_date  [Str]  2052-12-28 16:15, 2052-12-28 16:15, 2052-12-28 16:15, 2052-12-28 16:15, 2052-12-28 16:15, 2052-12-28...\n",
      "region            [Str]  BW, BW, BW, BW, BW, BW, BW, BW, BW, BW, BW, BW, BW, BW, BW, BY, BY, BY, BY, BY, BY, BY, BY, BY, BY, ...\n",
      "metric            [Str]  dosen_kumulativ, personen_erst_kumulativ, personen_voll_kumulativ, dosen_bioneca_kumulativ, dosen_mo...\n",
      "value             [Str]  2084, 2084, 0, 2084, 0, 0, 624, 964, 151, 0, , 0.018774108378495392, 0.18774108378495394, , , 3389, ...\n"
     ]
    }
   ],
   "source": [
    "data.schema()"
   ]
  },
  {
   "cell_type": "code",
   "execution_count": 5,
   "id": "municipal-former",
   "metadata": {
    "execution": {
     "iopub.execute_input": "2021-04-16T12:11+0200",
     "iopub.status.busy": "2021-04-16T12:11+0200",
     "iopub.status.idle": "2021-04-16T12:11+0200",
     "shell.execute_reply": "2021-04-16T12:11+0200",
     "shell.execute_reply.started": "2021-04-16T12:11+0200"
    },
    "tags": []
   },
   "outputs": [
    {
     "data": {
      "text/html": [
       "<html><body><table><tr><th style=\"text-align:left\">date</th><th style=\"text-align:left\">publication_date</th><th style=\"text-align:left\">region</th><th style=\"text-align:left\">metric</th><th style=\"text-align:left\">value</th></tr><tr><td style=\"text-align:left\" title=\"2052-12-27\">2052-12-27</td><td style=\"text-align:left\" title=\"2052-12-28 16:15\">2052-12-28 16:15</td><td style=\"text-align:left\" title=\"BW\">BW</td><td style=\"text-align:left\" title=\"dosen_kumulativ\">dosen_kumulativ</td><td style=\"text-align:left\" title=\"2084\">2084</td></tr><tr><td style=\"text-align:left\" title=\"2052-12-27\">2052-12-27</td><td style=\"text-align:left\" title=\"2052-12-28 16:15\">2052-12-28 16:15</td><td style=\"text-align:left\" title=\"BW\">BW</td><td style=\"text-align:left\" title=\"personen_erst_kumulativ\">personen_erst_kumulativ</td><td style=\"text-align:left\" title=\"2084\">2084</td></tr><tr><td style=\"text-align:left\" title=\"2052-12-27\">2052-12-27</td><td style=\"text-align:left\" title=\"2052-12-28 16:15\">2052-12-28 16:15</td><td style=\"text-align:left\" title=\"BW\">BW</td><td style=\"text-align:left\" title=\"personen_voll_kumulativ\">personen_voll_kumulativ</td><td style=\"text-align:left\" title=\"0\">0</td></tr><tr><td style=\"text-align:left\" title=\"2052-12-27\">2052-12-27</td><td style=\"text-align:left\" title=\"2052-12-28 16:15\">2052-12-28 16:15</td><td style=\"text-align:left\" title=\"BW\">BW</td><td style=\"text-align:left\" title=\"dosen_bioneca_kumulativ\">dosen_bioneca_kumulativ</td><td style=\"text-align:left\" title=\"2084\">2084</td></tr><tr><td style=\"text-align:left\" title=\"2052-12-27\">2052-12-27</td><td style=\"text-align:left\" title=\"2052-12-28 16:15\">2052-12-28 16:15</td><td style=\"text-align:left\" title=\"BW\">BW</td><td style=\"text-align:left\" title=\"dosen_moderntech_kumulativ\">dosen_moderntech_kumulativ</td><td style=\"text-align:left\" title=\"0\">0</td></tr><tr><td style=\"text-align:left\" title=\"2052-12-27\">2052-12-27</td><td style=\"text-align:left\" title=\"2052-12-28 16:15\">2052-12-28 16:15</td><td style=\"text-align:left\" title=\"BW\">BW</td><td style=\"text-align:left\" title=\"dosen_asterna_kumulativ\">dosen_asterna_kumulativ</td><td style=\"text-align:left\" title=\"0\">0</td></tr><tr><td style=\"text-align:left\" title=\"2052-12-27\">2052-12-27</td><td style=\"text-align:left\" title=\"2052-12-28 16:15\">2052-12-28 16:15</td><td style=\"text-align:left\" title=\"BW\">BW</td><td style=\"text-align:left\" title=\"indikation_alter_dosen\">indikation_alter_dosen</td><td style=\"text-align:left\" title=\"624\">624</td></tr><tr><td style=\"text-align:left\" title=\"2052-12-27\">2052-12-27</td><td style=\"text-align:left\" title=\"2052-12-28 16:15\">2052-12-28 16:15</td><td style=\"text-align:left\" title=\"BW\">BW</td><td style=\"text-align:left\" title=\"indikation_beruf_dosen\">indikation_beruf_dosen</td><td style=\"text-align:left\" title=\"964\">964</td></tr><tr><td style=\"text-align:left\" title=\"2052-12-27\">2052-12-27</td><td style=\"text-align:left\" title=\"2052-12-28 16:15\">2052-12-28 16:15</td><td style=\"text-align:left\" title=\"BW\">BW</td><td style=\"text-align:left\" title=\"indikation_medizinisch_dosen\">indikation_medizinisch_dosen</td><td style=\"text-align:left\" title=\"151\">151</td></tr><tr><td style=\"text-align:left\" title=\"2052-12-27\">2052-12-27</td><td style=\"text-align:left\" title=\"2052-12-28 16:15\">2052-12-28 16:15</td><td style=\"text-align:left\" title=\"BW\">BW</td><td style=\"text-align:left\" title=\"indikation_pflegeheim_dosen\">indikation_pflegeheim_dosen</td><td style=\"text-align:left\" title=\"0\">0</td></tr><tr><td style=\"text-align:left\" title=\"2052-12-27\">2052-12-27</td><td style=\"text-align:left\" title=\"2052-12-28 16:15\">2052-12-28 16:15</td><td style=\"text-align:left\" title=\"BW\">BW</td><td style=\"text-align:left\" title=\"dosen_differenz_zum_vortag\">dosen_differenz_zum_vortag</td><td style=\"text-align:left\" title=\"\"></td></tr><tr><td style=\"text-align:left\" title=\"2052-12-27\">2052-12-27</td><td style=\"text-align:left\" title=\"2052-12-28 16:15\">2052-12-28 16:15</td><td style=\"text-align:left\" title=\"BW\">BW</td><td style=\"text-align:left\" title=\"impf_quote_dosen\">impf_quote_dosen</td><td style=\"text-align:left\" title=\"0.018774108378495392\">0.018774108378495392</td></tr><tr><td style=\"text-align:left\" title=\"2052-12-27\">2052-12-27</td><td style=\"text-align:left\" title=\"2052-12-28 16:15\">2052-12-28 16:15</td><td style=\"text-align:left\" title=\"BW\">BW</td><td style=\"text-align:left\" title=\"impf_inzidenz_dosen\">impf_inzidenz_dosen</td><td style=\"text-align:left\" title=\"0.18774108378495394\">0.18774108378495394</td></tr><tr><td style=\"text-align:left\" title=\"2052-12-27\">2052-12-27</td><td style=\"text-align:left\" title=\"2052-12-28 16:15\">2052-12-28 16:15</td><td style=\"text-align:left\" title=\"BW\">BW</td><td style=\"text-align:left\" title=\"dosen_kumulativ_alter_unter60\">dosen_kumulativ_alter_unter60</td><td style=\"text-align:left\" title=\"\"></td></tr><tr><td style=\"text-align:left\" title=\"2052-12-27\">2052-12-27</td><td style=\"text-align:left\" title=\"2052-12-28 16:15\">2052-12-28 16:15</td><td style=\"text-align:left\" title=\"BW\">BW</td><td style=\"text-align:left\" title=\"dosen_kumulativ_alter_60plus\">dosen_kumulativ_alter_60plus</td><td style=\"text-align:left\" title=\"\"></td></tr><tr><td style=\"text-align:left\" title=\"2052-12-27\">2052-12-27</td><td style=\"text-align:left\" title=\"2052-12-28 16:15\">2052-12-28 16:15</td><td style=\"text-align:left\" title=\"BY\">BY</td><td style=\"text-align:left\" title=\"dosen_kumulativ\">dosen_kumulativ</td><td style=\"text-align:left\" title=\"3389\">3389</td></tr><tr><td style=\"text-align:left\" title=\"2052-12-27\">2052-12-27</td><td style=\"text-align:left\" title=\"2052-12-28 16:15\">2052-12-28 16:15</td><td style=\"text-align:left\" title=\"BY\">BY</td><td style=\"text-align:left\" title=\"personen_erst_kumulativ\">personen_erst_kumulativ</td><td style=\"text-align:left\" title=\"3389\">3389</td></tr><tr><td style=\"text-align:left\" title=\"2052-12-27\">2052-12-27</td><td style=\"text-align:left\" title=\"2052-12-28 16:15\">2052-12-28 16:15</td><td style=\"text-align:left\" title=\"BY\">BY</td><td style=\"text-align:left\" title=\"personen_voll_kumulativ\">personen_voll_kumulativ</td><td style=\"text-align:left\" title=\"0\">0</td></tr><tr><td style=\"text-align:left\" title=\"2052-12-27\">2052-12-27</td><td style=\"text-align:left\" title=\"2052-12-28 16:15\">2052-12-28 16:15</td><td style=\"text-align:left\" title=\"BY\">BY</td><td style=\"text-align:left\" title=\"dosen_bioneca_kumulativ\">dosen_bioneca_kumulativ</td><td style=\"text-align:left\" title=\"3389\">3389</td></tr><tr><td style=\"text-align:left\" title=\"2052-12-27\">2052-12-27</td><td style=\"text-align:left\" title=\"2052-12-28 16:15\">2052-12-28 16:15</td><td style=\"text-align:left\" title=\"BY\">BY</td><td style=\"text-align:left\" title=\"dosen_moderntech_kumulativ\">dosen_moderntech_kumulativ</td><td style=\"text-align:left\" title=\"0\">0</td></tr></table></body></html>"
      ]
     },
     "execution_count": 5,
     "metadata": {
      "new_classpath": []
     },
     "output_type": "execute_result"
    }
   ],
   "source": [
    "data.head(20)"
   ]
  },
  {
   "cell_type": "code",
   "execution_count": 5,
   "id": "yellow-experience",
   "metadata": {
    "execution": {
     "iopub.execute_input": "2021-04-14T14:03+0200",
     "iopub.status.busy": "2021-04-14T14:03+0200",
     "iopub.status.idle": "2021-04-14T14:03+0200",
     "shell.execute_reply": "2021-04-14T14:03+0200",
     "shell.execute_reply.started": "2021-04-14T14:03+0200"
    },
    "tags": []
   },
   "outputs": [
    {
     "data": {
      "text/html": [
       "<html><body><table><tr><th style=\"text-align:left\">date</th><th style=\"text-align:left\">publication_date</th><th style=\"text-align:left\">region</th><th style=\"text-align:left\">metric</th><th style=\"text-align:left\">value</th></tr><tr><td style=\"text-align:left\" title=\"2020-12-27\">2020-12-27</td><td style=\"text-align:left\" title=\"2020-12-28 16:15\">2020-12-28 16:15</td><td style=\"text-align:left\" title=\"DE\">DE</td><td style=\"text-align:left\" title=\"dosen_differenz_zum_vortag\">dosen_differenz_zum_vortag</td><td style=\"text-align:left\" title=\"1357\">1357</td></tr><tr><td style=\"text-align:left\" title=\"2020-12-28\">2020-12-28</td><td style=\"text-align:left\" title=\"2020-12-29 08:00\">2020-12-29 08:00</td><td style=\"text-align:left\" title=\"DE\">DE</td><td style=\"text-align:left\" title=\"dosen_differenz_zum_vortag\">dosen_differenz_zum_vortag</td><td style=\"text-align:left\" title=\"19084\">19084</td></tr><tr><td style=\"text-align:left\" title=\"2020-12-30\">2020-12-30</td><td style=\"text-align:left\" title=\"2020-12-31 08:30\">2020-12-31 08:30</td><td style=\"text-align:left\" title=\"DE\">DE</td><td style=\"text-align:left\" title=\"dosen_differenz_zum_vortag\">dosen_differenz_zum_vortag</td><td style=\"text-align:left\" title=\"51465\">51465</td></tr><tr><td style=\"text-align:left\" title=\"2020-12-31\">2020-12-31</td><td style=\"text-align:left\" title=\"2021-01-01 12:30\">2021-01-01 12:30</td><td style=\"text-align:left\" title=\"DE\">DE</td><td style=\"text-align:left\" title=\"dosen_differenz_zum_vortag\">dosen_differenz_zum_vortag</td><td style=\"text-align:left\" title=\"31846\">31846</td></tr><tr><td style=\"text-align:left\" title=\"2021-01-01\">2021-01-01</td><td style=\"text-align:left\" title=\"2021-01-02 08:00\">2021-01-02 08:00</td><td style=\"text-align:left\" title=\"DE\">DE</td><td style=\"text-align:left\" title=\"dosen_differenz_zum_vortag\">dosen_differenz_zum_vortag</td><td style=\"text-align:left\" title=\"21087\">21087</td></tr><tr><td style=\"text-align:left\" title=\"2021-01-02\">2021-01-02</td><td style=\"text-align:left\" title=\"2021-01-03 08:00\">2021-01-03 08:00</td><td style=\"text-align:left\" title=\"DE\">DE</td><td style=\"text-align:left\" title=\"dosen_differenz_zum_vortag\">dosen_differenz_zum_vortag</td><td style=\"text-align:left\" title=\"40665\">40665</td></tr><tr><td style=\"text-align:left\" title=\"2021-01-03\">2021-01-03</td><td style=\"text-align:left\" title=\"2021-01-04 12:00\">2021-01-04 12:00</td><td style=\"text-align:left\" title=\"DE\">DE</td><td style=\"text-align:left\" title=\"dosen_differenz_zum_vortag\">dosen_differenz_zum_vortag</td><td style=\"text-align:left\" title=\"22892\">22892</td></tr><tr><td style=\"text-align:left\" title=\"2021-01-04\">2021-01-04</td><td style=\"text-align:left\" title=\"2021-01-05 12:00\">2021-01-05 12:00</td><td style=\"text-align:left\" title=\"DE\">DE</td><td style=\"text-align:left\" title=\"dosen_differenz_zum_vortag\">dosen_differenz_zum_vortag</td><td style=\"text-align:left\" title=\"44563\">44563</td></tr><tr><td style=\"text-align:left\" title=\"2021-01-05\">2021-01-05</td><td style=\"text-align:left\" title=\"2021-01-06 11:00\">2021-01-06 11:00</td><td style=\"text-align:left\" title=\"DE\">DE</td><td style=\"text-align:left\" title=\"dosen_differenz_zum_vortag\">dosen_differenz_zum_vortag</td><td style=\"text-align:left\" title=\"45233\">45233</td></tr><tr><td style=\"text-align:left\" title=\"2021-01-06\">2021-01-06</td><td style=\"text-align:left\" title=\"2021-01-07 11:00\">2021-01-07 11:00</td><td style=\"text-align:left\" title=\"DE\">DE</td><td style=\"text-align:left\" title=\"dosen_differenz_zum_vortag\">dosen_differenz_zum_vortag</td><td style=\"text-align:left\" title=\"46332\">46332</td></tr><tr><td style=\"text-align:left\" title=\"2021-01-07\">2021-01-07</td><td style=\"text-align:left\" title=\"2021-01-08 11:00\">2021-01-08 11:00</td><td style=\"text-align:left\" title=\"DE\">DE</td><td style=\"text-align:left\" title=\"dosen_differenz_zum_vortag\">dosen_differenz_zum_vortag</td><td style=\"text-align:left\" title=\"50938\">50938</td></tr><tr><td style=\"text-align:left\" title=\"2021-01-08\">2021-01-08</td><td style=\"text-align:left\" title=\"2021-01-09 11:00\">2021-01-09 11:00</td><td style=\"text-align:left\" title=\"DE\">DE</td><td style=\"text-align:left\" title=\"dosen_differenz_zum_vortag\">dosen_differenz_zum_vortag</td><td style=\"text-align:left\" title=\"50066\">50066</td></tr><tr><td style=\"text-align:left\" title=\"2021-01-10\">2021-01-10</td><td style=\"text-align:left\" title=\"2021-01-11 11:00\">2021-01-11 11:00</td><td style=\"text-align:left\" title=\"DE\">DE</td><td style=\"text-align:left\" title=\"dosen_differenz_zum_vortag\">dosen_differenz_zum_vortag</td><td style=\"text-align:left\" title=\"28221\">28221</td></tr><tr><td style=\"text-align:left\" title=\"2021-01-11\">2021-01-11</td><td style=\"text-align:left\" title=\"2021-01-12 11:00\">2021-01-12 11:00</td><td style=\"text-align:left\" title=\"DE\">DE</td><td style=\"text-align:left\" title=\"dosen_differenz_zum_vortag\">dosen_differenz_zum_vortag</td><td style=\"text-align:left\" title=\"60858\">60858</td></tr><tr><td style=\"text-align:left\" title=\"2021-01-12\">2021-01-12</td><td style=\"text-align:left\" title=\"2021-01-13 11:00\">2021-01-13 11:00</td><td style=\"text-align:left\" title=\"DE\">DE</td><td style=\"text-align:left\" title=\"dosen_differenz_zum_vortag\">dosen_differenz_zum_vortag</td><td style=\"text-align:left\" title=\"69178\">69178</td></tr><tr><td style=\"text-align:left\" title=\"2021-01-13\">2021-01-13</td><td style=\"text-align:left\" title=\"2021-01-14 11:00\">2021-01-14 11:00</td><td style=\"text-align:left\" title=\"DE\">DE</td><td style=\"text-align:left\" title=\"dosen_differenz_zum_vortag\">dosen_differenz_zum_vortag</td><td style=\"text-align:left\" title=\"78116\">78116</td></tr><tr><td style=\"text-align:left\" title=\"2021-01-14\">2021-01-14</td><td style=\"text-align:left\" title=\"2021-01-15 11:00\">2021-01-15 11:00</td><td style=\"text-align:left\" title=\"DE\">DE</td><td style=\"text-align:left\" title=\"dosen_differenz_zum_vortag\">dosen_differenz_zum_vortag</td><td style=\"text-align:left\" title=\"94654\">94654</td></tr><tr><td style=\"text-align:left\" title=\"2021-01-15\">2021-01-15</td><td style=\"text-align:left\" title=\"2021-01-16 11:00\">2021-01-16 11:00</td><td style=\"text-align:left\" title=\"DE\">DE</td><td style=\"text-align:left\" title=\"dosen_differenz_zum_vortag\">dosen_differenz_zum_vortag</td><td style=\"text-align:left\" title=\"79759\">79759</td></tr><tr><td style=\"text-align:left\" title=\"2021-01-17\">2021-01-17</td><td style=\"text-align:left\" title=\"2021-01-18 11:00\">2021-01-18 11:00</td><td style=\"text-align:left\" title=\"DE\">DE</td><td style=\"text-align:left\" title=\"dosen_differenz_zum_vortag\">dosen_differenz_zum_vortag</td><td style=\"text-align:left\" title=\"\"></td></tr><tr><td style=\"text-align:left\" title=\"2021-01-18\">2021-01-18</td><td style=\"text-align:left\" title=\"2021-01-19 14:00\">2021-01-19 14:00</td><td style=\"text-align:left\" title=\"DE\">DE</td><td style=\"text-align:left\" title=\"dosen_differenz_zum_vortag\">dosen_differenz_zum_vortag</td><td style=\"text-align:left\" title=\"\"></td></tr></table><p>... only showing top 20 rows</p></body></html>"
      ]
     },
     "execution_count": 5,
     "metadata": {
      "new_classpath": []
     },
     "output_type": "execute_result"
    }
   ],
   "source": [
    "data.filterByRow { it[\"region\"] == \"DE\" && it[\"metric\"] == \"dosen_differenz_zum_vortag\" }"
   ]
  },
  {
   "cell_type": "markdown",
   "id": "liberal-satellite",
   "metadata": {},
   "source": [
    "## Die Daten kennenlernen\n",
    "In dieser Teilaufgabe sollen die Daten und deren Struktur kennengelernt werden. Es ist zu erkennen, dass in der Spalte metric eine Liste an Beschreibungen für die Daten, die in value zufinden sein, zu finden ist. Implementieren Sie eine Erweiterungsmethode `gibBeschreibungen()` der Klasse `DataFrame`, die alle Beschreibungen in einer Liste zurückgibt.<br />\n",
    "Beispiel: [dosen_kumulativ, personen_erst_kumulativ, personen_voll_kumulativ, ...]"
   ]
  },
  {
   "cell_type": "code",
   "execution_count": 6,
   "id": "senior-cement",
   "metadata": {
    "execution": {
     "iopub.execute_input": "2021-04-14T14:03+0200",
     "iopub.status.busy": "2021-04-14T14:03+0200",
     "iopub.status.idle": "2021-04-14T14:03+0200",
     "shell.execute_reply": "2021-04-14T14:03+0200"
    },
    "tags": []
   },
   "outputs": [
    {
     "name": "stderr",
     "output_type": "stream",
     "text": [
      "Line_8.jupyter.kts (4:9 - 26) Unresolved reference: gibBeschreibungen\n",
      "Line_8.jupyter.kts (7:84 - 101) Unresolved reference: gibBeschreibungen"
     ]
    }
   ],
   "source": [
    "//TODO\n",
    "\n",
    "val ergebnis = listOf(\"dosen_kumulativ\", \"personen_erst_kumulativ\", \"dosen_biontech_kumulativ\", \"dosen_moderna_kumulativ\", \"dosen_astrazeneca_kumulativ\", \"indikation_alter_dosen\", \"indikation_beruf_dosen\", \"indikation_medizinisch_dosen\", \"indikation_pflegeheim_dosen\", \"dosen_differenz_zum_vortag\", \"impf_quote_dosen\", \"impf_inzidenz_dosen\", \"dosen_kumulativ_alter_unter60\", \"dosen_kumulativ_alter_60plus\")\n",
    "if(data.gibBeschreibungen() == ergebnis)\n",
    "    println(\"Richtig!\")\n",
    "else\n",
    "    println(\"Falsch! Richtig wäre: \\n$ergebnis\\ndata.gibBeschreibungen(): \\n${data.gibBeschreibungen()}\")"
   ]
  },
  {
   "cell_type": "code",
   "execution_count": 7,
   "id": "south-commons",
   "metadata": {
    "execution": {
     "iopub.execute_input": "2021-04-14T14:03+0200",
     "iopub.status.busy": "2021-04-14T14:03+0200",
     "iopub.status.idle": "2021-04-14T14:03+0200",
     "shell.execute_reply": "2021-04-14T14:03+0200",
     "shell.execute_reply.started": "2021-04-14T14:03+0200"
    },
    "tags": []
   },
   "outputs": [
    {
     "name": "stdout",
     "output_type": "stream",
     "text": [
      "Falsch! Richtig wäre: \n",
      "[dosen_kumulativ, personen_erst_kumulativ, dosen_biontech_kumulativ, dosen_moderna_kumulativ, dosen_astrazeneca_kumulativ, indikation_alter_dosen, indikation_beruf_dosen, indikation_medizinisch_dosen, indikation_pflegeheim_dosen, dosen_differenz_zum_vortag, impf_quote_dosen, impf_inzidenz_dosen, dosen_kumulativ_alter_unter60, dosen_kumulativ_alter_60plus]\n",
      "data.gibBeschreibungen(): \n",
      "[dosen_kumulativ, personen_erst_kumulativ, personen_voll_kumulativ, dosen_biontech_kumulativ, dosen_moderna_kumulativ, dosen_astrazeneca_kumulativ, indikation_alter_dosen, indikation_beruf_dosen, indikation_medizinisch_dosen, indikation_pflegeheim_dosen, dosen_differenz_zum_vortag, impf_quote_dosen, impf_inzidenz_dosen, dosen_kumulativ_alter_unter60, dosen_kumulativ_alter_60plus]\n"
     ]
    }
   ],
   "source": [
    "//Lösung\n",
    "fun DataFrame.gibBeschreibungen() = this.rows.groupBy { it[\"metric\"] }.keys.toList()\n",
    "\n",
    "val ergebnis = listOf(\"dosen_kumulativ\", \"personen_erst_kumulativ\", \"dosen_biontech_kumulativ\", \"dosen_moderna_kumulativ\", \"dosen_astrazeneca_kumulativ\", \"indikation_alter_dosen\", \"indikation_beruf_dosen\", \"indikation_medizinisch_dosen\", \"indikation_pflegeheim_dosen\", \"dosen_differenz_zum_vortag\", \"impf_quote_dosen\", \"impf_inzidenz_dosen\", \"dosen_kumulativ_alter_unter60\", \"dosen_kumulativ_alter_60plus\")\n",
    "if(data.gibBeschreibungen() == ergebnis)\n",
    "    println(\"Richtig!\")\n",
    "else\n",
    "    println(\"Falsch! Richtig wäre: \\n$ergebnis\\ndata.gibBeschreibungen(): \\n${data.gibBeschreibungen()}\")"
   ]
  },
  {
   "cell_type": "markdown",
   "id": "average-filling",
   "metadata": {},
   "source": [
    "## Wieviele Dosen wurden an einem bestimmten Tag verimpft?\n",
    "Implementieren Sie eine Erweiterungsmethode `gibAnzahlDosen(datum, region)` der Klasse `DataFrame`, die die Anzahl der Impfdosen, welche an dem übergebenen Datum und in der übergebenen Region verimpft wurden, zurückgibt. Zur Vereinfachung ist anzunehmen, dass das Datum als `String` im Format `yyyy-mm-dd` und die Region als `String` mit zwei Buchstabenübergeben werden. In dieser Aufgabe soll nicht mit dem Eintrag `dosen_differenz_zum_vortag` gearbeitet werden, da die Daten unvollständig sind (näheres dazu in der nächsten Aufgabe)."
   ]
  },
  {
   "cell_type": "code",
   "execution_count": 8,
   "id": "early-object",
   "metadata": {
    "execution": {
     "iopub.execute_input": "2021-04-14T14:03+0200",
     "iopub.status.busy": "2021-04-14T14:03+0200",
     "iopub.status.idle": "2021-04-14T14:03+0200",
     "shell.execute_reply": "2021-04-14T14:03+0200"
    },
    "tags": []
   },
   "outputs": [
    {
     "name": "stderr",
     "output_type": "stream",
     "text": [
      "Line_10.jupyter.kts (7:14 - 28) Unresolved reference: gibAnzahlDosen\n",
      "Line_10.jupyter.kts (10:85 - 99) Unresolved reference: gibAnzahlDosen"
     ]
    }
   ],
   "source": [
    "//TODO\n",
    "\n",
    "\n",
    "//Test\n",
    "val tests = mapOf(\"2021-04-09\" to 544898, \"2020-12-27\" to 21566, \"2021-01-18\" to 74406)\n",
    "for ((datum, anzahl) in tests){\n",
    "    if (data.gibAnzahlDosen(datum, \"DE\") == anzahl)\n",
    "        println(\"Richtig!\")\n",
    "    else\n",
    "        println(\"Falsch! Richtig wäre: $anzahl\\ndata.gibAnzahlDosen($datum): ${data.gibAnzahlDosen(datum, \"DE\")}\")\n",
    "}"
   ]
  },
  {
   "cell_type": "code",
   "execution_count": 9,
   "id": "greatest-newton",
   "metadata": {
    "execution": {
     "iopub.execute_input": "2021-04-14T14:03+0200",
     "iopub.status.busy": "2021-04-14T14:03+0200",
     "iopub.status.idle": "2021-04-14T14:03+0200",
     "shell.execute_reply": "2021-04-14T14:03+0200",
     "shell.execute_reply.started": "2021-04-14T14:03+0200"
    },
    "tags": []
   },
   "outputs": [
    {
     "name": "stdout",
     "output_type": "stream",
     "text": [
      "Richtig!\n",
      "Richtig!\n",
      "Richtig!\n"
     ]
    }
   ],
   "source": [
    "//Lösung\n",
    "fun DataFrame.gibAnzahlDosen(datum: String, region: String): Int {\n",
    "    val dosenKumulativ = data.filterByRow { it[\"metric\"] == \"dosen_kumulativ\" && it[\"region\"] == region }.addRowNumber()\n",
    "    val rowNumber = dosenKumulativ.rows.find { it[\"date\"] == datum }?.get(\"row_number\")\n",
    "    val rowGestern = (rowNumber as Int?)?.minus(1)\n",
    "    if (rowGestern == 0){\n",
    "        return (dosenKumulativ.rows.find { it[\"row_number\"] == rowNumber }?.get(\"value\") as String).toInt()\n",
    "    }\n",
    "    else {\n",
    "        val dosenHeute = dosenKumulativ.rows.find { it[\"row_number\"] == rowNumber }?.get(\"value\") as String?\n",
    "        val dosenGestern = dosenKumulativ.rows.find { it[\"row_number\"] == rowGestern }?.get(\"value\") as String?\n",
    "        if (dosenHeute != null && dosenGestern != null){\n",
    "            return dosenHeute?.toInt() - dosenGestern?.toInt()\n",
    "        }\n",
    "        return -1\n",
    "    }\n",
    "}\n",
    "\n",
    "//Test\n",
    "val tests = mapOf(\"2021-04-09\" to 544898, \"2020-12-27\" to 21566, \"2021-01-18\" to 74406)\n",
    "for ((datum, anzahl) in tests){\n",
    "    if (data.gibAnzahlDosen(datum, \"DE\") == anzahl)\n",
    "        println(\"Richtig!\")\n",
    "    else\n",
    "        println(\"Falsch! Richtig wäre: $anzahl\\ndata.gibAnzahlDosen($datum): ${data.gibAnzahlDosen(datum, \"DE\")}\")\n",
    "}"
   ]
  },
  {
   "cell_type": "markdown",
   "id": "defensive-parallel",
   "metadata": {},
   "source": [
    "## Verbesserung der Daten\n",
    "Mit der Methode `gibAnzahlDosen(datum, region)` kann nun die Differenz der Dosen zum Vortag ausgerechnet werden. Da der Datensatz einige Lücken bezüglich dem Eintrag `dosen_differenz_zum_vortag` hat, sollen diese jetzt geschlossen werden. Dazu bauen wir uns einen neuen Datensatz `dataVollstaendig` zusammen. Das Grundgerüst des `DataFrame`s ist bereits vorbereitet. Eine Zeile kann mit der Methode [`bindRows(map)`](https://holgerbrandl.github.io/krangl/javadoc/krangl/krangl/bind-rows.html) angehängt werden.\n",
    "\n",
    "### Zusatzaufgabe\n",
    "In den Rohdaten sind in der Spalte Daten des Typs `String` zu finden. Für eine einfachere Verwendung der Daten wäre aber ein numerischer Datentyp besser. Ändern Sie deshalb den Datentyp der Rohdaten in dieser Spalte  zu `Double`. Falls keine Daten vorhanden sind, soll -1.0 eingetragen werden."
   ]
  },
  {
   "cell_type": "code",
   "execution_count": 10,
   "id": "extraordinary-routine",
   "metadata": {
    "execution": {
     "iopub.execute_input": "2021-04-14T14:03+0200",
     "iopub.status.busy": "2021-04-14T14:03+0200",
     "iopub.status.idle": "2021-04-14T14:03+0200",
     "shell.execute_reply": "2021-04-14T14:03+0200"
    },
    "tags": []
   },
   "outputs": [
    {
     "name": "stdout",
     "output_type": "stream",
     "text": [
      "Richtig!\n"
     ]
    },
    {
     "name": "stderr",
     "output_type": "stream",
     "text": [
      "java.util.NoSuchElementException: Could not find column 'value' in dataframe\n",
      "krangl.SimpleDataFrame.get(SimpleDataFrame.kt:129)\n",
      "Line_12_jupyter.<init>(Line_12.jupyter.kts:16)\n",
      "java.base/jdk.internal.reflect.NativeConstructorAccessorImpl.newInstance0(Native Method)\n",
      "java.base/jdk.internal.reflect.NativeConstructorAccessorImpl.newInstance(NativeConstructorAccessorImpl.java:64)\n",
      "java.base/jdk.internal.reflect.DelegatingConstructorAccessorImpl.newInstance(DelegatingConstructorAccessorImpl.java:45)\n",
      "java.base/java.lang.reflect.Constructor.newInstanceWithCaller(Constructor.java:500)\n",
      "java.base/java.lang.reflect.Constructor.newInstance(Constructor.java:481)\n",
      "kotlin.script.experimental.jvm.BasicJvmScriptEvaluator.evalWithConfigAndOtherScriptsResults(BasicJvmScriptEvaluator.kt:96)\n",
      "kotlin.script.experimental.jvm.BasicJvmScriptEvaluator.invoke$suspendImpl(BasicJvmScriptEvaluator.kt:41)\n",
      "kotlin.script.experimental.jvm.BasicJvmScriptEvaluator.invoke(BasicJvmScriptEvaluator.kt)\n",
      "kotlin.script.experimental.jvm.BasicJvmReplEvaluator.eval(BasicJvmReplEvaluator.kt:51)\n",
      "org.jetbrains.kotlin.jupyter.ReplForJupyterImpl$doEval$resultWithDiagnostics$1.invokeSuspend(repl.kt:604)\n",
      "kotlin.coroutines.jvm.internal.BaseContinuationImpl.resumeWith(ContinuationImpl.kt:33)\n",
      "kotlinx.coroutines.DispatchedTask.run(DispatchedTask.kt:56)\n",
      "kotlinx.coroutines.EventLoopImplBase.processNextEvent(EventLoop.common.kt:274)\n",
      "kotlinx.coroutines.BlockingCoroutine.joinBlocking(Builders.kt:84)\n",
      "kotlinx.coroutines.BuildersKt__BuildersKt.runBlocking(Builders.kt:59)\n",
      "kotlinx.coroutines.BuildersKt.runBlocking(Unknown Source)\n",
      "kotlinx.coroutines.BuildersKt__BuildersKt.runBlocking$default(Builders.kt:38)\n",
      "kotlinx.coroutines.BuildersKt.runBlocking$default(Unknown Source)\n",
      "org.jetbrains.kotlin.jupyter.ReplForJupyterImpl.doEval(repl.kt:604)\n",
      "org.jetbrains.kotlin.jupyter.ReplForJupyterImpl.eval(repl.kt:434)\n",
      "org.jetbrains.kotlin.jupyter.ProtocolKt$shellMessagesHandler$res$1.invoke(protocol.kt:248)\n",
      "org.jetbrains.kotlin.jupyter.ProtocolKt$shellMessagesHandler$res$1.invoke(protocol.kt)\n",
      "org.jetbrains.kotlin.jupyter.ProtocolKt.evalWithIO(protocol.kt:400)\n",
      "org.jetbrains.kotlin.jupyter.ProtocolKt.shellMessagesHandler(protocol.kt:247)\n",
      "org.jetbrains.kotlin.jupyter.IkotlinKt.kernelServer(ikotlin.kt:127)\n",
      "org.jetbrains.kotlin.jupyter.IkotlinKt.kernelServer$default(ikotlin.kt:95)\n",
      "org.jetbrains.kotlin.jupyter.IkotlinKt.main(ikotlin.kt:72)\n"
     ]
    }
   ],
   "source": [
    "var dataVollstaendig: DataFrame = emptyDataFrame()\n",
    "//TODO\n",
    "\n",
    "//Test\n",
    "val luecken = (dataVollstaendig.filterByRow { it[\"metric\"] == \"dosen_differenz_zum_vortag\" && \n",
    "        if (dataVollstaendig.get(\"value\")::class.simpleName == \"DoubleCol\")\n",
    "            it[\"value\"] == -1\n",
    "        else \n",
    "            it[\"value\"] == \"\"\n",
    "    }.count().get(0).get(0) as Int)\n",
    "if (luecken == 0)\n",
    "    println(\"Richtig!\")\n",
    "else\n",
    "    println(\"Falsch! Richtig wäre: 0\\nAnzahl der Lücken: ${luecken}\")\n",
    "//Test der Zusatzaufgabe\n",
    "if( dataVollstaendig.get(\"value\")::class.simpleName == \"DoubleCol\" )\n",
    "    println(\"Zusatz: Richtiger Datentyp!\")\n",
    "else\n",
    "    println(\"Zusatz: Falsch! Richtig wäre der Datentyp: DoubleCol, Aktueller Datentyp: ${dataVollstaendig.get(\"value\")::class.simpleName}\")"
   ]
  },
  {
   "cell_type": "code",
   "execution_count": 11,
   "id": "equipped-dimension",
   "metadata": {
    "execution": {
     "iopub.execute_input": "2021-04-14T14:03+0200",
     "iopub.status.busy": "2021-04-14T14:03+0200",
     "iopub.status.idle": "2021-04-14T14:04+0200",
     "shell.execute_reply": "2021-04-14T14:04+0200",
     "shell.execute_reply.started": "2021-04-14T14:03+0200"
    },
    "tags": []
   },
   "outputs": [
    {
     "name": "stdout",
     "output_type": "stream",
     "text": [
      "Richtig!\n",
      "Zusatz: Falsch! Richtig wäre der Datentyp: DoubleCol, Aktueller Datentyp: StringCol\n"
     ]
    }
   ],
   "source": [
    "//Lösung\n",
    "var dataVollstaendig: DataFrame = emptyDataFrame()\n",
    "data.rows.forEach {\n",
    "    if (it[\"metric\"] != \"dosen_differenz_zum_vortag\"){\n",
    "        dataVollstaendig = dataVollstaendig.bindRows(\n",
    "            mapOf(\"date\" to it[\"date\"], \"publication_date\" to it[\"publication_date\"], \"region\" to it[\"region\"], \"metric\" to it[\"metric\"], \"value\" to it[\"value\"])\n",
    "        ) \n",
    "    }\n",
    "    else{\n",
    "        val diff: String = data.gibAnzahlDosen(it[\"date\"] as String, it[\"region\"] as String).toString()\n",
    "        dataVollstaendig = dataVollstaendig.bindRows(\n",
    "            mapOf(\"date\" to it[\"date\"], \"publication_date\" to it[\"publication_date\"], \"region\" to it[\"region\"], \"metric\" to it[\"metric\"], \"value\" to diff)\n",
    "        )\n",
    "    }\n",
    "        \n",
    "}\n",
    "\n",
    "//Test\n",
    "val luecken = (dataVollstaendig.filterByRow { it[\"metric\"] == \"dosen_differenz_zum_vortag\" && \n",
    "        if (dataVollstaendig.get(\"value\")::class.simpleName == \"DoubleCol\")\n",
    "            it[\"value\"] == -1\n",
    "        else \n",
    "            it[\"value\"] == \"\"\n",
    "    }.count().get(0).get(0) as Int)\n",
    "if (luecken == 0)\n",
    "    println(\"Richtig!\")\n",
    "else\n",
    "    println(\"Falsch! Richtig wäre: 0\\nAnzahl der Lücken: ${luecken}\")\n",
    "//Test der Zusatzaufgabe\n",
    "if( dataVollstaendig.get(\"value\")::class.simpleName == \"DoubleCol\" )\n",
    "    println(\"Zusatz: Richtiger Datentyp!\")\n",
    "else\n",
    "    println(\"Zusatz: Falsch! Richtig wäre der Datentyp: DoubleCol, Aktueller Datentyp: ${dataVollstaendig.get(\"value\")::class.simpleName}\")"
   ]
  },
  {
   "cell_type": "code",
   "execution_count": 18,
   "id": "later-impact",
   "metadata": {
    "execution": {
     "iopub.execute_input": "2021-04-14T14:04+0200",
     "iopub.status.busy": "2021-04-14T14:04+0200",
     "iopub.status.idle": "2021-04-14T14:05+0200",
     "shell.execute_reply": "2021-04-14T14:05+0200",
     "shell.execute_reply.started": "2021-04-14T14:04+0200"
    },
    "tags": []
   },
   "outputs": [
    {
     "name": "stdout",
     "output_type": "stream",
     "text": [
      "Richtige Werte!\n",
      "Richtiger Datentyp!\n"
     ]
    }
   ],
   "source": [
    "//Erweiterung\n",
    "var dataVollstaendigZusatz: DataFrame = emptyDataFrame()\n",
    "data.rows.forEach {\n",
    "    if (it[\"metric\"] != \"dosen_differenz_zum_vortag\"){\n",
    "        if(it[\"value\"] == \"\"){\n",
    "            dataVollstaendigZusatz = dataVollstaendigZusatz.bindRows(\n",
    "                mapOf(\"date\" to it[\"date\"], \"publication_date\" to it[\"publication_date\"], \"region\" to it[\"region\"], \"metric\" to it[\"metric\"], \"value\" to -1.0)\n",
    "            )\n",
    "        }\n",
    "        else{\n",
    "            dataVollstaendigZusatz = dataVollstaendigZusatz.bindRows(\n",
    "                mapOf(\"date\" to it[\"date\"], \"publication_date\" to it[\"publication_date\"], \"region\" to it[\"region\"], \"metric\" to it[\"metric\"], \"value\" to (it[\"value\"] as String).toDouble())\n",
    "            )\n",
    "        }  \n",
    "    }\n",
    "    else{\n",
    "        val diff = data.gibAnzahlDosen(it[\"date\"] as String, it[\"region\"] as String).toDouble()\n",
    "        dataVollstaendigZusatz = dataVollstaendigZusatz.bindRows(\n",
    "            mapOf(\"date\" to it[\"date\"], \"publication_date\" to it[\"publication_date\"], \"region\" to it[\"region\"], \"metric\" to it[\"metric\"], \"value\" to diff)\n",
    "        )\n",
    "    }\n",
    "        \n",
    "}\n",
    "\n",
    "//Test\n",
    "val luecken = (dataVollstaendig.filterByRow { it[\"metric\"] == \"dosen_differenz_zum_vortag\" && \n",
    "        if (dataVollstaendig.get(\"value\")::class.simpleName == \"DoubleCol\")\n",
    "            it[\"value\"] == -1\n",
    "        else \n",
    "            it[\"value\"] == \"\"\n",
    "    }.count().get(0).get(0) as Int)\n",
    "if (luecken == 0)\n",
    "    println(\"Richtige Werte!\")\n",
    "else\n",
    "    println(\"Falsch! Richtig wäre: 0\\nAnzahl der Lücken: ${luecken}\")\n",
    "//Test der Zusatzaufgabe\n",
    "if( dataVollstaendigZusatz.get(\"value\")::class.simpleName == \"DoubleCol\" )\n",
    "    println(\"Richtiger Datentyp!\")\n",
    "else\n",
    "    println(\"Zusatz: Falsch! Richtig wäre der Datentyp: DoubleCol, Aktueller Datentyp: ${dataVollstaendigZusatz.get(\"value\")::class.simpleName}\")"
   ]
  },
  {
   "cell_type": "markdown",
   "id": "victorian-thong",
   "metadata": {
    "execution": {
     "iopub.execute_input": "2021-04-11T16:33+0200",
     "iopub.status.busy": "2021-04-11T16:33+0200",
     "iopub.status.idle": "2021-04-11T16:33+0200",
     "shell.execute_reply": "2021-04-11T16:33+0200",
     "shell.execute_reply.started": "2021-04-11T16:33+0200"
    },
    "tags": []
   },
   "source": [
    "## Wann wurden am Meisten Dosen mit dem Indikator Alter verimpft?\n",
    "In den Daten ist außerdem angegeben aus welchem Grund eine Impfung verabreicht wurde. Implementieren Sie eine Erweiterungsmethode `gibDatumAlter()`, die das Datum des Tages zurückgibt, an dem am meisten Dosen augrund der Indikation Alter verabreicht wurden."
   ]
  },
  {
   "cell_type": "code",
   "execution_count": 13,
   "id": "former-mattress",
   "metadata": {
    "execution": {
     "iopub.execute_input": "2021-04-14T14:04+0200",
     "iopub.status.busy": "2021-04-14T14:04+0200",
     "iopub.status.idle": "2021-04-14T14:04+0200",
     "shell.execute_reply": "2021-04-14T14:04+0200"
    }
   },
   "outputs": [
    {
     "name": "stderr",
     "output_type": "stream",
     "text": [
      "Line_15.jupyter.kts (4:22 - 35) Unresolved reference: gibDatumAlter\n",
      "Line_15.jupyter.kts (8:98 - 111) Unresolved reference: gibDatumAlter"
     ]
    }
   ],
   "source": [
    "//TODO\n",
    "\n",
    "//Test\n",
    "if (dataVollstaendig.gibDatumAlter() == \"2021-04-05\"){\n",
    "    println(\"Richtig!\")\n",
    "}\n",
    "else{\n",
    "    println(\"Falsch! Das Ergebnis müsste eigentlich 2021-04-05 sein, ist aber ${dataVollstaendig.gibDatumAlter()}.\")\n",
    "}"
   ]
  },
  {
   "cell_type": "code",
   "execution_count": 14,
   "id": "handed-aberdeen",
   "metadata": {
    "execution": {
     "iopub.execute_input": "2021-04-14T14:04+0200",
     "iopub.status.busy": "2021-04-14T14:04+0200",
     "iopub.status.idle": "2021-04-14T14:04+0200",
     "shell.execute_reply": "2021-04-14T14:04+0200",
     "shell.execute_reply.started": "2021-04-14T14:04+0200"
    },
    "tags": []
   },
   "outputs": [
    {
     "name": "stdout",
     "output_type": "stream",
     "text": [
      "Richtig!\n"
     ]
    }
   ],
   "source": [
    "//Lösung mit reduce\n",
    "fun DataFrame.gibDatumAlter(): String {\n",
    "    val alter = this.filterByRow { it[\"metric\"] == \"indikation_alter_dosen\" && it[\"region\"] == \"DE\" && it[\"value\"] != \"\" }.addRowNumber()\n",
    "    return alter.rows.reduce { zeile1, zeile2 ->\n",
    "        val anzahlZeile1 = (zeile1[\"value\"] as String).toDouble()\n",
    "        val anzahlZeile2 = (zeile2[\"value\"] as String).toDouble()\n",
    "        val dif01 = if (zeile1[\"row_number\"] == 1)\n",
    "                        anzahlZeile1\n",
    "                    else{\n",
    "                        val anzahlZeile0 = (alter.row((zeile1[\"row_number\"] as Int)-2)[\"value\"] as String).toDouble()\n",
    "                        anzahlZeile1 - anzahlZeile0\n",
    "                    }\n",
    "        val dif12 = anzahlZeile2 - anzahlZeile1\n",
    "        if(dif01 > dif12){\n",
    "            zeile1\n",
    "        }\n",
    "        else{\n",
    "            zeile2\n",
    "        }\n",
    "    }.get(\"date\") as String\n",
    "}\n",
    "\n",
    "//Test\n",
    "if (dataVollstaendig.gibDatumAlter() == \"2021-04-05\"){\n",
    "    println(\"Richtig!\")\n",
    "}\n",
    "else{\n",
    "    println(\"Falsch! Das Ergebnis müsste eigentlich 2021-04-05 sein, ist aber ${dataVollstaendig.gibDatumAlter()}.\")\n",
    "}"
   ]
  },
  {
   "cell_type": "code",
   "execution_count": 15,
   "id": "committed-indonesian",
   "metadata": {
    "execution": {
     "iopub.execute_input": "2021-04-14T14:04+0200",
     "iopub.status.busy": "2021-04-14T14:04+0200",
     "iopub.status.idle": "2021-04-14T14:04+0200",
     "shell.execute_reply": "2021-04-14T14:04+0200",
     "shell.execute_reply.started": "2021-04-14T14:04+0200"
    },
    "tags": []
   },
   "outputs": [
    {
     "name": "stdout",
     "output_type": "stream",
     "text": [
      "Richtig!\n"
     ]
    }
   ],
   "source": [
    "//Lösung mit maxBy\n",
    "fun DataFrame.gibDatumAlter(): String {\n",
    "  val alter = this.filterByRow { it[\"metric\"] == \"indikation_alter_dosen\" && it[\"region\"] == \"DE\" && it[\"value\"] != \"\" }.addRowNumber()\n",
    "    var zeileAlter = alter.rows.maxBy { \n",
    "        val anzahlZeile1 = (it[\"value\"] as String).toDouble()\n",
    "        if (it[\"row_number\"] == 1 || it[\"row_number\"] == 0)\n",
    "            anzahlZeile1\n",
    "        else{\n",
    "            val anzahlZeile0 = (alter.row((it[\"row_number\"] as Int)-2)[\"value\"] as String).toDouble()\n",
    "            anzahlZeile1 - anzahlZeile0\n",
    "        }\n",
    "    }\n",
    "    return zeileAlter?.get(\"date\") as String\n",
    "}\n",
    "\n",
    "//Test\n",
    "if (dataVollstaendig.gibDatumAlter() == \"2021-04-05\"){\n",
    "    println(\"Richtig!\")\n",
    "}\n",
    "else{\n",
    "    println(\"Falsch! Das Ergebnis müsste eigentlich 2021-04-05 sein, ist aber ${dataVollstaendig.gibDatumAlter()}.\")\n",
    "}"
   ]
  },
  {
   "cell_type": "markdown",
   "id": "dangerous-cornell",
   "metadata": {},
   "source": [
    "## Wer wird eigentlich geimpft?\n",
    "In dieser Aufgabe soll der Frage nachgegangen werden, wer eigentlich geimpft wird. In den Daten gibt es dazu 4 Metriken: indikation_alter_dosen, indikation_beruf_dosen, indikation_medizinisch_dosen, indikation_pflegeheim_dosen. Implementieren Sie eine Erweiterungsmethode `gibIndikationen()` der Klasse `DataFrame`, die eine Liste des Datentyps `List<Map<String, Map<String, Any>>>` zurückgibt. In dieser soll für jedes Datum eine Map, in der die verschiedenenen Indikationen der Schlüssel (Alter, Beruf, Medizinisch, Pflegeheim) sind, existieren. Die Werte zu den Indikationen sind die an diesem Tag verimpften Dosen für diese Indikation. Außerdem soll unter dem Schlüssel Max eine weitere Map zu finden sein, die als Schlüssel die Indikation mit den meisten Dosen an diesem Datum und als Wert die Anzahl besitzt.<br />\n",
    "Beispiel:<br />\n",
    "[{2020-12-27={Alter=5833.0, Beruf=7618.0, Medizinisch=962.0, Pflegeheim=11646.0, Max={Pflegeheim=11646.0}}}, {2020-12-28={Alter=6399.0, Beruf=7346.0, Medizinisch=699.0, Pflegeheim=10121.0, Max={Pflegeheim=10121.0}}}, ... ]"
   ]
  },
  {
   "cell_type": "code",
   "execution_count": 16,
   "id": "surrounded-remove",
   "metadata": {
    "execution": {
     "iopub.execute_input": "2021-04-14T14:04+0200",
     "iopub.status.busy": "2021-04-14T14:04+0200",
     "iopub.status.idle": "2021-04-14T14:04+0200",
     "shell.execute_reply": "2021-04-14T14:04+0200"
    }
   },
   "outputs": [
    {
     "name": "stderr",
     "output_type": "stream",
     "text": [
      "Line_18.jupyter.kts (3:1 - 2) A 'return' expression required in a function with a block body ('{...}')\n",
      "Line_18.jupyter.kts (21:10 - 19) Variable 'indikator' is never used"
     ]
    }
   ],
   "source": [
    "fun DataFrame.gibIndikationen(): List<Map<String, Map<String, Any>>> {\n",
    "    //TODO\n",
    "}\n",
    "\n",
    "//Test\n",
    "val testData = dataVollstaendig.gibIndikationen()\n",
    "var tests = 0\n",
    "var fehler = 0\n",
    "val testZeilen = listOf(\"{2020-12-27={Alter=5833.0, Beruf=7618.0, Medizinisch=962.0, Pflegeheim=11646.0, Max={Pflegeheim=11646.0}}}\", \"{2020-12-28={Alter=6399.0, Beruf=7346.0, Medizinisch=699.0, Pflegeheim=10121.0, Max={Pflegeheim=10121.0}}}\")\n",
    "for (i in 0 until testZeilen.size){\n",
    "    if (testData[i].toString() != testZeilen[i]){\n",
    "        println(\"Falsch! Richtige Zeile:\\n${testZeilen[i]}\\nAktuell:\\n${testData[i].toString()}\")\n",
    "        fehler++\n",
    "    }\n",
    "    tests++\n",
    "}\n",
    "\n",
    "testData.forEach {\n",
    "    val max = it.values.toList()[0].values.take(4).toList().maxByOrNull { it as Double }\n",
    "    var string = it.values.toList()[0].values.drop(4)[0].toString()\n",
    "    val (indikator, dosen) = string.substring(1, string.length-1).split(\"=\")\n",
    "    if(max != dosen.toDouble()){\n",
    "        println(\"Falsch! Das Maximum müsste eigentlich $max sein, ist aber $dosen. Zeile: $it\")\n",
    "        fehler++\n",
    "    }\n",
    "    tests++\n",
    "}\n",
    "\n",
    "if(fehler == 0)\n",
    "    println(\"Super! Alle $tests Tests bestanden!\")\n",
    "else\n",
    "    println(\"Bei $fehler vom $tests Tests kamen Fehler auf.\")"
   ]
  },
  {
   "cell_type": "code",
   "execution_count": 17,
   "id": "operational-repair",
   "metadata": {
    "execution": {
     "iopub.execute_input": "2021-04-14T14:04+0200",
     "iopub.status.busy": "2021-04-14T14:04+0200",
     "iopub.status.idle": "2021-04-14T14:04+0200",
     "shell.execute_reply": "2021-04-14T14:04+0200",
     "shell.execute_reply.started": "2021-04-14T14:04+0200"
    },
    "tags": []
   },
   "outputs": [
    {
     "name": "stdout",
     "output_type": "stream",
     "text": [
      "Super! Alle 87 Tests bestanden!\n"
     ]
    }
   ],
   "source": [
    "//Lösung\n",
    "fun DataFrame.gibIndikationen(): List<Map<String, Map<String, Any>>> {\n",
    "    val filtered = this.filterByRow { \n",
    "        (it[\"metric\"] == \"indikation_alter_dosen\" || it[\"metric\"] == \"indikation_beruf_dosen\" || \n",
    "        it[\"metric\"] == \"indikation_medizinisch_dosen\" || it[\"metric\"] == \"indikation_pflegeheim_dosen\" ) \n",
    "        && it[\"region\"] == \"DE\" && it[\"value\"] != \"\" \n",
    "    }.addRowNumber()\n",
    "    return filtered.groupBy(\"date\").groups().map { \n",
    "        val alter = (it[\"value\"][0] as String).toDouble() \n",
    "        val diffAlter: Double = if (it[\"row_number\"][0] as Int > 4){\n",
    "                            val zeile0 = (it[\"row_number\"][0] as Int) - 5\n",
    "                            val alter0 = (filtered.row(zeile0)[\"value\"] as String).toDouble()\n",
    "                            alter - alter0\n",
    "                        }\n",
    "                        else{\n",
    "                            alter\n",
    "                        }\n",
    "        val beruf = (it[\"value\"][1] as String).toDouble()\n",
    "        val diffBeruf: Double = if (it[\"row_number\"][1] as Int > 4){\n",
    "                            val zeile0 = (it[\"row_number\"][1] as Int) - 5\n",
    "                            val beruf0 = (filtered.row(zeile0)[\"value\"] as String).toDouble()\n",
    "                            beruf - beruf0\n",
    "                        }\n",
    "                        else{\n",
    "                            beruf\n",
    "                        }\n",
    "        val medi = (it[\"value\"][2] as String).toDouble()\n",
    "        val diffMedi: Double = if (it[\"row_number\"][2] as Int > 4){\n",
    "                            val zeile0 = (it[\"row_number\"][2] as Int) - 5\n",
    "                            val medi0 = (filtered.row(zeile0)[\"value\"] as String).toDouble()\n",
    "                            medi - medi0\n",
    "                        }\n",
    "                        else{\n",
    "                            medi\n",
    "                        }\n",
    "        val pflege = (it[\"value\"][3] as String).toDouble()\n",
    "        val diffPflege: Double = if (it[\"row_number\"][3] as Int > 4){\n",
    "                            val zeile0 = (it[\"row_number\"][3] as Int) - 5\n",
    "                            val pflege0 = (filtered.row(zeile0)[\"value\"] as String).toDouble()\n",
    "                            pflege - pflege0\n",
    "                        }\n",
    "                        else{\n",
    "                            pflege\n",
    "                        }\n",
    "        val max = mapOf(\n",
    "            when (listOf(diffAlter, diffBeruf, diffMedi, diffPflege).maxOrNull()){\n",
    "                diffAlter -> \"Alter\";\n",
    "                diffBeruf -> \"Beruf\";\n",
    "                diffMedi -> \"Medizinisch\";\n",
    "                diffPflege -> \"Pflegeheim\";\n",
    "                else -> \"else\"\n",
    "            }\n",
    "            to\n",
    "             listOf(diffAlter, diffBeruf, diffMedi, diffPflege).maxOrNull()\n",
    "        )\n",
    "        mapOf(it[\"date\"][0] as String to mapOf(\"Alter\" to diffAlter, \"Beruf\" to diffBeruf, \"Medizinisch\" to diffMedi, \"Pflegeheim\" to diffPflege, \"Max\" to max))\n",
    "    }\n",
    "}\n",
    "\n",
    "//Test\n",
    "val testData = dataVollstaendig.gibIndikationen()\n",
    "var tests = 0\n",
    "var fehler = 0\n",
    "val testZeilen = listOf(\"{2020-12-27={Alter=5833.0, Beruf=7618.0, Medizinisch=962.0, Pflegeheim=11646.0, Max={Pflegeheim=11646.0}}}\", \"{2020-12-28={Alter=6399.0, Beruf=7346.0, Medizinisch=699.0, Pflegeheim=10121.0, Max={Pflegeheim=10121.0}}}\")\n",
    "for (i in 0 until testZeilen.size){\n",
    "    if (testData[i].toString() != testZeilen[i]){\n",
    "        println(\"Falsch! Richtige Zeile:\\n${testZeilen[i]}\\nAktuell:\\n${testData[i].toString()}\")\n",
    "        fehler++\n",
    "    }\n",
    "    tests++\n",
    "}\n",
    "\n",
    "testData.forEach {\n",
    "    val max = it.values.toList()[0].values.take(4).toList().maxByOrNull { it as Double }\n",
    "    var string = it.values.toList()[0].values.drop(4)[0].toString()\n",
    "    val (indikator, dosen) = string.substring(1, string.length-1).split(\"=\")\n",
    "    if(max != dosen.toDouble()){\n",
    "        println(\"Falsch! Das Maximum müsste eigentlich $max sein, ist aber $dosen. Zeile: $it\")\n",
    "        fehler++\n",
    "    }\n",
    "    tests++\n",
    "}\n",
    "\n",
    "if(fehler == 0)\n",
    "    println(\"Super! Alle $tests Tests bestanden!\")\n",
    "else\n",
    "    println(\"Bei $fehler vom $tests Tests kamen Fehler auf.\")"
   ]
  },
  {
   "cell_type": "code",
   "execution_count": null,
   "id": "periodic-coordinator",
   "metadata": {},
   "outputs": [],
   "source": []
  }
 ],
 "metadata": {
  "kernelspec": {
   "display_name": "Kotlin",
   "language": "kotlin",
   "name": "kotlin"
  },
  "language_info": {
   "codemirror_mode": "text/x-kotlin",
   "file_extension": ".kt",
   "mimetype": "text/x-kotlin",
   "name": "kotlin",
   "pygments_lexer": "kotlin",
   "version": "1.5.0-dev-1206"
  }
 },
 "nbformat": 4,
 "nbformat_minor": 5
}
