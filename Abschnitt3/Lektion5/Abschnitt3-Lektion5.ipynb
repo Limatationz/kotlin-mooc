{
 "cells": [
  {
   "cell_type": "markdown",
   "id": "c8903ba2",
   "metadata": {},
   "source": [
    "<img src=\"../images/Lektion5.png\" style=\"margin: 20px 0px 20px 0px\"/>\n",
    "<h2 style=\"display:none\">Lektion 5 - Vererbung</h2>\n",
    "\n",
    "\n",
    "In Kotlin kann nicht von einer beliebigen Klasse geerbt werden. Diese muss als Voraussetzung den Vorsatz `open` besitzen. Dadurch wird signalisiert, dass eine Vererbung stattfinden darf. Der Namen der Klasse, von der geerbt werden soll, ist mit einem `:` getrennt hinter den Parameterklammern der erbenden Klasse zu schreiben. Dem Konstruktor der Super-Klasse werden die Parameter direkt im Kopf der Klasse übergeben. "
   ]
  },
  {
   "cell_type": "code",
   "execution_count": 1,
   "id": "4508e8f6",
   "metadata": {
    "execution": {
     "iopub.execute_input": "2021-11-18T12:16+0100",
     "iopub.status.busy": "2021-11-18T12:16+0100",
     "iopub.status.idle": "2021-11-18T12:16+0100",
     "shell.execute_reply": "2021-11-18T12:16+0100",
     "shell.execute_reply.started": "2021-11-18T12:16+0100"
    },
    "tags": []
   },
   "outputs": [
    {
     "name": "stdout",
     "output_type": "stream",
     "text": [
      "p1: Mein Name ist Max Mustermann und ich bin 25 Jahre alt.\n",
      "s1: Mein Name ist Erika Mustermann, ich bin 21 Jahre alt und besitze die Matrikelnummer 0.\n"
     ]
    }
   ],
   "source": [
    "open class Person(val name: String, var alter: Int) { //Super-Klasse\n",
    "    override fun toString() = \"Mein Name ist $name und ich bin $alter Jahre alt.\"\n",
    "}\n",
    "\n",
    "class Student(name: String, alter: Int) : Person(name, alter){ //Sub-Klasse, die von Person erbt\n",
    "    companion object {\n",
    "        var zaehler = 0\n",
    "            get() = field++\n",
    "    }\n",
    "    val matrikelnummer = zaehler\n",
    "    \n",
    "    override fun toString() = \"Mein Name ist $name, ich bin $alter Jahre alt und besitze die Matrikelnummer $matrikelnummer.\"\n",
    "}\n",
    "\n",
    "val p1 = Person (\"Max Mustermann\", 25)\n",
    "val s1 = Student (\"Erika Mustermann\", 21)\n",
    "println(\"p1: $p1\")\n",
    "println(\"s1: $s1\")"
   ]
  },
  {
   "cell_type": "markdown",
   "id": "b1f6414f",
   "metadata": {},
   "source": [
    "### Felder und Methoden überschreiben\n",
    "Sollen Felder oder Methoden der Super-Klasse in der Sub-Klasse überschrieben werden, müssen diese ebenfalls mit `open` gekennzeichnet werden. Erst dann ist es möglich das gleiche Feld oder die gleiche Methode in der Sub-Klasse mit dem Zusatz `override` zu definieren. Soll auf das Feld oder die Methode der Oberklasse zugegriffen werden, findet das Schlüsselwort `super` Anwendung. Bei Mehrfachvererbung wird die nächst höhere Klasse angesprochen."
   ]
  },
  {
   "cell_type": "code",
   "execution_count": 2,
   "id": "7097dae0",
   "metadata": {
    "execution": {
     "iopub.execute_input": "2021-11-18T12:16+0100",
     "iopub.status.busy": "2021-11-18T12:16+0100",
     "iopub.status.idle": "2021-11-18T12:16+0100",
     "shell.execute_reply": "2021-11-18T12:16+0100",
     "shell.execute_reply.started": "2021-11-18T12:16+0100"
    },
    "tags": []
   },
   "outputs": [
    {
     "name": "stdout",
     "output_type": "stream",
     "text": [
      "p1: Mein Name ist Max Mustermann und ich bin 25 Jahre alt. Für die Horde!\n",
      "Max Mustermann hat Geburtstag. Alles Gute!\n",
      "p1: Mein Name ist Max Mustermann und ich bin 26 Jahre alt. Für die Horde!\n",
      "s1: Mein Name ist Erika Mustermann, ich bin 21 Jahre alt und habe die Matrikelnummer 0. Für die Allianz! Oder vielleicht doch: Für die Horde!?\n",
      "Erika Mustermann hat Geburtstag. Alles Gute!\n",
      "s1: Mein Name ist Erika Mustermann, ich bin 20 Jahre alt und habe die Matrikelnummer 0. Für die Allianz! Oder vielleicht doch: Für die Horde!?\n"
     ]
    }
   ],
   "source": [
    "open class Person(val name: String, var alter: Int){\n",
    "    open val schlachtruf //Dieses Feld kann von den Sub-Klassen überschrieben werden\n",
    "        get() = \"Für die Horde!\"\n",
    "    \n",
    "    open fun hatGeburtstag() { //Diese Methode kann von den Sub-Klassen überschrieben werden\n",
    "        println(\"$name hat Geburtstag. Alles Gute!\")\n",
    "        alter++\n",
    "    } \n",
    "    override fun toString() = \"Mein Name ist $name und ich bin $alter Jahre alt. $schlachtruf\"\n",
    "}\n",
    "\n",
    "class Student(name: String, alter: Int) : Person(name, alter){\n",
    "    companion object {\n",
    "        var zaehler = 0\n",
    "            get() = field++\n",
    "    }\n",
    "    val matrikelnummer = zaehler\n",
    "    \n",
    "    override val schlachtruf\n",
    "        get() = \"Für die Allianz!\"\n",
    "    \n",
    "    override fun hatGeburtstag() { //Überschreibt die Methode hatGeburtstag der Super-Klasse\n",
    "        println(\"$name hat Geburtstag. Alles Gute!\")\n",
    "        alter--\n",
    "    } \n",
    "    \n",
    "    override fun toString() = \"Mein Name ist $name, ich bin $alter Jahre alt und habe die Matrikelnummer $matrikelnummer. $schlachtruf Oder vielleicht doch: ${super.schlachtruf}?\"\n",
    "}\n",
    "\n",
    "val p1 = Person (\"Max Mustermann\", 25)\n",
    "val s1 = Student (\"Erika Mustermann\", 21)\n",
    "println(\"p1: $p1\")\n",
    "p1.hatGeburtstag() //Ruft hatGeburtstag() von der Klasse Person auf \n",
    "println(\"p1: $p1\")\n",
    "println(\"s1: $s1\")\n",
    "s1.hatGeburtstag() //Ruft hatGeburtstag() von der Klasse Student auf \n",
    "println(\"s1: $s1\")"
   ]
  },
  {
   "cell_type": "markdown",
   "id": "c1ba53f3",
   "metadata": {},
   "source": [
    "### Sekundäre Konstruktoren\n",
    "Wir sind bis jetzt von dem einfachen Fall ausgegangen, dass die Unterklasse einen primären Konstruktor besitzt. Jedoch gibt es auch die Möglichkeit diese nur mit sekundären Konstruktoren auszustatten. Diese müssen immer den primären Konstruktor der Oberklasse aufrufen."
   ]
  },
  {
   "cell_type": "code",
   "execution_count": 3,
   "id": "baca2c6c",
   "metadata": {
    "execution": {
     "iopub.execute_input": "2021-11-18T12:16+0100",
     "iopub.status.busy": "2021-11-18T12:16+0100",
     "iopub.status.idle": "2021-11-18T12:16+0100",
     "shell.execute_reply": "2021-11-18T12:16+0100",
     "shell.execute_reply.started": "2021-11-18T12:16+0100"
    },
    "tags": []
   },
   "outputs": [
    {
     "name": "stdout",
     "output_type": "stream",
     "text": [
      "Punkt p1: x: 4, y: 2, z: 8\n",
      "Punkt p2: x: 0, y: 0, z: 0\n"
     ]
    }
   ],
   "source": [
    "open class Punkt2D (val x: Int, val y: Int){\n",
    "    override fun toString() = \"x: $x, y: $y\"\n",
    "}\n",
    "\n",
    "class Punkt3D : Punkt2D { //Aufruf des primären Konstruktors von Punkt2D fehlt hier\n",
    "    val z: Int\n",
    "    \n",
    "    //sekundäre Konstruktoren rufen den primären Defaultkonstruktor von Punkt2D auf\n",
    "    constructor (x: Int, y: Int, z: Int) : super (x, y) {\n",
    "        this.z = z\n",
    "    }\n",
    "    constructor () : super (0, 0) {\n",
    "        this.z = 0\n",
    "    }\n",
    "    \n",
    "    override fun toString() = \"${super.toString()}, z: $z\"\n",
    "}\n",
    "\n",
    "val p1 = Punkt3D (4, 2, 8)\n",
    "println(\"Punkt p1: $p1\")\n",
    "val p2 = Punkt3D()\n",
    "println(\"Punkt p2: $p2\")"
   ]
  },
  {
   "cell_type": "markdown",
   "id": "a5028d1b",
   "metadata": {},
   "source": [
    "### Abstrakte Klassen\n",
    "Das Konzept der abstrakten Klasse sollte bereits aus Java bekannt sein. Auch in Kotlin gibt es die Möglichkeit uninitierbare Klassen mit abstrakten Methoden zu implementieren. Diesen wird das Schlüsselwort `abstract` vorangestellt und können ohne Probleme vererbt werden. Die Sub-Klassen müssen jedoch die Methoden vervollständigen."
   ]
  },
  {
   "cell_type": "code",
   "execution_count": 4,
   "id": "0b046e9c",
   "metadata": {
    "execution": {
     "iopub.execute_input": "2021-11-18T12:16+0100",
     "iopub.status.busy": "2021-11-18T12:16+0100",
     "iopub.status.idle": "2021-11-18T12:16+0100",
     "shell.execute_reply": "2021-11-18T12:16+0100",
     "shell.execute_reply.started": "2021-11-18T12:16+0100"
    },
    "tags": []
   },
   "outputs": [
    {
     "name": "stdout",
     "output_type": "stream",
     "text": [
      "Laptop wurde eingeschalten.\n",
      "Standcomputer wurde eingeschalten.\n"
     ]
    }
   ],
   "source": [
    "abstract class Computer (val kerne: Int, val farbe: String){ //Abstrakte Klasse\n",
    "    var istAn = false\n",
    "    abstract fun einschalten() //Abstrakte Methode\n",
    "}\n",
    "\n",
    "class Laptop (kerne: Int, farbe: String, val hatTouchscreen: Boolean) : Computer(kerne, farbe){\n",
    "    var istAufgeklappt = false\n",
    "    override fun einschalten() { //Vervollständigt die abstrakte Methode einschalten(), die geerbt wurde\n",
    "        if (!istAufgeklappt) \n",
    "            istAufgeklappt = true\n",
    "        istAn = true\n",
    "        println(\"Laptop wurde eingeschalten.\")\n",
    "    }\n",
    "}\n",
    "\n",
    "class Standcomputer (kerne: Int, farbe: String) : Computer(kerne, farbe){\n",
    "    override fun einschalten() {\n",
    "        istAn = true\n",
    "        println(\"Standcomputer wurde eingeschalten.\")\n",
    "    }\n",
    "}\n",
    "\n",
    "//val c1 = Computer (8, \"Schwarz\") -> Error: Cannot create an instance of an abstract class\n",
    "val l1 = Laptop(6, \"Rot\", false)\n",
    "l1.einschalten()\n",
    "val s1 = Standcomputer(12, \"Weiß\")\n",
    "s1.einschalten()"
   ]
  },
  {
   "cell_type": "markdown",
   "id": "7ce33ad9",
   "metadata": {},
   "source": [
    "### Geschlossene Klassen\n",
    "Eine geschlossene Klasse ist eine besondere abstrakte Klasse. Ihr wird das Schlüsselwort `sealed` vorangestellt. Sie besitzt einen privaten Konstruktor. Von dieser darf nur in dem selben Paket oder der selben Kompiliereinheit geerbet werden. Dieses Konstrukt ist somit eine Alternative zu einer Enumeration. Da alle Subtypen bekannt sind, kann bei Verwendung einer `when`-Verzweigung der *default*-Fall weggelassen werden."
   ]
  },
  {
   "cell_type": "code",
   "execution_count": 5,
   "id": "3ebe30b3",
   "metadata": {
    "execution": {
     "iopub.execute_input": "2021-11-18T12:16+0100",
     "iopub.status.busy": "2021-11-18T12:16+0100",
     "iopub.status.idle": "2021-11-18T12:16+0100",
     "shell.execute_reply": "2021-11-18T12:16+0100",
     "shell.execute_reply.started": "2021-11-18T12:16+0100"
    },
    "tags": []
   },
   "outputs": [
    {
     "name": "stdout",
     "output_type": "stream",
     "text": [
      "Es ist ein Referenzfehler Referenzfehler(fehlercode=200) aufgetreten.\n"
     ]
    }
   ],
   "source": [
    "sealed class Fehler\n",
    "data class Laufzeitfehler(val fehlercode: Int) : Fehler()\n",
    "data class Kompilierfehler(val fehlercode: Int) : Fehler()\n",
    "data class Referenzfehler(val fehlercode: Int) : Fehler()\n",
    "\n",
    "val zufall = (0..2).random()\n",
    "val f1 = if(zufall == 1)\n",
    "                Laufzeitfehler(123)\n",
    "            else if(zufall == 2)\n",
    "                Kompilierfehler(42)\n",
    "            else\n",
    "                Referenzfehler(200)\n",
    "\n",
    "when (f1){\n",
    "    is Laufzeitfehler -> println(\"Es ist ein Laufzeitfehler $f1 aufgetreten.\")\n",
    "    is Kompilierfehler -> println(\"Es ist ein Kompilierfehler $f1 aufgetreten.\")\n",
    "    is Referenzfehler -> println(\"Es ist ein Referenzfehler $f1 aufgetreten.\")\n",
    "}"
   ]
  }
 ],
 "metadata": {
  "kernelspec": {
   "display_name": "Kotlin",
   "language": "kotlin",
   "name": "kotlin"
  },
  "language_info": {
   "codemirror_mode": "text/x-kotlin",
   "file_extension": ".kt",
   "mimetype": "text/x-kotlin",
   "name": "kotlin",
   "nbconvert_exporter": "",
   "pygments_lexer": "kotlin",
   "version": "1.6.20-dev-3702"
  }
 },
 "nbformat": 4,
 "nbformat_minor": 5
}
