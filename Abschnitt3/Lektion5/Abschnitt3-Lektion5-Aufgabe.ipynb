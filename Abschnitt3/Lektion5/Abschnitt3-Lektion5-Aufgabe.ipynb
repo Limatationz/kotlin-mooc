{
 "cells": [
  {
   "cell_type": "markdown",
   "id": "c62bcf00",
   "metadata": {},
   "source": [
    "# Aufgabe - Software\n",
    "<img src=\"../images/Aufgabenstellung-Vererbung.png\" style=\"float:right; height: 300px\" />\n",
    "\n",
    "\n",
    "Wandeln Sie das vereinfachte Klassendiagramm in Code um. Die Methoden `starte()`, `schreiben()` und `spielen()` sollen lediglich eine Ausgabe auslösen. Sie können sich an folgendes Beispiel halten:  \n",
    "\n",
    "\n",
    "Die Textverarbeitungssoftware Office wird gestartet.  \n",
    "Die Textverarbeitungssoftware Office schreibt...  \n",
    "Das Computerspiel Cyberpunk 2077 wird gestartet.  \n",
    "Das Computerspiel Cyberpunk 2077 wird gespielt...  \n"
   ]
  },
  {
   "cell_type": "code",
   "execution_count": null,
   "id": "f90f055a",
   "metadata": {},
   "outputs": [],
   "source": [
    "//TODO\n",
    "\n",
    "//Test\n",
    "try {\n",
    "    val text = Textverarbeitungssoftware(listOf(\"doc\",\"pages\",\"txt\"), \"Office\")\n",
    "    text.starte()\n",
    "    text.schreiben()\n",
    "    val spiel = Computerspiel(1, \"Cyberpunk 2077\")\n",
    "    spiel.starte()\n",
    "    spiel.spielen()\n",
    "    \n",
    "    if(!Software::class.isAbstract)\n",
    "        throw AssertionError(\"Klasse Software ist nicht abstrakt.\")\n",
    "    if(spiel !is Software)\n",
    "        throw AssertionError(\"Klasse Computerspiel erbt nicht von Software.\")\n",
    "    if(text !is Software)\n",
    "        throw AssertionError(\"Klasse Textverarbeitungssoftware erbt nicht von Software.\")\n",
    "    println(\"Super! Ihre Lösung ist richtig.\")\n",
    "}\n",
    "catch(e: Exception){\n",
    "    println(\"Fehler! $e\")\n",
    "}"
   ]
  }
 ],
 "metadata": {
  "kernelspec": {
   "display_name": "Kotlin",
   "language": "kotlin",
   "name": "kotlin"
  },
  "language_info": {
   "codemirror_mode": "text/x-kotlin",
   "file_extension": ".kt",
   "mimetype": "text/x-kotlin",
   "name": "kotlin",
   "nbconvert_exporter": "",
   "pygments_lexer": "kotlin",
   "version": "1.6.20-dev-3702"
  }
 },
 "nbformat": 4,
 "nbformat_minor": 5
}
