{
 "cells": [
  {
   "cell_type": "markdown",
   "id": "04ef91c2",
   "metadata": {
    "tags": []
   },
   "source": [
    "<img src=\"../images/Lektion8.png\" style=\"margin: 20px 0px 20px 0px\"/>\n",
    "<h2 style=\"display:none\">Lektion 8 - Ausnahmebehandlung</h2>\n",
    "\n",
    "\n",
    "Während in Java zwischen *checked* (die Möglichkeit des Auftretens eines Fehler muss behandelt werden) und *unchecked Exceptions* (Fehler müssen nicht behandelt werden) unterschieden wird, ist dies in Kotlin nicht der Fall. Es besteht keine Pflicht bestimmte Fehler vorbeugend zu behandeln.  \n",
    "Mit `throw` können Exceptions selbst ausgelöst werden. Außerdem kann ein solcher Ausdruck einer Variablen zugewiesen werden."
   ]
  },
  {
   "cell_type": "code",
   "execution_count": 1,
   "id": "de470e53",
   "metadata": {
    "execution": {
     "iopub.execute_input": "2021-11-18T13:13+0100",
     "iopub.status.busy": "2021-11-18T13:13+0100",
     "iopub.status.idle": "2021-11-18T13:13+0100"
    },
    "tags": []
   },
   "outputs": [
    {
     "name": "stderr",
     "output_type": "stream",
     "text": [
      "Der Parameter muss zwischen 0 und 100 sein, ist aber -66\n",
      "java.lang.IllegalArgumentException: Der Parameter muss zwischen 0 und 100 sein, ist aber -66\n",
      "org.jetbrains.kotlinx.jupyter.ReplEvalRuntimeException: Der Parameter muss zwischen 0 und 100 sein, ist aber -66\n",
      "\tat org.jetbrains.kotlinx.jupyter.repl.impl.InternalEvaluatorImpl.eval(InternalEvaluatorImpl.kt:106)\n",
      "\tat org.jetbrains.kotlinx.jupyter.repl.impl.CellExecutorImpl$execute$1$result$1.invoke(CellExecutorImpl.kt:64)\n",
      "\tat org.jetbrains.kotlinx.jupyter.repl.impl.CellExecutorImpl$execute$1$result$1.invoke(CellExecutorImpl.kt:63)\n",
      "\tat org.jetbrains.kotlinx.jupyter.ReplForJupyterImpl.withHost(repl.kt:596)\n",
      "\tat org.jetbrains.kotlinx.jupyter.repl.impl.CellExecutorImpl.execute(CellExecutorImpl.kt:63)\n",
      "\tat org.jetbrains.kotlinx.jupyter.repl.CellExecutor$DefaultImpls.execute$default(CellExecutor.kt:13)\n",
      "\tat org.jetbrains.kotlinx.jupyter.ReplForJupyterImpl$evalEx$1.invoke(repl.kt:419)\n",
      "\tat org.jetbrains.kotlinx.jupyter.ReplForJupyterImpl$evalEx$1.invoke(repl.kt:408)\n",
      "\tat org.jetbrains.kotlinx.jupyter.ReplForJupyterImpl.withEvalContext(repl.kt:372)\n",
      "\tat org.jetbrains.kotlinx.jupyter.ReplForJupyterImpl.evalEx(repl.kt:408)\n",
      "\tat org.jetbrains.kotlinx.jupyter.ReplForJupyterImpl.eval(repl.kt:456)\n",
      "\tat org.jetbrains.kotlinx.jupyter.ProtocolKt$shellMessagesHandler$res$1.invoke(protocol.kt:290)\n",
      "\tat org.jetbrains.kotlinx.jupyter.ProtocolKt$shellMessagesHandler$res$1.invoke(protocol.kt:289)\n",
      "\tat org.jetbrains.kotlinx.jupyter.JupyterConnection$runExecution$execThread$1.invoke(connection.kt:166)\n",
      "\tat org.jetbrains.kotlinx.jupyter.JupyterConnection$runExecution$execThread$1.invoke(connection.kt:164)\n",
      "\tat kotlin.concurrent.ThreadsKt$thread$thread$1.run(Thread.kt:30)\n",
      "Caused by: java.lang.IllegalArgumentException: Der Parameter muss zwischen 0 und 100 sein, ist aber -66\n",
      "\tat Line_0.<init>(Line_0.jupyter-kts:6)\n",
      "\tat java.base/jdk.internal.reflect.NativeConstructorAccessorImpl.newInstance0(Native Method)\n",
      "\tat java.base/jdk.internal.reflect.NativeConstructorAccessorImpl.newInstance(NativeConstructorAccessorImpl.java:77)\n",
      "\tat java.base/jdk.internal.reflect.DelegatingConstructorAccessorImpl.newInstance(DelegatingConstructorAccessorImpl.java:45)\n",
      "\tat java.base/java.lang.reflect.Constructor.newInstanceWithCaller(Constructor.java:499)\n",
      "\tat java.base/java.lang.reflect.Constructor.newInstance(Constructor.java:480)\n",
      "\tat kotlin.script.experimental.jvm.BasicJvmScriptEvaluator.evalWithConfigAndOtherScriptsResults(BasicJvmScriptEvaluator.kt:96)\n",
      "\tat kotlin.script.experimental.jvm.BasicJvmScriptEvaluator.invoke$suspendImpl(BasicJvmScriptEvaluator.kt:41)\n",
      "\tat kotlin.script.experimental.jvm.BasicJvmScriptEvaluator.invoke(BasicJvmScriptEvaluator.kt)\n",
      "\tat kotlin.script.experimental.jvm.BasicJvmReplEvaluator.eval(BasicJvmReplEvaluator.kt:51)\n",
      "\tat org.jetbrains.kotlinx.jupyter.repl.impl.InternalEvaluatorImpl$eval$resultWithDiagnostics$1.invokeSuspend(InternalEvaluatorImpl.kt:99)\n",
      "\tat kotlin.coroutines.jvm.internal.BaseContinuationImpl.resumeWith(ContinuationImpl.kt:33)\n",
      "\tat kotlinx.coroutines.DispatchedTask.run(DispatchedTask.kt:106)\n",
      "\tat kotlinx.coroutines.EventLoopImplBase.processNextEvent(EventLoop.common.kt:274)\n",
      "\tat kotlinx.coroutines.BlockingCoroutine.joinBlocking(Builders.kt:85)\n",
      "\tat kotlinx.coroutines.BuildersKt__BuildersKt.runBlocking(Builders.kt:59)\n",
      "\tat kotlinx.coroutines.BuildersKt.runBlocking(Unknown Source)\n",
      "\tat kotlinx.coroutines.BuildersKt__BuildersKt.runBlocking$default(Builders.kt:38)\n",
      "\tat kotlinx.coroutines.BuildersKt.runBlocking$default(Unknown Source)\n",
      "\tat org.jetbrains.kotlinx.jupyter.repl.impl.InternalEvaluatorImpl.eval(InternalEvaluatorImpl.kt:99)\n",
      "\t... 15 more\n",
      "\n"
     ]
    }
   ],
   "source": [
    "val parameter = (-100..100).random()\n",
    "val prozent = //In der Variable prozent wird entweder ein Wert zwischen 0 und 100 oder eine Exception gespeichert.\n",
    "    if (parameter in 0..100)\n",
    "        parameter\n",
    "    else\n",
    "        throw IllegalArgumentException(\"Der Parameter muss zwischen 0 und 100 sein, ist aber $parameter\")\n",
    "prozent //Führen Sie die Zelle mehrfach aus, um die verschiedenen Verhalten zu betrachten"
   ]
  },
  {
   "cell_type": "markdown",
   "id": "ed2ffa54",
   "metadata": {},
   "source": [
    "Der `try & catch`-Block darf in Kotlin natürlich nicht fehlen. Wie bei einer Exception selbst kann auch hier das Ergebnis dieses Ausdrucks einer Variable zugewiesen werden."
   ]
  },
  {
   "cell_type": "code",
   "execution_count": 2,
   "id": "ecd01988",
   "metadata": {
    "execution": {
     "iopub.execute_input": "2021-11-18T13:13+0100",
     "iopub.status.busy": "2021-11-18T13:13+0100",
     "iopub.status.idle": "2021-11-18T13:13+0100",
     "shell.execute_reply": "2021-11-18T13:13+0100",
     "shell.execute_reply.started": "2021-11-18T13:13+0100"
    },
    "tags": []
   },
   "outputs": [
    {
     "data": {
      "text/plain": [
       "231"
      ]
     },
     "execution_count": 2,
     "metadata": {},
     "output_type": "execute_result"
    }
   ],
   "source": [
    "val zeichenkette = if ((0..1).random() == 0)\n",
    "                    \"Kotlin\"\n",
    "                else\n",
    "                    \"231\"\n",
    "val zahl = try{\n",
    "                    Integer.parseInt(zeichenkette)\n",
    "                }\n",
    "                catch(e: Exception){\n",
    "                    println(\"Die Zeichenkette $zeichenkette kann nicht in eine ganze Zahl umgewandelt werden.\\n$e\")\n",
    "                }\n",
    "zahl"
   ]
  },
  {
   "cell_type": "markdown",
   "id": "7b762867",
   "metadata": {},
   "source": [
    "Soll nach der Ausführung einer der beiden Blöcke Code ausgefürt werden, kann zusätzlich ein `finally`-Block verwendet werden. Der darin befindende Code wird immer am Ende ausgeführt und eignet sich deshalb besonders für Aufräumarbeiten. Falls ein solcher Block vorhanden ist, kann `catch` auch weggelassen werden.  \n",
    "Es können auch eigene Fehler definiert werden. Dabei ist erforderlich, dass die Klasse von `Exception` erbt, die Beschreibung als String übergeben bekommt und an die Super-Klasse weitergibt."
   ]
  },
  {
   "cell_type": "code",
   "execution_count": 3,
   "id": "68c969f0",
   "metadata": {
    "execution": {
     "iopub.execute_input": "2021-11-18T13:13+0100",
     "iopub.status.busy": "2021-11-18T13:13+0100",
     "iopub.status.idle": "2021-11-18T13:13+0100",
     "shell.execute_reply": "2021-11-18T13:13+0100",
     "shell.execute_reply.started": "2021-11-18T13:13+0100"
    },
    "tags": []
   },
   "outputs": [
    {
     "data": {
      "text/plain": [
       "8"
      ]
     },
     "execution_count": 3,
     "metadata": {},
     "output_type": "execute_result"
    }
   ],
   "source": [
    "class KeineProzentzahl(fehlermeldung: String) : Exception(fehlermeldung)\n",
    "\n",
    "val parameter = (-100..100).random()\n",
    "val prozent = \n",
    "    if (parameter in 0..100)\n",
    "        parameter\n",
    "    else\n",
    "        throw KeineProzentzahl(\"Der Parameter muss zwischen 0 und 100 sein, ist aber $parameter\")\n",
    "prozent"
   ]
  }
 ],
 "metadata": {
  "kernelspec": {
   "display_name": "Kotlin",
   "language": "kotlin",
   "name": "kotlin"
  },
  "language_info": {
   "codemirror_mode": "text/x-kotlin",
   "file_extension": ".kt",
   "mimetype": "text/x-kotlin",
   "name": "kotlin",
   "nbconvert_exporter": "",
   "pygments_lexer": "kotlin",
   "version": "1.6.20-dev-3702"
  }
 },
 "nbformat": 4,
 "nbformat_minor": 5
}
