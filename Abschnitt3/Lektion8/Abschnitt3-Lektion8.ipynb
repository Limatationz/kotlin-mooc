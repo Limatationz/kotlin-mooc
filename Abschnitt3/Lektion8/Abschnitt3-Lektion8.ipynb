{
 "cells": [
  {
   "cell_type": "markdown",
   "id": "11ab9718",
   "metadata": {
    "tags": []
   },
   "source": [
    "<img src=\"../images/Lektion8.png\" style=\"margin: 20px 0px 20px 0px\"/>\n",
    "<h2 style=\"display:none\">Lektion 8 - Fehlerbehandlung</h2>\n",
    "\n",
    "\n",
    "Während in Java zwischen *checked* (die Möglichkeit des Auftretens eines Fehler muss behandelt werden) und *unchecked Exceptions* (Fehler müssen nicht behandelt werden) unterschieden wird, ist dies in Kotlin nicht der Fall. Es besteht keine Pflicht bestimmte Fehler vorbeugend zu behandeln.  \n",
    "Mit `throw` können Exceptions selbst ausgelöst werden. Außerdem kann ein solcher Ausdruck einer Variablen zugewiesen werden."
   ]
  },
  {
   "cell_type": "code",
   "execution_count": null,
   "id": "242624ac",
   "metadata": {
    "tags": []
   },
   "outputs": [],
   "source": [
    "val parameter = (-100..100).random()\n",
    "val prozent = //In der Variable prozent wird entweder ein Wert zwischen 0 und 100 oder eine Exception gespeichert.\n",
    "    if (parameter in 0..100)\n",
    "        parameter\n",
    "    else\n",
    "        throw IllegalArgumentException(\"Der Parameter muss zwischen 0 und 100 sein, ist aber $parameter\")\n",
    "prozent //Führen Sie die Zelle mehrfach aus, um die verschiedenen Verhalten zu Betrachten"
   ]
  },
  {
   "cell_type": "markdown",
   "id": "4ee9c426",
   "metadata": {},
   "source": [
    "Der `try & catch`-Block darf in Kotlin natürlich nicht fehlen. Wie bei einer Exception selbst kann auch hier das Ergebnis dieses Ausdrucks einer Variable zugewiesen werden."
   ]
  },
  {
   "cell_type": "code",
   "execution_count": null,
   "id": "0ea4982a",
   "metadata": {
    "tags": []
   },
   "outputs": [],
   "source": [
    "val zeichenkette = if ((0..1).random() == 0)\n",
    "                    \"Kotlin\"\n",
    "                else\n",
    "                    \"231\"\n",
    "val zahl = try{\n",
    "                    Integer.parseInt(zeichenkette)\n",
    "                }\n",
    "                catch(e: Exception){\n",
    "                    println(\"Die Zeichenkette $zeichenkette kann nicht in eine ganze Zahl umgewandelt werden.\\n$e\")\n",
    "                }\n",
    "zahl"
   ]
  },
  {
   "cell_type": "markdown",
   "id": "cfe20b53",
   "metadata": {},
   "source": [
    "Soll nach der Ausführung einer der beiden Blöcke Code ausgefürt werden, kann zusätzlich ein `finally`-Block verwendet werden. Der darin befindende Code wird immer am Ende ausgeführt und eignet sich deshalb besonders für Aufräumarbeiten. Falls ein solcher Block vorhanden ist, kann `catch` auch weggelassen werden.  \n",
    "Es können auch eigene Fehler definiert werden. Dabei ist erforderlich, dass die Klasse von `Exception` erbt, die Beschreibung als String übergeben bekommt und an die Super-Klasse weitergibt."
   ]
  },
  {
   "cell_type": "code",
   "execution_count": null,
   "id": "bd3a35e6",
   "metadata": {
    "tags": []
   },
   "outputs": [],
   "source": [
    "class KeineProzentzahl(fehlermeldung: String) : Exception(fehlermeldung)\n",
    "\n",
    "val parameter = (-100..100).random()\n",
    "val prozent = \n",
    "    if (parameter in 0..100)\n",
    "        parameter\n",
    "    else\n",
    "        throw KeineProzentzahl(\"Der Parameter muss zwischen 0 und 100 sein, ist aber $parameter\")\n",
    "prozent"
   ]
  }
 ],
 "metadata": {
  "kernelspec": {
   "display_name": "Kotlin",
   "language": "kotlin",
   "name": "kotlin"
  },
  "language_info": {
   "codemirror_mode": "text/x-kotlin",
   "file_extension": ".kt",
   "mimetype": "text/x-kotlin",
   "name": "kotlin",
   "nbconvert_exporter": "",
   "pygments_lexer": "kotlin",
   "version": "1.5.20-dev-5817"
  }
 },
 "nbformat": 4,
 "nbformat_minor": 5
}
