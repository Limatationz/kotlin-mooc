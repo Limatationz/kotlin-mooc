{
 "cells": [
  {
   "cell_type": "markdown",
   "id": "f484bc50",
   "metadata": {},
   "source": [
    "### Aufgabe - Parkplatzverwaltung mit Ausnahmen\n",
    "In Lektion 1 wurde eine Parkplatzverwaltung implementiert. Erweitern Sie ihre Lösung oder die Musterlösung insoweit ab, dass die Methode `einparken()` `Unit` zurückgibt und bei Fehlschlag einen eigens definierten Fehler `ParkplatzVoll` wirft. Diesem soll die Nummer des Parkplatzes übergeben werden, aus der eine schöne Fehlermeldung generiert werden soll. Schreiben Sie zusätzlich ein Hauptprogramm, in dem Sie einen Fehler absichtlich auslösen und abfangen. Mit diesem können Sie ihre Lösung testen."
   ]
  },
  {
   "cell_type": "code",
   "execution_count": null,
   "id": "4af7a810",
   "metadata": {},
   "outputs": [],
   "source": [
    "//TODO\n",
    "\n",
    "class Parkplatzverwaltung(parkplatz: MutableList<Boolean>){\n",
    "    private val parkplatz: MutableList<Boolean> = parkplatz\n",
    "    \n",
    "    constructor() : this(MutableList<Boolean>(5) { false })\n",
    "    \n",
    "    fun einparken(nummer: Int): Boolean {\n",
    "        return if (!parkplatz[nummer]) {\n",
    "            parkplatz[nummer] = true\n",
    "            true\n",
    "        }\n",
    "        else {\n",
    "            false\n",
    "        }\n",
    "    } \n",
    "\n",
    "    override fun toString(): String {\n",
    "        var res = \"\"\n",
    "        parkplatz.forEach {\n",
    "            res += if (it) \"x\" else \"-\"\n",
    "        }\n",
    "        return res\n",
    "    }\n",
    "}"
   ]
  }
 ],
 "metadata": {
  "kernelspec": {
   "display_name": "Kotlin",
   "language": "kotlin",
   "name": "kotlin"
  },
  "language_info": {
   "codemirror_mode": "text/x-kotlin",
   "file_extension": ".kt",
   "mimetype": "text/x-kotlin",
   "name": "kotlin",
   "nbconvert_exporter": "",
   "pygments_lexer": "kotlin",
   "version": "1.5.20-dev-5817"
  }
 },
 "nbformat": 4,
 "nbformat_minor": 5
}
