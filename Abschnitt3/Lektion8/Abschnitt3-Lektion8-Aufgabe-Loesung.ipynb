{
 "cells": [
  {
   "cell_type": "markdown",
   "id": "bd76a61d",
   "metadata": {},
   "source": [
    "### Aufgabe - Parkplatzverwaltung mit Ausnahmen\n",
    "In Lektion 1 wurde eine Parkplatzverwaltung implementiert. Erweitern Sie ihre Lösung oder die Musterlösung insoweit ab, dass die Methode `einparken()` `Unit` zurückgibt und bei Fehlschlag einen eigens definierten Fehler `ParkplatzVoll` wirft. Diesem soll die Nummer des Parkplatzes übergeben werden, aus der eine schöne Fehlermeldung generiert werden soll. Schreiben Sie zusätzlich ein Hauptprogramm, in dem Sie einen Fehler absichtlich auslösen und abfangen. Mit diesem können Sie ihre Lösung testen."
   ]
  },
  {
   "cell_type": "code",
   "execution_count": 1,
   "id": "0caa5a37",
   "metadata": {
    "execution": {
     "iopub.execute_input": "2021-11-18T13:08+0100",
     "iopub.status.busy": "2021-11-18T13:08+0100",
     "iopub.status.idle": "2021-11-18T13:09+0100",
     "shell.execute_reply": "2021-11-18T13:09+0100",
     "shell.execute_reply.started": "2021-11-18T13:08+0100"
    },
    "tags": []
   },
   "outputs": [
    {
     "name": "stdout",
     "output_type": "stream",
     "text": [
      "Line_0$ParkplatzVoll: Der Parkplatz 2 ist belegt.\n"
     ]
    }
   ],
   "source": [
    "//Lösung\n",
    "class Parkplatzverwaltung(parkplatz: MutableList<Boolean>){\n",
    "    private val parkplatz: MutableList<Boolean> = parkplatz\n",
    "    \n",
    "    constructor() : this(MutableList<Boolean>(5) { false })\n",
    "    \n",
    "    fun einparken(nummer: Int): Unit {\n",
    "        if (!parkplatz[nummer])\n",
    "            parkplatz[nummer] = true\n",
    "        else\n",
    "            throw ParkplatzVoll(nummer)\n",
    "    } \n",
    "\n",
    "    override fun toString(): String {\n",
    "        var res = \"\"\n",
    "        parkplatz.forEach {\n",
    "            res += if (it) \"x\" else \"-\"\n",
    "        }\n",
    "        return res\n",
    "    }\n",
    "}\n",
    "\n",
    "class ParkplatzVoll(nummer: Int) : Exception(\"Der Parkplatz $nummer ist belegt.\")\n",
    "\n",
    "fun main(){\n",
    "    val parkplatzverwaltung = Parkplatzverwaltung()\n",
    "    parkplatzverwaltung.einparken(2)\n",
    "    \n",
    "    try {\n",
    "        parkplatzverwaltung.einparken(2)\n",
    "    }\n",
    "    catch(e: ParkplatzVoll) {\n",
    "        println(e)\n",
    "    }\n",
    "}\n",
    "\n",
    "main()"
   ]
  }
 ],
 "metadata": {
  "kernelspec": {
   "display_name": "Kotlin",
   "language": "kotlin",
   "name": "kotlin"
  },
  "language_info": {
   "codemirror_mode": "text/x-kotlin",
   "file_extension": ".kt",
   "mimetype": "text/x-kotlin",
   "name": "kotlin",
   "nbconvert_exporter": "",
   "pygments_lexer": "kotlin",
   "version": "1.6.20-dev-3702"
  }
 },
 "nbformat": 4,
 "nbformat_minor": 5
}
