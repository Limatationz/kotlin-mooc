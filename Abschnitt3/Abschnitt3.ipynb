{
 "cells": [
  {
   "cell_type": "markdown",
   "id": "fb82e866",
   "metadata": {
    "tags": []
   },
   "source": [
    "# Abschnitt 3\n",
    "Thema dieses Abschnittes wird die objektorientierte Programmierung sein.\n",
    "\n",
    "## Lektion 1 - Klassen\n",
    "Aufgrund der Kompatibilität mit Java ist auch Kotlin eine objektorientierte Sprache. Deswegen werden im Hintergrund alle Daten als Objekte behandelt. In Kotlin sind alle bekannten objektorientierte Konzepte vorhanden, jedoch angepasst und teilweise auch vereinfacht. Dazu ein Einführungsbeispiel. Es soll eine Klasse `Person` implementiert werden, die zwei Felder besitzt: `name` vom Typ `String`, das nur bei Objekterzeugung gesetzt wird, und `alter` vom Typ `Int`, das immer verändert werden kann.\n",
    "\n",
    "\n",
    "<table style=\"font-size:16px\">\n",
    "<thead>\n",
    "  <tr>\n",
    "    <th>Kotlin</th>\n",
    "    <th>Java</th>\n",
    "  </tr>\n",
    "</thead>\n",
    "<tbody>\n",
    "  <tr>\n",
    "    <td><code>class Person (val name: String, var alter: Int)</code></td>\n",
    "    <td><code>public class Person{<br>&nbsp;&nbsp;&nbsp;&nbsp;private String name;<br>&nbsp;&nbsp;&nbsp;&nbsp;private int alter;<br>&nbsp;&nbsp;&nbsp;&nbsp;public Person(String name, int alter){<br>&nbsp;&nbsp;&nbsp;&nbsp;&nbsp;&nbsp;&nbsp;&nbsp;this.name = name<br>&nbsp;&nbsp;&nbsp;&nbsp;&nbsp;&nbsp;&nbsp;&nbsp;this.alter = alter<br>&nbsp;&nbsp;&nbsp;&nbsp;}<br>&nbsp;&nbsp;&nbsp;&nbsp;public String gibName(){<br>&nbsp;&nbsp;&nbsp;&nbsp;&nbsp;&nbsp;&nbsp;&nbsp;return name;<br>&nbsp;&nbsp;&nbsp;&nbsp;}<br>&nbsp;&nbsp;&nbsp;&nbsp;public String gibAlter(){<br>&nbsp;&nbsp;&nbsp;&nbsp;&nbsp;&nbsp;&nbsp;&nbsp;return alter;<br>&nbsp;&nbsp;&nbsp;&nbsp;}<br>&nbsp;&nbsp;&nbsp;&nbsp;public String setzeAlter(int alter){<br>&nbsp;&nbsp;&nbsp;&nbsp;&nbsp;&nbsp;&nbsp;&nbsp;this.alter = alter;<br>&nbsp;&nbsp;&nbsp;&nbsp;}<br>}<br></code></td>\n",
    "  </tr>\n",
    "</tbody>\n",
    "</table>"
   ]
  },
  {
   "cell_type": "code",
   "execution_count": 1,
   "id": "c80e98b8",
   "metadata": {
    "execution": {
     "iopub.execute_input": "2021-04-27T17:21+0200",
     "iopub.status.busy": "2021-04-27T17:21+0200",
     "iopub.status.idle": "2021-04-27T17:21+0200",
     "shell.execute_reply": "2021-04-27T17:21+0200",
     "shell.execute_reply.started": "2021-04-27T17:21+0200"
    },
    "tags": []
   },
   "outputs": [
    {
     "name": "stdout",
     "output_type": "stream",
     "text": [
      "Person p1, Line_0_jupyter$Person@3445341: \n",
      "Name: Max Mustermann, Alter: 21\n"
     ]
    }
   ],
   "source": [
    "class Person (val name: String, var alter: Int)\n",
    "\n",
    "val p1 = Person(\"Max Mustermann\", 21)\n",
    "println(\"Person p1, $p1: \\nName: ${p1.name}, Alter: ${p1.alter}\")"
   ]
  },
  {
   "cell_type": "markdown",
   "id": "82bc6926",
   "metadata": {},
   "source": [
    "Es ist zu erkennen, dass der Kotlincode deutlich kürzer und übersichtlicher ist. <br />\n",
    "Der Kopf einer Klasse wird mit dem Schlüsselwort `class` eingeleitet, gefolgt von dem Namen. Die Parameter werden nach diesem in runden Klammern angegeben. Erzeugt werden kann die Klasse wie aus Java gewohnt mit der Nennung der Name der Klasse sowie dem Aufruf eines Konstruktors. In den runden Klammern sind die erforderlichen Argumente für die Objekterzeugung zu finden.\n",
    "\n",
    "### Felder\n",
    "Felder können Klassen einfach Hinzugefügt werden. Die erste Möglichkeit ist durch die Übergabeparameter der Klasse. Diese entsprechen den Parametern des Konstruktors und sind im Kopf der Klasse angesiedelt. Wird diesen bei öffentlicher Sichtbarkeit eine Variablenart (`val` oder `var`) zugewiesen, werden die Parameter zu Feldern umgewandelt. Das heißt es wird im Hintergrund ein Feld mit dem Namen des Parameters angelegt, welches bei Objekterzeugung mit dem Wert des Übergabeparameters gefüllt wird. Außerdem wird immer ein unsichtbarer Standard-Getter erzeugt. Wird dem Parameter `var` zugeordnet, wird zusätzlich ein rudimentärer Setter der Klasse hinzugefügt."
   ]
  },
  {
   "cell_type": "code",
   "execution_count": 2,
   "id": "c209a7e7",
   "metadata": {
    "execution": {
     "iopub.execute_input": "2021-04-27T17:21+0200",
     "iopub.status.busy": "2021-04-27T17:21+0200",
     "iopub.status.idle": "2021-04-27T17:21+0200",
     "shell.execute_reply": "2021-04-27T17:21+0200",
     "shell.execute_reply.started": "2021-04-27T17:21+0200"
    },
    "tags": []
   },
   "outputs": [
    {
     "name": "stdout",
     "output_type": "stream",
     "text": [
      "Marke von a1: BMW, Farbe von a1: Gelb.\n",
      "Farbe von a1 nach Umlackierung: Rot.\n"
     ]
    }
   ],
   "source": [
    "class Auto (\n",
    "    val marke: String, //Es wird ein Feld mit dem Namen marke und ein Getter hinzugefügt und bei Erzeugung mit dem übergebenen Wert gefüllt.\n",
    "    var farbe: String, //Es wird ein Feld mit dem Namen farbe und einem Getter sowie Setter hinzugefügt und bei Erzeugung mit dem übergebenen Wert gefüllt.\n",
    "    ps: Int //Dies ist lediglich ein Übergabeparameter, der im Konstruktor verwendet werden kann.\n",
    ")\n",
    "\n",
    "val a1 = Auto (\"BMW\", \"Gelb\", 220)\n",
    "println(\"Marke von a1: ${a1.marke}, Farbe von a1: ${a1.farbe}.\") //Benutzung der Getter von marke und farbe\n",
    "//println(a1.ps) -> Error, da ps kein Feld sondern nur ein Übergabeparameter ist\n",
    "//a1.marke = \"Audi\" -> Error, da das Feld marke nicht verändert werden kann und auch keinen Setter besitzt\n",
    "a1.farbe = \"Rot\" //Aufruf des Setters von farbe. Das Feld farbe kann verändert werden, da ein Setter vorhanden ist und das Feld den Typ var besitzt\n",
    "println(\"Farbe von a1 nach Umlackierung: ${a1.farbe}.\")"
   ]
  },
  {
   "cell_type": "markdown",
   "id": "a6bb79db",
   "metadata": {},
   "source": [
    "Eine weitere Möglichkeit Felder zu definieren ist klassisch zu Beginn im Rumpf der Klasse. Diese werden jedoch nicht automatisch bei Objekterzeugung, sondern mit dem angegebenen Standardwert gefüllt. Diesen wird auch je nach Typ im Hintergrund ein Getter und Setter bei Seite gestellt."
   ]
  },
  {
   "cell_type": "code",
   "execution_count": 3,
   "id": "355bf8f5",
   "metadata": {
    "execution": {
     "iopub.execute_input": "2021-04-27T17:21+0200",
     "iopub.status.busy": "2021-04-27T17:21+0200",
     "iopub.status.idle": "2021-04-27T17:21+0200",
     "shell.execute_reply": "2021-04-27T17:21+0200",
     "shell.execute_reply.started": "2021-04-27T17:21+0200"
    },
    "tags": []
   },
   "outputs": [
    {
     "name": "stdout",
     "output_type": "stream",
     "text": [
      "Marke von c1: Fuhitsu, ist c1 an?: false.\n",
      "ist c1 an?: true\n"
     ]
    }
   ],
   "source": [
    "class Computer (){\n",
    "    val marke: String = \"Fuhitsu\"\n",
    "    var istAn: Boolean = false\n",
    "}\n",
    "\n",
    "val c1 = Computer ()\n",
    "println(\"Marke von c1: ${c1.marke}, ist c1 an?: ${c1.istAn}.\") //Benutzung der Getter von marke und istAn\n",
    "// c1.marke = \"LD\" -> Error, da das Feld marke nicht verändert werden kann und auch keinen Setter besitzt\n",
    "c1.istAn = true //Aufruf des Setters von istAn. Das Feld istAn kann verändert werden, da ein Setter vorhanden ist und das Feld den Typ var besitzt\n",
    "println(\"ist c1 an?: ${c1.istAn}\")"
   ]
  },
  {
   "cell_type": "markdown",
   "id": "8e779dd3",
   "metadata": {},
   "source": [
    "### Konstruktor\n",
    "Mit dem Konstruktor können die Felder mit Werten bestückt werden. Aufgrund des Konstruktorwirrars in Java, unterscheidet Kotlin zwischen 2 verschiedenenen Arten:\n",
    "* primärer Konstruktor: Dieser Konstruktor muss mindestens ein Mal in jeder Klasse enthalten sein. Falls er nicht explizit definiert wird, wird ein automatisch generierter Konstruktor implizit hinzugefügt.\n",
    "* sekundärer Konstruktor: Eine Anweisung, die auf den primären Konstruktor verweist und eine alternative Handhabung des primären Konstruktors ermöglicht.\n",
    "#### Primärer Konstruktor\n",
    "Der primäre Konstruktor besitzt drei verschiedene Erscheinungsformen:\n",
    "<ul>\n",
    "    <li>Defaultkonstruktor</li>\n",
    "    <li>Konstruktor mit <code>init</code>-Block</li>\n",
    "    <li>Konstruktor durch direkte Zuweisung</li>\n",
    "</ul>\n",
    "\n",
    "Im folgenden wird auf alle Arten Bezug genommen und im Anschluss ein Vergleich angestellt.\n",
    "##### Defaultkonstruktor\n",
    "Den Defaultkonstruktor wurde bereits bei den [Feldern](#Felder) kennengelernt. Dieser wird vom Compiler für alle Parameter, die einem Variablentyp zugewiesen sind, generiert.  "
   ]
  },
  {
   "cell_type": "code",
   "execution_count": 4,
   "id": "73af5175",
   "metadata": {
    "execution": {
     "iopub.execute_input": "2021-04-27T17:21+0200",
     "iopub.status.busy": "2021-04-27T17:21+0200",
     "iopub.status.idle": "2021-04-27T17:21+0200",
     "shell.execute_reply": "2021-04-27T17:21+0200",
     "shell.execute_reply.started": "2021-04-27T17:21+0200"
    },
    "tags": []
   },
   "outputs": [
    {
     "name": "stdout",
     "output_type": "stream",
     "text": [
      "Die Flasche mit der Farbe Grau ist zu 20% gefüllt.\n"
     ]
    }
   ],
   "source": [
    "class Flasche (val farbe: String, var füllung: Int)\n",
    "val f1 = Flasche (\"Grau\", 20)\n",
    "println(\"Die Flasche mit der Farbe ${f1.farbe} ist zu ${f1.füllung}% gefüllt.\")"
   ]
  },
  {
   "cell_type": "markdown",
   "id": "48b47d6e",
   "metadata": {},
   "source": [
    "##### Konstruktor mit `init`-Block\n",
    "Natürlich kann der Konstruktor auch selbst, wie in Java gewohnt, definiert werden. Dieser ist zwischen der Deklaration der Felder und den Objektmethoden anzusiedeln. Eingeleitet wird er mit dem Schlüsselwort `init` gefolgt von einem Methodenrumpf. Anders als von Java gewöhnt werden dessen Parameter nicht direkt im Kopf des Konstruktors angegeben, sondern im Kopf der Klasse. Die dort definierten Parameter können im Konstruktor benutzt werden. Bei Namenskonflikten findet wieder das Schlüsselwort `this` Anwendung, das das aktuelle Objekt referenziert."
   ]
  },
  {
   "cell_type": "code",
   "execution_count": 5,
   "id": "42ba8b8f",
   "metadata": {
    "execution": {
     "iopub.execute_input": "2021-04-27T17:21+0200",
     "iopub.status.busy": "2021-04-27T17:21+0200",
     "iopub.status.idle": "2021-04-27T17:21+0200",
     "shell.execute_reply": "2021-04-27T17:21+0200",
     "shell.execute_reply.started": "2021-04-27T17:21+0200"
    },
    "tags": []
   },
   "outputs": [
    {
     "name": "stdout",
     "output_type": "stream",
     "text": [
      "Bett b1: Länge 160, Breite 200, belegt false\n",
      "Bett b2: Länge 0, Breite 50, belegt true\n"
     ]
    }
   ],
   "source": [
    "class Bett (\n",
    "    laenge: Int, breite: Int, belegt: Boolean //Übergabeparameter bei Objekterzeugung. Können im init-Block verwendet werden.\n",
    "){\n",
    "    val laenge: Int\n",
    "    val breite: Int\n",
    "    var belegt: Boolean\n",
    "    \n",
    "    init { //primärer Konstruktor mit init-Block. In diesem kann auf die Parameter zugegriffen werden.\n",
    "        this.laenge = if (laenge > 0) laenge else 0\n",
    "        this.breite = if (breite > 0) breite else 0\n",
    "        this.belegt = belegt\n",
    "    }\n",
    "}\n",
    "val b1 = Bett (160, 200, false)\n",
    "val b2 = Bett (-100, 50, true)\n",
    "println(\"Bett b1: Länge ${b1.laenge}, Breite ${b1.breite}, belegt ${b1.belegt}\")\n",
    "println(\"Bett b2: Länge ${b2.laenge}, Breite ${b2.breite}, belegt ${b2.belegt}\")"
   ]
  },
  {
   "cell_type": "markdown",
   "id": "d8127336",
   "metadata": {},
   "source": [
    "##### Konstruktor durch direkte Initialisierung\n",
    "Eine weitere Möglichkeit der Initialisierung ist die Felder direkt bei der Deklaration den Parametern oder festgelegten Werten zuzuweisen."
   ]
  },
  {
   "cell_type": "code",
   "execution_count": 6,
   "id": "d187ab32",
   "metadata": {
    "execution": {
     "iopub.execute_input": "2021-04-27T17:21+0200",
     "iopub.status.busy": "2021-04-27T17:21+0200",
     "iopub.status.idle": "2021-04-27T17:21+0200",
     "shell.execute_reply": "2021-04-27T17:21+0200",
     "shell.execute_reply.started": "2021-04-27T17:21+0200"
    },
    "tags": []
   },
   "outputs": [
    {
     "name": "stdout",
     "output_type": "stream",
     "text": [
      "Tisch t1: Länge 100, Breite 100, Farbe Braun\n",
      "Tisch t2: Länge 0, Breite 50, Farbe Weiß\n"
     ]
    }
   ],
   "source": [
    "class Tisch (\n",
    "    laenge: Int, breite: Int, farbe: String //Übergabeparameter bei Objekterzeugung. Können den Feldern direkt zugewiesen werden.\n",
    "){\n",
    "    val laenge: Int = if (laenge > 0) laenge else 0\n",
    "    val breite = if (breite > 0) breite else 0 //Kurzschreibweise ist zulässig. Dabei wird der Datentyp des Parameters übernommen\n",
    "    var farbe: String = farbe\n",
    "}\n",
    "\n",
    "val t1 = Tisch (100, 100, \"Braun\")\n",
    "val t2 = Tisch (-100, 50, \"Weiß\")\n",
    "println(\"Tisch t1: Länge ${t1.laenge}, Breite ${t1.breite}, Farbe ${t1.farbe}\")\n",
    "println(\"Tisch t2: Länge ${t2.laenge}, Breite ${t2.breite}, Farbe ${t2.farbe}\")"
   ]
  },
  {
   "cell_type": "markdown",
   "id": "1642b785",
   "metadata": {},
   "source": [
    "##### Vergleich\n",
    "Jede Erscheinungsform des Konstruktors hat seine Vorteile und Anwendungsbereiche. Während der Defaultkonstruktor bei einfachen Klassen, bei denen nicht mit den Übergabedaten vor der Zuweisung gearbeitet werden, zu bevorzugen ist, bieten die expliziten Konstruktoren genau das. Auf dem ersten Blick scheint es so, als benötige man den Konstruktor mit einem `init`-Block nicht, da die Parameter scheinbar mit dem gleichen Ergebnis direkt zugewiesen werden können. Jedoch ist dieser bei komplexeren Klassen zu bevorzugen, da dort alle Daten erst auf Richtigkeit geprüft werden und so beispielweise auch mit `try` und `catch` gearbeitet werden kann (näheres dazu in [Lektion X](Lektion-X---Fehlerbehandlung)).\n",
    "\n",
    "##### Kombination\n",
    "Die verschiedenen Konstruktoren können auch beliebig miteinander kombiniert werden. "
   ]
  },
  {
   "cell_type": "code",
   "execution_count": 7,
   "id": "e6500e0f",
   "metadata": {
    "execution": {
     "iopub.execute_input": "2021-04-27T17:21+0200",
     "iopub.status.busy": "2021-04-27T17:21+0200",
     "iopub.status.idle": "2021-04-27T17:21+0200",
     "shell.execute_reply": "2021-04-27T17:21+0200",
     "shell.execute_reply.started": "2021-04-27T17:21+0200"
    },
    "tags": []
   },
   "outputs": [
    {
     "name": "stdout",
     "output_type": "stream",
     "text": [
      "Stuhl s1: Länge 20, Breite 20, belegt true\n",
      "Stuhl s2: Länge 0, Breite 30, belegt false\n"
     ]
    }
   ],
   "source": [
    "class Stuhl (laenge: Int, breite: Int, var belegt: Boolean){\n",
    "    val laenge = if (laenge > 0) laenge else 0\n",
    "    val breite: Int\n",
    "    \n",
    "    init {\n",
    "        this.breite = if (breite > 0) breite else 0\n",
    "    }\n",
    "}\n",
    "val s1 = Stuhl (20, 20, true)\n",
    "val s2 = Stuhl (-20, 30, false)\n",
    "println(\"Stuhl s1: Länge ${s1.laenge}, Breite ${s1.breite}, belegt ${s1.belegt}\")\n",
    "println(\"Stuhl s2: Länge ${s2.laenge}, Breite ${s2.breite}, belegt ${s2.belegt}\")"
   ]
  },
  {
   "cell_type": "markdown",
   "id": "4d8f1a85",
   "metadata": {},
   "source": [
    "##### Mehrere primäre Konstruktoren\n",
    "Eine wichtige Eigenschaft einer Klasse fehlt aber noch: Die Erzeugung eines Objekts mit unterschiedlichen Parameterprofilen. Dazu können in der Klasse mehrere primäre Konstruktoren implementiert werden. Diesen wird das Schlüsselwort `constructor` vorangestellt. Außerdem bekommt jeder Konstruktor sein eigenes Parameterprofil, mit dem dieser dann in dessen Rumpf arbeiten kann. Die Konstruktoren ähnelm dabei dem `init`-Verfahren, da sie alle ihren eigenen Rumpf besitzen. Die Parameterklammern der Klasse werden weggelassen."
   ]
  },
  {
   "cell_type": "code",
   "execution_count": 8,
   "id": "70e6f168",
   "metadata": {
    "execution": {
     "iopub.execute_input": "2021-04-27T17:21+0200",
     "iopub.status.busy": "2021-04-27T17:21+0200",
     "iopub.status.idle": "2021-04-27T17:21+0200",
     "shell.execute_reply": "2021-04-27T17:21+0200",
     "shell.execute_reply.started": "2021-04-27T17:21+0200"
    },
    "tags": []
   },
   "outputs": [
    {
     "name": "stdout",
     "output_type": "stream",
     "text": [
      "Konstruktor eines normalen Fensters\n",
      "Fenster fensterNormal: Länge 50, Breite 0, Zustand Gebraucht \n",
      "\n",
      "Konstruktor eines quadratischen Fensters\n",
      "Fenster fensterQuadrat: Länge 60, Breite 60, Zustand Schmutzig \n",
      "\n",
      "Konstruktor eines neuen Fensters\n",
      "Fenster fensterNeu: Länge 100, Breite 120, Zustand Neu\n"
     ]
    }
   ],
   "source": [
    "class Fenster { //Parameterklammern fehlen\n",
    "    val laenge: Int\n",
    "    val breite: Int\n",
    "    var zustand: String\n",
    "    \n",
    "    //Konstruktor eines normalen Fensters\n",
    "    constructor (laenge: Int, breite: Int, zustand: String){\n",
    "        println(\"Konstruktor eines normalen Fensters\")\n",
    "        this.laenge = if (laenge > 0) laenge else 0\n",
    "        this.breite = if (breite > 0) breite else 0\n",
    "        this.zustand = zustand\n",
    "    }\n",
    "    //Konstruktor eines quadratischen Fensters\n",
    "    constructor (laenge: Int, zustand: String){\n",
    "        println(\"Konstruktor eines quadratischen Fensters\")\n",
    "        this.laenge = if (laenge > 0) laenge else 0\n",
    "        this.breite = laenge\n",
    "        this.zustand = zustand\n",
    "    }\n",
    "    //Konstruktor eines neuen Fensters\n",
    "    constructor (laenge: Int, breite: Int){\n",
    "        println(\"Konstruktor eines neuen Fensters\")\n",
    "        this.laenge = if (laenge > 0) laenge else 0\n",
    "        this.breite = if (breite > 0) breite else 0\n",
    "        this.zustand = \"Neu\"\n",
    "    }\n",
    "}\n",
    "\n",
    "val fensterNormal = Fenster (50, -80, \"Gebraucht\")\n",
    "println(\"Fenster fensterNormal: Länge ${fensterNormal.laenge}, Breite ${fensterNormal.breite}, Zustand ${fensterNormal.zustand} \\n\")\n",
    "val fensterQuadrat = Fenster (60, \"Schmutzig\")\n",
    "println(\"Fenster fensterQuadrat: Länge ${fensterQuadrat.laenge}, Breite ${fensterQuadrat.breite}, Zustand ${fensterQuadrat.zustand} \\n\")\n",
    "val fensterNeu = Fenster (100, 120)\n",
    "println(\"Fenster fensterNeu: Länge ${fensterNeu.laenge}, Breite ${fensterNeu.breite}, Zustand ${fensterNeu.zustand}\")"
   ]
  },
  {
   "cell_type": "markdown",
   "id": "c4a88daa",
   "metadata": {},
   "source": [
    "#### Sekundärer Konstruktor\n",
    "Mit Hilfe eines sekundären Konstruktors ist es einfach möglich alternative Objekterzeugungen zu implementierten. Dazu wird ein primärer Konstruktor mit `this()` mit zu bestimmenden Parametern aufgerufen. Auch kann ein anderer sekündärer Konstruktor aufgerufen, jedoch muss am Ende ein Primärer benutzt werden, da nur dieser das Objekt erzeugen kann. Die Implementierung eines sekundären Konstruktors ähnelt der bei Benutzung mehrerer primärer Konstruktoren. Jedoch ist nur eine Anweisung erlaubt, die von den Parametern mit `:` getrennt wird. Diese muss einen Konstruktor aufrufen (`this()` oder `super()`)."
   ]
  },
  {
   "cell_type": "code",
   "execution_count": 9,
   "id": "180dde4e",
   "metadata": {
    "execution": {
     "iopub.execute_input": "2021-04-27T17:21+0200",
     "iopub.status.busy": "2021-04-27T17:21+0200",
     "iopub.status.idle": "2021-04-27T17:21+0200",
     "shell.execute_reply": "2021-04-27T17:21+0200",
     "shell.execute_reply.started": "2021-04-27T17:21+0200"
    },
    "tags": []
   },
   "outputs": [
    {
     "name": "stdout",
     "output_type": "stream",
     "text": [
      "Batterie eigeneBatterie: Kapazität 2000, Wiederaufladbar true, Ladezyklen 42, Status Gebraucht\n",
      "Batterie neueBatterie: Kapazität 3000, Wiederaufladbar false, Ladezyklen 0, Status Neu\n",
      "Batterie BBBatterie: Kapazität 2400, Wiederaufladbar false, Ladezyklen 0, Status Neu\n"
     ]
    }
   ],
   "source": [
    "//primärer Konstruktor: Defaultkonstruktor\n",
    "class Batterie (val kapazitaet: Int, val wiederaufladbar: Boolean, var ladezyklen: Int, val status: String){\n",
    "    //sekundärer Konstruktor: Neue Batterie mit Angabe von Kapazität und Wiederaufladbarkeit\n",
    "    constructor (kapazitaet: Int, wiederaufladbar: Boolean) : this(kapazitaet, wiederaufladbar, 0, \"Neu\") //Benutzt den primären Konstruktor\n",
    "    //sekundärer Konstruktor: Neue BB Einmalbatterie\n",
    "    constructor () : this(2400, false) //Benutzt den anderen sekundären Konstruktor\n",
    "}\n",
    "val eigeneBatterie = Batterie(2000, true, 42, \"Gebraucht\") //primärer Konstruktor\n",
    "println(\"Batterie eigeneBatterie: Kapazität ${eigeneBatterie.kapazitaet}, Wiederaufladbar ${eigeneBatterie.wiederaufladbar}, Ladezyklen ${eigeneBatterie.ladezyklen}, Status ${eigeneBatterie.status}\")\n",
    "val neueBatterie = Batterie(3000, false) //sekundärer Konstruktor: Neue Batterie mit Angabe von Kapazität und Wiederaufladbarkeit\n",
    "println(\"Batterie neueBatterie: Kapazität ${neueBatterie.kapazitaet}, Wiederaufladbar ${neueBatterie.wiederaufladbar}, Ladezyklen ${neueBatterie.ladezyklen}, Status ${neueBatterie.status}\")\n",
    "val BBBatterie = Batterie() //sekundärer Konstruktor: Neue BB Einmalbatterie\n",
    "println(\"Batterie BBBatterie: Kapazität ${BBBatterie.kapazitaet}, Wiederaufladbar ${BBBatterie.wiederaufladbar}, Ladezyklen ${BBBatterie.ladezyklen}, Status ${BBBatterie.status}\")"
   ]
  },
  {
   "cell_type": "markdown",
   "id": "18655395",
   "metadata": {},
   "source": [
    "### Aufgabe - Pizza-Klasse\n",
    "Implementieren Sie eine Klasse `Pizza`. Jede Pizza soll eine Größe `groeße` (zwischen 15 und 30 [cm], ansonsten -1) und eine Liste aus Belägen `belaege` (Standardmäßig bereits mit Tomatensoße und Käse befüllt) enthalten. Außerdem soll gespeichert werden, ob sie geschnitten `geschnitten` werden soll. Wählen Sie einen passenden primären Konstruktor, der für jedes Feld einen Übergabeparameter besitzt. Fügen Sie außerdem weitere (sekundäre) Konstruktoren hinzu, die eine Pizza Magaritha (Tomatensoße, Mozzarella) und eine 25cm Pizza al Tonno (Tomatensoße, Mozzarella, Thunfisch, Zwiebeln, Peperoni) initialisieren. Beide Pizzas sollen geschnitten werden."
   ]
  },
  {
   "cell_type": "code",
   "execution_count": 10,
   "id": "bd8164f6",
   "metadata": {
    "execution": {
     "iopub.execute_input": "2021-04-27T17:21+0200",
     "iopub.status.busy": "2021-04-27T17:21+0200",
     "iopub.status.idle": "2021-04-27T17:21+0200",
     "shell.execute_reply": "2021-04-27T17:21+0200"
    }
   },
   "outputs": [
    {
     "name": "stderr",
     "output_type": "stream",
     "text": [
      "Line_9.jupyter.kts (5:13 - 18) Unresolved reference: Pizza\n",
      "Line_9.jupyter.kts (10:13 - 18) Unresolved reference: Pizza\n",
      "Line_9.jupyter.kts (15:13 - 18) Unresolved reference: Pizza\n",
      "Line_9.jupyter.kts (20:13 - 18) Unresolved reference: Pizza\n",
      "Line_9.jupyter.kts (25:13 - 18) Unresolved reference: Pizza\n",
      "Line_9.jupyter.kts (30:13 - 18) Unresolved reference: Pizza\n",
      "Line_9.jupyter.kts (35:13 - 18) Unresolved reference: Pizza"
     ]
    }
   ],
   "source": [
    "//TODO\n",
    "\n",
    "//Tests\n",
    "var fehler = 0\n",
    "val test1 = Pizza(25, listOf(\"Schinken\"), false)\n",
    "if( test1.groeße != 25 || test1.belaege != listOf(\"Tomatensoße\", \"Mozzarella\", \"Schinken\") || test1.geschnitten != false ){\n",
    "    fehler++\n",
    "    println(\"Fehler bei Test 1! Richtig wäre: Größe 25, Beläge [Tomatensoße, Mozzarella, Schinken], Geschnitten false \\n  Ist: Größe ${test1.groeße}, Beläge ${test1.belaege}, Geschnitten ${test1.geschnitten}\")\n",
    "}\n",
    "val test2 = Pizza(31, listOf(\"Schinken\"), false)\n",
    "if( test2.groeße != -1 || test2.belaege != listOf(\"Tomatensoße\", \"Mozzarella\", \"Schinken\") || test2.geschnitten != false ){\n",
    "    fehler++\n",
    "    println(\"Fehler bei Test 2! Richtig wäre: Größe -1, Beläge [Tomatensoße, Mozzarella, Schinken], Geschnitten false \\n  Ist: Größe ${test2.groeße}, Beläge ${test2.belaege}, Geschnitten ${test2.geschnitten}\")\n",
    "}\n",
    "val test3 = Pizza(14, listOf(\"Schinken\"), false)\n",
    "if( test3.groeße != -1 || test3.belaege != listOf(\"Tomatensoße\", \"Mozzarella\", \"Schinken\") || test3.geschnitten != false ){\n",
    "    fehler++\n",
    "    println(\"Fehler bei Test 3! Richtig wäre: Größe -1, Beläge [Tomatensoße, Mozzarella, Schinken], Geschnitten false \\n  Ist: Größe ${test3.groeße}, Beläge ${test3.belaege}, Geschnitten ${test3.geschnitten}\")\n",
    "}\n",
    "val test4 = Pizza(31, listOf(\"Schinken\"), false)\n",
    "if( test4.groeße != -1 || test4.belaege != listOf(\"Tomatensoße\", \"Mozzarella\", \"Schinken\") || test4.geschnitten != false ){\n",
    "    fehler++\n",
    "    println(\"Fehler bei Test 4! Richtig wäre: Größe -1, Beläge [Tomatensoße, Mozzarella, Schinken], Geschnitten false \\n  Ist: Größe ${test4.groeße}, Beläge ${test4.belaege}, Geschnitten ${test4.geschnitten}\")\n",
    "}\n",
    "val test5 = Pizza(28, emptyList(), true)\n",
    "if( test5.groeße != 28 || test5.belaege != listOf(\"Tomatensoße\", \"Mozzarella\") || test5.geschnitten != true ){\n",
    "    fehler++\n",
    "    println(\"Fehler bei Test 5! Richtig wäre: Größe 28, Beläge [Tomatensoße, Mozzarella], Geschnitten true \\n  Ist: Größe ${test5.groeße}, Beläge ${test5.belaege}, Geschnitten ${test5.geschnitten}\")\n",
    "}\n",
    "val test6 = Pizza(15)\n",
    "if( test6.groeße != 15 || test6.belaege != listOf(\"Tomatensoße\", \"Mozzarella\") || test6.geschnitten != true ){\n",
    "    fehler++\n",
    "    println(\"Fehler bei Test 6! Richtig wäre: Größe 15, Beläge [Tomatensoße, Mozzarella], Geschnitten true \\n  Ist: Größe ${test6.groeße}, Beläge ${test6.belaege}, Geschnitten ${test6.geschnitten}\")\n",
    "}\n",
    "val test7 = Pizza()\n",
    "if( test7.groeße != 25 || test7.belaege != listOf(\"Tomatensoße\", \"Mozzarella\", \"Thunfisch\", \"Zwiebeln\", \"Peperoni\") || test7.geschnitten != true ){\n",
    "    fehler++\n",
    "    println(\"Fehler bei Test 7! Richtig wäre: Größe 25, Beläge [Tomatensoße, Mozzarella, Thunfisch, Zwiebeln, Peperoni], Geschnitten false \\n  Ist: Größe ${test7.groeße}, Beläge ${test7.belaege}, Geschnitten ${test7.geschnitten}\")\n",
    "}\n",
    "if(fehler == 0)\n",
    "    println(\"Super! Alle Tests bestanden!\")\n",
    "else\n",
    "    println(\"Bei $fehler Tests kamen Fehler auf.\")"
   ]
  },
  {
   "cell_type": "code",
   "execution_count": 11,
   "id": "7fd9151f",
   "metadata": {
    "execution": {
     "iopub.execute_input": "2021-04-27T17:21+0200",
     "iopub.status.busy": "2021-04-27T17:21+0200",
     "iopub.status.idle": "2021-04-27T17:21+0200",
     "shell.execute_reply": "2021-04-27T17:21+0200",
     "shell.execute_reply.started": "2021-04-27T17:21+0200"
    },
    "tags": []
   },
   "outputs": [
    {
     "name": "stdout",
     "output_type": "stream",
     "text": [
      "Super! Alle Tests bestanden!\n"
     ]
    }
   ],
   "source": [
    "//Lösung\n",
    "class Pizza (groeße: Int, belaege: List<String>, geschnitten: Boolean){\n",
    "    val groeße: Int\n",
    "    val belaege: MutableList<String>\n",
    "    val geschnitten: Boolean\n",
    "    \n",
    "    init {\n",
    "        this.groeße = if (15 <= groeße && groeße <= 30) groeße else -1\n",
    "        this.belaege = mutableListOf(\"Tomatensoße\", \"Mozzarella\")\n",
    "        this.belaege += belaege\n",
    "        this.geschnitten = geschnitten\n",
    "    }\n",
    "    \n",
    "    constructor (groeße: Int) : this(groeße, emptyList(), true)\n",
    "    constructor () : this(25, listOf(\"Thunfisch\", \"Zwiebeln\", \"Peperoni\"), true)\n",
    "}\n",
    "\n",
    "//Tests\n",
    "var fehler = 0\n",
    "val test1 = Pizza(25, listOf(\"Schinken\"), false)\n",
    "if( test1.groeße != 25 || test1.belaege != listOf(\"Tomatensoße\", \"Mozzarella\", \"Schinken\") || test1.geschnitten != false ){\n",
    "    fehler++\n",
    "    println(\"Fehler bei Test 1! Richtig wäre: Größe 25, Beläge [Tomatensoße, Mozzarella, Schinken], Geschnitten false \\n  Ist: Größe ${test1.groeße}, Beläge ${test1.belaege}, Geschnitten ${test1.geschnitten}\")\n",
    "}\n",
    "val test2 = Pizza(31, listOf(\"Schinken\"), false)\n",
    "if( test2.groeße != -1 || test2.belaege != listOf(\"Tomatensoße\", \"Mozzarella\", \"Schinken\") || test2.geschnitten != false ){\n",
    "    fehler++\n",
    "    println(\"Fehler bei Test 2! Richtig wäre: Größe -1, Beläge [Tomatensoße, Mozzarella, Schinken], Geschnitten false \\n  Ist: Größe ${test2.groeße}, Beläge ${test2.belaege}, Geschnitten ${test2.geschnitten}\")\n",
    "}\n",
    "val test3 = Pizza(14, listOf(\"Schinken\"), false)\n",
    "if( test3.groeße != -1 || test3.belaege != listOf(\"Tomatensoße\", \"Mozzarella\", \"Schinken\") || test3.geschnitten != false ){\n",
    "    fehler++\n",
    "    println(\"Fehler bei Test 3! Richtig wäre: Größe -1, Beläge [Tomatensoße, Mozzarella, Schinken], Geschnitten false \\n  Ist: Größe ${test3.groeße}, Beläge ${test3.belaege}, Geschnitten ${test3.geschnitten}\")\n",
    "}\n",
    "val test4 = Pizza(31, listOf(\"Schinken\"), false)\n",
    "if( test4.groeße != -1 || test4.belaege != listOf(\"Tomatensoße\", \"Mozzarella\", \"Schinken\") || test4.geschnitten != false ){\n",
    "    fehler++\n",
    "    println(\"Fehler bei Test 4! Richtig wäre: Größe -1, Beläge [Tomatensoße, Mozzarella, Schinken], Geschnitten false \\n  Ist: Größe ${test4.groeße}, Beläge ${test4.belaege}, Geschnitten ${test4.geschnitten}\")\n",
    "}\n",
    "val test5 = Pizza(28, emptyList(), true)\n",
    "if( test5.groeße != 28 || test5.belaege != listOf(\"Tomatensoße\", \"Mozzarella\") || test5.geschnitten != true ){\n",
    "    fehler++\n",
    "    println(\"Fehler bei Test 5! Richtig wäre: Größe 28, Beläge [Tomatensoße, Mozzarella], Geschnitten true \\n  Ist: Größe ${test5.groeße}, Beläge ${test5.belaege}, Geschnitten ${test5.geschnitten}\")\n",
    "}\n",
    "val test6 = Pizza(15)\n",
    "if( test6.groeße != 15 || test6.belaege != listOf(\"Tomatensoße\", \"Mozzarella\") || test6.geschnitten != true ){\n",
    "    fehler++\n",
    "    println(\"Fehler bei Test 6! Richtig wäre: Größe 15, Beläge [Tomatensoße, Mozzarella], Geschnitten true \\n  Ist: Größe ${test6.groeße}, Beläge ${test6.belaege}, Geschnitten ${test6.geschnitten}\")\n",
    "}\n",
    "val test7 = Pizza()\n",
    "if( test7.groeße != 25 || test7.belaege != listOf(\"Tomatensoße\", \"Mozzarella\", \"Thunfisch\", \"Zwiebeln\", \"Peperoni\") || test7.geschnitten != true ){\n",
    "    fehler++\n",
    "    println(\"Fehler bei Test 7! Richtig wäre: Größe 25, Beläge [Tomatensoße, Mozzarella, Thunfisch, Zwiebeln, Peperoni], Geschnitten false \\n  Ist: Größe ${test7.groeße}, Beläge ${test7.belaege}, Geschnitten ${test7.geschnitten}\")\n",
    "}\n",
    "if(fehler == 0)\n",
    "    println(\"Super! Alle Tests bestanden!\")\n",
    "else\n",
    "    println(\"Bei $fehler Tests kamen Fehler auf.\")"
   ]
  },
  {
   "cell_type": "markdown",
   "id": "a525aceb",
   "metadata": {},
   "source": [
    "### Getter und Setter\n",
    "Es können aber auch eigene Getter und Setter für jedes Feld definiert werden, falls der Variablentyp dies zulässt. Sie müssen direkt nach den Feld definiert werden. Auf der aktuelle Wert des Feldes kann mit `field` zugegriffen werden. Der Setter bekommt den neuen Wert als Parameter übergeben. Der Datentyp des Parameters muss nicht angegeben werden, da dieser durch das Feld gegeben ist, jedoch muss ihm ein Name zugewiesen werden, der im Rumpf den neuen Wert repräsentiert. Ein Wert wird dem Feld mit einer Zuweisung an `field` geändert. Es sind immer die Datentypen der Felder zu beachten."
   ]
  },
  {
   "cell_type": "code",
   "execution_count": 12,
   "id": "cb7b3aeb",
   "metadata": {
    "execution": {
     "iopub.execute_input": "2021-04-27T17:21+0200",
     "iopub.status.busy": "2021-04-27T17:21+0200",
     "iopub.status.idle": "2021-04-27T17:21+0200",
     "shell.execute_reply": "2021-04-27T17:21+0200",
     "shell.execute_reply.started": "2021-04-27T17:21+0200"
    },
    "tags": []
   },
   "outputs": [
    {
     "name": "stdout",
     "output_type": "stream",
     "text": [
      "Person p1: Name: Max Mustermann, Alter -1\n",
      "Person p1: Name: Max Mustermann, Alter 21\n",
      "Person p1: Name: Max Mustermann, Alter 21\n"
     ]
    }
   ],
   "source": [
    "public class Person (name: String, alter: Int){\n",
    "    val name: String = name\n",
    "        get() = \"Name: $field\" //Wird auf das Feld name zugegeriffen, wird der String \"Name: name\" zurückgegeben\n",
    "        //Kein Setter möglich, da val\n",
    "    var alter = if (alter > 0) alter else -1\n",
    "        get() = field //Standardgetter\n",
    "        set(value){ //Eigener Setter. Der neue Wert wird in value gespeichert\n",
    "            field = if (value > field) value else field //Das Feld wird auf den neuen Wert gesetzt, falls dieser größer als der Aktuelle ist.\n",
    "        }\n",
    "}\n",
    "val p1 = Person (\"Max Mustermann\", -10)\n",
    "println(\"Person p1: ${p1.name}, Alter ${p1.alter}\")\n",
    "p1.alter = 21\n",
    "println(\"Person p1: ${p1.name}, Alter ${p1.alter}\")\n",
    "p1.alter = -10\n",
    "println(\"Person p1: ${p1.name}, Alter ${p1.alter}\")"
   ]
  },
  {
   "cell_type": "markdown",
   "id": "966922d1",
   "metadata": {},
   "source": [
    "#### Computed Properties\n",
    "Durch die Definition eigener Getter können Felder auch kleine Methoden darstellen ohne einen eigenen Wert zu speichern. So können beispielsweise berechnete Wahrheitswerte zurückgegeben werden. Diese Handhabung kann rudimentäre Methoden ersetzen. Als Beispiel wird die bereits kennengelernte Klasse `Person` mit einem berechnetem Feld `istVolljaerig` ergänzt."
   ]
  },
  {
   "cell_type": "code",
   "execution_count": 13,
   "id": "2b492d79",
   "metadata": {
    "execution": {
     "iopub.execute_input": "2021-04-27T17:21+0200",
     "iopub.status.busy": "2021-04-27T17:21+0200",
     "iopub.status.idle": "2021-04-27T17:21+0200",
     "shell.execute_reply": "2021-04-27T17:21+0200",
     "shell.execute_reply.started": "2021-04-27T17:21+0200"
    },
    "tags": []
   },
   "outputs": [
    {
     "name": "stdout",
     "output_type": "stream",
     "text": [
      "Person p1: Name: Max Mustermann, Alter 21, Volljährig true\n"
     ]
    }
   ],
   "source": [
    "public class Person (name: String, alter: Int){\n",
    "    val name: String = name\n",
    "        get() = \"Name: $field\" //Wird auf das Feld name zugegeriffen, wird der String \"Name: name\" zurückgegeben\n",
    "        //Kein Setter möglich, da val\n",
    "    var alter = if (alter > 0) alter else -1\n",
    "        get() = field //Standardgetter\n",
    "        set(value){ //Eigener Setter. Der neue Wert wird in value gespeichert\n",
    "            field = if (value > field) value else field //Das Feld wird auf den neuen Wert gesetzt, falls dieser größer als der Aktuelle ist.\n",
    "        }\n",
    "    val istVolljaerig //Datentyp Boolean aus dem Getter\n",
    "        get() = alter > 17\n",
    "}\n",
    "val p1 = Person (\"Max Mustermann\", 21)\n",
    "println(\"Person p1: ${p1.name}, Alter ${p1.alter}, Volljährig ${p1.istVolljaerig}\")"
   ]
  },
  {
   "cell_type": "markdown",
   "id": "6e6fd85f",
   "metadata": {},
   "source": [
    "#### Lazy Properties\n",
    "Eine Variable oder ein Feld des Typs `val` kann mit dem Schlüsselwort `by lazy` träge gemacht werden. Das heißt, dass der Wert erst bei Verwendung berechnet wird. Dazu ist ein Lambda-Ausdruck nötig, dessen Ergebnis der Wert des Feldes oder der Variable ist. Wird die Variable danach noch einmal verwendet, wird der Wert jedoch nicht noch einmal berechnet, sondern der gespeicherte Wert wird verwendet.\n",
    "\n",
    "Quiz: Wie oft wird \"Wird berechnet...\" ausgegeben?"
   ]
  },
  {
   "cell_type": "code",
   "execution_count": 14,
   "id": "edaa4c59",
   "metadata": {
    "execution": {
     "iopub.execute_input": "2021-04-27T17:21+0200",
     "iopub.status.busy": "2021-04-27T17:21+0200",
     "iopub.status.idle": "2021-04-27T17:21+0200",
     "shell.execute_reply": "2021-04-27T17:21+0200",
     "shell.execute_reply.started": "2021-04-27T17:21+0200"
    },
    "tags": []
   },
   "outputs": [
    {
     "name": "stdout",
     "output_type": "stream",
     "text": [
      "Wird berechnet...\n",
      "true\n",
      "true\n"
     ]
    }
   ],
   "source": [
    "public class Person (name: String, alter: Int){\n",
    "    val name = name\n",
    "    var alter = alter\n",
    "    val istVolljaehrig: Boolean by lazy {\n",
    "        println(\"Wird berechnet...\")\n",
    "        alter > 18\n",
    "    }\n",
    "}\n",
    "val p1 = Person(\"Erika Musterfrau\", 32)\n",
    "println(p1.istVolljaehrig)\n",
    "println(p1.istVolljaehrig)"
   ]
  },
  {
   "cell_type": "markdown",
   "id": "9103ccdf",
   "metadata": {},
   "source": [
    "#### `lateinit`\n",
    "Ein weiteres ähnliches Konstrukt ist `lateinit`. Dies findet Anwendung, wenn ein Feld erst nach der Objekterzeugung einen Wert zurgewiesen bekommt. Dieses Feld kann dann im Konstruktor ignoriert werden.<br />\n",
    "Vorraussetzungen:\n",
    "* Das Feld ist vom Typ `var`\n",
    "* Der Datentyp des Feldes ist nonnullable\n",
    "* Der Datentyp des Feldes ist nicht primitiv"
   ]
  },
  {
   "cell_type": "code",
   "execution_count": 15,
   "id": "ff55de11",
   "metadata": {
    "execution": {
     "iopub.execute_input": "2021-04-27T17:21+0200",
     "iopub.status.busy": "2021-04-27T17:21+0200",
     "iopub.status.idle": "2021-04-27T17:21+0200",
     "shell.execute_reply": "2021-04-27T17:21+0200",
     "shell.execute_reply.started": "2021-04-27T17:21+0200"
    },
    "tags": []
   },
   "outputs": [
    {
     "name": "stdout",
     "output_type": "stream",
     "text": [
      "Volljährig\n"
     ]
    }
   ],
   "source": [
    "public class Person (name: String, alter: Int){\n",
    "    val name = name\n",
    "    var alter = alter\n",
    "    lateinit var istVolljaehrig: String\n",
    "    \n",
    "    fun berechneIstVolljaehrig(){\n",
    "        istVolljaehrig = if (alter > 17) \"Volljährig\" else \"Nicht Volljährig\"\n",
    "    }\n",
    "}\n",
    "val p1 = Person (\"Max Mustermann\", 30)\n",
    "//println(p1.istVolljaehrig) //Error: UninitializedPropertyAccessException: lateinit property istVolljaehrig has not been initialized\n",
    "p1.berechneIstVolljaehrig() //istVolljaehrig wird berechnet\n",
    "println(p1.istVolljaehrig)"
   ]
  },
  {
   "cell_type": "markdown",
   "id": "bbfcb7eb",
   "metadata": {},
   "source": [
    "Einem `lateinit` Feld ist zusätzlich gespeichert, ob es bereits initialisiert wurde. Diese Information kann mit `this::name.isInitialized` abgerufen werden."
   ]
  },
  {
   "cell_type": "code",
   "execution_count": 16,
   "id": "18f44a47",
   "metadata": {
    "execution": {
     "iopub.execute_input": "2021-04-27T17:21+0200",
     "iopub.status.busy": "2021-04-27T17:21+0200",
     "iopub.status.idle": "2021-04-27T17:21+0200",
     "shell.execute_reply": "2021-04-27T17:21+0200",
     "shell.execute_reply.started": "2021-04-27T17:21+0200"
    },
    "tags": []
   },
   "outputs": [
    {
     "name": "stdout",
     "output_type": "stream",
     "text": [
      "false\n",
      "true\n"
     ]
    }
   ],
   "source": [
    "public class Person (name: String, alter: Int){\n",
    "    val name = name\n",
    "    var alter = alter\n",
    "    lateinit var istVolljaehrig: String\n",
    "    \n",
    "    fun berechneIstVolljaehrig(){\n",
    "        istVolljaehrig = if (alter > 17) \"Volljährig\" else \"Nicht Volljährig\"\n",
    "    }\n",
    "    fun istInitialisiert() = this::istVolljaehrig.isInitialized\n",
    "}\n",
    "\n",
    "val p1 = Person (\"Max Mustermann\", 30)\n",
    "println(p1.istInitialisiert())\n",
    "p1.berechneIstVolljaehrig() //istVolljaehrig wird berechnet\n",
    "println(p1.istInitialisiert())"
   ]
  },
  {
   "cell_type": "markdown",
   "id": "d02523d7",
   "metadata": {},
   "source": [
    "### Sichtbarkeiten\n",
    "Bis jetzt wurden alle Variablen, Felder und Klassen öffentlich implementiert. Jedoch gibt es in Kotlin wie auch in Java Sichtbarkeiten, mit denen der Zugriff eingeschränkt werden kann.\n",
    "* `private`: Das Element kann nur in der Klasse verwendet werden. \n",
    "* `protected`: Erweitertung von `private`. Zusätzlich können auf die Elemente auch in Unterklassen zugegriffen werden.\n",
    "* `internal`: Erweiterung von `protected`. Das Element kann im ganzen Modul verwendet werden. Module können sich als größere Pakete vorgestellt werden.\n",
    "* `public`: Das Element kann überall benutzt werden."
   ]
  },
  {
   "cell_type": "markdown",
   "id": "ab54a2a8",
   "metadata": {},
   "source": [
    "### Methoden\n",
    "Objektmethoden sind mit normalen statischen Methoden zu vergleichen. Es kann die Kurzschreibweise angewendet und eine Sichtbarkeit zugewiesen werden. Auf Objektmethoden kann, wie in Java, mit der Punktnotation zugegriffen werden. Soll eine bereits generierte Methode, zum Beispiel `toString()`, überschrieben werden, muss der Methode das Schlüsselwort `override` vorangestellt werden."
   ]
  },
  {
   "cell_type": "code",
   "execution_count": 17,
   "id": "5c1840b8",
   "metadata": {
    "execution": {
     "iopub.execute_input": "2021-04-27T17:21+0200",
     "iopub.status.busy": "2021-04-27T17:21+0200",
     "iopub.status.idle": "2021-04-27T17:21+0200",
     "shell.execute_reply": "2021-04-27T17:21+0200",
     "shell.execute_reply.started": "2021-04-27T17:21+0200"
    },
    "tags": []
   },
   "outputs": [
    {
     "name": "stdout",
     "output_type": "stream",
     "text": [
      "Vor Geburtstag: Max Mustermann ist 30 Jahre alt.\n",
      "Nach Geburtstag: Max Mustermann ist 31 Jahre alt.\n"
     ]
    }
   ],
   "source": [
    "class Person(val name: String, var alter: Int){\n",
    "    fun hatGeburtstag() = alter++ //Objektmethode\n",
    "    override fun toString() = \"$name ist $alter Jahre alt.\" //Objektmethode die die Methode toString() überschreibt\n",
    "}\n",
    "\n",
    "val p1 = Person(\"Max Mustermann\", 30)\n",
    "println(\"Vor Geburtstag: $p1\")\n",
    "p1.hatGeburtstag()\n",
    "println(\"Nach Geburtstag: $p1\")"
   ]
  },
  {
   "cell_type": "markdown",
   "id": "8397b12c",
   "metadata": {},
   "source": [
    "### Aufgabe - Parkplatzverwaltung\n",
    "Implementieren Sie eine Klasse `Parkplatzverwaltung`, die einen Parkplatz repräsentieren soll. Der Grundriss und die Belegung soll mit Hilfe einer Liste der Länge 5 verwirklicht werden. Ist ein Parkplatz belegt, so soll an diesem Eintrag `true` stehen. Benutzen Sie passende Sichtbarkeiten. Standardmäßig wird bei Erzeugung eine passendes Liste übergeben. Falls kein Parameter übergeben wird, soll ein leerer Parkplatz erstellt werden. Implementieren Sie zusätzlich eine Methode `einparken()` die die Nummer des Parkplatzes übergeben bekommt und diesen belegt falls möglich. Bei Erfolg soll `true` zurückgegebn werden, ansonsten `false`. Gehen Sie davon aus, dass nur korrekte Parameter übergeben werden. Überschreiben Sie zusätzlich die Methode `toString()`, die den Parkplatz übersichtlich nach folgendem Muster ausgegeben soll: <br />\n",
    "<p>--x-- (Parkplatz Nummer 2 ist belegt)</p>"
   ]
  },
  {
   "cell_type": "code",
   "execution_count": 18,
   "id": "4b764be3",
   "metadata": {
    "execution": {
     "iopub.execute_input": "2021-04-27T17:21+0200",
     "iopub.status.busy": "2021-04-27T17:21+0200",
     "iopub.status.idle": "2021-04-27T17:21+0200",
     "shell.execute_reply": "2021-04-27T17:21+0200"
    }
   },
   "outputs": [
    {
     "name": "stderr",
     "output_type": "stream",
     "text": [
      "Line_17.jupyter.kts (5:10 - 29) Unresolved reference: Parkplatzverwaltung\n",
      "Line_17.jupyter.kts (22:10 - 29) Unresolved reference: Parkplatzverwaltung"
     ]
    }
   ],
   "source": [
    "//TODO\n",
    "\n",
    "//Test\n",
    "var fehler = 0\n",
    "val p1 = Parkplatzverwaltung(mutableListOf(true, true, false, false, true))\n",
    "if (p1.toString() != \"xx--x\"){\n",
    "    println(\"Fehler! p1 sollte eigentlich 'xx--x' sein, ist jedoch '$p1'\")\n",
    "    fehler++\n",
    "}\n",
    "if (!p1.einparken(3)){\n",
    "    println(\"Fehler! Parkplatz Nummer 3 sollte eigentlich belegt werden können. Parkplatz: $p1\")\n",
    "    fehler++\n",
    "}\n",
    "if (p1.einparken(3)){\n",
    "    println(\"Fehler! Parkplatz Nummer 3 sollte eigentlich nicht belegt werden können. Parkplatz: $p1\")\n",
    "    fehler++\n",
    "}\n",
    "if (p1.toString() != \"xx-xx\"){\n",
    "    println(\"Fehler! p1 sollte eigentlich 'xx--x' sein, ist jedoch '$p1'\")\n",
    "    fehler++\n",
    "}\n",
    "val p2 = Parkplatzverwaltung()\n",
    "if (p2.toString() != \"-----\"){\n",
    "    println(\"Fehler! p2 sollte eigentlich '-----' sein, ist jedoch '$p2'\")\n",
    "    fehler++\n",
    "}\n",
    "if(fehler == 0)\n",
    "    println(\"Super! Alle Tests bestanden!\")\n",
    "else\n",
    "    println(\"Bei $fehler Tests kamen Fehler auf.\")"
   ]
  },
  {
   "cell_type": "code",
   "execution_count": 19,
   "id": "7dacca78",
   "metadata": {
    "execution": {
     "iopub.execute_input": "2021-04-27T17:21+0200",
     "iopub.status.busy": "2021-04-27T17:21+0200",
     "iopub.status.idle": "2021-04-27T17:21+0200",
     "shell.execute_reply": "2021-04-27T17:21+0200",
     "shell.execute_reply.started": "2021-04-27T17:21+0200"
    },
    "tags": []
   },
   "outputs": [
    {
     "name": "stdout",
     "output_type": "stream",
     "text": [
      "Super! Alle Tests bestanden!\n"
     ]
    }
   ],
   "source": [
    "//Lösung\n",
    "class Parkplatzverwaltung(parkplatz: MutableList<Boolean>){\n",
    "    private val parkplatz: MutableList<Boolean> = parkplatz\n",
    "    \n",
    "    constructor() : this(MutableList<Boolean>(5) { false })\n",
    "    \n",
    "    fun einparken(nummer: Int): Boolean {\n",
    "        return if (!parkplatz[nummer]) {\n",
    "            parkplatz[nummer] = true\n",
    "            true\n",
    "        }\n",
    "        else {\n",
    "            false\n",
    "        }\n",
    "    } \n",
    "\n",
    "    override fun toString(): String {\n",
    "        var res = \"\"\n",
    "        parkplatz.forEach {\n",
    "            res += if (it) \"x\" else \"-\"\n",
    "        }\n",
    "        return res\n",
    "    }\n",
    "}\n",
    "\n",
    "//Test\n",
    "var fehler = 0\n",
    "val p1 = Parkplatzverwaltung(mutableListOf(true, true, false, false, true))\n",
    "if (p1.toString() != \"xx--x\"){\n",
    "    println(\"Fehler! p1 sollte eigentlich 'xx--x' sein, ist jedoch '$p1'\")\n",
    "    fehler++\n",
    "}\n",
    "if (!p1.einparken(3)){\n",
    "    println(\"Fehler! Parkplatz Nummer 3 sollte eigentlich belegt werden können. Parkplatz: $p1\")\n",
    "    fehler++\n",
    "}\n",
    "if (p1.einparken(3)){\n",
    "    println(\"Fehler! Parkplatz Nummer 3 sollte eigentlich nicht belegt werden können. Parkplatz: $p1\")\n",
    "    fehler++\n",
    "}\n",
    "if (p1.toString() != \"xx-xx\"){\n",
    "    println(\"Fehler! p1 sollte eigentlich 'xx--x' sein, ist jedoch '$p1'\")\n",
    "    fehler++\n",
    "}\n",
    "val p2 = Parkplatzverwaltung()\n",
    "if (p2.toString() != \"-----\"){\n",
    "    println(\"Fehler! p2 sollte eigentlich '-----' sein, ist jedoch '$p2'\")\n",
    "    fehler++\n",
    "}\n",
    "if(fehler == 0)\n",
    "    println(\"Super! Alle Tests bestanden!\")\n",
    "else\n",
    "    println(\"Bei $fehler Tests kamen Fehler auf.\")"
   ]
  },
  {
   "cell_type": "markdown",
   "id": "6b5b511d",
   "metadata": {},
   "source": [
    "## Lektion 2 - Datenklassen\n",
    "Zusätzlich zu normalen Klassen bietet Kotlin auch die Möglichkeit Klassen zu erstellen, die nur die Aufgabe der Speicherung von Daten haben. Auf den ersten Blick könnte dies auch mit normalen Klassen bewerkstelligt werden. Jedoch müssen dann alle Methoden per Hand implementiert werden. Beispielsweise `toString()`oder auch `equals()`. Um dem aus dem Weg zu gehen, gibt es Datenklassen. Für diese generiert der Kotlin-Compiler im Hintergrund folgende Methoden: `componentN()`, `copy()`, `equals()`, `hashCode()`, `toString()`. Gekennzeichnet werden Datenklassen mit dem Schlüsselwort `data class`."
   ]
  },
  {
   "cell_type": "code",
   "execution_count": 20,
   "id": "50a50c42",
   "metadata": {
    "execution": {
     "iopub.execute_input": "2021-04-27T17:21+0200",
     "iopub.status.busy": "2021-04-27T17:21+0200",
     "iopub.status.idle": "2021-04-27T17:21+0200",
     "shell.execute_reply": "2021-04-27T17:21+0200",
     "shell.execute_reply.started": "2021-04-27T17:21+0200"
    },
    "tags": []
   },
   "outputs": [
    {
     "name": "stdout",
     "output_type": "stream",
     "text": [
      "Punkt p1: Punkt(x=0, y=0, z=0)\n",
      "Punkt p2: Punkt(x=1, y=1, z=1)\n",
      "p1 und p2 sind ungleich.\n"
     ]
    }
   ],
   "source": [
    "data class Punkt(val x: Int, val y: Int, val z: Int)\n",
    "val p1 = Punkt (0,0,0)\n",
    "println(\"Punkt p1: $p1\") //Verwendung der automatisch generierten toString()-Methode\n",
    "val p2 = Punkt (1,1,1)\n",
    "println(\"Punkt p2: $p2\")\n",
    "if (p1 == p2) //Verwendung der automatisch generierten equals()-Methode\n",
    "    println(\"p1 und p2 sind gleich.\")\n",
    "else\n",
    "    println(\"p1 und p2 sind ungleich.\")"
   ]
  },
  {
   "cell_type": "markdown",
   "id": "99c7441b",
   "metadata": {},
   "source": [
    "Durch die Verwendung der `componentN()`-Methode kann auf mehrere Felder der Datenklasse zugeggriffen werden. Dabei bekommt jedes Feld eine eigene Nummer, beispielsweise x die Nummer 1, zugewisen. Wird `N` durch die Nummer ersetzt und auf dem Objekt aufgerufen, wird das Feld zurückgegeben. Auch können dadurch mehrere Felder abgerufen werden, indem eine Folge als Rückgabe erwartet wird."
   ]
  },
  {
   "cell_type": "code",
   "execution_count": 21,
   "id": "21090f7f",
   "metadata": {
    "execution": {
     "iopub.execute_input": "2021-04-27T17:21+0200",
     "iopub.status.busy": "2021-04-27T17:21+0200",
     "iopub.status.idle": "2021-04-27T17:21+0200",
     "shell.execute_reply": "2021-04-27T17:21+0200",
     "shell.execute_reply.started": "2021-04-27T17:21+0200"
    }
   },
   "outputs": [
    {
     "name": "stdout",
     "output_type": "stream",
     "text": [
      "p1.component1(): 0\n",
      "x: 0, y: 1, z: 2\n"
     ]
    }
   ],
   "source": [
    "val p1 = Punkt (0,1,2)\n",
    "println(\"p1.component1(): ${p1.component1()}\")\n",
    "val (x, y, z) = p1\n",
    "println(\"x: $x, y: $y, z: $z\")"
   ]
  },
  {
   "cell_type": "markdown",
   "id": "9e3ea1a8",
   "metadata": {},
   "source": [
    "Mit Hilfe von `copy()` kann ein neues Objekt mit den gleichen Daten erzeugt werden. Sollen bestimmte Felder aber einen anderen Wert bekommen, kann dies der Methode mit Namen des Feldes und dem gewünschten Wert übergeben werden."
   ]
  },
  {
   "cell_type": "code",
   "execution_count": 22,
   "id": "abee85a0",
   "metadata": {
    "execution": {
     "iopub.execute_input": "2021-04-27T17:21+0200",
     "iopub.status.busy": "2021-04-27T17:21+0200",
     "iopub.status.idle": "2021-04-27T17:21+0200",
     "shell.execute_reply": "2021-04-27T17:21+0200",
     "shell.execute_reply.started": "2021-04-27T17:21+0200"
    },
    "tags": []
   },
   "outputs": [
    {
     "name": "stdout",
     "output_type": "stream",
     "text": [
      "p1: Punkt(x=0, y=1, z=2)\n",
      "p2: Punkt(x=0, y=1, z=2)\n",
      "p3: Punkt(x=4, y=1, z=2)\n"
     ]
    }
   ],
   "source": [
    "val p1 = Punkt (0,1,2)\n",
    "val p2 = p1.copy()\n",
    "println(\"p1: $p1\")\n",
    "println(\"p2: $p2\")\n",
    "val p3 = p1.copy(x=4)\n",
    "println(\"p3: $p3\")"
   ]
  },
  {
   "cell_type": "markdown",
   "id": "6b32e302",
   "metadata": {},
   "source": [
    "Zusätzlich können auch weitere Felder in der Datenklasse hinzugefügt werden. Diese werden jedoch nicht bei den automatisch generierten Methoden berücksichtigt. Außerdem darf der primäre Konstruktor keine Parameter besitzen. Somit können die eigens erstellten Felder in der Klasse nur berechnet und nicht mit einem Parameter gefüllt werden."
   ]
  },
  {
   "cell_type": "code",
   "execution_count": 23,
   "id": "bf64531c",
   "metadata": {
    "execution": {
     "iopub.execute_input": "2021-04-27T17:21+0200",
     "iopub.status.busy": "2021-04-27T17:21+0200",
     "iopub.status.idle": "2021-04-27T17:21+0200",
     "shell.execute_reply": "2021-04-27T17:21+0200",
     "shell.execute_reply.started": "2021-04-27T17:21+0200"
    },
    "tags": []
   },
   "outputs": [
    {
     "name": "stdout",
     "output_type": "stream",
     "text": [
      "Punkt p1 ist im Ursprung: true, Punkt(x=0, y=0, z=0)\n",
      "Punkt p2 ist im Ursprung: false, Punkt(x=1, y=1, z=1)\n"
     ]
    }
   ],
   "source": [
    "data class Punkt (val x: Int, val y: Int, val z: Int){\n",
    "    val istUrsprung = x == 0 && y == 0 && z == 0\n",
    "}\n",
    "val p1 = Punkt (0,0,0)\n",
    "println(\"Punkt p1 ist im Ursprung: ${p1.istUrsprung}, $p1\")\n",
    "val p2 = Punkt (1,1,1)\n",
    "println(\"Punkt p2 ist im Ursprung: ${p2.istUrsprung}, $p2\")"
   ]
  },
  {
   "cell_type": "markdown",
   "id": "f1ccbd0c",
   "metadata": {},
   "source": [
    "### Aufgabe - Abstände\n",
    "In dieser Aufgabe soll mit Hilfe von Datenklassen eine Verwaltung von Abständen ermöglicht werden. Dazu werden folgende Komponenten benötigt:\n",
    "* Eine Datenklasse `Position`, die eine x- und y-Koordinate speicher\n",
    "* Eine Datenklasse `Abstand`, die primär den Wert des Abstands zweier Positionen speichert. Außerdem soll in der Datenklasse in einer Liste `positionen` Paare von Positionen abgespeichert werden, die den Abstand besitzen.\n",
    "* Eine Funktion `berechneAbstand()` der zwei Positionen übergeben werden. Dort soll ihre [Manhatten-Distanz](https://de.wikipedia.org/wiki/Manhattan-Metrik) berechnet und der Abstand zur globale Liste `abstaende` hinzugefügt werden, sollte der Abstand noch nicht in der Liste gespeichert sein. Falls doch soll dem bereits vorhandenen Abstand die beiden Positionen in die Liste `positionen` hinzugefügt werden.  "
   ]
  },
  {
   "cell_type": "code",
   "execution_count": 24,
   "id": "7015bdb9",
   "metadata": {
    "execution": {
     "iopub.execute_input": "2021-04-27T17:21+0200",
     "iopub.status.busy": "2021-04-27T17:21+0200",
     "iopub.status.idle": "2021-04-27T17:21+0200",
     "shell.execute_reply": "2021-04-27T17:21+0200"
    }
   },
   "outputs": [
    {
     "name": "stderr",
     "output_type": "stream",
     "text": [
      "Line_23.jupyter.kts (3:31 - 38) Unresolved reference: Abstand\n",
      "Line_23.jupyter.kts (6:26 - 34) Unresolved reference: Position\n",
      "Line_23.jupyter.kts (6:41 - 49) Unresolved reference: Position\n",
      "Line_23.jupyter.kts (6:56 - 64) Unresolved reference: Position\n",
      "Line_23.jupyter.kts (6:71 - 79) Unresolved reference: Position\n",
      "Line_23.jupyter.kts (7:26 - 34) Unresolved reference: Position\n",
      "Line_23.jupyter.kts (7:41 - 49) Unresolved reference: Position\n",
      "Line_23.jupyter.kts (7:57 - 65) Unresolved reference: Position\n",
      "Line_23.jupyter.kts (7:72 - 80) Unresolved reference: Position\n",
      "Line_23.jupyter.kts (10:9 - 24) Unresolved reference: berechneAbstand\n",
      "Line_23.jupyter.kts (13:19 - 21) Unresolved reference: it"
     ]
    }
   ],
   "source": [
    "//TODO\n",
    "\n",
    "val abstaende = mutableListOf<Abstand>() //Liste von Abständen\n",
    "\n",
    "//Test\n",
    "val positionen1 = listOf(Position(2,7), Position(0,0), Position(5,2), Position(7,2))\n",
    "val positionen2 = listOf(Position(4,4), Position(10,2), Position(1,6), Position(3,4))\n",
    "for(p1 in positionen1){\n",
    "    for(p2 in positionen2){\n",
    "        berechneAbstand(p1, p2)\n",
    "    }\n",
    "}\n",
    "abstaende.sortBy {it.wert}\n",
    "var fehler = 0\n",
    "if(abstaende.toString() != \"[Abstand(wert=2), Abstand(wert=3), Abstand(wert=4), Abstand(wert=5), Abstand(wert=6), Abstand(wert=7), Abstand(wert=8), Abstand(wert=10), Abstand(wert=12), Abstand(wert=13)]\"){\n",
    "    println(\"Fehler! Es sollten folgende Abstände in der Liste vorhanden sein:\\n\\t[Abstand(wert=2), Abstand(wert=3), Abstand(wert=4), Abstand(wert=5), Abstand(wert=6), Abstand(wert=7), Abstand(wert=8), Abstand(wert=10), Abstand(wert=12), Abstand(wert=13)]\\nIn der Liste ist aber aktuell:\\n\\t$abstaende\")\n",
    "    fehler++\n",
    "}\n",
    "val richtigeAnzahl = listOf(1,2,2,3,1,2,2,1,1,1)\n",
    "for(i in 0 until abstaende.size){\n",
    "    if(abstaende[i].positionen.size != richtigeAnzahl[i]){\n",
    "        println(\"Fehler bei Element Nummer $i in abstaende!\\n\\tDer Abstand ${abstaende[i]} sollte eigentlich ${richtigeAnzahl[i]} Einträge in der Liste positionen besitzen, es ist/sind aber ${abstaende[i].positionen.size} Eintrag/Einträge.\")\n",
    "        fehler++\n",
    "    }\n",
    "}\n",
    "if(fehler == 0)\n",
    "    println(\"Super! Alle Tests bestanden!\")\n",
    "else\n",
    "    println(\"Bei $fehler Tests kamen Fehler auf.\")"
   ]
  },
  {
   "cell_type": "code",
   "execution_count": 25,
   "id": "03ccd94c",
   "metadata": {
    "execution": {
     "iopub.execute_input": "2021-04-27T17:21+0200",
     "iopub.status.busy": "2021-04-27T17:21+0200",
     "iopub.status.idle": "2021-04-27T17:21+0200",
     "shell.execute_reply": "2021-04-27T17:21+0200",
     "shell.execute_reply.started": "2021-04-27T17:21+0200"
    },
    "tags": []
   },
   "outputs": [
    {
     "name": "stdout",
     "output_type": "stream",
     "text": [
      "Super! Alle Tests bestanden!\n"
     ]
    }
   ],
   "source": [
    "//Lösung\n",
    "\n",
    "data class Position (val x: Int, val y: Int)\n",
    "data class Abstand (val wert: Int){\n",
    "    val positionen = mutableListOf<Pair<Position, Position>>()\n",
    "}\n",
    "\n",
    "fun berechneAbstand(p1: Position, p2: Position) {\n",
    "    val abstand = Abstand((p1.x - p2.x).absoluteValue + (p1.y - p2.y).absoluteValue)\n",
    "    abstand.positionen.add(Pair(p1, p2))\n",
    "    if (abstand in abstaende)\n",
    "        abstaende.find { it == abstand }?.positionen?.add(Pair(p1, p2))\n",
    "    else\n",
    "        abstaende.add(abstand)\n",
    "}\n",
    "\n",
    "val abstaende = mutableListOf<Abstand>() //Liste von Abständen\n",
    "\n",
    "//Test\n",
    "val positionen1 = listOf(Position(2,7), Position(0,0), Position(5,2), Position(7,2))\n",
    "val positionen2 = listOf(Position(4,4), Position(10,2), Position(1,6), Position(3,4))\n",
    "for(p1 in positionen1){\n",
    "    for(p2 in positionen2){\n",
    "        berechneAbstand(p1, p2)\n",
    "    }\n",
    "}\n",
    "abstaende.sortBy {it.wert}\n",
    "var fehler = 0\n",
    "if(abstaende.toString() != \"[Abstand(wert=2), Abstand(wert=3), Abstand(wert=4), Abstand(wert=5), Abstand(wert=6), Abstand(wert=7), Abstand(wert=8), Abstand(wert=10), Abstand(wert=12), Abstand(wert=13)]\"){\n",
    "    println(\"Fehler! Es sollten folgende Abstände in der Liste vorhanden sein:\\n\\t[Abstand(wert=2), Abstand(wert=3), Abstand(wert=4), Abstand(wert=5), Abstand(wert=6), Abstand(wert=7), Abstand(wert=8), Abstand(wert=10), Abstand(wert=12), Abstand(wert=13)]\\nIn der Liste ist aber aktuell:\\n\\t$abstaende\")\n",
    "    fehler++\n",
    "}\n",
    "val richtigeAnzahl = listOf(1,2,2,3,1,2,2,1,1,1)\n",
    "for(i in 0 until abstaende.size){\n",
    "    if(abstaende[i].positionen.size != richtigeAnzahl[i]){\n",
    "        println(\"Fehler bei Element Nummer $i in abstaende!\\n\\tDer Abstand ${abstaende[i]} sollte eigentlich ${richtigeAnzahl[i]} Einträge in der Liste positionen besitzen, es ist/sind aber ${abstaende[i].positionen.size} Eintrag/Einträge.\")\n",
    "        fehler++\n",
    "    }\n",
    "}\n",
    "if(fehler == 0)\n",
    "    println(\"Super! Alle Tests bestanden!\")\n",
    "else\n",
    "    println(\"Bei $fehler Tests kamen Fehler auf.\")"
   ]
  },
  {
   "cell_type": "markdown",
   "id": "faa9db8f",
   "metadata": {},
   "source": [
    "## Lektion 3 - Objekte\n",
    "Eine Besonderheit von Kotlin ist, dass nicht jedes Objekt eine Klasse benötigt. Dadurch kann beispielsweise ein statisches Feld simuliert werden oder unkompliziert mehrere Daten an einem Ort zusammengefasst werden.\n",
    "### Ad-hoc Objekte\n",
    "Mit sogeannten Ad-hoc Objekten können Daten ähnlich einer Map komprimiert werden. Es kann ein Objekt erzeugt werden ohne vorher eine Klasse angelegt zu haben. Dies ist mit dem Schlüsselwort `object` einzuleiten. Wie auch einer Klasse können dem Ad-hoch Objekt Felder zugewiesen werden."
   ]
  },
  {
   "cell_type": "code",
   "execution_count": null,
   "id": "15161e47",
   "metadata": {
    "execution": {
     "iopub.execute_input": "2021-04-27T17:21+0200",
     "iopub.status.busy": "2021-04-27T17:21+0200"
    },
    "tags": []
   },
   "outputs": [],
   "source": [
    "private val satz = object {\n",
    "    val subjekt = \"Kotlin\"\n",
    "    val praedikat = \"ist\"\n",
    "    val objekt = \"Programmiersprache\"\n",
    "    val vollstaendig = \"Kotlin ist eine Programmiersprache\"\n",
    "}\n",
    "\n",
    "println(\"Das Subjekt des Satzes ${satz.vollstaendig} ist ${satz.subjekt} \")"
   ]
  },
  {
   "cell_type": "markdown",
   "id": "0be7c085",
   "metadata": {},
   "source": [
    "### Singletons\n",
    "Singletons sind Objekte, die nur ein Mal erzeugt werden können und bis zum Ende der Ausführung bestehen. Ein solches Objekt wird mit dem Schlüsselwort `object` gekennzeichnet und kann nicht einer Variable zugewiesen werden, da es erst bei der ersten Benutzung erzeugt wird. Deswegen kann es auch nicht erzeugt werden. Dies wird automatisch beim ersten Aufruf, der in der Punktnotation mit dem Namen des Singletons erfolgt. Ein Singleton kann aus Feldern und Methoden bestehen. Ein Konstruktor kann jedoch nicht angewendet werden, da die Erzeugung ohne Übergabeparameter stattfindet."
   ]
  },
  {
   "cell_type": "code",
   "execution_count": null,
   "id": "6d7a81d4",
   "metadata": {
    "tags": []
   },
   "outputs": [],
   "source": [
    "object Rechner {\n",
    "    val zahl: Int\n",
    "    init {\n",
    "        println(\"Singleton Rechner wurde erzeugt.\")\n",
    "        zahl = (0..10).random()\n",
    "    }\n",
    "    \n",
    "    fun addieren(a: Int, b: Int) = a + b\n",
    "}\n",
    "\n",
    "val a = 5\n",
    "val b = 10\n",
    "println(\"Berechnung ohne Singleton: ${a+b}\")\n",
    "println(\"Berechnung mit Singleton: ${Rechner.addieren(a,b)}\")\n",
    "println(\"Zufallszahl des Singletons: ${Rechner.zahl}\")"
   ]
  },
  {
   "cell_type": "markdown",
   "id": "bb7bd240",
   "metadata": {},
   "source": [
    "### Companion Objekte\n",
    "Einer Klasse können sogenannte Companion Objekte angehängt werden. Diese sind für alle Objekte der Klasse gleich und ähneln somit statischen Variablen oder Methoden. Sie können nur in einer Klasse implementiert werden und besitzen das Schlüsselwort `companion object`. Im Hintergrund ist ein solches Konstrukt nichts weiter als ein Singleton einer Klasse das alle Objekte verwenden können. In dem Objekt können Felder und Methoden implementiert werden.<br />\n",
    "Anstelle eines Companion Objects könnte auch eine Top-Level-Variable verwendet werden. Jedoch läge dort kein Zusammenhang zwischen den Klassen vor und die Variable könnte auch von anderen Objekten verändert werden."
   ]
  },
  {
   "cell_type": "code",
   "execution_count": null,
   "id": "358af877",
   "metadata": {
    "tags": []
   },
   "outputs": [],
   "source": [
    "class Student(val name: String, var alter: Int){\n",
    "    companion object {\n",
    "        var zaehler = 0\n",
    "            get() = field++\n",
    "    }\n",
    "    \n",
    "    var matrikelnummer: Int\n",
    "    \n",
    "    init {\n",
    "        matrikelnummer = zaehler\n",
    "    }\n",
    "}\n",
    "\n",
    "val s1 = Student (\"Max\", 21)\n",
    "val s2 = Student (\"Anna\", 25)\n",
    "val s3 = Student (\"Simon\", 26)\n",
    "val s4 = Student (\"Sophie\", 19)\n",
    "println(\"Die Marikelnummer von ${s1.name} ist ${s1.matrikelnummer}.\")\n",
    "println(\"Die Marikelnummer von ${s2.name} ist ${s2.matrikelnummer}.\")\n",
    "println(\"Die Marikelnummer von ${s3.name} ist ${s3.matrikelnummer}.\")\n",
    "println(\"Die Marikelnummer von ${s4.name} ist ${s4.matrikelnummer}.\")"
   ]
  },
  {
   "cell_type": "markdown",
   "id": "6007a1c5",
   "metadata": {},
   "source": [
    "Falls in einer Klasse mehrere Companion Objekte gewünscht sind, ist ab dem Zweiten das Schlüsselwort `companion` wegzulassen und außerdem ein Name anzugeben. Außerhalb der Klasse kann auf das Objekt nur durch die Klasse und nicht einem Objekt der Klasse zugegriffen werden."
   ]
  },
  {
   "cell_type": "code",
   "execution_count": null,
   "id": "42cfbffd",
   "metadata": {
    "tags": []
   },
   "outputs": [],
   "source": [
    "import java.time.LocalTime\n",
    "\n",
    "class Zahlen(){\n",
    "    companion object {\n",
    "        var nummer = 1\n",
    "            get() = field\n",
    "    }\n",
    "    object Zwei {\n",
    "        var nummer = 2\n",
    "    }\n",
    "    object Drei {\n",
    "        var nummer = 3\n",
    "    }\n",
    "    object Zeit {\n",
    "        fun gibZeit() = LocalTime.now()\n",
    "    }\n",
    "}\n",
    "\n",
    "println(\"Die Nummer des Standard Companion Objects ist ${Zahlen.nummer}.\")\n",
    "println(\"Die Nummer des Companion Objects Zwei ist ${Zahlen.Zwei.nummer}.\")\n",
    "println(\"Die Nummer des Companion Objects Drei ist ${Zahlen.Drei.nummer}.\")\n",
    "println(\"Es ist aktuell ${Zahlen.Zeit.gibZeit()} Uhr.\")"
   ]
  },
  {
   "cell_type": "markdown",
   "id": "47d49e8a",
   "metadata": {},
   "source": [
    "## Lektion 4 - Enumeration\n",
    "Mit Hilfe einer Enumeration kann ein eigener limitierter Datentyp erstellt werden, der nur gewisse Werte annehmen kann. Der Klasse wird dann das Schlüsselwort `enum` vorrangestellt. Soll ein Wert des Enums verwendet werden, muss der Name der Enumeration zusätzlich angegeben werden."
   ]
  },
  {
   "cell_type": "code",
   "execution_count": null,
   "id": "28951965",
   "metadata": {
    "tags": []
   },
   "outputs": [],
   "source": [
    "enum class Wochentag {\n",
    "    MONTAG, DIENSTAG, MITTWOCH, DONNERSTAG, FREITAG, SAMSTAG, SONNTAG\n",
    "}\n",
    "\n",
    "class Tag (val name : Wochentag)\n",
    "\n",
    "val montag = Tag(Wochentag.MONTAG)\n",
    "println(\"Der Name von montag ist ${montag.name}\")"
   ]
  },
  {
   "cell_type": "markdown",
   "id": "689e9850",
   "metadata": {},
   "source": [
    "Auf alle möglichen Werte eines Enums kann mit `values()` zugegriffen werden. Zurückgegeben wird ein Array. Soll auf das Enum-Objekt eines Strings zugegriffen werden, kann dies mit `valueOf()` mit dem String als Parameter, bewerkstelligt werden. Wird kein passendes Element gefunden, wird eine `IllegalArgumentException` geworfen."
   ]
  },
  {
   "cell_type": "code",
   "execution_count": null,
   "id": "f44e4786",
   "metadata": {
    "tags": []
   },
   "outputs": [],
   "source": [
    "print(\"Alle Einträge des Enums: \")\n",
    "Wochentag.values().forEach { \n",
    "    print(\"$it, \")\n",
    "}\n",
    "\n",
    "println()\n",
    "println(\"Vollständiger Name von FREITAG: ${Wochentag.valueOf(\"FREITAG\")}\")"
   ]
  },
  {
   "cell_type": "markdown",
   "id": "99ebd008",
   "metadata": {},
   "source": [
    "Da Enums als vollständige Klassen angesehen werden, können ihnen Felder und sogar Methoden hinzugefügt werden. Sollen Felder mit einem bestimmten Wert der von dem Wert des Enums anhängt gefüllt werden, kann hinter dem Wert des Enums die Werte für den Konstruktor übergeben werden."
   ]
  },
  {
   "cell_type": "code",
   "execution_count": null,
   "id": "7ebcca7a",
   "metadata": {
    "tags": []
   },
   "outputs": [],
   "source": [
    "enum class Wochentag (val nummer: Int){\n",
    "    MONTAG(1), DIENSTAG(2), MITTWOCH(3), DONNERSTAG(4), FREITAG(5), SAMSTAG(6), SONNTAG(7);\n",
    "    \n",
    "    val zufallszahl = (0..10).random()\n",
    "    \n",
    "    fun istWochenende() = if (this == SAMSTAG || this == SONNTAG) true else false\n",
    "}\n",
    "\n",
    "val montag = Wochentag.MONTAG\n",
    "println(\"Montag ist ein Tag des Wochenendes: ${montag.istWochenende()}, Nummer des Tags: ${montag.nummer}, Zufallszahl: ${montag.zufallszahl}\")\n",
    "val samstag = Wochentag.SAMSTAG\n",
    "println(\"Samstag ist ein Tag des Wochenendes: ${samstag.istWochenende()}, Nummer des Tags: ${samstag.nummer}, Zufallszahl: ${montag.zufallszahl}\")"
   ]
  },
  {
   "cell_type": "code",
   "execution_count": null,
   "id": "89eff542",
   "metadata": {},
   "outputs": [],
   "source": []
  },
  {
   "cell_type": "markdown",
   "id": "b9e8bc0c",
   "metadata": {},
   "source": [
    "## Lektion 5 - Vererbung\n",
    "In Kotlin kann nicht von einer beliebigen Klasse geerbt werden. Diese muss als Vorraussetzung den Vorsatz `open` besitzen. Dies signaliesiert, dass eine Vererbung stattfinden darf. Der Namen der Klasse, von der geerbt werden soll, ist mit einem `:` getrennt hinter den Parameterklammern der erbenden Klasse zu schreiben. Dem Konstruktor der super-Klasse werden die Parameter direkt im Kopf der Klasse übergeben. "
   ]
  },
  {
   "cell_type": "code",
   "execution_count": null,
   "id": "8c8bbad3",
   "metadata": {
    "tags": []
   },
   "outputs": [],
   "source": [
    "open class Person(val name: String, var alter: Int){\n",
    "    override fun toString() = \"Ich bin $name und bin $alter Jahre alt.\"\n",
    "}\n",
    "\n",
    "class Student(name: String, alter: Int) : Person (name, alter){\n",
    "    companion object {\n",
    "        var zaehler = 0\n",
    "            get() = field++\n",
    "    }\n",
    "    val matrikelnummer = zaehler\n",
    "    \n",
    "    override fun toString() = \"Ich bin $name, bin $alter Jahre alt und besitze die Matrikelnummer $matrikelnummer.\"\n",
    "}\n",
    "\n",
    "val p1 = Person (\"Max Mustermann\", 25)\n",
    "val s1 = Student (\"Erika Mustermann\", 21)\n",
    "println(\"p1: $p1\")\n",
    "println(\"s1: $s1\")"
   ]
  },
  {
   "cell_type": "markdown",
   "id": "485a41c9",
   "metadata": {},
   "source": [
    "### Felder und Methoden überschreiben\n",
    "Sollen Felder oder Methoden der super-Klasse in der sub-Klasse überschrieben werden, müssen diese auch mit `open` gekennzeichnet werden. Erst dann ist es möglich das gleiche Feld oder die gleiche Methode in der sub-Klasse mit dem Zusatz `override` zu definieren. Soll auf das Feld oder die Methode der Oberklasse zugegriffen werden, findet das Schlüsselwort `super` Anwendung. Bei Mehrfachvererbung wird die nächst höhere Klasse angesprochen."
   ]
  },
  {
   "cell_type": "code",
   "execution_count": null,
   "id": "11440c38",
   "metadata": {
    "tags": []
   },
   "outputs": [],
   "source": [
    "open class Person(val name: String, var alter: Int){\n",
    "    open val schlachtruf\n",
    "        get() = \"Für die Horde!\"\n",
    "    \n",
    "    open fun hatGeburtstag() {\n",
    "        println(\"$name hat Geburtstag. Alles Gute!\")\n",
    "        alter++\n",
    "    } \n",
    "    override fun toString() = \"Ich bin $name und bin $alter Jahre alt. $schlachtruf\"\n",
    "}\n",
    "\n",
    "class Student(name: String, alter: Int) : Person (name, alter){\n",
    "    companion object {\n",
    "        var zaehler = 0\n",
    "            get() = field++\n",
    "    }\n",
    "    val matrikelnummer = zaehler\n",
    "    \n",
    "    override val schlachtruf\n",
    "        get() = \"Für die Allianz!\"\n",
    "    \n",
    "    override fun hatGeburtstag() {\n",
    "        println(\"$name hat Geburtstag. Alles Gute!\")\n",
    "        alter--\n",
    "    } \n",
    "    \n",
    "    override fun toString() = \"Ich bin $name, bin $alter Jahre alt und habe die Matrikelnummer $matrikelnummer. $schlachtruf Oder vielleicht doch: ${super.schlachtruf}?\"\n",
    "}\n",
    "\n",
    "val p1 = Person (\"Max Mustermann\", 25)\n",
    "val s1 = Student (\"Erika Mustermann\", 21)\n",
    "println(\"p1: $p1\")\n",
    "p1.hatGeburtstag()\n",
    "println(\"p1: $p1\")\n",
    "println(\"s1: $s1\")\n",
    "s1.hatGeburtstag()\n",
    "println(\"s1: $s1\")"
   ]
  },
  {
   "cell_type": "markdown",
   "id": "bfacdfd0",
   "metadata": {},
   "source": [
    "### Sekundäre Konstruktoren\n",
    "Wir sind bis jetzt von dem einfachen Fall ausgegangen, dass die Unterklasse einen primären Konstruktor besitzt. Jedoch gibt es auch die Möglichkeit diese nut mit sekunären Konstruktoren auszustatten. Diese müssen jedoch immer den primären Konstruktor der Oberklasse aufrufen."
   ]
  },
  {
   "cell_type": "code",
   "execution_count": null,
   "id": "c3b154f3",
   "metadata": {
    "tags": []
   },
   "outputs": [],
   "source": [
    "open class Punkt2D (val x: Int, val y: Int){\n",
    "    override fun toString() = \"x: $x, y: $y\"\n",
    "}\n",
    "\n",
    "class Punkt3D : Punkt2D{\n",
    "    val z: Int\n",
    "    \n",
    "    //sekundäre Konstruktoren\n",
    "    constructor (x: Int, y: Int, z: Int) : super (x, y) {\n",
    "        this.z = z\n",
    "    }\n",
    "    constructor () : super (0, 0) {\n",
    "        this.z = 0\n",
    "    }\n",
    "    \n",
    "    override fun toString() = \"${super.toString()}, z: $z\"\n",
    "}\n",
    "\n",
    "val p1 = Punkt3D (4, 2, 8)\n",
    "println(\"Punkt p1: $p1\")\n",
    "val p2 = Punkt3D()\n",
    "println(\"Punkt p2: $p2\")"
   ]
  },
  {
   "cell_type": "markdown",
   "id": "75937d84",
   "metadata": {},
   "source": [
    "### Abstrakte Klassen\n",
    "Das Konzept der abtrakten Klasse sollte bereits aus Java bekannt sein. Auch in Kotlin gibt es die Möglichkeit unintiierbare Klassen mit abstrakten Methoden zu implementieren. Diesen wird das Schlüsselwort `abstract` vorangestellt und können ohne Probleme geerbt werden. Die Subklassen müssen jedoch die Methoden vervollständigen."
   ]
  },
  {
   "cell_type": "code",
   "execution_count": null,
   "id": "121f265b",
   "metadata": {
    "tags": []
   },
   "outputs": [],
   "source": [
    "abstract class Computer (val kerne: Int, val farbe: String){\n",
    "    var istAn = false\n",
    "    abstract fun einschalten()\n",
    "}\n",
    "\n",
    "class Laptop (kerne: Int, farbe: String, val hatTouchscreen: Boolean) : Computer(kerne, farbe){\n",
    "    var istAufgeklappt = false\n",
    "    override fun einschalten() {\n",
    "        if (!istAufgeklappt) \n",
    "            istAufgeklappt = true\n",
    "        istAn = true\n",
    "        println(\"Laptop wurde eingeschalten.\")\n",
    "    }\n",
    "}\n",
    "\n",
    "class Standcomputer (kerne: Int, farbe: String) : Computer(kerne, farbe){\n",
    "    override fun einschalten() {\n",
    "        istAn = true\n",
    "        println(\"Standcomputer wurde eingeschalten.\")\n",
    "    }\n",
    "}\n",
    "\n",
    "//val c1 = Computer (8, \"Schwarz\") -> Error: Cannot create an instance of an abstract class\n",
    "val l1 = Laptop(6, \"Rot\", false)\n",
    "l1.einschalten()\n",
    "val s1 = Standcomputer(12, \"Weiß\")\n",
    "s1.einschalten()"
   ]
  },
  {
   "cell_type": "markdown",
   "id": "6c34bd74",
   "metadata": {},
   "source": [
    "### Geschlossene Klassen\n",
    "Eine geschlossene Klasse ist eine besondere abstrakte Klasse. Ihr wird das Schlüsselwort `sealed` vorangestellt und sie besitzt einen privaten Konstruktor. Außerdem darf von der Klasse nur in der Datei geerbt werden. Dieses Konstrukt ist somit eine Alternative zu einer Enumeration. Da alle Subtypen bekannt sind, kann bei Verwendung einer `when`-Verzweifung der default-Fall weggelassen werden."
   ]
  },
  {
   "cell_type": "code",
   "execution_count": null,
   "id": "ecf9f020",
   "metadata": {
    "tags": []
   },
   "outputs": [],
   "source": [
    "//Kotlin Fehelr??\n",
    "\n",
    "sealed class Fehler\n",
    "data class Laufzeitfehler(val f: Int) : Fehler()\n",
    "data class Kompilierfehler() : Fehler()\n",
    "data class Referenzfehler() : Fehler()\n",
    "\n",
    "val f1 = Kompilierfehler()\n",
    "\n",
    "when (f1){\n",
    "    is Laufzeitfehler -> println(\"Es ist ein Laufzeitfehler aufgetreten.\")\n",
    "    is Kompilierfehler -> println(\"Es ist ein Kompilierfehler aufgetreten.\")\n",
    "    is Referenzfehler -> println(\"Es ist ein Referenzfehler aufgetreten.\")\n",
    "}"
   ]
  },
  {
   "cell_type": "markdown",
   "id": "3bd0dee6",
   "metadata": {},
   "source": [
    "## Lektion 6 - Schnittstellen\n",
    "Ein wichtiges objektorientiertes Konzept ist das der Schnittstelle. Ein bekanntes Beispiel ist hier das `Comparable`-Interface, das eine `compareTo()`-Methode vorschreibt. Aber anstelle des Vorschreibens von Methoden können auch Zugriffe definiert werden. Eine Schnittstelle hat das Schlüsselwort `interface` und wird bei der implementierenden Klasse ähnlich zur Vererbung angegeben. In einem Interface können sowohl Methoden voll implementiert oder nur deren Kopf angegeben werden, sodass diese von jeder Klasse selbst vervollständigt werden muss. Außerdem können sie auch Felder beinhalten.\n",
    "Kotlin bietet bereits einige vorimplementierte Schnittstellen an:\n",
    "\n",
    "<table style=\"font-size:16px\">\n",
    "<thead>\n",
    "  <tr>\n",
    "    <th>Name</th>\n",
    "    <th>Funktion</th>\n",
    "  </tr>\n",
    "</thead>\n",
    "<tbody>\n",
    "  <tr>\n",
    "    <td>Appendable</td>\n",
    "    <td>append()</td>\n",
    "  </tr>\n",
    "  <tr>\n",
    "    <td>Closeable</td>\n",
    "    <td>close()</td>\n",
    "  </tr>\n",
    "  <tr>\n",
    "    <td>Compareable</td>\n",
    "    <td>compare()</td>\n",
    "  </tr>\n",
    "  <tr>\n",
    "    <td>Iterable</td>\n",
    "    <td>Verarbeitung der Elemente in einer Schleife</td>\n",
    "  </tr>\n",
    "  <tr>\n",
    "    <td>Collection</td>\n",
    "    <td>allgemeine Aufzählung</td>\n",
    "  </tr>\n",
    "  <tr>\n",
    "    <td>List</td>\n",
    "    <td>Liste</td>\n",
    "  </tr>\n",
    "  <tr>\n",
    "    <td>Map</td>\n",
    "    <td>Dictionary</td>\n",
    "  </tr>\n",
    "  <tr>\n",
    "    <td>Set</td>\n",
    "    <td>Menge</td>\n",
    "  </tr>\n",
    "</tbody>\n",
    "</table>"
   ]
  },
  {
   "cell_type": "code",
   "execution_count": null,
   "id": "63fac16e",
   "metadata": {
    "tags": []
   },
   "outputs": [],
   "source": [
    "interface Addition {\n",
    "    val dieZahl: Int\n",
    "    \n",
    "    fun add2(a: Int, b: Int): Int\n",
    "    fun add3(a: Int, b: Int, c: Int) = a + b + c\n",
    "}\n",
    "\n",
    "class Rechner : Addition {\n",
    "    override val dieZahl = 42\n",
    "    override fun add2(a: Int, b: Int) = a + b\n",
    "}\n",
    "\n",
    "val rechner = Rechner()\n",
    "println(\"rechner.dieZahl: ${rechner.dieZahl}\")\n",
    "println(\"rechner.add2(5,3): ${rechner.add2(5,3)}\")\n",
    "println(\"rechner.add3(5,9,3): ${rechner.add3(5,9,3)}\")"
   ]
  },
  {
   "cell_type": "markdown",
   "id": "0cdecd23",
   "metadata": {},
   "source": [
    "## Lektion 7 - Generizität\n",
    "### Generische Klassen\n",
    "Bei manchen Softwareprojekten kommt man um generische Klassen nicht vorbei, falls mehrfache Arbeit vermieden werden soll. An sich unterscheiden sich die Unterschiede von solchen Klassen in Kotlin und Java nicht. Der generische Datentyp wird nach dem Klassennamen in `<>` angegeben und kann in der Klasse anstelle normalen Datentypen eingesetzt werden."
   ]
  },
  {
   "cell_type": "code",
   "execution_count": null,
   "id": "76573e0c",
   "metadata": {
    "tags": []
   },
   "outputs": [],
   "source": [
    "data class Speicher<T> (var platz1: T, var platz2: T, var platz3: T)\n",
    "\n",
    "val s1 = Speicher(1,2,3)\n",
    "val s2 = Speicher(listOf(1,2,3),listOf(1,2,3),listOf(1,2,3))\n",
    "val s3 = Speicher(\"Kotlin\",\"Java\",\"C\")\n",
    "println(\"s1: $s1\")\n",
    "println(\"s2: $s2\")\n",
    "println(\"s3: $s3\")"
   ]
  },
  {
   "cell_type": "markdown",
   "id": "4450a32d",
   "metadata": {},
   "source": [
    "Soll der generische Datentyp eingeschränkt werden, kann dies durch ein Interface passieren. Dieses gibt vor welche Methoden der Datentyp implementieren muss."
   ]
  },
  {
   "cell_type": "code",
   "execution_count": null,
   "id": "aea886d4",
   "metadata": {
    "tags": []
   },
   "outputs": [],
   "source": [
    "class Gleichheitstest<T: Comparable<T>>{\n",
    "    fun istGleich(a: T, b: T) = if(a.compareTo(b) == 0) true else false\n",
    "}\n",
    "val gleichheitstestInt = Gleichheitstest<Int>()\n",
    "println(\"gleichheitstestInt.istGleich(3,3): ${gleichheitstestInt.istGleich(3,3)}\")\n",
    "println(\"gleichheitstestInt.istGleich(10,3): ${gleichheitstestInt.istGleich(10,3)}\")\n",
    "val gleichheitstestString = Gleichheitstest<String>()\n",
    "println(\"gleichheitstestString.istGleich('Kotlin','Kotlin'): ${gleichheitstestString.istGleich(\"Kotlin\",\"Kotlin\")}\")"
   ]
  },
  {
   "cell_type": "markdown",
   "id": "d5708b21",
   "metadata": {},
   "source": [
    "### Generische Funktionen\n",
    "Generizität findet aber nicht nur bei Klassen, sondern auch bei Funktionen Anwendung. Jedoch wird hier der generische Typ vor dem Namen der Funktion angegeben. Bei Aufruf der Methode muss der Typ nicht angegeben werden, sondern wird vom Kompiler erkannt."
   ]
  },
  {
   "cell_type": "code",
   "execution_count": null,
   "id": "e810c606",
   "metadata": {
    "tags": []
   },
   "outputs": [],
   "source": [
    "fun <T: Comparable<T>> istGleich(a: T, b: T) = if(a.compareTo(b) == 0) true else false\n",
    "println(\"istGleich(3,3): ${istGleich(3,3)}\")\n",
    "println(\"istGleich('Kotlin','Kotlin'): ${istGleich(\"Kotlin\",\"Kotlin\")}\")"
   ]
  },
  {
   "cell_type": "markdown",
   "id": "e649332f",
   "metadata": {},
   "source": [
    "### Generische Erweiterungsfunktionen\n",
    "Erweiterungsfunktionen einer bestimmten Klasse wurden bereits in Abschnitt 1 kennengelernt. Dieses Konzept kann aber auch auf generische Klassen übertragen werden. So können beispielsweise einer generischen Liste neue Methoden hinzugefügt werden."
   ]
  },
  {
   "cell_type": "code",
   "execution_count": null,
   "id": "8df68d0b",
   "metadata": {
    "tags": []
   },
   "outputs": [],
   "source": [
    "fun <T: Comparable<T>> MutableList<T>.entferneMinimum(): T?{\n",
    "    val min = minOrNull()\n",
    "    return if (min != null){\n",
    "        remove(min)\n",
    "        min\n",
    "    }\n",
    "    else {\n",
    "        null\n",
    "    }\n",
    "}\n",
    "\n",
    "val liste = mutableListOf(3,6,1,8,10)\n",
    "println(\"Entferntes Element: ${liste.entferneMinimum()}\")\n",
    "println(\"liste: $liste\")"
   ]
  },
  {
   "cell_type": "markdown",
   "id": "8b5a4f76",
   "metadata": {
    "tags": []
   },
   "source": [
    "## Lektion 8 - Fehlerbehandlung\n",
    "Während in Java zwischen Checked (die Möglichkeit eines Fehlers muss behandelt werden) und Unchecked Exceptions (müssen nicht behandelt werden) unterschieden wird, ist dies in Kotlin nicht der Fall. Es besteht keine Pflicht bei einer bestimmten Exception diese vorbeugend zu behandeln.<br />\n",
    "Mit `throw` können Exceptions selbst ausgelöst werden. Außerdem kann ein solcher Ausdruck auch einer Variable zugewiesen werden."
   ]
  },
  {
   "cell_type": "code",
   "execution_count": null,
   "id": "6c0d2645",
   "metadata": {
    "tags": []
   },
   "outputs": [],
   "source": [
    "val parameter = (-100..200).random()\n",
    "val prozent = \n",
    "    if (parameter in 0..100)\n",
    "        parameter\n",
    "    else\n",
    "        throw IllegalArgumentException(\"Der Parameter muss zwischen 0 und 100 sein, ist aber $parameter\")\n",
    "prozent"
   ]
  },
  {
   "cell_type": "markdown",
   "id": "a56edce4",
   "metadata": {},
   "source": [
    "Der `try and catch`-Block ist natürlich auch in Kotlin vorhanden. Aber auch hier kann das Ergebnis dieses Ausdrucks einer Variable zugewiesen werden. Der Syntax ähnelt den der Lambda-Ausdücke."
   ]
  },
  {
   "cell_type": "code",
   "execution_count": null,
   "id": "c0b30a01",
   "metadata": {
    "tags": []
   },
   "outputs": [],
   "source": [
    "val parameter = \"Kotlin\"\n",
    "//val parameter = \"231\"\n",
    "val prozent = \n",
    "    try{\n",
    "        Integer.parseInt(parameter)\n",
    "    }\n",
    "    catch(e: Exception){\n",
    "        println(\"Die Zeichenkette $parameter kann nicht in eine ganze Zahl umgewandelt werden.\")\n",
    "    }\n",
    "prozent"
   ]
  },
  {
   "cell_type": "markdown",
   "id": "c0125c7a",
   "metadata": {},
   "source": [
    "Soll nach der Ausführung einer der beiden Blöcke Code ausgefürt werden, kann zusätzlich ein `finaly`-Block verwendet werden. Der darin befindende Code wird immer am Ende ausgeführt und eignet sich deshalb besonders für Aufräumarbeiten. Falls ein solcher Block vorhanden ist, kann `catch` auch weggelassen werden.<br />\n",
    "Eigene Exceptions können auch implemenitert werden. Dabei ist erforderlich, dass die Klasse von `Exception` erbt und die Fehlermeldung als String übergeben und an die Superklasse weitergibt."
   ]
  },
  {
   "cell_type": "code",
   "execution_count": null,
   "id": "64c2437b",
   "metadata": {
    "tags": []
   },
   "outputs": [],
   "source": [
    "class KeineProzentzahl(fehlermeldung: String) : Exception(fehlermeldung)\n",
    "\n",
    "val parameter = (-100..200).random()\n",
    "val prozent = \n",
    "    if (parameter in 0..100)\n",
    "        parameter\n",
    "    else\n",
    "        throw KeineProzentzahl(\"Der Parameter muss zwischen 0 und 100 sein, ist aber $parameter\")\n",
    "prozent"
   ]
  },
  {
   "cell_type": "markdown",
   "id": "da96991d-c1b2-4e93-90ab-5e03569dc45a",
   "metadata": {},
   "source": [
    "## Zusammenfassung\n",
    "\n",
    "In diesem Abschnitt wurden die objektorientierte Programmierung in Kotlin besprochen.<br />\n",
    "Eine Klasse wird mit dem Schlüsselwort `class` eingeleitet, gefolgt von ihrem Namen. Neu ist, dass hinter diesem direkt die Parameter des Konstruktors angegeben werden. Wird ihnen `val` oder `var` vorangestellt, übernimmt der Kompiler für uns die Erzeugung eines Standardkonstruktors sowie die Implementierung von Gettern (`val` und `var`) und Settern (`var`) für diese Felder. Dadurch lassen sich rudimentäre Klassen einfach implementieren. <br />\n",
    "Die Objekterzeugung erfolgt, ähnlich zu Java, mit dem Namen der Klasse sowie den für den Konstruktor benötigten Parameter. Jedoch wird das Schlüsselwort `new` weggelassen.<br /><br />\n",
    "In Kotlin gibt es verschiedene Wege Felder einer Klasse hinzuzufügen. Die einfachste Möglichkeit wurde bereits genannt. Wird dem Parameter im Kopf der Klasse ein Variablentyp zugewiesen, wandelt der Kompiler diesen in ein Feld mit Konstruktor und Getter, bei Bedarf auch einen Setter, um. Natürlich ist auch eine \"klassische\", aus Java bekannte, Implementierung möglich. Werden die Felder zu Beginn der Klasse definiert, muss ihnen jedoch händisch ein Konstruktor hinzugefügt werden. Der Kompiler generiert in diesem Fall nur Getter und Setter.<br /><br />\n",
    "Der Konstruktor wurde bereits angesprochen. Kotlin unterscheidet zwischen 2 verschiedenen Arten:\n",
    "* primärer Konstruktor: Dieser Konstruktor muss mindestens ein Mal in jeder Klasse enthalten sein. Falls er nicht explizit definiert wird, wird ein automatisch generierter Konstruktor implizit hinzugefügt.\n",
    "* sekundärer Konstruktor: Eine Anweisung, die auf den primären Konstruktor verweist und eine alternative Handhabung des primären Konstruktors ermöglicht.\n",
    "\n",
    "Zunächst soll der **primäre Konstruktor** betrachet werden. Dieser ist für die eigentliche Objekterzeugung verantwortlich und muss in jeder Klasse vorhanden sein.\n",
    "Hier wird wiederum zwischen 3 Typen unterschiedenen:\n",
    "* Defaultkonstruktor\n",
    "* Konstruktor mit `init`-Block\n",
    "* Konstruktor durch direkte Zuweisung\n",
    "\n",
    "Der **Defaultkonstruktor** wurde bereits kennengelernt. Er wird vom Kompiler für alle Felder generiert, die im Kopf der Klasse angegeben sind. Dabei wird der übergebene Wert dem Feld zugewiesen. Es ist nicht möglich diesen Vorgang zu verändern.<br />\n",
    "Werden die Felder in der Klasse deklariert, muss selbst ein Konstruktor implementiert werden. Eine Möglichkeit ist der **Konstruktor mit `init`-Block**. Dieser ähnelt dem aus Java bekannten Konstruktor am meisten. Eingeleitet wird er mit dem Schlüsselwort `init` und ist zwischen der Deklarierung der Felder und Implementierung der Methoden anzusiedeln. Dem Konstruktor werden die Parameter der Klasse (alle Paramater im Kopf der Klasse ohne Variablentyp) übergeben. Die Parameterklammern zwischen `init` und dem Rumpf des Konstruktors fallen somit weg. In dem Rumpf können alle Felder initialisert werden und auch zusätzöicher Code, der bei Erzeugung der Klasse ausgeführt werden soll, hinzugefügt werden. Liegt ein Namenskonflikt vor (Parameter und Feld besitzen den gleichen Namen) kann das Feld, wie in Java, mit dem Vorsatz `this` angesprochen werden.<br />\n",
    "Eine variablenähnliche Initialisierung ist mit dem **Konstruktor durch direkte Inititalisierung** möglich. Die Parameter werden wieder im Kopf der Klasse definiert. Jedoch werden diese den Feldern direkt bei der Deklarierung zugewiesen. Abgesehen von den Parametern können aber auch vordefinierte Wert verwendet werden.<br />\n",
    "Die Wahl der richtigen Form des primären Konstruktors für einen speziellen Fall spart Zeit und Codezeilen. Während bei einer rudimentären Klasse der Defaultkonstruktor angewendet werden sollte, ist der Konstruktor mit `init`-Block besonders bei Klassen die zusätzlichen Code oder auch Fehlerbehandlung bei der Erzeugung besitzen zu empfehlen. Außerdem können die verschiedenen Formen auch miteinander Kombiniert werden. der Kompiler fügt diese dann im Hintergrund zu einem zusammenhängendem Konstruktor zusammen.<br />\n",
    "Einer Klasse können mehrere primäre Konstruktoren mit unterschiedlichem Parameterprofil implementiert werden. In diesem Fall werden die Parameter nicht im Kopf der Klasse sondern im Kopf des Konstruktors angegeben. Diese ähneln einem Konstruktor mit `init`-Block jedoch wird statt `init` das Schlüsselwort `constructor` gefolgt von den Parametern und den Rumpf verwendet.<br /><br />\n",
    "**Sekundäre Konstruktoren** können benutzt werden, um ein Objekt der Klasse mit bestimmten vorgefertigten Parametern aufzurufen. Dafür muss auf ein primärer Konstruktor der Klasse verwiesen werden. Eingeleitet wird er mit dem Schlüsselwort `contructor` gefolt von den Parametern. Einen Rumpf besitzen sie nicht. Stattdessen folt nach den Parameter ein `:` und der Aufruf eines primären Kosntruktors, der mit `this` gekennzeichnet wird.<br /><br />\n",
    "\n",
    "Bis jetzt wurden alle **Getter und Setter** der Felder automatisch generiert. Dies kann jedoch auch von Hand geschehen. Dazu werden nach der Deklarierung des Feldes die beiden Methoden angegeben.<br />\n",
    "Der **Getter** besitzt folgenden Syntax:\n",
    ">Getter -> \"get() =\" Rückgabe\n",
    "\n",
    "Die Rückgabe muss den Datentyp des Feldes besitzen. Auf den aktuellen Wert kann mit dem Schlüsselwort `field` zugegriffen werden.<br />\n",
    "Hingegen der Syntax des **Setters**:\n",
    ">Setter -> \"set (\" Parametername \"){\" Rumpf \"}\"\n",
    "\n",
    "Der Setter bekommt den neuen Wert als Parameter übergeben. Um ihn im Rumpf verwenden zu können, muss ihm ein Name zugewiesen werden. Der Datentyp wird weggelassen, da dieser durch das Feld klar definiert ist. Im Rumpf findet dann die eigentliche Zuweisung statt. Der Variable `field` muss im Laufe der Ausführung des Rumpfes ein (neuer) Wert zugewiesen werden.<br /><br />\n",
    "\n",
    "Durch die Möglichkeit eigene Getter zu definieren, können kleine Methoden in einem Feld \"gespeichert\" werden. Das Feld besitzt dabei den Typ `val` und weder einen Datentyp noch eine Initialisierung. Durch die Definition eines methonenähnlichen Getters kann bei Zugriff auf das Feld das Ergebnis dieses verwendet werden. Ein solches Feld wird auch **Computed Property** genannt.<br />\n",
    "Eine weitere besondere Art eines Feldes sind **Lazy Properties**. Einem Feld des Typs `val` kann nach der Angabe des Datentyps der Zusatz `by lazy` angehängt werden. In dem folgenden Lambda-Ausdruck wird erst bei dem ersten Zugriff der Wert des Feldes berechnet. Wird es nochmal verwendet, wird lediglich der gespeicherte Wert zurückgegen und keine abermalige Berechnung durchgeführt.<br />\n",
    "Ein ähnliches Konstrukt sind `lateinit`-Felder. Diese sind von Typ `var`, sind nonnullable und besitzen einen primitiven Datentyp. Außerdem wird ihnen das Schlüsselwort `lateinit` vorangestellt. Wie der Name schon vermuten lässt, wird dieses Feld nicht im Konstruktor initalisiert, sondern erst nach der Objekterzeugung. Wichtig ist, dass vor der ersten Verwendung der Wert berechnet wurde, da sonst eine `UninitializedPropertyAccessException` geworfen wird. Ob das der Fall war, kann mit `this::name.isInitialized` nachgeprüft werden.<br /><br />\n",
    "\n",
    "In Kotlin besitzt - wie in Java - jede Variable, jedes Feld, jede Klasse eine **Sichtbarkeite**. Folgende Sichtbarkeiten sind vorhanden:\n",
    "* `private`: Das Element kann nur in der Klasse verwendet werden. \n",
    "* `protected`: Erweitertung von `private`. Zusätzlich können auf die Elemente auch in Unterklassen zugegriffen werden.\n",
    "* `internal`: Erweiterung von `protected`. Das Element kann im ganzen Modul verwendet werden. Module können sich als größere Pakete vorgestellt werden.\n",
    "* `public`: Das Element kann überall benutzt werden.\n",
    "\n",
    "<br />\n",
    "\n",
    "Zusätzlich zu Feldern und Konstruktoren ist ein wichtiger Bestandteil einer Klasse ihre **Methoden**. Diese besitzen den gleichen Standardaufbau wie Funktionen. Es kann sowohl die Kurzschreibeweise, als auch eine Sichtbarkeit angewendet werden. Soll eine bereits implementierte Methode überschrieben werden, wird der überschreibenden Methode das Schlüsselwort `override` vorangestellt.<br /><br />\n",
    "\n",
    "Anstelle eine normale Klasse zu implementieren bietet Kotlin zudem die Möglichkeit eine **Datenklasse** zu erstellen. Diese ist vor Allem für die Speicherung von Daten geeignet und besitzt das Schlüsselwort `data class`. Im Kopf der Klasse können nur Felder angegeben werden. Für diese generiert der Kompiler im Hintergrund einige hilfreiche Methoden: `componentN()`, `copy()`, `equals()`, `hashCode()`, `toString()`. Werden zusätzlich Felder im Rumpf der Datenklasse angegeben, werden diese bei der Generierung nicht berücksichtig.<br />\n",
    "Die Methode `componentN()` gibt den Wert des Feld mit der Nummer `N` zurück. Die Nummer wird den Feldern nach ihrem Auftreten in der Parametersignatur zugewiesen.<br />\n",
    "`copy()` hingegen gibt es identisches Objekt zu dem zurück, auf das sie aufgerufen wird. Falls zusätzlich als Parameter Paare von Name des Feldes und dessen Wert (beispielsweise `x=4` für Feld `x`) angegeben werden, hat das Feld des neuen Objekt den übergebenen Wert.\n",
    "<br /><br />\n",
    "\n",
    "Während in Java Objekte nur durch Klassen erzeugt werden können, sind in Kotlin diese beiden Konzepte auch getrennt möglich.<br />\n",
    "In **Ad-hoc Objekten** können Daten ähnlich einer Map zusammengefasst werden. Ein solches Objekt kann ohne eine Klasse erstellt und dann beispielsweise in einer Variable gespeichert werden. Das hier zu verwendende Schlüsselwort lautet `object` gefolgt von einem Rumpf, in dem Feldern ein Wert zugewiesen wird. Auf diese kann dann ganz gewöhnlich mit `nameObjekt.nameFeld` zugegriffen werden.<br/>\n",
    "**Singletons** sind, wie der Name es auch schon vermuten lässt, Objekte die nur ein einziges Mal erzeugt werden können und bis zum Ende der Ausführung bestehen. Die Implementierung erinnert an eine Klasse. Jedoch wird anstelle von `class` das Schlüsselwort `object` angegeben. Außerdem können einem Singleton keine Parameter übergeben werden. Den Felder müssen somit selbst berechnet oder vordefinierte Werte zugewiesen werden. Der Singleton muss nicht per Konstruktoraufruf erzeugt werden, sondern dies wird vom Kompiler übernommen.<br />\n",
    "Mit einem **Companion Object** können die aus Java bekannten statischen einer Klasse simuliert werden. Ein solches Objekt ist für alle Objekte der Klasse gleich und kann von allen gleichermaßen verwendet werden. Diese werden nur in Klassen vorgefunden und werden mit `companion object` eingeleitet. In dessen Rumpf können Felder und Methoden definiert werden. Soll eine Klasse mehrere `companion objects` besitzen , wird ab dem Zweiten das Schlüsselwort `companion` weggelassen und stattdessen Name vergeben. Um ein solches Objekt aufzurufen muss folgender Aufruf ausgeführt werden: `nameKlasse.nameObjekt.nameFeldOderMethode`.<br /><br />\n",
    "Eine der Hauptaufgaben von **Enumerationen** ist sich seinen eigenen Datentyp mit vordefinierten Werten zu bauen. Kotlin sieht eine Aufzählung als eine Klasse an, weswegen der Kopf mit den Schlüsselwörtern `enum class` einzuleiten ist. In dem Rumpf können die möglichen Werte mit Komma getrennt angegeben werden. Um den Kompiler zu signalisieren, dass der letzte mögliche Wert erreicht wurde, ist ein Semikolon anzufügen. Dies muss vor Allem beachtet werden, wenn die Enumeration eigene Felder oder Methoden besitzt. Dies ist dank der Verarbeitung als Klasse möglich und erweitert die Möglichkeiten. Sollen dem Konstruktor Parameter übergeben werden, sind diese nach jedem Wert anzugeben. Bei der Erzeugung Parameter an das Enum zu übergeben, wie bei einer normalen Klasse, ist nicht möglich.<br /><br />\n",
    "Eine Klassenhierarchie kann mit Hilfe von **Vererbung** erstellt werden. Wichtig ist, dass in Kotlin nicht von alle Klassen geerbt werden kann. Solche Klassen müssen den Vorsatz `open` besitzen. Bei der erbenden Klasse werden (alle) geerbten Klassen mit einem `:` nach den Parametern angeben. Auch findet dort der geforderte Aufruf des Konstruktors der Oberklasse statt.<br />\n",
    "Sollen Felder oder Methoden der Oberklasse in der erbenden Klasse überschrieben werden, müssen diese in der Oberklasse ebenfalls mit `open` gekennzeichnet sein. In der Unterklasse können diese dann mit `override` überschrieben werden. Falls trotzdem das Feld oder die Methode der Oberklasse verwendet werden, kann dies mit dem Schlüsselwort `super` bewerkstelligt werden.<br />\n",
    "Benötigt die Unterklasse keinen eigenen primären Konstruktor, da beispielsweise nur weitere Felder hinzugefügt werden, besteht die Möglichkeit dies nur durch sekundäre Konstruktoren zu implementieren. Diese müssen auf den primären Konstruktor der Oberklasse verweisen.<br />\n",
    "Häufig wird Vererbung in Verbindung mit **abstrakten Klassen** eingesetzt. Solchen Klassen wird das Schlüsselwort `abstract` vorangestellt. Eine Kennzeichnung mit `open` ist nicht nötig. Falls Felder oder Methoden mit `abstract` gekennzeichnet und nur deklariert werden, müssen erbende Klasse diese implementieren.<br />\n",
    "Eine besondere abstrakte Klasse ist die `sealed class`, auch **geschlossene Klasse** genannt. Sie besitzen einen privaten Konstruktor und können nur von Klassen  der gleichen Datei geerbt werden. Sie stellen eine Alternative zur Enumeration dar, da eine einfachere Verwendung der `when`-Verzweigung möglich ist. Der `else`-Block kann weggelassen werden, weil alle Subtypen bekannt sind.<br /><br />\n",
    "Ein weiteres wichtiges objektorientiertes Konzept sind **Schnittstellen**. Ihr Kopf besteht aus dem Schlüsselwort `interface` und dem Namen. In dem Rumpf einer Schnittstelle können Felder und Methoden sowohl fertig implementiert als auch nur als die Definition des Feldes oder den Kopf der Methode vorgefunden werden. Alle Klassen, die die Schnittstelle implementieren, wie auch bei der Vererbung erkennbar im Kopf der Klasse, müssen die vordefinierten Felder und Methoden vervollständigen. \n",
    " <details>\n",
    "  <summary>Wie aus Java bekannt bietet Kotlin auch einige vordefinierte Schnittstellen. </summary>\n",
    "  <table>\n",
    "<thead>\n",
    "  <tr>\n",
    "    <th>Name</th>\n",
    "    <th>Funktion</th>\n",
    "  </tr>\n",
    "</thead>\n",
    "<tbody>\n",
    "  <tr>\n",
    "    <td>Appendable</td>\n",
    "    <td>append()</td>\n",
    "  </tr>\n",
    "  <tr>\n",
    "    <td>Closeable</td>\n",
    "    <td>close()</td>\n",
    "  </tr>\n",
    "  <tr>\n",
    "    <td>Compareable</td>\n",
    "    <td>compare()</td>\n",
    "  </tr>\n",
    "  <tr>\n",
    "    <td>Iterable</td>\n",
    "    <td>Verarbeitung der Elemente in einer Schleife</td>\n",
    "  </tr>\n",
    "  <tr>\n",
    "    <td>Collection</td>\n",
    "    <td>allgemeine Aufzählung</td>\n",
    "  </tr>\n",
    "  <tr>\n",
    "    <td>List</td>\n",
    "    <td>Liste</td>\n",
    "  </tr>\n",
    "  <tr>\n",
    "    <td>Map</td>\n",
    "    <td>Dictionary</td>\n",
    "  </tr>\n",
    "  <tr>\n",
    "    <td>Set</td>\n",
    "    <td>Menge</td>\n",
    "  </tr>\n",
    "</tbody>\n",
    "</table>\n",
    "</details> \n",
    "<br />\n",
    "Sollen Klassen mit variablen Datentypen implementiert werden, hilft das Konzept der **Generizität**. Wie in Java wird der Name des generischen Datentyps nach dem Namen der Klasse in `<>` angegeben. In dem Rumpf kann dieser mit dem vorher definierten Namen verwendet werden. Soll der Datentyp eingeschränkt werden, sodass sichergestellt werden kann, dass dieser bestimmte Funktionalitäten mitbringt, können diesem generische Schnittstellen vorgeschrieben werden. Diese werden nach dem Namen mit `:` getrennt angegeben.<br />\n",
    "Des weiteren können auch Funktionen generisch implementiert werden. Bei diesen wird der generische Datentyp zwischen `fun` und dem Namen der Funktion angegeben. Bei Aufruf der Methode verändert sich nichts, da der Kompiler den Typ automatisch erkennt.<br /><br />\n",
    "Die **Fehlerbehandlung** wurde in Kotlin vereinfacht. Während bei Java noch zwischen Checked und Unchecked Exceptions unterschieden wird, besteht in Kotlin keine Pflicht bestimmte Fehler abzufangen. <br />\n",
    "Mit `throw` können selbst Fehler ausgelöst werden. Außerdem kann auch ein solcher Ausdruck einer Variable zugewiesen werden. Genaueres dazu wurde in Lektion 3 des 1. Abschnitts bereits ausgeführt.<br />\n",
    "Abgefangen werden können Exceptions, wie in Java, mit einem `try and catch`-Block. Soll nach der Ausführung einer der beiden Blöcke noch \"aufgeräumt\" werden, kann ein `finally`-Block angehängt werden. Außerdem könnte bei dem Vorhandensein von `finally` auch der `catch`-Block weggelassen werden.<br />\n",
    "Eigene Fehler können durch eine Klasse erstellt werden, die von `Exception` erbt. Der Oberklasse muss die Fehlermeldung als Parameter des Typs `String` übergeben werden."
   ]
  },
  {
   "cell_type": "code",
   "execution_count": null,
   "id": "5bfb257d-3c07-4226-bd73-edf089adee35",
   "metadata": {},
   "outputs": [],
   "source": []
  }
 ],
 "metadata": {
  "kernelspec": {
   "display_name": "Kotlin",
   "language": "kotlin",
   "name": "kotlin"
  },
  "language_info": {
   "codemirror_mode": "text/x-kotlin",
   "file_extension": ".kt",
   "mimetype": "text/x-kotlin",
   "name": "kotlin",
   "nbconvert_exporter": "",
   "pygments_lexer": "kotlin",
   "version": "1.5.20-dev-4184"
  }
 },
 "nbformat": 4,
 "nbformat_minor": 5
}
