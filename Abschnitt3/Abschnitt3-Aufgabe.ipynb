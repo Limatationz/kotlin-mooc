{
 "cells": [
  {
   "cell_type": "markdown",
   "id": "fc3b2ff2-6e8b-41e5-a4a7-de2310717b17",
   "metadata": {
    "deletable": false,
    "editable": false,
    "nbgrader": {
     "cell_type": "markdown",
     "checksum": "c26c9cd6a2c21f3c347c851ea93c719d",
     "grade": false,
     "grade_id": "markdown-1",
     "locked": true,
     "schema_version": 3,
     "solution": false,
     "task": false
    }
   },
   "source": [
    "# Aufgabe - Spielbank\n",
    "\n",
    "Passend zum dritten Abschnitt, soll eine Spielbank objektorientiert implementiert werden. Dabei besteht dieses Übungsblatt aus zwei Teilen. Zuerst wird ein Automat erstellt, an dem die Kund:innen spielen können. Daraufhin soll die Verwaltung von Kunden:innen und Mitarbeiter:innen realisiert werden. Das besondere ist, dass jede Gruppe einen eigenen, unterschiedlichen Zugriff auf die Automaten erhalten soll.  \n",
    "Für die Tests dieser Aufgabe ist es wichtig, dass Sie das Notebook im Ganzen auszuführen. Verwenden Sie dafür dafür beispielsweise unter *Kernel* den Punkt *Restart*.  \n",
    "Wählen Sie passende Variablentypen und Sichtbarkeiten.\n",
    "\n",
    "## Vorbereitungen\n",
    "Bevor die Klasse `Automat` implementiert werden kann, müssen einige Vorbereitungen getroffen werden. Da der Automat als klassische [Slotmachine](https://de.wikipedia.org/wiki/Spielautomat) realisiert werden soll, müssen Symbole definiert werden, die in einem 2D-Display angezeigt werden können.  \n",
    "Implementieren Sie dafür eine Enumeration `Symbol`, die die Werte `Kreuz`, `Apfel`, `Banane`, `Melone`, `Zitrone` enthält. Während `Kreuz` nur als Platzhalter für den Start des Automatens dienen soll, werden die anderen Symbole nach dem Betätigen des Spielbuttons zufällig ausgewählt. Schreiben Sie dafür eine Methode `gibSymbole()`, die eine Liste mit allen, für das Spiel wichtige, *Bilder* zurückgibt."
   ]
  },
  {
   "cell_type": "code",
   "execution_count": null,
   "id": "7697b87e",
   "metadata": {
    "deletable": false,
    "nbgrader": {
     "cell_type": "code",
     "checksum": "4b3d31b6956c47b4a847c9f4800988b3",
     "grade": false,
     "grade_id": "vorbereitung1-code",
     "locked": false,
     "schema_version": 3,
     "solution": true,
     "task": false
    }
   },
   "outputs": [],
   "source": [
    "// YOUR CODE HERE"
   ]
  },
  {
   "cell_type": "code",
   "execution_count": null,
   "id": "697a2c99",
   "metadata": {
    "deletable": false,
    "editable": false,
    "nbgrader": {
     "cell_type": "code",
     "checksum": "5def808adbd2d961e0dfcb7522ba7379",
     "grade": true,
     "grade_id": "vorbereitung1-test",
     "locked": true,
     "points": 2,
     "schema_version": 3,
     "solution": false,
     "task": false
    }
   },
   "outputs": [],
   "source": [
    "val s1 = Symbol.Kreuz\n",
    "val s2 = Symbol.Apfel\n",
    "val s3 = Symbol.Banane\n",
    "val s4 = Symbol.Melone\n",
    "val s5 = Symbol.Zitrone\n",
    "if(Symbol.Kreuz.gibSymbole() != listOf(Symbol.Apfel, Symbol.Banane, Symbol.Melone, Symbol.Zitrone))\n",
    "    throw AssertionError(\"Symbol.Kreuz.gibSymbole(): ${Symbol.Kreuz.gibSymbole()} != ${listOf(Symbol.Apfel, Symbol.Banane, Symbol.Melone, Symbol.Zitrone)}\")"
   ]
  },
  {
   "cell_type": "markdown",
   "id": "48892bc0",
   "metadata": {
    "deletable": false,
    "editable": false,
    "nbgrader": {
     "cell_type": "markdown",
     "checksum": "86cd9e87c6db60b89e335755d9264572",
     "grade": false,
     "grade_id": "markdown-2",
     "locked": true,
     "schema_version": 3,
     "solution": false,
     "task": false
    }
   },
   "source": [
    "Im nächsten Schritt sollen zwei Schnittstellen für den Automaten erstellt werden.\n",
    "### Kundensicht\n",
    "\n",
    "Die Schnittstelle `Kundensicht` soll folgende Eigenschaften besitzen:\n",
    "- Im Feld `automatennummer` soll eine ganze Zahl gespeichert werden.\n",
    "- Die Methode `spielen()` soll als Parameter den Einsatz als Gleitkommazahl erhalten und zum Schluss den Gewinn, ebenfalls als Gleitkommazahl, zurückgeben.  \n",
    "\n",
    "### Mitarbeitersicht\n",
    "\n",
    "Die Schnittstelle `Mitarbeitersicht` soll folgende Eigenschaften besitzen:\n",
    "- Im Feld `automatennummer` soll eine ganze Zahl gespeichert werden.\n",
    "- `kundenAnzahl` speichert ebenfalls eine ganze Zahl, die die Anzahl der bedienten Kunden speichert.\n",
    "- `gibStatisik()` soll der Mitarbeiter:in den Zugriff auf die Daten des Automatens ermöglichen. Die Rückgabe stellt eine Liste aus Gleitkommazahlen dar.\n",
    "- Die Methode `quoteSetzen()`, die einen Faktor des Datentyps `Double` übergeben bekommt und die Höhe des Gewinns verändert."
   ]
  },
  {
   "cell_type": "code",
   "execution_count": null,
   "id": "16e2e82f",
   "metadata": {
    "deletable": false,
    "nbgrader": {
     "cell_type": "code",
     "checksum": "bfa5dbea2e54d26ac88230f2de0e996d",
     "grade": false,
     "grade_id": "vorbereitung2-code",
     "locked": false,
     "schema_version": 3,
     "solution": true,
     "task": false
    }
   },
   "outputs": [],
   "source": [
    "// YOUR CODE HERE"
   ]
  },
  {
   "cell_type": "code",
   "execution_count": null,
   "id": "e59ba785",
   "metadata": {
    "deletable": false,
    "editable": false,
    "nbgrader": {
     "cell_type": "code",
     "checksum": "26599d0df80d48d05a413368d4bec8ac",
     "grade": true,
     "grade_id": "vorbereitung2-test1",
     "locked": true,
     "points": 2,
     "schema_version": 3,
     "solution": false,
     "task": false
    }
   },
   "outputs": [],
   "source": [
    "class TestAutomat(): Kundensicht{\n",
    "    override val automatennummer = 0\n",
    "    override fun spielen(einsatz: Double) = 2.0\n",
    "}"
   ]
  },
  {
   "cell_type": "code",
   "execution_count": null,
   "id": "3066bad7",
   "metadata": {
    "deletable": false,
    "editable": false,
    "nbgrader": {
     "cell_type": "code",
     "checksum": "8487e201c410516a2bb8ddddd8faf9ab",
     "grade": true,
     "grade_id": "vorbereitung2-test2",
     "locked": true,
     "points": 2,
     "schema_version": 3,
     "solution": false,
     "task": false
    }
   },
   "outputs": [],
   "source": [
    "class TestAutomat(): Mitarbeitersicht{\n",
    "    override val automatennummer = 0\n",
    "    override var anzahlKunden = 0\n",
    "    override fun quoteSetzen(neueQuote: Double) {\n",
    "        println(\"Test\")\n",
    "    }\n",
    "    override fun gibStatistiken() = listOf(0.00)\n",
    "}"
   ]
  },
  {
   "cell_type": "markdown",
   "id": "330b37d4",
   "metadata": {
    "deletable": false,
    "editable": false,
    "nbgrader": {
     "cell_type": "markdown",
     "checksum": "b4c040d97b13241d41b9899ef6989ab3",
     "grade": false,
     "grade_id": "markdown-3",
     "locked": true,
     "schema_version": 3,
     "solution": false,
     "task": false
    }
   },
   "source": [
    "## Automat\n",
    "Implementieren Sie nun die Klasse `Automat`. Sie soll sowohl die `Kundensicht` als auch die `Mitarbeitersicht` enthalten. Folgende Eigenschaften soll ein `Automat` besitzen:  \n",
    "- Die `automatennummer` soll für jeden Automaten einzigartig sein und wird von `0 `aufsteigend vergeben.  \n",
    "- In dem Feld `anzeige` soll ein 2-dimensionales Array der Größe _4x4_ gespeichert werden, das Symbole enthält. Bei Erzeugung eines Automatens soll die Anzeige nur aus Kreuzen bestehen.  \n",
    "- `anzahlKunden` soll mit 0 initialisiert werden.\n",
    "- `ausgegeben` speichert die Summe der bisherig ausgeschütteten Gewinne und `eingeworfen` den gesamten Einsatz.\n",
    "- Die `quote` soll eine Gleitkommazahl darstellen, die die Höhe des Gewinns maßgeblich verändert und von einer Mitarbeiter:in mit der Methode `quoteSetzen()` angepasst werden kann. Zu Beginn soll die Quote `2.0` betragen.\n",
    "- Der Wahrheitswert `besetzt` speichert, ob eine Kund:in an dem Automaten sitzt (`true`) oder dieser frei ist (`false`). Dieses Feld soll öffentlich sein, da jede Spielbankenbesucher:in sieht, ob der Automat besetzt ist. Wenn dem Feld der Wert `true` zugewiesen wird, soll das Feld `anzahlKunden` um 1 erhöht werden.\n",
    "- Die von `Mitarbeitersicht` vorgegebene Methode `gibStatistiken()`, gibt die Felder `eingeworfen`, `ausgegeben` und `quote` in einer Liste zurück.  \n",
    "- Spielt (`spielen()`) eine Kund:in an dem Automaten wird zuerst der Einsatz zum Feld `eingeworfen` addiert. Daraufhin wird die Anzeige aktualisiert, indem jedem Element zufällig eines der Symbole zugewiesen wird. Zum Schluss wird der Gewinn zu der zufälligen Anzeige berechnet und zurückgegeben.  \n",
    "- Der Gewinn soll in der, zu Testzwecken öffentlichen, Methode `berechneGewinn()` ermittelt werden. Als Parameter werden ihr der Einsatz, sowie eine Anzeige übergeben. Zur Vereinfachung werden die Zeilen und Spalten gezählt, in denen nur Symbole einer Art zu finden sind. Zusätzlich sollen auch die Diagonalen getestet werden. Zum Schluss wird der Gewinn statistisch erfasst und zurückgegeben. Die Höhe des Gewinns ergibt sich aus der Formel:\n",
    ">gewinn = (anzahlZeilen + anzahlSpalten + 5 * anzahlDiagonalen) * quote * einsatz\n",
    "\n",
    "Hinweis: Wählen Sie passende Sichtbarkeiten und Variablentypen."
   ]
  },
  {
   "cell_type": "code",
   "execution_count": null,
   "id": "fac69da8",
   "metadata": {
    "deletable": false,
    "nbgrader": {
     "cell_type": "code",
     "checksum": "a15f8ddce1cb9823bad3512fd28fc6a7",
     "grade": false,
     "grade_id": "aufgabe1-code",
     "locked": false,
     "schema_version": 3,
     "solution": true,
     "task": false
    }
   },
   "outputs": [],
   "source": [
    "// YOUR CODE HERE"
   ]
  },
  {
   "cell_type": "code",
   "execution_count": null,
   "id": "5e94c4fd",
   "metadata": {
    "deletable": false,
    "editable": false,
    "nbgrader": {
     "cell_type": "code",
     "checksum": "b3f057e0507838698319eb68047e9acc",
     "grade": true,
     "grade_id": "aufgabe2-test",
     "locked": true,
     "points": 13,
     "schema_version": 3,
     "solution": false,
     "task": false
    }
   },
   "outputs": [],
   "source": [
    "val a1 = Automat()\n",
    "val a2 = Automat()\n",
    "\n",
    "//automantennummer\n",
    "if(a1.automatennummer != 0 && a2.automatennummer != 1)\n",
    "    throw AssertionError(\"a1.automatennummer: ${a1.automatennummer} != 0, a2.automatennummer: ${a2.automatennummer} != 1\")\n",
    "\n",
    "//besetzt & anzahlKunden\n",
    "if(a1.besetzt)\n",
    "    throw AssertionError(\"a1.besetzt: ${a1.besetzt} != false\")\n",
    "if(a1.anzahlKunden != 0)\n",
    "    throw AssertionError(\"a1.anzahlKunden: ${a1.anzahlKunden} != 0\")\n",
    "a1.besetzt = true\n",
    "if(!a1.besetzt)\n",
    "    throw AssertionError(\"a1.besetzt: ${a1.besetzt} != true\")\n",
    "if(a1.anzahlKunden != 1)\n",
    "    throw AssertionError(\"a1.anzahlKunden: ${a1.anzahlKunden} != 1\")\n",
    "\n",
    "//quoteSetzen()\n",
    "a1.quoteSetzen(2.5)\n",
    "\n",
    "//gibStatistiken()\n",
    "if(a1.gibStatistiken() != listOf(0.00, 0.00, 2.50))\n",
    "    throw AssertionError(\"a1.gibStatistiken(): ${a1.gibStatistiken()} != ${listOf(0.00, 0.00, 2.50)}\")\n",
    "\n",
    "//spielen\n",
    "var gewonnen = 0.00\n",
    "repeat(50){\n",
    "    gewonnen += a1.spielen(1.00)\n",
    "}\n",
    "if(a1.gibStatistiken() != listOf(50.00, gewonnen, 2.50))\n",
    "    throw AssertionError(\"Fehler in der Methode spielen(): a1.gibStatistiken() nach 50 Spielen: ${a1.gibStatistiken()} != ${listOf(50.00, gewonnen, 2.50)}\")\n",
    "    \n",
    "//berechneGewinn()\n",
    "val zeilenGewinn = arrayOf(\n",
    "    arrayOf(Symbol.Apfel, Symbol.Apfel, Symbol.Apfel, Symbol.Apfel),\n",
    "    arrayOf(Symbol.Banane, Symbol.Banane, Symbol.Banane, Symbol.Banane),\n",
    "    arrayOf(Symbol.Melone, Symbol.Melone, Symbol.Melone, Symbol.Melone),\n",
    "    arrayOf(Symbol.Zitrone, Symbol.Zitrone, Symbol.Zitrone, Symbol.Zitrone)\n",
    ")\n",
    "if(a1.berechneGewinn(12.34, zeilenGewinn) != 123.4)\n",
    "    throw AssertionError(\"Fehler beim Berechnen des Gewinns bei richtigen Zeilen: a1.berechneGewinn(12.34, zeilenGewinn): ${a1.berechneGewinn(12.34, zeilenGewinn)} != 123.4\")\n",
    "    \n",
    "val spaltenGewinn = arrayOf(\n",
    "    arrayOf(Symbol.Apfel, Symbol.Banane, Symbol.Melone, Symbol.Zitrone),\n",
    "    arrayOf(Symbol.Apfel, Symbol.Banane, Symbol.Melone, Symbol.Zitrone),\n",
    "    arrayOf(Symbol.Apfel, Symbol.Banane, Symbol.Melone, Symbol.Zitrone),\n",
    "    arrayOf(Symbol.Apfel, Symbol.Banane, Symbol.Melone, Symbol.Zitrone)\n",
    ")\n",
    "if(a1.berechneGewinn(42.43, spaltenGewinn) != 424.3)\n",
    "    throw AssertionError(\"Fehler beim Berechnen des Gewinns bei richtigen Spalten: a1.berechneGewinn(42.42, spaltenGewinn): ${a1.berechneGewinn(42.43, spaltenGewinn)} != 424.3\")\n",
    "    \n",
    "val diagonalenGewinn = arrayOf(\n",
    "    arrayOf(Symbol.Apfel, Symbol.Banane, Symbol.Melone, Symbol.Banane),\n",
    "    arrayOf(Symbol.Apfel, Symbol.Apfel, Symbol.Banane, Symbol.Zitrone),\n",
    "    arrayOf(Symbol.Apfel, Symbol.Banane, Symbol.Apfel, Symbol.Zitrone),\n",
    "    arrayOf(Symbol.Banane, Symbol.Banane, Symbol.Melone, Symbol.Apfel)\n",
    ")\n",
    "if(a1.berechneGewinn(38.53, diagonalenGewinn) != 963.25)\n",
    "    throw AssertionError(\"Fehler beim Berechnen des Gewinns bei richtigen Diagonalen: a1.berechneGewinn(38.53, spaltenGewinn): ${a1.berechneGewinn(38.53, diagonalenGewinn)} != 963.25\")"
   ]
  },
  {
   "cell_type": "markdown",
   "id": "5a1483c0",
   "metadata": {
    "deletable": false,
    "editable": false,
    "nbgrader": {
     "cell_type": "markdown",
     "checksum": "2f0e0f0bb422593a7199ad56a6310220",
     "grade": false,
     "grade_id": "markdown-4",
     "locked": true,
     "schema_version": 3,
     "solution": false,
     "task": false
    }
   },
   "source": [
    "## Verwaltung von Kund:innen und Mitarbeiter:innen\n",
    "Im zweiten Teil des Übungsblattes sollen verschiedene Personen erfasst werden. \n",
    "\n",
    "### Person\n",
    "Die Klassen `Kunde` und `Mitarbeiter` erben von der abstrakten Klasse `Person`, die den Namen `name` und das Alter `alter` speichert.  \n",
    "\n",
    "### Kunde\n",
    "Die Klasse `Kunde` soll folgende Eigenschaften besitzen:\n",
    "- Zusätzlich soll eine Kund:in ein eigenes, bei Erzeugung übergebenes Budget und einen ebenfalls bei der Erzeugung zugewiesenen Automaten der Klasse `Kundensicht` besitzen. \n",
    "- Definieren Sie einen sekundären Konstruktor, der einen Kunden mit festem Namen und Alter (beispielsweise Sie) erzeugt. Für das Gelingen der Tests müssen Sie in der nächsten Zelle die Daten den entsprechenden Variablen zuweisen.\n",
    "- In dem Feld `mitgliedsnummer` soll eine ganzzahlige, einzigartige und von 0 aufsteigende Zahl gespeichert werden, die bei der Verwaltung Verwendung finden wird.  \n",
    "- Zusätzlich kann mit der Methode `anAutomatSpielen()` mit einem übergebenen Einsatz eine Runde an dem übergebenen Automaten gestartet werden. Ist der Einsatz größer als das Budget, soll ein eigens definierter Fehler `KeinBudget` geworfen werden, der mit Hilfe des Einsatzes und des Budgets eine aussagekräftige Fehlermeldung besitzt. Ansonsten wird der Einsatz vom Budget abgezogen und das Spiel am Automaten gestartet. Der Gewinn wird wiederum zu dem Budget addiert.  \n",
    "- Zum Schluss soll noch eine Methode `gibAutomatennummer()`implementiert werden, die die Nummer des Automaten zurückgibt.\n",
    "\n",
    "### Mitarbeiter\n",
    "Die Klasse `Mitarbeiter` soll folgende Eigenschaften besitzen:\n",
    "- Eine Mitarbeiter:in bekommt zusätzlich ein Array mit Automaten der Klasse `Mitarbeitersicht` übergeben.  \n",
    "- Wie auch bei der Klasse `Kunde` hat ein Objekt der Klasse `Mitarbeiter` eine einzigartige und von 0 aus aufsteigende `mitarbeiternummer`.  \n",
    "- Mit der Methode `aendereQuote()` soll eine Mitarbeiter:in die Quote eines bestimmten Automatens ändern können. Dazu wird die neue Quote und die Automatennummer übergeben.\n",
    "- Zusätzlich soll die Statistik eines Automatens, gekennzeichnet mit seiner Nummer, bei der Methode `gibStatistik()` zurückgegeben werden."
   ]
  },
  {
   "cell_type": "code",
   "execution_count": null,
   "id": "50a6cac5",
   "metadata": {
    "deletable": false,
    "nbgrader": {
     "cell_type": "code",
     "checksum": "8771f2cad6c7d493de69940502ec1dd2",
     "grade": false,
     "grade_id": "aufgabe3-code",
     "locked": false,
     "schema_version": 3,
     "solution": true,
     "task": false
    }
   },
   "outputs": [],
   "source": [
    "// YOUR CODE HERE"
   ]
  },
  {
   "cell_type": "code",
   "execution_count": null,
   "id": "c23d7b51",
   "metadata": {
    "deletable": false,
    "nbgrader": {
     "cell_type": "code",
     "checksum": "d5f79d3f7ee8d33f749aab0d179462ef",
     "grade": false,
     "grade_id": "aufgabe3-test0",
     "locked": false,
     "schema_version": 3,
     "solution": true,
     "task": false
    }
   },
   "outputs": [],
   "source": [
    "// YOUR CODE HERE"
   ]
  },
  {
   "cell_type": "code",
   "execution_count": null,
   "id": "be80250d",
   "metadata": {
    "deletable": false,
    "editable": false,
    "nbgrader": {
     "cell_type": "code",
     "checksum": "ea86038069a8dbf54520d09f8cc90336",
     "grade": true,
     "grade_id": "aufgabe3-test1",
     "locked": true,
     "points": 7,
     "schema_version": 3,
     "solution": false,
     "task": false
    }
   },
   "outputs": [],
   "source": [
    "val a1 = Automat()\n",
    "val a2 = Automat()\n",
    "val a3 = Automat()\n",
    "\n",
    "if(!Person::class.isAbstract)\n",
    "    throw IllegalStateException(\"Die Klasse Person ist nicht abstrakt.\")\n",
    "\n",
    "//Kunde\n",
    "val k1 = Kunde(\"Kunde1\", 25, 5.00, a1)\n",
    "val k2 = Kunde(\"Kunde2\", 32, 15.00, a2)\n",
    "\n",
    "if(k1 !is Person)\n",
    "    throw IllegalStateException(\"Die Klasse Kunde erbt nicht von Person.\")\n",
    "\n",
    "//name\n",
    "if(k1.name != \"Kunde1\")\n",
    "    throw AssertionError(\"k1.name: ${k1.name} != Kunde1\")\n",
    "    \n",
    "//alter\n",
    "if(k1.alter != 25)\n",
    "    throw AssertionError(\"k1.alter: ${k1.alter} != 25\")\n",
    "    \n",
    "//mitgliedsnummer\n",
    "if(k1.mitgliedsnummer != 0 && k2.mitgliedsnummer != 1)\n",
    "    throw AssertionError(\"k1.mitgliedsnummer: ${k1.mitgliedsnummer} != 0, k2.mitgliedsnummer: ${k2.mitgliedsnummer} != 1\")\n",
    "\n",
    "//anAutomatSpielen()\n",
    "k1.anAutomatSpielen(2.5)\n",
    "try{\n",
    "    k1.anAutomatSpielen(15.0)\n",
    "    throw UnsupportedOperationException(\"Es sollte der Fehler KeinBudget geworfen werden.\")\n",
    "}catch(e: KeinBudget){\n",
    "}\n",
    "\n",
    "//sekundärer Konstruktor\n",
    "val k3 = Kunde(5.00, a3)\n",
    "if(k3.name != name)\n",
    "    throw AssertionError(\"k3.name: ${k3.name} != $name\")\n",
    "if(k3.alter != alter)\n",
    "    throw AssertionError(\"k3.alter: ${k3.alter} != $alter\")"
   ]
  },
  {
   "cell_type": "code",
   "execution_count": null,
   "id": "85299e71",
   "metadata": {
    "deletable": false,
    "editable": false,
    "nbgrader": {
     "cell_type": "code",
     "checksum": "30f3f813bcee2f4c6ae24706448961eb",
     "grade": true,
     "grade_id": "aufgabe3-test2",
     "locked": true,
     "points": 4,
     "schema_version": 3,
     "solution": false,
     "task": false
    }
   },
   "outputs": [],
   "source": [
    "val a1 = Automat()\n",
    "val a2 = Automat()\n",
    "val a3 = Automat()\n",
    "\n",
    "//Mitarbeiter\n",
    "val m1 = Mitarbeiter(\"Mitarbeiter1\", 42, arrayOf(a1, a2, a3))\n",
    "val m2 = Mitarbeiter(\"Mitarbeiter2\", 34, arrayOf(a1, a2, a3))\n",
    "\n",
    "if(m1 !is Person)\n",
    "    throw IllegalStateException(\"Die Klasse Mitarbeiter erbt nicht von Person.\")\n",
    "\n",
    "//mitarbeiternummer\n",
    "if(m1.mitarbeiternummer != 0 && m2.mitarbeiternummer != 1)\n",
    "    throw AssertionError(\"m1.mitarbeiternummer: ${m1.mitarbeiternummer} != 0, m2.mitarbeiternummer: ${m2.mitarbeiternummer} != 1\")\n",
    "\n",
    "//aendereQuote()\n",
    "m1.aendereQuote(1, 1.0)\n",
    "if(a2.gibStatistiken()[2] != 1.0)\n",
    "    throw AssertionError(\"Quote von a2: ${a2.gibStatistiken()[2]} != 1.0\")\n",
    "    \n",
    "//gibStatistiken()\n",
    "if(m1.gibStatistiken(0) != a1.gibStatistiken())\n",
    "    throw AssertionError(\"m1.gibStatistiken(0): ${m1.gibStatistiken(0)} != ${a1.gibStatistiken()}\")"
   ]
  },
  {
   "cell_type": "markdown",
   "id": "61ab49d4",
   "metadata": {
    "deletable": false,
    "editable": false,
    "nbgrader": {
     "cell_type": "markdown",
     "checksum": "d6a8902346e5f81ed758e40bf6628814",
     "grade": false,
     "grade_id": "markdown-5",
     "locked": true,
     "schema_version": 3,
     "solution": false,
     "task": false
    }
   },
   "source": [
    "### Personenverwaltung\n",
    "\n",
    "Kund:innen und Mitarbeiter:innen sollen mit Hilfe von Generizität mit Hilfe Klasse `Personenverwaltung` verwaltet werden können. Beschränken Sie den generischen Parameter auf Unterklassen der Klasse `Person`. Zudem soll die Klasse folgende Eiegnschaften besitzen:\n",
    "- Die Personen sollen in einer privaten, veränderbaren Liste gespeichert werden.  \n",
    "- Mit der Methode `hinzufuegen()` soll eine übergebene Person der Liste angehängt werden.  \n",
    "- `entfernen()` gibt einen Wahrheitswert zurück, der von dem Erfolg des Entfernens abhängt. Übergeben wird der Methode eine ganze Zahl, die entweder die `mitgliedsnummer` oder `mitarbeiternummer` darstellt. Wird keine Person mit der übergebenen Nummer in der Liste gefunden, schlägt das Entfernen fehl (`false`). Ansonsten wird sie aus der Liste gelöscht.  \n",
    "- Die Möglichkeit nach einer Person in der Liste zu suchen, soll `gibPerson()` bereitstellen. Das ausschlaggebende Kriterium ist wieder die Nummer der Person. Wird das Suchergebnis nicht gefunden, soll `null` zurückgegeben werden, ansonsten das Objekt."
   ]
  },
  {
   "cell_type": "code",
   "execution_count": null,
   "id": "97af5041",
   "metadata": {
    "deletable": false,
    "nbgrader": {
     "cell_type": "code",
     "checksum": "64df22f6d1aa9eb219af6830fc586117",
     "grade": false,
     "grade_id": "aufgabe4-code",
     "locked": false,
     "schema_version": 3,
     "solution": true,
     "task": false
    }
   },
   "outputs": [],
   "source": [
    "// YOUR CODE HERE"
   ]
  },
  {
   "cell_type": "code",
   "execution_count": null,
   "id": "5547fd17",
   "metadata": {
    "deletable": false,
    "editable": false,
    "nbgrader": {
     "cell_type": "code",
     "checksum": "1d09599fd5222bd47792c02a0915067a",
     "grade": true,
     "grade_id": "aufgabe4-test",
     "locked": true,
     "points": 6,
     "schema_version": 3,
     "solution": false,
     "task": false
    }
   },
   "outputs": [],
   "source": [
    "val a1 = Automat()\n",
    "val a2 = Automat()\n",
    "val a3 = Automat()\n",
    "\n",
    "//Kund:innen\n",
    "val k1 = Kunde(\"Kunde1\", 25, 5.00, a1)\n",
    "val k2 = Kunde(\"Kunde2\", 35, 15.00, a1)\n",
    "\n",
    "val kunden = Personenverwaltung<Kunde>()\n",
    "\n",
    "//hinzufuegen()\n",
    "kunden.hinzufuegen(k1)\n",
    "kunden.hinzufuegen(k2)\n",
    "\n",
    "//gibPerson()\n",
    "if (kunden.gibPerson(k1.mitgliedsnummer) != k1)\n",
    "    throw AssertionError(\"kunden.gibPerson(k1.mitgliedsnummer): ${kunden.gibPerson(k1.mitgliedsnummer)} != ${k1}\")\n",
    "if (kunden.gibPerson(k2.mitgliedsnummer) != k2)\n",
    "    throw AssertionError(\"kunden.gibPerson(k2.mitgliedsnummer): ${kunden.gibPerson(k2.mitgliedsnummer)} != ${k2}\")\n",
    "//entfernen()\n",
    "if (!kunden.entfernen(k1.mitgliedsnummer))\n",
    "    throw AssertionError(\"kunden.entfernen(k1.mitgliedsnummer): false != true\")\n",
    "if (kunden.entfernen(k1.mitgliedsnummer))\n",
    "    throw AssertionError(\"kunden.entfernen(k1.mitgliedsnummer): true != false\")\n",
    "if (kunden.gibPerson(k1.mitgliedsnummer) != null)\n",
    "    throw AssertionError(\"kunden.gibPerson(k1.mitgliedsnummer): ${kunden.gibPerson(k1.mitgliedsnummer)} != null\")\n",
    "    \n",
    "//Mitarbeiter:innen\n",
    "val m1 = Mitarbeiter(\"Mitarbeiter1\", 42, arrayOf(a1, a2, a3))\n",
    "val m2 = Mitarbeiter(\"Mitarbeiter2\", 34, arrayOf(a1, a2, a3))\n",
    "\n",
    "val mitarbeiter = Personenverwaltung<Mitarbeiter>()\n",
    "\n",
    "//hinzufuegen()\n",
    "mitarbeiter.hinzufuegen(m1)\n",
    "mitarbeiter.hinzufuegen(m2)\n",
    "\n",
    "//gibPerson()\n",
    "if (mitarbeiter.gibPerson(m1.mitarbeiternummer) != m1)\n",
    "    throw AssertionError(\"mitarbeiter.gibPerson(m1.mitarbeiternummer): ${mitarbeiter.gibPerson(m1.mitarbeiternummer)} != ${m1}\")\n",
    "if (mitarbeiter.gibPerson(m2.mitarbeiternummer) != m2)\n",
    "    throw AssertionError(\"mitarbeiter.gibPerson(m2.mitarbeiternummer): ${mitarbeiter.gibPerson(m2.mitarbeiternummer)} != ${m2}\")\n",
    "//entfernen()\n",
    "if (!mitarbeiter.entfernen(m1.mitarbeiternummer))\n",
    "    throw AssertionError(\"mitarbeiter.entfernen(m1.mitarbeiternummer): false != true\")\n",
    "if (mitarbeiter.entfernen(m1.mitarbeiternummer))\n",
    "    throw AssertionError(\"mitarbeiter.entfernen(m1.mitarbeiternummer): true != false\")\n",
    "if (mitarbeiter.gibPerson(m1.mitarbeiternummer) != null)\n",
    "    throw AssertionError(\"mitarbeiter.gibPerson(m1.mitarbeiternummer): ${mitarbeiter.gibPerson(m1.mitarbeiternummer)} != null\")"
   ]
  },
  {
   "cell_type": "markdown",
   "id": "39f0c67c",
   "metadata": {
    "deletable": false,
    "editable": false,
    "nbgrader": {
     "cell_type": "markdown",
     "checksum": "b3967fa8e56d2732f1d1a31fe290c8ba",
     "grade": false,
     "grade_id": "markdown-6",
     "locked": true,
     "schema_version": 3,
     "solution": false,
     "task": false
    }
   },
   "source": [
    "## Spielbank\n",
    "\n",
    "In der Klasse `Spielbank` sollen die implementierten Klassen in Zusammenhang gestellt werden. Alle Methoden sollen öffentlich sein.\n",
    "- Bei Erzeugung werden drei Parameter übergeben: der Name der Spielbank, deren Ort und die Anzahl der vorhandenen Automaten\n",
    "- In dem privaten Feld `kunden` soll ein Objekt der Klasse `Personenverwaltung` gespeichert werden, die Kund:innen verwaltet. `mitarbeiter` enthält im Gegensatz die Verwaltung der Mitarbeiter:innen.\n",
    "- `automaten` ist ein privates Feld, dass ein Array aus Automaten enhält. Die Anzahl der Automaten ist anhängig von dem Übergabeparameter.\n",
    "- `registriereKunde()` wird der Name, das Alter und Budget übergeben. Die Rückgabe stellt ein Objekt der Klasse `Kunde` dar. Falls das Alter unter 21 ist, soll ein eigens definierter Fehler `AltersgrenzeUnterschritten` geworfen werden, der auf das Mindestalter von 21 Jahren hinweist. Besteht die Kund:in den Alterstest, wird ein freier Automat zugewiesen und das Objekt in die Kundenverwaltung hinzugefügt. Sollten alle Automaten belegt sein, soll ein Fehler der Klasse `KeinAutomatFrei` geworfen werden.\n",
    "- Verlässt eine Kund:in die Spielbank, soll die Methode `entferneKunde()` mit der Nummer der Kund:in aufgerufen werden. Daraufhin wird der zugehörige Automat frei und der Eintrag in der Kundenverwaltung gelöscht.\n",
    "- Analog soll mit den Mitarbeiter:innen verfahren werden. Der Methode `registriereMitarbeiter()` wird ein Name und Alter übergeben. Das Ergebnis ist ein Objekt der Klasse `Mitarbeiter`, das der Mitarbeiterverwaltung hinzugefügt wurde.\n",
    "- `entferneMitarbeiter()` löscht eine Mitarbeiter:in aus der Mitarbeiterverwaltung abhängig von der Mitarbeiternummer."
   ]
  },
  {
   "cell_type": "code",
   "execution_count": null,
   "id": "ece1b52b",
   "metadata": {
    "deletable": false,
    "nbgrader": {
     "cell_type": "code",
     "checksum": "9d6ad0f0b039a43b44090cf96b27a0de",
     "grade": false,
     "grade_id": "aufgabe5-code",
     "locked": false,
     "schema_version": 3,
     "solution": true,
     "task": false
    }
   },
   "outputs": [],
   "source": [
    "// YOUR CODE HERE"
   ]
  },
  {
   "cell_type": "code",
   "execution_count": null,
   "id": "7be74768",
   "metadata": {
    "deletable": false,
    "editable": false,
    "nbgrader": {
     "cell_type": "code",
     "checksum": "43ca56d5822dd2a77235f17c2ea11ac1",
     "grade": true,
     "grade_id": "aufgabe5-test",
     "locked": true,
     "points": 12,
     "schema_version": 3,
     "solution": false,
     "task": false
    }
   },
   "outputs": [],
   "source": [
    "val spielbank = Spielbank(\"Spialbank Bad Steben\", \"Bad Steben\", 3)\n",
    "\n",
    "//registriereKunde()\n",
    "val k1 = spielbank.registriereKunde(\"Max Mustermann\", 23, 10.00)\n",
    "if (k1.mitgliedsnummer != 5)\n",
    "    throw AssertionError(\"spielbank.registriereKunde(Max Mustermann, 23, 10.00).mitgliedsnummer: ${k1.mitgliedsnummer} != 5\")\n",
    "\n",
    "//Fehler AltersgrenzeUnterschritten\n",
    "try{\n",
    "    val k2 = spielbank.registriereKunde(\"Erika Mustermann\", 18,5.00)\n",
    "    throw UnsupportedOperationException(\"Der Fehler AltersgrenzeUnterschritten wurde nicht geworfen.\")\n",
    "}\n",
    "catch(e: AltersgrenzeUnterschritten){\n",
    "}\n",
    "\n",
    "val k3 = spielbank.registriereKunde(\"Micheal Ballack\", 35, 50.00)\n",
    "val k4 = spielbank.registriereKunde(\"Steffi Graf\", 42, 100.00)\n",
    "\n",
    "//Fehler KeinAutomatFrei\n",
    "try{\n",
    "    val k5 = spielbank.registriereKunde(\"Angela Merkel\", 53, 70.00)\n",
    "    throw UnsupportedOperationException(\"Der Fehler KeinAutomatFrei wurde nicht geworfen.\")\n",
    "}\n",
    "catch(e: KeinAutomatFrei){\n",
    "}\n",
    "\n",
    "//entferneKunde()\n",
    "if (!spielbank.entferneKunde(k3.mitgliedsnummer))\n",
    "    throw AssertionError(\"spielbank.entferneKunde(k3.mitgliedsnummer): false != true\")\n",
    "if (spielbank.entferneKunde(k3.mitgliedsnummer))\n",
    "    throw AssertionError(\"spielbank.entferneKunde(k3.mitgliedsnummer): true != false\")\n",
    "\n",
    "//registriereMitarbeiter()\n",
    "val m1 = spielbank.registriereMitarbeiter(\"Hausmeister Krause\", 43)\n",
    "if (m1.mitarbeiternummer != 4)\n",
    "    throw AssertionError(\"spielbank.registriereMitarbeiter(Hausmeister Krause, 43).mitarbeiternummer: ${m1.mitarbeiternummer} != 4\")\n",
    "\n",
    "//entferneKunde()\n",
    "if (!spielbank.entferneMitarbeiter(m1.mitarbeiternummer))\n",
    "    throw AssertionError(\"spielbank.entferneMitarbeiter(m1.mitarbeiternummer): false != true\")\n",
    "if (spielbank.entferneMitarbeiter(m1.mitarbeiternummer))\n",
    "    throw AssertionError(\"spielbank.entferneMitarbeiter(m1.mitarbeiternummer): true != false\")"
   ]
  }
 ],
 "metadata": {
  "kernelspec": {
   "display_name": "Kotlin",
   "language": "kotlin",
   "name": "kotlin"
  },
  "language_info": {
   "codemirror_mode": "text/x-kotlin",
   "file_extension": ".kt",
   "mimetype": "text/x-kotlin",
   "name": "kotlin",
   "nbconvert_exporter": "",
   "pygments_lexer": "kotlin",
   "version": "1.5.20-dev-5817"
  }
 },
 "nbformat": 4,
 "nbformat_minor": 5
}
