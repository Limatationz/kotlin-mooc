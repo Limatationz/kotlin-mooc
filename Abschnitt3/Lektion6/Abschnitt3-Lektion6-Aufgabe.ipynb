{
 "cells": [
  {
   "cell_type": "markdown",
   "id": "b173b35c",
   "metadata": {},
   "source": [
    "# Aufgabe - Schnittstelle einer Liste\n",
    "In Konzepte der Programmierung wurde die [einfach verkettete Liste](https://de.wikipedia.org/wiki/Liste_%28Datenstruktur%29#Einfach_verkettete_Listen) intensiv behandelt. Implementieren Sie eine Schnittstelle `Liste`, die eine solche Liste von Elemente vorgibt. Es soll ein erstes Element und zwei Methoden, die Elemente hinzufügt und entfernt. Wählen Sie einen passenden Variablentyp, Parameter und Rückgaben. Da eine Schnittstelle schwer zu überprüfen ist, gibt es zu dieser Aufgabe keinen Test."
   ]
  },
  {
   "cell_type": "code",
   "execution_count": null,
   "id": "e6aa4a7f",
   "metadata": {
    "tags": []
   },
   "outputs": [],
   "source": [
    "data class Element(val wert: Int, var naechster: Element? = null)\n",
    "\n",
    "//TODO"
   ]
  }
 ],
 "metadata": {
  "kernelspec": {
   "display_name": "Kotlin",
   "language": "kotlin",
   "name": "kotlin"
  },
  "language_info": {
   "codemirror_mode": "text/x-kotlin",
   "file_extension": ".kt",
   "mimetype": "text/x-kotlin",
   "name": "kotlin",
   "nbconvert_exporter": "",
   "pygments_lexer": "kotlin",
   "version": "1.6.20-dev-3702"
  }
 },
 "nbformat": 4,
 "nbformat_minor": 5
}
