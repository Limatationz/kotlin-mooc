{
 "cells": [
  {
   "cell_type": "markdown",
   "id": "ca3ea879",
   "metadata": {},
   "source": [
    "# Aufgabe - Schnittstelle einer Liste\n",
    "In Konzepte der Programmierung wurde die [einfach verkettete Liste](https://de.wikipedia.org/wiki/Liste_%28Datenstruktur%29#Einfach_verkettete_Listen) intensiv behandelt. Implementieren Sie eine Schnittstelle `Liste`, die eine solche Liste von Elemente vorgibt. Es soll ein erstes Element und zwei Methoden, die Elemente hinzufügt und entfernt. Wählen Sie einen passenden Variablentyp, Parameter und Rückgaben. Da eine Schnittstelle schwer zu überprüfen ist, gibt es zu dieser Aufgabe keinen Test."
   ]
  },
  {
   "cell_type": "code",
   "execution_count": 88,
   "id": "7eea6605",
   "metadata": {
    "execution": {
     "iopub.execute_input": "2021-05-31T13:42+0200",
     "iopub.status.busy": "2021-05-31T13:42+0200",
     "iopub.status.idle": "2021-05-31T13:42+0200",
     "shell.execute_reply": "2021-05-31T13:42+0200",
     "shell.execute_reply.started": "2021-05-31T13:42+0200"
    },
    "tags": []
   },
   "outputs": [],
   "source": [
    "data class Element(val wert: Int, var naechster: Element? = null)\n",
    "\n",
    "//TODO"
   ]
  }
 ],
 "metadata": {
  "kernelspec": {
   "display_name": "Kotlin",
   "language": "kotlin",
   "name": "kotlin"
  },
  "language_info": {
   "codemirror_mode": "text/x-kotlin",
   "file_extension": ".kt",
   "mimetype": "text/x-kotlin",
   "name": "kotlin",
   "nbconvert_exporter": "",
   "pygments_lexer": "kotlin",
   "version": "1.5.20-dev-5817"
  }
 },
 "nbformat": 4,
 "nbformat_minor": 5
}
