{
 "cells": [
  {
   "cell_type": "markdown",
   "id": "108d6993",
   "metadata": {},
   "source": [
    "# Aufgabe - Schnittstelle einer Liste\n",
    "In Konzepte der Programmierung wurde die [einfach verkettete Liste](https://de.wikipedia.org/wiki/Liste_%28Datenstruktur%29#Einfach_verkettete_Listen) intensiv behandelt. Implementieren Sie eine Schnittstelle `Liste`, die eine solche Liste von Elemente vorgibt. Es soll ein erstes Element und zwei Methoden, die Elemente hinzufügt und entfernt. Wählen Sie einen passenden Variablentyp, Parameter und Rückgaben. Da eine Schnittstelle schwer zu überprüfen ist, gibt es zu dieser Aufgabe keinen Test."
   ]
  },
  {
   "cell_type": "code",
   "execution_count": 89,
   "id": "009f1123",
   "metadata": {
    "execution": {
     "iopub.execute_input": "2021-05-31T13:52+0200",
     "iopub.status.busy": "2021-05-31T13:52+0200",
     "iopub.status.idle": "2021-05-31T13:52+0200",
     "shell.execute_reply": "2021-05-31T13:52+0200",
     "shell.execute_reply.started": "2021-05-31T13:52+0200"
    },
    "tags": []
   },
   "outputs": [],
   "source": [
    "data class Element(val wert: Int, var naechster: Element? = null)\n",
    "\n",
    "//Lösung\n",
    "interface Liste {\n",
    "    var erster: Element? //nullable, da das erste Element leer sein kann\n",
    "    \n",
    "    fun hinzufuegen(wert: Int): Boolean //Parameter: Wert des Elements, Rückgabe: Erfolg\n",
    "    fun entfernen(): Int //Rückgabe des Werts des entfernten Elements\n",
    "}"
   ]
  }
 ],
 "metadata": {
  "kernelspec": {
   "display_name": "Kotlin",
   "language": "kotlin",
   "name": "kotlin"
  },
  "language_info": {
   "codemirror_mode": "text/x-kotlin",
   "file_extension": ".kt",
   "mimetype": "text/x-kotlin",
   "name": "kotlin",
   "nbconvert_exporter": "",
   "pygments_lexer": "kotlin",
   "version": "1.5.20-dev-5817"
  }
 },
 "nbformat": 4,
 "nbformat_minor": 5
}
