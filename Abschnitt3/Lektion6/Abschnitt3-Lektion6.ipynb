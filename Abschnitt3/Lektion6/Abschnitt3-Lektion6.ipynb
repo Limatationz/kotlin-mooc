{
 "cells": [
  {
   "cell_type": "markdown",
   "id": "9ff960d3",
   "metadata": {},
   "source": [
    "<img src=\"../images/Lektion6.png\" style=\"margin: 20px 0px 20px 0px\"/>\n",
    "<h2 style=\"display:none\">Lektion 6 - Schnittstellen</h2>\n",
    "\n",
    "\n",
    "Ein wichtiges objektorientiertes Konzept ist das der Schnittstelle. Ein bekanntes Beispiel das `Comparable`-Interface, das eine `compareTo()`-Methode voraussetzt. Aber anstelle des Vorschreibens von Methoden können auch Zugriffe definiert werden. Eine Schnittstelle besitzt das Schlüsselwort `interface` und wird bei der implementierenden Klasse, ähnlich zum Erben, angegeben. In einem Interface können sowohl Methoden voll implementiert oder nur deren Kopf angegeben werden, sodass diese von jeder Klasse selbst vervollständigt werden müssen. Außerdem können sie auch Felder beinhalten.\n",
    "Kotlin bietet bereits einige vorgefertigte Schnittstellen an:\n",
    "\n",
    "<table style=\"font-size:16px\">\n",
    "<thead>\n",
    "  <tr>\n",
    "    <th>Name</th>\n",
    "    <th>Funktion</th>\n",
    "  </tr>\n",
    "</thead>\n",
    "<tbody>\n",
    "  <tr>\n",
    "    <td>Appendable</td>\n",
    "    <td>append()</td>\n",
    "  </tr>\n",
    "  <tr>\n",
    "    <td>Closeable</td>\n",
    "    <td>close()</td>\n",
    "  </tr>\n",
    "  <tr>\n",
    "    <td>Compareable</td>\n",
    "    <td>compare()</td>\n",
    "  </tr>\n",
    "  <tr>\n",
    "    <td>Iterable</td>\n",
    "    <td>Verarbeitung der Elemente in einer Schleife</td>\n",
    "  </tr>\n",
    "  <tr>\n",
    "    <td>Collection</td>\n",
    "    <td>allgemeine Aufzählung</td>\n",
    "  </tr>\n",
    "  <tr>\n",
    "    <td>List</td>\n",
    "    <td>Liste</td>\n",
    "  </tr>\n",
    "  <tr>\n",
    "    <td>Map</td>\n",
    "    <td>Dictionary</td>\n",
    "  </tr>\n",
    "  <tr>\n",
    "    <td>Set</td>\n",
    "    <td>Menge</td>\n",
    "  </tr>\n",
    "</tbody>\n",
    "</table>"
   ]
  },
  {
   "cell_type": "code",
   "execution_count": null,
   "id": "7de36ce3",
   "metadata": {
    "tags": []
   },
   "outputs": [],
   "source": [
    "interface Addition {\n",
    "    val dieZahl: Int //Feld, das in den Klassen überschrieben und gefüllt werden muss\n",
    "    \n",
    "    fun add2(a: Int, b: Int): Int //Methode muss in den Klassen ausformuliert werden\n",
    "    fun add3(a: Int, b: Int, c: Int) = a + b + c //Bereits voll implementierte Methode, die übernommen wird\n",
    "}\n",
    "\n",
    "class Rechner : Addition {\n",
    "    override val dieZahl = 42 //Überschreibt das vorgegebene Feld dieZahl\n",
    "    override fun add2(a: Int, b: Int) = a + b //Überschreibt die vorgegebene Methode add3\n",
    "}\n",
    "\n",
    "val rechner = Rechner()\n",
    "println(\"rechner.dieZahl: ${rechner.dieZahl}\")\n",
    "println(\"rechner.add2(5,3): ${rechner.add2(5,3)}\")\n",
    "println(\"rechner.add3(5,9,3): ${rechner.add3(5,9,3)}\")"
   ]
  },
  {
   "cell_type": "markdown",
   "id": "f90d8054",
   "metadata": {},
   "source": [
    "### Geschlossene Schnittstelle\n",
    "In Lektion 5 wurde das Schlüsselwort `sealed` in Verbindung mit abstrakten Klassen kennengelernt. Die gleiche Funktionalität lässt sich aber auch auf Schnittstellen anwenden."
   ]
  },
  {
   "cell_type": "code",
   "execution_count": 2,
   "id": "afc46921",
   "metadata": {
    "execution": {
     "iopub.execute_input": "2021-06-02T14:44+0200",
     "iopub.status.busy": "2021-06-02T14:44+0200",
     "iopub.status.idle": "2021-06-02T14:44+0200",
     "shell.execute_reply": "2021-06-02T14:44+0200",
     "shell.execute_reply.started": "2021-06-02T14:44+0200"
    },
    "tags": []
   },
   "outputs": [
    {
     "name": "stdout",
     "output_type": "stream",
     "text": [
      "Es ist eine Pflaume!\n"
     ]
    }
   ],
   "source": [
    "sealed interface Frucht {\n",
    "    val farbe: String\n",
    "    var status: String\n",
    "    \n",
    "    fun faulen() {\n",
    "        status = \"Verfault\"\n",
    "    }\n",
    "}\n",
    "\n",
    "class Apfel(override val farbe: String, override var status: String) : Frucht {\n",
    "    constructor (farbe: String): this(farbe, \"Frisch\")\n",
    "}\n",
    "data class Pflaume(override val farbe: String, override var status: String) : Frucht\n",
    "data class Banane(override val farbe: String, override var status: String, val gekruemmt: Boolean) : Frucht\n",
    "\n",
    "\n",
    "when(listOf(Apfel(\"Rot\"), Pflaume(\"Violet\", \"Frisch\"), Banane(\"Gelb\", \"Geöffnet\", true)).random() as Frucht){\n",
    "    is Apfel -> println(\"Es ist ein Apfel!\")\n",
    "    is Pflaume -> println(\"Es ist eine Pflaume!\")\n",
    "    is Banane -> println(\"Es ist eine Banane!\")\n",
    "}"
   ]
  }
 ],
 "metadata": {
  "kernelspec": {
   "display_name": "Kotlin",
   "language": "kotlin",
   "name": "kotlin"
  },
  "language_info": {
   "codemirror_mode": "text/x-kotlin",
   "file_extension": ".kt",
   "mimetype": "text/x-kotlin",
   "name": "kotlin",
   "nbconvert_exporter": "",
   "pygments_lexer": "kotlin",
   "version": "1.5.20-dev-5817"
  }
 },
 "nbformat": 4,
 "nbformat_minor": 5
}
