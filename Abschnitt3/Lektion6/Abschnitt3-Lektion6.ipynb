{
 "cells": [
  {
   "cell_type": "markdown",
   "id": "86345eb1",
   "metadata": {},
   "source": [
    "<img src=\"../images/Lektion6.png\" style=\"margin: 20px 0px 20px 0px\"/>\n",
    "<h2 style=\"display:none\">Lektion 6 - Schnittstellen</h2>\n",
    "\n",
    "\n",
    "Ein wichtiges objektorientiertes Konzept ist das der Schnittstelle. Ein bekanntes Beispiel das `Comparable`-Interface, das eine `compareTo()`-Methode voraussetzt. Aber anstelle des Vorschreibens von Methoden können auch Zugriffe definiert werden. Eine Schnittstelle besitzt das Schlüsselwort `interface` und wird bei der implementierenden Klasse, ähnlich zum Erben, angegeben. In einem Interface können sowohl Methoden voll implementiert oder nur deren Kopf angegeben werden, sodass diese von jeder Klasse selbst vervollständigt werden müssen. Außerdem können sie auch Felder beinhalten.\n",
    "Kotlin bietet bereits einige vorgefertigte Schnittstellen an:\n",
    "\n",
    "<table style=\"font-size:16px\">\n",
    "<thead>\n",
    "  <tr>\n",
    "    <th style=\"font-size:16px\">Name</th>\n",
    "    <th style=\"font-size:16px\">Funktion</th>\n",
    "  </tr>\n",
    "</thead>\n",
    "<tbody>\n",
    "  <tr>\n",
    "    <td style=\"font-size:16px\">Appendable</td>\n",
    "    <td style=\"font-size:16px\">append()</td>\n",
    "  </tr>\n",
    "  <tr>\n",
    "    <td style=\"font-size:16px\">Closeable</td>\n",
    "    <td style=\"font-size:16px\">close()</td>\n",
    "  </tr>\n",
    "  <tr>\n",
    "    <td style=\"font-size:16px\">Compareable</td>\n",
    "    <td style=\"font-size:16px\">compare()</td>\n",
    "  </tr>\n",
    "  <tr>\n",
    "    <td style=\"font-size:16px\">Iterable</td>\n",
    "    <td style=\"font-size:16px\">Verarbeitung der Elemente in einer Schleife</td>\n",
    "  </tr>\n",
    "  <tr>\n",
    "    <td style=\"font-size:16px\">Collection</td>\n",
    "    <td style=\"font-size:16px\">allgemeine Aufzählung</td>\n",
    "  </tr>\n",
    "  <tr>\n",
    "    <td style=\"font-size:16px\">List</td>\n",
    "    <td style=\"font-size:16px\">Liste</td>\n",
    "  </tr>\n",
    "  <tr>\n",
    "    <td style=\"font-size:16px\">Map</td>\n",
    "    <td style=\"font-size:16px\">Dictionary</td>\n",
    "  </tr>\n",
    "  <tr>\n",
    "    <td style=\"font-size:16px\">Set</td>\n",
    "    <td style=\"font-size:16px\">Menge</td>\n",
    "  </tr>\n",
    "</tbody>\n",
    "</table>"
   ]
  },
  {
   "cell_type": "code",
   "execution_count": 1,
   "id": "58bc0327",
   "metadata": {
    "execution": {
     "iopub.execute_input": "2021-11-18T12:17+0100",
     "iopub.status.busy": "2021-11-18T12:17+0100",
     "iopub.status.idle": "2021-11-18T12:17+0100",
     "shell.execute_reply": "2021-11-18T12:17+0100",
     "shell.execute_reply.started": "2021-11-18T12:17+0100"
    },
    "tags": []
   },
   "outputs": [
    {
     "name": "stdout",
     "output_type": "stream",
     "text": [
      "rechner.dieZahl: 42\n",
      "rechner.add2(5,3): 8\n",
      "rechner.add3(5,9,3): 17\n"
     ]
    }
   ],
   "source": [
    "interface Addition {\n",
    "    val dieZahl: Int //Feld, das in den Klassen überschrieben und gefüllt werden muss\n",
    "    \n",
    "    fun add2(a: Int, b: Int): Int //Methode muss in den Klassen ausformuliert werden\n",
    "    fun add3(a: Int, b: Int, c: Int) = a + b + c //Bereits voll implementierte Methode, die übernommen wird\n",
    "}\n",
    "\n",
    "class Rechner : Addition {\n",
    "    override val dieZahl = 42 //Überschreibt das vorgegebene Feld dieZahl\n",
    "    override fun add2(a: Int, b: Int) = a + b //Überschreibt die vorgegebene Methode add3\n",
    "}\n",
    "\n",
    "val rechner = Rechner()\n",
    "println(\"rechner.dieZahl: ${rechner.dieZahl}\")\n",
    "println(\"rechner.add2(5,3): ${rechner.add2(5,3)}\")\n",
    "println(\"rechner.add3(5,9,3): ${rechner.add3(5,9,3)}\")"
   ]
  },
  {
   "cell_type": "markdown",
   "id": "f81ab85d",
   "metadata": {},
   "source": [
    "### Geschlossene Schnittstelle\n",
    "In Lektion 5 wurde das Schlüsselwort `sealed` in Verbindung mit abstrakten Klassen kennengelernt. Die gleiche Funktionalität lässt sich aber auch auf Schnittstellen anwenden."
   ]
  },
  {
   "cell_type": "code",
   "execution_count": 2,
   "id": "5db95f86",
   "metadata": {
    "execution": {
     "iopub.execute_input": "2021-11-18T12:17+0100",
     "iopub.status.busy": "2021-11-18T12:17+0100",
     "iopub.status.idle": "2021-11-18T12:18+0100",
     "shell.execute_reply": "2021-11-18T12:17+0100",
     "shell.execute_reply.started": "2021-11-18T12:17+0100"
    },
    "tags": []
   },
   "outputs": [
    {
     "name": "stdout",
     "output_type": "stream",
     "text": [
      "Es ist ein Apfel!\n"
     ]
    }
   ],
   "source": [
    "sealed interface Frucht {\n",
    "    val farbe: String\n",
    "    var status: String\n",
    "    \n",
    "    fun faulen() {\n",
    "        status = \"Verfault\"\n",
    "    }\n",
    "}\n",
    "\n",
    "class Apfel(override val farbe: String, override var status: String) : Frucht {\n",
    "    constructor (farbe: String): this(farbe, \"Frisch\")\n",
    "}\n",
    "data class Pflaume(override val farbe: String, override var status: String) : Frucht\n",
    "data class Banane(override val farbe: String, override var status: String, val gekruemmt: Boolean) : Frucht\n",
    "\n",
    "\n",
    "when(listOf(Apfel(\"Rot\"), Pflaume(\"Violet\", \"Frisch\"), Banane(\"Gelb\", \"Geöffnet\", true)).random() as Frucht){\n",
    "    is Apfel -> println(\"Es ist ein Apfel!\")\n",
    "    is Pflaume -> println(\"Es ist eine Pflaume!\")\n",
    "    is Banane -> println(\"Es ist eine Banane!\")\n",
    "}"
   ]
  }
 ],
 "metadata": {
  "kernelspec": {
   "display_name": "Kotlin",
   "language": "kotlin",
   "name": "kotlin"
  },
  "language_info": {
   "codemirror_mode": "text/x-kotlin",
   "file_extension": ".kt",
   "mimetype": "text/x-kotlin",
   "name": "kotlin",
   "nbconvert_exporter": "",
   "pygments_lexer": "kotlin",
   "version": "1.6.20-dev-3702"
  }
 },
 "nbformat": 4,
 "nbformat_minor": 5
}
