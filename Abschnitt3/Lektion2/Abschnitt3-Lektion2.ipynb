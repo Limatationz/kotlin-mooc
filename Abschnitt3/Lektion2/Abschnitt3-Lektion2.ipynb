{
 "cells": [
  {
   "cell_type": "markdown",
   "id": "9aa9e566",
   "metadata": {},
   "source": [
    "<img src=\"../images/Lektion2.png\" style=\"margin: 20px 0px 20px 0px\"/>\n",
    "<h2 style=\"display:none\">Lektion 2 - Datenklassen</h2>\n",
    "\n",
    "\n",
    "Zusätzlich zu normalen Klassen bietet Kotlin auch die Möglichkeit Klassen zu erstellen, die nur die Aufgabe der Speicherung von Daten haben. Auf den ersten Blick könnte dies auch mit normalen Klassen bewerkstelligt werden. Jedoch müssen dann alle Methoden, die eine Datenklasse in der Regel benötigt, per Hand implementiert werden. Beispiele dafür sind `toString()` oder `equals()`. Um das zu Verhindern, gibt es Datenklassen. Für diese generiert der Kotlin-Compiler im Hintergrund folgende Methoden: `componentN()`, `copy()`, `equals()`, `hashCode()`, `toString()`. Gekennzeichnet werden Datenklassen mit dem Schlüsselwort `data class`. Alle Felder, die bei den generierten Methoden berücksichtigt werden sollen, müssen in dem Kopf der Datenklasse angegeben werden."
   ]
  },
  {
   "cell_type": "code",
   "execution_count": 1,
   "id": "8a8ffcc6",
   "metadata": {
    "execution": {
     "iopub.execute_input": "2021-11-18T12:04+0100",
     "iopub.status.busy": "2021-11-18T12:04+0100",
     "iopub.status.idle": "2021-11-18T12:04+0100",
     "shell.execute_reply": "2021-11-18T12:04+0100",
     "shell.execute_reply.started": "2021-11-18T12:04+0100"
    },
    "tags": []
   },
   "outputs": [
    {
     "name": "stdout",
     "output_type": "stream",
     "text": [
      "Punkt p1: Punkt(x=0, y=0, z=0)\n",
      "Punkt p2: Punkt(x=1, y=1, z=1)\n",
      "p1 und p2 sind ungleich.\n"
     ]
    }
   ],
   "source": [
    "data class Punkt(val x: Int, val y: Int, val z: Int)\n",
    "val p1 = Punkt (0,0,0)\n",
    "println(\"Punkt p1: $p1\") //Verwendung der automatisch generierten toString()-Methode\n",
    "val p2 = Punkt (1,1,1)\n",
    "println(\"Punkt p2: $p2\")\n",
    "if (p1 == p2) //Verwendung der automatisch generierten equals()-Methode\n",
    "    println(\"p1 und p2 sind gleich.\")\n",
    "else\n",
    "    println(\"p1 und p2 sind ungleich.\")"
   ]
  },
  {
   "cell_type": "markdown",
   "id": "d074e6f4",
   "metadata": {},
   "source": [
    "Durch die Verwendung der `componentN()`-Methode kann auf die Felder der Datenklasse zugegriffen werden. Dabei bekommt jedes Feld eine eigene Nummer, beispielsweise in der Klasse `Punkt` `x` die Nummer 1, zugewiesen. Wird `N` durch die Nummer ersetzt und auf einem Objekt aufgerufen, wird das dazugehörige Feld zurückgegeben. Auch können dadurch mehrere Felder abgerufen werden, indem eine Folge als Rückgabe erwartet wird."
   ]
  },
  {
   "cell_type": "code",
   "execution_count": 2,
   "id": "3a1f44f2",
   "metadata": {
    "execution": {
     "iopub.execute_input": "2021-11-18T12:04+0100",
     "iopub.status.busy": "2021-11-18T12:04+0100",
     "iopub.status.idle": "2021-11-18T12:04+0100",
     "shell.execute_reply": "2021-11-18T12:04+0100",
     "shell.execute_reply.started": "2021-11-18T12:04+0100"
    },
    "tags": []
   },
   "outputs": [
    {
     "name": "stdout",
     "output_type": "stream",
     "text": [
      "p1.component1(): 0\n",
      "x: 0, y: 1, z: 2\n",
      "a: 0, b: 1\n"
     ]
    }
   ],
   "source": [
    "val p1 = Punkt (0,1,2)\n",
    "println(\"p1.component1(): ${p1.component1()}\")\n",
    "val (x, y, z) = p1 //speichert die ersten drei Felder von p1 in den Variablen x, y, z\n",
    "println(\"x: $x, y: $y, z: $z\")\n",
    "val (a, b) = p1 //speichert die ersten zwei Felder von p1 in den Variablen a, b\n",
    "println(\"a: $a, b: $b\")"
   ]
  },
  {
   "cell_type": "markdown",
   "id": "880b89e0",
   "metadata": {},
   "source": [
    "Die Erzeugung eines neuen, identischen Objekts erfolgt mit Hilfe von `copy()`. Soll aber bestimmten Feldern ein anderer Wert zugewiesen werden, kann dies der Methode mit Namen des Feldes und dem gewünschten Wert übergeben werden."
   ]
  },
  {
   "cell_type": "code",
   "execution_count": 3,
   "id": "d18becce",
   "metadata": {
    "execution": {
     "iopub.execute_input": "2021-11-18T12:04+0100",
     "iopub.status.busy": "2021-11-18T12:04+0100",
     "iopub.status.idle": "2021-11-18T12:04+0100",
     "shell.execute_reply": "2021-11-18T12:04+0100",
     "shell.execute_reply.started": "2021-11-18T12:04+0100"
    },
    "tags": []
   },
   "outputs": [
    {
     "name": "stdout",
     "output_type": "stream",
     "text": [
      "p1: Punkt(x=0, y=1, z=2)\n",
      "p2: Punkt(x=0, y=1, z=2)\n",
      "p3: Punkt(x=4, y=1, z=2)\n"
     ]
    }
   ],
   "source": [
    "val p1 = Punkt (0,1,2)\n",
    "val p2 = p1.copy() //p1 und p2 sind unabhängige Objekte\n",
    "println(\"p1: $p1\")\n",
    "println(\"p2: $p2\")\n",
    "val p3 = p1.copy(x=4)\n",
    "println(\"p3: $p3\")"
   ]
  },
  {
   "cell_type": "markdown",
   "id": "3540f083",
   "metadata": {},
   "source": [
    "Zusätzlich können auch weitere Felder in den Rumpf einer Datenklasse definiert werden. Diese werden jedoch nicht bei den automatisch generierten Methoden berücksichtigt. Außerdem darf der primäre Konstruktor einer Datenklasse keine *freien* Parameter besitzen. Es wird nur der Defaultkonstruktor unterstützt. Somit können die eigens erstellten Felder im Rumpf der Klasse nur berechnet und nicht mit einem Parameter gefüllt werden."
   ]
  },
  {
   "cell_type": "code",
   "execution_count": 4,
   "id": "3ec84d48",
   "metadata": {
    "execution": {
     "iopub.execute_input": "2021-11-18T12:04+0100",
     "iopub.status.busy": "2021-11-18T12:04+0100",
     "iopub.status.idle": "2021-11-18T12:04+0100",
     "shell.execute_reply": "2021-11-18T12:04+0100",
     "shell.execute_reply.started": "2021-11-18T12:04+0100"
    },
    "tags": []
   },
   "outputs": [
    {
     "name": "stdout",
     "output_type": "stream",
     "text": [
      "Punkt p1 ist im Ursprung: true, Punkt(x=0, y=0, z=0)\n",
      "Punkt p2 ist im Ursprung: false, Punkt(x=1, y=1, z=1)\n"
     ]
    }
   ],
   "source": [
    "data class Punkt (val x: Int, val y: Int, val z: Int){\n",
    "    val istUrsprung = x == 0 && y == 0 && z == 0\n",
    "}\n",
    "val p1 = Punkt (0,0,0)\n",
    "println(\"Punkt p1 ist im Ursprung: ${p1.istUrsprung}, $p1\")\n",
    "val p2 = Punkt (1,1,1)\n",
    "println(\"Punkt p2 ist im Ursprung: ${p2.istUrsprung}, $p2\")"
   ]
  }
 ],
 "metadata": {
  "kernelspec": {
   "display_name": "Kotlin",
   "language": "kotlin",
   "name": "kotlin"
  },
  "language_info": {
   "codemirror_mode": "text/x-kotlin",
   "file_extension": ".kt",
   "mimetype": "text/x-kotlin",
   "name": "kotlin",
   "nbconvert_exporter": "",
   "pygments_lexer": "kotlin",
   "version": "1.6.20-dev-3702"
  }
 },
 "nbformat": 4,
 "nbformat_minor": 5
}
