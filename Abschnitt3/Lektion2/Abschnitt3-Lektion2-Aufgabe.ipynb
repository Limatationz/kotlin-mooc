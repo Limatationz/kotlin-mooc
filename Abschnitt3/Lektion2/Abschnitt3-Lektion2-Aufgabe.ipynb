{
 "cells": [
  {
   "cell_type": "markdown",
   "id": "f816eab3",
   "metadata": {},
   "source": [
    "# Aufgabe - Abstände\n",
    "In dieser Aufgabe sollen Sie mit Hilfe von Datenklassen eine Verwaltung von Abständen implementieren. Dazu werden folgende Komponenten benötigt:\n",
    "* Eine Datenklasse `Position`, die eine x- und y-Koordinate speichert\n",
    "* Eine Datenklasse `Abstand`, die primär den Wert eines Abstands speichert. Außerdem sollen in der Datenklasse in einer Liste `positionen` Paare von Positionen abgespeichert werden, die diesen Abstand besitzen.  \n",
    "Beispiel: `wert` des Abstandes: 3, Inhalt von `positionen`: [( Position(0,0), Position(2,1) ), ( Position(0,3), Position(3,3) ), ... ] \n",
    "* Eine Funktion `berechneAbstand()` der zwei Positionen übergeben werden. In ihrem Rumpf soll die [Manhatten-Distanz](https://de.wikipedia.org/wiki/Manhattan-Metrik) der beiden Punkte berechnet und der Abstand zur globale Liste `abstaende` hinzugefügt werden, sollte der Abstand noch nicht in der Liste gespeichert sein. Falls doch, sollen die beiden Positionen dem bereits vorhandenen Abstand in die Liste `positionen` hinzugefügt werden. "
   ]
  },
  {
   "cell_type": "code",
   "execution_count": 24,
   "id": "7b4b470f",
   "metadata": {
    "execution": {
     "iopub.execute_input": "2021-05-30T21:00+0200",
     "iopub.status.busy": "2021-05-30T21:00+0200",
     "iopub.status.idle": "2021-05-30T21:00+0200"
    }
   },
   "outputs": [
    {
     "name": "stderr",
     "output_type": "stream",
     "text": [
      "Line_23.jupyter-kts (3:31 - 38) Unresolved reference: Abstand\n",
      "Line_23.jupyter-kts (6:26 - 34) Unresolved reference: Position\n",
      "Line_23.jupyter-kts (6:41 - 49) Unresolved reference: Position\n",
      "Line_23.jupyter-kts (6:56 - 64) Unresolved reference: Position\n",
      "Line_23.jupyter-kts (6:71 - 79) Unresolved reference: Position\n",
      "Line_23.jupyter-kts (7:26 - 34) Unresolved reference: Position\n",
      "Line_23.jupyter-kts (7:41 - 49) Unresolved reference: Position\n",
      "Line_23.jupyter-kts (7:57 - 65) Unresolved reference: Position\n",
      "Line_23.jupyter-kts (7:72 - 80) Unresolved reference: Position\n",
      "Line_23.jupyter-kts (10:9 - 24) Unresolved reference: berechneAbstand\n",
      "Line_23.jupyter-kts (13:19 - 21) Unresolved reference: it"
     ]
    }
   ],
   "source": [
    "//TODO\n",
    "\n",
    "val abstaende = mutableListOf<Abstand>() //Liste von Abständen\n",
    "\n",
    "//Test\n",
    "val positionen1 = listOf(Position(2,7), Position(0,0), Position(5,2), Position(7,2))\n",
    "val positionen2 = listOf(Position(4,4), Position(10,2), Position(1,6), Position(3,4))\n",
    "for(p1 in positionen1){\n",
    "    for(p2 in positionen2){\n",
    "        berechneAbstand(p1, p2)\n",
    "    }\n",
    "}\n",
    "abstaende.sortBy {it.wert}\n",
    "var fehler = 0\n",
    "if(abstaende.toString() != \"[Abstand(wert=2), Abstand(wert=3), Abstand(wert=4), Abstand(wert=5), Abstand(wert=6), Abstand(wert=7), Abstand(wert=8), Abstand(wert=10), Abstand(wert=12), Abstand(wert=13)]\"){\n",
    "    println(\"Fehler! Es sollten folgende Abstände in der Liste vorhanden sein:\\n\\t[Abstand(wert=2), Abstand(wert=3), Abstand(wert=4), Abstand(wert=5), Abstand(wert=6), Abstand(wert=7), Abstand(wert=8), Abstand(wert=10), Abstand(wert=12), Abstand(wert=13)]\\nIn der Liste ist aber aktuell:\\n\\t$abstaende\")\n",
    "    fehler++\n",
    "}\n",
    "val richtigeAnzahl = listOf(1,2,2,3,1,2,2,1,1,1)\n",
    "for(i in 0 until abstaende.size){\n",
    "    if(abstaende[i].positionen.size != richtigeAnzahl[i]){\n",
    "        println(\"Fehler bei Element Nummer $i in abstaende!\\n\\tDer Abstand ${abstaende[i]} sollte eigentlich ${richtigeAnzahl[i]} Einträge in der Liste positionen besitzen, es ist/sind aber ${abstaende[i].positionen.size} Eintrag/Einträge.\")\n",
    "        fehler++\n",
    "    }\n",
    "}\n",
    "if(fehler == 0)\n",
    "    println(\"Super! Alle Tests bestanden!\")\n",
    "else\n",
    "    println(\"Bei $fehler Tests kamen Fehler auf.\")"
   ]
  }
 ],
 "metadata": {
  "kernelspec": {
   "display_name": "Kotlin",
   "language": "kotlin",
   "name": "kotlin"
  },
  "language_info": {
   "codemirror_mode": "text/x-kotlin",
   "file_extension": ".kt",
   "mimetype": "text/x-kotlin",
   "name": "kotlin",
   "nbconvert_exporter": "",
   "pygments_lexer": "kotlin",
   "version": "1.5.20-dev-5817"
  }
 },
 "nbformat": 4,
 "nbformat_minor": 5
}
