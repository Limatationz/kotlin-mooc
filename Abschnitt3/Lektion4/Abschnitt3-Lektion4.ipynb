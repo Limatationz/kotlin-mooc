{
 "cells": [
  {
   "cell_type": "markdown",
   "id": "8809c8a9",
   "metadata": {},
   "source": [
    "<img src=\"../images/Lektion4.png\" style=\"margin: 20px 0px 20px 0px\"/>\n",
    "<h2 style=\"display:none\">Lektion 4 - Aufzählungen</h2>\n",
    "\n",
    "\n",
    "Mit Hilfe einer Enumeration kann ein eigener, limitierter Datentyp erstellt werden, der nur vordefinierte Werte annehmen kann. Der Klasse wird dafür das Schlüsselwort `enum` vorangestellt. Soll ein Wert des Enums verwendet werden, muss zusätzlich der Name der Enumeration angegeben werden."
   ]
  },
  {
   "cell_type": "code",
   "execution_count": 1,
   "id": "3808f99f",
   "metadata": {
    "execution": {
     "iopub.execute_input": "2021-11-18T12:14+0100",
     "iopub.status.busy": "2021-11-18T12:14+0100",
     "iopub.status.idle": "2021-11-18T12:14+0100",
     "shell.execute_reply": "2021-11-18T12:14+0100",
     "shell.execute_reply.started": "2021-11-18T12:14+0100"
    },
    "tags": []
   },
   "outputs": [
    {
     "name": "stdout",
     "output_type": "stream",
     "text": [
      "Der Name von montag ist MONTAG.\n"
     ]
    }
   ],
   "source": [
    "enum class Wochentag {\n",
    "    MONTAG, DIENSTAG, MITTWOCH, DONNERSTAG, FREITAG, SAMSTAG, SONNTAG\n",
    "}\n",
    "\n",
    "class Tag (val name : Wochentag)\n",
    "\n",
    "val montag = Tag(Wochentag.MONTAG)\n",
    "println(\"Der Name von montag ist ${montag.name}.\")"
   ]
  },
  {
   "cell_type": "markdown",
   "id": "85bae2a2",
   "metadata": {},
   "source": [
    "Auf alle möglichen Werte eines Enums kann mit `values()` zugegriffen werden. Zurückgegeben wird ein Array. Soll auf das Enum-Objekt eines Strings zugegriffen werden, ist dies mit `valueOf()` und dem String als Parameter möglich. Wird kein passendes Element gefunden, ist das Ergebnis eine `IllegalArgumentException`."
   ]
  },
  {
   "cell_type": "code",
   "execution_count": 2,
   "id": "90167826",
   "metadata": {
    "execution": {
     "iopub.execute_input": "2021-11-18T12:14+0100",
     "iopub.status.busy": "2021-11-18T12:14+0100",
     "iopub.status.idle": "2021-11-18T12:14+0100",
     "shell.execute_reply": "2021-11-18T12:14+0100",
     "shell.execute_reply.started": "2021-11-18T12:14+0100"
    },
    "tags": []
   },
   "outputs": [
    {
     "name": "stdout",
     "output_type": "stream",
     "text": [
      "Alle Einträge des Enums: MONTAG, DIENSTAG, MITTWOCH, DONNERSTAG, FREITAG, SAMSTAG, SONNTAG, \n",
      "Vollst��ndiger Name von FREITAG: FREITAG\n"
     ]
    }
   ],
   "source": [
    "print(\"Alle Einträge des Enums: \")\n",
    "Wochentag.values().forEach { \n",
    "    print(\"$it, \")\n",
    "}\n",
    "\n",
    "println()\n",
    "println(\"Vollständiger Name von FREITAG: ${Wochentag.valueOf(\"FREITAG\")}\")"
   ]
  },
  {
   "cell_type": "markdown",
   "id": "0196da75",
   "metadata": {},
   "source": [
    "Da Enums als vollständige Klassen angesehen werden, können ihnen Felder und sogar Methoden hinzugefügt werden. Sollen Felder mit einem bestimmten Wert, der von dem Wert des Enums abhängt, gefüllt werden, erfolgt die Übergabe der Parameter hinter dem Wert des Enums."
   ]
  },
  {
   "cell_type": "code",
   "execution_count": 3,
   "id": "c1bd01d5",
   "metadata": {
    "execution": {
     "iopub.execute_input": "2021-11-18T12:14+0100",
     "iopub.status.busy": "2021-11-18T12:14+0100",
     "iopub.status.idle": "2021-11-18T12:14+0100",
     "shell.execute_reply": "2021-11-18T12:14+0100",
     "shell.execute_reply.started": "2021-11-18T12:14+0100"
    },
    "tags": []
   },
   "outputs": [
    {
     "name": "stdout",
     "output_type": "stream",
     "text": [
      "Montag ist ein Tag des Wochenendes: false, Nummer des Tags: 1, Zufallszahl: 8\n",
      "Samstag ist ein Tag des Wochenendes: true, Nummer des Tags: 6, Zufallszahl: 8\n"
     ]
    }
   ],
   "source": [
    "enum class Wochentag (val nummer: Int){\n",
    "    MONTAG(1), DIENSTAG(2), MITTWOCH(3), DONNERSTAG(4), FREITAG(5), SAMSTAG(6), SONNTAG(7);\n",
    "    \n",
    "    val zufallszahl = (0..10).random()\n",
    "    \n",
    "    fun istWochenende() = if (this == SAMSTAG || this == SONNTAG) true else false\n",
    "}\n",
    "\n",
    "val montag = Wochentag.MONTAG\n",
    "println(\"Montag ist ein Tag des Wochenendes: ${montag.istWochenende()}, Nummer des Tags: ${montag.nummer}, Zufallszahl: ${montag.zufallszahl}\")\n",
    "val samstag = Wochentag.SAMSTAG\n",
    "println(\"Samstag ist ein Tag des Wochenendes: ${samstag.istWochenende()}, Nummer des Tags: ${samstag.nummer}, Zufallszahl: ${montag.zufallszahl}\")"
   ]
  }
 ],
 "metadata": {
  "kernelspec": {
   "display_name": "Kotlin",
   "language": "kotlin",
   "name": "kotlin"
  },
  "language_info": {
   "codemirror_mode": "text/x-kotlin",
   "file_extension": ".kt",
   "mimetype": "text/x-kotlin",
   "name": "kotlin",
   "nbconvert_exporter": "",
   "pygments_lexer": "kotlin",
   "version": "1.6.20-dev-3702"
  }
 },
 "nbformat": 4,
 "nbformat_minor": 5
}
