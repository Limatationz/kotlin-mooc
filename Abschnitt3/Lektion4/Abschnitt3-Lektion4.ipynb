{
 "cells": [
  {
   "cell_type": "markdown",
   "id": "d3e5aaf1",
   "metadata": {},
   "source": [
    "<img src=\"../images/Lektion4.png\" style=\"margin: 20px 0px 20px 0px\"/>\n",
    "<h2 style=\"display:none\">Lektion 4 - Aufzählung</h2>\n",
    "\n",
    "\n",
    "Mit Hilfe einer Enumeration kann ein eigener, limitierter Datentyp erstellt werden, der nur vordefinierte Werte annehmen kann. Der Klasse wird dafür das Schlüsselwort `enum` vorangestellt. Soll ein Wert des Enums verwendet werden, muss zusätzlich der Name der Enumeration angegeben werden."
   ]
  },
  {
   "cell_type": "code",
   "execution_count": null,
   "id": "f7999133",
   "metadata": {
    "tags": []
   },
   "outputs": [],
   "source": [
    "enum class Wochentag {\n",
    "    MONTAG, DIENSTAG, MITTWOCH, DONNERSTAG, FREITAG, SAMSTAG, SONNTAG\n",
    "}\n",
    "\n",
    "class Tag (val name : Wochentag)\n",
    "\n",
    "val montag = Tag(Wochentag.MONTAG)\n",
    "println(\"Der Name von montag ist ${montag.name}.\")"
   ]
  },
  {
   "cell_type": "markdown",
   "id": "b6dac6f2",
   "metadata": {},
   "source": [
    "Auf alle möglichen Werte eines Enums kann mit `values()` zugegriffen werden. Zurückgegeben wird ein Array. Soll auf das Enum-Objekt eines Strings zugegriffen werden, ist dies mit `valueOf()` und dem String als Parameter möglich. Wird kein passendes Element gefunden, ist das Ergebnis eine `IllegalArgumentException`."
   ]
  },
  {
   "cell_type": "code",
   "execution_count": null,
   "id": "50868106",
   "metadata": {
    "tags": []
   },
   "outputs": [],
   "source": [
    "print(\"Alle Einträge des Enums: \")\n",
    "Wochentag.values().forEach { \n",
    "    print(\"$it, \")\n",
    "}\n",
    "\n",
    "println()\n",
    "println(\"Vollständiger Name von FREITAG: ${Wochentag.valueOf(\"FREITAG\")}\")"
   ]
  },
  {
   "cell_type": "markdown",
   "id": "1926f292",
   "metadata": {},
   "source": [
    "Da Enums als vollständige Klassen angesehen werden, können ihnen Felder und sogar Methoden hinzugefügt werden. Sollen Felder mit einem bestimmten Wert, der von dem Wert des Enums abhängt, gefüllt werden, erfolgt die Übergabe der Parameter hinter dem Wert des Enums."
   ]
  },
  {
   "cell_type": "code",
   "execution_count": null,
   "id": "c7d9e4ca",
   "metadata": {
    "tags": []
   },
   "outputs": [],
   "source": [
    "enum class Wochentag (val nummer: Int){\n",
    "    MONTAG(1), DIENSTAG(2), MITTWOCH(3), DONNERSTAG(4), FREITAG(5), SAMSTAG(6), SONNTAG(7);\n",
    "    \n",
    "    val zufallszahl = (0..10).random()\n",
    "    \n",
    "    fun istWochenende() = if (this == SAMSTAG || this == SONNTAG) true else false\n",
    "}\n",
    "\n",
    "val montag = Wochentag.MONTAG\n",
    "println(\"Montag ist ein Tag des Wochenendes: ${montag.istWochenende()}, Nummer des Tags: ${montag.nummer}, Zufallszahl: ${montag.zufallszahl}\")\n",
    "val samstag = Wochentag.SAMSTAG\n",
    "println(\"Samstag ist ein Tag des Wochenendes: ${samstag.istWochenende()}, Nummer des Tags: ${samstag.nummer}, Zufallszahl: ${montag.zufallszahl}\")"
   ]
  }
 ],
 "metadata": {
  "kernelspec": {
   "display_name": "Kotlin",
   "language": "kotlin",
   "name": "kotlin"
  },
  "language_info": {
   "codemirror_mode": "text/x-kotlin",
   "file_extension": ".kt",
   "mimetype": "text/x-kotlin",
   "name": "kotlin",
   "nbconvert_exporter": "",
   "pygments_lexer": "kotlin",
   "version": "1.5.20-dev-5817"
  }
 },
 "nbformat": 4,
 "nbformat_minor": 5
}
