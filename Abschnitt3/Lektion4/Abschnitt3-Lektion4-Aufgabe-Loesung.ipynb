{
 "cells": [
  {
   "cell_type": "markdown",
   "id": "14d1598a",
   "metadata": {},
   "source": [
    "### Aufgabe - Monate\n",
    "Implementieren Sie eine Aufzählung `Monat`, die die 12 Monate eines Jahres enthält. Zusätzlich soll jedem Monat die Nummer im Feld `nummer` zugeordnet werden."
   ]
  },
  {
   "cell_type": "code",
   "execution_count": 1,
   "id": "215f9797",
   "metadata": {
    "execution": {
     "iopub.execute_input": "2021-06-01T17:05+0200",
     "iopub.status.busy": "2021-06-01T17:05+0200",
     "iopub.status.idle": "2021-06-01T17:06+0200",
     "shell.execute_reply": "2021-06-01T17:06+0200",
     "shell.execute_reply.started": "2021-06-01T17:05+0200"
    },
    "tags": []
   },
   "outputs": [
    {
     "name": "stdout",
     "output_type": "stream",
     "text": [
      "Richtig! Es traten keine Fehler auf.\n"
     ]
    }
   ],
   "source": [
    "//Lösung\n",
    "enum class Monat(val nummer: Int){\n",
    "    JANUAR(1), FEBRUAR(2), MAERZ(3), APRIL(4), MAI(5), JUNI(6), JULI(7), AUGUST(8), SEPTEMBER(9), OKTOBER(10), NOVEMBER(11), DEZEMBER(12)\n",
    "}\n",
    "\n",
    "//Test\n",
    "var fehler = 0\n",
    "try{\n",
    "    val januar = Monat.JANUAR\n",
    "    if(januar.nummer != 1){\n",
    "        fehler++\n",
    "        println(\"Fehler! Der Januar ist der 1. Monat im Kalenderjahr.\")\n",
    "    }\n",
    "    val februar = Monat.FEBRUAR\n",
    "    if(februar.nummer != 2){\n",
    "        fehler++\n",
    "        println(\"Fehler! Der Februar ist der 2. Monat im Kalenderjahr.\")\n",
    "    }\n",
    "    val maerz = Monat.MAERZ\n",
    "    if(maerz.nummer != 3){\n",
    "        fehler++\n",
    "        println(\"Fehler! Der März ist der 3. Monat im Kalenderjahr.\")\n",
    "    }\n",
    "    val april = Monat.APRIL\n",
    "    if(april.nummer != 4){\n",
    "        fehler++\n",
    "        println(\"Fehler! Der April ist der 4. Monat im Kalenderjahr.\")\n",
    "    }\n",
    "    val mai = Monat.MAI\n",
    "    if(mai.nummer != 5){\n",
    "        fehler++\n",
    "        println(\"Fehler! Der Mai ist der 5. Monat im Kalenderjahr.\")\n",
    "    }\n",
    "    val juni = Monat.JUNI\n",
    "    if(juni.nummer != 6){\n",
    "        fehler++\n",
    "        println(\"Fehler! Der Juni ist der 6. Monat im Kalenderjahr.\")\n",
    "    }\n",
    "    val juli = Monat.JULI\n",
    "    if(juli.nummer != 7){\n",
    "        fehler++\n",
    "        println(\"Fehler! Der Juli ist der 7. Monat im Kalenderjahr.\")\n",
    "    }\n",
    "    val august = Monat.AUGUST\n",
    "    if(august.nummer != 8){\n",
    "        fehler++\n",
    "        println(\"Fehler! Der August ist der 8. Monat im Kalenderjahr.\")\n",
    "    }\n",
    "    val september = Monat.SEPTEMBER\n",
    "    if(september.nummer != 9){\n",
    "        fehler++\n",
    "        println(\"Fehler! Der September ist der 9. Monat im Kalenderjahr.\")\n",
    "    }\n",
    "    val oktober = Monat.OKTOBER\n",
    "    if(oktober.nummer != 10){\n",
    "        fehler++\n",
    "        println(\"Fehler! Der Oktober ist der 10. Monat im Kalenderjahr.\")\n",
    "    }\n",
    "    val november = Monat.NOVEMBER\n",
    "    if(november.nummer != 11){\n",
    "        fehler++\n",
    "        println(\"Fehler! Der November ist der 11. Monat im Kalenderjahr.\")\n",
    "    }\n",
    "    val dezember = Monat.DEZEMBER\n",
    "    if(dezember.nummer != 12){\n",
    "        fehler++\n",
    "        println(\"Fehler! Der Dezember ist der 12. Monat im Kalenderjahr.\")\n",
    "    }\n",
    "}\n",
    "catch(e: Exception){\n",
    "    println(e)\n",
    "}\n",
    "\n",
    "if(fehler != 0)\n",
    "    println(\"Falsch! Es traten $fehler Fehler auf.\")\n",
    "else\n",
    "    println(\"Richtig! Es traten keine Fehler auf.\")"
   ]
  }
 ],
 "metadata": {
  "kernelspec": {
   "display_name": "Kotlin",
   "language": "kotlin",
   "name": "kotlin"
  },
  "language_info": {
   "codemirror_mode": "text/x-kotlin",
   "file_extension": ".kt",
   "mimetype": "text/x-kotlin",
   "name": "kotlin",
   "nbconvert_exporter": "",
   "pygments_lexer": "kotlin",
   "version": "1.6.20-dev-3702"
  }
 },
 "nbformat": 4,
 "nbformat_minor": 5
}
