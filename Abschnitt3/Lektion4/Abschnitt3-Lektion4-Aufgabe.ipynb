{
 "cells": [
  {
   "cell_type": "markdown",
   "id": "21553616",
   "metadata": {},
   "source": [
    "# Aufgabe - Monate\n",
    "Implementieren Sie eine Aufzählung `Monat`, die die 12 Monate eines Jahres enthält. Zusätzlich soll jedem Monat die Nummer im Feld `nummer` zugeordnet werden."
   ]
  },
  {
   "cell_type": "code",
   "execution_count": 1,
   "id": "bbc45c93",
   "metadata": {
    "execution": {
     "iopub.execute_input": "2021-06-01T17:04+0200",
     "iopub.status.busy": "2021-06-01T17:04+0200",
     "iopub.status.idle": "2021-06-01T17:04+0200"
    },
    "tags": []
   },
   "outputs": [
    {
     "name": "stderr",
     "output_type": "stream",
     "text": [
      "Line_0.jupyter-kts (6:18 - 23) Unresolved reference: Monat\n",
      "Line_0.jupyter-kts (11:19 - 24) Unresolved reference: Monat\n",
      "Line_0.jupyter-kts (16:17 - 22) Unresolved reference: Monat\n",
      "Line_0.jupyter-kts (21:17 - 22) Unresolved reference: Monat\n",
      "Line_0.jupyter-kts (26:15 - 20) Unresolved reference: Monat\n",
      "Line_0.jupyter-kts (31:16 - 21) Unresolved reference: Monat\n",
      "Line_0.jupyter-kts (36:16 - 21) Unresolved reference: Monat\n",
      "Line_0.jupyter-kts (41:18 - 23) Unresolved reference: Monat\n",
      "Line_0.jupyter-kts (46:21 - 26) Unresolved reference: Monat\n",
      "Line_0.jupyter-kts (51:19 - 24) Unresolved reference: Monat\n",
      "Line_0.jupyter-kts (56:20 - 25) Unresolved reference: Monat\n",
      "Line_0.jupyter-kts (61:20 - 25) Unresolved reference: Monat"
     ]
    }
   ],
   "source": [
    "//TODO\n",
    "\n",
    "//Test\n",
    "var fehler = 0\n",
    "try{\n",
    "    val januar = Monat.JANUAR\n",
    "    if(januar.nummer != 1){\n",
    "        fehler++\n",
    "        println(\"Fehler! Der Januar ist der 1. Monat im Kalenderjahr.\")\n",
    "    }\n",
    "    val februar = Monat.FEBRUAR\n",
    "    if(februar.nummer != 2){\n",
    "        fehler++\n",
    "        println(\"Fehler! Der Februar ist der 2. Monat im Kalenderjahr.\")\n",
    "    }\n",
    "    val maerz = Monat.MAERZ\n",
    "    if(maerz.nummer != 3){\n",
    "        fehler++\n",
    "        println(\"Fehler! Der März ist der 3. Monat im Kalenderjahr.\")\n",
    "    }\n",
    "    val april = Monat.APRIL\n",
    "    if(april.nummer != 4){\n",
    "        fehler++\n",
    "        println(\"Fehler! Der April ist der 4. Monat im Kalenderjahr.\")\n",
    "    }\n",
    "    val mai = Monat.MAI\n",
    "    if(mai.nummer != 5){\n",
    "        fehler++\n",
    "        println(\"Fehler! Der Mai ist der 5. Monat im Kalenderjahr.\")\n",
    "    }\n",
    "    val juni = Monat.JUNI\n",
    "    if(juni.nummer != 6){\n",
    "        fehler++\n",
    "        println(\"Fehler! Der Juni ist der 6. Monat im Kalenderjahr.\")\n",
    "    }\n",
    "    val juli = Monat.JULI\n",
    "    if(juli.nummer != 7){\n",
    "        fehler++\n",
    "        println(\"Fehler! Der Juli ist der 7. Monat im Kalenderjahr.\")\n",
    "    }\n",
    "    val august = Monat.AUGUST\n",
    "    if(august.nummer != 8){\n",
    "        fehler++\n",
    "        println(\"Fehler! Der August ist der 8. Monat im Kalenderjahr.\")\n",
    "    }\n",
    "    val september = Monat.SEPTEMBER\n",
    "    if(september.nummer != 9){\n",
    "        fehler++\n",
    "        println(\"Fehler! Der September ist der 9. Monat im Kalenderjahr.\")\n",
    "    }\n",
    "    val oktober = Monat.OKTOBER\n",
    "    if(oktober.nummer != 10){\n",
    "        fehler++\n",
    "        println(\"Fehler! Der Oktober ist der 10. Monat im Kalenderjahr.\")\n",
    "    }\n",
    "    val november = Monat.NOVEMBER\n",
    "    if(november.nummer != 11){\n",
    "        fehler++\n",
    "        println(\"Fehler! Der November ist der 11. Monat im Kalenderjahr.\")\n",
    "    }\n",
    "    val dezember = Monat.DEZEMBER\n",
    "    if(dezember.nummer != 12){\n",
    "        fehler++\n",
    "        println(\"Fehler! Der Dezember ist der 12. Monat im Kalenderjahr.\")\n",
    "    }\n",
    "}\n",
    "catch(e: Exception){\n",
    "    println(e)\n",
    "}\n",
    "\n",
    "if(fehler != 0)\n",
    "    println(\"Falsch! Es traten $fehler Fehler auf.\")\n",
    "else\n",
    "    println(\"Richtig! Es traten keine Fehler auf.\")"
   ]
  }
 ],
 "metadata": {
  "kernelspec": {
   "display_name": "Kotlin",
   "language": "kotlin",
   "name": "kotlin"
  },
  "language_info": {
   "codemirror_mode": "text/x-kotlin",
   "file_extension": ".kt",
   "mimetype": "text/x-kotlin",
   "name": "kotlin",
   "nbconvert_exporter": "",
   "pygments_lexer": "kotlin",
   "version": "1.5.20-dev-5817"
  }
 },
 "nbformat": 4,
 "nbformat_minor": 5
}
