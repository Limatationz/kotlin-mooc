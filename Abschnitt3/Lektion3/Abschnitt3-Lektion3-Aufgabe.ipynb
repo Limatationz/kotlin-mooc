{
 "cells": [
  {
   "cell_type": "markdown",
   "id": "66c1ee11",
   "metadata": {},
   "source": [
    "# Aufgabe - Nummernschilder\n",
    "Implementieren Sie eine Klasse `Auto`, die drei Felder besitzt: die `ps` (`Int`), eine `farbe` (`String`) und ein `nummernschild` (`String`). Die Nummernschilder sollen der Einfachheit nach dem Format *(A-Z)(A-Z)-(1-9)(0-9)* vergeben werden. Jedes ist einzigartig. Verwenden Sie für die Umsetzung ein `companion object`, das ein Feld, in dem alle vergebenen Nummernschilder gespeichert werden, besitzt. Fügen Sie dem Objekt zusätzlich eine Funktion hinzu, die ein noch nicht vergebenes Schild generiert. Das Suchen nach einem passenden Nummernschild kann per Brute-Force erfolgen. Auf die Laufzeit muss nicht geachtet werden."
   ]
  },
  {
   "cell_type": "code",
   "execution_count": 20,
   "id": "70f810d2",
   "metadata": {
    "execution": {
     "iopub.execute_input": "2021-05-31T09:20+0200",
     "iopub.status.busy": "2021-05-31T09:20+0200",
     "iopub.status.idle": "2021-05-31T09:20+0200",
     "shell.execute_reply": "2021-05-31T09:20+0200",
     "shell.execute_reply.started": "2021-05-31T09:20+0200"
    }
   },
   "outputs": [
    {
     "name": "stdout",
     "output_type": "stream",
     "text": [
      "Super! Alle Nummernschilder sind einzigartig.\n"
     ]
    }
   ],
   "source": [
    "//TODO\n",
    "\n",
    "//Test\n",
    "val autos = MutableList(100) { Auto ((60..300).random(), \"weiß\") }\n",
    "val nummernschilder = mutableListOf<String>()\n",
    "for (auto in autos){\n",
    "    nummernschilder.add(auto.nummernschild)\n",
    "}\n",
    "if (nummernschilder.size == nummernschilder.toSet().size){\n",
    "    println(\"Super! Alle Nummernschilder sind einzigartig.\")\n",
    "}\n",
    "else {\n",
    "    println(\"Falsch! Es wurden Nummernschilder mehrfach vergeben.\")\n",
    "}"
   ]
  }
 ],
 "metadata": {
  "kernelspec": {
   "display_name": "Kotlin",
   "language": "kotlin",
   "name": "kotlin"
  },
  "language_info": {
   "codemirror_mode": "text/x-kotlin",
   "file_extension": ".kt",
   "mimetype": "text/x-kotlin",
   "name": "kotlin",
   "nbconvert_exporter": "",
   "pygments_lexer": "kotlin",
   "version": "1.5.20-dev-5817"
  }
 },
 "nbformat": 4,
 "nbformat_minor": 5
}
