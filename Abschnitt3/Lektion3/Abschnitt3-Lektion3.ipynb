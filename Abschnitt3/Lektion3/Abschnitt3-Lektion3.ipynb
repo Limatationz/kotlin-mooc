{
 "cells": [
  {
   "cell_type": "markdown",
   "id": "1ff5d8c0",
   "metadata": {},
   "source": [
    "<img src=\"../images/Lektion3.png\" style=\"margin: 20px 0px 20px 0px\"/>\n",
    "<h2 style=\"display:none\">Lektion 3 - Objekte</h2>\n",
    "\n",
    "\n",
    "Eine Besonderheit von Kotlin ist, dass nicht jedes Objekt eine Klasse benötigt. Dadurch kann beispielsweise ein statisches Feld simuliert oder unkompliziert mehrere Daten an einem Ort zusammengefasst werden.\n",
    "### Ad-hoc Objekte\n",
    "Mit sogeannten Ad-hoc Objekten können Daten ähnlich einer Map komprimiert werden. Es kann ein Objekt erzeugt werden, ohne vorher eine Klasse angelegt zu haben. Dies ist mit dem Schlüsselwort `object` einzuleiten. Wie auch einer Klasse können dem Ad-hoch Objekt Felder zugewiesen werden."
   ]
  },
  {
   "cell_type": "code",
   "execution_count": 1,
   "id": "664024c3",
   "metadata": {
    "execution": {
     "iopub.execute_input": "2021-06-01T16:59+0200",
     "iopub.status.busy": "2021-06-01T16:59+0200",
     "iopub.status.idle": "2021-06-01T16:59+0200",
     "shell.execute_reply": "2021-06-01T16:59+0200",
     "shell.execute_reply.started": "2021-06-01T16:59+0200"
    },
    "tags": []
   },
   "outputs": [
    {
     "name": "stdout",
     "output_type": "stream",
     "text": [
      "Das Subjekt des Satzes Kotlin ist eine Programmiersprache ist Kotlin.\n"
     ]
    }
   ],
   "source": [
    "private val satz = object {\n",
    "    val subjekt = \"Kotlin\"\n",
    "    val praedikat = \"ist\"\n",
    "    val objekt = \"Programmiersprache\"\n",
    "    val vollstaendig = \"Kotlin ist eine Programmiersprache\"\n",
    "}\n",
    "\n",
    "println(\"Das Subjekt des Satzes ${satz.vollstaendig} ist ${satz.subjekt}.\")"
   ]
  },
  {
   "cell_type": "markdown",
   "id": "2c5f5d30",
   "metadata": {},
   "source": [
    "### Singletons\n",
    "Singletons sind Objekte, die nur ein Mal erzeugt werden können und bis zum Ende der Ausführung bestehen. Ein solches Objekt wird mit dem Schlüsselwort `object` gekennzeichnet und kann nicht einer Variable zugewiesen werden, da es erst bei der ersten Benutzung erzeugt wird. Deshalb kann es auch nicht erzeugt werden. Die Erzeugung erfolgt automatisch beim ersten Aufruf, der in der Punktnotation mit dem Namen des Singletons erfolgt. Ein Singleton kann aus Feldern und Methoden bestehen. Ein Konstruktor kann jedoch nicht angewendet werden, da die Erzeugung ohne Übergabeparameter stattfindet."
   ]
  },
  {
   "cell_type": "code",
   "execution_count": 2,
   "id": "51bcb395",
   "metadata": {
    "execution": {
     "iopub.execute_input": "2021-06-01T16:59+0200",
     "iopub.status.busy": "2021-06-01T16:59+0200",
     "iopub.status.idle": "2021-06-01T16:59+0200",
     "shell.execute_reply": "2021-06-01T16:59+0200",
     "shell.execute_reply.started": "2021-06-01T16:59+0200"
    },
    "tags": []
   },
   "outputs": [
    {
     "name": "stdout",
     "output_type": "stream",
     "text": [
      "Berechnung ohne Singleton: 15\n",
      "Singleton Rechner wurde erzeugt.\n",
      "Berechnung mit Singleton: 15\n",
      "Zufallszahl des Singletons: 6\n"
     ]
    }
   ],
   "source": [
    "object Rechner {\n",
    "    val zahl: Int\n",
    "    init {\n",
    "        println(\"Singleton Rechner wurde erzeugt.\")\n",
    "        zahl = (0..10).random()\n",
    "    }\n",
    "    \n",
    "    fun addieren(a: Int, b: Int) = a + b\n",
    "}\n",
    "\n",
    "val a = 5\n",
    "val b = 10\n",
    "println(\"Berechnung ohne Singleton: ${a+b}\")\n",
    "println(\"Berechnung mit Singleton: ${Rechner.addieren(a,b)}\")\n",
    "println(\"Zufallszahl des Singletons: ${Rechner.zahl}\")"
   ]
  },
  {
   "cell_type": "markdown",
   "id": "b1b6f9f8",
   "metadata": {},
   "source": [
    "### Companion Objekte\n",
    "Einer Klasse können sogenannte Companion Objekte angehängt werden. Diese sind für alle Objekte der Klasse gleich und ähneln somit statischen Variablen oder Methoden. Sie können nur in einer Klasse implementiert werden und besitzen das Schlüsselwort `companion object`. Im Hintergrund ist ein solches Konstrukt nichts weiter als ein Singleton einer Klasse, das alle Objekte verwenden können. In dem Objekt können Felder und Methoden implementiert werden.  \n",
    "Anstelle eines Companion Objects könnte auch eine Top-Level-Variable verwendet werden. Jedoch läge dort kein Zusammenhang zwischen den Klassen vor und die Variable könnte auch von anderen Objekten verändert werden."
   ]
  },
  {
   "cell_type": "code",
   "execution_count": 3,
   "id": "94858901",
   "metadata": {
    "execution": {
     "iopub.execute_input": "2021-06-01T16:59+0200",
     "iopub.status.busy": "2021-06-01T16:59+0200",
     "iopub.status.idle": "2021-06-01T16:59+0200",
     "shell.execute_reply": "2021-06-01T16:59+0200",
     "shell.execute_reply.started": "2021-06-01T16:59+0200"
    },
    "tags": []
   },
   "outputs": [
    {
     "name": "stdout",
     "output_type": "stream",
     "text": [
      "Die Marikelnummer von Max ist 0.\n",
      "Die Marikelnummer von Anna ist 1.\n",
      "Die Marikelnummer von Simon ist 2.\n",
      "Die Marikelnummer von Sophie ist 3.\n"
     ]
    }
   ],
   "source": [
    "class Student(val name: String, var alter: Int){\n",
    "    companion object { //Umsetzung in Java: public static int zaehler = 0\n",
    "        var zaehler = 0\n",
    "            get() = field++\n",
    "    }\n",
    "    \n",
    "    var matrikelnummer: Int\n",
    "    \n",
    "    init {\n",
    "        matrikelnummer = zaehler //Umsetzung in Java: matrikelnummer = zaehler++\n",
    "    }\n",
    "}\n",
    "\n",
    "val s1 = Student (\"Max\", 21)\n",
    "val s2 = Student (\"Anna\", 25)\n",
    "val s3 = Student (\"Simon\", 26)\n",
    "val s4 = Student (\"Sophie\", 19)\n",
    "println(\"Die Marikelnummer von ${s1.name} ist ${s1.matrikelnummer}.\")\n",
    "println(\"Die Marikelnummer von ${s2.name} ist ${s2.matrikelnummer}.\")\n",
    "println(\"Die Marikelnummer von ${s3.name} ist ${s3.matrikelnummer}.\")\n",
    "println(\"Die Marikelnummer von ${s4.name} ist ${s4.matrikelnummer}.\")"
   ]
  },
  {
   "cell_type": "markdown",
   "id": "982d9581",
   "metadata": {},
   "source": [
    "Falls in einer Klasse mehrere Companion Objekte gewünscht werden, ist ab dem Zweiten das Schlüsselwort `companion` wegzulassen und außerdem ein Name anzugeben. Außerhalb der Klasse kann auf das Objekt nur durch die Klasse und nicht mit einem Objekt der Klasse zugegriffen werden."
   ]
  },
  {
   "cell_type": "code",
   "execution_count": 4,
   "id": "6d05b5e0",
   "metadata": {
    "execution": {
     "iopub.execute_input": "2021-06-01T16:59+0200",
     "iopub.status.busy": "2021-06-01T16:59+0200",
     "iopub.status.idle": "2021-06-01T16:59+0200",
     "shell.execute_reply": "2021-06-01T16:59+0200",
     "shell.execute_reply.started": "2021-06-01T16:59+0200"
    },
    "tags": []
   },
   "outputs": [
    {
     "name": "stdout",
     "output_type": "stream",
     "text": [
      "Die Nummer des Standard Companion Objects ist 1.\n",
      "Die Nummer des Companion Objects Zwei ist 2.\n",
      "Die Nummer des Companion Objects Drei ist 3.\n",
      "Es ist aktuell 16:59:41.380697 Uhr.\n"
     ]
    }
   ],
   "source": [
    "import java.time.LocalTime\n",
    "\n",
    "class Zahlen(){\n",
    "    companion object {\n",
    "        var nummer = 1\n",
    "            get() = field\n",
    "    }\n",
    "    object Zwei {\n",
    "        var nummer = 2\n",
    "    }\n",
    "    object Drei {\n",
    "        var nummer = 3\n",
    "    }\n",
    "    object Zeit {\n",
    "        fun gibZeit() = LocalTime.now()\n",
    "    }\n",
    "}\n",
    "\n",
    "println(\"Die Nummer des Standard Companion Objects ist ${Zahlen.nummer}.\")\n",
    "println(\"Die Nummer des Companion Objects Zwei ist ${Zahlen.Zwei.nummer}.\")\n",
    "println(\"Die Nummer des Companion Objects Drei ist ${Zahlen.Drei.nummer}.\")\n",
    "println(\"Es ist aktuell ${Zahlen.Zeit.gibZeit()} Uhr.\")\n",
    "\n",
    "val zwei = Zahlen()\n",
    "//println(zwei.Zwei.nummer) -> Fehler: Nested object 'Zwei' accessed via instance reference"
   ]
  }
 ],
 "metadata": {
  "kernelspec": {
   "display_name": "Kotlin",
   "language": "kotlin",
   "name": "kotlin"
  },
  "language_info": {
   "codemirror_mode": "text/x-kotlin",
   "file_extension": ".kt",
   "mimetype": "text/x-kotlin",
   "name": "kotlin",
   "nbconvert_exporter": "",
   "pygments_lexer": "kotlin",
   "version": "1.5.20-dev-5817"
  }
 },
 "nbformat": 4,
 "nbformat_minor": 5
}
