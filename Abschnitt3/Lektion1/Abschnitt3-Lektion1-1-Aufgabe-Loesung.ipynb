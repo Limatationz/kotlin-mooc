{
 "cells": [
  {
   "cell_type": "markdown",
   "id": "32f26249",
   "metadata": {},
   "source": [
    "# Aufgabe - Pizzaria Kotlin\n",
    "Implementieren Sie eine Klasse `Pizza`. Jede Pizza soll eine Größe `groeße` (zwischen 15 und 30 [cm], ansonsten -1) und eine Liste aus Belägen `belaege` (Standardmäßig bereits mit Tomatensoße und Käse befüllt) enthalten. Außerdem soll gespeichert werden, ob sie geschnitten `geschnitten` werden soll. Wählen Sie einen passenden primären Konstruktor, der für jedes Feld einen Übergabeparameter besitzt. Fügen Sie außerdem weitere (sekundäre) Konstruktoren hinzu, die eine Pizza Magaritha (Tomatensoße, Mozzarella) und eine 25cm Pizza al Tonno (Tomatensoße, Mozzarella, Thunfisch, Zwiebeln, Peperoni) initialisieren. Beide Pizzen sollen geschnitten werden."
   ]
  },
  {
   "cell_type": "code",
   "execution_count": 11,
   "id": "709a1f99",
   "metadata": {
    "execution": {
     "iopub.execute_input": "2021-05-30T21:00+0200",
     "iopub.status.busy": "2021-05-30T21:00+0200",
     "iopub.status.idle": "2021-05-30T21:00+0200",
     "shell.execute_reply": "2021-05-30T21:00+0200",
     "shell.execute_reply.started": "2021-05-30T21:00+0200"
    },
    "tags": []
   },
   "outputs": [
    {
     "name": "stdout",
     "output_type": "stream",
     "text": [
      "Super! Alle Tests bestanden!\n"
     ]
    }
   ],
   "source": [
    "//Lösung\n",
    "class Pizza (groeße: Int, belaege: List<String>, geschnitten: Boolean){\n",
    "    val groeße: Int\n",
    "    val belaege: MutableList<String>\n",
    "    val geschnitten: Boolean\n",
    "    \n",
    "    init {\n",
    "        this.groeße = if (15 <= groeße && groeße <= 30) groeße else -1\n",
    "        this.belaege = mutableListOf(\"Tomatensoße\", \"Mozzarella\")\n",
    "        this.belaege += belaege\n",
    "        this.geschnitten = geschnitten\n",
    "    }\n",
    "    \n",
    "    constructor (groeße: Int) : this(groeße, emptyList(), true) //Pizza Magaritha\n",
    "    constructor () : this(25, listOf(\"Thunfisch\", \"Zwiebeln\", \"Peperoni\"), true) //Pizza al Tonno\n",
    "}\n",
    "\n",
    "//Tests\n",
    "var fehler = 0\n",
    "val test1 = Pizza(25, listOf(\"Schinken\"), false)\n",
    "if( test1.groeße != 25 || test1.belaege != listOf(\"Tomatensoße\", \"Mozzarella\", \"Schinken\") || test1.geschnitten != false ){\n",
    "    fehler++\n",
    "    println(\"Fehler bei Test 1! Richtig wäre: Größe 25, Beläge [Tomatensoße, Mozzarella, Schinken], Geschnitten false \\n  Ist: Größe ${test1.groeße}, Beläge ${test1.belaege}, Geschnitten ${test1.geschnitten}\")\n",
    "}\n",
    "val test2 = Pizza(31, listOf(\"Schinken\"), false)\n",
    "if( test2.groeße != -1 || test2.belaege != listOf(\"Tomatensoße\", \"Mozzarella\", \"Schinken\") || test2.geschnitten != false ){\n",
    "    fehler++\n",
    "    println(\"Fehler bei Test 2! Richtig wäre: Größe -1, Beläge [Tomatensoße, Mozzarella, Schinken], Geschnitten false \\n  Ist: Größe ${test2.groeße}, Beläge ${test2.belaege}, Geschnitten ${test2.geschnitten}\")\n",
    "}\n",
    "val test3 = Pizza(14, listOf(\"Schinken\"), false)\n",
    "if( test3.groeße != -1 || test3.belaege != listOf(\"Tomatensoße\", \"Mozzarella\", \"Schinken\") || test3.geschnitten != false ){\n",
    "    fehler++\n",
    "    println(\"Fehler bei Test 3! Richtig wäre: Größe -1, Beläge [Tomatensoße, Mozzarella, Schinken], Geschnitten false \\n  Ist: Größe ${test3.groeße}, Beläge ${test3.belaege}, Geschnitten ${test3.geschnitten}\")\n",
    "}\n",
    "val test4 = Pizza(31, listOf(\"Schinken\"), false)\n",
    "if( test4.groeße != -1 || test4.belaege != listOf(\"Tomatensoße\", \"Mozzarella\", \"Schinken\") || test4.geschnitten != false ){\n",
    "    fehler++\n",
    "    println(\"Fehler bei Test 4! Richtig wäre: Größe -1, Beläge [Tomatensoße, Mozzarella, Schinken], Geschnitten false \\n  Ist: Größe ${test4.groeße}, Beläge ${test4.belaege}, Geschnitten ${test4.geschnitten}\")\n",
    "}\n",
    "val test5 = Pizza(28, emptyList(), true)\n",
    "if( test5.groeße != 28 || test5.belaege != listOf(\"Tomatensoße\", \"Mozzarella\") || test5.geschnitten != true ){\n",
    "    fehler++\n",
    "    println(\"Fehler bei Test 5! Richtig wäre: Größe 28, Beläge [Tomatensoße, Mozzarella], Geschnitten true \\n  Ist: Größe ${test5.groeße}, Beläge ${test5.belaege}, Geschnitten ${test5.geschnitten}\")\n",
    "}\n",
    "val test6 = Pizza(15)\n",
    "if( test6.groeße != 15 || test6.belaege != listOf(\"Tomatensoße\", \"Mozzarella\") || test6.geschnitten != true ){\n",
    "    fehler++\n",
    "    println(\"Fehler bei Test 6! Richtig wäre: Größe 15, Beläge [Tomatensoße, Mozzarella], Geschnitten true \\n  Ist: Größe ${test6.groeße}, Beläge ${test6.belaege}, Geschnitten ${test6.geschnitten}\")\n",
    "}\n",
    "val test7 = Pizza()\n",
    "if( test7.groeße != 25 || test7.belaege != listOf(\"Tomatensoße\", \"Mozzarella\", \"Thunfisch\", \"Zwiebeln\", \"Peperoni\") || test7.geschnitten != true ){\n",
    "    fehler++\n",
    "    println(\"Fehler bei Test 7! Richtig wäre: Größe 25, Beläge [Tomatensoße, Mozzarella, Thunfisch, Zwiebeln, Peperoni], Geschnitten false \\n  Ist: Größe ${test7.groeße}, Beläge ${test7.belaege}, Geschnitten ${test7.geschnitten}\")\n",
    "}\n",
    "if(fehler == 0)\n",
    "    println(\"Super! Alle Tests bestanden!\")\n",
    "else\n",
    "    println(\"Bei $fehler Tests kamen Fehler auf.\")"
   ]
  }
 ],
 "metadata": {
  "kernelspec": {
   "display_name": "Kotlin",
   "language": "kotlin",
   "name": "kotlin"
  },
  "language_info": {
   "codemirror_mode": "text/x-kotlin",
   "file_extension": ".kt",
   "mimetype": "text/x-kotlin",
   "name": "kotlin",
   "nbconvert_exporter": "",
   "pygments_lexer": "kotlin",
   "version": "1.5.20-dev-5817"
  }
 },
 "nbformat": 4,
 "nbformat_minor": 5
}
