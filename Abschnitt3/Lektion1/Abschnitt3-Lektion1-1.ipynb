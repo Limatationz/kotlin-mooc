{
 "cells": [
  {
   "cell_type": "markdown",
   "id": "6b23caf4",
   "metadata": {
    "tags": []
   },
   "source": [
    "<img src=\"../images/Lektion1.png\" style=\"margin: 20px 0px 20px 0px\"/>\n",
    "<h2 style=\"display:none\">Lektion 1 - Klassen</h2>\n",
    "\n",
    "Aufgrund der Interoperabilität mit Java ist auch Kotlin eine objektorientierte Sprache. Infolgedessen werden im Hintergrund alle Daten als Objekte behandelt. In Kotlin sind die bekannten objektorientierten Konzepte vorhanden, jedoch wurden diese angepasst und teilweise auch vereinfacht. Dazu ein Einführungsbeispiel. Es soll eine Klasse `Person` implementiert werden, die zwei Felder besitzt: `name` vom Typ `String`, das nur bei Objekterzeugung gesetzt wird, und `alter` vom Typ `Int`, das immer verändert werden kann.\n",
    "\n",
    "\n",
    "<table style=\"font-size:16px\">\n",
    "<thead>\n",
    "  <tr>\n",
    "    <th style=\"font-size:16px\">Kotlin</th>\n",
    "    <th style=\"font-size:16px\">Java</th>\n",
    "  </tr>\n",
    "</thead>\n",
    "<tbody>\n",
    "  <tr>\n",
    "    <td style=\"font-size:16px\"><code>class Person (val name: String, var alter: Int)</code></td>\n",
    "    <td style=\"font-size:16px\"><code>public class Person{<br>&nbsp;&nbsp;&nbsp;&nbsp;private String name;<br>&nbsp;&nbsp;&nbsp;&nbsp;private int alter;<br>&nbsp;&nbsp;&nbsp;&nbsp;public Person(String name, int alter){<br>&nbsp;&nbsp;&nbsp;&nbsp;&nbsp;&nbsp;&nbsp;&nbsp;this.name = name<br>&nbsp;&nbsp;&nbsp;&nbsp;&nbsp;&nbsp;&nbsp;&nbsp;this.alter = alter<br>&nbsp;&nbsp;&nbsp;&nbsp;}<br>&nbsp;&nbsp;&nbsp;&nbsp;public String gibName(){<br>&nbsp;&nbsp;&nbsp;&nbsp;&nbsp;&nbsp;&nbsp;&nbsp;return name;<br>&nbsp;&nbsp;&nbsp;&nbsp;}<br>&nbsp;&nbsp;&nbsp;&nbsp;public String gibAlter(){<br>&nbsp;&nbsp;&nbsp;&nbsp;&nbsp;&nbsp;&nbsp;&nbsp;return alter;<br>&nbsp;&nbsp;&nbsp;&nbsp;}<br>&nbsp;&nbsp;&nbsp;&nbsp;public String setzeAlter(int alter){<br>&nbsp;&nbsp;&nbsp;&nbsp;&nbsp;&nbsp;&nbsp;&nbsp;this.alter = alter;<br>&nbsp;&nbsp;&nbsp;&nbsp;}<br>}<br></code></td>\n",
    "  </tr>\n",
    "</tbody>\n",
    "</table>"
   ]
  },
  {
   "cell_type": "code",
   "execution_count": 1,
   "id": "43ea7273",
   "metadata": {
    "execution": {
     "iopub.execute_input": "2021-05-30T21:00+0200",
     "iopub.status.busy": "2021-05-30T21:00+0200",
     "iopub.status.idle": "2021-05-30T21:00+0200",
     "shell.execute_reply": "2021-05-30T21:00+0200",
     "shell.execute_reply.started": "2021-05-30T21:00+0200"
    },
    "tags": []
   },
   "outputs": [
    {
     "name": "stdout",
     "output_type": "stream",
     "text": [
      "Person p1: Line_0$Person@333097bc\n",
      "Name: Max Mustermann, Alter: 21\n"
     ]
    }
   ],
   "source": [
    "class Person (val name: String, var alter: Int)\n",
    "\n",
    "val p1 = Person(\"Max Mustermann\", 21)\n",
    "println(\"Person p1: $p1\")\n",
    "println(\"Name: ${p1.name}, Alter: ${p1.alter}\")"
   ]
  },
  {
   "cell_type": "markdown",
   "id": "0fa15dbf",
   "metadata": {},
   "source": [
    "Es ist zu erkennen, dass der Code in Kotlin deutlich kürzer und übersichtlicher ist.  \n",
    "Der Kopf einer Klasse wird mit dem Schlüsselwort `class` eingeleitet, gefolgt von dem Namen. Die Parameter werden nach diesem in runden Klammern angegeben. Erzeugt werden kann die Klasse, wie aus Java gewohnt, mit der Nennung des Namens der Klasse, sowie dem Aufruf eines Konstruktors. In den runden Klammern sind die erforderlichen Argumente für die Objekterzeugung zu finden.\n",
    "\n",
    "### Felder\n",
    "Felder können Klassen auf verschiedene Weisen hinzugefügt werden. Die erste Möglichkeit ist durch die Übergabeparameter der Klasse. Diese entsprechen den Parametern des Konstruktors und sind im Kopf der Klasse angesiedelt. Wird diesen bei öffentlicher Sichtbarkeit ein Variablentyp (`val` oder `var`) zugewiesen, werden die Parameter zu Feldern umgewandelt. Das heißt, es wird im Hintergrund ein Feld mit dem Namen des Parameters angelegt, das bei Objekterzeugung mit dem Wert des Übergabeparameters gefüllt wird. Außerdem wird immer ein *unsichtbarer* Standard-Getter erzeugt. Wird dem Parameter `var` zugeordnet, fügt der Compiler zusätzlich einen rudimentären Setter hinzu."
   ]
  },
  {
   "cell_type": "code",
   "execution_count": 2,
   "id": "bf26e0db",
   "metadata": {
    "execution": {
     "iopub.execute_input": "2021-05-30T21:00+0200",
     "iopub.status.busy": "2021-05-30T21:00+0200",
     "iopub.status.idle": "2021-05-30T21:00+0200",
     "shell.execute_reply": "2021-05-30T21:00+0200",
     "shell.execute_reply.started": "2021-05-30T21:00+0200"
    },
    "tags": []
   },
   "outputs": [
    {
     "name": "stdout",
     "output_type": "stream",
     "text": [
      "Marke von a1: BMW, Farbe von a1: Gelb.\n",
      "Farbe von a1 nach Umlackierung: Rot.\n"
     ]
    }
   ],
   "source": [
    "class Auto (\n",
    "    val marke: String, //Es wird ein Feld mit dem Namen marke und ein Getter hinzugefügt und bei Erzeugung mit dem übergebenen Wert gefüllt.\n",
    "    var farbe: String, //Es wird ein Feld mit dem Namen farbe und einem Getter sowie Setter hinzugefügt und bei Erzeugung mit dem übergebenen Wert gefüllt.\n",
    "    ps: Int //Dies ist lediglich ein Übergabeparameter, der im Konstruktor verwendet werden kann.\n",
    ")\n",
    "\n",
    "val a1 = Auto (\"BMW\", \"Gelb\", 220)\n",
    "println(\"Marke von a1: ${a1.marke}, Farbe von a1: ${a1.farbe}.\") //Benutzung der Getter von marke und farbe\n",
    "//println(a1.ps) -> Error, da ps kein Feld sondern nur ein Übergabeparameter ist\n",
    "//a1.marke = \"Audi\" -> Error, da das Feld marke nicht verändert werden kann und auch keinen Setter besitzt\n",
    "a1.farbe = \"Rot\" //Aufruf des Setters von farbe. Das Feld farbe kann verändert werden, da ein Setter vorhanden ist und das Feld den Typ var besitzt\n",
    "println(\"Farbe von a1 nach Umlackierung: ${a1.farbe}.\")"
   ]
  },
  {
   "cell_type": "markdown",
   "id": "bc84dfb3",
   "metadata": {},
   "source": [
    "Eine weitere Möglichkeit Felder zu definieren ist klassisch im Rumpf der Klasse. Diese werden jedoch nicht automatisch bei Objekterzeugung, sondern mit den angegebenen Standardwerten befüllt. Des Weiteren wird auch diesen Feldern, je nach Typ, im Hintergrund ein Getter und Setter bei Seite gestellt."
   ]
  },
  {
   "cell_type": "code",
   "execution_count": 3,
   "id": "23744902",
   "metadata": {
    "execution": {
     "iopub.execute_input": "2021-05-30T21:00+0200",
     "iopub.status.busy": "2021-05-30T21:00+0200",
     "iopub.status.idle": "2021-05-30T21:00+0200",
     "shell.execute_reply": "2021-05-30T21:00+0200",
     "shell.execute_reply.started": "2021-05-30T21:00+0200"
    },
    "tags": []
   },
   "outputs": [
    {
     "name": "stdout",
     "output_type": "stream",
     "text": [
      "Marke von c1: Fuhitsu, ist c1 an?: false.\n",
      "Ist c1 an?: true\n"
     ]
    }
   ],
   "source": [
    "class Computer (){\n",
    "    val marke: String = \"Fuhitsu\"\n",
    "    var istAn: Boolean = false\n",
    "}\n",
    "\n",
    "val c1 = Computer ()\n",
    "println(\"Marke von c1: ${c1.marke}, ist c1 an?: ${c1.istAn}.\") //Benutzung der Getter von marke und istAn\n",
    "//c1.marke = \"LD\" -> Error, da das Feld marke nicht verändert werden kann und keinen Setter besitzt\n",
    "c1.istAn = true //Aufruf des Setters von istAn. Das Feld istAn kann verändert werden, da ein Setter vorhanden und das Feld vom Typ var ist\n",
    "println(\"Ist c1 an?: ${c1.istAn}\")"
   ]
  },
  {
   "cell_type": "markdown",
   "id": "42e8728f",
   "metadata": {},
   "source": [
    "### Konstruktor\n",
    "Mit dem Konstruktor können die Felder bei Objekterzeugung mit Werten bestückt werden. Aufgrund des *Konstruktorwirrars* in Java, unterscheidet Kotlin zwischen zwei verschiedenenen Arten:\n",
    "* primärer Konstruktor: Dieser Konstruktor muss mindestens ein Mal in jeder Klasse enthalten sein. Falls er nicht explizit definiert wurde, wird ein automatisch generierter Konstruktor implizit hinzugefügt.\n",
    "* sekundärer Konstruktor: Eine Anweisung, die auf einen primären Konstruktor verweist und eine alternative Handhabung des primären Konstruktors ermöglicht.\n",
    "\n",
    "#### Primärer Konstruktor\n",
    "Der primäre Konstruktor ist für die eigentliche Erzeugung der Objekte zuständig und besitzt drei verschiedene Erscheinungsformen:\n",
    "<ul>\n",
    "    <li>Defaultkonstruktor</li>\n",
    "    <li>Konstruktor mit <code>init</code>-Block</li>\n",
    "    <li>Konstruktor durch direkte Zuweisung</li>\n",
    "</ul>\n",
    "\n",
    "Im Folgenden wird auf alle Arten Bezug genommen und im Anschluss ein Vergleich angestellt.\n",
    "##### Defaultkonstruktor\n",
    "Der Defaultkonstruktor wurde bereits bei den [Feldern](#Felder) kennengelernt. Dieser wird vom Compiler für alle Parameter, denen ein Variablentyp zugewiesen wurde, generiert.  "
   ]
  },
  {
   "cell_type": "code",
   "execution_count": 4,
   "id": "5ca9382d",
   "metadata": {
    "execution": {
     "iopub.execute_input": "2021-05-30T21:00+0200",
     "iopub.status.busy": "2021-05-30T21:00+0200",
     "iopub.status.idle": "2021-05-30T21:00+0200",
     "shell.execute_reply": "2021-05-30T21:00+0200",
     "shell.execute_reply.started": "2021-05-30T21:00+0200"
    },
    "tags": []
   },
   "outputs": [
    {
     "name": "stdout",
     "output_type": "stream",
     "text": [
      "Die Flasche mit der Farbe Grau ist zu 20% gefüllt.\n"
     ]
    }
   ],
   "source": [
    "class Flasche (val farbe: String, var füllung: Int)\n",
    "val f1 = Flasche (\"Grau\", 20)\n",
    "println(\"Die Flasche mit der Farbe ${f1.farbe} ist zu ${f1.füllung}% gefüllt.\")"
   ]
  },
  {
   "cell_type": "markdown",
   "id": "222b7531",
   "metadata": {},
   "source": [
    "##### Konstruktor mit init-Block\n",
    "Natürlich kann der Konstruktor auch selbst, wie aus Java gewohnt, definiert werden. Dieser ist zwischen der Deklaration der Felder und den Objektmethoden anzusiedeln. Eingeleitet wird er mit dem Schlüsselwort `init`, gefolgt von einem Methodenrumpf. Im Vergleich zu Java werden dessen Parameter nicht direkt im Kopf des Konstruktors, sondern im Kopf der Klasse angegeben. Die dort definierten Parameter können im Konstruktor benutzt werden. Bei Namenskonflikten findet das Schlüsselwort `this` Anwendung, dass das aktuelle Objekt referenziert."
   ]
  },
  {
   "cell_type": "code",
   "execution_count": 5,
   "id": "fcbf3b7f",
   "metadata": {
    "execution": {
     "iopub.execute_input": "2021-05-30T21:00+0200",
     "iopub.status.busy": "2021-05-30T21:00+0200",
     "iopub.status.idle": "2021-05-30T21:00+0200",
     "shell.execute_reply": "2021-05-30T21:00+0200",
     "shell.execute_reply.started": "2021-05-30T21:00+0200"
    },
    "tags": []
   },
   "outputs": [
    {
     "name": "stdout",
     "output_type": "stream",
     "text": [
      "Bett b1: Länge 160, Breite 200, belegt false\n",
      "Bett b2: Länge 0, Breite 50, belegt true\n"
     ]
    }
   ],
   "source": [
    "class Bett (\n",
    "    laenge: Int, breite: Int, belegt: Boolean //Übergabeparameter bei Objekterzeugung. Können im init-Block verwendet werden.\n",
    "){\n",
    "    val laenge: Int\n",
    "    val breite: Int\n",
    "    var belegt: Boolean\n",
    "    \n",
    "    init { //primärer Konstruktor mit init-Block. In diesem kann auf die Parameter zugegriffen werden.\n",
    "        this.laenge = if (laenge > 0) laenge else 0\n",
    "        this.breite = if (breite > 0) breite else 0\n",
    "        this.belegt = belegt\n",
    "    }\n",
    "}\n",
    "val b1 = Bett (160, 200, false)\n",
    "val b2 = Bett (-100, 50, true)\n",
    "println(\"Bett b1: Länge ${b1.laenge}, Breite ${b1.breite}, belegt ${b1.belegt}\")\n",
    "println(\"Bett b2: Länge ${b2.laenge}, Breite ${b2.breite}, belegt ${b2.belegt}\")"
   ]
  },
  {
   "cell_type": "markdown",
   "id": "b780a8bf",
   "metadata": {},
   "source": [
    "##### Konstruktor durch direkte Initialisierung\n",
    "Eine weitere Möglichkeit der Initialisierung ist, die Felder direkt bei der Deklaration Parameter oder festgelegte Werte zuzuweisen."
   ]
  },
  {
   "cell_type": "code",
   "execution_count": 6,
   "id": "368294c9",
   "metadata": {
    "execution": {
     "iopub.execute_input": "2021-05-30T21:00+0200",
     "iopub.status.busy": "2021-05-30T21:00+0200",
     "iopub.status.idle": "2021-05-30T21:00+0200",
     "shell.execute_reply": "2021-05-30T21:00+0200",
     "shell.execute_reply.started": "2021-05-30T21:00+0200"
    },
    "tags": []
   },
   "outputs": [
    {
     "name": "stdout",
     "output_type": "stream",
     "text": [
      "Tisch t1: Länge 100, Breite 100, Farbe Braun\n",
      "Tisch t2: Länge 0, Breite 50, Farbe Weiß\n"
     ]
    }
   ],
   "source": [
    "class Tisch (\n",
    "    laenge: Int, breite: Int, farbe: String //Übergabeparameter bei Objekterzeugung. Können den Feldern direkt zugewiesen werden.\n",
    "){\n",
    "    val laenge: Int = if (laenge > 0) laenge else 0\n",
    "    val breite = if (breite > 0) breite else 0 //Kurzschreibweise ist zulässig. Dabei wird der Datentyp des Parameters übernommen\n",
    "    var farbe: String = farbe\n",
    "}\n",
    "\n",
    "val t1 = Tisch (100, 100, \"Braun\")\n",
    "val t2 = Tisch (-100, 50, \"Weiß\")\n",
    "println(\"Tisch t1: Länge ${t1.laenge}, Breite ${t1.breite}, Farbe ${t1.farbe}\")\n",
    "println(\"Tisch t2: Länge ${t2.laenge}, Breite ${t2.breite}, Farbe ${t2.farbe}\")"
   ]
  },
  {
   "cell_type": "markdown",
   "id": "43265012",
   "metadata": {},
   "source": [
    "##### Vergleich\n",
    "Jede Erscheinungsform des Konstruktors hat seine Vorteile und Anwendungsbereiche. Während der Defaultkonstruktor bei einfachen Klassen, bei denen die Parameter unverändert zugewiesen werden zu bevorzugen ist, bieten die expliziten Konstruktoren genau die Möglichkeit der vorherigen Bearbeitung. Auf dem ersten Blick scheint es so, als sei der Konstruktor mit einem `init`-Block 1:1 zu ersetzen durch einen Konstruktor mit direkter Initialisierung, da die Parameter scheinbar mit dem gleichen Ergebnis direkt zugewiesen werden können. Jedoch ist der zuletzt Genannte bei komplexeren Klassen zu bevorzugen, da dort alle Daten erst auf Richtigkeit, beispielweise mit `try` und `catch`, geprüft werden können (Näheres dazu in [Lektion 8](Lektion-8---Fehlerbehandlung)).\n",
    "\n",
    "##### Kombination\n",
    "Die verschiedenen Konstruktoren können auch beliebig miteinander kombiniert werden. "
   ]
  },
  {
   "cell_type": "code",
   "execution_count": 7,
   "id": "8a2f1f90",
   "metadata": {
    "execution": {
     "iopub.execute_input": "2021-05-30T21:00+0200",
     "iopub.status.busy": "2021-05-30T21:00+0200",
     "iopub.status.idle": "2021-05-30T21:00+0200",
     "shell.execute_reply": "2021-05-30T21:00+0200",
     "shell.execute_reply.started": "2021-05-30T21:00+0200"
    },
    "tags": []
   },
   "outputs": [
    {
     "name": "stdout",
     "output_type": "stream",
     "text": [
      "Stuhl s1: Länge 20, Breite 20, belegt true\n",
      "Stuhl s2: Länge 0, Breite 30, belegt false\n"
     ]
    }
   ],
   "source": [
    "class Stuhl (laenge: Int, breite: Int, var belegt: Boolean){ //belegt: Defaultkonstruktor\n",
    "    val laenge = if (laenge > 0) laenge else 0 //laenge: direkte Zuweisung\n",
    "    val breite: Int\n",
    "\n",
    "    init { //breite: init-Block\n",
    "        this.breite = if (breite > 0) breite else 0\n",
    "    }\n",
    "}\n",
    "\n",
    "val s1 = Stuhl (20, 20, true)\n",
    "val s2 = Stuhl (-20, 30, false)\n",
    "println(\"Stuhl s1: Länge ${s1.laenge}, Breite ${s1.breite}, belegt ${s1.belegt}\")\n",
    "println(\"Stuhl s2: Länge ${s2.laenge}, Breite ${s2.breite}, belegt ${s2.belegt}\")"
   ]
  },
  {
   "cell_type": "markdown",
   "id": "1418bf11",
   "metadata": {},
   "source": [
    "##### Mehrere primäre Konstruktoren\n",
    "Eine wichtige Eigenschaft einer Klasse fehlt aber noch: Die Erzeugung eines Objekts mit unterschiedlichen Parameterprofilen. Um das zu erreichen können in der Klasse mehrere primäre Konstruktoren implementiert werden. Diesen wird das Schlüsselwort `constructor` vorangestellt. Außerdem bekommt jeder Konstruktor sein eigenes Parameterprofil, mit dem dieser in dessen Rumpf arbeiten kann. Die Konstruktoren ähneln dabei dem `init`-Verfahren, da sie alle ihren eigenen Rumpf besitzen. Die Parameterklammern der Klasse werden weggelassen."
   ]
  },
  {
   "cell_type": "code",
   "execution_count": 8,
   "id": "19ae3fd9",
   "metadata": {
    "execution": {
     "iopub.execute_input": "2021-05-30T21:00+0200",
     "iopub.status.busy": "2021-05-30T21:00+0200",
     "iopub.status.idle": "2021-05-30T21:00+0200",
     "shell.execute_reply": "2021-05-30T21:00+0200",
     "shell.execute_reply.started": "2021-05-30T21:00+0200"
    },
    "tags": []
   },
   "outputs": [
    {
     "name": "stdout",
     "output_type": "stream",
     "text": [
      "Konstruktion eines normalen Fensters\n",
      "Fenster fensterNormal: Länge 50, Breite 0, Zustand Gebraucht \n",
      "\n",
      "Konstruktion eines quadratischen Fensters\n",
      "Fenster fensterQuadrat: Länge 60, Breite 60, Zustand Schmutzig \n",
      "\n",
      "Konstruktion eines neuen Fensters\n",
      "Fenster fensterNeu: Länge 100, Breite 120, Zustand Neu\n"
     ]
    }
   ],
   "source": [
    "class Fenster { //Parameterklammern fehlen\n",
    "    val laenge: Int\n",
    "    val breite: Int\n",
    "    var zustand: String\n",
    "    \n",
    "    //Konstruktor eines normalen Fensters\n",
    "    constructor (laenge: Int, breite: Int, zustand: String){\n",
    "        println(\"Konstruktion eines normalen Fensters\")\n",
    "        this.laenge = if (laenge > 0) laenge else 0\n",
    "        this.breite = if (breite > 0) breite else 0\n",
    "        this.zustand = zustand\n",
    "    }\n",
    "    //Konstruktor eines quadratischen Fensters\n",
    "    constructor (laenge: Int, zustand: String){\n",
    "        println(\"Konstruktion eines quadratischen Fensters\")\n",
    "        this.laenge = if (laenge > 0) laenge else 0\n",
    "        this.breite = laenge\n",
    "        this.zustand = zustand\n",
    "    }\n",
    "    //Konstruktor eines neuen Fensters\n",
    "    constructor (laenge: Int, breite: Int){\n",
    "        println(\"Konstruktion eines neuen Fensters\")\n",
    "        this.laenge = if (laenge > 0) laenge else 0\n",
    "        this.breite = if (breite > 0) breite else 0\n",
    "        this.zustand = \"Neu\"\n",
    "    }\n",
    "}\n",
    "\n",
    "val fensterNormal = Fenster (50, -80, \"Gebraucht\")\n",
    "println(\"Fenster fensterNormal: Länge ${fensterNormal.laenge}, Breite ${fensterNormal.breite}, Zustand ${fensterNormal.zustand} \\n\")\n",
    "val fensterQuadrat = Fenster (60, \"Schmutzig\")\n",
    "println(\"Fenster fensterQuadrat: Länge ${fensterQuadrat.laenge}, Breite ${fensterQuadrat.breite}, Zustand ${fensterQuadrat.zustand} \\n\")\n",
    "val fensterNeu = Fenster (100, 120)\n",
    "println(\"Fenster fensterNeu: Länge ${fensterNeu.laenge}, Breite ${fensterNeu.breite}, Zustand ${fensterNeu.zustand}\")"
   ]
  },
  {
   "cell_type": "markdown",
   "id": "a97f8be4",
   "metadata": {},
   "source": [
    "#### Sekundärer Konstruktor\n",
    "Mit Hilfe eines sekundären Konstruktors ist es einfach möglich alternative Wege Objekte zu erzeugen. Dazu wird ein primärer Konstruktor mit `this()` und zu bestimmenden Parametern aufgerufen. Auch kann ein anderer sekundärer Konstruktor aufgerufen, jedoch muss am Ende immer ein Primärer benutzt werden, da nur dieser das Objekt erzeugen kann. Die Implementierung eines sekundären Konstruktors ähnelt der bei Benutzung mehrerer primärer Konstruktoren. Jedoch ist nur eine Anweisung erlaubt, die von den Parametern mit `:` getrennt wird und einen primären Konstruktor aufruft."
   ]
  },
  {
   "cell_type": "code",
   "execution_count": 9,
   "id": "4a80b4be",
   "metadata": {
    "execution": {
     "iopub.execute_input": "2021-05-30T21:00+0200",
     "iopub.status.busy": "2021-05-30T21:00+0200",
     "iopub.status.idle": "2021-05-30T21:00+0200",
     "shell.execute_reply": "2021-05-30T21:00+0200",
     "shell.execute_reply.started": "2021-05-30T21:00+0200"
    },
    "tags": []
   },
   "outputs": [
    {
     "name": "stdout",
     "output_type": "stream",
     "text": [
      "Batterie eigeneBatterie: Kapazität 2000, Wiederaufladbar true, Ladezyklen 42, Status Gebraucht\n",
      "Batterie neueBatterie: Kapazität 3000, Wiederaufladbar false, Ladezyklen 0, Status Neu\n",
      "Batterie BBBatterie: Kapazität 2400, Wiederaufladbar false, Ladezyklen 0, Status Neu\n"
     ]
    }
   ],
   "source": [
    "//primärer Konstruktor: Defaultkonstruktor\n",
    "class Batterie (val kapazitaet: Int, val wiederaufladbar: Boolean, var ladezyklen: Int, val status: String){\n",
    "    //sekundärer Konstruktor: Neue Batterie mit Angabe von Kapazität und Wiederaufladbarkeit\n",
    "    constructor (kapazitaet: Int, wiederaufladbar: Boolean) : this(kapazitaet, wiederaufladbar, 0, \"Neu\") //Benutzt den primären Konstruktor\n",
    "    //sekundärer Konstruktor: Neue BB Einmalbatterie\n",
    "    constructor () : this(2400, false) //Benutzt den anderen sekundären Konstruktor\n",
    "}\n",
    "val eigeneBatterie = Batterie(2000, true, 42, \"Gebraucht\") //primärer Konstruktor\n",
    "println(\"Batterie eigeneBatterie: Kapazität ${eigeneBatterie.kapazitaet}, Wiederaufladbar ${eigeneBatterie.wiederaufladbar}, Ladezyklen ${eigeneBatterie.ladezyklen}, Status ${eigeneBatterie.status}\")\n",
    "val neueBatterie = Batterie(3000, false) //sekundärer Konstruktor: Neue Batterie mit Angabe von Kapazität und Wiederaufladbarkeit\n",
    "println(\"Batterie neueBatterie: Kapazität ${neueBatterie.kapazitaet}, Wiederaufladbar ${neueBatterie.wiederaufladbar}, Ladezyklen ${neueBatterie.ladezyklen}, Status ${neueBatterie.status}\")\n",
    "val BBBatterie = Batterie() //sekundärer Konstruktor: Neue BB Einmalbatterie\n",
    "println(\"Batterie BBBatterie: Kapazität ${BBBatterie.kapazitaet}, Wiederaufladbar ${BBBatterie.wiederaufladbar}, Ladezyklen ${BBBatterie.ladezyklen}, Status ${BBBatterie.status}\")"
   ]
  }
 ],
 "metadata": {
  "kernelspec": {
   "display_name": "Kotlin",
   "language": "kotlin",
   "name": "kotlin"
  },
  "language_info": {
   "codemirror_mode": "text/x-kotlin",
   "file_extension": ".kt",
   "mimetype": "text/x-kotlin",
   "name": "kotlin",
   "nbconvert_exporter": "",
   "pygments_lexer": "kotlin",
   "version": "1.6.20-dev-3702"
  }
 },
 "nbformat": 4,
 "nbformat_minor": 5
}
