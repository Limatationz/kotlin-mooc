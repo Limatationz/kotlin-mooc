{
 "cells": [
  {
   "cell_type": "markdown",
   "id": "51aea89d",
   "metadata": {},
   "source": [
    "### Aufgabe - Parkplatzverwaltung\n",
    "Implementieren Sie eine Klasse `Parkplatzverwaltung`, die einen Parkplatz repräsentieren soll. Der Grundriss und die Belegung soll mit Hilfe einer Liste der Länge 5 verwirklicht werden, der als Feld repräsentiert wird. Ist ein Parkplatz belegt, so soll dieser Eintrag `true` sein. Verwenden Sie passende Sichtbarkeiten.  \n",
    "Standardmäßig wird bei Erzeugung eine passende Liste übergeben. Falls kein Parameter übergeben wird, soll ein leerer Parkplatz erstellt werden. Implementieren Sie zusätzlich eine Methode `einparken()` der die Nummer des Parkplatzes übergeben wird und diesen falls möglich belegt. Bei Erfolg soll `true` zurückgegeben werden, ansonsten `false`. Gehen Sie davon aus, dass nur korrekte Parameter übergeben werden. Überschreiben Sie zusätzlich die Methode `toString()`, die den Parkplatz übersichtlich nach folgendem Muster ausgeben soll:  \n",
    "--x-- (Parkplatz Nummer 2 ist belegt)"
   ]
  },
  {
   "cell_type": "code",
   "execution_count": null,
   "id": "836eeed3",
   "metadata": {
    "tags": []
   },
   "outputs": [],
   "source": [
    "//TODO\n",
    "\n",
    "//Test\n",
    "var fehler = 0\n",
    "val p1 = Parkplatzverwaltung(mutableListOf(true, true, false, false, true))\n",
    "if (p1.toString() != \"xx--x\"){\n",
    "    println(\"Fehler! p1 sollte eigentlich 'xx--x' sein, ist jedoch '$p1'\")\n",
    "    fehler++\n",
    "}\n",
    "if (!p1.einparken(3)){\n",
    "    println(\"Fehler! Parkplatz Nummer 3 sollte eigentlich belegt werden können. Parkplatz: $p1\")\n",
    "    fehler++\n",
    "}\n",
    "if (p1.einparken(3)){\n",
    "    println(\"Fehler! Parkplatz Nummer 3 sollte eigentlich nicht belegt werden können. Parkplatz: $p1\")\n",
    "    fehler++\n",
    "}\n",
    "if (p1.toString() != \"xx-xx\"){\n",
    "    println(\"Fehler! p1 sollte eigentlich 'xx--x' sein, ist jedoch '$p1'\")\n",
    "    fehler++\n",
    "}\n",
    "val p2 = Parkplatzverwaltung()\n",
    "if (p2.toString() != \"-----\"){\n",
    "    println(\"Fehler! p2 sollte eigentlich '-----' sein, ist jedoch '$p2'\")\n",
    "    fehler++\n",
    "}\n",
    "if(fehler == 0)\n",
    "    println(\"Super! Alle Tests bestanden!\")\n",
    "else\n",
    "    println(\"Bei $fehler Tests kamen Fehler auf.\")"
   ]
  }
 ],
 "metadata": {
  "kernelspec": {
   "display_name": "Kotlin",
   "language": "kotlin",
   "name": "kotlin"
  },
  "language_info": {
   "codemirror_mode": "text/x-kotlin",
   "file_extension": ".kt",
   "mimetype": "text/x-kotlin",
   "name": "kotlin",
   "nbconvert_exporter": "",
   "pygments_lexer": "kotlin",
   "version": "1.6.20-dev-3702"
  }
 },
 "nbformat": 4,
 "nbformat_minor": 5
}
