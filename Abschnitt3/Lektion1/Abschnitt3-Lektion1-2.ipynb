{
 "cells": [
  {
   "cell_type": "markdown",
   "id": "698f0c02",
   "metadata": {},
   "source": [
    "### Getter und Setter\n",
    "Es können aber auch eigene Getter und Setter für jedes Feld definiert werden, falls der Variablentyp dies zulässt und diese erst im Rumpf der Klasse definiert werden. Beide müssen direkt nach dem Feld definiert werden. Auf den aktuellen Wert des Feldes kann mit `field` zugegriffen werden. Der Setter bekommt den neuen Wert als Parameter übergeben. Der Datentyp des Parameters muss nicht angegeben werden, da dieser durch das Feld gegeben ist, jedoch muss ihm ein Name zugewiesen werden, der im Rumpf den neuen Wert repräsentiert. Der Wert des Feldes wird mit einer Zuweisung an `field` geändert. Es sind immer die Datentypen der Felder zu beachten."
   ]
  },
  {
   "cell_type": "code",
   "execution_count": 1,
   "id": "82347fed",
   "metadata": {
    "execution": {
     "iopub.execute_input": "2021-11-18T12:01+0100",
     "iopub.status.busy": "2021-11-18T12:01+0100",
     "iopub.status.idle": "2021-11-18T12:02+0100",
     "shell.execute_reply": "2021-11-18T12:02+0100",
     "shell.execute_reply.started": "2021-11-18T12:01+0100"
    },
    "tags": []
   },
   "outputs": [
    {
     "name": "stdout",
     "output_type": "stream",
     "text": [
      "Person p1: Name: Max Mustermann, Alter -1\n",
      "Person p1: Name: Max Mustermann, Alter 21\n",
      "Person p1: Name: Max Mustermann, Alter 21\n"
     ]
    }
   ],
   "source": [
    "public class Person (name: String, alter: Int){\n",
    "    val name: String = name\n",
    "        get() = \"Name: $field\" //Wird auf das Feld name zugegeriffen, wird der String \"Name: name\" zurückgegeben\n",
    "        //Kein Setter möglich, da val\n",
    "    var alter = if (alter > 0) alter else -1\n",
    "        get() = field //Standardgetter\n",
    "        set(value){ //Eigener Setter. Der neue Wert wird in value gespeichert\n",
    "            field = if (value > field) value else field //Das Feld wird auf den neuen Wert gesetzt, falls dieser größer als der Aktuelle ist.\n",
    "        }\n",
    "}\n",
    "val p1 = Person (\"Max Mustermann\", -10)\n",
    "println(\"Person p1: ${p1.name}, Alter ${p1.alter}\")\n",
    "p1.alter = 21\n",
    "println(\"Person p1: ${p1.name}, Alter ${p1.alter}\")\n",
    "p1.alter = -10\n",
    "println(\"Person p1: ${p1.name}, Alter ${p1.alter}\")"
   ]
  },
  {
   "cell_type": "markdown",
   "id": "8a439375",
   "metadata": {},
   "source": [
    "#### Computed Properties\n",
    "Durch die Definition eigener Getter können Felder auch *kleine Methoden* darstellen ohne einen eigenen Wert zu speichern. So können beispielsweise berechnete Wahrheitswerte zurückgegeben werden. Dadurch können rudimentäre Methoden ersetzt werden. Als Beispiel wird die bereits kennengelernte Klasse `Person` mit einem berechneten Feld `istVolljaerig` ergänzt."
   ]
  },
  {
   "cell_type": "code",
   "execution_count": 2,
   "id": "7d952887",
   "metadata": {
    "execution": {
     "iopub.execute_input": "2021-11-18T12:02+0100",
     "iopub.status.busy": "2021-11-18T12:02+0100",
     "iopub.status.idle": "2021-11-18T12:02+0100",
     "shell.execute_reply": "2021-11-18T12:02+0100",
     "shell.execute_reply.started": "2021-11-18T12:02+0100"
    },
    "tags": []
   },
   "outputs": [
    {
     "name": "stdout",
     "output_type": "stream",
     "text": [
      "Person p1: Name: Max Mustermann, Alter 21, Volljährig true\n"
     ]
    }
   ],
   "source": [
    "public class Person (name: String, alter: Int){\n",
    "    val name: String = name\n",
    "        get() = \"Name: $field\" //Wird auf das Feld name zugegeriffen, wird der String \"Name: name\" zurückgegeben\n",
    "        //Kein Setter möglich, da val\n",
    "    var alter = if (alter > 0) alter else -1\n",
    "        get() = field //Standardgetter\n",
    "        set(value){ //Eigener Setter. Der neue Wert wird in value gespeichert\n",
    "            field = if (value > field) value else field //Das Feld wird auf den neuen Wert gesetzt, falls dieser größer als der Aktuelle ist.\n",
    "        }\n",
    "    val istVolljaerig //Datentyp Boolean aus dem Getter\n",
    "        get() = alter > 17\n",
    "}\n",
    "val p1 = Person (\"Max Mustermann\", 21)\n",
    "println(\"Person p1: ${p1.name}, Alter ${p1.alter}, Volljährig ${p1.istVolljaerig}\")"
   ]
  },
  {
   "cell_type": "markdown",
   "id": "a1535723",
   "metadata": {},
   "source": [
    "#### Lazy Properties\n",
    "Eine Variable oder ein Feld des Typs `val` kann mit dem Schlüsselwort `by lazy` *träge* gemacht werden. Das heißt, dass der Wert erst bei der ersten Verwendung berechnet wird. Dazu ist ein Lambda-Ausdruck nötig, dessen Ergebnis der Wert des Feldes oder der Variable ist. Wird die Variable danach noch einmal verwendet, wird der Inhalt nicht noch einmal berechnet, sondern auf den gespeicherten Wert zurückgegriffen."
   ]
  },
  {
   "cell_type": "code",
   "execution_count": 3,
   "id": "1527969f",
   "metadata": {
    "execution": {
     "iopub.execute_input": "2021-11-18T12:02+0100",
     "iopub.status.busy": "2021-11-18T12:02+0100",
     "iopub.status.idle": "2021-11-18T12:02+0100",
     "shell.execute_reply": "2021-11-18T12:02+0100",
     "shell.execute_reply.started": "2021-11-18T12:02+0100"
    },
    "tags": []
   },
   "outputs": [
    {
     "name": "stdout",
     "output_type": "stream",
     "text": [
      "Wird berechnet...\n",
      "true\n",
      "true\n"
     ]
    }
   ],
   "source": [
    "public class Person (name: String, alter: Int){\n",
    "    val name = name\n",
    "    var alter = alter\n",
    "    val istVolljaehrig: Boolean by lazy {\n",
    "        println(\"Wird berechnet...\")\n",
    "        alter > 18\n",
    "    }\n",
    "}\n",
    "val p1 = Person(\"Erika Musterfrau\", 32)\n",
    "println(p1.istVolljaehrig)\n",
    "println(p1.istVolljaehrig)"
   ]
  },
  {
   "cell_type": "markdown",
   "id": "2937cae1",
   "metadata": {},
   "source": [
    "#### `lateinit`\n",
    "Ein weiteres, ähnliches Konstrukt ist `lateinit`. Dies findet Anwendung, wenn ein Feld erst nach der Objekterzeugung einen Wert zugewiesen bekommt. Dieses Feld kann im Konstruktor ignoriert werden.  \n",
    "Vorraussetzungen:\n",
    "* Das Feld ist vom Typ `var`\n",
    "* Der Datentyp des Feldes ist *non-nullable*\n",
    "* Der Datentyp des Feldes ist nicht primitiv"
   ]
  },
  {
   "cell_type": "code",
   "execution_count": 4,
   "id": "c683ce12",
   "metadata": {
    "execution": {
     "iopub.execute_input": "2021-11-18T12:02+0100",
     "iopub.status.busy": "2021-11-18T12:02+0100",
     "iopub.status.idle": "2021-11-18T12:02+0100",
     "shell.execute_reply": "2021-11-18T12:02+0100",
     "shell.execute_reply.started": "2021-11-18T12:02+0100"
    },
    "tags": []
   },
   "outputs": [
    {
     "name": "stdout",
     "output_type": "stream",
     "text": [
      "Volljährig\n"
     ]
    }
   ],
   "source": [
    "public class Person (name: String, alter: Int){\n",
    "    val name = name\n",
    "    var alter = alter\n",
    "    lateinit var istVolljaehrig: String //istVolljaehrig wird nicht bei Objekterzeugung berechnet\n",
    "    \n",
    "    fun berechneIstVolljaehrig() { //Diese Methode berechnet den Wert des Feldes istVolljaehrig\n",
    "        istVolljaehrig = if (alter > 17) \"Volljährig\" else \"Nicht Volljährig\"\n",
    "    }\n",
    "}\n",
    "val p1 = Person (\"Max Mustermann\", 30)\n",
    "//println(p1.istVolljaehrig) -> Fehler: UninitializedPropertyAccessException: lateinit property istVolljaehrig has not been initialized\n",
    "p1.berechneIstVolljaehrig() //istVolljaehrig wird berechnet\n",
    "println(p1.istVolljaehrig)"
   ]
  },
  {
   "cell_type": "markdown",
   "id": "281cde96",
   "metadata": {},
   "source": [
    "In einem `lateinit` Feld ist zusätzlich gespeichert, ob es bereits für das Objekt initialisiert wurde. Diese Information kann mit `this::name.isInitialized` abgerufen werden."
   ]
  },
  {
   "cell_type": "code",
   "execution_count": 5,
   "id": "58d54f8c",
   "metadata": {
    "execution": {
     "iopub.execute_input": "2021-11-18T12:02+0100",
     "iopub.status.busy": "2021-11-18T12:02+0100",
     "iopub.status.idle": "2021-11-18T12:02+0100",
     "shell.execute_reply": "2021-11-18T12:02+0100",
     "shell.execute_reply.started": "2021-11-18T12:02+0100"
    },
    "tags": []
   },
   "outputs": [
    {
     "name": "stdout",
     "output_type": "stream",
     "text": [
      "Versuch 1: false\n",
      "Versuch 2: true\n"
     ]
    }
   ],
   "source": [
    "public class Person (name: String, alter: Int){\n",
    "    val name = name\n",
    "    var alter = alter\n",
    "    lateinit var istVolljaehrig: String\n",
    "    \n",
    "    fun berechneIstVolljaehrig(){\n",
    "        istVolljaehrig = if (alter > 17) \"Volljährig\" else \"Nicht Volljährig\"\n",
    "    }\n",
    "    fun istInitialisiert() = this::istVolljaehrig.isInitialized\n",
    "}\n",
    "\n",
    "val p1 = Person (\"Max Mustermann\", 30)\n",
    "println(\"Versuch 1: ${p1.istInitialisiert()}\")\n",
    "p1.berechneIstVolljaehrig() //istVolljaehrig wird berechnet\n",
    "println(\"Versuch 2: ${p1.istInitialisiert()}\")"
   ]
  },
  {
   "cell_type": "markdown",
   "id": "f1794639",
   "metadata": {},
   "source": [
    "### Sichtbarkeiten\n",
    "Bis jetzt wurden alle Variablen, Felder und Klassen öffentlich implementiert. Jedoch gibt es in Kotlin, wie auch in Java, Sichtbarkeiten, mit denen der Zugriff eingeschränkt werden kann.\n",
    "* `private`: Das Element kann nur in der Klasse verwendet werden. \n",
    "* `protected`: Erweitertung von `private`. Zusätzlich können auf die Elemente auch in Unterklassen zugegriffen werden.\n",
    "* `internal`: Erweiterung von `protected`. Das Element kann im ganzen Modul verwendet werden. Module können Sie sich als größere Pakete vorgestellen.\n",
    "* `public`: Auf das Element kann überall zugegriffen werden. Standardsichtbarkeit.\n",
    "\n",
    "Bei der automatischen Generierung der Getter und Setter werden auch ihre Sichtbarkeiten der des Felder angeglichen. Ist das Feld `private`, kann auf deren generierten Getter und Setter nicht außerhalb der Klasse zugegriffen werden."
   ]
  },
  {
   "cell_type": "code",
   "execution_count": 6,
   "id": "4aab32f4",
   "metadata": {
    "execution": {
     "iopub.execute_input": "2021-11-18T12:02+0100",
     "iopub.status.busy": "2021-11-18T12:02+0100",
     "iopub.status.idle": "2021-11-18T12:02+0100"
    },
    "tags": []
   },
   "outputs": [
    {
     "name": "stderr",
     "output_type": "stream",
     "text": [
      "Line_5.jupyter-kts (3:4 - 8) Cannot access 'name': it is private in 'PrivatePerson'"
     ]
    }
   ],
   "source": [
    "class PrivatePerson(private val name: String)\n",
    "val p1 = PrivatePerson(\"test\")\n",
    "p1.name"
   ]
  },
  {
   "cell_type": "markdown",
   "id": "ce6bfb26",
   "metadata": {},
   "source": [
    "Werden die Methoden händisch implementiert, können diesen teilweise abweichende Sichtbarkeiten zugewiesen werden. Der Getter muss den identischen Sichtbarkeitstyp aufweisen. Im Gegensatz dazu kann dem Setter die gleich oder eine *engere* Sichtbarkeit vorangestellt werden."
   ]
  },
  {
   "cell_type": "code",
   "execution_count": 7,
   "id": "63b5dbaa",
   "metadata": {
    "execution": {
     "iopub.execute_input": "2021-11-18T12:02+0100",
     "iopub.status.busy": "2021-11-18T12:02+0100",
     "iopub.status.idle": "2021-11-18T12:02+0100"
    },
    "tags": []
   },
   "outputs": [
    {
     "name": "stderr",
     "output_type": "stream",
     "text": [
      "Line_6.jupyter-kts (10:1 - 8) Cannot assign to 'name': the setter is private in 'LesbarePerson'"
     ]
    }
   ],
   "source": [
    "class LesbarePerson(name: String) {\n",
    "    var name = name //public\n",
    "    get() = field //public\n",
    "    private set(neuerWert){ //private\n",
    "        field = neuerWert\n",
    "    }\n",
    "}\n",
    "val p2 = LesbarePerson(\"test\")\n",
    "println(\"Name von p2: ${p2.name}\")\n",
    "p2.name = \"Name\""
   ]
  },
  {
   "cell_type": "markdown",
   "id": "28219e4c",
   "metadata": {},
   "source": [
    "<div class=\"alert alert-block alert-info\">\n",
    "Im Folgenden werden alle Klassen, Felder und Methoden in der Regel öffentlich implementiert. Auch wird in den kurzen Aufgaben dieses Abschnitts keine Verwendung einer anderen Sichtbarkeit als <code>public</code> verlangt. Sie können aber natürlich gerne optional in den Aufgaben die Zugriffe mit passenden Berechtigungen für die Getter und Setter beschränken.\n",
    "</div>"
   ]
  },
  {
   "cell_type": "markdown",
   "id": "54f0d430",
   "metadata": {},
   "source": [
    "### Methoden\n",
    "Der Aufbau von Objektmethoden kann mit dem von Funktionen verglichen werden, werden jedoch im Rumpf einer Klasse definiert. Es ist möglich die Kurzschreibweise anzuwenden und eine Sichtbarkeit zuzuweisen. Auf Objektmethoden kann, wie in Java, mit der Punktnotation zugegriffen werden. Soll eine bereits implementierte Methode, zum Beispiel `toString()`, überschrieben werden, ist das Voranstellen des Schlüsselworts `override` nötig."
   ]
  },
  {
   "cell_type": "code",
   "execution_count": 8,
   "id": "c67f1ae2",
   "metadata": {
    "execution": {
     "iopub.execute_input": "2021-11-18T12:02+0100",
     "iopub.status.busy": "2021-11-18T12:02+0100",
     "iopub.status.idle": "2021-11-18T12:02+0100",
     "shell.execute_reply": "2021-11-18T12:02+0100",
     "shell.execute_reply.started": "2021-11-18T12:02+0100"
    },
    "tags": []
   },
   "outputs": [
    {
     "name": "stdout",
     "output_type": "stream",
     "text": [
      "Vor Geburtstag: Max Mustermann ist 30 Jahre alt.\n",
      "Nach Geburtstag: Max Mustermann ist 31 Jahre alt.\n"
     ]
    }
   ],
   "source": [
    "class Person(val name: String, var alter: Int){\n",
    "    fun hatGeburtstag() = alter++ //Objektmethode\n",
    "    override fun toString() = \"$name ist $alter Jahre alt.\" //Objektmethode die die Methode toString() überschreibt\n",
    "}\n",
    "\n",
    "val p1 = Person(\"Max Mustermann\", 30)\n",
    "println(\"Vor Geburtstag: $p1\")\n",
    "p1.hatGeburtstag()\n",
    "println(\"Nach Geburtstag: $p1\")"
   ]
  }
 ],
 "metadata": {
  "kernelspec": {
   "display_name": "Kotlin",
   "language": "kotlin",
   "name": "kotlin"
  },
  "language_info": {
   "codemirror_mode": "text/x-kotlin",
   "file_extension": ".kt",
   "mimetype": "text/x-kotlin",
   "name": "kotlin",
   "nbconvert_exporter": "",
   "pygments_lexer": "kotlin",
   "version": "1.6.20-dev-3702"
  }
 },
 "nbformat": 4,
 "nbformat_minor": 5
}
