{
 "cells": [
  {
   "cell_type": "markdown",
   "id": "ca26b511",
   "metadata": {},
   "source": [
    "# Aufgabe - Generische Liste\n",
    "\n",
    "Implementieren Sie eine generische, [einfach verkettete](https://de.wikipedia.org/wiki/Liste_%28Datenstruktur%29#Einfach_verkettete_Listen) Liste `Liste`, die neue Elemente vorne hinzufügt (`hinzufuegen`) und entnimmt (`entfernen`). `hinzufuegen()` bekommt den Wert des Elements übergeben. Falls die Operation fehlschlägt, soll `false` zurückgegeben werden. Entfernen gibt den Wert des entfernten Elements oder `null` zurück. Die Liste speichert als einziges das erste Element (`erstes`). In einer privaten Klasse `Element` soll der Wert und eine Referenz auf das nächste Element (`naechstes`) zu finden sein. "
   ]
  },
  {
   "cell_type": "code",
   "execution_count": 153,
   "id": "1d69b490",
   "metadata": {
    "execution": {
     "iopub.execute_input": "2021-06-01T17:12+0200",
     "iopub.status.busy": "2021-06-01T17:12+0200",
     "iopub.status.idle": "2021-06-01T17:12+0200",
     "shell.execute_reply": "2021-06-01T17:12+0200",
     "shell.execute_reply.started": "2021-06-01T17:12+0200"
    }
   },
   "outputs": [
    {
     "name": "stdout",
     "output_type": "stream",
     "text": [
      "Super! Ihre Lösung hat alle Tests bestanden.\n"
     ]
    }
   ],
   "source": [
    "//TODO\n",
    "\n",
    "//Test\n",
    "var fehler = 0\n",
    "val listeInt = Liste<Int>()\n",
    "for (i in 1..5){\n",
    "    if(!listeInt.hinzufuegen(i)){\n",
    "        fehler++\n",
    "        println(\"Fehler! Ein Element mit dem Wert $i konnte nicht hinzugefügt werden. ${listeInt.erstes}\")\n",
    "    }\n",
    "}\n",
    "\n",
    "if (listeInt.erstes?.wert != 5){\n",
    "    fehler++\n",
    "    println(\"Fehler! Der Wert des ersten Elements sollte 10 sein, ist aber ${listeInt.erstes?.wert}\")\n",
    "}\n",
    "if (listeInt.erstes?.naechstes?.wert != 4){\n",
    "    fehler++\n",
    "    println(\"Fehler! Der Wert des zweiten Elements sollte 10 sein, ist aber ${listeInt.erstes?.naechstes?.wert}\")\n",
    "}\n",
    "if (listeInt.erstes?.naechstes?.naechstes?.naechstes?.naechstes?.wert != 1){\n",
    "    fehler++\n",
    "    println(\"Fehler! Der Wert des letzten Elements sollte 1 sein, ist aber ${listeInt.erstes?.naechstes?.naechstes?.naechstes?.naechstes?.wert}\")\n",
    "}\n",
    "if (listeInt.erstes?.naechstes?.naechstes?.naechstes?.naechstes?.naechstes != null){\n",
    "    fehler++\n",
    "    println(\"Fehler! Es ist eine falsche Anzahl an Elementen in der Liste. ${listeInt.erstes}\")\n",
    "}\n",
    "for (i in 5 downTo 1){\n",
    "    if(listeInt.entfernen() != i){\n",
    "        fehler++\n",
    "        println(\"Fehler! Das Element mit dem Wert $i konnte nicht enfernt werden. ${listeInt.erstes}\")\n",
    "    }\n",
    "}\n",
    "if(listeInt.entfernen() != null){\n",
    "        fehler++\n",
    "        println(\"Fehler! Obwohl kein Element mehr entfernt werden können sollte, wurde ein Wert zurückgegeben. ${listeInt.erstes}\")\n",
    "}\n",
    "\n",
    "if(fehler == 0)\n",
    "    println(\"Super! Ihre Lösung hat alle Tests bestanden.\")\n",
    "else\n",
    "    println(\"Falsch! Es traten bei $fehler Tests Fehler auf.\")"
   ]
  }
 ],
 "metadata": {
  "kernelspec": {
   "display_name": "Kotlin",
   "language": "kotlin",
   "name": "kotlin"
  },
  "language_info": {
   "codemirror_mode": "text/x-kotlin",
   "file_extension": ".kt",
   "mimetype": "text/x-kotlin",
   "name": "kotlin",
   "nbconvert_exporter": "",
   "pygments_lexer": "kotlin",
   "version": "1.5.20-dev-5817"
  }
 },
 "nbformat": 4,
 "nbformat_minor": 5
}
