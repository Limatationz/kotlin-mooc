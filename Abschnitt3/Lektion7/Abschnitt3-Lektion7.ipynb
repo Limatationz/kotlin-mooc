{
 "cells": [
  {
   "cell_type": "markdown",
   "id": "adfca9b4",
   "metadata": {},
   "source": [
    "<img src=\"../images/Lektion7.png\" style=\"margin: 20px 0px 20px 0px\"/>\n",
    "<h2 style=\"display:none\">Lektion 7 - Generizität</h2>\n",
    "\n",
    "\n",
    "### Generische Klassen\n",
    "Bei manchen Softwareprojekten kommt man an generischen Klassen nicht vorbei, falls mehrfache Arbeit vermieden werden soll. Das Konzept an sich unterscheidet sich in Kotlin und Java nicht. Der generische Datentyp wird nach dem Klassennamen in `<>` angegeben und kann in der Klasse anstelle normalen Datentypen eingesetzt werden."
   ]
  },
  {
   "cell_type": "code",
   "execution_count": 1,
   "id": "91190436",
   "metadata": {
    "execution": {
     "iopub.execute_input": "2021-11-18T13:02+0100",
     "iopub.status.busy": "2021-11-18T13:02+0100",
     "iopub.status.idle": "2021-11-18T13:02+0100",
     "shell.execute_reply": "2021-11-18T13:02+0100",
     "shell.execute_reply.started": "2021-11-18T13:02+0100"
    },
    "tags": []
   },
   "outputs": [
    {
     "name": "stdout",
     "output_type": "stream",
     "text": [
      "s1: Speicher(platz1=1, platz2=2, platz3=3)\n",
      "s2: Speicher(platz1=[1, 2, 3], platz2=[1, 2, 3], platz3=[1, 2, 3])\n",
      "s3: Speicher(platz1=Kotlin, platz2=Java, platz3=C)\n"
     ]
    }
   ],
   "source": [
    "data class Speicher<T> (var platz1: T, var platz2: T, var platz3: T)\n",
    "\n",
    "val s1 = Speicher(1,2,3)\n",
    "val s2 = Speicher(listOf(1,2,3),listOf(1,2,3),listOf(1,2,3))\n",
    "val s3 = Speicher(\"Kotlin\",\"Java\",\"C\")\n",
    "println(\"s1: $s1\")\n",
    "println(\"s2: $s2\")\n",
    "println(\"s3: $s3\")"
   ]
  },
  {
   "cell_type": "markdown",
   "id": "06423df3",
   "metadata": {},
   "source": [
    "Soll der generische Datentyp eingeschränkt werden, kann dies durch ein Interface passieren. Dieses gibt vor, welche Methoden der Datentyp implementieren muss."
   ]
  },
  {
   "cell_type": "code",
   "execution_count": 2,
   "id": "b997d665",
   "metadata": {
    "execution": {
     "iopub.execute_input": "2021-11-18T13:02+0100",
     "iopub.status.busy": "2021-11-18T13:02+0100",
     "iopub.status.idle": "2021-11-18T13:02+0100",
     "shell.execute_reply": "2021-11-18T13:02+0100",
     "shell.execute_reply.started": "2021-11-18T13:02+0100"
    },
    "tags": []
   },
   "outputs": [
    {
     "name": "stdout",
     "output_type": "stream",
     "text": [
      "gleichheitstestInt.istGleich(3,3): true\n",
      "gleichheitstestInt.istGleich(10,3): false\n",
      "gleichheitstestString.istGleich('Kotlin','Kotlin'): true\n"
     ]
    }
   ],
   "source": [
    "class Gleichheitstest<T: Comparable<T>>{\n",
    "    fun istGleich(a: T, b: T) = if(a.compareTo(b) == 0) true else false\n",
    "}\n",
    "val gleichheitstestInt = Gleichheitstest<Int>()\n",
    "println(\"gleichheitstestInt.istGleich(3,3): ${gleichheitstestInt.istGleich(3,3)}\")\n",
    "println(\"gleichheitstestInt.istGleich(10,3): ${gleichheitstestInt.istGleich(10,3)}\")\n",
    "val gleichheitstestString = Gleichheitstest<String>()\n",
    "println(\"gleichheitstestString.istGleich('Kotlin','Kotlin'): ${gleichheitstestString.istGleich(\"Kotlin\",\"Kotlin\")}\")"
   ]
  },
  {
   "cell_type": "markdown",
   "id": "f17dc5f4",
   "metadata": {},
   "source": [
    "### Generische Funktionen\n",
    "Generizität findet aber nicht nur bei Klassen, sondern auch bei Funktionen Anwendung. Jedoch wird hier der generische Typ vor dem Namen der Funktion angegeben. Bei Aufruf der Methode muss der Typ nicht angegeben werden, sondern wird vom Compiler erkannt."
   ]
  },
  {
   "cell_type": "code",
   "execution_count": 3,
   "id": "f13ec820",
   "metadata": {
    "execution": {
     "iopub.execute_input": "2021-11-18T13:02+0100",
     "iopub.status.busy": "2021-11-18T13:02+0100",
     "iopub.status.idle": "2021-11-18T13:02+0100",
     "shell.execute_reply": "2021-11-18T13:02+0100",
     "shell.execute_reply.started": "2021-11-18T13:02+0100"
    },
    "tags": []
   },
   "outputs": [
    {
     "name": "stdout",
     "output_type": "stream",
     "text": [
      "istGleich(3,3): true\n",
      "istGleich('Kotlin','Kotlin'): true\n"
     ]
    }
   ],
   "source": [
    "fun <T: Comparable<T>> istGleich(a: T, b: T) = if(a.compareTo(b) == 0) true else false\n",
    "println(\"istGleich(3,3): ${istGleich(3,3)}\") //T ist Int\n",
    "println(\"istGleich('Kotlin','Kotlin'): ${istGleich(\"Kotlin\",\"Kotlin\")}\") //T ist String"
   ]
  },
  {
   "cell_type": "markdown",
   "id": "e2c70f47",
   "metadata": {},
   "source": [
    "### Generische Erweiterungsmethoden\n",
    "Das Konzept und die Implementierung von Erweiterungsmethoden wurde bereits in Abschnitt 1 kennengelernt. Es kann aber auch auf generische Klassen übertragen werden. So können beispielsweise einer generischen Liste neue Methoden hinzugefügt werden."
   ]
  },
  {
   "cell_type": "code",
   "execution_count": 4,
   "id": "c986dbed",
   "metadata": {
    "execution": {
     "iopub.execute_input": "2021-11-18T13:02+0100",
     "iopub.status.busy": "2021-11-18T13:02+0100",
     "iopub.status.idle": "2021-11-18T13:02+0100",
     "shell.execute_reply": "2021-11-18T13:02+0100",
     "shell.execute_reply.started": "2021-11-18T13:02+0100"
    },
    "tags": []
   },
   "outputs": [
    {
     "name": "stdout",
     "output_type": "stream",
     "text": [
      "Entferntes Element von liste1: 1\n",
      "listeq: [3, 6, 8, 10]\n",
      "Entferntes Element von liste2: e\n",
      "liste2: [f, w, t, q]\n"
     ]
    }
   ],
   "source": [
    "fun <T: Comparable<T>> MutableList<T>.entferneMinimum(): T?{\n",
    "    val min = minOrNull()\n",
    "    return if (min != null){\n",
    "        remove(min)\n",
    "        min\n",
    "    }\n",
    "    else {\n",
    "        null\n",
    "    }\n",
    "}\n",
    "\n",
    "val liste1 = mutableListOf(3,6,1,8,10) //T ist Int\n",
    "println(\"Entferntes Element von liste1: ${liste1.entferneMinimum()}\")\n",
    "println(\"listeq: $liste1\")\n",
    "val liste2 = mutableListOf('f', 'w', 'e', 't', 'q') //T ist Character\n",
    "println(\"Entferntes Element von liste2: ${liste2.entferneMinimum()}\")\n",
    "println(\"liste2: $liste2\")"
   ]
  }
 ],
 "metadata": {
  "kernelspec": {
   "display_name": "Kotlin",
   "language": "kotlin",
   "name": "kotlin"
  },
  "language_info": {
   "codemirror_mode": "text/x-kotlin",
   "file_extension": ".kt",
   "mimetype": "text/x-kotlin",
   "name": "kotlin",
   "nbconvert_exporter": "",
   "pygments_lexer": "kotlin",
   "version": "1.6.20-dev-3702"
  }
 },
 "nbformat": 4,
 "nbformat_minor": 5
}
