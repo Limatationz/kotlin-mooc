{
 "cells": [
  {
   "cell_type": "markdown",
   "id": "92ea146e",
   "metadata": {},
   "source": [
    "<img src=\"../images/Lektion7.png\" style=\"margin: 20px 0px 20px 0px\"/>\n",
    "<h2 style=\"display:none\">Lektion 7 - Generizität</h2>\n",
    "\n",
    "\n",
    "### Generische Klassen\n",
    "Bei manchen Softwareprojekten kommt man an generischen Klassen nicht vorbei, falls mehrfache Arbeit vermieden werden soll. Das Konzept an sich unterscheidet sich in Kotlin und Java nicht. Der generische Datentyp wird nach dem Klassennamen in `<>` angegeben und kann in der Klasse anstelle normalen Datentypen eingesetzt werden."
   ]
  },
  {
   "cell_type": "code",
   "execution_count": null,
   "id": "76e1f12c",
   "metadata": {
    "tags": []
   },
   "outputs": [],
   "source": [
    "data class Speicher<T> (var platz1: T, var platz2: T, var platz3: T)\n",
    "\n",
    "val s1 = Speicher(1,2,3)\n",
    "val s2 = Speicher(listOf(1,2,3),listOf(1,2,3),listOf(1,2,3))\n",
    "val s3 = Speicher(\"Kotlin\",\"Java\",\"C\")\n",
    "println(\"s1: $s1\")\n",
    "println(\"s2: $s2\")\n",
    "println(\"s3: $s3\")"
   ]
  },
  {
   "cell_type": "markdown",
   "id": "a0794588",
   "metadata": {},
   "source": [
    "Soll der generische Datentyp eingeschränkt werden, kann dies durch ein Interface passieren. Dieses gibt vor, welche Methoden der Datentyp implementieren muss."
   ]
  },
  {
   "cell_type": "code",
   "execution_count": null,
   "id": "57c15b05",
   "metadata": {
    "tags": []
   },
   "outputs": [],
   "source": [
    "class Gleichheitstest<T: Comparable<T>>{\n",
    "    fun istGleich(a: T, b: T) = if(a.compareTo(b) == 0) true else false\n",
    "}\n",
    "val gleichheitstestInt = Gleichheitstest<Int>()\n",
    "println(\"gleichheitstestInt.istGleich(3,3): ${gleichheitstestInt.istGleich(3,3)}\")\n",
    "println(\"gleichheitstestInt.istGleich(10,3): ${gleichheitstestInt.istGleich(10,3)}\")\n",
    "val gleichheitstestString = Gleichheitstest<String>()\n",
    "println(\"gleichheitstestString.istGleich('Kotlin','Kotlin'): ${gleichheitstestString.istGleich(\"Kotlin\",\"Kotlin\")}\")"
   ]
  },
  {
   "cell_type": "markdown",
   "id": "7bfdb4d3",
   "metadata": {},
   "source": [
    "### Generische Funktionen\n",
    "Generizität findet aber nicht nur bei Klassen, sondern auch bei Funktionen Anwendung. Jedoch wird hier der generische Typ vor dem Namen der Funktion angegeben. Bei Aufruf der Methode muss der Typ nicht angegeben werden, sondern wird vom Compiler erkannt."
   ]
  },
  {
   "cell_type": "code",
   "execution_count": null,
   "id": "1ddd900c",
   "metadata": {
    "tags": []
   },
   "outputs": [],
   "source": [
    "fun <T: Comparable<T>> istGleich(a: T, b: T) = if(a.compareTo(b) == 0) true else false\n",
    "println(\"istGleich(3,3): ${istGleich(3,3)}\") //T ist Int\n",
    "println(\"istGleich('Kotlin','Kotlin'): ${istGleich(\"Kotlin\",\"Kotlin\")}\") //T ist String"
   ]
  },
  {
   "cell_type": "markdown",
   "id": "06d9efd4",
   "metadata": {},
   "source": [
    "### Generische Erweiterungsmethoden\n",
    "Das Konzept und die Implementierung von Erweiterungsmethoden wurde bereits in Abschnitt 1 kennengelernt. Es kann aber auch auf generische Klassen übertragen werden. So können beispielsweise einer generischen Liste neue Methoden hinzugefügt werden."
   ]
  },
  {
   "cell_type": "code",
   "execution_count": null,
   "id": "5ef286bc",
   "metadata": {
    "tags": []
   },
   "outputs": [],
   "source": [
    "fun <T: Comparable<T>> MutableList<T>.entferneMinimum(): T?{\n",
    "    val min = minOrNull()\n",
    "    return if (min != null){\n",
    "        remove(min)\n",
    "        min\n",
    "    }\n",
    "    else {\n",
    "        null\n",
    "    }\n",
    "}\n",
    "\n",
    "val liste1 = mutableListOf(3,6,1,8,10) //T ist Int\n",
    "println(\"Entferntes Element von liste1: ${liste1.entferneMinimum()}\")\n",
    "println(\"listeq: $liste\")\n",
    "val liste2 = mutableListOf('f', 'w', 'e', 't', 'q') //T ist Character\n",
    "println(\"Entferntes Element von liste2: ${liste2.entferneMinimum()}\")\n",
    "println(\"liste2: $liste2\")"
   ]
  }
 ],
 "metadata": {
  "kernelspec": {
   "display_name": "Kotlin",
   "language": "kotlin",
   "name": "kotlin"
  },
  "language_info": {
   "codemirror_mode": "text/x-kotlin",
   "file_extension": ".kt",
   "mimetype": "text/x-kotlin",
   "name": "kotlin",
   "nbconvert_exporter": "",
   "pygments_lexer": "kotlin",
   "version": "1.5.20-dev-5817"
  }
 },
 "nbformat": 4,
 "nbformat_minor": 5
}
