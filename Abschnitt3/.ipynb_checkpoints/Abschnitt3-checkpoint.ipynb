{
 "cells": [
  {
   "cell_type": "markdown",
   "id": "ddfe9b5a",
   "metadata": {
    "tags": []
   },
   "source": [
    "<img src=\"images/Abschnitt3.png\" style=\"margin-left: auto; margin-right: auto; display: block; margin-bottom: 20px\"/>\n",
    "<h1 style=\"display:none\">Abschnitt 3 - Objektorientierte Programmierung</h1>\n",
    "\n",
    "<img src=\"images/Einführung.png\" style=\"margin: 20px auto 10px 0px\"/>\n",
    "<h2 style=\"display:none\">Einführung</h2>\n",
    "<p>Neben den funktionalen Aspekten, die in Abschnitt 2 vorgestellt wurden, bietet Kotlin ein breites Spektrum an objektorientierten Konzepten. Vor Allem aufgrund der Interoperabilität mit Java und der Ausführung auf der JVM, müssen alle Aspekte aus Java auch hier enthalten sein. Die objektorientierte Programmierung hat das Ziel den Code in verschiedene Teile, Klassen, zu zerteilen. Außerdem kann eine Instanz, ein Objekt, einer Klasse mit bestimmten Eigenschaften erzeugt werden. Dadurch ist eine realitätsnahe Programmierung möglich. Nicht ohne Grund wird Java und die objektorientierte Programmierung in den meisten bayrischen Schulen im Informatikunterricht verwendet. Im Laufe dieses Abschnitts wird auf einige ausgewählte, größtenteils bereits bekannte objektorientierte Konzepte eingegangen: Vererbung, Abstraktion, Polymorphie und Generizität. Zusätzlich werden mit Datenklassen und eigenständigen Objekten neue Aspekte eingeführt.</p>\n",
    "\n",
    "<img src=\"images/Gliederung.png\" style=\"margin: 20px auto 10px 0px\"/>\n",
    "<h3 style=\"display:none\">Gliederung</h3>\n",
    "<p>Dieser Abschnitt folgt folgender Struktur:</p>\n",
    "<ol>\n",
    "    <li>Klassen</li>\n",
    "    <li>Datenklassen</li>\n",
    "    <li>Objekte</li>\n",
    "    <li>Aufzählungen</li>\n",
    "    <li>Vererbung</li>\n",
    "    <li>Schnittstellen</li>\n",
    "    <li>Generizität</li>\n",
    "    <li>Ausnahmebehandlungen</li>\n",
    "</ol>\n",
    "\n",
    "<img src=\"images/Lernziele.png\" style=\"margin: 20px auto 10px 0px\"/>\n",
    "<h3 style=\"display:none\">Lernziele</h3>\n",
    "<p>Nach diesem Abschnitt sollen Sie in der Lage sein:</p>\n",
    "<ul>\n",
    "    <li>für genannte Problemstellungen passende Klassen zu implementieren.</li>\n",
    "    <li>die Aufgaben von primären und sekundären Konstruktoren bei der Objekterzeugung zu beschreiben.</li>\n",
    "    <li>eigene Getter und Setter zu implementieren.</li>\n",
    "    <li>die Vorteile einer Datenklasse im Vergleich zu einer normalen Klasse zu bewerten.</li>\n",
    "    <li>Aufzählungen, Schnittstellen und Vererbung zu schreiben.\n",
    "    <li>die verschiedenen Anwendungsbereiche der Generizität zu nennen.</li>\n",
    "    <li>eigene Ausnahmen zu definieren und verwenden zu können.</li>\n",
    "</ul>  \n",
    "\n",
    "<img src=\"images/Literatur.png\" style=\"margin: 20px auto 10px 0px\"/>\n",
    "<h3 style=\"display:none\">Literatur</h3>\n",
    "<p>In diesem Abschnitt kann zur Vertiefung folgende Literatur verwendet werden:</p>\n",
    "<ul>\n",
    "    <li>M. Kofler, Kotlin: das umfassende Handbuch. 2021.</li>\n",
    "    <li>D. Griffiths und D. Griffiths, Kotlin von Kopf bis Fuß. 2019.</li>\n",
    "    <li>D. Jemerov und S. Isakova, Kotlin in action. 2017.</li>\n",
    "    <li>C. Kohls, A. Dobrynin, und F. Leonhard, Programmieren lernen mit Kotlin Grundlagen, Objektorientierung und fortgeschrittene Konzepte. 2020.</li>\n",
    "</ul>"
   ]
  },
  {
   "cell_type": "markdown",
   "id": "fe0ae2b7",
   "metadata": {
    "tags": []
   },
   "source": [
    "<img src=\"images/Lektion1.png\" style=\"margin: 20px 0px 20px 0px\"/>\n",
    "<h2 style=\"display:none\">Lektion 1 - Klassen</h2>\n",
    "\n",
    "Aufgrund der Interoperabilität mit Java ist auch Kotlin eine objektorientierte Sprache. Infolgedessen werden im Hintergrund alle Daten als Objekte behandelt. In Kotlin sind die bekannten objektorientierten Konzepte vorhanden, jedoch wurden diese angepasst und teilweise auch vereinfacht. Dazu ein Einführungsbeispiel. Es soll eine Klasse `Person` implementiert werden, die zwei Felder besitzt: `name` vom Typ `String`, das nur bei Objekterzeugung gesetzt wird, und `alter` vom Typ `Int`, das immer verändert werden kann.\n",
    "\n",
    "\n",
    "<table style=\"font-size:16px\">\n",
    "<thead>\n",
    "  <tr>\n",
    "    <th style=\"font-size:16px\">Kotlin</th>\n",
    "    <th style=\"font-size:16px\">Java</th>\n",
    "  </tr>\n",
    "</thead>\n",
    "<tbody>\n",
    "  <tr>\n",
    "    <td style=\"font-size:16px\"><code>class Person (val name: String, var alter: Int)</code></td>\n",
    "    <td style=\"font-size:16px\"><code>public class Person{<br>&nbsp;&nbsp;&nbsp;&nbsp;private String name;<br>&nbsp;&nbsp;&nbsp;&nbsp;private int alter;<br>&nbsp;&nbsp;&nbsp;&nbsp;public Person(String name, int alter){<br>&nbsp;&nbsp;&nbsp;&nbsp;&nbsp;&nbsp;&nbsp;&nbsp;this.name = name<br>&nbsp;&nbsp;&nbsp;&nbsp;&nbsp;&nbsp;&nbsp;&nbsp;this.alter = alter<br>&nbsp;&nbsp;&nbsp;&nbsp;}<br>&nbsp;&nbsp;&nbsp;&nbsp;public String gibName(){<br>&nbsp;&nbsp;&nbsp;&nbsp;&nbsp;&nbsp;&nbsp;&nbsp;return name;<br>&nbsp;&nbsp;&nbsp;&nbsp;}<br>&nbsp;&nbsp;&nbsp;&nbsp;public String gibAlter(){<br>&nbsp;&nbsp;&nbsp;&nbsp;&nbsp;&nbsp;&nbsp;&nbsp;return alter;<br>&nbsp;&nbsp;&nbsp;&nbsp;}<br>&nbsp;&nbsp;&nbsp;&nbsp;public String setzeAlter(int alter){<br>&nbsp;&nbsp;&nbsp;&nbsp;&nbsp;&nbsp;&nbsp;&nbsp;this.alter = alter;<br>&nbsp;&nbsp;&nbsp;&nbsp;}<br>}<br></code></td>\n",
    "  </tr>\n",
    "</tbody>\n",
    "</table>"
   ]
  },
  {
   "cell_type": "code",
   "execution_count": 1,
   "id": "1ff8133f",
   "metadata": {
    "execution": {
     "iopub.execute_input": "2021-11-18T13:23+0100",
     "iopub.status.busy": "2021-11-18T13:23+0100",
     "iopub.status.idle": "2021-11-18T13:24+0100",
     "shell.execute_reply": "2021-11-18T13:24+0100",
     "shell.execute_reply.started": "2021-11-18T13:23+0100"
    },
    "tags": []
   },
   "outputs": [
    {
     "name": "stdout",
     "output_type": "stream",
     "text": [
      "Person p1: Line_0$Person@766aec4a\n",
      "Name: Max Mustermann, Alter: 21\n"
     ]
    }
   ],
   "source": [
    "class Person (val name: String, var alter: Int)\n",
    "\n",
    "val p1 = Person(\"Max Mustermann\", 21)\n",
    "println(\"Person p1: $p1\")\n",
    "println(\"Name: ${p1.name}, Alter: ${p1.alter}\")"
   ]
  },
  {
   "cell_type": "markdown",
   "id": "a573ee73",
   "metadata": {},
   "source": [
    "Es ist zu erkennen, dass der Code in Kotlin deutlich kürzer und übersichtlicher ist.  \n",
    "Der Kopf einer Klasse wird mit dem Schlüsselwort `class` eingeleitet, gefolgt von dem Namen. Die Parameter werden nach diesem in runden Klammern angegeben. Erzeugt werden kann die Klasse, wie aus Java gewohnt, mit der Nennung des Namens der Klasse, sowie dem Aufruf eines Konstruktors. In den runden Klammern sind die erforderlichen Argumente für die Objekterzeugung zu finden.\n",
    "\n",
    "### Felder\n",
    "Felder können Klassen auf verschiedene Weisen hinzugefügt werden. Die erste Möglichkeit ist durch die Übergabeparameter der Klasse. Diese entsprechen den Parametern des Konstruktors und sind im Kopf der Klasse angesiedelt. Wird diesen bei öffentlicher Sichtbarkeit ein Variablentyp (`val` oder `var`) zugewiesen, werden die Parameter zu Feldern umgewandelt. Das heißt, es wird im Hintergrund ein Feld mit dem Namen des Parameters angelegt, das bei Objekterzeugung mit dem Wert des Übergabeparameters gefüllt wird. Außerdem wird immer ein *unsichtbarer* Standard-Getter erzeugt. Wird dem Parameter `var` zugeordnet, fügt der Compiler zusätzlich einen rudimentären Setter hinzu."
   ]
  },
  {
   "cell_type": "code",
   "execution_count": 2,
   "id": "a591d847",
   "metadata": {
    "execution": {
     "iopub.execute_input": "2021-11-18T13:24+0100",
     "iopub.status.busy": "2021-11-18T13:24+0100",
     "iopub.status.idle": "2021-11-18T13:24+0100",
     "shell.execute_reply": "2021-11-18T13:24+0100",
     "shell.execute_reply.started": "2021-11-18T13:24+0100"
    },
    "tags": []
   },
   "outputs": [
    {
     "name": "stdout",
     "output_type": "stream",
     "text": [
      "Marke von a1: BMW, Farbe von a1: Gelb.\n",
      "Farbe von a1 nach Umlackierung: Rot.\n"
     ]
    }
   ],
   "source": [
    "class Auto (\n",
    "    val marke: String, //Es wird ein Feld mit dem Namen marke und ein Getter hinzugefügt und bei Erzeugung mit dem übergebenen Wert gefüllt.\n",
    "    var farbe: String, //Es wird ein Feld mit dem Namen farbe und einem Getter sowie Setter hinzugefügt und bei Erzeugung mit dem übergebenen Wert gefüllt.\n",
    "    ps: Int //Dies ist lediglich ein Übergabeparameter, der im Konstruktor verwendet werden kann.\n",
    ")\n",
    "\n",
    "val a1 = Auto (\"BMW\", \"Gelb\", 220)\n",
    "println(\"Marke von a1: ${a1.marke}, Farbe von a1: ${a1.farbe}.\") //Benutzung der Getter von marke und farbe\n",
    "//println(a1.ps) -> Error, da ps kein Feld sondern nur ein Übergabeparameter ist\n",
    "//a1.marke = \"Audi\" -> Error, da das Feld marke nicht verändert werden kann und auch keinen Setter besitzt\n",
    "a1.farbe = \"Rot\" //Aufruf des Setters von farbe. Das Feld farbe kann verändert werden, da ein Setter vorhanden ist und das Feld den Typ var besitzt\n",
    "println(\"Farbe von a1 nach Umlackierung: ${a1.farbe}.\")"
   ]
  },
  {
   "cell_type": "markdown",
   "id": "71d9a0ac",
   "metadata": {},
   "source": [
    "Eine weitere Möglichkeit Felder zu definieren ist klassisch im Rumpf der Klasse. Diese werden jedoch nicht automatisch bei Objekterzeugung, sondern mit den angegebenen Standardwerten befüllt. Des Weiteren wird auch diesen Feldern, je nach Typ, im Hintergrund ein Getter und Setter bei Seite gestellt."
   ]
  },
  {
   "cell_type": "code",
   "execution_count": 3,
   "id": "8192c208",
   "metadata": {
    "execution": {
     "iopub.execute_input": "2021-11-18T13:24+0100",
     "iopub.status.busy": "2021-11-18T13:24+0100",
     "iopub.status.idle": "2021-11-18T13:24+0100",
     "shell.execute_reply": "2021-11-18T13:24+0100",
     "shell.execute_reply.started": "2021-11-18T13:24+0100"
    },
    "tags": []
   },
   "outputs": [
    {
     "name": "stdout",
     "output_type": "stream",
     "text": [
      "Marke von c1: Fuhitsu, ist c1 an?: false.\n",
      "Ist c1 an?: true\n"
     ]
    }
   ],
   "source": [
    "class Computer (){\n",
    "    val marke: String = \"Fuhitsu\"\n",
    "    var istAn: Boolean = false\n",
    "}\n",
    "\n",
    "val c1 = Computer ()\n",
    "println(\"Marke von c1: ${c1.marke}, ist c1 an?: ${c1.istAn}.\") //Benutzung der Getter von marke und istAn\n",
    "//c1.marke = \"LD\" -> Error, da das Feld marke nicht verändert werden kann und keinen Setter besitzt\n",
    "c1.istAn = true //Aufruf des Setters von istAn. Das Feld istAn kann verändert werden, da ein Setter vorhanden und das Feld vom Typ var ist\n",
    "println(\"Ist c1 an?: ${c1.istAn}\")"
   ]
  },
  {
   "cell_type": "markdown",
   "id": "90ba49a9",
   "metadata": {},
   "source": [
    "### Konstruktor\n",
    "Mit dem Konstruktor können die Felder bei Objekterzeugung mit Werten bestückt werden. Aufgrund des *Konstruktorwirrars* in Java, unterscheidet Kotlin zwischen zwei verschiedenenen Arten:\n",
    "* primärer Konstruktor: Dieser Konstruktor muss mindestens ein Mal in jeder Klasse enthalten sein. Falls er nicht explizit definiert wurde, wird ein automatisch generierter Konstruktor implizit hinzugefügt.\n",
    "* sekundärer Konstruktor: Eine Anweisung, die auf einen primären Konstruktor verweist und eine alternative Handhabung des primären Konstruktors ermöglicht.\n",
    "\n",
    "#### Primärer Konstruktor\n",
    "Der primäre Konstruktor ist für die eigentliche Erzeugung der Objekte zuständig und besitzt drei verschiedene Erscheinungsformen:\n",
    "<ul>\n",
    "    <li>Defaultkonstruktor</li>\n",
    "    <li>Konstruktor mit <code>init</code>-Block</li>\n",
    "    <li>Konstruktor durch direkte Zuweisung</li>\n",
    "</ul>\n",
    "\n",
    "Im Folgenden wird auf alle Arten Bezug genommen und im Anschluss ein Vergleich angestellt.\n",
    "##### Defaultkonstruktor\n",
    "Der Defaultkonstruktor wurde bereits bei den [Feldern](#Felder) kennengelernt. Dieser wird vom Compiler für alle Parameter, denen ein Variablentyp zugewiesen wurde, generiert.  "
   ]
  },
  {
   "cell_type": "code",
   "execution_count": 4,
   "id": "2874a6f5",
   "metadata": {
    "execution": {
     "iopub.execute_input": "2021-11-18T13:24+0100",
     "iopub.status.busy": "2021-11-18T13:24+0100",
     "iopub.status.idle": "2021-11-18T13:24+0100",
     "shell.execute_reply": "2021-11-18T13:24+0100",
     "shell.execute_reply.started": "2021-11-18T13:24+0100"
    },
    "tags": []
   },
   "outputs": [
    {
     "name": "stdout",
     "output_type": "stream",
     "text": [
      "Die Flasche mit der Farbe Grau ist zu 20% gefüllt.\n"
     ]
    }
   ],
   "source": [
    "class Flasche (val farbe: String, var füllung: Int)\n",
    "val f1 = Flasche (\"Grau\", 20)\n",
    "println(\"Die Flasche mit der Farbe ${f1.farbe} ist zu ${f1.füllung}% gefüllt.\")"
   ]
  },
  {
   "cell_type": "markdown",
   "id": "c9ae4eb0",
   "metadata": {},
   "source": [
    "##### Konstruktor mit init-Block\n",
    "Natürlich kann der Konstruktor auch selbst, wie aus Java gewohnt, definiert werden. Dieser ist zwischen der Deklaration der Felder und den Objektmethoden anzusiedeln. Eingeleitet wird er mit dem Schlüsselwort `init`, gefolgt von einem Methodenrumpf. Im Vergleich zu Java werden dessen Parameter nicht direkt im Kopf des Konstruktors, sondern im Kopf der Klasse angegeben. Die dort definierten Parameter können im Konstruktor benutzt werden. Bei Namenskonflikten findet das Schlüsselwort `this` Anwendung, dass das aktuelle Objekt referenziert."
   ]
  },
  {
   "cell_type": "code",
   "execution_count": 5,
   "id": "e64b710e",
   "metadata": {
    "execution": {
     "iopub.execute_input": "2021-11-18T13:24+0100",
     "iopub.status.busy": "2021-11-18T13:24+0100",
     "iopub.status.idle": "2021-11-18T13:24+0100",
     "shell.execute_reply": "2021-11-18T13:24+0100",
     "shell.execute_reply.started": "2021-11-18T13:24+0100"
    },
    "tags": []
   },
   "outputs": [
    {
     "name": "stdout",
     "output_type": "stream",
     "text": [
      "Bett b1: Länge 160, Breite 200, belegt false\n",
      "Bett b2: Länge 0, Breite 50, belegt true\n"
     ]
    }
   ],
   "source": [
    "class Bett (\n",
    "    laenge: Int, breite: Int, belegt: Boolean //Übergabeparameter bei Objekterzeugung. Können im init-Block verwendet werden.\n",
    "){\n",
    "    val laenge: Int\n",
    "    val breite: Int\n",
    "    var belegt: Boolean\n",
    "    \n",
    "    init { //primärer Konstruktor mit init-Block. In diesem kann auf die Parameter zugegriffen werden.\n",
    "        this.laenge = if (laenge > 0) laenge else 0\n",
    "        this.breite = if (breite > 0) breite else 0\n",
    "        this.belegt = belegt\n",
    "    }\n",
    "}\n",
    "val b1 = Bett (160, 200, false)\n",
    "val b2 = Bett (-100, 50, true)\n",
    "println(\"Bett b1: Länge ${b1.laenge}, Breite ${b1.breite}, belegt ${b1.belegt}\")\n",
    "println(\"Bett b2: Länge ${b2.laenge}, Breite ${b2.breite}, belegt ${b2.belegt}\")"
   ]
  },
  {
   "cell_type": "markdown",
   "id": "d53f8f30",
   "metadata": {},
   "source": [
    "##### Konstruktor durch direkte Initialisierung\n",
    "Eine weitere Möglichkeit der Initialisierung ist, die Felder direkt bei der Deklaration Parameter oder festgelegte Werte zuzuweisen."
   ]
  },
  {
   "cell_type": "code",
   "execution_count": 6,
   "id": "3973d3d4",
   "metadata": {
    "execution": {
     "iopub.execute_input": "2021-11-18T13:24+0100",
     "iopub.status.busy": "2021-11-18T13:24+0100",
     "iopub.status.idle": "2021-11-18T13:24+0100",
     "shell.execute_reply": "2021-11-18T13:24+0100",
     "shell.execute_reply.started": "2021-11-18T13:24+0100"
    },
    "tags": []
   },
   "outputs": [
    {
     "name": "stdout",
     "output_type": "stream",
     "text": [
      "Tisch t1: Länge 100, Breite 100, Farbe Braun\n",
      "Tisch t2: Länge 0, Breite 50, Farbe Weiß\n"
     ]
    }
   ],
   "source": [
    "class Tisch (\n",
    "    laenge: Int, breite: Int, farbe: String //Übergabeparameter bei Objekterzeugung. Können den Feldern direkt zugewiesen werden.\n",
    "){\n",
    "    val laenge: Int = if (laenge > 0) laenge else 0\n",
    "    val breite = if (breite > 0) breite else 0 //Kurzschreibweise ist zulässig. Dabei wird der Datentyp des Parameters übernommen\n",
    "    var farbe: String = farbe\n",
    "}\n",
    "\n",
    "val t1 = Tisch (100, 100, \"Braun\")\n",
    "val t2 = Tisch (-100, 50, \"Weiß\")\n",
    "println(\"Tisch t1: Länge ${t1.laenge}, Breite ${t1.breite}, Farbe ${t1.farbe}\")\n",
    "println(\"Tisch t2: Länge ${t2.laenge}, Breite ${t2.breite}, Farbe ${t2.farbe}\")"
   ]
  },
  {
   "cell_type": "markdown",
   "id": "9cf052e2",
   "metadata": {},
   "source": [
    "##### Vergleich\n",
    "Jede Erscheinungsform des Konstruktors hat seine Vorteile und Anwendungsbereiche. Während der Defaultkonstruktor bei einfachen Klassen, bei denen die Parameter unverändert zugewiesen werden zu bevorzugen ist, bieten die expliziten Konstruktoren genau die Möglichkeit der vorherigen Bearbeitung. Auf dem ersten Blick scheint es so, als sei der Konstruktor mit einem `init`-Block 1:1 zu ersetzen durch einen Konstruktor mit direkter Initialisierung, da die Parameter scheinbar mit dem gleichen Ergebnis direkt zugewiesen werden können. Jedoch ist der zuletzt Genannte bei komplexeren Klassen zu bevorzugen, da dort alle Daten erst auf Richtigkeit, beispielweise mit `try` und `catch`, geprüft werden können (Näheres dazu in [Lektion 8](Lektion-8---Fehlerbehandlung)).\n",
    "\n",
    "##### Kombination\n",
    "Die verschiedenen Konstruktoren können auch beliebig miteinander kombiniert werden. "
   ]
  },
  {
   "cell_type": "code",
   "execution_count": 7,
   "id": "71b4f6dd",
   "metadata": {
    "execution": {
     "iopub.execute_input": "2021-11-18T13:24+0100",
     "iopub.status.busy": "2021-11-18T13:24+0100",
     "iopub.status.idle": "2021-11-18T13:24+0100",
     "shell.execute_reply": "2021-11-18T13:24+0100",
     "shell.execute_reply.started": "2021-11-18T13:24+0100"
    },
    "tags": []
   },
   "outputs": [
    {
     "name": "stdout",
     "output_type": "stream",
     "text": [
      "Stuhl s1: Länge 20, Breite 20, belegt true\n",
      "Stuhl s2: Länge 0, Breite 30, belegt false\n"
     ]
    }
   ],
   "source": [
    "class Stuhl (laenge: Int, breite: Int, var belegt: Boolean){ //belegt: Defaultkonstruktor\n",
    "    val laenge = if (laenge > 0) laenge else 0 //laenge: direkte Zuweisung\n",
    "    val breite: Int\n",
    "\n",
    "    init { //breite: init-Block\n",
    "        this.breite = if (breite > 0) breite else 0\n",
    "    }\n",
    "}\n",
    "\n",
    "val s1 = Stuhl (20, 20, true)\n",
    "val s2 = Stuhl (-20, 30, false)\n",
    "println(\"Stuhl s1: Länge ${s1.laenge}, Breite ${s1.breite}, belegt ${s1.belegt}\")\n",
    "println(\"Stuhl s2: Länge ${s2.laenge}, Breite ${s2.breite}, belegt ${s2.belegt}\")"
   ]
  },
  {
   "cell_type": "markdown",
   "id": "7b4bae42",
   "metadata": {},
   "source": [
    "##### Mehrere primäre Konstruktoren\n",
    "Eine wichtige Eigenschaft einer Klasse fehlt aber noch: Die Erzeugung eines Objekts mit unterschiedlichen Parameterprofilen. Um das zu erreichen können in der Klasse mehrere primäre Konstruktoren implementiert werden. Diesen wird das Schlüsselwort `constructor` vorangestellt. Außerdem bekommt jeder Konstruktor sein eigenes Parameterprofil, mit dem dieser in dessen Rumpf arbeiten kann. Die Konstruktoren ähneln dabei dem `init`-Verfahren, da sie alle ihren eigenen Rumpf besitzen. Die Parameterklammern der Klasse werden weggelassen."
   ]
  },
  {
   "cell_type": "code",
   "execution_count": 8,
   "id": "427c1d2a",
   "metadata": {
    "execution": {
     "iopub.execute_input": "2021-11-18T13:24+0100",
     "iopub.status.busy": "2021-11-18T13:24+0100",
     "iopub.status.idle": "2021-11-18T13:24+0100",
     "shell.execute_reply": "2021-11-18T13:24+0100",
     "shell.execute_reply.started": "2021-11-18T13:24+0100"
    },
    "tags": []
   },
   "outputs": [
    {
     "name": "stdout",
     "output_type": "stream",
     "text": [
      "Konstruktion eines normalen Fensters\n",
      "Fenster fensterNormal: Länge 50, Breite 0, Zustand Gebraucht \n",
      "\n",
      "Konstruktion eines quadratischen Fensters\n",
      "Fenster fensterQuadrat: Länge 60, Breite 60, Zustand Schmutzig \n",
      "\n",
      "Konstruktion eines neuen Fensters\n",
      "Fenster fensterNeu: Länge 100, Breite 120, Zustand Neu\n"
     ]
    }
   ],
   "source": [
    "class Fenster { //Parameterklammern fehlen\n",
    "    val laenge: Int\n",
    "    val breite: Int\n",
    "    var zustand: String\n",
    "    \n",
    "    //Konstruktor eines normalen Fensters\n",
    "    constructor (laenge: Int, breite: Int, zustand: String){\n",
    "        println(\"Konstruktion eines normalen Fensters\")\n",
    "        this.laenge = if (laenge > 0) laenge else 0\n",
    "        this.breite = if (breite > 0) breite else 0\n",
    "        this.zustand = zustand\n",
    "    }\n",
    "    //Konstruktor eines quadratischen Fensters\n",
    "    constructor (laenge: Int, zustand: String){\n",
    "        println(\"Konstruktion eines quadratischen Fensters\")\n",
    "        this.laenge = if (laenge > 0) laenge else 0\n",
    "        this.breite = laenge\n",
    "        this.zustand = zustand\n",
    "    }\n",
    "    //Konstruktor eines neuen Fensters\n",
    "    constructor (laenge: Int, breite: Int){\n",
    "        println(\"Konstruktion eines neuen Fensters\")\n",
    "        this.laenge = if (laenge > 0) laenge else 0\n",
    "        this.breite = if (breite > 0) breite else 0\n",
    "        this.zustand = \"Neu\"\n",
    "    }\n",
    "}\n",
    "\n",
    "val fensterNormal = Fenster (50, -80, \"Gebraucht\")\n",
    "println(\"Fenster fensterNormal: Länge ${fensterNormal.laenge}, Breite ${fensterNormal.breite}, Zustand ${fensterNormal.zustand} \\n\")\n",
    "val fensterQuadrat = Fenster (60, \"Schmutzig\")\n",
    "println(\"Fenster fensterQuadrat: Länge ${fensterQuadrat.laenge}, Breite ${fensterQuadrat.breite}, Zustand ${fensterQuadrat.zustand} \\n\")\n",
    "val fensterNeu = Fenster (100, 120)\n",
    "println(\"Fenster fensterNeu: Länge ${fensterNeu.laenge}, Breite ${fensterNeu.breite}, Zustand ${fensterNeu.zustand}\")"
   ]
  },
  {
   "cell_type": "markdown",
   "id": "dc570ddb",
   "metadata": {},
   "source": [
    "#### Sekundärer Konstruktor\n",
    "Mit Hilfe eines sekundären Konstruktors ist es einfach möglich alternative Wege Objekte zu erzeugen. Dazu wird ein primärer Konstruktor mit `this()` und zu bestimmenden Parametern aufgerufen. Auch kann ein anderer sekundärer Konstruktor aufgerufen, jedoch muss am Ende immer ein Primärer benutzt werden, da nur dieser das Objekt erzeugen kann. Die Implementierung eines sekundären Konstruktors ähnelt der bei Benutzung mehrerer primärer Konstruktoren. Jedoch ist nur eine Anweisung erlaubt, die von den Parametern mit `:` getrennt wird und einen primären Konstruktor aufruft."
   ]
  },
  {
   "cell_type": "code",
   "execution_count": 9,
   "id": "a10a5bcd",
   "metadata": {
    "execution": {
     "iopub.execute_input": "2021-11-18T13:24+0100",
     "iopub.status.busy": "2021-11-18T13:24+0100",
     "iopub.status.idle": "2021-11-18T13:24+0100",
     "shell.execute_reply": "2021-11-18T13:24+0100",
     "shell.execute_reply.started": "2021-11-18T13:24+0100"
    },
    "tags": []
   },
   "outputs": [
    {
     "name": "stdout",
     "output_type": "stream",
     "text": [
      "Batterie eigeneBatterie: Kapazität 2000, Wiederaufladbar true, Ladezyklen 42, Status Gebraucht\n",
      "Batterie neueBatterie: Kapazität 3000, Wiederaufladbar false, Ladezyklen 0, Status Neu\n",
      "Batterie BBBatterie: Kapazität 2400, Wiederaufladbar false, Ladezyklen 0, Status Neu\n"
     ]
    }
   ],
   "source": [
    "//primärer Konstruktor: Defaultkonstruktor\n",
    "class Batterie (val kapazitaet: Int, val wiederaufladbar: Boolean, var ladezyklen: Int, val status: String){\n",
    "    //sekundärer Konstruktor: Neue Batterie mit Angabe von Kapazität und Wiederaufladbarkeit\n",
    "    constructor (kapazitaet: Int, wiederaufladbar: Boolean) : this(kapazitaet, wiederaufladbar, 0, \"Neu\") //Benutzt den primären Konstruktor\n",
    "    //sekundärer Konstruktor: Neue BB Einmalbatterie\n",
    "    constructor () : this(2400, false) //Benutzt den anderen sekundären Konstruktor\n",
    "}\n",
    "val eigeneBatterie = Batterie(2000, true, 42, \"Gebraucht\") //primärer Konstruktor\n",
    "println(\"Batterie eigeneBatterie: Kapazität ${eigeneBatterie.kapazitaet}, Wiederaufladbar ${eigeneBatterie.wiederaufladbar}, Ladezyklen ${eigeneBatterie.ladezyklen}, Status ${eigeneBatterie.status}\")\n",
    "val neueBatterie = Batterie(3000, false) //sekundärer Konstruktor: Neue Batterie mit Angabe von Kapazität und Wiederaufladbarkeit\n",
    "println(\"Batterie neueBatterie: Kapazität ${neueBatterie.kapazitaet}, Wiederaufladbar ${neueBatterie.wiederaufladbar}, Ladezyklen ${neueBatterie.ladezyklen}, Status ${neueBatterie.status}\")\n",
    "val BBBatterie = Batterie() //sekundärer Konstruktor: Neue BB Einmalbatterie\n",
    "println(\"Batterie BBBatterie: Kapazität ${BBBatterie.kapazitaet}, Wiederaufladbar ${BBBatterie.wiederaufladbar}, Ladezyklen ${BBBatterie.ladezyklen}, Status ${BBBatterie.status}\")"
   ]
  },
  {
   "cell_type": "markdown",
   "id": "2497522e",
   "metadata": {},
   "source": [
    "### Aufgabe - Pizzaria Kotlin\n",
    "Implementieren Sie eine Klasse `Pizza`. Jede Pizza soll eine Größe `groeße` (zwischen 15 und 30 [cm], ansonsten -1) und eine Liste aus Belägen `belaege` (Standardmäßig bereits mit Tomatensoße und Käse befüllt) enthalten. Außerdem soll gespeichert werden, ob sie geschnitten `geschnitten` werden soll. Wählen Sie einen passenden primären Konstruktor, der für jedes Feld einen Übergabeparameter besitzt. Fügen Sie außerdem weitere (sekundäre) Konstruktoren hinzu, die eine Pizza Magaritha (Tomatensoße, Mozzarella) und eine 25cm Pizza al Tonno (Tomatensoße, Mozzarella, Thunfisch, Zwiebeln, Peperoni) initialisieren. Beide Pizzen sollen geschnitten werden."
   ]
  },
  {
   "cell_type": "code",
   "execution_count": 10,
   "id": "00953d54",
   "metadata": {
    "execution": {
     "iopub.execute_input": "2021-11-18T13:24+0100",
     "iopub.status.busy": "2021-11-18T13:24+0100",
     "iopub.status.idle": "2021-11-18T13:24+0100"
    }
   },
   "outputs": [
    {
     "name": "stderr",
     "output_type": "stream",
     "text": [
      "Line_9.jupyter-kts (5:13 - 18) Unresolved reference: Pizza\n",
      "Line_9.jupyter-kts (10:13 - 18) Unresolved reference: Pizza\n",
      "Line_9.jupyter-kts (15:13 - 18) Unresolved reference: Pizza\n",
      "Line_9.jupyter-kts (20:13 - 18) Unresolved reference: Pizza\n",
      "Line_9.jupyter-kts (25:13 - 18) Unresolved reference: Pizza\n",
      "Line_9.jupyter-kts (30:13 - 18) Unresolved reference: Pizza\n",
      "Line_9.jupyter-kts (35:13 - 18) Unresolved reference: Pizza"
     ]
    }
   ],
   "source": [
    "//TODO\n",
    "\n",
    "//Tests\n",
    "var fehler = 0\n",
    "val test1 = Pizza(25, listOf(\"Schinken\"), false)\n",
    "if( test1.groeße != 25 || test1.belaege != listOf(\"Tomatensoße\", \"Mozzarella\", \"Schinken\") || test1.geschnitten != false ){\n",
    "    fehler++\n",
    "    println(\"Fehler bei Test 1! Richtig wäre: Größe 25, Beläge [Tomatensoße, Mozzarella, Schinken], Geschnitten false \\n  Ist: Größe ${test1.groeße}, Beläge ${test1.belaege}, Geschnitten ${test1.geschnitten}\")\n",
    "}\n",
    "val test2 = Pizza(31, listOf(\"Schinken\"), false)\n",
    "if( test2.groeße != -1 || test2.belaege != listOf(\"Tomatensoße\", \"Mozzarella\", \"Schinken\") || test2.geschnitten != false ){\n",
    "    fehler++\n",
    "    println(\"Fehler bei Test 2! Richtig wäre: Größe -1, Beläge [Tomatensoße, Mozzarella, Schinken], Geschnitten false \\n  Ist: Größe ${test2.groeße}, Beläge ${test2.belaege}, Geschnitten ${test2.geschnitten}\")\n",
    "}\n",
    "val test3 = Pizza(14, listOf(\"Schinken\"), false)\n",
    "if( test3.groeße != -1 || test3.belaege != listOf(\"Tomatensoße\", \"Mozzarella\", \"Schinken\") || test3.geschnitten != false ){\n",
    "    fehler++\n",
    "    println(\"Fehler bei Test 3! Richtig wäre: Größe -1, Beläge [Tomatensoße, Mozzarella, Schinken], Geschnitten false \\n  Ist: Größe ${test3.groeße}, Beläge ${test3.belaege}, Geschnitten ${test3.geschnitten}\")\n",
    "}\n",
    "val test4 = Pizza(31, listOf(\"Schinken\"), false)\n",
    "if( test4.groeße != -1 || test4.belaege != listOf(\"Tomatensoße\", \"Mozzarella\", \"Schinken\") || test4.geschnitten != false ){\n",
    "    fehler++\n",
    "    println(\"Fehler bei Test 4! Richtig wäre: Größe -1, Beläge [Tomatensoße, Mozzarella, Schinken], Geschnitten false \\n  Ist: Größe ${test4.groeße}, Beläge ${test4.belaege}, Geschnitten ${test4.geschnitten}\")\n",
    "}\n",
    "val test5 = Pizza(28, emptyList(), true)\n",
    "if( test5.groeße != 28 || test5.belaege != listOf(\"Tomatensoße\", \"Mozzarella\") || test5.geschnitten != true ){\n",
    "    fehler++\n",
    "    println(\"Fehler bei Test 5! Richtig wäre: Größe 28, Beläge [Tomatensoße, Mozzarella], Geschnitten true \\n  Ist: Größe ${test5.groeße}, Beläge ${test5.belaege}, Geschnitten ${test5.geschnitten}\")\n",
    "}\n",
    "val test6 = Pizza(15)\n",
    "if( test6.groeße != 15 || test6.belaege != listOf(\"Tomatensoße\", \"Mozzarella\") || test6.geschnitten != true ){\n",
    "    fehler++\n",
    "    println(\"Fehler bei Test 6! Richtig wäre: Größe 15, Beläge [Tomatensoße, Mozzarella], Geschnitten true \\n  Ist: Größe ${test6.groeße}, Beläge ${test6.belaege}, Geschnitten ${test6.geschnitten}\")\n",
    "}\n",
    "val test7 = Pizza()\n",
    "if( test7.groeße != 25 || test7.belaege != listOf(\"Tomatensoße\", \"Mozzarella\", \"Thunfisch\", \"Zwiebeln\", \"Peperoni\") || test7.geschnitten != true ){\n",
    "    fehler++\n",
    "    println(\"Fehler bei Test 7! Richtig wäre: Größe 25, Beläge [Tomatensoße, Mozzarella, Thunfisch, Zwiebeln, Peperoni], Geschnitten false \\n  Ist: Größe ${test7.groeße}, Beläge ${test7.belaege}, Geschnitten ${test7.geschnitten}\")\n",
    "}\n",
    "if(fehler == 0)\n",
    "    println(\"Super! Alle Tests bestanden!\")\n",
    "else\n",
    "    println(\"Bei $fehler Tests kamen Fehler auf.\")"
   ]
  },
  {
   "cell_type": "code",
   "execution_count": 11,
   "id": "ee6d0bea",
   "metadata": {
    "execution": {
     "iopub.execute_input": "2021-11-18T13:24+0100",
     "iopub.status.busy": "2021-11-18T13:24+0100",
     "iopub.status.idle": "2021-11-18T13:24+0100",
     "shell.execute_reply": "2021-11-18T13:24+0100",
     "shell.execute_reply.started": "2021-11-18T13:24+0100"
    },
    "tags": []
   },
   "outputs": [
    {
     "name": "stdout",
     "output_type": "stream",
     "text": [
      "Super! Alle Tests bestanden!\n"
     ]
    }
   ],
   "source": [
    "//Lösung\n",
    "class Pizza (groeße: Int, belaege: List<String>, geschnitten: Boolean){\n",
    "    val groeße: Int\n",
    "    val belaege: MutableList<String>\n",
    "    val geschnitten: Boolean\n",
    "    \n",
    "    init {\n",
    "        this.groeße = if (15 <= groeße && groeße <= 30) groeße else -1\n",
    "        this.belaege = mutableListOf(\"Tomatensoße\", \"Mozzarella\")\n",
    "        this.belaege += belaege\n",
    "        this.geschnitten = geschnitten\n",
    "    }\n",
    "    \n",
    "    constructor (groeße: Int) : this(groeße, emptyList(), true) //Pizza Magaritha\n",
    "    constructor () : this(25, listOf(\"Thunfisch\", \"Zwiebeln\", \"Peperoni\"), true) //Pizza al Tonno\n",
    "}\n",
    "\n",
    "//Tests\n",
    "var fehler = 0\n",
    "val test1 = Pizza(25, listOf(\"Schinken\"), false)\n",
    "if( test1.groeße != 25 || test1.belaege != listOf(\"Tomatensoße\", \"Mozzarella\", \"Schinken\") || test1.geschnitten != false ){\n",
    "    fehler++\n",
    "    println(\"Fehler bei Test 1! Richtig wäre: Größe 25, Beläge [Tomatensoße, Mozzarella, Schinken], Geschnitten false \\n  Ist: Größe ${test1.groeße}, Beläge ${test1.belaege}, Geschnitten ${test1.geschnitten}\")\n",
    "}\n",
    "val test2 = Pizza(31, listOf(\"Schinken\"), false)\n",
    "if( test2.groeße != -1 || test2.belaege != listOf(\"Tomatensoße\", \"Mozzarella\", \"Schinken\") || test2.geschnitten != false ){\n",
    "    fehler++\n",
    "    println(\"Fehler bei Test 2! Richtig wäre: Größe -1, Beläge [Tomatensoße, Mozzarella, Schinken], Geschnitten false \\n  Ist: Größe ${test2.groeße}, Beläge ${test2.belaege}, Geschnitten ${test2.geschnitten}\")\n",
    "}\n",
    "val test3 = Pizza(14, listOf(\"Schinken\"), false)\n",
    "if( test3.groeße != -1 || test3.belaege != listOf(\"Tomatensoße\", \"Mozzarella\", \"Schinken\") || test3.geschnitten != false ){\n",
    "    fehler++\n",
    "    println(\"Fehler bei Test 3! Richtig wäre: Größe -1, Beläge [Tomatensoße, Mozzarella, Schinken], Geschnitten false \\n  Ist: Größe ${test3.groeße}, Beläge ${test3.belaege}, Geschnitten ${test3.geschnitten}\")\n",
    "}\n",
    "val test4 = Pizza(31, listOf(\"Schinken\"), false)\n",
    "if( test4.groeße != -1 || test4.belaege != listOf(\"Tomatensoße\", \"Mozzarella\", \"Schinken\") || test4.geschnitten != false ){\n",
    "    fehler++\n",
    "    println(\"Fehler bei Test 4! Richtig wäre: Größe -1, Beläge [Tomatensoße, Mozzarella, Schinken], Geschnitten false \\n  Ist: Größe ${test4.groeße}, Beläge ${test4.belaege}, Geschnitten ${test4.geschnitten}\")\n",
    "}\n",
    "val test5 = Pizza(28, emptyList(), true)\n",
    "if( test5.groeße != 28 || test5.belaege != listOf(\"Tomatensoße\", \"Mozzarella\") || test5.geschnitten != true ){\n",
    "    fehler++\n",
    "    println(\"Fehler bei Test 5! Richtig wäre: Größe 28, Beläge [Tomatensoße, Mozzarella], Geschnitten true \\n  Ist: Größe ${test5.groeße}, Beläge ${test5.belaege}, Geschnitten ${test5.geschnitten}\")\n",
    "}\n",
    "val test6 = Pizza(15)\n",
    "if( test6.groeße != 15 || test6.belaege != listOf(\"Tomatensoße\", \"Mozzarella\") || test6.geschnitten != true ){\n",
    "    fehler++\n",
    "    println(\"Fehler bei Test 6! Richtig wäre: Größe 15, Beläge [Tomatensoße, Mozzarella], Geschnitten true \\n  Ist: Größe ${test6.groeße}, Beläge ${test6.belaege}, Geschnitten ${test6.geschnitten}\")\n",
    "}\n",
    "val test7 = Pizza()\n",
    "if( test7.groeße != 25 || test7.belaege != listOf(\"Tomatensoße\", \"Mozzarella\", \"Thunfisch\", \"Zwiebeln\", \"Peperoni\") || test7.geschnitten != true ){\n",
    "    fehler++\n",
    "    println(\"Fehler bei Test 7! Richtig wäre: Größe 25, Beläge [Tomatensoße, Mozzarella, Thunfisch, Zwiebeln, Peperoni], Geschnitten false \\n  Ist: Größe ${test7.groeße}, Beläge ${test7.belaege}, Geschnitten ${test7.geschnitten}\")\n",
    "}\n",
    "if(fehler == 0)\n",
    "    println(\"Super! Alle Tests bestanden!\")\n",
    "else\n",
    "    println(\"Bei $fehler Tests kamen Fehler auf.\")"
   ]
  },
  {
   "cell_type": "markdown",
   "id": "c7c73b6b",
   "metadata": {},
   "source": [
    "### Getter und Setter\n",
    "Es können aber auch eigene Getter und Setter für jedes Feld definiert werden, falls der Variablentyp dies zulässt und diese erst im Rumpf der Klasse definiert werden. Beide müssen direkt nach dem Feld definiert werden. Auf den aktuellen Wert des Feldes kann mit `field` zugegriffen werden. Der Setter bekommt den neuen Wert als Parameter übergeben. Der Datentyp des Parameters muss nicht angegeben werden, da dieser durch das Feld gegeben ist, jedoch muss ihm ein Name zugewiesen werden, der im Rumpf den neuen Wert repräsentiert. Der Wert des Feldes wird mit einer Zuweisung an `field` geändert. Es sind immer die Datentypen der Felder zu beachten."
   ]
  },
  {
   "cell_type": "code",
   "execution_count": 12,
   "id": "b45bc13a",
   "metadata": {
    "execution": {
     "iopub.execute_input": "2021-11-18T13:24+0100",
     "iopub.status.busy": "2021-11-18T13:24+0100",
     "iopub.status.idle": "2021-11-18T13:24+0100",
     "shell.execute_reply": "2021-11-18T13:24+0100",
     "shell.execute_reply.started": "2021-11-18T13:24+0100"
    },
    "tags": []
   },
   "outputs": [
    {
     "name": "stdout",
     "output_type": "stream",
     "text": [
      "Person p1: Name: Max Mustermann, Alter -1\n",
      "Person p1: Name: Max Mustermann, Alter 21\n",
      "Person p1: Name: Max Mustermann, Alter 21\n"
     ]
    }
   ],
   "source": [
    "public class Person (name: String, alter: Int){\n",
    "    val name: String = name\n",
    "        get() = \"Name: $field\" //Wird auf das Feld name zugegeriffen, wird der String \"Name: name\" zurückgegeben\n",
    "        //Kein Setter möglich, da val\n",
    "    var alter = if (alter > 0) alter else -1\n",
    "        get() = field //Standardgetter\n",
    "        set(value){ //Eigener Setter. Der neue Wert wird in value gespeichert\n",
    "            field = if (value > field) value else field //Das Feld wird auf den neuen Wert gesetzt, falls dieser größer als der Aktuelle ist.\n",
    "        }\n",
    "}\n",
    "val p1 = Person (\"Max Mustermann\", -10)\n",
    "println(\"Person p1: ${p1.name}, Alter ${p1.alter}\")\n",
    "p1.alter = 21\n",
    "println(\"Person p1: ${p1.name}, Alter ${p1.alter}\")\n",
    "p1.alter = -10\n",
    "println(\"Person p1: ${p1.name}, Alter ${p1.alter}\")"
   ]
  },
  {
   "cell_type": "markdown",
   "id": "ca63a524",
   "metadata": {},
   "source": [
    "#### Computed Properties\n",
    "Durch die Definition eigener Getter können Felder auch *kleine Methoden* darstellen ohne einen eigenen Wert zu speichern. So können beispielsweise berechnete Wahrheitswerte zurückgegeben werden. Dadurch können rudimentäre Methoden ersetzt werden. Als Beispiel wird die bereits kennengelernte Klasse `Person` mit einem berechneten Feld `istVolljaerig` ergänzt."
   ]
  },
  {
   "cell_type": "code",
   "execution_count": 13,
   "id": "29edee55",
   "metadata": {
    "execution": {
     "iopub.execute_input": "2021-11-18T13:24+0100",
     "iopub.status.busy": "2021-11-18T13:24+0100",
     "iopub.status.idle": "2021-11-18T13:24+0100",
     "shell.execute_reply": "2021-11-18T13:24+0100",
     "shell.execute_reply.started": "2021-11-18T13:24+0100"
    },
    "tags": []
   },
   "outputs": [
    {
     "name": "stdout",
     "output_type": "stream",
     "text": [
      "Person p1: Name: Max Mustermann, Alter 21, Volljährig true\n"
     ]
    }
   ],
   "source": [
    "public class Person (name: String, alter: Int){\n",
    "    val name: String = name\n",
    "        get() = \"Name: $field\" //Wird auf das Feld name zugegeriffen, wird der String \"Name: name\" zurückgegeben\n",
    "        //Kein Setter möglich, da val\n",
    "    var alter = if (alter > 0) alter else -1\n",
    "        get() = field //Standardgetter\n",
    "        set(value){ //Eigener Setter. Der neue Wert wird in value gespeichert\n",
    "            field = if (value > field) value else field //Das Feld wird auf den neuen Wert gesetzt, falls dieser größer als der Aktuelle ist.\n",
    "        }\n",
    "    val istVolljaerig //Datentyp Boolean aus dem Getter\n",
    "        get() = alter > 17\n",
    "}\n",
    "val p1 = Person (\"Max Mustermann\", 21)\n",
    "println(\"Person p1: ${p1.name}, Alter ${p1.alter}, Volljährig ${p1.istVolljaerig}\")"
   ]
  },
  {
   "cell_type": "markdown",
   "id": "3a5cf475",
   "metadata": {},
   "source": [
    "#### Lazy Properties\n",
    "Eine Variable oder ein Feld des Typs `val` kann mit dem Schlüsselwort `by lazy` *träge* gemacht werden. Das heißt, dass der Wert erst bei der ersten Verwendung berechnet wird. Dazu ist ein Lambda-Ausdruck nötig, dessen Ergebnis der Wert des Feldes oder der Variable ist. Wird die Variable danach noch einmal verwendet, wird der Inhalt nicht noch einmal berechnet, sondern auf den gespeicherten Wert zurückgegriffen."
   ]
  },
  {
   "cell_type": "code",
   "execution_count": 14,
   "id": "c0edaa4b",
   "metadata": {
    "execution": {
     "iopub.execute_input": "2021-11-18T13:24+0100",
     "iopub.status.busy": "2021-11-18T13:24+0100",
     "iopub.status.idle": "2021-11-18T13:24+0100",
     "shell.execute_reply": "2021-11-18T13:24+0100",
     "shell.execute_reply.started": "2021-11-18T13:24+0100"
    },
    "tags": []
   },
   "outputs": [
    {
     "name": "stdout",
     "output_type": "stream",
     "text": [
      "Wird berechnet...\n",
      "true\n",
      "true\n"
     ]
    }
   ],
   "source": [
    "public class Person (name: String, alter: Int){\n",
    "    val name = name\n",
    "    var alter = alter\n",
    "    val istVolljaehrig: Boolean by lazy {\n",
    "        println(\"Wird berechnet...\")\n",
    "        alter > 18\n",
    "    }\n",
    "}\n",
    "val p1 = Person(\"Erika Musterfrau\", 32)\n",
    "println(p1.istVolljaehrig)\n",
    "println(p1.istVolljaehrig)"
   ]
  },
  {
   "cell_type": "markdown",
   "id": "eb9585f0",
   "metadata": {},
   "source": [
    "#### `lateinit`\n",
    "Ein weiteres, ähnliches Konstrukt ist `lateinit`. Dies findet Anwendung, wenn ein Feld erst nach der Objekterzeugung einen Wert zugewiesen bekommt. Dieses Feld kann im Konstruktor ignoriert werden.  \n",
    "Vorraussetzungen:\n",
    "* Das Feld ist vom Typ `var`\n",
    "* Der Datentyp des Feldes ist *non-nullable*\n",
    "* Der Datentyp des Feldes ist nicht primitiv"
   ]
  },
  {
   "cell_type": "code",
   "execution_count": 15,
   "id": "c4a4c9f2",
   "metadata": {
    "execution": {
     "iopub.execute_input": "2021-11-18T13:24+0100",
     "iopub.status.busy": "2021-11-18T13:24+0100",
     "iopub.status.idle": "2021-11-18T13:24+0100",
     "shell.execute_reply": "2021-11-18T13:24+0100",
     "shell.execute_reply.started": "2021-11-18T13:24+0100"
    },
    "tags": []
   },
   "outputs": [
    {
     "name": "stdout",
     "output_type": "stream",
     "text": [
      "Volljährig\n"
     ]
    }
   ],
   "source": [
    "public class Person (name: String, alter: Int){\n",
    "    val name = name\n",
    "    var alter = alter\n",
    "    lateinit var istVolljaehrig: String //istVolljaehrig wird nicht bei Objekterzeugung berechnet\n",
    "    \n",
    "    fun berechneIstVolljaehrig() { //Diese Methode berechnet den Wert des Feldes istVolljaehrig\n",
    "        istVolljaehrig = if (alter > 17) \"Volljährig\" else \"Nicht Volljährig\"\n",
    "    }\n",
    "}\n",
    "val p1 = Person (\"Max Mustermann\", 30)\n",
    "//println(p1.istVolljaehrig) -> Fehler: UninitializedPropertyAccessException: lateinit property istVolljaehrig has not been initialized\n",
    "p1.berechneIstVolljaehrig() //istVolljaehrig wird berechnet\n",
    "println(p1.istVolljaehrig)"
   ]
  },
  {
   "cell_type": "markdown",
   "id": "9bf99356",
   "metadata": {},
   "source": [
    "In einem `lateinit` Feld ist zusätzlich gespeichert, ob es bereits für das Objekt initialisiert wurde. Diese Information kann mit `this::name.isInitialized` abgerufen werden."
   ]
  },
  {
   "cell_type": "code",
   "execution_count": 16,
   "id": "5aee89c8",
   "metadata": {
    "execution": {
     "iopub.execute_input": "2021-11-18T13:24+0100",
     "iopub.status.busy": "2021-11-18T13:24+0100",
     "iopub.status.idle": "2021-11-18T13:24+0100",
     "shell.execute_reply": "2021-11-18T13:24+0100",
     "shell.execute_reply.started": "2021-11-18T13:24+0100"
    },
    "tags": []
   },
   "outputs": [
    {
     "name": "stdout",
     "output_type": "stream",
     "text": [
      "Versuch 1: false\n",
      "Versuch 2: true\n"
     ]
    }
   ],
   "source": [
    "public class Person (name: String, alter: Int){\n",
    "    val name = name\n",
    "    var alter = alter\n",
    "    lateinit var istVolljaehrig: String\n",
    "    \n",
    "    fun berechneIstVolljaehrig(){\n",
    "        istVolljaehrig = if (alter > 17) \"Volljährig\" else \"Nicht Volljährig\"\n",
    "    }\n",
    "    fun istInitialisiert() = this::istVolljaehrig.isInitialized\n",
    "}\n",
    "\n",
    "val p1 = Person (\"Max Mustermann\", 30)\n",
    "println(\"Versuch 1: ${p1.istInitialisiert()}\")\n",
    "p1.berechneIstVolljaehrig() //istVolljaehrig wird berechnet\n",
    "println(\"Versuch 2: ${p1.istInitialisiert()}\")"
   ]
  },
  {
   "cell_type": "markdown",
   "id": "28909fdd",
   "metadata": {},
   "source": [
    "### Sichtbarkeiten\n",
    "Bis jetzt wurden alle Variablen, Felder und Klassen öffentlich implementiert. Jedoch gibt es in Kotlin, wie auch in Java, Sichtbarkeiten, mit denen der Zugriff eingeschränkt werden kann.\n",
    "* `private`: Das Element kann nur in der Klasse verwendet werden. \n",
    "* `protected`: Erweitertung von `private`. Zusätzlich können auf die Elemente auch in Unterklassen zugegriffen werden.\n",
    "* `internal`: Erweiterung von `protected`. Das Element kann im ganzen Modul verwendet werden. Module können Sie sich als größere Pakete vorgestellen.\n",
    "* `public`: Auf das Element kann überall zugegriffen werden. Standardsichtbarkeit.\n",
    "\n",
    "Bei der automatischen Generierung der Getter und Setter werden auch ihre Sichtbarkeiten der des Felder angeglichen. Ist das Feld `private`, kann auf deren generierten Getter und Setter nicht außerhalb der Klasse zugegriffen werden."
   ]
  },
  {
   "cell_type": "code",
   "execution_count": 17,
   "id": "3c988791",
   "metadata": {
    "execution": {
     "iopub.execute_input": "2021-11-18T13:24+0100",
     "iopub.status.busy": "2021-11-18T13:24+0100",
     "iopub.status.idle": "2021-11-18T13:24+0100"
    },
    "tags": []
   },
   "outputs": [
    {
     "name": "stderr",
     "output_type": "stream",
     "text": [
      "Line_16.jupyter-kts (3:4 - 8) Cannot access 'name': it is private in 'PrivatePerson'"
     ]
    }
   ],
   "source": [
    "class PrivatePerson(private val name: String)\n",
    "val p1 = PrivatePerson(\"test\")\n",
    "p1.name"
   ]
  },
  {
   "cell_type": "markdown",
   "id": "890995e8",
   "metadata": {},
   "source": [
    "Werden die Methoden händisch implementiert, können diesen teilweise abweichende Sichtbarkeiten zugewiesen werden. Der Getter muss den identischen Sichtbarkeitstyp aufweisen. Im Gegensatz dazu kann dem Setter die gleich oder eine *engere* Sichtbarkeit vorangestellt werden."
   ]
  },
  {
   "cell_type": "code",
   "execution_count": 18,
   "id": "38ed7f8f",
   "metadata": {
    "execution": {
     "iopub.execute_input": "2021-11-18T13:24+0100",
     "iopub.status.busy": "2021-11-18T13:24+0100",
     "iopub.status.idle": "2021-11-18T13:24+0100"
    },
    "tags": []
   },
   "outputs": [
    {
     "name": "stderr",
     "output_type": "stream",
     "text": [
      "Line_17.jupyter-kts (10:1 - 8) Cannot assign to 'name': the setter is private in 'LesbarePerson'"
     ]
    }
   ],
   "source": [
    "class LesbarePerson(name: String) {\n",
    "    var name = name //public\n",
    "    get() = field //public\n",
    "    private set(neuerWert){ //private\n",
    "        field = neuerWert\n",
    "    }\n",
    "}\n",
    "val p2 = LesbarePerson(\"test\")\n",
    "println(\"Name von p2: ${p2.name}\")\n",
    "p2.name = \"Name\""
   ]
  },
  {
   "cell_type": "markdown",
   "id": "62054ad5",
   "metadata": {},
   "source": [
    "<div class=\"alert alert-block alert-info\">\n",
    "Im Folgenden werden alle Klassen, Felder und Methoden in der Regel öffentlich implementiert. Auch wird in den kurzen Aufgaben dieses Abschnitts keine Verwendung einer anderen Sichtbarkeit als <code>public</code> verlangt. Sie können aber natürlich gerne optional in den Aufgaben die Zugriffe mit passenden Berechtigungen für die Getter und Setter beschränken.\n",
    "</div>"
   ]
  },
  {
   "cell_type": "markdown",
   "id": "bf9d76f3",
   "metadata": {},
   "source": [
    "### Methoden\n",
    "Der Aufbau von Objektmethoden kann mit dem von Funktionen verglichen werden, werden jedoch im Rumpf einer Klasse definiert. Es ist möglich die Kurzschreibweise anzuwenden und eine Sichtbarkeit zuzuweisen. Auf Objektmethoden kann, wie in Java, mit der Punktnotation zugegriffen werden. Soll eine bereits implementierte Methode, zum Beispiel `toString()`, überschrieben werden, ist das Voranstellen des Schlüsselworts `override` nötig."
   ]
  },
  {
   "cell_type": "code",
   "execution_count": 19,
   "id": "4121a9da",
   "metadata": {
    "execution": {
     "iopub.execute_input": "2021-11-18T13:24+0100",
     "iopub.status.busy": "2021-11-18T13:24+0100",
     "iopub.status.idle": "2021-11-18T13:24+0100",
     "shell.execute_reply": "2021-11-18T13:24+0100",
     "shell.execute_reply.started": "2021-11-18T13:24+0100"
    },
    "tags": []
   },
   "outputs": [
    {
     "name": "stdout",
     "output_type": "stream",
     "text": [
      "Vor Geburtstag: Max Mustermann ist 30 Jahre alt.\n",
      "Nach Geburtstag: Max Mustermann ist 31 Jahre alt.\n"
     ]
    }
   ],
   "source": [
    "class Person(val name: String, var alter: Int){\n",
    "    fun hatGeburtstag() = alter++ //Objektmethode\n",
    "    override fun toString() = \"$name ist $alter Jahre alt.\" //Objektmethode die die Methode toString() überschreibt\n",
    "}\n",
    "\n",
    "val p1 = Person(\"Max Mustermann\", 30)\n",
    "println(\"Vor Geburtstag: $p1\")\n",
    "p1.hatGeburtstag()\n",
    "println(\"Nach Geburtstag: $p1\")"
   ]
  },
  {
   "cell_type": "markdown",
   "id": "148f7b90",
   "metadata": {},
   "source": [
    "### Aufgabe - Parkplatzverwaltung\n",
    "Implementieren Sie eine Klasse `Parkplatzverwaltung`, die einen Parkplatz repräsentieren soll. Der Grundriss und die Belegung soll mit Hilfe einer Liste der Länge 5 verwirklicht werden, der als Feld repräsentiert wird. Ist ein Parkplatz belegt, so soll dieser Eintrag `true` sein. Verwenden Sie passende Sichtbarkeiten.  \n",
    "Standardmäßig wird bei Erzeugung eine passende Liste übergeben. Falls kein Parameter übergeben wird, soll ein leerer Parkplatz erstellt werden. Implementieren Sie zusätzlich eine Methode `einparken()` der die Nummer des Parkplatzes übergeben wird und diesen falls möglich belegt. Bei Erfolg soll `true` zurückgegeben werden, ansonsten `false`. Gehen Sie davon aus, dass nur korrekte Parameter übergeben werden. Überschreiben Sie zusätzlich die Methode `toString()`, die den Parkplatz übersichtlich nach folgendem Muster ausgeben soll:  \n",
    "--x-- (Parkplatz Nummer 2 ist belegt)"
   ]
  },
  {
   "cell_type": "code",
   "execution_count": 20,
   "id": "720ce0f9",
   "metadata": {
    "execution": {
     "iopub.execute_input": "2021-11-18T13:24+0100",
     "iopub.status.busy": "2021-11-18T13:24+0100",
     "iopub.status.idle": "2021-11-18T13:24+0100"
    }
   },
   "outputs": [
    {
     "name": "stderr",
     "output_type": "stream",
     "text": [
      "Line_19.jupyter-kts (5:10 - 29) Unresolved reference: Parkplatzverwaltung\n",
      "Line_19.jupyter-kts (22:10 - 29) Unresolved reference: Parkplatzverwaltung"
     ]
    }
   ],
   "source": [
    "//TODO\n",
    "\n",
    "//Test\n",
    "var fehler = 0\n",
    "val p1 = Parkplatzverwaltung(mutableListOf(true, true, false, false, true))\n",
    "if (p1.toString() != \"xx--x\"){\n",
    "    println(\"Fehler! p1 sollte eigentlich 'xx--x' sein, ist jedoch '$p1'\")\n",
    "    fehler++\n",
    "}\n",
    "if (!p1.einparken(3)){\n",
    "    println(\"Fehler! Parkplatz Nummer 3 sollte eigentlich belegt werden können. Parkplatz: $p1\")\n",
    "    fehler++\n",
    "}\n",
    "if (p1.einparken(3)){\n",
    "    println(\"Fehler! Parkplatz Nummer 3 sollte eigentlich nicht belegt werden können. Parkplatz: $p1\")\n",
    "    fehler++\n",
    "}\n",
    "if (p1.toString() != \"xx-xx\"){\n",
    "    println(\"Fehler! p1 sollte eigentlich 'xx--x' sein, ist jedoch '$p1'\")\n",
    "    fehler++\n",
    "}\n",
    "val p2 = Parkplatzverwaltung()\n",
    "if (p2.toString() != \"-----\"){\n",
    "    println(\"Fehler! p2 sollte eigentlich '-----' sein, ist jedoch '$p2'\")\n",
    "    fehler++\n",
    "}\n",
    "if(fehler == 0)\n",
    "    println(\"Super! Alle Tests bestanden!\")\n",
    "else\n",
    "    println(\"Bei $fehler Tests kamen Fehler auf.\")"
   ]
  },
  {
   "cell_type": "code",
   "execution_count": 21,
   "id": "1694e2b0",
   "metadata": {
    "execution": {
     "iopub.execute_input": "2021-11-18T13:24+0100",
     "iopub.status.busy": "2021-11-18T13:24+0100",
     "iopub.status.idle": "2021-11-18T13:24+0100",
     "shell.execute_reply": "2021-11-18T13:24+0100",
     "shell.execute_reply.started": "2021-11-18T13:24+0100"
    },
    "tags": []
   },
   "outputs": [
    {
     "name": "stdout",
     "output_type": "stream",
     "text": [
      "Super! Alle Tests bestanden!\n"
     ]
    }
   ],
   "source": [
    "//Lösung\n",
    "class Parkplatzverwaltung(parkplatz: MutableList<Boolean>){\n",
    "    private val parkplatz: MutableList<Boolean> = parkplatz\n",
    "    \n",
    "    constructor() : this(MutableList<Boolean>(5) { false })\n",
    "    \n",
    "    fun einparken(nummer: Int): Boolean {\n",
    "        return if (!parkplatz[nummer]) {\n",
    "            parkplatz[nummer] = true\n",
    "            true\n",
    "        }\n",
    "        else {\n",
    "            false\n",
    "        }\n",
    "    } \n",
    "\n",
    "    override fun toString(): String {\n",
    "        var res = \"\"\n",
    "        parkplatz.forEach {\n",
    "            res += if (it) \"x\" else \"-\"\n",
    "        }\n",
    "        return res\n",
    "    }\n",
    "}\n",
    "\n",
    "//Test\n",
    "var fehler = 0\n",
    "val p1 = Parkplatzverwaltung(mutableListOf(true, true, false, false, true))\n",
    "if (p1.toString() != \"xx--x\"){\n",
    "    println(\"Fehler! p1 sollte eigentlich 'xx--x' sein, ist jedoch '$p1'\")\n",
    "    fehler++\n",
    "}\n",
    "if (!p1.einparken(3)){\n",
    "    println(\"Fehler! Parkplatz Nummer 3 sollte eigentlich belegt werden können. Parkplatz: $p1\")\n",
    "    fehler++\n",
    "}\n",
    "if (p1.einparken(3)){\n",
    "    println(\"Fehler! Parkplatz Nummer 3 sollte eigentlich nicht belegt werden können. Parkplatz: $p1\")\n",
    "    fehler++\n",
    "}\n",
    "if (p1.toString() != \"xx-xx\"){\n",
    "    println(\"Fehler! p1 sollte eigentlich 'xx--x' sein, ist jedoch '$p1'\")\n",
    "    fehler++\n",
    "}\n",
    "val p2 = Parkplatzverwaltung()\n",
    "if (p2.toString() != \"-----\"){\n",
    "    println(\"Fehler! p2 sollte eigentlich '-----' sein, ist jedoch '$p2'\")\n",
    "    fehler++\n",
    "}\n",
    "if(fehler == 0)\n",
    "    println(\"Super! Alle Tests bestanden!\")\n",
    "else\n",
    "    println(\"Bei $fehler Tests kamen Fehler auf.\")"
   ]
  },
  {
   "cell_type": "markdown",
   "id": "92a86483",
   "metadata": {},
   "source": [
    "<img src=\"images/Lektion2.png\" style=\"margin: 20px 0px 20px 0px\"/>\n",
    "<h2 style=\"display:none\">Lektion 2 - Datenklassen</h2>\n",
    "\n",
    "\n",
    "Zusätzlich zu normalen Klassen bietet Kotlin auch die Möglichkeit Klassen zu erstellen, die nur die Aufgabe der Speicherung von Daten haben. Auf den ersten Blick könnte dies auch mit normalen Klassen bewerkstelligt werden. Jedoch müssen dann alle Methoden, die eine Datenklasse in der Regel benötigt, per Hand implementiert werden. Beispiele dafür sind `toString()` oder `equals()`. Um das zu Verhindern, gibt es Datenklassen. Für diese generiert der Kotlin-Compiler im Hintergrund folgende Methoden: `componentN()`, `copy()`, `equals()`, `hashCode()`, `toString()`. Gekennzeichnet werden Datenklassen mit dem Schlüsselwort `data class`. Alle Felder, die bei den generierten Methoden berücksichtigt werden sollen, müssen in dem Kopf der Datenklasse angegeben werden."
   ]
  },
  {
   "cell_type": "code",
   "execution_count": 22,
   "id": "569409f8",
   "metadata": {
    "execution": {
     "iopub.execute_input": "2021-11-18T13:24+0100",
     "iopub.status.busy": "2021-11-18T13:24+0100",
     "iopub.status.idle": "2021-11-18T13:24+0100",
     "shell.execute_reply": "2021-11-18T13:24+0100",
     "shell.execute_reply.started": "2021-11-18T13:24+0100"
    },
    "tags": []
   },
   "outputs": [
    {
     "name": "stdout",
     "output_type": "stream",
     "text": [
      "Punkt p1: Punkt(x=0, y=0, z=0)\n",
      "Punkt p2: Punkt(x=1, y=1, z=1)\n",
      "p1 und p2 sind ungleich.\n"
     ]
    }
   ],
   "source": [
    "data class Punkt(val x: Int, val y: Int, val z: Int)\n",
    "val p1 = Punkt (0,0,0)\n",
    "println(\"Punkt p1: $p1\") //Verwendung der automatisch generierten toString()-Methode\n",
    "val p2 = Punkt (1,1,1)\n",
    "println(\"Punkt p2: $p2\")\n",
    "if (p1 == p2) //Verwendung der automatisch generierten equals()-Methode\n",
    "    println(\"p1 und p2 sind gleich.\")\n",
    "else\n",
    "    println(\"p1 und p2 sind ungleich.\")"
   ]
  },
  {
   "cell_type": "markdown",
   "id": "2666c7d8",
   "metadata": {},
   "source": [
    "Durch die Verwendung der `componentN()`-Methode kann auf die Felder der Datenklasse zugegriffen werden. Dabei bekommt jedes Feld eine eigene Nummer, beispielsweise in der Klasse 'Punkt' 'x' die Nummer 1, zugewiesen. Wird `N` durch die Nummer ersetzt und auf einem Objekt aufgerufen, wird das dazugehörige Feld zurückgegeben. Auch können dadurch mehrere Felder abgerufen werden, indem eine Folge als Rückgabe erwartet wird."
   ]
  },
  {
   "cell_type": "code",
   "execution_count": 23,
   "id": "eb4acb9f",
   "metadata": {
    "execution": {
     "iopub.execute_input": "2021-11-18T13:24+0100",
     "iopub.status.busy": "2021-11-18T13:24+0100",
     "iopub.status.idle": "2021-11-18T13:24+0100",
     "shell.execute_reply": "2021-11-18T13:24+0100",
     "shell.execute_reply.started": "2021-11-18T13:24+0100"
    },
    "tags": []
   },
   "outputs": [
    {
     "name": "stdout",
     "output_type": "stream",
     "text": [
      "p1.component1(): 0\n",
      "x: 0, y: 1, z: 2\n",
      "a: 0, b: 1\n"
     ]
    }
   ],
   "source": [
    "val p1 = Punkt (0,1,2)\n",
    "println(\"p1.component1(): ${p1.component1()}\")\n",
    "val (x, y, z) = p1 //speichert die ersten drei Felder von p1 in den Variablen x, y, z\n",
    "println(\"x: $x, y: $y, z: $z\")\n",
    "val (a, b) = p1 //speichert die ersten zwei Felder von p1 in den Variablen a, b\n",
    "println(\"a: $a, b: $b\")"
   ]
  },
  {
   "cell_type": "markdown",
   "id": "3d8462b6",
   "metadata": {},
   "source": [
    "Die Erzeugung eines neuen, identischen Objekts erfolgt mit Hilfe von `copy()`. Soll aber bestimmten Feldern ein anderer Wert zugewiesen werden, kann dies der Methode mit Namen des Feldes und dem gewünschten Wert übergeben werden."
   ]
  },
  {
   "cell_type": "code",
   "execution_count": 24,
   "id": "78d21daf",
   "metadata": {
    "execution": {
     "iopub.execute_input": "2021-11-18T13:24+0100",
     "iopub.status.busy": "2021-11-18T13:24+0100",
     "iopub.status.idle": "2021-11-18T13:24+0100",
     "shell.execute_reply": "2021-11-18T13:24+0100",
     "shell.execute_reply.started": "2021-11-18T13:24+0100"
    },
    "tags": []
   },
   "outputs": [
    {
     "name": "stdout",
     "output_type": "stream",
     "text": [
      "p1: Punkt(x=0, y=1, z=2)\n",
      "p2: Punkt(x=0, y=1, z=2)\n",
      "p3: Punkt(x=4, y=1, z=2)\n"
     ]
    }
   ],
   "source": [
    "val p1 = Punkt (0,1,2)\n",
    "val p2 = p1.copy() //p1 und p2 sind unabhängige Objekte\n",
    "println(\"p1: $p1\")\n",
    "println(\"p2: $p2\")\n",
    "val p3 = p1.copy(x=4)\n",
    "println(\"p3: $p3\")"
   ]
  },
  {
   "cell_type": "markdown",
   "id": "3ccc28d9",
   "metadata": {},
   "source": [
    "Zusätzlich können auch weitere Felder in den Rumpf einer Datenklasse definiert werden. Diese werden jedoch nicht bei den automatisch generierten Methoden berücksichtigt. Außerdem darf der primäre Konstruktor einer Datenklasse keine *freien* Parameter besitzen. Es wird nur der Defaultkonstruktor unterstützt. Somit können die eigens erstellten Felder im Rumpf der Klasse nur berechnet und nicht mit einem Parameter gefüllt werden."
   ]
  },
  {
   "cell_type": "code",
   "execution_count": 25,
   "id": "ed7b058d",
   "metadata": {
    "execution": {
     "iopub.execute_input": "2021-11-18T13:24+0100",
     "iopub.status.busy": "2021-11-18T13:24+0100",
     "iopub.status.idle": "2021-11-18T13:24+0100",
     "shell.execute_reply": "2021-11-18T13:24+0100",
     "shell.execute_reply.started": "2021-11-18T13:24+0100"
    },
    "tags": []
   },
   "outputs": [
    {
     "name": "stdout",
     "output_type": "stream",
     "text": [
      "Punkt p1 ist im Ursprung: true, Punkt(x=0, y=0, z=0)\n",
      "Punkt p2 ist im Ursprung: false, Punkt(x=1, y=1, z=1)\n"
     ]
    }
   ],
   "source": [
    "data class Punkt (val x: Int, val y: Int, val z: Int){\n",
    "    val istUrsprung = x == 0 && y == 0 && z == 0\n",
    "}\n",
    "val p1 = Punkt (0,0,0)\n",
    "println(\"Punkt p1 ist im Ursprung: ${p1.istUrsprung}, $p1\")\n",
    "val p2 = Punkt (1,1,1)\n",
    "println(\"Punkt p2 ist im Ursprung: ${p2.istUrsprung}, $p2\")"
   ]
  },
  {
   "cell_type": "markdown",
   "id": "8ca2230d",
   "metadata": {},
   "source": [
    "### Aufgabe - Abstände\n",
    "In dieser Aufgabe sollen Sie mit Hilfe von Datenklassen eine Verwaltung von Abständen implementieren. Dazu werden folgende Komponenten benötigt:\n",
    "* Eine Datenklasse `Position`, die eine x- und y-Koordinate speichert\n",
    "* Eine Datenklasse `Abstand`, die primär den Wert eines Abstands speichert. Außerdem sollen in der Datenklasse in einer Liste `positionen` Paare von Positionen abgespeichert werden, die diesen Abstand besitzen.  \n",
    "Beispiel: `wert` des Abstandes: 3, Inhalt von `positionen`: [( Position(0,0), Position(2,1) ), ( Position(0,3), Position(3,3) ), ... ] \n",
    "* Eine Funktion `berechneAbstand()` der zwei Positionen übergeben werden. In ihrem Rumpf soll die [Manhatten-Distanz](https://de.wikipedia.org/wiki/Manhattan-Metrik) der beiden Punkte berechnet und der Abstand zur globale Liste `abstaende` hinzugefügt werden, sollte der Abstand noch nicht in der Liste gespeichert sein. Falls doch, sollen die beiden Positionen dem bereits vorhandenen Abstand in die Liste `positionen` hinzugefügt werden. "
   ]
  },
  {
   "cell_type": "code",
   "execution_count": 26,
   "id": "0267fe3f",
   "metadata": {
    "execution": {
     "iopub.execute_input": "2021-11-18T13:24+0100",
     "iopub.status.busy": "2021-11-18T13:24+0100",
     "iopub.status.idle": "2021-11-18T13:24+0100"
    },
    "tags": []
   },
   "outputs": [
    {
     "name": "stderr",
     "output_type": "stream",
     "text": [
      "Line_25.jupyter-kts (3:31 - 38) Unresolved reference: Abstand\n",
      "Line_25.jupyter-kts (6:26 - 34) Unresolved reference: Position\n",
      "Line_25.jupyter-kts (6:41 - 49) Unresolved reference: Position\n",
      "Line_25.jupyter-kts (6:56 - 64) Unresolved reference: Position\n",
      "Line_25.jupyter-kts (6:71 - 79) Unresolved reference: Position\n",
      "Line_25.jupyter-kts (7:26 - 34) Unresolved reference: Position\n",
      "Line_25.jupyter-kts (7:41 - 49) Unresolved reference: Position\n",
      "Line_25.jupyter-kts (7:57 - 65) Unresolved reference: Position\n",
      "Line_25.jupyter-kts (7:72 - 80) Unresolved reference: Position\n",
      "Line_25.jupyter-kts (10:9 - 24) Unresolved reference: berechneAbstand\n",
      "Line_25.jupyter-kts (13:19 - 21) Unresolved reference: it"
     ]
    }
   ],
   "source": [
    "//TODO\n",
    "\n",
    "val abstaende = mutableListOf<Abstand>() //Liste von Abständen\n",
    "\n",
    "//Test\n",
    "val positionen1 = listOf(Position(2,7), Position(0,0), Position(5,2), Position(7,2))\n",
    "val positionen2 = listOf(Position(4,4), Position(10,2), Position(1,6), Position(3,4))\n",
    "for(p1 in positionen1){\n",
    "    for(p2 in positionen2){\n",
    "        berechneAbstand(p1, p2)\n",
    "    }\n",
    "}\n",
    "abstaende.sortBy {it.wert}\n",
    "var fehler = 0\n",
    "if(abstaende.toString() != \"[Abstand(wert=2), Abstand(wert=3), Abstand(wert=4), Abstand(wert=5), Abstand(wert=6), Abstand(wert=7), Abstand(wert=8), Abstand(wert=10), Abstand(wert=12), Abstand(wert=13)]\"){\n",
    "    println(\"Fehler! Es sollten folgende Abstände in der Liste vorhanden sein:\\n\\t[Abstand(wert=2), Abstand(wert=3), Abstand(wert=4), Abstand(wert=5), Abstand(wert=6), Abstand(wert=7), Abstand(wert=8), Abstand(wert=10), Abstand(wert=12), Abstand(wert=13)]\\nIn der Liste ist aber aktuell:\\n\\t$abstaende\")\n",
    "    fehler++\n",
    "}\n",
    "val richtigeAnzahl = listOf(1,2,2,3,1,2,2,1,1,1)\n",
    "for(i in 0 until abstaende.size){\n",
    "    if(abstaende[i].positionen.size != richtigeAnzahl[i]){\n",
    "        println(\"Fehler bei Element Nummer $i in abstaende!\\n\\tDer Abstand ${abstaende[i]} sollte eigentlich ${richtigeAnzahl[i]} Einträge in der Liste positionen besitzen, es ist/sind aber ${abstaende[i].positionen.size} Eintrag/Einträge.\")\n",
    "        fehler++\n",
    "    }\n",
    "}\n",
    "if(fehler == 0)\n",
    "    println(\"Super! Alle Tests bestanden!\")\n",
    "else\n",
    "    println(\"Bei $fehler Tests kamen Fehler auf.\")"
   ]
  },
  {
   "cell_type": "code",
   "execution_count": 27,
   "id": "1ab277d2",
   "metadata": {
    "execution": {
     "iopub.execute_input": "2021-11-18T13:13+0100",
     "iopub.status.busy": "2021-11-18T13:13+0100",
     "iopub.status.idle": "2021-11-18T13:13+0100",
     "shell.execute_reply": "2021-11-18T13:13+0100",
     "shell.execute_reply.started": "2021-11-18T13:13+0100"
    },
    "tags": []
   },
   "outputs": [
    {
     "name": "stdout",
     "output_type": "stream",
     "text": [
      "Super! Alle Tests bestanden!\n"
     ]
    }
   ],
   "source": [
    "//Lösung\n",
    "\n",
    "data class Position (val x: Int, val y: Int)\n",
    "data class Abstand (val wert: Int){\n",
    "    val positionen = mutableListOf<Pair<Position, Position>>()\n",
    "}\n",
    "\n",
    "fun berechneAbstand(p1: Position, p2: Position) {\n",
    "    val abstand = Abstand((p1.x - p2.x).absoluteValue + (p1.y - p2.y).absoluteValue)\n",
    "    abstand.positionen.add(Pair(p1, p2))\n",
    "    if (abstand in abstaende)\n",
    "        abstaende.find { it == abstand }?.positionen?.add(Pair(p1, p2))\n",
    "    else\n",
    "        abstaende.add(abstand)\n",
    "}\n",
    "\n",
    "val abstaende = mutableListOf<Abstand>() //Liste von Abständen\n",
    "\n",
    "//Test\n",
    "val positionen1 = listOf(Position(2,7), Position(0,0), Position(5,2), Position(7,2))\n",
    "val positionen2 = listOf(Position(4,4), Position(10,2), Position(1,6), Position(3,4))\n",
    "for(p1 in positionen1){\n",
    "    for(p2 in positionen2){\n",
    "        berechneAbstand(p1, p2)\n",
    "    }\n",
    "}\n",
    "abstaende.sortBy {it.wert}\n",
    "var fehler = 0\n",
    "if(abstaende.toString() != \"[Abstand(wert=2), Abstand(wert=3), Abstand(wert=4), Abstand(wert=5), Abstand(wert=6), Abstand(wert=7), Abstand(wert=8), Abstand(wert=10), Abstand(wert=12), Abstand(wert=13)]\"){\n",
    "    println(\"Fehler! Es sollten folgende Abstände in der Liste vorhanden sein:\\n\\t[Abstand(wert=2), Abstand(wert=3), Abstand(wert=4), Abstand(wert=5), Abstand(wert=6), Abstand(wert=7), Abstand(wert=8), Abstand(wert=10), Abstand(wert=12), Abstand(wert=13)]\\nIn der Liste ist aber aktuell:\\n\\t$abstaende\")\n",
    "    fehler++\n",
    "}\n",
    "val richtigeAnzahl = listOf(1,2,2,3,1,2,2,1,1,1)\n",
    "for(i in 0 until abstaende.size){\n",
    "    if(abstaende[i].positionen.size != richtigeAnzahl[i]){\n",
    "        println(\"Fehler bei Element Nummer $i in abstaende!\\n\\tDer Abstand ${abstaende[i]} sollte eigentlich ${richtigeAnzahl[i]} Einträge in der Liste positionen besitzen, es ist/sind aber ${abstaende[i].positionen.size} Eintrag/Einträge.\")\n",
    "        fehler++\n",
    "    }\n",
    "}\n",
    "if(fehler == 0)\n",
    "    println(\"Super! Alle Tests bestanden!\")\n",
    "else\n",
    "    println(\"Bei $fehler Tests kamen Fehler auf.\")"
   ]
  },
  {
   "cell_type": "markdown",
   "id": "d273b3d8",
   "metadata": {},
   "source": [
    "<img src=\"images/Lektion3.png\" style=\"margin: 20px 0px 20px 0px\"/>\n",
    "<h2 style=\"display:none\">Lektion 3 - Objekte</h2>\n",
    "\n",
    "\n",
    "Eine Besonderheit von Kotlin ist, dass nicht jedes Objekt eine Klasse benötigt. Dadurch kann beispielsweise ein statisches Feld simuliert oder unkompliziert mehrere Daten an einem Ort zusammengefasst werden.\n",
    "### Ad-hoc Objekte\n",
    "Mit sogeannten Ad-hoc Objekten können Daten ähnlich einer Map komprimiert werden. Es kann ein Objekt erzeugt werden, ohne vorher eine Klasse angelegt zu haben. Dies ist mit dem Schlüsselwort `object` einzuleiten. Wie auch einer Klasse können dem Ad-hoch Objekt Felder zugewiesen werden."
   ]
  },
  {
   "cell_type": "code",
   "execution_count": null,
   "id": "e119bbde",
   "metadata": {
    "execution": {
     "iopub.execute_input": "2021-11-18T13:25+0100",
     "iopub.status.busy": "2021-11-18T13:25+0100"
    },
    "tags": []
   },
   "outputs": [
    {
     "name": "stdout",
     "output_type": "stream",
     "text": [
      "Das Subjekt des Satzes Kotlin ist eine Programmiersprache ist Kotlin.\n"
     ]
    }
   ],
   "source": [
    "private val satz = object {\n",
    "    val subjekt = \"Kotlin\"\n",
    "    val praedikat = \"ist\"\n",
    "    val objekt = \"Programmiersprache\"\n",
    "    val vollstaendig = \"Kotlin ist eine Programmiersprache\"\n",
    "}\n",
    "\n",
    "println(\"Das Subjekt des Satzes ${satz.vollstaendig} ist ${satz.subjekt}.\")"
   ]
  },
  {
   "cell_type": "markdown",
   "id": "778a48a7",
   "metadata": {},
   "source": [
    "### Singletons\n",
    "Singletons sind Objekte, die nur ein Mal erzeugt werden können und bis zum Ende der Ausführung bestehen. Ein solches Objekt wird mit dem Schlüsselwort `object` gekennzeichnet und kann nicht einer Variable zugewiesen werden, da es erst bei der ersten Benutzung erzeugt wird. Deshalb kann es auch nicht erzeugt werden. Die Erzeugung erfolgt automatisch beim ersten Aufruf, der in der Punktnotation mit dem Namen des Singletons erfolgt. Ein Singleton kann aus Feldern und Methoden bestehen. Ein Konstruktor kann jedoch nicht angewendet werden, da die Erzeugung ohne Übergabeparameter stattfindet."
   ]
  },
  {
   "cell_type": "code",
   "execution_count": null,
   "id": "901879ce",
   "metadata": {
    "tags": []
   },
   "outputs": [],
   "source": [
    "object Rechner {\n",
    "    val zahl: Int\n",
    "    init {\n",
    "        println(\"Singleton Rechner wurde erzeugt.\")\n",
    "        zahl = (0..10).random()\n",
    "    }\n",
    "    \n",
    "    fun addieren(a: Int, b: Int) = a + b\n",
    "}\n",
    "\n",
    "val a = 5\n",
    "val b = 10\n",
    "println(\"Berechnung ohne Singleton: ${a+b}\")\n",
    "println(\"Berechnung mit Singleton: ${Rechner.addieren(a,b)}\")\n",
    "println(\"Zufallszahl des Singletons: ${Rechner.zahl}\")"
   ]
  },
  {
   "cell_type": "markdown",
   "id": "797678e0",
   "metadata": {},
   "source": [
    "### Companion Objekte\n",
    "Einer Klasse können sogenannte Companion Objekte angehängt werden. Diese sind für alle Objekte der Klasse gleich und ähneln somit statischen Variablen oder Methoden. Sie können nur in einer Klasse implementiert werden und besitzen das Schlüsselwort `companion object`. Im Hintergrund ist ein solches Konstrukt nichts weiter als ein Singleton einer Klasse, das alle Objekte verwenden können. In dem Objekt können Felder und Methoden implementiert werden.  \n",
    "Anstelle eines Companion Objects könnte auch eine Top-Level-Variable verwendet werden. Jedoch läge dort kein Zusammenhang zwischen den Klassen vor und die Variable könnte auch von anderen Objekten verändert werden."
   ]
  },
  {
   "cell_type": "code",
   "execution_count": null,
   "id": "79b1d008",
   "metadata": {
    "tags": []
   },
   "outputs": [],
   "source": [
    "class Student(val name: String, var alter: Int){\n",
    "    companion object { //Umsetzung in Java: public static int zaehler = 0\n",
    "        var zaehler = 0\n",
    "            get() = field++\n",
    "    }\n",
    "    \n",
    "    var matrikelnummer: Int\n",
    "    \n",
    "    init {\n",
    "        matrikelnummer = zaehler //Umsetzung in Java: matrikelnummer = zaehler++\n",
    "    }\n",
    "}\n",
    "\n",
    "val s1 = Student (\"Max\", 21)\n",
    "val s2 = Student (\"Anna\", 25)\n",
    "val s3 = Student (\"Simon\", 26)\n",
    "val s4 = Student (\"Sophie\", 19)\n",
    "println(\"Die Marikelnummer von ${s1.name} ist ${s1.matrikelnummer}.\")\n",
    "println(\"Die Marikelnummer von ${s2.name} ist ${s2.matrikelnummer}.\")\n",
    "println(\"Die Marikelnummer von ${s3.name} ist ${s3.matrikelnummer}.\")\n",
    "println(\"Die Marikelnummer von ${s4.name} ist ${s4.matrikelnummer}.\")"
   ]
  },
  {
   "cell_type": "markdown",
   "id": "c39ca8de",
   "metadata": {},
   "source": [
    "Falls in einer Klasse mehrere Companion Objekte gewünscht werden, ist ab dem Zweiten das Schlüsselwort `companion` wegzulassen und außerdem ein Name anzugeben. Außerhalb der Klasse kann auf das Objekt nur durch die Klasse und nicht mit einem Objekt der Klasse zugegriffen werden."
   ]
  },
  {
   "cell_type": "code",
   "execution_count": null,
   "id": "3c168db5",
   "metadata": {
    "tags": []
   },
   "outputs": [],
   "source": [
    "import java.time.LocalTime\n",
    "\n",
    "class Zahlen(){\n",
    "    companion object {\n",
    "        var nummer = 1\n",
    "            get() = field\n",
    "    }\n",
    "    object Zwei {\n",
    "        var nummer = 2\n",
    "    }\n",
    "    object Drei {\n",
    "        var nummer = 3\n",
    "    }\n",
    "    object Zeit {\n",
    "        fun gibZeit() = LocalTime.now()\n",
    "    }\n",
    "}\n",
    "\n",
    "println(\"Die Nummer des Standard Companion Objects ist ${Zahlen.nummer}.\")\n",
    "println(\"Die Nummer des Companion Objects Zwei ist ${Zahlen.Zwei.nummer}.\")\n",
    "println(\"Die Nummer des Companion Objects Drei ist ${Zahlen.Drei.nummer}.\")\n",
    "println(\"Es ist aktuell ${Zahlen.Zeit.gibZeit()} Uhr.\")\n",
    "\n",
    "val zwei = Zahlen()\n",
    "//println(zwei.Zwei.nummer) -> Fehler: Nested object 'Zwei' accessed via instance reference"
   ]
  },
  {
   "cell_type": "markdown",
   "id": "7c8de23a",
   "metadata": {},
   "source": [
    "### Aufgabe - Nummernschilder\n",
    "Implementieren Sie eine Klasse `Auto`, die drei Felder besitzt: die `ps` (`Int`), eine `farbe` (`String`) und ein `nummernschild` (`String`). Die Nummernschilder sollen der Einfachheit nach dem Format *(A-Z)(A-Z)-(1-9)(0-9)* vergeben werden. Jedes ist einzigartig. Verwenden Sie für die Umsetzung ein `companion object`, das ein Feld, in dem alle vergebenen Nummernschilder gespeichert werden, besitzt. Fügen Sie dem Objekt zusätzlich eine Funktion hinzu, die ein noch nicht vergebenes Schild generiert. Das Suchen nach einem passenden Nummernschild kann per Brute-Force erfolgen. Auf die Laufzeit muss nicht geachtet werden."
   ]
  },
  {
   "cell_type": "code",
   "execution_count": null,
   "id": "3697706c",
   "metadata": {},
   "outputs": [],
   "source": [
    "//TODO\n",
    "\n",
    "//Test\n",
    "val autos = MutableList(100) { Auto ((60..300).random(), \"weiß\") }\n",
    "val nummernschilder = mutableListOf<String>()\n",
    "for (auto in autos){\n",
    "    nummernschilder.add(auto.nummernschild)\n",
    "}\n",
    "if (nummernschilder.size == nummernschilder.toSet().size){\n",
    "    println(\"Super! Alle Nummernschilder sind einzigartig.\")\n",
    "}\n",
    "else {\n",
    "    println(\"Falsch! Es wurden Nummernschilder mehrfach vergeben.\")\n",
    "}"
   ]
  },
  {
   "cell_type": "code",
   "execution_count": null,
   "id": "56c5d2e5",
   "metadata": {
    "tags": []
   },
   "outputs": [],
   "source": [
    "//Lösung\n",
    "class Auto(val ps: Int, var farbe: String){\n",
    "    companion object {\n",
    "        val nummernschilder = mutableListOf<String>()\n",
    "        fun generiereNummernschild(): String {\n",
    "            var testschild = \"${('A'..'Z').random()}${('A'..'Z').random()}-${(1..9).random()}${(0..9).random()}\"\n",
    "            while (nummernschilder.find { it == testschild } != null){\n",
    "                testschild = \"${('A'..'Z').random()}${('A'..'Z').random()}-${(1..9).random()}${(0..9).random()}\"\n",
    "            }\n",
    "            nummernschilder.add(testschild)\n",
    "            return testschild\n",
    "        }\n",
    "    }\n",
    "    \n",
    "    val nummernschild = generiereNummernschild()\n",
    "}\n",
    "\n",
    "//Test\n",
    "val autos = MutableList(100) { Auto ((60..300).random(), \"weiß\") }\n",
    "val nummernschilder = mutableListOf<String>()\n",
    "for (auto in autos){\n",
    "    nummernschilder.add(auto.nummernschild)\n",
    "}\n",
    "if (nummernschilder.size == nummernschilder.toSet().size){\n",
    "    println(\"Super! Alle Nummernschilder sind einzigartig.\")\n",
    "}\n",
    "else {\n",
    "    println(\"Falsch! Es wurden Nummernschilder mehrfach vergeben.\")\n",
    "}"
   ]
  },
  {
   "cell_type": "markdown",
   "id": "81d6503c",
   "metadata": {},
   "source": [
    "<img src=\"images/Lektion4.png\" style=\"margin: 20px 0px 20px 0px\"/>\n",
    "<h2 style=\"display:none\">Lektion 4 - Aufzählungen</h2>\n",
    "\n",
    "\n",
    "Mit Hilfe einer Enumeration kann ein eigener, limitierter Datentyp erstellt werden, der nur vordefinierte Werte annehmen kann. Der Klasse wird dafür das Schlüsselwort `enum` vorangestellt. Soll ein Wert des Enums verwendet werden, muss zusätzlich der Name der Enumeration angegeben werden."
   ]
  },
  {
   "cell_type": "code",
   "execution_count": 27,
   "id": "b876e351",
   "metadata": {
    "execution": {
     "iopub.execute_input": "2021-11-18T13:25+0100",
     "iopub.status.busy": "2021-11-18T13:25+0100",
     "iopub.status.idle": "2021-11-18T13:25+0100",
     "shell.execute_reply": "2021-11-18T13:25+0100",
     "shell.execute_reply.started": "2021-11-18T13:25+0100"
    },
    "tags": []
   },
   "outputs": [
    {
     "name": "stdout",
     "output_type": "stream",
     "text": [
      "Der Name von montag ist MONTAG.\n"
     ]
    }
   ],
   "source": [
    "enum class Wochentag {\n",
    "    MONTAG, DIENSTAG, MITTWOCH, DONNERSTAG, FREITAG, SAMSTAG, SONNTAG\n",
    "}\n",
    "\n",
    "class Tag (val name : Wochentag)\n",
    "\n",
    "val montag = Tag(Wochentag.MONTAG)\n",
    "println(\"Der Name von montag ist ${montag.name}.\")"
   ]
  },
  {
   "cell_type": "markdown",
   "id": "4148427d",
   "metadata": {},
   "source": [
    "Auf alle möglichen Werte eines Enums kann mit `values()` zugegriffen werden. Zurückgegeben wird ein Array. Soll auf das Enum-Objekt eines Strings zugegriffen werden, ist dies mit `valueOf()` und dem String als Parameter möglich. Wird kein passendes Element gefunden, ist das Ergebnis eine `IllegalArgumentException`."
   ]
  },
  {
   "cell_type": "code",
   "execution_count": 28,
   "id": "dbf57447",
   "metadata": {
    "execution": {
     "iopub.execute_input": "2021-11-18T13:25+0100",
     "iopub.status.busy": "2021-11-18T13:25+0100",
     "iopub.status.idle": "2021-11-18T13:25+0100",
     "shell.execute_reply": "2021-11-18T13:25+0100",
     "shell.execute_reply.started": "2021-11-18T13:25+0100"
    },
    "tags": []
   },
   "outputs": [
    {
     "name": "stdout",
     "output_type": "stream",
     "text": [
      "Alle Einträge des Enums: MONTAG, DIENSTAG, MITTWOCH, DONNERSTAG, FREITAG, SAMSTAG, SONNTAG, \n",
      "Vollständiger Name von FREITAG: FREITAG\n"
     ]
    }
   ],
   "source": [
    "print(\"Alle Einträge des Enums: \")\n",
    "Wochentag.values().forEach { \n",
    "    print(\"$it, \")\n",
    "}\n",
    "\n",
    "println()\n",
    "println(\"Vollständiger Name von FREITAG: ${Wochentag.valueOf(\"FREITAG\")}\")"
   ]
  },
  {
   "cell_type": "markdown",
   "id": "fae11b25",
   "metadata": {},
   "source": [
    "Da Enums als vollständige Klassen angesehen werden, können ihnen Felder und sogar Methoden hinzugefügt werden. Sollen Felder mit einem bestimmten Wert, der von dem Wert des Enums abhängt, gefüllt werden, erfolgt die Übergabe der Parameter hinter dem Wert des Enums."
   ]
  },
  {
   "cell_type": "code",
   "execution_count": 29,
   "id": "442d9ffb",
   "metadata": {
    "execution": {
     "iopub.execute_input": "2021-11-18T13:25+0100",
     "iopub.status.busy": "2021-11-18T13:25+0100",
     "iopub.status.idle": "2021-11-18T13:25+0100",
     "shell.execute_reply": "2021-11-18T13:25+0100",
     "shell.execute_reply.started": "2021-11-18T13:25+0100"
    },
    "tags": []
   },
   "outputs": [
    {
     "name": "stdout",
     "output_type": "stream",
     "text": [
      "Montag ist ein Tag des Wochenendes: false, Nummer des Tags: 1, Zufallszahl: 0\n",
      "Samstag ist ein Tag des Wochenendes: true, Nummer des Tags: 6, Zufallszahl: 0\n"
     ]
    }
   ],
   "source": [
    "enum class Wochentag (val nummer: Int){\n",
    "    MONTAG(1), DIENSTAG(2), MITTWOCH(3), DONNERSTAG(4), FREITAG(5), SAMSTAG(6), SONNTAG(7);\n",
    "    \n",
    "    val zufallszahl = (0..10).random()\n",
    "    \n",
    "    fun istWochenende() = if (this == SAMSTAG || this == SONNTAG) true else false\n",
    "}\n",
    "\n",
    "val montag = Wochentag.MONTAG\n",
    "println(\"Montag ist ein Tag des Wochenendes: ${montag.istWochenende()}, Nummer des Tags: ${montag.nummer}, Zufallszahl: ${montag.zufallszahl}\")\n",
    "val samstag = Wochentag.SAMSTAG\n",
    "println(\"Samstag ist ein Tag des Wochenendes: ${samstag.istWochenende()}, Nummer des Tags: ${samstag.nummer}, Zufallszahl: ${montag.zufallszahl}\")"
   ]
  },
  {
   "cell_type": "markdown",
   "id": "524e62e6",
   "metadata": {},
   "source": [
    "### Aufgabe - Monate\n",
    "Implementieren Sie eine Aufzählung `Monat`, die die 12 Monate eines Jahres enthält. Zusätzlich soll jedem Monat die Nummer im Feld `nummer` zugeordnet werden."
   ]
  },
  {
   "cell_type": "code",
   "execution_count": 30,
   "id": "d4b467e0",
   "metadata": {
    "execution": {
     "iopub.execute_input": "2021-11-18T13:25+0100",
     "iopub.status.busy": "2021-11-18T13:25+0100",
     "iopub.status.idle": "2021-11-18T13:25+0100"
    }
   },
   "outputs": [
    {
     "name": "stderr",
     "output_type": "stream",
     "text": [
      "Line_29.jupyter-kts (6:18 - 23) Unresolved reference: Monat\n",
      "Line_29.jupyter-kts (11:19 - 24) Unresolved reference: Monat\n",
      "Line_29.jupyter-kts (16:17 - 22) Unresolved reference: Monat\n",
      "Line_29.jupyter-kts (21:17 - 22) Unresolved reference: Monat\n",
      "Line_29.jupyter-kts (26:15 - 20) Unresolved reference: Monat\n",
      "Line_29.jupyter-kts (31:16 - 21) Unresolved reference: Monat\n",
      "Line_29.jupyter-kts (36:16 - 21) Unresolved reference: Monat\n",
      "Line_29.jupyter-kts (41:18 - 23) Unresolved reference: Monat\n",
      "Line_29.jupyter-kts (46:21 - 26) Unresolved reference: Monat\n",
      "Line_29.jupyter-kts (51:19 - 24) Unresolved reference: Monat\n",
      "Line_29.jupyter-kts (56:20 - 25) Unresolved reference: Monat\n",
      "Line_29.jupyter-kts (61:20 - 25) Unresolved reference: Monat"
     ]
    }
   ],
   "source": [
    "//TODO\n",
    "\n",
    "//Test\n",
    "var fehler = 0\n",
    "try{\n",
    "    val januar = Monat.JANUAR\n",
    "    if(januar.nummer != 1){\n",
    "        fehler++\n",
    "        println(\"Fehler! Der Januar ist der 1. Monat im Kalenderjahr.\")\n",
    "    }\n",
    "    val februar = Monat.FEBRUAR\n",
    "    if(februar.nummer != 2){\n",
    "        fehler++\n",
    "        println(\"Fehler! Der Februar ist der 2. Monat im Kalenderjahr.\")\n",
    "    }\n",
    "    val maerz = Monat.MAERZ\n",
    "    if(maerz.nummer != 3){\n",
    "        fehler++\n",
    "        println(\"Fehler! Der März ist der 3. Monat im Kalenderjahr.\")\n",
    "    }\n",
    "    val april = Monat.APRIL\n",
    "    if(april.nummer != 4){\n",
    "        fehler++\n",
    "        println(\"Fehler! Der April ist der 4. Monat im Kalenderjahr.\")\n",
    "    }\n",
    "    val mai = Monat.MAI\n",
    "    if(mai.nummer != 5){\n",
    "        fehler++\n",
    "        println(\"Fehler! Der Mai ist der 5. Monat im Kalenderjahr.\")\n",
    "    }\n",
    "    val juni = Monat.JUNI\n",
    "    if(juni.nummer != 6){\n",
    "        fehler++\n",
    "        println(\"Fehler! Der Juni ist der 6. Monat im Kalenderjahr.\")\n",
    "    }\n",
    "    val juli = Monat.JULI\n",
    "    if(juli.nummer != 7){\n",
    "        fehler++\n",
    "        println(\"Fehler! Der Juli ist der 7. Monat im Kalenderjahr.\")\n",
    "    }\n",
    "    val august = Monat.AUGUST\n",
    "    if(august.nummer != 8){\n",
    "        fehler++\n",
    "        println(\"Fehler! Der August ist der 8. Monat im Kalenderjahr.\")\n",
    "    }\n",
    "    val september = Monat.SEPTEMBER\n",
    "    if(september.nummer != 9){\n",
    "        fehler++\n",
    "        println(\"Fehler! Der September ist der 9. Monat im Kalenderjahr.\")\n",
    "    }\n",
    "    val oktober = Monat.OKTOBER\n",
    "    if(oktober.nummer != 10){\n",
    "        fehler++\n",
    "        println(\"Fehler! Der Oktober ist der 10. Monat im Kalenderjahr.\")\n",
    "    }\n",
    "    val november = Monat.NOVEMBER\n",
    "    if(november.nummer != 11){\n",
    "        fehler++\n",
    "        println(\"Fehler! Der November ist der 11. Monat im Kalenderjahr.\")\n",
    "    }\n",
    "    val dezember = Monat.DEZEMBER\n",
    "    if(dezember.nummer != 12){\n",
    "        fehler++\n",
    "        println(\"Fehler! Der Dezember ist der 12. Monat im Kalenderjahr.\")\n",
    "    }\n",
    "}\n",
    "catch(e: Exception){\n",
    "    println(e)\n",
    "}\n",
    "\n",
    "if(fehler != 0)\n",
    "    println(\"Falsch! Es traten $fehler Fehler auf.\")\n",
    "else\n",
    "    println(\"Richtig! Es traten keine Fehler auf.\")"
   ]
  },
  {
   "cell_type": "code",
   "execution_count": 31,
   "id": "2eaf6101",
   "metadata": {
    "execution": {
     "iopub.execute_input": "2021-11-18T13:25+0100",
     "iopub.status.busy": "2021-11-18T13:25+0100",
     "iopub.status.idle": "2021-11-18T13:25+0100",
     "shell.execute_reply": "2021-11-18T13:25+0100",
     "shell.execute_reply.started": "2021-11-18T13:25+0100"
    },
    "tags": []
   },
   "outputs": [
    {
     "name": "stdout",
     "output_type": "stream",
     "text": [
      "Richtig! Es traten keine Fehler auf.\n"
     ]
    }
   ],
   "source": [
    "//Lösung\n",
    "enum class Monat(val nummer: Int){\n",
    "    JANUAR(1), FEBRUAR(2), MAERZ(3), APRIL(4), MAI(5), JUNI(6), JULI(7), AUGUST(8), SEPTEMBER(9), OKTOBER(10), NOVEMBER(11), DEZEMBER(12)\n",
    "}\n",
    "\n",
    "//Test\n",
    "var fehler = 0\n",
    "try{\n",
    "    val januar = Monat.JANUAR\n",
    "    if(januar.nummer != 1){\n",
    "        fehler++\n",
    "        println(\"Fehler! Der Januar ist der 1. Monat im Kalenderjahr.\")\n",
    "    }\n",
    "    val februar = Monat.FEBRUAR\n",
    "    if(februar.nummer != 2){\n",
    "        fehler++\n",
    "        println(\"Fehler! Der Februar ist der 2. Monat im Kalenderjahr.\")\n",
    "    }\n",
    "    val maerz = Monat.MAERZ\n",
    "    if(maerz.nummer != 3){\n",
    "        fehler++\n",
    "        println(\"Fehler! Der März ist der 3. Monat im Kalenderjahr.\")\n",
    "    }\n",
    "    val april = Monat.APRIL\n",
    "    if(april.nummer != 4){\n",
    "        fehler++\n",
    "        println(\"Fehler! Der April ist der 4. Monat im Kalenderjahr.\")\n",
    "    }\n",
    "    val mai = Monat.MAI\n",
    "    if(mai.nummer != 5){\n",
    "        fehler++\n",
    "        println(\"Fehler! Der Mai ist der 5. Monat im Kalenderjahr.\")\n",
    "    }\n",
    "    val juni = Monat.JUNI\n",
    "    if(juni.nummer != 6){\n",
    "        fehler++\n",
    "        println(\"Fehler! Der Juni ist der 6. Monat im Kalenderjahr.\")\n",
    "    }\n",
    "    val juli = Monat.JULI\n",
    "    if(juli.nummer != 7){\n",
    "        fehler++\n",
    "        println(\"Fehler! Der Juli ist der 7. Monat im Kalenderjahr.\")\n",
    "    }\n",
    "    val august = Monat.AUGUST\n",
    "    if(august.nummer != 8){\n",
    "        fehler++\n",
    "        println(\"Fehler! Der August ist der 8. Monat im Kalenderjahr.\")\n",
    "    }\n",
    "    val september = Monat.SEPTEMBER\n",
    "    if(september.nummer != 9){\n",
    "        fehler++\n",
    "        println(\"Fehler! Der September ist der 9. Monat im Kalenderjahr.\")\n",
    "    }\n",
    "    val oktober = Monat.OKTOBER\n",
    "    if(oktober.nummer != 10){\n",
    "        fehler++\n",
    "        println(\"Fehler! Der Oktober ist der 10. Monat im Kalenderjahr.\")\n",
    "    }\n",
    "    val november = Monat.NOVEMBER\n",
    "    if(november.nummer != 11){\n",
    "        fehler++\n",
    "        println(\"Fehler! Der November ist der 11. Monat im Kalenderjahr.\")\n",
    "    }\n",
    "    val dezember = Monat.DEZEMBER\n",
    "    if(dezember.nummer != 12){\n",
    "        fehler++\n",
    "        println(\"Fehler! Der Dezember ist der 12. Monat im Kalenderjahr.\")\n",
    "    }\n",
    "}\n",
    "catch(e: Exception){\n",
    "    println(e)\n",
    "}\n",
    "\n",
    "if(fehler != 0)\n",
    "    println(\"Falsch! Es traten $fehler Fehler auf.\")\n",
    "else\n",
    "    println(\"Richtig! Es traten keine Fehler auf.\")"
   ]
  },
  {
   "cell_type": "markdown",
   "id": "71b8e26b",
   "metadata": {},
   "source": [
    "<img src=\"images/Lektion5.png\" style=\"margin: 20px 0px 20px 0px\"/>\n",
    "<h2 style=\"display:none\">Lektion 5 - Vererbung</h2>\n",
    "\n",
    "\n",
    "In Kotlin kann nicht von einer beliebigen Klasse geerbt werden. Diese muss als Voraussetzung den Vorsatz `open` besitzen. Dadurch wird signalisiert, dass eine Vererbung stattfinden darf. Der Namen der Klasse, von der geerbt werden soll, ist mit einem `:` getrennt hinter den Parameterklammern der erbenden Klasse zu schreiben. Dem Konstruktor der Super-Klasse werden die Parameter direkt im Kopf der Klasse übergeben. "
   ]
  },
  {
   "cell_type": "code",
   "execution_count": 32,
   "id": "00d6991c",
   "metadata": {
    "execution": {
     "iopub.execute_input": "2021-11-18T13:25+0100",
     "iopub.status.busy": "2021-11-18T13:25+0100",
     "iopub.status.idle": "2021-11-18T13:25+0100",
     "shell.execute_reply": "2021-11-18T13:25+0100",
     "shell.execute_reply.started": "2021-11-18T13:25+0100"
    },
    "tags": []
   },
   "outputs": [
    {
     "name": "stdout",
     "output_type": "stream",
     "text": [
      "p1: Mein Name ist Max Mustermann und ich bin 25 Jahre alt.\n",
      "s1: Mein Name ist Erika Mustermann, ich bin 21 Jahre alt und besitze die Matrikelnummer 0.\n"
     ]
    }
   ],
   "source": [
    "open class Person(val name: String, var alter: Int) { //Super-Klasse\n",
    "    override fun toString() = \"Mein Name ist $name und ich bin $alter Jahre alt.\"\n",
    "}\n",
    "\n",
    "class Student(name: String, alter: Int) : Person(name, alter){ //Sub-Klasse, die von Person erbt\n",
    "    companion object {\n",
    "        var zaehler = 0\n",
    "            get() = field++\n",
    "    }\n",
    "    val matrikelnummer = zaehler\n",
    "    \n",
    "    override fun toString() = \"Mein Name ist $name, ich bin $alter Jahre alt und besitze die Matrikelnummer $matrikelnummer.\"\n",
    "}\n",
    "\n",
    "val p1 = Person (\"Max Mustermann\", 25)\n",
    "val s1 = Student (\"Erika Mustermann\", 21)\n",
    "println(\"p1: $p1\")\n",
    "println(\"s1: $s1\")"
   ]
  },
  {
   "cell_type": "markdown",
   "id": "1f8669bf",
   "metadata": {},
   "source": [
    "### Felder und Methoden überschreiben\n",
    "Sollen Felder oder Methoden der Super-Klasse in der Sub-Klasse überschrieben werden, müssen diese ebenfalls mit `open` gekennzeichnet werden. Erst dann ist es möglich das gleiche Feld oder die gleiche Methode in der Sub-Klasse mit dem Zusatz `override` zu definieren. Soll auf das Feld oder die Methode der Oberklasse zugegriffen werden, findet das Schlüsselwort `super` Anwendung. Bei Mehrfachvererbung wird die nächst höhere Klasse angesprochen."
   ]
  },
  {
   "cell_type": "code",
   "execution_count": 33,
   "id": "4c1506bb",
   "metadata": {
    "execution": {
     "iopub.execute_input": "2021-11-18T13:25+0100",
     "iopub.status.busy": "2021-11-18T13:25+0100",
     "iopub.status.idle": "2021-11-18T13:25+0100",
     "shell.execute_reply": "2021-11-18T13:25+0100",
     "shell.execute_reply.started": "2021-11-18T13:25+0100"
    },
    "tags": []
   },
   "outputs": [
    {
     "name": "stdout",
     "output_type": "stream",
     "text": [
      "p1: Mein Name ist Max Mustermann und ich bin 25 Jahre alt. Für die Horde!\n",
      "Max Mustermann hat Geburtstag. Alles Gute!\n",
      "p1: Mein Name ist Max Mustermann und ich bin 26 Jahre alt. Für die Horde!\n",
      "s1: Mein Name ist Erika Mustermann, ich bin 21 Jahre alt und habe die Matrikelnummer 0. Für die Allianz! Oder vielleicht doch: Für die Horde!?\n",
      "Erika Mustermann hat Geburtstag. Alles Gute!\n",
      "s1: Mein Name ist Erika Mustermann, ich bin 20 Jahre alt und habe die Matrikelnummer 0. Für die Allianz! Oder vielleicht doch: Für die Horde!?\n"
     ]
    }
   ],
   "source": [
    "open class Person(val name: String, var alter: Int){\n",
    "    open val schlachtruf //Dieses Feld kann von den Sub-Klassen überschrieben werden\n",
    "        get() = \"Für die Horde!\"\n",
    "    \n",
    "    open fun hatGeburtstag() { //Diese Methode kann von den Sub-Klassen überschrieben werden\n",
    "        println(\"$name hat Geburtstag. Alles Gute!\")\n",
    "        alter++\n",
    "    } \n",
    "    override fun toString() = \"Mein Name ist $name und ich bin $alter Jahre alt. $schlachtruf\"\n",
    "}\n",
    "\n",
    "class Student(name: String, alter: Int) : Person(name, alter){\n",
    "    companion object {\n",
    "        var zaehler = 0\n",
    "            get() = field++\n",
    "    }\n",
    "    val matrikelnummer = zaehler\n",
    "    \n",
    "    override val schlachtruf\n",
    "        get() = \"Für die Allianz!\"\n",
    "    \n",
    "    override fun hatGeburtstag() { //Überschreibt die Methode hatGeburtstag der Super-Klasse\n",
    "        println(\"$name hat Geburtstag. Alles Gute!\")\n",
    "        alter--\n",
    "    } \n",
    "    \n",
    "    override fun toString() = \"Mein Name ist $name, ich bin $alter Jahre alt und habe die Matrikelnummer $matrikelnummer. $schlachtruf Oder vielleicht doch: ${super.schlachtruf}?\"\n",
    "}\n",
    "\n",
    "val p1 = Person (\"Max Mustermann\", 25)\n",
    "val s1 = Student (\"Erika Mustermann\", 21)\n",
    "println(\"p1: $p1\")\n",
    "p1.hatGeburtstag() //Ruft hatGeburtstag() von der Klasse Person auf \n",
    "println(\"p1: $p1\")\n",
    "println(\"s1: $s1\")\n",
    "s1.hatGeburtstag() //Ruft hatGeburtstag() von der Klasse Student auf \n",
    "println(\"s1: $s1\")"
   ]
  },
  {
   "cell_type": "markdown",
   "id": "ddae8f88",
   "metadata": {},
   "source": [
    "### Sekundäre Konstruktoren\n",
    "Wir sind bis jetzt von dem einfachen Fall ausgegangen, dass die Unterklasse einen primären Konstruktor besitzt. Jedoch gibt es auch die Möglichkeit diese nur mit sekundären Konstruktoren auszustatten. Diese müssen immer den primären Konstruktor der Oberklasse aufrufen."
   ]
  },
  {
   "cell_type": "code",
   "execution_count": 34,
   "id": "8592116b",
   "metadata": {
    "execution": {
     "iopub.execute_input": "2021-11-18T13:25+0100",
     "iopub.status.busy": "2021-11-18T13:25+0100",
     "iopub.status.idle": "2021-11-18T13:25+0100",
     "shell.execute_reply": "2021-11-18T13:25+0100",
     "shell.execute_reply.started": "2021-11-18T13:25+0100"
    },
    "tags": []
   },
   "outputs": [
    {
     "name": "stdout",
     "output_type": "stream",
     "text": [
      "Punkt p1: x: 4, y: 2, z: 8\n",
      "Punkt p2: x: 0, y: 0, z: 0\n"
     ]
    }
   ],
   "source": [
    "open class Punkt2D (val x: Int, val y: Int){\n",
    "    override fun toString() = \"x: $x, y: $y\"\n",
    "}\n",
    "\n",
    "class Punkt3D : Punkt2D { //Aufruf des primären Konstruktors von Punkt2D fehlt hier\n",
    "    val z: Int\n",
    "    \n",
    "    //sekundäre Konstruktoren rufen den primären Defaultkonstruktor von Punkt2D auf\n",
    "    constructor (x: Int, y: Int, z: Int) : super (x, y) {\n",
    "        this.z = z\n",
    "    }\n",
    "    constructor () : super (0, 0) {\n",
    "        this.z = 0\n",
    "    }\n",
    "    \n",
    "    override fun toString() = \"${super.toString()}, z: $z\"\n",
    "}\n",
    "\n",
    "val p1 = Punkt3D (4, 2, 8)\n",
    "println(\"Punkt p1: $p1\")\n",
    "val p2 = Punkt3D()\n",
    "println(\"Punkt p2: $p2\")"
   ]
  },
  {
   "cell_type": "markdown",
   "id": "07927758",
   "metadata": {},
   "source": [
    "### Abstrakte Klassen\n",
    "Das Konzept der abstrakten Klasse sollte bereits aus Java bekannt sein. Auch in Kotlin gibt es die Möglichkeit uninitierbare Klassen mit abstrakten Methoden zu implementieren. Diesen wird das Schlüsselwort `abstract` vorangestellt und können ohne Probleme vererbt werden. Die Sub-Klassen müssen jedoch die Methoden vervollständigen."
   ]
  },
  {
   "cell_type": "code",
   "execution_count": 35,
   "id": "0ed66061",
   "metadata": {
    "execution": {
     "iopub.execute_input": "2021-11-18T13:25+0100",
     "iopub.status.busy": "2021-11-18T13:25+0100",
     "iopub.status.idle": "2021-11-18T13:25+0100",
     "shell.execute_reply": "2021-11-18T13:25+0100",
     "shell.execute_reply.started": "2021-11-18T13:25+0100"
    },
    "tags": []
   },
   "outputs": [
    {
     "name": "stdout",
     "output_type": "stream",
     "text": [
      "Laptop wurde eingeschalten.\n",
      "Standcomputer wurde eingeschalten.\n"
     ]
    }
   ],
   "source": [
    "abstract class Computer (val kerne: Int, val farbe: String){ //Abstrakte Klasse\n",
    "    var istAn = false\n",
    "    abstract fun einschalten() //Abstrakte Methode\n",
    "}\n",
    "\n",
    "class Laptop (kerne: Int, farbe: String, val hatTouchscreen: Boolean) : Computer(kerne, farbe){\n",
    "    var istAufgeklappt = false\n",
    "    override fun einschalten() { //Vervollständigt die abstrakte Methode einschalten(), die geerbt wurde\n",
    "        if (!istAufgeklappt) \n",
    "            istAufgeklappt = true\n",
    "        istAn = true\n",
    "        println(\"Laptop wurde eingeschalten.\")\n",
    "    }\n",
    "}\n",
    "\n",
    "class Standcomputer (kerne: Int, farbe: String) : Computer(kerne, farbe){\n",
    "    override fun einschalten() {\n",
    "        istAn = true\n",
    "        println(\"Standcomputer wurde eingeschalten.\")\n",
    "    }\n",
    "}\n",
    "\n",
    "//val c1 = Computer (8, \"Schwarz\") -> Error: Cannot create an instance of an abstract class\n",
    "val l1 = Laptop(6, \"Rot\", false)\n",
    "l1.einschalten()\n",
    "val s1 = Standcomputer(12, \"Weiß\")\n",
    "s1.einschalten()"
   ]
  },
  {
   "cell_type": "markdown",
   "id": "1e8dbb0c",
   "metadata": {},
   "source": [
    "### Geschlossene Klassen\n",
    "Eine geschlossene Klasse ist eine besondere abstrakte Klasse. Ihr wird das Schlüsselwort `sealed` vorangestellt. Sie besitzt einen privaten Konstruktor. Von dieser darf nur in dem selben Paket oder der selben Kompiliereinheit geerbet werden. Dieses Konstrukt ist somit eine Alternative zu einer Enumeration. Da alle Subtypen bekannt sind, kann bei Verwendung einer `when`-Verzweigung der *default*-Fall weggelassen werden."
   ]
  },
  {
   "cell_type": "code",
   "execution_count": 36,
   "id": "25e2c9d5",
   "metadata": {
    "execution": {
     "iopub.execute_input": "2021-11-18T13:25+0100",
     "iopub.status.busy": "2021-11-18T13:25+0100",
     "iopub.status.idle": "2021-11-18T13:25+0100",
     "shell.execute_reply": "2021-11-18T13:25+0100",
     "shell.execute_reply.started": "2021-11-18T13:25+0100"
    },
    "tags": []
   },
   "outputs": [
    {
     "name": "stdout",
     "output_type": "stream",
     "text": [
      "Es ist ein Kompilierfehler Kompilierfehler(fehlercode=42) aufgetreten.\n"
     ]
    }
   ],
   "source": [
    "sealed class Fehler\n",
    "data class Laufzeitfehler(val fehlercode: Int) : Fehler()\n",
    "data class Kompilierfehler(val fehlercode: Int) : Fehler()\n",
    "data class Referenzfehler(val fehlercode: Int) : Fehler()\n",
    "\n",
    "val zufall = (0..2).random()\n",
    "val f1 = if(zufall == 1)\n",
    "                Laufzeitfehler(123)\n",
    "            else if(zufall == 2)\n",
    "                Kompilierfehler(42)\n",
    "            else\n",
    "                Referenzfehler(200)\n",
    "\n",
    "when (f1){\n",
    "    is Laufzeitfehler -> println(\"Es ist ein Laufzeitfehler $f1 aufgetreten.\")\n",
    "    is Kompilierfehler -> println(\"Es ist ein Kompilierfehler $f1 aufgetreten.\")\n",
    "    is Referenzfehler -> println(\"Es ist ein Referenzfehler $f1 aufgetreten.\")\n",
    "}"
   ]
  },
  {
   "cell_type": "markdown",
   "id": "bb953fb2",
   "metadata": {},
   "source": [
    "### Aufgabe - Software\n",
    "<img src=\"images/Aufgabenstellung-Vererbung.png\" style=\"float:right; height: 300px\" />\n",
    "\n",
    "\n",
    "Wandeln Sie das vereinfachte Klassendiagramm in Code um. Die Methoden `starte()`, `schreiben()` und `spielen()` sollen lediglich eine Ausgabe auslösen. Sie können sich an folgendes Beispiel halten:  \n",
    "\n",
    "\n",
    "Die Textverarbeitungssoftware Office wird gestartet.  \n",
    "Die Textverarbeitungssoftware Office schreibt...  \n",
    "Das Computerspiel Cyberpunk 2077 wird gestartet.  \n",
    "Das Computerspiel Cyberpunk 2077 wird gespielt...  \n"
   ]
  },
  {
   "cell_type": "code",
   "execution_count": 37,
   "id": "3df4d302",
   "metadata": {
    "execution": {
     "iopub.execute_input": "2021-11-18T13:25+0100",
     "iopub.status.busy": "2021-11-18T13:25+0100",
     "iopub.status.idle": "2021-11-18T13:25+0100"
    }
   },
   "outputs": [
    {
     "name": "stderr",
     "output_type": "stream",
     "text": [
      "Line_36.jupyter-kts (5:16 - 41) Unresolved reference: Textverarbeitungssoftware\n",
      "Line_36.jupyter-kts (8:17 - 30) Unresolved reference: Computerspiel\n",
      "Line_36.jupyter-kts (12:9 - 17) Unresolved reference: Software\n",
      "Line_36.jupyter-kts (14:18 - 26) Unresolved reference: Software\n",
      "Line_36.jupyter-kts (16:17 - 25) Unresolved reference: Software"
     ]
    }
   ],
   "source": [
    "//TODO\n",
    "\n",
    "//Test\n",
    "try {\n",
    "    val text = Textverarbeitungssoftware(listOf(\"doc\",\"pages\",\"txt\"), \"Office\")\n",
    "    text.starte()\n",
    "    text.schreiben()\n",
    "    val spiel = Computerspiel(1, \"Cyberpunk 2077\")\n",
    "    spiel.starte()\n",
    "    spiel.spielen()\n",
    "    \n",
    "    if(!Software::class.isAbstract)\n",
    "        throw AssertionError(\"Klasse Software ist nicht abstrakt.\")\n",
    "    if(spiel !is Software)\n",
    "        throw AssertionError(\"Klasse Computerspiel erbt nicht von Software.\")\n",
    "    if(text !is Software)\n",
    "        throw AssertionError(\"Klasse Textverarbeitungssoftware erbt nicht von Software.\")\n",
    "    println(\"Super! Ihre Lösung ist richtig.\")\n",
    "}\n",
    "catch(e: Exception){\n",
    "    println(\"Fehler! $e\")\n",
    "}"
   ]
  },
  {
   "cell_type": "code",
   "execution_count": 38,
   "id": "71449762",
   "metadata": {
    "execution": {
     "iopub.execute_input": "2021-11-18T13:25+0100",
     "iopub.status.busy": "2021-11-18T13:25+0100",
     "iopub.status.idle": "2021-11-18T13:25+0100",
     "shell.execute_reply": "2021-11-18T13:25+0100",
     "shell.execute_reply.started": "2021-11-18T13:25+0100"
    },
    "tags": []
   },
   "outputs": [
    {
     "name": "stdout",
     "output_type": "stream",
     "text": [
      "Die Textverarbeitungssoftware Office wird gestartet.\n",
      "Die Textverarbeitungssoftware Office schreibt...\n",
      "Das Computerspiel Cyberpunk 2077 wird gestartet.\n",
      "Das Computerspiel Cyberpunk 2077 wird gespielt...\n",
      "Super! Ihre Lösung ist richtig.\n"
     ]
    }
   ],
   "source": [
    "//Lösung\n",
    "abstract class Software(val name: String){\n",
    "    abstract fun starte(): Unit\n",
    "}\n",
    "\n",
    "class Textverarbeitungssoftware(val dateiformate: List<String>, name: String): Software(name){\n",
    "    fun schreiben() = println(\"Die Textverarbeitungssoftware $name schreibt...\")\n",
    "    override fun starte() = println(\"Die Textverarbeitungssoftware $name wird gestartet.\")\n",
    "}\n",
    "\n",
    "class Computerspiel(val anzahlSpieler: Int, name: String): Software(name){\n",
    "    fun spielen() = println(\"Das Computerspiel $name wird gespielt...\")\n",
    "    override fun starte() = println(\"Das Computerspiel $name wird gestartet.\")\n",
    "}\n",
    "\n",
    "//Test\n",
    "try {\n",
    "    val text = Textverarbeitungssoftware(listOf(\"doc\",\"pages\",\"txt\"), \"Office\")\n",
    "    text.starte()\n",
    "    text.schreiben()\n",
    "    val spiel = Computerspiel(1, \"Cyberpunk 2077\")\n",
    "    spiel.starte()\n",
    "    spiel.spielen()\n",
    "    \n",
    "    if(!Software::class.isAbstract)\n",
    "        throw AssertionError(\"Klasse Software ist nicht abstrakt.\")\n",
    "    if(spiel !is Software)\n",
    "        throw AssertionError(\"Klasse Computerspiel erbt nicht von Software.\")\n",
    "    if(text !is Software)\n",
    "        throw AssertionError(\"Klasse Textverarbeitungssoftware erbt nicht von Software.\")\n",
    "    println(\"Super! Ihre Lösung ist richtig.\")\n",
    "}\n",
    "catch(e: Exception){\n",
    "    println(\"Fehler! $e\")\n",
    "}"
   ]
  },
  {
   "cell_type": "markdown",
   "id": "7d71c264",
   "metadata": {},
   "source": [
    "<img src=\"images/Lektion6.png\" style=\"margin: 20px 0px 20px 0px\"/>\n",
    "<h2 style=\"display:none\">Lektion 6 - Schnittstellen</h2>\n",
    "\n",
    "\n",
    "Ein wichtiges objektorientiertes Konzept ist das der Schnittstelle. Ein bekanntes Beispiel das `Comparable`-Interface, das eine `compareTo()`-Methode voraussetzt. Aber anstelle des Vorschreibens von Methoden können auch Zugriffe definiert werden. Eine Schnittstelle besitzt das Schlüsselwort `interface` und wird bei der implementierenden Klasse, ähnlich zum Erben, angegeben. In einem Interface können sowohl Methoden voll implementiert oder nur deren Kopf angegeben werden, sodass diese von jeder Klasse selbst vervollständigt werden müssen. Außerdem können sie auch Felder beinhalten.\n",
    "Kotlin bietet bereits einige vorgefertigte Schnittstellen an:\n",
    "\n",
    "<table style=\"font-size:16px\">\n",
    "<thead>\n",
    "  <tr>\n",
    "    <th style=\"font-size:16px\">Name</th>\n",
    "    <th style=\"font-size:16px\">Funktion</th>\n",
    "  </tr>\n",
    "</thead>\n",
    "<tbody>\n",
    "  <tr>\n",
    "    <td style=\"font-size:16px\">Appendable</td>\n",
    "    <td style=\"font-size:16px\">append()</td>\n",
    "  </tr>\n",
    "  <tr>\n",
    "    <td style=\"font-size:16px\">Closeable</td>\n",
    "    <td style=\"font-size:16px\">close()</td>\n",
    "  </tr>\n",
    "  <tr>\n",
    "    <td style=\"font-size:16px\">Compareable</td>\n",
    "    <td style=\"font-size:16px\">compare()</td>\n",
    "  </tr>\n",
    "  <tr>\n",
    "    <td style=\"font-size:16px\">Iterable</td>\n",
    "    <td style=\"font-size:16px\">Verarbeitung der Elemente in einer Schleife</td>\n",
    "  </tr>\n",
    "  <tr>\n",
    "    <td style=\"font-size:16px\">Collection</td>\n",
    "    <td style=\"font-size:16px\">allgemeine Aufzählung</td>\n",
    "  </tr>\n",
    "  <tr>\n",
    "    <td style=\"font-size:16px\">List</td>\n",
    "    <td style=\"font-size:16px\">Liste</td>\n",
    "  </tr>\n",
    "  <tr>\n",
    "    <td style=\"font-size:16px\">Map</td>\n",
    "    <td style=\"font-size:16px\">Dictionary</td>\n",
    "  </tr>\n",
    "  <tr>\n",
    "    <td style=\"font-size:16px\">Set</td>\n",
    "    <td style=\"font-size:16px\">Menge</td>\n",
    "  </tr>\n",
    "</tbody>\n",
    "</table>"
   ]
  },
  {
   "cell_type": "code",
   "execution_count": 39,
   "id": "3450e37c",
   "metadata": {
    "execution": {
     "iopub.execute_input": "2021-11-18T13:25+0100",
     "iopub.status.busy": "2021-11-18T13:25+0100",
     "iopub.status.idle": "2021-11-18T13:25+0100",
     "shell.execute_reply": "2021-11-18T13:25+0100",
     "shell.execute_reply.started": "2021-11-18T13:25+0100"
    },
    "tags": []
   },
   "outputs": [
    {
     "name": "stdout",
     "output_type": "stream",
     "text": [
      "rechner.dieZahl: 42\n",
      "rechner.add2(5,3): 8\n",
      "rechner.add3(5,9,3): 17\n"
     ]
    }
   ],
   "source": [
    "interface Addition {\n",
    "    val dieZahl: Int //Feld, das in den Klassen überschrieben und gefüllt werden muss\n",
    "    \n",
    "    fun add2(a: Int, b: Int): Int //Methode muss in den Klassen ausformuliert werden\n",
    "    fun add3(a: Int, b: Int, c: Int) = a + b + c //Bereits voll implementierte Methode, die übernommen wird\n",
    "}\n",
    "\n",
    "class Rechner : Addition {\n",
    "    override val dieZahl = 42 //Überschreibt das vorgegebene Feld dieZahl\n",
    "    override fun add2(a: Int, b: Int) = a + b //Überschreibt die vorgegebene Methode add3\n",
    "}\n",
    "\n",
    "val rechner = Rechner()\n",
    "println(\"rechner.dieZahl: ${rechner.dieZahl}\")\n",
    "println(\"rechner.add2(5,3): ${rechner.add2(5,3)}\")\n",
    "println(\"rechner.add3(5,9,3): ${rechner.add3(5,9,3)}\")"
   ]
  },
  {
   "cell_type": "markdown",
   "id": "c70e7e97",
   "metadata": {},
   "source": [
    "### Geschlossene Schnittstelle\n",
    "In Lektion 5 wurde das Schlüsselwort `sealed` in Verbindung mit abstrakten Klassen kennengelernt. Die gleiche Funktionalität lässt sich aber auch auf Schnittstellen anwenden."
   ]
  },
  {
   "cell_type": "code",
   "execution_count": 40,
   "id": "12db8b6f",
   "metadata": {
    "execution": {
     "iopub.execute_input": "2021-11-18T13:25+0100",
     "iopub.status.busy": "2021-11-18T13:25+0100",
     "iopub.status.idle": "2021-11-18T13:25+0100",
     "shell.execute_reply": "2021-11-18T13:25+0100",
     "shell.execute_reply.started": "2021-11-18T13:25+0100"
    },
    "tags": []
   },
   "outputs": [
    {
     "name": "stdout",
     "output_type": "stream",
     "text": [
      "Es ist eine Banane!\n"
     ]
    }
   ],
   "source": [
    "sealed interface Frucht {\n",
    "    val farbe: String\n",
    "    var status: String\n",
    "    \n",
    "    fun faulen() {\n",
    "        status = \"Verfault\"\n",
    "    }\n",
    "}\n",
    "\n",
    "class Apfel(override val farbe: String, override var status: String) : Frucht {\n",
    "    constructor (farbe: String): this(farbe, \"Frisch\")\n",
    "}\n",
    "data class Pflaume(override val farbe: String, override var status: String) : Frucht\n",
    "data class Banane(override val farbe: String, override var status: String, val gekruemmt: Boolean) : Frucht\n",
    "\n",
    "\n",
    "when(listOf(Apfel(\"Rot\"), Pflaume(\"Violet\", \"Frisch\"), Banane(\"Gelb\", \"Geöffnet\", true)).random() as Frucht){\n",
    "    is Apfel -> println(\"Es ist ein Apfel!\")\n",
    "    is Pflaume -> println(\"Es ist eine Pflaume!\")\n",
    "    is Banane -> println(\"Es ist eine Banane!\")\n",
    "}"
   ]
  },
  {
   "cell_type": "markdown",
   "id": "090984bc",
   "metadata": {},
   "source": [
    "### Aufgabe - Schnittstelle einer Liste\n",
    "In Konzepte der Programmierung wurde die [einfach verkettete Liste](https://de.wikipedia.org/wiki/Liste_%28Datenstruktur%29#Einfach_verkettete_Listen) intensiv behandelt. Implementieren Sie eine Schnittstelle `Liste`, die eine solche Liste von Elemente vorgibt. Es soll ein erstes Element und zwei Methoden, die Elemente hinzufügt und entfernt. Wählen Sie einen passenden Variablentyp, Parameter und Rückgaben. Da eine Schnittstelle schwer zu überprüfen ist, gibt es zu dieser Aufgabe keinen Test."
   ]
  },
  {
   "cell_type": "code",
   "execution_count": 41,
   "id": "40297257",
   "metadata": {
    "execution": {
     "iopub.execute_input": "2021-11-18T13:25+0100",
     "iopub.status.busy": "2021-11-18T13:25+0100",
     "iopub.status.idle": "2021-11-18T13:25+0100",
     "shell.execute_reply": "2021-11-18T13:25+0100",
     "shell.execute_reply.started": "2021-11-18T13:25+0100"
    },
    "tags": []
   },
   "outputs": [],
   "source": [
    "data class Element(val wert: Int, var naechster: Element? = null)\n",
    "\n",
    "//TODO"
   ]
  },
  {
   "cell_type": "code",
   "execution_count": 42,
   "id": "f48a02ed",
   "metadata": {
    "execution": {
     "iopub.execute_input": "2021-11-18T13:25+0100",
     "iopub.status.busy": "2021-11-18T13:25+0100",
     "iopub.status.idle": "2021-11-18T13:25+0100",
     "shell.execute_reply": "2021-11-18T13:25+0100",
     "shell.execute_reply.started": "2021-11-18T13:25+0100"
    },
    "tags": []
   },
   "outputs": [],
   "source": [
    "data class Element(val wert: Int, var naechster: Element? = null)\n",
    "\n",
    "//Lösung\n",
    "interface Liste {\n",
    "    var erster: Element? //nullable, da das erste Element leer sein kann\n",
    "    \n",
    "    fun hinzufuegen(wert: Int): Boolean //Parameter: Wert des Elements, Rückgabe: Erfolg\n",
    "    fun entfernen(): Int //Rückgabe des Werts des entfernten Elements\n",
    "}"
   ]
  },
  {
   "cell_type": "markdown",
   "id": "01e06bb2",
   "metadata": {},
   "source": [
    "<img src=\"images/Lektion7.png\" style=\"margin: 20px 0px 20px 0px\"/>\n",
    "<h2 style=\"display:none\">Lektion 7 - Generizität</h2>\n",
    "\n",
    "\n",
    "### Generische Klassen\n",
    "Bei manchen Softwareprojekten kommt man an generischen Klassen nicht vorbei, falls mehrfache Arbeit vermieden werden soll. Das Konzept an sich unterscheidet sich in Kotlin und Java nicht. Der generische Datentyp wird nach dem Klassennamen in `<>` angegeben und kann in der Klasse anstelle normalen Datentypen eingesetzt werden."
   ]
  },
  {
   "cell_type": "code",
   "execution_count": 43,
   "id": "f9dffc2d",
   "metadata": {
    "execution": {
     "iopub.execute_input": "2021-11-18T13:25+0100",
     "iopub.status.busy": "2021-11-18T13:25+0100",
     "iopub.status.idle": "2021-11-18T13:25+0100",
     "shell.execute_reply": "2021-11-18T13:25+0100",
     "shell.execute_reply.started": "2021-11-18T13:25+0100"
    },
    "tags": []
   },
   "outputs": [
    {
     "name": "stdout",
     "output_type": "stream",
     "text": [
      "s1: Speicher(platz1=1, platz2=2, platz3=3)\n",
      "s2: Speicher(platz1=[1, 2, 3], platz2=[1, 2, 3], platz3=[1, 2, 3])\n",
      "s3: Speicher(platz1=Kotlin, platz2=Java, platz3=C)\n"
     ]
    }
   ],
   "source": [
    "data class Speicher<T> (var platz1: T, var platz2: T, var platz3: T)\n",
    "\n",
    "val s1 = Speicher(1,2,3)\n",
    "val s2 = Speicher(listOf(1,2,3),listOf(1,2,3),listOf(1,2,3))\n",
    "val s3 = Speicher(\"Kotlin\",\"Java\",\"C\")\n",
    "println(\"s1: $s1\")\n",
    "println(\"s2: $s2\")\n",
    "println(\"s3: $s3\")"
   ]
  },
  {
   "cell_type": "markdown",
   "id": "4d7057a4",
   "metadata": {},
   "source": [
    "Soll der generische Datentyp eingeschränkt werden, kann dies durch ein Interface passieren. Dieses gibt vor, welche Methoden der Datentyp implementieren muss."
   ]
  },
  {
   "cell_type": "code",
   "execution_count": 44,
   "id": "c130f28b",
   "metadata": {
    "execution": {
     "iopub.execute_input": "2021-11-18T13:25+0100",
     "iopub.status.busy": "2021-11-18T13:25+0100",
     "iopub.status.idle": "2021-11-18T13:25+0100",
     "shell.execute_reply": "2021-11-18T13:25+0100",
     "shell.execute_reply.started": "2021-11-18T13:25+0100"
    },
    "tags": []
   },
   "outputs": [
    {
     "name": "stdout",
     "output_type": "stream",
     "text": [
      "gleichheitstestInt.istGleich(3,3): true\n",
      "gleichheitstestInt.istGleich(10,3): false\n",
      "gleichheitstestString.istGleich('Kotlin','Kotlin'): true\n"
     ]
    }
   ],
   "source": [
    "class Gleichheitstest<T: Comparable<T>>{\n",
    "    fun istGleich(a: T, b: T) = if(a.compareTo(b) == 0) true else false\n",
    "}\n",
    "val gleichheitstestInt = Gleichheitstest<Int>()\n",
    "println(\"gleichheitstestInt.istGleich(3,3): ${gleichheitstestInt.istGleich(3,3)}\")\n",
    "println(\"gleichheitstestInt.istGleich(10,3): ${gleichheitstestInt.istGleich(10,3)}\")\n",
    "val gleichheitstestString = Gleichheitstest<String>()\n",
    "println(\"gleichheitstestString.istGleich('Kotlin','Kotlin'): ${gleichheitstestString.istGleich(\"Kotlin\",\"Kotlin\")}\")"
   ]
  },
  {
   "cell_type": "markdown",
   "id": "58e46066",
   "metadata": {},
   "source": [
    "### Generische Funktionen\n",
    "Generizität findet aber nicht nur bei Klassen, sondern auch bei Funktionen Anwendung. Jedoch wird hier der generische Typ vor dem Namen der Funktion angegeben. Bei Aufruf der Methode muss der Typ nicht angegeben werden, sondern wird vom Compiler erkannt."
   ]
  },
  {
   "cell_type": "code",
   "execution_count": 45,
   "id": "b4ed861a",
   "metadata": {
    "execution": {
     "iopub.execute_input": "2021-11-18T13:25+0100",
     "iopub.status.busy": "2021-11-18T13:25+0100",
     "iopub.status.idle": "2021-11-18T13:25+0100",
     "shell.execute_reply": "2021-11-18T13:25+0100",
     "shell.execute_reply.started": "2021-11-18T13:25+0100"
    },
    "tags": []
   },
   "outputs": [
    {
     "name": "stdout",
     "output_type": "stream",
     "text": [
      "istGleich(3,3): true\n",
      "istGleich('Kotlin','Kotlin'): true\n"
     ]
    }
   ],
   "source": [
    "fun <T: Comparable<T>> istGleich(a: T, b: T) = if(a.compareTo(b) == 0) true else false\n",
    "println(\"istGleich(3,3): ${istGleich(3,3)}\") //T ist Int\n",
    "println(\"istGleich('Kotlin','Kotlin'): ${istGleich(\"Kotlin\",\"Kotlin\")}\") //T ist String"
   ]
  },
  {
   "cell_type": "markdown",
   "id": "8decb526",
   "metadata": {},
   "source": [
    "### Generische Erweiterungsmethoden\n",
    "Das Konzept und die Implementierung von Erweiterungsmethoden wurde bereits in Abschnitt 1 kennengelernt. Es kann aber auch auf generische Klassen übertragen werden. So können beispielsweise einer generischen Liste neue Methoden hinzugefügt werden."
   ]
  },
  {
   "cell_type": "code",
   "execution_count": 46,
   "id": "ca29ac13",
   "metadata": {
    "execution": {
     "iopub.execute_input": "2021-11-18T13:25+0100",
     "iopub.status.busy": "2021-11-18T13:25+0100",
     "iopub.status.idle": "2021-11-18T13:25+0100",
     "shell.execute_reply": "2021-11-18T13:25+0100",
     "shell.execute_reply.started": "2021-11-18T13:25+0100"
    },
    "tags": []
   },
   "outputs": [
    {
     "name": "stdout",
     "output_type": "stream",
     "text": [
      "Entferntes Element von liste1: 1\n",
      "listeq: [3, 6, 8, 10]\n",
      "Entferntes Element von liste2: e\n",
      "liste2: [f, w, t, q]\n"
     ]
    }
   ],
   "source": [
    "fun <T: Comparable<T>> MutableList<T>.entferneMinimum(): T?{\n",
    "    val min = minOrNull()\n",
    "    return if (min != null){\n",
    "        remove(min)\n",
    "        min\n",
    "    }\n",
    "    else {\n",
    "        null\n",
    "    }\n",
    "}\n",
    "\n",
    "val liste1 = mutableListOf(3,6,1,8,10) //T ist Int\n",
    "println(\"Entferntes Element von liste1: ${liste1.entferneMinimum()}\")\n",
    "println(\"listeq: $liste1\")\n",
    "val liste2 = mutableListOf('f', 'w', 'e', 't', 'q') //T ist Character\n",
    "println(\"Entferntes Element von liste2: ${liste2.entferneMinimum()}\")\n",
    "println(\"liste2: $liste2\")"
   ]
  },
  {
   "cell_type": "markdown",
   "id": "a0743f22",
   "metadata": {},
   "source": [
    "### Aufgabe - Generische Liste\n",
    "\n",
    "Implementieren Sie eine generische, [einfach verkettete](https://de.wikipedia.org/wiki/Liste_%28Datenstruktur%29#Einfach_verkettete_Listen) Liste `Liste`, die neue Elemente vorne hinzufügt (`hinzufuegen`) und entnimmt (`entfernen`). `hinzufuegen()` bekommt den Wert des Elements übergeben. Falls die Operation fehlschlägt, soll `false` zurückgegeben werden. Entfernen gibt den Wert des entfernten Elements oder `null` zurück. Die Liste speichert als einziges das erste Element (`erstes`). In einer privaten Klasse `Element` soll der Wert und eine Referenz auf das nächste Element (`naechstes`) zu finden sein. "
   ]
  },
  {
   "cell_type": "code",
   "execution_count": 47,
   "id": "f8abce56",
   "metadata": {
    "execution": {
     "iopub.execute_input": "2021-11-18T13:25+0100",
     "iopub.status.busy": "2021-11-18T13:25+0100",
     "iopub.status.idle": "2021-11-18T13:25+0100"
    }
   },
   "outputs": [
    {
     "name": "stderr",
     "output_type": "stream",
     "text": [
      "Line_46.jupyter-kts (5:16 - 21) Interface Liste does not have constructors"
     ]
    }
   ],
   "source": [
    "//TODO\n",
    "\n",
    "//Test\n",
    "var fehler = 0\n",
    "val listeInt = Liste<Int>()\n",
    "for (i in 1..5){\n",
    "    if(!listeInt.hinzufuegen(i)){\n",
    "        fehler++\n",
    "        println(\"Fehler! Ein Element mit dem Wert $i konnte nicht hinzugefügt werden. ${listeInt.erstes}\")\n",
    "    }\n",
    "}\n",
    "\n",
    "if (listeInt.erstes?.wert != 5){\n",
    "    fehler++\n",
    "    println(\"Fehler! Der Wert des ersten Elements sollte 10 sein, ist aber ${listeInt.erstes?.wert}\")\n",
    "}\n",
    "if (listeInt.erstes?.naechstes?.wert != 4){\n",
    "    fehler++\n",
    "    println(\"Fehler! Der Wert des zweiten Elements sollte 10 sein, ist aber ${listeInt.erstes?.naechstes?.wert}\")\n",
    "}\n",
    "if (listeInt.erstes?.naechstes?.naechstes?.naechstes?.naechstes?.wert != 1){\n",
    "    fehler++\n",
    "    println(\"Fehler! Der Wert des letzten Elements sollte 1 sein, ist aber ${listeInt.erstes?.naechstes?.naechstes?.naechstes?.naechstes?.wert}\")\n",
    "}\n",
    "if (listeInt.erstes?.naechstes?.naechstes?.naechstes?.naechstes?.naechstes != null){\n",
    "    fehler++\n",
    "    println(\"Fehler! Es ist eine falsche Anzahl an Elementen in der Liste. ${listeInt.erstes}\")\n",
    "}\n",
    "for (i in 5 downTo 1){\n",
    "    if(listeInt.entfernen() != i){\n",
    "        fehler++\n",
    "        println(\"Fehler! Das Element mit dem Wert $i konnte nicht enfernt werden. ${listeInt.erstes}\")\n",
    "    }\n",
    "}\n",
    "if(listeInt.entfernen() != null){\n",
    "        fehler++\n",
    "        println(\"Fehler! Obwohl kein Element mehr entfernt werden können sollte, wurde ein Wert zurückgegeben. ${listeInt.erstes}\")\n",
    "}\n",
    "\n",
    "if(fehler == 0)\n",
    "    println(\"Super! Ihre Lösung hat alle Tests bestanden.\")\n",
    "else\n",
    "    println(\"Falsch! Es traten bei $fehler Tests Fehler auf.\")"
   ]
  },
  {
   "cell_type": "code",
   "execution_count": 48,
   "id": "7eee36ea",
   "metadata": {
    "execution": {
     "iopub.execute_input": "2021-11-18T13:25+0100",
     "iopub.status.busy": "2021-11-18T13:25+0100",
     "iopub.status.idle": "2021-11-18T13:25+0100",
     "shell.execute_reply": "2021-11-18T13:25+0100",
     "shell.execute_reply.started": "2021-11-18T13:25+0100"
    },
    "tags": []
   },
   "outputs": [
    {
     "name": "stdout",
     "output_type": "stream",
     "text": [
      "Super! Ihre Lösung hat alle Tests bestanden.\n"
     ]
    }
   ],
   "source": [
    "//Lösung\n",
    "class Liste<T> (var erstes: Element<T>? = null){\n",
    "    data class Element<F>(val wert: F, var naechstes: Element<F>? = null)\n",
    "    \n",
    "    fun hinzufuegen(wert: T): Boolean {\n",
    "        erstes = erstes?.let { Element<T>(wert, erstes) } ?: Element<T>(wert)\n",
    "        return true\n",
    "    }\n",
    "    fun entfernen(): T? {\n",
    "        val res = erstes?.wert\n",
    "        erstes = erstes?.naechstes\n",
    "        return res\n",
    "    }\n",
    "}\n",
    "\n",
    "//Test\n",
    "var fehler = 0\n",
    "val listeInt = Liste<Int>()\n",
    "for (i in 1..5){\n",
    "    if(!listeInt.hinzufuegen(i)){\n",
    "        fehler++\n",
    "        println(\"Fehler! Ein Element mit dem Wert $i konnte nicht hinzugefügt werden. ${listeInt.erstes}\")\n",
    "    }\n",
    "}\n",
    "\n",
    "if (listeInt.erstes?.wert != 5){\n",
    "    fehler++\n",
    "    println(\"Fehler! Der Wert des ersten Elements sollte 10 sein, ist aber ${listeInt.erstes?.wert}\")\n",
    "}\n",
    "if (listeInt.erstes?.naechstes?.wert != 4){\n",
    "    fehler++\n",
    "    println(\"Fehler! Der Wert des zweiten Elements sollte 10 sein, ist aber ${listeInt.erstes?.naechstes?.wert}\")\n",
    "}\n",
    "if (listeInt.erstes?.naechstes?.naechstes?.naechstes?.naechstes?.wert != 1){\n",
    "    fehler++\n",
    "    println(\"Fehler! Der Wert des letzten Elements sollte 1 sein, ist aber ${listeInt.erstes?.naechstes?.naechstes?.naechstes?.naechstes?.wert}\")\n",
    "}\n",
    "if (listeInt.erstes?.naechstes?.naechstes?.naechstes?.naechstes?.naechstes != null){\n",
    "    fehler++\n",
    "    println(\"Fehler! Es ist eine falsche Anzahl an Elementen in der Liste. ${listeInt.erstes}\")\n",
    "}\n",
    "for (i in 5 downTo 1){\n",
    "    if(listeInt.entfernen() != i){\n",
    "        fehler++\n",
    "        println(\"Fehler! Das Element mit dem Wert $i konnte nicht enfernt werden. ${listeInt.erstes}\")\n",
    "    }\n",
    "}\n",
    "if(listeInt.entfernen() != null){\n",
    "        fehler++\n",
    "        println(\"Fehler! Obwohl kein Element mehr entfernt werden können sollte, wurde ein Wert zurückgegeben. ${listeInt.erstes}\")\n",
    "}\n",
    "\n",
    "if(fehler == 0)\n",
    "    println(\"Super! Ihre Lösung hat alle Tests bestanden.\")\n",
    "else\n",
    "    println(\"Falsch! Es traten bei $fehler Tests Fehler auf.\")"
   ]
  },
  {
   "cell_type": "markdown",
   "id": "21572f07",
   "metadata": {
    "tags": []
   },
   "source": [
    "<img src=\"images/Lektion8.png\" style=\"margin: 20px 0px 20px 0px\"/>\n",
    "<h2 style=\"display:none\">Lektion 8 - Ausnahmebehandlung</h2>\n",
    "\n",
    "\n",
    "Während in Java zwischen *checked* (die Möglichkeit des Auftretens eines Fehler muss behandelt werden) und *unchecked Exceptions* (Fehler müssen nicht behandelt werden) unterschieden wird, ist dies in Kotlin nicht der Fall. Es besteht keine Pflicht bestimmte Fehler vorbeugend zu behandeln.  \n",
    "Mit `throw` können Exceptions selbst ausgelöst werden. Außerdem kann ein solcher Ausdruck einer Variablen zugewiesen werden."
   ]
  },
  {
   "cell_type": "code",
   "execution_count": 49,
   "id": "6c2877e2",
   "metadata": {
    "execution": {
     "iopub.execute_input": "2021-11-18T13:25+0100",
     "iopub.status.busy": "2021-11-18T13:25+0100",
     "iopub.status.idle": "2021-11-18T13:25+0100"
    },
    "tags": []
   },
   "outputs": [
    {
     "name": "stderr",
     "output_type": "stream",
     "text": [
      "Der Parameter muss zwischen 0 und 100 sein, ist aber -12\n",
      "java.lang.IllegalArgumentException: Der Parameter muss zwischen 0 und 100 sein, ist aber -12\n",
      "org.jetbrains.kotlinx.jupyter.ReplEvalRuntimeException: Der Parameter muss zwischen 0 und 100 sein, ist aber -12\n",
      "\tat org.jetbrains.kotlinx.jupyter.repl.impl.InternalEvaluatorImpl.eval(InternalEvaluatorImpl.kt:106)\n",
      "\tat org.jetbrains.kotlinx.jupyter.repl.impl.CellExecutorImpl$execute$1$result$1.invoke(CellExecutorImpl.kt:64)\n",
      "\tat org.jetbrains.kotlinx.jupyter.repl.impl.CellExecutorImpl$execute$1$result$1.invoke(CellExecutorImpl.kt:63)\n",
      "\tat org.jetbrains.kotlinx.jupyter.ReplForJupyterImpl.withHost(repl.kt:596)\n",
      "\tat org.jetbrains.kotlinx.jupyter.repl.impl.CellExecutorImpl.execute(CellExecutorImpl.kt:63)\n",
      "\tat org.jetbrains.kotlinx.jupyter.repl.CellExecutor$DefaultImpls.execute$default(CellExecutor.kt:13)\n",
      "\tat org.jetbrains.kotlinx.jupyter.ReplForJupyterImpl$evalEx$1.invoke(repl.kt:419)\n",
      "\tat org.jetbrains.kotlinx.jupyter.ReplForJupyterImpl$evalEx$1.invoke(repl.kt:408)\n",
      "\tat org.jetbrains.kotlinx.jupyter.ReplForJupyterImpl.withEvalContext(repl.kt:372)\n",
      "\tat org.jetbrains.kotlinx.jupyter.ReplForJupyterImpl.evalEx(repl.kt:408)\n",
      "\tat org.jetbrains.kotlinx.jupyter.ReplForJupyterImpl.eval(repl.kt:456)\n",
      "\tat org.jetbrains.kotlinx.jupyter.ProtocolKt$shellMessagesHandler$res$1.invoke(protocol.kt:290)\n",
      "\tat org.jetbrains.kotlinx.jupyter.ProtocolKt$shellMessagesHandler$res$1.invoke(protocol.kt:289)\n",
      "\tat org.jetbrains.kotlinx.jupyter.JupyterConnection$runExecution$execThread$1.invoke(connection.kt:166)\n",
      "\tat org.jetbrains.kotlinx.jupyter.JupyterConnection$runExecution$execThread$1.invoke(connection.kt:164)\n",
      "\tat kotlin.concurrent.ThreadsKt$thread$thread$1.run(Thread.kt:30)\n",
      "Caused by: java.lang.IllegalArgumentException: Der Parameter muss zwischen 0 und 100 sein, ist aber -12\n",
      "\tat Line_48.<init>(Line_48.jupyter-kts:6)\n",
      "\tat java.base/jdk.internal.reflect.NativeConstructorAccessorImpl.newInstance0(Native Method)\n",
      "\tat java.base/jdk.internal.reflect.NativeConstructorAccessorImpl.newInstance(NativeConstructorAccessorImpl.java:77)\n",
      "\tat java.base/jdk.internal.reflect.DelegatingConstructorAccessorImpl.newInstance(DelegatingConstructorAccessorImpl.java:45)\n",
      "\tat java.base/java.lang.reflect.Constructor.newInstanceWithCaller(Constructor.java:499)\n",
      "\tat java.base/java.lang.reflect.Constructor.newInstance(Constructor.java:480)\n",
      "\tat kotlin.script.experimental.jvm.BasicJvmScriptEvaluator.evalWithConfigAndOtherScriptsResults(BasicJvmScriptEvaluator.kt:96)\n",
      "\tat kotlin.script.experimental.jvm.BasicJvmScriptEvaluator.invoke$suspendImpl(BasicJvmScriptEvaluator.kt:41)\n",
      "\tat kotlin.script.experimental.jvm.BasicJvmScriptEvaluator.invoke(BasicJvmScriptEvaluator.kt)\n",
      "\tat kotlin.script.experimental.jvm.BasicJvmReplEvaluator.eval(BasicJvmReplEvaluator.kt:51)\n",
      "\tat org.jetbrains.kotlinx.jupyter.repl.impl.InternalEvaluatorImpl$eval$resultWithDiagnostics$1.invokeSuspend(InternalEvaluatorImpl.kt:99)\n",
      "\tat kotlin.coroutines.jvm.internal.BaseContinuationImpl.resumeWith(ContinuationImpl.kt:33)\n",
      "\tat kotlinx.coroutines.DispatchedTask.run(DispatchedTask.kt:106)\n",
      "\tat kotlinx.coroutines.EventLoopImplBase.processNextEvent(EventLoop.common.kt:274)\n",
      "\tat kotlinx.coroutines.BlockingCoroutine.joinBlocking(Builders.kt:85)\n",
      "\tat kotlinx.coroutines.BuildersKt__BuildersKt.runBlocking(Builders.kt:59)\n",
      "\tat kotlinx.coroutines.BuildersKt.runBlocking(Unknown Source)\n",
      "\tat kotlinx.coroutines.BuildersKt__BuildersKt.runBlocking$default(Builders.kt:38)\n",
      "\tat kotlinx.coroutines.BuildersKt.runBlocking$default(Unknown Source)\n",
      "\tat org.jetbrains.kotlinx.jupyter.repl.impl.InternalEvaluatorImpl.eval(InternalEvaluatorImpl.kt:99)\n",
      "\t... 15 more\n",
      "\n"
     ]
    }
   ],
   "source": [
    "val parameter = (-100..100).random()\n",
    "val prozent = //In der Variable prozent wird entweder ein Wert zwischen 0 und 100 oder eine Exception gespeichert.\n",
    "    if (parameter in 0..100)\n",
    "        parameter\n",
    "    else\n",
    "        throw IllegalArgumentException(\"Der Parameter muss zwischen 0 und 100 sein, ist aber $parameter\")\n",
    "prozent //Führen Sie die Zelle mehrfach aus, um die verschiedenen Verhalten zu Betrachten"
   ]
  },
  {
   "cell_type": "markdown",
   "id": "921185c1",
   "metadata": {},
   "source": [
    "Der `try & catch`-Block darf in Kotlin natürlich nicht fehlen. Wie bei einer Exception selbst kann auch hier das Ergebnis dieses Ausdrucks einer Variable zugewiesen werden."
   ]
  },
  {
   "cell_type": "code",
   "execution_count": 50,
   "id": "58538b4e",
   "metadata": {
    "execution": {
     "iopub.execute_input": "2021-11-18T13:25+0100",
     "iopub.status.busy": "2021-11-18T13:25+0100",
     "iopub.status.idle": "2021-11-18T13:25+0100",
     "shell.execute_reply": "2021-11-18T13:25+0100",
     "shell.execute_reply.started": "2021-11-18T13:25+0100"
    },
    "tags": []
   },
   "outputs": [
    {
     "name": "stdout",
     "output_type": "stream",
     "text": [
      "Die Zeichenkette Kotlin kann nicht in eine ganze Zahl umgewandelt werden.\n",
      "java.lang.NumberFormatException: For input string: \"Kotlin\"\n"
     ]
    }
   ],
   "source": [
    "val zeichenkette = if ((0..1).random() == 0)\n",
    "                    \"Kotlin\"\n",
    "                else\n",
    "                    \"231\"\n",
    "val zahl = try{\n",
    "                    Integer.parseInt(zeichenkette)\n",
    "                }\n",
    "                catch(e: Exception){\n",
    "                    println(\"Die Zeichenkette $zeichenkette kann nicht in eine ganze Zahl umgewandelt werden.\\n$e\")\n",
    "                }\n",
    "zahl"
   ]
  },
  {
   "cell_type": "markdown",
   "id": "d0c61e53",
   "metadata": {},
   "source": [
    "Soll nach der Ausführung einer der beiden Blöcke Code ausgefürt werden, kann zusätzlich ein `finally`-Block verwendet werden. Der darin befindende Code wird immer am Ende ausgeführt und eignet sich deshalb besonders für Aufräumarbeiten. Falls ein solcher Block vorhanden ist, kann `catch` auch weggelassen werden.  \n",
    "Es können auch eigene Fehler definiert werden. Dabei ist erforderlich, dass die Klasse von `Exception` erbt, die Beschreibung als String übergeben bekommt und an die Super-Klasse weitergibt."
   ]
  },
  {
   "cell_type": "code",
   "execution_count": 51,
   "id": "103a1a75",
   "metadata": {
    "execution": {
     "iopub.execute_input": "2021-11-18T13:25+0100",
     "iopub.status.busy": "2021-11-18T13:25+0100",
     "iopub.status.idle": "2021-11-18T13:25+0100",
     "shell.execute_reply": "2021-11-18T13:25+0100",
     "shell.execute_reply.started": "2021-11-18T13:25+0100"
    },
    "tags": []
   },
   "outputs": [
    {
     "data": {
      "text/plain": [
       "31"
      ]
     },
     "execution_count": 51,
     "metadata": {},
     "output_type": "execute_result"
    }
   ],
   "source": [
    "class KeineProzentzahl(fehlermeldung: String) : Exception(fehlermeldung)\n",
    "\n",
    "val parameter = (-100..100).random()\n",
    "val prozent = \n",
    "    if (parameter in 0..100)\n",
    "        parameter\n",
    "    else\n",
    "        throw KeineProzentzahl(\"Der Parameter muss zwischen 0 und 100 sein, ist aber $parameter\")\n",
    "prozent"
   ]
  },
  {
   "cell_type": "markdown",
   "id": "a5696a3e",
   "metadata": {},
   "source": [
    "### Aufgabe - Parkplatzverwaltung mit Ausnahmen\n",
    "In Lektion 1 wurde eine Parkplatzverwaltung implementiert. Erweitern Sie ihre Lösung oder die Musterlösung insoweit ab, dass die Methode `einparken()` `Unit` zurückgibt und bei Fehlschlag einen eigens definierten Fehler `ParkplatzVoll` wirft. Diesem soll die Nummer des Parkplatzes übergeben werden, aus der eine schöne Fehlermeldung generiert werden soll. Schreiben Sie zusätzlich ein Hauptprogramm, in dem Sie einen Fehler absichtlich auslösen und abfangen. Mit diesem können Sie ihre Lösung testen."
   ]
  },
  {
   "cell_type": "code",
   "execution_count": 52,
   "id": "646ba531",
   "metadata": {
    "execution": {
     "iopub.execute_input": "2021-11-18T13:25+0100",
     "iopub.status.busy": "2021-11-18T13:25+0100",
     "iopub.status.idle": "2021-11-18T13:25+0100",
     "shell.execute_reply": "2021-11-18T13:25+0100",
     "shell.execute_reply.started": "2021-11-18T13:25+0100"
    }
   },
   "outputs": [],
   "source": [
    "//TODO\n",
    "\n",
    "class Parkplatzverwaltung(parkplatz: MutableList<Boolean>){\n",
    "    private val parkplatz: MutableList<Boolean> = parkplatz\n",
    "    \n",
    "    constructor() : this(MutableList<Boolean>(5) { false })\n",
    "    \n",
    "    fun einparken(nummer: Int): Boolean {\n",
    "        return if (!parkplatz[nummer]) {\n",
    "            parkplatz[nummer] = true\n",
    "            true\n",
    "        }\n",
    "        else {\n",
    "            false\n",
    "        }\n",
    "    } \n",
    "\n",
    "    override fun toString(): String {\n",
    "        var res = \"\"\n",
    "        parkplatz.forEach {\n",
    "            res += if (it) \"x\" else \"-\"\n",
    "        }\n",
    "        return res\n",
    "    }\n",
    "}"
   ]
  },
  {
   "cell_type": "code",
   "execution_count": 53,
   "id": "62e7c15c",
   "metadata": {
    "execution": {
     "iopub.execute_input": "2021-11-18T13:25+0100",
     "iopub.status.busy": "2021-11-18T13:25+0100",
     "iopub.status.idle": "2021-11-18T13:25+0100",
     "shell.execute_reply": "2021-11-18T13:25+0100",
     "shell.execute_reply.started": "2021-11-18T13:25+0100"
    },
    "tags": []
   },
   "outputs": [
    {
     "name": "stdout",
     "output_type": "stream",
     "text": [
      "Line_52$ParkplatzVoll: Der Parkplatz 2 ist belegt.\n"
     ]
    }
   ],
   "source": [
    "//Lösung\n",
    "class Parkplatzverwaltung(parkplatz: MutableList<Boolean>){\n",
    "    private val parkplatz: MutableList<Boolean> = parkplatz\n",
    "    \n",
    "    constructor() : this(MutableList<Boolean>(5) { false })\n",
    "    \n",
    "    fun einparken(nummer: Int): Unit {\n",
    "        if (!parkplatz[nummer])\n",
    "            parkplatz[nummer] = true\n",
    "        else\n",
    "            throw ParkplatzVoll(nummer)\n",
    "    } \n",
    "\n",
    "    override fun toString(): String {\n",
    "        var res = \"\"\n",
    "        parkplatz.forEach {\n",
    "            res += if (it) \"x\" else \"-\"\n",
    "        }\n",
    "        return res\n",
    "    }\n",
    "}\n",
    "\n",
    "class ParkplatzVoll(nummer: Int) : Exception(\"Der Parkplatz $nummer ist belegt.\")\n",
    "\n",
    "fun main(){\n",
    "    val parkplatzverwaltung = Parkplatzverwaltung()\n",
    "    parkplatzverwaltung.einparken(2)\n",
    "    \n",
    "    try {\n",
    "        parkplatzverwaltung.einparken(2)\n",
    "    }\n",
    "    catch(e: ParkplatzVoll) {\n",
    "        println(e)\n",
    "    }\n",
    "}\n",
    "\n",
    "main()"
   ]
  },
  {
   "cell_type": "markdown",
   "id": "987a69e4",
   "metadata": {},
   "source": [
    "<img src=\"images/Zusammenfassung.png\" style=\"margin: 20px 0px 20px 0px\"/>\n",
    "<h2 style=\"display:none\">Zusammenfassung</h2>\n",
    "<p>Sie sollten jetzt in der Lage sein:</p>\n",
    "<ul>\n",
    "    <li>für genannte Problemstellungen passende Klassen zu implementieren.</li>\n",
    "    <li>die Aufgaben von primären und sekundären Konstruktoren bei der Objekterzeugung zu beschreiben.</li>\n",
    "    <li>eigene Getter und Setter zu implementieren.</li>\n",
    "    <li>die Vorteile einer Datenklasse im Vergleich zu einer normalen Klasse zu bewerten.</li>\n",
    "    <li>Aufzählungen, Schnittstellen und Vererbung zu schreiben.\n",
    "    <li>die verschiedenen Anwendungsbereiche der Generizität zu nennen.</li>\n",
    "    <li>eigene Ausnahmen zu definieren und verwenden zu können.</li>\n",
    "</ul>\n",
    "<p>Mit Vollendung dieses Abschnitts sind Sie bereit für die App-Entwicklung. Mit dieser wird im nächsten Abschnitt begonnen. Vorher steht für Sie aber noch die Übung bezüglich der objektorientierten Programmierung an. Außerdem steht <a href=\"Abschnitt3-Zusammenfassung.pdf\">hier</a> für Sie die Zusammenfassung bereit.</p>"
   ]
  }
 ],
 "metadata": {
  "kernelspec": {
   "display_name": "Kotlin",
   "language": "kotlin",
   "name": "kotlin"
  },
  "language_info": {
   "codemirror_mode": "text/x-kotlin",
   "file_extension": ".kt",
   "mimetype": "text/x-kotlin",
   "name": "kotlin",
   "nbconvert_exporter": "",
   "pygments_lexer": "kotlin",
   "version": "1.6.20-dev-3702"
  }
 },
 "nbformat": 4,
 "nbformat_minor": 5
}
