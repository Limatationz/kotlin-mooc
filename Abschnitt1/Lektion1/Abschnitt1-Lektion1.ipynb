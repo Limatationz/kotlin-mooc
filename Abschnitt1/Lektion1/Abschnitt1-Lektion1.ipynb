{
 "cells": [
  {
   "cell_type": "markdown",
   "id": "595b9c38-34a9-4dcf-b16e-72ee3f2abc14",
   "metadata": {},
   "source": [
    "<img src=\"images/Lektion1.png\" style=\"margin: 20px auto 0px 0px\"/>\n",
    "<h2 style=\"display:none\">Lektion 1 - Hello World</h2>\n",
    "\n",
    "### Grundgerüst\n",
    "<p>\n",
    "Der Start des Erlernens einer neuen Programmiersprache ist traditionell ein \"Hello World\"-Programm. Dessen Ziel ist es den <code>String</code> <i>Hello World</i> in der Konsole auszugeben. Die Umsetzung in Java sollte keine Probleme bereiten. Neben dieser ist der zugehörige Code in Kotlin zu finden:</p>\n",
    "<div style=\"float: left; width: 50%\">\n",
    "    <pre lang=\"java\">\n",
    "//Java\n",
    "public class Main{\n",
    "    public static void main(String[] args){\n",
    "        System.out.println(\"Hello World Java.\")\n",
    "    }\n",
    "}\n",
    "</pre>\n",
    "</div>\n",
    "<div style=\"float: left; width: 50%\">\n",
    "<pre lang=\"kotlin\">\n",
    "//Kotlin\n",
    "fun main(){\n",
    "    println(\"Hello World Kotlin.\")\n",
    "}\n",
    "</pre>\n",
    "</div>\n",
    "<div style=\"clear:both\" />\n",
    "<br />\n",
    "<p>Im direkten Vergleich sind einige Unterschiede festzustellen:</p>\n",
    "<ul>    \n",
    "    <li>Klasse: In Kotlin wird nicht immer eine ummantelnde Klasse benötigt, um eine Funktion auszuführen. Diese können auf der höchste Ebene (top-level) deklariert und aufgerufen werden.</li>\n",
    "    <li>Funktionssyntax: Funktionen werden mit dem Schlüsselbegriff <code>fun</code> gekennzeichnet. Falls die Funktion keinen Rückgabetyp (in Java gekennzeichnet durch <code>void</code>) besitzt, wird die explizite Angabe weggelassen.</li>\n",
    "    <li>Hauptprogramm: Das Argument der <code>main</code>-Funktion (in Java <code>String[] args</code>) muss nicht übergeben werden und wird, falls es nicht existiert, vom Kompiler im Hintergrund ergänzt.</li>\n",
    "    <li>Konsolenausgabe: Die Bibliotheksfunktion <code>println()</code> befindet sich in der Standardbibliothek von Kotlin und kann dadurch direkt aufgerufen werden.</li>\n",
    "</ul>   \n",
    "\n",
    "<p>Eine Funktion kann, wie in Java, mit ihrem Namen aufgerufen werden:</p>"
   ]
  },
  {
   "cell_type": "code",
   "execution_count": 1,
   "id": "bf6235e9-7236-4e85-a6a0-eeb7ceb21cd5",
   "metadata": {
    "tags": [
     "hide-input"
    ]
   },
   "outputs": [],
   "source": [
    "fun main(){\n",
    "    println(\"Hello World Kotlin.\")\n",
    "}"
   ]
  },
  {
   "cell_type": "code",
   "execution_count": 2,
   "id": "1be1f184-8a5e-418f-a1b3-1b18819a3e37",
   "metadata": {},
   "outputs": [
    {
     "name": "stdout",
     "output_type": "stream",
     "text": [
      "Hello World Kotlin.\n"
     ]
    }
   ],
   "source": [
    "main()"
   ]
  },
  {
   "cell_type": "markdown",
   "id": "1dde9124-770c-47ef-8b5b-de2c06a8e258",
   "metadata": {},
   "source": [
    "Der Kotlin Kompiler in Jupyter Notebooks ermöglicht es, Code in eine zugehörige Zelle zu schreiben, ohne eine ummantelnde Funktion zu deklarieren. Im Hintergrund wird dies hinzugefügt und bei Ausführung der Zelle die generierte Funktion berechnet. Außerdem können in einer Zelle alle Funktionen oder auch Klassen von vorher kompilierten (in der Regel höher angesiedelten) Codezellen verwendet werden. Ein Notebook kann somit als eine Art *zerstückelte Kotlin-Datei* angesehen werden. "
   ]
  },
  {
   "cell_type": "code",
   "execution_count": 3,
   "id": "7a75c59d-e9c4-4afb-9f97-0fb477d05b9d",
   "metadata": {},
   "outputs": [
    {
     "name": "stdout",
     "output_type": "stream",
     "text": [
      "Hello World Kotlin.\n"
     ]
    }
   ],
   "source": [
    "println(\"Hello World Kotlin.\")"
   ]
  },
  {
   "cell_type": "markdown",
   "id": "02193b18-753c-4633-a77d-c2e31691b7ac",
   "metadata": {
    "tags": []
   },
   "source": [
    "### Erweiterung\n",
    "Das \"Hello World\"-Programm soll nun so erweitert werden, dass die Ausgabe variabel gestaltet werden kann. Dafür wird dem *Hello World*-String eine Variable angehängt."
   ]
  },
  {
   "cell_type": "code",
   "execution_count": 62,
   "id": "b42412fe-0ca6-40a9-a65d-1356bddd176f",
   "metadata": {
    "tags": []
   },
   "outputs": [
    {
     "name": "stdout",
     "output_type": "stream",
     "text": [
      "Hello World Kotlin.\n"
     ]
    }
   ],
   "source": [
    "fun main(){\n",
    "    val sprache : String = \"Kotlin\"\n",
    "    println(\"Hello World $sprache.\")\n",
    "}\n",
    "main()"
   ]
  },
  {
   "cell_type": "markdown",
   "id": "6d3e2490-81fa-404c-9d52-d01b971a0abd",
   "metadata": {
    "tags": []
   },
   "source": [
    "Bezüglich des Funktionskopfs und -aufrufs sind keine Unterschiede zu erkennen.  \n",
    "In der Funktion hingegen wurde eine neue Variable `sprache` des Datentyps `String` deklariert und dieser direkt der Wert `Kotlin` zugewiesen. Das hier verwendete Stichwort zur Deklaration der Variable ist `val` (näheres dazu in Lektion 2). Der Datentyp der Variable wird hinter dem Namen mit `:` getrennt angegeben. Eine weitere Auffälligkeit ist das Fehlen von `;` nach jeder Anweisung. Dieses wird in Kotlin nur noch benutzt, wenn mehrere Anweisungen in eine Zeile geschrieben werden.\n",
    "Ein weiterer Unterschied zwischen Kotlin und Java ist die Verwendung von Variablen in Strings. Die folgenden Beispiele haben alle als Resultat den String *Hello World sprache*, wobei `sprache` eine Variable darstellt.\n",
    "\n",
    "<table style=\"font-size: 16px\">\n",
    "    <tr>\n",
    "        <th>Java</th>\n",
    "        <th>Kotlin</th>\n",
    "    </tr>\n",
    "    <tr style=\"font-size: 16px\">\n",
    "        <td style=\"font-size: 16px\">\"Hello World\" + sprache</td>\n",
    "        <td style=\"font-size: 16px\">\"Hello World &#36;sprache\"<\\td>\n",
    "    </tr>\n",
    "    <tr style=\"font-size: 16px\">\n",
    "        <td style=\"font-size: 16px\">String.format(\"Hello World %s\", sprache)</td>\n",
    "        <td></td>\n",
    "    </tr>\n",
    "</table>\n",
    "\n",
    "Während in Java die Variablen mit `+` oder `String.format()` in einen String eingegliedert beziehungsweise angehängt werden, erfolgt die Integrierung direkt in einen String mit `$`. Soll anstelle einer Variable eine Anweisung eingefügt werden, ist zusätzlich eine Umrahmung mit geschweiften Klammern notwendig."
   ]
  },
  {
   "cell_type": "code",
   "execution_count": 64,
   "id": "b0f8109a-7b0f-4533-95d7-20fc0796a422",
   "metadata": {
    "tags": []
   },
   "outputs": [
    {
     "name": "stdout",
     "output_type": "stream",
     "text": [
      "Hello World KOTLIN.toLowerCase()\n",
      "Hello World kotlin\n"
     ]
    }
   ],
   "source": [
    "fun main(){\n",
    "    val sprache : String = \"KOTLIN\"\n",
    "    println(\"Hello World $sprache.toLowerCase()\") //Falsch\n",
    "    println(\"Hello World ${sprache.toLowerCase()}\") //Richtig\n",
    "}\n",
    "main()"
   ]
  }
 ],
 "metadata": {
  "kernelspec": {
   "display_name": "Kotlin",
   "language": "kotlin",
   "name": "kotlin"
  },
  "language_info": {
   "codemirror_mode": "text/x-kotlin",
   "file_extension": ".kt",
   "mimetype": "text/x-kotlin",
   "name": "kotlin",
   "nbconvert_exporter": "",
   "pygments_lexer": "kotlin",
   "version": "1.5.20-dev-5817"
  }
 },
 "nbformat": 4,
 "nbformat_minor": 5
}
