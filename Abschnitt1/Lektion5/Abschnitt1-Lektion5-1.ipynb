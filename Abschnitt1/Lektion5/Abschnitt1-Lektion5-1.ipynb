{
 "cells": [
  {
   "cell_type": "markdown",
   "id": "124283b1-e370-4ec1-8c8d-bb7af2d1c6b6",
   "metadata": {},
   "source": [
    "<img src=\"../images/Lektion5.png\" style=\"margin: 20px auto 20px 0px\"/>\n",
    "<h2 style=\"display:none\">Lektion 5 - Weitere Funktionentypen</h2>\n",
    "\n",
    "In dieser Lektion werden die Erweiterungsmethoden, `infix`- und `operator`-Funktion behandelt.\n",
    "\n",
    "### Erweiterungsmethoden\n",
    "Erweiterungsmethoden können eine bestehende Klasse unkompliziert erweitern. Sie werden außerhalb der Klasse definiert und haben keinen lokalen Bezug zu diesen. Die zu erweiternde Klasse wird vor dem Namen mit einem Punkt getrennt angegeben. Dieses Konzept findet vor Allem Anwendung bei Klassen, der keine weiteren Methoden hinzugefügt werden können, da der Zugriff auf deren Code fehlt. Ein Beispiel sind die Datentypen. Da sie von der Standardbibliothek bereitgestellt werden und diese nicht ohne weiteres verändert werden kann, sind Erweiterungsmethoden dort ein probates Mittek. Im folgenden Beispiel wird die Klasse `Int` um eine Methode erweitert, die die Zehnerstelle zurückgibt:"
   ]
  },
  {
   "cell_type": "code",
   "execution_count": 101,
   "id": "0623c398-c8f1-4731-9305-28209e4883c2",
   "metadata": {},
   "outputs": [
    {
     "name": "stdout",
     "output_type": "stream",
     "text": [
      "Die Zehnerstelle von der Zahl 34291 ist 9\n"
     ]
    }
   ],
   "source": [
    "fun Int.zehner() = if (this < 10) //Test, ob eine Zehnerstelle existiert\n",
    "                        -1\n",
    "                   else\n",
    "                        this % 100 / 10\n",
    "\n",
    "val zahl = 34291\n",
    "println(\"Die Zehnerstelle von der Zahl $zahl ist ${zahl.zehner()}\")"
   ]
  },
  {
   "cell_type": "markdown",
   "id": "2458cf61-9f67-41ce-8a4e-60a6fd3fd2b9",
   "metadata": {},
   "source": [
    "Die Zugehörigkeit zur Klasse `Int` ist durch den Namensvorsatz erkennbar. Wie bei einer Objektomethode üblich, kann auch im Rumpf einer Erweiterungsmethode auf das aufgerufene Objekt mit `this` zugegriffen werden.  \n",
    "Es ist jedoch zu beachten, dass Erweiterungsmethoden **immer** von Objektomethoden überdeckt werden. "
   ]
  }
 ],
 "metadata": {
  "kernelspec": {
   "display_name": "Kotlin",
   "language": "kotlin",
   "name": "kotlin"
  },
  "language_info": {
   "codemirror_mode": "text/x-kotlin",
   "file_extension": ".kt",
   "mimetype": "text/x-kotlin",
   "name": "kotlin",
   "nbconvert_exporter": "",
   "pygments_lexer": "kotlin",
   "version": "1.5.20-dev-5817"
  }
 },
 "nbformat": 4,
 "nbformat_minor": 5
}
