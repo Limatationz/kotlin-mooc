{
 "cells": [
  {
   "cell_type": "markdown",
   "id": "e9f33bf9-81a9-4f8f-9de7-b93e7eb2bf21",
   "metadata": {},
   "source": [
    "### `infix`-Funktionen\n",
    "`infix`-Funktionen wurden beiläufig schon bei Bereichen verwendet. Soll ein Bereich von 0 bis exklusive 10 erstellt werden, kann entweder `0..9` oder `0 until 10` verwendet werden. Die 2. Variante, unter Verwendung von `until`, ruft eine `infix`-Funktion mit dem Namen `until` auf. Es werden anstelle eines Funktionsaufrufs ein Schlüsselwort bereitgestellt, das auf die zugehöroge Funktion verweist. Dadurch wird der Code näher an den Sprachgebrauch angegliedert, was die Verständlichkeit fördert. Diesen Funktionen wird das Schlüsselwort `infix` vorangestellt. Vor den Namen getrennt mit einem `.` wird die Klasse des ersten Objekts angegeben, ähnlich zu einer Erweiterungsmethode. In den Parametern ist die Klasse und der Name des zweiten Objekts, mit dem in der Funktion auf dieses zugegriffen werden kann, zu finden. Auf den *ersten* Parameter kann mit `this` zugegriffen werden.\n",
    "```kotlin\n",
    "5 until 10 //infix\n",
    "5.until(10) //umgewandelt\n",
    "infix fun Int.until(to: Int): IntRange //Funktionenkopf\n",
    "```\n",
    "Es können beliebige `infix`-Funktionen implementiert werden, falls das Schlüsselwort noch nicht besetzt ist."
   ]
  }
 ],
 "metadata": {
  "kernelspec": {
   "display_name": "Kotlin",
   "language": "kotlin",
   "name": "kotlin"
  },
  "language_info": {
   "codemirror_mode": "text/x-kotlin",
   "file_extension": ".kt",
   "mimetype": "text/x-kotlin",
   "name": "kotlin",
   "nbconvert_exporter": "",
   "pygments_lexer": "kotlin",
   "version": "1.5.20-dev-5817"
  }
 },
 "nbformat": 4,
 "nbformat_minor": 5
}
