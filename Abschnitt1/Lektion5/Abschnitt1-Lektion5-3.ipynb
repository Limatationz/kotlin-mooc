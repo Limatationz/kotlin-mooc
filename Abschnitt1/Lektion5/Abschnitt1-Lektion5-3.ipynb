{
 "cells": [
  {
   "cell_type": "markdown",
   "id": "7c7cf856",
   "metadata": {},
   "source": [
    "### `operator`-Funktionen\n",
    "Einige Anweisungen sehen auf den ersten Blick wie `infix`-Funktionen aus, sind aber keine. Dies ist immer der Fall, wenn mathematische Zeichen im Spiel sind. Für diese gibt es keine `infix`-Funktionen, da diese keine Sonderzeichen als Namen verwenden können. Stattdessen werden sie auf sogenannte vordefinierte `operator`-Funktionen abgebildet. Jedem Zeichen/jeder Zeichenfolge wird hierbei eine bestimmte Funktion zugeordnet. So wird bei `5 + 10` im Hintergund `5.plus(10)` aufgerufen. Weitere Beispiele:\n",
    "\n",
    "<table style=\"font-size:16px\">\n",
    "    <th style=\"font-size:16px\">Ausdruck</th>\n",
    "    <th style=\"font-size:16px\">Aufruf</th>\n",
    "    <tr>\n",
    "        <td style=\"font-size:16px\">+a</td>\n",
    "        <td style=\"font-size:16px\">a.unaryPlus()</td>\n",
    "    </tr>\n",
    "    <tr>\n",
    "        <td style=\"font-size:16px\">a++</td>\n",
    "        <td style=\"font-size:16px\">a.inc()</td>\n",
    "    </tr>\n",
    "    <tr>\n",
    "        <td style=\"font-size:16px\">-a</td>\n",
    "        <td style=\"font-size:16px\">a.unaryMinus()</td>\n",
    "    </tr>\n",
    "    <tr>\n",
    "        <td style=\"font-size:16px\">a--</td>\n",
    "        <td style=\"font-size:16px\">a.dec()</td>\n",
    "    </tr>\n",
    "    <tr>\n",
    "        <td style=\"font-size:16px\">!a</td>\n",
    "        <td style=\"font-size:16px\">a.not()</td>\n",
    "    </tr>\n",
    "    <tr>\n",
    "        <td style=\"font-size:16px\">a + b</td>\n",
    "        <td style=\"font-size:16px\">a.plus(b)</td>\n",
    "    </tr>\n",
    "    <tr>\n",
    "        <td style=\"font-size:16px\">a - b</td>\n",
    "        <td style=\"font-size:16px\">a.minus(b)</td>\n",
    "    </tr>\n",
    "    <tr>\n",
    "        <td style=\"font-size:16px\">a * b</td>\n",
    "        <td style=\"font-size:16px\">a.times(b)</td>\n",
    "    </tr>\n",
    "    <tr>\n",
    "        <td style=\"font-size:16px\">a / b</td>\n",
    "        <td style=\"font-size:16px\">a.div(b)</td>\n",
    "    </tr>\n",
    "    <tr>\n",
    "        <td style=\"font-size:16px\">a..b</td>\n",
    "        <td style=\"font-size:16px\">a.rangeTo(b)</td>\n",
    "    </tr>\n",
    "</table>\n",
    "\n",
    "Der Funktionskopf einer `operator`-Funktion ähnelt einer `infix`-Funktion. Statt dem Schlüsselword `infix` wird nun aber `operator` benutzt. Im Folgenden wird eine Klasse `Punkt` definiert und der unäre Operator `-` implementiert.\n"
   ]
  },
  {
   "cell_type": "code",
   "execution_count": 1,
   "id": "a931153f",
   "metadata": {
    "execution": {
     "iopub.execute_input": "2021-11-17T20:21+0100",
     "iopub.status.busy": "2021-11-17T20:21+0100",
     "iopub.status.idle": "2021-11-17T20:21+0100",
     "shell.execute_reply": "2021-11-17T20:21+0100",
     "shell.execute_reply.started": "2021-11-17T20:21+0100"
    },
    "tags": []
   },
   "outputs": [
    {
     "name": "stdout",
     "output_type": "stream",
     "text": [
      "Punkt(x=-10, y=-20, z=-30)\n"
     ]
    }
   ],
   "source": [
    "data class Punkt(val x: Int, val y: Int, val z: Int)\n",
    "\n",
    "operator fun Punkt.unaryMinus() = Punkt(-x, -y, -z)\n",
    "\n",
    "val punkt = Punkt(10, 20, 30)\n",
    "println(-punkt)"
   ]
  }
 ],
 "metadata": {
  "kernelspec": {
   "display_name": "Kotlin",
   "language": "kotlin",
   "name": "kotlin"
  },
  "language_info": {
   "codemirror_mode": "text/x-kotlin",
   "file_extension": ".kt",
   "mimetype": "text/x-kotlin",
   "name": "kotlin",
   "nbconvert_exporter": "",
   "pygments_lexer": "kotlin",
   "version": "1.6.20-dev-3702"
  }
 },
 "nbformat": 4,
 "nbformat_minor": 5
}
