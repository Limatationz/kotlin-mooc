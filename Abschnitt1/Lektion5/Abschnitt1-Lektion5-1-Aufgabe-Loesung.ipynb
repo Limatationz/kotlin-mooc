{
 "cells": [
  {
   "cell_type": "markdown",
   "id": "56b2bcc8",
   "metadata": {},
   "source": [
    "#### Aufgabe - Erweiterungsmethoden\n",
    "Erweitern Sie die Klasse `String` mit der Funktion `addNewLine`, die am Ende des Strings einem Zeilenumbruch (`\\n`) hinzufügt. Vervollständigen Sie dazu das folgende Grundgerüst:"
   ]
  },
  {
   "cell_type": "code",
   "execution_count": 1,
   "id": "f9fbe520",
   "metadata": {
    "execution": {
     "iopub.execute_input": "2021-11-17T20:18+0100",
     "iopub.status.busy": "2021-11-17T20:18+0100",
     "iopub.status.idle": "2021-11-17T20:18+0100",
     "shell.execute_reply": "2021-11-17T20:18+0100",
     "shell.execute_reply.started": "2021-11-17T20:18+0100"
    },
    "tags": []
   },
   "outputs": [
    {
     "name": "stdout",
     "output_type": "stream",
     "text": [
      "Richtig:\n",
      "Erweiterungsmethoden erweitern eine Klasse.\n",
      "Erweiterungsmethoden erweitern eine Klasse.\n"
     ]
    }
   ],
   "source": [
    "//Lösung\n",
    "fun String.addNewLine() = \"$this\\n\"\n",
    "\n",
    "val zeile = \"Erweiterungsmethoden erweitern eine Klasse.\"\n",
    "if(zeile.addNewLine() == \"Erweiterungsmethoden erweitern eine Klasse.\\n\")\n",
    "    print(\"Richtig:\\n${zeile.addNewLine()}${zeile.addNewLine()}\")\n",
    "else\n",
    "    print(\"Falsch:\\n${zeile.addNewLine()}${zeile.addNewLine()}\\nRichtig wäre:\\nErweiterungsmethoden erweitern eine Klasse.\\nErweiterungsmethoden erweitern eine Klasse.\\n\")"
   ]
  }
 ],
 "metadata": {
  "kernelspec": {
   "display_name": "Kotlin",
   "language": "kotlin",
   "name": "kotlin"
  },
  "language_info": {
   "codemirror_mode": "text/x-kotlin",
   "file_extension": ".kt",
   "mimetype": "text/x-kotlin",
   "name": "kotlin",
   "nbconvert_exporter": "",
   "pygments_lexer": "kotlin",
   "version": "1.6.20-dev-3702"
  }
 },
 "nbformat": 4,
 "nbformat_minor": 5
}
