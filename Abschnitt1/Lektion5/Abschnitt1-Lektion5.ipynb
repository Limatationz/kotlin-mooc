{
 "cells": [
  {
   "cell_type": "markdown",
   "id": "d7414a57",
   "metadata": {},
   "source": [
    "<img src=\"../images/Lektion5.png\" style=\"margin: 20px auto 20px 0px\"/>\n",
    "<h2 style=\"display:none\">Lektion 5 - Weitere Funktionentypen</h2>\n",
    "\n",
    "In dieser Lektion werden die Erweiterungsmethoden, `infix`- und `operator`-Funktion behandelt.\n",
    "\n",
    "### Erweiterungsmethoden\n",
    "Erweiterungsmethoden können eine bestehende Klasse unkompliziert erweitern. Sie werden außerhalb der Klasse definiert und haben keinen lokalen Bezug zu diesen. Die zu erweiternde Klasse wird vor dem Namen mit einem Punkt getrennt angegeben. Dieses Konzept findet vor Allem Anwendung bei Klassen, der keine weiteren Methoden hinzugefügt werden können, da der Zugriff auf deren Code fehlt. Ein Beispiel sind die Datentypen. Da sie von der Standardbibliothek bereitgestellt werden und diese nicht ohne weiteres verändert werden kann, sind Erweiterungsmethoden dort ein probates Mittek. Im folgenden Beispiel wird die Klasse `Int` um eine Methode erweitert, die die Zehnerstelle zurückgibt:"
   ]
  },
  {
   "cell_type": "code",
   "execution_count": 101,
   "id": "8e2c752f",
   "metadata": {},
   "outputs": [
    {
     "name": "stdout",
     "output_type": "stream",
     "text": [
      "Die Zehnerstelle von der Zahl 34291 ist 9\n"
     ]
    }
   ],
   "source": [
    "fun Int.zehner() = if (this < 10) //Test, ob eine Zehnerstelle existiert\n",
    "                        -1\n",
    "                   else\n",
    "                        this % 100 / 10\n",
    "\n",
    "val zahl = 34291\n",
    "println(\"Die Zehnerstelle von der Zahl $zahl ist ${zahl.zehner()}\")"
   ]
  },
  {
   "cell_type": "markdown",
   "id": "732a2797",
   "metadata": {},
   "source": [
    "Die Zugehörigkeit zur Klasse `Int` ist durch den Namensvorsatz erkennbar. Wie bei einer Objektomethode üblich, kann auch im Rumpf einer Erweiterungsmethode auf das aufgerufene Objekt mit `this` zugegriffen werden.  \n",
    "Es ist jedoch zu beachten, dass Erweiterungsmethoden **immer** von Objektomethoden überdeckt werden. "
   ]
  },
  {
   "cell_type": "markdown",
   "id": "1fe69ce3",
   "metadata": {},
   "source": [
    "### `infix`-Funktionen\n",
    "`infix`-Funktionen wurden beiläufig schon bei Bereichen verwendet. Soll ein Bereich von 0 bis exklusive 10 erstellt werden, kann entweder `0..9` oder `0 until 10` verwendet werden. Die 2. Variante, unter Verwendung von `until`, ruft eine `infix`-Funktion mit dem Namen `until` auf. Es werden anstelle eines Funktionsaufrufs ein Schlüsselwort bereitgestellt, das auf die zugehöroge Funktion verweist. Dadurch wird der Code näher an den Sprachgebrauch angegliedert, was die Verständlichkeit fördert. Diesen Funktionen wird das Schlüsselwort `infix` vorangestellt. Vor den Namen getrennt mit einem `.` wird die Klasse des ersten Objekts angegeben, ähnlich zu einer Erweiterungsmethode. In den Parametern ist die Klasse und der Name des zweiten Objekts, mit dem in der Funktion auf dieses zugegriffen werden kann, zu finden. Auf den *ersten* Parameter kann mit `this` zugegriffen werden.\n",
    "```kotlin\n",
    "5 until 10 //infix\n",
    "5.until(10) //umgewandelt\n",
    "infix fun Int.until(to: Int): IntRange //Funktionenkopf\n",
    "```\n",
    "Es können beliebige `infix`-Funktionen implementiert werden, falls das Schlüsselwort noch nicht besetzt ist."
   ]
  },
  {
   "cell_type": "markdown",
   "id": "38db6feb",
   "metadata": {},
   "source": [
    "### `operator`-Funktionen\n",
    "Einige Anweisungen sehen auf den ersten Blick wie `infix`-Funktionen aus, sind aber keine. Dies ist immer der Fall, wenn mathematische Zeichen im Spiel sind. Für diese gibt es keine `infix`-Funktionen, da diese keine Sonderzeichen als Namen verwenden können. Stattdessen werden sie auf sogenannte vordefinierte `operator`-Funktionen abgebildet. Jedem Zeichen/jeder Zeichenfolge wird hierbei eine bestimmte Funktion zugeordnet. So wird bei `5 + 10` im Hintergund `5.plus(10)` aufgerufen. Weitere Beispiele:\n",
    "\n",
    "<table style=\"font-size:16px\">\n",
    "    <th style=\"font-size:16px\">Ausdruck</th>\n",
    "    <th style=\"font-size:16px\">Aufruf</th>\n",
    "    <tr>\n",
    "        <td style=\"font-size:16px\">+a</td>\n",
    "        <td style=\"font-size:16px\">a.unaryPlus()</td>\n",
    "    </tr>\n",
    "    <tr>\n",
    "        <td style=\"font-size:16px\">a++</td>\n",
    "        <td style=\"font-size:16px\">a.inc()</td>\n",
    "    </tr>\n",
    "    <tr>\n",
    "        <td style=\"font-size:16px\">-a</td>\n",
    "        <td style=\"font-size:16px\">a.unaryMinus()</td>\n",
    "    </tr>\n",
    "    <tr>\n",
    "        <td style=\"font-size:16px\">a--</td>\n",
    "        <td style=\"font-size:16px\">a.dec()</td>\n",
    "    </tr>\n",
    "    <tr>\n",
    "        <td style=\"font-size:16px\">!a</td>\n",
    "        <td style=\"font-size:16px\">a.not()</td>\n",
    "    </tr>\n",
    "    <tr>\n",
    "        <td style=\"font-size:16px\">a + b</td>\n",
    "        <td style=\"font-size:16px\">a.plus(b)</td>\n",
    "    </tr>\n",
    "    <tr>\n",
    "        <td style=\"font-size:16px\">a - b</td>\n",
    "        <td style=\"font-size:16px\">a.minus(b)</td>\n",
    "    </tr>\n",
    "    <tr>\n",
    "        <td style=\"font-size:16px\">a * b</td>\n",
    "        <td style=\"font-size:16px\">a.times(b)</td>\n",
    "    </tr>\n",
    "    <tr>\n",
    "        <td style=\"font-size:16px\">a / b</td>\n",
    "        <td style=\"font-size:16px\">a.div(b)</td>\n",
    "    </tr>\n",
    "    <tr>\n",
    "        <td style=\"font-size:16px\">a..b</td>\n",
    "        <td style=\"font-size:16px\">a.rangeTo(b)</td>\n",
    "    </tr>\n",
    "</table>\n",
    "\n",
    "Der Funktionskopf einer `operator`-Funktion ähnelt einer `infix`-Funktion. Statt dem Schlüsselword `infix` wird nun aber `operator` benutzt. Im Folgenden wird eine Klasse `Punkt` definiert und der unäre Operator `-` implementiert.\n"
   ]
  },
  {
   "cell_type": "code",
   "execution_count": 39,
   "id": "4aebb891",
   "metadata": {},
   "outputs": [
    {
     "name": "stdout",
     "output_type": "stream",
     "text": [
      "Punkt(x=-10, y=-20, z=-30)\n"
     ]
    }
   ],
   "source": [
    "data class Punkt(val x: Int, val y: Int, val z: Int)\n",
    "\n",
    "operator fun Punkt.unaryMinus() = Punkt(-x, -y, -z)\n",
    "\n",
    "val punkt = Punkt(10, 20, 30)\n",
    "println(-punkt)"
   ]
  }
 ],
 "metadata": {
  "kernelspec": {
   "display_name": "Kotlin",
   "language": "kotlin",
   "name": "kotlin"
  },
  "language_info": {
   "codemirror_mode": "text/x-kotlin",
   "file_extension": ".kt",
   "mimetype": "text/x-kotlin",
   "name": "kotlin",
   "nbconvert_exporter": "",
   "pygments_lexer": "kotlin",
   "version": "1.5.20-dev-5817"
  }
 },
 "nbformat": 4,
 "nbformat_minor": 5
}
