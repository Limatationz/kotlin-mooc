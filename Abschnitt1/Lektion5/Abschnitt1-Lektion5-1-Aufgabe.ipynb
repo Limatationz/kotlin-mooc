{
 "cells": [
  {
   "cell_type": "markdown",
   "id": "4e142690",
   "metadata": {},
   "source": [
    "#### Aufgabe - Erweiterungsmethoden\n",
    "Erweitern Sie die Klasse `String` mit der Funktion `addNewLine`, die am Ende des Strings einem Zeilenumbruch (`\\n`) hinzufügt. Vervollständigen Sie dazu das folgende Grundgerüst:"
   ]
  },
  {
   "cell_type": "code",
   "execution_count": null,
   "id": "c31a4c25",
   "metadata": {},
   "outputs": [],
   "source": [
    "//TODO\n",
    "\n",
    "//Test\n",
    "val zeile = \"ErweiterungsFunktionen erweitern eine Klasse.\"\n",
    "if(zeile.addNewLine() == \"ErweiterungsFunktionen erweitern eine Klasse.\\n\")\n",
    "    print(\"Richtig:\\n${zeile.addNewLine()}${zeile.addNewLine()}\")\n",
    "else\n",
    "    print(\"Falsch:\\n${zeile.addNewLine()}${zeile.addNewLine()}\\nRichtig wäre:\\nErweiterungsFunktionen erweitern eine Klasse.\\nErweiterungsFunktionen erweitern eine Klasse.\\n\")"
   ]
  }
 ],
 "metadata": {
  "kernelspec": {
   "display_name": "Kotlin",
   "language": "kotlin",
   "name": "kotlin"
  },
  "language_info": {
   "codemirror_mode": "text/x-kotlin",
   "file_extension": ".kt",
   "mimetype": "text/x-kotlin",
   "name": "kotlin",
   "nbconvert_exporter": "",
   "pygments_lexer": "kotlin",
   "version": "1.6.20-dev-3702"
  }
 },
 "nbformat": 4,
 "nbformat_minor": 5
}
