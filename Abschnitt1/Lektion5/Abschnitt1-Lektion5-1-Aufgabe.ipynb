{
 "cells": [
  {
   "cell_type": "markdown",
   "id": "0c1ea054",
   "metadata": {},
   "source": [
    "#### Aufgabe - Erweiterungsmethoden\n",
    "Erweitere die Klasse `String` mit der Funktion `addNewLine`, die am Ende des Strings einem Zeilenumbruch (`'\\n'`) hinzufügt. Vervollständige dazu das folgende Grundgerüst:"
   ]
  },
  {
   "cell_type": "code",
   "execution_count": 35,
   "id": "236d0acd",
   "metadata": {},
   "outputs": [
    {
     "name": "stderr",
     "output_type": "stream",
     "text": [
      "Line_34.jupyter-kts (5:10 - 20) Unresolved reference: addNewLine\n",
      "Line_34.jupyter-kts (6:30 - 40) Unresolved reference: addNewLine\n",
      "Line_34.jupyter-kts (6:51 - 61) Unresolved reference: addNewLine\n",
      "Line_34.jupyter-kts (8:29 - 39) Unresolved reference: addNewLine\n",
      "Line_34.jupyter-kts (8:50 - 60) Unresolved reference: addNewLine"
     ]
    }
   ],
   "source": [
    "//TODO\n",
    "\n",
    "//Test\n",
    "val zeile = \"ErweiterungsFunktionen erweitern eine Klasse.\"\n",
    "if(zeile.addNewLine() == \"ErweiterungsFunktionen erweitern eine Klasse.\\n\")\n",
    "    print(\"Richtig:\\n${zeile.addNewLine()}${zeile.addNewLine()}\")\n",
    "else\n",
    "    print(\"Falsch:\\n${zeile.addNewLine()}${zeile.addNewLine()}\\nRichtig wäre:\\nErweiterungsFunktionen erweitern eine Klasse.\\nErweiterungsFunktionen erweitern eine Klasse.\\n\")"
   ]
  }
 ],
 "metadata": {
  "kernelspec": {
   "display_name": "Kotlin",
   "language": "kotlin",
   "name": "kotlin"
  },
  "language_info": {
   "codemirror_mode": "text/x-kotlin",
   "file_extension": ".kt",
   "mimetype": "text/x-kotlin",
   "name": "kotlin",
   "nbconvert_exporter": "",
   "pygments_lexer": "kotlin",
   "version": "1.5.20-dev-5817"
  }
 },
 "nbformat": 4,
 "nbformat_minor": 5
}
