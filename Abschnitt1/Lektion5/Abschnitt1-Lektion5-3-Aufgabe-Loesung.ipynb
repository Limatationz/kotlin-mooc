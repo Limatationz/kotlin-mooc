{
 "cells": [
  {
   "cell_type": "markdown",
   "id": "93f97dce",
   "metadata": {},
   "source": [
    "# Aufgabe - `operator`-Funktionen\n",
    "Erweitern Sie die Datenklasse `Punkt`, sodass zwei Punkte mit dem Operator `+` addiert werden können."
   ]
  },
  {
   "cell_type": "code",
   "execution_count": null,
   "id": "953bba34",
   "metadata": {
    "execution": {
     "iopub.execute_input": "2021-11-17T20:21+0100",
     "iopub.status.busy": "2021-11-17T20:21+0100"
    }
   },
   "outputs": [],
   "source": [
    "data class Punkt(val x: Int, val y: Int, val z: Int)\n",
    "\n",
    "//Lösung\n",
    "operator fun Punkt.plus(other: Punkt) = Punkt(x+other.x, y+other.y,z+other.z)\n",
    "\n",
    "//Test\n",
    "val punkt1 = Punkt(10, 20, 30)\n",
    "val punkt2 = Punkt(30, 20, 10)\n",
    "val sumPunkt = punkt1 + punkt2\n",
    "if (sumPunkt == Punkt(40,40,40)){\n",
    "    println(\"Richtig: $sumPunkt\")\n",
    "}\n",
    "else\n",
    "    println(\"Falsch: $sumPunkt. Das Ergebnis sollte eigentlich ${Punkt(40,40,40)} sein.\")"
   ]
  }
 ],
 "metadata": {
  "kernelspec": {
   "display_name": "Kotlin",
   "language": "kotlin",
   "name": "kotlin"
  },
  "language_info": {
   "codemirror_mode": "text/x-kotlin",
   "file_extension": ".kt",
   "mimetype": "text/x-kotlin",
   "name": "kotlin",
   "nbconvert_exporter": "",
   "pygments_lexer": "kotlin",
   "version": "1.6.20-dev-3702"
  }
 },
 "nbformat": 4,
 "nbformat_minor": 5
}
