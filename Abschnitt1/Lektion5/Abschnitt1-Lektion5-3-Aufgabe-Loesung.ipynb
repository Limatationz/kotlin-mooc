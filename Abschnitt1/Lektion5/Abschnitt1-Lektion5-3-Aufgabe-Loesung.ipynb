{
 "cells": [
  {
   "cell_type": "markdown",
   "id": "d365275e-0a6e-4b28-8142-4246a35a6287",
   "metadata": {},
   "source": [
    "# Aufgabe - operator-Funktionen\n",
    "Erweitern Sie die Datenklasse `Punkt`, sodass zwei Punkte mit dem Operator `+` addiert werden können."
   ]
  },
  {
   "cell_type": "code",
   "execution_count": 41,
   "id": "fea2e993-3157-4338-a3ac-a235b5386c63",
   "metadata": {},
   "outputs": [
    {
     "name": "stdout",
     "output_type": "stream",
     "text": [
      "Richtig: Punkt(x=40, y=40, z=40)\n"
     ]
    }
   ],
   "source": [
    "//Lösung\n",
    "operator fun Punkt.plus(other: Punkt) = Punkt(x+other.x, y+other.y,z+other.z)\n",
    "\n",
    "//Test\n",
    "val punkt1 = Punkt(10, 20, 30)\n",
    "val punkt2 = Punkt(30, 20, 10)\n",
    "val sumPunkt = punkt1 + punkt2\n",
    "if (sumPunkt == Punkt(40,40,40)){\n",
    "    println(\"Richtig: $sumPunkt\")\n",
    "}\n",
    "else\n",
    "    println(\"Falsch: $sumPunkt. Das Ergebnis sollte eigentlich ${Punkt(40,40,40)} sein.\")"
   ]
  }
 ],
 "metadata": {
  "kernelspec": {
   "display_name": "Kotlin",
   "language": "kotlin",
   "name": "kotlin"
  },
  "language_info": {
   "codemirror_mode": "text/x-kotlin",
   "file_extension": ".kt",
   "mimetype": "text/x-kotlin",
   "name": "kotlin",
   "nbconvert_exporter": "",
   "pygments_lexer": "kotlin",
   "version": "1.5.20-dev-5817"
  }
 },
 "nbformat": 4,
 "nbformat_minor": 5
}
