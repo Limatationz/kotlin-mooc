{
 "cells": [
  {
   "cell_type": "markdown",
   "id": "4eebfcb2-ffcd-453d-8c27-dd2167fc45a9",
   "metadata": {},
   "source": [
    "#### Aufgabe - `infix`-Funktionen\n",
    "Eine weit verbreitete Operation ist das Addieren der Inhalt zweier Listen. Schreiben Sie eine `infix`-Funktion, die zwei Listen vom Typ `MutableList<Int>` mit dem Schlüsselwort `addiereElemente` elementweise addiert und als neue Liste vom Typ `List<Int>` zurückgibt. Es kann angenommen werden, dass beide Listen gleich viele Elemente besitzen."
   ]
  },
  {
   "cell_type": "code",
   "execution_count": 105,
   "id": "f34a89af-1dd7-4426-9e0f-57627816f303",
   "metadata": {},
   "outputs": [
    {
     "name": "stdout",
     "output_type": "stream",
     "text": [
      "Richtig: [0, 2, 4, 6, 8]\n"
     ]
    }
   ],
   "source": [
    "//TODO\n",
    "\n",
    "//Test\n",
    "val liste1 = mutableListOf(0,1,2,3,4)\n",
    "val liste2 = mutableListOf(0,1,2,3,4)\n",
    "val sumListe = liste1 addiereElemente liste2\n",
    "if (sumListe == listOf(0,2,4,6,8))\n",
    "    println(\"Richtig: $sumListe\")\n",
    "else\n",
    "    println(\"Falsch: $sumListe. Das Ergebnis sollte eigentlich ${listOf(0,2,4,6,8)} beinhalten\")"
   ]
  }
 ],
 "metadata": {
  "kernelspec": {
   "display_name": "Kotlin",
   "language": "kotlin",
   "name": "kotlin"
  },
  "language_info": {
   "codemirror_mode": "text/x-kotlin",
   "file_extension": ".kt",
   "mimetype": "text/x-kotlin",
   "name": "kotlin",
   "nbconvert_exporter": "",
   "pygments_lexer": "kotlin",
   "version": "1.5.20-dev-5817"
  }
 },
 "nbformat": 4,
 "nbformat_minor": 5
}
