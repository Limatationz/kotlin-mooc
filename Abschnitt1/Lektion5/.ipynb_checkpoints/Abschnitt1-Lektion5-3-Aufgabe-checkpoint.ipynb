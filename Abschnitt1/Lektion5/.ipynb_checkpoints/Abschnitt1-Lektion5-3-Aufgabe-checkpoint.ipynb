{
 "cells": [
  {
   "cell_type": "markdown",
   "id": "104c4945-5bdc-46af-80cc-df7c36ed3cd7",
   "metadata": {},
   "source": [
    "# Aufgabe - operator-Funktionen\n",
    "Erweitern Sie die Datenklasse `Punkt`, sodass zwei Punkte mit dem Operator `+` addiert werden können."
   ]
  },
  {
   "cell_type": "code",
   "execution_count": 40,
   "id": "56f7dad6-a110-4c02-b22f-ed2c146b9e7b",
   "metadata": {},
   "outputs": [
    {
     "name": "stderr",
     "output_type": "stream",
     "text": [
      "Line_39.jupyter-kts (6:23 - 24) Unresolved reference. None of the following candidates is applicable because of receiver type mismatch: \n",
      "public inline operator fun BigDecimal.plus(other: BigDecimal): BigDecimal defined in kotlin\n",
      "public inline operator fun BigInteger.plus(other: BigInteger): BigInteger defined in kotlin\n",
      "public operator fun <T> Array<TypeVariable(T)>.plus(element: TypeVariable(T)): Array<TypeVariable(T)> defined in kotlin.collections\n",
      "public operator fun <T> Array<TypeVariable(T)>.plus(elements: Array<out TypeVariable(T)>): Array<TypeVariable(T)> defined in kotlin.collections\n",
      "public operator fun <T> Array<TypeVariable(T)>.plus(elements: Collection<TypeVariable(T)>): Array<TypeVariable(T)> defined in kotlin.collections\n",
      "public operator fun BooleanArray.plus(element: Boolean): BooleanArray defined in kotlin.collections\n",
      "public operator fun BooleanArray.plus(elements: BooleanArray): BooleanArray defined in kotlin.collections\n",
      "public operator fun BooleanArray.plus(elements: Collection<Boolean>): BooleanArray defined in kotlin.collections\n",
      "public operator fun ByteArray.plus(element: Byte): ByteArray defined in kotlin.collections\n",
      "public operator fun ByteArray.plus(elements: ByteArray): ByteArray defined in kotlin.collections\n",
      "public operator fun ByteArray.plus(elements: Collection<Byte>): ByteArray defined in kotlin.collections\n",
      "public inline operator fun Char.plus(other: String): String defined in kotlin.text\n",
      "public operator fun CharArray.plus(element: Char): CharArray defined in kotlin.collections\n",
      "public operator fun CharArray.plus(elements: CharArray): CharArray defined in kotlin.collections\n",
      "public operator fun CharArray.plus(elements: Collection<Char>): CharArray defined in kotlin.collections\n",
      "public operator fun DoubleArray.plus(element: Double): DoubleArray defined in kotlin.collections\n",
      "public operator fun DoubleArray.plus(elements: DoubleArray): DoubleArray defined in kotlin.collections\n",
      "public operator fun DoubleArray.plus(elements: Collection<Double>): DoubleArray defined in kotlin.collections\n",
      "public operator fun FloatArray.plus(element: Float): FloatArray defined in kotlin.collections\n",
      "public operator fun FloatArray.plus(elements: FloatArray): FloatArray defined in kotlin.collections\n",
      "public operator fun FloatArray.plus(elements: Collection<Float>): FloatArray defined in kotlin.collections\n",
      "public operator fun IntArray.plus(element: Int): IntArray defined in kotlin.collections\n",
      "public operator fun IntArray.plus(elements: IntArray): IntArray defined in kotlin.collections\n",
      "public operator fun IntArray.plus(elements: Collection<Int>): IntArray defined in kotlin.collections\n",
      "public operator fun LongArray.plus(element: Long): LongArray defined in kotlin.collections\n",
      "public operator fun LongArray.plus(elements: LongArray): LongArray defined in kotlin.collections\n",
      "public operator fun LongArray.plus(elements: Collection<Long>): LongArray defined in kotlin.collections\n",
      "public operator fun ShortArray.plus(element: Short): ShortArray defined in kotlin.collections\n",
      "public operator fun ShortArray.plus(elements: ShortArray): ShortArray defined in kotlin.collections\n",
      "public operator fun ShortArray.plus(elements: Collection<Short>): ShortArray defined in kotlin.collections\n",
      "public operator fun String?.plus(other: Any?): String defined in kotlin\n",
      "public inline operator fun UByteArray.plus(element: UByte): UByteArray defined in kotlin.collections\n",
      "public inline operator fun UByteArray.plus(elements: UByteArray): UByteArray defined in kotlin.collections\n",
      "public operator fun UByteArray.plus(elements: Collection<UByte>): UByteArray defined in kotlin.collections\n",
      "public inline operator fun UIntArray.plus(element: UInt): UIntArray defined in kotlin.collections\n",
      "public inline operator fun UIntArray.plus(elements: UIntArray): UIntArray defined in kotlin.collections\n",
      "public operator fun UIntArray.plus(elements: Collection<UInt>): UIntArray defined in kotlin.collections\n",
      "public inline operator fun ULongArray.plus(element: ULong): ULongArray defined in kotlin.collections\n",
      "public inline operator fun ULongArray.plus(elements: ULongArray): ULongArray defined in kotlin.collections\n",
      "public operator fun ULongArray.plus(elements: Collection<ULong>): ULongArray defined in kotlin.collections\n",
      "public inline operator fun UShortArray.plus(element: UShort): UShortArray defined in kotlin.collections\n",
      "public inline operator fun UShortArray.plus(elements: UShortArray): UShortArray defined in kotlin.collections\n",
      "public operator fun UShortArray.plus(elements: Collection<UShort>): UShortArray defined in kotlin.collections\n",
      "public operator fun <T> Collection<TypeVariable(T)>.plus(element: TypeVariable(T)): List<TypeVariable(T)> defined in kotlin.collections\n",
      "public operator fun <T> Collection<TypeVariable(T)>.plus(elements: Array<out TypeVariable(T)>): List<TypeVariable(T)> defined in kotlin.collections\n",
      "public operator fun <T> Collection<TypeVariable(T)>.plus(elements: Iterable<TypeVariable(T)>): List<TypeVariable(T)> defined in kotlin.collections\n",
      "public operator fun <T> Collection<TypeVariable(T)>.plus(elements: Sequence<TypeVariable(T)>): List<TypeVariable(T)> defined in kotlin.collections\n",
      "public operator fun <T> Iterable<TypeVariable(T)>.plus(element: TypeVariable(T)): List<TypeVariable(T)> defined in kotlin.collections\n",
      "public operator fun <T> Iterable<TypeVariable(T)>.plus(elements: Array<out TypeVariable(T)>): List<TypeVariable(T)> defined in kotlin.collections\n",
      "public operator fun <T> Iterable<TypeVariable(T)>.plus(elements: Iterable<TypeVariable(T)>): List<TypeVariable(T)> defined in kotlin.collections\n",
      "public operator fun <T> Iterable<TypeVariable(T)>.plus(elements: Sequence<TypeVariable(T)>): List<TypeVariable(T)> defined in kotlin.collections\n",
      "public operator fun <K, V> Map<out TypeVariable(K), TypeVariable(V)>.plus(pairs: Array<out Pair<TypeVariable(K), TypeVariable(V)>>): Map<TypeVariable(K), TypeVariable(V)> defined in kotlin.collections\n",
      "public operator fun <K, V> Map<out TypeVariable(K), TypeVariable(V)>.plus(pair: Pair<TypeVariable(K), TypeVariable(V)>): Map<TypeVariable(K), TypeVariable(V)> defined in kotlin.collections\n",
      "public operator fun <K, V> Map<out TypeVariable(K), TypeVariable(V)>.plus(pairs: Iterable<Pair<TypeVariable(K), TypeVariable(V)>>): Map<TypeVariable(K), TypeVariable(V)> defined in kotlin.collections\n",
      "public operator fun <K, V> Map<out TypeVariable(K), TypeVariable(V)>.plus(map: Map<out TypeVariable(K), TypeVariable(V)>): Map<TypeVariable(K), TypeVariable(V)> defined in kotlin.collections\n",
      "public operator fun <K, V> Map<out TypeVariable(K), TypeVariable(V)>.plus(pairs: Sequence<Pair<TypeVariable(K), TypeVariable(V)>>): Map<TypeVariable(K), TypeVariable(V)> defined in kotlin.collections\n",
      "public operator fun <T> Set<TypeVariable(T)>.plus(element: TypeVariable(T)): Set<TypeVariable(T)> defined in kotlin.collections\n",
      "public operator fun <T> Set<TypeVariable(T)>.plus(elements: Array<out TypeVariable(T)>): Set<TypeVariable(T)> defined in kotlin.collections\n",
      "public operator fun <T> Set<TypeVariable(T)>.plus(elements: Iterable<TypeVariable(T)>): Set<TypeVariable(T)> defined in kotlin.collections\n",
      "public operator fun <T> Set<TypeVariable(T)>.plus(elements: Sequence<TypeVariable(T)>): Set<TypeVariable(T)> defined in kotlin.collections\n",
      "public operator fun <T> Sequence<TypeVariable(T)>.plus(element: TypeVariable(T)): Sequence<TypeVariable(T)> defined in kotlin.sequences\n",
      "public operator fun <T> Sequence<TypeVariable(T)>.plus(elements: Array<out TypeVariable(T)>): Sequence<TypeVariable(T)> defined in kotlin.sequences\n",
      "public operator fun <T> Sequence<TypeVariable(T)>.plus(elements: Iterable<TypeVariable(T)>): Sequence<TypeVariable(T)> defined in kotlin.sequences\n",
      "public operator fun <T> Sequence<TypeVariable(T)>.plus(elements: Sequence<TypeVariable(T)>): Sequence<TypeVariable(T)> defined in kotlin.sequences"
     ]
    }
   ],
   "source": [
    "//TODO\n",
    "\n",
    "//Test\n",
    "val punkt1 = Punkt(10, 20, 30)\n",
    "val punkt2 = Punkt(30, 20, 10)\n",
    "val sumPunkt = punkt1 + punkt2\n",
    "if (sumPunkt == Punkt(40,40,40)){\n",
    "    println(\"Richtig: $sumPunkt\")\n",
    "}\n",
    "else\n",
    "    println(\"Falsch: $sumPunkt. Das Ergebnis sollte eigentlich ${Punkt(40,40,40)} sein.\")"
   ]
  }
 ],
 "metadata": {
  "kernelspec": {
   "display_name": "Kotlin",
   "language": "kotlin",
   "name": "kotlin"
  },
  "language_info": {
   "codemirror_mode": "text/x-kotlin",
   "file_extension": ".kt",
   "mimetype": "text/x-kotlin",
   "name": "kotlin",
   "nbconvert_exporter": "",
   "pygments_lexer": "kotlin",
   "version": "1.5.20-dev-5817"
  }
 },
 "nbformat": 4,
 "nbformat_minor": 5
}
