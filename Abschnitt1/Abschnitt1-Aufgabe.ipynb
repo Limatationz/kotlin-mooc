{
 "cells": [
  {
   "cell_type": "markdown",
   "id": "periodic-casino",
   "metadata": {
    "deletable": false,
    "editable": false,
    "nbgrader": {
     "cell_type": "markdown",
     "checksum": "13840761b1b6183a889e266fdd541bb0",
     "grade": false,
     "grade_id": "markdown-1",
     "locked": true,
     "schema_version": 3,
     "solution": false,
     "task": false
    }
   },
   "source": [
    "# Einführung\n",
    "\n",
    "Jeder Abschnitt wird von einer Übungsaufgabe begleitet. Während in den Abschnitten 1-3 die Übungen mit Jupyter erledigt werden können, wird in den Abschnitten 4 & 5 mit Android Studio gearbeitet (näheres dazu folgt in Abschnitt 4). In den ersten 3 Übungen wird ein seperates Notebook angeboten, das heruntergeladen und bearbeiten werden sollen. Eine Bearbeitung der Übungsaufgaben ist für das Abschlusszertifikat notwendig. Insgesamt werden 50% der Gesamtpunkte aller Übungen benötigt. In der Aufgabenbeschreibung wird angegeben, wie die zu implementierenden Methoden oder Klassen benannt werden sollen. Bitte halte Dich an diese Vorgaben, da nur so die Tests, mit denen Dein Code automatisch bewertet wird, funktionieren.\n",
    "\n",
    "\n",
    "# Aufgabe - Passwörter\n",
    "\n",
    "Heutzutage ist es immer wichtiger sichere Passwörter zu verwenden. Ob es der Zugang zum Online-Banking oder das Passwort für Netflix ist. Ein fremder Zugang kann einen großen Schaden verursachen. Deswegen soll im Folgenden ein Passwortgenerator und -validator programmiert werden, der sichere Passwörter erkennt und auch vorschlägt.  \n",
    "Ein Passwort ist in dieser Aufgabe als \"sicher\" anzusehen, wenn es die [Standards des BSI](https://www.bsi.bund.de/DE/Themen/Verbraucherinnen-und-Verbraucher/Informationen-und-Empfehlungen/Cyber-Sicherheitsempfehlungen/Accountschutz/Sichere-Passwoerter-erstellen/sichere-passwoerter-erstellen_node.htmlhttps://www.bsi.bund.de/DE/Themen/Verbraucherinnen-und-Verbraucher/Informationen-und-Empfehlungen/Cyber-Sicherheitsempfehlungen/Accountschutz/Sichere-Passwoerter-erstellen/sichere-passwoerter-erstellen_node.html) erfüllt:\n",
    "- 20 bis 25 Zeichen lang und zwei Zeichenarten genutzt (beispielsweise eine Folge von Wörtern).\n",
    "- 8 bis 12 Zeichen lang und vier Zeichenarten genutzt. \n",
    "- 8 Zeichen lang, drei Zeichenarten genutzt und es zusätzlich durch eine Mehr-Faktor-Authentisierung abgesichert (beispielsweise durch einen Fingerabdruck, eine Bestätigung per App oder eine PIN).\n",
    "\n",
    "Der dritten Stichpunkt soll im Folgenden ignoriert werden, da eine Mehr-Faktor-Authentisierung die Aufgabe übersteigen würde. Es soll sich auf die ersten beiden Stichpunkte fokussiert werden.\n",
    "\n",
    "Die 4 Zeichenarten sind:\n",
    "- Großbuchstaben\n",
    "- Kleinbuchstaben\n",
    "- Zahlen\n",
    "- Sonderzeichen (zur Vereinfachnung nur `@`, `/`, `#`, `+`, `-`, `*`, `!`, `?`, `&`)\n",
    "\n",
    "## Anzahl der Zeichenarten\n",
    "Implementiere als Vorbereitung auf die eigentliche Aufgabe Erweiterungsmethoden für die Klasse `String`.\n",
    "- `anzahlKleinbuchstaben`: gibt die Anzahl an Kleinbuchstaben zurück\n",
    "- `anzahlGrossbuchstaben`: gibt die Anzahl an Großbuchstaben zurück\n",
    "- `anzahlZahlen`: gibt die Anzahl an Zahlen zurück\n",
    "- `anzahlSonderzeichen`: gibt die Anzahl der Sonderzeichen zurück\n",
    "- `anzahlZeichenarten`: gibt die Anzahl der Zeichenarten zurück"
   ]
  },
  {
   "cell_type": "code",
   "execution_count": null,
   "id": "constitutional-sharp",
   "metadata": {
    "deletable": false,
    "execution": {
     "iopub.execute_input": "2021-04-12T11:05+0200",
     "iopub.status.busy": "2021-04-12T11:05+0200",
     "iopub.status.idle": "2021-04-12T11:05+0200",
     "shell.execute_reply": "2021-04-12T11:05+0200",
     "shell.execute_reply.started": "2021-04-12T11:05+0200"
    },
    "nbgrader": {
     "cell_type": "code",
     "checksum": "9bec93cead98f80956cd7a4db31bbf7b",
     "grade": false,
     "grade_id": "aufgabe1-code",
     "locked": false,
     "schema_version": 3,
     "solution": true,
     "task": false
    }
   },
   "outputs": [],
   "source": [
    "// YOUR CODE HERE\n",
    "throw NotImplementedError()"
   ]
  },
  {
   "cell_type": "code",
   "execution_count": null,
   "id": "stuck-vienna",
   "metadata": {
    "deletable": false,
    "editable": false,
    "execution": {
     "iopub.execute_input": "2021-04-12T11:05+0200",
     "iopub.status.busy": "2021-04-12T11:05+0200",
     "iopub.status.idle": "2021-04-12T11:05+0200",
     "shell.execute_reply": "2021-04-12T11:05+0200",
     "shell.execute_reply.started": "2021-04-12T11:05+0200"
    },
    "nbgrader": {
     "cell_type": "code",
     "checksum": "cea8eae9396f2523761c622ae6fca431",
     "grade": true,
     "grade_id": "aufgabe1-test",
     "locked": true,
     "points": 5,
     "schema_version": 3,
     "solution": false,
     "task": false
    }
   },
   "outputs": [],
   "source": [
    "//Test von anzahlZeichenarten\n",
    "val passwortTests = mapOf(\"\" to 0, \"aaaaa\" to 1, \"a2\" to 2, \"D#\" to 2, \"#1\" to 2, \"aB+\" to 3, \"aaBDA2834\" to 3, \"adhGDUWahduWe\" to 2, \"234#34#123+34Hca\" to 4)\n",
    "for((passwort, anzahl) in passwortTests){\n",
    "    if(passwort.anzahlZeichenarten() != anzahl){\n",
    "        throw AssertionError(\"$passwort.anzahlZeichenarten(): ${passwort.anzahlZeichenarten()} != ${anzahl}\")\n",
    "    }\n",
    "}"
   ]
  },
  {
   "cell_type": "markdown",
   "id": "alternative-boating",
   "metadata": {
    "deletable": false,
    "editable": false,
    "nbgrader": {
     "cell_type": "markdown",
     "checksum": "6a21d24989ce4cedd20b179387dbd481",
     "grade": false,
     "grade_id": "markdown-2",
     "locked": true,
     "schema_version": 3,
     "solution": false,
     "task": false
    }
   },
   "source": [
    "## Passwortstärke\n",
    "Nun soll die Stärke des Passworts von 0 - 100 berechnet werden. Die Berechnung ist an [Passwordmeter](http://www.passwordmeter.com/) angelehnt. `size` steht für die Länge des Passworts, während `n` die Anzahl der Zeichen beschreibt, auf die die Eigenschaft zutrifft. Punkte sind folgendermaßen zu vergeben:\n",
    "\n",
    "<table style=\"font-size: 16px; width: 100%; text-align:left !important\">\n",
    "<thead>\n",
    "  <tr>\n",
    "    <th style=\"font-size: 16px\">Eigenschaft</th>\n",
    "    <th style=\"width: 20%; min-width: 100px;font-size: 16px\">Punkte</th>\n",
    "  </tr>\n",
    "</thead>\n",
    "<tbody>\n",
    "  <tr>\n",
    "    <td style=\"font-size: 16px\">Anzahl Zeichen insgesamt</td>\n",
    "    <td style=\"font-size: 16px\">+(n*4)</td>\n",
    "  </tr>\n",
    "  <tr>\n",
    "    <td style=\"font-size: 16px\">Anzahl Großbuchstaben</td>\n",
    "    <td style=\"font-size: 16px\">+((size-n)*2)</td>\n",
    "  </tr>\n",
    "  <tr>\n",
    "    <td style=\"font-size: 16px\">Anzahl Kleinbuchstaben</td>\n",
    "    <td style=\"font-size: 16px\">+((size-n)*2)</td>\n",
    "  </tr>\n",
    "  <tr>\n",
    "    <td style=\"font-size: 16px\">Anzahl Zahlen</td>\n",
    "    <td style=\"font-size: 16px\">+(n*4)</td>\n",
    "  </tr>\n",
    "  <tr>\n",
    "    <td style=\"font-size: 16px\">Anzahl Sonderzeichen</td>\n",
    "    <td style=\"font-size: 16px\">+(n*6)</td>\n",
    "  </tr>\n",
    "  <tr>\n",
    "    <td style=\"font-size: 16px\">Anzahl Zeichenarten (2-4)</td>\n",
    "    <td style=\"font-size: 16px\">+(n*3)</td>\n",
    "  </tr>\n",
    "  <tr>\n",
    "    <td style=\"font-size: 16px\">Nur 1 Zeichenart</td>\n",
    "    <td style=\"font-size: 16px\">-size</td>\n",
    "  </tr>\n",
    "  <tr>\n",
    "      <td style=\"font-size: 16px\">Wiederholende Zeichen (Bsp: \"<b>aaaa</b>\" n=4, \"<b>a</b>C<b>w</b>i3Wf<b>a</b>sd<b>aw</b>\" n=5)</td>\n",
    "    <td style=\"font-size: 16px\">-(n*3)</td>\n",
    "  </tr>\n",
    "</tbody>\n",
    "</table>\n",
    "\n",
    "Implementiere eine Funktion `passwortstaerke`, die das Passwort (als `String`) übergeben bekommt. Zurückgegeben werden soll die Stärke des Passworts, die mit der obigen Tabelle berechnet werden soll. Ein sehr sicheres Passwort erhählt die Punktzahl 100, ein sehr Unsicheres 0."
   ]
  },
  {
   "cell_type": "code",
   "execution_count": null,
   "id": "broad-adapter",
   "metadata": {
    "deletable": false,
    "execution": {
     "iopub.execute_input": "2021-04-14T13:56+0200",
     "iopub.status.busy": "2021-04-14T13:56+0200",
     "iopub.status.idle": "2021-04-14T13:56+0200",
     "shell.execute_reply": "2021-04-14T13:56+0200"
    },
    "nbgrader": {
     "cell_type": "code",
     "checksum": "5cdfd07f617d0baf481a273f98f66caa",
     "grade": false,
     "grade_id": "aufgabe2-code",
     "locked": false,
     "schema_version": 3,
     "solution": true,
     "task": false
    },
    "tags": []
   },
   "outputs": [],
   "source": [
    "// YOUR CODE HERE\n",
    "throw NotImplementedError()"
   ]
  },
  {
   "cell_type": "code",
   "execution_count": null,
   "id": "peripheral-blues",
   "metadata": {
    "deletable": false,
    "editable": false,
    "execution": {
     "iopub.execute_input": "2021-04-14T13:56+0200",
     "iopub.status.busy": "2021-04-14T13:56+0200",
     "iopub.status.idle": "2021-04-14T13:56+0200",
     "shell.execute_reply": "2021-04-14T13:56+0200"
    },
    "nbgrader": {
     "cell_type": "code",
     "checksum": "288e11a6de1f430ff7c92eb037732ce0",
     "grade": true,
     "grade_id": "aufgabe2-test",
     "locked": true,
     "points": 7,
     "schema_version": 3,
     "solution": false,
     "task": false
    },
    "tags": []
   },
   "outputs": [],
   "source": [
    "//Test von passwortstaerke\n",
    "val passwortTests = mapOf(\"\" to 0, \"aaaaa\" to 3, \"a2\" to 20, \"D#\" to 22, \"jdfVqed&213\" to 98, \"AAAaaa111\" to 54, \"aaBDA2834\" to 81, \"adhGDUWahduWe\" to 60, \"234#34#123+34Hca\" to 100)\n",
    "for((passwort, staerke) in passwortTests){\n",
    "    if(passwortstaerke(passwort) != staerke){\n",
    "        throw AssertionError(\"passwortstaerke($passwort): ${passwortstaerke(passwort)} != $staerke\")\n",
    "    }\n",
    "}"
   ]
  },
  {
   "cell_type": "markdown",
   "id": "competitive-teens",
   "metadata": {
    "deletable": false,
    "editable": false,
    "nbgrader": {
     "cell_type": "markdown",
     "checksum": "211543fdebfedbb742b3a1ae94d90af4",
     "grade": false,
     "grade_id": "markdown-3",
     "locked": true,
     "schema_version": 3,
     "solution": false,
     "task": false
    }
   },
   "source": [
    "## Passwortgenerator\n",
    "\n",
    "Unter Verwendung der `passwordstaerke`-Funktion soll nun mit Hilfe der [Brute-Force-Methode](https://de.wikipedia.org/wiki/Brute-Force-Methode) ein Passwort generiert werden. Implementieren Sie dazu eine Funktion `passwortGenerieren`. Die Stärke des generierten Passworts soll eine bestimmte Stärke, die übergeben wird, übersteigen."
   ]
  },
  {
   "cell_type": "code",
   "execution_count": null,
   "id": "supreme-major",
   "metadata": {
    "deletable": false,
    "execution": {
     "iopub.execute_input": "2021-04-12T11:05+0200",
     "iopub.status.busy": "2021-04-12T11:05+0200",
     "iopub.status.idle": "2021-04-12T11:05+0200",
     "shell.execute_reply": "2021-04-12T11:05+0200",
     "shell.execute_reply.started": "2021-04-12T11:05+0200"
    },
    "nbgrader": {
     "cell_type": "code",
     "checksum": "db23fb2247efac4d9ba83c173865e267",
     "grade": false,
     "grade_id": "aufgabe3-code",
     "locked": false,
     "schema_version": 3,
     "solution": true,
     "task": false
    },
    "tags": []
   },
   "outputs": [],
   "source": [
    "// YOUR CODE HERE\n",
    "throw NotImplementedError()"
   ]
  },
  {
   "cell_type": "code",
   "execution_count": null,
   "id": "requested-hypothesis",
   "metadata": {
    "deletable": false,
    "editable": false,
    "execution": {
     "iopub.execute_input": "2021-04-12T11:05+0200",
     "iopub.status.busy": "2021-04-12T11:05+0200",
     "iopub.status.idle": "2021-04-12T11:05+0200",
     "shell.execute_reply": "2021-04-12T11:05+0200",
     "shell.execute_reply.started": "2021-04-12T11:05+0200"
    },
    "nbgrader": {
     "cell_type": "code",
     "checksum": "2fc6f65f5005a2f63c0a0ad59d64a70e",
     "grade": true,
     "grade_id": "aufgabe3-test",
     "locked": true,
     "points": 5,
     "schema_version": 3,
     "solution": false,
     "task": false
    }
   },
   "outputs": [],
   "source": [
    "//Test von passwortGenerieren\n",
    "for (i in 0..100 step 5){\n",
    "    val testPasswort = passwortGenerieren(i)\n",
    "    if (passwortstaerke(testPasswort) < i)\n",
    "        throw AssertionError(\"passwortstaerke($testPasswort): ${passwortstaerke(testPasswort)} < $i\")\n",
    "}\n",
    "for (i in 0..5){\n",
    "    val testPasswort = passwortGenerieren(100)\n",
    "    if (passwortstaerke(testPasswort) < 100)\n",
    "        throw AssertionError(\"passwortstaerke($testPasswort): ${passwortstaerke(testPasswort)} < 100\")\n",
    "}"
   ]
  },
  {
   "cell_type": "markdown",
   "id": "surgical-dylan",
   "metadata": {
    "deletable": false,
    "editable": false,
    "nbgrader": {
     "cell_type": "markdown",
     "checksum": "ca8d8c719c55dc515aee3e663c6f9494",
     "grade": false,
     "grade_id": "markdown-4",
     "locked": true,
     "schema_version": 3,
     "solution": false,
     "task": false
    }
   },
   "source": [
    "Nun soll die Passwortgenerierung erweitert werden. Implementiere eine zusätzliche Funktion `passwortGenerierenErweitert`, die zusätzlich zu der Mindeststärke auch die Anzahl der Zeichen jeder Art übergeben werden. Standardmäßig soll die Mindeststärke 75 und die Anzahl an Zeichen jeder Art 0 sein. Die Zeichen sollen an zufälligen Stellen im Passwort zu finden sein. Ist nach 200 Versuchen kein Passwort für die Mindeststärke mit der Kombination an Zeichen möglich, soll ein Fehler geworfen/ausgegeben werden.  \n",
    "Beispiel:  \n",
    "`passwortGenerierenErweitert(80,3,4,2,1)`: Generiert ein Passwort, das mindestens die Stärke 80, 3 Großbuchstaben, 4 Kleinbuchstaben, 2 Zahlen und 1 Sonderzeichen besitzt.  \n",
    "`passwortGenerierenErweitert(50,5,7)`: Generiert ein Passwort, das mindestens die Stärke 50, 5 Großbuchstaben, 7 Kleinbuchstaben, 0 Zahlen und 0 Sonderzeichen besitzt.  "
   ]
  },
  {
   "cell_type": "code",
   "execution_count": null,
   "id": "inside-discount",
   "metadata": {
    "deletable": false,
    "execution": {
     "iopub.execute_input": "2021-04-12T11:05+0200",
     "iopub.status.busy": "2021-04-12T11:05+0200",
     "iopub.status.idle": "2021-04-12T11:05+0200",
     "shell.execute_reply": "2021-04-12T11:05+0200",
     "shell.execute_reply.started": "2021-04-12T11:05+0200"
    },
    "nbgrader": {
     "cell_type": "code",
     "checksum": "f3cfd5218de29323abfc957f45a09c1f",
     "grade": false,
     "grade_id": "aufgabe4-code",
     "locked": false,
     "schema_version": 3,
     "solution": true,
     "task": false
    }
   },
   "outputs": [],
   "source": [
    "// YOUR CODE HERE\n",
    "throw NotImplementedError()"
   ]
  },
  {
   "cell_type": "code",
   "execution_count": null,
   "id": "ceramic-cleaning",
   "metadata": {
    "deletable": false,
    "editable": false,
    "execution": {
     "iopub.execute_input": "2021-04-12T11:05+0200",
     "iopub.status.busy": "2021-04-12T11:05+0200",
     "iopub.status.idle": "2021-04-12T11:05+0200",
     "shell.execute_reply": "2021-04-12T11:05+0200",
     "shell.execute_reply.started": "2021-04-12T11:05+0200"
    },
    "nbgrader": {
     "cell_type": "code",
     "checksum": "3385ab5478c8164f895e88bb2b3fa8fc",
     "grade": true,
     "grade_id": "aufgabe4-test",
     "locked": true,
     "points": 7,
     "schema_version": 3,
     "solution": false,
     "task": false
    }
   },
   "outputs": [],
   "source": [
    "//Test von passwortGenerieren mit erweiterten Parametern\n",
    "for(i in 0..49){\n",
    "    val staerke = (0..100).random()\n",
    "    val gross = (0..6).random()\n",
    "    val klein = (0..6).random()\n",
    "    val zahlen = (0..6).random()\n",
    "    val sonder = (0..6).random()\n",
    "    val testPasswort = passwortGenerierenErweitert(staerke, gross, klein, zahlen, sonder)\n",
    "    if (\n",
    "        (testPasswort.anzahlGrossbuchstaben() != gross || testPasswort.anzahlKleinbuchstaben() != klein ||\n",
    "        testPasswort.anzahlZahlen() != zahlen || testPasswort.anzahlSonderzeichen() != sonder ||\n",
    "        passwortstaerke(testPasswort) < staerke) && testPasswort != \"Fehler\"\n",
    "    )\n",
    "        throw AssertionError(\"passwortstaerke($testPasswort): ${passwortstaerke(testPasswort)} < $staerke, $testPasswort.anzahlGrossbuchstaben(): ${testPasswort.anzahlGrossbuchstaben()} != $gross, $testPasswort.anzahlKleinbuchstaben(): ${testPasswort.anzahlKleinbuchstaben()} != $klein, $testPasswort.anzahlZahlen(): ${testPasswort.anzahlZahlen()} != $zahlen, $testPasswort.anzahlSonderzeichen(): ${testPasswort.anzahlSonderzeichen()} != $sonder\")\n",
    "}\n",
    "for(i in 0..4){\n",
    "    val staerke = 100\n",
    "    val gross = (0..6).random()\n",
    "    val klein = (0..6).random()\n",
    "    val zahlen = (0..6).random()\n",
    "    val sonder = (0..6).random()\n",
    "    val testPasswort = passwortGenerierenErweitert(staerke, gross, klein, zahlen, sonder)\n",
    "    if (\n",
    "        (testPasswort.anzahlGrossbuchstaben() != gross || testPasswort.anzahlKleinbuchstaben() != klein ||\n",
    "        testPasswort.anzahlZahlen() != zahlen || testPasswort.anzahlSonderzeichen() != sonder ||\n",
    "        passwortstaerke(testPasswort) < staerke) && testPasswort != \"Fehler\"\n",
    "    )\n",
    "        throw AssertionError(\"passwortstaerke($testPasswort): ${passwortstaerke(testPasswort)} < $staerke, $testPasswort.anzahlGrossbuchstaben(): ${testPasswort.anzahlGrossbuchstaben()} != $gross, $testPasswort.anzahlKleinbuchstaben(): ${testPasswort.anzahlKleinbuchstaben()} != $klein, $testPasswort.anzahlZahlen(): ${testPasswort.anzahlZahlen()} != $zahlen, $testPasswort.anzahlSonderzeichen(): ${testPasswort.anzahlSonderzeichen()} != $sonder\")\n",
    "}\n",
    "val testPasswort = passwortGenerierenErweitert(10, 5, 2)\n",
    "if (\n",
    "    (testPasswort.anzahlGrossbuchstaben() != 5 || testPasswort.anzahlKleinbuchstaben() != 2 ||\n",
    "    testPasswort.anzahlZahlen() != 0 || testPasswort.anzahlSonderzeichen() != 0 ||\n",
    "    passwortstaerke(testPasswort) < 10) && testPasswort != \"Fehler\"\n",
    ")\n",
    "    throw AssertionError(\"passwortstaerke($testPasswort): ${passwortstaerke(testPasswort)} < 10, $testPasswort.anzahlGrossbuchstaben(): ${testPasswort.anzahlGrossbuchstaben()} != 5, $testPasswort.anzahlKleinbuchstaben(): ${testPasswort.anzahlKleinbuchstaben()} != 2, $testPasswort.anzahlZahlen(): ${testPasswort.anzahlZahlen()} != 0, $testPasswort.anzahlSonderzeichen(): ${testPasswort.anzahlSonderzeichen()} != 0\")"
   ]
  }
 ],
 "metadata": {
  "kernelspec": {
   "display_name": "Kotlin",
   "language": "kotlin",
   "name": "kotlin"
  },
  "language_info": {
   "codemirror_mode": "text/x-kotlin",
   "file_extension": ".kt",
   "mimetype": "text/x-kotlin",
   "name": "kotlin",
   "nbconvert_exporter": "",
   "pygments_lexer": "kotlin",
   "version": "1.5.20-dev-5817"
  }
 },
 "nbformat": 4,
 "nbformat_minor": 5
}
