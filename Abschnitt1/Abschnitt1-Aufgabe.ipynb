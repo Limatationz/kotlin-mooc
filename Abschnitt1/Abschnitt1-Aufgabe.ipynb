{
 "cells": [
  {
   "cell_type": "markdown",
   "id": "periodic-casino",
   "metadata": {
    "nbgrader": {
     "grade": false,
     "grade_id": "markdown-1",
     "locked": true,
     "schema_version": 3,
     "solution": false,
     "task": false
    }
   },
   "source": [
    "# Aufgabe - Passwörter\n",
    "\n",
    "Heutzutage ist es immer wichtiger sichere Passwörter zu verwenden. Ob es der Zugang zum Online-Banking oder das Passwort für Netflix ist. Wird das Passwort geknacktm, kann ein großer Schaden verursacht werden. Deswegen soll im Folgenden ein Passwortgenerator und -validator programmiert werden, der sichere Passwörter erkennt und auch vorschlägt.  \n",
    "Ein Passwort ist in dieser Aufgabe als _sicher_ anzusehen, wenn es die [Standards des BSI](https://www.bsi.bund.de/DE/Themen/Verbraucherinnen-und-Verbraucher/Informationen-und-Empfehlungen/Cyber-Sicherheitsempfehlungen/Accountschutz/Sichere-Passwoerter-erstellen/sichere-passwoerter-erstellen_node.html) (Stand 21.10.2021) erfüllt:\n",
    "- 20 bis 25 Zeichen lang und zwei Zeichenarten genutzt (beispielsweise eine Folge von Wörtern).\n",
    "- 8 bis 12 Zeichen lang und vier Zeichenarten genutzt. \n",
    "- 8 Zeichen lang, drei Zeichenarten genutzt und es zusätzlich durch eine Mehr-Faktor-Authentisierung abgesichert (beispielsweise durch einen Fingerabdruck, eine Bestätigung per App oder eine PIN).\n",
    "\n",
    "Der dritten Stichpunkt soll im Folgenden ignoriert werden, da eine Mehr-Faktor-Authentisierung die Aufgabe übersteigen würde. Es soll sich auf die ersten beiden Stichpunkte fokussiert werden.\n",
    "\n",
    "Die 4 Zeichenarten sind:\n",
    "- Großbuchstaben\n",
    "- Kleinbuchstaben\n",
    "- Zahlen\n",
    "- Sonderzeichen (zur Vereinfachung können nur die Zeichen `@`, `/`, `#`, `+`, `-`, `*`, `!`, `?`, `&` eingeben werden)\n",
    "\n",
    "## Ceasar-Verschlüsselung\n",
    "Ein wichtiges Element in der Datensicherheit ist die Sicherheit von Passwörtern. Heutzutage werden die Zeichenketten meist mit Hilfe einer Hash-Funktion in einen Hash umgewandelt, der dann mit dem Ergebnis des gleichen Vorgangs mit der Passworteingabe verglichen wird. Jedoch gibt es auch rudimentärere Verschlüsselungsmethoden, die aber in der aktuellen Zeit ausgedient haben. Eine der ersten dieser Art ist die Ceasar-Verschlüsselung, das im alten Rom Anwendung fand. Dabei wird jedem Zeichen einer Zeichenkette ein vordefinierter Offset hinzugezählt. Das Ergebnis ist eine verschlüsselte Zeichenkette. Auf dem umgekehrten Weg kann das eigentliche Passwort wiedererlangt werden.  \n",
    "Der folgende Java-Code beschreibt eine rekursive Funktion, die eine Zeichenkette und einen Offset übergeben bekommt und die verschlüsselte Form als Ergebnis zurückgibt. Übersetzen Sie diese Funktion nach Kotlin, sodass diese initial nur mit zwei Parametern aufgerufen werden kann.\n",
    "\n",
    "`public static String verschluessele(String passwort, int offset, int aktPos){\n",
    "    if(aktPos == passwort.length())\n",
    "        return passwort;\n",
    "    else{ \n",
    "        char[] passwortArray = passwort.toCharArray();\n",
    "        passwortArray[aktPos] = (char) ((int) passwortArray[aktPos] + offset);\n",
    "        return verschluessele(String.valueOf(passwortArray), offset, aktPos + 1);\n",
    "    }\n",
    "}`\n",
    "\n",
    "Beispielaufruf Java: `verschluessele(\"kfw327ds#fg\", 3, 0)`  \n",
    "Beispielaufruf Kotlin: `verschluessele(\"kfw327ds#fg\", 3)`  \n",
    "\n",
    "Hinweis: Um eine Liste aus Zeichen in eine Zeichenkette umzuwandeln, benötigen Sie beispielsweise die Methode [joinToString()](https://kotlinlang.org/api/latest/jvm/stdlib/kotlin.collections/join-to-string.html). "
   ]
  },
  {
   "cell_type": "code",
   "execution_count": 1,
   "id": "aae00d32",
   "metadata": {
    "nbgrader": {
     "grade": false,
     "grade_id": "aufgabe1-code",
     "locked": false,
     "schema_version": 3,
     "solution": true,
     "task": false
    }
   },
   "outputs": [],
   "source": [
    "// BEGIN SOLUTION \n",
    "fun verschluessele(passwort: String, offset: Int, aktPos: Int = 0): String{\n",
    "    if(aktPos == passwort.length)\n",
    "        return passwort\n",
    "    else{\n",
    "        val passwortList = passwort.toMutableList() \n",
    "        passwortList[aktPos] = (passwortList[aktPos].toInt() + offset).toChar()\n",
    "        return verschluessele(passwortList.joinToString(\"\"), offset, aktPos + 1)\n",
    "    }\n",
    "}\n",
    "// END SOLUTION "
   ]
  },
  {
   "cell_type": "code",
   "execution_count": 13,
   "id": "a4a33d71",
   "metadata": {
    "nbgrader": {
     "grade": true,
     "grade_id": "aufgabe1-test",
     "locked": true,
     "points": 6,
     "schema_version": 3,
     "solution": false,
     "task": false
    }
   },
   "outputs": [],
   "source": [
    "//Test von verschluessele()\n",
    "val passwoerter = mapOf(\"kfw327ds-fg\" to \"lgx438et.gh\", \"dsnvsaADF6\" to \"hwrzweEHJ:\", \".svdfb:43t3/\" to \"5z}kmiA;:{:6\", \"D#er435\" to \"N-o|>=?\")\n",
    "var offset = 1\n",
    "for((passwort, verschluesselung) in passwoerter){\n",
    "    if(verschluessele(passwort, offset) != verschluesselung){\n",
    "        throw AssertionError(\"verschluessele($passwort, $offset): ${verschluessele(passwort, offset)} != ${verschluesselung}\")\n",
    "    }\n",
    "    offset += 3\n",
    "}"
   ]
  },
  {
   "cell_type": "markdown",
   "id": "a14862c4",
   "metadata": {
    "nbgrader": {
     "grade": false,
     "grade_id": "cell-61affec1426136f7",
     "locked": true,
     "schema_version": 3,
     "solution": false,
     "task": false
    }
   },
   "source": [
    "## Anzahl der Zeichenarten\n",
    "Implementieren Sie als Vorbereitung auf die eigentliche Aufgabe Erweiterungsmethoden für die Klasse `String`.\n",
    "- `anzahlKleinbuchstaben()`: gibt die Anzahl an Kleinbuchstaben zurück.\n",
    "- `anzahlGrossbuchstaben()`: gibt die Anzahl an Großbuchstaben zurück.\n",
    "- `anzahlZahlen()`: gibt die Anzahl an Zahlen zurück.\n",
    "- `anzahlSonderzeichen()`: gibt die Anzahl der Sonderzeichen zurück.\n",
    "- `anzahlZeichenarten()`: gibt die Anzahl der Zeichenarten zurück.\n",
    "\n",
    "Beispiel: `\"aaa\".anzahlKleinbuchstaben()`: 3"
   ]
  },
  {
   "cell_type": "code",
   "execution_count": 3,
   "id": "constitutional-sharp",
   "metadata": {
    "execution": {
     "iopub.execute_input": "2021-04-12T11:05+0200",
     "iopub.status.busy": "2021-04-12T11:05+0200",
     "iopub.status.idle": "2021-04-12T11:05+0200",
     "shell.execute_reply": "2021-04-12T11:05+0200",
     "shell.execute_reply.started": "2021-04-12T11:05+0200"
    },
    "nbgrader": {
     "grade": false,
     "grade_id": "aufgabe2-code",
     "locked": false,
     "schema_version": 3,
     "solution": true,
     "task": false
    }
   },
   "outputs": [],
   "source": [
    "// BEGIN SOLUTION \n",
    "fun String.anzahlKleinbuchstaben(): Int {\n",
    "    var counter = 0\n",
    "    for(char in this){\n",
    "        if (char in 'a'..'z'){\n",
    "            counter++\n",
    "        }\n",
    "    }\n",
    "    return counter\n",
    "}\n",
    "\n",
    "fun String.anzahlGrossbuchstaben(): Int {\n",
    "    var counter = 0\n",
    "    for(char in this){\n",
    "        if (char in 'A'..'Z'){\n",
    "            counter++\n",
    "        }\n",
    "    }\n",
    "    return counter\n",
    "}\n",
    "\n",
    "fun String.anzahlZahlen(): Int {\n",
    "    var counter = 0\n",
    "    for(char in this){\n",
    "        if (char in '0'..'9'){\n",
    "            counter++\n",
    "        }\n",
    "    }\n",
    "    return counter\n",
    "}\n",
    "\n",
    "fun String.anzahlSonderzeichen(): Int {\n",
    "    val sonderzeichen = listOf('@', '/', '#', '+', '-', '*', '!', '?', '&')\n",
    "    var counter = 0\n",
    "    for(char in this){\n",
    "        if (char in sonderzeichen){\n",
    "            counter++\n",
    "        }\n",
    "    }\n",
    "    return counter\n",
    "}\n",
    "\n",
    "fun String.anzahlZeichenarten(): Int {\n",
    "    var counter = 0\n",
    "    if (this.anzahlGrossbuchstaben() > 0) \n",
    "        counter++\n",
    "    if (this.anzahlKleinbuchstaben() > 0) \n",
    "        counter++\n",
    "    if (this.anzahlZahlen() > 0) \n",
    "        counter++\n",
    "    if (this.anzahlSonderzeichen() > 0) \n",
    "        counter++\n",
    "    return counter\n",
    "}\n",
    "// END SOLUTION"
   ]
  },
  {
   "cell_type": "code",
   "execution_count": 4,
   "id": "stuck-vienna",
   "metadata": {
    "execution": {
     "iopub.execute_input": "2021-04-12T11:05+0200",
     "iopub.status.busy": "2021-04-12T11:05+0200",
     "iopub.status.idle": "2021-04-12T11:05+0200",
     "shell.execute_reply": "2021-04-12T11:05+0200",
     "shell.execute_reply.started": "2021-04-12T11:05+0200"
    },
    "nbgrader": {
     "grade": true,
     "grade_id": "aufgabe2-test",
     "locked": true,
     "points": 10,
     "schema_version": 3,
     "solution": false,
     "task": false
    }
   },
   "outputs": [],
   "source": [
    "//Test von anzahlKleinbuchstaben()\n",
    "val kleinbuchstabenTests = mapOf(\"\" to 0, \"aaaaa\" to 5, \"a2\" to 1, \"D#\" to 0, \"#1\" to 0, \"aB+\" to 1, \"aaBDA2834\" to 2, \"adhGDUWahduWe\" to 8, \"234#34#123+34Hca\" to 2)\n",
    "for((passwort, anzahl) in kleinbuchstabenTests){\n",
    "    if(passwort.anzahlKleinbuchstaben() != anzahl){\n",
    "        throw AssertionError(\"$passwort.anzahlKleinbuchstaben(): ${passwort.anzahlKleinbuchstaben()} != ${anzahl}\")\n",
    "    }\n",
    "}\n",
    "\n",
    "//Test von anzahlGrossbuchstaben()\n",
    "val grossbuchstabenTests = mapOf(\"\" to 0, \"aaaaa\" to 0, \"A2\" to 1, \"D#\" to 1, \"#1\" to 0, \"aB+\" to 1, \"aaBDA2834\" to 3, \"adhGDUWahduWe\" to 5, \"234#34#123+34Hca\" to 1)\n",
    "for((passwort, anzahl) in grossbuchstabenTests){\n",
    "    if(passwort.anzahlGrossbuchstaben() != anzahl){\n",
    "        throw AssertionError(\"$passwort.anzahlGrossbuchstaben(): ${passwort.anzahlGrossbuchstaben()} != ${anzahl}\")\n",
    "    }\n",
    "}\n",
    "\n",
    "//Test von anzahlZahlen()\n",
    "val zahlenTests = mapOf(\"\" to 0, \"aaaaa\" to 0, \"a2\" to 1, \"D#\" to 0, \"#1\" to 1, \"aB+\" to 0, \"aaBDA2834\" to 4, \"adhGDUWahduWe\" to 0, \"234#34#123+34Hca\" to 10)\n",
    "for((passwort, anzahl) in zahlenTests){\n",
    "    if(passwort.anzahlZahlen() != anzahl){\n",
    "        throw AssertionError(\"$passwort.anzahlZahlen(): ${passwort.anzahlZahlen()} != ${anzahl}\")\n",
    "    }\n",
    "}\n",
    "\n",
    "//Test von anzahlSonderzeichen()\n",
    "val sonderzeichenTests = mapOf(\"\" to 0, \"aaaaa\" to 0, \"a2\" to 0, \"D#\" to 1, \"#1\" to 1, \"aB+\" to 1, \"aaBDA2834\" to 0, \"adhGDUWahduWe\" to 0, \"234#34#123+34Hca\" to 3)\n",
    "for((passwort, anzahl) in sonderzeichenTests){\n",
    "    if(passwort.anzahlSonderzeichen() != anzahl){\n",
    "        throw AssertionError(\"$passwort.anzahlSonderzeichen(): ${passwort.anzahlSonderzeichen()} != ${anzahl}\")\n",
    "    }\n",
    "}\n",
    "\n",
    "//Test von anzahlZeichenarten()\n",
    "val zeichenartenTests = mapOf(\"\" to 0, \"aaaaa\" to 1, \"a2\" to 2, \"D#\" to 2, \"#1\" to 2, \"aB+\" to 3, \"aaBDA2834\" to 3, \"adhGDUWahduWe\" to 2, \"234#34#123+34Hca\" to 4)\n",
    "for((passwort, anzahl) in zeichenartenTests){\n",
    "    if(passwort.anzahlZeichenarten() != anzahl){\n",
    "        throw AssertionError(\"$passwort.anzahlZeichenarten(): ${passwort.anzahlZeichenarten()} != ${anzahl}\")\n",
    "    }\n",
    "}"
   ]
  },
  {
   "cell_type": "markdown",
   "id": "alternative-boating",
   "metadata": {
    "nbgrader": {
     "grade": false,
     "grade_id": "markdown-3",
     "locked": true,
     "schema_version": 3,
     "solution": false,
     "task": false
    }
   },
   "source": [
    "## Passwortstärke  \n",
    "Nun soll die Stärke des Passworts in einem Bereich von 0 - 100 berechnet werden. Die Berechnung ist an [Passwordmeter](http://www.passwordmeter.com/) angelehnt. `size` steht für die Länge des Passworts, während `n` die Anzahl der Zeichen beschreibt, auf die die Eigenschaft zutrifft. Punkte sind folgendermaßen zu vergeben:\n",
    "\n",
    "<table style=\"font-size: 16px; width: 100%; text-align:left !important\">\n",
    "<thead>\n",
    "  <tr>\n",
    "    <th style=\"font-size: 16px\">Eigenschaft</th>\n",
    "    <th style=\"width: 20%; min-width: 100px;font-size: 16px\">Punkte</th>\n",
    "  </tr>\n",
    "</thead>\n",
    "<tbody>\n",
    "  <tr>\n",
    "    <td style=\"font-size: 16px\">Anzahl Zeichen insgesamt</td>\n",
    "    <td style=\"font-size: 16px\">+(n*4)</td>\n",
    "  </tr>\n",
    "  <tr>\n",
    "    <td style=\"font-size: 16px\">Anzahl Großbuchstaben</td>\n",
    "    <td style=\"font-size: 16px\">+((size-n)*2)</td>\n",
    "  </tr>\n",
    "  <tr>\n",
    "    <td style=\"font-size: 16px\">Anzahl Kleinbuchstaben</td>\n",
    "    <td style=\"font-size: 16px\">+((size-n)*2)</td>\n",
    "  </tr>\n",
    "  <tr>\n",
    "    <td style=\"font-size: 16px\">Anzahl Zahlen</td>\n",
    "    <td style=\"font-size: 16px\">+(n*4)</td>\n",
    "  </tr>\n",
    "  <tr>\n",
    "    <td style=\"font-size: 16px\">Anzahl Sonderzeichen</td>\n",
    "    <td style=\"font-size: 16px\">+(n*6)</td>\n",
    "  </tr>\n",
    "  <tr>\n",
    "    <td style=\"font-size: 16px\">Anzahl Zeichenarten (2-4)</td>\n",
    "    <td style=\"font-size: 16px\">+(n*3)</td>\n",
    "  </tr>\n",
    "  <tr>\n",
    "    <td style=\"font-size: 16px\">Nur 1 Zeichenart</td>\n",
    "    <td style=\"font-size: 16px\">-size</td>\n",
    "  </tr>\n",
    "  <tr>\n",
    "      <td style=\"font-size: 16px\">Wiederholende Zeichen (Bsp: \"<b>aaaa</b>\" n=4, \"<b>a</b>C<b>w</b>i3Wf<b>a</b>sd<b>aw</b>\" n=5)</td>\n",
    "    <td style=\"font-size: 16px\">-(n*3)</td>\n",
    "  </tr>\n",
    "</tbody>\n",
    "</table>\n",
    "\n",
    "Implementiere eine Funktion `passwortstaerke`, die das Passwort (als `String`) übergeben bekommt. Zurückgegeben werden soll die Stärke des Passworts, die mit der angegebenen Tabelle berechnet werden soll. Ein sehr sicheres Passwort erhält die Punktzahl 100, ein sehr Unsicheres 0."
   ]
  },
  {
   "cell_type": "code",
   "execution_count": 5,
   "id": "broad-adapter",
   "metadata": {
    "execution": {
     "iopub.execute_input": "2021-04-14T13:56+0200",
     "iopub.status.busy": "2021-04-14T13:56+0200",
     "iopub.status.idle": "2021-04-14T13:56+0200",
     "shell.execute_reply": "2021-04-14T13:56+0200"
    },
    "nbgrader": {
     "grade": false,
     "grade_id": "aufgabe3-code",
     "locked": false,
     "schema_version": 3,
     "solution": true,
     "task": false
    },
    "tags": []
   },
   "outputs": [],
   "source": [
    "// BEGIN SOLUTION \n",
    "fun passwortstaerke(passwort: String) : Int {\n",
    "    // Anzahl Zeichen insgesamt, Zahlen, Sonderzeichen, Zeichenarten\n",
    "    var staerke = passwort.length * 4 + passwort.anzahlZahlen() * 4 + passwort.anzahlSonderzeichen() * 6 + passwort.anzahlZeichenarten() * 3\n",
    "\n",
    "    // Anzahl Großbuchstaben\n",
    "    if (passwort.anzahlGrossbuchstaben() > 0)\n",
    "        staerke += (passwort.length - passwort.anzahlGrossbuchstaben()) * 2\n",
    "    \n",
    "    // Anzahl Kleinbuchstaben\n",
    "    if (passwort.anzahlKleinbuchstaben() > 0)\n",
    "        staerke += (passwort.length - passwort.anzahlKleinbuchstaben()) * 2\n",
    "    \n",
    "    // Nur 1 Zeichenart\n",
    "    if (\n",
    "        (passwort.anzahlGrossbuchstaben() == 0 && passwort.anzahlKleinbuchstaben() == 0 && passwort.anzahlZahlen() == 0 && passwort.anzahlSonderzeichen() > 0) ||\n",
    "        (passwort.anzahlGrossbuchstaben() == 0 && passwort.anzahlKleinbuchstaben() == 0 && passwort.anzahlZahlen() > 0 && passwort.anzahlSonderzeichen() == 0) ||\n",
    "        (passwort.anzahlGrossbuchstaben() == 0 && passwort.anzahlKleinbuchstaben() > 0 && passwort.anzahlZahlen() == 0 && passwort.anzahlSonderzeichen() == 0) ||\n",
    "        (passwort.anzahlGrossbuchstaben() > 0 && passwort.anzahlKleinbuchstaben() == 0 && passwort.anzahlZahlen() == 0 && passwort.anzahlSonderzeichen() == 0)\n",
    "    )\n",
    "           staerke -= passwort.length\n",
    "    \n",
    "    // Wiederholende Zeichen\n",
    "    var wiederholendeZeichen = 0\n",
    "    for (char in passwort.toSet()){\n",
    "        if (passwort.count {char == it} > 1)\n",
    "            wiederholendeZeichen += passwort.count {char == it}\n",
    "    }\n",
    "    staerke -= wiederholendeZeichen * 3\n",
    "    \n",
    "    return if (staerke > 100) 100 else if (staerke < 0) 0 else staerke\n",
    "}\n",
    "// END SOLUTION"
   ]
  },
  {
   "cell_type": "code",
   "execution_count": 6,
   "id": "peripheral-blues",
   "metadata": {
    "execution": {
     "iopub.execute_input": "2021-04-14T13:56+0200",
     "iopub.status.busy": "2021-04-14T13:56+0200",
     "iopub.status.idle": "2021-04-14T13:56+0200",
     "shell.execute_reply": "2021-04-14T13:56+0200"
    },
    "nbgrader": {
     "grade": true,
     "grade_id": "aufgabe3-test",
     "locked": true,
     "points": 10,
     "schema_version": 3,
     "solution": false,
     "task": false
    },
    "tags": []
   },
   "outputs": [],
   "source": [
    "//Test von passwortstaerke\n",
    "val passwortTests = mapOf(\"\" to 0, \"aaaaa\" to 3, \"a2\" to 20, \"D#\" to 22, \"jdfVqed&213\" to 98, \"AAAaaa111\" to 54, \"aaBDA2834\" to 81, \"adhGDUWahduWe\" to 60, \"234#34#123+34Hca\" to 100)\n",
    "for((passwort, staerke) in passwortTests){\n",
    "    if(passwortstaerke(passwort) != staerke){\n",
    "        throw AssertionError(\"passwortstaerke($passwort): ${passwortstaerke(passwort)} != $staerke\")\n",
    "    }\n",
    "}"
   ]
  },
  {
   "cell_type": "markdown",
   "id": "competitive-teens",
   "metadata": {
    "nbgrader": {
     "grade": false,
     "grade_id": "markdown-4",
     "locked": true,
     "schema_version": 3,
     "solution": false,
     "task": false
    }
   },
   "source": [
    "## Passwortgenerator \n",
    "\n",
    "Unter Verwendung der `passwordstaerke`-Funktion soll nun mit Hilfe der [Brute-Force-Methode](https://de.wikipedia.org/wiki/Brute-Force-Methode) ein Passwort generiert werden. Implementieren Sie dazu eine Funktion `passwortGenerieren`. Die Stärke des generierten Passworts soll eine bestimmte Stärke, die als eine beliebige, ganze Zahl übergeben wird, übersteigen. Wird ein unpassender Parameterwert übergeben, soll die Funktion `-` zurückgeben."
   ]
  },
  {
   "cell_type": "code",
   "execution_count": 7,
   "id": "supreme-major",
   "metadata": {
    "execution": {
     "iopub.execute_input": "2021-04-12T11:05+0200",
     "iopub.status.busy": "2021-04-12T11:05+0200",
     "iopub.status.idle": "2021-04-12T11:05+0200",
     "shell.execute_reply": "2021-04-12T11:05+0200",
     "shell.execute_reply.started": "2021-04-12T11:05+0200"
    },
    "nbgrader": {
     "grade": false,
     "grade_id": "aufgabe4-code",
     "locked": false,
     "schema_version": 3,
     "solution": true,
     "task": false
    },
    "tags": []
   },
   "outputs": [],
   "source": [
    "// BEGIN SOLUTION \n",
    "fun passwortGenerieren(staerke : Int) : String{\n",
    "    if(staerke !in 0..100)\n",
    "        return \"-\"\n",
    "    var passwort: String = \"\"\n",
    "    val zeichen: List<Char> = ('a'..'z').toList() + ('A'..'Z').toList() + ('0'..'9').toList() + listOf('@', '/', '#', '+', '-', '*', '!', '?', '&')\n",
    "    do{\n",
    "        passwort = \"\"\n",
    "        for(i in 1 .. (1..12).random()){\n",
    "            passwort += zeichen.random()\n",
    "        }\n",
    "    }\n",
    "    while(passwortstaerke(passwort) < staerke)\n",
    "    return passwort\n",
    "}\n",
    "// END SOLUTION"
   ]
  },
  {
   "cell_type": "code",
   "execution_count": 8,
   "id": "requested-hypothesis",
   "metadata": {
    "execution": {
     "iopub.execute_input": "2021-04-12T11:05+0200",
     "iopub.status.busy": "2021-04-12T11:05+0200",
     "iopub.status.idle": "2021-04-12T11:05+0200",
     "shell.execute_reply": "2021-04-12T11:05+0200",
     "shell.execute_reply.started": "2021-04-12T11:05+0200"
    },
    "nbgrader": {
     "grade": true,
     "grade_id": "aufgabe4-test",
     "locked": true,
     "points": 6,
     "schema_version": 3,
     "solution": false,
     "task": false
    }
   },
   "outputs": [],
   "source": [
    "//Test von passwortGenerieren\n",
    "if(passwortGenerieren(-1) != \"-\")\n",
    "    throw AssertionError(\"passwortGenerieren(-1): ${passwortGenerieren(-1)} != '-'\")\n",
    "if(passwortGenerieren(101) != \"-\")\n",
    "    throw AssertionError(\"passwortGenerieren(101): ${passwortGenerieren(101)} != '-'\")\n",
    "for (i in 0..100 step 5){\n",
    "    val testPasswort = passwortGenerieren(i)\n",
    "    if (passwortstaerke(testPasswort) < i)\n",
    "        throw AssertionError(\"passwortstaerke($testPasswort): ${passwortstaerke(testPasswort)} < $i\")\n",
    "}\n",
    "for (i in 0..5){\n",
    "    val testPasswort = passwortGenerieren(100)\n",
    "    if (passwortstaerke(testPasswort) < 100)\n",
    "        throw AssertionError(\"passwortstaerke($testPasswort): ${passwortstaerke(testPasswort)} < 100\")\n",
    "}"
   ]
  },
  {
   "cell_type": "markdown",
   "id": "surgical-dylan",
   "metadata": {
    "nbgrader": {
     "grade": false,
     "grade_id": "markdown-5",
     "locked": true,
     "schema_version": 3,
     "solution": false,
     "task": false
    }
   },
   "source": [
    "## Passwortgenerator - Erweitert\n",
    "In dieser letzten Aufgabe soll die Passwortgenerierung erweitert werden. Implementieren Sie eine zusätzliche Funktion `passwortGenerierenErweitert`, die zusätzlich zu der Mindeststärke auch die Anzahl der Zeichen jeder Art übergeben werden. Standardmäßig soll die Mindeststärke 75 und die Anzahl an Zeichen jeder Art 0 sein. Die Zeichen sollen an zufälligen Stellen im Passwort zu finden sein. Ist nach 200 Versuchen kein Passwort für die Mindeststärke mit der Kombination an Zeichen möglich, soll `-` ausgegeben werden.  \n",
    "Beispiel:  \n",
    "`passwortGenerierenErweitert(80,3,4,2,1)`: Generiert ein Passwort, das mindestens die Stärke 80, 3 Großbuchstaben, 4 Kleinbuchstaben, 2 Zahlen und 1 Sonderzeichen besitzt.  \n",
    "`passwortGenerierenErweitert(50,5,7)`: Generiert ein Passwort, das mindestens die Stärke 50, 5 Großbuchstaben, 7 Kleinbuchstaben, 0 Zahlen und 0 Sonderzeichen besitzt.  "
   ]
  },
  {
   "cell_type": "code",
   "execution_count": 9,
   "id": "inside-discount",
   "metadata": {
    "execution": {
     "iopub.execute_input": "2021-04-12T11:05+0200",
     "iopub.status.busy": "2021-04-12T11:05+0200",
     "iopub.status.idle": "2021-04-12T11:05+0200",
     "shell.execute_reply": "2021-04-12T11:05+0200",
     "shell.execute_reply.started": "2021-04-12T11:05+0200"
    },
    "nbgrader": {
     "grade": false,
     "grade_id": "aufgabe5-code",
     "locked": false,
     "schema_version": 3,
     "solution": true,
     "task": false
    }
   },
   "outputs": [],
   "source": [
    "// BEGIN SOLUTION\n",
    "fun passwortGenerierenErweitert(staerke: Int = 75, vorGross: Int = 0, vorKlein: Int = 0, vorZahlen: Int = 0, vorSonder: Int = 0): String{\n",
    "    if(staerke !in 0..100 || vorGross < 0 || vorKlein < 0 || vorZahlen < 0 || vorSonder < 0)\n",
    "        return \"-\"\n",
    "    \n",
    "    val kleinbuchstaben = ('a'..'z').toList()\n",
    "    val grossbuchstaben = ('A'..'Z').toList() \n",
    "    val zahlen = ('0'..'9').toList()\n",
    "    val sonderzeichen = listOf('@', '/', '#', '+', '-', '*', '!', '?', '&')\n",
    "    val laenge = vorGross + vorKlein + vorZahlen + vorSonder\n",
    "    \n",
    "    var versuche = 0\n",
    "    var pw = \"\"\n",
    "    do{\n",
    "        pw = \"\"\n",
    "        do{\n",
    "            val rand = (0..3).random()\n",
    "            when {\n",
    "                rand == 0 && pw.anzahlGrossbuchstaben() < vorGross -> pw += grossbuchstaben.random()\n",
    "                rand == 1 && pw.anzahlKleinbuchstaben() < vorKlein -> pw += kleinbuchstaben.random()\n",
    "                rand == 2 && pw.anzahlZahlen() < vorZahlen -> pw += zahlen.random()\n",
    "                rand == 3 && pw.anzahlSonderzeichen() < vorSonder -> pw += sonderzeichen.random()\n",
    "            }\n",
    "            \n",
    "        }\n",
    "        while(pw.length < laenge)\n",
    "        versuche++\n",
    "    }\n",
    "    while(passwortstaerke(pw) < staerke && versuche < 200)\n",
    "    return if (versuche == 200) \"-\" else pw\n",
    "}\n",
    "// END SOLUTION"
   ]
  },
  {
   "cell_type": "code",
   "execution_count": 10,
   "id": "ceramic-cleaning",
   "metadata": {
    "execution": {
     "iopub.execute_input": "2021-04-12T11:05+0200",
     "iopub.status.busy": "2021-04-12T11:05+0200",
     "iopub.status.idle": "2021-04-12T11:05+0200",
     "shell.execute_reply": "2021-04-12T11:05+0200",
     "shell.execute_reply.started": "2021-04-12T11:05+0200"
    },
    "nbgrader": {
     "grade": true,
     "grade_id": "aufgabe5-test",
     "locked": true,
     "points": 9,
     "schema_version": 3,
     "solution": false,
     "task": false
    }
   },
   "outputs": [],
   "source": [
    "//Test von passwortGenerierenErweitert\n",
    "if(passwortGenerierenErweitert(-1) != \"-\")\n",
    "    throw AssertionError(\"passwortGenerierenErweitert(-1): ${passwortGenerierenErweitert(-1)} != '-'\")\n",
    "if(passwortGenerierenErweitert(101) != \"-\")\n",
    "    throw AssertionError(\"passwortGenerierenErweitert(101): ${passwortGenerierenErweitert(101)} != '-'\")\n",
    "if(passwortGenerierenErweitert(50, -1, 1, 1, 1) != \"-\")\n",
    "    throw AssertionError(\"passwortGenerierenErweitert(50, -1, 1, 1, 1): ${passwortGenerierenErweitert(50, -1, 1, 1, 1)} != '-'\")\n",
    "if(passwortGenerierenErweitert(50, 1, -1, 1, 1) != \"-\")\n",
    "    throw AssertionError(\"passwortGenerierenErweitert(50, 1, -1, 1, 1): ${passwortGenerierenErweitert(50, 1, -1, 1, 1)} != '-'\")\n",
    "if(passwortGenerierenErweitert(50, 1, 1, -1, 1) != \"-\")\n",
    "    throw AssertionError(\"passwortGenerierenErweitert(50, 1, 1, -1, 1): ${passwortGenerierenErweitert(50, 1, 1, -1, 1)} != '-'\")\n",
    "if(passwortGenerierenErweitert(50, 1, 1, 1, -1) != \"-\")\n",
    "    throw AssertionError(\"passwortGenerierenErweitert(50, 1, 1, 1, -1): ${passwortGenerierenErweitert(50, 1, 1, 1, -1)} != '-'\")\n",
    "\n",
    "for(i in 0..49){\n",
    "    val staerke = (0..100).random()\n",
    "    val gross = (0..6).random()\n",
    "    val klein = (0..6).random()\n",
    "    val zahlen = (0..6).random()\n",
    "    val sonder = (0..6).random()\n",
    "    val testPasswort = passwortGenerierenErweitert(staerke, gross, klein, zahlen, sonder)\n",
    "    if (\n",
    "        (testPasswort.anzahlGrossbuchstaben() != gross || testPasswort.anzahlKleinbuchstaben() != klein ||\n",
    "        testPasswort.anzahlZahlen() != zahlen || testPasswort.anzahlSonderzeichen() != sonder ||\n",
    "        passwortstaerke(testPasswort) < staerke) && testPasswort != \"-\"\n",
    "    )\n",
    "        throw AssertionError(\"passwortstaerke($testPasswort): ${passwortstaerke(testPasswort)} < $staerke, $testPasswort.anzahlGrossbuchstaben(): ${testPasswort.anzahlGrossbuchstaben()} != $gross, $testPasswort.anzahlKleinbuchstaben(): ${testPasswort.anzahlKleinbuchstaben()} != $klein, $testPasswort.anzahlZahlen(): ${testPasswort.anzahlZahlen()} != $zahlen, $testPasswort.anzahlSonderzeichen(): ${testPasswort.anzahlSonderzeichen()} != $sonder\")\n",
    "}\n",
    "\n",
    "for(i in 0..4){\n",
    "    val staerke = 100\n",
    "    val gross = (0..6).random()\n",
    "    val klein = (0..6).random()\n",
    "    val zahlen = (0..6).random()\n",
    "    val sonder = (0..6).random()\n",
    "    val testPasswort = passwortGenerierenErweitert(staerke, gross, klein, zahlen, sonder)\n",
    "    if (\n",
    "        (testPasswort.anzahlGrossbuchstaben() != gross || testPasswort.anzahlKleinbuchstaben() != klein ||\n",
    "        testPasswort.anzahlZahlen() != zahlen || testPasswort.anzahlSonderzeichen() != sonder ||\n",
    "        passwortstaerke(testPasswort) < staerke) && testPasswort != \"-\"\n",
    "    )\n",
    "        throw AssertionError(\"passwortstaerke($testPasswort): ${passwortstaerke(testPasswort)} < $staerke, $testPasswort.anzahlGrossbuchstaben(): ${testPasswort.anzahlGrossbuchstaben()} != $gross, $testPasswort.anzahlKleinbuchstaben(): ${testPasswort.anzahlKleinbuchstaben()} != $klein, $testPasswort.anzahlZahlen(): ${testPasswort.anzahlZahlen()} != $zahlen, $testPasswort.anzahlSonderzeichen(): ${testPasswort.anzahlSonderzeichen()} != $sonder\")\n",
    "}\n",
    "\n",
    "val testPasswort = passwortGenerierenErweitert(10, 5, 2)\n",
    "if (\n",
    "    (testPasswort.anzahlGrossbuchstaben() != 5 || testPasswort.anzahlKleinbuchstaben() != 2 ||\n",
    "    testPasswort.anzahlZahlen() != 0 || testPasswort.anzahlSonderzeichen() != 0 ||\n",
    "    passwortstaerke(testPasswort) < 10) && testPasswort != \"-\"\n",
    ")\n",
    "    throw AssertionError(\"passwortstaerke($testPasswort): ${passwortstaerke(testPasswort)} < 10, $testPasswort.anzahlGrossbuchstaben(): ${testPasswort.anzahlGrossbuchstaben()} != 5, $testPasswort.anzahlKleinbuchstaben(): ${testPasswort.anzahlKleinbuchstaben()} != 2, $testPasswort.anzahlZahlen(): ${testPasswort.anzahlZahlen()} != 0, $testPasswort.anzahlSonderzeichen(): ${testPasswort.anzahlSonderzeichen()} != 0\")"
   ]
  }
 ],
 "metadata": {
  "celltoolbar": "Create Assignment",
  "kernelspec": {
   "display_name": "Kotlin",
   "language": "kotlin",
   "name": "kotlin"
  },
  "language_info": {
   "codemirror_mode": "text/x-kotlin",
   "file_extension": ".kt",
   "mimetype": "text/x-kotlin",
   "name": "kotlin",
   "nbconvert_exporter": "",
   "pygments_lexer": "kotlin",
   "version": "1.5.20-dev-5817"
  }
 },
 "nbformat": 4,
 "nbformat_minor": 5
}
