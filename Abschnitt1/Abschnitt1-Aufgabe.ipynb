{
 "cells": [
  {
   "cell_type": "markdown",
   "id": "periodic-casino",
   "metadata": {
    "deletable": false,
    "editable": false,
    "nbgrader": {
     "cell_type": "markdown",
     "checksum": "f023b219c647ca85e535c76269dfdd20",
     "grade": false,
     "grade_id": "markdown-0",
     "locked": true,
     "schema_version": 3,
     "solution": false,
     "task": false
    }
   },
   "source": [
    "# Aufgabe - Passwörter\n",
    "\n",
    "Heutzutage ist es immer wichtiger sichere Passwörter zu verwenden. Ob es der Zugang zum Online-Banking oder das Passwort für Netflix ist. Wird das Passwort herausgefunden, kann ein großer Schaden verursacht werden. Deswegen soll im Folgenden ein Passwortgenerator und -implementiert programmiert werden, der sichere Passwörter erkennt und auch vorschlägt.  \n",
    "Ein Passwort ist in dieser Aufgabe als _sicher_ anzusehen, wenn es die [Standards des BSI](https://www.bsi.bund.de/DE/Themen/Verbraucherinnen-und-Verbraucher/Informationen-und-Empfehlungen/Cyber-Sicherheitsempfehlungen/Accountschutz/Sichere-Passwoerter-erstellen/sichere-passwoerter-erstellen_node.html) (Stand 21.10.2021) erfüllt:\n",
    "- 20 bis 25 Zeichen lang und zwei Zeichenarten genutzt (beispielsweise eine Folge von Wörtern).\n",
    "- 8 bis 12 Zeichen lang und vier Zeichenarten genutzt. \n",
    "- 8 Zeichen lang, drei Zeichenarten genutzt und es zusätzlich durch eine Mehr-Faktor-Authentisierung abgesichert (beispielsweise durch einen Fingerabdruck, eine Bestätigung per App oder eine PIN).\n",
    "\n",
    "Der dritten Stichpunkt soll im Folgenden ignoriert werden, da eine Mehr-Faktor-Authentisierung die Aufgabe übersteigen würde. Es soll sich auf die ersten beiden Stichpunkte fokussiert werden.\n",
    "\n",
    "Die 4 Zeichenarten sind:\n",
    "- Großbuchstaben\n",
    "- Kleinbuchstaben\n",
    "- Zahlen\n",
    "- Sonderzeichen (zur Vereinfachung können nur die Zeichen `@`, `/`, `#`, `+`, `-`, `*`, `!`, `?`, `&` eingeben werden)\n",
    "\n",
    "## Ceasar-Verschlüsselung\n",
    "Ein wichtiges Element in der Datensicherheit ist die Sicherheit von Passwörtern. Heutzutage werden die Zeichenketten meist mit Hilfe einer Hash-Funktion in einen Hash umgewandelt, der dann mit dem Ergebnis des gleichen Vorgangs mit der Passworteingabe verglichen wird. Jedoch gibt es auch rudimentärere Verschlüsselungsmethoden, die aber in der aktuellen Zeit ausgedient haben. Eine der ersten dieser Art ist die Ceasar-Verschlüsselung, das im alten Rom Anwendung fand. Dabei wird jedem Zeichen einer Zeichenkette ein vordefinierter Offset hinzugezählt. Das Ergebnis ist eine verschlüsselte Zeichenkette. Auf dem umgekehrten Weg kann das eigentliche Passwort wiedererlangt werden.  \n",
    "Der folgende Java-Code beschreibt eine rekursive Funktion, die eine Zeichenkette und einen Offset übergeben bekommt und die verschlüsselte Form als Ergebnis zurückgibt. Übersetzen Sie diese Funktion nach Kotlin, sodass diese initial nur mit zwei Parametern aufgerufen werden kann.\n",
    "\n",
    "`public static String verschluessele(String passwort, int offset, int aktPos){\n",
    "    if(aktPos == passwort.length() || offset < 1 || aktPos < 0)\n",
    "        return passwort;\n",
    "    else{ \n",
    "        char[] passwortArray = passwort.toCharArray();\n",
    "        passwortArray[aktPos] = (char) ((int) passwortArray[aktPos] + offset);\n",
    "        return verschluessele(String.valueOf(passwortArray), offset, aktPos + 1);\n",
    "    }\n",
    "}`\n",
    "\n",
    "Beispielaufruf Java: `verschluessele(\"kfw327ds#fg\", 3, 0)`  \n",
    "Beispielaufruf Kotlin: `verschluessele(\"kfw327ds#fg\", 3)`  \n",
    "\n",
    "Hinweis: Um eine Liste aus Zeichen in eine Zeichenkette umzuwandeln, benötigen Sie beispielsweise die Methode [joinToString()](https://kotlinlang.org/api/latest/jvm/stdlib/kotlin.collections/join-to-string.html). "
   ]
  },
  {
   "cell_type": "code",
   "execution_count": null,
   "id": "aae00d32",
   "metadata": {
    "deletable": false,
    "nbgrader": {
     "cell_type": "code",
     "checksum": "a15f8ddce1cb9823bad3512fd28fc6a7",
     "grade": false,
     "grade_id": "aufgabe1-code",
     "locked": false,
     "schema_version": 3,
     "solution": true,
     "task": false
    }
   },
   "outputs": [],
   "source": [
    "// YOUR CODE HERE"
   ]
  },
  {
   "cell_type": "code",
   "execution_count": null,
   "id": "a4a33d71",
   "metadata": {
    "deletable": false,
    "editable": false,
    "nbgrader": {
     "cell_type": "code",
     "checksum": "b2263033807c79719b60530e74e896b3",
     "grade": true,
     "grade_id": "aufgabe1-test",
     "locked": true,
     "points": 6,
     "schema_version": 3,
     "solution": false,
     "task": false
    }
   },
   "outputs": [],
   "source": [
    "//Test von verschluessele()\n",
    "if(verschluessele(\"sdfweef45qf\", -1, 1) != \"sdfweef45qf\"){\n",
    "    throw AssertionError(\"verschluessele('sdfweef45qf', 0, 1): ${verschluessele(\"sdfweef45qf\", -1, 1)} != sdfweef45qf\")\n",
    "}\n",
    "\n",
    "if(verschluessele(\"sdfweef45qf\", 4, -4) != \"sdfweef45qf\"){\n",
    "    throw AssertionError(\"verschluessele('sdfweef45qf', 4, -4): ${verschluessele(\"sdfweef45qf\", 4, -4)} != sdfweef45qf\")\n",
    "}\n",
    "\n",
    "val passwoerter = mapOf(\"kfw327ds-fg\" to \"lgx438et.gh\", \"dsnvsaADF6\" to \"hwrzweEHJ:\", \".svdfb:43t3/\" to \"5z}kmiA;:{:6\", \"D#er435\" to \"N-o|>=?\")\n",
    "var offset = 1\n",
    "for((passwort, verschluesselung) in passwoerter){\n",
    "    if(verschluessele(passwort, offset) != verschluesselung){\n",
    "        throw AssertionError(\"verschluessele($passwort, $offset): ${verschluessele(passwort, offset)} != ${verschluesselung}\")\n",
    "    }\n",
    "    offset += 3\n",
    "}"
   ]
  },
  {
   "cell_type": "markdown",
   "id": "a14862c4",
   "metadata": {
    "deletable": false,
    "editable": false,
    "nbgrader": {
     "cell_type": "markdown",
     "checksum": "c740f7d6b586c55c1eb04ea6755b585e",
     "grade": false,
     "grade_id": "markdown-1",
     "locked": true,
     "schema_version": 3,
     "solution": false,
     "task": false
    }
   },
   "source": [
    "## Anzahl der Zeichenarten\n",
    "Implementieren Sie als Vorbereitung auf die eigentliche Aufgabe Erweiterungsmethoden für die Klasse `String`.\n",
    "- `anzahlKleinbuchstaben()`: gibt die Anzahl an Kleinbuchstaben zurück.\n",
    "- `anzahlGrossbuchstaben()`: gibt die Anzahl an Großbuchstaben zurück.\n",
    "- `anzahlZahlen()`: gibt die Anzahl an Zahlen zurück.\n",
    "- `anzahlSonderzeichen()`: gibt die Anzahl der Sonderzeichen zurück.\n",
    "- `anzahlZeichenarten()`: gibt die Anzahl der Zeichenarten zurück.\n",
    "\n",
    "Beispiel: `\"aaa\".anzahlKleinbuchstaben()`: 3"
   ]
  },
  {
   "cell_type": "code",
   "execution_count": null,
   "id": "constitutional-sharp",
   "metadata": {
    "deletable": false,
    "execution": {
     "iopub.execute_input": "2021-04-12T11:05+0200",
     "iopub.status.busy": "2021-04-12T11:05+0200",
     "iopub.status.idle": "2021-04-12T11:05+0200",
     "shell.execute_reply": "2021-04-12T11:05+0200",
     "shell.execute_reply.started": "2021-04-12T11:05+0200"
    },
    "nbgrader": {
     "cell_type": "code",
     "checksum": "a217b32544dd1bd286cf961f89a7f0c9",
     "grade": false,
     "grade_id": "aufgabe2-code",
     "locked": false,
     "schema_version": 3,
     "solution": true,
     "task": false
    }
   },
   "outputs": [],
   "source": [
    "// YOUR CODE HERE"
   ]
  },
  {
   "cell_type": "code",
   "execution_count": null,
   "id": "stuck-vienna",
   "metadata": {
    "deletable": false,
    "editable": false,
    "execution": {
     "iopub.execute_input": "2021-04-12T11:05+0200",
     "iopub.status.busy": "2021-04-12T11:05+0200",
     "iopub.status.idle": "2021-04-12T11:05+0200",
     "shell.execute_reply": "2021-04-12T11:05+0200",
     "shell.execute_reply.started": "2021-04-12T11:05+0200"
    },
    "nbgrader": {
     "cell_type": "code",
     "checksum": "0453a9afc84bba9475b9c39fa86f8f69",
     "grade": true,
     "grade_id": "aufgabe2-test1",
     "locked": true,
     "points": 2,
     "schema_version": 3,
     "solution": false,
     "task": false
    }
   },
   "outputs": [],
   "source": [
    "//Test von anzahlKleinbuchstaben()\n",
    "val kleinbuchstabenTests = mapOf(\"\" to 0, \"aaaaa\" to 5, \"a2\" to 1, \"D#\" to 0, \"#1\" to 0, \"aB+\" to 1, \"aaBDA2834\" to 2, \"adhGDUWahduWe\" to 8, \"234#34#123+34Hca\" to 2)\n",
    "for((passwort, anzahl) in kleinbuchstabenTests){\n",
    "    if(passwort.anzahlKleinbuchstaben() != anzahl){\n",
    "        throw AssertionError(\"$passwort.anzahlKleinbuchstaben(): ${passwort.anzahlKleinbuchstaben()} != ${anzahl}\")\n",
    "    }\n",
    "}"
   ]
  },
  {
   "cell_type": "code",
   "execution_count": null,
   "id": "dd183c15",
   "metadata": {
    "deletable": false,
    "editable": false,
    "nbgrader": {
     "cell_type": "code",
     "checksum": "4d311b3604d8b5941ed24ab2be110f16",
     "grade": true,
     "grade_id": "aufgabe2-test2",
     "locked": true,
     "points": 2,
     "schema_version": 3,
     "solution": false,
     "task": false
    }
   },
   "outputs": [],
   "source": [
    "//Test von anzahlGrossbuchstaben()\n",
    "val grossbuchstabenTests = mapOf(\"\" to 0, \"aaaaa\" to 0, \"A2\" to 1, \"D#\" to 1, \"#1\" to 0, \"aB+\" to 1, \"aaBDA2834\" to 3, \"adhGDUWahduWe\" to 5, \"234#34#123+34Hca\" to 1)\n",
    "for((passwort, anzahl) in grossbuchstabenTests){\n",
    "    if(passwort.anzahlGrossbuchstaben() != anzahl){\n",
    "        throw AssertionError(\"$passwort.anzahlGrossbuchstaben(): ${passwort.anzahlGrossbuchstaben()} != ${anzahl}\")\n",
    "    }\n",
    "}"
   ]
  },
  {
   "cell_type": "code",
   "execution_count": null,
   "id": "fee16d3f",
   "metadata": {
    "deletable": false,
    "editable": false,
    "nbgrader": {
     "cell_type": "code",
     "checksum": "b7d7246c24568c8cfea7c80b8dd2649e",
     "grade": true,
     "grade_id": "aufgabe2-test3",
     "locked": true,
     "points": 2,
     "schema_version": 3,
     "solution": false,
     "task": false
    }
   },
   "outputs": [],
   "source": [
    "//Test von anzahlZahlen()\n",
    "val zahlenTests = mapOf(\"\" to 0, \"aaaaa\" to 0, \"a2\" to 1, \"D#\" to 0, \"#1\" to 1, \"aB+\" to 0, \"aaBDA2834\" to 4, \"adhGDUWahduWe\" to 0, \"234#34#123+34Hca\" to 10)\n",
    "for((passwort, anzahl) in zahlenTests){\n",
    "    if(passwort.anzahlZahlen() != anzahl){\n",
    "        throw AssertionError(\"$passwort.anzahlZahlen(): ${passwort.anzahlZahlen()} != ${anzahl}\")\n",
    "    }\n",
    "}"
   ]
  },
  {
   "cell_type": "code",
   "execution_count": null,
   "id": "2e3d86b4",
   "metadata": {
    "deletable": false,
    "editable": false,
    "nbgrader": {
     "cell_type": "code",
     "checksum": "27cb754e9251d03ef0d40c3f468cb494",
     "grade": true,
     "grade_id": "aufgabe2-test4",
     "locked": true,
     "points": 2,
     "schema_version": 3,
     "solution": false,
     "task": false
    }
   },
   "outputs": [],
   "source": [
    "//Test von anzahlSonderzeichen()\n",
    "val sonderzeichenTests = mapOf(\"\" to 0, \"aaaaa\" to 0, \"a2\" to 0, \"D#\" to 1, \"#1\" to 1, \"aB+\" to 1, \"aaBDA2834\" to 0, \"adhGDUWahduWe\" to 0, \"234#34#123+34Hca\" to 3)\n",
    "for((passwort, anzahl) in sonderzeichenTests){\n",
    "    if(passwort.anzahlSonderzeichen() != anzahl){\n",
    "        throw AssertionError(\"$passwort.anzahlSonderzeichen(): ${passwort.anzahlSonderzeichen()} != ${anzahl}\")\n",
    "    }\n",
    "}"
   ]
  },
  {
   "cell_type": "code",
   "execution_count": null,
   "id": "9e53b5e3",
   "metadata": {
    "deletable": false,
    "editable": false,
    "nbgrader": {
     "cell_type": "code",
     "checksum": "12453baeebe69ea3ffceba291e1ca6fc",
     "grade": true,
     "grade_id": "aufgabe2-test5",
     "locked": true,
     "points": 2,
     "schema_version": 3,
     "solution": false,
     "task": false
    }
   },
   "outputs": [],
   "source": [
    "//Test von anzahlZeichenarten()\n",
    "val zeichenartenTests = mapOf(\"\" to 0, \"aaaaa\" to 1, \"a2\" to 2, \"D#\" to 2, \"#1\" to 2, \"aB+\" to 3, \"aaBDA2834\" to 3, \"adhGDUWahduWe\" to 2, \"234#34#123+34Hca\" to 4)\n",
    "for((passwort, anzahl) in zeichenartenTests){\n",
    "    if(passwort.anzahlZeichenarten() != anzahl){\n",
    "        throw AssertionError(\"$passwort.anzahlZeichenarten(): ${passwort.anzahlZeichenarten()} != ${anzahl}\")\n",
    "    }\n",
    "}"
   ]
  },
  {
   "cell_type": "markdown",
   "id": "alternative-boating",
   "metadata": {
    "deletable": false,
    "editable": false,
    "nbgrader": {
     "cell_type": "markdown",
     "checksum": "74f13309e1acc766f8e2b4322ce11e8c",
     "grade": false,
     "grade_id": "markdown-3",
     "locked": true,
     "schema_version": 3,
     "solution": false,
     "task": false
    }
   },
   "source": [
    "## Passwortstärke  \n",
    "Nun soll die Stärke des Passworts in einem Bereich von 0 - 100 berechnet werden. Die Berechnung ist an [Passwordmeter](http://www.passwordmeter.com/) angelehnt. `size` steht für die Länge des Passworts, während `n` die Anzahl der Zeichen beschreibt, auf die die Eigenschaft zutrifft. Punkte sind folgendermaßen zu vergeben:\n",
    "\n",
    "<table style=\"font-size: 16px; width: 100%; text-align:left !important\">\n",
    "<thead>\n",
    "  <tr>\n",
    "    <th style=\"font-size: 16px\">Eigenschaft</th>\n",
    "    <th style=\"width: 20%; min-width: 100px;font-size: 16px\">Punkte</th>\n",
    "  </tr>\n",
    "</thead>\n",
    "<tbody>\n",
    "  <tr>\n",
    "    <td style=\"font-size: 16px\">Anzahl Zeichen insgesamt</td>\n",
    "    <td style=\"font-size: 16px\">+(n*4)</td>\n",
    "  </tr>\n",
    "  <tr>\n",
    "    <td style=\"font-size: 16px\">Anzahl Großbuchstaben</td>\n",
    "    <td style=\"font-size: 16px\">+((size-n)*2)</td>\n",
    "  </tr>\n",
    "  <tr>\n",
    "    <td style=\"font-size: 16px\">Anzahl Kleinbuchstaben</td>\n",
    "    <td style=\"font-size: 16px\">+((size-n)*2)</td>\n",
    "  </tr>\n",
    "  <tr>\n",
    "    <td style=\"font-size: 16px\">Anzahl Zahlen</td>\n",
    "    <td style=\"font-size: 16px\">+(n*4)</td>\n",
    "  </tr>\n",
    "  <tr>\n",
    "    <td style=\"font-size: 16px\">Anzahl Sonderzeichen</td>\n",
    "    <td style=\"font-size: 16px\">+(n*6)</td>\n",
    "  </tr>\n",
    "  <tr>\n",
    "    <td style=\"font-size: 16px\">Anzahl Zeichenarten (2-4)</td>\n",
    "    <td style=\"font-size: 16px\">+(n*3)</td>\n",
    "  </tr>\n",
    "  <tr>\n",
    "    <td style=\"font-size: 16px\">Nur 1 Zeichenart</td>\n",
    "    <td style=\"font-size: 16px\">-size</td>\n",
    "  </tr>\n",
    "  <tr>\n",
    "      <td style=\"font-size: 16px\">Wiederholende Zeichen (Bsp: \"<b>aaaa</b>\" n=4, \"<b>a</b>C<b>w</b>i3Wf<b>a</b>sd<b>aw</b>\" n=5)</td>\n",
    "    <td style=\"font-size: 16px\">-(n*3)</td>\n",
    "  </tr>\n",
    "</tbody>\n",
    "</table>\n",
    "\n",
    "Implementiere eine Funktion `passwortstaerke`, die das Passwort (als `String`) übergeben bekommt. Zurückgegeben werden soll die Stärke des Passworts, die mit der angegebenen Tabelle berechnet werden soll. Ein sehr sicheres Passwort erhält die Punktzahl 100, ein sehr Unsicheres 0."
   ]
  },
  {
   "cell_type": "code",
   "execution_count": null,
   "id": "broad-adapter",
   "metadata": {
    "deletable": false,
    "execution": {
     "iopub.execute_input": "2021-04-14T13:56+0200",
     "iopub.status.busy": "2021-04-14T13:56+0200",
     "iopub.status.idle": "2021-04-14T13:56+0200",
     "shell.execute_reply": "2021-04-14T13:56+0200"
    },
    "nbgrader": {
     "cell_type": "code",
     "checksum": "8771f2cad6c7d493de69940502ec1dd2",
     "grade": false,
     "grade_id": "aufgabe3-code",
     "locked": false,
     "schema_version": 3,
     "solution": true,
     "task": false
    },
    "tags": []
   },
   "outputs": [],
   "source": [
    "// YOUR CODE HERE"
   ]
  },
  {
   "cell_type": "code",
   "execution_count": null,
   "id": "peripheral-blues",
   "metadata": {
    "deletable": false,
    "editable": false,
    "execution": {
     "iopub.execute_input": "2021-04-14T13:56+0200",
     "iopub.status.busy": "2021-04-14T13:56+0200",
     "iopub.status.idle": "2021-04-14T13:56+0200",
     "shell.execute_reply": "2021-04-14T13:56+0200"
    },
    "nbgrader": {
     "cell_type": "code",
     "checksum": "b5a27337048a7fb44deb90350f06a239",
     "grade": true,
     "grade_id": "aufgabe3-test",
     "locked": true,
     "points": 10,
     "schema_version": 3,
     "solution": false,
     "task": false
    },
    "tags": []
   },
   "outputs": [],
   "source": [
    "//Test von passwortstaerke\n",
    "val passwortTests = mapOf(\"\" to 0, \"aaaaa\" to 3, \"a2\" to 20, \"D#\" to 22, \"jdfVqed&213\" to 98, \"AAAaaa111\" to 54, \"aaBDA2834\" to 81, \"adhGDUWahduWe\" to 60, \"234#34#123+34Hca\" to 100)\n",
    "for((passwort, staerke) in passwortTests){\n",
    "    if(passwortstaerke(passwort) != staerke){\n",
    "        throw AssertionError(\"passwortstaerke($passwort): ${passwortstaerke(passwort)} != $staerke\")\n",
    "    }\n",
    "}"
   ]
  },
  {
   "cell_type": "markdown",
   "id": "competitive-teens",
   "metadata": {
    "deletable": false,
    "editable": false,
    "nbgrader": {
     "cell_type": "markdown",
     "checksum": "b32ea5c5d9c07b35a2add5770c357ec3",
     "grade": false,
     "grade_id": "markdown-4",
     "locked": true,
     "schema_version": 3,
     "solution": false,
     "task": false
    }
   },
   "source": [
    "## Passwortgenerator \n",
    "\n",
    "Unter Verwendung der `passwordstaerke`-Funktion soll nun mit Hilfe der [Brute-Force-Methode](https://de.wikipedia.org/wiki/Brute-Force-Methode) ein Passwort generiert werden. Implementieren Sie dazu eine Funktion `passwortGenerieren`. Die Stärke des generierten Passworts soll eine bestimmte Stärke, die als eine beliebige, ganze Zahl übergeben wird, übersteigen. Wird ein unpassender Parameterwert übergeben, soll die Funktion `-` zurückgeben."
   ]
  },
  {
   "cell_type": "code",
   "execution_count": null,
   "id": "supreme-major",
   "metadata": {
    "deletable": false,
    "execution": {
     "iopub.execute_input": "2021-04-12T11:05+0200",
     "iopub.status.busy": "2021-04-12T11:05+0200",
     "iopub.status.idle": "2021-04-12T11:05+0200",
     "shell.execute_reply": "2021-04-12T11:05+0200",
     "shell.execute_reply.started": "2021-04-12T11:05+0200"
    },
    "nbgrader": {
     "cell_type": "code",
     "checksum": "64df22f6d1aa9eb219af6830fc586117",
     "grade": false,
     "grade_id": "aufgabe4-code",
     "locked": false,
     "schema_version": 3,
     "solution": true,
     "task": false
    },
    "tags": []
   },
   "outputs": [],
   "source": [
    "// YOUR CODE HERE"
   ]
  },
  {
   "cell_type": "code",
   "execution_count": null,
   "id": "requested-hypothesis",
   "metadata": {
    "deletable": false,
    "editable": false,
    "execution": {
     "iopub.execute_input": "2021-04-12T11:05+0200",
     "iopub.status.busy": "2021-04-12T11:05+0200",
     "iopub.status.idle": "2021-04-12T11:05+0200",
     "shell.execute_reply": "2021-04-12T11:05+0200",
     "shell.execute_reply.started": "2021-04-12T11:05+0200"
    },
    "nbgrader": {
     "cell_type": "code",
     "checksum": "ac0b0f2380a6d9839495f86fc47bf8ef",
     "grade": true,
     "grade_id": "aufgabe4-test",
     "locked": true,
     "points": 6,
     "schema_version": 3,
     "solution": false,
     "task": false
    }
   },
   "outputs": [],
   "source": [
    "//Test von passwortGenerieren\n",
    "if(passwortGenerieren(-1) != \"-\")\n",
    "    throw AssertionError(\"passwortGenerieren(-1): ${passwortGenerieren(-1)} != '-'\")\n",
    "if(passwortGenerieren(101) != \"-\")\n",
    "    throw AssertionError(\"passwortGenerieren(101): ${passwortGenerieren(101)} != '-'\")\n",
    "    \n",
    "for (i in 0..100 step 5){\n",
    "    val testPasswort = passwortGenerieren(i)\n",
    "    if (passwortstaerkeTest(testPasswort) < i)\n",
    "        throw AssertionError(\"passwortstaerke($testPasswort): ${passwortstaerke(testPasswort)} < $i\")\n",
    "}\n",
    "for (i in 0..5){\n",
    "    val testPasswort = passwortGenerieren(100)\n",
    "    if (passwortstaerkeTest(testPasswort) < 100)\n",
    "        throw AssertionError(\"passwortstaerke($testPasswort): ${passwortstaerke(testPasswort)} < 100\")\n",
    "}"
   ]
  },
  {
   "cell_type": "markdown",
   "id": "surgical-dylan",
   "metadata": {
    "deletable": false,
    "editable": false,
    "nbgrader": {
     "cell_type": "markdown",
     "checksum": "abeffef5821d54b6a9b8c6247f01b864",
     "grade": false,
     "grade_id": "markdown-5",
     "locked": true,
     "schema_version": 3,
     "solution": false,
     "task": false
    }
   },
   "source": [
    "## Passwortgenerator - Erweitert\n",
    "In dieser letzten Aufgabe soll die Passwortgenerierung erweitert werden. Implementieren Sie eine zusätzliche Funktion `passwortGenerierenErweitert`, der zusätzlich zur Mindeststärke auch die Anzahl der Zeichen jeder Art übergeben werden. Standardmäßig soll die Mindeststärke 75 und die Anzahl an Zeichen jeder Art 0 sein. Die Zeichen sollen an zufälligen Stellen im Passwort zu finden sein. Ist nach 200 Versuchen kein Passwort für die Mindeststärke mit der Kombination an Zeichen möglich, soll `-` ausgegeben werden.  \n",
    "Beispiel:  \n",
    "`passwortGenerierenErweitert(80,3,4,2,1)`: Generiert ein Passwort, das mindestens die Stärke 80, 3 Großbuchstaben, 4 Kleinbuchstaben, 2 Zahlen und 1 Sonderzeichen besitzt.  \n",
    "`passwortGenerierenErweitert(50,5,7)`: Generiert ein Passwort, das mindestens die Stärke 50, 5 Großbuchstaben, 7 Kleinbuchstaben, 0 Zahlen und 0 Sonderzeichen besitzt.  "
   ]
  },
  {
   "cell_type": "code",
   "execution_count": null,
   "id": "inside-discount",
   "metadata": {
    "deletable": false,
    "execution": {
     "iopub.execute_input": "2021-04-12T11:05+0200",
     "iopub.status.busy": "2021-04-12T11:05+0200",
     "iopub.status.idle": "2021-04-12T11:05+0200",
     "shell.execute_reply": "2021-04-12T11:05+0200",
     "shell.execute_reply.started": "2021-04-12T11:05+0200"
    },
    "nbgrader": {
     "cell_type": "code",
     "checksum": "9d6ad0f0b039a43b44090cf96b27a0de",
     "grade": false,
     "grade_id": "aufgabe5-code",
     "locked": false,
     "schema_version": 3,
     "solution": true,
     "task": false
    }
   },
   "outputs": [],
   "source": [
    "// YOUR CODE HERE"
   ]
  },
  {
   "cell_type": "code",
   "execution_count": null,
   "id": "ceramic-cleaning",
   "metadata": {
    "deletable": false,
    "editable": false,
    "execution": {
     "iopub.execute_input": "2021-04-12T11:05+0200",
     "iopub.status.busy": "2021-04-12T11:05+0200",
     "iopub.status.idle": "2021-04-12T11:05+0200",
     "shell.execute_reply": "2021-04-12T11:05+0200",
     "shell.execute_reply.started": "2021-04-12T11:05+0200"
    },
    "nbgrader": {
     "cell_type": "code",
     "checksum": "e1994ef509fc005288dedcfe3142f1bb",
     "grade": true,
     "grade_id": "aufgabe5-test",
     "locked": true,
     "points": 9,
     "schema_version": 3,
     "solution": false,
     "task": false
    }
   },
   "outputs": [],
   "source": [
    "//Test von passwortGenerierenErweitert\n",
    "if(passwortGenerierenErweitert(-1) != \"-\")\n",
    "    throw AssertionError(\"passwortGenerierenErweitert(-1): ${passwortGenerierenErweitert(-1)} != '-'\")\n",
    "if(passwortGenerierenErweitert(101) != \"-\")\n",
    "    throw AssertionError(\"passwortGenerierenErweitert(101): ${passwortGenerierenErweitert(101)} != '-'\")\n",
    "if(passwortGenerierenErweitert(50, -1, 1, 1, 1) != \"-\")\n",
    "    throw AssertionError(\"passwortGenerierenErweitert(50, -1, 1, 1, 1): ${passwortGenerierenErweitert(50, -1, 1, 1, 1)} != '-'\")\n",
    "if(passwortGenerierenErweitert(50, 1, -1, 1, 1) != \"-\")\n",
    "    throw AssertionError(\"passwortGenerierenErweitert(50, 1, -1, 1, 1): ${passwortGenerierenErweitert(50, 1, -1, 1, 1)} != '-'\")\n",
    "if(passwortGenerierenErweitert(50, 1, 1, -1, 1) != \"-\")\n",
    "    throw AssertionError(\"passwortGenerierenErweitert(50, 1, 1, -1, 1): ${passwortGenerierenErweitert(50, 1, 1, -1, 1)} != '-'\")\n",
    "if(passwortGenerierenErweitert(50, 1, 1, 1, -1) != \"-\")\n",
    "    throw AssertionError(\"passwortGenerierenErweitert(50, 1, 1, 1, -1): ${passwortGenerierenErweitert(50, 1, 1, 1, -1)} != '-'\")\n",
    "\n",
    "for(i in 0..49){\n",
    "    val staerke = (0..100).random()\n",
    "    val gross = (0..6).random()\n",
    "    val klein = (0..6).random()\n",
    "    val zahlen = (0..6).random()\n",
    "    val sonder = (0..6).random()\n",
    "    val testPasswort = passwortGenerierenErweitert(staerke, gross, klein, zahlen, sonder)\n",
    "    if (\n",
    "        (testPasswort.anzahlGrossbuchstaben() != gross || testPasswort.anzahlKleinbuchstaben() != klein ||\n",
    "        testPasswort.anzahlZahlen() != zahlen || testPasswort.anzahlSonderzeichen() != sonder ||\n",
    "        passwortstaerke(testPasswort) < staerke) && testPasswort != \"-\"\n",
    "    )\n",
    "        throw AssertionError(\"passwortstaerke($testPasswort): ${passwortstaerke(testPasswort)} < $staerke, $testPasswort.anzahlGrossbuchstaben(): ${testPasswort.anzahlGrossbuchstaben()} != $gross, $testPasswort.anzahlKleinbuchstaben(): ${testPasswort.anzahlKleinbuchstaben()} != $klein, $testPasswort.anzahlZahlen(): ${testPasswort.anzahlZahlen()} != $zahlen, $testPasswort.anzahlSonderzeichen(): ${testPasswort.anzahlSonderzeichen()} != $sonder\")\n",
    "}\n",
    "\n",
    "for(i in 0..4){\n",
    "    val staerke = 100\n",
    "    val gross = (0..6).random()\n",
    "    val klein = (0..6).random()\n",
    "    val zahlen = (0..6).random()\n",
    "    val sonder = (0..6).random()\n",
    "    val testPasswort = passwortGenerierenErweitert(staerke, gross, klein, zahlen, sonder)\n",
    "    if (\n",
    "        (testPasswort.anzahlGrossbuchstaben() != gross || testPasswort.anzahlKleinbuchstaben() != klein ||\n",
    "        testPasswort.anzahlZahlen() != zahlen || testPasswort.anzahlSonderzeichen() != sonder ||\n",
    "        passwortstaerke(testPasswort) < staerke) && testPasswort != \"-\"\n",
    "    )\n",
    "        throw AssertionError(\"passwortstaerke($testPasswort): ${passwortstaerke(testPasswort)} < $staerke, $testPasswort.anzahlGrossbuchstaben(): ${testPasswort.anzahlGrossbuchstaben()} != $gross, $testPasswort.anzahlKleinbuchstaben(): ${testPasswort.anzahlKleinbuchstaben()} != $klein, $testPasswort.anzahlZahlen(): ${testPasswort.anzahlZahlen()} != $zahlen, $testPasswort.anzahlSonderzeichen(): ${testPasswort.anzahlSonderzeichen()} != $sonder\")\n",
    "}\n",
    "\n",
    "val testPasswort = passwortGenerierenErweitert(10, 5, 2)\n",
    "if (\n",
    "    (testPasswort.anzahlGrossbuchstaben() != 5 || testPasswort.anzahlKleinbuchstaben() != 2 ||\n",
    "    testPasswort.anzahlZahlen() != 0 || testPasswort.anzahlSonderzeichen() != 0 ||\n",
    "    passwortstaerke(testPasswort) < 10) && testPasswort != \"-\"\n",
    ")\n",
    "    throw AssertionError(\"passwortstaerke($testPasswort): ${passwortstaerke(testPasswort)} < 10, $testPasswort.anzahlGrossbuchstaben(): ${testPasswort.anzahlGrossbuchstaben()} != 5, $testPasswort.anzahlKleinbuchstaben(): ${testPasswort.anzahlKleinbuchstaben()} != 2, $testPasswort.anzahlZahlen(): ${testPasswort.anzahlZahlen()} != 0, $testPasswort.anzahlSonderzeichen(): ${testPasswort.anzahlSonderzeichen()} != 0\")"
   ]
  }
 ],
 "metadata": {
  "kernelspec": {
   "display_name": "Kotlin",
   "language": "kotlin",
   "name": "kotlin"
  },
  "language_info": {
   "codemirror_mode": "text/x-kotlin",
   "file_extension": ".kt",
   "mimetype": "text/x-kotlin",
   "name": "kotlin",
   "nbconvert_exporter": "",
   "pygments_lexer": "kotlin",
   "version": "1.5.20-dev-5817"
  }
 },
 "nbformat": 4,
 "nbformat_minor": 5
}
