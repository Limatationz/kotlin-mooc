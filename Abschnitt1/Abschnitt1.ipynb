{
 "cells": [
  {
   "cell_type": "markdown",
   "id": "1ed92fbb",
   "metadata": {},
   "source": [
    "<img src=\"images/Abschnitt1.png\" style=\"margin-left: auto; margin-right: auto; display: block; margin-bottom: 20px\"/>\n",
    "<h1 style=\"display:none\">Abschnitt 1 - Grundlagen</h1>\n",
    "\n",
    "<img src=\"images/Einführung.png\" style=\"margin: 20px auto 10px 0px\"/>\n",
    "<h2 style=\"display:none\">Einführung</h2>\n",
    "<p>Kotlin ist eine junge, Open-Source und auf der Java Virtual Machine (JVM) basierende Programmiersprache, die 2011 von <a href=\"https://www.jetbrains.com/de-de/\" target=\"_blank\">JetBrains</a>, dem Entwickler von u.a. IntelliJ oder Pycharm, das erste Mal vorgestellt wurde. Die Version 1.0 wurde 2016 veröffentlicht. Seitdem entwickelten JetBrains und Open-Source-Entwickler:innen die statisch typisierte Programmiersprache weiter. Im Mai 2021 stellten sie die Version 1.5.0 vor, die die Grundlage für diesen Kurs darstellt. Anwendung findet Kotlin vor Allem in der Appentwicklung von Android Apps. 2017 verkündete Google, dass sie die dritte Programmiersprache für ihr Android-Umfeld wird. 2019 beförderten sie Kotlin sogar zu der empfohlenen Programmiersprache. Ein weiterer, wachsender Anwendungssektor ist die Backend-Programmierung.</p>\n",
    "<p>Das Ziel der Schöpfer:innen war, eine moderne, sichere, schnelle und prägnante Programmiersprache zu entwickeln. Dies ist ihnen auch gelungen. Die Syntax wurde im Vergleich zu Java vereinfacht und durch den schnellen Compiler wird viel Arbeit abgenommen. Mit der Einführung von <i>nullable</i> und <i>non-nullable</i> Variablen sollen außerdem die berühmten, aus Java bekannten, <i>NullPointerExceptions</i> aus dem Programmieralltag verbannt werden. Durch die Interoperabilität mit Java, indem der Code im Hintergrund in Java-Bytecode umgewandelt und mit der JVM ausgeführt wird, können die bereits vorhanden Java-Bibliotheken ohne Probleme verwendet werden. Ein weiterer Vorteil ist auch die Möglichkeit der Umwandlung in JavaScript-Quelltext und somit spielt sie auch in der Frontend-Entwicklung eine Rolle.</p>\n",
    "<p>In diesem Ersten von fünf Abschnitten sollen die Grundlagen der Programmiersprache erlernt werden, sodass in den nächsten Schritten die funktionale und objektorientierte Programmierung sowie die Appentwicklung näher beleuchtet werden kann. Hin und wieder wird zudem der Vergleich mit Java gezogen, um die Gemeinsamkeiten und Unterschiede der beiden Sprachen hervorzuheben.</p>\n",
    "\n",
    "<img src=\"images/Gliederung.png\" style=\"margin: 20px auto 10px 0px\"/>\n",
    "<h3 style=\"display:none\">Gliederung</h3>\n",
    "Dieser Abschnitt ist folgendermaßen strukturiert:\n",
    "<ol>\n",
    "    <li>Hello World</li>\n",
    "    <li>Variablen</li>\n",
    "    <li>Funktionen</li>\n",
    "    <li>Kontrollstrukturen</li>\n",
    "    <li>Weitere Funktionstypen</li>\n",
    "    <li>Datenstrukturen</li>\n",
    "</ol>\n",
    "\n",
    "<img src=\"images/Lernziele.png\" style=\"margin: 20px auto 10px 0px\"/>\n",
    "<h3 style=\"display:none\">Lernziele</h3>\n",
    "Nach diesem Abschnitt sollen Sie in der Lage sein:\n",
    "<ul>\n",
    "    <li>grundlegende Funktionen mit Variablen und Kontrollstrukturen zu implementieren.</li>\n",
    "    <li>die verschiedenen Möglichkeiten der Implementierung einer Funktion, sowie die Definition von Parametern und des Rückgabetyps, zu veranschaulichen.</li>\n",
    "    <li>die Datenstrukturen Pair, Array, Liste, Map und Set zu verwenden.</li>\n",
    "    <li>die gelernten Konzepte zwischen Kotlin und Java zu vergleichen.</li>\n",
    "    <li>einen einfachen Java-Code nach Kotlin umzuwandeln.</li>\n",
    "</ul>  \n",
    "<img src=\"images/Literatur.png\" style=\"margin: 20px auto 10px 0px\"/>\n",
    "<h3 style=\"display:none\">Literatur</h3>\n",
    "<p>Folgende Literatur kann in diesem Abschnitt zur Vertiefung herangezogen werden:<p>\n",
    "<ul>\n",
    "    <li>M. Kofler, Kotlin: das umfassende Handbuch. 2021.</li>\n",
    "    <li>D. Griffiths und D. Griffiths, Kotlin von Kopf bis Fuß. 2019.</li>\n",
    "    <li>D. Jemerov und S. Isakova, Kotlin in action. 2017.</li>\n",
    "    <li>C. Kohls, A. Dobrynin, und F. Leonhard, Programmieren lernen mit Kotlin Grundlagen, Objektorientierung und fortgeschrittene Konzepte. 2020.</li>\n",
    "</ul>  "
   ]
  },
  {
   "cell_type": "markdown",
   "id": "724a50ae",
   "metadata": {
    "tags": []
   },
   "source": [
    "<img src=\"images/Lektion1.png\" style=\"margin: 20px auto 0px 0px\"/>\n",
    "<h2 style=\"display:none\">Lektion 1 - Hello World</h2>\n",
    "\n",
    "### Grundgerüst\n",
    "<p>\n",
    "Der Start des Erlernens einer neuen Programmiersprache ist traditionell ein \"Hello World\"-Programm. Dessen Ziel ist es den <code>String</code> <i>Hello World</i> in der Konsole auszugeben. Die Umsetzung in Java sollte keine Probleme bereiten. Neben dieser ist der zugehörige Code in Kotlin zu finden:</p>\n",
    "<div style=\"float: left; width: 50%\">\n",
    "    <pre lang=\"java\">\n",
    "//Java\n",
    "public class Main{\n",
    "    public static void main(String[] args){\n",
    "        System.out.println(\"Hello World Java.\")\n",
    "    }\n",
    "}\n",
    "</pre>\n",
    "</div>\n",
    "<div style=\"float: left; width: 50%\">\n",
    "<pre lang=\"kotlin\">\n",
    "//Kotlin\n",
    "fun main(){\n",
    "    println(\"Hello World Kotlin.\")\n",
    "}\n",
    "</pre>\n",
    "</div>\n",
    "<div style=\"clear:both\" />\n",
    "<br />\n",
    "<p>Im direkten Vergleich sind einige Unterschiede festzustellen:</p>\n",
    "<ul>    \n",
    "    <li>Klasse: In Kotlin wird nicht immer eine ummantelnde Klasse benötigt, um eine Funktion auszuführen. Diese können auf der höchste Ebene (top-level) deklariert und aufgerufen werden.</li>\n",
    "    <li>Funktionssyntax: Funktionen werden mit dem Schlüsselbegriff <code>fun</code> gekennzeichnet. Falls die Funktion keinen Rückgabetyp (in Java gekennzeichnet durch <code>void</code>) besitzt, wird die explizite Angabe weggelassen.</li>\n",
    "    <li>Hauptprogramm: Das Argument der <code>main</code>-Funktion (in Java <code>String[] args</code>) muss nicht übergeben werden und wird, falls es nicht existiert, vom Compiler im Hintergrund ergänzt.</li>\n",
    "    <li>Konsolenausgabe: Die Bibliotheksfunktion <code>println()</code> befindet sich in der Standardbibliothek von Kotlin und kann dadurch direkt aufgerufen werden.</li>\n",
    "</ul>   \n",
    "\n",
    "<p>Eine Funktion kann, wie in Java, mit ihrem Namen aufgerufen werden:</p>"
   ]
  },
  {
   "cell_type": "code",
   "execution_count": 1,
   "id": "a6e54b56",
   "metadata": {
    "tags": [
     "hide-input"
    ]
   },
   "outputs": [],
   "source": [
    "fun main(){\n",
    "    println(\"Hello World Kotlin.\")\n",
    "}"
   ]
  },
  {
   "cell_type": "code",
   "execution_count": 2,
   "id": "86f353ff",
   "metadata": {},
   "outputs": [
    {
     "name": "stdout",
     "output_type": "stream",
     "text": [
      "Hello World Kotlin.\n"
     ]
    }
   ],
   "source": [
    "main()"
   ]
  },
  {
   "cell_type": "markdown",
   "id": "294c1b2e",
   "metadata": {},
   "source": [
    "Der Kotlin Compiler in Jupyter Notebooks ermöglicht es, Code in eine zugehörige Zelle zu schreiben, ohne eine ummantelnde Funktion zu deklarieren. Im Hintergrund wird dies hinzugefügt und bei Ausführung der Zelle die generierte Funktion berechnet. Außerdem können in einer Zelle alle Funktionen oder auch Klassen von vorher kompilierten (in der Regel höher angesiedelten) Codezellen verwendet werden. Ein Notebook kann somit als eine Art *zerstückelte Kotlin-Datei* angesehen werden. "
   ]
  },
  {
   "cell_type": "code",
   "execution_count": 3,
   "id": "b1edd900",
   "metadata": {},
   "outputs": [
    {
     "name": "stdout",
     "output_type": "stream",
     "text": [
      "Hello World Kotlin.\n"
     ]
    }
   ],
   "source": [
    "println(\"Hello World Kotlin.\")"
   ]
  },
  {
   "cell_type": "markdown",
   "id": "126cadcc",
   "metadata": {
    "tags": []
   },
   "source": [
    "### Erweiterung\n",
    "Das \"Hello World\"-Programm soll nun so erweitert werden, dass die Ausgabe variabel gestaltet werden kann. Dafür wird dem *Hello World*-String eine Variable angehängt."
   ]
  },
  {
   "cell_type": "code",
   "execution_count": 62,
   "id": "c2b77091",
   "metadata": {
    "tags": []
   },
   "outputs": [
    {
     "name": "stdout",
     "output_type": "stream",
     "text": [
      "Hello World Kotlin.\n"
     ]
    }
   ],
   "source": [
    "fun main(){\n",
    "    val sprache : String = \"Kotlin\"\n",
    "    println(\"Hello World $sprache.\")\n",
    "}\n",
    "main()"
   ]
  },
  {
   "cell_type": "markdown",
   "id": "abb50d57",
   "metadata": {
    "tags": []
   },
   "source": [
    "Bezüglich des Funktionskopfs und -aufrufs sind keine Unterschiede zu erkennen.  \n",
    "In der Funktion hingegen wurde eine neue Variable `sprache` des Datentyps `String` deklariert und dieser direkt der Wert `Kotlin` zugewiesen. Das hier verwendete Stichwort zur Deklaration der Variable ist `val` (näheres dazu in [Lektion 2](#Lektion-2---Variablen)). Der Datentyp der Variable wird hinter dem Namen mit `:` getrennt angegeben. Eine weitere Auffälligkeit ist das Fehlen von `;` nach jeder Anweisung. Dieses wird in Kotlin nur noch benutzt, wenn mehrere Anweisungen in eine Zeile geschrieben werden.\n",
    "Ein weiterer Unterschied zwischen Kotlin und Java ist die Verwendung von Variablen in Strings. Die folgenden Beispiele haben alle als Resultat den String *Hello World sprache*, wobei `sprache` eine Variable darstellt.\n",
    "\n",
    "<table style=\"font-size: 16px\">\n",
    "    <tr>\n",
    "        <th>Java</th>\n",
    "        <th>Kotlin</th>\n",
    "    </tr>\n",
    "    <tr style=\"font-size: 16px\">\n",
    "        <td style=\"font-size: 16px\">\"Hello World\" + sprache</td>\n",
    "        <td style=\"font-size: 16px\">\"Hello World &#36;sprache\"</td>\n",
    "    </tr>\n",
    "    <tr style=\"font-size: 16px\">\n",
    "        <td style=\"font-size: 16px\">String.format(\"Hello World %s\", sprache)</td>\n",
    "        <td></td>\n",
    "    </tr>\n",
    "</table>\n",
    "\n",
    "Während in Java die Variablen mit `+` oder `String.format()` in einen String eingegliedert beziehungsweise angehängt werden, erfolgt die Integrierung direkt in einen String mit `$`. Soll anstelle einer Variable eine Anweisung eingefügt werden, ist zusätzlich eine Umrahmung mit geschweiften Klammern notwendig."
   ]
  },
  {
   "cell_type": "code",
   "execution_count": 64,
   "id": "d014d002",
   "metadata": {
    "tags": []
   },
   "outputs": [
    {
     "name": "stdout",
     "output_type": "stream",
     "text": [
      "Hello World KOTLIN.toLowerCase()\n",
      "Hello World kotlin\n"
     ]
    }
   ],
   "source": [
    "fun main(){\n",
    "    val sprache : String = \"KOTLIN\"\n",
    "    println(\"Hello World $sprache.toLowerCase()\") //Falsch\n",
    "    println(\"Hello World ${sprache.toLowerCase()}\") //Richtig\n",
    "}\n",
    "main()"
   ]
  },
  {
   "cell_type": "markdown",
   "id": "32731f0e",
   "metadata": {},
   "source": [
    "<img src=\"images/Lektion2.png\" style=\"margin: 20px auto 20px 0px\"/>\n",
    "<h2 style=\"display:none\">Lektion 2 - Variablen</h2>\n",
    "\n",
    "Diese Lektion behandelt Variablen, Datentypen und Vergleiche.\n",
    "### Variablen\n",
    "Variablen lassen sich in Kotlin in 2 Typen untergliedern: \n",
    "<div><img title=\"Variablen\" alt=\"Variablen\" src=\"images/variablen.png\" style=\"margin-left: 10px; float: right\">\n",
    "    <ul>\n",
    "        <li> <code>val</code> (value): Beschreibt eine Variable mit <b>lesendem</b> Zugriff. Bei Deklarierung wird ihr direkt ein Wert zugewiesen, der danach nicht mehr verändert werden kann. Eine <code>val</code>-Variable in Kotlin ist mit einer <code>final</code>-Variable in Java zu vergleichen.</li>\n",
    "        <li> <code>var</code> (variable): Beschreibt eine Variable mit <b>lesenden</b> und <b>schreibenden</b> Zugriff. Eine Veränderung des Wertes ist beliebig oft möglich. Außerdem muss dieser nicht direkt bei Deklarierung gesetzt werden. Eine `var`-Variable entspricht einer normalen Variable in Java.</li>\n",
    "    </ul>\n",
    "</div>\n",
    "Ein Beispiel:"
   ]
  },
  {
   "cell_type": "code",
   "execution_count": 129,
   "id": "6c99c53d",
   "metadata": {},
   "outputs": [
    {
     "name": "stdout",
     "output_type": "stream",
     "text": [
      "v1: schreibgeschützte Variable\n",
      "v2: veränderte Variable\n"
     ]
    }
   ],
   "source": [
    "val v1 : String = \"schreibgeschützte Variable\"\n",
    "//v1 = \"Test\"   //Fehler: Val cannot be reassigned\n",
    "var v2 : String = \"veränderbare Variable\"\n",
    "v2 = \"veränderte Variable\"\n",
    "println(\"v1: $v1\")\n",
    "println(\"v2: $v2\")"
   ]
  },
  {
   "cell_type": "markdown",
   "id": "9ddea6a5",
   "metadata": {},
   "source": [
    "Die Untergliederung der Variablen in `val` und `var` hat den Hintergrund, dass der funktionale Programmierstil, welcher einfacher zu verstehen ist, gefördert werden soll. Außerdem wird der Code dadurch verständlicher werden. Aufgrund dieser Unterscheidung steht es bei Deklarierung einer Variable fest, ob sie verändert wird oder nicht.  \n",
    "**Allgemein gilt der Grundsatz: `val` vor `var`.**\n",
    "\n",
    "Einige Konzepte werden mit Hilfe von Produktionsregeln unter Verwendung der [erweiterte Backus-Naur-Form](https://de.wikipedia.org/wiki/Erweiterte_Backus-Naur-Form) mit Fokussierung auf die wichtigen Regeln dargestellt.  \n",
    "Die Syntax einer zu initialisierenden Variable sieht folgendermaßen aus:\n",
    ">Variable -> ( \"var\" | \"val\" ) name \":\" Datentyp \"=\" Wert.\n",
    "\n",
    "Eine weitere Besonderheit bei Variablen ist der Umgang mit `null`. Variablen, die mit der eben kennengelernten Syntax initialisiert und deklariert werden, können nicht den Wert `null` annehmen. Genaueres dazu in Abschnitt 2."
   ]
  },
  {
   "cell_type": "code",
   "execution_count": 130,
   "id": "f78a5fa6",
   "metadata": {},
   "outputs": [
    {
     "name": "stderr",
     "output_type": "stream",
     "text": [
      "Line_132.jupyter-kts (1:23 - 27) Null can not be a value of a non-null type Int"
     ]
    }
   ],
   "source": [
    "val test_null : Int = null"
   ]
  },
  {
   "cell_type": "markdown",
   "id": "552122e7",
   "metadata": {},
   "source": [
    "### Kostanten\n",
    "Konstanten sind Variablen der Kategorie `val`, denen das Schlüsselwort `const` vorangestellt wird. Sie dürfen nur auf der Top-Level-Ebene oder in Objekten (näheres dazu in Abschnitt 3) deklariert werden:\n",
    "```kotlin \n",
    "const val constant : Int = 24\n",
    "```\n",
    "\n",
    "Somit kann die Syntax von Variablen erweitert werden:<br />\n",
    ">Variable -> ( <span style=\"color: blue\">(</span> [\"const\"] \"val\" <span style=\"color: blue\">)</span> | \"var\" )  name \":\" Datentyp \"=\" Wert.\n",
    "\n",
    "Auf den ersten Blick scheint eine schreibgeschützte Variable und eine Konstante den gleichen Nutzen haben: Einen unveränderlichen Wert speichern und zur Verfügung stellen. Im Grunde ist das richtig, jedoch gibt es einen großen Unterschied. Während `val`-Variablen als sogenannte *runtime constants* angesehen werden, sind Konstanten *compile-time constants*. Praktisch bedeutet das, dass eine Konstante immer den bei der Kompilierung zugewiesenen Wert besitzt, während eine schreibgeschützte Variable bei jedem Ausführen einen unterschiedlichen, aber unveränderlichen Wert annehmen kann."
   ]
  },
  {
   "cell_type": "code",
   "execution_count": 69,
   "id": "38fa7321",
   "metadata": {},
   "outputs": [
    {
     "name": "stderr",
     "output_type": "stream",
     "text": [
      "Line_68.jupyter-kts (4:1 - 6) Const 'val' are only allowed on top level or in objects"
     ]
    }
   ],
   "source": [
    "val value : Int = foo()\n",
    "\n",
    "//const val constant : Int = foo()   -> Error\n",
    "const val constant : Int = 5       //-> Kein Error\n",
    "\n",
    "fun foo() : Int { //Gibt eine zufällige ganze Zahl zwischen 0 und 10 zurück\n",
    "    return (0..10).random()\n",
    "}\n",
    "\n",
    "fun main(){\n",
    "    println(\"schreibgeschützte Variable: $value\")\n",
    "    println(\"Konstante: $constant\")\n",
    "}"
   ]
  },
  {
   "cell_type": "markdown",
   "id": "657bef61",
   "metadata": {},
   "source": [
    "<div class=\"alert alert-block alert-warning\">\n",
    "Da jede Zelle im Hintergrund als Bestandteil eines Hauptprogramms angesehen wird, können in Jupyter Notebooks keine Konstanten verwendet werden. Im <a href=\"https://pl.kotl.in/ktsQ83HNw\">Kotlin Playground</a> kann das Beispiel aber ausgeführt werden.\n",
    "</div>"
   ]
  },
  {
   "cell_type": "markdown",
   "id": "f05d2398",
   "metadata": {},
   "source": [
    "### Datentypen\n",
    "Kotlin ist, wie Java, eine statisch typisierte Programmiersprache. Das bedeutet, dass jede Variable, jeder Ausdruck einen statischen Typ besitzt, der bei Deklarierung festgelegt wird und bei Kompilierung erkennbar sein muss. Dies kann entweder explizit durch eine Datentypzuweisung oder implizit durch eine direkte aussagekräftige Initialisierung erfolgen. In diesem Fall wird der Variablen vom Compiler ein, zum Wert passender, Datentyp zugewiesen."
   ]
  },
  {
   "cell_type": "code",
   "execution_count": 77,
   "id": "55c30128",
   "metadata": {},
   "outputs": [
    {
     "name": "stdout",
     "output_type": "stream",
     "text": [
      "Datentyp von int1: Int, Datentyp von int2: Int\n",
      "Datentyp von string1: String, Datentyp von string2: String\n",
      "Anweisung1\n",
      "Anweisung2\n",
      "Datentyp von anweisung1: Unit, Datentyp von anweisung2: Unit\n"
     ]
    }
   ],
   "source": [
    "val int1 : Int = 5 //explizite Zuweisung\n",
    "val int2 = 5 //implizierte Zuweisung\n",
    "println(\"Datentyp von int1: ${int1::class.simpleName}, Datentyp von int2: ${int2::class.simpleName}\")\n",
    "\n",
    "val string1 : String = \"String 1\"\n",
    "val string2 = \"String 2\"\n",
    "println(\"Datentyp von string1: ${string1::class.simpleName}, Datentyp von string2: ${string2::class.simpleName}\") \n",
    "\n",
    "val anweisung1 : Unit = println(\"Anweisung1\")\n",
    "val anweisung2 = println(\"Anweisung2\")\n",
    "println(\"Datentyp von anweisung1: ${anweisung1::class.simpleName}, Datentyp von anweisung2: ${anweisung2::class.simpleName}\")"
   ]
  },
  {
   "cell_type": "markdown",
   "id": "e8842fb5",
   "metadata": {},
   "source": [
    "Mit diesem Wissen kann die bisher kennengelernte Syntax von Variablen vervollständigt werden:  \n",
    ">Variable -> \"var\" name \":\" Datentyp.  \n",
    "Variable -> [const] (\"var\"|\"val\") name [\":\" Datentyp] \"=\" Wert.\n",
    "\n",
    "Kotlin stellt die bereits aus Java bekannten Datentypen in der Standardbibliothek bereit. Da nicht mehr zwischen Elementaren und Komplexen unterschieden wird, werden alle groß geschrieben. Ein Überlick über die wichtigsten Datentypen im Vergleich mit Java:\n",
    "\n",
    "<table style=\"font-size:16px\">\n",
    "<thead>\n",
    "  <tr>\n",
    "    <th style=\"font-size:16px\">Kotlin</th>\n",
    "    <th style=\"font-size:16px\">Werte</th>\n",
    "    <th style=\"font-size:16px\">Java</th>\n",
    "  </tr>\n",
    "</thead>\n",
    "<tbody>\n",
    "  <tr>\n",
    "    <td style=\"font-size:16px\">Byte</td>\n",
    "    <td style=\"font-size:16px\">-128 bis 127</td>\n",
    "    <td style=\"font-size:16px\">byte</td>\n",
    "  </tr>\n",
    "  <tr>\n",
    "    <td style=\"font-size:16px\">Short</td>\n",
    "    <td style=\"font-size:16px\">-32768 bis 32767</td>\n",
    "    <td style=\"font-size:16px\">short</td>\n",
    "  </tr>\n",
    "  <tr>\n",
    "    <td style=\"font-size:16px\">Int</td>\n",
    "    <td style=\"font-size:16px\">-2.147.483.648 bis 2.147.483.647</td>\n",
    "    <td style=\"font-size:16px\">int</td>\n",
    "  </tr>\n",
    "  <tr>\n",
    "    <td style=\"font-size:16px\">Long</td>\n",
    "    <td style=\"font-size:16px\">-9.223.372.036.854.775.808 bis 9.223.372.036.854.775.808</td>\n",
    "    <td style=\"font-size:16px\">long</td>\n",
    "  </tr>\n",
    "  <tr>\n",
    "    <td style=\"font-size:16px\">Float</td>\n",
    "    <td style=\"font-size:16px\">6 bis 7 Dezimalstellen</td>\n",
    "    <td style=\"font-size:16px\">float</td>\n",
    "  </tr>\n",
    "  <tr>\n",
    "    <td style=\"font-size:16px\">Double</td>\n",
    "    <td style=\"font-size:16px\">15 bis 16 Dezimalstellen</td>\n",
    "    <td style=\"font-size:16px\">double</td>\n",
    "  </tr>\n",
    "  <tr>\n",
    "    <td style=\"font-size:16px\">Boolean</td>\n",
    "    <td style=\"font-size:16px\"><code>true</code> oder <code>false</code></td>\n",
    "    <td style=\"font-size:16px\">boolean</td>\n",
    "  </tr>\n",
    "  <tr>\n",
    "    <td style=\"font-size:16px\">Char</td>\n",
    "    <td style=\"font-size:16px\">16-Bit-Unicode-Zeichen</td>\n",
    "    <td style=\"font-size:16px\">char</td>\n",
    "  </tr>\n",
    "  <tr>\n",
    "    <td style=\"font-size:16px\">String</td>\n",
    "    <td style=\"font-size:16px\">Folge von Zeichen</td>\n",
    "    <td style=\"font-size:16px\">String</td>\n",
    "  </tr>\n",
    "</tbody>\n",
    "</table>\n",
    "<p><img title=\"Typhierarchie\" alt=\"Typhierarchie\" src=\"images/typhierarchie.png\" style=\"float:right;margin-left:10px\">\n",
    "Eine Folge von der Änderung, dass alle Datentypen durch eine Klasse repräsentiert werden, ist, dass eine Typhierarchie aufgebaut werden kann. Dazu müssen aber zunächst zwei neue Datentypen eingeführt werden: <code>Any</code> und <code>Nothing</code>. Sie beschreiben das <i>Minimum</i> und <i>Maximum</i>.<code>Any</code> ist der allgemeinste Datentyp und die Super-Klasse aller anderen Typen. <code>Nothing</code> hingegen ist der Kleinste und die Sub-Klasse aller anderen Typen.\n",
    "</p>\n",
    "<br>\n",
    "<h3>Vergleiche</h3>\n",
    "\n",
    "Vergleiche sind in Kotlin einfacher und intuitiver als in Java. Der Grund dafür ist wieder, dass es keine elementaren Datentypen mehr gibt. Alle von Kotlin bereitgestellten Datentypen implementieren das `Comparable`-Interface und können somit mit `compareTo()` verglichen werden. Jedoch muss nicht die Funktion zum Vergleichen aufrufen, sondern es reichen die bekannten Vergleichszeichen aus. Mit `==` wird der Inhalt der Variable verglichen und nicht wie in Java die Referenz. Für einen solchen Vergleich wurde in Kotlin das Zeichen `===` eingeführt. `<`und `>` entsprechen dem Rückgabewert `-1` beziehungsweise `1` von `compareTo()`."
   ]
  },
  {
   "cell_type": "code",
   "execution_count": 80,
   "id": "153cc281",
   "metadata": {},
   "outputs": [
    {
     "name": "stdout",
     "output_type": "stream",
     "text": [
      "Verglichen wird: a: [1, 2, 3], b: [1, 2, 3]\n",
      "vergleicheInhalt: Gleich\n",
      "vergleicheReferenz: Ungleich\n"
     ]
    }
   ],
   "source": [
    "fun vergleicheInhalt(a: List<Int>, b: List<Int>){\n",
    "    if (a == b) println(\"vergleicheInhalt: Gleich\")\n",
    "    else println(\"vergleicheInhalt: Ungleich\")\n",
    "}\n",
    "\n",
    "fun vergleicheReferenz(a: List<Int>, b: List<Int>){\n",
    "    if (a === b) println(\"vergleicheReferenz: Gleich\")\n",
    "    else println(\"vergleicheReferenz: Ungleich\")\n",
    "}\n",
    "\n",
    "\n",
    "val a = listOf(1,2,3)\n",
    "val b = listOf(1,2,3)\n",
    "println(\"Verglichen wird: a: $a, b: $b\")\n",
    "vergleicheInhalt(a, b)\n",
    "vergleicheReferenz(a, b)"
   ]
  },
  {
   "cell_type": "code",
   "execution_count": 81,
   "id": "bf9d7af5",
   "metadata": {},
   "outputs": [
    {
     "name": "stdout",
     "output_type": "stream",
     "text": [
      "vergleicheStrings: Kotlin > Java. Ergebnis von compareTo(): 1. \n",
      "vergleicheStrings: Java < Kotlin. Ergebnis von compareTo(): -1. \n"
     ]
    }
   ],
   "source": [
    "fun vergleicheStrings(a: String, b: String){\n",
    "    if (a == b) print(\"vergleicheStrings: $a == $b\")\n",
    "    else if (a < b) print(\"vergleicheStrings: $a < $b\" )\n",
    "    else print(\"vergleicheStrings: $a > $b\" )\n",
    "    print(\". Ergebnis von compareTo(): ${a.compareTo(b)}. \\n\")\n",
    "}\n",
    "\n",
    "val a = \"Kotlin\"\n",
    "val b = \"Java\"\n",
    "vergleicheStrings(a,b)\n",
    "vergleicheStrings(b,a)"
   ]
  },
  {
   "cell_type": "markdown",
   "id": "f9e2847e",
   "metadata": {},
   "source": [
    "### Typumwandlung\n",
    "Datentypen können mit dem Schlüsselwort `as` umgewandelt werden. Dabei ist zu beachten, dass der Wert der Variable bereits mit den neuen Datentyp kompatibel sein muss. Deswegen wird eine vorherige Prüfung mit `is` (in Java `instanceof`) empfohlen. Eine Umwandlung von `Int` zu `Float` ist folglich nicht möglich. In diesem Fall würde die Funktion `toFloat()` Anwendung finden. Umwandlungen in andere Datentypen erfolgen analog."
   ]
  },
  {
   "cell_type": "code",
   "execution_count": 82,
   "id": "caeda8c3",
   "metadata": {},
   "outputs": [
    {
     "name": "stdout",
     "output_type": "stream",
     "text": [
      "Datentyp von v1: Double\n",
      "Datentyp von int: Int\n",
      "Datentyp von float: Float\n"
     ]
    }
   ],
   "source": [
    "val any: Any = 10.0\n",
    "if (any is String){\n",
    "    val v1 = any as String\n",
    "    println(\"Datentyp von v1: ${v1::class.simpleName}\")\n",
    "}\n",
    "if (any is Int){\n",
    "    val v1 = any as Int\n",
    "    println(\"Datentyp von v1: ${v1::class.simpleName}\")\n",
    "}\n",
    "if (any is Double){\n",
    "    val v1 = any as Double\n",
    "    println(\"Datentyp von v1: ${v1::class.simpleName}\")\n",
    "}\n",
    "\n",
    "val int: Int = 10\n",
    "println(\"Datentyp von int: ${int::class.simpleName}\")\n",
    "val float: Float = int.toFloat()\n",
    "println(\"Datentyp von float: ${float::class.simpleName}\")"
   ]
  },
  {
   "cell_type": "markdown",
   "id": "6a48b6ec",
   "metadata": {},
   "source": [
    "Die Typumwandlung mit `as` kann aber auch noch vereinfacht werden. Da nach einer wahren `is`-Prüfung klar ist, dass die Variable diesen Typ besitzt, wandelt der Compiler diesen *smart* um."
   ]
  },
  {
   "cell_type": "code",
   "execution_count": 12,
   "id": "9faafcbb",
   "metadata": {},
   "outputs": [
    {
     "name": "stdout",
     "output_type": "stream",
     "text": [
      "Typ von v1: Double\n"
     ]
    }
   ],
   "source": [
    "val any: Any = 10.0\n",
    "if (any is String){\n",
    "    val v1 = any\n",
    "    println(\"Datentyp von v1: ${v1::class.simpleName}\")\n",
    "}\n",
    "if (any is Int){\n",
    "    val v1 = any\n",
    "    println(\"Datentyp von v1: ${v1::class.simpleName}\")\n",
    "}\n",
    "if (any is Double){\n",
    "    val v1 = any\n",
    "    println(\"Datentyp von v1: ${v1::class.simpleName}\")\n",
    "}"
   ]
  },
  {
   "cell_type": "markdown",
   "id": "2df1f5f1",
   "metadata": {},
   "source": [
    "### Aufgabe - Von Java zu Kotlin\n",
    "Übersetzen Sie folgenden Java-Code nach Kotlin und wähle passende Variablentypen.\n",
    "```java\n",
    "final static float PI = 3.14159f;\n",
    "int a = 50;\n",
    "int b = 20;\n",
    "int res;\n",
    "final boolean bool = false;\n",
    "a = a + 30;\n",
    "res = a - b;\n",
    "String output = \"a - b ist: \" + res + \".\";\n",
    "System.out.println(output);\n",
    "```"
   ]
  },
  {
   "cell_type": "code",
   "execution_count": 13,
   "id": "c4d77f0b",
   "metadata": {},
   "outputs": [
    {
     "name": "stdout",
     "output_type": "stream",
     "text": [
      "a - b ist: 60.\n"
     ]
    }
   ],
   "source": [
    "//Lösung\n",
    "//const val PI = 3.14159f\n",
    "var a = 50\n",
    "val b = 20\n",
    "var res : Int\n",
    "val bool = false\n",
    "a = a + 30\n",
    "res = a - b\n",
    "val output = \"a - b ist: $res.\"\n",
    "println(output)"
   ]
  },
  {
   "cell_type": "markdown",
   "id": "628bd4cc",
   "metadata": {},
   "source": [
    "<img src=\"images/Lektion3.png\" style=\"margin: 20px auto 20px 0px\"/>\n",
    "<h2 style=\"display:none\">Lektion 3 - Funktionen</h2>\n",
    "In dieser Lektion werden Funktionen näher beleuchtet. Da Funktionen sowohl auf der Top-Level-Ebene, als auch in Klassen implementiert werden können, wird eine Abgrenzung der beiden Konzepte vorgenommen. Wenn im Folgenden von einer Funktion geredet wird, ist dies eine Funktion, die auf der Top-Level-Ebene vorzufinden ist. Diese findet vor Allem in der funktionalen Programmierung Anwendung. Methoden hingegen sind Funktionen, die einer Klasse angehören und bei der objektorientierten Programmierung Verwendung finden.\n",
    "\n",
    "### Grundlagen\n",
    "Eine Funktion in Kotlin unterscheidet sich in der Grundstruktur nicht stark von einer Methode in Java.\n",
    "\n",
    "<p><img title=\"Struktur einer Funktion\" alt=\"Struktur einer Funktion\" src=\"images/funktionen_struktur.png\" style=\"float: right;margin-left: 10px;\">Der Funktionskopf beginnt mit dem Schlüsselwort `fun` gefolgt von deren Namen. Danach werden in runden Klammern, falls benötigt, die Parameter angegeben. Ansonsten werden diese leer gelassen. Bevor der Funktionsrumpf mit `{` beginnt, ist noch der Rückgabetyp, der von den Parameterklammern durch einen `:` getrennt wird, zu finden. Dieser kann weggelassen werden, falls die Funktion keine Rückgabe besitzt (in Java mit `void` gekennzeichnet).</p>\n",
    "\n",
    "Es ergibt sich folgende Syntax für Funktionen:  \n",
    ">Funktion -> \"fun\" name \"(\" [Parameter] \")\" [\":\" Rückgabetyp] \"{\" Rumpf \"}\"\n",
    "\n",
    "Falls ein Rückgabetyp angegeben ist, muss etwas zurückgegeben werden. Dies wird mit `return` eingeleitet. Falls der Rückgabetyp fehlt, gibt die Funktion nichts zurück, kann aber mit `return` beendet werden. Das Hauptprogramm besitzt den Funktionskopf:\n",
    "```kotlin\n",
    "fun main(){ ... }\n",
    "//oder\n",
    "fun main(args: Array) { ... }\n",
    "```"
   ]
  },
  {
   "cell_type": "code",
   "execution_count": 83,
   "id": "79cb88fa",
   "metadata": {},
   "outputs": [
    {
     "name": "stdout",
     "output_type": "stream",
     "text": [
      "foo\n"
     ]
    }
   ],
   "source": [
    "fun foo(): String{\n",
    "    return \"foo\"\n",
    "}\n",
    "\n",
    "fun show(a: String){\n",
    "    println(a)\n",
    "}\n",
    "\n",
    "fun main(){\n",
    "    val a = foo()\n",
    "    show(a)\n",
    "}\n",
    "main()"
   ]
  },
  {
   "cell_type": "markdown",
   "id": "48e85835",
   "metadata": {},
   "source": [
    "### Parameter\n",
    "Es können einer Funktion beliebig viele Parameter übergeben werden. Dabei wird zuerst der Name und danach der Datentyp, mit einem Doppelpunkt getrennt, angegeben. Außerdem kann jedem Parameter ein default-Wert zugewiesen werden. Wird der Parameter bei Funktionsaufruf weggelassen, wird er auf diesen gesetzt. Eine Möglichkeit ist auch bestimmte Parameter mit ihrem Namen direkt anzusprechen. Dann ist die Reihenfolge der mit Namen genannten Übergabeparameter unwichtig. Es sollte jedoch nur eine Form der Übergabe angewendet werden, da dies sonst zu einer falschen Positionierung führen kann.  \n",
    "Syntax der Parameter:  \n",
    ">Parameter -> Name \":\" Datentyp [\"=\" default-Wert] {\",\" Parameter}<br />"
   ]
  },
  {
   "cell_type": "code",
   "execution_count": 15,
   "id": "2c07f476",
   "metadata": {},
   "outputs": [
    {
     "name": "stdout",
     "output_type": "stream",
     "text": [
      "foo(1,2,1,2): a: 1, b: 2, c: 1, d: 2\n",
      "foo(1,2): a: 1, b: 2, c: 0, d: 0\n",
      "foo(): a: 0, b: 0, c: 0, d: 0\n",
      "foo(b=2,d=2): a: 0, b: 2, c: 0, d: 2\n"
     ]
    }
   ],
   "source": [
    "fun foo(a: Int = 0, b: Int = 0, c: Int = 0, d: Int = 0) : String {\n",
    "    return \"a: $a, b: $b, c: $c, d: $d\"\n",
    "}\n",
    "println(\"foo(1,2,1,2): ${foo(1,2,1,2)}\")\n",
    "println(\"foo(1,2): ${foo(1,2)}\")\n",
    "println(\"foo(): ${foo()}\")\n",
    "println(\"foo(b=2,d=2): ${foo(b=2,d=2)}\")\n",
    "//foo(b=2,d=2, 3, 4) -> Error: Mixing named and positioned arguments is not allowed"
   ]
  },
  {
   "cell_type": "markdown",
   "id": "5aed0684",
   "metadata": {},
   "source": [
    "### Rückgabe\n",
    "Eine Funktion kann, falls ein Rückgabetyp definiert ist, einen Wert zurückgeben. Falls mehrere Werte zurückgegeben werden sollen, erfolgt dies über eine Datenstruktur (zum Beispiel ein Array, näheres dazu in [Lektion 6](#Lektion-6---Datenstrukturen)) oder eine eigens definierte Datenklasse (näheres dazu in Abschnitt 3). Ist kein Rückgabetyp definiert, wird implizit `Unit` zurückgegeben. Dies ist das Gegenstück zu dem Schlüsselwort `void` in Java. Jedoch könnte auch das bereits kennengelernte `Nothing` signalisieren, dass nichts zurückgegeben wird. Der Unterschied ist, dass `Unit` signalsisiert, dass keine wichtigen Daten zurückgegeben werden. `Nothing` hingegen bedeutet, dass nichts zurückgegeben beziehungsweise die Funktion nicht terminieren wird. Der einzig praktische Anwendungsfall ist, wenn die Funktion immer einen Fehler wirft.\n",
    "```kotlin\n",
    "//Fall 1\n",
    "fun loop(): Nothing{\n",
    "    while(true){ ... }\n",
    "}\n",
    "//Fall 2\n",
    "fun fail(message: String): Nothing{\n",
    "    throw Exception(message)\n",
    "}\n",
    "```\n",
    "Schauen wir uns den 2. Fall genauer an. Der Funktion `fail` wird eine Nachricht übergeben, die durch einen geworfenen Fehler ausgegeben wird. Ein konkreter Anwendungsfall wäre zum Beispiel:\n",
    "```kotlin\n",
    "fun foo(num: Int) : Int{\n",
    "    if (num == 42){\n",
    "        return 42\n",
    "    }\n",
    "    else{\n",
    "        return fail(\"Falsch\")\n",
    "    }\n",
    "}\n",
    "```\n",
    "<p><img title=\"Nothing & Util\" alt=\"Nothing & Util\" src=\"images/nothing_util.png\" style=\"float:right; margin-left: 20px\" />Ziel der Funktion ist es, herauszufinden, ob eine übergebene Zahl gleich <code>42</code> ist, falls nicht soll ein Fehler geworfen werden. Optimaler Rückgabetyp ist deswegen <code>Int</code>. Falls <code>42</code> übergeben wird, gibt die Funktion den Wert <code>42</code> vom Typ <code>Int</code> zurück. Jedoch könnte auch eine falsche Zahl übergeben werden. Dann würde der <code>else</code>-Fall greifen und die Funktion <code>fail</code> aufrufen, die einen Fehler wirft und <code>Nothing</code> zurückgibt. In Lektion 2 wurde <code>Nothing</code> bereits als Sub-Typ aller Datentypen eingeführt. Eine Funktion besitzt immer den größten gemeinsamen Rückgabetyp aller <code>return</code>-Statements. In diesem Beispiel ist der Datentyp des <code>if</code>-Blocks <code>Int</code> und der des <code>else</code>-Blocks <code>Nothing</code>. Da <code>Nothing</code> der Sub-Typ von <code>Int</code> ist, ist der größte gemeinsame Datentyp <code>Int</code>. Würde die Funktion <code>fail</code> jedoch <code>Unit</code> zurückgeben, dürfte der Rückgabetyp von <code>foo</code> nicht <code>Int</code> sein, da der größte gemeinsame Datentyp <code>Any</code> wäre.\n",
    "</p>"
   ]
  },
  {
   "cell_type": "code",
   "execution_count": 16,
   "id": "a38c41ee",
   "metadata": {},
   "outputs": [],
   "source": [
    "fun failNothing(message: String): Nothing{\n",
    "    throw Exception(message)\n",
    "}\n",
    "\n",
    "fun failUnit(message: String): Unit{\n",
    "    throw Exception(message)\n",
    "}\n",
    "\n",
    "fun fooNothing(num: Int) : Int {\n",
    "                    return if (num == 42){\n",
    "                        42\n",
    "                    }\n",
    "                    else {\n",
    "                        failNothing(\"Falsch\")\n",
    "                    }\n",
    "}\n",
    "\n",
    "//fun fooUnit(num: Int) : Int {  //-> Error Type mismatch: inferred type is Unit but Int was expected\n",
    "fun fooUnit(num: Int) : Any {\n",
    "                    return if (num == 42){\n",
    "                        42\n",
    "                    }\n",
    "                    else {\n",
    "                        failUnit(\"Falsch\")\n",
    "                    }\n",
    "}"
   ]
  },
  {
   "cell_type": "markdown",
   "id": "9cc9f4d0",
   "metadata": {},
   "source": [
    "### Besonderheiten\n",
    "#### Kurzschreibweise\n",
    "Bestimmte Funktionen können in einer Kurzschreibweise geschrieben werden. Besonders praktisch ist dies für Funktionen, die nur wenige Zeilen umfassen und etwas zurückgeben. Dabei wird der Funktionsrumpf mit `=` getrennt direkt an den Funktionskopf angehängt. Das Schlüsselwort `return` wird weggelassen. Der Rückgabetyp wird nach dem Prinzip des größten gemeinsamen Typ implizit vom Compiler ermittelt."
   ]
  },
  {
   "cell_type": "code",
   "execution_count": 89,
   "id": "c2bb3253",
   "metadata": {},
   "outputs": [
    {
     "name": "stdout",
     "output_type": "stream",
     "text": [
      "sum(5,5): 10\n",
      "foo(42): 42\n",
      "foo(24): 0\n"
     ]
    }
   ],
   "source": [
    "fun sum(a: Int, b: Int) = a + b\n",
    "println(\"sum(5,5): ${sum(5,5)}\")\n",
    "\n",
    "fun foo(num: Int) = if (num == 42) 42 else 0\n",
    "println(\"foo(42): ${foo(42)}\")\n",
    "println(\"foo(24): ${foo(24)}\")"
   ]
  },
  {
   "cell_type": "markdown",
   "id": "a726b948",
   "metadata": {},
   "source": [
    "#### Überladen\n",
    "Das Überladen von Funktionen ist auch in Kotlin möglich. Einzige Einschränkung ist, dass der Compiler - genauso wie in Java - das Parameterprofil der unterschiedlichen Funktionen voneinander unterscheiden kann."
   ]
  },
  {
   "cell_type": "code",
   "execution_count": 18,
   "id": "d5f78b50",
   "metadata": {},
   "outputs": [
    {
     "name": "stdout",
     "output_type": "stream",
     "text": [
      "Sum mit 2 Int-Parametern: 5\n",
      "Sum mit 3 Int-Parametern: 9\n",
      "Sum mit 2 Double-Parametern: 5.0\n"
     ]
    }
   ],
   "source": [
    "fun sum(a: Int, b: Int) = println(\"Sum mit 2 Int-Parametern: ${a+b}\")\n",
    "fun sum(a: Int, b: Int, c: Int) = println(\"Sum mit 3 Int-Parametern: ${a+b+c}\")\n",
    "fun sum(a: Double, b: Double) = println(\"Sum mit 2 Double-Parametern: ${a+b}\")\n",
    "sum(2,3)\n",
    "sum(2,3,4)\n",
    "sum(2.0,3.0)"
   ]
  },
  {
   "cell_type": "markdown",
   "id": "b4d60618",
   "metadata": {},
   "source": [
    "<img src=\"images/Lektion4.png\" style=\"margin: 20px auto 20px 0px\"/>\n",
    "<h2 style=\"display:none\">Lektion 4 - Kontrollstrukturen</h2>\n",
    "\n",
    "In dieser Lektion werden Kontrollstrukturen behandelt und Bereiche eingeführt.\n",
    "### `if`-Verzweigung\n",
    "Die gängiste Art einer Verzweigung ist `if`. In Verbindung mit `else` und `else if` können so mehrere Fälle definiert, geprüft und entsprechende Anweisungen ausgeführt werden. Falls nur eine Anweisung einem Fall zugeordnet wird, können die geschweiften Klammern weggelassen werden.\n",
    "```kotlin\n",
    "fun foo(a: Int): String {\n",
    "    if (a < 10) \n",
    "        return \"kleiner 10\"\n",
    "    else if (a == 10) \n",
    "        return \"gleich 10\"\n",
    "    else {\n",
    "        val b = 20\n",
    "        return \"groeßer 10\"\n",
    "    }\n",
    "}\n",
    "```\n",
    "Eine Neuerung ist, dass die `if`-Verzweigung als eine eigene Funktion angesehen wird. Deswegen kann einer Variablen eine `if`-Verzweigung zugewiesen werden, falls jeder Fall einen Wert zurückgibt. Dies kann weiter vereinfacht werden, indem das Schlüsselwort `return` von den Fällen an den Anfang der Verzweigung geschoben wird."
   ]
  },
  {
   "cell_type": "code",
   "execution_count": 92,
   "id": "9d4e8a59",
   "metadata": {},
   "outputs": [
    {
     "name": "stdout",
     "output_type": "stream",
     "text": [
      "foo(10): 10 ist gleich 10\n",
      "foo(5): 5 ist kleiner 10\n",
      "foo1(10): 10 ist gleich 10\n",
      "foo2(10): 10 ist gleich 10\n",
      "foo3(10): 10 ist gleich 10\n"
     ]
    }
   ],
   "source": [
    "//Standardfall\n",
    "fun foo(a: Int): String {\n",
    "    var res = \"\"\n",
    "    if (a < 10) \n",
    "        res = \"$a ist kleiner 10\"\n",
    "    else if (a == 10) \n",
    "        res = \"$a ist gleich 10\"\n",
    "    else \n",
    "        res = \"$a ist groeßer 10\"\n",
    "    return res\n",
    "}\n",
    "\n",
    "//Direkte Zuweisung des Wertes von res mit der if-Verzweigung\n",
    "fun foo1(a: Int): String {\n",
    "    val res = if (a < 10) \n",
    "                  \"$a ist kleiner 10\"\n",
    "              else if (a == 10) \n",
    "                  \"$a ist gleich 10\"\n",
    "              else \n",
    "                  \"$a ist groeßer 10\"\n",
    "    return res\n",
    "}\n",
    "\n",
    "//Verschiebung des returns\n",
    "fun foo2(a: Int): String {\n",
    "    return if (a < 10) \n",
    "               \"$a ist kleiner 10\"\n",
    "           else if (a == 10) \n",
    "               \"$a ist gleich 10\"\n",
    "           else \n",
    "               \"$a ist groeßer 10\"\n",
    "}\n",
    "\n",
    "//Anwendung der Kurzschreibweise von Funktionen\n",
    "fun foo3(a: Int) = if (a < 10) \n",
    "                       \"$a ist kleiner 10\"\n",
    "                   else if (a == 10) \n",
    "                       \"$a ist gleich 10\"\n",
    "                   else \n",
    "                       \"$a ist groeßer 10\"\n",
    "\n",
    "//Test\n",
    "println(\"foo(10): ${foo(10)}\")\n",
    "println(\"foo(5): ${foo(5)}\")\n",
    "println(\"foo1(10): ${foo1(10)}\")\n",
    "println(\"foo2(10): ${foo2(10)}\")\n",
    "println(\"foo3(10): ${foo3(10)}\")"
   ]
  },
  {
   "cell_type": "markdown",
   "id": "f72388a9",
   "metadata": {},
   "source": [
    "### `when`-Verzweigung\n",
    "Eine weitere Art der Verzweigung ist `when`. Diese ähnelt von der Funktionalität an Javas `switch`. Das Schlüsselwort, mit dem diese Verzweigung eingeleitet wird, ist `when`. In runden Klammern muss daraufhin die zu untersuchende Variable folgen. In dem Rumpf steht links ein Vergleichswert (die Vergleichswerte mit Komma getrennt) und rechts eine Anweisung (mehrere Anweisungen in einem `{ ... }`-Block). Getrennt werden die beiden Seite mit `->`. Anders als in Java muss nicht nach jedem Block ein `break` stehen, falls die Verzweigung verlassen werden soll. Standardmäßig wird nach dem Ausführen der rechten Seite der `when`-Block verlassen. Ein *Durchrutschen* findet nicht statt. Der default-Fall wird mit `else` auf der linken Seite gekennzeichnet."
   ]
  },
  {
   "cell_type": "code",
   "execution_count": 93,
   "id": "d5504cb7",
   "metadata": {},
   "outputs": [
    {
     "name": "stdout",
     "output_type": "stream",
     "text": [
      "Umlaut\n"
     ]
    }
   ],
   "source": [
    "val c = 'ä'\n",
    "when (c) {\n",
    "    'a', 'e', 'i', 'o', 'u' -> println(\"Vokal\")\n",
    "    'ä', 'ö', 'ü' -> {\n",
    "                        val res = \"Umlaut\"\n",
    "                        println(res)\n",
    "                     }\n",
    "    '0', '1', '2', '3', '4', '5', '6', '7', '8', '9' -> println(\"Zahl\")\n",
    "    else -> println(\"Konsonant oder Sonderzeichen\") //default-Fall\n",
    "}"
   ]
  },
  {
   "cell_type": "markdown",
   "id": "28d4eb79",
   "metadata": {},
   "source": [
    "Es können aber auch weiterführende Vergleiche angestellt werden. Mit `is` kann überprüft werden, ob die zu untersuchende Variable einen bestimmten Datentyp besitzt. `in` hingegen sucht die Variable in einer Datenstruktur."
   ]
  },
  {
   "cell_type": "code",
   "execution_count": 21,
   "id": "db39847f",
   "metadata": {},
   "outputs": [
    {
     "name": "stdout",
     "output_type": "stream",
     "text": [
      "0 ist in Liste [0, 1, 2, 3]\n"
     ]
    }
   ],
   "source": [
    "val a: Any = 0\n",
    "val liste = listOf(0, 1, 2, 3)\n",
    "when (a) {\n",
    "    is Double -> println(\"$a ist vom Datentyp Double\") //ist die Variable vom Typ Double?\n",
    "    is Long -> println(\"$a ist vom Datentyp Long\") //ist die Variable vom Typ Long?\n",
    "    in liste -> println(\"$a ist in Liste $liste\") //ist die Variable in der Liste liste?\n",
    "}"
   ]
  },
  {
   "cell_type": "markdown",
   "id": "21381d8d",
   "metadata": {},
   "source": [
    "`when` findet vor Allem dann Anwendung, wenn mehr als 2 Fälle zu untersuchen sind und ist in diesem Fall `if` vorzuziehen.  \n",
    "Um es weiter an eine `if`-Verzweigung anzugleichen, wird die zu untersuchende Variable im Kopf weggelassen. Dann können auf der linken Seite boolsche Ausdrücke definiert werden. Folgender Code mit einer `if`-Verzweigung soll nun mit einer `when`-Verzweigung ersetzt werden:\n",
    "```kotlin\n",
    "val a = 10\n",
    "if (a < 10) \n",
    "   println(\"gleich 10\")\n",
    "else if (a < 10) \n",
    "   println(\"kleiner 10\")\n",
    "else \n",
    "   println(\"groeßer 10\")\n",
    "```"
   ]
  },
  {
   "cell_type": "code",
   "execution_count": 94,
   "id": "68e27402",
   "metadata": {},
   "outputs": [
    {
     "name": "stdout",
     "output_type": "stream",
     "text": [
      "gleich 10\n"
     ]
    }
   ],
   "source": [
    "val a = 10\n",
    "when {\n",
    "    a == 10 -> println(\"gleich 10\")\n",
    "    a < 10 -> println(\"kleiner 10\")\n",
    "    else -> println(\"groeßer 10\")\n",
    "}"
   ]
  },
  {
   "cell_type": "markdown",
   "id": "420c3f8c",
   "metadata": {},
   "source": [
    "#### Aufgabe - if- und when-Verzweigung\n",
    "1. Implementieren Sie eine Funktion `typCheckerIf`, die den Datentyp der übergebenen Variable als String mit Hilfe einer `if`-Verzweifung zurückgibt. Als Vereinfachung soll nur zwischen den Datentypen `Int`, `Double` und `Long` unterschieden werden. Sollte keiner dieser Datentypen zutreffen soll `Sonstiges` zurückgegeben werden.\n",
    "2. Fügen Sie nun eine zweite Funktion `typCheckerWhen` hinzu, die die `if`-Verzweigung durch eine `when`-Verzweigung ersetzt."
   ]
  },
  {
   "cell_type": "code",
   "execution_count": 1,
   "id": "e4827de7",
   "metadata": {},
   "outputs": [
    {
     "name": "stdout",
     "output_type": "stream",
     "text": [
      "Falsch! 1 ist vom Typ Int, Ergebnis typCheckerIf: , Ergebnis typCheckerWhen: \n",
      "Falsch! 1.0 ist vom Typ Double, Ergebnis typCheckerIf: , Ergebnis typCheckerWhen: \n",
      "Falsch! 100 ist vom Typ Long, Ergebnis typCheckerIf: , Ergebnis typCheckerWhen: \n",
      "Falsch! Test ist vom Typ String, Ergebnis typCheckerIf: , Ergebnis typCheckerWhen: \n"
     ]
    }
   ],
   "source": [
    "fun typCheckerIf(a: Any) = \"\"//TODO\n",
    "    \n",
    "fun typCheckerWhen(a: Any) = \"\"//TODO\n",
    "    \n",
    "//Test\n",
    "val tests = listOf<Any>(1, 1.0, 100L, \"Test\")\n",
    "for(i in tests){\n",
    "    if((typCheckerIf(i) == typCheckerWhen(i)) && (i::class.simpleName == typCheckerIf(i) || typCheckerIf(i) == \"Sonstiges\"))\n",
    "        println(\"Richtig! $i ist vom Typ ${typCheckerIf(i)}\")\n",
    "    else\n",
    "        println(\"Falsch! $i ist vom Typ ${i::class.simpleName}, Ergebnis typCheckerIf: ${typCheckerIf(i)}, Ergebnis typCheckerWhen: ${typCheckerWhen(i)}\")   \n",
    "}"
   ]
  },
  {
   "cell_type": "code",
   "execution_count": 2,
   "id": "5d990768",
   "metadata": {},
   "outputs": [
    {
     "name": "stdout",
     "output_type": "stream",
     "text": [
      "Richtig! 1 ist vom Typ Int\n",
      "Richtig! 1.0 ist vom Typ Double\n",
      "Richtig! 100 ist vom Typ Long\n",
      "Richtig! Test ist vom Typ Sonstiges\n"
     ]
    }
   ],
   "source": [
    "//Lösung\n",
    "fun typCheckerIf(a: Any) = if (a is Int)\n",
    "                                \"Int\"\n",
    "                            else if (a is Double)\n",
    "                                \"Double\"\n",
    "                            else if (a is Long)\n",
    "                                \"Long\"\n",
    "                            else\n",
    "                                \"Sonstiges\"\n",
    "\n",
    "\n",
    "fun typCheckerWhen(a: Any) = when(a) {\n",
    "    is Int -> \"Int\"\n",
    "    is Double -> \"Double\"\n",
    "    is Long -> \"Long\"\n",
    "    else -> \"Sonstiges\"\n",
    "}\n",
    "\n",
    "//Test\n",
    "val tests = listOf<Any>(1, 1.0, 100L, \"Test\")\n",
    "for(i in tests){\n",
    "    if((typCheckerIf(i) == typCheckerWhen(i)) && (i::class.simpleName == typCheckerIf(i) || typCheckerIf(i) == \"Sonstiges\"))\n",
    "        println(\"Richtig! $i ist vom Typ ${typCheckerIf(i)}\")\n",
    "    else\n",
    "        println(\"Falsch! $i ist vom Typ ${i::class.simpleName}, Ergebnis typCheckerIf: ${typCheckerIf(i)}, Ergebnis typCheckerWhen: ${typCheckerWhen(i)}\")   \n",
    "}"
   ]
  },
  {
   "cell_type": "markdown",
   "id": "5c253252",
   "metadata": {},
   "source": [
    "### for-Schleife\n",
    "Auch sind `for`-Schleifen in Kotlin zu finden. Jedoch weicht ihr Syntax stark von der in Java ab. Der normale Aufbau einer `for`-Schleife mit einer Dreiteilung fällt weg und wird durch Bereiche, oder auch Ranges genannt, ersetzt.\n",
    "#### Bereiche\n",
    "Bereiche sind eine Folge von Elementen, die einen definierten Start- und Endpunkt besitzen. Die beiden Werte werden durch `..` getrennt. Kotlin stellt Bereiche des Typs `Int`, `Long` und `Char` bereit. Der Endwert ist dabei immer der letzte Wert des Bereichs.\n",
    "Der Startwert kann mit `first` und der Endwert mit `last` adressiert werden. Ein Bereich der Klasse `Range` ist aufsteigend mit einer Schrittweite von 1. Alle anderen Bereiche werden der Klasse `Progression` zugeordnet und sind mächtiger. Dort können Bereiche auch unter Verwendung der Methode `reversed()` oder dem Schlüsselwort `downTo` statt `..` erzeugt werden. Soll die Obergrenze exklusiv sein, hilft zudem das Schlüsselwort `until`, das `..` ersetzt. Zur schöneren Darstellung oder zum Erzeugen einfacher Listen können Bereiche mit `toList()` in eine Liste beziehungsweise `toSet()` in ein Set umgewandelt werden (näheres zu Datenstrukturen in [Lektion 6](#Lektion-6---Datenstrukturen))."
   ]
  },
  {
   "cell_type": "code",
   "execution_count": 25,
   "id": "1047d190",
   "metadata": {},
   "outputs": [
    {
     "name": "stdout",
     "output_type": "stream",
     "text": [
      "Der Bereich 0..10 vom Typ IntRange geht von 0 bis 10 und umfasst [0, 1, 2, 3, 4, 5, 6, 7, 8, 9, 10]\n",
      "Der Bereich 5..10 vom Typ IntRange geht von 5 bis 10 und umfasst [5, 6, 7, 8, 9, 10]\n",
      "Der Bereich a..e vom Typ CharRange geht von a bis e und umfasst [a, b, c, d, e]\n",
      "Der Bereich 0..9 vom Typ IntRange geht von 0 bis 9 und umfasst [0, 1, 2, 3, 4, 5, 6, 7, 8, 9]\n",
      "Der Bereich 10 downTo 0 step 1 vom Typ IntProgression geht von 10 bis 0 und umfasst [10, 9, 8, 7, 6, 5, 4, 3, 2, 1, 0]\n",
      "Der Bereich 0..10 step 2 vom Typ IntProgression geht von 0 bis 10 und umfasst [0, 2, 4, 6, 8, 10]\n"
     ]
    }
   ],
   "source": [
    "val intBereich = 0..10 //Bereich von 0 - 10\n",
    "println(\"Der Bereich $intBereich vom Typ ${intBereich::class.simpleName} geht von ${intBereich.first} bis ${intBereich.last} und umfasst ${intBereich.toList()}\")\n",
    "\n",
    "val start = 5\n",
    "val intBereichMitVariable = start..start+5 //Bereich von start bis start+5\n",
    "println(\"Der Bereich $intBereichMitVariable vom Typ ${intBereichMitVariable::class.simpleName} geht von ${intBereichMitVariable.first} bis ${intBereichMitVariable.last} und umfasst ${intBereichMitVariable.toList()}\")\n",
    "\n",
    "val charBereich = 'a'..'e' //Bereich von a bis e\n",
    "println(\"Der Bereich $charBereich vom Typ ${charBereich::class.simpleName} geht von ${charBereich.first} bis ${charBereich.last} und umfasst ${charBereich.toList()}\")\n",
    "\n",
    "val intBereichUntil = 0 until 10 //Bereich von 0 - 9\n",
    "println(\"Der Bereich $intBereichUntil vom Typ ${intBereichUntil::class.simpleName} geht von ${intBereichUntil.first} bis ${intBereichUntil.last} und umfasst ${intBereichUntil.toList()}\")\n",
    "\n",
    "var umgekehrterIntBereich = 10 downTo 0 //Bereich von 10 - 0\n",
    "println(\"Der Bereich $umgekehrterIntBereich vom Typ ${umgekehrterIntBereich::class.simpleName} geht von ${umgekehrterIntBereich.first} bis ${umgekehrterIntBereich.last} und umfasst ${umgekehrterIntBereich.toList()}\")\n",
    "\n",
    "val intBereichSchrittweite = 0..10 step 2 //Bereich von 0 - 10 mit Schrittweite 2\n",
    "println(\"Der Bereich $intBereichSchrittweite vom Typ ${intBereichSchrittweite::class.simpleName} geht von ${intBereichSchrittweite.first} bis ${intBereichSchrittweite.last} und umfasst ${intBereichSchrittweite.toList()}\")"
   ]
  },
  {
   "cell_type": "markdown",
   "id": "af91f9f6",
   "metadata": {},
   "source": [
    "#### Schleife\n",
    "Die aus Java bekannte dreigeteilte `for`-Schleife wird in Kotlin durch eine Schleife über einen Bereich ersetzt. Das benötigte Schlüsselwort lautet `in`."
   ]
  },
  {
   "cell_type": "code",
   "execution_count": 95,
   "id": "05912f03",
   "metadata": {},
   "outputs": [
    {
     "name": "stdout",
     "output_type": "stream",
     "text": [
      "0 1 2 3 4 5 6 7 8 9 10 \n",
      "0 1 2 3 4 5 6 7 8 9 10 11 12 13 14 15 16 17 18 19 \n",
      "15 10 5 "
     ]
    }
   ],
   "source": [
    "for (i in 0..10){\n",
    "    print(\"$i \")\n",
    "}\n",
    "println()\n",
    "\n",
    "for (i in 0 until 20){\n",
    "    print(\"$i \")\n",
    "}\n",
    "println()\n",
    "\n",
    "for (i in 15 downTo 5 step 5){\n",
    "    print(\"$i \")\n",
    "}"
   ]
  },
  {
   "cell_type": "markdown",
   "id": "4690d394",
   "metadata": {},
   "source": [
    "Anstelle über einen Bereich kann aber auch über eine Kollektion (zum Beispiel eine Liste) iteriert werden."
   ]
  },
  {
   "cell_type": "code",
   "execution_count": 27,
   "id": "4acdccf3",
   "metadata": {},
   "outputs": [
    {
     "name": "stdout",
     "output_type": "stream",
     "text": [
      "Kotlin Java C Python "
     ]
    }
   ],
   "source": [
    "val liste = listOf(\"Kotlin\", \"Java\", \"C\", \"Python\")\n",
    "for (i in liste){\n",
    "    print(\"$i \")\n",
    "}"
   ]
  },
  {
   "cell_type": "markdown",
   "id": "4721c335",
   "metadata": {},
   "source": [
    "Dabei ist zu beachten, dass das Element nicht in der Schleife verändert werden kann, da es als `val` angesehen wird. Dies geht nur mit Zugriff auf den Index an der aktuellen Stelle."
   ]
  },
  {
   "cell_type": "code",
   "execution_count": 96,
   "id": "62bbc269",
   "metadata": {},
   "outputs": [
    {
     "name": "stderr",
     "output_type": "stream",
     "text": [
      "Line_95.jupyter-kts (3:5 - 6) Val cannot be reassigned"
     ]
    }
   ],
   "source": [
    "val liste = mutableListOf(1,2,3,4,5)\n",
    "for (i in liste){\n",
    "    i = i*i\n",
    "}"
   ]
  },
  {
   "cell_type": "code",
   "execution_count": 29,
   "id": "371245f2",
   "metadata": {},
   "outputs": [
    {
     "name": "stdout",
     "output_type": "stream",
     "text": [
      "[1, 4, 9, 16, 25]\n"
     ]
    }
   ],
   "source": [
    "val liste = mutableListOf(1,2,3,4,5)\n",
    "for (i in 0 until liste.size){\n",
    "    liste[i] = liste[i] * liste[i]\n",
    "}\n",
    "println(liste)"
   ]
  },
  {
   "cell_type": "markdown",
   "id": "e9e5d8ee",
   "metadata": {},
   "source": [
    "Eine elegantere Lösung ist die Option über die Liste und den aktuellen Index zu iterieren. Dies ist mit Hilfe von `.withIndex()` möglich. Ein ähnlicher Fall ist die Itereriung über Maps. Dies wird in [Lektion 6](#Lektion-6---Datenstrukturen) behandelt."
   ]
  },
  {
   "cell_type": "code",
   "execution_count": 30,
   "id": "60687add",
   "metadata": {},
   "outputs": [
    {
     "name": "stdout",
     "output_type": "stream",
     "text": [
      "An Stelle 0 ist 1 gespeichert\n",
      "An Stelle 1 ist 2 gespeichert\n",
      "An Stelle 2 ist 3 gespeichert\n",
      "An Stelle 3 ist 4 gespeichert\n",
      "An Stelle 4 ist 5 gespeichert\n",
      "[1, 4, 9, 16, 25]\n"
     ]
    }
   ],
   "source": [
    "val liste = mutableListOf(1,2,3,4,5)\n",
    "for ((index, element) in liste.withIndex()){\n",
    "    println(\"An Stelle $index ist $element gespeichert\")\n",
    "    liste[index] = element * element\n",
    "}\n",
    "println(liste)"
   ]
  },
  {
   "cell_type": "markdown",
   "id": "4bff88f7",
   "metadata": {},
   "source": [
    "#### `break`\n",
    "In Kotlin kann mit Hilfe von `break` die aktuelle oder eine bestimmte Schleife abgebrochen werden. Der zweite Fall benötigt eine Bezeichnung der abzubrechenden Schleife. Diese kann mit dem Namen gefolgt von `@` vor der Schleife gesetzt werden. Der Name der Schleife inklusive dem `@` wird in der Schleife dem `break` angehängt."
   ]
  },
  {
   "cell_type": "code",
   "execution_count": 98,
   "id": "38dbad7b",
   "metadata": {},
   "outputs": [
    {
     "name": "stdout",
     "output_type": "stream",
     "text": [
      "Aktuell untersucht: 0\n",
      "Aktuell untersucht: 11\n",
      "Aktuell untersucht: 22\n",
      "Aktuell untersucht: 33\n",
      "Aktuell untersucht: 44\n",
      "Aktuell untersucht: 55\n",
      "Gefunden 55\n"
     ]
    }
   ],
   "source": [
    "//Gesucht wird eine Zahl, die in beiden Listen vorhanden ist. Falls eine Zahl gefunden wird, soll die äußere Schleife abgebrochen werden.\n",
    "val liste1 = (0..100 step 11).toList()\n",
    "val liste2 = (0..100 step 5).toList()\n",
    "iloop@\n",
    "for (i in liste1){\n",
    "    println(\"Aktuell untersucht: $i\")\n",
    "    for(j in liste2){\n",
    "        if(i == j && i != 0){\n",
    "            println(\"Gefunden $i\")\n",
    "            break@iloop\n",
    "        }\n",
    "    }\n",
    "}"
   ]
  },
  {
   "cell_type": "markdown",
   "id": "6af3e368",
   "metadata": {},
   "source": [
    "### `while`-Schleife\n",
    "Die `while`-Schleife ist identisch zu der in Java. Zusätzlich zu der normalen `while`-Schleife gibt es auch die `do-while`-Schleife."
   ]
  },
  {
   "cell_type": "code",
   "execution_count": 100,
   "id": "8153fdba",
   "metadata": {},
   "outputs": [
    {
     "name": "stdout",
     "output_type": "stream",
     "text": [
      "while-Schleife: \n",
      "0 1 2 3 4 5 6 7 8 9 10 \n",
      "do-while-Schleife: \n",
      "11 10 9 8 7 6 5 4 3 2 1 0 "
     ]
    }
   ],
   "source": [
    "var i = 0\n",
    "//while-Schleife\n",
    "println(\"while-Schleife: \")\n",
    "while (i<=10){\n",
    "    print(\"$i \")\n",
    "    i++\n",
    "}\n",
    "println()\n",
    "\n",
    "//do-while-Schleife\n",
    "println(\"do-while-Schleife: \")\n",
    "do {\n",
    "    print(\"$i \")\n",
    "    i--\n",
    "} while(i >= 0)"
   ]
  },
  {
   "cell_type": "markdown",
   "id": "d7ba981d",
   "metadata": {},
   "source": [
    "### `repeat`-Schleife\n",
    "Die `repeat`-Schleife ist vor Allem an Anfänger:innen gerichtet. Es wird lediglich ein exklusiver Endwert angegeben, zu dem von 0 aus hochgezählt wird. In der Schleife greift man auf die aktuelle Durchlaufzahl mit `it` zu."
   ]
  },
  {
   "cell_type": "code",
   "execution_count": 33,
   "id": "864fca2f",
   "metadata": {},
   "outputs": [
    {
     "name": "stdout",
     "output_type": "stream",
     "text": [
      "0 1 2 3 4 5 6 7 8 9 "
     ]
    }
   ],
   "source": [
    "repeat (10){\n",
    "    print(\"$it \")\n",
    "}"
   ]
  },
  {
   "cell_type": "markdown",
   "id": "e9788750",
   "metadata": {},
   "source": [
    "<img src=\"images/Lektion5.png\" style=\"margin: 20px auto 20px 0px\"/>\n",
    "<h2 style=\"display:none\">Lektion 5 - Weitere Funktionentypen</h2>\n",
    "\n",
    "In dieser Lektion werden die Erweiterungsmethoden, `infix`- und `operator`-Funktion behandelt.\n",
    "\n",
    "### Erweiterungsmethoden\n",
    "Erweiterungsmethoden können eine bestehende Klasse unkompliziert erweitern. Sie werden außerhalb der Klasse definiert und haben keinen lokalen Bezug zu diesen. Die zu erweiternde Klasse wird vor dem Namen mit einem Punkt getrennt angegeben. Dieses Konzept findet vor Allem Anwendung bei Klassen, der keine weiteren Methoden hinzugefügt werden können, da der Zugriff auf deren Code fehlt. Ein Beispiel sind die Datentypen. Da sie von der Standardbibliothek bereitgestellt werden und diese nicht ohne weiteres verändert werden kann, sind Erweiterungsmethoden dort ein probates Mittek. Im folgenden Beispiel wird die Klasse `Int` um eine Methode erweitert, die die Zehnerstelle zurückgibt:"
   ]
  },
  {
   "cell_type": "code",
   "execution_count": 101,
   "id": "e7bf5ad2",
   "metadata": {},
   "outputs": [
    {
     "name": "stdout",
     "output_type": "stream",
     "text": [
      "Die Zehnerstelle von der Zahl 34291 ist 9\n"
     ]
    }
   ],
   "source": [
    "fun Int.zehner() = if (this < 10) //Test, ob eine Zehnerstelle existiert\n",
    "                        -1\n",
    "                   else\n",
    "                        this % 100 / 10\n",
    "\n",
    "val zahl = 34291\n",
    "println(\"Die Zehnerstelle von der Zahl $zahl ist ${zahl.zehner()}\")"
   ]
  },
  {
   "cell_type": "markdown",
   "id": "2066dff9",
   "metadata": {},
   "source": [
    "Die Zugehörigkeit zur Klasse `Int` ist durch den Namensvorsatz erkennbar. Wie bei einer Objektomethode üblich, kann auch im Rumpf einer Erweiterungsmethode auf das aufgerufene Objekt mit `this` zugegriffen werden.  \n",
    "Es ist jedoch zu beachten, dass Erweiterungsmethoden **immer** von Objektomethoden überdeckt werden. "
   ]
  },
  {
   "cell_type": "markdown",
   "id": "3bd5ba87",
   "metadata": {},
   "source": [
    "#### Aufgabe - Erweiterungsmethoden\n",
    "Erweitern Sie die Klasse `String` mit der Funktion `addNewLine`, die am Ende des Strings einem Zeilenumbruch (`'\\n'`) hinzufügt. Vervollständige dazu das folgende Grundgerüst:"
   ]
  },
  {
   "cell_type": "code",
   "execution_count": 35,
   "id": "39a7e860",
   "metadata": {},
   "outputs": [
    {
     "name": "stderr",
     "output_type": "stream",
     "text": [
      "Line_34.jupyter-kts (5:10 - 20) Unresolved reference: addNewLine\n",
      "Line_34.jupyter-kts (6:30 - 40) Unresolved reference: addNewLine\n",
      "Line_34.jupyter-kts (6:51 - 61) Unresolved reference: addNewLine\n",
      "Line_34.jupyter-kts (8:29 - 39) Unresolved reference: addNewLine\n",
      "Line_34.jupyter-kts (8:50 - 60) Unresolved reference: addNewLine"
     ]
    }
   ],
   "source": [
    "//TODO\n",
    "\n",
    "//Test\n",
    "val zeile = \"ErweiterungsFunktionen erweitern eine Klasse.\"\n",
    "if(zeile.addNewLine() == \"ErweiterungsFunktionen erweitern eine Klasse.\\n\")\n",
    "    print(\"Richtig:\\n${zeile.addNewLine()}${zeile.addNewLine()}\")\n",
    "else\n",
    "    print(\"Falsch:\\n${zeile.addNewLine()}${zeile.addNewLine()}\\nRichtig wäre:\\nErweiterungsFunktionen erweitern eine Klasse.\\nErweiterungsFunktionen erweitern eine Klasse.\\n\")"
   ]
  },
  {
   "cell_type": "code",
   "execution_count": 103,
   "id": "9de4b6e9",
   "metadata": {},
   "outputs": [
    {
     "name": "stdout",
     "output_type": "stream",
     "text": [
      "Richtig:\n",
      "Erweiterungsmethoden erweitern eine Klasse.\n",
      "Erweiterungsmethoden erweitern eine Klasse.\n"
     ]
    }
   ],
   "source": [
    "//Lösung\n",
    "fun String.addNewLine() = \"$this\\n\"\n",
    "\n",
    "val zeile = \"Erweiterungsmethoden erweitern eine Klasse.\"\n",
    "if(zeile.addNewLine() == \"Erweiterungsmethoden erweitern eine Klasse.\\n\")\n",
    "    print(\"Richtig:\\n${zeile.addNewLine()}${zeile.addNewLine()}\")\n",
    "else\n",
    "    print(\"Falsch:\\n${zeile.addNewLine()}${zeile.addNewLine()}\\nRichtig wäre:\\nErweiterungsmethoden erweitern eine Klasse.\\nErweiterungsmethoden erweitern eine Klasse.\\n\")"
   ]
  },
  {
   "cell_type": "markdown",
   "id": "c0e1457f",
   "metadata": {},
   "source": [
    "### `infix`-Funktionen\n",
    "`infix`-Funktionen wurden beiläufig schon bei Bereichen verwendet. Soll ein Bereich von 0 bis exklusive 10 erstellt werden, kann entweder `0..9` oder `0 until 10` verwendet werden. Die 2. Variante, unter Verwendung von `until`, ruft eine `infix`-Funktion mit dem Namen `until` auf. Es werden anstelle eines Funktionsaufrufs ein Schlüsselwort bereitgestellt, das auf die zugehöroge Funktion verweist. Dadurch wird der Code näher an den Sprachgebrauch angegliedert, was die Verständlichkeit fördert. Diesen Funktionen wird das Schlüsselwort `infix` vorangestellt. Vor den Namen getrennt mit einem `.` wird die Klasse des ersten Objekts angegeben, ähnlich zu einer Erweiterungsmethode. In den Parametern ist die Klasse und der Name des zweiten Objekts, mit dem in der Funktion auf dieses zugegriffen werden kann, zu finden. Auf den *ersten* Parameter kann mit `this` zugegriffen werden.\n",
    "```kotlin\n",
    "5 until 10 //infix\n",
    "5.until(10) //umgewandelt\n",
    "infix fun Int.until(to: Int): IntRange //Funktionenkopf\n",
    "```\n",
    "Es können beliebige `infix`-Funktionen implementiert werden, falls das Schlüsselwort noch nicht besetzt ist."
   ]
  },
  {
   "cell_type": "markdown",
   "id": "806aba4e",
   "metadata": {},
   "source": [
    "#### Aufgabe - infix-Funktionen\n",
    "Eine weit verbreitete Operation ist das Addieren der Inhalt zweier Listen. Schreiben Sie eine `infix`-Funktion, die zwei Listen vom Typ `MutableList<Int>` mit dem Schlüsselwort `addiereElemente` elementweise addiert und als neue Liste vom Typ `List<Int>` zurückgibt. Es kann angenommen werden, dass beide Listen gleich viele Elemente besitzen."
   ]
  },
  {
   "cell_type": "code",
   "execution_count": 105,
   "id": "92a3c7cb",
   "metadata": {},
   "outputs": [
    {
     "name": "stdout",
     "output_type": "stream",
     "text": [
      "Richtig: [0, 2, 4, 6, 8]\n"
     ]
    }
   ],
   "source": [
    "//TODO\n",
    "\n",
    "//Test\n",
    "val liste1 = mutableListOf(0,1,2,3,4)\n",
    "val liste2 = mutableListOf(0,1,2,3,4)\n",
    "val sumListe = liste1 addiereElemente liste2\n",
    "if (sumListe == listOf(0,2,4,6,8))\n",
    "    println(\"Richtig: $sumListe\")\n",
    "else\n",
    "    println(\"Falsch: $sumListe. Das Ergebnis sollte eigentlich ${listOf(0,2,4,6,8)} beinhalten\")"
   ]
  },
  {
   "cell_type": "code",
   "execution_count": 1,
   "id": "3dd4dfa4",
   "metadata": {},
   "outputs": [
    {
     "name": "stdout",
     "output_type": "stream",
     "text": [
      "Richtig: [0, 2, 4, 6, 8]\n"
     ]
    }
   ],
   "source": [
    "//Lösung\n",
    "infix fun MutableList<Int>.addiereElemente(to: MutableList<Int>): List<Int>{\n",
    "    for(i in 0 until this.size){\n",
    "        this[i] += to[i]\n",
    "    }\n",
    "    return this\n",
    "}\n",
    "\n",
    "//Test\n",
    "val liste1 = mutableListOf(0,1,2,3,4)\n",
    "val liste2 = mutableListOf(0,1,2,3,4)\n",
    "val sumListe = liste1 addiereElemente liste2\n",
    "if (sumListe == listOf(0,2,4,6,8))\n",
    "    println(\"Richtig: $sumListe\")\n",
    "else\n",
    "    println(\"Falsch: $sumListe. Das Ergebnis sollte eigentlich ${listOf(0,2,4,6,8)} beinhalten\")"
   ]
  },
  {
   "cell_type": "markdown",
   "id": "50772613",
   "metadata": {},
   "source": [
    "### `operator`-Funktionen\n",
    "Einige Anweisungen sehen auf den ersten Blick wie `infix`-Funktionen aus, sind aber keine. Dies ist immer der Fall, wenn mathematische Zeichen im Spiel sind. Für diese gibt es keine `infix`-Funktionen, da diese keine Sonderzeichen als Namen verwenden können. Stattdessen werden sie auf sogenannte vordefinierte `operator`-Funktionen abgebildet. Jedem Zeichen/jeder Zeichenfolge wird hierbei eine bestimmte Funktion zugeordnet. So wird bei `5 + 10` im Hintergund `5.plus(10)` aufgerufen. Weitere Beispiele:\n",
    "\n",
    "<table style=\"font-size:16px\">\n",
    "    <th style=\"font-size:16px\">Ausdruck</th>\n",
    "    <th style=\"font-size:16px\">Aufruf</th>\n",
    "    <tr>\n",
    "        <td style=\"font-size:16px\">+a</td>\n",
    "        <td style=\"font-size:16px\">a.unaryPlus()</td>\n",
    "    </tr>\n",
    "    <tr>\n",
    "        <td style=\"font-size:16px\">a++</td>\n",
    "        <td style=\"font-size:16px\">a.inc()</td>\n",
    "    </tr>\n",
    "    <tr>\n",
    "        <td style=\"font-size:16px\">-a</td>\n",
    "        <td style=\"font-size:16px\">a.unaryMinus()</td>\n",
    "    </tr>\n",
    "    <tr>\n",
    "        <td style=\"font-size:16px\">a--</td>\n",
    "        <td style=\"font-size:16px\">a.dec()</td>\n",
    "    </tr>\n",
    "    <tr>\n",
    "        <td style=\"font-size:16px\">!a</td>\n",
    "        <td style=\"font-size:16px\">a.not()</td>\n",
    "    </tr>\n",
    "    <tr>\n",
    "        <td style=\"font-size:16px\">a + b</td>\n",
    "        <td style=\"font-size:16px\">a.plus(b)</td>\n",
    "    </tr>\n",
    "    <tr>\n",
    "        <td style=\"font-size:16px\">a - b</td>\n",
    "        <td style=\"font-size:16px\">a.minus(b)</td>\n",
    "    </tr>\n",
    "    <tr>\n",
    "        <td style=\"font-size:16px\">a * b</td>\n",
    "        <td style=\"font-size:16px\">a.times(b)</td>\n",
    "    </tr>\n",
    "    <tr>\n",
    "        <td style=\"font-size:16px\">a / b</td>\n",
    "        <td style=\"font-size:16px\">a.div(b)</td>\n",
    "    </tr>\n",
    "    <tr>\n",
    "        <td style=\"font-size:16px\">a..b</td>\n",
    "        <td style=\"font-size:16px\">a.rangeTo(b)</td>\n",
    "    </tr>\n",
    "</table>\n",
    "\n",
    "Der Funktionskopf einer `operator`-Funktion ähnelt einer `infix`-Funktion. Statt dem Schlüsselword `infix` wird nun aber `operator` benutzt. Im Folgenden wird eine Klasse `Punkt` definiert und der unäre Operator `-` implementiert.\n"
   ]
  },
  {
   "cell_type": "code",
   "execution_count": 39,
   "id": "eeb572d8",
   "metadata": {},
   "outputs": [
    {
     "name": "stdout",
     "output_type": "stream",
     "text": [
      "Punkt(x=-10, y=-20, z=-30)\n"
     ]
    }
   ],
   "source": [
    "data class Punkt(val x: Int, val y: Int, val z: Int)\n",
    "\n",
    "operator fun Punkt.unaryMinus() = Punkt(-x, -y, -z)\n",
    "\n",
    "val punkt = Punkt(10, 20, 30)\n",
    "println(-punkt)"
   ]
  },
  {
   "cell_type": "markdown",
   "id": "98234c5e",
   "metadata": {},
   "source": [
    "#### Aufgabe - operator-Funktionen\n",
    "Erweitern Sie die Datenklasse `Punkt`, sodass zwei Punkte mit dem Operator `+` addiert werden können."
   ]
  },
  {
   "cell_type": "code",
   "execution_count": 40,
   "id": "cc4e5474",
   "metadata": {},
   "outputs": [
    {
     "name": "stderr",
     "output_type": "stream",
     "text": [
      "Line_39.jupyter-kts (6:23 - 24) Unresolved reference. None of the following candidates is applicable because of receiver type mismatch: \n",
      "public inline operator fun BigDecimal.plus(other: BigDecimal): BigDecimal defined in kotlin\n",
      "public inline operator fun BigInteger.plus(other: BigInteger): BigInteger defined in kotlin\n",
      "public operator fun <T> Array<TypeVariable(T)>.plus(element: TypeVariable(T)): Array<TypeVariable(T)> defined in kotlin.collections\n",
      "public operator fun <T> Array<TypeVariable(T)>.plus(elements: Array<out TypeVariable(T)>): Array<TypeVariable(T)> defined in kotlin.collections\n",
      "public operator fun <T> Array<TypeVariable(T)>.plus(elements: Collection<TypeVariable(T)>): Array<TypeVariable(T)> defined in kotlin.collections\n",
      "public operator fun BooleanArray.plus(element: Boolean): BooleanArray defined in kotlin.collections\n",
      "public operator fun BooleanArray.plus(elements: BooleanArray): BooleanArray defined in kotlin.collections\n",
      "public operator fun BooleanArray.plus(elements: Collection<Boolean>): BooleanArray defined in kotlin.collections\n",
      "public operator fun ByteArray.plus(element: Byte): ByteArray defined in kotlin.collections\n",
      "public operator fun ByteArray.plus(elements: ByteArray): ByteArray defined in kotlin.collections\n",
      "public operator fun ByteArray.plus(elements: Collection<Byte>): ByteArray defined in kotlin.collections\n",
      "public inline operator fun Char.plus(other: String): String defined in kotlin.text\n",
      "public operator fun CharArray.plus(element: Char): CharArray defined in kotlin.collections\n",
      "public operator fun CharArray.plus(elements: CharArray): CharArray defined in kotlin.collections\n",
      "public operator fun CharArray.plus(elements: Collection<Char>): CharArray defined in kotlin.collections\n",
      "public operator fun DoubleArray.plus(element: Double): DoubleArray defined in kotlin.collections\n",
      "public operator fun DoubleArray.plus(elements: DoubleArray): DoubleArray defined in kotlin.collections\n",
      "public operator fun DoubleArray.plus(elements: Collection<Double>): DoubleArray defined in kotlin.collections\n",
      "public operator fun FloatArray.plus(element: Float): FloatArray defined in kotlin.collections\n",
      "public operator fun FloatArray.plus(elements: FloatArray): FloatArray defined in kotlin.collections\n",
      "public operator fun FloatArray.plus(elements: Collection<Float>): FloatArray defined in kotlin.collections\n",
      "public operator fun IntArray.plus(element: Int): IntArray defined in kotlin.collections\n",
      "public operator fun IntArray.plus(elements: IntArray): IntArray defined in kotlin.collections\n",
      "public operator fun IntArray.plus(elements: Collection<Int>): IntArray defined in kotlin.collections\n",
      "public operator fun LongArray.plus(element: Long): LongArray defined in kotlin.collections\n",
      "public operator fun LongArray.plus(elements: LongArray): LongArray defined in kotlin.collections\n",
      "public operator fun LongArray.plus(elements: Collection<Long>): LongArray defined in kotlin.collections\n",
      "public operator fun ShortArray.plus(element: Short): ShortArray defined in kotlin.collections\n",
      "public operator fun ShortArray.plus(elements: ShortArray): ShortArray defined in kotlin.collections\n",
      "public operator fun ShortArray.plus(elements: Collection<Short>): ShortArray defined in kotlin.collections\n",
      "public operator fun String?.plus(other: Any?): String defined in kotlin\n",
      "public inline operator fun UByteArray.plus(element: UByte): UByteArray defined in kotlin.collections\n",
      "public inline operator fun UByteArray.plus(elements: UByteArray): UByteArray defined in kotlin.collections\n",
      "public operator fun UByteArray.plus(elements: Collection<UByte>): UByteArray defined in kotlin.collections\n",
      "public inline operator fun UIntArray.plus(element: UInt): UIntArray defined in kotlin.collections\n",
      "public inline operator fun UIntArray.plus(elements: UIntArray): UIntArray defined in kotlin.collections\n",
      "public operator fun UIntArray.plus(elements: Collection<UInt>): UIntArray defined in kotlin.collections\n",
      "public inline operator fun ULongArray.plus(element: ULong): ULongArray defined in kotlin.collections\n",
      "public inline operator fun ULongArray.plus(elements: ULongArray): ULongArray defined in kotlin.collections\n",
      "public operator fun ULongArray.plus(elements: Collection<ULong>): ULongArray defined in kotlin.collections\n",
      "public inline operator fun UShortArray.plus(element: UShort): UShortArray defined in kotlin.collections\n",
      "public inline operator fun UShortArray.plus(elements: UShortArray): UShortArray defined in kotlin.collections\n",
      "public operator fun UShortArray.plus(elements: Collection<UShort>): UShortArray defined in kotlin.collections\n",
      "public operator fun <T> Collection<TypeVariable(T)>.plus(element: TypeVariable(T)): List<TypeVariable(T)> defined in kotlin.collections\n",
      "public operator fun <T> Collection<TypeVariable(T)>.plus(elements: Array<out TypeVariable(T)>): List<TypeVariable(T)> defined in kotlin.collections\n",
      "public operator fun <T> Collection<TypeVariable(T)>.plus(elements: Iterable<TypeVariable(T)>): List<TypeVariable(T)> defined in kotlin.collections\n",
      "public operator fun <T> Collection<TypeVariable(T)>.plus(elements: Sequence<TypeVariable(T)>): List<TypeVariable(T)> defined in kotlin.collections\n",
      "public operator fun <T> Iterable<TypeVariable(T)>.plus(element: TypeVariable(T)): List<TypeVariable(T)> defined in kotlin.collections\n",
      "public operator fun <T> Iterable<TypeVariable(T)>.plus(elements: Array<out TypeVariable(T)>): List<TypeVariable(T)> defined in kotlin.collections\n",
      "public operator fun <T> Iterable<TypeVariable(T)>.plus(elements: Iterable<TypeVariable(T)>): List<TypeVariable(T)> defined in kotlin.collections\n",
      "public operator fun <T> Iterable<TypeVariable(T)>.plus(elements: Sequence<TypeVariable(T)>): List<TypeVariable(T)> defined in kotlin.collections\n",
      "public operator fun <K, V> Map<out TypeVariable(K), TypeVariable(V)>.plus(pairs: Array<out Pair<TypeVariable(K), TypeVariable(V)>>): Map<TypeVariable(K), TypeVariable(V)> defined in kotlin.collections\n",
      "public operator fun <K, V> Map<out TypeVariable(K), TypeVariable(V)>.plus(pair: Pair<TypeVariable(K), TypeVariable(V)>): Map<TypeVariable(K), TypeVariable(V)> defined in kotlin.collections\n",
      "public operator fun <K, V> Map<out TypeVariable(K), TypeVariable(V)>.plus(pairs: Iterable<Pair<TypeVariable(K), TypeVariable(V)>>): Map<TypeVariable(K), TypeVariable(V)> defined in kotlin.collections\n",
      "public operator fun <K, V> Map<out TypeVariable(K), TypeVariable(V)>.plus(map: Map<out TypeVariable(K), TypeVariable(V)>): Map<TypeVariable(K), TypeVariable(V)> defined in kotlin.collections\n",
      "public operator fun <K, V> Map<out TypeVariable(K), TypeVariable(V)>.plus(pairs: Sequence<Pair<TypeVariable(K), TypeVariable(V)>>): Map<TypeVariable(K), TypeVariable(V)> defined in kotlin.collections\n",
      "public operator fun <T> Set<TypeVariable(T)>.plus(element: TypeVariable(T)): Set<TypeVariable(T)> defined in kotlin.collections\n",
      "public operator fun <T> Set<TypeVariable(T)>.plus(elements: Array<out TypeVariable(T)>): Set<TypeVariable(T)> defined in kotlin.collections\n",
      "public operator fun <T> Set<TypeVariable(T)>.plus(elements: Iterable<TypeVariable(T)>): Set<TypeVariable(T)> defined in kotlin.collections\n",
      "public operator fun <T> Set<TypeVariable(T)>.plus(elements: Sequence<TypeVariable(T)>): Set<TypeVariable(T)> defined in kotlin.collections\n",
      "public operator fun <T> Sequence<TypeVariable(T)>.plus(element: TypeVariable(T)): Sequence<TypeVariable(T)> defined in kotlin.sequences\n",
      "public operator fun <T> Sequence<TypeVariable(T)>.plus(elements: Array<out TypeVariable(T)>): Sequence<TypeVariable(T)> defined in kotlin.sequences\n",
      "public operator fun <T> Sequence<TypeVariable(T)>.plus(elements: Iterable<TypeVariable(T)>): Sequence<TypeVariable(T)> defined in kotlin.sequences\n",
      "public operator fun <T> Sequence<TypeVariable(T)>.plus(elements: Sequence<TypeVariable(T)>): Sequence<TypeVariable(T)> defined in kotlin.sequences"
     ]
    }
   ],
   "source": [
    "//TODO\n",
    "\n",
    "//Test\n",
    "val punkt1 = Punkt(10, 20, 30)\n",
    "val punkt2 = Punkt(30, 20, 10)\n",
    "val sumPunkt = punkt1 + punkt2\n",
    "if (sumPunkt == Punkt(40,40,40)){\n",
    "    println(\"Richtig: $sumPunkt\")\n",
    "}\n",
    "else\n",
    "    println(\"Falsch: $sumPunkt. Das Ergebnis sollte eigentlich ${Punkt(40,40,40)} sein.\")"
   ]
  },
  {
   "cell_type": "code",
   "execution_count": 41,
   "id": "ed7e92c3",
   "metadata": {},
   "outputs": [
    {
     "name": "stdout",
     "output_type": "stream",
     "text": [
      "Richtig: Punkt(x=40, y=40, z=40)\n"
     ]
    }
   ],
   "source": [
    "//Lösung\n",
    "operator fun Punkt.plus(other: Punkt) = Punkt(x+other.x, y+other.y,z+other.z)\n",
    "\n",
    "//Test\n",
    "val punkt1 = Punkt(10, 20, 30)\n",
    "val punkt2 = Punkt(30, 20, 10)\n",
    "val sumPunkt = punkt1 + punkt2\n",
    "if (sumPunkt == Punkt(40,40,40)){\n",
    "    println(\"Richtig: $sumPunkt\")\n",
    "}\n",
    "else\n",
    "    println(\"Falsch: $sumPunkt. Das Ergebnis sollte eigentlich ${Punkt(40,40,40)} sein.\")"
   ]
  },
  {
   "cell_type": "markdown",
   "id": "d94d3b90",
   "metadata": {},
   "source": [
    "<img src=\"images/Lektion6.png\" style=\"margin: 20px auto 20px 0px\"/>\n",
    "<h2 style=\"display:none\">Lektion 6 - Datenstrukturen</h2>\n",
    "\n",
    "In dieser Lektion werden ausgewählte Datenstrukturen vorgestellt.\n",
    "### Pair\n",
    "Eine der simpelsten Datenstruktur stellt das Pair da. In diesem Konstrukt werden zwei Objekte zu einem verschmolzen. Sie müssen nicht der gleichen Klasse angehören. Für die Erzeugung wird der Konstruktor der Klasse `Pair` verwendet, der zwei Parameter erwartet. Auf die gespeicherten Objekte kann mit `first` oder `component1()` beziehungsweise `second` oder `component2()` zugegriffen werden. Beide Felder sind vom Typ `val` und können nach der Initialisierung durch den Konstruktor nicht mehr verändert werden."
   ]
  },
  {
   "cell_type": "code",
   "execution_count": 112,
   "id": "5adf95ff",
   "metadata": {},
   "outputs": [
    {
     "name": "stdout",
     "output_type": "stream",
     "text": [
      "erstes Objekt: 2, 2\n",
      "zweites Objekt: Kotlin, Kotlin\n"
     ]
    }
   ],
   "source": [
    "val paar = Pair(2,\"Kotlin\")\n",
    "println(\"erstes Objekt: ${paar.first}, ${paar.component1()}\")\n",
    "println(\"zweites Objekt: ${paar.second}, ${paar.component2()}\")"
   ]
  },
  {
   "cell_type": "markdown",
   "id": "68101b3a",
   "metadata": {},
   "source": [
    "### Array\n",
    "Der Aufbau eines Arrays sollte bereits bekannt sein. Die Funktionsweise in Kotlin unterscheidet sich nicht stark von der in Java, abgesehen von der Inititalisierung. Diese kann entweder mit dem Schlüsselwort `arrayOf`, falls alle Werte bereits vorliegen, oder mit dem Ausdruck `Array(Länge) { Standardwert }` erfolgen. Der generische Parameter der Klasse `Array` wird automatisch vom Compiler erkannt. Die Länge, die mit `size` angerufen werden kann, sowie die Klasse der gespeicherten Objekte kann im nachträglich nicht verändert werden. "
   ]
  },
  {
   "cell_type": "code",
   "execution_count": 117,
   "id": "2804795a",
   "metadata": {},
   "outputs": [
    {
     "name": "stdout",
     "output_type": "stream",
     "text": [
      "array1: [1, 2, 3, 4]\n",
      "array1[2]: 3\n",
      "array1.size: 4\n",
      "\n",
      "array2: [0.0, 0.0, 0.0, 0.0, 0.0, 0.0]\n",
      "array2[2]: 0.0\n",
      "array2.size: 6\n",
      "array2 geändert: [0.0, 0.0, 0.0, 5.0, 0.0, 0.0]\n",
      "array2[3]: 5.0\n"
     ]
    }
   ],
   "source": [
    "val array1 = arrayOf(1,2,3,4) //-> Int-Array\n",
    "println(\"array1: ${array1.toList()}\")\n",
    "println(\"array1[2]: ${array1[2]}\")\n",
    "println(\"array1.size: ${array1.size}\")\n",
    "println()\n",
    "\n",
    "val array2 = Array(6) {0.0} //-> Double-Array\n",
    "println(\"array2: ${array2.toList()}\")\n",
    "println(\"array2[2]: ${array2[2]}\")\n",
    "println(\"array2.size: ${array2.size}\")\n",
    "array2[3] = 5.0\n",
    "println(\"array2 geändert: ${array2.toList()}\")\n",
    "println(\"array2[3]: ${array2[3]}\") //5.0"
   ]
  },
  {
   "cell_type": "markdown",
   "id": "ac501a53",
   "metadata": {},
   "source": [
    "Mehrdimensionale Arrays können, wie in Java, erstellt werden, indem eindimensionale Arrays ineinander geschachtelt werden."
   ]
  },
  {
   "cell_type": "code",
   "execution_count": 124,
   "id": "8a3ebb9c",
   "metadata": {},
   "outputs": [
    {
     "name": "stdout",
     "output_type": "stream",
     "text": [
      "array2Dim1[0][3]: Eintrag\n",
      "array2Dim1[1][1]: 5\n"
     ]
    }
   ],
   "source": [
    "val array2Dim1 = Array(5) { Array(5) {\"Eintrag\"} } //Erzeugt ein 2 dimensionales String-Array der Größe 5x5 gefüllt mit dem String \"Eintrag\"\n",
    "println(\"array2Dim1[0][3]: ${array2Dim1[0][3]}\")\n",
    "\n",
    "val arrayDim2 = arrayOf( //Erzeugt ein 2 dimensionales Int-Array der Größe 3x3 gefüllt mit der Nummer der Position\n",
    "    arrayOf(1,2,3),\n",
    "    arrayOf(4,5,6),\n",
    "    arrayOf(7,8,9)\n",
    ")\n",
    "println(\"array2Dim1[1][1]: ${arrayDim2[1][1]}\")"
   ]
  },
  {
   "cell_type": "markdown",
   "id": "cc853591",
   "metadata": {},
   "source": [
    "#### Aufgabe - Array\n",
    "Vervollständigen Sie folgendes Codegerüst, sodass das 2 dimensionale Array `array` formatiert ausgegeben wird."
   ]
  },
  {
   "cell_type": "code",
   "execution_count": 44,
   "id": "a6de9269",
   "metadata": {},
   "outputs": [],
   "source": [
    "val array = Array(5) { Array(5) { (0..20).random() } }\n",
    "\n",
    "//TODO"
   ]
  },
  {
   "cell_type": "code",
   "execution_count": 45,
   "id": "6e5eb53e",
   "metadata": {},
   "outputs": [
    {
     "name": "stdout",
     "output_type": "stream",
     "text": [
      " 16 17 6 3 1\n",
      " 4 20 7 0 7\n",
      " 11 1 6 13 18\n",
      " 8 6 3 2 6\n",
      " 19 14 10 20 9\n"
     ]
    }
   ],
   "source": [
    "val array = Array(5) { Array(5) { (0..20).random() } }\n",
    "for (col in array){\n",
    "    for (elem in col){\n",
    "        print(\" $elem\")\n",
    "    }\n",
    "    println()\n",
    "}"
   ]
  },
  {
   "cell_type": "markdown",
   "id": "0f95edb5",
   "metadata": {},
   "source": [
    "### List\n",
    "Aufgrund einer größeren Flexibilität und besseren Implementierung sind in Kotlin Listen gegenüber Arrays zu bevorzugen. Ähnlich zu den zwei verschiedenen Variablentypen (`val`/`var`), sind Listen ebenso in veränderbare (`MutableList`) und unveränderbare (`List`) Listen aufgeteilt. Während die `MutableList` an eine klassische `List` in Java erinnert, können die Einträge einer Kotlin-`List` im nachhinein nicht verändert werden. Die Liste ist den heterogenen Datenstrukturen zuzuordnen.\n",
    "\n",
    "#### Inititalisierung\n",
    "Die Erzeugung eienr Liste erfolgt, ähnlich zu einem Array, mit der Funktion `listOf()` beziehungsweise `mutableListOf()`. Als Parameter können die Listeneinträge übergeben werden. Falls eine leere `MutableList` initialisiert werden soll, ist außerdem die Angabe des generischen Datentyps der Elemente elementar. Des Weiteren kann auch der bereits bei Arrays kennengelernte Konstruktor angewendet werden. Dabei muss eine (bei `List` festgesetzte) Länge angegeben werden. In den geschweiften Klammern ist ein Zugriff auf das aktuelle zu füllende Element mit dem Schlüsselwort `it` möglich."
   ]
  },
  {
   "cell_type": "code",
   "execution_count": 46,
   "id": "21f19d3a",
   "metadata": {},
   "outputs": [
    {
     "name": "stdout",
     "output_type": "stream",
     "text": [
      "liste1: [1, 2, 3, 4, 5, 6]\n",
      "liste2: []\n",
      "liste3: [1, 2.0, Kotlin, a, /]\n",
      "liste4: [Kotlin, Java]\n",
      "liste5: [0, 1, 2, 3, 4]\n",
      "liste6: [0, 1, 4, 9, 16, 25, 36, 49, 64, 81]\n",
      "liste7: [0, 0, 0, 0, 0, 10]\n"
     ]
    }
   ],
   "source": [
    "val liste1 = listOf(1,2,3,4,5,6) //unveränderbare Liste mit Elementen des Datentyps Int\n",
    "//liste1.add(5) -> Error: Unresolved reference: add\n",
    "println(\"liste1: $liste1\")\n",
    "\n",
    "val liste2 = listOf<Int>() //leere, unveränderbare Liste mit Elementen des Datentyps Int\n",
    "println(\"liste2: $liste2\")\n",
    "\n",
    "val liste3 = mutableListOf(1,2.0,\"Kotlin\",4.5,'a','/') //veränderbare Liste mit Elementen des Datentyps Any\n",
    "liste3.removeAt(3)\n",
    "println(\"liste3: $liste3\")\n",
    "\n",
    "val liste4 = mutableListOf<String>() //leere, veränderbare Liste mit Elementen des Datentyps String\n",
    "liste4.add(\"Kotlin\")\n",
    "liste4.add(\"Java\")\n",
    "//liste4.add(10) -> Error: The integer literal does not conform to the expected type String\n",
    "println(\"liste4: $liste4\")\n",
    "\n",
    "val liste5 = List(5) { it } //unveränderbare Liste mit Elementen des Datentyps Int, die den Index beinhalten\n",
    "println(\"liste5: $liste5\")\n",
    "\n",
    "val liste6 = MutableList(10) { it * it } //veränderbare Liste mit Elementen des Datentyps Int, die dem quadrierten Index entsprechen\n",
    "println(\"liste6: $liste6\")\n",
    "\n",
    "val liste7 = MutableList(5) { 0 } //veränderbare Liste mit Elementen des Datentyps Int, die 0 beinhalten\n",
    "liste7.add(10)\n",
    "println(\"liste7: $liste7\")"
   ]
  },
  {
   "cell_type": "markdown",
   "id": "d0555748",
   "metadata": {},
   "source": [
    "#### Veränderbar & Unveränderbar\n",
    "Bei der Betrachtung des oben genannten Beispiels könnten einige Fragen aufgekommen sein, die die Veränderbarkeit der Listen und deren Variablen betreffen. Deswegen folgt hier noch eine ausführlichere Erklärung.  \n",
    "Beginnen wir mit einer Betrachtung der verschiedenen Typen einer Liste: \n",
    "- Eine Instanz der Klasse `List` kann man sich vorstellen wie eine Liste mit einer, bei Initialisierung festgesetzter, Länge. In der Liste sind Variablen des Typs `val` gespeichert. Diese können also nicht verändert werden. \n",
    "- Eine Liste der Klasse `MutableList` hat keine festgelegte Länge und kann folglich beliebig verlängert oder verkürzt werden. Die Elemente sind Variablen des Typs `var` und können neu gesetzt werden.\n",
    "\n",
    "Gespeichert werden die Listen in eigenen Variablen, die erneut verschieden veränderbar sein können:\n",
    "- Wird eine Liste in einer Variable des Typs `val` gespeichert, kann der Variable keine neue Liste zugewiesen werden. Dies hat jedoch **keinen** Einfluss auf den Typ der Liste.\n",
    "- Wird eine Liste in einer Variable des Typs `var` gespeichert, kann die gespeicherte Liste durch eine Andere ersetzt werden. Die Variable ist veränderbar. Falls jedoch eine unveränderbare Liste in einer veränderbaren Variablen gespeichert wird, kann die Liste dennoch nicht bearbeitet werden.\n",
    "\n",
    "Zusammenfassung:\n",
    "\n",
    "<table style=\"font-size:16px\">\n",
    "<thead>\n",
    "  <tr>\n",
    "    <th style=\"font-size:16px\">Typ der Variable</th>\n",
    "    <th style=\"font-size:16px\">List</th>\n",
    "    <th style=\"font-size:16px\">MutableList</th>\n",
    "  </tr>\n",
    "</thead>\n",
    "<tbody>\n",
    "  <tr>\n",
    "    <td style=\"font-size:16px\"><b>val</b></td>\n",
    "    <td style=\"font-size:16px\">Variable und Liste können nicht verändert werden</td>\n",
    "    <td style=\"font-size:16px\">Variable kann nicht verändert werden, die Liste hingegen schon.</td>\n",
    "  </tr>\n",
    "  <tr>\n",
    "    <td style=\"font-size:16px\"><b>var</b></td>\n",
    "    <td style=\"font-size:16px\">Variable kann verändert werden, die Liste hingegen nicht.</td>\n",
    "    <td style=\"font-size:16px\">Variable und Liste können verändert werden</td>\n",
    "  </tr>\n",
    "</tbody>\n",
    "</table>"
   ]
  },
  {
   "cell_type": "markdown",
   "id": "7c6f547a",
   "metadata": {},
   "source": [
    "#### Ausgewählte Operationen\n",
    "Im Folgenden werden ausgewählte Operationen vorgestellt, die auf eine Liste angewendet werden können.\n",
    "##### Zugriff auf ein Element\n",
    "Der Zugriff auf ein Element kann entweder, wie bei einem Array, mit dem Index erfolgen oder mit der Methode `get()`, der der Index als Parameter übergeben wird."
   ]
  },
  {
   "cell_type": "code",
   "execution_count": 47,
   "id": "f1507b55",
   "metadata": {},
   "outputs": [
    {
     "name": "stdout",
     "output_type": "stream",
     "text": [
      "liste[1]: 1, liste.get(1): 1\n"
     ]
    }
   ],
   "source": [
    "val liste = listOf(0,1,2,3,4)\n",
    "println(\"liste[1]: ${liste[1]}, liste.get(1): ${liste.get(1)}\")"
   ]
  },
  {
   "cell_type": "markdown",
   "id": "0f012a89",
   "metadata": {},
   "source": [
    "##### Länge\n",
    "Die Länge einer Liste kann in der Variable `size` abgerufen werden."
   ]
  },
  {
   "cell_type": "code",
   "execution_count": 48,
   "id": "506251c2",
   "metadata": {},
   "outputs": [
    {
     "name": "stdout",
     "output_type": "stream",
     "text": [
      "Länge der Liste [true, false, false, false, true, true]: 6\n"
     ]
    }
   ],
   "source": [
    "val liste = listOf(true, false, false, false, true, true)\n",
    "println(\"Länge der Liste $liste: ${liste.size}\")"
   ]
  },
  {
   "cell_type": "markdown",
   "id": "6a01529f",
   "metadata": {},
   "source": [
    "##### Konvertierung\n",
    "Listen können untereinander mit `toList()` beziehungsweise `toMutableList()` konvertiert werden. Außerdem können auch andere Datenstrukturen mit dieser Funktion zu einer Liste umgewandelt werden. Dies ist vor Allem hilfreich, wenn Datenstrukturen ausgegeben werden sollen. "
   ]
  },
  {
   "cell_type": "code",
   "execution_count": 49,
   "id": "b1d8f226",
   "metadata": {},
   "outputs": [
    {
     "name": "stdout",
     "output_type": "stream",
     "text": [
      "array ist ein Array: true, array: [Ljava.lang.Integer;@4158840d\n",
      "liste1 ist eine List: true, liste1: [1, 2, 3, 4, 5, 6]\n",
      "liste2 ist eine MutableList: true, liste2: [1, 2, 3, 4, 5, 6, 5]\n"
     ]
    }
   ],
   "source": [
    "val array = arrayOf(1,2,3,4,5,6)\n",
    "println(\"array ist ein Array: ${array is Array<*>}, array: $array\")\n",
    "val liste1 = array.toList()\n",
    "// liste.add(5) -> Error\n",
    "println(\"liste1 ist eine List: ${liste1 is List<*>}, liste1: $liste1\")\n",
    "val liste2 = liste1.toMutableList()\n",
    "liste2.add(5) //-> funktioniert\n",
    "println(\"liste2 ist eine MutableList: ${liste2 is MutableList<*>}, liste2: $liste2\")"
   ]
  },
  {
   "cell_type": "markdown",
   "id": "bf27f938",
   "metadata": {},
   "source": [
    "##### Füllen und Leeren\n",
    "Eine veränderbare Liste kann durch `fill()` mit dem übergebenden Objekt gefüllt werden. `clear()` hingegen löscht alle Elemente aus der Liste."
   ]
  },
  {
   "cell_type": "code",
   "execution_count": 50,
   "id": "699e3dc9",
   "metadata": {},
   "outputs": [
    {
     "name": "stdout",
     "output_type": "stream",
     "text": [
      "Liste: [1, 2, 3, 4, 5, 6]\n",
      "Gefüllte Liste: [100, 100, 100, 100, 100, 100]\n",
      "Geleerte Liste: []\n"
     ]
    }
   ],
   "source": [
    "val liste = mutableListOf(1,2,3,4,5,6)\n",
    "println(\"Liste: $liste\")\n",
    "liste.fill(100)\n",
    "println(\"Gefüllte Liste: $liste\")\n",
    "liste.clear()\n",
    "println(\"Geleerte Liste: $liste\")"
   ]
  },
  {
   "cell_type": "markdown",
   "id": "35892b53",
   "metadata": {},
   "source": [
    "##### Hinzufügen und Löschen\n",
    "Einer veränderbaren Liste können Elemente mit `add()` hinzugefügt werden. Wird nur das Element übergeben, wird dieses am Ende angehängt. Wenn zusätzlich noch ein Index angegeben wird, wird das Element an diesem eingefügt.  \n",
    "Mit `remove()` beziehungsweise `removeAt()` kann ein bestimmtes Element oder ein Element an einem bestimmten Index entfernt werden.  \n",
    "Für eine bessere Übersitlichkeit kann das Hinzufügen oder Entfernen mit Operatoren abgekürzt werden. Diese `operator`-Funktionen verweisen aber lediglich auf `add()` und `remove()`."
   ]
  },
  {
   "cell_type": "code",
   "execution_count": 51,
   "id": "99039468",
   "metadata": {},
   "outputs": [
    {
     "name": "stdout",
     "output_type": "stream",
     "text": [
      "Liste: [a, b, c, d, e]\n",
      "Liste mit hinzugefügten Elementen (f, z): [a, b, z, c, d, e, f]\n",
      "Liste mit entfernten Elementen (e, a): [b, z, c, d, f]\n",
      "\n",
      "Kurzschreibweise\n",
      "Liste2: [a, b, c, d, e]\n",
      "Liste2 mit hinzugefügten Elementen (f, z): [a, b, z, c, d, e, f]\n",
      "Liste2 mit entfernten Elementen (e, a): [b, z, c, d, f]\n"
     ]
    }
   ],
   "source": [
    "val liste = mutableListOf('a', 'b', 'c', 'd', 'e')\n",
    "println(\"Liste: $liste\")\n",
    "liste.add('f')\n",
    "liste.add(2, 'z')\n",
    "println(\"Liste mit hinzugefügten Elementen (f, z): $liste\")\n",
    "liste.remove('e')\n",
    "liste.removeAt(0)\n",
    "println(\"Liste mit entfernten Elementen (e, a): $liste\")\n",
    "\n",
    "//Kurzschreibweise\n",
    "println(\"\\nKurzschreibweise\")\n",
    "val liste2 = mutableListOf('a', 'b', 'c', 'd', 'e')\n",
    "println(\"Liste2: $liste2\")\n",
    "liste2 += 'f'\n",
    "liste2.add(2, 'z')\n",
    "println(\"Liste2 mit hinzugefügten Elementen (f, z): $liste2\")\n",
    "liste2 -= 'e'\n",
    "liste2.removeAt(0)\n",
    "println(\"Liste2 mit entfernten Elementen (e, a): $liste2\")"
   ]
  },
  {
   "cell_type": "markdown",
   "id": "ecf1bd93",
   "metadata": {},
   "source": [
    "##### Teilliste\n",
    "Eine Teilliste kann mit der Funktion `subList()` erstellt werden. Dabei müssen als Parameter der Startindex (inklusive) und Endindex (exklusive) angegeben werden.  \n",
    "Eine neue Liste mit den ersten n Elementen einer Liste kann mit `take(n)` erzeugt werden. Sollen hingegen die letzten *n* Elemente zurückgegeben werden findet `takeLast(n)` Anwendung.  \n",
    "Im Gegensatz dazu kann auf eine Liste ohne die ersten *n* Elemente mit der Methode `drop(n)` zugegriffen werden."
   ]
  },
  {
   "cell_type": "code",
   "execution_count": 52,
   "id": "7c122ff8",
   "metadata": {},
   "outputs": [
    {
     "name": "stdout",
     "output_type": "stream",
     "text": [
      "Ausgangsliste: [1, 2, 3, 4, 5, 6]\n",
      "Teilliste von 3 bis liste.size: [4, 5, 6]\n",
      "Teilliste der ersten 3 Elemente: [1, 2, 3]\n",
      "Teilliste der letzten 3 Elemente: [4, 5, 6]\n",
      "Teilliste ohne die ersten 3 Elemente: [4, 5, 6]\n"
     ]
    }
   ],
   "source": [
    "val liste = listOf(1,2,3,4,5,6)\n",
    "println(\"Ausgangsliste: $liste\")\n",
    "val teilliste = liste.subList(3, liste.size)\n",
    "println(\"Teilliste von 3 bis liste.size: $teilliste\")\n",
    "val teilliste2 = liste.take(3)\n",
    "println(\"Teilliste der ersten 3 Elemente: $teilliste2\")\n",
    "val teilliste3 = liste.takeLast(3)\n",
    "println(\"Teilliste der letzten 3 Elemente: $teilliste3\")\n",
    "val teilliste4 = liste.drop(3)\n",
    "println(\"Teilliste ohne die ersten 3 Elemente: $teilliste4\")"
   ]
  },
  {
   "cell_type": "markdown",
   "id": "38ef79f9",
   "metadata": {},
   "source": [
    "##### Suchen\n",
    "Mit dem Schlüsselwort `in` kann ein Element in einer Liste gesucht werden. Zurückgegeben wird `true`, falls es gefunden wurde, ansonsten `false`.<br />\n",
    "Wenn, statt der Information ob das Element vorhanden ist, zusätzlich noch der Index gesucht ist, kann die Methode `indexOf()` benutzt werden. Falls das übergebene Element nicht in der Liste vorhanden ist, wird `-1` zurückgegeben."
   ]
  },
  {
   "cell_type": "code",
   "execution_count": 125,
   "id": "64ebc3d8",
   "metadata": {},
   "outputs": [
    {
     "name": "stdout",
     "output_type": "stream",
     "text": [
      "Ist 'Lua' in der Liste: true\n",
      "Ist 'Javascript' in der Liste: false\n",
      "Index von 'Lua' in der Liste: 2\n",
      "Index von 'Javascript' in der Liste: -1\n"
     ]
    }
   ],
   "source": [
    "val liste = listOf(\"Kotlin\", \"Java\", \"Lua\", \"C\", \"Swift\")\n",
    "println(\"Ist 'Lua' in der Liste: ${\"Lua\" in liste}\")\n",
    "println(\"Ist 'Javascript' in der Liste: ${\"Javascript\" in liste}\")\n",
    "println(\"Index von 'Lua' in der Liste: ${liste.indexOf(\"Lua\")}\")\n",
    "println(\"Index von 'Javascript' in der Liste: ${liste.indexOf(\"Javascript\")}\")"
   ]
  },
  {
   "cell_type": "markdown",
   "id": "dfb21170",
   "metadata": {},
   "source": [
    "##### Anordnen und Zufall\n",
    "Ein zufälliges Element einer Liste (oder auch eines Bereichs) kann mit `random()` erhalten werden.  \n",
    "Soll eine veränderbare Liste durchmischt werden, findet `shuffle()` Anwendung.  \n",
    "Das sortieren einer veränderbaren Liste funktioniert unter Anderem mit `sort()`. [Weiterführende Informationen](https://kotlinlang.org/api/latest/jvm/stdlib/kotlin.collections/sort.html) zu Sortierstrategien."
   ]
  },
  {
   "cell_type": "code",
   "execution_count": 54,
   "id": "caf20a32",
   "metadata": {},
   "outputs": [
    {
     "name": "stdout",
     "output_type": "stream",
     "text": [
      "Ausgangsliste: [0, 1, 2, 3, 4, 5, 6, 7, 8, 9]\n",
      "Zufälliges Element: 4\n",
      "Zufälliges Element zwischen 0 und 9: 1\n",
      "Zufällige Anordnung: [8, 4, 0, 7, 2, 5, 6, 1, 9, 3]\n",
      "Wieder sortiert: [0, 1, 2, 3, 4, 5, 6, 7, 8, 9]\n"
     ]
    }
   ],
   "source": [
    "val liste = mutableListOf(0,1,2,3,4,5,6,7,8,9)\n",
    "println(\"Ausgangsliste: $liste\")\n",
    "println(\"Zufälliges Element: ${liste.random()}\")\n",
    "println(\"Zufälliges Element zwischen 0 und 9: ${(0..10).random()}\")\n",
    "liste.shuffle()\n",
    "println(\"Zufällige Anordnung: ${liste}\")\n",
    "liste.sort()\n",
    "println(\"Wieder sortiert: ${liste}\")"
   ]
  },
  {
   "cell_type": "markdown",
   "id": "c3da419b",
   "metadata": {},
   "source": [
    "#### Aufgabe - Binäre Suche in einer Liste\n",
    "Implementieren Sie eine Funktion `binaereSuche`, die in einer übergebenen Liste eine übergebe Zahl sucht. Zurückgegeben werden soll die Position der gesuchten Zahl. Kann diese nicht gefunden werden, soll das Ergebnis `-1` betragen. Verwende dabei die [rekursive Binäre Suche](https://de.wikipedia.org/wiki/Bin%C3%A4re_Suche)."
   ]
  },
  {
   "cell_type": "code",
   "execution_count": 91,
   "id": "81308579",
   "metadata": {},
   "outputs": [
    {
     "name": "stdout",
     "output_type": "stream",
     "text": [
      "Richtig!\n"
     ]
    }
   ],
   "source": [
    "//TODO\n",
    "\n",
    "//Test\n",
    "val testListe = List(100) { (0..100).random() }.sorted()\n",
    "val testZahl = (0..100).random()\n",
    "if(testListe.indexOf(testZahl) !=  binaereSuche(testListe, testZahl))\n",
    "    println(\"Fehler! testListe.indexOf($testZahl): ${testListe.indexOf(testZahl)}, binaereSuche(testListe, $testZahl): ${binaersuche(testListe, testZahl)}\")\n",
    "else\n",
    "    println(\"Richtig!\")"
   ]
  },
  {
   "cell_type": "code",
   "execution_count": 92,
   "id": "5d9d95a6",
   "metadata": {},
   "outputs": [
    {
     "name": "stdout",
     "output_type": "stream",
     "text": [
      "Richtig!\n"
     ]
    }
   ],
   "source": [
    "//Lösung\n",
    "fun binaereSuche_rekursiv(liste: List<Int>, gesucht: Int, start: Int, ende: Int): Int{\n",
    "    if (ende < start)\n",
    "        return -1\n",
    "    val mitte = (start + ende) / 2\n",
    "    return if (liste[mitte] == gesucht)\n",
    "        mitte\n",
    "    else if (liste[mitte] < gesucht)\n",
    "        binaersuche_rekursiv(liste, gesucht, mitte + 1, ende)\n",
    "    else\n",
    "        binaersuche_rekursiv(liste, gesucht, start, mitte - 1)\n",
    "}\n",
    "\n",
    "fun binaereSuche(liste: List<Int>, gesucht: Int) = binaereSuche_rekursiv(liste, gesucht, 0, liste.size - 1)\n",
    "\n",
    "//Test\n",
    "val testListe = List(100) { (0..100).random() }.sorted()\n",
    "val testZahl = (0..100).random()\n",
    "if(testListe.indexOf(testZahl) !=  binaereSuche(testListe, testZahl))\n",
    "    println(\"Fehler! testListe.indexOf($testZahl): ${testListe.indexOf(testZahl)}, binaereSuche(testListe, $testZahl): ${binaersuche(testListe, testZahl)}\")\n",
    "else\n",
    "    println(\"Richtig!\")"
   ]
  },
  {
   "cell_type": "markdown",
   "id": "592c1b4b",
   "metadata": {},
   "source": [
    "### Set\n",
    "Sets sind primitive Listen. Ihre Elemente sind ungeordnet und es sind keine Dublikate zu finden. Nur ein `MutableSet` kann vergrößert oder verkleinert werden. Erzeugt können sie mit `setOf()` beziehungsweise `mutableSetOf()` werden."
   ]
  },
  {
   "cell_type": "code",
   "execution_count": 56,
   "id": "54a1c5d5",
   "metadata": {},
   "outputs": [
    {
     "name": "stdout",
     "output_type": "stream",
     "text": [
      "unveränderbares Set: [1, 6, 3, 4, 5, 2]\n",
      "veränderbares Set: [1, 6, 3, 4, 5, 2]\n",
      "veränderbares Set ohne 3: [1, 6, 4, 5, 2]\n",
      "veränderbares Set mit 10: [1, 6, 4, 5, 2, 10]\n"
     ]
    }
   ],
   "source": [
    "val set = setOf(1,6,3,4,5,1,2,3)\n",
    "println(\"unveränderbares Set: $set\")\n",
    "val set2 = mutableSetOf(1,6,3,4,5,1,2,3)\n",
    "println(\"veränderbares Set: $set2\")\n",
    "set2.remove(3)\n",
    "println(\"veränderbares Set ohne 3: $set2\")\n",
    "set2.add(10)\n",
    "println(\"veränderbares Set mit 10: $set2\")"
   ]
  },
  {
   "cell_type": "markdown",
   "id": "b611ba4e",
   "metadata": {},
   "source": [
    "Ein Vorteil an Sets ist, dass einfache Operationen mit Mengen ermöglicht werden. Mit `union` oder `+` können zwei Sets vereinigt werden, `intersect` gibt eine Schnittmenge zurück und `subtract` entfernt alle Elemente der ersten Menge aus der Zweiten."
   ]
  },
  {
   "cell_type": "code",
   "execution_count": 57,
   "id": "9be634d9",
   "metadata": {
    "tags": []
   },
   "outputs": [
    {
     "name": "stdout",
     "output_type": "stream",
     "text": [
      "Set1: [1, 2, 3, 4, 5], Set2: [4, 5, 6, 7, 8]\n",
      "Vereinigung: [1, 2, 3, 4, 5, 6, 7, 8]\n",
      "Schnittmenge: [4, 5]\n",
      "Subtraktion: [1, 2, 3]\n"
     ]
    }
   ],
   "source": [
    "val set1 = setOf(1,2,3,4,5)\n",
    "val set2 = setOf(4,5,6,7,8)\n",
    "println(\"Set1: $set1, Set2: $set2\")\n",
    "val vereinigung = set1 union set2\n",
    "println(\"Vereinigung: $vereinigung\")\n",
    "val schnitt = set1 intersect set2\n",
    "println(\"Schnittmenge: $schnitt\")\n",
    "val subset = set1 subtract set2\n",
    "println(\"Subtraktion: $subset\")"
   ]
  },
  {
   "cell_type": "markdown",
   "id": "b4ae0942",
   "metadata": {},
   "source": [
    "### Map\n",
    "Maps sind einfach ausgedrückt eine Liste von Paaren. Ein Paar besteht aus einem Schlüssel (*key*) und einem Wert (*value*). Der Schlüssel ist dabei der *Index* eines Werts. Eine unveränderbare Map gehört der Klasse `Map` an und kann mit `mapOf()` erzeugt werden, während eine Veränderbare der Klasse `MutableMap` zugeordnet und mit Hilfe von `mutableMapOf()` initialisiert wird. Ein Eintrag in einer Map wird mit einem Schlüssel und einem Wert verbunden mit `to` gekennzeichnet. Zu einer veränderbaren Map kann mit der Funktion `put()` ein Eintrag hinzugefügt werden. Dazu müssen der Schlüssel und der Wert übergeben werden. Ein Eintrag kann mit `remove()` und der Angabe des Schlüssels entfernt werden."
   ]
  },
  {
   "cell_type": "code",
   "execution_count": 7,
   "id": "f3eab9ca",
   "metadata": {
    "execution": {
     "iopub.execute_input": "2021-05-26T16:26+0200",
     "iopub.status.busy": "2021-05-26T16:26+0200",
     "iopub.status.idle": "2021-05-26T16:26+0200",
     "shell.execute_reply": "2021-05-26T16:26+0200",
     "shell.execute_reply.started": "2021-05-26T16:26+0200"
    },
    "tags": []
   },
   "outputs": [
    {
     "name": "stdout",
     "output_type": "stream",
     "text": [
      "Unveränderbare Map: {Kotlin=0, Java=1, C=2}\n",
      "\n",
      "Veränderbare Map: {AI1=Westfechtel, AI2=Rauber, AI3=Henrich}\n",
      "Wert zum Schlüssel AI2: Rauber\n",
      "Veränderbare Map mit AI4: {AI1=Westfechtel, AI2=Rauber, AI3=Henrich, AI4=Jablonski}\n",
      "Veränderbare Map ohne AI2: {AI1=Westfechtel, AI3=Henrich, AI4=Jablonski}\n",
      "\n",
      "Leere Map: {}\n"
     ]
    }
   ],
   "source": [
    "val map = mapOf(\"Kotlin\" to 0, \"Java\" to 1, \"C\" to 2)\n",
    "println(\"Unveränderbare Map: $map\")\n",
    "println()\n",
    "\n",
    "val map2 = mutableMapOf(\"AI1\" to \"Westfechtel\", \"AI2\" to \"Rauber\", \"AI3\" to \"Henrich\")\n",
    "println(\"Veränderbare Map: $map2\")\n",
    "println(\"Wert zum Schlüssel AI2: ${map2[\"AI2\"]}\")\n",
    "map2.put(\"AI4\", \"Jablonski\")\n",
    "println(\"Veränderbare Map mit AI4: $map2\")\n",
    "map2.remove(\"AI2\")\n",
    "println(\"Veränderbare Map ohne AI2: $map2\")\n",
    "println()\n",
    "\n",
    "val leereMap = mutableMapOf<String, Int>() //leere veränderbare Map, deren Schlüssel Strings und Werte Ints sind\n",
    "println(\"Leere Map: $leereMap\")"
   ]
  },
  {
   "cell_type": "markdown",
   "id": "a8afdbce",
   "metadata": {},
   "source": [
    "Eine Map kann mit einer `for`-Schleife in Kombination mit `in` einfach durchlaufen werden:"
   ]
  },
  {
   "cell_type": "code",
   "execution_count": 59,
   "id": "4883dfb7",
   "metadata": {},
   "outputs": [
    {
     "name": "stdout",
     "output_type": "stream",
     "text": [
      "AI1: Westfechtel\n",
      "AI2: Rauber\n",
      "AI3: Henrich\n",
      "AI4: Jablonski\n"
     ]
    }
   ],
   "source": [
    "val map = mapOf(\"AI1\" to \"Westfechtel\", \"AI2\" to \"Rauber\", \"AI3\" to \"Henrich\", \"AI4\" to \"Jablonski\")\n",
    "for ((key, value) in map){\n",
    "    println(\"$key: $value\")\n",
    "}"
   ]
  },
  {
   "cell_type": "markdown",
   "id": "bea9b3ee",
   "metadata": {},
   "source": [
    "#### Aufgabe - Quadrierende Map\n",
    "Das Ziel dieser Aufgabe ist es eine Map zu generieren, die die Zahlen von 1 bis *n* auf ihre Quadratzahlen *abbildet*. Implementieren Sie dazu eine Funktion `generiereMap()`, der ein `Int`-Wert, der das Maximum darstellt, übergeben wird. Die generierte Map soll von der Funktion zurückgegeben werden.  \n",
    "Beispiel: `mapOf(1 to 1, 2 to 4, 3 to 6, ...)`"
   ]
  },
  {
   "cell_type": "code",
   "execution_count": null,
   "id": "0a000ab7",
   "metadata": {},
   "outputs": [],
   "source": [
    "//TODO\n",
    "\n",
    "//Test\n",
    "var fehler = 0\n",
    "for ((schluessel, wert) in generiereMap(100)){\n",
    "    if(schluessel * schluessel != wert){\n",
    "        println(\"Fehler! Das Quadrat von $schluessel ist ${schluessel*schluessel} und nicht $wert\")\n",
    "        fehler++\n",
    "    }\n",
    "}\n",
    "if (generiereMap(100).keys.toList() != List(100) { it+1 }){\n",
    "    println(\"Fehler! Es sind nicht alle Zahlen von 1 bis inklusive 100 bei dem Aufruf generiereMap(100) in dem Ergebnis vorhanden.\\n${generiereMap(100).keys.toList()}\")\n",
    "    fehler++\n",
    "}\n",
    "\n",
    "if (fehler == 0)\n",
    "    println(\"Richtig!\")\n",
    "else\n",
    "    println(\"Falsch! Es traten $fehler Fehler auf.\")"
   ]
  },
  {
   "cell_type": "code",
   "execution_count": 18,
   "id": "0dcc1dcf",
   "metadata": {
    "execution": {
     "iopub.execute_input": "2021-05-26T16:32+0200",
     "iopub.status.busy": "2021-05-26T16:32+0200",
     "iopub.status.idle": "2021-05-26T16:32+0200",
     "shell.execute_reply": "2021-05-26T16:32+0200",
     "shell.execute_reply.started": "2021-05-26T16:32+0200"
    },
    "tags": []
   },
   "outputs": [
    {
     "name": "stdout",
     "output_type": "stream",
     "text": [
      "Richtig!\n"
     ]
    }
   ],
   "source": [
    "//Lösung\n",
    "fun generiereMap(n: Int): Map<Int, Int> {\n",
    "    val ergebnis = mutableMapOf<Int, Int>()\n",
    "    for (i in 1..n){\n",
    "        ergebnis.put(i, i*i)\n",
    "    }\n",
    "    return ergebnis\n",
    "}\n",
    "\n",
    "//Test\n",
    "var fehler = 0\n",
    "for ((schluessel, wert) in generiereMap(100)){\n",
    "    if(schluessel * schluessel != wert){\n",
    "        println(\"Fehler! Das Quadrat von $schluessel ist ${schluessel*schluessel} und nicht $wert\")\n",
    "        fehler++\n",
    "    }\n",
    "}\n",
    "if (generiereMap(100).keys.toList() != List(100) { it+1 }){\n",
    "    println(\"Fehler! Es sind nicht alle Zahlen von 1 bis inklusive 100 bei dem Aufruf generiereMap(100) in dem Ergebnis vorhanden.\\n${generiereMap(100).keys.toList()}\")\n",
    "    fehler++\n",
    "}\n",
    "\n",
    "if (fehler == 0)\n",
    "    println(\"Richtig!\")\n",
    "else\n",
    "    println(\"Falsch! Es traten $fehler Fehler auf.\")"
   ]
  },
  {
   "cell_type": "markdown",
   "id": "2fa8df08",
   "metadata": {},
   "source": [
    "<img src=\"images/Zusammenfassung.png\" style=\"margin: 20px auto 20px 0px\"/>\n",
    "<h2 style=\"display:none\">Zusammenfassung</h2>\n",
    "\n",
    "In diesem Abschnitt wurden die Grundlagen von Kotlin vorgestellt. Dabei wurde Bezug auf die Unterschiede und Gemeinsamkeiten zu Java genommen. Sie sollten jetzt in der Lage sein:\n",
    "* grundlegende Funktionen mit Variablen und Kontrollstrukturen zu implementieren.\n",
    "* die verschiedenen Möglichkeiten der Implementierung einer Funktion, sowie die Definition von Parametern und des Rückgabetyps, zu veranschaulichen.\n",
    "* die Datenstrukturen Pair, Array, Liste, Map und Set zu verwenden.\n",
    "* die gelernten Konzepte zwischen Kotlin und Java zu vergleichen.\n",
    "* einen einfachen Java-Code nach Kotlin umzuwandeln.\n",
    "\n",
    "Eine gebündelte Zusammenfassung der Inhalte finden Sie in dem <a href=\"Abschnitt1-Zusammenfassung.ipynb\">zugehörigen Notebook</a>. Bearbeiten Sie im nächsten Schritt die bewertete Übung zu Abschnitt 1. Der nächste Abschnitt dreht sich um die funktionale Programmierung."
   ]
  }
 ],
 "metadata": {
  "kernelspec": {
   "display_name": "Kotlin",
   "language": "kotlin",
   "name": "kotlin"
  },
  "language_info": {
   "codemirror_mode": "text/x-kotlin",
   "file_extension": ".kt",
   "mimetype": "text/x-kotlin",
   "name": "kotlin",
   "nbconvert_exporter": "",
   "pygments_lexer": "kotlin",
   "version": "1.5.20-dev-5817"
  },
  "toc-autonumbering": false,
  "toc-showcode": false,
  "toc-showmarkdowntxt": false,
  "toc-showtags": false
 },
 "nbformat": 4,
 "nbformat_minor": 5
}
