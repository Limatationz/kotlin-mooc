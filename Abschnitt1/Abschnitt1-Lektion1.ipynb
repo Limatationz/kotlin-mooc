{
 "cells": [
  {
   "cell_type": "markdown",
   "id": "1c262921",
   "metadata": {},
   "source": [
    "<img src=\"images/Abschnitt1.png\" style=\"margin-left: auto; margin-right: auto; display: block; margin-bottom: 20px\"/>\n",
    "<h1 style=\"display:none\">Abschnitt 1 - Grundlagen</h1>\n",
    "In dem ersten Abschnitt werden die Grundlagen von Kotlin erlernt. An einigen Stellen werden die Unterschiede und Gemeinsamkeiten mit Java beleuchtet.\n",
    "<div style=\"float:left; width: 50%\">\n",
    "    <img src=\"images/Einführung.png\" style=\"margin: 20px auto 0px 0px\"/>\n",
    "</div>\n",
    "<div style=\"float:left; width: 50%\">\n",
    "    <img src=\"images/Download.png\" style=\"margin: 20px 0px 0px auto\"/>\n",
    "</div>\n",
    "<h2 style=\"display:none\">Einführung</h2>"
   ]
  },
  {
   "cell_type": "markdown",
   "id": "b91b5c32",
   "metadata": {},
   "source": [
    " <img src=\"images/Lektion1.png\" style=\"margin: 20px auto 0px 0px\"/>\n",
    "<h2 style=\"display:none\">Lektion 1 - Hello World</h2>\n",
    "\n",
    "### Grundgerüst\n",
    "Der Start des Erlernens einer neuen Programmiersprache ist traditionell ein \"Hello World\"-Programm. Dieses gibt in der Konsole den String \"Hello World\" aus.<br />\n",
    "<div style=\"float: left; width: 50%\">\n",
    "    <pre lang=\"java\">\n",
    "//Java\n",
    "public class Main{\n",
    "    public static void main(String[] args){\n",
    "        System.out.println(\"Hello World Java.\")\n",
    "    }\n",
    "}\n",
    "</pre>\n",
    "</div>\n",
    "<div style=\"float: left; width: 50%\">\n",
    "<pre lang=\"kotlin\">\n",
    "//Kotlin\n",
    "fun main(){\n",
    "    println(\"Hello World Kotlin.\")\n",
    "}\n",
    "</pre>\n",
    "</div>\n",
    "<div style=\"clear:both\">\n",
    "    \n",
    "Im direkten Vergleich sind einige Unterschiede festzustellen:\n",
    "<ul>    \n",
    "<li> Klasse: Es können Funktionen auf der höchste Ebene (top-level) deklariert und aufgerufen werden. </li>\n",
    "<li> Funktionensyntax: Funktionen werden mit dem Schlüsselbegriff <code>fun</code> gekennzeichnet. Falls die Funktion keinen Rückgabetyp (in Java gekennzeichnet durch <code>void</code>) besitzt, wird die explizite Angabe des Rückgabetyps weggelassen.</li>\n",
    "<li> Hauptprogramm: Das Argument der <code>main</code>-Funktion (in Java <code>String[] args</code>) muss nicht übergeben werden und wird, falls es nicht existiert, von Kotlin ergänzt.</li>\n",
    "<li> <code>println()</code>: Die Bibliotheksfunktion <code>println()</code> befindet sich in der Standardbibliothek von Kotlin, weswegen sie direkt ausgerufen werden kann.</li>\n",
    "</ul>    \n",
    "Eine Funktion kann, wie in Java, mit ihrem Namen aufgerufen werden:"
   ]
  },
  {
   "cell_type": "code",
   "execution_count": 7,
   "id": "4f529c6d",
   "metadata": {
    "tags": [
     "hide-input"
    ]
   },
   "outputs": [],
   "source": [
    "fun main(){\n",
    "    println(\"Hello World Kotlin.\")\n",
    "}"
   ]
  },
  {
   "cell_type": "code",
   "execution_count": 8,
   "id": "15590335",
   "metadata": {},
   "outputs": [
    {
     "name": "stdout",
     "output_type": "stream",
     "text": [
      "Hello World Kotlin.\n"
     ]
    }
   ],
   "source": [
    "main()"
   ]
  },
  {
   "cell_type": "markdown",
   "id": "a9f54a7b",
   "metadata": {
    "tags": []
   },
   "source": [
    "### Erweiterung\n",
    "Das \"Hello World\"-Programm soll nun so erweitert werden, dass der Ausgabe eine Variable angehängt wird."
   ]
  },
  {
   "cell_type": "code",
   "execution_count": 3,
   "id": "3b532670",
   "metadata": {
    "tags": []
   },
   "outputs": [
    {
     "name": "stdout",
     "output_type": "stream",
     "text": [
      "Hello World Max.\n"
     ]
    }
   ],
   "source": [
    "fun main(){\n",
    "    val name : String = \"Max\"\n",
    "    println(\"Hello World $name.\")\n",
    "}\n",
    "main()"
   ]
  },
  {
   "cell_type": "markdown",
   "id": "c919ef5f",
   "metadata": {
    "tags": []
   },
   "source": [
    "Bei dem Funktionenkopf und -aufruf ist kein Unterschied zu erkennen. <br>\n",
    "In der Funktion hingegen wurde eine neue Variable `name` deklariert und dieser direkt der Wert `\"Max\"` zugewiesen. Das hier verwendete Stichwort zur Deklaration der Variable ist `val` (näheres dazu in [Lektion 2](#Lektion-2---Variablen)). Der Datentyp der Variable wird hinter deren Namen mit einem `:` getrennt angegeben. Eine weitere Auffälligkeit ist das Fehlen von `;` nach jeder Anweisung. Dieses wird in Kotlin nur noch benutzt, wenn mehrere Anweisungen in eine Zeile geschrieben werden.<br>\n",
    "Ein weiterer Unterschied zwischen Kotlin und Java ist die Verwendung von Variablen in Strings:\n",
    "<table style=\"width:800px; font-size:18px\">\n",
    "<tr>\n",
    "<th>Java</th>\n",
    "<th>Kotlin</th>\n",
    "</tr>\n",
    "\n",
    "<tr>\n",
    "<td>\"Hello World\" + name</td>\n",
    "<td>\"Hello World \\$name\" </td>\n",
    "</tr>\n",
    "\n",
    "<tr>\n",
    "<td>String.format(\"Hello World %s\", name)</td>\n",
    "<td></td>\n",
    "</tr>\n",
    "</table>\n",
    "\n",
    "Während in Java die Variablen mit `+` oder `String.format()` in einen String eingegliedert beziehungsweise angehängt werden, können diese in Kotlin direkt in einen String mit `$` integriert werden.<br />\n",
    "Falls die Rückgabe einer Anweisung mit `print()` ausgegeben werden soll, müssen zusätzlich geschweifte Klammern um diesen. "
   ]
  },
  {
   "cell_type": "code",
   "execution_count": 2,
   "id": "e1611ecd",
   "metadata": {
    "execution": {
     "iopub.execute_input": "2021-04-14T13:49+0200",
     "iopub.status.busy": "2021-04-14T13:49+0200",
     "iopub.status.idle": "2021-04-14T13:49+0200",
     "shell.execute_reply": "2021-04-14T13:49+0200",
     "shell.execute_reply.started": "2021-04-14T13:49+0200"
    },
    "tags": []
   },
   "outputs": [
    {
     "name": "stdout",
     "output_type": "stream",
     "text": [
      "Hello World MAX.toLowerCase().\n",
      "Hello World max.\n"
     ]
    }
   ],
   "source": [
    "fun main(){\n",
    "    val name : String = \"MAX\"\n",
    "    println(\"Hello World $name.toLowerCase().\") //Falsch\n",
    "    println(\"Hello World ${name.toLowerCase()}.\") //Richtig\n",
    "}\n",
    "main()"
   ]
  },
  {
   "cell_type": "markdown",
   "id": "be444fca",
   "metadata": {},
   "source": [
    "<div class=\"alert alert-block alert-info\">\n",
    "    In Jupyter Notebooks wird ein Code Block als Hauptprogramm angesehen, das bei Run (Shift+Enter) ausgeführt wird. Deswegen kann der Funktionenkopf weggelassen werden.\n",
    "</div>"
   ]
  }
 ],
 "metadata": {
  "kernelspec": {
   "display_name": "Kotlin",
   "language": "kotlin",
   "name": "kotlin"
  },
  "language_info": {
   "codemirror_mode": "text/x-kotlin",
   "file_extension": ".kt",
   "mimetype": "text/x-kotlin",
   "name": "kotlin",
   "nbconvert_exporter": "",
   "pygments_lexer": "kotlin",
   "version": "1.5.20-dev-5817"
  }
 },
 "nbformat": 4,
 "nbformat_minor": 5
}
