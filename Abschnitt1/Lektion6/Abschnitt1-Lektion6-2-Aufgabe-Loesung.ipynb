{
 "cells": [
  {
   "cell_type": "markdown",
   "id": "6f4cb5ca-11c0-4935-be98-ec034d05bd20",
   "metadata": {},
   "source": [
    "# Aufgabe - Binäre Suche in einer Liste\n",
    "Implementiere eine Funktion `binaereSuche`, die in einer übergebenen Liste eine übergebe Zahl sucht. Zurückgegeben werden soll die Position der gesuchten Zahl. Kann diese nicht gefunden werden, soll das Ergebnis `-1` betragen. Verwende dabei die [rekursive Binäre Suche](https://de.wikipedia.org/wiki/Bin%C3%A4re_Suche).\n",
    "\n"
   ]
  },
  {
   "cell_type": "code",
   "execution_count": 92,
   "id": "773b12f5-54dc-4419-84bb-4fab37c06a9c",
   "metadata": {},
   "outputs": [
    {
     "name": "stdout",
     "output_type": "stream",
     "text": [
      "Richtig!\n"
     ]
    }
   ],
   "source": [
    "//Lösung\n",
    "fun binaereSuche_rekursiv(liste: List<Int>, gesucht: Int, start: Int, ende: Int): Int{\n",
    "    if (ende < start)\n",
    "        return -1\n",
    "    val mitte = (start + ende) / 2\n",
    "    return if (liste[mitte] == gesucht)\n",
    "        mitte\n",
    "    else if (liste[mitte] < gesucht)\n",
    "        binaersuche_rekursiv(liste, gesucht, mitte + 1, ende)\n",
    "    else\n",
    "        binaersuche_rekursiv(liste, gesucht, start, mitte - 1)\n",
    "}\n",
    "\n",
    "fun binaereSuche(liste: List<Int>, gesucht: Int) = binaereSuche_rekursiv(liste, gesucht, 0, liste.size - 1)\n",
    "\n",
    "//Test\n",
    "val testListe = List(100) { (0..100).random() }.sorted()\n",
    "val testZahl = (0..100).random()\n",
    "if(testListe.indexOf(testZahl) !=  binaereSuche(testListe, testZahl))\n",
    "    println(\"Fehler! testListe.indexOf($testZahl): ${testListe.indexOf(testZahl)}, binaereSuche(testListe, $testZahl): ${binaersuche(testListe, testZahl)}\")\n",
    "else\n",
    "    println(\"Richtig!\")"
   ]
  }
 ],
 "metadata": {
  "kernelspec": {
   "display_name": "Kotlin",
   "language": "kotlin",
   "name": "kotlin"
  },
  "language_info": {
   "codemirror_mode": "text/x-kotlin",
   "file_extension": ".kt",
   "mimetype": "text/x-kotlin",
   "name": "kotlin",
   "nbconvert_exporter": "",
   "pygments_lexer": "kotlin",
   "version": "1.5.20-dev-5817"
  }
 },
 "nbformat": 4,
 "nbformat_minor": 5
}
