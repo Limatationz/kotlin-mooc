{
 "cells": [
  {
   "cell_type": "markdown",
   "id": "b7b87d16",
   "metadata": {},
   "source": [
    "# Aufgabe - Binäre Suche in einer Liste\n",
    "Implementieren Sie eine Funktion `binaereSuche`, die in einer übergebenen Liste eine übergebe Zahl sucht. Zurückgegeben werden soll die Position der gesuchten Zahl. Kann diese nicht gefunden werden, soll das Ergebnis `-1` betragen. Verwende dabei die [rekursive Binäre Suche](https://de.wikipedia.org/wiki/Bin%C3%A4re_Suche)."
   ]
  },
  {
   "cell_type": "code",
   "execution_count": 7,
   "id": "c0ce5f29",
   "metadata": {
    "execution": {
     "iopub.execute_input": "2021-11-08T16:18+0100",
     "iopub.status.busy": "2021-11-08T16:18+0100",
     "iopub.status.idle": "2021-11-08T16:18+0100",
     "shell.execute_reply": "2021-11-08T16:18+0100",
     "shell.execute_reply.started": "2021-11-08T16:18+0100"
    },
    "tags": []
   },
   "outputs": [
    {
     "name": "stdout",
     "output_type": "stream",
     "text": [
      "Richtig!\n"
     ]
    }
   ],
   "source": [
    "//Lösung\n",
    "fun binaereSuche(liste: List<Int>, gesucht: Int, start: Int = 0, ende: Int = liste.size - 1): Int{\n",
    "    if (ende < start)\n",
    "        return -1\n",
    "    val mitte = (start + ende) / 2\n",
    "    return if (liste[mitte] == gesucht)\n",
    "        mitte\n",
    "    else if (liste[mitte] < gesucht)\n",
    "        binaereSuche(liste, gesucht, mitte + 1, ende)\n",
    "    else\n",
    "        binaereSuche(liste, gesucht, start, mitte - 1)\n",
    "}\n",
    "\n",
    "//Test\n",
    "val testListe = List(100) { (0..100).random() }.sorted()\n",
    "val testZahl = (0..100).random()\n",
    "if(testListe.indexOf(testZahl) !=  binaereSuche(testListe, testZahl))\n",
    "    println(\"Fehler! testListe.indexOf($testZahl): ${testListe.indexOf(testZahl)}, binaereSuche(testListe, $testZahl): ${binaereSuche(testListe, testZahl)}\")\n",
    "else\n",
    "    println(\"Richtig!\")"
   ]
  }
 ],
 "metadata": {
  "kernelspec": {
   "display_name": "Kotlin",
   "language": "kotlin",
   "name": "kotlin"
  },
  "language_info": {
   "codemirror_mode": "text/x-kotlin",
   "file_extension": ".kt",
   "mimetype": "text/x-kotlin",
   "name": "kotlin",
   "nbconvert_exporter": "",
   "pygments_lexer": "kotlin",
   "version": "1.5.20-dev-5817"
  }
 },
 "nbformat": 4,
 "nbformat_minor": 5
}
