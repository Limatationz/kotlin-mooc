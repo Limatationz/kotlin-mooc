{
 "cells": [
  {
   "cell_type": "markdown",
   "id": "af2087fe",
   "metadata": {},
   "source": [
    "### Set\n",
    "Sets sind primitive Listen. Ihre Elemente sind ungeordnet und es sind keine Dublikate zu finden. Nur ein `MutableSet` kann vergrößert oder verkleinert werden. Erzeugt können sie mit `setOf()` beziehungsweise `mutableSetOf()` werden."
   ]
  },
  {
   "cell_type": "code",
   "execution_count": 1,
   "id": "73a911c1",
   "metadata": {
    "execution": {
     "iopub.execute_input": "2021-11-17T20:28+0100",
     "iopub.status.busy": "2021-11-17T20:28+0100",
     "iopub.status.idle": "2021-11-17T20:28+0100",
     "shell.execute_reply": "2021-11-17T20:28+0100",
     "shell.execute_reply.started": "2021-11-17T20:28+0100"
    }
   },
   "outputs": [
    {
     "name": "stdout",
     "output_type": "stream",
     "text": [
      "unveränderbares Set: [1, 6, 3, 4, 5, 2]\n",
      "veränderbares Set: [1, 6, 3, 4, 5, 2]\n",
      "veränderbares Set ohne 3: [1, 6, 4, 5, 2]\n",
      "veränderbares Set mit 10: [1, 6, 4, 5, 2, 10]\n"
     ]
    }
   ],
   "source": [
    "val set = setOf(1,6,3,4,5,1,2,3)\n",
    "println(\"unveränderbares Set: $set\")\n",
    "val set2 = mutableSetOf(1,6,3,4,5,1,2,3)\n",
    "println(\"veränderbares Set: $set2\")\n",
    "set2.remove(3)\n",
    "println(\"veränderbares Set ohne 3: $set2\")\n",
    "set2.add(10)\n",
    "println(\"veränderbares Set mit 10: $set2\")"
   ]
  },
  {
   "cell_type": "markdown",
   "id": "852201a4",
   "metadata": {},
   "source": [
    "Ein Vorteil an Sets ist, dass einfache Operationen mit Mengen ermöglicht werden. Mit `union` oder `+` können zwei Sets vereinigt werden, `intersect` gibt eine Schnittmenge zurück und `subtract` entfernt alle Elemente der ersten Menge aus der Zweiten."
   ]
  },
  {
   "cell_type": "code",
   "execution_count": 2,
   "id": "7ddf625a",
   "metadata": {
    "execution": {
     "iopub.execute_input": "2021-11-17T20:28+0100",
     "iopub.status.busy": "2021-11-17T20:28+0100",
     "iopub.status.idle": "2021-11-17T20:28+0100",
     "shell.execute_reply": "2021-11-17T20:28+0100",
     "shell.execute_reply.started": "2021-11-17T20:28+0100"
    },
    "tags": []
   },
   "outputs": [
    {
     "name": "stdout",
     "output_type": "stream",
     "text": [
      "Set1: [1, 2, 3, 4, 5], Set2: [4, 5, 6, 7, 8]\n",
      "Vereinigung: [1, 2, 3, 4, 5, 6, 7, 8]\n",
      "Schnittmenge: [4, 5]\n",
      "Subtraktion: [1, 2, 3]\n"
     ]
    }
   ],
   "source": [
    "val set1 = setOf(1,2,3,4,5)\n",
    "val set2 = setOf(4,5,6,7,8)\n",
    "println(\"Set1: $set1, Set2: $set2\")\n",
    "val vereinigung = set1 union set2\n",
    "println(\"Vereinigung: $vereinigung\")\n",
    "val schnitt = set1 intersect set2\n",
    "println(\"Schnittmenge: $schnitt\")\n",
    "val subset = set1 subtract set2\n",
    "println(\"Subtraktion: $subset\")"
   ]
  },
  {
   "cell_type": "markdown",
   "id": "87423987",
   "metadata": {},
   "source": [
    "### Map\n",
    "Maps sind einfach ausgedrückt eine Liste von Paaren. Ein Paar besteht aus einem Schlüssel (*key*) und einem Wert (*value*). Der Schlüssel ist dabei der *Index* eines Werts. Eine unveränderbare Map gehört der Klasse `Map` an und kann mit `mapOf()` erzeugt werden, während eine Veränderbare der Klasse `MutableMap` zugeordnet und mit Hilfe von `mutableMapOf()` initialisiert wird. Ein Eintrag in einer Map wird mit einem Schlüssel und einem Wert verbunden mit `to` gekennzeichnet. Zu einer veränderbaren Map kann mit der Funktion `put()` ein Eintrag hinzugefügt werden. Dazu müssen der Schlüssel und der Wert übergeben werden. Ein Eintrag kann mit `remove()` und der Angabe des Schlüssels entfernt werden."
   ]
  },
  {
   "cell_type": "code",
   "execution_count": 3,
   "id": "e530fd13",
   "metadata": {
    "execution": {
     "iopub.execute_input": "2021-11-17T20:28+0100",
     "iopub.status.busy": "2021-11-17T20:28+0100",
     "iopub.status.idle": "2021-11-17T20:28+0100",
     "shell.execute_reply": "2021-11-17T20:28+0100",
     "shell.execute_reply.started": "2021-11-17T20:28+0100"
    },
    "tags": []
   },
   "outputs": [
    {
     "name": "stdout",
     "output_type": "stream",
     "text": [
      "Unveränderbare Map: {Kotlin=0, Java=1, C=2}\n",
      "\n",
      "Veränderbare Map: {AI1=Westfechtel, AI2=Rauber, AI3=Henrich}\n",
      "Wert zum Schlüssel AI2: Rauber\n",
      "Veränderbare Map mit AI4: {AI1=Westfechtel, AI2=Rauber, AI3=Henrich, AI4=Jablonski}\n",
      "Veränderbare Map ohne AI2: {AI1=Westfechtel, AI3=Henrich, AI4=Jablonski}\n",
      "\n",
      "Leere Map: {}\n"
     ]
    }
   ],
   "source": [
    "val map = mapOf(\"Kotlin\" to 0, \"Java\" to 1, \"C\" to 2)\n",
    "println(\"Unveränderbare Map: $map\")\n",
    "println()\n",
    "\n",
    "val map2 = mutableMapOf(\"AI1\" to \"Westfechtel\", \"AI2\" to \"Rauber\", \"AI3\" to \"Henrich\")\n",
    "println(\"Veränderbare Map: $map2\")\n",
    "println(\"Wert zum Schlüssel AI2: ${map2[\"AI2\"]}\")\n",
    "map2.put(\"AI4\", \"Jablonski\")\n",
    "println(\"Veränderbare Map mit AI4: $map2\")\n",
    "map2.remove(\"AI2\")\n",
    "println(\"Veränderbare Map ohne AI2: $map2\")\n",
    "println()\n",
    "\n",
    "val leereMap = mutableMapOf<String, Int>() //leere veränderbare Map, deren Schlüssel Strings und Werte Ints sind\n",
    "println(\"Leere Map: $leereMap\")"
   ]
  },
  {
   "cell_type": "markdown",
   "id": "2761daa8",
   "metadata": {},
   "source": [
    "Eine Map kann mit einer `for`-Schleife in Kombination mit `in` einfach durchlaufen werden:"
   ]
  },
  {
   "cell_type": "code",
   "execution_count": 4,
   "id": "b1d8b7e2",
   "metadata": {
    "execution": {
     "iopub.execute_input": "2021-11-17T20:28+0100",
     "iopub.status.busy": "2021-11-17T20:28+0100",
     "iopub.status.idle": "2021-11-17T20:28+0100",
     "shell.execute_reply": "2021-11-17T20:28+0100",
     "shell.execute_reply.started": "2021-11-17T20:28+0100"
    }
   },
   "outputs": [
    {
     "name": "stdout",
     "output_type": "stream",
     "text": [
      "AI1: Westfechtel\n",
      "AI2: Rauber\n",
      "AI3: Henrich\n",
      "AI4: Jablonski\n"
     ]
    }
   ],
   "source": [
    "val map = mapOf(\"AI1\" to \"Westfechtel\", \"AI2\" to \"Rauber\", \"AI3\" to \"Henrich\", \"AI4\" to \"Jablonski\")\n",
    "for ((key, value) in map){\n",
    "    println(\"$key: $value\")\n",
    "}"
   ]
  }
 ],
 "metadata": {
  "kernelspec": {
   "display_name": "Kotlin",
   "language": "kotlin",
   "name": "kotlin"
  },
  "language_info": {
   "codemirror_mode": "text/x-kotlin",
   "file_extension": ".kt",
   "mimetype": "text/x-kotlin",
   "name": "kotlin",
   "nbconvert_exporter": "",
   "pygments_lexer": "kotlin",
   "version": "1.6.20-dev-3702"
  }
 },
 "nbformat": 4,
 "nbformat_minor": 5
}
