{
 "cells": [
  {
   "cell_type": "markdown",
   "id": "3d1a2c83",
   "metadata": {},
   "source": [
    "# Aufgabe - Array\n",
    "Vervollständigen Sie folgendes Codegerüst, sodass das 2 dimensionale Array `array` formatiert ausgegeben wird."
   ]
  },
  {
   "cell_type": "code",
   "execution_count": 1,
   "id": "a2fd26df",
   "metadata": {
    "execution": {
     "iopub.execute_input": "2021-11-17T20:25+0100",
     "iopub.status.busy": "2021-11-17T20:25+0100",
     "iopub.status.idle": "2021-11-17T20:25+0100",
     "shell.execute_reply": "2021-11-17T20:25+0100",
     "shell.execute_reply.started": "2021-11-17T20:25+0100"
    },
    "tags": []
   },
   "outputs": [
    {
     "name": "stdout",
     "output_type": "stream",
     "text": [
      " 8 17 18 18 2\n",
      " 20 1 6 6 18\n",
      " 0 0 12 7 14\n",
      " 4 6 16 18 14\n",
      " 5 19 0 2 2\n"
     ]
    }
   ],
   "source": [
    "//Lösung\n",
    "\n",
    "val array = Array(5) { Array(5) { (0..20).random() } }\n",
    "for (col in array){\n",
    "    for (elem in col){\n",
    "        print(\" $elem\")\n",
    "    }\n",
    "    println()\n",
    "}"
   ]
  }
 ],
 "metadata": {
  "kernelspec": {
   "display_name": "Kotlin",
   "language": "kotlin",
   "name": "kotlin"
  },
  "language_info": {
   "codemirror_mode": "text/x-kotlin",
   "file_extension": ".kt",
   "mimetype": "text/x-kotlin",
   "name": "kotlin",
   "nbconvert_exporter": "",
   "pygments_lexer": "kotlin",
   "version": "1.6.20-dev-3702"
  }
 },
 "nbformat": 4,
 "nbformat_minor": 5
}
