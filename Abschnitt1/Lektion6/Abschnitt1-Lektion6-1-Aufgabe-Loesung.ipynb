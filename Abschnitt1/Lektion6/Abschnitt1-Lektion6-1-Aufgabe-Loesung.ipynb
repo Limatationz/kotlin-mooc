{
 "cells": [
  {
   "cell_type": "markdown",
   "id": "1fbabee1-50cc-4403-bb72-4a83da9044fd",
   "metadata": {},
   "source": [
    "# Aufgabe - Array\n",
    "Vervollständige folgendes Codegerüst, sodass das 2 dimensionale Array `array` formatiert ausgegeben wird."
   ]
  },
  {
   "cell_type": "code",
   "execution_count": 45,
   "id": "fc6fb64f-b76b-4752-b096-e1324dca0abb",
   "metadata": {},
   "outputs": [
    {
     "name": "stdout",
     "output_type": "stream",
     "text": [
      " 16 17 6 3 1\n",
      " 4 20 7 0 7\n",
      " 11 1 6 13 18\n",
      " 8 6 3 2 6\n",
      " 19 14 10 20 9\n"
     ]
    }
   ],
   "source": [
    "val array = Array(5) { Array(5) { (0..20).random() } }\n",
    "for (col in array){\n",
    "    for (elem in col){\n",
    "        print(\" $elem\")\n",
    "    }\n",
    "    println()\n",
    "}"
   ]
  }
 ],
 "metadata": {
  "kernelspec": {
   "display_name": "Kotlin",
   "language": "kotlin",
   "name": "kotlin"
  },
  "language_info": {
   "codemirror_mode": "text/x-kotlin",
   "file_extension": ".kt",
   "mimetype": "text/x-kotlin",
   "name": "kotlin",
   "nbconvert_exporter": "",
   "pygments_lexer": "kotlin",
   "version": "1.5.20-dev-5817"
  }
 },
 "nbformat": 4,
 "nbformat_minor": 5
}
