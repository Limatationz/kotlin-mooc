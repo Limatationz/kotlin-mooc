{
 "cells": [
  {
   "cell_type": "markdown",
   "id": "cd754e11",
   "metadata": {},
   "source": [
    "### List\n",
    "Aufgrund einer größeren Flexibilität und besseren Implementierung sind in Kotlin Listen gegenüber Arrays zu bevorzugen. Ähnlich zu den zwei verschiedenen Variablentypen (`val`/`var`), sind Listen ebenso in veränderbare (`MutableList`) und unveränderbare (`List`) Listen aufgeteilt. Während die `MutableList` an eine klassische `List` in Java erinnert, können die Einträge einer Kotlin-`List` im nachhinein nicht verändert werden. Die Liste ist den heterogenen Datenstrukturen zuzuordnen.\n",
    "\n",
    "#### Inititalisierung\n",
    "Die Erzeugung eienr Liste erfolgt, ähnlich zu einem Array, mit der Funktion `listOf()` beziehungsweise `mutableListOf()`. Als Parameter können die Listeneinträge übergeben werden. Falls eine leere `MutableList` initialisiert werden soll, ist außerdem die Angabe des generischen Datentyps der Elemente elementar. Des Weiteren kann auch der bereits bei Arrays kennengelernte Konstruktor angewendet werden. Dabei muss eine (bei `List` festgesetzte) Länge angegeben werden. In den geschweiften Klammern ist ein Zugriff auf das aktuelle zu füllende Element mit dem Schlüsselwort `it` möglich."
   ]
  },
  {
   "cell_type": "code",
   "execution_count": 46,
   "id": "7756b12f",
   "metadata": {},
   "outputs": [
    {
     "name": "stdout",
     "output_type": "stream",
     "text": [
      "liste1: [1, 2, 3, 4, 5, 6]\n",
      "liste2: []\n",
      "liste3: [1, 2.0, Kotlin, a, /]\n",
      "liste4: [Kotlin, Java]\n",
      "liste5: [0, 1, 2, 3, 4]\n",
      "liste6: [0, 1, 4, 9, 16, 25, 36, 49, 64, 81]\n",
      "liste7: [0, 0, 0, 0, 0, 10]\n"
     ]
    }
   ],
   "source": [
    "val liste1 = listOf(1,2,3,4,5,6) //unveränderbare Liste mit Elementen des Datentyps Int\n",
    "//liste1.add(5) -> Error: Unresolved reference: add\n",
    "println(\"liste1: $liste1\")\n",
    "\n",
    "val liste2 = listOf<Int>() //leere, unveränderbare Liste mit Elementen des Datentyps Int\n",
    "println(\"liste2: $liste2\")\n",
    "\n",
    "val liste3 = mutableListOf(1,2.0,\"Kotlin\",4.5,'a','/') //veränderbare Liste mit Elementen des Datentyps Any\n",
    "liste3.removeAt(3)\n",
    "println(\"liste3: $liste3\")\n",
    "\n",
    "val liste4 = mutableListOf<String>() //leere, veränderbare Liste mit Elementen des Datentyps String\n",
    "liste4.add(\"Kotlin\")\n",
    "liste4.add(\"Java\")\n",
    "//liste4.add(10) -> Error: The integer literal does not conform to the expected type String\n",
    "println(\"liste4: $liste4\")\n",
    "\n",
    "val liste5 = List(5) { it } //unveränderbare Liste mit Elementen des Datentyps Int, die den Index beinhalten\n",
    "println(\"liste5: $liste5\")\n",
    "\n",
    "val liste6 = MutableList(10) { it * it } //veränderbare Liste mit Elementen des Datentyps Int, die dem quadrierten Index entsprechen\n",
    "println(\"liste6: $liste6\")\n",
    "\n",
    "val liste7 = MutableList(5) { 0 } //veränderbare Liste mit Elementen des Datentyps Int, die 0 beinhalten\n",
    "liste7.add(10)\n",
    "println(\"liste7: $liste7\")"
   ]
  },
  {
   "cell_type": "markdown",
   "id": "d7d645ec",
   "metadata": {},
   "source": [
    "#### Veränderbar & Unveränderbar\n",
    "Bei der Betrachtung des oben genannten Beispiels könnten einige Fragen aufgekommen sein, die die Veränderbarkeit der Listen und deren Variablen betreffen. Deswegen folgt hier noch eine ausführlichere Erklärung.  \n",
    "Beginnen wir mit einer Betrachtung der verschiedenen Typen einer Liste: \n",
    "- Eine Instanz der Klasse `List` kann man sich vorstellen wie eine Liste mit einer, bei Initialisierung festgesetzter, Länge. In der Liste sind Variablen des Typs `val` gespeichert. Diese können also nicht verändert werden. \n",
    "- Eine Liste der Klasse `MutableList` hat keine festgelegte Länge und kann folglich beliebig verlängert oder verkürzt werden. Die Elemente sind Variablen des Typs `var` und können neu gesetzt werden.\n",
    "\n",
    "Gespeichert werden die Listen in eigenen Variablen, die erneut verschieden veränderbar sein können:\n",
    "- Wird eine Liste in einer Variable des Typs `val` gespeichert, kann der Variable keine neue Liste zugewiesen werden. Dies hat jedoch **keinen** Einfluss auf den Typ der Liste.\n",
    "- Wird eine Liste in einer Variable des Typs `var` gespeichert, kann die gespeicherte Liste durch eine Andere ersetzt werden. Die Variable ist veränderbar. Falls jedoch eine unveränderbare Liste in einer veränderbaren Variablen gespeichert wird, kann die Liste dennoch nicht bearbeitet werden.\n",
    "\n",
    "Zusammenfassung:\n",
    "\n",
    "<table style=\"font-size:16px\">\n",
    "<thead>\n",
    "  <tr>\n",
    "    <th style=\"font-size:16px\">Typ der Variable</th>\n",
    "    <th style=\"font-size:16px\">List</th>\n",
    "    <th style=\"font-size:16px\">MutableList</th>\n",
    "  </tr>\n",
    "</thead>\n",
    "<tbody>\n",
    "  <tr>\n",
    "    <td style=\"font-size:16px\"><b>val</b></td>\n",
    "    <td style=\"font-size:16px\">Variable und Liste können nicht verändert werden</td>\n",
    "    <td style=\"font-size:16px\">Variable kann nicht verändert werden, die Liste hingegen schon.</td>\n",
    "  </tr>\n",
    "  <tr>\n",
    "    <td style=\"font-size:16px\"><b>var</b></td>\n",
    "    <td style=\"font-size:16px\">Variable kann verändert werden, die Liste hingegen nicht.</td>\n",
    "    <td style=\"font-size:16px\">Variable und Liste können verändert werden</td>\n",
    "  </tr>\n",
    "</tbody>\n",
    "</table>"
   ]
  },
  {
   "cell_type": "markdown",
   "id": "da050fe8",
   "metadata": {},
   "source": [
    "#### Ausgewählte Operationen\n",
    "Im Folgenden werden ausgewählte Operationen vorgestellt, die auf eine Liste angewendet werden können.\n",
    "##### Zugriff auf ein Element\n",
    "Der Zugriff auf ein Element kann entweder, wie bei einem Array, mit dem Index erfolgen oder mit der Methode `get()`, der der Index als Parameter übergeben wird."
   ]
  },
  {
   "cell_type": "code",
   "execution_count": 47,
   "id": "b334164d",
   "metadata": {},
   "outputs": [
    {
     "name": "stdout",
     "output_type": "stream",
     "text": [
      "liste[1]: 1, liste.get(1): 1\n"
     ]
    }
   ],
   "source": [
    "val liste = listOf(0,1,2,3,4)\n",
    "println(\"liste[1]: ${liste[1]}, liste.get(1): ${liste.get(1)}\")"
   ]
  },
  {
   "cell_type": "markdown",
   "id": "89d63e52",
   "metadata": {},
   "source": [
    "##### Länge\n",
    "Die Länge einer Liste kann in der Variable `size` abgerufen werden."
   ]
  },
  {
   "cell_type": "code",
   "execution_count": 48,
   "id": "028f80f5",
   "metadata": {},
   "outputs": [
    {
     "name": "stdout",
     "output_type": "stream",
     "text": [
      "Länge der Liste [true, false, false, false, true, true]: 6\n"
     ]
    }
   ],
   "source": [
    "val liste = listOf(true, false, false, false, true, true)\n",
    "println(\"Länge der Liste $liste: ${liste.size}\")"
   ]
  },
  {
   "cell_type": "markdown",
   "id": "e15b6554",
   "metadata": {},
   "source": [
    "##### Konvertierung\n",
    "Listen können untereinander mit `toList()` beziehungsweise `toMutableList()` konvertiert werden. Außerdem können auch andere Datenstrukturen mit dieser Funktion zu einer Liste umgewandelt werden. Dies ist vor Allem hilfreich, wenn Datenstrukturen ausgegeben werden sollen. "
   ]
  },
  {
   "cell_type": "code",
   "execution_count": 49,
   "id": "a59ebae0",
   "metadata": {},
   "outputs": [
    {
     "name": "stdout",
     "output_type": "stream",
     "text": [
      "array ist ein Array: true, array: [Ljava.lang.Integer;@4158840d\n",
      "liste1 ist eine List: true, liste1: [1, 2, 3, 4, 5, 6]\n",
      "liste2 ist eine MutableList: true, liste2: [1, 2, 3, 4, 5, 6, 5]\n"
     ]
    }
   ],
   "source": [
    "val array = arrayOf(1,2,3,4,5,6)\n",
    "println(\"array ist ein Array: ${array is Array<*>}, array: $array\")\n",
    "val liste1 = array.toList()\n",
    "// liste.add(5) -> Error\n",
    "println(\"liste1 ist eine List: ${liste1 is List<*>}, liste1: $liste1\")\n",
    "val liste2 = liste1.toMutableList()\n",
    "liste2.add(5) //-> funktioniert\n",
    "println(\"liste2 ist eine MutableList: ${liste2 is MutableList<*>}, liste2: $liste2\")"
   ]
  },
  {
   "cell_type": "markdown",
   "id": "f193a65b",
   "metadata": {},
   "source": [
    "##### Füllen und Leeren\n",
    "Eine veränderbare Liste kann durch `fill()` mit dem übergebenden Objekt gefüllt werden. `clear()` hingegen löscht alle Elemente aus der Liste."
   ]
  },
  {
   "cell_type": "code",
   "execution_count": 50,
   "id": "62d7ee83",
   "metadata": {},
   "outputs": [
    {
     "name": "stdout",
     "output_type": "stream",
     "text": [
      "Liste: [1, 2, 3, 4, 5, 6]\n",
      "Gefüllte Liste: [100, 100, 100, 100, 100, 100]\n",
      "Geleerte Liste: []\n"
     ]
    }
   ],
   "source": [
    "val liste = mutableListOf(1,2,3,4,5,6)\n",
    "println(\"Liste: $liste\")\n",
    "liste.fill(100)\n",
    "println(\"Gefüllte Liste: $liste\")\n",
    "liste.clear()\n",
    "println(\"Geleerte Liste: $liste\")"
   ]
  },
  {
   "cell_type": "markdown",
   "id": "25754132",
   "metadata": {},
   "source": [
    "##### Hinzufügen und Löschen\n",
    "Einer veränderbaren Liste können Elemente mit `add()` hinzugefügt werden. Wird nur das Element übergeben, wird dieses am Ende angehängt. Wenn zusätzlich noch ein Index angegeben wird, wird das Element an diesem eingefügt.  \n",
    "Mit `remove()` beziehungsweise `removeAt()` kann ein bestimmtes Element oder ein Element an einem bestimmten Index entfernt werden.  \n",
    "Für eine bessere Übersitlichkeit kann das Hinzufügen oder Entfernen mit Operatoren abgekürzt werden. Diese `operator`-Funktionen verweisen aber lediglich auf `add()` und `remove()`."
   ]
  },
  {
   "cell_type": "code",
   "execution_count": 51,
   "id": "fa8ceb13",
   "metadata": {},
   "outputs": [
    {
     "name": "stdout",
     "output_type": "stream",
     "text": [
      "Liste: [a, b, c, d, e]\n",
      "Liste mit hinzugefügten Elementen (f, z): [a, b, z, c, d, e, f]\n",
      "Liste mit entfernten Elementen (e, a): [b, z, c, d, f]\n",
      "\n",
      "Kurzschreibweise\n",
      "Liste2: [a, b, c, d, e]\n",
      "Liste2 mit hinzugefügten Elementen (f, z): [a, b, z, c, d, e, f]\n",
      "Liste2 mit entfernten Elementen (e, a): [b, z, c, d, f]\n"
     ]
    }
   ],
   "source": [
    "val liste = mutableListOf('a', 'b', 'c', 'd', 'e')\n",
    "println(\"Liste: $liste\")\n",
    "liste.add('f')\n",
    "liste.add(2, 'z')\n",
    "println(\"Liste mit hinzugefügten Elementen (f, z): $liste\")\n",
    "liste.remove('e')\n",
    "liste.removeAt(0)\n",
    "println(\"Liste mit entfernten Elementen (e, a): $liste\")\n",
    "\n",
    "//Kurzschreibweise\n",
    "println(\"\\nKurzschreibweise\")\n",
    "val liste2 = mutableListOf('a', 'b', 'c', 'd', 'e')\n",
    "println(\"Liste2: $liste2\")\n",
    "liste2 += 'f'\n",
    "liste2.add(2, 'z')\n",
    "println(\"Liste2 mit hinzugefügten Elementen (f, z): $liste2\")\n",
    "liste2 -= 'e'\n",
    "liste2.removeAt(0)\n",
    "println(\"Liste2 mit entfernten Elementen (e, a): $liste2\")"
   ]
  },
  {
   "cell_type": "markdown",
   "id": "36c02dd9",
   "metadata": {},
   "source": [
    "##### Teilliste\n",
    "Eine Teilliste kann mit der Funktion `subList()` erstellt werden. Dabei müssen als Parameter der Startindex (inklusive) und Endindex (exklusive) angegeben werden.  \n",
    "Eine neue Liste mit den ersten n Elementen einer Liste kann mit `take(n)` erzeugt werden. Sollen hingegen die letzten *n* Elemente zurückgegeben werden findet `takeLast(n)` Anwendung.  \n",
    "Im Gegensatz dazu kann auf eine Liste ohne die ersten *n* Elemente mit der Methode `drop(n)` zugegriffen werden."
   ]
  },
  {
   "cell_type": "code",
   "execution_count": 52,
   "id": "9ec3f5bf",
   "metadata": {},
   "outputs": [
    {
     "name": "stdout",
     "output_type": "stream",
     "text": [
      "Ausgangsliste: [1, 2, 3, 4, 5, 6]\n",
      "Teilliste von 3 bis liste.size: [4, 5, 6]\n",
      "Teilliste der ersten 3 Elemente: [1, 2, 3]\n",
      "Teilliste der letzten 3 Elemente: [4, 5, 6]\n",
      "Teilliste ohne die ersten 3 Elemente: [4, 5, 6]\n"
     ]
    }
   ],
   "source": [
    "val liste = listOf(1,2,3,4,5,6)\n",
    "println(\"Ausgangsliste: $liste\")\n",
    "val teilliste = liste.subList(3, liste.size)\n",
    "println(\"Teilliste von 3 bis liste.size: $teilliste\")\n",
    "val teilliste2 = liste.take(3)\n",
    "println(\"Teilliste der ersten 3 Elemente: $teilliste2\")\n",
    "val teilliste3 = liste.takeLast(3)\n",
    "println(\"Teilliste der letzten 3 Elemente: $teilliste3\")\n",
    "val teilliste4 = liste.drop(3)\n",
    "println(\"Teilliste ohne die ersten 3 Elemente: $teilliste4\")"
   ]
  },
  {
   "cell_type": "markdown",
   "id": "1507fbaa",
   "metadata": {},
   "source": [
    "##### Suchen\n",
    "Mit dem Schlüsselwort `in` kann ein Element in einer Liste gesucht werden. Zurückgegeben wird `true`, falls es gefunden wurde, ansonsten `false`.<br />\n",
    "Wenn, statt der Information ob das Element vorhanden ist, zusätzlich noch der Index gesucht ist, kann die Methode `indexOf()` benutzt werden. Falls das übergebene Element nicht in der Liste vorhanden ist, wird `-1` zurückgegeben."
   ]
  },
  {
   "cell_type": "code",
   "execution_count": 125,
   "id": "246ae0cb",
   "metadata": {},
   "outputs": [
    {
     "name": "stdout",
     "output_type": "stream",
     "text": [
      "Ist 'Lua' in der Liste: true\n",
      "Ist 'Javascript' in der Liste: false\n",
      "Index von 'Lua' in der Liste: 2\n",
      "Index von 'Javascript' in der Liste: -1\n"
     ]
    }
   ],
   "source": [
    "val liste = listOf(\"Kotlin\", \"Java\", \"Lua\", \"C\", \"Swift\")\n",
    "println(\"Ist 'Lua' in der Liste: ${\"Lua\" in liste}\")\n",
    "println(\"Ist 'Javascript' in der Liste: ${\"Javascript\" in liste}\")\n",
    "println(\"Index von 'Lua' in der Liste: ${liste.indexOf(\"Lua\")}\")\n",
    "println(\"Index von 'Javascript' in der Liste: ${liste.indexOf(\"Javascript\")}\")"
   ]
  },
  {
   "cell_type": "markdown",
   "id": "0ae1f8d5",
   "metadata": {},
   "source": [
    "##### Anordnen und Zufall\n",
    "Ein zufälliges Element einer Liste (oder auch eines Bereichs) kann mit `random()` erhalten werden.  \n",
    "Soll eine veränderbare Liste durchmischt werden, findet `shuffle()` Anwendung.  \n",
    "Das sortieren einer veränderbaren Liste funktioniert unter Anderem mit `sort()`. [Weiterführende Informationen](https://kotlinlang.org/api/latest/jvm/stdlib/kotlin.collections/sort.html) zu Sortierstrategien."
   ]
  },
  {
   "cell_type": "code",
   "execution_count": 54,
   "id": "800375a8",
   "metadata": {},
   "outputs": [
    {
     "name": "stdout",
     "output_type": "stream",
     "text": [
      "Ausgangsliste: [0, 1, 2, 3, 4, 5, 6, 7, 8, 9]\n",
      "Zufälliges Element: 4\n",
      "Zufälliges Element zwischen 0 und 9: 1\n",
      "Zufällige Anordnung: [8, 4, 0, 7, 2, 5, 6, 1, 9, 3]\n",
      "Wieder sortiert: [0, 1, 2, 3, 4, 5, 6, 7, 8, 9]\n"
     ]
    }
   ],
   "source": [
    "val liste = mutableListOf(0,1,2,3,4,5,6,7,8,9)\n",
    "println(\"Ausgangsliste: $liste\")\n",
    "println(\"Zufälliges Element: ${liste.random()}\")\n",
    "println(\"Zufälliges Element zwischen 0 und 9: ${(0..10).random()}\")\n",
    "liste.shuffle()\n",
    "println(\"Zufällige Anordnung: ${liste}\")\n",
    "liste.sort()\n",
    "println(\"Wieder sortiert: ${liste}\")"
   ]
  }
 ],
 "metadata": {
  "kernelspec": {
   "display_name": "Kotlin",
   "language": "kotlin",
   "name": "kotlin"
  },
  "language_info": {
   "codemirror_mode": "text/x-kotlin",
   "file_extension": ".kt",
   "mimetype": "text/x-kotlin",
   "name": "kotlin",
   "nbconvert_exporter": "",
   "pygments_lexer": "kotlin",
   "version": "1.5.20-dev-5817"
  }
 },
 "nbformat": 4,
 "nbformat_minor": 5
}
