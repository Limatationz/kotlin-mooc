{
 "cells": [
  {
   "cell_type": "markdown",
   "id": "161a1a89",
   "metadata": {},
   "source": [
    "# Aufgabe - Quadrierende Map\n",
    "Das Ziel dieser Aufgabe ist es eine Map zu generieren, die die Zahlen von 1 bis *n* auf ihre Quadratzahlen *abbildet*. Implementieren Sie dazu eine Funktion `generiereMap()`, der ein `Int`-Wert, der das Maximum darstellt, übergeben wird. Die generierte Map soll von der Funktion zurückgegeben werden.  \n",
    "Beispiel: `mapOf(1 to 1, 2 to 4, 3 to 6, ...)`"
   ]
  },
  {
   "cell_type": "code",
   "execution_count": 1,
   "id": "a05f1e2c",
   "metadata": {
    "execution": {
     "iopub.execute_input": "2021-11-17T20:27+0100",
     "iopub.status.busy": "2021-11-17T20:27+0100",
     "iopub.status.idle": "2021-11-17T20:27+0100",
     "shell.execute_reply": "2021-11-17T20:27+0100",
     "shell.execute_reply.started": "2021-11-17T20:27+0100"
    },
    "tags": []
   },
   "outputs": [
    {
     "name": "stdout",
     "output_type": "stream",
     "text": [
      "Richtig!\n"
     ]
    }
   ],
   "source": [
    "//Lösung\n",
    "fun generiereMap(n: Int): Map<Int, Int> {\n",
    "    val ergebnis = mutableMapOf<Int, Int>()\n",
    "    for (i in 1..n){\n",
    "        ergebnis.put(i, i*i)\n",
    "    }\n",
    "    return ergebnis\n",
    "}\n",
    "\n",
    "//Test\n",
    "var fehler = 0\n",
    "for ((schluessel, wert) in generiereMap(100)){\n",
    "    if(schluessel * schluessel != wert){\n",
    "        println(\"Fehler! Das Quadrat von $schluessel ist ${schluessel*schluessel} und nicht $wert\")\n",
    "        fehler++\n",
    "    }\n",
    "}\n",
    "if (generiereMap(100).keys.toList() != List(100) { it+1 }){\n",
    "    println(\"Fehler! Es sind nicht alle Zahlen von 1 bis inklusive 100 bei dem Aufruf generiereMap(100) in dem Ergebnis vorhanden.\\n${generiereMap(100).keys.toList()}\")\n",
    "    fehler++\n",
    "}\n",
    "\n",
    "if (fehler == 0)\n",
    "    println(\"Richtig!\")\n",
    "else\n",
    "    println(\"Falsch! Es traten $fehler Fehler auf.\")"
   ]
  }
 ],
 "metadata": {
  "kernelspec": {
   "display_name": "Kotlin",
   "language": "kotlin",
   "name": "kotlin"
  },
  "language_info": {
   "codemirror_mode": "text/x-kotlin",
   "file_extension": ".kt",
   "mimetype": "text/x-kotlin",
   "name": "kotlin",
   "nbconvert_exporter": "",
   "pygments_lexer": "kotlin",
   "version": "1.6.20-dev-3702"
  }
 },
 "nbformat": 4,
 "nbformat_minor": 5
}
