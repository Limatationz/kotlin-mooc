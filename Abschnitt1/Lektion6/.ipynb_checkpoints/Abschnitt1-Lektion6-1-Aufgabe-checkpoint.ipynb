{
 "cells": [
  {
   "cell_type": "markdown",
   "id": "4124b2f9-5b02-49a9-b768-b33ed1ecf473",
   "metadata": {},
   "source": [
    "# Aufgabe - Array\n",
    "Vervollständige folgendes Codegerüst, sodass das 2 dimensionale Array `array` formatiert ausgegeben wird."
   ]
  },
  {
   "cell_type": "code",
   "execution_count": 44,
   "id": "f49e7e96-0000-489f-817d-d4616c29374a",
   "metadata": {},
   "outputs": [],
   "source": [
    "val array = Array(5) { Array(5) { (0..20).random() } }\n",
    "\n",
    "//TODO"
   ]
  }
 ],
 "metadata": {
  "kernelspec": {
   "display_name": "Kotlin",
   "language": "kotlin",
   "name": "kotlin"
  },
  "language_info": {
   "codemirror_mode": "text/x-kotlin",
   "file_extension": ".kt",
   "mimetype": "text/x-kotlin",
   "name": "kotlin",
   "nbconvert_exporter": "",
   "pygments_lexer": "kotlin",
   "version": "1.5.20-dev-5817"
  }
 },
 "nbformat": 4,
 "nbformat_minor": 5
}
