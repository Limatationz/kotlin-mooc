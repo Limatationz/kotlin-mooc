{
 "cells": [
  {
   "cell_type": "markdown",
   "id": "2a84dfdb-bedb-42ca-bc62-7c83b8357088",
   "metadata": {},
   "source": [
    "<img src=\"../images/Lektion6.png\" style=\"margin: 20px auto 20px 0px\"/>\n",
    "<h2 style=\"display:none\">Lektion 6 - Datenstrukturen</h2>\n",
    "In dieser Lektion werden ausgewählte Datenstrukturen vorgestellt."
   ]
  },
  {
   "cell_type": "markdown",
   "id": "4c1ecd7c-7d79-41c7-80fe-b9a06a29c1b6",
   "metadata": {},
   "source": [
    "### Paar\n",
    "\n",
    "Eine der simpelsten Datenstruktur stellt das Paar da. In diesem Konstrukt werden zwei Objekte zu einem verschmolzen. Sie müssen nicht der gleichen Klasse angehören. Für die Erzeugung wird der Konstruktor der Klasse `Pair` verwendet, der zwei Parameter erwartet. Auf die gespeicherten Objekte kann mit `first` oder `component1()` beziehungsweise `second` oder `component2()` zugegriffen werden. Beide Felder sind vom Typ `val` und können nach der Initialisierung durch den Konstruktor nicht mehr verändert werden."
   ]
  },
  {
   "cell_type": "code",
   "execution_count": 112,
   "id": "5f9d8154-a069-46e6-9c31-3ad135d94404",
   "metadata": {},
   "outputs": [
    {
     "name": "stdout",
     "output_type": "stream",
     "text": [
      "erstes Objekt: 2, 2\n",
      "zweites Objekt: Kotlin, Kotlin\n"
     ]
    }
   ],
   "source": [
    "val paar = Pair(2,\"Kotlin\")\n",
    "println(\"erstes Objekt: ${paar.first}, ${paar.component1()}\")\n",
    "println(\"zweites Objekt: ${paar.second}, ${paar.component2()}\")"
   ]
  },
  {
   "cell_type": "markdown",
   "id": "91d85797-3c06-41ba-bb89-02c38b0f582d",
   "metadata": {},
   "source": [
    "### Array\n",
    "Der Aufbau eines Arrays sollte bereits bekannt sein. Die Funktionsweise in Kotlin unterscheidet sich nicht stark von der in Java, abgesehen von der Inititalisierung. Diese kann entweder mit dem Schlüsselwort `arrayOf`, falls alle Werte bereits vorliegen, oder mit dem Ausdruck `Array(Länge) { Standardwert }` erfolgen. Der generische Parameter der Klasse `Array` wird automatisch vom Kompiler erkannt. Die Länge, die mit `size` angerufen werden kann, sowie die Klasse der gespeicherten Objekte kann im nachträglich nicht verändert werden. "
   ]
  },
  {
   "cell_type": "code",
   "execution_count": 117,
   "id": "3cd54a04-7a1c-414c-9d0f-504a00cf786a",
   "metadata": {},
   "outputs": [
    {
     "name": "stdout",
     "output_type": "stream",
     "text": [
      "array1: [1, 2, 3, 4]\n",
      "array1[2]: 3\n",
      "array1.size: 4\n",
      "\n",
      "array2: [0.0, 0.0, 0.0, 0.0, 0.0, 0.0]\n",
      "array2[2]: 0.0\n",
      "array2.size: 6\n",
      "array2 geändert: [0.0, 0.0, 0.0, 5.0, 0.0, 0.0]\n",
      "array2[3]: 5.0\n"
     ]
    }
   ],
   "source": [
    "val array1 = arrayOf(1,2,3,4) //-> Int-Array\n",
    "println(\"array1: ${array1.toList()}\")\n",
    "println(\"array1[2]: ${array1[2]}\")\n",
    "println(\"array1.size: ${array1.size}\")\n",
    "println()\n",
    "\n",
    "val array2 = Array(6) {0.0} //-> Double-Array\n",
    "println(\"array2: ${array2.toList()}\")\n",
    "println(\"array2[2]: ${array2[2]}\")\n",
    "println(\"array2.size: ${array2.size}\")\n",
    "array2[3] = 5.0\n",
    "println(\"array2 geändert: ${array2.toList()}\")\n",
    "println(\"array2[3]: ${array2[3]}\") //5.0"
   ]
  },
  {
   "cell_type": "markdown",
   "id": "48611db4-af3b-4395-b0e6-673e1f914eac",
   "metadata": {},
   "source": [
    "Mehrdimensionale Arrays können, wie in Java, erstellt werden, indem eindimensionale Arrays ineinander geschachtelt werden."
   ]
  },
  {
   "cell_type": "code",
   "execution_count": 124,
   "id": "9a23bd4f-9994-4bbc-a6f8-1b3dc141e411",
   "metadata": {},
   "outputs": [
    {
     "name": "stdout",
     "output_type": "stream",
     "text": [
      "array2Dim1[0][3]: Eintrag\n",
      "array2Dim1[1][1]: 5\n"
     ]
    }
   ],
   "source": [
    "val array2Dim1 = Array(5) { Array(5) {\"Eintrag\"} } //Erzeugt ein 2 dimensionales String-Array der Größe 5x5 gefüllt mit dem String \"Eintrag\"\n",
    "println(\"array2Dim1[0][3]: ${array2Dim1[0][3]}\")\n",
    "\n",
    "val arrayDim2 = arrayOf( //Erzeugt ein 2 dimensionales Int-Array der Größe 3x3 gefüllt mit der Nummer der Position\n",
    "    arrayOf(1,2,3),\n",
    "    arrayOf(4,5,6),\n",
    "    arrayOf(7,8,9)\n",
    ")\n",
    "println(\"array2Dim1[1][1]: ${arrayDim2[1][1]}\")"
   ]
  }
 ],
 "metadata": {
  "kernelspec": {
   "display_name": "Kotlin",
   "language": "kotlin",
   "name": "kotlin"
  },
  "language_info": {
   "codemirror_mode": "text/x-kotlin",
   "file_extension": ".kt",
   "mimetype": "text/x-kotlin",
   "name": "kotlin",
   "nbconvert_exporter": "",
   "pygments_lexer": "kotlin",
   "version": "1.5.20-dev-5817"
  }
 },
 "nbformat": 4,
 "nbformat_minor": 5
}
