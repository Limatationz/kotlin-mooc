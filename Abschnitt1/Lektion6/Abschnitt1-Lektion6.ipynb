{
 "cells": [
  {
   "cell_type": "markdown",
   "id": "b470d1ce",
   "metadata": {},
   "source": [
    "<img src=\"../images/Lektion6.png\" style=\"margin: 20px auto 20px 0px\"/>\n",
    "<h2 style=\"display:none\">Lektion 6 - Datenstrukturen</h2>\n",
    "\n",
    "In dieser Lektion werden ausgewählte Datenstrukturen vorgestellt.\n",
    "### Pair\n",
    "Eine der simpelsten Datenstruktur stellt das Pair da. In diesem Konstrukt werden zwei Objekte zu einem verschmolzen. Sie müssen nicht der gleichen Klasse angehören. Für die Erzeugung wird der Konstruktor der Klasse `Pair` verwendet, der zwei Parameter erwartet. Auf die gespeicherten Objekte kann mit `first` oder `component1()` beziehungsweise `second` oder `component2()` zugegriffen werden. Beide Felder sind vom Typ `val` und können nach der Initialisierung durch den Konstruktor nicht mehr verändert werden."
   ]
  },
  {
   "cell_type": "code",
   "execution_count": 112,
   "id": "c2991660",
   "metadata": {},
   "outputs": [
    {
     "name": "stdout",
     "output_type": "stream",
     "text": [
      "erstes Objekt: 2, 2\n",
      "zweites Objekt: Kotlin, Kotlin\n"
     ]
    }
   ],
   "source": [
    "val paar = Pair(2,\"Kotlin\")\n",
    "println(\"erstes Objekt: ${paar.first}, ${paar.component1()}\")\n",
    "println(\"zweites Objekt: ${paar.second}, ${paar.component2()}\")"
   ]
  },
  {
   "cell_type": "markdown",
   "id": "2bf35164",
   "metadata": {},
   "source": [
    "### Array\n",
    "Der Aufbau eines Arrays sollte bereits bekannt sein. Die Funktionsweise in Kotlin unterscheidet sich nicht stark von der in Java, abgesehen von der Inititalisierung. Diese kann entweder mit dem Schlüsselwort `arrayOf`, falls alle Werte bereits vorliegen, oder mit dem Ausdruck `Array(Länge) { Standardwert }` erfolgen. Der generische Parameter der Klasse `Array` wird automatisch vom Compiler erkannt. Die Länge, die mit `size` angerufen werden kann, sowie die Klasse der gespeicherten Objekte kann im nachträglich nicht verändert werden. "
   ]
  },
  {
   "cell_type": "code",
   "execution_count": 117,
   "id": "3aaf2dad",
   "metadata": {},
   "outputs": [
    {
     "name": "stdout",
     "output_type": "stream",
     "text": [
      "array1: [1, 2, 3, 4]\n",
      "array1[2]: 3\n",
      "array1.size: 4\n",
      "\n",
      "array2: [0.0, 0.0, 0.0, 0.0, 0.0, 0.0]\n",
      "array2[2]: 0.0\n",
      "array2.size: 6\n",
      "array2 geändert: [0.0, 0.0, 0.0, 5.0, 0.0, 0.0]\n",
      "array2[3]: 5.0\n"
     ]
    }
   ],
   "source": [
    "val array1 = arrayOf(1,2,3,4) //-> Int-Array\n",
    "println(\"array1: ${array1.toList()}\")\n",
    "println(\"array1[2]: ${array1[2]}\")\n",
    "println(\"array1.size: ${array1.size}\")\n",
    "println()\n",
    "\n",
    "val array2 = Array(6) {0.0} //-> Double-Array\n",
    "println(\"array2: ${array2.toList()}\")\n",
    "println(\"array2[2]: ${array2[2]}\")\n",
    "println(\"array2.size: ${array2.size}\")\n",
    "array2[3] = 5.0\n",
    "println(\"array2 geändert: ${array2.toList()}\")\n",
    "println(\"array2[3]: ${array2[3]}\") //5.0"
   ]
  },
  {
   "cell_type": "markdown",
   "id": "cd193c54",
   "metadata": {},
   "source": [
    "Mehrdimensionale Arrays können, wie in Java, erstellt werden, indem eindimensionale Arrays ineinander geschachtelt werden."
   ]
  },
  {
   "cell_type": "code",
   "execution_count": 124,
   "id": "769dadcf",
   "metadata": {},
   "outputs": [
    {
     "name": "stdout",
     "output_type": "stream",
     "text": [
      "array2Dim1[0][3]: Eintrag\n",
      "array2Dim1[1][1]: 5\n"
     ]
    }
   ],
   "source": [
    "val array2Dim1 = Array(5) { Array(5) {\"Eintrag\"} } //Erzeugt ein 2 dimensionales String-Array der Größe 5x5 gefüllt mit dem String \"Eintrag\"\n",
    "println(\"array2Dim1[0][3]: ${array2Dim1[0][3]}\")\n",
    "\n",
    "val arrayDim2 = arrayOf( //Erzeugt ein 2 dimensionales Int-Array der Größe 3x3 gefüllt mit der Nummer der Position\n",
    "    arrayOf(1,2,3),\n",
    "    arrayOf(4,5,6),\n",
    "    arrayOf(7,8,9)\n",
    ")\n",
    "println(\"array2Dim1[1][1]: ${arrayDim2[1][1]}\")"
   ]
  },
  {
   "cell_type": "markdown",
   "id": "409309b0",
   "metadata": {},
   "source": [
    "#### Aufgabe - Array\n",
    "Vervollständigen Sie folgendes Codegerüst, sodass das 2 dimensionale Array `array` formatiert ausgegeben wird."
   ]
  },
  {
   "cell_type": "code",
   "execution_count": 44,
   "id": "bdd74cf9",
   "metadata": {},
   "outputs": [],
   "source": [
    "val array = Array(5) { Array(5) { (0..20).random() } }\n",
    "\n",
    "//TODO"
   ]
  },
  {
   "cell_type": "code",
   "execution_count": 45,
   "id": "00baa14d",
   "metadata": {},
   "outputs": [
    {
     "name": "stdout",
     "output_type": "stream",
     "text": [
      " 16 17 6 3 1\n",
      " 4 20 7 0 7\n",
      " 11 1 6 13 18\n",
      " 8 6 3 2 6\n",
      " 19 14 10 20 9\n"
     ]
    }
   ],
   "source": [
    "val array = Array(5) { Array(5) { (0..20).random() } }\n",
    "for (col in array){\n",
    "    for (elem in col){\n",
    "        print(\" $elem\")\n",
    "    }\n",
    "    println()\n",
    "}"
   ]
  },
  {
   "cell_type": "markdown",
   "id": "a28dafb0",
   "metadata": {},
   "source": [
    "### List\n",
    "Aufgrund einer größeren Flexibilität und besseren Implementierung sind in Kotlin Listen gegenüber Arrays zu bevorzugen. Ähnlich zu den zwei verschiedenen Variablentypen (`val`/`var`), sind Listen ebenso in veränderbare (`MutableList`) und unveränderbare (`List`) Listen aufgeteilt. Während die `MutableList` an eine klassische `List` in Java erinnert, können die Einträge einer Kotlin-`List` im nachhinein nicht verändert werden. Die Liste ist den heterogenen Datenstrukturen zuzuordnen.\n",
    "\n",
    "#### Inititalisierung\n",
    "Die Erzeugung eienr Liste erfolgt, ähnlich zu einem Array, mit der Funktion `listOf()` beziehungsweise `mutableListOf()`. Als Parameter können die Listeneinträge übergeben werden. Falls eine leere `MutableList` initialisiert werden soll, ist außerdem die Angabe des generischen Datentyps der Elemente elementar. Des Weiteren kann auch der bereits bei Arrays kennengelernte Konstruktor angewendet werden. Dabei muss eine (bei `List` festgesetzte) Länge angegeben werden. In den geschweiften Klammern ist ein Zugriff auf das aktuelle zu füllende Element mit dem Schlüsselwort `it` möglich."
   ]
  },
  {
   "cell_type": "code",
   "execution_count": 46,
   "id": "23fd4d48",
   "metadata": {},
   "outputs": [
    {
     "name": "stdout",
     "output_type": "stream",
     "text": [
      "liste1: [1, 2, 3, 4, 5, 6]\n",
      "liste2: []\n",
      "liste3: [1, 2.0, Kotlin, a, /]\n",
      "liste4: [Kotlin, Java]\n",
      "liste5: [0, 1, 2, 3, 4]\n",
      "liste6: [0, 1, 4, 9, 16, 25, 36, 49, 64, 81]\n",
      "liste7: [0, 0, 0, 0, 0, 10]\n"
     ]
    }
   ],
   "source": [
    "val liste1 = listOf(1,2,3,4,5,6) //unveränderbare Liste mit Elementen des Datentyps Int\n",
    "//liste1.add(5) -> Error: Unresolved reference: add\n",
    "println(\"liste1: $liste1\")\n",
    "\n",
    "val liste2 = listOf<Int>() //leere, unveränderbare Liste mit Elementen des Datentyps Int\n",
    "println(\"liste2: $liste2\")\n",
    "\n",
    "val liste3 = mutableListOf(1,2.0,\"Kotlin\",4.5,'a','/') //veränderbare Liste mit Elementen des Datentyps Any\n",
    "liste3.removeAt(3)\n",
    "println(\"liste3: $liste3\")\n",
    "\n",
    "val liste4 = mutableListOf<String>() //leere, veränderbare Liste mit Elementen des Datentyps String\n",
    "liste4.add(\"Kotlin\")\n",
    "liste4.add(\"Java\")\n",
    "//liste4.add(10) -> Error: The integer literal does not conform to the expected type String\n",
    "println(\"liste4: $liste4\")\n",
    "\n",
    "val liste5 = List(5) { it } //unveränderbare Liste mit Elementen des Datentyps Int, die den Index beinhalten\n",
    "println(\"liste5: $liste5\")\n",
    "\n",
    "val liste6 = MutableList(10) { it * it } //veränderbare Liste mit Elementen des Datentyps Int, die dem quadrierten Index entsprechen\n",
    "println(\"liste6: $liste6\")\n",
    "\n",
    "val liste7 = MutableList(5) { 0 } //veränderbare Liste mit Elementen des Datentyps Int, die 0 beinhalten\n",
    "liste7.add(10)\n",
    "println(\"liste7: $liste7\")"
   ]
  },
  {
   "cell_type": "markdown",
   "id": "29f08423",
   "metadata": {},
   "source": [
    "#### Veränderbar & Unveränderbar\n",
    "Bei der Betrachtung des oben genannten Beispiels könnten einige Fragen aufgekommen sein, die die Veränderbarkeit der Listen und deren Variablen betreffen. Deswegen folgt hier noch eine ausführlichere Erklärung.  \n",
    "Beginnen wir mit einer Betrachtung der verschiedenen Typen einer Liste: \n",
    "- Eine Instanz der Klasse `List` kann man sich vorstellen wie eine Liste mit einer, bei Initialisierung festgesetzter, Länge. In der Liste sind Variablen des Typs `val` gespeichert. Diese können also nicht verändert werden. \n",
    "- Eine Liste der Klasse `MutableList` hat keine festgelegte Länge und kann folglich beliebig verlängert oder verkürzt werden. Die Elemente sind Variablen des Typs `var` und können neu gesetzt werden.\n",
    "\n",
    "Gespeichert werden die Listen in eigenen Variablen, die erneut verschieden veränderbar sein können:\n",
    "- Wird eine Liste in einer Variable des Typs `val` gespeichert, kann der Variable keine neue Liste zugewiesen werden. Dies hat jedoch **keinen** Einfluss auf den Typ der Liste.\n",
    "- Wird eine Liste in einer Variable des Typs `var` gespeichert, kann die gespeicherte Liste durch eine Andere ersetzt werden. Die Variable ist veränderbar. Falls jedoch eine unveränderbare Liste in einer veränderbaren Variablen gespeichert wird, kann die Liste dennoch nicht bearbeitet werden.\n",
    "\n",
    "Zusammenfassung:\n",
    "\n",
    "<table style=\"font-size:16px\">\n",
    "<thead>\n",
    "  <tr>\n",
    "    <th style=\"font-size:16px\">Typ der Variable</th>\n",
    "    <th style=\"font-size:16px\">List</th>\n",
    "    <th style=\"font-size:16px\">MutableList</th>\n",
    "  </tr>\n",
    "</thead>\n",
    "<tbody>\n",
    "  <tr>\n",
    "    <td style=\"font-size:16px\"><b>val</b></td>\n",
    "    <td style=\"font-size:16px\">Variable und Liste können nicht verändert werden</td>\n",
    "    <td style=\"font-size:16px\">Variable kann nicht verändert werden, die Liste hingegen schon.</td>\n",
    "  </tr>\n",
    "  <tr>\n",
    "    <td style=\"font-size:16px\"><b>var</b></td>\n",
    "    <td style=\"font-size:16px\">Variable kann verändert werden, die Liste hingegen nicht.</td>\n",
    "    <td style=\"font-size:16px\">Variable und Liste können verändert werden</td>\n",
    "  </tr>\n",
    "</tbody>\n",
    "</table>"
   ]
  },
  {
   "cell_type": "markdown",
   "id": "f484fc07",
   "metadata": {},
   "source": [
    "#### Ausgewählte Operationen\n",
    "Im Folgenden werden ausgewählte Operationen vorgestellt, die auf eine Liste angewendet werden können.\n",
    "##### Zugriff auf ein Element\n",
    "Der Zugriff auf ein Element kann entweder, wie bei einem Array, mit dem Index erfolgen oder mit der Methode `get()`, der der Index als Parameter übergeben wird."
   ]
  },
  {
   "cell_type": "code",
   "execution_count": 47,
   "id": "e0d367a9",
   "metadata": {},
   "outputs": [
    {
     "name": "stdout",
     "output_type": "stream",
     "text": [
      "liste[1]: 1, liste.get(1): 1\n"
     ]
    }
   ],
   "source": [
    "val liste = listOf(0,1,2,3,4)\n",
    "println(\"liste[1]: ${liste[1]}, liste.get(1): ${liste.get(1)}\")"
   ]
  },
  {
   "cell_type": "markdown",
   "id": "c31f911d",
   "metadata": {},
   "source": [
    "##### Länge\n",
    "Die Länge einer Liste kann in der Variable `size` abgerufen werden."
   ]
  },
  {
   "cell_type": "code",
   "execution_count": 48,
   "id": "353650d7",
   "metadata": {},
   "outputs": [
    {
     "name": "stdout",
     "output_type": "stream",
     "text": [
      "Länge der Liste [true, false, false, false, true, true]: 6\n"
     ]
    }
   ],
   "source": [
    "val liste = listOf(true, false, false, false, true, true)\n",
    "println(\"Länge der Liste $liste: ${liste.size}\")"
   ]
  },
  {
   "cell_type": "markdown",
   "id": "7abdfa82",
   "metadata": {},
   "source": [
    "##### Konvertierung\n",
    "Listen können untereinander mit `toList()` beziehungsweise `toMutableList()` konvertiert werden. Außerdem können auch andere Datenstrukturen mit dieser Funktion zu einer Liste umgewandelt werden. Dies ist vor Allem hilfreich, wenn Datenstrukturen ausgegeben werden sollen. "
   ]
  },
  {
   "cell_type": "code",
   "execution_count": 49,
   "id": "2f2fe94e",
   "metadata": {},
   "outputs": [
    {
     "name": "stdout",
     "output_type": "stream",
     "text": [
      "array ist ein Array: true, array: [Ljava.lang.Integer;@4158840d\n",
      "liste1 ist eine List: true, liste1: [1, 2, 3, 4, 5, 6]\n",
      "liste2 ist eine MutableList: true, liste2: [1, 2, 3, 4, 5, 6, 5]\n"
     ]
    }
   ],
   "source": [
    "val array = arrayOf(1,2,3,4,5,6)\n",
    "println(\"array ist ein Array: ${array is Array<*>}, array: $array\")\n",
    "val liste1 = array.toList()\n",
    "// liste.add(5) -> Error\n",
    "println(\"liste1 ist eine List: ${liste1 is List<*>}, liste1: $liste1\")\n",
    "val liste2 = liste1.toMutableList()\n",
    "liste2.add(5) //-> funktioniert\n",
    "println(\"liste2 ist eine MutableList: ${liste2 is MutableList<*>}, liste2: $liste2\")"
   ]
  },
  {
   "cell_type": "markdown",
   "id": "91d8482c",
   "metadata": {},
   "source": [
    "##### Füllen und Leeren\n",
    "Eine veränderbare Liste kann durch `fill()` mit dem übergebenden Objekt gefüllt werden. `clear()` hingegen löscht alle Elemente aus der Liste."
   ]
  },
  {
   "cell_type": "code",
   "execution_count": 50,
   "id": "89a14b47",
   "metadata": {},
   "outputs": [
    {
     "name": "stdout",
     "output_type": "stream",
     "text": [
      "Liste: [1, 2, 3, 4, 5, 6]\n",
      "Gefüllte Liste: [100, 100, 100, 100, 100, 100]\n",
      "Geleerte Liste: []\n"
     ]
    }
   ],
   "source": [
    "val liste = mutableListOf(1,2,3,4,5,6)\n",
    "println(\"Liste: $liste\")\n",
    "liste.fill(100)\n",
    "println(\"Gefüllte Liste: $liste\")\n",
    "liste.clear()\n",
    "println(\"Geleerte Liste: $liste\")"
   ]
  },
  {
   "cell_type": "markdown",
   "id": "16f37a3a",
   "metadata": {},
   "source": [
    "##### Hinzufügen und Löschen\n",
    "Einer veränderbaren Liste können Elemente mit `add()` hinzugefügt werden. Wird nur das Element übergeben, wird dieses am Ende angehängt. Wenn zusätzlich noch ein Index angegeben wird, wird das Element an diesem eingefügt.  \n",
    "Mit `remove()` beziehungsweise `removeAt()` kann ein bestimmtes Element oder ein Element an einem bestimmten Index entfernt werden.  \n",
    "Für eine bessere Übersitlichkeit kann das Hinzufügen oder Entfernen mit Operatoren abgekürzt werden. Diese `operator`-Funktionen verweisen aber lediglich auf `add()` und `remove()`."
   ]
  },
  {
   "cell_type": "code",
   "execution_count": 51,
   "id": "b2401e7c",
   "metadata": {},
   "outputs": [
    {
     "name": "stdout",
     "output_type": "stream",
     "text": [
      "Liste: [a, b, c, d, e]\n",
      "Liste mit hinzugefügten Elementen (f, z): [a, b, z, c, d, e, f]\n",
      "Liste mit entfernten Elementen (e, a): [b, z, c, d, f]\n",
      "\n",
      "Kurzschreibweise\n",
      "Liste2: [a, b, c, d, e]\n",
      "Liste2 mit hinzugefügten Elementen (f, z): [a, b, z, c, d, e, f]\n",
      "Liste2 mit entfernten Elementen (e, a): [b, z, c, d, f]\n"
     ]
    }
   ],
   "source": [
    "val liste = mutableListOf('a', 'b', 'c', 'd', 'e')\n",
    "println(\"Liste: $liste\")\n",
    "liste.add('f')\n",
    "liste.add(2, 'z')\n",
    "println(\"Liste mit hinzugefügten Elementen (f, z): $liste\")\n",
    "liste.remove('e')\n",
    "liste.removeAt(0)\n",
    "println(\"Liste mit entfernten Elementen (e, a): $liste\")\n",
    "\n",
    "//Kurzschreibweise\n",
    "println(\"\\nKurzschreibweise\")\n",
    "val liste2 = mutableListOf('a', 'b', 'c', 'd', 'e')\n",
    "println(\"Liste2: $liste2\")\n",
    "liste2 += 'f'\n",
    "liste2.add(2, 'z')\n",
    "println(\"Liste2 mit hinzugefügten Elementen (f, z): $liste2\")\n",
    "liste2 -= 'e'\n",
    "liste2.removeAt(0)\n",
    "println(\"Liste2 mit entfernten Elementen (e, a): $liste2\")"
   ]
  },
  {
   "cell_type": "markdown",
   "id": "e71625d7",
   "metadata": {},
   "source": [
    "##### Teilliste\n",
    "Eine Teilliste kann mit der Funktion `subList()` erstellt werden. Dabei müssen als Parameter der Startindex (inklusive) und Endindex (exklusive) angegeben werden.  \n",
    "Eine neue Liste mit den ersten n Elementen einer Liste kann mit `take(n)` erzeugt werden. Sollen hingegen die letzten *n* Elemente zurückgegeben werden findet `takeLast(n)` Anwendung.  \n",
    "Im Gegensatz dazu kann auf eine Liste ohne die ersten *n* Elemente mit der Methode `drop(n)` zugegriffen werden."
   ]
  },
  {
   "cell_type": "code",
   "execution_count": 52,
   "id": "cdb12359",
   "metadata": {},
   "outputs": [
    {
     "name": "stdout",
     "output_type": "stream",
     "text": [
      "Ausgangsliste: [1, 2, 3, 4, 5, 6]\n",
      "Teilliste von 3 bis liste.size: [4, 5, 6]\n",
      "Teilliste der ersten 3 Elemente: [1, 2, 3]\n",
      "Teilliste der letzten 3 Elemente: [4, 5, 6]\n",
      "Teilliste ohne die ersten 3 Elemente: [4, 5, 6]\n"
     ]
    }
   ],
   "source": [
    "val liste = listOf(1,2,3,4,5,6)\n",
    "println(\"Ausgangsliste: $liste\")\n",
    "val teilliste = liste.subList(3, liste.size)\n",
    "println(\"Teilliste von 3 bis liste.size: $teilliste\")\n",
    "val teilliste2 = liste.take(3)\n",
    "println(\"Teilliste der ersten 3 Elemente: $teilliste2\")\n",
    "val teilliste3 = liste.takeLast(3)\n",
    "println(\"Teilliste der letzten 3 Elemente: $teilliste3\")\n",
    "val teilliste4 = liste.drop(3)\n",
    "println(\"Teilliste ohne die ersten 3 Elemente: $teilliste4\")"
   ]
  },
  {
   "cell_type": "markdown",
   "id": "0b431198",
   "metadata": {},
   "source": [
    "##### Suchen\n",
    "Mit dem Schlüsselwort `in` kann ein Element in einer Liste gesucht werden. Zurückgegeben wird `true`, falls es gefunden wurde, ansonsten `false`.<br />\n",
    "Wenn, statt der Information ob das Element vorhanden ist, zusätzlich noch der Index gesucht ist, kann die Methode `indexOf()` benutzt werden. Falls das übergebene Element nicht in der Liste vorhanden ist, wird `-1` zurückgegeben."
   ]
  },
  {
   "cell_type": "code",
   "execution_count": 125,
   "id": "9b634866",
   "metadata": {},
   "outputs": [
    {
     "name": "stdout",
     "output_type": "stream",
     "text": [
      "Ist 'Lua' in der Liste: true\n",
      "Ist 'Javascript' in der Liste: false\n",
      "Index von 'Lua' in der Liste: 2\n",
      "Index von 'Javascript' in der Liste: -1\n"
     ]
    }
   ],
   "source": [
    "val liste = listOf(\"Kotlin\", \"Java\", \"Lua\", \"C\", \"Swift\")\n",
    "println(\"Ist 'Lua' in der Liste: ${\"Lua\" in liste}\")\n",
    "println(\"Ist 'Javascript' in der Liste: ${\"Javascript\" in liste}\")\n",
    "println(\"Index von 'Lua' in der Liste: ${liste.indexOf(\"Lua\")}\")\n",
    "println(\"Index von 'Javascript' in der Liste: ${liste.indexOf(\"Javascript\")}\")"
   ]
  },
  {
   "cell_type": "markdown",
   "id": "e85481d6",
   "metadata": {},
   "source": [
    "##### Anordnen und Zufall\n",
    "Ein zufälliges Element einer Liste (oder auch eines Bereichs) kann mit `random()` erhalten werden.  \n",
    "Soll eine veränderbare Liste durchmischt werden, findet `shuffle()` Anwendung.  \n",
    "Das sortieren einer veränderbaren Liste funktioniert unter Anderem mit `sort()`. [Weiterführende Informationen](https://kotlinlang.org/api/latest/jvm/stdlib/kotlin.collections/sort.html) zu Sortierstrategien."
   ]
  },
  {
   "cell_type": "code",
   "execution_count": 54,
   "id": "2b0b3958",
   "metadata": {},
   "outputs": [
    {
     "name": "stdout",
     "output_type": "stream",
     "text": [
      "Ausgangsliste: [0, 1, 2, 3, 4, 5, 6, 7, 8, 9]\n",
      "Zufälliges Element: 4\n",
      "Zufälliges Element zwischen 0 und 9: 1\n",
      "Zufällige Anordnung: [8, 4, 0, 7, 2, 5, 6, 1, 9, 3]\n",
      "Wieder sortiert: [0, 1, 2, 3, 4, 5, 6, 7, 8, 9]\n"
     ]
    }
   ],
   "source": [
    "val liste = mutableListOf(0,1,2,3,4,5,6,7,8,9)\n",
    "println(\"Ausgangsliste: $liste\")\n",
    "println(\"Zufälliges Element: ${liste.random()}\")\n",
    "println(\"Zufälliges Element zwischen 0 und 9: ${(0..10).random()}\")\n",
    "liste.shuffle()\n",
    "println(\"Zufällige Anordnung: ${liste}\")\n",
    "liste.sort()\n",
    "println(\"Wieder sortiert: ${liste}\")"
   ]
  },
  {
   "cell_type": "markdown",
   "id": "0428fd2e",
   "metadata": {},
   "source": [
    "#### Aufgabe - Binäre Suche in einer Liste\n",
    "Implementieren Sie eine Funktion `binaereSuche`, die in einer übergebenen Liste eine übergebe Zahl sucht. Zurückgegeben werden soll die Position der gesuchten Zahl. Kann diese nicht gefunden werden, soll das Ergebnis `-1` betragen. Verwende dabei die [rekursive Binäre Suche](https://de.wikipedia.org/wiki/Bin%C3%A4re_Suche)."
   ]
  },
  {
   "cell_type": "code",
   "execution_count": 91,
   "id": "0a5a7a04",
   "metadata": {},
   "outputs": [
    {
     "name": "stdout",
     "output_type": "stream",
     "text": [
      "Richtig!\n"
     ]
    }
   ],
   "source": [
    "//TODO\n",
    "\n",
    "//Test\n",
    "val testListe = List(100) { (0..100).random() }.sorted()\n",
    "val testZahl = (0..100).random()\n",
    "if(testListe.indexOf(testZahl) !=  binaereSuche(testListe, testZahl))\n",
    "    println(\"Fehler! testListe.indexOf($testZahl): ${testListe.indexOf(testZahl)}, binaereSuche(testListe, $testZahl): ${binaersuche(testListe, testZahl)}\")\n",
    "else\n",
    "    println(\"Richtig!\")"
   ]
  },
  {
   "cell_type": "code",
   "execution_count": 92,
   "id": "142fb8ba",
   "metadata": {},
   "outputs": [
    {
     "name": "stdout",
     "output_type": "stream",
     "text": [
      "Richtig!\n"
     ]
    }
   ],
   "source": [
    "//Lösung\n",
    "fun binaereSuche_rekursiv(liste: List<Int>, gesucht: Int, start: Int, ende: Int): Int{\n",
    "    if (ende < start)\n",
    "        return -1\n",
    "    val mitte = (start + ende) / 2\n",
    "    return if (liste[mitte] == gesucht)\n",
    "        mitte\n",
    "    else if (liste[mitte] < gesucht)\n",
    "        binaersuche_rekursiv(liste, gesucht, mitte + 1, ende)\n",
    "    else\n",
    "        binaersuche_rekursiv(liste, gesucht, start, mitte - 1)\n",
    "}\n",
    "\n",
    "fun binaereSuche(liste: List<Int>, gesucht: Int) = binaereSuche_rekursiv(liste, gesucht, 0, liste.size - 1)\n",
    "\n",
    "//Test\n",
    "val testListe = List(100) { (0..100).random() }.sorted()\n",
    "val testZahl = (0..100).random()\n",
    "if(testListe.indexOf(testZahl) !=  binaereSuche(testListe, testZahl))\n",
    "    println(\"Fehler! testListe.indexOf($testZahl): ${testListe.indexOf(testZahl)}, binaereSuche(testListe, $testZahl): ${binaersuche(testListe, testZahl)}\")\n",
    "else\n",
    "    println(\"Richtig!\")"
   ]
  },
  {
   "cell_type": "markdown",
   "id": "078d6b57",
   "metadata": {},
   "source": [
    "### Set\n",
    "Sets sind primitive Listen. Ihre Elemente sind ungeordnet und es sind keine Dublikate zu finden. Nur ein `MutableSet` kann vergrößert oder verkleinert werden. Erzeugt können sie mit `setOf()` beziehungsweise `mutableSetOf()` werden."
   ]
  },
  {
   "cell_type": "code",
   "execution_count": 56,
   "id": "f9099b02",
   "metadata": {},
   "outputs": [
    {
     "name": "stdout",
     "output_type": "stream",
     "text": [
      "unveränderbares Set: [1, 6, 3, 4, 5, 2]\n",
      "veränderbares Set: [1, 6, 3, 4, 5, 2]\n",
      "veränderbares Set ohne 3: [1, 6, 4, 5, 2]\n",
      "veränderbares Set mit 10: [1, 6, 4, 5, 2, 10]\n"
     ]
    }
   ],
   "source": [
    "val set = setOf(1,6,3,4,5,1,2,3)\n",
    "println(\"unveränderbares Set: $set\")\n",
    "val set2 = mutableSetOf(1,6,3,4,5,1,2,3)\n",
    "println(\"veränderbares Set: $set2\")\n",
    "set2.remove(3)\n",
    "println(\"veränderbares Set ohne 3: $set2\")\n",
    "set2.add(10)\n",
    "println(\"veränderbares Set mit 10: $set2\")"
   ]
  },
  {
   "cell_type": "markdown",
   "id": "2f7bc14f",
   "metadata": {},
   "source": [
    "Ein Vorteil an Sets ist, dass einfache Operationen mit Mengen ermöglicht werden. Mit `union` oder `+` können zwei Sets vereinigt werden, `intersect` gibt eine Schnittmenge zurück und `subtract` entfernt alle Elemente der ersten Menge aus der Zweiten."
   ]
  },
  {
   "cell_type": "code",
   "execution_count": 57,
   "id": "58e3c8a1",
   "metadata": {
    "tags": []
   },
   "outputs": [
    {
     "name": "stdout",
     "output_type": "stream",
     "text": [
      "Set1: [1, 2, 3, 4, 5], Set2: [4, 5, 6, 7, 8]\n",
      "Vereinigung: [1, 2, 3, 4, 5, 6, 7, 8]\n",
      "Schnittmenge: [4, 5]\n",
      "Subtraktion: [1, 2, 3]\n"
     ]
    }
   ],
   "source": [
    "val set1 = setOf(1,2,3,4,5)\n",
    "val set2 = setOf(4,5,6,7,8)\n",
    "println(\"Set1: $set1, Set2: $set2\")\n",
    "val vereinigung = set1 union set2\n",
    "println(\"Vereinigung: $vereinigung\")\n",
    "val schnitt = set1 intersect set2\n",
    "println(\"Schnittmenge: $schnitt\")\n",
    "val subset = set1 subtract set2\n",
    "println(\"Subtraktion: $subset\")"
   ]
  },
  {
   "cell_type": "markdown",
   "id": "2e790779",
   "metadata": {},
   "source": [
    "### Map\n",
    "Maps sind einfach ausgedrückt eine Liste von Paaren. Ein Paar besteht aus einem Schlüssel (*key*) und einem Wert (*value*). Der Schlüssel ist dabei der *Index* eines Werts. Eine unveränderbare Map gehört der Klasse `Map` an und kann mit `mapOf()` erzeugt werden, während eine Veränderbare der Klasse `MutableMap` zugeordnet und mit Hilfe von `mutableMapOf()` initialisiert wird. Ein Eintrag in einer Map wird mit einem Schlüssel und einem Wert verbunden mit `to` gekennzeichnet. Zu einer veränderbaren Map kann mit der Funktion `put()` ein Eintrag hinzugefügt werden. Dazu müssen der Schlüssel und der Wert übergeben werden. Ein Eintrag kann mit `remove()` und der Angabe des Schlüssels entfernt werden."
   ]
  },
  {
   "cell_type": "code",
   "execution_count": 7,
   "id": "75ab377f",
   "metadata": {
    "execution": {
     "iopub.execute_input": "2021-05-26T16:26+0200",
     "iopub.status.busy": "2021-05-26T16:26+0200",
     "iopub.status.idle": "2021-05-26T16:26+0200",
     "shell.execute_reply": "2021-05-26T16:26+0200",
     "shell.execute_reply.started": "2021-05-26T16:26+0200"
    },
    "tags": []
   },
   "outputs": [
    {
     "name": "stdout",
     "output_type": "stream",
     "text": [
      "Unveränderbare Map: {Kotlin=0, Java=1, C=2}\n",
      "\n",
      "Veränderbare Map: {AI1=Westfechtel, AI2=Rauber, AI3=Henrich}\n",
      "Wert zum Schlüssel AI2: Rauber\n",
      "Veränderbare Map mit AI4: {AI1=Westfechtel, AI2=Rauber, AI3=Henrich, AI4=Jablonski}\n",
      "Veränderbare Map ohne AI2: {AI1=Westfechtel, AI3=Henrich, AI4=Jablonski}\n",
      "\n",
      "Leere Map: {}\n"
     ]
    }
   ],
   "source": [
    "val map = mapOf(\"Kotlin\" to 0, \"Java\" to 1, \"C\" to 2)\n",
    "println(\"Unveränderbare Map: $map\")\n",
    "println()\n",
    "\n",
    "val map2 = mutableMapOf(\"AI1\" to \"Westfechtel\", \"AI2\" to \"Rauber\", \"AI3\" to \"Henrich\")\n",
    "println(\"Veränderbare Map: $map2\")\n",
    "println(\"Wert zum Schlüssel AI2: ${map2[\"AI2\"]}\")\n",
    "map2.put(\"AI4\", \"Jablonski\")\n",
    "println(\"Veränderbare Map mit AI4: $map2\")\n",
    "map2.remove(\"AI2\")\n",
    "println(\"Veränderbare Map ohne AI2: $map2\")\n",
    "println()\n",
    "\n",
    "val leereMap = mutableMapOf<String, Int>() //leere veränderbare Map, deren Schlüssel Strings und Werte Ints sind\n",
    "println(\"Leere Map: $leereMap\")"
   ]
  },
  {
   "cell_type": "markdown",
   "id": "781d2086",
   "metadata": {},
   "source": [
    "Eine Map kann mit einer `for`-Schleife in Kombination mit `in` einfach durchlaufen werden:"
   ]
  },
  {
   "cell_type": "code",
   "execution_count": 59,
   "id": "4f51d047",
   "metadata": {},
   "outputs": [
    {
     "name": "stdout",
     "output_type": "stream",
     "text": [
      "AI1: Westfechtel\n",
      "AI2: Rauber\n",
      "AI3: Henrich\n",
      "AI4: Jablonski\n"
     ]
    }
   ],
   "source": [
    "val map = mapOf(\"AI1\" to \"Westfechtel\", \"AI2\" to \"Rauber\", \"AI3\" to \"Henrich\", \"AI4\" to \"Jablonski\")\n",
    "for ((key, value) in map){\n",
    "    println(\"$key: $value\")\n",
    "}"
   ]
  },
  {
   "cell_type": "markdown",
   "id": "923f2a7c",
   "metadata": {},
   "source": [
    "#### Aufgabe - Quadrierende Map\n",
    "Das Ziel dieser Aufgabe ist es eine Map zu generieren, die die Zahlen von 1 bis *n* auf ihre Quadratzahlen *abbildet*. Implementieren Sie dazu eine Funktion `generiereMap()`, der ein `Int`-Wert, der das Maximum darstellt, übergeben wird. Die generierte Map soll von der Funktion zurückgegeben werden.  \n",
    "Beispiel: `mapOf(1 to 1, 2 to 4, 3 to 6, ...)`"
   ]
  },
  {
   "cell_type": "code",
   "execution_count": null,
   "id": "7fdc6df9",
   "metadata": {},
   "outputs": [],
   "source": [
    "//TODO\n",
    "\n",
    "//Test\n",
    "var fehler = 0\n",
    "for ((schluessel, wert) in generiereMap(100)){\n",
    "    if(schluessel * schluessel != wert){\n",
    "        println(\"Fehler! Das Quadrat von $schluessel ist ${schluessel*schluessel} und nicht $wert\")\n",
    "        fehler++\n",
    "    }\n",
    "}\n",
    "if (generiereMap(100).keys.toList() != List(100) { it+1 }){\n",
    "    println(\"Fehler! Es sind nicht alle Zahlen von 1 bis inklusive 100 bei dem Aufruf generiereMap(100) in dem Ergebnis vorhanden.\\n${generiereMap(100).keys.toList()}\")\n",
    "    fehler++\n",
    "}\n",
    "\n",
    "if (fehler == 0)\n",
    "    println(\"Richtig!\")\n",
    "else\n",
    "    println(\"Falsch! Es traten $fehler Fehler auf.\")"
   ]
  },
  {
   "cell_type": "code",
   "execution_count": 18,
   "id": "e774b470",
   "metadata": {
    "execution": {
     "iopub.execute_input": "2021-05-26T16:32+0200",
     "iopub.status.busy": "2021-05-26T16:32+0200",
     "iopub.status.idle": "2021-05-26T16:32+0200",
     "shell.execute_reply": "2021-05-26T16:32+0200",
     "shell.execute_reply.started": "2021-05-26T16:32+0200"
    },
    "tags": []
   },
   "outputs": [
    {
     "name": "stdout",
     "output_type": "stream",
     "text": [
      "Richtig!\n"
     ]
    }
   ],
   "source": [
    "//Lösung\n",
    "fun generiereMap(n: Int): Map<Int, Int> {\n",
    "    val ergebnis = mutableMapOf<Int, Int>()\n",
    "    for (i in 1..n){\n",
    "        ergebnis.put(i, i*i)\n",
    "    }\n",
    "    return ergebnis\n",
    "}\n",
    "\n",
    "//Test\n",
    "var fehler = 0\n",
    "for ((schluessel, wert) in generiereMap(100)){\n",
    "    if(schluessel * schluessel != wert){\n",
    "        println(\"Fehler! Das Quadrat von $schluessel ist ${schluessel*schluessel} und nicht $wert\")\n",
    "        fehler++\n",
    "    }\n",
    "}\n",
    "if (generiereMap(100).keys.toList() != List(100) { it+1 }){\n",
    "    println(\"Fehler! Es sind nicht alle Zahlen von 1 bis inklusive 100 bei dem Aufruf generiereMap(100) in dem Ergebnis vorhanden.\\n${generiereMap(100).keys.toList()}\")\n",
    "    fehler++\n",
    "}\n",
    "\n",
    "if (fehler == 0)\n",
    "    println(\"Richtig!\")\n",
    "else\n",
    "    println(\"Falsch! Es traten $fehler Fehler auf.\")"
   ]
  }
 ],
 "metadata": {
  "kernelspec": {
   "display_name": "Kotlin",
   "language": "kotlin",
   "name": "kotlin"
  },
  "language_info": {
   "codemirror_mode": "text/x-kotlin",
   "file_extension": ".kt",
   "mimetype": "text/x-kotlin",
   "name": "kotlin",
   "nbconvert_exporter": "",
   "pygments_lexer": "kotlin",
   "version": "1.5.20-dev-5817"
  }
 },
 "nbformat": 4,
 "nbformat_minor": 5
}
