{
 "cells": [
  {
   "cell_type": "markdown",
   "id": "f34c0429-159f-4009-bf80-e5235bc4b482",
   "metadata": {},
   "source": [
    "<img src=\"../images/Lektion3.png\" style=\"margin: 20px auto 20px 0px\"/>\n",
    "<h2 style=\"display:none\">Lektion 3 - Funktionen</h2>\n",
    "In dieser Lektion werden Funktionen näher beleuchtet. Da Funktionen sowohl auf der Top-Level-Ebene, als auch in Klassen implementiert werden können, wird eine Abgrenzung der beiden Konzepte vorgenommen. Wenn im Folgenden von einer Funktion geredet wird, ist dies eine Funktion, die auf der Top-Level-Ebene vorzufinden ist. Diese findet vor Allem in der funktionalen Programmierung Anwendung. Methoden hingegen sind Funktionen, die einer Klasse angehören und bei der objektorientierten Programmierung Verwendung finden.\n",
    "\n",
    "### Grundlagen\n",
    "Eine Funktion in Kotlin unterscheidet sich in der Grundstruktur nicht stark von einer Methode in Java.  \n",
    "<img title=\"Struktur einer Funktion\" alt=\"Struktur einer Funktion\" src=\"../images/funktionen_struktur.png\" style=\"width: 700px; margin-left: auto; margin-right: auto;\">\n",
    "\n",
    "Der Funktionskopf beginnt mit dem Schlüsselwort `fun` gefolgt von deren Namen. Danach werden in runden Klammern, falls benötigt, die Parameter angegeben. Ansonsten werden diese leer gelassen. Bevor der Funktionsrumpf mit `{` beginnt, ist noch der Rückgabetyp, der von den Parameterklammern durch einen `:` getrennt wird, zu finden. Dieser kann weggelassen werden, falls die Funktion keine Rückgabe besitzt (in Java mit `void` gekennzeichnet).  \n",
    "Es ergibt sich folgender Syntax für Funktionen:  \n",
    ">Funktion -> \"fun\" name \"(\" [Parameter] \")\" [\":\" Rückgabetyp] \"{\" Rumpf \"}\"\n",
    "\n",
    "Falls ein Rückgabetyp angegeben ist, muss etwas zurückgegeben werden. Dies wird mit `return` eingeleitet. Falls der Rückgabetyp fehlt, gibt die Funktion nichts zurück, kann aber mit `return` beendet werden. Das Hauptprogramm besitzt den Funktionskopf:\n",
    "```kotlin\n",
    "fun main(){ ... }\n",
    "//oder\n",
    "fun main(args: Array) { ... }\n",
    "```"
   ]
  },
  {
   "cell_type": "code",
   "execution_count": null,
   "id": "e9c810e3-85a9-4ee9-bad1-8a21e0415601",
   "metadata": {},
   "outputs": [],
   "source": [
    "fun foo(): String{\n",
    "    return \"foo\"\n",
    "}\n",
    "\n",
    "fun show(a: String){\n",
    "    println(a)\n",
    "}\n",
    "\n",
    "fun main(){\n",
    "    val a = foo()\n",
    "    show(a)\n",
    "}\n",
    "main()"
   ]
  },
  {
   "cell_type": "markdown",
   "id": "fe562629-2061-4063-948e-34be10197beb",
   "metadata": {},
   "source": [
    "### Parameter\n",
    "Es können einer Funktion beliebig viele Parameter übergeben werden. Dabei wird zuerst der Name und danach der Datentyp, mit einem Doppelpunkt getrennt, angegeben. Außerdem kann jedem Parameter ein default-Wert zugewiesen werden. Wird der Parameter bei Funktionsaufruf weggelassen, wird er auf diesen gesetzt. Eine Möglichkeit ist auch bestimmte Parameter mit ihrem Namen direkt anzusprechen. Dann ist die Reihenfolge der mit Namen genannten Übergabeparameter unwichtig. Es sollte jedoch nur eine Form der Übergabe angewendet werden, da dies sonst zu einer falschen Positionierung führen kann.  \n",
    "Syntax der Parameter:  \n",
    ">Parameter -> Name \":\" Datentyp [\"=\" default-Wert] {\",\" Parameter}<br />"
   ]
  },
  {
   "cell_type": "code",
   "execution_count": null,
   "id": "40a4a8dc-dcd6-4600-a7ad-d14e401542cb",
   "metadata": {},
   "outputs": [],
   "source": [
    "fun foo(a: Int = 0, b: Int = 0, c: Int = 0, d: Int = 0) : String {\n",
    "    return \"a: $a, b: $b, c: $c, d: $d\"\n",
    "}\n",
    "println(\"foo(1,2,1,2): ${foo(1,2,1,2)}\")\n",
    "println(\"foo(1,2): ${foo(1,2)}\")\n",
    "println(\"foo(): ${foo()}\")\n",
    "println(\"foo(b=2,d=2): ${foo(b=2,d=2)}\")\n",
    "//foo(b=2,d=2, 3, 4) -> Error: Mixing named and positioned arguments is not allowed"
   ]
  },
  {
   "cell_type": "markdown",
   "id": "71dd8fa6-0920-4406-89af-69d51e7cedb4",
   "metadata": {},
   "source": [
    "### Rückgabe\n",
    "Eine Funktion kann, falls ein Rückgabetyp definiert ist, einen Wert zurückgeben. Falls mehrere Wert zurückgegeben werden sollen, erfolgt dies über eine Datenstruktur (zum Beispiel ein Array, näheres dazu in [Lektion 6](#Lektion-6---Datenstrukturen)) oder eine eigens definierte Datenklasse (näheres dazu in Abschnitt 3). Ist kein Rückgabetyp definiert, wird implizit `Unit` zurückgegeben. Dies ist das Gegenstück zu dem Schlüsselwort `void` in Java. Jedoch könnte auch das bereits kennengelernte `Nothing` signalisieren, dass nichts zurückgegeben wird. Der Unterschied ist, dass `Unit` signalsisiert, dass keine wichtigen Daten zurückgegeben werden. `Nothing` hingegen bedeutet, dass nichts zurückgegeben beziehungsweise die Funktion nicht terminieren wird. Der einzig praktische Anwendungsfall ist, wenn die Funktion immer einen Fehler wirft.\n",
    "```kotlin\n",
    "//Fall 1\n",
    "fun loop(): Nothing{\n",
    "    while(true){ ... }\n",
    "}\n",
    "//Fall 2\n",
    "fun fail(message: String): Nothing{\n",
    "    throw Exception(message)\n",
    "}\n",
    "```\n",
    "Schauen wir uns den 2. Fall genauer an. Der Funktion `fail` wird eine Nachricht übergeben, die durch einen geworfenen Fehler ausgegeben wird. Ein konkreter Anwendungsfall wäre zum Beispiel:\n",
    "```kotlin\n",
    "fun foo(num: Int) : Int{\n",
    "    if (num == 42){\n",
    "        return 42\n",
    "    }\n",
    "    else{\n",
    "        return fail(\"Falsch\")\n",
    "    }\n",
    "}\n",
    "```\n",
    "<div style=\"width:70%; float:left\">Ziel der Funktion ist es, herauszufinden, ob eine übergebe Zahl gleich <code>42</code> ist, falls nicht soll ein Fehler geworfen werden. Optimaler Rückgabetyp ist deswegen <code>Int</code>. Falls <code>42</code> übergeben wird, gibt die Funktion den Wert <code>42</code> vom Typ <code>Int</code> zurück. Jedoch könnte auch eine falsche Zahl übergeben werden. Dann würde der <code>else</code>-Fall greifen und die Funktion <code>fail</code> aufrufen, die einen Fehler wirft und <code>Nothing</code> zurückgibt. In Lektion 2 wurde <code>Nothing</code> bereits als Sub-Typ aller Datentypen eingeführt. Eine Funktion besitzt immer den größten gemeinsamen Rückgabetyp aller <code>return</code>-Statements. In diesem Beispiel ist der Datentyp des <code>if</code>-Blocks <code>Int</code> und der des <code>else</code>-Blocks <code>Nothing</code>. Da <code>Nothing</code> der Sub-Typ von <code>Int</code> ist, ist der größte gemeinsame Datentyp <code>Int</code>. Würde die Funktion <code>fail</code> jedoch <code>Unit</code> zurückgeben, dürfte der Rückgabetyp von <code>foo</code> nicht <code>Int</code> sein, da der größte gemeinsame Datentyp <code>Any</code> wäre.</div>\n",
    "<img title=\"Nothing & Util\" alt=\"Nothing & Util\" src=\"../images/nothing_util.png\" style=\"width: 30%; float:left\">"
   ]
  },
  {
   "cell_type": "code",
   "execution_count": null,
   "id": "fe1190e2-2c7c-42cd-a6ba-8e36b3a0ee6e",
   "metadata": {},
   "outputs": [],
   "source": [
    "fun failNothing(message: String): Nothing{\n",
    "    throw Exception(message)\n",
    "}\n",
    "\n",
    "fun failUnit(message: String): Unit{\n",
    "    throw Exception(message)\n",
    "}\n",
    "\n",
    "fun fooNothing(num: Int) : Int {\n",
    "                    return if (num == 42){\n",
    "                        42\n",
    "                    }\n",
    "                    else {\n",
    "                        failNothing(\"Falsch\")\n",
    "                    }\n",
    "}\n",
    "\n",
    "//fun fooUnit(num: Int) : Int {  //-> Error Type mismatch: inferred type is Unit but Int was expected\n",
    "fun fooUnit(num: Int) : Any {\n",
    "                    return if (num == 42){\n",
    "                        42\n",
    "                    }\n",
    "                    else {\n",
    "                        failUnit(\"Falsch\")\n",
    "                    }\n",
    "}"
   ]
  },
  {
   "cell_type": "markdown",
   "id": "c8a11d2b-aacc-41c4-9512-ddfb687a27c2",
   "metadata": {},
   "source": [
    "### Besonderheiten\n",
    "#### Kurzschreibweise\n",
    "Bestimmte Funktionen können in einer Kurzschreibweise geschrieben werden. Besonders praktisch ist dies für Funktionen, die nur wenige Zeilen umfassen und etwas zurückgeben. Dabei wird der Funktionsrumpf mit `=` getrennt direkt an den Funktionskopf angehängt. Das Schlüsselwort `return` wird weggelassen. Der Rückgabetyp wird nach dem Prinzip des größten gemeinsamen Typ implizit vom Kompiler ermittelt."
   ]
  },
  {
   "cell_type": "code",
   "execution_count": null,
   "id": "5e23c372-6833-464e-9259-4f25319393c0",
   "metadata": {},
   "outputs": [],
   "source": [
    "fun sum(a: Int, b: Int) = a + b\n",
    "println(\"sum(5,5): ${sum(5,5)}\")\n",
    "\n",
    "fun foo(num: Int) = if (num == 42) 42 else 0\n",
    "println(\"foo(42): ${foo(42)}\")\n",
    "println(\"foo(24): ${foo(24)}\")"
   ]
  },
  {
   "cell_type": "markdown",
   "id": "e69eecb7-d815-4538-89e0-be3853f7de0c",
   "metadata": {},
   "source": [
    "#### Überladen\n",
    "Das Überladen von Funktionen ist auch in Kotlin möglich. Einzige Einschränkung ist, dass der Kompiler - genauso wie in Java - das Parameterprofil der unterschiedlichen Funktionen voneinander unterscheiden kann."
   ]
  },
  {
   "cell_type": "code",
   "execution_count": 18,
   "id": "9f541b4c-f894-4be2-8a08-6d00105b0f87",
   "metadata": {},
   "outputs": [
    {
     "name": "stdout",
     "output_type": "stream",
     "text": [
      "Sum mit 2 Int-Parametern: 5\n",
      "Sum mit 3 Int-Parametern: 9\n",
      "Sum mit 2 Double-Parametern: 5.0\n"
     ]
    }
   ],
   "source": [
    "fun sum(a: Int, b: Int) = println(\"Sum mit 2 Int-Parametern: ${a+b}\")\n",
    "fun sum(a: Int, b: Int, c: Int) = println(\"Sum mit 3 Int-Parametern: ${a+b+c}\")\n",
    "fun sum(a: Double, b: Double) = println(\"Sum mit 2 Double-Parametern: ${a+b}\")\n",
    "sum(2,3)\n",
    "sum(2,3,4)\n",
    "sum(2.0,3.0)"
   ]
  }
 ],
 "metadata": {
  "kernelspec": {
   "display_name": "Kotlin",
   "language": "kotlin",
   "name": "kotlin"
  },
  "language_info": {
   "codemirror_mode": "text/x-kotlin",
   "file_extension": ".kt",
   "mimetype": "text/x-kotlin",
   "name": "kotlin",
   "nbconvert_exporter": "",
   "pygments_lexer": "kotlin",
   "version": "1.5.20-dev-5817"
  }
 },
 "nbformat": 4,
 "nbformat_minor": 5
}
