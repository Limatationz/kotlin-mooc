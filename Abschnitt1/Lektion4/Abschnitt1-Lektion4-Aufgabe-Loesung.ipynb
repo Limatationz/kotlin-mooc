{
 "cells": [
  {
   "cell_type": "markdown",
   "id": "0648f7c2",
   "metadata": {},
   "source": [
    "# Aufgabe - `if`- und `when`-Verzweigung\n",
    "1. Implementieren Sie eine Funktion `typCheckerIf`, die den Datentyp der übergebenen Variable als String mit Hilfe einer `if`-Verzweifung zurückgibt. Als Vereinfachung soll nur zwischen den Datentypen `Int`, `Double` und `Long` unterschieden werden. Sollte keiner dieser Datentypen zutreffen soll `Sonstiges` zurückgegeben werden.\n",
    "2. Fügen Sie nun eine zweite Funktion `typCheckerWhen` hinzu, die die `if`-Verzweigung durch eine `when`-Verzweigung ersetzt."
   ]
  },
  {
   "cell_type": "code",
   "execution_count": 1,
   "id": "e3d6ac1c",
   "metadata": {
    "execution": {
     "iopub.execute_input": "2021-11-17T20:17+0100",
     "iopub.status.busy": "2021-11-17T20:17+0100",
     "iopub.status.idle": "2021-11-17T20:17+0100",
     "shell.execute_reply": "2021-11-17T20:17+0100",
     "shell.execute_reply.started": "2021-11-17T20:17+0100"
    },
    "tags": []
   },
   "outputs": [
    {
     "name": "stdout",
     "output_type": "stream",
     "text": [
      "Richtig! 1 ist vom Typ Int\n",
      "Richtig! 1.0 ist vom Typ Double\n",
      "Richtig! 100 ist vom Typ Long\n",
      "Richtig! Test ist vom Typ Sonstiges\n"
     ]
    }
   ],
   "source": [
    "//Lösung\n",
    "fun typCheckerIf(a: Any) = if (a is Int)\n",
    "                                \"Int\"\n",
    "                            else if (a is Double)\n",
    "                                \"Double\"\n",
    "                            else if (a is Long)\n",
    "                                \"Long\"\n",
    "                            else\n",
    "                                \"Sonstiges\"\n",
    "\n",
    "\n",
    "fun typCheckerWhen(a: Any) = when(a) {\n",
    "    is Int -> \"Int\"\n",
    "    is Double -> \"Double\"\n",
    "    is Long -> \"Long\"\n",
    "    else -> \"Sonstiges\"\n",
    "}\n",
    "\n",
    "//Test\n",
    "val tests = listOf<Any>(1, 1.0, 100L, \"Test\")\n",
    "for(i in tests){\n",
    "    if((typCheckerIf(i) == typCheckerWhen(i)) && (i::class.simpleName == typCheckerIf(i) || typCheckerIf(i) == \"Sonstiges\"))\n",
    "        println(\"Richtig! $i ist vom Typ ${typCheckerIf(i)}\")\n",
    "    else\n",
    "        println(\"Falsch! $i ist vom Typ ${i::class.simpleName}, Ergebnis typCheckerIf: ${typCheckerIf(i)}, Ergebnis typCheckerWhen: ${typCheckerWhen(i)}\")   \n",
    "}"
   ]
  }
 ],
 "metadata": {
  "kernelspec": {
   "display_name": "Kotlin",
   "language": "kotlin",
   "name": "kotlin"
  },
  "language_info": {
   "codemirror_mode": "text/x-kotlin",
   "file_extension": ".kt",
   "mimetype": "text/x-kotlin",
   "name": "kotlin",
   "nbconvert_exporter": "",
   "pygments_lexer": "kotlin",
   "version": "1.6.20-dev-3702"
  }
 },
 "nbformat": 4,
 "nbformat_minor": 5
}
