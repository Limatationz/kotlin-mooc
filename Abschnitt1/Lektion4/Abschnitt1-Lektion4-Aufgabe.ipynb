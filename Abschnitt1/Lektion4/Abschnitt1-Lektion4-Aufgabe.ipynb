{
 "cells": [
  {
   "cell_type": "markdown",
   "id": "66ed6bfd",
   "metadata": {},
   "source": [
    "# Aufgabe - `if`- und `when`-Verzweigung\n",
    "1. Implementieren Sie eine Funktion `typCheckerIf`, die den Datentyp der übergebenen Variable als String mit Hilfe einer `if`-Verzweifung zurückgibt. Als Vereinfachung soll nur zwischen den Datentypen `Int`, `Double` und `Long` unterschieden werden. Sollte keiner dieser Datentypen zutreffen soll `Sonstiges` zurückgegeben werden.\n",
    "2. Fügen Sie nun eine zweite Funktion `typCheckerWhen` hinzu, die die `if`-Verzweigung durch eine `when`-Verzweigung ersetzt."
   ]
  },
  {
   "cell_type": "code",
   "execution_count": null,
   "id": "39c175ff",
   "metadata": {},
   "outputs": [],
   "source": [
    "fun typCheckerIf(a: Any) = \"\"//TODO\n",
    "    \n",
    "fun typCheckerWhen(a: Any) = \"\"//TODO\n",
    "    \n",
    "//Test\n",
    "val tests = listOf<Any>(1, 1.0, 100L, \"Test\")\n",
    "for(i in tests){\n",
    "    if((typCheckerIf(i) == typCheckerWhen(i)) && (i::class.simpleName == typCheckerIf(i) || typCheckerIf(i) == \"Sonstiges\"))\n",
    "        println(\"Richtig! $i ist vom Typ ${typCheckerIf(i)}\")\n",
    "    else\n",
    "        println(\"Falsch! $i ist vom Typ ${i::class.simpleName}, Ergebnis typCheckerIf: ${typCheckerIf(i)}, Ergebnis typCheckerWhen: ${typCheckerWhen(i)}\")   \n",
    "}"
   ]
  }
 ],
 "metadata": {
  "kernelspec": {
   "display_name": "Kotlin",
   "language": "kotlin",
   "name": "kotlin"
  },
  "language_info": {
   "codemirror_mode": "text/x-kotlin",
   "file_extension": ".kt",
   "mimetype": "text/x-kotlin",
   "name": "kotlin",
   "nbconvert_exporter": "",
   "pygments_lexer": "kotlin",
   "version": "1.6.20-dev-3702"
  }
 },
 "nbformat": 4,
 "nbformat_minor": 5
}
