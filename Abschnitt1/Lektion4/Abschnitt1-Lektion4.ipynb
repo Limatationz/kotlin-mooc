{
 "cells": [
  {
   "cell_type": "markdown",
   "id": "921773cf-7c1f-45f2-8555-0339c9dcbd49",
   "metadata": {},
   "source": [
    "<img src=\"../images/Lektion4.png\" style=\"margin: 20px auto 20px 0px\"/>\n",
    "<h2 style=\"display:none\">Lektion 4 - Kontrollstrukturen</h2>\n",
    "In dieser Lektion werden Kontrollstrukturen behandelt und Bereiche eingeführt."
   ]
  },
  {
   "cell_type": "markdown",
   "id": "fcff2459-0035-4053-9535-eb8a3509379e",
   "metadata": {},
   "source": [
    "### `if`-Verzweigung\n",
    "Die gängiste Art einer Verzweigung ist `if`. In Verbindung mit `else` und `else if` können so mehrere Fälle definiert, geprüft und entsprechende Anweisungen ausgeführt werden. Falls nur eine Anweisung einem Fall zugeordnet wird, können die geschweiften Klammern weggelassen werden.\n",
    "```kotlin\n",
    "fun foo(a: Int): String {\n",
    "    if (a < 10) \n",
    "        return \"kleiner 10\"\n",
    "    else if (a == 10) \n",
    "        return \"gleich 10\"\n",
    "    else {\n",
    "        val b = 20\n",
    "        return \"groeßer 10\"\n",
    "    }\n",
    "}\n",
    "```\n",
    "Eine Neuerung ist, dass die `if`-Verzweigung als eine eigene Funktion angesehen wird. Deswegen kann einer Variable eine `if`-Verzweigung zugewiesen werden, falls jeder Fall einen Wert zurückgibt. Dies kann weiter vereinfacht werden, indem das Schlüsselwort `return` von den Fällen an den Anfang der Verzweigung geschoben wird."
   ]
  },
  {
   "cell_type": "code",
   "execution_count": 92,
   "id": "e8d84d02-dc6c-453d-bd33-6692dd16da15",
   "metadata": {},
   "outputs": [
    {
     "name": "stdout",
     "output_type": "stream",
     "text": [
      "foo(10): 10 ist gleich 10\n",
      "foo(5): 5 ist kleiner 10\n",
      "foo1(10): 10 ist gleich 10\n",
      "foo2(10): 10 ist gleich 10\n",
      "foo3(10): 10 ist gleich 10\n"
     ]
    }
   ],
   "source": [
    "//Standardfall\n",
    "fun foo(a: Int): String {\n",
    "    var res = \"\"\n",
    "    if (a < 10) \n",
    "        res = \"$a ist kleiner 10\"\n",
    "    else if (a == 10) \n",
    "        res = \"$a ist gleich 10\"\n",
    "    else \n",
    "        res = \"$a ist groeßer 10\"\n",
    "    return res\n",
    "}\n",
    "\n",
    "//Direkte Zuweisung des Wertes von res mit der if-Verzweigung\n",
    "fun foo1(a: Int): String {\n",
    "    val res = if (a < 10) \n",
    "                  \"$a ist kleiner 10\"\n",
    "              else if (a == 10) \n",
    "                  \"$a ist gleich 10\"\n",
    "              else \n",
    "                  \"$a ist groeßer 10\"\n",
    "    return res\n",
    "}\n",
    "\n",
    "//Verschiebung des returns\n",
    "fun foo2(a: Int): String {\n",
    "    return if (a < 10) \n",
    "               \"$a ist kleiner 10\"\n",
    "           else if (a == 10) \n",
    "               \"$a ist gleich 10\"\n",
    "           else \n",
    "               \"$a ist groeßer 10\"\n",
    "}\n",
    "\n",
    "//Anwendung der Kurzschreibweise von Funktionen\n",
    "fun foo3(a: Int) = if (a < 10) \n",
    "                       \"$a ist kleiner 10\"\n",
    "                   else if (a == 10) \n",
    "                       \"$a ist gleich 10\"\n",
    "                   else \n",
    "                       \"$a ist groeßer 10\"\n",
    "\n",
    "//Test\n",
    "println(\"foo(10): ${foo(10)}\")\n",
    "println(\"foo(5): ${foo(5)}\")\n",
    "println(\"foo1(10): ${foo1(10)}\")\n",
    "println(\"foo2(10): ${foo2(10)}\")\n",
    "println(\"foo3(10): ${foo3(10)}\")"
   ]
  },
  {
   "cell_type": "markdown",
   "id": "2e505dd7-ff25-4500-a1b6-9c521fb2d364",
   "metadata": {},
   "source": [
    "### `when`-Verzweigung\n",
    "Eine weitere Art der Verzweigung ist `when`. Diese ähnelt von der Funktionalität an Javas `switch`. Das Schlüsselwort, mit dem diese Verzweigung eingeleitet wird, ist `when`. In runden Klammern muss daraufhin die zu untersuchende Variable folgen. In dem Rumpf steht links ein Vergleichswert (die Vergleichswerte mit Komma getrennt) und rechts eine Anweisung (mehrere Anweisungen in einem `{ ... }`-Block). Getrennt werden die beiden Seite mit `->`. Anders als in Java muss nicht nach jedem Block ein `break` stehen, falls die Verzweigung verlassen werden soll. Standardmäßig wird nach dem Ausführen der rechten Seite der `when`-Block verlassen. Ein *Durchrutschen* findet nicht statt. Der default-Fall wird mit `else` auf der linken Seite gekennzeichnet."
   ]
  },
  {
   "cell_type": "code",
   "execution_count": 93,
   "id": "8a8b62f1-7cc2-474a-a5ba-f5e121db5e95",
   "metadata": {},
   "outputs": [
    {
     "name": "stdout",
     "output_type": "stream",
     "text": [
      "Umlaut\n"
     ]
    }
   ],
   "source": [
    "val c = 'ä'\n",
    "when (c) {\n",
    "    'a', 'e', 'i', 'o', 'u' -> println(\"Vokal\")\n",
    "    'ä', 'ö', 'ü' -> {\n",
    "                        val res = \"Umlaut\"\n",
    "                        println(res)\n",
    "                     }\n",
    "    '0', '1', '2', '3', '4', '5', '6', '7', '8', '9' -> println(\"Zahl\")\n",
    "    else -> println(\"Konsonant oder Sonderzeichen\") //default-Fall\n",
    "}"
   ]
  },
  {
   "cell_type": "markdown",
   "id": "8a1d3f61-ec5a-44ad-9d4b-d7407039c4a2",
   "metadata": {},
   "source": [
    "Es können aber auch weiterführende Vergleiche angestellt werden. Mit `is` kann überprüft werden, ob die zu untersuchende Variable einen bestimmten Datentyp besitzt. `in` hingegen sucht die Variable in einer Datenstruktur."
   ]
  },
  {
   "cell_type": "code",
   "execution_count": 21,
   "id": "ecd4458c-4cd5-4ed5-904d-30d46116383c",
   "metadata": {},
   "outputs": [
    {
     "name": "stdout",
     "output_type": "stream",
     "text": [
      "0 ist in Liste [0, 1, 2, 3]\n"
     ]
    }
   ],
   "source": [
    "val a: Any = 0\n",
    "val liste = listOf(0, 1, 2, 3)\n",
    "when (a) {\n",
    "    is Double -> println(\"$a ist vom Datentyp Double\") //ist die Variable vom Typ Double?\n",
    "    is Long -> println(\"$a ist vom Datentyp Long\") //ist die Variable vom Typ Long?\n",
    "    in liste -> println(\"$a ist in Liste $liste\") //ist die Variable in der Liste liste?\n",
    "}"
   ]
  },
  {
   "cell_type": "markdown",
   "id": "d6939943-b2cd-4053-b895-8f15b302ac94",
   "metadata": {},
   "source": [
    "`when` findet vor Allem dann Anwendung, wenn mehr als 2 Fälle zu untersuchen sind und ist in diesem Fall `if` vorzuziehen.  \n",
    "Um es weiter an eine `if`-Verzweigung anzugleichen, wird die zu untersuchende Variable im Kopf weggelassen. Dann können auf der linken Seite boolsche Ausdrücke definiert werden. Folgender Code mit einer `if`-Verzweigung soll nun mit einer `when`-Verzweigung ersetzt werden:\n",
    "```kotlin\n",
    "val a = 10\n",
    "if (a < 10) \n",
    "   println(\"gleich 10\")\n",
    "else if (a < 10) \n",
    "   println(\"kleiner 10\")\n",
    "else \n",
    "   println(\"groeßer 10\")\n",
    "```"
   ]
  },
  {
   "cell_type": "code",
   "execution_count": 94,
   "id": "fffac617-1efd-468d-9d2c-fce2f43a9121",
   "metadata": {},
   "outputs": [
    {
     "name": "stdout",
     "output_type": "stream",
     "text": [
      "gleich 10\n"
     ]
    }
   ],
   "source": [
    "val a = 10\n",
    "when {\n",
    "    a == 10 -> println(\"gleich 10\")\n",
    "    a < 10 -> println(\"kleiner 10\")\n",
    "    else -> println(\"groeßer 10\")\n",
    "}"
   ]
  },
  {
   "cell_type": "markdown",
   "id": "54861359-ccb8-485b-a530-2567edc8508e",
   "metadata": {},
   "source": [
    "### `for`-Schleife\n",
    "Auch sind `for`-Schleifen in Kotlin zu finden. Jedoch weicht ihr Syntax stark von dem in Java ab. Der normale Aufbau einer `for`-Schleife mit einer Dreiteilung fällt weg und wird durch Bereiche, oder auch Ranges genannt, ersetzt.\n",
    "#### Bereiche\n",
    "Bereiche sind eine Folge von Elementen, die einen definierten Start- und Endpunkt besitzen. Die beiden Werte werden durch `..` getrennt. Kotlin stellt Bereiche des Typs `Int`, `Long` und `Char` bereit. Der Endwert ist dabei immer der letzte Wert des Bereichs.\n",
    "Der Startwert kann mit `first` und der Endwert mit `last` adressiert werden. Ein Bereich der Klasse `Range` ist aufsteigend mit einer Schrittweite von 1. Alle anderen Bereiche werden der Klasse `Progression` zugeordnet und sind mächtiger. Dort können Bereiche auch unter verwendung der Methode `reversed()` oder dem Schlüsselwort `downTo` statt `..` erzeugt werden. Soll die Obergrenze exklusiv sein, hilft zudem das Schlüsselwort `until`, das `..` ersetzt. Zur schöneren Darstellung oder zum Erzeugen einfacher Listen können Bereiche mit `toList()` in eine Liste beziehungsweise `toSet()` in ein Set umgewandelt werden (näheres zu Datenstrukturen in [Lektion 6](#Lektion-6---Datenstrukturen))."
   ]
  },
  {
   "cell_type": "code",
   "execution_count": 25,
   "id": "0ff73693-0ef4-4d5c-a9c0-b545e6febda9",
   "metadata": {},
   "outputs": [
    {
     "name": "stdout",
     "output_type": "stream",
     "text": [
      "Der Bereich 0..10 vom Typ IntRange geht von 0 bis 10 und umfasst [0, 1, 2, 3, 4, 5, 6, 7, 8, 9, 10]\n",
      "Der Bereich 5..10 vom Typ IntRange geht von 5 bis 10 und umfasst [5, 6, 7, 8, 9, 10]\n",
      "Der Bereich a..e vom Typ CharRange geht von a bis e und umfasst [a, b, c, d, e]\n",
      "Der Bereich 0..9 vom Typ IntRange geht von 0 bis 9 und umfasst [0, 1, 2, 3, 4, 5, 6, 7, 8, 9]\n",
      "Der Bereich 10 downTo 0 step 1 vom Typ IntProgression geht von 10 bis 0 und umfasst [10, 9, 8, 7, 6, 5, 4, 3, 2, 1, 0]\n",
      "Der Bereich 0..10 step 2 vom Typ IntProgression geht von 0 bis 10 und umfasst [0, 2, 4, 6, 8, 10]\n"
     ]
    }
   ],
   "source": [
    "val intBereich = 0..10 //Bereich von 0 - 10\n",
    "println(\"Der Bereich $intBereich vom Typ ${intBereich::class.simpleName} geht von ${intBereich.first} bis ${intBereich.last} und umfasst ${intBereich.toList()}\")\n",
    "\n",
    "val start = 5\n",
    "val intBereichMitVariable = start..start+5 //Bereich von start bis start+5\n",
    "println(\"Der Bereich $intBereichMitVariable vom Typ ${intBereichMitVariable::class.simpleName} geht von ${intBereichMitVariable.first} bis ${intBereichMitVariable.last} und umfasst ${intBereichMitVariable.toList()}\")\n",
    "\n",
    "val charBereich = 'a'..'e' //Bereich von a bis e\n",
    "println(\"Der Bereich $charBereich vom Typ ${charBereich::class.simpleName} geht von ${charBereich.first} bis ${charBereich.last} und umfasst ${charBereich.toList()}\")\n",
    "\n",
    "val intBereichUntil = 0 until 10 //Bereich von 0 - 9\n",
    "println(\"Der Bereich $intBereichUntil vom Typ ${intBereichUntil::class.simpleName} geht von ${intBereichUntil.first} bis ${intBereichUntil.last} und umfasst ${intBereichUntil.toList()}\")\n",
    "\n",
    "var umgekehrterIntBereich = 10 downTo 0 //Bereich von 10 - 0\n",
    "println(\"Der Bereich $umgekehrterIntBereich vom Typ ${umgekehrterIntBereich::class.simpleName} geht von ${umgekehrterIntBereich.first} bis ${umgekehrterIntBereich.last} und umfasst ${umgekehrterIntBereich.toList()}\")\n",
    "\n",
    "val intBereichSchrittweite = 0..10 step 2 //Bereich von 0 - 10 mit Schrittweite 2\n",
    "println(\"Der Bereich $intBereichSchrittweite vom Typ ${intBereichSchrittweite::class.simpleName} geht von ${intBereichSchrittweite.first} bis ${intBereichSchrittweite.last} und umfasst ${intBereichSchrittweite.toList()}\")"
   ]
  },
  {
   "cell_type": "markdown",
   "id": "670a6f49-56ed-440a-9858-e5326195b99d",
   "metadata": {},
   "source": [
    "#### Schleife\n",
    "Die aus Java bekannte dreigeteilte `for`-Schleife wird in Kotlin durch eine Schleife über einen Bereich ersetzt. Das benötigte Schlüsselwort lautet `in`."
   ]
  },
  {
   "cell_type": "code",
   "execution_count": 95,
   "id": "09c8fc83-d662-4984-93da-4f90c0559442",
   "metadata": {},
   "outputs": [
    {
     "name": "stdout",
     "output_type": "stream",
     "text": [
      "0 1 2 3 4 5 6 7 8 9 10 \n",
      "0 1 2 3 4 5 6 7 8 9 10 11 12 13 14 15 16 17 18 19 \n",
      "15 10 5 "
     ]
    }
   ],
   "source": [
    "for (i in 0..10){\n",
    "    print(\"$i \")\n",
    "}\n",
    "println()\n",
    "\n",
    "for (i in 0 until 20){\n",
    "    print(\"$i \")\n",
    "}\n",
    "println()\n",
    "\n",
    "for (i in 15 downTo 5 step 5){\n",
    "    print(\"$i \")\n",
    "}"
   ]
  },
  {
   "cell_type": "markdown",
   "id": "ed71c776-dd1f-4c65-aa5e-a2b47aab8eb5",
   "metadata": {},
   "source": [
    "Anstelle über einen Bereich kann aber auch über eine Kollektion (zum Beispiel eine Liste) iteriert werden."
   ]
  },
  {
   "cell_type": "code",
   "execution_count": 27,
   "id": "0ce1e7d5-2cdd-410b-aebd-3bda85034b63",
   "metadata": {},
   "outputs": [
    {
     "name": "stdout",
     "output_type": "stream",
     "text": [
      "Kotlin Java C Python "
     ]
    }
   ],
   "source": [
    "val liste = listOf(\"Kotlin\", \"Java\", \"C\", \"Python\")\n",
    "for (i in liste){\n",
    "    print(\"$i \")\n",
    "}"
   ]
  },
  {
   "cell_type": "markdown",
   "id": "8181f2b1-4038-4b46-9e3e-6b05b513872d",
   "metadata": {},
   "source": [
    "Dabei ist zu beachten, dass das Element nicht in der Schleife verändert werden kann, da es als `val` angesehen wird. Dies geht nur mit Zugriff auf den Index an der aktuellen Stelle."
   ]
  },
  {
   "cell_type": "code",
   "execution_count": 96,
   "id": "8fe9cb8f-6d72-46ec-a6f9-85fdc1ddf10c",
   "metadata": {},
   "outputs": [
    {
     "name": "stderr",
     "output_type": "stream",
     "text": [
      "Line_95.jupyter-kts (3:5 - 6) Val cannot be reassigned"
     ]
    }
   ],
   "source": [
    "val liste = mutableListOf(1,2,3,4,5)\n",
    "for (i in liste){\n",
    "    i = i*i\n",
    "}"
   ]
  },
  {
   "cell_type": "code",
   "execution_count": 29,
   "id": "26f1d1ef-3eb3-4e4d-8628-2d70a90b732d",
   "metadata": {},
   "outputs": [
    {
     "name": "stdout",
     "output_type": "stream",
     "text": [
      "[1, 4, 9, 16, 25]\n"
     ]
    }
   ],
   "source": [
    "val liste = mutableListOf(1,2,3,4,5)\n",
    "for (i in 0 until liste.size){\n",
    "    liste[i] = liste[i] * liste[i]\n",
    "}\n",
    "println(liste)"
   ]
  },
  {
   "cell_type": "markdown",
   "id": "0aae5f65-a68b-4897-8c75-c980ef259048",
   "metadata": {},
   "source": [
    "Eine elegantere Lösung ist die Option über die Liste und den aktuellen Index zu iterieren. Dies ist mit Hilfe von `.withIndex()` möglich. Ein ähnlicher Fall ist die Itereriung über Maps. Dies wird in [Lektion 6](#Lektion-6---Datenstrukturen) behandelt."
   ]
  },
  {
   "cell_type": "code",
   "execution_count": 30,
   "id": "5f2c0fa5-da9e-4d46-b088-b48b60f2e86b",
   "metadata": {},
   "outputs": [
    {
     "name": "stdout",
     "output_type": "stream",
     "text": [
      "An Stelle 0 ist 1 gespeichert\n",
      "An Stelle 1 ist 2 gespeichert\n",
      "An Stelle 2 ist 3 gespeichert\n",
      "An Stelle 3 ist 4 gespeichert\n",
      "An Stelle 4 ist 5 gespeichert\n",
      "[1, 4, 9, 16, 25]\n"
     ]
    }
   ],
   "source": [
    "val liste = mutableListOf(1,2,3,4,5)\n",
    "for ((index, element) in liste.withIndex()){\n",
    "    println(\"An Stelle $index ist $element gespeichert\")\n",
    "    liste[index] = element * element\n",
    "}\n",
    "println(liste)"
   ]
  },
  {
   "cell_type": "markdown",
   "id": "450672de-28d7-4703-be5c-0ea2532465d4",
   "metadata": {},
   "source": [
    "#### `break`\n",
    "In Kotlin kann mit Hilfe von `break` die aktuelle oder eine bestimmte Schleife abgebrochen werden. Der zweite Fall benötigt eine Bezeichnung der abzubrechenden Schleife. Diese kann mit dem Namen gefolgt von `@` vor der Schleife gesetzt werden. Der Name der Schleife inklusive dem `@` wird in der Schleife dem `break` angehängt."
   ]
  },
  {
   "cell_type": "code",
   "execution_count": 98,
   "id": "ebc32902-b6d9-472c-9b6d-6c248c489a2c",
   "metadata": {},
   "outputs": [
    {
     "name": "stdout",
     "output_type": "stream",
     "text": [
      "Aktuell untersucht: 0\n",
      "Aktuell untersucht: 11\n",
      "Aktuell untersucht: 22\n",
      "Aktuell untersucht: 33\n",
      "Aktuell untersucht: 44\n",
      "Aktuell untersucht: 55\n",
      "Gefunden 55\n"
     ]
    }
   ],
   "source": [
    "//Gesucht wird eine Zahl, die in beiden Listen vorhanden ist. Falls eine Zahl gefunden wird, soll die äußere Schleife abgebrochen werden.\n",
    "val liste1 = (0..100 step 11).toList()\n",
    "val liste2 = (0..100 step 5).toList()\n",
    "iloop@\n",
    "for (i in liste1){\n",
    "    println(\"Aktuell untersucht: $i\")\n",
    "    for(j in liste2){\n",
    "        if(i == j && i != 0){\n",
    "            println(\"Gefunden $i\")\n",
    "            break@iloop\n",
    "        }\n",
    "    }\n",
    "}"
   ]
  },
  {
   "cell_type": "markdown",
   "id": "ac147850-56c9-4552-bb81-410770903bdd",
   "metadata": {},
   "source": [
    "### `while`-Schleife\n",
    "Die `while`-Schleife ist identisch zu der in Java. Zusätzlich zu der normalen `while`-Schleife gibt es auch die `do-while`-Schleife."
   ]
  },
  {
   "cell_type": "code",
   "execution_count": 100,
   "id": "646b6f4e-3c4b-472e-9820-44d30156e1bb",
   "metadata": {},
   "outputs": [
    {
     "name": "stdout",
     "output_type": "stream",
     "text": [
      "while-Schleife: \n",
      "0 1 2 3 4 5 6 7 8 9 10 \n",
      "do-while-Schleife: \n",
      "11 10 9 8 7 6 5 4 3 2 1 0 "
     ]
    }
   ],
   "source": [
    "var i = 0\n",
    "//while-Schleife\n",
    "println(\"while-Schleife: \")\n",
    "while (i<=10){\n",
    "    print(\"$i \")\n",
    "    i++\n",
    "}\n",
    "println()\n",
    "\n",
    "//do-while-Schleife\n",
    "println(\"do-while-Schleife: \")\n",
    "do {\n",
    "    print(\"$i \")\n",
    "    i--\n",
    "} while(i >= 0)"
   ]
  },
  {
   "cell_type": "markdown",
   "id": "b6b19ad9-3c76-4afc-b7c2-8ed0a380a856",
   "metadata": {},
   "source": [
    "### `repeat`-Schleife\n",
    "Die `repeat`-Schleife ist vor Allem an Anfänger:innen gerichtet. Es wird lediglich ein exklusiver Endwert angegeben, zu dem von 0 aus hochgezählt wird. In der Schleife greift man auf die aktuelle Durchlaufzahl mit `it` zu."
   ]
  },
  {
   "cell_type": "code",
   "execution_count": 33,
   "id": "923ce8d5-75bc-4b6d-86e0-a44fe581a0bf",
   "metadata": {},
   "outputs": [
    {
     "name": "stdout",
     "output_type": "stream",
     "text": [
      "0 1 2 3 4 5 6 7 8 9 "
     ]
    }
   ],
   "source": [
    "repeat (10){\n",
    "    print(\"$it \")\n",
    "}"
   ]
  }
 ],
 "metadata": {
  "kernelspec": {
   "display_name": "Kotlin",
   "language": "kotlin",
   "name": "kotlin"
  },
  "language_info": {
   "codemirror_mode": "text/x-kotlin",
   "file_extension": ".kt",
   "mimetype": "text/x-kotlin",
   "name": "kotlin",
   "nbconvert_exporter": "",
   "pygments_lexer": "kotlin",
   "version": "1.5.20-dev-5817"
  }
 },
 "nbformat": 4,
 "nbformat_minor": 5
}
