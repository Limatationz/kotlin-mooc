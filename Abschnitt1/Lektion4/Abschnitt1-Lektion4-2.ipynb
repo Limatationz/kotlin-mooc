{
 "cells": [
  {
   "cell_type": "markdown",
   "id": "43f20bff",
   "metadata": {},
   "source": [
    "### for-Schleife\n",
    "Auch sind `for`-Schleifen in Kotlin zu finden. Jedoch weicht ihr Syntax stark von der in Java ab. Der normale Aufbau einer `for`-Schleife mit einer Dreiteilung fällt weg und wird durch Bereiche, oder auch Ranges genannt, ersetzt.\n",
    "#### Bereiche\n",
    "Bereiche sind eine Folge von Elementen, die einen definierten Start- und Endpunkt besitzen. Die beiden Werte werden durch `..` getrennt. Kotlin stellt Bereiche des Typs `Int`, `Long` und `Char` bereit. Der Endwert ist dabei immer der letzte Wert des Bereichs.\n",
    "Der Startwert kann mit `first` und der Endwert mit `last` adressiert werden. Ein Bereich der Klasse `Range` ist aufsteigend mit einer Schrittweite von 1. Alle anderen Bereiche werden der Klasse `Progression` zugeordnet und sind mächtiger. Dort können Bereiche auch unter Verwendung der Methode `reversed()` oder dem Schlüsselwort `downTo` statt `..` erzeugt werden. Soll die Obergrenze exklusiv sein, hilft zudem das Schlüsselwort `until`, das `..` ersetzt. Zur schöneren Darstellung oder zum Erzeugen einfacher Listen können Bereiche mit `toList()` in eine Liste beziehungsweise `toSet()` in ein Set umgewandelt werden (näheres zu Datenstrukturen in Lektion 6)."
   ]
  },
  {
   "cell_type": "code",
   "execution_count": 25,
   "id": "67784432",
   "metadata": {},
   "outputs": [
    {
     "name": "stdout",
     "output_type": "stream",
     "text": [
      "Der Bereich 0..10 vom Typ IntRange geht von 0 bis 10 und umfasst [0, 1, 2, 3, 4, 5, 6, 7, 8, 9, 10]\n",
      "Der Bereich 5..10 vom Typ IntRange geht von 5 bis 10 und umfasst [5, 6, 7, 8, 9, 10]\n",
      "Der Bereich a..e vom Typ CharRange geht von a bis e und umfasst [a, b, c, d, e]\n",
      "Der Bereich 0..9 vom Typ IntRange geht von 0 bis 9 und umfasst [0, 1, 2, 3, 4, 5, 6, 7, 8, 9]\n",
      "Der Bereich 10 downTo 0 step 1 vom Typ IntProgression geht von 10 bis 0 und umfasst [10, 9, 8, 7, 6, 5, 4, 3, 2, 1, 0]\n",
      "Der Bereich 0..10 step 2 vom Typ IntProgression geht von 0 bis 10 und umfasst [0, 2, 4, 6, 8, 10]\n"
     ]
    }
   ],
   "source": [
    "val intBereich = 0..10 //Bereich von 0 - 10\n",
    "println(\"Der Bereich $intBereich vom Typ ${intBereich::class.simpleName} geht von ${intBereich.first} bis ${intBereich.last} und umfasst ${intBereich.toList()}\")\n",
    "\n",
    "val start = 5\n",
    "val intBereichMitVariable = start..start+5 //Bereich von start bis start+5\n",
    "println(\"Der Bereich $intBereichMitVariable vom Typ ${intBereichMitVariable::class.simpleName} geht von ${intBereichMitVariable.first} bis ${intBereichMitVariable.last} und umfasst ${intBereichMitVariable.toList()}\")\n",
    "\n",
    "val charBereich = 'a'..'e' //Bereich von a bis e\n",
    "println(\"Der Bereich $charBereich vom Typ ${charBereich::class.simpleName} geht von ${charBereich.first} bis ${charBereich.last} und umfasst ${charBereich.toList()}\")\n",
    "\n",
    "val intBereichUntil = 0 until 10 //Bereich von 0 - 9\n",
    "println(\"Der Bereich $intBereichUntil vom Typ ${intBereichUntil::class.simpleName} geht von ${intBereichUntil.first} bis ${intBereichUntil.last} und umfasst ${intBereichUntil.toList()}\")\n",
    "\n",
    "var umgekehrterIntBereich = 10 downTo 0 //Bereich von 10 - 0\n",
    "println(\"Der Bereich $umgekehrterIntBereich vom Typ ${umgekehrterIntBereich::class.simpleName} geht von ${umgekehrterIntBereich.first} bis ${umgekehrterIntBereich.last} und umfasst ${umgekehrterIntBereich.toList()}\")\n",
    "\n",
    "val intBereichSchrittweite = 0..10 step 2 //Bereich von 0 - 10 mit Schrittweite 2\n",
    "println(\"Der Bereich $intBereichSchrittweite vom Typ ${intBereichSchrittweite::class.simpleName} geht von ${intBereichSchrittweite.first} bis ${intBereichSchrittweite.last} und umfasst ${intBereichSchrittweite.toList()}\")"
   ]
  },
  {
   "cell_type": "markdown",
   "id": "a8092423",
   "metadata": {},
   "source": [
    "#### Schleife\n",
    "Die aus Java bekannte dreigeteilte `for`-Schleife wird in Kotlin durch eine Schleife über einen Bereich ersetzt. Das benötigte Schlüsselwort lautet `in`."
   ]
  },
  {
   "cell_type": "code",
   "execution_count": 95,
   "id": "74c7d8df",
   "metadata": {},
   "outputs": [
    {
     "name": "stdout",
     "output_type": "stream",
     "text": [
      "0 1 2 3 4 5 6 7 8 9 10 \n",
      "0 1 2 3 4 5 6 7 8 9 10 11 12 13 14 15 16 17 18 19 \n",
      "15 10 5 "
     ]
    }
   ],
   "source": [
    "for (i in 0..10){\n",
    "    print(\"$i \")\n",
    "}\n",
    "println()\n",
    "\n",
    "for (i in 0 until 20){\n",
    "    print(\"$i \")\n",
    "}\n",
    "println()\n",
    "\n",
    "for (i in 15 downTo 5 step 5){\n",
    "    print(\"$i \")\n",
    "}"
   ]
  },
  {
   "cell_type": "markdown",
   "id": "2972e6c2",
   "metadata": {},
   "source": [
    "Anstelle über einen Bereich kann aber auch über eine Kollektion (zum Beispiel eine Liste) iteriert werden."
   ]
  },
  {
   "cell_type": "code",
   "execution_count": 27,
   "id": "90755068",
   "metadata": {},
   "outputs": [
    {
     "name": "stdout",
     "output_type": "stream",
     "text": [
      "Kotlin Java C Python "
     ]
    }
   ],
   "source": [
    "val liste = listOf(\"Kotlin\", \"Java\", \"C\", \"Python\")\n",
    "for (i in liste){\n",
    "    print(\"$i \")\n",
    "}"
   ]
  },
  {
   "cell_type": "markdown",
   "id": "10f36c50",
   "metadata": {},
   "source": [
    "Dabei ist zu beachten, dass das Element nicht in der Schleife verändert werden kann, da es als `val` angesehen wird. Dies geht nur mit Zugriff auf den Index an der aktuellen Stelle."
   ]
  },
  {
   "cell_type": "code",
   "execution_count": 96,
   "id": "8dfa25f5",
   "metadata": {},
   "outputs": [
    {
     "name": "stderr",
     "output_type": "stream",
     "text": [
      "Line_95.jupyter-kts (3:5 - 6) Val cannot be reassigned"
     ]
    }
   ],
   "source": [
    "val liste = mutableListOf(1,2,3,4,5)\n",
    "for (i in liste){\n",
    "    i = i*i\n",
    "}"
   ]
  },
  {
   "cell_type": "code",
   "execution_count": 29,
   "id": "eeb2a4df",
   "metadata": {},
   "outputs": [
    {
     "name": "stdout",
     "output_type": "stream",
     "text": [
      "[1, 4, 9, 16, 25]\n"
     ]
    }
   ],
   "source": [
    "val liste = mutableListOf(1,2,3,4,5)\n",
    "for (i in 0 until liste.size){\n",
    "    liste[i] = liste[i] * liste[i]\n",
    "}\n",
    "println(liste)"
   ]
  },
  {
   "cell_type": "markdown",
   "id": "4b722865",
   "metadata": {},
   "source": [
    "Eine elegantere Lösung ist die Option über die Liste und den aktuellen Index zu iterieren. Dies ist mit Hilfe von `.withIndex()` möglich. Ein ähnlicher Fall ist die Itereriung über Maps. Dies wird in [Lektion 6](#Lektion-6---Datenstrukturen) behandelt."
   ]
  },
  {
   "cell_type": "code",
   "execution_count": 30,
   "id": "9a3c792a",
   "metadata": {},
   "outputs": [
    {
     "name": "stdout",
     "output_type": "stream",
     "text": [
      "An Stelle 0 ist 1 gespeichert\n",
      "An Stelle 1 ist 2 gespeichert\n",
      "An Stelle 2 ist 3 gespeichert\n",
      "An Stelle 3 ist 4 gespeichert\n",
      "An Stelle 4 ist 5 gespeichert\n",
      "[1, 4, 9, 16, 25]\n"
     ]
    }
   ],
   "source": [
    "val liste = mutableListOf(1,2,3,4,5)\n",
    "for ((index, element) in liste.withIndex()){\n",
    "    println(\"An Stelle $index ist $element gespeichert\")\n",
    "    liste[index] = element * element\n",
    "}\n",
    "println(liste)"
   ]
  },
  {
   "cell_type": "markdown",
   "id": "f6ae5b61",
   "metadata": {},
   "source": [
    "#### `break`\n",
    "In Kotlin kann mit Hilfe von `break` die aktuelle oder eine bestimmte Schleife abgebrochen werden. Der zweite Fall benötigt eine Bezeichnung der abzubrechenden Schleife. Diese kann mit dem Namen gefolgt von `@` vor der Schleife gesetzt werden. Der Name der Schleife inklusive dem `@` wird in der Schleife dem `break` angehängt."
   ]
  },
  {
   "cell_type": "code",
   "execution_count": 98,
   "id": "80637cbc",
   "metadata": {},
   "outputs": [
    {
     "name": "stdout",
     "output_type": "stream",
     "text": [
      "Aktuell untersucht: 0\n",
      "Aktuell untersucht: 11\n",
      "Aktuell untersucht: 22\n",
      "Aktuell untersucht: 33\n",
      "Aktuell untersucht: 44\n",
      "Aktuell untersucht: 55\n",
      "Gefunden 55\n"
     ]
    }
   ],
   "source": [
    "//Gesucht wird eine Zahl, die in beiden Listen vorhanden ist. Falls eine Zahl gefunden wird, soll die äußere Schleife abgebrochen werden.\n",
    "val liste1 = (0..100 step 11).toList()\n",
    "val liste2 = (0..100 step 5).toList()\n",
    "iloop@\n",
    "for (i in liste1){\n",
    "    println(\"Aktuell untersucht: $i\")\n",
    "    for(j in liste2){\n",
    "        if(i == j && i != 0){\n",
    "            println(\"Gefunden $i\")\n",
    "            break@iloop\n",
    "        }\n",
    "    }\n",
    "}"
   ]
  },
  {
   "cell_type": "markdown",
   "id": "7a11aa94",
   "metadata": {},
   "source": [
    "### `while`-Schleife\n",
    "Die `while`-Schleife ist identisch zu der in Java. Zusätzlich zu der normalen `while`-Schleife gibt es auch die `do-while`-Schleife."
   ]
  },
  {
   "cell_type": "code",
   "execution_count": 100,
   "id": "a280a5e5",
   "metadata": {},
   "outputs": [
    {
     "name": "stdout",
     "output_type": "stream",
     "text": [
      "while-Schleife: \n",
      "0 1 2 3 4 5 6 7 8 9 10 \n",
      "do-while-Schleife: \n",
      "11 10 9 8 7 6 5 4 3 2 1 0 "
     ]
    }
   ],
   "source": [
    "var i = 0\n",
    "//while-Schleife\n",
    "println(\"while-Schleife: \")\n",
    "while (i<=10){\n",
    "    print(\"$i \")\n",
    "    i++\n",
    "}\n",
    "println()\n",
    "\n",
    "//do-while-Schleife\n",
    "println(\"do-while-Schleife: \")\n",
    "do {\n",
    "    print(\"$i \")\n",
    "    i--\n",
    "} while(i >= 0)"
   ]
  },
  {
   "cell_type": "markdown",
   "id": "28985e63",
   "metadata": {},
   "source": [
    "### `repeat`-Schleife\n",
    "Die `repeat`-Schleife ist vor Allem an Anfänger:innen gerichtet. Es wird lediglich ein exklusiver Endwert angegeben, zu dem von 0 aus hochgezählt wird. In der Schleife greift man auf die aktuelle Durchlaufzahl mit `it` zu."
   ]
  },
  {
   "cell_type": "code",
   "execution_count": 33,
   "id": "c7219c51",
   "metadata": {},
   "outputs": [
    {
     "name": "stdout",
     "output_type": "stream",
     "text": [
      "0 1 2 3 4 5 6 7 8 9 "
     ]
    }
   ],
   "source": [
    "repeat (10){\n",
    "    print(\"$it \")\n",
    "}"
   ]
  }
 ],
 "metadata": {
  "kernelspec": {
   "display_name": "Kotlin",
   "language": "kotlin",
   "name": "kotlin"
  },
  "language_info": {
   "codemirror_mode": "text/x-kotlin",
   "file_extension": ".kt",
   "mimetype": "text/x-kotlin",
   "name": "kotlin",
   "nbconvert_exporter": "",
   "pygments_lexer": "kotlin",
   "version": "1.5.20-dev-5817"
  }
 },
 "nbformat": 4,
 "nbformat_minor": 5
}
