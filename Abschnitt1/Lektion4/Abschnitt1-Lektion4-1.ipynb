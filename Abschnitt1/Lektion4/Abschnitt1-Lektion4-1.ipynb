{
 "cells": [
  {
   "cell_type": "markdown",
   "id": "7ef3faca",
   "metadata": {},
   "source": [
    "<img src=\"../images/Lektion4.png\" style=\"margin: 20px auto 20px 0px\"/>\n",
    "<h2 style=\"display:none\">Lektion 4 - Kontrollstrukturen</h2>\n",
    "\n",
    "In dieser Lektion werden Kontrollstrukturen behandelt und Bereiche eingeführt.\n",
    "### `if`-Verzweigung\n",
    "Die gängiste Art einer Verzweigung ist `if`. In Verbindung mit `else` und `else if` können so mehrere Fälle definiert, geprüft und entsprechende Anweisungen ausgeführt werden. Falls nur eine Anweisung einem Fall zugeordnet wird, können die geschweiften Klammern weggelassen werden.\n",
    "```kotlin\n",
    "fun foo(a: Int): String {\n",
    "    if (a < 10) \n",
    "        return \"kleiner 10\"\n",
    "    else if (a == 10) \n",
    "        return \"gleich 10\"\n",
    "    else {\n",
    "        val b = 20\n",
    "        return \"groeßer 10\"\n",
    "    }\n",
    "}\n",
    "```\n",
    "Eine Neuerung ist, dass die `if`-Verzweigung als eine eigene Funktion angesehen wird. Deswegen kann einer Variablen eine `if`-Verzweigung zugewiesen werden, falls jeder Fall einen Wert zurückgibt. Dies kann weiter vereinfacht werden, indem das Schlüsselwort `return` von den Fällen an den Anfang der Verzweigung geschoben wird."
   ]
  },
  {
   "cell_type": "code",
   "execution_count": 1,
   "id": "135d8e17",
   "metadata": {
    "execution": {
     "iopub.execute_input": "2021-11-17T20:14+0100",
     "iopub.status.busy": "2021-11-17T20:14+0100",
     "iopub.status.idle": "2021-11-17T20:14+0100",
     "shell.execute_reply": "2021-11-17T20:14+0100",
     "shell.execute_reply.started": "2021-11-17T20:14+0100"
    }
   },
   "outputs": [
    {
     "name": "stdout",
     "output_type": "stream",
     "text": [
      "foo(10): 10 ist gleich 10\n",
      "foo(5): 5 ist kleiner 10\n",
      "foo1(10): 10 ist gleich 10\n",
      "foo2(10): 10 ist gleich 10\n",
      "foo3(10): 10 ist gleich 10\n"
     ]
    }
   ],
   "source": [
    "//Standardfall\n",
    "fun foo(a: Int): String {\n",
    "    var res = \"\"\n",
    "    if (a < 10) \n",
    "        res = \"$a ist kleiner 10\"\n",
    "    else if (a == 10) \n",
    "        res = \"$a ist gleich 10\"\n",
    "    else \n",
    "        res = \"$a ist groeßer 10\"\n",
    "    return res\n",
    "}\n",
    "\n",
    "//Direkte Zuweisung des Wertes von res mit der if-Verzweigung\n",
    "fun foo1(a: Int): String {\n",
    "    val res = if (a < 10) \n",
    "                  \"$a ist kleiner 10\"\n",
    "              else if (a == 10) \n",
    "                  \"$a ist gleich 10\"\n",
    "              else \n",
    "                  \"$a ist groeßer 10\"\n",
    "    return res\n",
    "}\n",
    "\n",
    "//Verschiebung des returns\n",
    "fun foo2(a: Int): String {\n",
    "    return if (a < 10) \n",
    "               \"$a ist kleiner 10\"\n",
    "           else if (a == 10) \n",
    "               \"$a ist gleich 10\"\n",
    "           else \n",
    "               \"$a ist groeßer 10\"\n",
    "}\n",
    "\n",
    "//Anwendung der Kurzschreibweise von Funktionen\n",
    "fun foo3(a: Int) = if (a < 10) \n",
    "                       \"$a ist kleiner 10\"\n",
    "                   else if (a == 10) \n",
    "                       \"$a ist gleich 10\"\n",
    "                   else \n",
    "                       \"$a ist groeßer 10\"\n",
    "\n",
    "//Test\n",
    "println(\"foo(10): ${foo(10)}\")\n",
    "println(\"foo(5): ${foo(5)}\")\n",
    "println(\"foo1(10): ${foo1(10)}\")\n",
    "println(\"foo2(10): ${foo2(10)}\")\n",
    "println(\"foo3(10): ${foo3(10)}\")"
   ]
  },
  {
   "cell_type": "markdown",
   "id": "3419b976",
   "metadata": {},
   "source": [
    "### `when`-Verzweigung\n",
    "Eine weitere Art der Verzweigung ist `when`. Diese ähnelt von der Funktionalität an Javas `switch`. Das Schlüsselwort, mit dem diese Verzweigung eingeleitet wird, ist `when`. In runden Klammern muss daraufhin die zu untersuchende Variable folgen. In dem Rumpf steht links ein Vergleichswert (die Vergleichswerte mit Komma getrennt) und rechts eine Anweisung (mehrere Anweisungen in einem `{ ... }`-Block). Getrennt werden die beiden Seite mit `->`. Anders als in Java muss nicht nach jedem Block ein `break` stehen, falls die Verzweigung verlassen werden soll. Standardmäßig wird nach dem Ausführen der rechten Seite der `when`-Block verlassen. Ein *Durchrutschen* findet nicht statt. Der default-Fall wird mit `else` auf der linken Seite gekennzeichnet."
   ]
  },
  {
   "cell_type": "code",
   "execution_count": 2,
   "id": "1a803718",
   "metadata": {
    "execution": {
     "iopub.execute_input": "2021-11-17T20:14+0100",
     "iopub.status.busy": "2021-11-17T20:14+0100",
     "iopub.status.idle": "2021-11-17T20:14+0100",
     "shell.execute_reply": "2021-11-17T20:14+0100",
     "shell.execute_reply.started": "2021-11-17T20:14+0100"
    }
   },
   "outputs": [
    {
     "name": "stdout",
     "output_type": "stream",
     "text": [
      "Umlaut\n"
     ]
    }
   ],
   "source": [
    "val c = 'ä'\n",
    "when (c) {\n",
    "    'a', 'e', 'i', 'o', 'u' -> println(\"Vokal\")\n",
    "    'ä', 'ö', 'ü' -> {\n",
    "                        val res = \"Umlaut\"\n",
    "                        println(res)\n",
    "                     }\n",
    "    '0', '1', '2', '3', '4', '5', '6', '7', '8', '9' -> println(\"Zahl\")\n",
    "    else -> println(\"Konsonant oder Sonderzeichen\") //default-Fall\n",
    "}"
   ]
  },
  {
   "cell_type": "markdown",
   "id": "8384f077",
   "metadata": {},
   "source": [
    "Es können aber auch weiterführende Vergleiche angestellt werden. Mit `is` kann überprüft werden, ob die zu untersuchende Variable einen bestimmten Datentyp besitzt. `in` hingegen sucht die Variable in einer Datenstruktur."
   ]
  },
  {
   "cell_type": "code",
   "execution_count": 3,
   "id": "6e9e6192",
   "metadata": {
    "execution": {
     "iopub.execute_input": "2021-11-17T20:14+0100",
     "iopub.status.busy": "2021-11-17T20:14+0100",
     "iopub.status.idle": "2021-11-17T20:14+0100",
     "shell.execute_reply": "2021-11-17T20:14+0100",
     "shell.execute_reply.started": "2021-11-17T20:14+0100"
    }
   },
   "outputs": [
    {
     "name": "stdout",
     "output_type": "stream",
     "text": [
      "0 ist in Liste [0, 1, 2, 3]\n"
     ]
    }
   ],
   "source": [
    "val a: Any = 0\n",
    "val liste = listOf(0, 1, 2, 3)\n",
    "when (a) {\n",
    "    is Double -> println(\"$a ist vom Datentyp Double\") //ist die Variable vom Typ Double?\n",
    "    is Long -> println(\"$a ist vom Datentyp Long\") //ist die Variable vom Typ Long?\n",
    "    in liste -> println(\"$a ist in Liste $liste\") //ist die Variable in der Liste liste?\n",
    "}"
   ]
  },
  {
   "cell_type": "markdown",
   "id": "d3c67fd2",
   "metadata": {},
   "source": [
    "`when` findet vor Allem dann Anwendung, wenn mehr als 2 Fälle zu untersuchen sind und ist in diesem Fall `if` vorzuziehen.  \n",
    "Um es weiter an eine `if`-Verzweigung anzugleichen, wird die zu untersuchende Variable im Kopf weggelassen. Dann können auf der linken Seite boolsche Ausdrücke definiert werden. Folgender Code mit einer `if`-Verzweigung soll nun mit einer `when`-Verzweigung ersetzt werden:\n",
    "```kotlin\n",
    "val a = 10\n",
    "if (a < 10) \n",
    "   println(\"gleich 10\")\n",
    "else if (a < 10) \n",
    "   println(\"kleiner 10\")\n",
    "else \n",
    "   println(\"groeßer 10\")\n",
    "```"
   ]
  },
  {
   "cell_type": "code",
   "execution_count": 4,
   "id": "14222840",
   "metadata": {
    "execution": {
     "iopub.execute_input": "2021-11-17T20:14+0100",
     "iopub.status.busy": "2021-11-17T20:14+0100",
     "iopub.status.idle": "2021-11-17T20:14+0100",
     "shell.execute_reply": "2021-11-17T20:14+0100",
     "shell.execute_reply.started": "2021-11-17T20:14+0100"
    },
    "tags": []
   },
   "outputs": [
    {
     "name": "stdout",
     "output_type": "stream",
     "text": [
      "gleich 10\n"
     ]
    }
   ],
   "source": [
    "val a = 10\n",
    "when {\n",
    "    a == 10 -> println(\"gleich 10\")\n",
    "    a < 10 -> println(\"kleiner 10\")\n",
    "    else -> println(\"groeßer 10\")\n",
    "}"
   ]
  }
 ],
 "metadata": {
  "kernelspec": {
   "display_name": "Kotlin",
   "language": "kotlin",
   "name": "kotlin"
  },
  "language_info": {
   "codemirror_mode": "text/x-kotlin",
   "file_extension": ".kt",
   "mimetype": "text/x-kotlin",
   "name": "kotlin",
   "nbconvert_exporter": "",
   "pygments_lexer": "kotlin",
   "version": "1.6.20-dev-3702"
  }
 },
 "nbformat": 4,
 "nbformat_minor": 5
}
