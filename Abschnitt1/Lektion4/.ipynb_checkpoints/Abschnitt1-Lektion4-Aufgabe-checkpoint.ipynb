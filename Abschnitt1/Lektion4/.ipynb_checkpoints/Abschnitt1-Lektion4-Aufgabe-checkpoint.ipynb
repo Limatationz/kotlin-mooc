{
 "cells": [
  {
   "cell_type": "markdown",
   "id": "4f9c9337",
   "metadata": {},
   "source": [
    "# Aufgabe - if- und when-Verzweigung\n",
    "1. Implementiere eine Funktion `typCheckerIf`, die den Datentyp der übergebenen Variable als String mit Hilfe einer `if`-Verzweifung zurückgibt. Als Vereinfachung soll nur zwischen den Datentypen `Int`, `Double` und `Long` unterschieden werden. Sollte keiner dieser Datentypen zutreffen soll `Sonstiges` zurückgegeben werden.\n",
    "2. Füge nun eine zweite Funktion `typCheckerWhen` hinzu, die die `if`-Verzweigung durch eine `when`-Verzweigung ersetzt."
   ]
  },
  {
   "cell_type": "code",
   "execution_count": 4,
   "id": "295df697",
   "metadata": {},
   "outputs": [
    {
     "name": "stdout",
     "output_type": "stream",
     "text": [
      "Falsch! 1 ist vom Typ Int, Ergebnis typCheckerIf: sdnmbfns, Ergebnis typCheckerWhen: \n",
      "Falsch! 1.0 ist vom Typ Double, Ergebnis typCheckerIf: sdnmbfns, Ergebnis typCheckerWhen: \n",
      "Falsch! 100 ist vom Typ Long, Ergebnis typCheckerIf: sdnmbfns, Ergebnis typCheckerWhen: \n",
      "Falsch! Test ist vom Typ String, Ergebnis typCheckerIf: sdnmbfns, Ergebnis typCheckerWhen: \n"
     ]
    }
   ],
   "source": [
    "fun typCheckerIf(a: Any) = \"sdnmbfns\"//TODO\n",
    "    \n",
    "fun typCheckerWhen(a: Any) = \"\"//TODO\n",
    "    \n",
    "//Test\n",
    "val tests = listOf<Any>(1, 1.0, 100L, \"Test\")\n",
    "for(i in tests){\n",
    "    if((typCheckerIf(i) == typCheckerWhen(i)) && (i::class.simpleName == typCheckerIf(i) || typCheckerIf(i) == \"Sonstiges\"))\n",
    "        println(\"Richtig! $i ist vom Typ ${typCheckerIf(i)}\")\n",
    "    else\n",
    "        println(\"Falsch! $i ist vom Typ ${i::class.simpleName}, Ergebnis typCheckerIf: ${typCheckerIf(i)}, Ergebnis typCheckerWhen: ${typCheckerWhen(i)}\")   \n",
    "}"
   ]
  },
  {
   "cell_type": "code",
   "execution_count": null,
   "id": "85353a53",
   "metadata": {},
   "outputs": [],
   "source": []
  }
 ],
 "metadata": {
  "kernelspec": {
   "display_name": "Kotlin",
   "language": "kotlin",
   "name": "kotlin"
  },
  "language_info": {
   "codemirror_mode": "text/x-kotlin",
   "file_extension": ".kt",
   "mimetype": "text/x-kotlin",
   "name": "kotlin",
   "nbconvert_exporter": "",
   "pygments_lexer": "kotlin",
   "version": "1.5.20-dev-5817"
  }
 },
 "nbformat": 4,
 "nbformat_minor": 5
}
