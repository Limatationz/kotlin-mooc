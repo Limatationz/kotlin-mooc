{
 "cells": [
  {
   "cell_type": "markdown",
   "id": "40e21ef6",
   "metadata": {},
   "source": [
    "# Aufgabe - if- und when-Verzweigung\n",
    "1. Implementiere eine Funktion `typCheckerIf`, die den Datentyp der übergebenen Variable als String mit Hilfe einer `if`-Verzweifung zurückgibt. Als Vereinfachung soll nur zwischen den Datentypen `Int`, `Double` und `Long` unterschieden werden. Sollte keiner dieser Datentypen zutreffen soll `Sonstiges` zurückgegeben werden.\n",
    "2. Füge nun eine zweite Funktion `typCheckerWhen` hinzu, die die `if`-Verzweigung durch eine `when`-Verzweigung ersetzt."
   ]
  },
  {
   "cell_type": "code",
   "execution_count": 2,
   "id": "7c306429",
   "metadata": {},
   "outputs": [
    {
     "name": "stdout",
     "output_type": "stream",
     "text": [
      "Richtig! 1 ist vom Typ Int\n",
      "Richtig! 1.0 ist vom Typ Double\n",
      "Richtig! 100 ist vom Typ Long\n",
      "Richtig! Test ist vom Typ Sonstiges\n"
     ]
    }
   ],
   "source": [
    "//Lösung\n",
    "fun typCheckerIf(a: Any) = if (a is Int)\n",
    "                                \"Int\"\n",
    "                            else if (a is Double)\n",
    "                                \"Double\"\n",
    "                            else if (a is Long)\n",
    "                                \"Long\"\n",
    "                            else\n",
    "                                \"Sonstiges\"\n",
    "\n",
    "\n",
    "fun typCheckerWhen(a: Any) = when(a) {\n",
    "    is Int -> \"Int\"\n",
    "    is Double -> \"Double\"\n",
    "    is Long -> \"Long\"\n",
    "    else -> \"Sonstiges\"\n",
    "}\n",
    "\n",
    "//Test\n",
    "val tests = listOf<Any>(1, 1.0, 100L, \"Test\")\n",
    "for(i in tests){\n",
    "    if((typCheckerIf(i) == typCheckerWhen(i)) && (i::class.simpleName == typCheckerIf(i) || typCheckerIf(i) == \"Sonstiges\"))\n",
    "        println(\"Richtig! $i ist vom Typ ${typCheckerIf(i)}\")\n",
    "    else\n",
    "        println(\"Falsch! $i ist vom Typ ${i::class.simpleName}, Ergebnis typCheckerIf: ${typCheckerIf(i)}, Ergebnis typCheckerWhen: ${typCheckerWhen(i)}\")   \n",
    "}"
   ]
  }
 ],
 "metadata": {
  "kernelspec": {
   "display_name": "Kotlin",
   "language": "kotlin",
   "name": "kotlin"
  },
  "language_info": {
   "codemirror_mode": "text/x-kotlin",
   "file_extension": ".kt",
   "mimetype": "text/x-kotlin",
   "name": "kotlin",
   "nbconvert_exporter": "",
   "pygments_lexer": "kotlin",
   "version": "1.5.20-dev-5817"
  }
 },
 "nbformat": 4,
 "nbformat_minor": 5
}
