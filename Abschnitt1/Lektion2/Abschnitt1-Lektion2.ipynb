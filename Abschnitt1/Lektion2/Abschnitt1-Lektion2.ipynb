{
 "cells": [
  {
   "cell_type": "markdown",
   "id": "cad5a8f5",
   "metadata": {},
   "source": [
    "<img src=\"../images/Lektion2.png\" style=\"margin: 20px auto 20px 0px\"/>\n",
    "<h2 style=\"display:none\">Lektion 2 - Variablen</h2>\n",
    "\n",
    "Diese Lektion behandelt Variablen, Datentypen und Vergleiche.\n",
    "### Variablen\n",
    "Variablen lassen sich in Kotlin in 2 Typen untergliedern: \n",
    "<div style=\"width: 70%; float:left\">\n",
    "    <ul>\n",
    "        <li> <code>val</code> (value): Beschreibt eine Variable mit <b>lesendem</b> Zugriff. Bei Deklarierung wird ihr direkt ein Wert zugewiesen, der danach nicht mehr verändert werden kann. Eine <code>val</code>-Variable in Kotlin ist mit einer <code>final</code>-Variable in Java zu vergleichen.</li>\n",
    "        <li> <code>var</code> (variable): Beschreibt eine Variable mit <b>lesenden</b> und <b>schreibenden</b> Zugriff. Eine Veränderung des Wertes ist beliebig oft möglich. Außerdem muss dieser nicht direkt bei Deklarierung gesetzt werden. Eine `var`-Variable entspricht einer normalen Variable in Java.</li>\n",
    "    </ul>\n",
    "</div>\n",
    "<img title=\"Variablen\" alt=\"Variablen\" src=\"../images/variablen.png\" style=\"width: 30%; float: left\">\n",
    "<div style=\"clear: both\" />\n",
    "Ein Beispiel:"
   ]
  },
  {
   "cell_type": "code",
   "execution_count": 129,
   "id": "918310d5",
   "metadata": {},
   "outputs": [
    {
     "name": "stdout",
     "output_type": "stream",
     "text": [
      "v1: schreibgeschützte Variable\n",
      "v2: veränderte Variable\n"
     ]
    }
   ],
   "source": [
    "val v1 : String = \"schreibgeschützte Variable\"\n",
    "//v1 = \"Test\"   //Fehler: Val cannot be reassigned\n",
    "var v2 : String = \"veränderbare Variable\"\n",
    "v2 = \"veränderte Variable\"\n",
    "println(\"v1: $v1\")\n",
    "println(\"v2: $v2\")"
   ]
  },
  {
   "cell_type": "markdown",
   "id": "6d4723d2",
   "metadata": {},
   "source": [
    "Die Untergliederung der Variablen in `val` und `var` hat den Hintergrund, dass der funktionale Programmierstil, welcher einfacher zu verstehen ist, gefördert werden soll. Außerdem wird der Code dadurch verständlicher werden. Aufgrund dieser Unterscheidung steht es bei Deklarierung einer Variable fest, ob sie verändert wird oder nicht.  \n",
    "**Allgemein gilt der Grundsatz: `val` vor `var`.**\n",
    "\n",
    "Einige Konzepte werden mit Hilfe von Produktionsregeln unter Verwendung der [erweiterte Backus-Naur-Form](https://de.wikipedia.org/wiki/Erweiterte_Backus-Naur-Form) mit Fokussierung auf die wichtigen Regeln dargestellt.  \n",
    "Der Syntax einer zu initialisierenden Variable sieht folgendermaßen aus:\n",
    ">Variable -> ( \"var\" | \"val\" ) name \":\" Datentyp \"=\" Wert.\n",
    "\n",
    "Eine weitere Besonderheit bei Variablen ist der Umgang mit `null`. Variablen, die mit dem eben kennengelernten Syntax initialisiert und deklariert werden, können nicht den Wert `null` annehmen. Genaueres dazu in Abschnitt 2."
   ]
  },
  {
   "cell_type": "code",
   "execution_count": 1,
   "id": "00b4652d",
   "metadata": {},
   "outputs": [
    {
     "name": "stderr",
     "output_type": "stream",
     "text": [
      "Line_0.jupyter-kts (1:23 - 27) Null can not be a value of a non-null type Int"
     ]
    }
   ],
   "source": [
    "val test_null : Int = null"
   ]
  },
  {
   "cell_type": "markdown",
   "id": "0c339ac4",
   "metadata": {},
   "source": [
    "### Kostanten\n",
    "Konstanten sind Variablen der Kategorie `val`, denen das Schlüsselwort `const` vorangestellt wird. Sie dürfen nur auf der Top-Level-Ebene oder in Objekten (näheres dazu in Abschnitt 3) deklariert werden:\n",
    "```kotlin \n",
    "const val constant : Int = 24\n",
    "```\n",
    "\n",
    "Somit kann der Syntax von Variablen erweitert werden:<br />\n",
    ">Variable -> ( <span style=\"color: blue\">(</span> [\"const\"] \"val\" <span style=\"color: blue\">)</span> | \"var\" )  name \":\" Datentyp \"=\" Wert.\n",
    "\n",
    "Auf den ersten Blick scheint eine schreibgeschützte Variable und eine Konstante den gleichen Nutzen haben: Einen unveränderlichen Wert speichern und zur Verfügung stellen. Im Grunde ist das richtig, jedoch gibt es einen großen Unterschied. Während `val`-Variablen als sogenannte *runtime constants* angesehen werden, sind Konstanten *compile-time constants*. Praktisch bedeutet das, dass eine Konstante immer den bei der Kompilierung zugewiesenen Wert besitzt, während eine schreibgeschützte Variable bei jedem Ausführen einen unterschiedlichen, aber unveränderlichen Wert annehmen kann."
   ]
  },
  {
   "cell_type": "code",
   "execution_count": 69,
   "id": "6bdc7bb4",
   "metadata": {},
   "outputs": [
    {
     "name": "stderr",
     "output_type": "stream",
     "text": [
      "Line_68.jupyter-kts (4:1 - 6) Const 'val' are only allowed on top level or in objects"
     ]
    }
   ],
   "source": [
    "val value : Int = foo()\n",
    "\n",
    "//const val constant : Int = foo()   -> Error\n",
    "const val constant : Int = 5       //-> Kein Error\n",
    "\n",
    "fun foo() : Int { //Gibt eine zufällige ganze Zahl zwischen 0 und 10 zurück\n",
    "    return (0..10).random()\n",
    "}\n",
    "\n",
    "fun main(){\n",
    "    println(\"schreibgeschützte Variable: $value\")\n",
    "    println(\"Konstante: $constant\")\n",
    "}"
   ]
  },
  {
   "cell_type": "markdown",
   "id": "c92a201d",
   "metadata": {},
   "source": [
    "<div class=\"alert alert-block alert-warning\">\n",
    "Da jede Zelle im Hintergrund als Bestandteil eines Hauptprogramms angesehen wird, können in Jupyter Notebooks keine Konstanten verwendet werden. Im <a href=\"https://pl.kotl.in/ktsQ83HNw\">Kotlin Playground</a> kann das Beispiel aber ausgeführt werden.\n",
    "</div>"
   ]
  },
  {
   "cell_type": "markdown",
   "id": "30ecee96",
   "metadata": {},
   "source": [
    "### Datentypen\n",
    "Kotlin ist, wie Java, eine statisch typisierte Programmiersprache. Das bedeutet, dass jede Variable, jeder Ausdruck einen statischen Typ besitzt, der bei Deklarierung festgelegt wird und bei Kompilierung erkennbar sein muss. Dies kann entweder explizit durch eine Datentypzuweisung oder implizit durch eine direkte aussagekräftige Initialisierung erfolgen. In diesem Fall wird der Variablen vom Kompiler ein, zum Wert passender, Datentyp zugewiesen."
   ]
  },
  {
   "cell_type": "code",
   "execution_count": 77,
   "id": "2aa4556d",
   "metadata": {},
   "outputs": [
    {
     "name": "stdout",
     "output_type": "stream",
     "text": [
      "Datentyp von int1: Int, Datentyp von int2: Int\n",
      "Datentyp von string1: String, Datentyp von string2: String\n",
      "Anweisung1\n",
      "Anweisung2\n",
      "Datentyp von anweisung1: Unit, Datentyp von anweisung2: Unit\n"
     ]
    }
   ],
   "source": [
    "val int1 : Int = 5 //explizite Zuweisung\n",
    "val int2 = 5 //implizierte Zuweisung\n",
    "println(\"Datentyp von int1: ${int1::class.simpleName}, Datentyp von int2: ${int2::class.simpleName}\")\n",
    "\n",
    "val string1 : String = \"String 1\"\n",
    "val string2 = \"String 2\"\n",
    "println(\"Datentyp von string1: ${string1::class.simpleName}, Datentyp von string2: ${string2::class.simpleName}\") \n",
    "\n",
    "val anweisung1 : Unit = println(\"Anweisung1\")\n",
    "val anweisung2 = println(\"Anweisung2\")\n",
    "println(\"Datentyp von anweisung1: ${anweisung1::class.simpleName}, Datentyp von anweisung2: ${anweisung2::class.simpleName}\")"
   ]
  },
  {
   "cell_type": "markdown",
   "id": "e6cd46b2",
   "metadata": {},
   "source": [
    "Mit diesem Wissen kann der bisher kennengelernte Syntax von Variablen vervollständigt werden:  \n",
    ">Variable -> \"var\" name \":\" Datentyp.  \n",
    "Variable -> [const] (\"var\"|\"val\") name [\":\" Datentyp] \"=\" Wert.\n",
    "\n",
    "Kotlin stellt die bereits aus Java bekannten Datentypen in der Standardbibliothek bereit. Da nicht mehr zwischen Elementaren und Komplexen unterschieden wird, werden alle groß geschrieben. Ein Überlick über die wichtigsten Datentypen im Vergleich mit Java:\n",
    "\n",
    "<table style=\"font-size:16px\">\n",
    "<thead>\n",
    "  <tr>\n",
    "    <th style=\"font-size:16px\">Kotlin</th>\n",
    "    <th style=\"font-size:16px\">Werte</th>\n",
    "    <th style=\"font-size:16px\">Java</th>\n",
    "  </tr>\n",
    "</thead>\n",
    "<tbody>\n",
    "  <tr>\n",
    "    <td style=\"font-size:16px\">Byte</td>\n",
    "    <td style=\"font-size:16px\">-128 bis 127</td>\n",
    "    <td style=\"font-size:16px\">byte</td>\n",
    "  </tr>\n",
    "  <tr>\n",
    "    <td style=\"font-size:16px\">Short</td>\n",
    "    <td style=\"font-size:16px\">-32768 bis 32767</td>\n",
    "    <td style=\"font-size:16px\">short</td>\n",
    "  </tr>\n",
    "  <tr>\n",
    "    <td style=\"font-size:16px\">Int</td>\n",
    "    <td style=\"font-size:16px\">-2.147.483.648 bis 2.147.483.647</td>\n",
    "    <td style=\"font-size:16px\">int</td>\n",
    "  </tr>\n",
    "  <tr>\n",
    "    <td style=\"font-size:16px\">Long</td>\n",
    "    <td style=\"font-size:16px\">-9.223.372.036.854.775.808 bis 9.223.372.036.854.775.808</td>\n",
    "    <td style=\"font-size:16px\">long</td>\n",
    "  </tr>\n",
    "  <tr>\n",
    "    <td style=\"font-size:16px\">Float</td>\n",
    "    <td style=\"font-size:16px\">6 bis 7 Dezimalstellen</td>\n",
    "    <td style=\"font-size:16px\">float</td>\n",
    "  </tr>\n",
    "  <tr>\n",
    "    <td style=\"font-size:16px\">Double</td>\n",
    "    <td style=\"font-size:16px\">15 bis 16 Dezimalstellen</td>\n",
    "    <td style=\"font-size:16px\">double</td>\n",
    "  </tr>\n",
    "  <tr>\n",
    "    <td style=\"font-size:16px\">Boolean</td>\n",
    "    <td style=\"font-size:16px\"><code>true</code> oder <code>false</code></td>\n",
    "    <td style=\"font-size:16px\">boolean</td>\n",
    "  </tr>\n",
    "  <tr>\n",
    "    <td style=\"font-size:16px\">Char</td>\n",
    "    <td style=\"font-size:16px\">16-Bit-Unicode-Zeichen</td>\n",
    "    <td style=\"font-size:16px\">char</td>\n",
    "  </tr>\n",
    "  <tr>\n",
    "    <td style=\"font-size:16px\">String</td>\n",
    "    <td style=\"font-size:16px\">Folge von Zeichen</td>\n",
    "    <td style=\"font-size:16px\">String</td>\n",
    "  </tr>\n",
    "</tbody>\n",
    "</table>\n",
    "<div style=\"float:left; width: 70%\">\n",
    "Eine Folge von der Änderung, dass alle Datentypen durch eine Klasse repräsentiert werden, ist, dass eine Typhierarchie aufgebaut werden kann. Dazu müssen aber zunächst zwei neue Datentypen eingeführt werden: <code>Any</code> und <code>Nothing</code>. Sie beschreiben das <i>Minimum</i> und <i>Maximum</i>.<code>Any</code> ist der allgemeinste Datentyp und die Super-Klasse aller anderen Typen. <code>Nothing</code> hingegen ist der Kleinste und die Sub-Klasse aller anderen Typen.\n",
    "</div>\n",
    "<img title=\"Typhierarchie\" alt=\"Typhierarchie\" src=\"../images/typhierarchie.png\" style=\"width: 30%; float:left\">\n",
    "<div style=\"clear: left\" /><br>\n",
    "<h3>Vergleiche</h3>\n",
    "\n",
    "Vergleiche sind in Kotlin einfacher und intuitiver als in Java. Der Grund dafür ist wieder, dass es keine elementaren Datentypen mehr gibt. Alle von Kotlin bereitgestellten Datentypen implementieren das `Comparable`-Interface und können somit mit `compareTo()` verglichen werden. Jedoch muss nicht die Funktion zum Vergleichen aufrufen, sondern es reichen die bekannten Vergleichszeichen aus. Mit `==` wird der Inhalt der Variable verglichen und nicht wie in Java die Referenz. Für einen solchen Vergleich wurde in Kotlin das Zeichen `===` eingeführt. `<`und `>` entsprechen dem Rückgabewert `-1` beziehungsweise `1` von `compareTo()`."
   ]
  },
  {
   "cell_type": "code",
   "execution_count": 80,
   "id": "1b7d342a",
   "metadata": {},
   "outputs": [
    {
     "name": "stdout",
     "output_type": "stream",
     "text": [
      "Verglichen wird: a: [1, 2, 3], b: [1, 2, 3]\n",
      "vergleicheInhalt: Gleich\n",
      "vergleicheReferenz: Ungleich\n"
     ]
    }
   ],
   "source": [
    "fun vergleicheInhalt(a: List<Int>, b: List<Int>){\n",
    "    if (a == b) println(\"vergleicheInhalt: Gleich\")\n",
    "    else println(\"vergleicheInhalt: Ungleich\")\n",
    "}\n",
    "\n",
    "fun vergleicheReferenz(a: List<Int>, b: List<Int>){\n",
    "    if (a === b) println(\"vergleicheReferenz: Gleich\")\n",
    "    else println(\"vergleicheReferenz: Ungleich\")\n",
    "}\n",
    "\n",
    "\n",
    "val a = listOf(1,2,3)\n",
    "val b = listOf(1,2,3)\n",
    "println(\"Verglichen wird: a: $a, b: $b\")\n",
    "vergleicheInhalt(a, b)\n",
    "vergleicheReferenz(a, b)"
   ]
  },
  {
   "cell_type": "code",
   "execution_count": 81,
   "id": "cd642d7d",
   "metadata": {},
   "outputs": [
    {
     "name": "stdout",
     "output_type": "stream",
     "text": [
      "vergleicheStrings: Kotlin > Java. Ergebnis von compareTo(): 1. \n",
      "vergleicheStrings: Java < Kotlin. Ergebnis von compareTo(): -1. \n"
     ]
    }
   ],
   "source": [
    "fun vergleicheStrings(a: String, b: String){\n",
    "    if (a == b) print(\"vergleicheStrings: $a == $b\")\n",
    "    else if (a < b) print(\"vergleicheStrings: $a < $b\" )\n",
    "    else print(\"vergleicheStrings: $a > $b\" )\n",
    "    print(\". Ergebnis von compareTo(): ${a.compareTo(b)}. \\n\")\n",
    "}\n",
    "\n",
    "val a = \"Kotlin\"\n",
    "val b = \"Java\"\n",
    "vergleicheStrings(a,b)\n",
    "vergleicheStrings(b,a)"
   ]
  },
  {
   "cell_type": "markdown",
   "id": "309c9977",
   "metadata": {},
   "source": [
    "### Typumwandlung\n",
    "Datentypen können mit dem Schlüsselwort `as` umgewandelt werden. Dabei ist zu beachten, dass der Wert der Variable bereits mit den neuen Datentyp kompatibel sein muss. Deswegen wird eine vorherige Prüfung mit `is` (in Java `instanceof`) empfohlen. Eine Umwandlung von `Int` zu `Float` ist folglich nicht möglich. In diesem Fall würde die Funktion `toFloat()` Anwendung finden. Umwandlungen in andere Datentypen erfolgen analog."
   ]
  },
  {
   "cell_type": "code",
   "execution_count": 82,
   "id": "2bbade02",
   "metadata": {},
   "outputs": [
    {
     "name": "stdout",
     "output_type": "stream",
     "text": [
      "Datentyp von v1: Double\n",
      "Datentyp von int: Int\n",
      "Datentyp von float: Float\n"
     ]
    }
   ],
   "source": [
    "val any: Any = 10.0\n",
    "if (any is String){\n",
    "    val v1 = any as String\n",
    "    println(\"Datentyp von v1: ${v1::class.simpleName}\")\n",
    "}\n",
    "if (any is Int){\n",
    "    val v1 = any as Int\n",
    "    println(\"Datentyp von v1: ${v1::class.simpleName}\")\n",
    "}\n",
    "if (any is Double){\n",
    "    val v1 = any as Double\n",
    "    println(\"Datentyp von v1: ${v1::class.simpleName}\")\n",
    "}\n",
    "\n",
    "val int: Int = 10\n",
    "println(\"Datentyp von int: ${int::class.simpleName}\")\n",
    "val float: Float = int.toFloat()\n",
    "println(\"Datentyp von float: ${float::class.simpleName}\")"
   ]
  },
  {
   "cell_type": "markdown",
   "id": "15ba695a",
   "metadata": {},
   "source": [
    "Die Typumwandlung mit `as` kann aber auch noch vereinfacht werden. Da nach einer wahren `is`-Prüfung klar ist, dass die Variable diesen Typ besitzt, wandelt der Kompiler diesen *smart* um."
   ]
  },
  {
   "cell_type": "code",
   "execution_count": 12,
   "id": "6708b2d1",
   "metadata": {},
   "outputs": [
    {
     "name": "stdout",
     "output_type": "stream",
     "text": [
      "Typ von v1: Double\n"
     ]
    }
   ],
   "source": [
    "val any: Any = 10.0\n",
    "if (any is String){\n",
    "    val v1 = any\n",
    "    println(\"Datentyp von v1: ${v1::class.simpleName}\")\n",
    "}\n",
    "if (any is Int){\n",
    "    val v1 = any\n",
    "    println(\"Datentyp von v1: ${v1::class.simpleName}\")\n",
    "}\n",
    "if (any is Double){\n",
    "    val v1 = any\n",
    "    println(\"Datentyp von v1: ${v1::class.simpleName}\")\n",
    "}"
   ]
  }
 ],
 "metadata": {
  "kernelspec": {
   "display_name": "Kotlin",
   "language": "kotlin",
   "name": "kotlin"
  },
  "language_info": {
   "codemirror_mode": "text/x-kotlin",
   "file_extension": ".kt",
   "mimetype": "text/x-kotlin",
   "name": "kotlin",
   "nbconvert_exporter": "",
   "pygments_lexer": "kotlin",
   "version": "1.5.20-dev-5817"
  }
 },
 "nbformat": 4,
 "nbformat_minor": 5
}
