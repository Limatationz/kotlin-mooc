{
 "cells": [
  {
   "cell_type": "markdown",
   "id": "2607d91c",
   "metadata": {},
   "source": [
    "### Aufgabe - Von Java zu Kotlin\n",
    "Übersetzen Sie folgenden Java-Code nach Kotlin und wähle passende Variablentypen.\n",
    "```java\n",
    "final static float PI = 3.14159f;\n",
    "int a = 50;\n",
    "int b = 20;\n",
    "int res;\n",
    "final boolean bool = false;\n",
    "a = a + 30;\n",
    "res = a - b;\n",
    "String output = \"a - b ist: \" + res + \".\";\n",
    "System.out.println(output);\n",
    "```"
   ]
  },
  {
   "cell_type": "code",
   "execution_count": 1,
   "id": "83872f2a",
   "metadata": {
    "execution": {
     "iopub.execute_input": "2021-11-17T20:08+0100",
     "iopub.status.busy": "2021-11-17T20:08+0100",
     "iopub.status.idle": "2021-11-17T20:08+0100",
     "shell.execute_reply": "2021-11-17T20:08+0100",
     "shell.execute_reply.started": "2021-11-17T20:08+0100"
    },
    "tags": []
   },
   "outputs": [
    {
     "name": "stdout",
     "output_type": "stream",
     "text": [
      "a - b ist: 60.\n"
     ]
    }
   ],
   "source": [
    "//Lösung\n",
    "\n",
    "//const val PI = 3.14159f\n",
    "var a = 50\n",
    "val b = 20\n",
    "var res : Int\n",
    "val bool = false\n",
    "a = a + 30\n",
    "res = a - b\n",
    "val output = \"a - b ist: $res.\"\n",
    "println(output)"
   ]
  }
 ],
 "metadata": {
  "kernelspec": {
   "display_name": "Kotlin",
   "language": "kotlin",
   "name": "kotlin"
  },
  "language_info": {
   "codemirror_mode": "text/x-kotlin",
   "file_extension": ".kt",
   "mimetype": "text/x-kotlin",
   "name": "kotlin",
   "nbconvert_exporter": "",
   "pygments_lexer": "kotlin",
   "version": "1.5.20-dev-5817"
  }
 },
 "nbformat": 4,
 "nbformat_minor": 5
}
