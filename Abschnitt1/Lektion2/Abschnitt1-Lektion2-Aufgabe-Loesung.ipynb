{
 "cells": [
  {
   "cell_type": "markdown",
   "id": "e2293bd6-80b1-4084-96fd-a2a60d966069",
   "metadata": {},
   "source": [
    "### Aufgabe - Von Java zu Kotlin\n",
    "Übersetzen Sie folgenden Java-Code nach Kotlin und wählen Sie passende Variablentypen.\n",
    "```java\n",
    "final static float PI = 3.14159f;\n",
    "int a = 50;\n",
    "int b = 20;\n",
    "int res;\n",
    "final boolean bool = false;\n",
    "a = a + 30;\n",
    "res = a - b;\n",
    "String output = \"a - b ist: \" + res + \".\";\n",
    "System.out.println(output);\n",
    "```"
   ]
  },
  {
   "cell_type": "code",
   "execution_count": 13,
   "id": "c9ea8d2f-ca34-4190-8884-5c6b96b8202b",
   "metadata": {},
   "outputs": [
    {
     "name": "stdout",
     "output_type": "stream",
     "text": [
      "a - b ist: 60.\n"
     ]
    }
   ],
   "source": [
    "//Lösung\n",
    "\n",
    "//const val PI = 3.14159f\n",
    "var a = 50\n",
    "val b = 20\n",
    "var res : Int\n",
    "val bool = false\n",
    "a = a + 30\n",
    "res = a - b\n",
    "val output = \"a - b ist: $res.\"\n",
    "println(output)"
   ]
  }
 ],
 "metadata": {
  "kernelspec": {
   "display_name": "Kotlin",
   "language": "kotlin",
   "name": "kotlin"
  },
  "language_info": {
   "codemirror_mode": "text/x-kotlin",
   "file_extension": ".kt",
   "mimetype": "text/x-kotlin",
   "name": "kotlin",
   "nbconvert_exporter": "",
   "pygments_lexer": "kotlin",
   "version": "1.5.20-dev-5817"
  }
 },
 "nbformat": 4,
 "nbformat_minor": 5
}
