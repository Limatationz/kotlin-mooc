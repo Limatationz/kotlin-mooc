{
 "cells": [
  {
   "cell_type": "markdown",
   "id": "e2293bd6-80b1-4084-96fd-a2a60d966069",
   "metadata": {},
   "source": [
    "### Aufgabe - Von Java zu Kotlin\n",
    "Übersetzen Sie folgenden Java-Code nach Kotlin und wählen Sie passende Variablentypen.\n",
    "```java\n",
    "final static float PI = 3.14159f;\n",
    "int a = 50;\n",
    "int b = 20;\n",
    "int res;\n",
    "final boolean bool = false;\n",
    "a = a + 30;\n",
    "res = a - b;\n",
    "String output = \"a - b ist: \" + res + \".\";\n",
    "System.out.println(output);\n",
    "```"
   ]
  },
  {
   "cell_type": "code",
   "execution_count": null,
   "id": "490645e6-35da-4936-8acf-84ab60bc2e14",
   "metadata": {},
   "outputs": [],
   "source": [
    "//TODO\n"
   ]
  }
 ],
 "metadata": {
  "kernelspec": {
   "display_name": "Kotlin",
   "language": "kotlin",
   "name": "kotlin"
  },
  "language_info": {
   "codemirror_mode": "text/x-kotlin",
   "file_extension": ".kt",
   "mimetype": "text/x-kotlin",
   "name": "kotlin",
   "nbconvert_exporter": "",
   "pygments_lexer": "kotlin",
   "version": "1.5.20-dev-5817"
  }
 },
 "nbformat": 4,
 "nbformat_minor": 5
}
