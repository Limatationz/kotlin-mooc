{
 "cells": [
  {
   "cell_type": "markdown",
   "id": "87eebfdb",
   "metadata": {},
   "source": [
    "Before you turn this problem in, make sure everything runs as expected. First, **restart the kernel** (in the menubar, select Kernel$\\rightarrow$Restart) and then **run all cells** (in the menubar, select Cell$\\rightarrow$Run All).\n",
    "\n",
    "Make sure you fill in any place that says `YOUR CODE HERE` or \"YOUR ANSWER HERE\", as well as your name and collaborators below:"
   ]
  },
  {
   "cell_type": "code",
   "execution_count": null,
   "id": "78ae36ba",
   "metadata": {},
   "outputs": [],
   "source": [
    "NAME = \"\"\n",
    "COLLABORATORS = \"\""
   ]
  },
  {
   "cell_type": "markdown",
   "id": "9b62d07a",
   "metadata": {},
   "source": [
    "---"
   ]
  },
  {
   "cell_type": "markdown",
   "id": "periodic-casino",
   "metadata": {
    "deletable": false,
    "editable": false,
    "nbgrader": {
     "cell_type": "markdown",
     "checksum": "30d8ceb53abc215d29cd7a551b63a733",
     "grade": false,
     "grade_id": "aufgabe1-einfuehrung",
     "locked": true,
     "schema_version": 3,
     "solution": false,
     "task": false
    }
   },
   "source": [
    "# Einführung\n",
    "\n",
    "Jeder Abschnitt wird von einer größeren Übungsaufgabe begleitet. Während in den Abschnitten 1-3 die Übungen mit Jupyter erledigt werden könne, wird in den Abschnitten 4 & 5 mit Android Studio gearbeitet (näheres dazu folgt in Abschnitt 4). In den ersten 3 Übungen wird ein seperates Notebook angeboten, das Sie runterladen und bearbeiten sollen. Eine Bearbeitung der Übungsaufgaben ist für das Abschlusszertifikat nötig. In der Aufgabenbeschreibung wird angegeben, wie die zu implementierenden Methoden oder Klassen benannt werden sollen. Bitte halten Sie sich an diese Vorgaben, da nur so die Tests, mit denen Sie Ihren Code ausprobieren können, funktionieren.\n",
    "\n",
    "\n",
    "# Aufgabe - Passwörter\n",
    "\n",
    "Heutzutage ist es immer wichtiger sichere Passwörter zu benutzen. Ob es der Zugang zum Online-Banking oder das Passwort für Netflix ist. Ein fremder Zugang kann einen großen Schaden verursachen. Deswegen soll im Folgenden ein Passwortgenerator und -validator programmiert werden, der sichere Passwörter erkennt und auch vorschlägt.<br />\n",
    "Ein Passwort ist in dieser Aufgabe als \"sicher\" anzusehen, wenn es die [Standards des BSI](https://www.bsi.bund.de/DE/Themen/Verbraucherinnen-und-Verbraucher/Informationen-und-Empfehlungen/Cyber-Sicherheitsempfehlungen/Accountschutz/Sichere-Passwoerter-erstellen/sichere-passwoerter-erstellen_node.htmlhttps://www.bsi.bund.de/DE/Themen/Verbraucherinnen-und-Verbraucher/Informationen-und-Empfehlungen/Cyber-Sicherheitsempfehlungen/Accountschutz/Sichere-Passwoerter-erstellen/sichere-passwoerter-erstellen_node.html) erfüllt:\n",
    "- 20 bis 25 Zeichen lang und zwei Zeichenarten genutzt (beispielsweise eine Folge von Wörtern).\n",
    "- 8 bis 12 Zeichen lang und vier Zeichenarten genutzt. \n",
    "- 8 Zeichen lang, drei Zeichenarten genutzt und es zusätzlich durch eine Mehr-Faktor-Authentisierung abgesichert (beispielsweise durch einen Fingerabdruck, eine Bestätigung per App oder eine PIN).\n",
    "\n",
    "Der dritten Stichpunkt soll im Folgenden ignoriert werden, da eine Mehr-Faktor-Authentisierung die Aufgabe übersteigen würde. Es soll sich auf die ersten beiden Stichpunkte fokussiert werden.\n",
    "\n",
    "Die 4 Zeichenarten sind:\n",
    "- Großbuchstaben\n",
    "- Kleinbuchstaben\n",
    "- Zahlen\n",
    "- Sonderzeichen (zur Vereinfachnung nur `@`, `/`, `#`, `+`, `-`, `*`, `!`, `?`, `&`)\n",
    "\n",
    "## Anzahl der Zeichenarten\n",
    "Implementieren Sie als Vorbereitung auf die eigentliche Aufgabe Erweiterungsmethoden für die Klasse `String`.\n",
    "- `anzahlKleinbuchstaben`: gibt die Anzahl an Kleinbuchstaben zurück\n",
    "- `anzahlGrossbuchstaben`: gibt die Anzahl an Großbuchstaben zurück\n",
    "- `anzahlZahlen`: gibt die Anzahl an Zahlen zurück\n",
    "- `anzahlSonderzeichen`: gibt die Anzahl der Sonderzeichen zurück\n",
    "- `anzahlZeichenarten`: gibt die Anzahl der Zeichenarten zurück"
   ]
  },
  {
   "cell_type": "code",
   "execution_count": null,
   "id": "constitutional-sharp",
   "metadata": {
    "deletable": false,
    "execution": {
     "iopub.execute_input": "2021-04-12T11:05+0200",
     "iopub.status.busy": "2021-04-12T11:05+0200",
     "iopub.status.idle": "2021-04-12T11:05+0200",
     "shell.execute_reply": "2021-04-12T11:05+0200",
     "shell.execute_reply.started": "2021-04-12T11:05+0200"
    },
    "nbgrader": {
     "cell_type": "code",
     "checksum": "cfcce60f49b472a82c675b54230b01a7",
     "grade": false,
     "grade_id": "abschnitt1-1-code",
     "locked": false,
     "schema_version": 3,
     "solution": true,
     "task": false
    }
   },
   "outputs": [],
   "source": [
    "fun String.anzahlZeichenarten(): Int{\n",
    "    // YOUR CODE HERE\n",
    "}\n",
    "\n",
    "fun String.anzahlKleinbuchstaben(): Int{\n",
    "    // YOUR CODE HERE\n",
    "}\n",
    "\n",
    "fun String.anzahlGrossbuchstaben(): Int{\n",
    "    // YOUR CODE HERE\n",
    "}\n",
    "\n",
    "fun String.anzahlZahlen(): Int{\n",
    "    // YOUR CODE HERE\n",
    "}\n",
    "\n",
    "fun String.anzahlSonderzeichen(): Int{\n",
    "    // YOUR CODE HERE\n",
    "}"
   ]
  },
  {
   "cell_type": "code",
   "execution_count": null,
   "id": "stuck-vienna",
   "metadata": {
    "deletable": false,
    "editable": false,
    "execution": {
     "iopub.execute_input": "2021-04-12T11:05+0200",
     "iopub.status.busy": "2021-04-12T11:05+0200",
     "iopub.status.idle": "2021-04-12T11:05+0200",
     "shell.execute_reply": "2021-04-12T11:05+0200",
     "shell.execute_reply.started": "2021-04-12T11:05+0200"
    },
    "nbgrader": {
     "cell_type": "code",
     "checksum": "15d4fb6c323ac4e0d1f934d49451299f",
     "grade": true,
     "grade_id": "abschnitt1-1-test1",
     "locked": true,
     "points": 10,
     "schema_version": 3,
     "solution": false,
     "task": false
    }
   },
   "outputs": [],
   "source": [
    "//Test von anzahlZeichenarten\n",
    "val pwTests = mapOf(\"\" to 0, \"aaaaa\" to 1, \"a2\" to 2, \"D#\" to 2, \"#1\" to 2, \"aB+\" to 3, \"aaBDA2834\" to 3, \"adhGDUWahduWe\" to 2, \"234#34#123+34Hca\" to 4)\n",
    "for((pw, anzahl) in pwTests){\n",
    "    if(pw.anzahlZeichenarten() != anzahl){\n",
    "        throw AssertionError(\"wrong\")\n",
    "    }\n",
    "}"
   ]
  },
  {
   "cell_type": "code",
   "execution_count": null,
   "id": "e13baa61",
   "metadata": {
    "deletable": false,
    "editable": false,
    "nbgrader": {
     "cell_type": "code",
     "checksum": "4e159411e9cd2d43921e9d723742d707",
     "grade": true,
     "grade_id": "abschnitt1-1-test2",
     "locked": true,
     "points": 0,
     "schema_version": 3,
     "solution": false,
     "task": false
    }
   },
   "outputs": [],
   "source": [
    "//Test von anzahlZeichenarten\n",
    "val pwTests = mapOf(\"\" to 0, \"aaaaa\" to 1, \"a2\" to 2, \"D#\" to 2, \"#1\" to 2, \"aB+\" to 3, \"aaBDA2834\" to 3, \"adhGDUWahduWe\" to 2, \"234#34#123+34Hca\" to 4)\n",
    "for((pw, anzahl) in pwTests){\n",
    "    assert(pw.anzahlZeichenarten() == anzahl)\n",
    "}"
   ]
  },
  {
   "cell_type": "markdown",
   "id": "alternative-boating",
   "metadata": {},
   "source": [
    "## Passwortstärke\n",
    "Nun soll die Stärke des Passworts von 0 - 100 berechnet werden. Die Berechnung ist an [Passwordmeter](http://www.passwordmeter.com/) angelehnt. Folgende Attribute geben Punkte:\n",
    "\n",
    "<table style=\"font-size: 18px; width: 100%\">\n",
    "<thead>\n",
    "  <tr>\n",
    "    <th>Eigenschaft</th>\n",
    "    <th style=\"width: 20%; min-width: 100px\">Punkte</th>\n",
    "  </tr>\n",
    "</thead>\n",
    "<tbody>\n",
    "  <tr>\n",
    "    <td>Anzahl Zeichen insgesamt</td>\n",
    "    <td>+(n*4)</td>\n",
    "  </tr>\n",
    "  <tr>\n",
    "    <td>Anzahl Großbuchstaben</td>\n",
    "    <td>+((len-n)*2)</td>\n",
    "  </tr>\n",
    "  <tr>\n",
    "    <td>Anzahl Kleinbuchstaben</td>\n",
    "    <td>+((len-n)*2)</td>\n",
    "  </tr>\n",
    "  <tr>\n",
    "    <td>Anzahl Zahlen</td>\n",
    "    <td>+(n*4)</td>\n",
    "  </tr>\n",
    "  <tr>\n",
    "    <td>Anzahl Sonderzeichen</td>\n",
    "    <td>+(n*6)</td>\n",
    "  </tr>\n",
    "  <tr>\n",
    "    <td>Anzahl Zeichenarten (2-4)</td>\n",
    "    <td>+(n*3)</td>\n",
    "  </tr>\n",
    "  <tr>\n",
    "    <td>Nur 1 Zeichenart</td>\n",
    "    <td>-len</td>\n",
    "  </tr>\n",
    "  <tr>\n",
    "      <td>Wiederholende Zeichen (Bsp: \"<b>aaaa</b>\" n=4, \"<b>a</b>C<b>w</b>i3Wf<b>a</b>sd<b>aw</b>\" n=5)</td>\n",
    "    <td>-(n*3)</td>\n",
    "  </tr>\n",
    "</tbody>\n",
    "</table>\n",
    "\n",
    "Implementieren Sie eine Methode `passwortstaerke`, die das Passwort (als `String`) übergeben bekommt. Zurückgegeben soll die Stärke des Passworts, welche mit der obigen Tabelle berechnet werden soll. Der beste Wert ist 100, der Schlechteste 0."
   ]
  },
  {
   "cell_type": "code",
   "execution_count": null,
   "id": "broad-adapter",
   "metadata": {
    "deletable": false,
    "execution": {
     "iopub.execute_input": "2021-04-14T13:56+0200",
     "iopub.status.busy": "2021-04-14T13:56+0200",
     "iopub.status.idle": "2021-04-14T13:56+0200",
     "shell.execute_reply": "2021-04-14T13:56+0200"
    },
    "nbgrader": {
     "cell_type": "code",
     "checksum": "7ec31eac77218efec15da2fe46c83db1",
     "grade": false,
     "grade_id": "abschnitt1-2-code",
     "locked": false,
     "schema_version": 3,
     "solution": true,
     "task": false
    },
    "tags": []
   },
   "outputs": [],
   "source": [
    "\n",
    "fun passwortstaerke(pw: String) : Int{\n",
    "    // YOUR CODE HERE\n",
    "}\n"
   ]
  },
  {
   "cell_type": "code",
   "execution_count": null,
   "id": "peripheral-blues",
   "metadata": {
    "deletable": false,
    "editable": false,
    "execution": {
     "iopub.execute_input": "2021-04-14T13:56+0200",
     "iopub.status.busy": "2021-04-14T13:56+0200",
     "iopub.status.idle": "2021-04-14T13:56+0200",
     "shell.execute_reply": "2021-04-14T13:56+0200"
    },
    "nbgrader": {
     "cell_type": "code",
     "checksum": "894100672e012ea30a95ca8e98ba7059",
     "grade": true,
     "grade_id": "abschnitt1-2-test1",
     "locked": true,
     "points": 10,
     "schema_version": 3,
     "solution": false,
     "task": false
    },
    "tags": []
   },
   "outputs": [],
   "source": [
    "//Test von anzahlZeichenarten\n",
    "val pwTests = mapOf(\"\" to 0, \"aaaaa\" to 3, \"a2\" to 20, \"D#\" to 22, \"jdfVqed&213\" to 98, \"AAAaaa111\" to 54, \"aaBDA2834\" to 81, \"adhGDUWahduWe\" to 60, \"234#34#123+34Hca\" to 100)\n",
    "for((pw, staerke) in pwTests){\n",
    "    if(passwortstaerke(pw) != staerke){\n",
    "        throw AssertionError(\"wrong\")\n",
    "    }\n",
    "}"
   ]
  },
  {
   "cell_type": "code",
   "execution_count": null,
   "id": "4456b358",
   "metadata": {
    "deletable": false,
    "editable": false,
    "nbgrader": {
     "cell_type": "code",
     "checksum": "fc508231476cc161a23c500be622d8c1",
     "grade": true,
     "grade_id": "abschnitt1-2-test2",
     "locked": true,
     "points": 10,
     "schema_version": 3,
     "solution": false,
     "task": false
    }
   },
   "outputs": [],
   "source": [
    "//Test von anzahlZeichenarten\n",
    "val pwTests = mapOf(\"\" to 0, \"aaaaa\" to 3, \"a2\" to 20, \"D#\" to 22, \"jdfVqed&213\" to 98, \"AAAaaa111\" to 54, \"aaBDA2834\" to 81, \"adhGDUWahduWe\" to 60, \"234#34#123+34Hca\" to 100)\n",
    "for((pw, staerke) in pwTests){\n",
    "    assert(passwortstaerke(pw) == staerke)\n",
    "}"
   ]
  },
  {
   "cell_type": "markdown",
   "id": "competitive-teens",
   "metadata": {
    "deletable": false,
    "editable": false,
    "nbgrader": {
     "cell_type": "markdown",
     "checksum": "9c55b223e39ee700fa4d6e8e6a634a9e",
     "grade": false,
     "grade_id": "cell-0361f53f0c19b734",
     "locked": true,
     "schema_version": 3,
     "solution": false,
     "task": false
    }
   },
   "source": [
    "## Passwortgenerator\n",
    "\n",
    "Unter Verwendung der `passwordstaerke`-Methode soll nun mit Hilfe der [Brute-Force-Methode](https://de.wikipedia.org/wiki/Brute-Force-Methode) ein Passwort generiert werden. Implementieren Sie dazu eine Methode `passwortGenerieren`. Die Stärke des generierten Passworts soll eine bestimmte Stärke, die übergeben werde soll, übersteigen."
   ]
  },
  {
   "cell_type": "code",
   "execution_count": null,
   "id": "supreme-major",
   "metadata": {
    "deletable": false,
    "execution": {
     "iopub.execute_input": "2021-04-12T11:05+0200",
     "iopub.status.busy": "2021-04-12T11:05+0200",
     "iopub.status.idle": "2021-04-12T11:05+0200",
     "shell.execute_reply": "2021-04-12T11:05+0200",
     "shell.execute_reply.started": "2021-04-12T11:05+0200"
    },
    "nbgrader": {
     "cell_type": "code",
     "checksum": "2574a92816d84ee8e2bed8baad8892df",
     "grade": false,
     "grade_id": "abschnitt1-3-code",
     "locked": false,
     "schema_version": 3,
     "solution": true,
     "task": false
    },
    "tags": []
   },
   "outputs": [],
   "source": [
    "fun passwortGenerieren(staerke : Int) : String{\n",
    "    // YOUR CODE HERE\n",
    "}\n"
   ]
  },
  {
   "cell_type": "code",
   "execution_count": null,
   "id": "requested-hypothesis",
   "metadata": {
    "deletable": false,
    "editable": false,
    "execution": {
     "iopub.execute_input": "2021-04-12T11:05+0200",
     "iopub.status.busy": "2021-04-12T11:05+0200",
     "iopub.status.idle": "2021-04-12T11:05+0200",
     "shell.execute_reply": "2021-04-12T11:05+0200",
     "shell.execute_reply.started": "2021-04-12T11:05+0200"
    },
    "nbgrader": {
     "cell_type": "code",
     "checksum": "82e68be40dd5ab63e518ff099490165e",
     "grade": true,
     "grade_id": "abschnitt1-3-test1",
     "locked": true,
     "points": 10,
     "schema_version": 3,
     "solution": false,
     "task": false
    }
   },
   "outputs": [],
   "source": [
    "//Test von passwortGenerieren\n",
    "for (i in 0..100 step 5){\n",
    "    val testPasswort = passwortGenerieren(i)\n",
    "    if (passwortstaerke(testPasswort) < i){\n",
    "        throw AssertionError(\"wrong\")\n",
    "    }\n",
    "}\n",
    "for (i in 0..5){\n",
    "    val testPasswort = passwortGenerieren(100)\n",
    "    if (passwortstaerke(testPasswort) < 100){\n",
    "        throw AssertionError(\"wrong\")\n",
    "    }\n",
    "}"
   ]
  },
  {
   "cell_type": "code",
   "execution_count": null,
   "id": "6eb951fb",
   "metadata": {
    "deletable": false,
    "editable": false,
    "nbgrader": {
     "cell_type": "code",
     "checksum": "1b7151d1f349a4c3c96c00e1ccc08d34",
     "grade": true,
     "grade_id": "abschnitt1-3-test2",
     "locked": true,
     "points": 10,
     "schema_version": 3,
     "solution": false,
     "task": false
    }
   },
   "outputs": [],
   "source": [
    "//Test von passwortGenerieren\n",
    "for (i in 0..100 step 5){\n",
    "    val testPasswort = passwortGenerieren(i)\n",
    "    assert(passwortstaerke(testPasswort) >= i)\n",
    "}\n",
    "for (i in 0..5){\n",
    "    val testPasswort = passwortGenerieren(100)\n",
    "    assert(passwortstaerke(testPasswort) == 100)\n",
    "}"
   ]
  },
  {
   "cell_type": "markdown",
   "id": "surgical-dylan",
   "metadata": {
    "deletable": false,
    "editable": false,
    "nbgrader": {
     "cell_type": "markdown",
     "checksum": "ed162dde5c43e6b8f9129f0772b03b95",
     "grade": false,
     "grade_id": "cell-9e40b0b76889a4b5",
     "locked": true,
     "schema_version": 3,
     "solution": false,
     "task": false
    }
   },
   "source": [
    "Nun soll die Passwortgenerierung erweitert werden. Implementieren Sie eine zusätzliche Methode `passwortGenerierenErweitert`, die zusätzlich zu der Mindeststärke auch die Anzahl der Zeichen jeder Art übergeben werden. Standardmäßig soll die Mindeststärke 75 und die Anzahl an Zeichen jeder Art 0 sein. Die Zeichen sollen an zufälligen Stellen im Passwort zu finden sein. Ist nach 200 Versuchen kein Passwort für die Mindeststärke mit der Kombination an Zeichen möglich, soll ein Fehler geworfen/ausgegeben werden.<br />\n",
    "Beispiel:<br />\n",
    "`passwortGenerierenErweitert(80,3,4,2,1)`: Generiert ein Passwort, das mindestens die Stärke 80, 3 Großbuchstaben, 4 Kleinbuchstaben, 2 Zahlen und 1 Sonderzeichen besitzt.<br />\n",
    "`passwortGenerierenErweitert(50,5,7)`: Generiert ein Passwort, das mindestens die Stärke 50, 5 Großbuchstaben, 7 Kleinbuchstaben, 0 Zahlen und 0 Sonderzeichen besitzt.<br />"
   ]
  },
  {
   "cell_type": "code",
   "execution_count": null,
   "id": "inside-discount",
   "metadata": {
    "deletable": false,
    "execution": {
     "iopub.execute_input": "2021-04-12T11:05+0200",
     "iopub.status.busy": "2021-04-12T11:05+0200",
     "iopub.status.idle": "2021-04-12T11:05+0200",
     "shell.execute_reply": "2021-04-12T11:05+0200",
     "shell.execute_reply.started": "2021-04-12T11:05+0200"
    },
    "nbgrader": {
     "cell_type": "code",
     "checksum": "3b173235bd900110c9313013b22c6a0b",
     "grade": false,
     "grade_id": "abschnitt1-4-code",
     "locked": false,
     "schema_version": 3,
     "solution": true,
     "task": false
    }
   },
   "outputs": [],
   "source": [
    "fun passwortGenerierenErweitert(staerke: Int = 75, vorGross: Int = 0, vorKlein: Int = 0, vorZahlen: Int = 0, vorSonder: Int = 0): String{\n",
    "    // YOUR CODE HERE\n",
    "}\n"
   ]
  },
  {
   "cell_type": "code",
   "execution_count": null,
   "id": "ceramic-cleaning",
   "metadata": {
    "deletable": false,
    "editable": false,
    "execution": {
     "iopub.execute_input": "2021-04-12T11:05+0200",
     "iopub.status.busy": "2021-04-12T11:05+0200",
     "iopub.status.idle": "2021-04-12T11:05+0200",
     "shell.execute_reply": "2021-04-12T11:05+0200",
     "shell.execute_reply.started": "2021-04-12T11:05+0200"
    },
    "nbgrader": {
     "cell_type": "code",
     "checksum": "5b5385bd00a1c8fdb07251505dce46fd",
     "grade": true,
     "grade_id": "abschnitt1-4-test",
     "locked": true,
     "points": 10,
     "schema_version": 3,
     "solution": false,
     "task": false
    }
   },
   "outputs": [],
   "source": [
    "//Test von passwortGenerieren mit erweiterten Parametern\n",
    "for(i in 0..49){\n",
    "    val staerke = (0..100).random()\n",
    "    val gross = (0..6).random()\n",
    "    val klein = (0..6).random()\n",
    "    val zahlen = (0..6).random()\n",
    "    val sonder = (0..6).random()\n",
    "    val testPasswort = passwortGenerierenErweitert(staerke, gross, klein, zahlen, sonder)\n",
    "    if (\n",
    "        (testPasswort.anzahlGrossbuchstaben() != gross || testPasswort.anzahlKleinbuchstaben() != klein ||\n",
    "        testPasswort.anzahlZahlen() != zahlen || testPasswort.anzahlSonderzeichen() != sonder ||\n",
    "        passwortstaerke(testPasswort) < staerke) && testPasswort != \"Fehler\"\n",
    "    ){\n",
    "        throw AssertionError(\"wrong\")\n",
    "    }\n",
    "    \n",
    "}\n",
    "for(i in 0..4){\n",
    "    val staerke = 100\n",
    "    val gross = (0..6).random()\n",
    "    val klein = (0..6).random()\n",
    "    val zahlen = (0..6).random()\n",
    "    val sonder = (0..6).random()\n",
    "    val testPasswort = passwortGenerierenErweitert(staerke, gross, klein, zahlen, sonder)\n",
    "    if (\n",
    "        (testPasswort.anzahlGrossbuchstaben() != gross || testPasswort.anzahlKleinbuchstaben() != klein ||\n",
    "        testPasswort.anzahlZahlen() != zahlen || testPasswort.anzahlSonderzeichen() != sonder ||\n",
    "        passwortstaerke(testPasswort) < staerke) && testPasswort != \"Fehler\"\n",
    "    ){\n",
    "        throw AssertionError(\"wrong\")\n",
    "    }\n",
    "}\n",
    "val testPasswort = passwortGenerierenErweitert(10, 5, 2)\n",
    "if (\n",
    "    (testPasswort.anzahlGrossbuchstaben() != 5 || testPasswort.anzahlKleinbuchstaben() != 2 ||\n",
    "    testPasswort.anzahlZahlen() != 0 || testPasswort.anzahlSonderzeichen() != 0 ||\n",
    "    passwortstaerke(testPasswort) < 10) && testPasswort != \"Fehler\"\n",
    "){\n",
    "    throw AssertionError(\"wrong\")\n",
    "}"
   ]
  },
  {
   "cell_type": "code",
   "execution_count": null,
   "id": "48b33c75",
   "metadata": {},
   "outputs": [],
   "source": []
  }
 ],
 "metadata": {
  "kernelspec": {
   "display_name": "Kotlin",
   "language": "kotlin",
   "name": "kotlin"
  },
  "language_info": {
   "codemirror_mode": "text/x-kotlin",
   "file_extension": ".kt",
   "mimetype": "text/x-kotlin",
   "name": "kotlin",
   "nbconvert_exporter": "",
   "pygments_lexer": "kotlin",
   "version": "1.5.20-dev-5817"
  }
 },
 "nbformat": 4,
 "nbformat_minor": 5
}
