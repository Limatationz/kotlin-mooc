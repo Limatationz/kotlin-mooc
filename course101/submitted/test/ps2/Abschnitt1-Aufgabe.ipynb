{
 "cells": [
  {
   "cell_type": "markdown",
   "id": "periodic-casino",
   "metadata": {
    "deletable": false,
    "editable": false,
    "nbgrader": {
     "cell_type": "markdown",
     "checksum": "30d8ceb53abc215d29cd7a551b63a733",
     "grade": false,
     "grade_id": "aufgabe1-einfuehrung",
     "locked": true,
     "schema_version": 3,
     "solution": false,
     "task": false
    }
   },
   "source": [
    "# Einführung\n",
    "\n",
    "Jeder Abschnitt wird von einer größeren Übungsaufgabe begleitet. Während in den Abschnitten 1-3 die Übungen mit Jupyter erledigt werden könne, wird in den Abschnitten 4 & 5 mit Android Studio gearbeitet (näheres dazu folgt in Abschnitt 4). In den ersten 3 Übungen wird ein seperates Notebook angeboten, das Sie runterladen und bearbeiten sollen. Eine Bearbeitung der Übungsaufgaben ist für das Abschlusszertifikat nötig. In der Aufgabenbeschreibung wird angegeben, wie die zu implementierenden Methoden oder Klassen benannt werden sollen. Bitte halten Sie sich an diese Vorgaben, da nur so die Tests, mit denen Sie Ihren Code ausprobieren können, funktionieren.\n",
    "\n",
    "\n",
    "# Aufgabe - Passwörter\n",
    "\n",
    "Heutzutage ist es immer wichtiger sichere Passwörter zu benutzen. Ob es der Zugang zum Online-Banking oder das Passwort für Netflix ist. Ein fremder Zugang kann einen großen Schaden verursachen. Deswegen soll im Folgenden ein Passwortgenerator und -validator programmiert werden, der sichere Passwörter erkennt und auch vorschlägt.<br />\n",
    "Ein Passwort ist in dieser Aufgabe als \"sicher\" anzusehen, wenn es die [Standards des BSI](https://www.bsi.bund.de/DE/Themen/Verbraucherinnen-und-Verbraucher/Informationen-und-Empfehlungen/Cyber-Sicherheitsempfehlungen/Accountschutz/Sichere-Passwoerter-erstellen/sichere-passwoerter-erstellen_node.htmlhttps://www.bsi.bund.de/DE/Themen/Verbraucherinnen-und-Verbraucher/Informationen-und-Empfehlungen/Cyber-Sicherheitsempfehlungen/Accountschutz/Sichere-Passwoerter-erstellen/sichere-passwoerter-erstellen_node.html) erfüllt:\n",
    "- 20 bis 25 Zeichen lang und zwei Zeichenarten genutzt (beispielsweise eine Folge von Wörtern).\n",
    "- 8 bis 12 Zeichen lang und vier Zeichenarten genutzt. \n",
    "- 8 Zeichen lang, drei Zeichenarten genutzt und es zusätzlich durch eine Mehr-Faktor-Authentisierung abgesichert (beispielsweise durch einen Fingerabdruck, eine Bestätigung per App oder eine PIN).\n",
    "\n",
    "Der dritten Stichpunkt soll im Folgenden ignoriert werden, da eine Mehr-Faktor-Authentisierung die Aufgabe übersteigen würde. Es soll sich auf die ersten beiden Stichpunkte fokussiert werden.\n",
    "\n",
    "Die 4 Zeichenarten sind:\n",
    "- Großbuchstaben\n",
    "- Kleinbuchstaben\n",
    "- Zahlen\n",
    "- Sonderzeichen (zur Vereinfachnung nur `@`, `/`, `#`, `+`, `-`, `*`, `!`, `?`, `&`)\n",
    "\n",
    "## Anzahl der Zeichenarten\n",
    "Implementieren Sie als Vorbereitung auf die eigentliche Aufgabe Erweiterungsmethoden für die Klasse `String`.\n",
    "- `anzahlKleinbuchstaben`: gibt die Anzahl an Kleinbuchstaben zurück\n",
    "- `anzahlGrossbuchstaben`: gibt die Anzahl an Großbuchstaben zurück\n",
    "- `anzahlZahlen`: gibt die Anzahl an Zahlen zurück\n",
    "- `anzahlSonderzeichen`: gibt die Anzahl der Sonderzeichen zurück\n",
    "- `anzahlZeichenarten`: gibt die Anzahl der Zeichenarten zurück"
   ]
  },
  {
   "cell_type": "code",
   "execution_count": 1,
   "id": "constitutional-sharp",
   "metadata": {
    "deletable": false,
    "execution": {
     "iopub.execute_input": "2021-04-12T11:05+0200",
     "iopub.status.busy": "2021-04-12T11:05+0200",
     "iopub.status.idle": "2021-04-12T11:05+0200",
     "shell.execute_reply": "2021-04-12T11:05+0200",
     "shell.execute_reply.started": "2021-04-12T11:05+0200"
    },
    "nbgrader": {
     "cell_type": "code",
     "checksum": "94e77a0bb10a248d4bd57c3ede5d993b",
     "grade": false,
     "grade_id": "abschnitt1-1-code",
     "locked": false,
     "schema_version": 3,
     "solution": true,
     "task": false
    }
   },
   "outputs": [],
   "source": [
    "fun String.anzahlZeichenarten(): Int{\n",
    "    var counter = 0\n",
    "    if (this.anzahlGrossbuchstaben() > 0) \n",
    "        counter++\n",
    "    if (this.anzahlKleinbuchstaben() > 0) \n",
    "        counter++\n",
    "    if (this.anzahlZahlen() > 0) \n",
    "        counter++\n",
    "    if (this.anzahlSonderzeichen() > 0) \n",
    "        counter++\n",
    "    return counter\n",
    "}\n",
    "\n",
    "fun String.anzahlKleinbuchstaben(): Int{\n",
    "    var counter = 0\n",
    "    for(char in this){\n",
    "        if (char in 'a'..'z'){\n",
    "            counter++\n",
    "        }\n",
    "    }\n",
    "    return counter\n",
    "}\n",
    "\n",
    "fun String.anzahlGrossbuchstaben(): Int{\n",
    "    var counter = 0\n",
    "    for(char in this){\n",
    "        if (char in 'A'..'Z'){\n",
    "            counter++\n",
    "        }\n",
    "    }\n",
    "    return counter\n",
    "}\n",
    "\n",
    "fun String.anzahlZahlen(): Int{\n",
    "    var counter = 0\n",
    "    for(char in this){\n",
    "        if (char in '0'..'9'){\n",
    "            counter++\n",
    "        }\n",
    "    }\n",
    "    return counter\n",
    "}\n",
    "\n",
    "fun String.anzahlSonderzeichen(): Int{\n",
    "    val sonderzeichen = listOf('@', '/', '#', '+', '-', '*', '!', '?', '&')\n",
    "    var counter = 0\n",
    "    for(char in this){\n",
    "        if (char in sonderzeichen){\n",
    "            counter++\n",
    "        }\n",
    "    }\n",
    "    return counter\n",
    "}"
   ]
  },
  {
   "cell_type": "code",
   "execution_count": 2,
   "id": "stuck-vienna",
   "metadata": {
    "deletable": false,
    "editable": false,
    "execution": {
     "iopub.execute_input": "2021-04-12T11:05+0200",
     "iopub.status.busy": "2021-04-12T11:05+0200",
     "iopub.status.idle": "2021-04-12T11:05+0200",
     "shell.execute_reply": "2021-04-12T11:05+0200",
     "shell.execute_reply.started": "2021-04-12T11:05+0200"
    },
    "nbgrader": {
     "cell_type": "code",
     "checksum": "15d4fb6c323ac4e0d1f934d49451299f",
     "grade": true,
     "grade_id": "abschnitt1-1-test1",
     "locked": true,
     "points": 10,
     "schema_version": 3,
     "solution": false,
     "task": false
    }
   },
   "outputs": [],
   "source": [
    "//Test von anzahlZeichenarten\n",
    "val pwTests = mapOf(\"\" to 0, \"aaaaa\" to 1, \"a2\" to 2, \"D#\" to 2, \"#1\" to 2, \"aB+\" to 3, \"aaBDA2834\" to 3, \"adhGDUWahduWe\" to 2, \"234#34#123+34Hca\" to 4)\n",
    "for((pw, anzahl) in pwTests){\n",
    "    if(pw.anzahlZeichenarten() != anzahl){\n",
    "        throw AssertionError(\"wrong\")\n",
    "    }\n",
    "}"
   ]
  },
  {
   "cell_type": "code",
   "execution_count": 3,
   "id": "e13baa61",
   "metadata": {
    "deletable": false,
    "editable": false,
    "nbgrader": {
     "cell_type": "code",
     "checksum": "4e159411e9cd2d43921e9d723742d707",
     "grade": true,
     "grade_id": "abschnitt1-1-test2",
     "locked": true,
     "points": 0,
     "schema_version": 3,
     "solution": false,
     "task": false
    }
   },
   "outputs": [],
   "source": [
    "//Test von anzahlZeichenarten\n",
    "val pwTests = mapOf(\"\" to 0, \"aaaaa\" to 1, \"a2\" to 2, \"D#\" to 2, \"#1\" to 2, \"aB+\" to 3, \"aaBDA2834\" to 3, \"adhGDUWahduWe\" to 2, \"234#34#123+34Hca\" to 4)\n",
    "for((pw, anzahl) in pwTests){\n",
    "    assert(pw.anzahlZeichenarten() == anzahl)\n",
    "}"
   ]
  },
  {
   "cell_type": "markdown",
   "id": "alternative-boating",
   "metadata": {},
   "source": [
    "## Passwortstärke\n",
    "Nun soll die Stärke des Passworts von 0 - 100 berechnet werden. Die Berechnung ist an [Passwordmeter](http://www.passwordmeter.com/) angelehnt. Folgende Attribute geben Punkte:\n",
    "\n",
    "<table style=\"font-size: 18px; width: 100%\">\n",
    "<thead>\n",
    "  <tr>\n",
    "    <th>Eigenschaft</th>\n",
    "    <th style=\"width: 20%; min-width: 100px\">Punkte</th>\n",
    "  </tr>\n",
    "</thead>\n",
    "<tbody>\n",
    "  <tr>\n",
    "    <td>Anzahl Zeichen insgesamt</td>\n",
    "    <td>+(n*4)</td>\n",
    "  </tr>\n",
    "  <tr>\n",
    "    <td>Anzahl Großbuchstaben</td>\n",
    "    <td>+((len-n)*2)</td>\n",
    "  </tr>\n",
    "  <tr>\n",
    "    <td>Anzahl Kleinbuchstaben</td>\n",
    "    <td>+((len-n)*2)</td>\n",
    "  </tr>\n",
    "  <tr>\n",
    "    <td>Anzahl Zahlen</td>\n",
    "    <td>+(n*4)</td>\n",
    "  </tr>\n",
    "  <tr>\n",
    "    <td>Anzahl Sonderzeichen</td>\n",
    "    <td>+(n*6)</td>\n",
    "  </tr>\n",
    "  <tr>\n",
    "    <td>Anzahl Zeichenarten (2-4)</td>\n",
    "    <td>+(n*3)</td>\n",
    "  </tr>\n",
    "  <tr>\n",
    "    <td>Nur 1 Zeichenart</td>\n",
    "    <td>-len</td>\n",
    "  </tr>\n",
    "  <tr>\n",
    "      <td>Wiederholende Zeichen (Bsp: \"<b>aaaa</b>\" n=4, \"<b>a</b>C<b>w</b>i3Wf<b>a</b>sd<b>aw</b>\" n=5)</td>\n",
    "    <td>-(n*3)</td>\n",
    "  </tr>\n",
    "</tbody>\n",
    "</table>\n",
    "\n",
    "Implementieren Sie eine Methode `passwortstaerke`, die das Passwort (als `String`) übergeben bekommt. Zurückgegeben soll die Stärke des Passworts, welche mit der obigen Tabelle berechnet werden soll. Der beste Wert ist 100, der Schlechteste 0."
   ]
  },
  {
   "cell_type": "code",
   "execution_count": 18,
   "id": "broad-adapter",
   "metadata": {
    "deletable": false,
    "execution": {
     "iopub.execute_input": "2021-04-14T13:56+0200",
     "iopub.status.busy": "2021-04-14T13:56+0200",
     "iopub.status.idle": "2021-04-14T13:56+0200",
     "shell.execute_reply": "2021-04-14T13:56+0200"
    },
    "nbgrader": {
     "cell_type": "code",
     "checksum": "259ff1233fc6e5e524b6880c0b0d9b55",
     "grade": false,
     "grade_id": "abschnitt1-2-code",
     "locked": false,
     "schema_version": 3,
     "solution": true,
     "task": false
    },
    "tags": []
   },
   "outputs": [],
   "source": [
    "\n",
    "fun passwortstaerke(pw: String) : Int{\n",
    "    return 1\n",
    "}\n"
   ]
  },
  {
   "cell_type": "code",
   "execution_count": 19,
   "id": "peripheral-blues",
   "metadata": {
    "deletable": false,
    "editable": false,
    "execution": {
     "iopub.execute_input": "2021-04-14T13:56+0200",
     "iopub.status.busy": "2021-04-14T13:56+0200",
     "iopub.status.idle": "2021-04-14T13:56+0200",
     "shell.execute_reply": "2021-04-14T13:56+0200"
    },
    "nbgrader": {
     "cell_type": "code",
     "checksum": "894100672e012ea30a95ca8e98ba7059",
     "grade": true,
     "grade_id": "abschnitt1-2-test1",
     "locked": true,
     "points": 10,
     "schema_version": 3,
     "solution": false,
     "task": false
    },
    "tags": []
   },
   "outputs": [
    {
     "name": "stderr",
     "output_type": "stream",
     "text": [
      "wrong\n",
      "java.lang.AssertionError: wrong\n",
      "org.jetbrains.kotlinx.jupyter.ReplEvalRuntimeException: wrong\n",
      "\tat org.jetbrains.kotlinx.jupyter.repl.impl.InternalEvaluatorImpl.eval(InternalEvaluatorImpl.kt:91)\n",
      "\tat org.jetbrains.kotlinx.jupyter.repl.impl.CellExecutorImpl$execute$1$result$1.invoke(CellExecutorImpl.kt:63)\n",
      "\tat org.jetbrains.kotlinx.jupyter.repl.impl.CellExecutorImpl$execute$1$result$1.invoke(CellExecutorImpl.kt:62)\n",
      "\tat org.jetbrains.kotlinx.jupyter.ReplForJupyterImpl.withHost(repl.kt:536)\n",
      "\tat org.jetbrains.kotlinx.jupyter.repl.impl.CellExecutorImpl.execute(CellExecutorImpl.kt:62)\n",
      "\tat org.jetbrains.kotlinx.jupyter.repl.CellExecutor$DefaultImpls.execute$default(CellExecutor.kt:13)\n",
      "\tat org.jetbrains.kotlinx.jupyter.ReplForJupyterImpl$eval$1.invoke(repl.kt:371)\n",
      "\tat org.jetbrains.kotlinx.jupyter.ReplForJupyterImpl$eval$1.invoke(repl.kt:361)\n",
      "\tat org.jetbrains.kotlinx.jupyter.ReplForJupyterImpl.withEvalContext(repl.kt:346)\n",
      "\tat org.jetbrains.kotlinx.jupyter.ReplForJupyterImpl.eval(repl.kt:361)\n",
      "\tat org.jetbrains.kotlinx.jupyter.ProtocolKt$shellMessagesHandler$res$1.invoke(protocol.kt:291)\n",
      "\tat org.jetbrains.kotlinx.jupyter.ProtocolKt$shellMessagesHandler$res$1.invoke(protocol.kt:290)\n",
      "\tat org.jetbrains.kotlinx.jupyter.JupyterConnection$runExecution$execThread$1.invoke(connection.kt:162)\n",
      "\tat org.jetbrains.kotlinx.jupyter.JupyterConnection$runExecution$execThread$1.invoke(connection.kt:160)\n",
      "\tat kotlin.concurrent.ThreadsKt$thread$thread$1.run(Thread.kt:30)\n",
      "Caused by: java.lang.AssertionError: wrong\n",
      "\tat Line_44.<init>(Line_44.jupyter-kts:5)\n",
      "\tat java.base/jdk.internal.reflect.NativeConstructorAccessorImpl.newInstance0(Native Method)\n",
      "\tat java.base/jdk.internal.reflect.NativeConstructorAccessorImpl.newInstance(NativeConstructorAccessorImpl.java:64)\n",
      "\tat java.base/jdk.internal.reflect.DelegatingConstructorAccessorImpl.newInstance(DelegatingConstructorAccessorImpl.java:45)\n",
      "\tat java.base/java.lang.reflect.Constructor.newInstanceWithCaller(Constructor.java:500)\n",
      "\tat java.base/java.lang.reflect.Constructor.newInstance(Constructor.java:481)\n",
      "\tat kotlin.script.experimental.jvm.BasicJvmScriptEvaluator.evalWithConfigAndOtherScriptsResults(BasicJvmScriptEvaluator.kt:96)\n",
      "\tat kotlin.script.experimental.jvm.BasicJvmScriptEvaluator.invoke$suspendImpl(BasicJvmScriptEvaluator.kt:41)\n",
      "\tat kotlin.script.experimental.jvm.BasicJvmScriptEvaluator.invoke(BasicJvmScriptEvaluator.kt)\n",
      "\tat kotlin.script.experimental.jvm.BasicJvmReplEvaluator.eval(BasicJvmReplEvaluator.kt:51)\n",
      "\tat org.jetbrains.kotlinx.jupyter.repl.impl.InternalEvaluatorImpl$eval$resultWithDiagnostics$1.invokeSuspend(InternalEvaluatorImpl.kt:84)\n",
      "\tat kotlin.coroutines.jvm.internal.BaseContinuationImpl.resumeWith(ContinuationImpl.kt:33)\n",
      "\tat kotlinx.coroutines.DispatchedTask.run(DispatchedTask.kt:106)\n",
      "\tat kotlinx.coroutines.EventLoopImplBase.processNextEvent(EventLoop.common.kt:274)\n",
      "\tat kotlinx.coroutines.BlockingCoroutine.joinBlocking(Builders.kt:84)\n",
      "\tat kotlinx.coroutines.BuildersKt__BuildersKt.runBlocking(Builders.kt:59)\n",
      "\tat kotlinx.coroutines.BuildersKt.runBlocking(Unknown Source)\n",
      "\tat kotlinx.coroutines.BuildersKt__BuildersKt.runBlocking$default(Builders.kt:38)\n",
      "\tat kotlinx.coroutines.BuildersKt.runBlocking$default(Unknown Source)\n",
      "\tat org.jetbrains.kotlinx.jupyter.repl.impl.InternalEvaluatorImpl.eval(InternalEvaluatorImpl.kt:84)\n",
      "\t... 14 more\n",
      "\n"
     ]
    }
   ],
   "source": [
    "//Test von anzahlZeichenarten\n",
    "val pwTests = mapOf(\"\" to 0, \"aaaaa\" to 3, \"a2\" to 20, \"D#\" to 22, \"jdfVqed&213\" to 98, \"AAAaaa111\" to 54, \"aaBDA2834\" to 81, \"adhGDUWahduWe\" to 60, \"234#34#123+34Hca\" to 100)\n",
    "for((pw, staerke) in pwTests){\n",
    "    if(passwortstaerke(pw) != staerke){\n",
    "        throw AssertionError(\"wrong\")\n",
    "    }\n",
    "}"
   ]
  },
  {
   "cell_type": "code",
   "execution_count": 20,
   "id": "4456b358",
   "metadata": {
    "deletable": false,
    "editable": false,
    "nbgrader": {
     "cell_type": "code",
     "checksum": "fc508231476cc161a23c500be622d8c1",
     "grade": true,
     "grade_id": "abschnitt1-2-test2",
     "locked": true,
     "points": 10,
     "schema_version": 3,
     "solution": false,
     "task": false
    }
   },
   "outputs": [],
   "source": [
    "//Test von anzahlZeichenarten\n",
    "val pwTests = mapOf(\"\" to 0, \"aaaaa\" to 3, \"a2\" to 20, \"D#\" to 22, \"jdfVqed&213\" to 98, \"AAAaaa111\" to 54, \"aaBDA2834\" to 81, \"adhGDUWahduWe\" to 60, \"234#34#123+34Hca\" to 100)\n",
    "for((pw, staerke) in pwTests){\n",
    "    assert(passwortstaerke(pw) == staerke)\n",
    "}"
   ]
  },
  {
   "cell_type": "markdown",
   "id": "competitive-teens",
   "metadata": {
    "deletable": false,
    "editable": false,
    "nbgrader": {
     "cell_type": "markdown",
     "checksum": "9c55b223e39ee700fa4d6e8e6a634a9e",
     "grade": false,
     "grade_id": "cell-0361f53f0c19b734",
     "locked": true,
     "schema_version": 3,
     "solution": false,
     "task": false
    }
   },
   "source": [
    "## Passwortgenerator\n",
    "\n",
    "Unter Verwendung der `passwordstaerke`-Methode soll nun mit Hilfe der [Brute-Force-Methode](https://de.wikipedia.org/wiki/Brute-Force-Methode) ein Passwort generiert werden. Implementieren Sie dazu eine Methode `passwortGenerieren`. Die Stärke des generierten Passworts soll eine bestimmte Stärke, die übergeben werde soll, übersteigen."
   ]
  },
  {
   "cell_type": "code",
   "execution_count": 21,
   "id": "supreme-major",
   "metadata": {
    "deletable": false,
    "execution": {
     "iopub.execute_input": "2021-04-12T11:05+0200",
     "iopub.status.busy": "2021-04-12T11:05+0200",
     "iopub.status.idle": "2021-04-12T11:05+0200",
     "shell.execute_reply": "2021-04-12T11:05+0200",
     "shell.execute_reply.started": "2021-04-12T11:05+0200"
    },
    "nbgrader": {
     "cell_type": "code",
     "checksum": "4b3873cdba3ca494adcd42b8fb0035a9",
     "grade": false,
     "grade_id": "abschnitt1-3-code",
     "locked": false,
     "schema_version": 3,
     "solution": true,
     "task": false
    },
    "tags": []
   },
   "outputs": [],
   "source": [
    "fun passwortGenerieren(staerke : Int) : String{\n",
    "    return \"q\"\n",
    "}\n"
   ]
  },
  {
   "cell_type": "code",
   "execution_count": 22,
   "id": "requested-hypothesis",
   "metadata": {
    "deletable": false,
    "editable": false,
    "execution": {
     "iopub.execute_input": "2021-04-12T11:05+0200",
     "iopub.status.busy": "2021-04-12T11:05+0200",
     "iopub.status.idle": "2021-04-12T11:05+0200",
     "shell.execute_reply": "2021-04-12T11:05+0200",
     "shell.execute_reply.started": "2021-04-12T11:05+0200"
    },
    "nbgrader": {
     "cell_type": "code",
     "checksum": "35997488c3a23abd72ba95e89018772b",
     "grade": true,
     "grade_id": "abschnitt1-3-test1",
     "locked": true,
     "points": 10,
     "schema_version": 3,
     "solution": false,
     "task": false
    }
   },
   "outputs": [
    {
     "name": "stderr",
     "output_type": "stream",
     "text": [
      "\n",
      "java.lang.AssertionError\n",
      "org.jetbrains.kotlinx.jupyter.ReplEvalRuntimeException: \n",
      "\tat org.jetbrains.kotlinx.jupyter.repl.impl.InternalEvaluatorImpl.eval(InternalEvaluatorImpl.kt:91)\n",
      "\tat org.jetbrains.kotlinx.jupyter.repl.impl.CellExecutorImpl$execute$1$result$1.invoke(CellExecutorImpl.kt:63)\n",
      "\tat org.jetbrains.kotlinx.jupyter.repl.impl.CellExecutorImpl$execute$1$result$1.invoke(CellExecutorImpl.kt:62)\n",
      "\tat org.jetbrains.kotlinx.jupyter.ReplForJupyterImpl.withHost(repl.kt:536)\n",
      "\tat org.jetbrains.kotlinx.jupyter.repl.impl.CellExecutorImpl.execute(CellExecutorImpl.kt:62)\n",
      "\tat org.jetbrains.kotlinx.jupyter.repl.CellExecutor$DefaultImpls.execute$default(CellExecutor.kt:13)\n",
      "\tat org.jetbrains.kotlinx.jupyter.ReplForJupyterImpl$eval$1.invoke(repl.kt:371)\n",
      "\tat org.jetbrains.kotlinx.jupyter.ReplForJupyterImpl$eval$1.invoke(repl.kt:361)\n",
      "\tat org.jetbrains.kotlinx.jupyter.ReplForJupyterImpl.withEvalContext(repl.kt:346)\n",
      "\tat org.jetbrains.kotlinx.jupyter.ReplForJupyterImpl.eval(repl.kt:361)\n",
      "\tat org.jetbrains.kotlinx.jupyter.ProtocolKt$shellMessagesHandler$res$1.invoke(protocol.kt:291)\n",
      "\tat org.jetbrains.kotlinx.jupyter.ProtocolKt$shellMessagesHandler$res$1.invoke(protocol.kt:290)\n",
      "\tat org.jetbrains.kotlinx.jupyter.JupyterConnection$runExecution$execThread$1.invoke(connection.kt:162)\n",
      "\tat org.jetbrains.kotlinx.jupyter.JupyterConnection$runExecution$execThread$1.invoke(connection.kt:160)\n",
      "\tat kotlin.concurrent.ThreadsKt$thread$thread$1.run(Thread.kt:30)\n",
      "Caused by: java.lang.AssertionError\n",
      "\tat Line_47.<init>(Line_47.jupyter-kts:5)\n",
      "\tat java.base/jdk.internal.reflect.NativeConstructorAccessorImpl.newInstance0(Native Method)\n",
      "\tat java.base/jdk.internal.reflect.NativeConstructorAccessorImpl.newInstance(NativeConstructorAccessorImpl.java:64)\n",
      "\tat java.base/jdk.internal.reflect.DelegatingConstructorAccessorImpl.newInstance(DelegatingConstructorAccessorImpl.java:45)\n",
      "\tat java.base/java.lang.reflect.Constructor.newInstanceWithCaller(Constructor.java:500)\n",
      "\tat java.base/java.lang.reflect.Constructor.newInstance(Constructor.java:481)\n",
      "\tat kotlin.script.experimental.jvm.BasicJvmScriptEvaluator.evalWithConfigAndOtherScriptsResults(BasicJvmScriptEvaluator.kt:96)\n",
      "\tat kotlin.script.experimental.jvm.BasicJvmScriptEvaluator.invoke$suspendImpl(BasicJvmScriptEvaluator.kt:41)\n",
      "\tat kotlin.script.experimental.jvm.BasicJvmScriptEvaluator.invoke(BasicJvmScriptEvaluator.kt)\n",
      "\tat kotlin.script.experimental.jvm.BasicJvmReplEvaluator.eval(BasicJvmReplEvaluator.kt:51)\n",
      "\tat org.jetbrains.kotlinx.jupyter.repl.impl.InternalEvaluatorImpl$eval$resultWithDiagnostics$1.invokeSuspend(InternalEvaluatorImpl.kt:84)\n",
      "\tat kotlin.coroutines.jvm.internal.BaseContinuationImpl.resumeWith(ContinuationImpl.kt:33)\n",
      "\tat kotlinx.coroutines.DispatchedTask.run(DispatchedTask.kt:106)\n",
      "\tat kotlinx.coroutines.EventLoopImplBase.processNextEvent(EventLoop.common.kt:274)\n",
      "\tat kotlinx.coroutines.BlockingCoroutine.joinBlocking(Builders.kt:84)\n",
      "\tat kotlinx.coroutines.BuildersKt__BuildersKt.runBlocking(Builders.kt:59)\n",
      "\tat kotlinx.coroutines.BuildersKt.runBlocking(Unknown Source)\n",
      "\tat kotlinx.coroutines.BuildersKt__BuildersKt.runBlocking$default(Builders.kt:38)\n",
      "\tat kotlinx.coroutines.BuildersKt.runBlocking$default(Unknown Source)\n",
      "\tat org.jetbrains.kotlinx.jupyter.repl.impl.InternalEvaluatorImpl.eval(InternalEvaluatorImpl.kt:84)\n",
      "\t... 14 more\n",
      "\n"
     ]
    }
   ],
   "source": [
    "//Test von passwortGenerieren\n",
    "for (i in 0..100 step 5){\n",
    "    val testPasswort = passwortGenerieren(i)\n",
    "    if (passwortstaerke(testPasswort) < i){\n",
    "        throw AssertionError()\n",
    "    }\n",
    "}\n",
    "for (i in 0..5){\n",
    "    val testPasswort = passwortGenerieren(100)\n",
    "    if (passwortstaerke(testPasswort) < 100){\n",
    "        throw AssertionError()\n",
    "    }\n",
    "}"
   ]
  },
  {
   "cell_type": "code",
   "execution_count": 23,
   "id": "6eb951fb",
   "metadata": {
    "deletable": false,
    "editable": false,
    "nbgrader": {
     "cell_type": "code",
     "checksum": "1b7151d1f349a4c3c96c00e1ccc08d34",
     "grade": true,
     "grade_id": "abschnitt1-3-test2",
     "locked": true,
     "points": 10,
     "schema_version": 3,
     "solution": false,
     "task": false
    }
   },
   "outputs": [],
   "source": [
    "//Test von passwortGenerieren\n",
    "for (i in 0..100 step 5){\n",
    "    val testPasswort = passwortGenerieren(i)\n",
    "    assert(passwortstaerke(testPasswort) >= i)\n",
    "}\n",
    "for (i in 0..5){\n",
    "    val testPasswort = passwortGenerieren(100)\n",
    "    assert(passwortstaerke(testPasswort) == 100)\n",
    "}"
   ]
  },
  {
   "cell_type": "code",
   "execution_count": 24,
   "id": "5e8d83bb",
   "metadata": {
    "deletable": false,
    "editable": false,
    "nbgrader": {
     "cell_type": "code",
     "checksum": "380d3eff9579059ef1643a35da60bfc2",
     "grade": true,
     "grade_id": "testtest",
     "locked": true,
     "points": 1,
     "schema_version": 3,
     "solution": false,
     "task": false
    }
   },
   "outputs": [
    {
     "name": "stderr",
     "output_type": "stream",
     "text": [
      "\n",
      "java.lang.AssertionError\n",
      "org.jetbrains.kotlinx.jupyter.ReplEvalRuntimeException: \n",
      "\tat org.jetbrains.kotlinx.jupyter.repl.impl.InternalEvaluatorImpl.eval(InternalEvaluatorImpl.kt:91)\n",
      "\tat org.jetbrains.kotlinx.jupyter.repl.impl.CellExecutorImpl$execute$1$result$1.invoke(CellExecutorImpl.kt:63)\n",
      "\tat org.jetbrains.kotlinx.jupyter.repl.impl.CellExecutorImpl$execute$1$result$1.invoke(CellExecutorImpl.kt:62)\n",
      "\tat org.jetbrains.kotlinx.jupyter.ReplForJupyterImpl.withHost(repl.kt:536)\n",
      "\tat org.jetbrains.kotlinx.jupyter.repl.impl.CellExecutorImpl.execute(CellExecutorImpl.kt:62)\n",
      "\tat org.jetbrains.kotlinx.jupyter.repl.CellExecutor$DefaultImpls.execute$default(CellExecutor.kt:13)\n",
      "\tat org.jetbrains.kotlinx.jupyter.ReplForJupyterImpl$eval$1.invoke(repl.kt:371)\n",
      "\tat org.jetbrains.kotlinx.jupyter.ReplForJupyterImpl$eval$1.invoke(repl.kt:361)\n",
      "\tat org.jetbrains.kotlinx.jupyter.ReplForJupyterImpl.withEvalContext(repl.kt:346)\n",
      "\tat org.jetbrains.kotlinx.jupyter.ReplForJupyterImpl.eval(repl.kt:361)\n",
      "\tat org.jetbrains.kotlinx.jupyter.ProtocolKt$shellMessagesHandler$res$1.invoke(protocol.kt:291)\n",
      "\tat org.jetbrains.kotlinx.jupyter.ProtocolKt$shellMessagesHandler$res$1.invoke(protocol.kt:290)\n",
      "\tat org.jetbrains.kotlinx.jupyter.JupyterConnection$runExecution$execThread$1.invoke(connection.kt:162)\n",
      "\tat org.jetbrains.kotlinx.jupyter.JupyterConnection$runExecution$execThread$1.invoke(connection.kt:160)\n",
      "\tat kotlin.concurrent.ThreadsKt$thread$thread$1.run(Thread.kt:30)\n",
      "Caused by: java.lang.AssertionError\n",
      "\tat Line_49.<init>(Line_49.jupyter-kts:1)\n",
      "\tat java.base/jdk.internal.reflect.NativeConstructorAccessorImpl.newInstance0(Native Method)\n",
      "\tat java.base/jdk.internal.reflect.NativeConstructorAccessorImpl.newInstance(NativeConstructorAccessorImpl.java:64)\n",
      "\tat java.base/jdk.internal.reflect.DelegatingConstructorAccessorImpl.newInstance(DelegatingConstructorAccessorImpl.java:45)\n",
      "\tat java.base/java.lang.reflect.Constructor.newInstanceWithCaller(Constructor.java:500)\n",
      "\tat java.base/java.lang.reflect.Constructor.newInstance(Constructor.java:481)\n",
      "\tat kotlin.script.experimental.jvm.BasicJvmScriptEvaluator.evalWithConfigAndOtherScriptsResults(BasicJvmScriptEvaluator.kt:96)\n",
      "\tat kotlin.script.experimental.jvm.BasicJvmScriptEvaluator.invoke$suspendImpl(BasicJvmScriptEvaluator.kt:41)\n",
      "\tat kotlin.script.experimental.jvm.BasicJvmScriptEvaluator.invoke(BasicJvmScriptEvaluator.kt)\n",
      "\tat kotlin.script.experimental.jvm.BasicJvmReplEvaluator.eval(BasicJvmReplEvaluator.kt:51)\n",
      "\tat org.jetbrains.kotlinx.jupyter.repl.impl.InternalEvaluatorImpl$eval$resultWithDiagnostics$1.invokeSuspend(InternalEvaluatorImpl.kt:84)\n",
      "\tat kotlin.coroutines.jvm.internal.BaseContinuationImpl.resumeWith(ContinuationImpl.kt:33)\n",
      "\tat kotlinx.coroutines.DispatchedTask.run(DispatchedTask.kt:106)\n",
      "\tat kotlinx.coroutines.EventLoopImplBase.processNextEvent(EventLoop.common.kt:274)\n",
      "\tat kotlinx.coroutines.BlockingCoroutine.joinBlocking(Builders.kt:84)\n",
      "\tat kotlinx.coroutines.BuildersKt__BuildersKt.runBlocking(Builders.kt:59)\n",
      "\tat kotlinx.coroutines.BuildersKt.runBlocking(Unknown Source)\n",
      "\tat kotlinx.coroutines.BuildersKt__BuildersKt.runBlocking$default(Builders.kt:38)\n",
      "\tat kotlinx.coroutines.BuildersKt.runBlocking$default(Unknown Source)\n",
      "\tat org.jetbrains.kotlinx.jupyter.repl.impl.InternalEvaluatorImpl.eval(InternalEvaluatorImpl.kt:84)\n",
      "\t... 14 more\n",
      "\n"
     ]
    }
   ],
   "source": [
    "throw AssertionError()"
   ]
  },
  {
   "cell_type": "markdown",
   "id": "surgical-dylan",
   "metadata": {
    "deletable": false,
    "editable": false,
    "nbgrader": {
     "cell_type": "markdown",
     "checksum": "ed162dde5c43e6b8f9129f0772b03b95",
     "grade": false,
     "grade_id": "cell-9e40b0b76889a4b5",
     "locked": true,
     "schema_version": 3,
     "solution": false,
     "task": false
    }
   },
   "source": [
    "Nun soll die Passwortgenerierung erweitert werden. Implementieren Sie eine zusätzliche Methode `passwortGenerierenErweitert`, die zusätzlich zu der Mindeststärke auch die Anzahl der Zeichen jeder Art übergeben werden. Standardmäßig soll die Mindeststärke 75 und die Anzahl an Zeichen jeder Art 0 sein. Die Zeichen sollen an zufälligen Stellen im Passwort zu finden sein. Ist nach 200 Versuchen kein Passwort für die Mindeststärke mit der Kombination an Zeichen möglich, soll ein Fehler geworfen/ausgegeben werden.<br />\n",
    "Beispiel:<br />\n",
    "`passwortGenerierenErweitert(80,3,4,2,1)`: Generiert ein Passwort, das mindestens die Stärke 80, 3 Großbuchstaben, 4 Kleinbuchstaben, 2 Zahlen und 1 Sonderzeichen besitzt.<br />\n",
    "`passwortGenerierenErweitert(50,5,7)`: Generiert ein Passwort, das mindestens die Stärke 50, 5 Großbuchstaben, 7 Kleinbuchstaben, 0 Zahlen und 0 Sonderzeichen besitzt.<br />"
   ]
  },
  {
   "cell_type": "code",
   "execution_count": 25,
   "id": "inside-discount",
   "metadata": {
    "deletable": false,
    "execution": {
     "iopub.execute_input": "2021-04-12T11:05+0200",
     "iopub.status.busy": "2021-04-12T11:05+0200",
     "iopub.status.idle": "2021-04-12T11:05+0200",
     "shell.execute_reply": "2021-04-12T11:05+0200",
     "shell.execute_reply.started": "2021-04-12T11:05+0200"
    },
    "nbgrader": {
     "cell_type": "code",
     "checksum": "8caa0e62607596c234f885dc6ba61fc6",
     "grade": false,
     "grade_id": "abschnitt1-4-code",
     "locked": false,
     "schema_version": 3,
     "solution": true,
     "task": false
    }
   },
   "outputs": [],
   "source": [
    "fun passwortGenerierenErweitert(staerke: Int = 75, vorGross: Int = 0, vorKlein: Int = 0, vorZahlen: Int = 0, vorSonder: Int = 0): String{\n",
    "    // YOUR CODE HERE\n",
    "    throw NotImplementedError()\n",
    "}\n"
   ]
  },
  {
   "cell_type": "code",
   "execution_count": 26,
   "id": "ceramic-cleaning",
   "metadata": {
    "deletable": false,
    "editable": false,
    "execution": {
     "iopub.execute_input": "2021-04-12T11:05+0200",
     "iopub.status.busy": "2021-04-12T11:05+0200",
     "iopub.status.idle": "2021-04-12T11:05+0200",
     "shell.execute_reply": "2021-04-12T11:05+0200",
     "shell.execute_reply.started": "2021-04-12T11:05+0200"
    },
    "nbgrader": {
     "cell_type": "code",
     "checksum": "3264f83efca27b4dce4be77f869498e1",
     "grade": true,
     "grade_id": "abschnitt1-4-test",
     "locked": true,
     "points": 10,
     "schema_version": 3,
     "solution": false,
     "task": false
    }
   },
   "outputs": [
    {
     "name": "stderr",
     "output_type": "stream",
     "text": [
      "An operation is not implemented.\n",
      "kotlin.NotImplementedError: An operation is not implemented.\n",
      "org.jetbrains.kotlinx.jupyter.ReplEvalRuntimeException: An operation is not implemented.\n",
      "\tat org.jetbrains.kotlinx.jupyter.repl.impl.InternalEvaluatorImpl.eval(InternalEvaluatorImpl.kt:91)\n",
      "\tat org.jetbrains.kotlinx.jupyter.repl.impl.CellExecutorImpl$execute$1$result$1.invoke(CellExecutorImpl.kt:63)\n",
      "\tat org.jetbrains.kotlinx.jupyter.repl.impl.CellExecutorImpl$execute$1$result$1.invoke(CellExecutorImpl.kt:62)\n",
      "\tat org.jetbrains.kotlinx.jupyter.ReplForJupyterImpl.withHost(repl.kt:536)\n",
      "\tat org.jetbrains.kotlinx.jupyter.repl.impl.CellExecutorImpl.execute(CellExecutorImpl.kt:62)\n",
      "\tat org.jetbrains.kotlinx.jupyter.repl.CellExecutor$DefaultImpls.execute$default(CellExecutor.kt:13)\n",
      "\tat org.jetbrains.kotlinx.jupyter.ReplForJupyterImpl$eval$1.invoke(repl.kt:371)\n",
      "\tat org.jetbrains.kotlinx.jupyter.ReplForJupyterImpl$eval$1.invoke(repl.kt:361)\n",
      "\tat org.jetbrains.kotlinx.jupyter.ReplForJupyterImpl.withEvalContext(repl.kt:346)\n",
      "\tat org.jetbrains.kotlinx.jupyter.ReplForJupyterImpl.eval(repl.kt:361)\n",
      "\tat org.jetbrains.kotlinx.jupyter.ProtocolKt$shellMessagesHandler$res$1.invoke(protocol.kt:291)\n",
      "\tat org.jetbrains.kotlinx.jupyter.ProtocolKt$shellMessagesHandler$res$1.invoke(protocol.kt:290)\n",
      "\tat org.jetbrains.kotlinx.jupyter.JupyterConnection$runExecution$execThread$1.invoke(connection.kt:162)\n",
      "\tat org.jetbrains.kotlinx.jupyter.JupyterConnection$runExecution$execThread$1.invoke(connection.kt:160)\n",
      "\tat kotlin.concurrent.ThreadsKt$thread$thread$1.run(Thread.kt:30)\n",
      "Caused by: kotlin.NotImplementedError: An operation is not implemented.\n",
      "\tat Line_50.passwortGenerierenErweitert(Line_50.jupyter-kts:3)\n",
      "\tat Line_51.<init>(Line_51.jupyter-kts:8)\n",
      "\tat java.base/jdk.internal.reflect.NativeConstructorAccessorImpl.newInstance0(Native Method)\n",
      "\tat java.base/jdk.internal.reflect.NativeConstructorAccessorImpl.newInstance(NativeConstructorAccessorImpl.java:64)\n",
      "\tat java.base/jdk.internal.reflect.DelegatingConstructorAccessorImpl.newInstance(DelegatingConstructorAccessorImpl.java:45)\n",
      "\tat java.base/java.lang.reflect.Constructor.newInstanceWithCaller(Constructor.java:500)\n",
      "\tat java.base/java.lang.reflect.Constructor.newInstance(Constructor.java:481)\n",
      "\tat kotlin.script.experimental.jvm.BasicJvmScriptEvaluator.evalWithConfigAndOtherScriptsResults(BasicJvmScriptEvaluator.kt:96)\n",
      "\tat kotlin.script.experimental.jvm.BasicJvmScriptEvaluator.invoke$suspendImpl(BasicJvmScriptEvaluator.kt:41)\n",
      "\tat kotlin.script.experimental.jvm.BasicJvmScriptEvaluator.invoke(BasicJvmScriptEvaluator.kt)\n",
      "\tat kotlin.script.experimental.jvm.BasicJvmReplEvaluator.eval(BasicJvmReplEvaluator.kt:51)\n",
      "\tat org.jetbrains.kotlinx.jupyter.repl.impl.InternalEvaluatorImpl$eval$resultWithDiagnostics$1.invokeSuspend(InternalEvaluatorImpl.kt:84)\n",
      "\tat kotlin.coroutines.jvm.internal.BaseContinuationImpl.resumeWith(ContinuationImpl.kt:33)\n",
      "\tat kotlinx.coroutines.DispatchedTask.run(DispatchedTask.kt:106)\n",
      "\tat kotlinx.coroutines.EventLoopImplBase.processNextEvent(EventLoop.common.kt:274)\n",
      "\tat kotlinx.coroutines.BlockingCoroutine.joinBlocking(Builders.kt:84)\n",
      "\tat kotlinx.coroutines.BuildersKt__BuildersKt.runBlocking(Builders.kt:59)\n",
      "\tat kotlinx.coroutines.BuildersKt.runBlocking(Unknown Source)\n",
      "\tat kotlinx.coroutines.BuildersKt__BuildersKt.runBlocking$default(Builders.kt:38)\n",
      "\tat kotlinx.coroutines.BuildersKt.runBlocking$default(Unknown Source)\n",
      "\tat org.jetbrains.kotlinx.jupyter.repl.impl.InternalEvaluatorImpl.eval(InternalEvaluatorImpl.kt:84)\n",
      "\t... 14 more\n",
      "\n"
     ]
    }
   ],
   "source": [
    "//Test von passwortGenerieren mit erweiterten Parametern\n",
    "for(i in 0..49){\n",
    "    val staerke = (0..100).random()\n",
    "    val gross = (0..6).random()\n",
    "    val klein = (0..6).random()\n",
    "    val zahlen = (0..6).random()\n",
    "    val sonder = (0..6).random()\n",
    "    val testPasswort = passwortGenerierenErweitert(staerke, gross, klein, zahlen, sonder)\n",
    "    if (\n",
    "        (testPasswort.anzahlGrossbuchstaben() != gross || testPasswort.anzahlKleinbuchstaben() != klein ||\n",
    "        testPasswort.anzahlZahlen() != zahlen || testPasswort.anzahlSonderzeichen() != sonder ||\n",
    "        passwortstaerke(testPasswort) < staerke) && testPasswort != \"Fehler\"\n",
    "    ){\n",
    "        throw AssertionError()\n",
    "    }\n",
    "    \n",
    "}\n",
    "for(i in 0..4){\n",
    "    val staerke = 100\n",
    "    val gross = (0..6).random()\n",
    "    val klein = (0..6).random()\n",
    "    val zahlen = (0..6).random()\n",
    "    val sonder = (0..6).random()\n",
    "    val testPasswort = passwortGenerierenErweitert(staerke, gross, klein, zahlen, sonder)\n",
    "    if (\n",
    "        (testPasswort.anzahlGrossbuchstaben() != gross || testPasswort.anzahlKleinbuchstaben() != klein ||\n",
    "        testPasswort.anzahlZahlen() != zahlen || testPasswort.anzahlSonderzeichen() != sonder ||\n",
    "        passwortstaerke(testPasswort) < staerke) && testPasswort != \"Fehler\"\n",
    "    ){\n",
    "        throw AssertionError()\n",
    "    }\n",
    "}\n",
    "val testPasswort = passwortGenerierenErweitert(10, 5, 2)\n",
    "if (\n",
    "    (testPasswort.anzahlGrossbuchstaben() != 5 || testPasswort.anzahlKleinbuchstaben() != 2 ||\n",
    "    testPasswort.anzahlZahlen() != 0 || testPasswort.anzahlSonderzeichen() != 0 ||\n",
    "    passwortstaerke(testPasswort) < 10) && testPasswort != \"Fehler\"\n",
    "){\n",
    "    throw AssertionError()\n",
    "}"
   ]
  }
 ],
 "metadata": {
  "kernelspec": {
   "display_name": "Kotlin",
   "language": "kotlin",
   "name": "kotlin"
  },
  "language_info": {
   "codemirror_mode": "text/x-kotlin",
   "file_extension": ".kt",
   "mimetype": "text/x-kotlin",
   "name": "kotlin",
   "nbconvert_exporter": "",
   "pygments_lexer": "kotlin",
   "version": "1.5.20-dev-5817"
  }
 },
 "nbformat": 4,
 "nbformat_minor": 5
}
