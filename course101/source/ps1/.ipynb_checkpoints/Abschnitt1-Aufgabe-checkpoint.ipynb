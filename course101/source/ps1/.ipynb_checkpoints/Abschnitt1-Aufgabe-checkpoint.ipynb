{
 "cells": [
  {
   "cell_type": "markdown",
   "id": "periodic-casino",
   "metadata": {
    "nbgrader": {
     "grade": false,
     "grade_id": "aufgabe1-einfuehrung",
     "locked": true,
     "schema_version": 3,
     "solution": false,
     "task": false
    }
   },
   "source": [
    "# Einführung\n",
    "\n",
    "Jeder Abschnitt wird von einer größeren Übungsaufgabe begleitet. Während in den Abschnitten 1-3 die Übungen mit Jupyter erledigt werden könne, wird in den Abschnitten 4 & 5 mit Android Studio gearbeitet (näheres dazu folgt in Abschnitt 4). In den ersten 3 Übungen wird ein seperates Notebook angeboten, das Sie runterladen und bearbeiten sollen. Eine Bearbeitung der Übungsaufgaben ist für das Abschlusszertifikat nötig. In der Aufgabenbeschreibung wird angegeben, wie die zu implementierenden Methoden oder Klassen benannt werden sollen. Bitte halten Sie sich an diese Vorgaben, da nur so die Tests, mit denen Sie Ihren Code ausprobieren können, funktionieren.\n",
    "\n",
    "\n",
    "# Aufgabe - Passwörter\n",
    "\n",
    "Heutzutage ist es immer wichtiger sichere Passwörter zu benutzen. Ob es der Zugang zum Online-Banking oder das Passwort für Netflix ist. Ein fremder Zugang kann einen großen Schaden verursachen. Deswegen soll im Folgenden ein Passwortgenerator und -validator programmiert werden, der sichere Passwörter erkennt und auch vorschlägt.<br />\n",
    "Ein Passwort ist in dieser Aufgabe als \"sicher\" anzusehen, wenn es die [Standards des BSI](https://www.bsi.bund.de/DE/Themen/Verbraucherinnen-und-Verbraucher/Informationen-und-Empfehlungen/Cyber-Sicherheitsempfehlungen/Accountschutz/Sichere-Passwoerter-erstellen/sichere-passwoerter-erstellen_node.htmlhttps://www.bsi.bund.de/DE/Themen/Verbraucherinnen-und-Verbraucher/Informationen-und-Empfehlungen/Cyber-Sicherheitsempfehlungen/Accountschutz/Sichere-Passwoerter-erstellen/sichere-passwoerter-erstellen_node.html) erfüllt:\n",
    "- 20 bis 25 Zeichen lang und zwei Zeichenarten genutzt (beispielsweise eine Folge von Wörtern).\n",
    "- 8 bis 12 Zeichen lang und vier Zeichenarten genutzt. \n",
    "- 8 Zeichen lang, drei Zeichenarten genutzt und es zusätzlich durch eine Mehr-Faktor-Authentisierung abgesichert (beispielsweise durch einen Fingerabdruck, eine Bestätigung per App oder eine PIN).\n",
    "\n",
    "Der dritten Stichpunkt soll im Folgenden ignoriert werden, da eine Mehr-Faktor-Authentisierung die Aufgabe übersteigen würde. Es soll sich auf die ersten beiden Stichpunkte fokussiert werden.\n",
    "\n",
    "Die 4 Zeichenarten sind:\n",
    "- Großbuchstaben\n",
    "- Kleinbuchstaben\n",
    "- Zahlen\n",
    "- Sonderzeichen (zur Vereinfachnung nur `@`, `/`, `#`, `+`, `-`, `*`, `!`, `?`, `&`)\n",
    "\n",
    "## Anzahl der Zeichenarten\n",
    "Implementieren Sie als Vorbereitung auf die eigentliche Aufgabe Erweiterungsmethoden für die Klasse `String`.\n",
    "- `anzahlKleinbuchstaben`: gibt die Anzahl an Kleinbuchstaben zurück\n",
    "- `anzahlGrossbuchstaben`: gibt die Anzahl an Großbuchstaben zurück\n",
    "- `anzahlZahlen`: gibt die Anzahl an Zahlen zurück\n",
    "- `anzahlSonderzeichen`: gibt die Anzahl der Sonderzeichen zurück\n",
    "- `anzahlZeichenarten`: gibt die Anzahl der Zeichenarten zurück"
   ]
  },
  {
   "cell_type": "code",
   "execution_count": 1,
   "id": "constitutional-sharp",
   "metadata": {
    "execution": {
     "iopub.execute_input": "2021-04-12T11:05+0200",
     "iopub.status.busy": "2021-04-12T11:05+0200",
     "iopub.status.idle": "2021-04-12T11:05+0200",
     "shell.execute_reply": "2021-04-12T11:05+0200",
     "shell.execute_reply.started": "2021-04-12T11:05+0200"
    },
    "nbgrader": {
     "grade": false,
     "grade_id": "abschnitt1-1-code",
     "locked": false,
     "schema_version": 3,
     "solution": true,
     "task": false
    }
   },
   "outputs": [],
   "source": [
    "fun String.anzahlZeichenarten(): Int{\n",
    "    // BEGIN SOLUTION\n",
    "    var counter = 0\n",
    "    if (this.anzahlGrossbuchstaben() > 0) \n",
    "        counter++\n",
    "    if (this.anzahlKleinbuchstaben() > 0) \n",
    "        counter++\n",
    "    if (this.anzahlZahlen() > 0) \n",
    "        counter++\n",
    "    if (this.anzahlSonderzeichen() > 0) \n",
    "        counter++\n",
    "    return counter\n",
    "    // END SOLUTION\n",
    "}\n",
    "\n",
    "fun String.anzahlKleinbuchstaben(): Int{\n",
    "    // BEGIN SOLUTION\n",
    "    var counter = 0\n",
    "    for(char in this){\n",
    "        if (char in 'a'..'z'){\n",
    "            counter++\n",
    "        }\n",
    "    }\n",
    "    return counter\n",
    "    // END SOLUTION\n",
    "}\n",
    "\n",
    "fun String.anzahlGrossbuchstaben(): Int{\n",
    "    // BEGIN SOLUTION\n",
    "    var counter = 0\n",
    "    for(char in this){\n",
    "        if (char in 'A'..'Z'){\n",
    "            counter++\n",
    "        }\n",
    "    }\n",
    "    return counter\n",
    "    // END SOLUTION\n",
    "}\n",
    "\n",
    "fun String.anzahlZahlen(): Int{\n",
    "    // BEGIN SOLUTION\n",
    "    var counter = 0\n",
    "    for(char in this){\n",
    "        if (char in '0'..'9'){\n",
    "            counter++\n",
    "        }\n",
    "    }\n",
    "    return counter\n",
    "    // END SOLUTION\n",
    "}\n",
    "\n",
    "fun String.anzahlSonderzeichen(): Int{\n",
    "    // BEGIN SOLUTION\n",
    "    val sonderzeichen = listOf('@', '/', '#', '+', '-', '*', '!', '?', '&')\n",
    "    var counter = 0\n",
    "    for(char in this){\n",
    "        if (char in sonderzeichen){\n",
    "            counter++\n",
    "        }\n",
    "    }\n",
    "    return counter\n",
    "    // END SOLUTION\n",
    "}"
   ]
  },
  {
   "cell_type": "code",
   "execution_count": 4,
   "id": "stuck-vienna",
   "metadata": {
    "execution": {
     "iopub.execute_input": "2021-04-12T11:05+0200",
     "iopub.status.busy": "2021-04-12T11:05+0200",
     "iopub.status.idle": "2021-04-12T11:05+0200",
     "shell.execute_reply": "2021-04-12T11:05+0200",
     "shell.execute_reply.started": "2021-04-12T11:05+0200"
    },
    "nbgrader": {
     "grade": true,
     "grade_id": "abschnitt1-1-test1",
     "locked": true,
     "points": 10,
     "schema_version": 3,
     "solution": false,
     "task": false
    }
   },
   "outputs": [],
   "source": [
    "//Test von anzahlZeichenarten\n",
    "val pwTests = mapOf(\"\" to 0, \"aaaaa\" to 1, \"a2\" to 2, \"D#\" to 2, \"#1\" to 2, \"aB+\" to 3, \"aaBDA2834\" to 3, \"adhGDUWahduWe\" to 2, \"234#34#123+34Hca\" to 4)\n",
    "for((pw, anzahl) in pwTests){\n",
    "    if(pw.anzahlZeichenarten() != anzahl){\n",
    "        throw AssertionError(\"wrong\")\n",
    "    }\n",
    "}"
   ]
  },
  {
   "cell_type": "code",
   "execution_count": 3,
   "id": "e13baa61",
   "metadata": {
    "nbgrader": {
     "grade": true,
     "grade_id": "abschnitt1-1-test2",
     "locked": true,
     "points": 0,
     "schema_version": 3,
     "solution": false,
     "task": false
    }
   },
   "outputs": [],
   "source": [
    "//Test von anzahlZeichenarten\n",
    "val pwTests = mapOf(\"\" to 0, \"aaaaa\" to 1, \"a2\" to 2, \"D#\" to 2, \"#1\" to 2, \"aB+\" to 3, \"aaBDA2834\" to 3, \"adhGDUWahduWe\" to 2, \"234#34#123+34Hca\" to 4)\n",
    "for((pw, anzahl) in pwTests){\n",
    "    assert(pw.anzahlZeichenarten() == anzahl)\n",
    "}"
   ]
  },
  {
   "cell_type": "markdown",
   "id": "alternative-boating",
   "metadata": {},
   "source": [
    "## Passwortstärke\n",
    "Nun soll die Stärke des Passworts von 0 - 100 berechnet werden. Die Berechnung ist an [Passwordmeter](http://www.passwordmeter.com/) angelehnt. Folgende Attribute geben Punkte:\n",
    "\n",
    "<table style=\"font-size: 18px; width: 100%\">\n",
    "<thead>\n",
    "  <tr>\n",
    "    <th>Eigenschaft</th>\n",
    "    <th style=\"width: 20%; min-width: 100px\">Punkte</th>\n",
    "  </tr>\n",
    "</thead>\n",
    "<tbody>\n",
    "  <tr>\n",
    "    <td>Anzahl Zeichen insgesamt</td>\n",
    "    <td>+(n*4)</td>\n",
    "  </tr>\n",
    "  <tr>\n",
    "    <td>Anzahl Großbuchstaben</td>\n",
    "    <td>+((len-n)*2)</td>\n",
    "  </tr>\n",
    "  <tr>\n",
    "    <td>Anzahl Kleinbuchstaben</td>\n",
    "    <td>+((len-n)*2)</td>\n",
    "  </tr>\n",
    "  <tr>\n",
    "    <td>Anzahl Zahlen</td>\n",
    "    <td>+(n*4)</td>\n",
    "  </tr>\n",
    "  <tr>\n",
    "    <td>Anzahl Sonderzeichen</td>\n",
    "    <td>+(n*6)</td>\n",
    "  </tr>\n",
    "  <tr>\n",
    "    <td>Anzahl Zeichenarten (2-4)</td>\n",
    "    <td>+(n*3)</td>\n",
    "  </tr>\n",
    "  <tr>\n",
    "    <td>Nur 1 Zeichenart</td>\n",
    "    <td>-len</td>\n",
    "  </tr>\n",
    "  <tr>\n",
    "      <td>Wiederholende Zeichen (Bsp: \"<b>aaaa</b>\" n=4, \"<b>a</b>C<b>w</b>i3Wf<b>a</b>sd<b>aw</b>\" n=5)</td>\n",
    "    <td>-(n*3)</td>\n",
    "  </tr>\n",
    "</tbody>\n",
    "</table>\n",
    "\n",
    "Implementieren Sie eine Methode `passwortstaerke`, die das Passwort (als `String`) übergeben bekommt. Zurückgegeben soll die Stärke des Passworts, welche mit der obigen Tabelle berechnet werden soll. Der beste Wert ist 100, der Schlechteste 0."
   ]
  },
  {
   "cell_type": "code",
   "execution_count": 5,
   "id": "broad-adapter",
   "metadata": {
    "execution": {
     "iopub.execute_input": "2021-04-14T13:56+0200",
     "iopub.status.busy": "2021-04-14T13:56+0200",
     "iopub.status.idle": "2021-04-14T13:56+0200",
     "shell.execute_reply": "2021-04-14T13:56+0200"
    },
    "nbgrader": {
     "grade": false,
     "grade_id": "abschnitt1-2-code",
     "locked": false,
     "schema_version": 3,
     "solution": true,
     "task": false
    },
    "tags": []
   },
   "outputs": [],
   "source": [
    "\n",
    "fun passwortstaerke(pw: String) : Int{\n",
    "    // BEGIN SOLUTION\n",
    "    var staerke = pw.length * 4 + pw.anzahlZahlen() * 4 + pw.anzahlSonderzeichen() * 6 + pw.anzahlZeichenarten() * 3\n",
    "    \n",
    "    if (pw.anzahlGrossbuchstaben() > 0)\n",
    "        staerke += (pw.length - pw.anzahlGrossbuchstaben()) * 2\n",
    "    if (pw.anzahlKleinbuchstaben() > 0)\n",
    "        staerke += (pw.length - pw.anzahlKleinbuchstaben()) * 2\n",
    "    \n",
    "    if (\n",
    "        (pw.anzahlGrossbuchstaben() == 0 && pw.anzahlKleinbuchstaben() == 0 && pw.anzahlZahlen() == 0 && pw.anzahlSonderzeichen() > 0) ||\n",
    "        (pw.anzahlGrossbuchstaben() == 0 && pw.anzahlKleinbuchstaben() == 0 && pw.anzahlZahlen() > 0 && pw.anzahlSonderzeichen() == 0) ||\n",
    "        (pw.anzahlGrossbuchstaben() == 0 && pw.anzahlKleinbuchstaben() > 0 && pw.anzahlZahlen() == 0 && pw.anzahlSonderzeichen() == 0) ||\n",
    "        (pw.anzahlGrossbuchstaben() > 0 && pw.anzahlKleinbuchstaben() == 0 && pw.anzahlZahlen() == 0 && pw.anzahlSonderzeichen() == 0)\n",
    "    )\n",
    "           staerke -= pw.length\n",
    "    \n",
    "    var wiederholendeZeichen = 0\n",
    "    for (char in pw.toSet()){\n",
    "        if (pw.count {char == it} > 1)\n",
    "            wiederholendeZeichen += pw.count {char == it}\n",
    "    }\n",
    "    staerke -= wiederholendeZeichen * 3\n",
    "    \n",
    "    return if (staerke > 100) 100 else if (staerke < 0) 0 else staerke\n",
    "    // END SOLUTION\n",
    "}\n"
   ]
  },
  {
   "cell_type": "code",
   "execution_count": 6,
   "id": "peripheral-blues",
   "metadata": {
    "execution": {
     "iopub.execute_input": "2021-04-14T13:56+0200",
     "iopub.status.busy": "2021-04-14T13:56+0200",
     "iopub.status.idle": "2021-04-14T13:56+0200",
     "shell.execute_reply": "2021-04-14T13:56+0200"
    },
    "nbgrader": {
     "grade": true,
     "grade_id": "abschnitt1-2-test1",
     "locked": true,
     "points": 10,
     "schema_version": 3,
     "solution": false,
     "task": false
    },
    "tags": []
   },
   "outputs": [],
   "source": [
    "//Test von anzahlZeichenarten\n",
    "val pwTests = mapOf(\"\" to 0, \"aaaaa\" to 3, \"a2\" to 20, \"D#\" to 22, \"jdfVqed&213\" to 98, \"AAAaaa111\" to 54, \"aaBDA2834\" to 81, \"adhGDUWahduWe\" to 60, \"234#34#123+34Hca\" to 100)\n",
    "for((pw, staerke) in pwTests){\n",
    "    if(passwortstaerke(pw) != staerke){\n",
    "        throw AssertionError(\"wrong\")\n",
    "    }\n",
    "}"
   ]
  },
  {
   "cell_type": "code",
   "execution_count": 7,
   "id": "4456b358",
   "metadata": {
    "nbgrader": {
     "grade": true,
     "grade_id": "abschnitt1-2-test2",
     "locked": true,
     "points": 10,
     "schema_version": 3,
     "solution": false,
     "task": false
    }
   },
   "outputs": [],
   "source": [
    "//Test von anzahlZeichenarten\n",
    "val pwTests = mapOf(\"\" to 0, \"aaaaa\" to 3, \"a2\" to 20, \"D#\" to 22, \"jdfVqed&213\" to 98, \"AAAaaa111\" to 54, \"aaBDA2834\" to 81, \"adhGDUWahduWe\" to 60, \"234#34#123+34Hca\" to 100)\n",
    "for((pw, staerke) in pwTests){\n",
    "    assert(passwortstaerke(pw) == staerke)\n",
    "}"
   ]
  },
  {
   "cell_type": "markdown",
   "id": "competitive-teens",
   "metadata": {
    "nbgrader": {
     "grade": false,
     "grade_id": "cell-0361f53f0c19b734",
     "locked": true,
     "schema_version": 3,
     "solution": false,
     "task": false
    }
   },
   "source": [
    "## Passwortgenerator\n",
    "\n",
    "Unter Verwendung der `passwordstaerke`-Methode soll nun mit Hilfe der [Brute-Force-Methode](https://de.wikipedia.org/wiki/Brute-Force-Methode) ein Passwort generiert werden. Implementieren Sie dazu eine Methode `passwortGenerieren`. Die Stärke des generierten Passworts soll eine bestimmte Stärke, die übergeben werde soll, übersteigen."
   ]
  },
  {
   "cell_type": "code",
   "execution_count": 12,
   "id": "supreme-major",
   "metadata": {
    "execution": {
     "iopub.execute_input": "2021-04-12T11:05+0200",
     "iopub.status.busy": "2021-04-12T11:05+0200",
     "iopub.status.idle": "2021-04-12T11:05+0200",
     "shell.execute_reply": "2021-04-12T11:05+0200",
     "shell.execute_reply.started": "2021-04-12T11:05+0200"
    },
    "nbgrader": {
     "grade": false,
     "grade_id": "abschnitt1-3-code",
     "locked": false,
     "schema_version": 3,
     "solution": true,
     "task": false
    },
    "tags": []
   },
   "outputs": [],
   "source": [
    "fun passwortGenerieren(staerke : Int) : String{\n",
    "    // BEGIN SOLUTION\n",
    "    var pw: String = \"\"\n",
    "    val zeichen: List<Char> = ('a'..'z').toList() + ('A'..'Z').toList() + ('0'..'9').toList() + listOf('@', '/', '#', '+', '-', '*', '!', '?', '&')\n",
    "    do{\n",
    "        pw = \"\"\n",
    "        for(i in 1 .. (1..12).random()){\n",
    "            pw += zeichen.random()\n",
    "        }\n",
    "    }\n",
    "    while(passwortstaerke(pw) < staerke)\n",
    "    return pw\n",
    "    // END SOLUTION\n",
    "}\n"
   ]
  },
  {
   "cell_type": "code",
   "execution_count": 13,
   "id": "requested-hypothesis",
   "metadata": {
    "execution": {
     "iopub.execute_input": "2021-04-12T11:05+0200",
     "iopub.status.busy": "2021-04-12T11:05+0200",
     "iopub.status.idle": "2021-04-12T11:05+0200",
     "shell.execute_reply": "2021-04-12T11:05+0200",
     "shell.execute_reply.started": "2021-04-12T11:05+0200"
    },
    "nbgrader": {
     "grade": true,
     "grade_id": "abschnitt1-3-test1",
     "locked": true,
     "points": 10,
     "schema_version": 3,
     "solution": false,
     "task": false
    }
   },
   "outputs": [],
   "source": [
    "//Test von passwortGenerieren\n",
    "for (i in 0..100 step 5){\n",
    "    val testPasswort = passwortGenerieren(i)\n",
    "    if (passwortstaerke(testPasswort) < i){\n",
    "        throw AssertionError()\n",
    "    }\n",
    "}\n",
    "for (i in 0..5){\n",
    "    val testPasswort = passwortGenerieren(100)\n",
    "    if (passwortstaerke(testPasswort) < 100){\n",
    "        throw AssertionError()\n",
    "    }\n",
    "}"
   ]
  },
  {
   "cell_type": "code",
   "execution_count": 14,
   "id": "6eb951fb",
   "metadata": {
    "nbgrader": {
     "grade": true,
     "grade_id": "abschnitt1-3-test2",
     "locked": true,
     "points": 10,
     "schema_version": 3,
     "solution": false,
     "task": false
    }
   },
   "outputs": [],
   "source": [
    "//Test von passwortGenerieren\n",
    "for (i in 0..100 step 5){\n",
    "    val testPasswort = passwortGenerieren(i)\n",
    "    assert(passwortstaerke(testPasswort) >= i)\n",
    "}\n",
    "for (i in 0..5){\n",
    "    val testPasswort = passwortGenerieren(100)\n",
    "    assert(passwortstaerke(testPasswort) == 100)\n",
    "}"
   ]
  },
  {
   "cell_type": "code",
   "execution_count": 18,
   "id": "5e8d83bb",
   "metadata": {
    "nbgrader": {
     "grade": true,
     "grade_id": "testtest",
     "locked": true,
     "points": 1,
     "schema_version": 3,
     "solution": false,
     "task": false
    }
   },
   "outputs": [
    {
     "name": "stderr",
     "output_type": "stream",
     "text": [
      "\n",
      "java.lang.AssertionError\n",
      "org.jetbrains.kotlinx.jupyter.ReplEvalRuntimeException: \n",
      "\tat org.jetbrains.kotlinx.jupyter.repl.impl.InternalEvaluatorImpl.eval(InternalEvaluatorImpl.kt:91)\n",
      "\tat org.jetbrains.kotlinx.jupyter.repl.impl.CellExecutorImpl$execute$1$result$1.invoke(CellExecutorImpl.kt:63)\n",
      "\tat org.jetbrains.kotlinx.jupyter.repl.impl.CellExecutorImpl$execute$1$result$1.invoke(CellExecutorImpl.kt:62)\n",
      "\tat org.jetbrains.kotlinx.jupyter.ReplForJupyterImpl.withHost(repl.kt:536)\n",
      "\tat org.jetbrains.kotlinx.jupyter.repl.impl.CellExecutorImpl.execute(CellExecutorImpl.kt:62)\n",
      "\tat org.jetbrains.kotlinx.jupyter.repl.CellExecutor$DefaultImpls.execute$default(CellExecutor.kt:13)\n",
      "\tat org.jetbrains.kotlinx.jupyter.ReplForJupyterImpl$eval$1.invoke(repl.kt:371)\n",
      "\tat org.jetbrains.kotlinx.jupyter.ReplForJupyterImpl$eval$1.invoke(repl.kt:361)\n",
      "\tat org.jetbrains.kotlinx.jupyter.ReplForJupyterImpl.withEvalContext(repl.kt:346)\n",
      "\tat org.jetbrains.kotlinx.jupyter.ReplForJupyterImpl.eval(repl.kt:361)\n",
      "\tat org.jetbrains.kotlinx.jupyter.ProtocolKt$shellMessagesHandler$res$1.invoke(protocol.kt:291)\n",
      "\tat org.jetbrains.kotlinx.jupyter.ProtocolKt$shellMessagesHandler$res$1.invoke(protocol.kt:290)\n",
      "\tat org.jetbrains.kotlinx.jupyter.JupyterConnection$runExecution$execThread$1.invoke(connection.kt:162)\n",
      "\tat org.jetbrains.kotlinx.jupyter.JupyterConnection$runExecution$execThread$1.invoke(connection.kt:160)\n",
      "\tat kotlin.concurrent.ThreadsKt$thread$thread$1.run(Thread.kt:30)\n",
      "Caused by: java.lang.AssertionError\n",
      "\tat Line_231.<init>(Line_231.jupyter-kts:1)\n",
      "\tat java.base/jdk.internal.reflect.NativeConstructorAccessorImpl.newInstance0(Native Method)\n",
      "\tat java.base/jdk.internal.reflect.NativeConstructorAccessorImpl.newInstance(NativeConstructorAccessorImpl.java:64)\n",
      "\tat java.base/jdk.internal.reflect.DelegatingConstructorAccessorImpl.newInstance(DelegatingConstructorAccessorImpl.java:45)\n",
      "\tat java.base/java.lang.reflect.Constructor.newInstanceWithCaller(Constructor.java:500)\n",
      "\tat java.base/java.lang.reflect.Constructor.newInstance(Constructor.java:481)\n",
      "\tat kotlin.script.experimental.jvm.BasicJvmScriptEvaluator.evalWithConfigAndOtherScriptsResults(BasicJvmScriptEvaluator.kt:96)\n",
      "\tat kotlin.script.experimental.jvm.BasicJvmScriptEvaluator.invoke$suspendImpl(BasicJvmScriptEvaluator.kt:41)\n",
      "\tat kotlin.script.experimental.jvm.BasicJvmScriptEvaluator.invoke(BasicJvmScriptEvaluator.kt)\n",
      "\tat kotlin.script.experimental.jvm.BasicJvmReplEvaluator.eval(BasicJvmReplEvaluator.kt:51)\n",
      "\tat org.jetbrains.kotlinx.jupyter.repl.impl.InternalEvaluatorImpl$eval$resultWithDiagnostics$1.invokeSuspend(InternalEvaluatorImpl.kt:84)\n",
      "\tat kotlin.coroutines.jvm.internal.BaseContinuationImpl.resumeWith(ContinuationImpl.kt:33)\n",
      "\tat kotlinx.coroutines.DispatchedTask.run(DispatchedTask.kt:106)\n",
      "\tat kotlinx.coroutines.EventLoopImplBase.processNextEvent(EventLoop.common.kt:274)\n",
      "\tat kotlinx.coroutines.BlockingCoroutine.joinBlocking(Builders.kt:84)\n",
      "\tat kotlinx.coroutines.BuildersKt__BuildersKt.runBlocking(Builders.kt:59)\n",
      "\tat kotlinx.coroutines.BuildersKt.runBlocking(Unknown Source)\n",
      "\tat kotlinx.coroutines.BuildersKt__BuildersKt.runBlocking$default(Builders.kt:38)\n",
      "\tat kotlinx.coroutines.BuildersKt.runBlocking$default(Unknown Source)\n",
      "\tat org.jetbrains.kotlinx.jupyter.repl.impl.InternalEvaluatorImpl.eval(InternalEvaluatorImpl.kt:84)\n",
      "\t... 14 more\n",
      "\n"
     ]
    }
   ],
   "source": [
    "throw AssertionError()"
   ]
  },
  {
   "cell_type": "markdown",
   "id": "surgical-dylan",
   "metadata": {
    "nbgrader": {
     "grade": false,
     "grade_id": "cell-9e40b0b76889a4b5",
     "locked": true,
     "schema_version": 3,
     "solution": false,
     "task": false
    }
   },
   "source": [
    "Nun soll die Passwortgenerierung erweitert werden. Implementieren Sie eine zusätzliche Methode `passwortGenerierenErweitert`, die zusätzlich zu der Mindeststärke auch die Anzahl der Zeichen jeder Art übergeben werden. Standardmäßig soll die Mindeststärke 75 und die Anzahl an Zeichen jeder Art 0 sein. Die Zeichen sollen an zufälligen Stellen im Passwort zu finden sein. Ist nach 200 Versuchen kein Passwort für die Mindeststärke mit der Kombination an Zeichen möglich, soll ein Fehler geworfen/ausgegeben werden.<br />\n",
    "Beispiel:<br />\n",
    "`passwortGenerierenErweitert(80,3,4,2,1)`: Generiert ein Passwort, das mindestens die Stärke 80, 3 Großbuchstaben, 4 Kleinbuchstaben, 2 Zahlen und 1 Sonderzeichen besitzt.<br />\n",
    "`passwortGenerierenErweitert(50,5,7)`: Generiert ein Passwort, das mindestens die Stärke 50, 5 Großbuchstaben, 7 Kleinbuchstaben, 0 Zahlen und 0 Sonderzeichen besitzt.<br />"
   ]
  },
  {
   "cell_type": "code",
   "execution_count": 16,
   "id": "inside-discount",
   "metadata": {
    "execution": {
     "iopub.execute_input": "2021-04-12T11:05+0200",
     "iopub.status.busy": "2021-04-12T11:05+0200",
     "iopub.status.idle": "2021-04-12T11:05+0200",
     "shell.execute_reply": "2021-04-12T11:05+0200",
     "shell.execute_reply.started": "2021-04-12T11:05+0200"
    },
    "nbgrader": {
     "grade": false,
     "grade_id": "abschnitt1-4-code",
     "locked": false,
     "schema_version": 3,
     "solution": true,
     "task": false
    }
   },
   "outputs": [],
   "source": [
    "fun passwortGenerierenErweitert(staerke: Int = 75, vorGross: Int = 0, vorKlein: Int = 0, vorZahlen: Int = 0, vorSonder: Int = 0): String{\n",
    "    // BEGIN SOLUTION\n",
    "    val kleinbuchstaben = ('a'..'z').toList()\n",
    "    val grossbuchstaben = ('A'..'Z').toList() \n",
    "    val zahlen = ('0'..'9').toList()\n",
    "    val sonderzeichen = listOf('@', '/', '#', '+', '-', '*', '!', '?', '&')\n",
    "    val laenge = vorGross + vorKlein + vorZahlen + vorSonder\n",
    "    \n",
    "    var versuche = 0\n",
    "    var pw = \"\"\n",
    "    do{\n",
    "        pw = \"\"\n",
    "        do{\n",
    "            val rand = (0..3).random()\n",
    "            when {\n",
    "                rand == 0 && pw.anzahlGrossbuchstaben() < vorGross -> pw += grossbuchstaben.random()\n",
    "                rand == 1 && pw.anzahlKleinbuchstaben() < vorKlein -> pw += kleinbuchstaben.random()\n",
    "                rand == 2 && pw.anzahlZahlen() < vorZahlen -> pw += zahlen.random()\n",
    "                rand == 3 && pw.anzahlSonderzeichen() < vorSonder -> pw += sonderzeichen.random()\n",
    "            }\n",
    "            \n",
    "        }\n",
    "        while(pw.length < laenge)\n",
    "        versuche++\n",
    "    }\n",
    "    while(passwortstaerke(pw) < staerke && versuche < 200)\n",
    "    return if (versuche == 200) \"Fehler\" else pw\n",
    "    // END SOLUTION\n",
    "}\n"
   ]
  },
  {
   "cell_type": "code",
   "execution_count": 17,
   "id": "ceramic-cleaning",
   "metadata": {
    "execution": {
     "iopub.execute_input": "2021-04-12T11:05+0200",
     "iopub.status.busy": "2021-04-12T11:05+0200",
     "iopub.status.idle": "2021-04-12T11:05+0200",
     "shell.execute_reply": "2021-04-12T11:05+0200",
     "shell.execute_reply.started": "2021-04-12T11:05+0200"
    },
    "nbgrader": {
     "grade": true,
     "grade_id": "abschnitt1-4-test",
     "locked": true,
     "points": 10,
     "schema_version": 3,
     "solution": false,
     "task": false
    }
   },
   "outputs": [],
   "source": [
    "//Test von passwortGenerieren mit erweiterten Parametern\n",
    "for(i in 0..49){\n",
    "    val staerke = (0..100).random()\n",
    "    val gross = (0..6).random()\n",
    "    val klein = (0..6).random()\n",
    "    val zahlen = (0..6).random()\n",
    "    val sonder = (0..6).random()\n",
    "    val testPasswort = passwortGenerierenErweitert(staerke, gross, klein, zahlen, sonder)\n",
    "    if (\n",
    "        (testPasswort.anzahlGrossbuchstaben() != gross || testPasswort.anzahlKleinbuchstaben() != klein ||\n",
    "        testPasswort.anzahlZahlen() != zahlen || testPasswort.anzahlSonderzeichen() != sonder ||\n",
    "        passwortstaerke(testPasswort) < staerke) && testPasswort != \"Fehler\"\n",
    "    ){\n",
    "        throw AssertionError()\n",
    "    }\n",
    "    \n",
    "}\n",
    "for(i in 0..4){\n",
    "    val staerke = 100\n",
    "    val gross = (0..6).random()\n",
    "    val klein = (0..6).random()\n",
    "    val zahlen = (0..6).random()\n",
    "    val sonder = (0..6).random()\n",
    "    val testPasswort = passwortGenerierenErweitert(staerke, gross, klein, zahlen, sonder)\n",
    "    if (\n",
    "        (testPasswort.anzahlGrossbuchstaben() != gross || testPasswort.anzahlKleinbuchstaben() != klein ||\n",
    "        testPasswort.anzahlZahlen() != zahlen || testPasswort.anzahlSonderzeichen() != sonder ||\n",
    "        passwortstaerke(testPasswort) < staerke) && testPasswort != \"Fehler\"\n",
    "    ){\n",
    "        throw AssertionError()\n",
    "    }\n",
    "}\n",
    "val testPasswort = passwortGenerierenErweitert(10, 5, 2)\n",
    "if (\n",
    "    (testPasswort.anzahlGrossbuchstaben() != 5 || testPasswort.anzahlKleinbuchstaben() != 2 ||\n",
    "    testPasswort.anzahlZahlen() != 0 || testPasswort.anzahlSonderzeichen() != 0 ||\n",
    "    passwortstaerke(testPasswort) < 10) && testPasswort != \"Fehler\"\n",
    "){\n",
    "    throw AssertionError()\n",
    "}"
   ]
  },
  {
   "cell_type": "code",
   "execution_count": null,
   "id": "48b33c75",
   "metadata": {},
   "outputs": [],
   "source": []
  }
 ],
 "metadata": {
  "celltoolbar": "Create Assignment",
  "kernelspec": {
   "display_name": "Kotlin",
   "language": "kotlin",
   "name": "kotlin"
  },
  "language_info": {
   "codemirror_mode": "text/x-kotlin",
   "file_extension": ".kt",
   "mimetype": "text/x-kotlin",
   "name": "kotlin",
   "nbconvert_exporter": "",
   "pygments_lexer": "kotlin",
   "version": "1.5.20-dev-5817"
  }
 },
 "nbformat": 4,
 "nbformat_minor": 5
}
