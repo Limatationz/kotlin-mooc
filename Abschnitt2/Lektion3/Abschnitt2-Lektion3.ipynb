{
 "cells": [
  {
   "cell_type": "markdown",
   "id": "9210ab74",
   "metadata": {},
   "source": [
    "<img src=\"../images/Lektion3.png\" style=\"margin: 20px auto 20px 0px\"/>\n",
    "<h2 style=\"display:none\">Lektion 3 - Erweiterte Lambda-Ausdrücke</h2>\n",
    "\n",
    "In dem Methodenrumpf von Lambda-Ausdrücken ist auch eine komplexere Programmierung möglich. So können beispielsweise Kontrollstrukturen eingebunden werden:"
   ]
  },
  {
   "cell_type": "code",
   "execution_count": 1,
   "id": "a87427bb",
   "metadata": {
    "execution": {
     "iopub.execute_input": "2021-11-17T20:48+0100",
     "iopub.status.busy": "2021-11-17T20:48+0100",
     "iopub.status.idle": "2021-11-17T20:49+0100",
     "shell.execute_reply": "2021-11-17T20:49+0100",
     "shell.execute_reply.started": "2021-11-17T20:48+0100"
    }
   },
   "outputs": [
    {
     "name": "stdout",
     "output_type": "stream",
     "text": [
      "Vorher: [0, 1, 2, 3, 4, 5, 6, 7, 8, 9, 10, 11, 12, 13, 14, 15, 16, 17, 18, 19]\n",
      "Nachher: [0, 1, 1, 3, 2, 5, 3, 7, 4, 9, 5, 11, 6, 13, 7, 15, 8, 17, 9, 19]\n"
     ]
    }
   ],
   "source": [
    "var liste = MutableList(20) { it }\n",
    "println(\"Vorher: $liste\")\n",
    "val listeNeu = liste.map() {\n",
    "    if ((it % 2) == 0){\n",
    "        it / 2 //Ergebnis\n",
    "    }\n",
    "    else {\n",
    "        it //Ergebnis\n",
    "    }\n",
    "}\n",
    "println(\"Nachher: $listeNeu\")"
   ]
  },
  {
   "cell_type": "markdown",
   "id": "9e7b044a",
   "metadata": {},
   "source": [
    "In dem oben genannten Beispiel werden alle Elemente durch 2 dividiert, falls es keinen Rest gibt.  \n",
    "Es fällt auf, dass ein explizites `return`-Statement fehlt. Das Ergbenis des Lambda-Ausdrucks ist immer die letzte Anweisung oder Variable. Das heißt aber nicht, dass gar kein `return` verwendet werden kann. Falls ein Lambda-Ausdruck in einer Methode zu finden ist, wird mit dem `return` in dem Lambda die Methode beendet."
   ]
  },
  {
   "cell_type": "code",
   "execution_count": 2,
   "id": "ecf7eb34",
   "metadata": {
    "execution": {
     "iopub.execute_input": "2021-11-17T20:49+0100",
     "iopub.status.busy": "2021-11-17T20:49+0100",
     "iopub.status.idle": "2021-11-17T20:49+0100",
     "shell.execute_reply": "2021-11-17T20:49+0100",
     "shell.execute_reply.started": "2021-11-17T20:49+0100"
    },
    "tags": []
   },
   "outputs": [
    {
     "name": "stdout",
     "output_type": "stream",
     "text": [
      "Alle Elemente von liste1 sind durch 2 teilbar: true\n",
      "Alle Elemente von liste2 sind durch 2 teilbar: false\n"
     ]
    }
   ],
   "source": [
    "fun div2 (liste: List<Int>): Boolean{\n",
    "    liste.map {\n",
    "        if ((it % 2) != 0)\n",
    "            return false //beendet die Methode div2\n",
    "    }\n",
    "    return true\n",
    "}\n",
    "\n",
    "val liste1 = listOf(2,4,6,8)\n",
    "println(\"Alle Elemente von liste1 sind durch 2 teilbar: ${div2(liste1)}\")\n",
    "val liste2 = listOf(1,2,3,4)\n",
    "println(\"Alle Elemente von liste2 sind durch 2 teilbar: ${div2(liste2)}\")"
   ]
  },
  {
   "cell_type": "markdown",
   "id": "5b8bc44f",
   "metadata": {},
   "source": [
    "In einem Lambda-Ausdruck können auch Schleifen oder Variablen verwendet werden. Außerdem ist eine weitere Anwendung von Methoden der Datenstruktur nach der Auswertung des Lambda-Ausdrucks möglich."
   ]
  },
  {
   "cell_type": "code",
   "execution_count": 3,
   "id": "198c0cfb",
   "metadata": {
    "execution": {
     "iopub.execute_input": "2021-11-17T20:49+0100",
     "iopub.status.busy": "2021-11-17T20:49+0100",
     "iopub.status.idle": "2021-11-17T20:49+0100",
     "shell.execute_reply": "2021-11-17T20:49+0100",
     "shell.execute_reply.started": "2021-11-17T20:49+0100"
    },
    "tags": []
   },
   "outputs": [
    {
     "name": "stdout",
     "output_type": "stream",
     "text": [
      "Alle Primzahlen von liste1: [0, 1, 2, 3, 5, 7, 11, 13, 17, 19, 23, 29, 31, 37, 41, 43, 47, 53, 59, 61, 67, 71, 73, 79, 83, 89, 97]\n"
     ]
    }
   ],
   "source": [
    "fun primzahlen(liste: List<Int>): List<Int?>{\n",
    "    return liste.map {\n",
    "        var prim = true //gibt an, ob das aktuelle Element einer Primzahl ist\n",
    "        for(i in 2 until it){ //Testet alle möglichen Teiler\n",
    "            if ((it % i) == 0) { //Teiler gefunden\n",
    "                prim = false //Keine Primzahl mehr\n",
    "            }\n",
    "        }\n",
    "        if (prim) //Rückgabe des Lambda-Ausdrucks\n",
    "            it\n",
    "        else\n",
    "            null\n",
    "    }.filterNotNull() //wird nach Auswertung des Lambda-Ausdrucks angewendet\n",
    "}\n",
    "\n",
    "val liste1 = List(100) { it }\n",
    "println(\"Alle Primzahlen von liste1: ${primzahlen(liste1)}\")"
   ]
  },
  {
   "cell_type": "markdown",
   "id": "4ca62fe4",
   "metadata": {},
   "source": [
    "Anstelle einer Definition des Methodenrumpfes kann einem Lambda-Ausdruck auch ein vordefinierter Lambda-Ausdruck, der in einer Variable gespeichert wurde, benutzt werden. Dabei ist zu beachten, dass die Parameter und der Rückgabetyp übereinstimmen."
   ]
  },
  {
   "cell_type": "code",
   "execution_count": 4,
   "id": "3952129d",
   "metadata": {
    "execution": {
     "iopub.execute_input": "2021-11-17T20:49+0100",
     "iopub.status.busy": "2021-11-17T20:49+0100",
     "iopub.status.idle": "2021-11-17T20:49+0100",
     "shell.execute_reply": "2021-11-17T20:49+0100",
     "shell.execute_reply.started": "2021-11-17T20:49+0100"
    },
    "tags": []
   },
   "outputs": [
    {
     "name": "stdout",
     "output_type": "stream",
     "text": [
      "[6, 7, 8, 9, 10]\n"
     ]
    }
   ],
   "source": [
    "val add5: (Int) -> Int = { a -> a + 5 }\n",
    "\n",
    "val liste = listOf(1,2,3,4,5)\n",
    "val listeNeu = liste.map (add5)\n",
    "println(listeNeu)"
   ]
  }
 ],
 "metadata": {
  "kernelspec": {
   "display_name": "Kotlin",
   "language": "kotlin",
   "name": "kotlin"
  },
  "language_info": {
   "codemirror_mode": "text/x-kotlin",
   "file_extension": ".kt",
   "mimetype": "text/x-kotlin",
   "name": "kotlin",
   "nbconvert_exporter": "",
   "pygments_lexer": "kotlin",
   "version": "1.6.20-dev-3702"
  }
 },
 "nbformat": 4,
 "nbformat_minor": 5
}
