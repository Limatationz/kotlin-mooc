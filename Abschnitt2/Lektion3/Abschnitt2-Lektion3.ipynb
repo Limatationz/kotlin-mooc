{
 "cells": [
  {
   "cell_type": "markdown",
   "id": "98fbeb25-a114-42c4-a78b-91db39040ed3",
   "metadata": {},
   "source": [
    "<img src=\"../images/Lektion3.png\" style=\"margin: 20px auto 20px 0px\"/>\n",
    "<h2 style=\"display:none\">Lektion 3 - Erweiterte Lambda-Ausdrücke</h2>\n",
    "\n",
    "In dem Methodenrumpf von Lambda-Ausdrücken ist auch eine komplexere Programmierung möglich. So können beispielsweise Kontrollstrukturen eingebunden werden:"
   ]
  },
  {
   "cell_type": "code",
   "execution_count": 21,
   "id": "4772f03a-58e8-42fe-817f-c134183bd00e",
   "metadata": {
    "execution": {
     "iopub.execute_input": "2021-04-18T14:37+0200",
     "iopub.status.busy": "2021-04-18T14:37+0200",
     "iopub.status.idle": "2021-04-18T14:37+0200",
     "shell.execute_reply": "2021-04-18T14:37+0200",
     "shell.execute_reply.started": "2021-04-18T14:37+0200"
    }
   },
   "outputs": [
    {
     "name": "stdout",
     "output_type": "stream",
     "text": [
      "Vorher: [0, 1, 2, 3, 4, 5, 6, 7, 8, 9, 10, 11, 12, 13, 14, 15, 16, 17, 18, 19]\n",
      "Nachher: [0, 1, 1, 3, 2, 5, 3, 7, 4, 9, 5, 11, 6, 13, 7, 15, 8, 17, 9, 19]\n"
     ]
    }
   ],
   "source": [
    "var liste = MutableList(20) { it }\n",
    "println(\"Vorher: $liste\")\n",
    "val listeNeu = liste.map() {\n",
    "    if ((it % 2) == 0){\n",
    "        it / 2 //Ergebnis\n",
    "    }\n",
    "    else {\n",
    "        it //Ergebnis\n",
    "    }\n",
    "}\n",
    "println(\"Nachher: $listeNeu\")"
   ]
  },
  {
   "cell_type": "markdown",
   "id": "dd9af4bc-97ea-47f5-9c1f-71ece1b67d39",
   "metadata": {},
   "source": [
    "In dem oben genannten Beispiel werden alle Elemente durch 2 dividiert, falls es keinen Rest gibt.  \n",
    "Es fällt auf, dass ein explizites `return`-Statement fehlt. Das Ergbenis des Lambda-Ausdrucks ist immer die letzte Anweisung oder Variable. Das heißt aber nicht, dass gar kein `return` verwendet werden kann. Falls ein Lambda-Ausdruck in einer Methode zu finden ist, wird mit dem `return` in dem Lambda die Methode beendet."
   ]
  },
  {
   "cell_type": "code",
   "execution_count": 81,
   "id": "528690b5-54e3-4eb5-892d-f4c329d7f461",
   "metadata": {
    "tags": []
   },
   "outputs": [
    {
     "name": "stdout",
     "output_type": "stream",
     "text": [
      "Alle Elemente von liste1 sind durch 2 teilbar: true\n",
      "Alle Elemente von liste2 sind durch 2 teilbar: false\n"
     ]
    }
   ],
   "source": [
    "fun div2 (liste: List<Int>): Boolean{\n",
    "    liste.map {\n",
    "        if ((it % 2) != 0)\n",
    "            return false //beendet die Methode div2\n",
    "    }\n",
    "    return true\n",
    "}\n",
    "\n",
    "val liste1 = listOf(2,4,6,8)\n",
    "println(\"Alle Elemente von liste1 sind durch 2 teilbar: ${div2(liste1)}\")\n",
    "val liste2 = listOf(1,2,3,4)\n",
    "println(\"Alle Elemente von liste2 sind durch 2 teilbar: ${div2(liste2)}\")"
   ]
  },
  {
   "cell_type": "markdown",
   "id": "c96c0f5e-2847-4f25-91f1-717c6d3fc750",
   "metadata": {},
   "source": [
    "In einem Lambda-Ausdruck können auch Schleifen oder Variablen verwendet werden. Außerdem ist eine weitere Anwendung von Methoden der Datenstruktur nach der Auswertung des Lambda-Ausdrucks möglich."
   ]
  },
  {
   "cell_type": "code",
   "execution_count": 86,
   "id": "e29a4545-6b27-44a5-abb1-d4e41eee5f3e",
   "metadata": {
    "tags": []
   },
   "outputs": [
    {
     "name": "stdout",
     "output_type": "stream",
     "text": [
      "Alle Primzahlen von liste1: [0, 1, 2, 3, 5, 7, 11, 13, 17, 19, 23, 29, 31, 37, 41, 43, 47, 53, 59, 61, 67, 71, 73, 79, 83, 89, 97]\n"
     ]
    }
   ],
   "source": [
    "fun primzahlen(liste: List<Int>): List<Int?>{\n",
    "    return liste.map {\n",
    "        var prim = true //gibt an, ob das aktuelle Element einer Primzahl ist\n",
    "        for(i in 2 until it){ //Testet alle möglichen Teiler\n",
    "            if ((it % i) == 0) { //Teiler gefunden\n",
    "                prim = false //Keine Primzahl mehr\n",
    "            }\n",
    "        }\n",
    "        if (prim) //Rückgabe des Lambda-Ausdrucks\n",
    "            it\n",
    "        else\n",
    "            null\n",
    "    }.filterNotNull() //wird nach Auswertung des Lambda-Ausdrucks angewendet\n",
    "}\n",
    "\n",
    "val liste1 = List(100) { it }\n",
    "println(\"Alle Primzahlen von liste1: ${primzahlen(liste1)}\")"
   ]
  },
  {
   "cell_type": "markdown",
   "id": "e1f4f9a9-8758-434c-a5cf-8f51d8b4a9ee",
   "metadata": {},
   "source": [
    "Anstelle einer Definition des Methodenrumpfes kann einem Lambda-Ausdruck auch ein vordefinierter Lambda-Ausdruck, der in einer Variable gespeichert wurde, benutzt werden. Dabei ist zu beachten, dass die Parameter und der Rückgabetyp übereinstimmen."
   ]
  },
  {
   "cell_type": "code",
   "execution_count": 87,
   "id": "d14d4a8e-3a8f-479d-b83b-0567775ac473",
   "metadata": {
    "tags": []
   },
   "outputs": [
    {
     "name": "stdout",
     "output_type": "stream",
     "text": [
      "[6, 7, 8, 9, 10]\n"
     ]
    }
   ],
   "source": [
    "val add5: (Int) -> Int = { a -> a + 5 }\n",
    "\n",
    "val liste = listOf(1,2,3,4,5)\n",
    "val listeNeu = liste.map (add5)\n",
    "println(listeNeu)"
   ]
  }
 ],
 "metadata": {
  "kernelspec": {
   "display_name": "Kotlin",
   "language": "kotlin",
   "name": "kotlin"
  },
  "language_info": {
   "codemirror_mode": "text/x-kotlin",
   "file_extension": ".kt",
   "mimetype": "text/x-kotlin",
   "name": "kotlin",
   "nbconvert_exporter": "",
   "pygments_lexer": "kotlin",
   "version": "1.5.20-dev-5817"
  }
 },
 "nbformat": 4,
 "nbformat_minor": 5
}
