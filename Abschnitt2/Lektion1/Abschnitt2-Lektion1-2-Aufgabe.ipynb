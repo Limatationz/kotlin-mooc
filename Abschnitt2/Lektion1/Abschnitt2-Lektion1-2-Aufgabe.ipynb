{
 "cells": [
  {
   "cell_type": "markdown",
   "id": "eb212aa1",
   "metadata": {},
   "source": [
    "# Aufgabe - Elvis-Operator und NullPointerExceptions\n",
    "Implementieren Sie die Funktion `konvertieren` in zwei Ausführungen. In beiden Fällen soll ein Parameter, der einen beliebigen, *nullable* Datentyp besitzt, in einen `String`, der zurückgegeben werden soll, umgewandelt werden. `konvertierenElvis` soll den des Elvis-Operator verwenden und bei Übergabe von `null` die Zeichenkette `Fehler` zurückgeben. Bei der zweiten Implementierung, mit dem Namen `konvertierenNPE`, soll der `!!`-Operator verwendet und bei einer Referenzierung auf `null` eine `NullPointerException` geworfen werden."
   ]
  },
  {
   "cell_type": "code",
   "execution_count": null,
   "id": "bf25dcc5",
   "metadata": {},
   "outputs": [],
   "source": [
    "//TODO\n",
    "\n",
    "//Test\n",
    "if (konvertierenElvis(12) == \"12\" && konvertierenElvis(null) == \"Fehler\")\n",
    "    println(\"Super! konvertierenElvis ist richtig.\")\n",
    "else\n",
    "    println(\"Das Verhalten von konvertierenElvis ist noch nicht richtig.\")\n",
    "\n",
    "var testNPE = true\n",
    "if (konvertierenElvis(12) != \"12\")\n",
    "    testNPE = false\n",
    "try{\n",
    "    konvertierenNPE(null)\n",
    "    testNPE = false\n",
    "}\n",
    "catch (npe: NullPointerException){\n",
    "    testNPE = true\n",
    "}\n",
    "if(testNPE)\n",
    "    println(\"Super! konvertierenNPE ist richtig.\")\n",
    "else\n",
    "    println(\"Das Verhalten von konvertierenNPE ist noch nicht richtig.\")"
   ]
  }
 ],
 "metadata": {
  "kernelspec": {
   "display_name": "Kotlin",
   "language": "kotlin",
   "name": "kotlin"
  },
  "language_info": {
   "codemirror_mode": "text/x-kotlin",
   "file_extension": ".kt",
   "mimetype": "text/x-kotlin",
   "name": "kotlin",
   "nbconvert_exporter": "",
   "pygments_lexer": "kotlin",
   "version": "1.5.20-dev-5817"
  }
 },
 "nbformat": 4,
 "nbformat_minor": 5
}
