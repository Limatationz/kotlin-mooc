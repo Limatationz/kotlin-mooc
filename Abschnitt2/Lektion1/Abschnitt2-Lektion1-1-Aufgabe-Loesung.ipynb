{
 "cells": [
  {
   "cell_type": "markdown",
   "id": "e672e97f",
   "metadata": {},
   "source": [
    "# Aufgabe - nullable Liste\n",
    "- Implementieren Sie eine Funktion `erzeugeListe`, die eine leere, veränderbare Liste der Länge 5, in die Elemente des Typs `Int` und `null` eingefügt werden können, zurückgibt. Initialisieren Sie die Liste, indem die alle Elemente auf `null` setzen.\n",
    "- Fügen Sie eine weitere Funktion `fuelleListe` hinzu, der eine Liste übergeben wird. Jedem Element soll mit einer Wahrscheinlichkeit von 50% ein neuer Wert zugewiesen werden, der zwischen 1 und 20 liegt.\n",
    "- Implementieren Sie eine dritte Funktion `printListe`, die nur die gefüllten Einträge der Liste ausgibt. Verwende dabei nicht die Methode `filterNotNull()`."
   ]
  },
  {
   "cell_type": "code",
   "execution_count": 1,
   "id": "438708f7",
   "metadata": {
    "execution": {
     "iopub.execute_input": "2021-11-17T20:41+0100",
     "iopub.status.busy": "2021-11-17T20:41+0100",
     "iopub.status.idle": "2021-11-17T20:41+0100",
     "shell.execute_reply": "2021-11-17T20:41+0100",
     "shell.execute_reply.started": "2021-11-17T20:41+0100"
    },
    "tags": []
   },
   "outputs": [
    {
     "name": "stdout",
     "output_type": "stream",
     "text": [
      "Test 1: Liste: [null, 5, 19, null, 12], Ausgabe: 5 19 12 \n",
      "Test 2: Liste: [null, null, null, null, 3], Ausgabe: 3 \n",
      "Test 3: Liste: [null, null, 10, 10, null], Ausgabe: 10 10 \n",
      "Test 4: Liste: [null, 20, null, null, null], Ausgabe: 20 \n",
      "Test 5: Liste: [2, 20, null, 7, null], Ausgabe: 2 20 7 \n"
     ]
    }
   ],
   "source": [
    "//Lösung\n",
    "fun erzeugeListe() = MutableList<Int?>(5) { null }\n",
    "\n",
    "fun fuelleListe(liste: MutableList<Int?>): MutableList<Int?> {\n",
    "    for (i in 0 until liste.size){\n",
    "        if ((0..2).random() == 1){\n",
    "            liste[i] = (1..20).random()\n",
    "        }\n",
    "    }\n",
    "    return liste\n",
    "}\n",
    "\n",
    "fun printListe(liste: List<Int?>){\n",
    "    for(i in 0 until liste.size){\n",
    "        liste[i]?.let {print(\"$it \")}\n",
    "    }\n",
    "}\n",
    "\n",
    "//Test\n",
    "for(i in 1..5){\n",
    "    val testListe = fuelleListe(erzeugeListe())\n",
    "    print(\"Test $i: Liste: ${testListe}, Ausgabe: \")\n",
    "    printListe(testListe)\n",
    "    println()\n",
    "}"
   ]
  }
 ],
 "metadata": {
  "kernelspec": {
   "display_name": "Kotlin",
   "language": "kotlin",
   "name": "kotlin"
  },
  "language_info": {
   "codemirror_mode": "text/x-kotlin",
   "file_extension": ".kt",
   "mimetype": "text/x-kotlin",
   "name": "kotlin",
   "nbconvert_exporter": "",
   "pygments_lexer": "kotlin",
   "version": "1.6.20-dev-3702"
  }
 },
 "nbformat": 4,
 "nbformat_minor": 5
}
