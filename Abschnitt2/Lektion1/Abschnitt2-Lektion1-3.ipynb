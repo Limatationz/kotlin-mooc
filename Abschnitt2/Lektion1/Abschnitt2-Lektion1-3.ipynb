{
 "cells": [
  {
   "cell_type": "markdown",
   "id": "d6eff609",
   "metadata": {},
   "source": [
    "### Safe Casts\n",
    "Die in Abschnitt 1 kennengelernte Typumwandlung kann noch weiter vereinfacht werden. Durch einen *safe cast* ist keine Überprüfung durch `is` mehr nötig. Das dafür benötigte Schlüsselwort ist `as?`. Sollte die Typumwandlung nicht möglich sein, wird der Ausdruck `null`. Ansonsten wird der Wert der Variable zurückgegeben. Eine analoge `if`-Verzweigung sieht folgendermaßen aus:\n",
    "```kotlin\n",
    "val string = if (any is String) a else null\n",
    "```"
   ]
  },
  {
   "cell_type": "code",
   "execution_count": 1,
   "id": "96097d40",
   "metadata": {
    "execution": {
     "iopub.execute_input": "2021-11-17T20:42+0100",
     "iopub.status.busy": "2021-11-17T20:42+0100",
     "iopub.status.idle": "2021-11-17T20:42+0100",
     "shell.execute_reply": "2021-11-17T20:42+0100",
     "shell.execute_reply.started": "2021-11-17T20:42+0100"
    },
    "tags": []
   },
   "outputs": [
    {
     "name": "stdout",
     "output_type": "stream",
     "text": [
      "1\n",
      "null\n"
     ]
    }
   ],
   "source": [
    "val any: Any? = 0\n",
    "//Wenn Int\n",
    "println((any as? Int)?.inc())\n",
    "//Wenn String\n",
    "println((any as? String)?.toUpperCase())"
   ]
  }
 ],
 "metadata": {
  "kernelspec": {
   "display_name": "Kotlin",
   "language": "kotlin",
   "name": "kotlin"
  },
  "language_info": {
   "codemirror_mode": "text/x-kotlin",
   "file_extension": ".kt",
   "mimetype": "text/x-kotlin",
   "name": "kotlin",
   "nbconvert_exporter": "",
   "pygments_lexer": "kotlin",
   "version": "1.6.20-dev-3702"
  }
 },
 "nbformat": 4,
 "nbformat_minor": 5
}
