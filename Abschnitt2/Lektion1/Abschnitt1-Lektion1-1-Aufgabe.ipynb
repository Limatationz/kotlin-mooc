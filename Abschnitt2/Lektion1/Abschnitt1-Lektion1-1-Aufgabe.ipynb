{
 "cells": [
  {
   "cell_type": "markdown",
   "id": "0fbe6365",
   "metadata": {},
   "source": [
    "# Aufgabe - nullable Liste\n",
    "- Implementieren Sie eine Funktion `erzeugeListe`, die eine leere, veränderbare Liste der Länge 5 gefüllt mit `null` initialisiert und zurückgibt.\n",
    "- Fügen Sie eine weitere Funktion `fuelleListe` hinzu, der eine Liste übergeben wird. Jedem Element soll mit einer Wahrscheinlichkeit von 50% ein neuer Wert zugewiesen werden, der zwischen 1 und 20 liegt.\n",
    "- Implementieren Sie eine dritte Funktion `printListe`, die nur die gefüllten Einträge der Liste ausgibt. Verwende dabei nicht die Methode `filterNotNull()`."
   ]
  },
  {
   "cell_type": "code",
   "execution_count": 37,
   "id": "588ad17a",
   "metadata": {},
   "outputs": [
    {
     "name": "stdout",
     "output_type": "stream",
     "text": [
      "Test 1: Liste: [null, null, null, null, 15], Ausgabe: 15 \n",
      "Test 2: Liste: [null, null, null, null, null], Ausgabe: \n",
      "Test 3: Liste: [null, 19, null, 15, null], Ausgabe: 19 15 \n",
      "Test 4: Liste: [null, 16, 2, null, 18], Ausgabe: 16 2 18 \n",
      "Test 5: Liste: [null, null, 12, 18, 16], Ausgabe: 12 18 16 \n"
     ]
    }
   ],
   "source": [
    "//TODO\n",
    "\n",
    "//Test\n",
    "for(i in 1..5){\n",
    "    val testListe = fuelleListe(erzeugeListe())\n",
    "    print(\"Test $i: Liste: ${testListe}, Ausgabe: \")\n",
    "    printListe(testListe)\n",
    "    println()\n",
    "}"
   ]
  }
 ],
 "metadata": {
  "kernelspec": {
   "display_name": "Kotlin",
   "language": "kotlin",
   "name": "kotlin"
  },
  "language_info": {
   "codemirror_mode": "text/x-kotlin",
   "file_extension": ".kt",
   "mimetype": "text/x-kotlin",
   "name": "kotlin",
   "nbconvert_exporter": "",
   "pygments_lexer": "kotlin",
   "version": "1.5.20-dev-5817"
  }
 },
 "nbformat": 4,
 "nbformat_minor": 5
}
