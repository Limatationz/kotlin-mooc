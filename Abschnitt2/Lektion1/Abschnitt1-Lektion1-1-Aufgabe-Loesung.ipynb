{
 "cells": [
  {
   "cell_type": "markdown",
   "id": "23bd3b20-8013-49ae-9da8-78d785aeaca3",
   "metadata": {},
   "source": [
    "# Aufgabe - nullable Liste\n",
    "- Implementiere eine Funktion `erzeugeListe`, die eine leere, veränderbare Liste der Länge 5 gefüllt mit `null` initialisiert und zurückgibt.\n",
    "- Füge eine weitere Funktion `fuelleListe` hinzu, der eine Liste übergeben wird. Jedem Element soll mit einer Wahrscheinlichkeit von 50% ein neuer Wert zugewiesen werden, der zwischen 1 und 20 liegt.\n",
    "- Implementiere eine dritte Funktion `printListe`, die nur die gefüllten Einträge der Liste ausgibt. Verwende dabei nicht die Methode `filterNotNull()`."
   ]
  },
  {
   "cell_type": "code",
   "execution_count": 38,
   "id": "ee634541-4400-45f3-9ce4-fed230005db2",
   "metadata": {
    "tags": []
   },
   "outputs": [
    {
     "name": "stdout",
     "output_type": "stream",
     "text": [
      "Test 1: Liste: [null, null, null, null, null], Ausgabe: \n",
      "Test 2: Liste: [null, 16, null, 17, null], Ausgabe: 16 17 \n",
      "Test 3: Liste: [null, 18, 2, 14, null], Ausgabe: 18 2 14 \n",
      "Test 4: Liste: [10, 5, null, null, null], Ausgabe: 10 5 \n",
      "Test 5: Liste: [null, null, null, null, 13], Ausgabe: 13 \n"
     ]
    }
   ],
   "source": [
    "//Lösung\n",
    "fun erzeugeListe() = MutableList<Int?>(5) { null }\n",
    "\n",
    "fun fuelleListe(liste: MutableList<Int?>): MutableList<Int?> {\n",
    "    for (i in 0 until liste.size){\n",
    "        if ((0..2).random() == 1){\n",
    "            liste[i] = (1..20).random()\n",
    "        }\n",
    "    }\n",
    "    return liste\n",
    "}\n",
    "\n",
    "fun printListe(liste: List<Int?>){\n",
    "    for(i in 0 until liste.size){\n",
    "        liste[i]?.let {print(\"$it \")}\n",
    "    }\n",
    "}\n",
    "\n",
    "//Test\n",
    "for(i in 1..5){\n",
    "    val testListe = fuelleListe(erzeugeListe())\n",
    "    print(\"Test $i: Liste: ${testListe}, Ausgabe: \")\n",
    "    printListe(testListe)\n",
    "    println()\n",
    "}"
   ]
  }
 ],
 "metadata": {
  "kernelspec": {
   "display_name": "Kotlin",
   "language": "kotlin",
   "name": "kotlin"
  },
  "language_info": {
   "codemirror_mode": "text/x-kotlin",
   "file_extension": ".kt",
   "mimetype": "text/x-kotlin",
   "name": "kotlin",
   "nbconvert_exporter": "",
   "pygments_lexer": "kotlin",
   "version": "1.5.20-dev-5817"
  }
 },
 "nbformat": 4,
 "nbformat_minor": 5
}
