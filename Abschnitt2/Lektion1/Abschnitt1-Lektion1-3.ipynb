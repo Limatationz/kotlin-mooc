{
 "cells": [
  {
   "cell_type": "markdown",
   "id": "e0f70c4a-89e8-49b4-8c58-e5f3115abd65",
   "metadata": {},
   "source": [
    "### Safe Casts\n",
    "Die in Abschnitt 1 kennengelernte Typumwandlung kann noch weiter vereinfacht werden. Durch einen *safe cast* ist keine Überprüfung durch `is` mehr nötig. Das dafür benötigte Schlüsselwort ist `as?`. Sollte die Typumwandlung nicht möglich sein, wird der Ausdruck `null`. Ansonsten wird der Wert der Variable zurückgegeben. Eine analoge `if`-Verzweigung sieht folgendermaßen aus:\n",
    "```kotlin\n",
    "val string = if (any is String) a else null\n",
    "```"
   ]
  },
  {
   "cell_type": "code",
   "execution_count": 8,
   "id": "51744a44-60c9-4abc-92cb-a398e49ae96b",
   "metadata": {
    "execution": {
     "iopub.execute_input": "2021-04-18T14:37+0200",
     "iopub.status.busy": "2021-04-18T14:37+0200",
     "iopub.status.idle": "2021-04-18T14:37+0200",
     "shell.execute_reply": "2021-04-18T14:37+0200",
     "shell.execute_reply.started": "2021-04-18T14:37+0200"
    }
   },
   "outputs": [
    {
     "name": "stdout",
     "output_type": "stream",
     "text": [
      "1\n",
      "null\n"
     ]
    }
   ],
   "source": [
    "val any: Any? = 0\n",
    "//Wenn Int\n",
    "println((any as? Int)?.inc())\n",
    "//Wenn String\n",
    "println((any as? String)?.toUpperCase())"
   ]
  }
 ],
 "metadata": {
  "kernelspec": {
   "display_name": "Kotlin",
   "language": "kotlin",
   "name": "kotlin"
  },
  "language_info": {
   "codemirror_mode": "text/x-kotlin",
   "file_extension": ".kt",
   "mimetype": "text/x-kotlin",
   "name": "kotlin",
   "nbconvert_exporter": "",
   "pygments_lexer": "kotlin",
   "version": "1.5.20-dev-5817"
  }
 },
 "nbformat": 4,
 "nbformat_minor": 5
}
