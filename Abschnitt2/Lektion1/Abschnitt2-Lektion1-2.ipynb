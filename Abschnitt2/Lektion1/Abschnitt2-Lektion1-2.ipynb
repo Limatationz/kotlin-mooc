{
 "cells": [
  {
   "cell_type": "markdown",
   "id": "f1fd0e68",
   "metadata": {},
   "source": [
    "### Elvis Operator\n",
    "Mit `?.` wurde bereits eine Möglichkeit des sicheren Zugriffs vorgestellt. Jedoch wird, falls die Variable `null` referenziert, dies auch zurückgeben. Das ist nicht immer sinnvoll. Wenn anstelle dessen ein bestimmter Wert zurückgegeben werden soll, ist der Elvis Operator `?:` zu bevorzugen. Es ist äquivalent:\n",
    "<table style=\"font-size: 16px\">\n",
    "<thead>\n",
    "  <tr>\n",
    "    <th style=\"font-size: 16px; width: 300px\">if-Verzweigung</th>\n",
    "    <th style=\"font-size: 16px; width: 300px\">Elvis-Operator</th>\n",
    "  </tr>\n",
    "</thead>\n",
    "<tbody>\n",
    "  <tr>\n",
    "    <td style=\"font-size: 16px\"><pre>val size = if (v != null)<br />   v.length<br />else<br />   -1</pre></td>\n",
    "    <td style=\"font-size: 16px\"><pre>val size = v?.length ?: -1</pre></td>\n",
    "  </tr>\n",
    "</tbody>\n",
    "</table>\n",
    "\n",
    "\n",
    "Falls die linke Seite von `?:` `null` ist, wird der Wert rechts zurückgegeben. Ansonsten wird die Anweisung ausgeführt. Der Elvis Operator kann auch in Verbindung mit `return` oder `throw` verwendet werden."
   ]
  },
  {
   "cell_type": "code",
   "execution_count": 1,
   "id": "7a027bd7",
   "metadata": {
    "execution": {
     "iopub.execute_input": "2021-11-17T20:43+0100",
     "iopub.status.busy": "2021-11-17T20:43+0100",
     "iopub.status.idle": "2021-11-17T20:43+0100",
     "shell.execute_reply": "2021-11-17T20:43+0100",
     "shell.execute_reply.started": "2021-11-17T20:43+0100"
    },
    "tags": []
   },
   "outputs": [
    {
     "name": "stdout",
     "output_type": "stream",
     "text": [
      "nullableCharZuInt(null): -1\n",
      "nullableCharZuInt('A'): 65\n"
     ]
    }
   ],
   "source": [
    "fun nullableCharZuInt (a: Char?) = a?.toInt() ?: -1\n",
    "\n",
    "println(\"nullableCharZuInt(null): ${nullableCharZuInt(null)}\")\n",
    "println(\"nullableCharZuInt('A'): ${nullableCharZuInt('A')}\")"
   ]
  },
  {
   "cell_type": "markdown",
   "id": "c6ca78b2",
   "metadata": {},
   "source": [
    "### !! Operator\n",
    "Ganz verschwunden sind die `NullPointerExceptions` aber nicht. Mit `!!` wird die Variable in eine *non-nullable*-Variable umgewandelt. Sollte bei diesem Vorgang die Variable `null` referenzieren, wird eine `NullPointerException` geworfen."
   ]
  },
  {
   "cell_type": "code",
   "execution_count": 2,
   "id": "f3a34627",
   "metadata": {
    "execution": {
     "iopub.execute_input": "2021-11-17T20:43+0100",
     "iopub.status.busy": "2021-11-17T20:43+0100",
     "iopub.status.idle": "2021-11-17T20:43+0100"
    },
    "tags": []
   },
   "outputs": [
    {
     "name": "stdout",
     "output_type": "stream",
     "text": [
      "6\n"
     ]
    },
    {
     "name": "stderr",
     "output_type": "stream",
     "text": [
      "\n",
      "java.lang.NullPointerException\n",
      "org.jetbrains.kotlinx.jupyter.ReplEvalRuntimeException: \n",
      "\tat org.jetbrains.kotlinx.jupyter.repl.impl.InternalEvaluatorImpl.eval(InternalEvaluatorImpl.kt:106)\n",
      "\tat org.jetbrains.kotlinx.jupyter.repl.impl.CellExecutorImpl$execute$1$result$1.invoke(CellExecutorImpl.kt:64)\n",
      "\tat org.jetbrains.kotlinx.jupyter.repl.impl.CellExecutorImpl$execute$1$result$1.invoke(CellExecutorImpl.kt:63)\n",
      "\tat org.jetbrains.kotlinx.jupyter.ReplForJupyterImpl.withHost(repl.kt:596)\n",
      "\tat org.jetbrains.kotlinx.jupyter.repl.impl.CellExecutorImpl.execute(CellExecutorImpl.kt:63)\n",
      "\tat org.jetbrains.kotlinx.jupyter.repl.CellExecutor$DefaultImpls.execute$default(CellExecutor.kt:13)\n",
      "\tat org.jetbrains.kotlinx.jupyter.ReplForJupyterImpl$evalEx$1.invoke(repl.kt:419)\n",
      "\tat org.jetbrains.kotlinx.jupyter.ReplForJupyterImpl$evalEx$1.invoke(repl.kt:408)\n",
      "\tat org.jetbrains.kotlinx.jupyter.ReplForJupyterImpl.withEvalContext(repl.kt:372)\n",
      "\tat org.jetbrains.kotlinx.jupyter.ReplForJupyterImpl.evalEx(repl.kt:408)\n",
      "\tat org.jetbrains.kotlinx.jupyter.ReplForJupyterImpl.eval(repl.kt:456)\n",
      "\tat org.jetbrains.kotlinx.jupyter.ProtocolKt$shellMessagesHandler$res$1.invoke(protocol.kt:290)\n",
      "\tat org.jetbrains.kotlinx.jupyter.ProtocolKt$shellMessagesHandler$res$1.invoke(protocol.kt:289)\n",
      "\tat org.jetbrains.kotlinx.jupyter.JupyterConnection$runExecution$execThread$1.invoke(connection.kt:166)\n",
      "\tat org.jetbrains.kotlinx.jupyter.JupyterConnection$runExecution$execThread$1.invoke(connection.kt:164)\n",
      "\tat kotlin.concurrent.ThreadsKt$thread$thread$1.run(Thread.kt:30)\n",
      "Caused by: java.lang.NullPointerException\n",
      "\tat Line_1.<init>(Line_1.jupyter-kts:5)\n",
      "\tat java.base/jdk.internal.reflect.NativeConstructorAccessorImpl.newInstance0(Native Method)\n",
      "\tat java.base/jdk.internal.reflect.NativeConstructorAccessorImpl.newInstance(NativeConstructorAccessorImpl.java:77)\n",
      "\tat java.base/jdk.internal.reflect.DelegatingConstructorAccessorImpl.newInstance(DelegatingConstructorAccessorImpl.java:45)\n",
      "\tat java.base/java.lang.reflect.Constructor.newInstanceWithCaller(Constructor.java:499)\n",
      "\tat java.base/java.lang.reflect.Constructor.newInstance(Constructor.java:480)\n",
      "\tat kotlin.script.experimental.jvm.BasicJvmScriptEvaluator.evalWithConfigAndOtherScriptsResults(BasicJvmScriptEvaluator.kt:96)\n",
      "\tat kotlin.script.experimental.jvm.BasicJvmScriptEvaluator.invoke$suspendImpl(BasicJvmScriptEvaluator.kt:41)\n",
      "\tat kotlin.script.experimental.jvm.BasicJvmScriptEvaluator.invoke(BasicJvmScriptEvaluator.kt)\n",
      "\tat kotlin.script.experimental.jvm.BasicJvmReplEvaluator.eval(BasicJvmReplEvaluator.kt:51)\n",
      "\tat org.jetbrains.kotlinx.jupyter.repl.impl.InternalEvaluatorImpl$eval$resultWithDiagnostics$1.invokeSuspend(InternalEvaluatorImpl.kt:99)\n",
      "\tat kotlin.coroutines.jvm.internal.BaseContinuationImpl.resumeWith(ContinuationImpl.kt:33)\n",
      "\tat kotlinx.coroutines.DispatchedTask.run(DispatchedTask.kt:106)\n",
      "\tat kotlinx.coroutines.EventLoopImplBase.processNextEvent(EventLoop.common.kt:274)\n",
      "\tat kotlinx.coroutines.BlockingCoroutine.joinBlocking(Builders.kt:85)\n",
      "\tat kotlinx.coroutines.BuildersKt__BuildersKt.runBlocking(Builders.kt:59)\n",
      "\tat kotlinx.coroutines.BuildersKt.runBlocking(Unknown Source)\n",
      "\tat kotlinx.coroutines.BuildersKt__BuildersKt.runBlocking$default(Builders.kt:38)\n",
      "\tat kotlinx.coroutines.BuildersKt.runBlocking$default(Unknown Source)\n",
      "\tat org.jetbrains.kotlinx.jupyter.repl.impl.InternalEvaluatorImpl.eval(InternalEvaluatorImpl.kt:99)\n",
      "\t... 15 more\n",
      "\n"
     ]
    }
   ],
   "source": [
    "val v1: String? = \"Kotlin\"\n",
    "val v2: String? = null\n",
    "\n",
    "println(v1?.length)\n",
    "println(v2!!.length)"
   ]
  }
 ],
 "metadata": {
  "kernelspec": {
   "display_name": "Kotlin",
   "language": "kotlin",
   "name": "kotlin"
  },
  "language_info": {
   "codemirror_mode": "text/x-kotlin",
   "file_extension": ".kt",
   "mimetype": "text/x-kotlin",
   "name": "kotlin",
   "nbconvert_exporter": "",
   "pygments_lexer": "kotlin",
   "version": "1.6.20-dev-3702"
  }
 },
 "nbformat": 4,
 "nbformat_minor": 5
}
