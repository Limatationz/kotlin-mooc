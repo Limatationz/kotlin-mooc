{
 "cells": [
  {
   "cell_type": "markdown",
   "id": "3152ac4a-f1ac-4eae-a5fb-3967a545606f",
   "metadata": {},
   "source": [
    "# Aufgabe - Elvis-Operator und NullPointerExceptions\n",
    "Implementiere die Funktion `konvertieren` in zwei Ausführungen. In beiden Fällen soll ein Parameter, der einen beliebigen, *nullable* Datentyp besitzt, in einen `String`, der zurückgegeben werden soll, umgewandelt werden. `konvertierenElvis` soll den des Elvis-Operator verwenden und bei Übergabe von `null` die Zeichenkette `Fehler` zurückgeben. Bei der zweiten Implementierung, mit dem Namen `konvertierenNPE`, soll der `!!`-Operator verwendet und bei einer Referenzierung auf `null` eine `NullPointerException` geworfen werden."
   ]
  },
  {
   "cell_type": "code",
   "execution_count": 69,
   "id": "2c9f2473-839a-41fb-b5df-67c8f03aeec0",
   "metadata": {},
   "outputs": [
    {
     "name": "stdout",
     "output_type": "stream",
     "text": [
      "Super! konvertierenElvis ist richtig.\n",
      "Super! konvertierenNPE ist richtig.\n"
     ]
    }
   ],
   "source": [
    "//TODO\n",
    "\n",
    "//Test\n",
    "if (konvertierenElvis(12) == \"12\" && konvertierenElvis(null) == \"Fehler\")\n",
    "    println(\"Super! konvertierenElvis ist richtig.\")\n",
    "else\n",
    "    println(\"Das Verhalten von konvertierenElvis ist noch nicht richtig.\")\n",
    "\n",
    "var testNPE = true\n",
    "if (konvertierenElvis(12) != \"12\")\n",
    "    testNPE = false\n",
    "try{\n",
    "    konvertierenNPE(null)\n",
    "    testNPE = false\n",
    "}\n",
    "catch (npe: NullPointerException){\n",
    "    testNPE = true\n",
    "}\n",
    "if(testNPE)\n",
    "    println(\"Super! konvertierenNPE ist richtig.\")\n",
    "else\n",
    "    println(\"Das Verhalten von konvertierenNPE ist noch nicht richtig.\")"
   ]
  },
  {
   "cell_type": "code",
   "execution_count": 70,
   "id": "d4e1ffa7-2136-4f1f-b925-2126a54991a1",
   "metadata": {},
   "outputs": [
    {
     "name": "stdout",
     "output_type": "stream",
     "text": [
      "Super! konvertierenElvis ist richtig.\n",
      "Super! konvertierenNPE ist richtig.\n"
     ]
    }
   ],
   "source": [
    "//Lösung\n",
    "fun konvertierenElvis (a: Any?) = a?.toString() ?: \"Fehler\"\n",
    "fun konvertierenNPE (a: Any?) = a!!.toString()\n",
    "\n",
    "//Test\n",
    "if (konvertierenElvis(12) == \"12\" && konvertierenElvis(null) == \"Fehler\")\n",
    "    println(\"Super! konvertierenElvis ist richtig.\")\n",
    "else\n",
    "    println(\"Das Verhalten von konvertierenElvis ist noch nicht richtig.\")\n",
    "\n",
    "var testNPE = true\n",
    "if (konvertierenElvis(12) != \"12\")\n",
    "    testNPE = false\n",
    "try{\n",
    "    konvertierenNPE(null)\n",
    "    testNPE = false\n",
    "}\n",
    "catch (npe: NullPointerException){\n",
    "    testNPE = true\n",
    "}\n",
    "if(testNPE)\n",
    "    println(\"Super! konvertierenNPE ist richtig.\")\n",
    "else\n",
    "    println(\"Das Verhalten von konvertierenNPE ist noch nicht richtig.\")"
   ]
  }
 ],
 "metadata": {
  "kernelspec": {
   "display_name": "Kotlin",
   "language": "kotlin",
   "name": "kotlin"
  },
  "language_info": {
   "codemirror_mode": "text/x-kotlin",
   "file_extension": ".kt",
   "mimetype": "text/x-kotlin",
   "name": "kotlin",
   "nbconvert_exporter": "",
   "pygments_lexer": "kotlin",
   "version": "1.5.20-dev-5817"
  }
 },
 "nbformat": 4,
 "nbformat_minor": 5
}
