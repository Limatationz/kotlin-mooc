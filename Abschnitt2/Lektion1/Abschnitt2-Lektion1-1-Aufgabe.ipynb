{
 "cells": [
  {
   "cell_type": "markdown",
   "id": "51b22b90",
   "metadata": {},
   "source": [
    "# Aufgabe - nullable Liste\n",
    "- Implementieren Sie eine Funktion `erzeugeListe`, die eine leere, veränderbare Liste der Länge 5, in die Elemente des Typs `Int` und `null` eingefügt werden können, zurückgibt. Initialisieren Sie die Liste, indem die alle Elemente auf `null` setzen.\n",
    "- Fügen Sie eine weitere Funktion `fuelleListe` hinzu, der eine Liste übergeben wird. Jedem Element soll mit einer Wahrscheinlichkeit von 50% ein neuer Wert zugewiesen werden, der zwischen 1 und 20 liegt.\n",
    "- Implementieren Sie eine dritte Funktion `printListe`, die nur die gefüllten Einträge der Liste ausgibt. Verwende dabei nicht die Methode `filterNotNull()`."
   ]
  },
  {
   "cell_type": "code",
   "execution_count": null,
   "id": "a6f0f3ca",
   "metadata": {},
   "outputs": [],
   "source": [
    "//TODO\n",
    "\n",
    "//Test\n",
    "for(i in 1..5){\n",
    "    val testListe = fuelleListe(erzeugeListe())\n",
    "    print(\"Test $i: Liste: ${testListe}, Ausgabe: \")\n",
    "    printListe(testListe)\n",
    "    println()\n",
    "}"
   ]
  }
 ],
 "metadata": {
  "kernelspec": {
   "display_name": "Kotlin",
   "language": "kotlin",
   "name": "kotlin"
  },
  "language_info": {
   "codemirror_mode": "text/x-kotlin",
   "file_extension": ".kt",
   "mimetype": "text/x-kotlin",
   "name": "kotlin",
   "nbconvert_exporter": "",
   "pygments_lexer": "kotlin",
   "version": "1.6.20-dev-3702"
  }
 },
 "nbformat": 4,
 "nbformat_minor": 5
}
