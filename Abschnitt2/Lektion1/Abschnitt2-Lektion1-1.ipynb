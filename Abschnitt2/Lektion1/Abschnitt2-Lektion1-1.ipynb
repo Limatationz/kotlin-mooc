{
 "cells": [
  {
   "cell_type": "markdown",
   "id": "f9326b21",
   "metadata": {},
   "source": [
    "<img src=\"../images/Lektion1.png\" style=\"margin: 20px auto 20px 0px\"/>\n",
    "<h2 style=\"display:none\">Lektion 1 - null oder nicht null?</h2>\n",
    "\n",
    "Bisher konnten alle Variablen und Funktionen nicht mit dem Wert `null` umgehen. Das soll sich aber in dieser Lektion ändern. Referenziert eine Variable `null`, so ist diese mit *keinem* Wert belegt. Wird im Laufe der Ausführung der Wert einer solchen Variable abgefragt, kommt es zu der bekannten Fehlermeldung `NullPointerException`. Der Grund ist dabei meist nicht direkt zu erkennen, da er bereits vor dem Zeitpunkt der Meldung herbeigeführt wurde. Dies führt zu einer langwierigen und nervigen Fehlersuche. Das erkannte auch Tony Hoare, der Erfinder von `null`. [2009](https://qconlondon.com/london-2009/qconlondon.com/london-2009/speaker/Tony+Hoare.html) nannte er seine Innovation den \"[...] billion-dollar mistake\". Den Ersteller:innen von Kotlin war dies bewusst und deswegen entschlossen sie sich dazu eine Art *Parallelwelt* zu erschaffen: Jeder Datentyp besitzt zusätzlich eine *nullable*, zusätzlich zu der *normalen* *non-nullable* Version. Durch diese Erweiterung werden `NullPointerExceptions` zwar nicht überflüssig, sondern zu Fehlern, die bei der Kompilierung und nicht bei der Ausführung auftreten. Dies ist möglich, da bei der Deklarierung der Variablen angegeben werden muss, welche *Version* der Datentyp verwenden soll. Der *nullable* Datentyp wird mit einem angehängten `?` gekennzeichnet. Bei der Deklarierung einer *nullable*-Variable muss der Datentyp immer angegeben werden."
   ]
  },
  {
   "cell_type": "code",
   "execution_count": 1,
   "id": "563dece3",
   "metadata": {
    "execution": {
     "iopub.execute_input": "2021-04-18T14:36+0200",
     "iopub.status.busy": "2021-04-18T14:36+0200",
     "iopub.status.idle": "2021-04-18T14:36+0200",
     "shell.execute_reply": "2021-04-18T14:36+0200",
     "shell.execute_reply.started": "2021-04-18T14:36+0200"
    }
   },
   "outputs": [
    {
     "name": "stdout",
     "output_type": "stream",
     "text": [
      "v1: 0\n",
      "v2: null\n"
     ]
    }
   ],
   "source": [
    "var v1: Int = 0 //v1 kann nicht null werden\n",
    "//v1 = null -> Error: Null can not be a value of a non-null type Int\n",
    "println(\"v1: $v1\")\n",
    "\n",
    "var v2: Int? = 0 //v2 kann null werden\n",
    "v2 = null\n",
    "println(\"v2: $v2\")\n",
    "\n",
    "val v3 = null //Datentyp: Nothing?"
   ]
  },
  {
   "cell_type": "markdown",
   "id": "e851416b",
   "metadata": {},
   "source": [
    "Im Code müssen als Folge alle Zugriffe auf eine *nullable*-Variable abgesichert werden. Das heißt, es muss vorher geprüft werden, ob die Variable aktuell den Wert `null` referenziert oder nicht."
   ]
  },
  {
   "cell_type": "code",
   "execution_count": 9,
   "id": "abc2047d",
   "metadata": {
    "tags": []
   },
   "outputs": [
    {
     "name": "stdout",
     "output_type": "stream",
     "text": [
      "v1: Kotlin, Länge: 6; v2: null, Länge: -1; \n"
     ]
    }
   ],
   "source": [
    "val v1: String? = \"Kotlin\"\n",
    "//val vsize1 = v1.length -> Error, da v1 null sein könnte und es nicht vorher überprüft wurde\n",
    "val size1 = if (v1 != null)\n",
    "                v1.length\n",
    "             else\n",
    "                -1\n",
    "\n",
    "val v2: String? = null\n",
    "val size2 = if (v2 != null)\n",
    "                v2.length\n",
    "             else\n",
    "                -1\n",
    "println(\"v1: $v1, Länge: $size1; v2: $v2, Länge: $size2; \")"
   ]
  },
  {
   "cell_type": "markdown",
   "id": "c463f65d",
   "metadata": {},
   "source": [
    "### Umsetzung im Java Byte Code\n",
    "Bekanntlich basiert Kotlin auf der JVM und ist somit mit Java kompatibel. In Java wird aber nicht zwischen *nullable*- und *non-nullable*-Variablen unterschieden. Deswegen werden Anmerkungen zu jeder Variable oder Methode hinzugefügt, die definieren, ob `null` zugelassen ist oder nicht. Diese werden zur Kompilierzeit überprüft. Also ist während der Ausführung kein Unterschied festzustellen. Dazu ein Beispiel:\n",
    "<table style=\"font-size: 16px\">\n",
    "<thead>\n",
    "  <tr>\n",
    "    <th style=\"font-size: 16px; width: 250px\">Kotlin</th>\n",
    "    <th style=\"font-size: 16px; width: 350px\">Java Bytecode</th>\n",
    "  </tr>\n",
    "</thead>\n",
    "<tbody>\n",
    "  <tr>\n",
    "    <td style=\"font-size: 16px\"><code>val notNullable: Int = 0<br>val nullable: Int? = 0</code></td>\n",
    "    <td style=\"font-size: 16px\"><code>@NotNull<br />static final int notNullable = 0;<br />@Nullable<br />static final int nullable = 0;</code></td>\n",
    "  </tr>\n",
    "</tbody>\n",
    "</table>"
   ]
  },
  {
   "cell_type": "markdown",
   "id": "9700996e",
   "metadata": {},
   "source": [
    "### Sicherer Zugriff\n",
    "Jedes Mal vor einem Zugriff `null` mit einer Verzweigung zu prüfen, kann lästig und platzraubend sein. Deswegen bietet Kotlin einen sogenannten sicheren Zugriff an. Dieser kann mit `?.` benutzt werden. Im Hintergrund wird an dieser Stelle überprüft, ob die Variable `null` ist. Falls das der Fall sein sollte, wird `null` zurückgegeben. Ansonsten wird die Anweisung ausgeführt."
   ]
  },
  {
   "cell_type": "code",
   "execution_count": 10,
   "id": "4c36f68e",
   "metadata": {
    "tags": []
   },
   "outputs": [
    {
     "name": "stdout",
     "output_type": "stream",
     "text": [
      "v1: Kotlin, Länge: 6; v2: null, Länge: null; \n"
     ]
    }
   ],
   "source": [
    "val v1: String? = \"Kotlin\"\n",
    "val size1 = v1?.length\n",
    "\n",
    "val v2: String? = null\n",
    "val size2 = v2?.length\n",
    "\n",
    "println(\"v1: $v1, Länge: $size1; v2: $v2, Länge: $size2; \")"
   ]
  },
  {
   "cell_type": "markdown",
   "id": "b581f588",
   "metadata": {},
   "source": [
    "Sichere Zugriffe können auch aneinander gehängen werden. Die Anweisung wird nur ausgeführt, wenn keine Variable den Wert `null` besitzt.\n",
    "```kotlin\n",
    "kurs?.person1?.name?.length\n",
    "```"
   ]
  },
  {
   "cell_type": "markdown",
   "id": "e7e5130a",
   "metadata": {},
   "source": [
    "### let\n",
    "Soll eine Operation nur ausgeführt werden, wenn der Wert nicht `null` referenziert, kann `let` zusammen mit einem sicheren Zugriff verwendet werden. Dafür wird ein Lambda-Ausdruck benötigt, der in [Lektion 2](#Lektion-2---Lambda-Ausdrücke) näher betrachtet wird. In dem Ausdruck kann auf das aktuelle Element mit `it` zugegriffen werden."
   ]
  },
  {
   "cell_type": "code",
   "execution_count": 12,
   "id": "b27e23bc",
   "metadata": {
    "tags": []
   },
   "outputs": [
    {
     "name": "stdout",
     "output_type": "stream",
     "text": [
      "Java\n",
      "Kotlin\n",
      "Lua\n",
      "C++\n"
     ]
    }
   ],
   "source": [
    "val liste = listOf(\"Java\", null, \"Kotlin\", \"Lua\", null, \"C++\") //Datentyp der Elemente der Liste: String?\n",
    "for (i in 0 until liste.size){ //durchläuft die Liste liste\n",
    "    liste[i]?.let { println(it) } //Greift mit einem sicheren Zugriff auf das Element an Stelle i zu. Falls dieses null ist, passiert nichts, ansonsten wird der Wert des Elements ausgegeben.\n",
    "}"
   ]
  },
  {
   "cell_type": "markdown",
   "id": "f18bba8b",
   "metadata": {},
   "source": [
    "### Datenstrukturen\n",
    "Auch können Datenstrukturen mit *nullable* Elementen gefüllt werden. Dafür muss bei der Deklarierung ein *nullable* Datentyp angegeben werden."
   ]
  },
  {
   "cell_type": "code",
   "execution_count": 71,
   "id": "bea9a548",
   "metadata": {
    "tags": []
   },
   "outputs": [
    {
     "name": "stdout",
     "output_type": "stream",
     "text": [
      "liste1: [null, null, null, null, null]\n",
      "liste2: [0, 1, 2, 3, 4]\n",
      "liste3: [0, 1, 2, 3, 4, null]\n",
      "liste4: [1, 4, null, 1, 8, null]\n"
     ]
    }
   ],
   "source": [
    "val liste1 = List<Int?>(5) {null}\n",
    "println(\"liste1: $liste1\")\n",
    "\n",
    "val liste2 = MutableList<Int>(5) {it}\n",
    "//liste2.add(null) -> Error: Null can not be a value of a non-null type Int\n",
    "println(\"liste2: $liste2\")\n",
    "\n",
    "val liste3 = MutableList<Int?>(5) {it}\n",
    "liste3.add(null) \n",
    "println(\"liste3: $liste3\")\n",
    "\n",
    "val liste4 = listOf(1,4,null,1,8,null) //Datentyp: Int?\n",
    "println(\"liste4: $liste4\")"
   ]
  },
  {
   "cell_type": "markdown",
   "id": "03548d2e",
   "metadata": {},
   "source": [
    "Eine Liste mit `null` kann in eine ohne `null` umgewandelt werden. Dies ist mit der Methode `filterNotNull()` möglich."
   ]
  },
  {
   "cell_type": "code",
   "execution_count": 10,
   "id": "a49829f7",
   "metadata": {
    "execution": {
     "iopub.execute_input": "2021-04-18T14:37+0200",
     "iopub.status.busy": "2021-04-18T14:37+0200",
     "iopub.status.idle": "2021-04-18T14:37+0200",
     "shell.execute_reply": "2021-04-18T14:37+0200",
     "shell.execute_reply.started": "2021-04-18T14:37+0200"
    }
   },
   "outputs": [
    {
     "name": "stdout",
     "output_type": "stream",
     "text": [
      "listeMitNull: [1, 4, null, 1, 8, null]\n",
      "listeOhneNull: [1, 4, 1, 8]\n"
     ]
    }
   ],
   "source": [
    "val listeMitNull = listOf(1,4,null,1,8,null)\n",
    "val listeOhneNull = listeMitNull.filterNotNull()\n",
    "println(\"listeMitNull: $listeMitNull\")\n",
    "println(\"listeOhneNull: $listeOhneNull\")"
   ]
  }
 ],
 "metadata": {
  "kernelspec": {
   "display_name": "Kotlin",
   "language": "kotlin",
   "name": "kotlin"
  },
  "language_info": {
   "codemirror_mode": "text/x-kotlin",
   "file_extension": ".kt",
   "mimetype": "text/x-kotlin",
   "name": "kotlin",
   "nbconvert_exporter": "",
   "pygments_lexer": "kotlin",
   "version": "1.5.20-dev-5817"
  }
 },
 "nbformat": 4,
 "nbformat_minor": 5
}
