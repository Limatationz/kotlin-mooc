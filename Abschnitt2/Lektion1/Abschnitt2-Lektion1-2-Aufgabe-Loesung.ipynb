{
 "cells": [
  {
   "cell_type": "markdown",
   "id": "c90a480d",
   "metadata": {},
   "source": [
    "# Aufgabe - Elvis-Operator und NullPointerExceptions\n",
    "Implementieren Sie die Funktion `konvertieren` in zwei Ausführungen. In beiden Fällen soll ein Parameter, der einen beliebigen, *nullable* Datentyp besitzt, in einen `String`, der zurückgegeben werden soll, umgewandelt werden. `konvertierenElvis` soll den des Elvis-Operator verwenden und bei Übergabe von `null` die Zeichenkette `Fehler` zurückgeben. Bei der zweiten Implementierung, mit dem Namen `konvertierenNPE`, soll der `!!`-Operator verwendet und bei einer Referenzierung auf `null` eine `NullPointerException` geworfen werden."
   ]
  },
  {
   "cell_type": "code",
   "execution_count": 1,
   "id": "fb0c2a45",
   "metadata": {
    "execution": {
     "iopub.execute_input": "2021-11-17T20:43+0100",
     "iopub.status.busy": "2021-11-17T20:43+0100",
     "iopub.status.idle": "2021-11-17T20:43+0100",
     "shell.execute_reply": "2021-11-17T20:43+0100",
     "shell.execute_reply.started": "2021-11-17T20:43+0100"
    },
    "tags": []
   },
   "outputs": [
    {
     "name": "stdout",
     "output_type": "stream",
     "text": [
      "Super! konvertierenElvis ist richtig.\n",
      "Super! konvertierenNPE ist richtig.\n"
     ]
    }
   ],
   "source": [
    "//Lösung\n",
    "fun konvertierenElvis (a: Any?) = a?.toString() ?: \"Fehler\"\n",
    "fun konvertierenNPE (a: Any?) = a!!.toString()\n",
    "\n",
    "//Test\n",
    "if (konvertierenElvis(12) == \"12\" && konvertierenElvis(null) == \"Fehler\")\n",
    "    println(\"Super! konvertierenElvis ist richtig.\")\n",
    "else\n",
    "    println(\"Das Verhalten von konvertierenElvis ist noch nicht richtig.\")\n",
    "\n",
    "var testNPE = true\n",
    "if (konvertierenElvis(12) != \"12\")\n",
    "    testNPE = false\n",
    "try{\n",
    "    konvertierenNPE(null)\n",
    "    testNPE = false\n",
    "}\n",
    "catch (npe: NullPointerException){\n",
    "    testNPE = true\n",
    "}\n",
    "if(testNPE)\n",
    "    println(\"Super! konvertierenNPE ist richtig.\")\n",
    "else\n",
    "    println(\"Das Verhalten von konvertierenNPE ist noch nicht richtig.\")"
   ]
  }
 ],
 "metadata": {
  "kernelspec": {
   "display_name": "Kotlin",
   "language": "kotlin",
   "name": "kotlin"
  },
  "language_info": {
   "codemirror_mode": "text/x-kotlin",
   "file_extension": ".kt",
   "mimetype": "text/x-kotlin",
   "name": "kotlin",
   "nbconvert_exporter": "",
   "pygments_lexer": "kotlin",
   "version": "1.6.20-dev-3702"
  }
 },
 "nbformat": 4,
 "nbformat_minor": 5
}
