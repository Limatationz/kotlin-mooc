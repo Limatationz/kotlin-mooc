{
 "cells": [
  {
   "cell_type": "markdown",
   "id": "047cbab0-6584-4b44-ba51-ef96566a9780",
   "metadata": {},
   "source": [
    "# Aufgabe - Liste umkehren\n",
    "Vervollständige folgenden Code, sodass zuerst eine Liste `liste` mit 200 Elementen erstellt wird, die mit deren Index gefüllt sind. Verwende daraufhin die Methode `map` in Verbindung mit einem passendem Lambda-Ausdruck, sodass die Werte der Liste umgedreht und in einer neuen Liste `listeUmgekehrt` gespeichert werden. (Beispiel: Voher: [0, 1, 2, 3], Nachher: [3, 2, 1, 0])"
   ]
  },
  {
   "cell_type": "code",
   "execution_count": 19,
   "id": "8c74c1e5-a3ef-4744-8801-2be9bb18037b",
   "metadata": {
    "execution": {
     "iopub.execute_input": "2021-04-18T14:37+0200",
     "iopub.status.busy": "2021-04-18T14:37+0200",
     "iopub.status.idle": "2021-04-18T14:37+0200",
     "shell.execute_reply": "2021-04-18T14:37+0200"
    }
   },
   "outputs": [
    {
     "name": "stderr",
     "output_type": "stream",
     "text": [
      "Line_24.jupyter.kts (12:5 - 19) Unresolved reference: listeUmgekehrt\n",
      "Line_24.jupyter.kts (13:75 - 89) Unresolved reference: listeUmgekehrt"
     ]
    }
   ],
   "source": [
    "//TODO \n",
    "\n",
    "//Test\n",
    "var fehler = 0\n",
    "for (i in 0..199 step 32){\n",
    "    if (liste[i] != i){\n",
    "        println(\"Fehler in liste! Element $i sollte eigentlich $i sein, ist aber ${liste[i]}\")\n",
    "        fehler++\n",
    "    }\n",
    "}\n",
    "if (listeUmgekehrt != liste.reversed()){\n",
    "    println(\"Fehler in listeUmgekehrt! \\nliste: $liste \\nlisteUmgekehrt: $listeUmgekehrt\")\n",
    "    fehler++\n",
    "}\n",
    "if(fehler == 0)\n",
    "    println(\"Super! Alle Tests bestanden!\")\n",
    "else\n",
    "    println(\"Bei $fehler Tests kamen Fehler auf.\")"
   ]
  }
 ],
 "metadata": {
  "kernelspec": {
   "display_name": "Kotlin",
   "language": "kotlin",
   "name": "kotlin"
  },
  "language_info": {
   "codemirror_mode": "text/x-kotlin",
   "file_extension": ".kt",
   "mimetype": "text/x-kotlin",
   "name": "kotlin",
   "nbconvert_exporter": "",
   "pygments_lexer": "kotlin",
   "version": "1.5.20-dev-5817"
  }
 },
 "nbformat": 4,
 "nbformat_minor": 5
}
