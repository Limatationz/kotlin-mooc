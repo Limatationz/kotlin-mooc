{
 "cells": [
  {
   "cell_type": "markdown",
   "id": "dce871be",
   "metadata": {},
   "source": [
    "# Aufgabe - Liste umkehren\n",
    "Vervollständigen Sie folgenden Code, sodass zuerst eine Liste `liste` mit 200 Elementen erstellt wird, die mit deren Index gefüllt sind. Verwende daraufhin die Methode `map` in Verbindung mit einem passendem Lambda-Ausdruck, sodass die Werte der Liste umgedreht und in einer neuen Liste `listeUmgekehrt` gespeichert werden.  \n",
    "Beispiel: Voher: [0, 1, 2, 3], Nachher: [3, 2, 1, 0]"
   ]
  },
  {
   "cell_type": "code",
   "execution_count": 78,
   "id": "c6572b2e",
   "metadata": {
    "tags": []
   },
   "outputs": [
    {
     "name": "stdout",
     "output_type": "stream",
     "text": [
      "Super! Alle Tests bestanden!\n"
     ]
    }
   ],
   "source": [
    "//Lösung\n",
    "val liste = List(200) { it }\n",
    "val listeUmgekehrt = liste.map { 199 - it }\n",
    "\n",
    "\n",
    "//Test\n",
    "var fehler = 0\n",
    "for (i in 0..199 step 32){\n",
    "    if (liste[i] != i){\n",
    "        println(\"Fehler in liste! Element $i sollte eigentlich $i sein, ist aber ${liste[i]}\")\n",
    "        fehler++\n",
    "    }\n",
    "}\n",
    "if (listeUmgekehrt != liste.reversed()){\n",
    "    println(\"Fehler in listeUmgekehrt! \\nliste: $liste \\nlisteUmgekehrt: $listeUmgekehrt\")\n",
    "    fehler++\n",
    "}\n",
    "if(fehler == 0)\n",
    "    println(\"Super! Alle Tests bestanden!\")\n",
    "else\n",
    "    println(\"Bei $fehler Tests kamen Fehler auf.\")"
   ]
  }
 ],
 "metadata": {
  "kernelspec": {
   "display_name": "Kotlin",
   "language": "kotlin",
   "name": "kotlin"
  },
  "language_info": {
   "codemirror_mode": "text/x-kotlin",
   "file_extension": ".kt",
   "mimetype": "text/x-kotlin",
   "name": "kotlin",
   "nbconvert_exporter": "",
   "pygments_lexer": "kotlin",
   "version": "1.5.20-dev-5817"
  }
 },
 "nbformat": 4,
 "nbformat_minor": 5
}
