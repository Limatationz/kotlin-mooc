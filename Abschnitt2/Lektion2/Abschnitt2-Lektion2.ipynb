{
 "cells": [
  {
   "cell_type": "markdown",
   "id": "5d378b16",
   "metadata": {},
   "source": [
    "<img src=\"../images/Lektion2.png\" style=\"margin: 20px auto 20px 0px\"/>\n",
    "<h2 style=\"display:none\">Lektion 2 - Lambda-Ausdrücke</h2>\n",
    "\n",
    "Wenn noch keine Erfahrungen im Bereich der funktionalen Programmierung erlangt wurden, ist es sehr wahrscheinlich, dass bei *Lambda* zuerst an λ aus der Mathematik gedacht wird. Aber keine Angst, es wird nicht mathematisch. In der funktionalen Programmierung sind Lambdas (oder auch Closures) vereinfachte Methoden, die beispielsweise auf Datenstrukturen angewendet werden. Jedoch wird zusätzlich bei Datenstrukturen eine mitgelieferte Methode benötigt, die den Lambda-Ausdruck verwenden kann.  \n",
    "Schauen wir uns dazu ein einführendes Beispiel an. In diesem sollen alle Elemente einer Liste mit 5 addiert werden. Zuerst eine mögliche imperative Lösung:"
   ]
  },
  {
   "cell_type": "code",
   "execution_count": 11,
   "id": "61cc737c",
   "metadata": {
    "execution": {
     "iopub.execute_input": "2021-04-18T14:37+0200",
     "iopub.status.busy": "2021-04-18T14:37+0200",
     "iopub.status.idle": "2021-04-18T14:37+0200",
     "shell.execute_reply": "2021-04-18T14:37+0200",
     "shell.execute_reply.started": "2021-04-18T14:37+0200"
    }
   },
   "outputs": [
    {
     "name": "stdout",
     "output_type": "stream",
     "text": [
      "Vorher: [0, 1, 2, 3, 4, 5, 6, 7, 8, 9, 10, 11, 12, 13, 14, 15, 16, 17, 18, 19]\n",
      "Nachher: [5, 6, 7, 8, 9, 10, 11, 12, 13, 14, 15, 16, 17, 18, 19, 20, 21, 22, 23, 24]\n"
     ]
    }
   ],
   "source": [
    "val liste = MutableList(20) { it }\n",
    "println(\"Vorher: $liste\")\n",
    "for (i in 0 until liste.size){\n",
    "    liste[i] += 5\n",
    "}\n",
    "println(\"Nachher: $liste\")"
   ]
  },
  {
   "cell_type": "markdown",
   "id": "fcda6c88",
   "metadata": {},
   "source": [
    "<img src=\"../images/map.png\" style=\"margin-left:10px; float: right\" />\n",
    "\n",
    "Für die funktionale Lösung wird ein Lambda-Ausdruck und eine Methode, die diesen auf der Liste anwendet, benötigt. Zuerst wird auf die Methode eingegangen. Wenn eine Methode auf jedes Element einer Liste angewendet werden soll, kommt `map` zum Einsatz. Sie gibt eine Datenstruktur (in diesem Fall eine Liste) zurück, bei der eine Funktion (genauer ein Lambda-Ausdruck) auf jedes Element angewendet wurde. Der Lambda-Ausdruck muss `map` als Parameter übergeben werden.  \n",
    "Ein Lambda wird von geschweiften Klammern ummantelt. Im Inneren wird eine Funktion in einer besonderen Schreibweise definiert. Auf der linken Seite werden die Parameter mit Name und Datentyp angegeben. Die rechte Seite beinhaltet den Funktionsrumpf. Getrennt werden die beiden Seiten mit `->`.  \n",
    "Daraus ergibt sich folgender Syntax:  \n",
    "\n",
    ">Lambda-Ausdruck -> \"{\" Parameter \"->\" Methodenrumpf \"}\"<br>\n",
    "Parameter -> Name \":\" Datentyp {\",\" Parameter}\n",
    "\n",
    "In unserem Beispiel soll die Methode `map` auf eine Liste mit Elementen des Datentyps `Int` anwendet werden. Nach der Definition von `map` wird der Funktionsrumpf des Lambda-Ausdrucks immer auf das aktuelle Element angewendet. Daraus lässt sich ableiten, dass wir einen Parameter benötigen, der den Datentyp der Elemente besitzt. Der Funktionsrumpf muss am Ende außerdem einen Wert zurückgeben, der dem aktuellen Element (dem Parameter des Lambdas) zugewiesen wird. Dies erfolgt ohne das Schlüsselwort `return`. Die Rückgabe ist das Ergebnis der letzten Anweisung im Funktionsrumpf.  \n",
    "Dies kann man sich folgendermaßen vorstellen:<br>\n",
    "```kotlin\n",
    "{ elem: Int -> elem + 5}\n",
    "//Entspricht\n",
    "elem = elem + 5\n",
    "```\n",
    "Mit diesem Wissen kann eine funktionale Lösung des Beispiels erstellt werden:"
   ]
  },
  {
   "cell_type": "code",
   "execution_count": 12,
   "id": "7e405657",
   "metadata": {
    "execution": {
     "iopub.execute_input": "2021-04-18T14:37+0200",
     "iopub.status.busy": "2021-04-18T14:37+0200",
     "iopub.status.idle": "2021-04-18T14:37+0200",
     "shell.execute_reply": "2021-04-18T14:37+0200",
     "shell.execute_reply.started": "2021-04-18T14:37+0200"
    }
   },
   "outputs": [
    {
     "name": "stdout",
     "output_type": "stream",
     "text": [
      "Vorher: [0, 1, 2, 3, 4, 5, 6, 7, 8, 9, 10, 11, 12, 13, 14, 15, 16, 17, 18, 19]\n",
      "Nachher: [5, 6, 7, 8, 9, 10, 11, 12, 13, 14, 15, 16, 17, 18, 19, 20, 21, 22, 23, 24]\n"
     ]
    }
   ],
   "source": [
    "var liste = MutableList(20) { it }\n",
    "println(\"Vorher: $liste\")\n",
    "val listeNeu = liste.map( { elem: Int -> elem + 5 } )\n",
    "println(\"Nachher: $listeNeu\")"
   ]
  },
  {
   "cell_type": "markdown",
   "id": "e4b6dcf5",
   "metadata": {},
   "source": [
    "Dieser Ausdruck kann aber noch weiter verkürzt und verschönert werden. Da dem Kompiler klar ist, dass in unseren Fall `elem` immer vom Typ `Int` ist (da der Ausdruck auf eine Liste mit `Int`-Elementen angewendet wird) kann der Datentyp des Parameters weggelassen werden."
   ]
  },
  {
   "cell_type": "code",
   "execution_count": 13,
   "id": "1c6c8ad6",
   "metadata": {
    "execution": {
     "iopub.execute_input": "2021-04-18T14:37+0200",
     "iopub.status.busy": "2021-04-18T14:37+0200",
     "iopub.status.idle": "2021-04-18T14:37+0200",
     "shell.execute_reply": "2021-04-18T14:37+0200",
     "shell.execute_reply.started": "2021-04-18T14:37+0200"
    }
   },
   "outputs": [
    {
     "name": "stdout",
     "output_type": "stream",
     "text": [
      "Vorher: [0, 1, 2, 3, 4, 5, 6, 7, 8, 9, 10, 11, 12, 13, 14, 15, 16, 17, 18, 19]\n",
      "Nachher: [5, 6, 7, 8, 9, 10, 11, 12, 13, 14, 15, 16, 17, 18, 19, 20, 21, 22, 23, 24]\n"
     ]
    }
   ],
   "source": [
    "var liste = MutableList(20) { it }\n",
    "println(\"Vorher: $liste\")\n",
    "val listeNeu = liste.map( { elem -> elem + 5 } )\n",
    "println(\"Nachher: $listeNeu\")"
   ]
  },
  {
   "cell_type": "markdown",
   "id": "a31c087c",
   "metadata": {},
   "source": [
    "Falls nur ein Parameter verwendet wird, ist eine konkrete Definition dessen überflüssig. Auf den im Hintergrund definierten Parameter kann dann mit dem bereits bekannten Schlüsselwort `it` zugegriffen werden."
   ]
  },
  {
   "cell_type": "code",
   "execution_count": 14,
   "id": "c40f9c8a",
   "metadata": {
    "execution": {
     "iopub.execute_input": "2021-04-18T14:37+0200",
     "iopub.status.busy": "2021-04-18T14:37+0200",
     "iopub.status.idle": "2021-04-18T14:37+0200",
     "shell.execute_reply": "2021-04-18T14:37+0200",
     "shell.execute_reply.started": "2021-04-18T14:37+0200"
    }
   },
   "outputs": [
    {
     "name": "stdout",
     "output_type": "stream",
     "text": [
      "Vorher: [0, 1, 2, 3, 4, 5, 6, 7, 8, 9, 10, 11, 12, 13, 14, 15, 16, 17, 18, 19]\n",
      "Nachher: [5, 6, 7, 8, 9, 10, 11, 12, 13, 14, 15, 16, 17, 18, 19, 20, 21, 22, 23, 24]\n"
     ]
    }
   ],
   "source": [
    "var liste = MutableList(20) { it }\n",
    "println(\"Vorher: $liste\")\n",
    "val listeNeu = liste.map( { it + 5 } )\n",
    "println(\"Nachher: $listeNeu\")"
   ]
  },
  {
   "cell_type": "markdown",
   "id": "b4d29b52",
   "metadata": {},
   "source": [
    "Außerdem ist es gebräuchlich den Lambda-Ausdruck nicht in den Parameterklammern, sondern hinter diesen zu übergeben. Das ist nur möglich, wenn der Ausdruck der letzte Parameter ist (was dem Regelfall entspricht)."
   ]
  },
  {
   "cell_type": "code",
   "execution_count": 15,
   "id": "4bdc3301",
   "metadata": {
    "execution": {
     "iopub.execute_input": "2021-04-18T14:37+0200",
     "iopub.status.busy": "2021-04-18T14:37+0200",
     "iopub.status.idle": "2021-04-18T14:37+0200",
     "shell.execute_reply": "2021-04-18T14:37+0200",
     "shell.execute_reply.started": "2021-04-18T14:37+0200"
    }
   },
   "outputs": [
    {
     "name": "stdout",
     "output_type": "stream",
     "text": [
      "Vorher: [0, 1, 2, 3, 4, 5, 6, 7, 8, 9, 10, 11, 12, 13, 14, 15, 16, 17, 18, 19]\n",
      "Nachher: [5, 6, 7, 8, 9, 10, 11, 12, 13, 14, 15, 16, 17, 18, 19, 20, 21, 22, 23, 24]\n"
     ]
    }
   ],
   "source": [
    "var liste = MutableList(20) { it }\n",
    "println(\"Vorher: $liste\")\n",
    "val listeNeu = liste.map() { it + 5 } \n",
    "println(\"Nachher: $listeNeu\")"
   ]
  },
  {
   "cell_type": "markdown",
   "id": "645e566f",
   "metadata": {},
   "source": [
    "Werden der Methode keine weiteren Parameter übergeben, ist es möglich die leeren Klammern der Parameter wegzulassen."
   ]
  },
  {
   "cell_type": "code",
   "execution_count": 16,
   "id": "47e863de",
   "metadata": {
    "execution": {
     "iopub.execute_input": "2021-04-18T14:37+0200",
     "iopub.status.busy": "2021-04-18T14:37+0200",
     "iopub.status.idle": "2021-04-18T14:37+0200",
     "shell.execute_reply": "2021-04-18T14:37+0200",
     "shell.execute_reply.started": "2021-04-18T14:37+0200"
    }
   },
   "outputs": [
    {
     "name": "stdout",
     "output_type": "stream",
     "text": [
      "Vorher: [0, 1, 2, 3, 4, 5, 6, 7, 8, 9, 10, 11, 12, 13, 14, 15, 16, 17, 18, 19]\n",
      "Nachher: [5, 6, 7, 8, 9, 10, 11, 12, 13, 14, 15, 16, 17, 18, 19, 20, 21, 22, 23, 24]\n"
     ]
    }
   ],
   "source": [
    "var liste = MutableList(20) { it }\n",
    "println(\"Vorher: $liste\")\n",
    "val listeNeu = liste.map { it + 5 } \n",
    "println(\"Nachher: $listeNeu\")"
   ]
  }
 ],
 "metadata": {
  "kernelspec": {
   "display_name": "Kotlin",
   "language": "kotlin",
   "name": "kotlin"
  },
  "language_info": {
   "codemirror_mode": "text/x-kotlin",
   "file_extension": ".kt",
   "mimetype": "text/x-kotlin",
   "name": "kotlin",
   "nbconvert_exporter": "",
   "pygments_lexer": "kotlin",
   "version": "1.5.20-dev-5817"
  }
 },
 "nbformat": 4,
 "nbformat_minor": 5
}
