{
 "cells": [
  {
   "cell_type": "markdown",
   "id": "c05db526-1f40-4f90-9e7e-fcdbffac7d92",
   "metadata": {},
   "source": [
    "<img src=\"../images/Lektion6.png\" style=\"margin: 20px auto 20px 0px\"/>\n",
    "<h2 style=\"display:none\">Lektion 6 - Funktionen höherer Ordnung</h2>\n",
    "\n",
    "Ein weiteres Konzept der funktionalen Programmierung sind Funktionen höherer Ordnung. Das Charakteristische an ihnen ist, dass ihnen eine weitere Funktion übergeben wird. Ermöglicht wird dies dadurch, dass Funktionen als Objekte angesehen werden. Die bis jetzt verwendeten Funktionen werden, im Gegensatz dazu, Funktionen erster Ordnung genannt.  \n",
    "Anwendung findet diese Art der Funktion meist, wenn um eine Funktion herum noch etwas passieren soll. Gebräuchliche Beispiele sind die Zeitmessung, bei der die höhere Funktion lediglich die übergebene Funktion mit Messfunktionen einrahmt, oder auch beim Schreiben einer Datei. Die übergebene Funktion wird als Lambda übergeben. Schauen wir uns das Beispiel der Zeitmessung genauer an:"
   ]
  },
  {
   "cell_type": "code",
   "execution_count": 54,
   "id": "a3eccf48-a9ba-48b9-b1c8-6283d1ce2da4",
   "metadata": {},
   "outputs": [
    {
     "name": "stdout",
     "output_type": "stream",
     "text": [
      "Dauer von fibonacci(5000, 1000, 1000): 1 ms\n",
      "Dauer von fakultaet(10000): 0 ms\n"
     ]
    }
   ],
   "source": [
    "fun messeZeit(f: () -> Any): Long {\n",
    "    val start = System.currentTimeMillis()\n",
    "    f()\n",
    "    val ende = System.currentTimeMillis()\n",
    "    return ende - start\n",
    "}\n",
    "\n",
    "fun fibonacci(n: Int, a: Long, b: Long): Long {\n",
    "    return if (n == 0) b else fibonacci(n-1, a+b, a)\n",
    "}\n",
    "\n",
    "fun fakultaet(n : Int): Int{\n",
    "    return if (n == 1) 1 else n * fakultaet(n - 1) \n",
    "}\n",
    "\n",
    "println(\"Dauer von fibonacci(5000, 1000, 1000): ${messeZeit { fibonacci(5000, 1000, 1000) }} ms\")\n",
    "println(\"Dauer von fakultaet(10000): ${messeZeit { fakultaet(10000) }} ms\")"
   ]
  },
  {
   "cell_type": "markdown",
   "id": "33af1081-c6fe-4f7d-88d3-a05cedba4160",
   "metadata": {},
   "source": [
    "Die Funktion höherer Ordnung `messeZeit` bekommt eine Funktion (Rückgabetyp `Any`) übergeben. Im Rumpf wird die Systemzeit vor und nach dem Ausführen der übergebenen Funktion gemessen.  \n",
    "Auch können Lambdas direkt übergeben werden:"
   ]
  },
  {
   "cell_type": "code",
   "execution_count": 57,
   "id": "0061997a-9320-41d6-8060-d531b6477573",
   "metadata": {},
   "outputs": [
    {
     "data": {
      "text/plain": [
       "41"
      ]
     },
     "execution_count": 57,
     "metadata": {},
     "output_type": "execute_result"
    }
   ],
   "source": [
    "fun subtrahiere (f1: () -> Int, f2: () -> Int) : Int{\n",
    "    return f1() - f2()\n",
    "}\n",
    "\n",
    "subtrahiere ( { 5 * 10 }, { 3 * 3 } )"
   ]
  },
  {
   "cell_type": "markdown",
   "id": "de699383-735c-463f-a625-5ba7efa780ee",
   "metadata": {},
   "source": [
    "Weiterführen lässt sich dieses Beispiel mit der Übergabe eines weiteren Parameters an die Lambda-Ausdrücke:"
   ]
  },
  {
   "cell_type": "code",
   "execution_count": 62,
   "id": "64d59b77-ba45-475d-9a3e-6a88248be21c",
   "metadata": {},
   "outputs": [
    {
     "data": {
      "text/plain": [
       "35"
      ]
     },
     "execution_count": 62,
     "metadata": {},
     "output_type": "execute_result"
    }
   ],
   "source": [
    "fun subtrahiere (f1: (n: Int) -> Int, f2: (m: Int) -> Int, x: Int) : Int{\n",
    "    return f1(x) - f2(x)\n",
    "}\n",
    "\n",
    "subtrahiere ( { x -> x * 10 }, { it * 3 }, 5 ) //50-15=35"
   ]
  },
  {
   "cell_type": "markdown",
   "id": "b49d1530-94fb-4a04-bcdb-3d74df4ae3ff",
   "metadata": {},
   "source": [
    "Es endet aber nicht damit, dass die Funktionen höherer Ordnung nur Funktionen als Parameter übergeben bekommen können. Ebenso ist eine Rückgabe einer Funktion möglich."
   ]
  },
  {
   "cell_type": "code",
   "execution_count": 77,
   "id": "c3e62015-206b-49cc-b333-32cc5ed34d80",
   "metadata": {},
   "outputs": [
    {
     "name": "stdout",
     "output_type": "stream",
     "text": [
      "addiere5 gibt eine Funktion zurück: (kotlin.Int) -> kotlin.Int\n"
     ]
    }
   ],
   "source": [
    "fun addiere5(): (Int) -> Int = {n -> n + 5}\n",
    "println(\"addiere5 gibt eine Funktion zurück: ${addiere5()}\")"
   ]
  },
  {
   "cell_type": "markdown",
   "id": "d610f66d-2f74-410a-b23b-4de08f7fb1b7",
   "metadata": {},
   "source": [
    "Die Funktion höherer Ordnung `addiere5` hat selbst keinen Parameter. Der Rückgabetyp ist hier aber *unnormal*. Anstelle einer einfachen Angabe (zum Beispiel `Int`), wird ein Lambda-ähnlicher Ausdruck zurückgegeben. Dieser beschreibt den Typ der zurückgegeben Funktion. Dieser wird ein Parameter vom Typ `Int` übergeben und liefert als Ergebnis auch einen Wert vom Typ `Int`. Daraufhin ist in einem Lambda-Ausdruck der Rumpf der Funktion beschrieben. Der Parameter vom Typ `Int` wird *n* genannt (da nur ein Parameter vorhanden ist, könnte dieser auch mit `it` angesprochen werden). Nach einem `->` folgt der eigentliche Rumpf. In diesem Fall wird zu dem Parameter 5 addiert und das Ergebnis zurückgegeben.  \n",
    "Wird nun die Funktion `addiere5` ganz normal aufgerufen, wird die definierte Funktion zurückgegeben. Soll diese aber ausgeführt werden, ist ein weiterer Funktionsaufruf mit den benötigten Parametern auszuführen."
   ]
  },
  {
   "cell_type": "code",
   "execution_count": 97,
   "id": "efadc029-e564-44d0-8d97-8c21327520c2",
   "metadata": {},
   "outputs": [
    {
     "name": "stdout",
     "output_type": "stream",
     "text": [
      "addiere5()(10): 15\n"
     ]
    }
   ],
   "source": [
    "addiere5()(10)\n",
    "println(\"addiere5()(10): ${addiere5()(10)}\")"
   ]
  },
  {
   "cell_type": "markdown",
   "id": "fa4c4886-fd16-4b85-a8b6-ae651b0c26b7",
   "metadata": {},
   "source": [
    "Zusätzlich kann der Funktion der höheren Ordnung auch ein Parameter übergeben werden. In dem oben genannten Beispiel kann dann beispielsweise der bis jetzt feste Wert von 5 variabel gesetzt werden. Mit der Funktion `addiereN` besteht die Möglichkeit beliebige Funktionen zu generieren."
   ]
  },
  {
   "cell_type": "code",
   "execution_count": 98,
   "id": "e5fec9d0-6d5e-4529-9b4f-cce2283a4005",
   "metadata": {},
   "outputs": [
    {
     "name": "stdout",
     "output_type": "stream",
     "text": [
      "addiere10: (kotlin.Int) -> kotlin.Int\n",
      "addiere10(20): 30\n",
      "addiere50: (kotlin.Int) -> kotlin.Int\n",
      "addiere50(20): 70\n"
     ]
    }
   ],
   "source": [
    "fun addiereN(m: Int): (Int) -> Int = {n -> n + m}\n",
    "val addiere10 = addiereN(10)\n",
    "println(\"addiere10: ${addiere10}\")\n",
    "println(\"addiere10(20): ${addiere10(20)}\")\n",
    "val addiere50 = addiereN(50)\n",
    "println(\"addiere50: ${addiere50}\")\n",
    "println(\"addiere50(20): ${addiere50(20)}\")"
   ]
  },
  {
   "cell_type": "markdown",
   "id": "adfad1d5-692c-4388-aee7-5c6d172cbedb",
   "metadata": {},
   "source": [
    "### inline-Funktionen\n",
    "Bisher wird in den Funktionen höherer Ordnung die übergebene Funktion aufgerufen. Das heißt, es muss Arbeitsspeicher reserviert, Parameter und lokale Variablen zwischengespeichert werden. Dies kann dazu führen, dass die Schnelligkeit leidet. Für dieses Problem gibt es aber eine einfache Lösung: `inline`-Funktionen. Diese sind im Grunde Funktionen höherer Ordnung, aber kopieren den Code der übergebenen Funktion an die dafür vorgesehenen Stellen. Es wird also nicht direkt die Funktion aufgerufen, sondern diese in den Funktionsrumpf der höheren Funktion integriert. Gekennzeichnet wird dies mit dem Zusatz `inline` zu Beginn des Funktionskopf."
   ]
  },
  {
   "cell_type": "code",
   "execution_count": 66,
   "id": "0223aefd-a1e2-401b-8665-c42be14cfc71",
   "metadata": {},
   "outputs": [
    {
     "data": {
      "text/plain": [
       "35"
      ]
     },
     "execution_count": 66,
     "metadata": {},
     "output_type": "execute_result"
    }
   ],
   "source": [
    "inline fun subtrahiereInline (f1: (n: Int) -> Int, f2: (m: Int) -> Int, x: Int) : Int{\n",
    "    return f1(x) - f2(x)\n",
    "}\n",
    "\n",
    "//Im Hintergrund wird der Code von f1 und f2 in subtrahiereInline kopiert. Für diesen konkreten Anwendungsfall:\n",
    "fun subtrahiereInlineKopiert (f1: (n: Int) -> Int, f2: (m: Int) -> Int, x: Int) : Int{\n",
    "    return (x * 10) - (x * 3)\n",
    "}\n",
    "\n",
    "subtrahiereInline ( { x -> x * 10 }, { it * 3 }, 5 ) //50-15=35"
   ]
  }
 ],
 "metadata": {
  "kernelspec": {
   "display_name": "Kotlin",
   "language": "kotlin",
   "name": "kotlin"
  },
  "language_info": {
   "codemirror_mode": "text/x-kotlin",
   "file_extension": ".kt",
   "mimetype": "text/x-kotlin",
   "name": "kotlin",
   "nbconvert_exporter": "",
   "pygments_lexer": "kotlin",
   "version": "1.5.20-dev-5817"
  }
 },
 "nbformat": 4,
 "nbformat_minor": 5
}
