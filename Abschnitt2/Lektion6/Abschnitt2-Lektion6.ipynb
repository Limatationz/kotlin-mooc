{
 "cells": [
  {
   "cell_type": "markdown",
   "id": "3f222648",
   "metadata": {},
   "source": [
    "<img src=\"../images/Lektion6.png\" style=\"margin: 20px auto 20px 0px\"/>\n",
    "<h2 style=\"display:none\">Lektion 6 - Funktionen höherer Ordnung</h2>\n",
    "\n",
    "Ein weiteres Konzept der funktionalen Programmierung sind Funktionen höherer Ordnung. Das Charakteristische an ihnen ist, dass ihnen eine weitere Funktion übergeben wird. Ermöglicht wird dies dadurch, dass Funktionen als Objekte angesehen werden. Die bis jetzt verwendeten Funktionen werden, im Gegensatz dazu, Funktionen erster Ordnung genannt.  \n",
    "Anwendung findet diese Art der Funktion meist, wenn um eine Funktion herum noch etwas passieren soll. Gebräuchliche Beispiele sind die Zeitmessung, bei der die höhere Funktion lediglich die übergebene Funktion mit Messfunktionen einrahmt, oder auch beim Schreiben einer Datei. Die übergebene Funktion wird als Lambda übergeben. Schauen wir uns das Beispiel der Zeitmessung genauer an:"
   ]
  },
  {
   "cell_type": "code",
   "execution_count": 1,
   "id": "e1d71d16",
   "metadata": {
    "execution": {
     "iopub.execute_input": "2021-11-17T21:04+0100",
     "iopub.status.busy": "2021-11-17T21:04+0100",
     "iopub.status.idle": "2021-11-17T21:04+0100",
     "shell.execute_reply": "2021-11-17T21:04+0100",
     "shell.execute_reply.started": "2021-11-17T21:04+0100"
    },
    "tags": []
   },
   "outputs": [
    {
     "name": "stdout",
     "output_type": "stream",
     "text": [
      "Dauer von fibonacci(5000, 1000, 1000): 1 ms\n"
     ]
    }
   ],
   "source": [
    "fun messeZeit(f: () -> Any): Long {\n",
    "    val start = System.currentTimeMillis()\n",
    "    f()\n",
    "    val ende = System.currentTimeMillis()\n",
    "    return ende - start\n",
    "}\n",
    "\n",
    "fun fibonacci(n: Int, a: Long, b: Long): Long {\n",
    "    return if (n == 0) b else fibonacci(n-1, a+b, a)\n",
    "}\n",
    "\n",
    "fun fakultaet(n : Int): Int{\n",
    "    return if (n == 1) 1 else n * fakultaet(n - 1) \n",
    "}\n",
    "\n",
    "println(\"Dauer von fibonacci(5000, 1000, 1000): ${messeZeit { fibonacci(5000, 1000, 1000) }} ms\")"
   ]
  },
  {
   "cell_type": "code",
   "execution_count": null,
   "id": "ae808dca",
   "metadata": {
    "tags": []
   },
   "outputs": [],
   "source": [
    "println(\"Dauer von fakultaet(10000): ${messeZeit { fakultaet(10000) }} ms\")"
   ]
  },
  {
   "cell_type": "markdown",
   "id": "171d33dd",
   "metadata": {},
   "source": [
    "Die Funktion höherer Ordnung `messeZeit` bekommt eine Funktion (Rückgabetyp `Any`) übergeben. Im Rumpf wird die Systemzeit vor und nach dem Ausführen der übergebenen Funktion gemessen.  \n",
    "Auch können Lambdas direkt übergeben werden:"
   ]
  },
  {
   "cell_type": "code",
   "execution_count": 3,
   "id": "5f521201",
   "metadata": {
    "execution": {
     "iopub.execute_input": "2021-11-17T21:04+0100",
     "iopub.status.busy": "2021-11-17T21:04+0100",
     "iopub.status.idle": "2021-11-17T21:04+0100",
     "shell.execute_reply": "2021-11-17T21:04+0100",
     "shell.execute_reply.started": "2021-11-17T21:04+0100"
    }
   },
   "outputs": [
    {
     "data": {
      "text/plain": [
       "41"
      ]
     },
     "execution_count": 3,
     "metadata": {},
     "output_type": "execute_result"
    }
   ],
   "source": [
    "fun subtrahiere (f1: () -> Int, f2: () -> Int) : Int{\n",
    "    return f1() - f2()\n",
    "}\n",
    "\n",
    "subtrahiere ( { 5 * 10 }, { 3 * 3 } )"
   ]
  },
  {
   "cell_type": "markdown",
   "id": "43a462d2",
   "metadata": {},
   "source": [
    "Weiterführen lässt sich dieses Beispiel mit der Übergabe eines weiteren Parameters an die Lambda-Ausdrücke:"
   ]
  },
  {
   "cell_type": "code",
   "execution_count": 4,
   "id": "3f614d18",
   "metadata": {
    "execution": {
     "iopub.execute_input": "2021-11-17T21:04+0100",
     "iopub.status.busy": "2021-11-17T21:04+0100",
     "iopub.status.idle": "2021-11-17T21:04+0100",
     "shell.execute_reply": "2021-11-17T21:04+0100",
     "shell.execute_reply.started": "2021-11-17T21:04+0100"
    }
   },
   "outputs": [
    {
     "data": {
      "text/plain": [
       "35"
      ]
     },
     "execution_count": 4,
     "metadata": {},
     "output_type": "execute_result"
    }
   ],
   "source": [
    "fun subtrahiere (f1: (n: Int) -> Int, f2: (m: Int) -> Int, x: Int) : Int{\n",
    "    return f1(x) - f2(x)\n",
    "}\n",
    "\n",
    "subtrahiere ( { x -> x * 10 }, { it * 3 }, 5 ) //50-15=35"
   ]
  },
  {
   "cell_type": "markdown",
   "id": "154eaa6c",
   "metadata": {},
   "source": [
    "Es endet aber nicht damit, dass die Funktionen höherer Ordnung nur Funktionen als Parameter übergeben bekommen können. Ebenso ist eine Rückgabe einer Funktion möglich."
   ]
  },
  {
   "cell_type": "code",
   "execution_count": 5,
   "id": "ab67eb16",
   "metadata": {
    "execution": {
     "iopub.execute_input": "2021-11-17T21:04+0100",
     "iopub.status.busy": "2021-11-17T21:04+0100",
     "iopub.status.idle": "2021-11-17T21:04+0100",
     "shell.execute_reply": "2021-11-17T21:04+0100",
     "shell.execute_reply.started": "2021-11-17T21:04+0100"
    }
   },
   "outputs": [
    {
     "name": "stdout",
     "output_type": "stream",
     "text": [
      "addiere5 gibt eine Funktion zurück: (kotlin.Int) -> kotlin.Int\n"
     ]
    }
   ],
   "source": [
    "fun addiere5(): (Int) -> Int = {n -> n + 5}\n",
    "println(\"addiere5 gibt eine Funktion zurück: ${addiere5()}\")"
   ]
  },
  {
   "cell_type": "markdown",
   "id": "29931d66",
   "metadata": {},
   "source": [
    "Die Funktion höherer Ordnung `addiere5` hat selbst keinen Parameter. Der Rückgabetyp ist hier aber *unnormal*. Anstelle einer einfachen Angabe (zum Beispiel `Int`), wird ein Lambda-ähnlicher Ausdruck zurückgegeben. Dieser beschreibt den Typ der zurückgegeben Funktion. Dieser wird ein Parameter vom Typ `Int` übergeben und liefert als Ergebnis auch einen Wert vom Typ `Int`. Daraufhin ist in einem Lambda-Ausdruck der Rumpf der Funktion beschrieben. Der Parameter vom Typ `Int` wird *n* genannt (da nur ein Parameter vorhanden ist, könnte dieser auch mit `it` angesprochen werden). Nach einem `->` folgt der eigentliche Rumpf. In diesem Fall wird zu dem Parameter 5 addiert und das Ergebnis zurückgegeben.  \n",
    "Wird nun die Funktion `addiere5` ganz normal aufgerufen, wird die definierte Funktion zurückgegeben. Soll diese aber ausgeführt werden, ist ein weiterer Funktionsaufruf mit den benötigten Parametern auszuführen."
   ]
  },
  {
   "cell_type": "code",
   "execution_count": 6,
   "id": "6d2566ab",
   "metadata": {
    "execution": {
     "iopub.execute_input": "2021-11-17T21:04+0100",
     "iopub.status.busy": "2021-11-17T21:04+0100",
     "iopub.status.idle": "2021-11-17T21:04+0100",
     "shell.execute_reply": "2021-11-17T21:04+0100",
     "shell.execute_reply.started": "2021-11-17T21:04+0100"
    }
   },
   "outputs": [
    {
     "name": "stdout",
     "output_type": "stream",
     "text": [
      "addiere5()(10): 15\n"
     ]
    }
   ],
   "source": [
    "addiere5()(10)\n",
    "println(\"addiere5()(10): ${addiere5()(10)}\")"
   ]
  },
  {
   "cell_type": "markdown",
   "id": "8a60a323",
   "metadata": {},
   "source": [
    "Zusätzlich kann der Funktion der höheren Ordnung auch ein Parameter übergeben werden. In dem oben genannten Beispiel kann dann beispielsweise der bis jetzt feste Wert von 5 variabel gesetzt werden. Mit der Funktion `addiereN` besteht die Möglichkeit beliebige Funktionen zu generieren."
   ]
  },
  {
   "cell_type": "code",
   "execution_count": 7,
   "id": "a3280407",
   "metadata": {
    "execution": {
     "iopub.execute_input": "2021-11-17T21:04+0100",
     "iopub.status.busy": "2021-11-17T21:04+0100",
     "iopub.status.idle": "2021-11-17T21:04+0100",
     "shell.execute_reply": "2021-11-17T21:04+0100",
     "shell.execute_reply.started": "2021-11-17T21:04+0100"
    }
   },
   "outputs": [
    {
     "name": "stdout",
     "output_type": "stream",
     "text": [
      "addiere10: (kotlin.Int) -> kotlin.Int\n",
      "addiere10(20): 30\n",
      "addiere50: (kotlin.Int) -> kotlin.Int\n",
      "addiere50(20): 70\n"
     ]
    }
   ],
   "source": [
    "fun addiereN(m: Int): (Int) -> Int = {n -> n + m}\n",
    "val addiere10 = addiereN(10)\n",
    "println(\"addiere10: ${addiere10}\")\n",
    "println(\"addiere10(20): ${addiere10(20)}\")\n",
    "val addiere50 = addiereN(50)\n",
    "println(\"addiere50: ${addiere50}\")\n",
    "println(\"addiere50(20): ${addiere50(20)}\")"
   ]
  },
  {
   "cell_type": "markdown",
   "id": "cebc03ce",
   "metadata": {},
   "source": [
    "### inline-Funktionen\n",
    "Bisher wird in den Funktionen höherer Ordnung die übergebene Funktion aufgerufen. Das heißt, es muss Arbeitsspeicher reserviert, Parameter und lokale Variablen zwischengespeichert werden. Dies kann dazu führen, dass die Schnelligkeit leidet. Für dieses Problem gibt es aber eine einfache Lösung: `inline`-Funktionen. Diese sind im Grunde Funktionen höherer Ordnung, aber kopieren den Code der übergebenen Funktion an die dafür vorgesehenen Stellen. Es wird also nicht direkt die Funktion aufgerufen, sondern diese in den Funktionsrumpf der höheren Funktion integriert. Gekennzeichnet wird dies mit dem Zusatz `inline` zu Beginn des Funktionskopf."
   ]
  },
  {
   "cell_type": "code",
   "execution_count": 8,
   "id": "0024303b",
   "metadata": {
    "execution": {
     "iopub.execute_input": "2021-11-17T21:04+0100",
     "iopub.status.busy": "2021-11-17T21:04+0100",
     "iopub.status.idle": "2021-11-17T21:04+0100",
     "shell.execute_reply": "2021-11-17T21:04+0100",
     "shell.execute_reply.started": "2021-11-17T21:04+0100"
    },
    "tags": []
   },
   "outputs": [
    {
     "data": {
      "text/plain": [
       "35"
      ]
     },
     "execution_count": 8,
     "metadata": {},
     "output_type": "execute_result"
    }
   ],
   "source": [
    "inline fun subtrahiereInline (f1: (n: Int) -> Int, f2: (m: Int) -> Int, x: Int) : Int{\n",
    "    return f1(x) - f2(x)\n",
    "}\n",
    "\n",
    "//Im Hintergrund wird der Code von f1 und f2 in subtrahiereInline kopiert. Für diesen konkreten Anwendungsfall:\n",
    "fun subtrahiereInlineKopiert (f1: (n: Int) -> Int, f2: (m: Int) -> Int, x: Int) : Int{\n",
    "    return (x * 10) - (x * 3)\n",
    "}\n",
    "\n",
    "subtrahiereInline ( { x -> x * 10 }, { it * 3 }, 5 ) //50-15=35"
   ]
  }
 ],
 "metadata": {
  "kernelspec": {
   "display_name": "Kotlin",
   "language": "kotlin",
   "name": "kotlin"
  },
  "language_info": {
   "codemirror_mode": "text/x-kotlin",
   "file_extension": ".kt",
   "mimetype": "text/x-kotlin",
   "name": "kotlin",
   "nbconvert_exporter": "",
   "pygments_lexer": "kotlin",
   "version": "1.6.20-dev-3702"
  }
 },
 "nbformat": 4,
 "nbformat_minor": 5
}
