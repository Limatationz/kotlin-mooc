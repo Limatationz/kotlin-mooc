{
 "cells": [
  {
   "cell_type": "markdown",
   "id": "8102032b",
   "metadata": {},
   "source": [
    "# Aufgabe - Einheiten konvertieren\n",
    "Implementieren Sie eine Funktion höherer Ordnung mit dem Namen `konvertiere`, die zwei Parameter der Klasse `String` übergeben bekommt. Die Rückgabe soll eine Funktion sein, der ein `Double`-Parameter übergeben wird und deren Rückgabetyp ebenfalls `Double` ist. In der Funktion `konvertiere` soll, anhand der übergebenen Daten, eine passende Funktion, die einen Wert der Einheit des Ersten zur Einheit des zweiten Parameter umwandelt, generieren und zurückgeben werden. Folgende Umwandlungen sollen mindestens unterstützt werden: \n",
    "* cm ↔ m\n",
    "* m ↔ km\n",
    "\n",
    "Falls keine Funktion für die übergebenen Einheiten generiert werden kann, soll eine Funktion zurückgegeben werden, die den Parameter unverändert zurück gibt."
   ]
  },
  {
   "cell_type": "code",
   "execution_count": 1,
   "id": "65fa404b",
   "metadata": {
    "execution": {
     "iopub.execute_input": "2021-11-17T21:06+0100",
     "iopub.status.busy": "2021-11-17T21:06+0100",
     "iopub.status.idle": "2021-11-17T21:06+0100",
     "shell.execute_reply": "2021-11-17T21:06+0100",
     "shell.execute_reply.started": "2021-11-17T21:06+0100"
    },
    "tags": []
   },
   "outputs": [
    {
     "name": "stdout",
     "output_type": "stream",
     "text": [
      "Super! Alle Tests bestanden!\n"
     ]
    }
   ],
   "source": [
    "//Lösung\n",
    "fun konvertiere (von: String, nach: String): (Double) -> Double {\n",
    "    return when {\n",
    "        von == \"cm\" && nach == \"m\" -> { n -> n / 100 }\n",
    "        von == \"m\" && nach == \"cm\" -> { n -> n * 100 }\n",
    "        von == \"m\" && nach == \"km\" -> { n -> n / 1000 }\n",
    "        von == \"km\" && nach == \"m\" -> { n -> n * 1000 }\n",
    "        else -> {n -> n}\n",
    "    }\n",
    "} \n",
    "\n",
    "//Tests\n",
    "var fehler = 0\n",
    "if (konvertiere (\"cm\", \"m\") (100.0) != 1.0){\n",
    "    println(\"Falsch! konvertiere ('cm', 'm') (100.0): ${konvertiere (\"cm\", \"m\") (100.0)}, richtig wäre: 1.0\")\n",
    "    fehler++\n",
    "}\n",
    "if (konvertiere (\"m\", \"cm\") (42.50) != 4250.0){\n",
    "    println(\"Falsch! konvertiere ('m', 'cm') (42.50): ${konvertiere (\"m\", \"cm\") (42.50)}, richtig wäre: 4250.0\")\n",
    "    fehler++\n",
    "}\n",
    "if (konvertiere (\"m\", \"km\") (543200.0) != 543.2){\n",
    "    println(\"Falsch! konvertiere ('m', 'km') (543200.0): ${konvertiere (\"m\", \"km\") (543200.0)}, richtig wäre: 543.2\")\n",
    "    fehler++\n",
    "}\n",
    "if (konvertiere (\"km\", \"m\") (2.5) != 2500.0){\n",
    "    println(\"Falsch! konvertiere ('km', 'm') (2.5) != 2500.0: ${konvertiere (\"km\", \"m\") (2.5) != 2500.0}, richtig wäre: 2500.0\")\n",
    "    fehler++\n",
    "}\n",
    "if (konvertiere (\"m\", \"dm\") (20.2) != 20.2){\n",
    "    println(\"Falsch! konvertiere ('cm', 'm') (20.2): ${konvertiere (\"cm\", \"m\") (20.2)}, richtig wäre: 20.2\")\n",
    "    fehler++\n",
    "}\n",
    "\n",
    "if(fehler == 0)\n",
    "    println(\"Super! Alle Tests bestanden!\")\n",
    "else\n",
    "    println(\"Bei $fehler Tests kamen Fehler auf.\")"
   ]
  }
 ],
 "metadata": {
  "kernelspec": {
   "display_name": "Kotlin",
   "language": "kotlin",
   "name": "kotlin"
  },
  "language_info": {
   "codemirror_mode": "text/x-kotlin",
   "file_extension": ".kt",
   "mimetype": "text/x-kotlin",
   "name": "kotlin",
   "nbconvert_exporter": "",
   "pygments_lexer": "kotlin",
   "version": "1.6.20-dev-3702"
  }
 },
 "nbformat": 4,
 "nbformat_minor": 5
}
