{
 "cells": [
  {
   "cell_type": "code",
   "execution_count": 3,
   "id": "0a07f151-84f6-4a41-bb10-f847553fd352",
   "metadata": {
    "tags": []
   },
   "outputs": [],
   "source": [
    "%use krangl\n",
    "val daten = DataFrame.readCSV(\"../daten/virusErde14.csv\") //Liest die csv-Datei und wandelt sie in einen DataFrame um"
   ]
  },
  {
   "cell_type": "markdown",
   "id": "43a763c5-c70f-49d1-b30d-18d8b6c60950",
   "metadata": {},
   "source": [
    "# Aufgabe - removeIf\n",
    "Implementiere eine Erweiterungsmethode `entferneSpalten` für die Klasse `DataFrame`, die alle Spalten entfernt, die nicht den Datentyp `IntCol` besitzen."
   ]
  },
  {
   "cell_type": "code",
   "execution_count": 2,
   "id": "8e872e7f-b218-4293-a65c-258c0baa8d3d",
   "metadata": {},
   "outputs": [
    {
     "name": "stderr",
     "output_type": "stream",
     "text": [
      "Line_1.jupyter-kts (2:17 - 22) Unresolved reference: daten"
     ]
    }
   ],
   "source": [
    "//TODO\n",
    "val testDaten = daten.entferneSpalten()\n",
    "if (testDaten.names == listOf(\"Confirmed\", \"Deaths\"))\n",
    "    println(\"Richtig!\")\n",
    "else\n",
    "    println(\"Falsch! Eigentlich sollten nur noch die Spalten ${listOf(\"Confirmed\", \"Deaths\")} vorhanden sein. Das Ergebnis ist jedoch ${testDaten.names} \")    "
   ]
  }
 ],
 "metadata": {
  "kernelspec": {
   "display_name": "Kotlin",
   "language": "kotlin",
   "name": "kotlin"
  },
  "language_info": {
   "codemirror_mode": "text/x-kotlin",
   "file_extension": ".kt",
   "mimetype": "text/x-kotlin",
   "name": "kotlin",
   "nbconvert_exporter": "",
   "pygments_lexer": "kotlin",
   "version": "1.5.20-dev-5817"
  }
 },
 "nbformat": 4,
 "nbformat_minor": 5
}
