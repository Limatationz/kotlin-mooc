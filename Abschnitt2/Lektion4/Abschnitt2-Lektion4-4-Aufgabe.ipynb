{
 "cells": [
  {
   "cell_type": "code",
   "execution_count": 3,
   "id": "b2767ba5",
   "metadata": {
    "execution": {
     "iopub.execute_input": "2021-05-27T09:55+0200",
     "iopub.status.busy": "2021-05-27T09:55+0200",
     "iopub.status.idle": "2021-05-27T09:55+0200",
     "shell.execute_reply": "2021-05-27T09:55+0200",
     "shell.execute_reply.started": "2021-05-27T09:55+0200"
    },
    "tags": []
   },
   "outputs": [],
   "source": [
    "%use krangl\n",
    "val daten = DataFrame.readCSV(\"../daten/virusErde14.csv\") //Liest die csv-Datei und wandelt sie in einen DataFrame um"
   ]
  },
  {
   "cell_type": "markdown",
   "id": "23f84669",
   "metadata": {},
   "source": [
    "# Aufgabe - removeIf\n",
    "Implementieren Sie eine Erweiterungsmethode `entferneSpalten` für die Klasse `DataFrame`, die alle Spalten entfernt, die nicht den Datentyp `IntCol` besitzen."
   ]
  },
  {
   "cell_type": "code",
   "execution_count": 4,
   "id": "752205ad",
   "metadata": {
    "execution": {
     "iopub.execute_input": "2021-05-27T09:55+0200",
     "iopub.status.busy": "2021-05-27T09:55+0200",
     "iopub.status.idle": "2021-05-27T09:55+0200"
    },
    "tags": []
   },
   "outputs": [
    {
     "name": "stderr",
     "output_type": "stream",
     "text": [
      "Line_7.jupyter-kts (2:23 - 38) Unresolved reference: entferneSpalten"
     ]
    }
   ],
   "source": [
    "//TODO\n",
    "val testDaten = daten.entferneSpalten()\n",
    "if (testDaten.names == listOf(\"Confirmed\", \"Deaths\"))\n",
    "    println(\"Richtig!\")\n",
    "else\n",
    "    println(\"Falsch! Eigentlich sollten nur noch die Spalten ${listOf(\"Confirmed\", \"Deaths\")} vorhanden sein. Das Ergebnis ist jedoch ${testDaten.names} \")    "
   ]
  }
 ],
 "metadata": {
  "kernelspec": {
   "display_name": "Kotlin",
   "language": "kotlin",
   "name": "kotlin"
  },
  "language_info": {
   "codemirror_mode": "text/x-kotlin",
   "file_extension": ".kt",
   "mimetype": "text/x-kotlin",
   "name": "kotlin",
   "nbconvert_exporter": "",
   "pygments_lexer": "kotlin",
   "version": "1.5.20-dev-5817"
  }
 },
 "nbformat": 4,
 "nbformat_minor": 5
}
