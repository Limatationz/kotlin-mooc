{
 "cells": [
  {
   "cell_type": "code",
   "execution_count": null,
   "id": "4f1ce2ec-dccf-4bc1-bd69-794f49c99ead",
   "metadata": {
    "tags": []
   },
   "outputs": [],
   "source": [
    "%use krangl\n",
    "val daten = DataFrame.readCSV(\"../daten/virusErde14.csv\") //Liest die csv-Datei und wandelt sie in einen DataFrame um"
   ]
  },
  {
   "cell_type": "markdown",
   "id": "ecd44494-b2a2-4f01-9c87-f01e12955d21",
   "metadata": {},
   "source": [
    "# Aufgabe - filter\n",
    "Filtere Zeilen heraus, die dem Land Deutschland zugeordnet werden können und speichere diese in der Variable `zeilenDE`."
   ]
  },
  {
   "cell_type": "code",
   "execution_count": null,
   "id": "dea64b21-588b-47c6-a889-c3a8986ae1c8",
   "metadata": {
    "tags": []
   },
   "outputs": [],
   "source": [
    "//Lösung \n",
    "val zeilenDE = daten.rows.filter { it[\"Country_Region\"] as String == \"Germany\"}\n",
    "\n",
    "//Test\n",
    "val zeilenDEFrame = dataFrameOf(zeilenDE)\n",
    "if(zeilenDEFrame.nrow == 17){\n",
    "    println(\"Richtig!\")\n",
    "}\n",
    "else{\n",
    "    println(\"Falsch! Die Tabelle besitzt ${zeilenDEFrame.nrow} Zeilen, es sollten jedoch 17 sein.\")\n",
    "}\n",
    "zeilenDEFrame.head(17)"
   ]
  }
 ],
 "metadata": {
  "kernelspec": {
   "display_name": "Kotlin",
   "language": "kotlin",
   "name": "kotlin"
  },
  "language_info": {
   "codemirror_mode": "text/x-kotlin",
   "file_extension": ".kt",
   "mimetype": "text/x-kotlin",
   "name": "kotlin",
   "nbconvert_exporter": "",
   "pygments_lexer": "kotlin",
   "version": "1.5.20-dev-5817"
  }
 },
 "nbformat": 4,
 "nbformat_minor": 5
}
