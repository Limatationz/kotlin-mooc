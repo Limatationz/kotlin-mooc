{
 "cells": [
  {
   "cell_type": "code",
   "execution_count": 1,
   "id": "acec90a7",
   "metadata": {
    "execution": {
     "iopub.execute_input": "2021-11-17T20:50+0100",
     "iopub.status.busy": "2021-11-17T20:50+0100",
     "iopub.status.idle": "2021-11-17T20:50+0100",
     "shell.execute_reply": "2021-11-17T20:50+0100",
     "shell.execute_reply.started": "2021-11-17T20:50+0100"
    },
    "tags": []
   },
   "outputs": [],
   "source": [
    "%use krangl\n",
    "val daten = DataFrame.readCSV(\"../daten/virusErde14.csv\") //Liest die csv-Datei und wandelt sie in einen DataFrame um"
   ]
  },
  {
   "cell_type": "markdown",
   "id": "a7995553",
   "metadata": {},
   "source": [
    "# Aufgabe - filter\n",
    "Filteren Sie die Zeilen heraus, die dem Land Deutschland zugeordnet werden können und speichern Sie diese in der Variable `zeilenDE`."
   ]
  },
  {
   "cell_type": "code",
   "execution_count": 2,
   "id": "9468c036",
   "metadata": {
    "execution": {
     "iopub.execute_input": "2021-11-17T20:50+0100",
     "iopub.status.busy": "2021-11-17T20:50+0100",
     "iopub.status.idle": "2021-11-17T20:50+0100",
     "shell.execute_reply": "2021-11-17T20:50+0100",
     "shell.execute_reply.started": "2021-11-17T20:50+0100"
    },
    "tags": []
   },
   "outputs": [
    {
     "name": "stdout",
     "output_type": "stream",
     "text": [
      "Richtig!\n"
     ]
    },
    {
     "data": {
      "text/html": [
       "<html><body><table><tr><th style=\"text-align:left\">FIPS</th><th style=\"text-align:left\">Admin2</th><th style=\"text-align:left\">Province_State</th><th style=\"text-align:left\">Country_Region</th><th style=\"text-align:left\">Last_Update</th><th style=\"text-align:left\">Lat</th><th style=\"text-align:left\">Long_</th><th style=\"text-align:left\">Confirmed</th><th style=\"text-align:left\">Deaths</th><th style=\"text-align:left\">Recovered</th><th style=\"text-align:left\">Active</th><th style=\"text-align:left\">Combined_Key</th><th style=\"text-align:left\">Incident_Rate</th><th style=\"text-align:left\">Case_Fatality_Ratio</th></tr><tr><td style=\"text-align:left\" title=\"\"></td><td style=\"text-align:left\" title=\"\"></td><td style=\"text-align:left\" title=\"Baden-Wurttemberg\">Baden-Wurttemberg</td><td style=\"text-align:left\" title=\"Germany\">Germany</td><td style=\"text-align:left\" title=\"2021-04-08 04:21:13\">2021-04-08 04:21:13</td><td style=\"text-align:left\" title=\"48.6616\">48.6616</td><td style=\"text-align:left\" title=\"9.3501\">9.3501</td><td style=\"text-align:left\" title=\"377133\">377133</td><td style=\"text-align:left\" title=\"8831\">8831</td><td style=\"text-align:left\" title=\"341300\">341300</td><td style=\"text-align:left\" title=\"27002\">27002</td><td style=\"text-align:left\" title=\"Baden-Wurttemberg, Germany\">Baden-Wurttemberg, Germany</td><td style=\"text-align:left\" title=\"3406.9458937427617\">3406.9458937427617</td><td style=\"text-align:left\" title=\"2.341614231584083\">2.341614231584083</td></tr><tr><td style=\"text-align:left\" title=\"\"></td><td style=\"text-align:left\" title=\"\"></td><td style=\"text-align:left\" title=\"Bayern\">Bayern</td><td style=\"text-align:left\" title=\"Germany\">Germany</td><td style=\"text-align:left\" title=\"2021-04-08 04:21:13\">2021-04-08 04:21:13</td><td style=\"text-align:left\" title=\"48.7904\">48.7904</td><td style=\"text-align:left\" title=\"11.4979\">11.4979</td><td style=\"text-align:left\" title=\"517336\">517336</td><td style=\"text-align:left\" title=\"13419\">13419</td><td style=\"text-align:left\" title=\"467100\">467100</td><td style=\"text-align:left\" title=\"36817\">36817</td><td style=\"text-align:left\" title=\"Bayern, Germany\">Bayern, Germany</td><td style=\"text-align:left\" title=\"3956.1599578365253\">3956.1599578365253</td><td style=\"text-align:left\" title=\"2.5938654955386826\">2.5938654955386826</td></tr><tr><td style=\"text-align:left\" title=\"\"></td><td style=\"text-align:left\" title=\"\"></td><td style=\"text-align:left\" title=\"Berlin\">Berlin</td><td style=\"text-align:left\" title=\"Germany\">Germany</td><td style=\"text-align:left\" title=\"2021-04-08 04:21:13\">2021-04-08 04:21:13</td><td style=\"text-align:left\" title=\"52.52\">52.52</td><td style=\"text-align:left\" title=\"13.405\">13.405</td><td style=\"text-align:left\" title=\"150385\">150385</td><td style=\"text-align:left\" title=\"3098\">3098</td><td style=\"text-align:left\" title=\"138800\">138800</td><td style=\"text-align:left\" title=\"8487\">8487</td><td style=\"text-align:left\" title=\"Berlin, Germany\">Berlin, Germany</td><td style=\"text-align:left\" title=\"4125.985712349506\">4125.985712349506</td><td style=\"text-align:left\" title=\"2.0600458822355954\">2.0600458822355954</td></tr><tr><td style=\"text-align:left\" title=\"\"></td><td style=\"text-align:left\" title=\"\"></td><td style=\"text-align:left\" title=\"Brandenburg\">Brandenburg</td><td style=\"text-align:left\" title=\"Germany\">Germany</td><td style=\"text-align:left\" title=\"2021-04-08 04:21:13\">2021-04-08 04:21:13</td><td style=\"text-align:left\" title=\"52.4125\">52.4125</td><td style=\"text-align:left\" title=\"12.5316\">12.5316</td><td style=\"text-align:left\" title=\"90999\">90999</td><td style=\"text-align:left\" title=\"3358\">3358</td><td style=\"text-align:left\" title=\"81090\">81090</td><td style=\"text-align:left\" title=\"6551\">6551</td><td style=\"text-align:left\" title=\"Brandenburg, Germany\">Brandenburg, Germany</td><td style=\"text-align:left\" title=\"3622.6913548497027\">3622.6913548497027</td><td style=\"text-align:left\" title=\"3.69015044121364\">3.69015044121364</td></tr><tr><td style=\"text-align:left\" title=\"\"></td><td style=\"text-align:left\" title=\"\"></td><td style=\"text-align:left\" title=\"Bremen\">Bremen</td><td style=\"text-align:left\" title=\"Germany\">Germany</td><td style=\"text-align:left\" title=\"2021-04-08 04:21:13\">2021-04-08 04:21:13</td><td style=\"text-align:left\" title=\"53.0793\">53.0793</td><td style=\"text-align:left\" title=\"8.8017\">8.8017</td><td style=\"text-align:left\" title=\"21697\">21697</td><td style=\"text-align:left\" title=\"415\">415</td><td style=\"text-align:left\" title=\"19790\">19790</td><td style=\"text-align:left\" title=\"1492\">1492</td><td style=\"text-align:left\" title=\"Bremen, Germany\">Bremen, Germany</td><td style=\"text-align:left\" title=\"3176.785468516192\">3176.785468516192</td><td style=\"text-align:left\" title=\"1.9127068258284556\">1.9127068258284556</td></tr><tr><td style=\"text-align:left\" title=\"\"></td><td style=\"text-align:left\" title=\"\"></td><td style=\"text-align:left\" title=\"Hamburg\">Hamburg</td><td style=\"text-align:left\" title=\"Germany\">Germany</td><td style=\"text-align:left\" title=\"2021-04-08 04:21:13\">2021-04-08 04:21:13</td><td style=\"text-align:left\" title=\"53.5511\">53.5511</td><td style=\"text-align:left\" title=\"9.9937\">9.9937</td><td style=\"text-align:left\" title=\"63826\">63826</td><td style=\"text-align:left\" title=\"1404\">1404</td><td style=\"text-align:left\" title=\"55180\">55180</td><td style=\"text-align:left\" title=\"7242\">7242</td><td style=\"text-align:left\" title=\"Hamburg, Germany\">Hamburg, Germany</td><td style=\"text-align:left\" title=\"3466.583097026416\">3466.583097026416</td><td style=\"text-align:left\" title=\"2.199730517344029\">2.199730517344029</td></tr></table><p>... with 11 more rows. Shape: 17 x 14. \n",
       "</p></body></html>"
      ]
     },
     "execution_count": 2,
     "metadata": {},
     "output_type": "execute_result"
    }
   ],
   "source": [
    "//Lösung \n",
    "val zeilenDE = daten.rows.filter { it[\"Country_Region\"] as String == \"Germany\"}\n",
    "//Alternative\n",
    "//val zeilenDE = daten.filterByRow { it[\"Country_Region\"] as String == \"Germany\"}\n",
    "\n",
    "//Test\n",
    "val zeilenDEFrame = dataFrameOf(zeilenDE)\n",
    "if(zeilenDEFrame.nrow == 17){\n",
    "    println(\"Richtig!\")\n",
    "}\n",
    "else{\n",
    "    println(\"Falsch! Die Tabelle besitzt ${zeilenDEFrame.nrow} Zeilen, es sollten jedoch 17 sein.\")\n",
    "}\n",
    "zeilenDEFrame.head(17)"
   ]
  }
 ],
 "metadata": {
  "kernelspec": {
   "display_name": "Kotlin",
   "language": "kotlin",
   "name": "kotlin"
  },
  "language_info": {
   "codemirror_mode": "text/x-kotlin",
   "file_extension": ".kt",
   "mimetype": "text/x-kotlin",
   "name": "kotlin",
   "nbconvert_exporter": "",
   "pygments_lexer": "kotlin",
   "version": "1.6.20-dev-3702"
  }
 },
 "nbformat": 4,
 "nbformat_minor": 5
}
