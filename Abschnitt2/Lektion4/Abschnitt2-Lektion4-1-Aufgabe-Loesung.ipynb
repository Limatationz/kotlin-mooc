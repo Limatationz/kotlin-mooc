{
 "cells": [
  {
   "cell_type": "code",
   "execution_count": null,
   "id": "e6dc1588",
   "metadata": {
    "tags": []
   },
   "outputs": [],
   "source": [
    "%use krangl\n",
    "val daten = DataFrame.readCSV(\"../daten/virusErde14.csv\") //Liest die csv-Datei und wandelt sie in einen DataFrame um"
   ]
  },
  {
   "cell_type": "markdown",
   "id": "d607fcb5",
   "metadata": {},
   "source": [
    "# Aufgabe - filter\n",
    "Filteren Sie die Zeilen heraus, die dem Land Deutschland zugeordnet werden können und speichern Sie diese in der Variable `zeilenDE`."
   ]
  },
  {
   "cell_type": "code",
   "execution_count": null,
   "id": "f99ec32b",
   "metadata": {
    "tags": []
   },
   "outputs": [],
   "source": [
    "//Lösung \n",
    "val zeilenDE = daten.rows.filter { it[\"Country_Region\"] as String == \"Germany\"}\n",
    "\n",
    "//Test\n",
    "val zeilenDEFrame = dataFrameOf(zeilenDE)\n",
    "if(zeilenDEFrame.nrow == 17){\n",
    "    println(\"Richtig!\")\n",
    "}\n",
    "else{\n",
    "    println(\"Falsch! Die Tabelle besitzt ${zeilenDEFrame.nrow} Zeilen, es sollten jedoch 17 sein.\")\n",
    "}\n",
    "zeilenDEFrame.head(17)"
   ]
  }
 ],
 "metadata": {
  "kernelspec": {
   "display_name": "Kotlin",
   "language": "kotlin",
   "name": "kotlin"
  },
  "language_info": {
   "codemirror_mode": "text/x-kotlin",
   "file_extension": ".kt",
   "mimetype": "text/x-kotlin",
   "name": "kotlin",
   "nbconvert_exporter": "",
   "pygments_lexer": "kotlin",
   "version": "1.5.20-dev-5817"
  }
 },
 "nbformat": 4,
 "nbformat_minor": 5
}
