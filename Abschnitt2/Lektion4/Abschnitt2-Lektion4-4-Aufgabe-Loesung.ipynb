{
 "cells": [
  {
   "cell_type": "code",
   "execution_count": 3,
   "id": "0f0c5af5",
   "metadata": {
    "tags": []
   },
   "outputs": [],
   "source": [
    "%use krangl\n",
    "val daten = DataFrame.readCSV(\"../daten/virusErde14.csv\") //Liest die csv-Datei und wandelt sie in einen DataFrame um"
   ]
  },
  {
   "cell_type": "markdown",
   "id": "e06a4bb5",
   "metadata": {},
   "source": [
    "# Aufgabe - removeIf\n",
    "Implementieren Sie eine Erweiterungsmethode `entferneSpalten` für die Klasse `DataFrame`, die alle Spalten entfernt, die nicht den Datentyp `IntCol` besitzen."
   ]
  },
  {
   "cell_type": "code",
   "execution_count": 4,
   "id": "6fffa606",
   "metadata": {
    "tags": []
   },
   "outputs": [
    {
     "name": "stdout",
     "output_type": "stream",
     "text": [
      "Richtig!\n"
     ]
    }
   ],
   "source": [
    "//Lösung\n",
    "fun DataFrame.entferneSpalten() = this.removeIf { (it is IntCol) == false }\n",
    "\n",
    "val testDaten = daten.entferneSpalten()\n",
    "if (testDaten.names == listOf(\"Confirmed\", \"Deaths\"))\n",
    "    println(\"Richtig!\")\n",
    "else\n",
    "    println(\"Falsch! Eigentlich sollten nur noch die Spalten ${listOf(\"Confirmed\", \"Deaths\")} vorhanden sein. Das Ergebnis ist jedoch ${testDaten.names} \")    "
   ]
  }
 ],
 "metadata": {
  "kernelspec": {
   "display_name": "Kotlin",
   "language": "kotlin",
   "name": "kotlin"
  },
  "language_info": {
   "codemirror_mode": "text/x-kotlin",
   "file_extension": ".kt",
   "mimetype": "text/x-kotlin",
   "name": "kotlin",
   "nbconvert_exporter": "",
   "pygments_lexer": "kotlin",
   "version": "1.5.20-dev-5817"
  }
 },
 "nbformat": 4,
 "nbformat_minor": 5
}
