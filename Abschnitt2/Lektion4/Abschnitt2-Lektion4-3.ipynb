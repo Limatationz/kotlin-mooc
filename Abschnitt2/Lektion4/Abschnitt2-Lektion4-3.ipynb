{
 "cells": [
  {
   "cell_type": "code",
   "execution_count": 97,
   "id": "2e2a7d7b-dc99-43d5-acba-7a2392bb320b",
   "metadata": {
    "tags": []
   },
   "outputs": [],
   "source": [
    "%use krangl\n",
    "val daten = DataFrame.readCSV(\"../daten/virusErde14.csv\") //Liest die csv-Datei und wandelt sie in einen DataFrame um"
   ]
  },
  {
   "cell_type": "markdown",
   "id": "411b6e24-9a2b-4866-b397-ce3dbb0f1cb0",
   "metadata": {},
   "source": [
    "#### `find`, `first` und `firstOrNull`\n",
    "##### `find`\n",
    "Wird ein Element gesucht, findet `find()` Anwendung. Diese Methode gibt das erste gefundene Element, bei dem die Bedingung wahr ist, zurück. Falls kein Element gefunden wird, ist das Ergebnis `null`. Deswegen muss ein sicherer Zugriff stattfinden."
   ]
  },
  {
   "cell_type": "code",
   "execution_count": 155,
   "id": "f7bc49e2-d62a-440b-8f50-8c7d611a18d3",
   "metadata": {
    "tags": []
   },
   "outputs": [
    {
     "name": "stdout",
     "output_type": "stream",
     "text": [
      "Bestätigte Fälle in Bayern: 517336\n",
      "Bestätigte Fälle in Bayreuth: null\n"
     ]
    }
   ],
   "source": [
    "val bayern = daten.rows.find { it[\"Province_State\"] == \"Bayern\" }?.get(\"Confirmed\") //Finde die bestätigten Fälle von Bayern\n",
    "println(\"Bestätigte Fälle in Bayern: $bayern\")\n",
    "\n",
    "val bayreuth = daten.rows.find { it[\"Province_State\"] == \"Bayreuth\" }?.get(\"Confirmed\") //Finde die bestätigten Fälle von Bayreuth\n",
    "println(\"Bestätigte Fälle in Bayreuth: $bayreuth\")"
   ]
  },
  {
   "cell_type": "markdown",
   "id": "61586a85-e8a1-488c-b90e-2b3f7912c899",
   "metadata": {},
   "source": [
    "##### `first`\n",
    "Eine ähnliche Funktionalität bietet `first()`. Jedoch wird, falls kein Element gefunden wurde, eine `NoSuchElementException` geworfen."
   ]
  },
  {
   "cell_type": "code",
   "execution_count": 157,
   "id": "9ff9cd7f-3828-4523-a12f-10494130d92d",
   "metadata": {
    "tags": []
   },
   "outputs": [
    {
     "name": "stdout",
     "output_type": "stream",
     "text": [
      "Bestätigte Fälle in Bayern: 517336\n",
      "Fehler: e\n"
     ]
    }
   ],
   "source": [
    "val bayern = daten.rows.first { it[\"Province_State\"] == \"Bayern\" }?.get(\"Confirmed\")\n",
    "println(\"Bestätigte Fälle in Bayern: $bayern\")\n",
    "\n",
    "try{\n",
    "    val bayreuth = daten.rows.first { it[\"Province_State\"] == \"Bayreuth\" }?.get(\"Confirmed\")\n",
    "    println(\"Bestätigte Fälle in Bayreuth: $bayreuth\")\n",
    "}\n",
    "catch (e: NoSuchElementException){\n",
    "    println(\"Fehler: e\")\n",
    "}\n"
   ]
  },
  {
   "cell_type": "markdown",
   "id": "f411b3e2-1abf-4a6a-896f-53f3ca12085c",
   "metadata": {},
   "source": [
    "##### `firstOrNull`\n",
    "`firstOrNull()` erweitert die `first()`-Methode, vorausgesetzt, dass bei Fehlschlag `null` zurückgegeben wird anstelle eines Fehlers. Das ähnelt der Funktionalität von `find()`."
   ]
  },
  {
   "cell_type": "code",
   "execution_count": 158,
   "id": "6a25e0a6-fcbc-4d4e-b85f-6aac19dfe4f7",
   "metadata": {
    "tags": []
   },
   "outputs": [
    {
     "name": "stdout",
     "output_type": "stream",
     "text": [
      "Bestätigte Fälle in Bayern: 517336\n",
      "Bestätigte Fälle in Bayreuth: null\n"
     ]
    }
   ],
   "source": [
    "val bayern = daten.rows.firstOrNull { it[\"Province_State\"] == \"Bayern\" }?.get(\"Confirmed\")\n",
    "println(\"Bestätigte Fälle in Bayern: $bayern\")\n",
    "\n",
    "val bayreuth = daten.rows.firstOrNull { it[\"Province_State\"] == \"Bayreuth\" }?.get(\"Confirmed\")\n",
    "println(\"Bestätigte Fälle in Bayreuth: $bayreuth\")"
   ]
  },
  {
   "cell_type": "markdown",
   "id": "5c0f53d9-6339-4238-a711-728288314849",
   "metadata": {},
   "source": [
    "#### `partition`\n",
    "`partition()` ähnelt der bereits kennengelernten Methode `filter()`. Eine Datenstruktur wird wieder, anhand einer Bedingung, gefiltert und das Ergebnis zurückgegeben. Jedoch gibt es hier zwei Ergebnisse. Das Erste beinhaltet alle Elemente, auf die die Bedingung zutrifft, während in dem Zweiten alle anderen Elemente zu finden sind.\n",
    "\n",
    "<img src=\"../images/partition.png\" style=\"margin: 20px auto 20px auto\" />"
   ]
  },
  {
   "cell_type": "code",
   "execution_count": 166,
   "id": "34bdf93b-4869-4b3b-a505-47d70a922492",
   "metadata": {
    "tags": []
   },
   "outputs": [
    {
     "data": {
      "text/html": [
       "<html><body><table><tr><th style=\"text-align:left\">FIPS</th><th style=\"text-align:left\">Admin2</th><th style=\"text-align:left\">Province_State</th><th style=\"text-align:left\">Country_Region</th><th style=\"text-align:left\">Last_Update</th><th style=\"text-align:left\">Lat</th><th style=\"text-align:left\">Long_</th><th style=\"text-align:left\">Confirmed</th><th style=\"text-align:left\">Deaths</th><th style=\"text-align:left\">Recovered</th><th style=\"text-align:left\">Active</th><th style=\"text-align:left\">Combined_Key</th><th style=\"text-align:left\">Incident_Rate</th><th style=\"text-align:left\">Case_Fatality_Ratio</th></tr><tr><td style=\"text-align:left\" title=\"\"></td><td style=\"text-align:left\" title=\"\"></td><td style=\"text-align:left\" title=\"Australian Capital Territory\">Australian Capital Territory</td><td style=\"text-align:left\" title=\"Australia\">Australia</td><td style=\"text-align:left\" title=\"2021-04-08 04:21:13\">2021-04-08 04:21:13</td><td style=\"text-align:left\" title=\"-35.4735\">-35.4735</td><td style=\"text-align:left\" title=\"149.0124\">149.0124</td><td style=\"text-align:left\" title=\"123\">123</td><td style=\"text-align:left\" title=\"3\">3</td><td style=\"text-align:left\" title=\"120\">120</td><td style=\"text-align:left\" title=\"0\">0</td><td style=\"text-align:left\" title=\"Australian Capital Territory, Australia\">Australian Capital Territory, Australia</td><td style=\"text-align:left\" title=\"28.73160476524177\">28.73160476524177</td><td style=\"text-align:left\" title=\"2.4390243902439024\">2.4390243902439024</td></tr><tr><td style=\"text-align:left\" title=\"\"></td><td style=\"text-align:left\" title=\"\"></td><td style=\"text-align:left\" title=\"New South Wales\">New South Wales</td><td style=\"text-align:left\" title=\"Australia\">Australia</td><td style=\"text-align:left\" title=\"2021-04-08 04:21:13\">2021-04-08 04:21:13</td><td style=\"text-align:left\" title=\"-33.8688\">-33.8688</td><td style=\"text-align:left\" title=\"151.2093\">151.2093</td><td style=\"text-align:left\" title=\"5318\">5318</td><td style=\"text-align:left\" title=\"54\">54</td><td style=\"text-align:left\" title=\"0\">0</td><td style=\"text-align:left\" title=\"5264\">5264</td><td style=\"text-align:left\" title=\"New South Wales, Australia\">New South Wales, Australia</td><td style=\"text-align:left\" title=\"65.50874599655087\">65.50874599655087</td><td style=\"text-align:left\" title=\"1.0154193305754042\">1.0154193305754042</td></tr><tr><td style=\"text-align:left\" title=\"\"></td><td style=\"text-align:left\" title=\"\"></td><td style=\"text-align:left\" title=\"Northern Territory\">Northern Territory</td><td style=\"text-align:left\" title=\"Australia\">Australia</td><td style=\"text-align:left\" title=\"2021-04-08 04:21:13\">2021-04-08 04:21:13</td><td style=\"text-align:left\" title=\"-12.4634\">-12.4634</td><td style=\"text-align:left\" title=\"130.8456\">130.8456</td><td style=\"text-align:left\" title=\"112\">112</td><td style=\"text-align:left\" title=\"0\">0</td><td style=\"text-align:left\" title=\"106\">106</td><td style=\"text-align:left\" title=\"6\">6</td><td style=\"text-align:left\" title=\"Northern Territory, Australia\">Northern Territory, Australia</td><td style=\"text-align:left\" title=\"45.602605863192174\">45.602605863192174</td><td style=\"text-align:left\" title=\"0.0\">0.0</td></tr><tr><td style=\"text-align:left\" title=\"\"></td><td style=\"text-align:left\" title=\"\"></td><td style=\"text-align:left\" title=\"Queensland\">Queensland</td><td style=\"text-align:left\" title=\"Australia\">Australia</td><td style=\"text-align:left\" title=\"2021-04-08 04:21:13\">2021-04-08 04:21:13</td><td style=\"text-align:left\" title=\"-27.4698\">-27.4698</td><td style=\"text-align:left\" title=\"153.0251\">153.0251</td><td style=\"text-align:left\" title=\"1500\">1500</td><td style=\"text-align:left\" title=\"6\">6</td><td style=\"text-align:left\" title=\"1366\">1366</td><td style=\"text-align:left\" title=\"128\">128</td><td style=\"text-align:left\" title=\"Queensland, Australia\">Queensland, Australia</td><td style=\"text-align:left\" title=\"29.322646857589678\">29.322646857589678</td><td style=\"text-align:left\" title=\"0.4\">0.4</td></tr><tr><td style=\"text-align:left\" title=\"\"></td><td style=\"text-align:left\" title=\"\"></td><td style=\"text-align:left\" title=\"South Australia\">South Australia</td><td style=\"text-align:left\" title=\"Australia\">Australia</td><td style=\"text-align:left\" title=\"2021-04-08 04:21:13\">2021-04-08 04:21:13</td><td style=\"text-align:left\" title=\"-34.9285\">-34.9285</td><td style=\"text-align:left\" title=\"138.6007\">138.6007</td><td style=\"text-align:left\" title=\"663\">663</td><td style=\"text-align:left\" title=\"4\">4</td><td style=\"text-align:left\" title=\"651\">651</td><td style=\"text-align:left\" title=\"8\">8</td><td style=\"text-align:left\" title=\"South Australia, Australia\">South Australia, Australia</td><td style=\"text-align:left\" title=\"37.74551665243381\">37.74551665243381</td><td style=\"text-align:left\" title=\"0.6033182503770739\">0.6033182503770739</td></tr><tr><td style=\"text-align:left\" title=\"\"></td><td style=\"text-align:left\" title=\"\"></td><td style=\"text-align:left\" title=\"Tasmania\">Tasmania</td><td style=\"text-align:left\" title=\"Australia\">Australia</td><td style=\"text-align:left\" title=\"2021-04-08 04:21:13\">2021-04-08 04:21:13</td><td style=\"text-align:left\" title=\"-42.8821\">-42.8821</td><td style=\"text-align:left\" title=\"147.3272\">147.3272</td><td style=\"text-align:left\" title=\"234\">234</td><td style=\"text-align:left\" title=\"13\">13</td><td style=\"text-align:left\" title=\"221\">221</td><td style=\"text-align:left\" title=\"0\">0</td><td style=\"text-align:left\" title=\"Tasmania, Australia\">Tasmania, Australia</td><td style=\"text-align:left\" title=\"43.69747899159664\">43.69747899159664</td><td style=\"text-align:left\" title=\"5.555555555555555\">5.555555555555555</td></tr><tr><td style=\"text-align:left\" title=\"\"></td><td style=\"text-align:left\" title=\"\"></td><td style=\"text-align:left\" title=\"Victoria\">Victoria</td><td style=\"text-align:left\" title=\"Australia\">Australia</td><td style=\"text-align:left\" title=\"2021-04-08 04:21:13\">2021-04-08 04:21:13</td><td style=\"text-align:left\" title=\"-37.8136\">-37.8136</td><td style=\"text-align:left\" title=\"144.9631\">144.9631</td><td style=\"text-align:left\" title=\"20484\">20484</td><td style=\"text-align:left\" title=\"820\">820</td><td style=\"text-align:left\" title=\"19664\">19664</td><td style=\"text-align:left\" title=\"0\">0</td><td style=\"text-align:left\" title=\"Victoria, Australia\">Victoria, Australia</td><td style=\"text-align:left\" title=\"308.96393610763363\">308.96393610763363</td><td style=\"text-align:left\" title=\"4.003124389767623\">4.003124389767623</td></tr><tr><td style=\"text-align:left\" title=\"\"></td><td style=\"text-align:left\" title=\"\"></td><td style=\"text-align:left\" title=\"Western Australia\">Western Australia</td><td style=\"text-align:left\" title=\"Australia\">Australia</td><td style=\"text-align:left\" title=\"2021-04-08 04:21:13\">2021-04-08 04:21:13</td><td style=\"text-align:left\" title=\"-31.9505\">-31.9505</td><td style=\"text-align:left\" title=\"115.8605\">115.8605</td><td style=\"text-align:left\" title=\"951\">951</td><td style=\"text-align:left\" title=\"9\">9</td><td style=\"text-align:left\" title=\"928\">928</td><td style=\"text-align:left\" title=\"14\">14</td><td style=\"text-align:left\" title=\"Western Australia, Australia\">Western Australia, Australia</td><td style=\"text-align:left\" title=\"36.151448338782025\">36.151448338782025</td><td style=\"text-align:left\" title=\"0.9463722397476341\">0.9463722397476341</td></tr></table></body></html>"
      ]
     },
     "execution_count": 166,
     "metadata": {},
     "output_type": "execute_result"
    }
   ],
   "source": [
    "val (australien, rest) = daten.rows.partition { it[\"Country_Region\"] == \"Australia\" }\n",
    "\n",
    "val australienFrame = dataFrameOf(australien)\n",
    "val restFrame = dataFrameOf(rest)\n",
    "australienFrame.head(20)"
   ]
  },
  {
   "cell_type": "code",
   "execution_count": 167,
   "id": "08eeec98-99d5-41f9-9459-5d58c1e61263",
   "metadata": {},
   "outputs": [
    {
     "data": {
      "text/html": [
       "<html><body><table><tr><th style=\"text-align:left\">FIPS</th><th style=\"text-align:left\">Admin2</th><th style=\"text-align:left\">Province_State</th><th style=\"text-align:left\">Country_Region</th><th style=\"text-align:left\">Last_Update</th><th style=\"text-align:left\">Lat</th><th style=\"text-align:left\">Long_</th><th style=\"text-align:left\">Confirmed</th><th style=\"text-align:left\">Deaths</th><th style=\"text-align:left\">Recovered</th><th style=\"text-align:left\">Active</th><th style=\"text-align:left\">Combined_Key</th><th style=\"text-align:left\">Incident_Rate</th><th style=\"text-align:left\">Case_Fatality_Ratio</th></tr><tr><td style=\"text-align:left\" title=\"\"></td><td style=\"text-align:left\" title=\"\"></td><td style=\"text-align:left\" title=\"\"></td><td style=\"text-align:left\" title=\"Afghanistan\">Afghanistan</td><td style=\"text-align:left\" title=\"2021-04-08 04:21:13\">2021-04-08 04:21:13</td><td style=\"text-align:left\" title=\"33.93911\">33.93911</td><td style=\"text-align:left\" title=\"67.709953\">67.709953</td><td style=\"text-align:left\" title=\"56873\">56873</td><td style=\"text-align:left\" title=\"2512\">2512</td><td style=\"text-align:left\" title=\"51940\">51940</td><td style=\"text-align:left\" title=\"2421\">2421</td><td style=\"text-align:left\" title=\"Afghanistan\">Afghanistan</td><td style=\"text-align:left\" title=\"146.0966446014229\">146.0966446014229</td><td style=\"text-align:left\" title=\"4.416858614808433\">4.416858614808433</td></tr><tr><td style=\"text-align:left\" title=\"\"></td><td style=\"text-align:left\" title=\"\"></td><td style=\"text-align:left\" title=\"\"></td><td style=\"text-align:left\" title=\"Albania\">Albania</td><td style=\"text-align:left\" title=\"2021-04-08 04:21:13\">2021-04-08 04:21:13</td><td style=\"text-align:left\" title=\"41.1533\">41.1533</td><td style=\"text-align:left\" title=\"20.1683\">20.1683</td><td style=\"text-align:left\" title=\"127192\">127192</td><td style=\"text-align:left\" title=\"2291\">2291</td><td style=\"text-align:left\" title=\"95600\">95600</td><td style=\"text-align:left\" title=\"29301\">29301</td><td style=\"text-align:left\" title=\"Albania\">Albania</td><td style=\"text-align:left\" title=\"4419.765098339009\">4419.765098339009</td><td style=\"text-align:left\" title=\"1.801213912824706\">1.801213912824706</td></tr><tr><td style=\"text-align:left\" title=\"\"></td><td style=\"text-align:left\" title=\"\"></td><td style=\"text-align:left\" title=\"\"></td><td style=\"text-align:left\" title=\"Algeria\">Algeria</td><td style=\"text-align:left\" title=\"2021-04-08 04:21:13\">2021-04-08 04:21:13</td><td style=\"text-align:left\" title=\"28.0339\">28.0339</td><td style=\"text-align:left\" title=\"1.6596\">1.6596</td><td style=\"text-align:left\" title=\"118004\">118004</td><td style=\"text-align:left\" title=\"3116\">3116</td><td style=\"text-align:left\" title=\"82192\">82192</td><td style=\"text-align:left\" title=\"32696\">32696</td><td style=\"text-align:left\" title=\"Algeria\">Algeria</td><td style=\"text-align:left\" title=\"269.1019230717044\">269.1019230717044</td><td style=\"text-align:left\" title=\"2.6405884546286567\">2.6405884546286567</td></tr><tr><td style=\"text-align:left\" title=\"\"></td><td style=\"text-align:left\" title=\"\"></td><td style=\"text-align:left\" title=\"\"></td><td style=\"text-align:left\" title=\"Andorra\">Andorra</td><td style=\"text-align:left\" title=\"2021-04-08 04:21:13\">2021-04-08 04:21:13</td><td style=\"text-align:left\" title=\"42.5063\">42.5063</td><td style=\"text-align:left\" title=\"1.5218\">1.5218</td><td style=\"text-align:left\" title=\"12363\">12363</td><td style=\"text-align:left\" title=\"119\">119</td><td style=\"text-align:left\" title=\"11616\">11616</td><td style=\"text-align:left\" title=\"628\">628</td><td style=\"text-align:left\" title=\"Andorra\">Andorra</td><td style=\"text-align:left\" title=\"16000.776548243059\">16000.776548243059</td><td style=\"text-align:left\" title=\"0.9625495429911833\">0.9625495429911833</td></tr><tr><td style=\"text-align:left\" title=\"\"></td><td style=\"text-align:left\" title=\"\"></td><td style=\"text-align:left\" title=\"\"></td><td style=\"text-align:left\" title=\"Angola\">Angola</td><td style=\"text-align:left\" title=\"2021-04-08 04:21:13\">2021-04-08 04:21:13</td><td style=\"text-align:left\" title=\"-11.2027\">-11.2027</td><td style=\"text-align:left\" title=\"17.8739\">17.8739</td><td style=\"text-align:left\" title=\"23010\">23010</td><td style=\"text-align:left\" title=\"547\">547</td><td style=\"text-align:left\" title=\"21545\">21545</td><td style=\"text-align:left\" title=\"918\">918</td><td style=\"text-align:left\" title=\"Angola\">Angola</td><td style=\"text-align:left\" title=\"70.01099120837206\">70.01099120837206</td><td style=\"text-align:left\" title=\"2.3772272924815296\">2.3772272924815296</td></tr><tr><td style=\"text-align:left\" title=\"\"></td><td style=\"text-align:left\" title=\"\"></td><td style=\"text-align:left\" title=\"\"></td><td style=\"text-align:left\" title=\"Antigua and Barbuda\">Antigua and Barbuda</td><td style=\"text-align:left\" title=\"2021-04-08 04:21:13\">2021-04-08 04:21:13</td><td style=\"text-align:left\" title=\"17.0608\">17.0608</td><td style=\"text-align:left\" title=\"-61.7964\">-61.7964</td><td style=\"text-align:left\" title=\"1177\">1177</td><td style=\"text-align:left\" title=\"29\">29</td><td style=\"text-align:left\" title=\"911\">911</td><td style=\"text-align:left\" title=\"237\">237</td><td style=\"text-align:left\" title=\"Antigua and Barbuda\">Antigua and Barbuda</td><td style=\"text-align:left\" title=\"1201.9034392614985\">1201.9034392614985</td><td style=\"text-align:left\" title=\"2.463891248937978\">2.463891248937978</td></tr><tr><td style=\"text-align:left\" title=\"\"></td><td style=\"text-align:left\" title=\"\"></td><td style=\"text-align:left\" title=\"\"></td><td style=\"text-align:left\" title=\"Argentina\">Argentina</td><td style=\"text-align:left\" title=\"2021-04-08 04:21:13\">2021-04-08 04:21:13</td><td style=\"text-align:left\" title=\"-38.4161\">-38.4161</td><td style=\"text-align:left\" title=\"-63.6167\">-63.6167</td><td style=\"text-align:left\" title=\"2450068\">2450068</td><td style=\"text-align:left\" title=\"56832\">56832</td><td style=\"text-align:left\" title=\"2174625\">2174625</td><td style=\"text-align:left\" title=\"218611\">218611</td><td style=\"text-align:left\" title=\"Argentina\">Argentina</td><td style=\"text-align:left\" title=\"5421.010905510044\">5421.010905510044</td><td style=\"text-align:left\" title=\"2.319609088400812\">2.319609088400812</td></tr><tr><td style=\"text-align:left\" title=\"\"></td><td style=\"text-align:left\" title=\"\"></td><td style=\"text-align:left\" title=\"\"></td><td style=\"text-align:left\" title=\"Armenia\">Armenia</td><td style=\"text-align:left\" title=\"2021-04-08 04:21:13\">2021-04-08 04:21:13</td><td style=\"text-align:left\" title=\"40.0691\">40.0691</td><td style=\"text-align:left\" title=\"45.0382\">45.0382</td><td style=\"text-align:left\" title=\"198898\">198898</td><td style=\"text-align:left\" title=\"3647\">3647</td><td style=\"text-align:left\" title=\"178227\">178227</td><td style=\"text-align:left\" title=\"17024\">17024</td><td style=\"text-align:left\" title=\"Armenia\">Armenia</td><td style=\"text-align:left\" title=\"6712.193502099394\">6712.193502099394</td><td style=\"text-align:left\" title=\"1.8336031533750967\">1.8336031533750967</td></tr><tr><td style=\"text-align:left\" title=\"\"></td><td style=\"text-align:left\" title=\"\"></td><td style=\"text-align:left\" title=\"\"></td><td style=\"text-align:left\" title=\"Austria\">Austria</td><td style=\"text-align:left\" title=\"2021-04-08 04:21:13\">2021-04-08 04:21:13</td><td style=\"text-align:left\" title=\"47.5162\">47.5162</td><td style=\"text-align:left\" title=\"14.5501\">14.5501</td><td style=\"text-align:left\" title=\"566008\">566008</td><td style=\"text-align:left\" title=\"9546\">9546</td><td style=\"text-align:left\" title=\"522774\">522774</td><td style=\"text-align:left\" title=\"33688\">33688</td><td style=\"text-align:left\" title=\"Austria\">Austria</td><td style=\"text-align:left\" title=\"6284.508793746669\">6284.508793746669</td><td style=\"text-align:left\" title=\"1.6865486000197878\">1.6865486000197878</td></tr><tr><td style=\"text-align:left\" title=\"\"></td><td style=\"text-align:left\" title=\"\"></td><td style=\"text-align:left\" title=\"\"></td><td style=\"text-align:left\" title=\"Azerbaijan\">Azerbaijan</td><td style=\"text-align:left\" title=\"2021-04-08 04:21:13\">2021-04-08 04:21:13</td><td style=\"text-align:left\" title=\"40.1431\">40.1431</td><td style=\"text-align:left\" title=\"47.5769\">47.5769</td><td style=\"text-align:left\" title=\"276464\">276464</td><td style=\"text-align:left\" title=\"3780\">3780</td><td style=\"text-align:left\" title=\"244540\">244540</td><td style=\"text-align:left\" title=\"28144\">28144</td><td style=\"text-align:left\" title=\"Azerbaijan\">Azerbaijan</td><td style=\"text-align:left\" title=\"2726.691274191441\">2726.691274191441</td><td style=\"text-align:left\" title=\"1.367266624225939\">1.367266624225939</td></tr><tr><td style=\"text-align:left\" title=\"\"></td><td style=\"text-align:left\" title=\"\"></td><td style=\"text-align:left\" title=\"\"></td><td style=\"text-align:left\" title=\"Bahamas\">Bahamas</td><td style=\"text-align:left\" title=\"2021-04-08 04:21:13\">2021-04-08 04:21:13</td><td style=\"text-align:left\" title=\"25.025885\">25.025885</td><td style=\"text-align:left\" title=\"-78.035889\">-78.035889</td><td style=\"text-align:left\" title=\"9296\">9296</td><td style=\"text-align:left\" title=\"189\">189</td><td style=\"text-align:left\" title=\"8811\">8811</td><td style=\"text-align:left\" title=\"296\">296</td><td style=\"text-align:left\" title=\"Bahamas\">Bahamas</td><td style=\"text-align:left\" title=\"2363.902677190984\">2363.902677190984</td><td style=\"text-align:left\" title=\"2.033132530120482\">2.033132530120482</td></tr><tr><td style=\"text-align:left\" title=\"\"></td><td style=\"text-align:left\" title=\"\"></td><td style=\"text-align:left\" title=\"\"></td><td style=\"text-align:left\" title=\"Bahrain\">Bahrain</td><td style=\"text-align:left\" title=\"2021-04-08 04:21:13\">2021-04-08 04:21:13</td><td style=\"text-align:left\" title=\"26.0275\">26.0275</td><td style=\"text-align:left\" title=\"50.55\">50.55</td><td style=\"text-align:left\" title=\"151931\">151931</td><td style=\"text-align:left\" title=\"547\">547</td><td style=\"text-align:left\" title=\"141119\">141119</td><td style=\"text-align:left\" title=\"10265\">10265</td><td style=\"text-align:left\" title=\"Bahrain\">Bahrain</td><td style=\"text-align:left\" title=\"8928.803355463706\">8928.803355463706</td><td style=\"text-align:left\" title=\"0.3600318565664677\">0.3600318565664677</td></tr><tr><td style=\"text-align:left\" title=\"\"></td><td style=\"text-align:left\" title=\"\"></td><td style=\"text-align:left\" title=\"\"></td><td style=\"text-align:left\" title=\"Bangladesh\">Bangladesh</td><td style=\"text-align:left\" title=\"2021-04-08 04:21:13\">2021-04-08 04:21:13</td><td style=\"text-align:left\" title=\"23.685\">23.685</td><td style=\"text-align:left\" title=\"90.3563\">90.3563</td><td style=\"text-align:left\" title=\"659278\">659278</td><td style=\"text-align:left\" title=\"9447\">9447</td><td style=\"text-align:left\" title=\"561639\">561639</td><td style=\"text-align:left\" title=\"88192\">88192</td><td style=\"text-align:left\" title=\"Bangladesh\">Bangladesh</td><td style=\"text-align:left\" title=\"400.3160300867725\">400.3160300867725</td><td style=\"text-align:left\" title=\"1.432931176226114\">1.432931176226114</td></tr><tr><td style=\"text-align:left\" title=\"\"></td><td style=\"text-align:left\" title=\"\"></td><td style=\"text-align:left\" title=\"\"></td><td style=\"text-align:left\" title=\"Barbados\">Barbados</td><td style=\"text-align:left\" title=\"2021-04-08 04:21:13\">2021-04-08 04:21:13</td><td style=\"text-align:left\" title=\"13.1939\">13.1939</td><td style=\"text-align:left\" title=\"-59.5432\">-59.5432</td><td style=\"text-align:left\" title=\"3691\">3691</td><td style=\"text-align:left\" title=\"43\">43</td><td style=\"text-align:left\" title=\"3557\">3557</td><td style=\"text-align:left\" title=\"91\">91</td><td style=\"text-align:left\" title=\"Barbados\">Barbados</td><td style=\"text-align:left\" title=\"1284.4023927257795\">1284.4023927257795</td><td style=\"text-align:left\" title=\"1.164995936060688\">1.164995936060688</td></tr><tr><td style=\"text-align:left\" title=\"\"></td><td style=\"text-align:left\" title=\"\"></td><td style=\"text-align:left\" title=\"\"></td><td style=\"text-align:left\" title=\"Belarus\">Belarus</td><td style=\"text-align:left\" title=\"2021-04-08 04:21:13\">2021-04-08 04:21:13</td><td style=\"text-align:left\" title=\"53.7098\">53.7098</td><td style=\"text-align:left\" title=\"27.9534\">27.9534</td><td style=\"text-align:left\" title=\"330536\">330536</td><td style=\"text-align:left\" title=\"2314\">2314</td><td style=\"text-align:left\" title=\"320844\">320844</td><td style=\"text-align:left\" title=\"7378\">7378</td><td style=\"text-align:left\" title=\"Belarus\">Belarus</td><td style=\"text-align:left\" title=\"3497.986786563817\">3497.986786563817</td><td style=\"text-align:left\" title=\"0.7000750296488129\">0.7000750296488129</td></tr><tr><td style=\"text-align:left\" title=\"\"></td><td style=\"text-align:left\" title=\"\"></td><td style=\"text-align:left\" title=\"Antwerp\">Antwerp</td><td style=\"text-align:left\" title=\"Belgium\">Belgium</td><td style=\"text-align:left\" title=\"2021-04-08 04:21:13\">2021-04-08 04:21:13</td><td style=\"text-align:left\" title=\"51.2195\">51.2195</td><td style=\"text-align:left\" title=\"4.4024\">4.4024</td><td style=\"text-align:left\" title=\"115402\">115402</td><td style=\"text-align:left\" title=\"0\">0</td><td style=\"text-align:left\" title=\"0\">0</td><td style=\"text-align:left\" title=\"115402\">115402</td><td style=\"text-align:left\" title=\"Antwerp, Belgium\">Antwerp, Belgium</td><td style=\"text-align:left\" title=\"6211.133991321786\">6211.133991321786</td><td style=\"text-align:left\" title=\"0.0\">0.0</td></tr><tr><td style=\"text-align:left\" title=\"\"></td><td style=\"text-align:left\" title=\"\"></td><td style=\"text-align:left\" title=\"Brussels\">Brussels</td><td style=\"text-align:left\" title=\"Belgium\">Belgium</td><td style=\"text-align:left\" title=\"2021-04-08 04:21:13\">2021-04-08 04:21:13</td><td style=\"text-align:left\" title=\"50.8503\">50.8503</td><td style=\"text-align:left\" title=\"4.3517\">4.3517</td><td style=\"text-align:left\" title=\"112945\">112945</td><td style=\"text-align:left\" title=\"0\">0</td><td style=\"text-align:left\" title=\"0\">0</td><td style=\"text-align:left\" title=\"112945\">112945</td><td style=\"text-align:left\" title=\"Brussels, Belgium\">Brussels, Belgium</td><td style=\"text-align:left\" title=\"9345.55853251273\">9345.55853251273</td><td style=\"text-align:left\" title=\"0.0\">0.0</td></tr><tr><td style=\"text-align:left\" title=\"\"></td><td style=\"text-align:left\" title=\"\"></td><td style=\"text-align:left\" title=\"East Flanders\">East Flanders</td><td style=\"text-align:left\" title=\"Belgium\">Belgium</td><td style=\"text-align:left\" title=\"2021-04-08 04:21:13\">2021-04-08 04:21:13</td><td style=\"text-align:left\" title=\"51.0362\">51.0362</td><td style=\"text-align:left\" title=\"3.7373\">3.7373</td><td style=\"text-align:left\" title=\"103311\">103311</td><td style=\"text-align:left\" title=\"0\">0</td><td style=\"text-align:left\" title=\"0\">0</td><td style=\"text-align:left\" title=\"103311\">103311</td><td style=\"text-align:left\" title=\"East Flanders, Belgium\">East Flanders, Belgium</td><td style=\"text-align:left\" title=\"6818.91986081116\">6818.91986081116</td><td style=\"text-align:left\" title=\"0.0\">0.0</td></tr><tr><td style=\"text-align:left\" title=\"\"></td><td style=\"text-align:left\" title=\"\"></td><td style=\"text-align:left\" title=\"Flemish Brabant\">Flemish Brabant</td><td style=\"text-align:left\" title=\"Belgium\">Belgium</td><td style=\"text-align:left\" title=\"2021-04-08 04:21:13\">2021-04-08 04:21:13</td><td style=\"text-align:left\" title=\"50.9167\">50.9167</td><td style=\"text-align:left\" title=\"4.5833\">4.5833</td><td style=\"text-align:left\" title=\"69895\">69895</td><td style=\"text-align:left\" title=\"0\">0</td><td style=\"text-align:left\" title=\"0\">0</td><td style=\"text-align:left\" title=\"69895\">69895</td><td style=\"text-align:left\" title=\"Flemish Brabant, Belgium\">Flemish Brabant, Belgium</td><td style=\"text-align:left\" title=\"6098.108927519794\">6098.108927519794</td><td style=\"text-align:left\" title=\"0.0\">0.0</td></tr><tr><td style=\"text-align:left\" title=\"\"></td><td style=\"text-align:left\" title=\"\"></td><td style=\"text-align:left\" title=\"Hainaut\">Hainaut</td><td style=\"text-align:left\" title=\"Belgium\">Belgium</td><td style=\"text-align:left\" title=\"2021-04-08 04:21:13\">2021-04-08 04:21:13</td><td style=\"text-align:left\" title=\"50.5257\">50.5257</td><td style=\"text-align:left\" title=\"4.0621\">4.0621</td><td style=\"text-align:left\" title=\"134717\">134717</td><td style=\"text-align:left\" title=\"0\">0</td><td style=\"text-align:left\" title=\"0\">0</td><td style=\"text-align:left\" title=\"134717\">134717</td><td style=\"text-align:left\" title=\"Hainaut, Belgium\">Hainaut, Belgium</td><td style=\"text-align:left\" title=\"10021.78924761259\">10021.78924761259</td><td style=\"text-align:left\" title=\"0.0\">0.0</td></tr></table></body></html>"
      ]
     },
     "execution_count": 167,
     "metadata": {},
     "output_type": "execute_result"
    }
   ],
   "source": [
    "restFrame.head(20)"
   ]
  },
  {
   "cell_type": "markdown",
   "id": "6eb85941-e99b-4c9d-b16b-d61d65350671",
   "metadata": {},
   "source": [
    "#### `groupBy`\n",
    "Während `partition()` die Datenstruktur nur in zwei neue Datenstrukturen aufteilt, kann dies mit `groupBy` noch erweitert werden. Hier ist eine Unterteilung in beliebig viele Gruppen möglich. Die Bedingung, anhand derer die Gruppen eingeteilt werden, wird in einem Lambda-Ausdruck festgelegt. Das Ergebnis ist eine Map, die als Schlüssel das Identifikationsmerkmal der Gruppe und als Wert zugehörige Elemente als Liste besitzt. Außerdem ist es auch möglich, die Schlüssel dieser Map selbst festzulegen, indem der Schlüssel als Ergebnis des Lambda-Ausdrucks angegeben wird.\n",
    "\n",
    "<img src=\"../images/groupBy.png\" style=\"margin: 20px auto 20px auto\" />"
   ]
  },
  {
   "cell_type": "code",
   "execution_count": 179,
   "id": "30e423c3-5b1a-4b5c-91cf-9f9b61e4aaa6",
   "metadata": {
    "tags": []
   },
   "outputs": [
    {
     "name": "stdout",
     "output_type": "stream",
     "text": [
      "Ausgangsliste: [Aber, Also, Aachen, Berlin, Bitte, Klavier, Hafen, Hose]\n",
      "Nach Anfangsbuchstaben automatisch gruppiert: {A=[Aber, Also, Aachen], B=[Berlin, Bitte], K=[Klavier], H=[Hafen, Hose]}\n",
      "Nach Anfangsbuchstaben mit eigenen Schlüsseln gruppiert: {Wörter mit A am Anfang=[Aber, Also, Aachen], Rest=[Berlin, Bitte, Klavier, Hafen, Hose]}\n",
      "\n"
     ]
    },
    {
     "data": {
      "text/plain": [
       "Grouped by: *[Country_Region]\n",
       "A DataFrame: 5 x 14\n",
       "    FIPS   Admin2   Province_State   Country_Region           Last_Update        Lat       Long_\n",
       "1                                       Afghanistan   2021-04-08 04:21:13   33.93911   67.709953\n",
       "2                                           Albania   2021-04-08 04:21:13    41.1533     20.1683\n",
       "3                                           Algeria   2021-04-08 04:21:13    28.0339      1.6596\n",
       "4                                           Andorra   2021-04-08 04:21:13    42.5063      1.5218\n",
       "5                                            Angola   2021-04-08 04:21:13   -11.2027     17.8739\n",
       "and 7 more variables: Deaths, Recovered, Active, Combined_Key, Incident_Rate, Case_Fatality_Ratio"
      ]
     },
     "execution_count": 179,
     "metadata": {},
     "output_type": "execute_result"
    }
   ],
   "source": [
    "//Beispiel 1: groupBy() mit automatischer Generierung der Schlüssel\n",
    "val liste = listOf(\"Aber\", \"Also\", \"Aachen\", \"Berlin\", \"Bitte\", \"Klavier\", \"Hafen\", \"Hose\")\n",
    "val gruppen = liste.groupBy { it[0] }\n",
    "println(\"Ausgangsliste: $liste\")\n",
    "println(\"Nach Anfangsbuchstaben automatisch gruppiert: $gruppen\")\n",
    "\n",
    "//Beispiel 2: groupBy() mit eigenen Schlüsseln\n",
    "val gruppen2 = liste.groupBy { if (it[0] == 'A') \"Wörter mit A am Anfang\" else \"Rest\" }\n",
    "println(\"Nach Anfangsbuchstaben mit eigenen Schlüsseln gruppiert: $gruppen2\\n\")\n",
    "\n",
    "//Beispiel 3: gruppieren von Daten eines DataFrames\n",
    "val laender = daten.groupBy(\"Country_Region\") //Gruppiert die Daten nach der Spalte Country_Region\n",
    "laender"
   ]
  },
  {
   "cell_type": "code",
   "execution_count": 181,
   "id": "954765ae-091f-48a8-914e-3839f242721b",
   "metadata": {},
   "outputs": [
    {
     "data": {
      "text/html": [
       "<html><body><table><tr><th style=\"text-align:left\">FIPS</th><th style=\"text-align:left\">Admin2</th><th style=\"text-align:left\">Province_State</th><th style=\"text-align:left\">Country_Region</th><th style=\"text-align:left\">Last_Update</th><th style=\"text-align:left\">Lat</th><th style=\"text-align:left\">Long_</th><th style=\"text-align:left\">Confirmed</th><th style=\"text-align:left\">Deaths</th><th style=\"text-align:left\">Recovered</th><th style=\"text-align:left\">Active</th><th style=\"text-align:left\">Combined_Key</th><th style=\"text-align:left\">Incident_Rate</th><th style=\"text-align:left\">Case_Fatality_Ratio</th></tr><tr><td style=\"text-align:left\" title=\"\"></td><td style=\"text-align:left\" title=\"\"></td><td style=\"text-align:left\" title=\"Baden-Wurttemberg\">Baden-Wurttemberg</td><td style=\"text-align:left\" title=\"Germany\">Germany</td><td style=\"text-align:left\" title=\"2021-04-08 04:21:13\">2021-04-08 04:21:13</td><td style=\"text-align:left\" title=\"48.6616\">48.6616</td><td style=\"text-align:left\" title=\"9.3501\">9.3501</td><td style=\"text-align:left\" title=\"377133\">377133</td><td style=\"text-align:left\" title=\"8831\">8831</td><td style=\"text-align:left\" title=\"341300\">341300</td><td style=\"text-align:left\" title=\"27002\">27002</td><td style=\"text-align:left\" title=\"Baden-Wurttemberg, Germany\">Baden-Wurttemberg, Germany</td><td style=\"text-align:left\" title=\"3406.9458937427617\">3406.9458937427617</td><td style=\"text-align:left\" title=\"2.341614231584083\">2.341614231584083</td></tr><tr><td style=\"text-align:left\" title=\"\"></td><td style=\"text-align:left\" title=\"\"></td><td style=\"text-align:left\" title=\"Bayern\">Bayern</td><td style=\"text-align:left\" title=\"Germany\">Germany</td><td style=\"text-align:left\" title=\"2021-04-08 04:21:13\">2021-04-08 04:21:13</td><td style=\"text-align:left\" title=\"48.7904\">48.7904</td><td style=\"text-align:left\" title=\"11.4979\">11.4979</td><td style=\"text-align:left\" title=\"517336\">517336</td><td style=\"text-align:left\" title=\"13419\">13419</td><td style=\"text-align:left\" title=\"467100\">467100</td><td style=\"text-align:left\" title=\"36817\">36817</td><td style=\"text-align:left\" title=\"Bayern, Germany\">Bayern, Germany</td><td style=\"text-align:left\" title=\"3956.1599578365253\">3956.1599578365253</td><td style=\"text-align:left\" title=\"2.5938654955386826\">2.5938654955386826</td></tr><tr><td style=\"text-align:left\" title=\"\"></td><td style=\"text-align:left\" title=\"\"></td><td style=\"text-align:left\" title=\"Berlin\">Berlin</td><td style=\"text-align:left\" title=\"Germany\">Germany</td><td style=\"text-align:left\" title=\"2021-04-08 04:21:13\">2021-04-08 04:21:13</td><td style=\"text-align:left\" title=\"52.52\">52.52</td><td style=\"text-align:left\" title=\"13.405\">13.405</td><td style=\"text-align:left\" title=\"150385\">150385</td><td style=\"text-align:left\" title=\"3098\">3098</td><td style=\"text-align:left\" title=\"138800\">138800</td><td style=\"text-align:left\" title=\"8487\">8487</td><td style=\"text-align:left\" title=\"Berlin, Germany\">Berlin, Germany</td><td style=\"text-align:left\" title=\"4125.985712349506\">4125.985712349506</td><td style=\"text-align:left\" title=\"2.0600458822355954\">2.0600458822355954</td></tr><tr><td style=\"text-align:left\" title=\"\"></td><td style=\"text-align:left\" title=\"\"></td><td style=\"text-align:left\" title=\"Brandenburg\">Brandenburg</td><td style=\"text-align:left\" title=\"Germany\">Germany</td><td style=\"text-align:left\" title=\"2021-04-08 04:21:13\">2021-04-08 04:21:13</td><td style=\"text-align:left\" title=\"52.4125\">52.4125</td><td style=\"text-align:left\" title=\"12.5316\">12.5316</td><td style=\"text-align:left\" title=\"90999\">90999</td><td style=\"text-align:left\" title=\"3358\">3358</td><td style=\"text-align:left\" title=\"81090\">81090</td><td style=\"text-align:left\" title=\"6551\">6551</td><td style=\"text-align:left\" title=\"Brandenburg, Germany\">Brandenburg, Germany</td><td style=\"text-align:left\" title=\"3622.6913548497027\">3622.6913548497027</td><td style=\"text-align:left\" title=\"3.69015044121364\">3.69015044121364</td></tr><tr><td style=\"text-align:left\" title=\"\"></td><td style=\"text-align:left\" title=\"\"></td><td style=\"text-align:left\" title=\"Bremen\">Bremen</td><td style=\"text-align:left\" title=\"Germany\">Germany</td><td style=\"text-align:left\" title=\"2021-04-08 04:21:13\">2021-04-08 04:21:13</td><td style=\"text-align:left\" title=\"53.0793\">53.0793</td><td style=\"text-align:left\" title=\"8.8017\">8.8017</td><td style=\"text-align:left\" title=\"21697\">21697</td><td style=\"text-align:left\" title=\"415\">415</td><td style=\"text-align:left\" title=\"19790\">19790</td><td style=\"text-align:left\" title=\"1492\">1492</td><td style=\"text-align:left\" title=\"Bremen, Germany\">Bremen, Germany</td><td style=\"text-align:left\" title=\"3176.785468516192\">3176.785468516192</td><td style=\"text-align:left\" title=\"1.9127068258284556\">1.9127068258284556</td></tr><tr><td style=\"text-align:left\" title=\"\"></td><td style=\"text-align:left\" title=\"\"></td><td style=\"text-align:left\" title=\"Hamburg\">Hamburg</td><td style=\"text-align:left\" title=\"Germany\">Germany</td><td style=\"text-align:left\" title=\"2021-04-08 04:21:13\">2021-04-08 04:21:13</td><td style=\"text-align:left\" title=\"53.5511\">53.5511</td><td style=\"text-align:left\" title=\"9.9937\">9.9937</td><td style=\"text-align:left\" title=\"63826\">63826</td><td style=\"text-align:left\" title=\"1404\">1404</td><td style=\"text-align:left\" title=\"55180\">55180</td><td style=\"text-align:left\" title=\"7242\">7242</td><td style=\"text-align:left\" title=\"Hamburg, Germany\">Hamburg, Germany</td><td style=\"text-align:left\" title=\"3466.583097026416\">3466.583097026416</td><td style=\"text-align:left\" title=\"2.199730517344029\">2.199730517344029</td></tr><tr><td style=\"text-align:left\" title=\"\"></td><td style=\"text-align:left\" title=\"\"></td><td style=\"text-align:left\" title=\"Hessen\">Hessen</td><td style=\"text-align:left\" title=\"Germany\">Germany</td><td style=\"text-align:left\" title=\"2021-04-08 04:21:13\">2021-04-08 04:21:13</td><td style=\"text-align:left\" title=\"50.6521\">50.6521</td><td style=\"text-align:left\" title=\"9.1624\">9.1624</td><td style=\"text-align:left\" title=\"227581\">227581</td><td style=\"text-align:left\" title=\"6441\">6441</td><td style=\"text-align:left\" title=\"202400\">202400</td><td style=\"text-align:left\" title=\"18740\">18740</td><td style=\"text-align:left\" title=\"Hessen, Germany\">Hessen, Germany</td><td style=\"text-align:left\" title=\"3632.108798720165\">3632.108798720165</td><td style=\"text-align:left\" title=\"2.8302011152073328\">2.8302011152073328</td></tr><tr><td style=\"text-align:left\" title=\"\"></td><td style=\"text-align:left\" title=\"\"></td><td style=\"text-align:left\" title=\"Mecklenburg-Vorpommern\">Mecklenburg-Vorpommern</td><td style=\"text-align:left\" title=\"Germany\">Germany</td><td style=\"text-align:left\" title=\"2021-04-08 04:21:13\">2021-04-08 04:21:13</td><td style=\"text-align:left\" title=\"53.6127\">53.6127</td><td style=\"text-align:left\" title=\"12.4296\">12.4296</td><td style=\"text-align:left\" title=\"32341\">32341</td><td style=\"text-align:left\" title=\"887\">887</td><td style=\"text-align:left\" title=\"28730\">28730</td><td style=\"text-align:left\" title=\"2724\">2724</td><td style=\"text-align:left\" title=\"Mecklenburg-Vorpommern, Germany\">Mecklenburg-Vorpommern, Germany</td><td style=\"text-align:left\" title=\"2009.1633404258623\">2009.1633404258623</td><td style=\"text-align:left\" title=\"2.742648650320027\">2.742648650320027</td></tr><tr><td style=\"text-align:left\" title=\"\"></td><td style=\"text-align:left\" title=\"\"></td><td style=\"text-align:left\" title=\"Niedersachsen\">Niedersachsen</td><td style=\"text-align:left\" title=\"Germany\">Germany</td><td style=\"text-align:left\" title=\"2021-04-08 04:21:13\">2021-04-08 04:21:13</td><td style=\"text-align:left\" title=\"52.6367\">52.6367</td><td style=\"text-align:left\" title=\"9.8451\">9.8451</td><td style=\"text-align:left\" title=\"205087\">205087</td><td style=\"text-align:left\" title=\"4962\">4962</td><td style=\"text-align:left\" title=\"186600\">186600</td><td style=\"text-align:left\" title=\"13525\">13525</td><td style=\"text-align:left\" title=\"Niedersachsen, Germany\">Niedersachsen, Germany</td><td style=\"text-align:left\" title=\"2569.22437828596\">2569.22437828596</td><td style=\"text-align:left\" title=\"2.419461009230229\">2.419461009230229</td></tr><tr><td style=\"text-align:left\" title=\"\"></td><td style=\"text-align:left\" title=\"\"></td><td style=\"text-align:left\" title=\"Nordrhein-Westfalen\">Nordrhein-Westfalen</td><td style=\"text-align:left\" title=\"Germany\">Germany</td><td style=\"text-align:left\" title=\"2021-04-08 04:21:13\">2021-04-08 04:21:13</td><td style=\"text-align:left\" title=\"51.4332\">51.4332</td><td style=\"text-align:left\" title=\"7.6616\">7.6616</td><td style=\"text-align:left\" title=\"633940\">633940</td><td style=\"text-align:left\" title=\"14462\">14462</td><td style=\"text-align:left\" title=\"572000\">572000</td><td style=\"text-align:left\" title=\"47478\">47478</td><td style=\"text-align:left\" title=\"Nordrhein-Westfalen, Germany\">Nordrhein-Westfalen, Germany</td><td style=\"text-align:left\" title=\"3535.1159178863177\">3535.1159178863177</td><td style=\"text-align:left\" title=\"2.281288450011042\">2.281288450011042</td></tr><tr><td style=\"text-align:left\" title=\"\"></td><td style=\"text-align:left\" title=\"\"></td><td style=\"text-align:left\" title=\"Rheinland-Pfalz\">Rheinland-Pfalz</td><td style=\"text-align:left\" title=\"Germany\">Germany</td><td style=\"text-align:left\" title=\"2021-04-08 04:21:13\">2021-04-08 04:21:13</td><td style=\"text-align:left\" title=\"50.1183\">50.1183</td><td style=\"text-align:left\" title=\"7.309\">7.309</td><td style=\"text-align:left\" title=\"120870\">120870</td><td style=\"text-align:left\" title=\"3362\">3362</td><td style=\"text-align:left\" title=\"108700\">108700</td><td style=\"text-align:left\" title=\"8808\">8808</td><td style=\"text-align:left\" title=\"Rheinland-Pfalz, Germany\">Rheinland-Pfalz, Germany</td><td style=\"text-align:left\" title=\"2958.98692826458\">2958.98692826458</td><td style=\"text-align:left\" title=\"2.781500785968396\">2.781500785968396</td></tr><tr><td style=\"text-align:left\" title=\"\"></td><td style=\"text-align:left\" title=\"\"></td><td style=\"text-align:left\" title=\"Saarland\">Saarland</td><td style=\"text-align:left\" title=\"Germany\">Germany</td><td style=\"text-align:left\" title=\"2021-04-08 04:21:13\">2021-04-08 04:21:13</td><td style=\"text-align:left\" title=\"49.3964\">49.3964</td><td style=\"text-align:left\" title=\"7.023\">7.023</td><td style=\"text-align:left\" title=\"32807\">32807</td><td style=\"text-align:left\" title=\"946\">946</td><td style=\"text-align:left\" title=\"30330\">30330</td><td style=\"text-align:left\" title=\"1531\">1531</td><td style=\"text-align:left\" title=\"Saarland, Germany\">Saarland, Germany</td><td style=\"text-align:left\" title=\"3312.135477819989\">3312.135477819989</td><td style=\"text-align:left\" title=\"2.8835309537598683\">2.8835309537598683</td></tr><tr><td style=\"text-align:left\" title=\"\"></td><td style=\"text-align:left\" title=\"\"></td><td style=\"text-align:left\" title=\"Sachsen\">Sachsen</td><td style=\"text-align:left\" title=\"Germany\">Germany</td><td style=\"text-align:left\" title=\"2021-04-08 04:21:13\">2021-04-08 04:21:13</td><td style=\"text-align:left\" title=\"51.1045\">51.1045</td><td style=\"text-align:left\" title=\"13.2017\">13.2017</td><td style=\"text-align:left\" title=\"229450\">229450</td><td style=\"text-align:left\" title=\"8475\">8475</td><td style=\"text-align:left\" title=\"205400\">205400</td><td style=\"text-align:left\" title=\"15575\">15575</td><td style=\"text-align:left\" title=\"Sachsen, Germany\">Sachsen, Germany</td><td style=\"text-align:left\" title=\"5626.619538261626\">5626.619538261626</td><td style=\"text-align:left\" title=\"3.6936151667029855\">3.6936151667029855</td></tr><tr><td style=\"text-align:left\" title=\"\"></td><td style=\"text-align:left\" title=\"\"></td><td style=\"text-align:left\" title=\"Sachsen-Anhalt\">Sachsen-Anhalt</td><td style=\"text-align:left\" title=\"Germany\">Germany</td><td style=\"text-align:left\" title=\"2021-04-08 04:21:13\">2021-04-08 04:21:13</td><td style=\"text-align:left\" title=\"51.9503\">51.9503</td><td style=\"text-align:left\" title=\"11.6923\">11.6923</td><td style=\"text-align:left\" title=\"76541\">76541</td><td style=\"text-align:left\" title=\"2803\">2803</td><td style=\"text-align:left\" title=\"67780\">67780</td><td style=\"text-align:left\" title=\"5958\">5958</td><td style=\"text-align:left\" title=\"Sachsen-Anhalt, Germany\">Sachsen-Anhalt, Germany</td><td style=\"text-align:left\" title=\"3466.0269046030894\">3466.0269046030894</td><td style=\"text-align:left\" title=\"3.6620895990384237\">3.6620895990384237</td></tr><tr><td style=\"text-align:left\" title=\"\"></td><td style=\"text-align:left\" title=\"\"></td><td style=\"text-align:left\" title=\"Schleswig-Holstein\">Schleswig-Holstein</td><td style=\"text-align:left\" title=\"Germany\">Germany</td><td style=\"text-align:left\" title=\"2021-04-08 04:21:13\">2021-04-08 04:21:13</td><td style=\"text-align:left\" title=\"54.2194\">54.2194</td><td style=\"text-align:left\" title=\"9.6961\">9.6961</td><td style=\"text-align:left\" title=\"51864\">51864</td><td style=\"text-align:left\" title=\"1448\">1448</td><td style=\"text-align:left\" title=\"46260\">46260</td><td style=\"text-align:left\" title=\"4156\">4156</td><td style=\"text-align:left\" title=\"Schleswig-Holstein, Germany\">Schleswig-Holstein, Germany</td><td style=\"text-align:left\" title=\"1790.443785920036\">1790.443785920036</td><td style=\"text-align:left\" title=\"2.7919173222273637\">2.7919173222273637</td></tr><tr><td style=\"text-align:left\" title=\"\"></td><td style=\"text-align:left\" title=\"\"></td><td style=\"text-align:left\" title=\"Thuringen\">Thuringen</td><td style=\"text-align:left\" title=\"Germany\">Germany</td><td style=\"text-align:left\" title=\"2021-04-08 04:21:13\">2021-04-08 04:21:13</td><td style=\"text-align:left\" title=\"51.011\">51.011</td><td style=\"text-align:left\" title=\"10.8453\">10.8453</td><td style=\"text-align:left\" title=\"99350\">99350</td><td style=\"text-align:left\" title=\"3444\">3444</td><td style=\"text-align:left\" title=\"86860\">86860</td><td style=\"text-align:left\" title=\"9046\">9046</td><td style=\"text-align:left\" title=\"Thuringen, Germany\">Thuringen, Germany</td><td style=\"text-align:left\" title=\"4635.710602875681\">4635.710602875681</td><td style=\"text-align:left\" title=\"3.466532460996477\">3.466532460996477</td></tr><tr><td style=\"text-align:left\" title=\"\"></td><td style=\"text-align:left\" title=\"\"></td><td style=\"text-align:left\" title=\"Unknown\">Unknown</td><td style=\"text-align:left\" title=\"Germany\">Germany</td><td style=\"text-align:left\" title=\"2021-04-08 04:21:13\">2021-04-08 04:21:13</td><td style=\"text-align:left\" title=\"\"></td><td style=\"text-align:left\" title=\"\"></td><td style=\"text-align:left\" title=\"9072\">9072</td><td style=\"text-align:left\" title=\"0\">0</td><td style=\"text-align:left\" title=\"0\">0</td><td style=\"text-align:left\" title=\"9072\">9072</td><td style=\"text-align:left\" title=\"Unknown, Germany\">Unknown, Germany</td><td style=\"text-align:left\" title=\"\"></td><td style=\"text-align:left\" title=\"0.0\">0.0</td></tr></table></body></html>"
      ]
     },
     "execution_count": 181,
     "metadata": {},
     "output_type": "execute_result"
    }
   ],
   "source": [
    "laender.groups()[66] //Gibt die 66. Gruppe (Deutschland) aus"
   ]
  },
  {
   "cell_type": "markdown",
   "id": "41adf671-3684-4c17-b21b-c127555a0432",
   "metadata": {},
   "source": [
    "#### `count`\n",
    "Mit `count()` kann die Anzahl der Fälle ermittelt werden, die die Bedingung des Lambda-Ausdrucks erfüllen. Wird auf den Lambda-Ausdruck verzichtet, wird die Anzahl der Elemente zurückgegeben."
   ]
  },
  {
   "cell_type": "code",
   "execution_count": 46,
   "id": "e1bc2a7b-6e63-4dd0-b916-c27c0a7771d8",
   "metadata": {
    "execution": {
     "iopub.execute_input": "2021-04-18T14:37+0200",
     "iopub.status.busy": "2021-04-18T14:37+0200",
     "iopub.status.idle": "2021-04-18T14:37+0200",
     "shell.execute_reply": "2021-04-18T14:37+0200",
     "shell.execute_reply.started": "2021-04-18T14:37+0200"
    }
   },
   "outputs": [
    {
     "name": "stdout",
     "output_type": "stream",
     "text": [
      "Anzahl an Zeilen: 3983\n",
      "Anzahl an Zeilen von Deutschland: 17\n"
     ]
    }
   ],
   "source": [
    "println(\"Anzahl an Zeilen: ${daten.rows.count()}\")\n",
    "val zeilenDE = daten.rows.count { it[\"Country_Region\"] == \"Germany\" }\n",
    "println(\"Anzahl an Zeilen von Deutschland: $zeilenDE\")"
   ]
  }
 ],
 "metadata": {
  "kernelspec": {
   "display_name": "Kotlin",
   "language": "kotlin",
   "name": "kotlin"
  },
  "language_info": {
   "codemirror_mode": "text/x-kotlin",
   "file_extension": ".kt",
   "mimetype": "text/x-kotlin",
   "name": "kotlin",
   "nbconvert_exporter": "",
   "pygments_lexer": "kotlin",
   "version": "1.5.20-dev-5817"
  }
 },
 "nbformat": 4,
 "nbformat_minor": 5
}
