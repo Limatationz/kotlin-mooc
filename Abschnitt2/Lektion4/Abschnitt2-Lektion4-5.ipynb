{
 "cells": [
  {
   "cell_type": "code",
   "execution_count": 3,
   "id": "79e1f1fc-e993-4147-b19b-d6bd0b5e52bd",
   "metadata": {
    "tags": []
   },
   "outputs": [],
   "source": [
    "%use krangl\n",
    "val daten = DataFrame.readCSV(\"../daten/virusErde14.csv\") //Liest die csv-Datei und wandelt sie in einen DataFrame um"
   ]
  },
  {
   "cell_type": "markdown",
   "id": "0b1beb07-5364-4029-9d20-d9d8631362d4",
   "metadata": {},
   "source": [
    "#### `sumOf`, `minByOrNull`, `maxByOrNull`\n",
    "##### `sumOf`\n",
    "`sumOf()` erweitert `sum()` in dem Gesichtspunkt, dass zuerst die Anweisung des Funktionsrumpf des Lambda-Ausdrucks angewendet und das Ergebnis zur Summe addiert wird. "
   ]
  },
  {
   "cell_type": "code",
   "execution_count": 1,
   "id": "8a221ce4-6934-4c9b-8236-f4182b6cc517",
   "metadata": {
    "tags": []
   },
   "outputs": [
    {
     "name": "stderr",
     "output_type": "stream",
     "text": [
      "Line_0.jupyter-kts (7:23 - 28) Unresolved reference: daten\n",
      "Line_0.jupyter-kts (7:42 - 44) Unresolved reference: it\n",
      "Line_0.jupyter-kts (7:58 - 64) No cast needed"
     ]
    }
   ],
   "source": [
    "val liste = listOf(-3,-2,-1,0,1,2,3,4,5,6,7,8,9)\n",
    "val summe = liste.sum()\n",
    "println(\"Die Summe der Einträge von liste ist $summe.\")\n",
    "val summePositiv = liste.sumOf { it.absoluteValue }\n",
    "println(\"Die Summe der Beträge der Einträge von liste ist $summePositiv. \\n\")\n",
    "\n",
    "val summeBestaetigt = daten.rows.sumOf { it[\"Confirmed\"] as Int }\n",
    "println(\"Anzahl der bestätigten Fälle weltweit: $summeBestaetigt\")"
   ]
  },
  {
   "cell_type": "markdown",
   "id": "e4dff446-45cb-4f8c-ac60-00ae7561daee",
   "metadata": {},
   "source": [
    "##### minByOrNull\n",
    "Mit `minByOrNull` kann das Minimum in Verbindung mit einem Lambda-Ausdrucks gefunden werden. Dabei muss entweder angegeben werden wovon das Minimum gesucht werden soll (beispielsweise die Spalte einer Tabelle),  oder eine Anweisung. Bei der Auswertung wird zuerst die Anweisung ausgeführt und das Ergebnis dann mit dem aktuellen Minimum verglichen. Falls es kleiner ist, wird das Ausgangselement der Anweisung als Minimum gespeichert. Falls kein Minimum existiert, wird `null` zurückgegeben."
   ]
  },
  {
   "cell_type": "code",
   "execution_count": 191,
   "id": "cc72f2f1-3713-4537-93f5-f532651527ca",
   "metadata": {
    "tags": []
   },
   "outputs": [
    {
     "name": "stdout",
     "output_type": "stream",
     "text": [
      "Das Bundesland mit den wenigsten bestätigten Fällen ist: Bremen\n",
      "Das Element der Liste liste mit dem kleinsten Betrag ist: 0\n"
     ]
    }
   ],
   "source": [
    "//Angabe des Vergleichsorts\n",
    "val minBestaetigtDE = daten.rows\n",
    "    .filter { it[\"Country_Region\"] == \"Germany\" && it[\"Province_State\"] != \"Unknown\" } //Filtert alle Zeilen, bei denen das Land Deutschland und das Bundesland nicht Unknown ist\n",
    "    .minByOrNull { it[\"Confirmed\"] as Int } //Sucht das Minimum in der Spalte Confirmed\n",
    "println(\"Das Bundesland mit den wenigsten bestätigten Fällen ist: ${minBestaetigtDE?.get(\"Province_State\")}\")\n",
    "\n",
    "//Angabe einer Anweisung. Hier: Gesucht ist das Elements mit dem kleinstem Betrag.\n",
    "val liste = listOf(-3,-2,-1,0,1,2,3,4,5,6,7,8,9)\n",
    "val min = liste.minByOrNull { it.absoluteValue }\n",
    "println(\"Das Element der Liste liste mit dem kleinsten Betrag ist: $min\")"
   ]
  },
  {
   "cell_type": "markdown",
   "id": "0fa894fa-fbcc-439b-a272-2aa7c4615626",
   "metadata": {},
   "source": [
    "##### `maxByOrNull`\n",
    "`maxByOrNull()` ist das Gegenteil von `minByOrNull` und liefert das Maximum oder `null`."
   ]
  },
  {
   "cell_type": "code",
   "execution_count": 192,
   "id": "84861694-3e20-4c16-9d3f-2ba3f6b4fe74",
   "metadata": {
    "tags": []
   },
   "outputs": [
    {
     "name": "stdout",
     "output_type": "stream",
     "text": [
      "Das Bundesland mit den meisten bestätigten Fällen ist: Nordrhein-Westfalen\n",
      "Das Element der Liste liste mit dem größten Betrag ist: 9\n"
     ]
    }
   ],
   "source": [
    "//Angabe des Vergleichsorts\n",
    "val maxBestaetigtDE = daten.rows\n",
    "    .filter { it[\"Country_Region\"] == \"Germany\" && it[\"Province_State\"] != \"Unknown\" } //Filtert alle Zeilen, bei denen das Land Deutschland und das Bundesland nicht Unknown ist\n",
    "    .maxByOrNull { it[\"Confirmed\"] as Int } //Sucht das Maximum in der Spalte Confirmed\n",
    "println(\"Das Bundesland mit den meisten bestätigten Fällen ist: ${maxBestaetigtDE?.get(\"Province_State\")}\")\n",
    "\n",
    "//Angabe einer Anweisung. Hier: Gesucht ist das Elements mit dem gröten Betrag.\n",
    "val liste = listOf(-3,-2,-1,0,1,2,3,4,5,6,7,8,9)\n",
    "val max = liste.maxByOrNull { it.absoluteValue }\n",
    "println(\"Das Element der Liste liste mit dem größten Betrag ist: $max\")"
   ]
  },
  {
   "cell_type": "markdown",
   "id": "d264f99f-e7d6-4952-af98-f590fadf801e",
   "metadata": {},
   "source": [
    "#### `take`\n",
    "Die `take()`-Methode wurde bereits in Abschnitt 1 vorgestellt. Anstelle einer bestimmen Anzahl, können mit `takeWhile()` oder `takeUnless()` so viele Elemente *genommen* werden, bis eine Bedingung nicht mehr erfüllt ist. Beide Methoden unterscheiden sich nur im Rückgabetyp. Eine weitere Erweiterung ist `takeIf()`. Diese findet bei einfachen Variablen Anwendung. Falls die Bedingung für die Variable erfüllt ist, wird diese zurückgegeben. Falls die Prüfung fehlschlägt ist die Rückgabe `null`."
   ]
  },
  {
   "cell_type": "code",
   "execution_count": 60,
   "id": "ea0885a0-579a-469a-b566-3574c886795b",
   "metadata": {
    "execution": {
     "iopub.execute_input": "2021-04-18T14:37+0200",
     "iopub.status.busy": "2021-04-18T14:37+0200",
     "iopub.status.idle": "2021-04-18T14:37+0200",
     "shell.execute_reply": "2021-04-18T14:37+0200",
     "shell.execute_reply.started": "2021-04-18T14:37+0200"
    }
   },
   "outputs": [
    {
     "name": "stdout",
     "output_type": "stream",
     "text": [
      "Afghanistan: 2512\n",
      "Albania: 2291\n",
      "Algeria: 3116\n",
      "Andorra: 119\n",
      "Angola: 547\n",
      "\n",
      "Zahl: 1\n"
     ]
    }
   ],
   "source": [
    "val zeilen = daten.rows.takeWhile { it[\"Deaths\"] as Int > 100 } //Nimmt alle Zeilen vom Start bis die Anzahl der Tode < 100 ist.\n",
    "for (zeile in zeilen){\n",
    "    println(\"${zeile[\"Country_Region\"]}: ${zeile[\"Deaths\"]}\")\n",
    "}\n",
    "\n",
    "val zufall = (0..10).random()\n",
    "val zahl = zufall.takeIf { it < 5 } ?: -1\n",
    "println(\"\\nZahl: $zahl\")"
   ]
  },
  {
   "cell_type": "markdown",
   "id": "da4784f1-6e61-4e9a-951a-f7ec1a357fae",
   "metadata": {},
   "source": [
    "#### `forEach`\n",
    "Die `forEach`-Schleife sollte bereits aus Java bekannt sein. Eine ähnliche Umsetzung mit dem Schlüsselwort `in` wurde in Abschnitt 1 besprochen. Eine weitere Möglichkeit diese Art der Schleife in Kotlin umzusetzen ist `forEach()` in Verbindung mit Lambda. Die Methode erinnert stark an `map()`, da der Funktionsrumpf des Lambda-Ausdrucks an jedem Elementen der Datenstruktur angewendet wird. Jedoch wird hier kein Ergebnis zurückgegeben. Das aktuelle Element kann außerdem nicht verändert werden, da es vom Typ `val` ist."
   ]
  },
  {
   "cell_type": "code",
   "execution_count": 195,
   "id": "66da3ac0-890a-47e2-84dd-51340b45f25f",
   "metadata": {
    "tags": []
   },
   "outputs": [
    {
     "name": "stdout",
     "output_type": "stream",
     "text": [
      "1 & -1\n",
      "2 & -2\n",
      "3 & -3\n",
      "4 & -4\n",
      "5 & -5\n",
      "6 & -6\n"
     ]
    }
   ],
   "source": [
    "val liste = mutableListOf (1,2,3,4,5,6)\n",
    "liste.forEach { it: Int ->\n",
    "    val invertiert =  -it\n",
    "    println(\"$it & $invertiert\")\n",
    "}"
   ]
  }
 ],
 "metadata": {
  "kernelspec": {
   "display_name": "Kotlin",
   "language": "kotlin",
   "name": "kotlin"
  },
  "language_info": {
   "codemirror_mode": "text/x-kotlin",
   "file_extension": ".kt",
   "mimetype": "text/x-kotlin",
   "name": "kotlin",
   "nbconvert_exporter": "",
   "pygments_lexer": "kotlin",
   "version": "1.5.20-dev-5817"
  }
 },
 "nbformat": 4,
 "nbformat_minor": 5
}
