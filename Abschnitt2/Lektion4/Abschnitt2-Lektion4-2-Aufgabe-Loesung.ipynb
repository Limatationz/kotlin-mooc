{
 "cells": [
  {
   "cell_type": "markdown",
   "id": "dde0a3a2-1c3a-454d-b627-009ea2a6984c",
   "metadata": {},
   "source": [
    "# Aufgabe - any, all und none\n",
    "Während der Vorstellung der drei Methoden könnte aufgefallen sein, dass sich diese gegenseitig beeinflussen. Genau das soll in dieser Aufgabe genutzt werden. Vervollständige folgendes Grundgerüst, sodass alle Tests keine Fehler aufweisen.\n",
    "* `checkLaenge()` soll `true` zurückgeben, falls jede Zeichenkette der Liste länger als die übergebene Länge ist.   \n",
    "* `checkBuchstabe()` soll überprüfen, ob jede Zeichenkette der Liste den übergebenen Buchstaben beinhaltet."
   ]
  },
  {
   "cell_type": "code",
   "execution_count": 40,
   "id": "46fec662-5e1b-4edd-b2be-1355638fa464",
   "metadata": {
    "execution": {
     "iopub.execute_input": "2021-04-18T14:37+0200",
     "iopub.status.busy": "2021-04-18T14:37+0200",
     "iopub.status.idle": "2021-04-18T14:37+0200",
     "shell.execute_reply": "2021-04-18T14:37+0200",
     "shell.execute_reply.started": "2021-04-18T14:37+0200"
    }
   },
   "outputs": [
    {
     "name": "stdout",
     "output_type": "stream",
     "text": [
      "Super! Alle Tests bestanden!\n"
     ]
    }
   ],
   "source": [
    "//Lösung\n",
    "fun List<String>.checkLaenge1(laenge: Int) =  all { it.length >= laenge }\n",
    "fun List<String>.checkLaenge2(laenge: Int) =  none { it.length < laenge }\n",
    "fun List<String>.checkLaenge3(laenge: Int) =  !any { it.length < laenge}\n",
    "\n",
    "fun List<String>.checkBuchstabe1(buchstabe: Char) =  all { it.contains(buchstabe) }\n",
    "fun List<String>.checkBuchstabe2(buchstabe: Char) =  none { !it.contains(buchstabe) }\n",
    "fun List<String>.checkBuchstabe3(buchstabe: Char) =  !any { !it.contains(buchstabe)}\n",
    "\n",
    "var fehler = 0\n",
    "val liste1 = listOf(\"Tertiär\", \"Senat\", \"Sklave\", \"Blatt\", \"Ruhm\", \"Pinguin\")\n",
    "if (liste1.checkLaenge1(4) != true){\n",
    "    println(\"Fehler! liste1.checkLaenge1(4) sollte eigentlich true sein, ist aber ${liste1.checkLaenge1(4)}\")\n",
    "    fehler++\n",
    "}\n",
    "if (liste1.checkLaenge2(4) != true){\n",
    "    println(\"Fehler! liste1.checkLaenge3(4) sollte eigentlich true sein, ist aber ${liste1.checkLaenge2(4)}\")\n",
    "    fehler++\n",
    "}\n",
    "if (liste1.checkLaenge3(4) != true){\n",
    "    println(\"Fehler! liste1.checkLaenge3(4) sollte eigentlich true sein, ist aber ${liste1.checkLaenge3(4)}\")\n",
    "    fehler++\n",
    "}\n",
    "\n",
    "if (liste1.checkLaenge1(7) != false){\n",
    "    println(\"Fehler! liste1.checkLaenge1(7) sollte eigentlich false sein, ist aber ${liste1.checkLaenge1(7)}\")\n",
    "    fehler++\n",
    "}\n",
    "if (liste1.checkLaenge2(7) != false){\n",
    "    println(\"Fehler! liste1.checkLaenge2(7) sollte eigentlich false sein, ist aber ${liste1.checkLaenge2(7)}\")\n",
    "    fehler++\n",
    "}\n",
    "if (liste1.checkLaenge3(7) != false){\n",
    "    println(\"Fehler! liste1.checkLaenge3(7) sollte eigentlich false sein, ist aber ${liste1.checkLaenge3(7)}\")\n",
    "    fehler++\n",
    "}\n",
    "\n",
    "val liste2 = listOf(\"Barretina\", \"Sockel\", \"Tablette\", \"Elefant\", \"Zauberstab\", \"Heer\")\n",
    "if (liste2.checkBuchstabe1('e') != true){\n",
    "    println(\"Fehler! liste2.checkBuchstabe1('e') sollte eigentlich true sein, ist aber ${liste2.checkBuchstabe1('e')}\")\n",
    "    fehler++\n",
    "}\n",
    "if (liste2.checkBuchstabe2('e') != true){\n",
    "    println(\"Fehler! liste2.checkBuchstabe2('e') sollte eigentlich true sein, ist aber ${liste2.checkBuchstabe2('e')}\")\n",
    "    fehler++\n",
    "}\n",
    "if (liste2.checkBuchstabe3('e') != true){\n",
    "    println(\"Fehler! liste2.checkBuchstabe3('e') sollte eigentlich true sein, ist aber ${liste2.checkBuchstabe3('e')}\")\n",
    "    fehler++\n",
    "}\n",
    "\n",
    "if (liste2.checkBuchstabe1('a') != false){\n",
    "    println(\"Fehler! liste2.checkBuchstabe1('a') sollte eigentlich false sein, ist aber ${liste2.checkBuchstabe1('a')}\")\n",
    "    fehler++\n",
    "}\n",
    "if (liste2.checkBuchstabe2('a') != false){\n",
    "    println(\"Fehler! liste2.checkBuchstabe2('a') sollte eigentlich false sein, ist aber ${liste2.checkBuchstabe2('a')}\")\n",
    "    fehler++\n",
    "}\n",
    "if (liste2.checkBuchstabe3('a') != false){\n",
    "    println(\"Fehler! liste2.checkBuchstabe3('a') sollte eigentlich false sein, ist aber ${liste2.checkBuchstabe3('a')}\")\n",
    "    fehler++\n",
    "}\n",
    "\n",
    "if(fehler == 0)\n",
    "    println(\"Super! Alle Tests bestanden!\")\n",
    "else\n",
    "    println(\"Bei $fehler Tests kamen Fehler auf.\")"
   ]
  }
 ],
 "metadata": {
  "kernelspec": {
   "display_name": "Kotlin",
   "language": "kotlin",
   "name": "kotlin"
  },
  "language_info": {
   "codemirror_mode": "text/x-kotlin",
   "file_extension": ".kt",
   "mimetype": "text/x-kotlin",
   "name": "kotlin",
   "nbconvert_exporter": "",
   "pygments_lexer": "kotlin",
   "version": "1.5.20-dev-5817"
  }
 },
 "nbformat": 4,
 "nbformat_minor": 5
}
