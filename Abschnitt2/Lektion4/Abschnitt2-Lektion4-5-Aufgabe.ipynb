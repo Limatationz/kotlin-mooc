{
 "cells": [
  {
   "cell_type": "code",
   "execution_count": 3,
   "id": "12d46bf2-437a-4ce1-8d9b-158770546f99",
   "metadata": {
    "tags": []
   },
   "outputs": [],
   "source": [
    "%use krangl\n",
    "val daten = DataFrame.readCSV(\"../daten/virusErde14.csv\") //Liest die csv-Datei und wandelt sie in einen DataFrame um"
   ]
  },
  {
   "cell_type": "markdown",
   "id": "926aa516-95ce-493a-a636-81cb3c06cca5",
   "metadata": {},
   "source": [
    "# Aufgabe - forEach\n",
    "Speichere in der Variable `schluessel` eine Liste der kombinierten Schlüssel, der aus dem Land, gegebenenfalls dem Bundesland und der Spalte *Admin2* besteht (in der Spalte *Combined_Key* zu finden). Benutze dafür eine `forEach`-Schleife und nicht die Spalte *Combined_Key*."
   ]
  },
  {
   "cell_type": "code",
   "execution_count": 62,
   "id": "9afd220a-9cb5-4743-8e38-bb60d9315685",
   "metadata": {
    "execution": {
     "iopub.execute_input": "2021-04-18T14:37+0200",
     "iopub.status.busy": "2021-04-18T14:37+0200",
     "iopub.status.idle": "2021-04-18T14:37+0200",
     "shell.execute_reply": "2021-04-18T14:37+0200"
    }
   },
   "outputs": [
    {
     "name": "stderr",
     "output_type": "stream",
     "text": [
      "java.lang.IndexOutOfBoundsException: Index 0 out of bounds for length 0\n",
      "java.base/jdk.internal.util.Preconditions.outOfBounds(Preconditions.java:64)\n",
      "java.base/jdk.internal.util.Preconditions.outOfBoundsCheckIndex(Preconditions.java:70)\n",
      "java.base/jdk.internal.util.Preconditions.checkIndex(Preconditions.java:248)\n",
      "java.base/java.util.Objects.checkIndex(Objects.java:359)\n",
      "java.base/java.util.ArrayList.get(ArrayList.java:427)\n",
      "Line_84_jupyter.<init>(Line_84.jupyter.kts:11)\n",
      "java.base/jdk.internal.reflect.NativeConstructorAccessorImpl.newInstance0(Native Method)\n",
      "java.base/jdk.internal.reflect.NativeConstructorAccessorImpl.newInstance(NativeConstructorAccessorImpl.java:64)\n",
      "java.base/jdk.internal.reflect.DelegatingConstructorAccessorImpl.newInstance(DelegatingConstructorAccessorImpl.java:45)\n",
      "java.base/java.lang.reflect.Constructor.newInstanceWithCaller(Constructor.java:500)\n",
      "java.base/java.lang.reflect.Constructor.newInstance(Constructor.java:481)\n",
      "kotlin.script.experimental.jvm.BasicJvmScriptEvaluator.evalWithConfigAndOtherScriptsResults(BasicJvmScriptEvaluator.kt:96)\n",
      "kotlin.script.experimental.jvm.BasicJvmScriptEvaluator.invoke$suspendImpl(BasicJvmScriptEvaluator.kt:41)\n",
      "kotlin.script.experimental.jvm.BasicJvmScriptEvaluator.invoke(BasicJvmScriptEvaluator.kt)\n",
      "kotlin.script.experimental.jvm.BasicJvmReplEvaluator.eval(BasicJvmReplEvaluator.kt:51)\n",
      "org.jetbrains.kotlin.jupyter.ReplForJupyterImpl$doEval$resultWithDiagnostics$1.invokeSuspend(repl.kt:604)\n",
      "kotlin.coroutines.jvm.internal.BaseContinuationImpl.resumeWith(ContinuationImpl.kt:33)\n",
      "kotlinx.coroutines.DispatchedTask.run(DispatchedTask.kt:56)\n",
      "kotlinx.coroutines.EventLoopImplBase.processNextEvent(EventLoop.common.kt:274)\n",
      "kotlinx.coroutines.BlockingCoroutine.joinBlocking(Builders.kt:84)\n",
      "kotlinx.coroutines.BuildersKt__BuildersKt.runBlocking(Builders.kt:59)\n",
      "kotlinx.coroutines.BuildersKt.runBlocking(Unknown Source)\n",
      "kotlinx.coroutines.BuildersKt__BuildersKt.runBlocking$default(Builders.kt:38)\n",
      "kotlinx.coroutines.BuildersKt.runBlocking$default(Unknown Source)\n",
      "org.jetbrains.kotlin.jupyter.ReplForJupyterImpl.doEval(repl.kt:604)\n",
      "org.jetbrains.kotlin.jupyter.ReplForJupyterImpl.eval(repl.kt:434)\n",
      "org.jetbrains.kotlin.jupyter.ProtocolKt$shellMessagesHandler$res$1.invoke(protocol.kt:248)\n",
      "org.jetbrains.kotlin.jupyter.ProtocolKt$shellMessagesHandler$res$1.invoke(protocol.kt)\n",
      "org.jetbrains.kotlin.jupyter.ProtocolKt.evalWithIO(protocol.kt:400)\n",
      "org.jetbrains.kotlin.jupyter.ProtocolKt.shellMessagesHandler(protocol.kt:247)\n",
      "org.jetbrains.kotlin.jupyter.IkotlinKt.kernelServer(ikotlin.kt:127)\n",
      "org.jetbrains.kotlin.jupyter.IkotlinKt.kernelServer$default(ikotlin.kt:95)\n",
      "org.jetbrains.kotlin.jupyter.IkotlinKt.main(ikotlin.kt:72)\n"
     ]
    }
   ],
   "source": [
    "val schluessel = MutableList<String>(0) { \"\" }\n",
    "\n",
    "//TODO\n",
    "\n",
    "//Tests\n",
    "val combined_keys = daten.cols[11].values().toList()\n",
    "var fehler = 0\n",
    "var tests = 0\n",
    "for(i in 0 until combined_keys.size){\n",
    "    if (schluessel[i] != combined_keys[i] && combined_keys[i] != \"Northwest Territories,Canada\" && combined_keys[i] != \"District of Columbia, District of Columbia ,US\"){\n",
    "        println(\"Falsch! schluessel[$i]: ${schluessel[i]}; combined_keys[$i]: ${combined_keys[i]}\")\n",
    "        fehler++\n",
    "    }\n",
    "    tests++\n",
    "}\n",
    "if(fehler == 0)\n",
    "    println(\"Super! Alle $tests Tests bestanden!\")\n",
    "else\n",
    "    println(\"Bei $fehler vom $tests Tests kamen Fehler auf.\")"
   ]
  }
 ],
 "metadata": {
  "kernelspec": {
   "display_name": "Kotlin",
   "language": "kotlin",
   "name": "kotlin"
  },
  "language_info": {
   "codemirror_mode": "text/x-kotlin",
   "file_extension": ".kt",
   "mimetype": "text/x-kotlin",
   "name": "kotlin",
   "nbconvert_exporter": "",
   "pygments_lexer": "kotlin",
   "version": "1.5.20-dev-5817"
  }
 },
 "nbformat": 4,
 "nbformat_minor": 5
}
