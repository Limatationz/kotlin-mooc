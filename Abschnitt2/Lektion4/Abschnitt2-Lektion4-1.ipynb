{
 "cells": [
  {
   "cell_type": "markdown",
   "id": "d62860bb",
   "metadata": {},
   "source": [
    "<img src=\"../images/Lektion4.png\" style=\"margin: 20px auto 20px 0px\"/>\n",
    "<h2 style=\"display:none\">Lektion 4 - Lambda-Ausdrücke in Verbindung mit ausgewählten Methoden und Datenstrukturen</h2>\n",
    "\n",
    "Im Folgenden werden verschiedene Methoden zur Bearbeitung von Datenstrukturen und Lambda-Ausdrücke, mit Hilfe der Kotlin Bibliothek *krangl*, behandelt. Mit dieser können Daten tabellarisch dargestellt und einfach verarbeitet werden.   \n",
    "Untersucht werden Daten von Erde-14. Aufgrund eines Risses in der Zeit wurde das Universum zu einem Multiversum. Forscher haben bereits 53 Parallelerden ausfindig machen können. Speziell Erde-14 ist sehr ähnlich zu unserer Welt, Erde-1. Die Länderstruktur ist identisch und die Population ähnlich rasant gestiegen. Jedoch hat sich der kalte Krieg zwischen Amerika und Urzikstan, der zweiten Weltmacht, weiter zugespitzt. Das östliche Gegenstück zur NALO besteht immer noch und Jahr für Jahr steuert man weiter auf einen offenen Konflikt zu. In diesem Sinne beauftragte 2051 die urzikstanische Regierung ein Virus zu entwickeln, dass die NALO schwer treffen sollte. Nach einigen Jahren Entwicklung passierte jedoch ein gravierender Fehler. Das Virus, später wurde es *Urz-Con-4* genannt, wurde aus einem Labor in der Provinz Subey unabsichtlich freigesetzt und hält nun, 2 Jahre später, ganz Erde-14 in Atem. Um auf Erde-1 besser auf eine Pandemie dieser Art vorbereitet zu sein, sollen die Daten von Erde-14 von Dir genauer untersucht werden.  \n",
    "Aber zuerst müssen die verwendete Bibliothek und die bereitgestellten Daten verstanden werden:"
   ]
  },
  {
   "cell_type": "code",
   "execution_count": 97,
   "id": "ecb62b2a",
   "metadata": {
    "tags": []
   },
   "outputs": [],
   "source": [
    "%use krangl\n",
    "val daten = DataFrame.readCSV(\"../daten/virusErde14.csv\") //Liest die csv-Datei und wandelt sie in einen DataFrame um"
   ]
  },
  {
   "cell_type": "markdown",
   "id": "5d99f899",
   "metadata": {},
   "source": [
    "In der Variable `daten` sind im Folgenden die Rohdaten als `DataFrame` ([Dokumentation](https://holgerbrandl.github.io/krangl/javadoc/krangl/krangl/-data-frame/index.html)) gespeichert. Ein `DataFrame` besitzt folgende Attribute:\n",
    "<ul>\n",
    "    <li><code>cols: List&lt;DataCol></code>: Liste der Spalten</li>\n",
    "    <li><code>ncols: Int</code>: Anzahl der Spalten</li>\n",
    "    <li><code>rows: Iterable&lt;DataFrameRow></code>: Liste der Zeilen</li>\n",
    "    <li><code>nrows: Int</code>: Anzahl der Zeilen</li>\n",
    "    <li><code>names: List&lt;String></code>: Liste der Namen der Spalten</li>\n",
    "</ul>"
   ]
  },
  {
   "cell_type": "code",
   "execution_count": 98,
   "id": "b558fa36",
   "metadata": {
    "tags": []
   },
   "outputs": [
    {
     "name": "stdout",
     "output_type": "stream",
     "text": [
      "Anzahl der Spalten: 14\n",
      "Anzahl der Zeilen: 3983\n",
      "Liste der Namen der Spalten: [FIPS, Admin2, Province_State, Country_Region, Last_Update, Lat, Long_, Confirmed, Deaths, Recovered, Active, Combined_Key, Incident_Rate, Case_Fatality_Ratio]\n"
     ]
    }
   ],
   "source": [
    "println(\"Anzahl der Spalten: ${daten.ncol}\")\n",
    "println(\"Anzahl der Zeilen: ${daten.nrow}\")\n",
    "println(\"Liste der Namen der Spalten: ${daten.names}\")"
   ]
  },
  {
   "cell_type": "markdown",
   "id": "6531b8b2",
   "metadata": {},
   "source": [
    "Die Daten können mit Hilfe von `head(n)` ausgegeben werden. `n` steht für die Anzahl der Zeilen, die ausgegeben werden. Es ist maximal eine Darstellung von 20 zeilen möglich."
   ]
  },
  {
   "cell_type": "code",
   "execution_count": 99,
   "id": "a69697dd",
   "metadata": {
    "tags": []
   },
   "outputs": [
    {
     "data": {
      "text/html": [
       "<html><body><table><tr><th style=\"text-align:left\">FIPS</th><th style=\"text-align:left\">Admin2</th><th style=\"text-align:left\">Province_State</th><th style=\"text-align:left\">Country_Region</th><th style=\"text-align:left\">Last_Update</th><th style=\"text-align:left\">Lat</th><th style=\"text-align:left\">Long_</th><th style=\"text-align:left\">Confirmed</th><th style=\"text-align:left\">Deaths</th><th style=\"text-align:left\">Recovered</th><th style=\"text-align:left\">Active</th><th style=\"text-align:left\">Combined_Key</th><th style=\"text-align:left\">Incident_Rate</th><th style=\"text-align:left\">Case_Fatality_Ratio</th></tr><tr><td style=\"text-align:left\" title=\"\"></td><td style=\"text-align:left\" title=\"\"></td><td style=\"text-align:left\" title=\"\"></td><td style=\"text-align:left\" title=\"Afghanistan\">Afghanistan</td><td style=\"text-align:left\" title=\"2021-04-08 04:21:13\">2021-04-08 04:21:13</td><td style=\"text-align:left\" title=\"33.93911\">33.93911</td><td style=\"text-align:left\" title=\"67.709953\">67.709953</td><td style=\"text-align:left\" title=\"56873\">56873</td><td style=\"text-align:left\" title=\"2512\">2512</td><td style=\"text-align:left\" title=\"51940\">51940</td><td style=\"text-align:left\" title=\"2421\">2421</td><td style=\"text-align:left\" title=\"Afghanistan\">Afghanistan</td><td style=\"text-align:left\" title=\"146.0966446014229\">146.0966446014229</td><td style=\"text-align:left\" title=\"4.416858614808433\">4.416858614808433</td></tr><tr><td style=\"text-align:left\" title=\"\"></td><td style=\"text-align:left\" title=\"\"></td><td style=\"text-align:left\" title=\"\"></td><td style=\"text-align:left\" title=\"Albania\">Albania</td><td style=\"text-align:left\" title=\"2021-04-08 04:21:13\">2021-04-08 04:21:13</td><td style=\"text-align:left\" title=\"41.1533\">41.1533</td><td style=\"text-align:left\" title=\"20.1683\">20.1683</td><td style=\"text-align:left\" title=\"127192\">127192</td><td style=\"text-align:left\" title=\"2291\">2291</td><td style=\"text-align:left\" title=\"95600\">95600</td><td style=\"text-align:left\" title=\"29301\">29301</td><td style=\"text-align:left\" title=\"Albania\">Albania</td><td style=\"text-align:left\" title=\"4419.765098339009\">4419.765098339009</td><td style=\"text-align:left\" title=\"1.801213912824706\">1.801213912824706</td></tr><tr><td style=\"text-align:left\" title=\"\"></td><td style=\"text-align:left\" title=\"\"></td><td style=\"text-align:left\" title=\"\"></td><td style=\"text-align:left\" title=\"Algeria\">Algeria</td><td style=\"text-align:left\" title=\"2021-04-08 04:21:13\">2021-04-08 04:21:13</td><td style=\"text-align:left\" title=\"28.0339\">28.0339</td><td style=\"text-align:left\" title=\"1.6596\">1.6596</td><td style=\"text-align:left\" title=\"118004\">118004</td><td style=\"text-align:left\" title=\"3116\">3116</td><td style=\"text-align:left\" title=\"82192\">82192</td><td style=\"text-align:left\" title=\"32696\">32696</td><td style=\"text-align:left\" title=\"Algeria\">Algeria</td><td style=\"text-align:left\" title=\"269.1019230717044\">269.1019230717044</td><td style=\"text-align:left\" title=\"2.6405884546286567\">2.6405884546286567</td></tr><tr><td style=\"text-align:left\" title=\"\"></td><td style=\"text-align:left\" title=\"\"></td><td style=\"text-align:left\" title=\"\"></td><td style=\"text-align:left\" title=\"Andorra\">Andorra</td><td style=\"text-align:left\" title=\"2021-04-08 04:21:13\">2021-04-08 04:21:13</td><td style=\"text-align:left\" title=\"42.5063\">42.5063</td><td style=\"text-align:left\" title=\"1.5218\">1.5218</td><td style=\"text-align:left\" title=\"12363\">12363</td><td style=\"text-align:left\" title=\"119\">119</td><td style=\"text-align:left\" title=\"11616\">11616</td><td style=\"text-align:left\" title=\"628\">628</td><td style=\"text-align:left\" title=\"Andorra\">Andorra</td><td style=\"text-align:left\" title=\"16000.776548243059\">16000.776548243059</td><td style=\"text-align:left\" title=\"0.9625495429911833\">0.9625495429911833</td></tr><tr><td style=\"text-align:left\" title=\"\"></td><td style=\"text-align:left\" title=\"\"></td><td style=\"text-align:left\" title=\"\"></td><td style=\"text-align:left\" title=\"Angola\">Angola</td><td style=\"text-align:left\" title=\"2021-04-08 04:21:13\">2021-04-08 04:21:13</td><td style=\"text-align:left\" title=\"-11.2027\">-11.2027</td><td style=\"text-align:left\" title=\"17.8739\">17.8739</td><td style=\"text-align:left\" title=\"23010\">23010</td><td style=\"text-align:left\" title=\"547\">547</td><td style=\"text-align:left\" title=\"21545\">21545</td><td style=\"text-align:left\" title=\"918\">918</td><td style=\"text-align:left\" title=\"Angola\">Angola</td><td style=\"text-align:left\" title=\"70.01099120837206\">70.01099120837206</td><td style=\"text-align:left\" title=\"2.3772272924815296\">2.3772272924815296</td></tr><tr><td style=\"text-align:left\" title=\"\"></td><td style=\"text-align:left\" title=\"\"></td><td style=\"text-align:left\" title=\"\"></td><td style=\"text-align:left\" title=\"Antigua and Barbuda\">Antigua and Barbuda</td><td style=\"text-align:left\" title=\"2021-04-08 04:21:13\">2021-04-08 04:21:13</td><td style=\"text-align:left\" title=\"17.0608\">17.0608</td><td style=\"text-align:left\" title=\"-61.7964\">-61.7964</td><td style=\"text-align:left\" title=\"1177\">1177</td><td style=\"text-align:left\" title=\"29\">29</td><td style=\"text-align:left\" title=\"911\">911</td><td style=\"text-align:left\" title=\"237\">237</td><td style=\"text-align:left\" title=\"Antigua and Barbuda\">Antigua and Barbuda</td><td style=\"text-align:left\" title=\"1201.9034392614985\">1201.9034392614985</td><td style=\"text-align:left\" title=\"2.463891248937978\">2.463891248937978</td></tr><tr><td style=\"text-align:left\" title=\"\"></td><td style=\"text-align:left\" title=\"\"></td><td style=\"text-align:left\" title=\"\"></td><td style=\"text-align:left\" title=\"Argentina\">Argentina</td><td style=\"text-align:left\" title=\"2021-04-08 04:21:13\">2021-04-08 04:21:13</td><td style=\"text-align:left\" title=\"-38.4161\">-38.4161</td><td style=\"text-align:left\" title=\"-63.6167\">-63.6167</td><td style=\"text-align:left\" title=\"2450068\">2450068</td><td style=\"text-align:left\" title=\"56832\">56832</td><td style=\"text-align:left\" title=\"2174625\">2174625</td><td style=\"text-align:left\" title=\"218611\">218611</td><td style=\"text-align:left\" title=\"Argentina\">Argentina</td><td style=\"text-align:left\" title=\"5421.010905510044\">5421.010905510044</td><td style=\"text-align:left\" title=\"2.319609088400812\">2.319609088400812</td></tr><tr><td style=\"text-align:left\" title=\"\"></td><td style=\"text-align:left\" title=\"\"></td><td style=\"text-align:left\" title=\"\"></td><td style=\"text-align:left\" title=\"Armenia\">Armenia</td><td style=\"text-align:left\" title=\"2021-04-08 04:21:13\">2021-04-08 04:21:13</td><td style=\"text-align:left\" title=\"40.0691\">40.0691</td><td style=\"text-align:left\" title=\"45.0382\">45.0382</td><td style=\"text-align:left\" title=\"198898\">198898</td><td style=\"text-align:left\" title=\"3647\">3647</td><td style=\"text-align:left\" title=\"178227\">178227</td><td style=\"text-align:left\" title=\"17024\">17024</td><td style=\"text-align:left\" title=\"Armenia\">Armenia</td><td style=\"text-align:left\" title=\"6712.193502099394\">6712.193502099394</td><td style=\"text-align:left\" title=\"1.8336031533750967\">1.8336031533750967</td></tr><tr><td style=\"text-align:left\" title=\"\"></td><td style=\"text-align:left\" title=\"\"></td><td style=\"text-align:left\" title=\"Australian Capital Territory\">Australian Capital Territory</td><td style=\"text-align:left\" title=\"Australia\">Australia</td><td style=\"text-align:left\" title=\"2021-04-08 04:21:13\">2021-04-08 04:21:13</td><td style=\"text-align:left\" title=\"-35.4735\">-35.4735</td><td style=\"text-align:left\" title=\"149.0124\">149.0124</td><td style=\"text-align:left\" title=\"123\">123</td><td style=\"text-align:left\" title=\"3\">3</td><td style=\"text-align:left\" title=\"120\">120</td><td style=\"text-align:left\" title=\"0\">0</td><td style=\"text-align:left\" title=\"Australian Capital Territory, Australia\">Australian Capital Territory, Australia</td><td style=\"text-align:left\" title=\"28.73160476524177\">28.73160476524177</td><td style=\"text-align:left\" title=\"2.4390243902439024\">2.4390243902439024</td></tr><tr><td style=\"text-align:left\" title=\"\"></td><td style=\"text-align:left\" title=\"\"></td><td style=\"text-align:left\" title=\"New South Wales\">New South Wales</td><td style=\"text-align:left\" title=\"Australia\">Australia</td><td style=\"text-align:left\" title=\"2021-04-08 04:21:13\">2021-04-08 04:21:13</td><td style=\"text-align:left\" title=\"-33.8688\">-33.8688</td><td style=\"text-align:left\" title=\"151.2093\">151.2093</td><td style=\"text-align:left\" title=\"5318\">5318</td><td style=\"text-align:left\" title=\"54\">54</td><td style=\"text-align:left\" title=\"0\">0</td><td style=\"text-align:left\" title=\"5264\">5264</td><td style=\"text-align:left\" title=\"New South Wales, Australia\">New South Wales, Australia</td><td style=\"text-align:left\" title=\"65.50874599655087\">65.50874599655087</td><td style=\"text-align:left\" title=\"1.0154193305754042\">1.0154193305754042</td></tr></table></body></html>"
      ]
     },
     "execution_count": 99,
     "metadata": {},
     "output_type": "execute_result"
    }
   ],
   "source": [
    "daten.head(10)"
   ]
  },
  {
   "cell_type": "markdown",
   "id": "e21991e5",
   "metadata": {},
   "source": [
    "Die Datentypen der Spalten können mit `schema()` angezeigt werden."
   ]
  },
  {
   "cell_type": "code",
   "execution_count": 100,
   "id": "d06ddf6d",
   "metadata": {
    "tags": []
   },
   "outputs": [
    {
     "name": "stdout",
     "output_type": "stream",
     "text": [
      "DataFrame with 3983 observations\n",
      "FIPS                 [Str]  , , , , , , , , , , , , , , , , , , , , , , , , , , , , , , , , , , , , , , , , , , , , , , , , , , ...\n",
      "Admin2               [Str]  , , , , , , , , , , , , , , , , , , , , , , , , , , , , , , , , , , , , , , , , , , , , , , , , , , ...\n",
      "Province_State       [Str]  , , , , , , , , Australian Capital Territory, New South Wales, Northern Territory, Queensland, South...\n",
      "Country_Region       [Str]  Afghanistan, Albania, Algeria, Andorra, Angola, Antigua and Barbuda, Argentina, Armenia, Australia, ...\n",
      "Last_Update          [Str]  2021-04-08 04:21:13, 2021-04-08 04:21:13, 2021-04-08 04:21:13, 2021-04-08 04:21:13, 2021-04-08 04:21...\n",
      "Lat                  [Str]  33.93911, 41.1533, 28.0339, 42.5063, -11.2027, 17.0608, -38.4161, 40.0691, -35.4735, -33.8688, -12.4...\n",
      "Long_                [Str]  67.709953, 20.1683, 1.6596, 1.5218, 17.8739, -61.7964, -63.6167, 45.0382, 149.0124, 151.2093, 130.84...\n",
      "Confirmed            [Int]  56873, 127192, 118004, 12363, 23010, 1177, 2450068, 198898, 123, 5318, 112, 1500, 663, 234, 20484, 9...\n",
      "Deaths               [Int]  2512, 2291, 3116, 119, 547, 29, 56832, 3647, 3, 54, 0, 6, 4, 13, 820, 9, 9546, 3780, 189, 547, 9447,...\n",
      "Recovered            [Str]  51940, 95600, 82192, 11616, 21545, 911, 2174625, 178227, 120, 0, 106, 1366, 651, 221, 19664, 928, 52...\n",
      "Active               [Str]  2421, 29301, 32696, 628, 918, 237, 218611, 17024, 0, 5264, 6, 128, 8, 0, 0, 14, 33688, 28144, 296, 1...\n",
      "Combined_Key         [Str]  Afghanistan, Albania, Algeria, Andorra, Angola, Antigua and Barbuda, Argentina, Armenia, Australian ...\n",
      "Incident_Rate        [Str]  146.0966446014229, 4419.765098339009, 269.1019230717044, 16000.776548243059, 70.01099120837206, 1201...\n",
      "Case_Fatality_Ratio  [Str]  4.416858614808433, 1.801213912824706, 2.6405884546286567, 0.9625495429911833, 2.3772272924815296, 2....\n"
     ]
    }
   ],
   "source": [
    "daten.schema()"
   ]
  },
  {
   "cell_type": "markdown",
   "id": "613225a7",
   "metadata": {},
   "source": [
    "Sollen nur bestimmte Spalten ausgegeben werden, findet `select()` Anwendung. Als Parameter werden die Namen der Spalten übergeben."
   ]
  },
  {
   "cell_type": "code",
   "execution_count": 101,
   "id": "a4432ece",
   "metadata": {
    "tags": []
   },
   "outputs": [
    {
     "data": {
      "text/html": [
       "<html><body><table><tr><th style=\"text-align:left\">Country_Region</th><th style=\"text-align:left\">Deaths</th></tr><tr><td style=\"text-align:left\" title=\"Afghanistan\">Afghanistan</td><td style=\"text-align:left\" title=\"2512\">2512</td></tr><tr><td style=\"text-align:left\" title=\"Albania\">Albania</td><td style=\"text-align:left\" title=\"2291\">2291</td></tr><tr><td style=\"text-align:left\" title=\"Algeria\">Algeria</td><td style=\"text-align:left\" title=\"3116\">3116</td></tr><tr><td style=\"text-align:left\" title=\"Andorra\">Andorra</td><td style=\"text-align:left\" title=\"119\">119</td></tr><tr><td style=\"text-align:left\" title=\"Angola\">Angola</td><td style=\"text-align:left\" title=\"547\">547</td></tr><tr><td style=\"text-align:left\" title=\"Antigua and Barbuda\">Antigua and Barbuda</td><td style=\"text-align:left\" title=\"29\">29</td></tr><tr><td style=\"text-align:left\" title=\"Argentina\">Argentina</td><td style=\"text-align:left\" title=\"56832\">56832</td></tr><tr><td style=\"text-align:left\" title=\"Armenia\">Armenia</td><td style=\"text-align:left\" title=\"3647\">3647</td></tr><tr><td style=\"text-align:left\" title=\"Australia\">Australia</td><td style=\"text-align:left\" title=\"3\">3</td></tr><tr><td style=\"text-align:left\" title=\"Australia\">Australia</td><td style=\"text-align:left\" title=\"54\">54</td></tr><tr><td style=\"text-align:left\" title=\"Australia\">Australia</td><td style=\"text-align:left\" title=\"0\">0</td></tr><tr><td style=\"text-align:left\" title=\"Australia\">Australia</td><td style=\"text-align:left\" title=\"6\">6</td></tr><tr><td style=\"text-align:left\" title=\"Australia\">Australia</td><td style=\"text-align:left\" title=\"4\">4</td></tr><tr><td style=\"text-align:left\" title=\"Australia\">Australia</td><td style=\"text-align:left\" title=\"13\">13</td></tr><tr><td style=\"text-align:left\" title=\"Australia\">Australia</td><td style=\"text-align:left\" title=\"820\">820</td></tr><tr><td style=\"text-align:left\" title=\"Australia\">Australia</td><td style=\"text-align:left\" title=\"9\">9</td></tr><tr><td style=\"text-align:left\" title=\"Austria\">Austria</td><td style=\"text-align:left\" title=\"9546\">9546</td></tr><tr><td style=\"text-align:left\" title=\"Azerbaijan\">Azerbaijan</td><td style=\"text-align:left\" title=\"3780\">3780</td></tr><tr><td style=\"text-align:left\" title=\"Bahamas\">Bahamas</td><td style=\"text-align:left\" title=\"189\">189</td></tr><tr><td style=\"text-align:left\" title=\"Bahrain\">Bahrain</td><td style=\"text-align:left\" title=\"547\">547</td></tr></table><p>... only showing top 20 rows</p></body></html>"
      ]
     },
     "execution_count": 101,
     "metadata": {},
     "output_type": "execute_result"
    }
   ],
   "source": [
    "daten.select(\"Country_Region\", \"Deaths\")"
   ]
  },
  {
   "cell_type": "markdown",
   "id": "475f6436",
   "metadata": {},
   "source": [
    "Nachdem ein kurzer Überblick über die Daten und die Bibliothek gegeben wurde, werden nun ausgewählte Methoden vorgestellt, mit denen die Daten analysiert werden können."
   ]
  },
  {
   "cell_type": "markdown",
   "id": "362bf4e6",
   "metadata": {},
   "source": [
    "#### `filter`\n",
    "<img src=\"../images/filter.png\" style=\"margin-left: 10px; float: right\" />\n",
    "\n",
    "Mit Hilfe von `filter()` können Daten in einer Datenstruktur anhand einer Bedingung aussortiert werden. Es werden nur die Daten zurückgegeben, die der Bedingung entsprechen.<br />\n",
    "Im Folgenden Beispiel sollen alle Zeilen ausgegeben werden, in denen mehr als 30000 Tote verzeichnet sind. Die Bibliothek bietet dazu eine eigene Methode für die Klasse `DataFrame` an. Mit `filterByRow()` werden alle Zeilen durchlaufen und der Lambda-Ausdruck dabei auf die Aktuellen angewendet. Das Ergebnis ist erneut ein `DataFrame`, der alle Zeilen enthält, für die der Lambda-Ausdruck wahr ist. In diesem Fall könnte auch die von Kotlin bereitgestellte Methode `filter()` verwendet werden, die auf die Liste der Zeilen angewendet wird. Der Unterschied ist, dass hier kein Dataframe, sondern eine Liste zurückgegeben wird. Diese kann danach wieder mit `dataFrameOf(liste)` in einen `DataFrame` umgewandelt werden.\n",
    "In dem Lambda-Ausdruck kann mit `it` auf die Zeile (eine Liste) zugegriffen werden. Da der Kompiler von sich aus den Datentyp der ausgewählten Spalte nicht erkennt, muss ihm das mit `as` mitgeteilt werden. Dieses Verfahren ist im Folgenden bei allen ähnlichen Zugriffen nötig."
   ]
  },
  {
   "cell_type": "code",
   "execution_count": 128,
   "id": "0c396318",
   "metadata": {
    "tags": []
   },
   "outputs": [
    {
     "data": {
      "text/html": [
       "<html><body><table><tr><th style=\"text-align:left\">FIPS</th><th style=\"text-align:left\">Admin2</th><th style=\"text-align:left\">Province_State</th><th style=\"text-align:left\">Country_Region</th><th style=\"text-align:left\">Last_Update</th><th style=\"text-align:left\">Lat</th><th style=\"text-align:left\">Long_</th><th style=\"text-align:left\">Confirmed</th><th style=\"text-align:left\">Deaths</th><th style=\"text-align:left\">Recovered</th><th style=\"text-align:left\">Active</th><th style=\"text-align:left\">Combined_Key</th><th style=\"text-align:left\">Incident_Rate</th><th style=\"text-align:left\">Case_Fatality_Ratio</th></tr><tr><td style=\"text-align:left\" title=\"\"></td><td style=\"text-align:left\" title=\"\"></td><td style=\"text-align:left\" title=\"\"></td><td style=\"text-align:left\" title=\"Argentina\">Argentina</td><td style=\"text-align:left\" title=\"2021-04-08 04:21:13\">2021-04-08 04:21:13</td><td style=\"text-align:left\" title=\"-38.4161\">-38.4161</td><td style=\"text-align:left\" title=\"-63.6167\">-63.6167</td><td style=\"text-align:left\" title=\"2450068\">2450068</td><td style=\"text-align:left\" title=\"56832\">56832</td><td style=\"text-align:left\" title=\"2174625\">2174625</td><td style=\"text-align:left\" title=\"218611\">218611</td><td style=\"text-align:left\" title=\"Argentina\">Argentina</td><td style=\"text-align:left\" title=\"5421.010905510044\">5421.010905510044</td><td style=\"text-align:left\" title=\"2.319609088400812\">2.319609088400812</td></tr><tr><td style=\"text-align:left\" title=\"\"></td><td style=\"text-align:left\" title=\"\"></td><td style=\"text-align:left\" title=\"Rio de Janeiro\">Rio de Janeiro</td><td style=\"text-align:left\" title=\"Brazil\">Brazil</td><td style=\"text-align:left\" title=\"2021-04-08 04:21:13\">2021-04-08 04:21:13</td><td style=\"text-align:left\" title=\"-22.9068\">-22.9068</td><td style=\"text-align:left\" title=\"-43.1729\">-43.1729</td><td style=\"text-align:left\" title=\"666025\">666025</td><td style=\"text-align:left\" title=\"38282\">38282</td><td style=\"text-align:left\" title=\"616078\">616078</td><td style=\"text-align:left\" title=\"11665\">11665</td><td style=\"text-align:left\" title=\"Rio de Janeiro, Brazil\">Rio de Janeiro, Brazil</td><td style=\"text-align:left\" title=\"3857.6727418098053\">3857.6727418098053</td><td style=\"text-align:left\" title=\"5.747832288577756\">5.747832288577756</td></tr><tr><td style=\"text-align:left\" title=\"\"></td><td style=\"text-align:left\" title=\"\"></td><td style=\"text-align:left\" title=\"Sao Paulo\">Sao Paulo</td><td style=\"text-align:left\" title=\"Brazil\">Brazil</td><td style=\"text-align:left\" title=\"2021-04-08 04:21:13\">2021-04-08 04:21:13</td><td style=\"text-align:left\" title=\"-23.5505\">-23.5505</td><td style=\"text-align:left\" title=\"-46.6333\">-46.6333</td><td style=\"text-align:left\" title=\"2576362\">2576362</td><td style=\"text-align:left\" title=\"79443\">79443</td><td style=\"text-align:left\" title=\"2218618\">2218618</td><td style=\"text-align:left\" title=\"278301\">278301</td><td style=\"text-align:left\" title=\"Sao Paulo, Brazil\">Sao Paulo, Brazil</td><td style=\"text-align:left\" title=\"5610.660621477591\">5610.660621477591</td><td style=\"text-align:left\" title=\"3.083534068581977\">3.083534068581977</td></tr><tr><td style=\"text-align:left\" title=\"\"></td><td style=\"text-align:left\" title=\"\"></td><td style=\"text-align:left\" title=\"\"></td><td style=\"text-align:left\" title=\"France\">France</td><td style=\"text-align:left\" title=\"2021-04-08 04:21:13\">2021-04-08 04:21:13</td><td style=\"text-align:left\" title=\"46.2276\">46.2276</td><td style=\"text-align:left\" title=\"2.2137\">2.2137</td><td style=\"text-align:left\" title=\"4807123\">4807123</td><td style=\"text-align:left\" title=\"96672\">96672</td><td style=\"text-align:left\" title=\"269989\">269989</td><td style=\"text-align:left\" title=\"4439553\">4439553</td><td style=\"text-align:left\" title=\"France\">France</td><td style=\"text-align:left\" title=\"7363.1720628116345\">7363.1720628116345</td><td style=\"text-align:left\" title=\"2.0110157364394463\">2.0110157364394463</td></tr><tr><td style=\"text-align:left\" title=\"\"></td><td style=\"text-align:left\" title=\"\"></td><td style=\"text-align:left\" title=\"Maharashtra\">Maharashtra</td><td style=\"text-align:left\" title=\"India\">India</td><td style=\"text-align:left\" title=\"2021-04-08 04:21:13\">2021-04-08 04:21:13</td><td style=\"text-align:left\" title=\"19.449759\">19.449759</td><td style=\"text-align:left\" title=\"76.108221\">76.108221</td><td style=\"text-align:left\" title=\"3173261\">3173261</td><td style=\"text-align:left\" title=\"56652\">56652</td><td style=\"text-align:left\" title=\"2613627\">2613627</td><td style=\"text-align:left\" title=\"502982\">502982</td><td style=\"text-align:left\" title=\"Maharashtra, India\">Maharashtra, India</td><td style=\"text-align:left\" title=\"2576.865501843314\">2576.865501843314</td><td style=\"text-align:left\" title=\"1.7852927950143402\">1.7852927950143402</td></tr><tr><td style=\"text-align:left\" title=\"\"></td><td style=\"text-align:left\" title=\"\"></td><td style=\"text-align:left\" title=\"\"></td><td style=\"text-align:left\" title=\"Indonesia\">Indonesia</td><td style=\"text-align:left\" title=\"2021-04-08 04:21:13\">2021-04-08 04:21:13</td><td style=\"text-align:left\" title=\"-0.7893\">-0.7893</td><td style=\"text-align:left\" title=\"113.9213\">113.9213</td><td style=\"text-align:left\" title=\"1547376\">1547376</td><td style=\"text-align:left\" title=\"42064\">42064</td><td style=\"text-align:left\" title=\"1391742\">1391742</td><td style=\"text-align:left\" title=\"113570\">113570</td><td style=\"text-align:left\" title=\"Indonesia\">Indonesia</td><td style=\"text-align:left\" title=\"565.7193314211061\">565.7193314211061</td><td style=\"text-align:left\" title=\"2.7184084540538307\">2.7184084540538307</td></tr><tr><td style=\"text-align:left\" title=\"\"></td><td style=\"text-align:left\" title=\"\"></td><td style=\"text-align:left\" title=\"\"></td><td style=\"text-align:left\" title=\"Iran\">Iran</td><td style=\"text-align:left\" title=\"2021-04-08 04:21:13\">2021-04-08 04:21:13</td><td style=\"text-align:left\" title=\"32.427908\">32.427908</td><td style=\"text-align:left\" title=\"53.68804599999999\">53.68804599999999</td><td style=\"text-align:left\" title=\"1984348\">1984348</td><td style=\"text-align:left\" title=\"63699\">63699</td><td style=\"text-align:left\" title=\"1675891\">1675891</td><td style=\"text-align:left\" title=\"244758\">244758</td><td style=\"text-align:left\" title=\"Iran\">Iran</td><td style=\"text-align:left\" title=\"2362.517245940859\">2362.517245940859</td><td style=\"text-align:left\" title=\"3.210072023657141\">3.210072023657141</td></tr><tr><td style=\"text-align:left\" title=\"\"></td><td style=\"text-align:left\" title=\"\"></td><td style=\"text-align:left\" title=\"Lombardia\">Lombardia</td><td style=\"text-align:left\" title=\"Italy\">Italy</td><td style=\"text-align:left\" title=\"2021-04-08 04:21:13\">2021-04-08 04:21:13</td><td style=\"text-align:left\" title=\"45.46679409\">45.46679409</td><td style=\"text-align:left\" title=\"9.190347404\">9.190347404</td><td style=\"text-align:left\" title=\"755811\">755811</td><td style=\"text-align:left\" title=\"31373\">31373</td><td style=\"text-align:left\" title=\"642145\">642145</td><td style=\"text-align:left\" title=\"82293\">82293</td><td style=\"text-align:left\" title=\"Lombardia, Italy\">Lombardia, Italy</td><td style=\"text-align:left\" title=\"7512.603157632954\">7512.603157632954</td><td style=\"text-align:left\" title=\"4.150905451230533\">4.150905451230533</td></tr><tr><td style=\"text-align:left\" title=\"\"></td><td style=\"text-align:left\" title=\"\"></td><td style=\"text-align:left\" title=\"Ciudad de Mexico\">Ciudad de Mexico</td><td style=\"text-align:left\" title=\"Mexico\">Mexico</td><td style=\"text-align:left\" title=\"2021-04-08 04:21:13\">2021-04-08 04:21:13</td><td style=\"text-align:left\" title=\"19.4326\">19.4326</td><td style=\"text-align:left\" title=\"-99.1332\">-99.1332</td><td style=\"text-align:left\" title=\"615993\">615993</td><td style=\"text-align:left\" title=\"30884\">30884</td><td style=\"text-align:left\" title=\"0\">0</td><td style=\"text-align:left\" title=\"585109\">585109</td><td style=\"text-align:left\" title=\"Ciudad de Mexico, Mexico\">Ciudad de Mexico, Mexico</td><td style=\"text-align:left\" title=\"6830.2167343320425\">6830.2167343320425</td><td style=\"text-align:left\" title=\"5.013693337424289\">5.013693337424289</td></tr><tr><td style=\"text-align:left\" title=\"\"></td><td style=\"text-align:left\" title=\"\"></td><td style=\"text-align:left\" title=\"Mexico\">Mexico</td><td style=\"text-align:left\" title=\"Mexico\">Mexico</td><td style=\"text-align:left\" title=\"2021-04-08 04:21:13\">2021-04-08 04:21:13</td><td style=\"text-align:left\" title=\"19.4969\">19.4969</td><td style=\"text-align:left\" title=\"-99.7233\">-99.7233</td><td style=\"text-align:left\" title=\"235917\">235917</td><td style=\"text-align:left\" title=\"31964\">31964</td><td style=\"text-align:left\" title=\"0\">0</td><td style=\"text-align:left\" title=\"203953\">203953</td><td style=\"text-align:left\" title=\"Mexico, Mexico\">Mexico, Mexico</td><td style=\"text-align:left\" title=\"1353.6828249594466\">1353.6828249594466</td><td style=\"text-align:left\" title=\"13.548832852231929\">13.548832852231929</td></tr><tr><td style=\"text-align:left\" title=\"\"></td><td style=\"text-align:left\" title=\"\"></td><td style=\"text-align:left\" title=\"\"></td><td style=\"text-align:left\" title=\"Poland\">Poland</td><td style=\"text-align:left\" title=\"2021-04-08 04:21:13\">2021-04-08 04:21:13</td><td style=\"text-align:left\" title=\"51.9194\">51.9194</td><td style=\"text-align:left\" title=\"19.1451\">19.1451</td><td style=\"text-align:left\" title=\"2471617\">2471617</td><td style=\"text-align:left\" title=\"55703\">55703</td><td style=\"text-align:left\" title=\"2054697\">2054697</td><td style=\"text-align:left\" title=\"361217\">361217</td><td style=\"text-align:left\" title=\"Poland\">Poland</td><td style=\"text-align:left\" title=\"6530.617475464444\">6530.617475464444</td><td style=\"text-align:left\" title=\"2.2537067838585023\">2.2537067838585023</td></tr><tr><td style=\"text-align:left\" title=\"\"></td><td style=\"text-align:left\" title=\"\"></td><td style=\"text-align:left\" title=\"\"></td><td style=\"text-align:left\" title=\"South Africa\">South Africa</td><td style=\"text-align:left\" title=\"2021-04-08 04:21:13\">2021-04-08 04:21:13</td><td style=\"text-align:left\" title=\"-30.5595\">-30.5595</td><td style=\"text-align:left\" title=\"22.9375\">22.9375</td><td style=\"text-align:left\" title=\"1553609\">1553609</td><td style=\"text-align:left\" title=\"53111\">53111</td><td style=\"text-align:left\" title=\"1479821\">1479821</td><td style=\"text-align:left\" title=\"20677\">20677</td><td style=\"text-align:left\" title=\"South Africa\">South Africa</td><td style=\"text-align:left\" title=\"2619.530122820113\">2619.530122820113</td><td style=\"text-align:left\" title=\"3.4185564064059877\">3.4185564064059877</td></tr><tr><td style=\"text-align:left\" title=\"\"></td><td style=\"text-align:left\" title=\"\"></td><td style=\"text-align:left\" title=\"\"></td><td style=\"text-align:left\" title=\"Turkey\">Turkey</td><td style=\"text-align:left\" title=\"2021-04-08 04:21:13\">2021-04-08 04:21:13</td><td style=\"text-align:left\" title=\"38.9637\">38.9637</td><td style=\"text-align:left\" title=\"35.2433\">35.2433</td><td style=\"text-align:left\" title=\"3633925\">3633925</td><td style=\"text-align:left\" title=\"32943\">32943</td><td style=\"text-align:left\" title=\"3194978\">3194978</td><td style=\"text-align:left\" title=\"406004\">406004</td><td style=\"text-align:left\" title=\"Turkey\">Turkey</td><td style=\"text-align:left\" title=\"4308.709035161605\">4308.709035161605</td><td style=\"text-align:left\" title=\"0.9065404486884017\">0.9065404486884017</td></tr><tr><td style=\"text-align:left\" title=\"\"></td><td style=\"text-align:left\" title=\"\"></td><td style=\"text-align:left\" title=\"England\">England</td><td style=\"text-align:left\" title=\"United Kingdom\">United Kingdom</td><td style=\"text-align:left\" title=\"2021-04-08 04:21:13\">2021-04-08 04:21:13</td><td style=\"text-align:left\" title=\"52.3555\">52.3555</td><td style=\"text-align:left\" title=\"-1.1743\">-1.1743</td><td style=\"text-align:left\" title=\"3818665\">3818665</td><td style=\"text-align:left\" title=\"111666\">111666</td><td style=\"text-align:left\" title=\"0\">0</td><td style=\"text-align:left\" title=\"3706999\">3706999</td><td style=\"text-align:left\" title=\"England, United Kingdom\">England, United Kingdom</td><td style=\"text-align:left\" title=\"6821.822098997449\">6821.822098997449</td><td style=\"text-align:left\" title=\"2.9242156617561372\">2.9242156617561372</td></tr></table></body></html>"
      ]
     },
     "execution_count": 128,
     "metadata": {},
     "output_type": "execute_result"
    }
   ],
   "source": [
    "//Möglichkeit 1\n",
    "val tote1 = data.filterByRow { it[\"Deaths\"] as Int > 30000 }\n",
    "// Möglichkeit 2\n",
    "val tote2 = data.rows.filter { it[\"Deaths\"] as Int > 30000 }\n",
    "\n",
    "//tote1.head(20)\n",
    "dataFrameOf(tote2).head(20)"
   ]
  },
  {
   "cell_type": "markdown",
   "id": "3594ec5b",
   "metadata": {},
   "source": [
    "Abgesehen von der normalen Filterung gibt es auch einige Abwandlungen.  \n",
    "`filterNot()` dreht die `filter()`-Methode um und filtert alles, was nicht der Bedingung entspricht. Um das gleiche Ergebnis wie bei `filter()` zu erlangen, muss die Bedingung des Lambda-Ausdrucks umgedreht werden."
   ]
  },
  {
   "cell_type": "code",
   "execution_count": 129,
   "id": "514615e7",
   "metadata": {},
   "outputs": [
    {
     "data": {
      "text/html": [
       "<html><body><table><tr><th style=\"text-align:left\">FIPS</th><th style=\"text-align:left\">Admin2</th><th style=\"text-align:left\">Province_State</th><th style=\"text-align:left\">Country_Region</th><th style=\"text-align:left\">Last_Update</th><th style=\"text-align:left\">Lat</th><th style=\"text-align:left\">Long_</th><th style=\"text-align:left\">Confirmed</th><th style=\"text-align:left\">Deaths</th><th style=\"text-align:left\">Recovered</th><th style=\"text-align:left\">Active</th><th style=\"text-align:left\">Combined_Key</th><th style=\"text-align:left\">Incident_Rate</th><th style=\"text-align:left\">Case_Fatality_Ratio</th></tr><tr><td style=\"text-align:left\" title=\"\"></td><td style=\"text-align:left\" title=\"\"></td><td style=\"text-align:left\" title=\"\"></td><td style=\"text-align:left\" title=\"Argentina\">Argentina</td><td style=\"text-align:left\" title=\"2021-04-08 04:21:13\">2021-04-08 04:21:13</td><td style=\"text-align:left\" title=\"-38.4161\">-38.4161</td><td style=\"text-align:left\" title=\"-63.6167\">-63.6167</td><td style=\"text-align:left\" title=\"2450068\">2450068</td><td style=\"text-align:left\" title=\"56832\">56832</td><td style=\"text-align:left\" title=\"2174625\">2174625</td><td style=\"text-align:left\" title=\"218611\">218611</td><td style=\"text-align:left\" title=\"Argentina\">Argentina</td><td style=\"text-align:left\" title=\"5421.010905510044\">5421.010905510044</td><td style=\"text-align:left\" title=\"2.319609088400812\">2.319609088400812</td></tr><tr><td style=\"text-align:left\" title=\"\"></td><td style=\"text-align:left\" title=\"\"></td><td style=\"text-align:left\" title=\"Rio de Janeiro\">Rio de Janeiro</td><td style=\"text-align:left\" title=\"Brazil\">Brazil</td><td style=\"text-align:left\" title=\"2021-04-08 04:21:13\">2021-04-08 04:21:13</td><td style=\"text-align:left\" title=\"-22.9068\">-22.9068</td><td style=\"text-align:left\" title=\"-43.1729\">-43.1729</td><td style=\"text-align:left\" title=\"666025\">666025</td><td style=\"text-align:left\" title=\"38282\">38282</td><td style=\"text-align:left\" title=\"616078\">616078</td><td style=\"text-align:left\" title=\"11665\">11665</td><td style=\"text-align:left\" title=\"Rio de Janeiro, Brazil\">Rio de Janeiro, Brazil</td><td style=\"text-align:left\" title=\"3857.6727418098053\">3857.6727418098053</td><td style=\"text-align:left\" title=\"5.747832288577756\">5.747832288577756</td></tr><tr><td style=\"text-align:left\" title=\"\"></td><td style=\"text-align:left\" title=\"\"></td><td style=\"text-align:left\" title=\"Sao Paulo\">Sao Paulo</td><td style=\"text-align:left\" title=\"Brazil\">Brazil</td><td style=\"text-align:left\" title=\"2021-04-08 04:21:13\">2021-04-08 04:21:13</td><td style=\"text-align:left\" title=\"-23.5505\">-23.5505</td><td style=\"text-align:left\" title=\"-46.6333\">-46.6333</td><td style=\"text-align:left\" title=\"2576362\">2576362</td><td style=\"text-align:left\" title=\"79443\">79443</td><td style=\"text-align:left\" title=\"2218618\">2218618</td><td style=\"text-align:left\" title=\"278301\">278301</td><td style=\"text-align:left\" title=\"Sao Paulo, Brazil\">Sao Paulo, Brazil</td><td style=\"text-align:left\" title=\"5610.660621477591\">5610.660621477591</td><td style=\"text-align:left\" title=\"3.083534068581977\">3.083534068581977</td></tr><tr><td style=\"text-align:left\" title=\"\"></td><td style=\"text-align:left\" title=\"\"></td><td style=\"text-align:left\" title=\"\"></td><td style=\"text-align:left\" title=\"France\">France</td><td style=\"text-align:left\" title=\"2021-04-08 04:21:13\">2021-04-08 04:21:13</td><td style=\"text-align:left\" title=\"46.2276\">46.2276</td><td style=\"text-align:left\" title=\"2.2137\">2.2137</td><td style=\"text-align:left\" title=\"4807123\">4807123</td><td style=\"text-align:left\" title=\"96672\">96672</td><td style=\"text-align:left\" title=\"269989\">269989</td><td style=\"text-align:left\" title=\"4439553\">4439553</td><td style=\"text-align:left\" title=\"France\">France</td><td style=\"text-align:left\" title=\"7363.1720628116345\">7363.1720628116345</td><td style=\"text-align:left\" title=\"2.0110157364394463\">2.0110157364394463</td></tr><tr><td style=\"text-align:left\" title=\"\"></td><td style=\"text-align:left\" title=\"\"></td><td style=\"text-align:left\" title=\"Maharashtra\">Maharashtra</td><td style=\"text-align:left\" title=\"India\">India</td><td style=\"text-align:left\" title=\"2021-04-08 04:21:13\">2021-04-08 04:21:13</td><td style=\"text-align:left\" title=\"19.449759\">19.449759</td><td style=\"text-align:left\" title=\"76.108221\">76.108221</td><td style=\"text-align:left\" title=\"3173261\">3173261</td><td style=\"text-align:left\" title=\"56652\">56652</td><td style=\"text-align:left\" title=\"2613627\">2613627</td><td style=\"text-align:left\" title=\"502982\">502982</td><td style=\"text-align:left\" title=\"Maharashtra, India\">Maharashtra, India</td><td style=\"text-align:left\" title=\"2576.865501843314\">2576.865501843314</td><td style=\"text-align:left\" title=\"1.7852927950143402\">1.7852927950143402</td></tr><tr><td style=\"text-align:left\" title=\"\"></td><td style=\"text-align:left\" title=\"\"></td><td style=\"text-align:left\" title=\"\"></td><td style=\"text-align:left\" title=\"Indonesia\">Indonesia</td><td style=\"text-align:left\" title=\"2021-04-08 04:21:13\">2021-04-08 04:21:13</td><td style=\"text-align:left\" title=\"-0.7893\">-0.7893</td><td style=\"text-align:left\" title=\"113.9213\">113.9213</td><td style=\"text-align:left\" title=\"1547376\">1547376</td><td style=\"text-align:left\" title=\"42064\">42064</td><td style=\"text-align:left\" title=\"1391742\">1391742</td><td style=\"text-align:left\" title=\"113570\">113570</td><td style=\"text-align:left\" title=\"Indonesia\">Indonesia</td><td style=\"text-align:left\" title=\"565.7193314211061\">565.7193314211061</td><td style=\"text-align:left\" title=\"2.7184084540538307\">2.7184084540538307</td></tr><tr><td style=\"text-align:left\" title=\"\"></td><td style=\"text-align:left\" title=\"\"></td><td style=\"text-align:left\" title=\"\"></td><td style=\"text-align:left\" title=\"Iran\">Iran</td><td style=\"text-align:left\" title=\"2021-04-08 04:21:13\">2021-04-08 04:21:13</td><td style=\"text-align:left\" title=\"32.427908\">32.427908</td><td style=\"text-align:left\" title=\"53.68804599999999\">53.68804599999999</td><td style=\"text-align:left\" title=\"1984348\">1984348</td><td style=\"text-align:left\" title=\"63699\">63699</td><td style=\"text-align:left\" title=\"1675891\">1675891</td><td style=\"text-align:left\" title=\"244758\">244758</td><td style=\"text-align:left\" title=\"Iran\">Iran</td><td style=\"text-align:left\" title=\"2362.517245940859\">2362.517245940859</td><td style=\"text-align:left\" title=\"3.210072023657141\">3.210072023657141</td></tr><tr><td style=\"text-align:left\" title=\"\"></td><td style=\"text-align:left\" title=\"\"></td><td style=\"text-align:left\" title=\"Lombardia\">Lombardia</td><td style=\"text-align:left\" title=\"Italy\">Italy</td><td style=\"text-align:left\" title=\"2021-04-08 04:21:13\">2021-04-08 04:21:13</td><td style=\"text-align:left\" title=\"45.46679409\">45.46679409</td><td style=\"text-align:left\" title=\"9.190347404\">9.190347404</td><td style=\"text-align:left\" title=\"755811\">755811</td><td style=\"text-align:left\" title=\"31373\">31373</td><td style=\"text-align:left\" title=\"642145\">642145</td><td style=\"text-align:left\" title=\"82293\">82293</td><td style=\"text-align:left\" title=\"Lombardia, Italy\">Lombardia, Italy</td><td style=\"text-align:left\" title=\"7512.603157632954\">7512.603157632954</td><td style=\"text-align:left\" title=\"4.150905451230533\">4.150905451230533</td></tr><tr><td style=\"text-align:left\" title=\"\"></td><td style=\"text-align:left\" title=\"\"></td><td style=\"text-align:left\" title=\"Ciudad de Mexico\">Ciudad de Mexico</td><td style=\"text-align:left\" title=\"Mexico\">Mexico</td><td style=\"text-align:left\" title=\"2021-04-08 04:21:13\">2021-04-08 04:21:13</td><td style=\"text-align:left\" title=\"19.4326\">19.4326</td><td style=\"text-align:left\" title=\"-99.1332\">-99.1332</td><td style=\"text-align:left\" title=\"615993\">615993</td><td style=\"text-align:left\" title=\"30884\">30884</td><td style=\"text-align:left\" title=\"0\">0</td><td style=\"text-align:left\" title=\"585109\">585109</td><td style=\"text-align:left\" title=\"Ciudad de Mexico, Mexico\">Ciudad de Mexico, Mexico</td><td style=\"text-align:left\" title=\"6830.2167343320425\">6830.2167343320425</td><td style=\"text-align:left\" title=\"5.013693337424289\">5.013693337424289</td></tr><tr><td style=\"text-align:left\" title=\"\"></td><td style=\"text-align:left\" title=\"\"></td><td style=\"text-align:left\" title=\"Mexico\">Mexico</td><td style=\"text-align:left\" title=\"Mexico\">Mexico</td><td style=\"text-align:left\" title=\"2021-04-08 04:21:13\">2021-04-08 04:21:13</td><td style=\"text-align:left\" title=\"19.4969\">19.4969</td><td style=\"text-align:left\" title=\"-99.7233\">-99.7233</td><td style=\"text-align:left\" title=\"235917\">235917</td><td style=\"text-align:left\" title=\"31964\">31964</td><td style=\"text-align:left\" title=\"0\">0</td><td style=\"text-align:left\" title=\"203953\">203953</td><td style=\"text-align:left\" title=\"Mexico, Mexico\">Mexico, Mexico</td><td style=\"text-align:left\" title=\"1353.6828249594466\">1353.6828249594466</td><td style=\"text-align:left\" title=\"13.548832852231929\">13.548832852231929</td></tr><tr><td style=\"text-align:left\" title=\"\"></td><td style=\"text-align:left\" title=\"\"></td><td style=\"text-align:left\" title=\"\"></td><td style=\"text-align:left\" title=\"Poland\">Poland</td><td style=\"text-align:left\" title=\"2021-04-08 04:21:13\">2021-04-08 04:21:13</td><td style=\"text-align:left\" title=\"51.9194\">51.9194</td><td style=\"text-align:left\" title=\"19.1451\">19.1451</td><td style=\"text-align:left\" title=\"2471617\">2471617</td><td style=\"text-align:left\" title=\"55703\">55703</td><td style=\"text-align:left\" title=\"2054697\">2054697</td><td style=\"text-align:left\" title=\"361217\">361217</td><td style=\"text-align:left\" title=\"Poland\">Poland</td><td style=\"text-align:left\" title=\"6530.617475464444\">6530.617475464444</td><td style=\"text-align:left\" title=\"2.2537067838585023\">2.2537067838585023</td></tr><tr><td style=\"text-align:left\" title=\"\"></td><td style=\"text-align:left\" title=\"\"></td><td style=\"text-align:left\" title=\"\"></td><td style=\"text-align:left\" title=\"South Africa\">South Africa</td><td style=\"text-align:left\" title=\"2021-04-08 04:21:13\">2021-04-08 04:21:13</td><td style=\"text-align:left\" title=\"-30.5595\">-30.5595</td><td style=\"text-align:left\" title=\"22.9375\">22.9375</td><td style=\"text-align:left\" title=\"1553609\">1553609</td><td style=\"text-align:left\" title=\"53111\">53111</td><td style=\"text-align:left\" title=\"1479821\">1479821</td><td style=\"text-align:left\" title=\"20677\">20677</td><td style=\"text-align:left\" title=\"South Africa\">South Africa</td><td style=\"text-align:left\" title=\"2619.530122820113\">2619.530122820113</td><td style=\"text-align:left\" title=\"3.4185564064059877\">3.4185564064059877</td></tr><tr><td style=\"text-align:left\" title=\"\"></td><td style=\"text-align:left\" title=\"\"></td><td style=\"text-align:left\" title=\"\"></td><td style=\"text-align:left\" title=\"Turkey\">Turkey</td><td style=\"text-align:left\" title=\"2021-04-08 04:21:13\">2021-04-08 04:21:13</td><td style=\"text-align:left\" title=\"38.9637\">38.9637</td><td style=\"text-align:left\" title=\"35.2433\">35.2433</td><td style=\"text-align:left\" title=\"3633925\">3633925</td><td style=\"text-align:left\" title=\"32943\">32943</td><td style=\"text-align:left\" title=\"3194978\">3194978</td><td style=\"text-align:left\" title=\"406004\">406004</td><td style=\"text-align:left\" title=\"Turkey\">Turkey</td><td style=\"text-align:left\" title=\"4308.709035161605\">4308.709035161605</td><td style=\"text-align:left\" title=\"0.9065404486884017\">0.9065404486884017</td></tr><tr><td style=\"text-align:left\" title=\"\"></td><td style=\"text-align:left\" title=\"\"></td><td style=\"text-align:left\" title=\"England\">England</td><td style=\"text-align:left\" title=\"United Kingdom\">United Kingdom</td><td style=\"text-align:left\" title=\"2021-04-08 04:21:13\">2021-04-08 04:21:13</td><td style=\"text-align:left\" title=\"52.3555\">52.3555</td><td style=\"text-align:left\" title=\"-1.1743\">-1.1743</td><td style=\"text-align:left\" title=\"3818665\">3818665</td><td style=\"text-align:left\" title=\"111666\">111666</td><td style=\"text-align:left\" title=\"0\">0</td><td style=\"text-align:left\" title=\"3706999\">3706999</td><td style=\"text-align:left\" title=\"England, United Kingdom\">England, United Kingdom</td><td style=\"text-align:left\" title=\"6821.822098997449\">6821.822098997449</td><td style=\"text-align:left\" title=\"2.9242156617561372\">2.9242156617561372</td></tr></table></body></html>"
      ]
     },
     "execution_count": 129,
     "metadata": {},
     "output_type": "execute_result"
    }
   ],
   "source": [
    "val tote = data.rows.filterNot { it[\"Deaths\"] as Int <= 30000 }\n",
    "dataFrameOf(tote).head(20)"
   ]
  },
  {
   "cell_type": "markdown",
   "id": "aef8aa05",
   "metadata": {},
   "source": [
    "Die Abwandlung `filterNotNull()` wurde bereits in Lektion 1 vorgestellt.  \n",
    "Sind in einer Datenstruktur Elemente mehrerer Datentypen vorhanden, kann mit der Methode `filterIsInstance()` nach einem Datentyp gefiltert werden. Dieser wird als eine Art generischer Parameter vor den runden Klammern angegeben.  \n",
    "Im zugehörigen Beispiel sollen alle Spalten herausgefiltert werden, die den Datentyp `Int` speichern. Die gesuchte Klasse der [Spalte](https://holgerbrandl.github.io/krangl/javadoc/krangl/krangl/-data-col/index.html) entspricht dann `IntCol`."
   ]
  },
  {
   "cell_type": "code",
   "execution_count": 142,
   "id": "59741111",
   "metadata": {},
   "outputs": [
    {
     "name": "stdout",
     "output_type": "stream",
     "text": [
      "Confirmed\n",
      "Deaths\n"
     ]
    }
   ],
   "source": [
    "val spalten = daten.cols.filterIsInstance<IntCol>() //Gibt eine Liste an Spalten zurück\n",
    "for(i in 0 until spalten.size){ //Durchläuft die Einträge der Liste\n",
    "    println(spalten[i].name) //Gibt den Namen der Spalte aus\n",
    "}"
   ]
  }
 ],
 "metadata": {
  "kernelspec": {
   "display_name": "Kotlin",
   "language": "kotlin",
   "name": "kotlin"
  },
  "language_info": {
   "codemirror_mode": "text/x-kotlin",
   "file_extension": ".kt",
   "mimetype": "text/x-kotlin",
   "name": "kotlin",
   "nbconvert_exporter": "",
   "pygments_lexer": "kotlin",
   "version": "1.5.20-dev-5817"
  }
 },
 "nbformat": 4,
 "nbformat_minor": 5
}
