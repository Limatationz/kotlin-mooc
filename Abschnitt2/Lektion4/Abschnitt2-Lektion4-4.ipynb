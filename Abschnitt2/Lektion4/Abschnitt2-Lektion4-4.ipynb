{
 "cells": [
  {
   "cell_type": "code",
   "execution_count": 3,
   "id": "e96f467d",
   "metadata": {
    "tags": []
   },
   "outputs": [],
   "source": [
    "%use krangl\n",
    "val daten = DataFrame.readCSV(\"../daten/virusErde14.csv\") //Liest die csv-Datei und wandelt sie in einen DataFrame um"
   ]
  },
  {
   "cell_type": "markdown",
   "id": "19e50956",
   "metadata": {},
   "source": [
    "#### `flatten`, `flatMap`\n",
    "##### `flatten`\n",
    "<img src=\"../images/flatten.png\" style=\"margin-left: 10px; float: right\" />\n",
    "\n",
    "Beinhaltet eine Liste oder ein Array erneut mehrere Listen oder Arrays, können diese mit `flatten` zusammengefasst werden."
   ]
  },
  {
   "cell_type": "code",
   "execution_count": 49,
   "id": "e5a4bb3b",
   "metadata": {
    "execution": {
     "iopub.execute_input": "2021-04-18T14:37+0200",
     "iopub.status.busy": "2021-04-18T14:37+0200",
     "iopub.status.idle": "2021-04-18T14:37+0200",
     "shell.execute_reply": "2021-04-18T14:37+0200",
     "shell.execute_reply.started": "2021-04-18T14:37+0200"
    }
   },
   "outputs": [
    {
     "name": "stdout",
     "output_type": "stream",
     "text": [
      "listen: [[1, 2, 3], [4, 5, 6], [7, 8, 9]]\n",
      "flattenListe: [1, 2, 3, 4, 5, 6, 7, 8, 9]\n"
     ]
    }
   ],
   "source": [
    "val listen = listOf(listOf(1, 2, 3), listOf(4, 5, 6), listOf(7, 8, 9))\n",
    "println(\"listen: $listen\")\n",
    "val flattenListe = listen.flatten()\n",
    "println(\"flattenListe: $flattenListe\")"
   ]
  },
  {
   "cell_type": "markdown",
   "id": "cbc6e33b",
   "metadata": {},
   "source": [
    "##### `flatMap`\n",
    "<img src=\"../images/flatMap.png\" style=\"margin-left: 10px; float: right\" />\n",
    "\n",
    "`flatMap()` ist eine Kombination von `map()` und `flatten()`. Zuerst wird auf alle Elemente `map()` angewendet und danach diese mit `flatten()` zusammengefasst."
   ]
  },
  {
   "cell_type": "code",
   "execution_count": 183,
   "id": "20a36b7e",
   "metadata": {
    "tags": []
   },
   "outputs": [
    {
     "name": "stdout",
     "output_type": "stream",
     "text": [
      "woerter: [Schere, Matratze, Transport] \n",
      "\n",
      "woerterMap: [[S, c, h, e, r, e], [M, a, t, r, a, t, z, e], [T, r, a, n, s, p, o, r, t]]\n",
      "woerterMapFlatten: [S, c, h, e, r, e, M, a, t, r, a, t, z, e, T, r, a, n, s, p, o, r, t] \n",
      "\n",
      "woerterFlatMap: [S, c, h, e, r, e, M, a, t, r, a, t, z, e, T, r, a, n, s, p, o, r, t]\n"
     ]
    }
   ],
   "source": [
    "val woerter = listOf(\"Schere\", \"Matratze\", \"Transport\")\n",
    "println(\"woerter: $woerter \\n\")\n",
    "\n",
    "//map() und flatten()\n",
    "val woerterMap = woerter.map { it.map { it } }\n",
    "println(\"woerterMap: $woerterMap\")\n",
    "val woerterMapFlatten = woerterMap.flatten()\n",
    "println(\"woerterMapFlatten: $woerterMapFlatten \\n\")\n",
    "\n",
    "//flatMap()\n",
    "val woerterFlatMap = woerterMap.flatMap { it }\n",
    "println(\"woerterFlatMap: $woerterFlatMap\")"
   ]
  },
  {
   "cell_type": "markdown",
   "id": "34413d04",
   "metadata": {},
   "source": [
    "#### `reduce`\n",
    "`reduce` ist eine Methode, deren Lambda-Ausdruck zwei Parameter besitzt. Bei der ersten Ausführung betrifft das das erste und das zweite Element. Bei allen folgenden Ausführungen des Funktionsrumpfs des Lambda-Ausdrucks ist der erste Parameter das Ergebnis der vorherigen Ausführung und der Zweite das aktuelle Element."
   ]
  },
  {
   "cell_type": "code",
   "execution_count": 184,
   "id": "bb50a513",
   "metadata": {
    "tags": []
   },
   "outputs": [
    {
     "name": "stdout",
     "output_type": "stream",
     "text": [
      "Das Wort in woerter mit den meisten a ist: Hafen\n",
      "Das Element von Liste, dass den größten gemeinsamen Teiler mit 100 besitzt, ist: 128\n"
     ]
    }
   ],
   "source": [
    "val woerter = listOf(\"aber\", \"also\", \"aachen\", \"berlin\", \"bitte\", \"klavier\", \"hafen\", \"hose\")\n",
    "val wort = liste.reduce {a, b -> if(a.count { it == 'a' } > b.count { it == 'a' }) a else b } //Sucht das Wort mit den meisten 'a'\n",
    "println(\"Das Wort in woerter mit den meisten a ist: $wort\")\n",
    "\n",
    "fun ggt(a: Int, b: Int): Int { //Rekursive Implementierung von ggt\n",
    "    if (b == 0) return a\n",
    "    return ggt(b, (a % b))\n",
    "}\n",
    "\n",
    "val zahlen = listOf(2,52,123,74,1824,453,128,78,26) //Testzahlen\n",
    "val maxGgt100 = zahlen.reduce { a, b -> //sucht das Element, das den größten gemeinsamen Teiler mit 100 besitzt\n",
    "    val ggtA = ggt(a, 100)\n",
    "    val ggtB = ggt(b, 100)\n",
    "    if (ggtA > ggtB) //gibt das Ergebnis der Ausführung zurück, das bei der Nächsten der erste Parameter ist\n",
    "        a\n",
    "    else\n",
    "        b  \n",
    "}\n",
    "println(\"Das Element von Liste, dass den größten gemeinsamen Teiler mit 100 besitzt, ist: $maxGgt100\")"
   ]
  },
  {
   "cell_type": "markdown",
   "id": "fb0151c6",
   "metadata": {},
   "source": [
    "#### `zip`, `unzip` und `zipWithNext`\n",
    "##### `zip`\n",
    "<img src=\"../images/zip.png\" style=\"margin-left: 10px; float: right\" />\n",
    "\n",
    "Mit Hilfe von `zip()` können zwei Datenstrukturen einfach zusammengefasst werden. Dabei entsteht eine neue Liste, deren Elemente Paare der Elemente der beiden zusammenzufassenden Listen sind."
   ]
  },
  {
   "cell_type": "code",
   "execution_count": 52,
   "id": "26e30e75",
   "metadata": {
    "execution": {
     "iopub.execute_input": "2021-04-18T14:37+0200",
     "iopub.status.busy": "2021-04-18T14:37+0200",
     "iopub.status.idle": "2021-04-18T14:37+0200",
     "shell.execute_reply": "2021-04-18T14:37+0200",
     "shell.execute_reply.started": "2021-04-18T14:37+0200"
    }
   },
   "outputs": [
    {
     "name": "stdout",
     "output_type": "stream",
     "text": [
      "liste1: [1, 2, 3, 4, 5, 6, 7, 8, 9]\n",
      "liste2: [-1, -2, -3, -4, -5, -6, -7, -8, -9]\n",
      "liste1.zip(liste2): [(1, -1), (2, -2), (3, -3), (4, -4), (5, -5), (6, -6), (7, -7), (8, -8), (9, -9)]\n"
     ]
    }
   ],
   "source": [
    "val liste1 = listOf(1,2,3,4,5,6,7,8,9)\n",
    "println(\"liste1: $liste1\")\n",
    "val liste2 = listOf(-1,-2,-3,-4,-5,-6,-7,-8,-9)\n",
    "println(\"liste2: $liste2\")\n",
    "\n",
    "val listeZip = liste1.zip(liste2)\n",
    "println(\"liste1.zip(liste2): $listeZip\")"
   ]
  },
  {
   "cell_type": "markdown",
   "id": "140bf234",
   "metadata": {},
   "source": [
    "##### `unzip`\n",
    "<img src=\"../images/unzip.png\" style=\"margin-left: 10px; float: right\" />\n",
    "\n",
    "Das Gegenteil zu `zip()` ist die Methode `unzip()`. Bei Aufruf auf einer Liste von Paaren werden diese getrennt und in zwei Listen aufgeteilt."
   ]
  },
  {
   "cell_type": "code",
   "execution_count": 53,
   "id": "4bae4642",
   "metadata": {
    "execution": {
     "iopub.execute_input": "2021-04-18T14:37+0200",
     "iopub.status.busy": "2021-04-18T14:37+0200",
     "iopub.status.idle": "2021-04-18T14:37+0200",
     "shell.execute_reply": "2021-04-18T14:37+0200",
     "shell.execute_reply.started": "2021-04-18T14:37+0200"
    }
   },
   "outputs": [
    {
     "name": "stdout",
     "output_type": "stream",
     "text": [
      "listeUnzip1: [1, 2, 3, 4, 5, 6, 7, 8, 9]\n",
      "listeUnzip2: [-1, -2, -3, -4, -5, -6, -7, -8, -9]\n"
     ]
    }
   ],
   "source": [
    "val (listeUnzip1, listeUnzip2) = listeZip.unzip()\n",
    "println(\"listeUnzip1: $listeUnzip1\")\n",
    "println(\"listeUnzip2: $listeUnzip2\")"
   ]
  },
  {
   "cell_type": "markdown",
   "id": "8b12af2b",
   "metadata": {},
   "source": [
    "##### `zipWithNext`\n",
    "<img src=\"../images/zipWithNext.png\" style=\"margin-left: 10px; float: right\" />\n",
    "\n",
    "Eine spezielle Form des Zusammenfügens ist `zipWithNext`. Wird diese Methode auf einer Liste aufgerufen, wird ein Lambda-Ausdruck erwartet. Diesem werden zwei Parameter, das aktuelle und das nächste Element übergeben. Im Methodenrumpf kann dann mit beiden definierten Variablen gearbeitet werden. Die Rückgabe ersetzt das aktuelle Element."
   ]
  },
  {
   "cell_type": "code",
   "execution_count": 54,
   "id": "36fa41b4",
   "metadata": {
    "execution": {
     "iopub.execute_input": "2021-04-18T14:37+0200",
     "iopub.status.busy": "2021-04-18T14:37+0200",
     "iopub.status.idle": "2021-04-18T14:37+0200",
     "shell.execute_reply": "2021-04-18T14:37+0200",
     "shell.execute_reply.started": "2021-04-18T14:37+0200"
    }
   },
   "outputs": [
    {
     "name": "stdout",
     "output_type": "stream",
     "text": [
      "listeZipWithNext: [12, 23, 34, 45, 56, 67, 78, 89]\n"
     ]
    }
   ],
   "source": [
    "val listeZipWithNext = liste1.zipWithNext { a, b -> \"$a$b\".toInt() }\n",
    "println(\"listeZipWithNext: $listeZipWithNext\")"
   ]
  },
  {
   "cell_type": "markdown",
   "id": "78543dde",
   "metadata": {},
   "source": [
    "#### `remove`\n",
    "Wie Elemente einer Datenstruktur mit `remove()` entfernt werden können, wurde bereits in Abschnitt 1 behandelt. Jedoch kann diese Funktionalität erweitert werden.  \n",
    "`removeAll()` in Verbindung mit einem Lambda-Ausdruck entfernt alle Elemente, auf die die Bedingung zutrifft. Das gleiche Ergebnis liefert auch `removeIf()`."
   ]
  },
  {
   "cell_type": "code",
   "execution_count": 188,
   "id": "3f493ae7",
   "metadata": {
    "tags": []
   },
   "outputs": [
    {
     "name": "stdout",
     "output_type": "stream",
     "text": [
      "fruechte: [Apfel, Ananas, Banane, Clementine, Datteln]\n",
      "Es wurden Einträge gefunden und mit removeAll() entfernt, die mehr als ein 'a' enthalten: true\n",
      "fruechte nach dem Entfernen: [Apfel, Clementine, Datteln] \n",
      "\n",
      "fruechte2: [Apfel, Ananas, Banane, Clementine, Datteln]\n",
      "Es wurden Einträge gefunden und mit removeIf() entfernt, die mehr als ein 'a' enthalten: true\n",
      "fruechte2 nach dem Entfernen: [Apfel, Clementine, Datteln]\n"
     ]
    }
   ],
   "source": [
    "//removeAll\n",
    "val fruechte = mutableListOf(\"Apfel\", \"Ananas\", \"Banane\",\"Clementine\", \"Datteln\")\n",
    "println(\"fruechte: $fruechte\")\n",
    "val ergebnis = fruechte.removeAll { it.count { it == 'a' } > 1 }\n",
    "println(\"Es wurden Einträge gefunden und mit removeAll() entfernt, die mehr als ein 'a' enthalten: $ergebnis\")\n",
    "println(\"fruechte nach dem Entfernen: $fruechte \\n\")\n",
    "\n",
    "//removeIf\n",
    "val fruechte2 = mutableListOf(\"Apfel\", \"Ananas\", \"Banane\",\"Clementine\", \"Datteln\")\n",
    "println(\"fruechte2: $fruechte2\")\n",
    "val ergebnis2 = fruechte2.removeIf { it.count { it == 'a' } > 1 }\n",
    "println(\"Es wurden Einträge gefunden und mit removeIf() entfernt, die mehr als ein 'a' enthalten: $ergebnis2\")\n",
    "println(\"fruechte2 nach dem Entfernen: $fruechte2\")"
   ]
  }
 ],
 "metadata": {
  "kernelspec": {
   "display_name": "Kotlin",
   "language": "kotlin",
   "name": "kotlin"
  },
  "language_info": {
   "codemirror_mode": "text/x-kotlin",
   "file_extension": ".kt",
   "mimetype": "text/x-kotlin",
   "name": "kotlin",
   "nbconvert_exporter": "",
   "pygments_lexer": "kotlin",
   "version": "1.5.20-dev-5817"
  }
 },
 "nbformat": 4,
 "nbformat_minor": 5
}
