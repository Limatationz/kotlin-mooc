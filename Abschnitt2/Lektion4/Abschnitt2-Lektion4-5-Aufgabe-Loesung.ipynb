{
 "cells": [
  {
   "cell_type": "code",
   "execution_count": 6,
   "id": "1b07868b",
   "metadata": {
    "execution": {
     "iopub.execute_input": "2021-05-27T09:57+0200",
     "iopub.status.busy": "2021-05-27T09:57+0200",
     "iopub.status.idle": "2021-05-27T09:57+0200",
     "shell.execute_reply": "2021-05-27T09:57+0200",
     "shell.execute_reply.started": "2021-05-27T09:57+0200"
    },
    "tags": []
   },
   "outputs": [],
   "source": [
    "%use krangl\n",
    "val daten = DataFrame.readCSV(\"../daten/virusErde14.csv\") //Liest die csv-Datei und wandelt sie in einen DataFrame um"
   ]
  },
  {
   "cell_type": "markdown",
   "id": "c093faec",
   "metadata": {},
   "source": [
    "# Aufgabe - forEach\n",
    "Speichern Sie in der Variable `schluessel` eine Liste der kombinierten Schlüssel, der aus dem Land, gegebenenfalls dem Bundesland und der Spalte *Admin2* besteht (in der Spalte *Combined_Key* zu finden). Benutzen Sie dafür eine `forEach`-Schleife und nicht die Spalte *Combined_Key*."
   ]
  },
  {
   "cell_type": "code",
   "execution_count": 7,
   "id": "f17133c3",
   "metadata": {
    "execution": {
     "iopub.execute_input": "2021-05-27T09:57+0200",
     "iopub.status.busy": "2021-05-27T09:57+0200",
     "iopub.status.idle": "2021-05-27T09:57+0200",
     "shell.execute_reply": "2021-05-27T09:57+0200",
     "shell.execute_reply.started": "2021-05-27T09:57+0200"
    },
    "tags": []
   },
   "outputs": [
    {
     "name": "stdout",
     "output_type": "stream",
     "text": [
      "Super! Alle 3983 Tests bestanden!\n"
     ]
    }
   ],
   "source": [
    "//Lösung\n",
    "val schluessel = MutableList<String>(0) { \"\" }\n",
    "\n",
    "daten.rows.forEach {\n",
    "    val land = it[\"Country_Region\"] as String\n",
    "    val region = it[\"Province_State\"] as String\n",
    "    val county = it[\"Admin2\"] as String\n",
    "    when {\n",
    "        region != \"\" && county != \"\" -> schluessel.add(\"$county, $region, $land\")\n",
    "        region != \"\" -> schluessel.add(\"$region, $land\")\n",
    "        else -> schluessel.add(\"$land\")\n",
    "    }\n",
    "}\n",
    "\n",
    "//Tests\n",
    "val combined_keys = daten.cols[11].values().toList()\n",
    "var fehler = 0\n",
    "var tests = 0\n",
    "for(i in 0 until combined_keys.size){\n",
    "    if (schluessel[i] != combined_keys[i] && combined_keys[i] != \"Northwest Territories,Canada\" && combined_keys[i] != \"District of Columbia, District of Columbia ,US\"){\n",
    "        println(\"Falsch! schluessel[$i]: ${schluessel[i]}; combined_keys[$i]: ${combined_keys[i]}\")\n",
    "        fehler++\n",
    "    }\n",
    "    tests++\n",
    "}\n",
    "if(fehler == 0)\n",
    "    println(\"Super! Alle $tests Tests bestanden!\")\n",
    "else\n",
    "    println(\"Bei $fehler vom $tests Tests kamen Fehler auf.\")"
   ]
  }
 ],
 "metadata": {
  "kernelspec": {
   "display_name": "Kotlin",
   "language": "kotlin",
   "name": "kotlin"
  },
  "language_info": {
   "codemirror_mode": "text/x-kotlin",
   "file_extension": ".kt",
   "mimetype": "text/x-kotlin",
   "name": "kotlin",
   "nbconvert_exporter": "",
   "pygments_lexer": "kotlin",
   "version": "1.5.20-dev-5817"
  }
 },
 "nbformat": 4,
 "nbformat_minor": 5
}
