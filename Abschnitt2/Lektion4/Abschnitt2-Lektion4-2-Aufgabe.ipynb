{
 "cells": [
  {
   "cell_type": "markdown",
   "id": "c21e94ed",
   "metadata": {},
   "source": [
    "# Aufgabe - any, all und none\n",
    "Während der Vorstellung der drei Methoden könnte Ihnen aufgefallen sein, dass sich diese gegenseitig beeinflussen. Genau das soll in dieser Aufgabe genutzt werden. Vervollständigen Sie folgendes Grundgerüst, sodass alle Tests keine Fehler aufweisen.\n",
    "* `checkLaenge()` soll `true` zurückgeben, falls jede Zeichenkette der Liste länger als die übergebene Länge ist.   \n",
    "* `checkBuchstabe()` soll überprüfen, ob jede Zeichenkette der Liste den übergebenen Buchstaben beinhaltet."
   ]
  },
  {
   "cell_type": "code",
   "execution_count": 39,
   "id": "2fec72c4",
   "metadata": {
    "execution": {
     "iopub.execute_input": "2021-04-18T14:37+0200",
     "iopub.status.busy": "2021-04-18T14:37+0200",
     "iopub.status.idle": "2021-04-18T14:37+0200",
     "shell.execute_reply": "2021-04-18T14:37+0200"
    }
   },
   "outputs": [
    {
     "name": "stderr",
     "output_type": "stream",
     "text": [
      "Line_52.jupyter.kts (2:31 - 37) Parameter 'laenge' is never used\n",
      "Line_52.jupyter.kts (2:51 - 63) Type mismatch: inferred type is Unit but Boolean was expected\n",
      "Line_52.jupyter.kts (2:53 - 61) Type mismatch: inferred type is Unit but Boolean was expected\n",
      "Line_52.jupyter.kts (3:31 - 37) Parameter 'laenge' is never used\n",
      "Line_52.jupyter.kts (3:52 - 64) Type mismatch: inferred type is Unit but Boolean was expected\n",
      "Line_52.jupyter.kts (3:54 - 62) Type mismatch: inferred type is Unit but Boolean was expected\n",
      "Line_52.jupyter.kts (4:31 - 37) Parameter 'laenge' is never used\n",
      "Line_52.jupyter.kts (4:51 - 63) Type mismatch: inferred type is Unit but Boolean was expected\n",
      "Line_52.jupyter.kts (4:53 - 61) Type mismatch: inferred type is Unit but Boolean was expected\n",
      "Line_52.jupyter.kts (6:34 - 43) Parameter 'buchstabe' is never used\n",
      "Line_52.jupyter.kts (6:58 - 70) Type mismatch: inferred type is Unit but Boolean was expected\n",
      "Line_52.jupyter.kts (6:60 - 68) Type mismatch: inferred type is Unit but Boolean was expected\n",
      "Line_52.jupyter.kts (7:34 - 43) Parameter 'buchstabe' is never used\n",
      "Line_52.jupyter.kts (7:59 - 71) Type mismatch: inferred type is Unit but Boolean was expected\n",
      "Line_52.jupyter.kts (7:61 - 69) Type mismatch: inferred type is Unit but Boolean was expected\n",
      "Line_52.jupyter.kts (8:34 - 43) Parameter 'buchstabe' is never used\n",
      "Line_52.jupyter.kts (8:58 - 70) Type mismatch: inferred type is Unit but Boolean was expected\n",
      "Line_52.jupyter.kts (8:60 - 68) Type mismatch: inferred type is Unit but Boolean was expected"
     ]
    }
   ],
   "source": [
    "//Grundgerüst\n",
    "fun List<String>.checkLaenge1(laenge: Int) =  all { /*TODO*/ }\n",
    "fun List<String>.checkLaenge2(laenge: Int) =  none { /*TODO*/ }\n",
    "fun List<String>.checkLaenge3(laenge: Int) =  any { /*TODO*/ }\n",
    "\n",
    "fun List<String>.checkBuchstabe1(buchstabe: Char) =  all { /*TODO*/ }\n",
    "fun List<String>.checkBuchstabe2(buchstabe: Char) =  none { /*TODO*/ }\n",
    "fun List<String>.checkBuchstabe3(buchstabe: Char) =  any { /*TODO*/ }\n",
    "\n",
    "var fehler = 0\n",
    "val liste1 = listOf(\"Tertiär\", \"Senat\", \"Sklave\", \"Blatt\", \"Ruhm\", \"Pinguin\")\n",
    "if (liste1.checkLaenge1(4) != true){\n",
    "    println(\"Fehler! liste1.checkLaenge1(4) sollte eigentlich true sein, ist aber ${liste1.checkLaenge1(4)}\")\n",
    "    fehler++\n",
    "}\n",
    "if (liste1.checkLaenge2(4) != true){\n",
    "    println(\"Fehler! liste1.checkLaenge3(4) sollte eigentlich true sein, ist aber ${liste1.checkLaenge2(4)}\")\n",
    "    fehler++\n",
    "}\n",
    "if (liste1.checkLaenge3(4) != true){\n",
    "    println(\"Fehler! liste1.checkLaenge3(4) sollte eigentlich true sein, ist aber ${liste1.checkLaenge3(4)}\")\n",
    "    fehler++\n",
    "}\n",
    "\n",
    "if (liste1.checkLaenge1(7) != false){\n",
    "    println(\"Fehler! liste1.checkLaenge1(7) sollte eigentlich false sein, ist aber ${liste1.checkLaenge1(7)}\")\n",
    "    fehler++\n",
    "}\n",
    "if (liste1.checkLaenge2(7) != false){\n",
    "    println(\"Fehler! liste1.checkLaenge2(7) sollte eigentlich false sein, ist aber ${liste1.checkLaenge2(7)}\")\n",
    "    fehler++\n",
    "}\n",
    "if (liste1.checkLaenge3(7) != false){\n",
    "    println(\"Fehler! liste1.checkLaenge3(7) sollte eigentlich false sein, ist aber ${liste1.checkLaenge3(7)}\")\n",
    "    fehler++\n",
    "}\n",
    "\n",
    "val liste2 = listOf(\"Barretina\", \"Sockel\", \"Tablette\", \"Elefant\", \"Zauberstab\", \"Heer\")\n",
    "if (liste2.checkBuchstabe1('e') != true){\n",
    "    println(\"Fehler! liste2.checkBuchstabe1('e') sollte eigentlich true sein, ist aber ${liste2.checkBuchstabe1('e')}\")\n",
    "    fehler++\n",
    "}\n",
    "if (liste2.checkBuchstabe2('e') != true){\n",
    "    println(\"Fehler! liste2.checkBuchstabe2('e') sollte eigentlich true sein, ist aber ${liste2.checkBuchstabe2('e')}\")\n",
    "    fehler++\n",
    "}\n",
    "if (liste2.checkBuchstabe3('e') != true){\n",
    "    println(\"Fehler! liste2.checkBuchstabe3('e') sollte eigentlich true sein, ist aber ${liste2.checkBuchstabe3('e')}\")\n",
    "    fehler++\n",
    "}\n",
    "\n",
    "if (liste2.checkBuchstabe1('a') != false){\n",
    "    println(\"Fehler! liste2.checkBuchstabe1('a') sollte eigentlich false sein, ist aber ${liste2.checkBuchstabe1('a')}\")\n",
    "    fehler++\n",
    "}\n",
    "if (liste2.checkBuchstabe2('a') != false){\n",
    "    println(\"Fehler! liste2.checkBuchstabe2('a') sollte eigentlich false sein, ist aber ${liste2.checkBuchstabe2('a')}\")\n",
    "    fehler++\n",
    "}\n",
    "if (liste2.checkBuchstabe3('a') != false){\n",
    "    println(\"Fehler! liste2.checkBuchstabe3('a') sollte eigentlich false sein, ist aber ${liste2.checkBuchstabe3('a')}\")\n",
    "    fehler++\n",
    "}\n",
    "\n",
    "if(fehler == 0)\n",
    "    println(\"Super! Alle Tests bestanden!\")\n",
    "else\n",
    "    println(\"Bei $fehler Tests kamen Fehler auf.\")"
   ]
  }
 ],
 "metadata": {
  "kernelspec": {
   "display_name": "Kotlin",
   "language": "kotlin",
   "name": "kotlin"
  },
  "language_info": {
   "codemirror_mode": "text/x-kotlin",
   "file_extension": ".kt",
   "mimetype": "text/x-kotlin",
   "name": "kotlin",
   "nbconvert_exporter": "",
   "pygments_lexer": "kotlin",
   "version": "1.5.20-dev-5817"
  }
 },
 "nbformat": 4,
 "nbformat_minor": 5
}
