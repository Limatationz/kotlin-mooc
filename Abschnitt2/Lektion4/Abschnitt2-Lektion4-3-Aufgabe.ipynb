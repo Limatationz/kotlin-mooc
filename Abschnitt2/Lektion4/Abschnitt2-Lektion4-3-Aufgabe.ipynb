{
 "cells": [
  {
   "cell_type": "code",
   "execution_count": null,
   "id": "d9fee5d4",
   "metadata": {
    "tags": []
   },
   "outputs": [],
   "source": [
    "%use krangl\n",
    "val daten = DataFrame.readCSV(\"../daten/virusErde14.csv\") //Liest die csv-Datei und wandelt sie in einen DataFrame um"
   ]
  },
  {
   "cell_type": "markdown",
   "id": "017cdadd",
   "metadata": {},
   "source": [
    "# Aufgabe - count\n",
    "Implementieren Sie eine Erweiterungsmethode `anzahlErhoehteSterblichkeit` für die Klasse `DataFrame`, die die Anzahl an Einträgen zurückgibt, die eine erhöhte Sterblichkeit aufweisen. Es wird zur Vereinfachung angenommen, dass eine erhöhte Sterblichkeit ab Verstorbene/bestätigte Fälle > 10% vorliegt. \n",
    "<details><summary>Tipp 1</summary><p>Mit <code>daten.schema()</code> können die Datentypen der Spalten herausgefunden werden.</p></details>\n",
    "<details><summary>Tipp 2</summary><p>Eine Division mit 0 ist nicht möglich.</p></details>\n",
    "<details><summary>Tipp 3</summary><p>Der Datentyp des Ergebnis von <code>Int</code>/<code>Int</code> ist <code>Int</code>. Mit <code>toDouble()</code> kann ein <code>Int</code>-Wert zu <code>Double</code> umgewandelt werden.</p></details>"
   ]
  },
  {
   "cell_type": "code",
   "execution_count": null,
   "id": "87a4e9e1",
   "metadata": {},
   "outputs": [],
   "source": [
    "//TODO\n",
    "\n",
    "//Test\n",
    "val anzahl = daten.anzahlErhoehteSterblichkeit()\n",
    "if (anzahl == 23){\n",
    "    println(\"Richtig!\")\n",
    "}\n",
    "else{\n",
    "    println(\"Falsch! Das Ergebnis von daten.anzahlErhoehteSterblichkeit() ist ${daten.anzahlErhoehteSterblichkeit()}, sollte aber eigentlich 23 sein.\")\n",
    "}"
   ]
  }
 ],
 "metadata": {
  "kernelspec": {
   "display_name": "Kotlin",
   "language": "kotlin",
   "name": "kotlin"
  },
  "language_info": {
   "codemirror_mode": "text/x-kotlin",
   "file_extension": ".kt",
   "mimetype": "text/x-kotlin",
   "name": "kotlin",
   "nbconvert_exporter": "",
   "pygments_lexer": "kotlin",
   "version": "1.6.20-dev-3702"
  }
 },
 "nbformat": 4,
 "nbformat_minor": 5
}
