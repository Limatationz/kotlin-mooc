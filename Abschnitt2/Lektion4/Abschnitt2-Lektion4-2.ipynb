{
 "cells": [
  {
   "cell_type": "code",
   "execution_count": 1,
   "id": "c1e70167",
   "metadata": {
    "execution": {
     "iopub.execute_input": "2021-11-17T20:51+0100",
     "iopub.status.busy": "2021-11-17T20:51+0100",
     "iopub.status.idle": "2021-11-17T20:51+0100",
     "shell.execute_reply": "2021-11-17T20:51+0100",
     "shell.execute_reply.started": "2021-11-17T20:51+0100"
    },
    "tags": []
   },
   "outputs": [],
   "source": [
    "%use krangl\n",
    "val daten = DataFrame.readCSV(\"../daten/virusErde14.csv\") //Liest die csv-Datei und wandelt sie in einen DataFrame um"
   ]
  },
  {
   "cell_type": "markdown",
   "id": "b6a7d2f9",
   "metadata": {},
   "source": [
    "#### any, all und none\n",
    "Mit diesen Methoden kann herausgefunden werden, ob bestimmte Aussagen über die Elemente einer Datenstruktur zutreffen."
   ]
  },
  {
   "cell_type": "markdown",
   "id": "7013c15c",
   "metadata": {},
   "source": [
    "##### any\n",
    "`any()` testet, ob es ein Element gibt, bei der die Aussage zutrifft. In diesem Fall wird `true` zurückgegeben, ansonsten `false`."
   ]
  },
  {
   "cell_type": "code",
   "execution_count": 2,
   "id": "666d92c9",
   "metadata": {
    "execution": {
     "iopub.execute_input": "2021-11-17T20:51+0100",
     "iopub.status.busy": "2021-11-17T20:51+0100",
     "iopub.status.idle": "2021-11-17T20:51+0100",
     "shell.execute_reply": "2021-11-17T20:51+0100",
     "shell.execute_reply.started": "2021-11-17T20:51+0100"
    },
    "tags": []
   },
   "outputs": [
    {
     "name": "stdout",
     "output_type": "stream",
     "text": [
      "Es gibt einen Eintrag, in dem die Anzahl der Toten gleich den Aktiven ist: true\n"
     ]
    },
    {
     "data": {
      "text/html": [
       "<html><body><table><tr><th style=\"text-align:left\">FIPS</th><th style=\"text-align:left\">Admin2</th><th style=\"text-align:left\">Province_State</th><th style=\"text-align:left\">Country_Region</th><th style=\"text-align:left\">Last_Update</th><th style=\"text-align:left\">Lat</th><th style=\"text-align:left\">Long_</th><th style=\"text-align:left\">Confirmed</th><th style=\"text-align:left\">Deaths</th><th style=\"text-align:left\">Recovered</th><th style=\"text-align:left\">Active</th><th style=\"text-align:left\">Combined_Key</th><th style=\"text-align:left\">Incident_Rate</th><th style=\"text-align:left\">Case_Fatality_Ratio</th></tr><tr><td style=\"text-align:left\" title=\"\"></td><td style=\"text-align:left\" title=\"\"></td><td style=\"text-align:left\" title=\"Gansu\">Gansu</td><td style=\"text-align:left\" title=\"Urzikstan\">Urzikstan</td><td style=\"text-align:left\" title=\"2021-04-08 04:21:13\">2021-04-08 04:21:13</td><td style=\"text-align:left\" title=\"35.7518\">35.7518</td><td style=\"text-align:left\" title=\"104.2861\">104.2861</td><td style=\"text-align:left\" title=\"193\">193</td><td style=\"text-align:left\" title=\"2\">2</td><td style=\"text-align:left\" title=\"189\">189</td><td style=\"text-align:left\" title=\"2\">2</td><td style=\"text-align:left\" title=\"Gansu, Urzikstan\">Gansu, Urzikstan</td><td style=\"text-align:left\" title=\"0.7318923018581721\">0.7318923018581721</td><td style=\"text-align:left\" title=\"1.0362694300518134\">1.0362694300518134</td></tr></table><p>Shape: 1 x 14. \n",
       "</p></body></html>"
      ]
     },
     "execution_count": 2,
     "metadata": {},
     "output_type": "execute_result"
    }
   ],
   "source": [
    "val toteAktive = daten.rows.any { it[\"Deaths\"].toString() == it[\"Active\"].toString() && it[\"Deaths\"] != 0  } //Gibt es einen Eintrag, bei dem die Anzahl der Toten gleich der der aktiven Fälle ist?\n",
    "println(\"Es gibt einen Eintrag, in dem die Anzahl der Toten gleich den Aktiven ist: $toteAktive\")\n",
    "\n",
    "val filterToteAktive =  daten.filterByRow { it[\"Deaths\"].toString() == it[\"Active\"].toString() && it[\"Deaths\"] != 0 } //Filter nach dem Ergebnis von toteAktive\n",
    "filterToteAktive.head()"
   ]
  },
  {
   "cell_type": "markdown",
   "id": "04ae3c68",
   "metadata": {},
   "source": [
    "##### all\n",
    "`all()` findet heraus, ob die Aussage für alle Elemente wahr ist."
   ]
  },
  {
   "cell_type": "code",
   "execution_count": 3,
   "id": "6d816bc0",
   "metadata": {
    "execution": {
     "iopub.execute_input": "2021-11-17T20:51+0100",
     "iopub.status.busy": "2021-11-17T20:51+0100",
     "iopub.status.idle": "2021-11-17T20:51+0100",
     "shell.execute_reply": "2021-11-17T20:51+0100",
     "shell.execute_reply.started": "2021-11-17T20:51+0100"
    },
    "tags": []
   },
   "outputs": [
    {
     "name": "stdout",
     "output_type": "stream",
     "text": [
      "Alle Einträge wurden zuletzt 'heute' aktualisiert: false\n"
     ]
    },
    {
     "data": {
      "text/html": [
       "<html><body><table><tr><th style=\"text-align:left\">FIPS</th><th style=\"text-align:left\">Admin2</th><th style=\"text-align:left\">Province_State</th><th style=\"text-align:left\">Country_Region</th><th style=\"text-align:left\">Last_Update</th><th style=\"text-align:left\">Lat</th><th style=\"text-align:left\">Long_</th><th style=\"text-align:left\">Confirmed</th><th style=\"text-align:left\">Deaths</th><th style=\"text-align:left\">Recovered</th><th style=\"text-align:left\">Active</th><th style=\"text-align:left\">Combined_Key</th><th style=\"text-align:left\">Incident_Rate</th><th style=\"text-align:left\">Case_Fatality_Ratio</th></tr><tr><td style=\"text-align:left\" title=\"\"></td><td style=\"text-align:left\" title=\"\"></td><td style=\"text-align:left\" title=\"Diamond Princess\">Diamond Princess</td><td style=\"text-align:left\" title=\"Canada\">Canada</td><td style=\"text-align:left\" title=\"2020-12-21 13:27:30\">2020-12-21 13:27:30</td><td style=\"text-align:left\" title=\"\"></td><td style=\"text-align:left\" title=\"\"></td><td style=\"text-align:left\" title=\"0\">0</td><td style=\"text-align:left\" title=\"1\">1</td><td style=\"text-align:left\" title=\"0\">0</td><td style=\"text-align:left\" title=\"\"></td><td style=\"text-align:left\" title=\"Diamond Princess, Canada\">Diamond Princess, Canada</td><td style=\"text-align:left\" title=\"\"></td><td style=\"text-align:left\" title=\"\"></td></tr><tr><td style=\"text-align:left\" title=\"\"></td><td style=\"text-align:left\" title=\"\"></td><td style=\"text-align:left\" title=\"Grand Princess\">Grand Princess</td><td style=\"text-align:left\" title=\"Canada\">Canada</td><td style=\"text-align:left\" title=\"2020-12-21 13:27:30\">2020-12-21 13:27:30</td><td style=\"text-align:left\" title=\"\"></td><td style=\"text-align:left\" title=\"\"></td><td style=\"text-align:left\" title=\"13\">13</td><td style=\"text-align:left\" title=\"0\">0</td><td style=\"text-align:left\" title=\"13\">13</td><td style=\"text-align:left\" title=\"0\">0</td><td style=\"text-align:left\" title=\"Grand Princess, Canada\">Grand Princess, Canada</td><td style=\"text-align:left\" title=\"\"></td><td style=\"text-align:left\" title=\"0.0\">0.0</td></tr><tr><td style=\"text-align:left\" title=\"\"></td><td style=\"text-align:left\" title=\"\"></td><td style=\"text-align:left\" title=\"Bonaire, Sint Eustatius and Saba\">Bonaire, Sint Eustatius and Saba</td><td style=\"text-align:left\" title=\"Netherlands\">Netherlands</td><td style=\"text-align:left\" title=\"2021-01-08 23:22:27\">2021-01-08 23:22:27</td><td style=\"text-align:left\" title=\"12.1784\">12.1784</td><td style=\"text-align:left\" title=\"-68.2385\">-68.2385</td><td style=\"text-align:left\" title=\"196\">196</td><td style=\"text-align:left\" title=\"3\">3</td><td style=\"text-align:left\" title=\"180\">180</td><td style=\"text-align:left\" title=\"13\">13</td><td style=\"text-align:left\" title=\"Bonaire, Sint Eustatius and Saba, Netherlands\">Bonaire, Sint Eustatius and Saba, Netherlands</td><td style=\"text-align:left\" title=\"747.4924678692649\">747.4924678692649</td><td style=\"text-align:left\" title=\"1.530612244897959\">1.530612244897959</td></tr><tr><td style=\"text-align:left\" title=\"80001\">80001</td><td style=\"text-align:left\" title=\"Out of AL\">Out of AL</td><td style=\"text-align:left\" title=\"Alabama\">Alabama</td><td style=\"text-align:left\" title=\"US\">US</td><td style=\"text-align:left\" title=\"2020-12-21 13:27:30\">2020-12-21 13:27:30</td><td style=\"text-align:left\" title=\"\"></td><td style=\"text-align:left\" title=\"\"></td><td style=\"text-align:left\" title=\"0\">0</td><td style=\"text-align:left\" title=\"0\">0</td><td style=\"text-align:left\" title=\"\"></td><td style=\"text-align:left\" title=\"\"></td><td style=\"text-align:left\" title=\"Out of AL, Alabama, US\">Out of AL, Alabama, US</td><td style=\"text-align:left\" title=\"\"></td><td style=\"text-align:left\" title=\"\"></td></tr><tr><td style=\"text-align:left\" title=\"90001\">90001</td><td style=\"text-align:left\" title=\"Unassigned\">Unassigned</td><td style=\"text-align:left\" title=\"Alabama\">Alabama</td><td style=\"text-align:left\" title=\"US\">US</td><td style=\"text-align:left\" title=\"2020-12-21 13:27:30\">2020-12-21 13:27:30</td><td style=\"text-align:left\" title=\"\"></td><td style=\"text-align:left\" title=\"\"></td><td style=\"text-align:left\" title=\"0\">0</td><td style=\"text-align:left\" title=\"0\">0</td><td style=\"text-align:left\" title=\"\"></td><td style=\"text-align:left\" title=\"\"></td><td style=\"text-align:left\" title=\"Unassigned, Alabama, US\">Unassigned, Alabama, US</td><td style=\"text-align:left\" title=\"\"></td><td style=\"text-align:left\" title=\"\"></td></tr><tr><td style=\"text-align:left\" title=\"88888\">88888</td><td style=\"text-align:left\" title=\"\"></td><td style=\"text-align:left\" title=\"Diamond Princess\">Diamond Princess</td><td style=\"text-align:left\" title=\"US\">US</td><td style=\"text-align:left\" title=\"2020-08-04 02:27:56\">2020-08-04 02:27:56</td><td style=\"text-align:left\" title=\"\"></td><td style=\"text-align:left\" title=\"\"></td><td style=\"text-align:left\" title=\"49\">49</td><td style=\"text-align:left\" title=\"0\">0</td><td style=\"text-align:left\" title=\"\"></td><td style=\"text-align:left\" title=\"\"></td><td style=\"text-align:left\" title=\"Diamond Princess, US\">Diamond Princess, US</td><td style=\"text-align:left\" title=\"\"></td><td style=\"text-align:left\" title=\"0.0\">0.0</td></tr></table><p>... with 5 more rows. Shape: 11 x 14. \n",
       "</p></body></html>"
      ]
     },
     "execution_count": 3,
     "metadata": {},
     "output_type": "execute_result"
    }
   ],
   "source": [
    "val datumHeute = \"2021-04-08\" //Datum von \"heute\", Format: Jahr-Monat-Tag\n",
    "val updateHeute = daten.rows.all { (it[\"Last_Update\"] as String).contains(datumHeute)} //Ist das Datum in Last_Update überall das \"heutige\"?\n",
    "println(\"Alle Einträge wurden zuletzt 'heute' aktualisiert: $updateHeute\")\n",
    "\n",
    "val filterUpdateHeute =  daten.filterByRow { (it[\"Last_Update\"] as String).contains(datumHeute) == false } //Filter nach falschen Zeilen für updateHeute\n",
    "filterUpdateHeute.head(20)"
   ]
  },
  {
   "cell_type": "markdown",
   "id": "6dfab806",
   "metadata": {},
   "source": [
    "##### none\n",
    "`none()` ist das Gegenteil zu `all()`. Es wird `true` zurückgegeben, falls die Bedingung für alle Elemente falsch ist."
   ]
  },
  {
   "cell_type": "code",
   "execution_count": 4,
   "id": "80ac8ff3",
   "metadata": {
    "execution": {
     "iopub.execute_input": "2021-11-17T20:51+0100",
     "iopub.status.busy": "2021-11-17T20:51+0100",
     "iopub.status.idle": "2021-11-17T20:51+0100",
     "shell.execute_reply": "2021-11-17T20:51+0100",
     "shell.execute_reply.started": "2021-11-17T20:51+0100"
    },
    "tags": []
   },
   "outputs": [
    {
     "name": "stdout",
     "output_type": "stream",
     "text": [
      "Es gibt keinen Eintrag, der mehr als 5 Millionen bestätigte Fälle besitzt: true\n"
     ]
    },
    {
     "data": {
      "text/html": [
       "<html><body><table><tr><th style=\"text-align:left\">FIPS</th><th style=\"text-align:left\">Admin2</th><th style=\"text-align:left\">Province_State</th><th style=\"text-align:left\">Country_Region</th><th style=\"text-align:left\">Last_Update</th><th style=\"text-align:left\">Lat</th><th style=\"text-align:left\">Long_</th><th style=\"text-align:left\">Confirmed</th><th style=\"text-align:left\">Deaths</th><th style=\"text-align:left\">Recovered</th><th style=\"text-align:left\">Active</th><th style=\"text-align:left\">Combined_Key</th><th style=\"text-align:left\">Incident_Rate</th><th style=\"text-align:left\">Case_Fatality_Ratio</th></tr></table><p>Shape: 0 x 14. \n",
       "</p></body></html>"
      ]
     },
     "execution_count": 4,
     "metadata": {},
     "output_type": "execute_result"
    }
   ],
   "source": [
    "val millionenBestaetigte = daten.rows.none { (it[\"Confirmed\"] as Int) > 5000000 } //Gibt es keinen Eintrag, der mehr als 5 Millionen bestätigte Fälle besitzt?\n",
    "println(\"Es gibt keinen Eintrag, der mehr als 5 Millionen bestätigte Fälle besitzt: $millionenBestaetigte\")\n",
    "\n",
    "val filterMillionenBestaetigte =  daten.filterByRow { (it[\"Confirmed\"] as Int) > 5000000 } //Filter nach Einträgen, für die die Aussage zutreffen würde\n",
    "filterMillionenBestaetigte.head(20)"
   ]
  }
 ],
 "metadata": {
  "kernelspec": {
   "display_name": "Kotlin",
   "language": "kotlin",
   "name": "kotlin"
  },
  "language_info": {
   "codemirror_mode": "text/x-kotlin",
   "file_extension": ".kt",
   "mimetype": "text/x-kotlin",
   "name": "kotlin",
   "nbconvert_exporter": "",
   "pygments_lexer": "kotlin",
   "version": "1.6.20-dev-3702"
  }
 },
 "nbformat": 4,
 "nbformat_minor": 5
}
