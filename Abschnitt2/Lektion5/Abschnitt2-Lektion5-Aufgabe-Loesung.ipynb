{
 "cells": [
  {
   "cell_type": "code",
   "execution_count": 3,
   "id": "0d75786c",
   "metadata": {
    "tags": []
   },
   "outputs": [],
   "source": [
    "%use krangl\n",
    "val daten = DataFrame.readCSV(\"../daten/virusErde14.csv\") //Liest die csv-Datei und wandelt sie in einen DataFrame um"
   ]
  },
  {
   "cell_type": "markdown",
   "id": "90f00080",
   "metadata": {},
   "source": [
    "# Aufgabe - Komplexe Lambda-Ausdrücke\n",
    "In der Spalte *Case_Fatality_Ratio* ist der Anteil der verstorbenen Personen an der Gesamtzahl der bestätigten Fälle zu finden. Ihre Aufgabe ist es, eine Erweiterungsmethode `gibGeringsteSterblichkeit()` der Klasse `DataFrame` zu implementieren, die die 10 Länder mit der geringsten Sterblichkeit zurückgibt. Diese soll aus Paaren bestehen. Jedes Paar soll zuerst das Land und dann die Sterblichkeit beinhalten. Um fehlerhaften Daten entgegenzuwirken, sollen nur Länder, die mehr als 20000 bestätigte Fälle aufweisen, ausgewählt werden. Außerdem soll das Land *Belgium* nicht berücksichtigt werden."
   ]
  },
  {
   "cell_type": "code",
   "execution_count": 198,
   "id": "29d7e86f",
   "metadata": {
    "tags": []
   },
   "outputs": [
    {
     "name": "stdout",
     "output_type": "stream",
     "text": [
      "Super! Alle Tests bestanden!\n"
     ]
    }
   ],
   "source": [
    "fun DataFrame.gibGeringsteSterblichkeit() = this.rows.filter { it[\"Case_Fatality_Ratio\"] as String != \"\" && it[\"Confirmed\"] as Int > 50000 &&  it[\"Country_Region\"] as String != \"Belgium\"} //Filtert alle Zeilen heraus, die keinen Eintrag in der Spalte Incident_Rate aufweisen\n",
    "    .groupBy { it[\"Country_Region\"] }   //Gruppiert die Einträge nach dem Land. Zurückgegeben wird eine Map mit dem Namen des Landes als Schlüssel und einer Liste, die alle Zeilen des Landes umfasst. \n",
    "                                        //Jeder Eintrag in der Liste ist jedoch wieder eine Map, die als Schlüssel den Spaltennamen und als Wert den Eintrag an der jeweiligen Stelle besitzt.\n",
    "    .mapValues { //Iteriert über die Map und setzt jeden Wert eines Paares auf die Rückgabe des Lambda-Ausdrucks\n",
    "        val inzidenzen = MutableList<Double>(0) { 0.0 } //Erstellt für jedes Land eine leere Liste, die mit den Inzidenzraten gefüllt werden soll\n",
    "        it.value.forEach{ //Iteriert über alle Einträge jedes Land\n",
    "            inzidenzen.add((it[\"Case_Fatality_Ratio\"] as String).toDouble()) //Fügt der Liste die Inzidenzrate der Region hinzu\n",
    "        }  \n",
    "        inzidenzen.average() //Berechnet den Durchschnitt der Wert der Liste, wandelt ihn in Prozent um und gibt ihn zurück\n",
    "    }\n",
    "    .toList() //Konvertiert die Map in eine Liste aus Paaren, welche aus dem Schlüssel und dem berechneten Wert besteht, da eine Map nicht sortiert werden kann\n",
    "    .sortedBy { (schluessel, wert) -> wert} //Sortiert die Liste nach den Werten absteigend\n",
    "    .take(10) //Löscht alle Einträge abgesehen von den ersten Zehn\n",
    "\n",
    "//Test\n",
    "val testErgebnis = listOf( \n",
    "    Pair(\"Singapore\", 0.049542557056511546), Pair(\"Qatar\", 0.17185729399949518), Pair(\"United Arab Emirates\", 0.319314985326216), \n",
    "    Pair(\"Bahrain\", 0.3600318565664677), Pair(\"Malaysia\", 0.36787523838541136), Pair(\"Cuba\", 0.5351024805995085), Pair(\"Kuwait\", 0.5710878000902807), \n",
    "    Pair(\"Sri Lanka\", 0.6261314024065595), Pair(\"Norway\", 0.6756890445380977), Pair(\"Belarus\", 0.7000750296488129)\n",
    ")\n",
    "val ergebnis = daten.gibGeringsteSterblichkeit()\n",
    "var fehler = 0\n",
    "for(i in 0 until testErgebnis.size){\n",
    "    if(testErgebnis[i] != ergebnis[i]){\n",
    "        println(\"Falsch! Eintrag $i sollte ${testErgebnis[i]} sein, ist aber ${ergebnis[i]}\")\n",
    "        fehler++\n",
    "    }\n",
    "}\n",
    "if(fehler == 0)\n",
    "    println(\"Super! Alle Tests bestanden!\")\n",
    "else\n",
    "    println(\"Bei $fehler Tests kamen Fehler auf.\")"
   ]
  }
 ],
 "metadata": {
  "kernelspec": {
   "display_name": "Kotlin",
   "language": "kotlin",
   "name": "kotlin"
  },
  "language_info": {
   "codemirror_mode": "text/x-kotlin",
   "file_extension": ".kt",
   "mimetype": "text/x-kotlin",
   "name": "kotlin",
   "nbconvert_exporter": "",
   "pygments_lexer": "kotlin",
   "version": "1.5.20-dev-5817"
  }
 },
 "nbformat": 4,
 "nbformat_minor": 5
}
