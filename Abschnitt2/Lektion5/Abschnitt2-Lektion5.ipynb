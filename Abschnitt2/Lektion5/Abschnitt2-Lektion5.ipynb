{
 "cells": [
  {
   "cell_type": "code",
   "execution_count": 1,
   "id": "9834fa1b",
   "metadata": {
    "execution": {
     "iopub.execute_input": "2021-11-17T21:02+0100",
     "iopub.status.busy": "2021-11-17T21:02+0100",
     "iopub.status.idle": "2021-11-17T21:02+0100",
     "shell.execute_reply": "2021-11-17T21:02+0100",
     "shell.execute_reply.started": "2021-11-17T21:02+0100"
    },
    "tags": []
   },
   "outputs": [],
   "source": [
    "%use krangl\n",
    "val daten = DataFrame.readCSV(\"../daten/virusErde14.csv\") //Liest die csv-Datei und wandelt sie in einen DataFrame um"
   ]
  },
  {
   "cell_type": "markdown",
   "id": "7e3a732c",
   "metadata": {},
   "source": [
    "<img src=\"../images/Lektion5.png\" style=\"margin: 20px auto 20px 0px\"/>\n",
    "<h2 style=\"display:none\">Lektion 5 - Verbindung von Lambda-Ausdrücken</h2>\n",
    "\n",
    "In den meisten bis jetzt vorgestellten Beispielen wurde nur ein Lambda-Ausdruck verwendet. Jedoch können auch Mehrere hintereinander gestellt oder ineinander verschachtelt werden. Außerdem besteht die Möglichkeit, in den Funktionsrümpfen wiederum mit Methoden zu arbeiten. Es folgen einige Beispiele. Dabei wird empfohlen, den Code erst vollständig einzukommentieren und dann Anweisung für Anweisung durchzugehen.\n",
    "#### Beispiel 1\n",
    "Gesucht ist der amerikanische Bundesstaat mit den meisten bestätigten Fällen."
   ]
  },
  {
   "cell_type": "code",
   "execution_count": 2,
   "id": "a0453bf9",
   "metadata": {
    "execution": {
     "iopub.execute_input": "2021-11-17T21:02+0100",
     "iopub.status.busy": "2021-11-17T21:02+0100",
     "iopub.status.idle": "2021-11-17T21:02+0100",
     "shell.execute_reply": "2021-11-17T21:02+0100",
     "shell.execute_reply.started": "2021-11-17T21:02+0100"
    }
   },
   "outputs": [
    {
     "name": "stdout",
     "output_type": "stream",
     "text": [
      "Das amerikanische Bundesland mit den meisten bestätigten Fällen ist: California.\n"
     ]
    }
   ],
   "source": [
    "val bundesstaat = daten.rows.filter{ it[\"Country_Region\"] == \"US\" } //Filtert nur die Einträge heraus, deren Country_Region US ist.\n",
    "    .groupBy { it[\"Province_State\"] }   //Gruppiert die Einträge nach dem Bundesstaat. Zurückgegeben wird eine Map mit dem Namen der Bundesstaaten als Schlüssel und einer Liste, die alle Zeilen des Bundesstaates umfasst. \n",
    "                                        //Jeder Eintrag in der Liste ist jedoch wieder eine Map, die als Schlüssel den Spaltennamen und als Wert den Eintrag an der jeweiligen Stelle besitzt.\n",
    "    .mapValues { //Iteriert über die Map und setzt jeden Wert eines Paares auf die Rückgabe des Lambda-Ausdrucks\n",
    "        it.value.sumBy { it[\"Confirmed\"] as Int }   //it ist hier ein Map-Paar bestehend aus Bundesstaat und den zugehörigen Zeilen als Liste\n",
    "                                                    //value greift auf die Liste des Bundesstaats zu\n",
    "                                                    //sumBy() iteriert über jeden Eintrag der Liste und summiert den Wert, der dem Schlüssel Confirmed zugeordnet ist\n",
    "    }                                               //Das Ergebnis ist eine Map, deren Schlüssel die Namen der Bundesstaaten und der zugehöige Werte die Summe an bestätigten Fällen sind\n",
    "    .maxByOrNull { it.value } //Iteritert durch die Map an bestätigten Fällen jedes Bundesstaates und gibt das Paar zurück, dessen Fälle am höchsten sind\n",
    "    ?.key //Greift auf den Wert des Paares zu. Es muss ein sicherer Zugriff verwendet werden, da maxByOrNull einen nullable Wert zurückgibt\n",
    "                            \n",
    "println(\"Das amerikanische Bundesland mit den meisten bestätigten Fällen ist: $bundesstaat.\")\n",
    "//Zum Nachvollziehen:\n",
    "//bundesstaat"
   ]
  },
  {
   "cell_type": "markdown",
   "id": "e5a28f51",
   "metadata": {},
   "source": [
    "#### Beispiel 2\n",
    "Gesucht ist der Eintrag, dessen Koordinaten am nähesten an vorgegebene Längen- und Breitengraden sind. Die angegebenen Koordinaten entsprechen der Position der Universität Bayreuth."
   ]
  },
  {
   "cell_type": "code",
   "execution_count": 3,
   "id": "38b5b992",
   "metadata": {
    "execution": {
     "iopub.execute_input": "2021-11-17T21:02+0100",
     "iopub.status.busy": "2021-11-17T21:02+0100",
     "iopub.status.idle": "2021-11-17T21:02+0100",
     "shell.execute_reply": "2021-11-17T21:02+0100",
     "shell.execute_reply.started": "2021-11-17T21:02+0100"
    }
   },
   "outputs": [
    {
     "name": "stdout",
     "output_type": "stream",
     "text": [
      "Der Eintrag, der am nähsten zu den gegebenen Koordinaten ist, besitzt die Werte:\n",
      "{FIPS=, Admin2=, Province_State=Bayern, Country_Region=Germany, Last_Update=2021-04-08 04:21:13, Lat=48.7904, Long_=11.4979, Confirmed=517336, Deaths=13419, Recovered=467100, Active=36817, Combined_Key=Bayern, Germany, Incident_Rate=3956.1599578365253, Case_Fatality_Ratio=2.5938654955386826}\n"
     ]
    }
   ],
   "source": [
    "val laengengrad = 49.92987060546875\n",
    "val breitengrad = 11.586241722106934\n",
    "\n",
    "fun Double.betrag() = if(this < 0) -this else this //gibt den Betrag eines Double-Werts zurück\n",
    "\n",
    "val eintrag = daten.rows.filter { (it[\"Lat\"] as String != \"\") && (it[\"Long_\"] as String != \"\") } //Filtert alle Einträge mit leeren Koordinaten heraus  \n",
    "        .minByOrNull { ((it[\"Lat\"] as String).toDouble() - laengengrad).betrag() + ((it[\"Long_\"] as String).toDouble() - breitengrad).betrag() } //Gibt den Eintrag zurück, dessen Differenz der Koordinaten zu den Angegebenen am kleinsten ist.\n",
    "\n",
    "println(\"Der Eintrag, der am nähsten zu den gegebenen Koordinaten ist, besitzt die Werte:\\n$eintrag\")"
   ]
  },
  {
   "cell_type": "markdown",
   "id": "c2bdecba",
   "metadata": {},
   "source": [
    "#### Beispiel 3\n",
    "In der Spalte *Incident_Rate* ist die Anzahl der bestätigten Fälle je 100.000 Einwohner zu finden. In diesem Beispiel sollen die 3 Länder mit der höchsten Durchseuchung in Prozent (Anteil der bestätigten Fälle an der Gesamtbevölkerung) ausgegeben werden. Wobei, falls eine Untergliederung in Regionen zu finden ist, der Mittelwert ausschlaggebend sein soll."
   ]
  },
  {
   "cell_type": "code",
   "execution_count": 4,
   "id": "ea85d587",
   "metadata": {
    "execution": {
     "iopub.execute_input": "2021-11-17T21:02+0100",
     "iopub.status.busy": "2021-11-17T21:02+0100",
     "iopub.status.idle": "2021-11-17T21:02+0100",
     "shell.execute_reply": "2021-11-17T21:02+0100",
     "shell.execute_reply.started": "2021-11-17T21:02+0100"
    },
    "tags": []
   },
   "outputs": [
    {
     "name": "stdout",
     "output_type": "stream",
     "text": [
      "Platz 1: Andorra mit einer Durchseuchung von 16.00077654824306 %\n",
      "Platz 2: Montenegro mit einer Durchseuchung von 14.856654279354586 %\n",
      "Platz 3: Czechia mit einer Durchseuchung von 14.574466555271082 %\n"
     ]
    }
   ],
   "source": [
    "val rangliste = daten.rows.filter { it[\"Incident_Rate\"] as String != \"\" } //Filtert alle Zeilen heraus, die keinen Eintrag in der Spalte Incident_Rate aufweisen\n",
    "    .groupBy { it[\"Country_Region\"] }   //Gruppiert die Einträge nach dem Land. Zurückgegeben wird eine Map mit dem Namen des Landes als Schlüssel und einer Liste, die alle Zeilen des Landes umfasst. \n",
    "                                        //Jeder Eintrag in der Liste ist jedoch wieder eine Map, die als Schlüssel den Spaltennamen und als Wert den Eintrag an der jeweiligen Stelle besitzt.\n",
    "    .mapValues { //Iteriert über die Map und setzt jeden Wert eines Paares auf die Rückgabe des Lambda-Ausdrucks\n",
    "        val inzidenzen = MutableList<Double>(0) { 0.0 } //Erstellt für jedes Land eine leere Liste, die mit den Inzidenzraten gefüllt werden soll\n",
    "        it.value.forEach{ //Iteriert über alle Einträge jedes Land\n",
    "            inzidenzen.add((it[\"Incident_Rate\"] as String).toDouble()) //Fügt der Liste die Inzidenzrate der Region hinzu\n",
    "        }  \n",
    "        (inzidenzen.average() / 100000) * 100 //Berechnet den Durchschnitt der Wert der Liste, wandelt ihn in Prozent um und gibt ihn zurück\n",
    "    }\n",
    "    .toList() //Konvertiert die Map in eine Liste aus Paaren, welche aus dem Schlüssel und dem berechneten Wert besteht, da eine Map nicht sortiert werden kann\n",
    "    .sortedByDescending { (schluessel, wert) -> wert} //Sortiert die Liste nach den Werten absteigend\n",
    "    .take(3) //Löscht alle Einträge abgesehen von den ersten Drei\n",
    "    \n",
    "//Ausgabe\n",
    "for (i in 0 until rangliste.size){\n",
    "    println(\"Platz ${i+1}: ${rangliste[i].first} mit einer Durchseuchung von ${rangliste[i].second} %\")\n",
    "}\n",
    "//Zum Nachvollziehen:\n",
    "//rangliste"
   ]
  }
 ],
 "metadata": {
  "kernelspec": {
   "display_name": "Kotlin",
   "language": "kotlin",
   "name": "kotlin"
  },
  "language_info": {
   "codemirror_mode": "text/x-kotlin",
   "file_extension": ".kt",
   "mimetype": "text/x-kotlin",
   "name": "kotlin",
   "nbconvert_exporter": "",
   "pygments_lexer": "kotlin",
   "version": "1.6.20-dev-3702"
  }
 },
 "nbformat": 4,
 "nbformat_minor": 5
}
