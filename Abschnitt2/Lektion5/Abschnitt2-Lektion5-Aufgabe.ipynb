{
 "cells": [
  {
   "cell_type": "code",
   "execution_count": null,
   "id": "e0c887a7",
   "metadata": {
    "tags": []
   },
   "outputs": [],
   "source": [
    "%use krangl\n",
    "val daten = DataFrame.readCSV(\"../daten/virusErde14.csv\") //Liest die csv-Datei und wandelt sie in einen DataFrame um"
   ]
  },
  {
   "cell_type": "markdown",
   "id": "5f77e548",
   "metadata": {},
   "source": [
    "# Aufgabe - Komplexe Lambda-Ausdrücke\n",
    "In der Spalte *Case_Fatality_Ratio* ist der Anteil der verstorbenen Personen an der Gesamtzahl der bestätigten Fälle zu finden. Ihre Aufgabe ist es, eine Erweiterungsmethode `gibGeringsteSterblichkeit()` der Klasse `DataFrame` zu implementieren, die die 10 Länder mit der geringsten Sterblichkeit zurückgibt. Diese soll aus Paaren bestehen. Jedes Paar soll zuerst das Land und dann die Sterblichkeit beinhalten. Um fehlerhaften Daten entgegenzuwirken, sollen nur Länder, die mehr als 20000 bestätigte Fälle aufweisen, ausgewählt werden. Außerdem soll das Land *Belgium* nicht berücksichtigt werden."
   ]
  },
  {
   "cell_type": "code",
   "execution_count": null,
   "id": "2f568088",
   "metadata": {},
   "outputs": [],
   "source": [
    "//TODO\n",
    "\n",
    "//Test\n",
    "val testErgebnis = listOf( \n",
    "    Pair(\"Singapore\", 0.049542557056511546), Pair(\"Qatar\", 0.17185729399949518), Pair(\"United Arab Emirates\", 0.319314985326216), \n",
    "    Pair(\"Bahrain\", 0.3600318565664677), Pair(\"Malaysia\", 0.36787523838541136), Pair(\"Cuba\", 0.5351024805995085), Pair(\"Kuwait\", 0.5710878000902807), \n",
    "    Pair(\"Sri Lanka\", 0.6261314024065595), Pair(\"Norway\", 0.6756890445380977), Pair(\"Belarus\", 0.7000750296488129)\n",
    ")\n",
    "val ergebnis = daten.gibGeringsteSterblichkeit()\n",
    "var fehler = 0\n",
    "for(i in 0 until testErgebnis.size){\n",
    "    if(testErgebnis[i] != ergebnis[i]){\n",
    "        println(\"Falsch! Eintrag $i sollte ${testErgebnis[i]} sein, ist aber ${ergebnis[i]}\")\n",
    "        fehler++\n",
    "    }\n",
    "}\n",
    "if(fehler == 0)\n",
    "    println(\"Super! Alle Tests bestanden!\")\n",
    "else\n",
    "    println(\"Bei $fehler Tests kamen Fehler auf.\")"
   ]
  }
 ],
 "metadata": {
  "kernelspec": {
   "display_name": "Kotlin",
   "language": "kotlin",
   "name": "kotlin"
  },
  "language_info": {
   "codemirror_mode": "text/x-kotlin",
   "file_extension": ".kt",
   "mimetype": "text/x-kotlin",
   "name": "kotlin",
   "nbconvert_exporter": "",
   "pygments_lexer": "kotlin",
   "version": "1.6.20-dev-3702"
  }
 },
 "nbformat": 4,
 "nbformat_minor": 5
}
