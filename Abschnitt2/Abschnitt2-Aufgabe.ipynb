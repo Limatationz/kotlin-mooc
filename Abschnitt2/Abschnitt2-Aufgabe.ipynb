{
 "cells": [
  {
   "cell_type": "markdown",
   "id": "exterior-sessions",
   "metadata": {
    "deletable": false,
    "editable": false,
    "nbgrader": {
     "cell_type": "markdown",
     "checksum": "a9fa3e5513a51c8636ed8aa64d0efe34",
     "grade": false,
     "grade_id": "markdown-1",
     "locked": true,
     "schema_version": 3,
     "solution": false,
     "task": false
    }
   },
   "source": [
    "# Aufgabe - Impfdaten\n",
    "Kurz nach dem Bekanntwerden des Virus haben die ersten Länder auf Erde-14 mit der Impfstoffentwicklung begonnen, da allen klar war, dass das Virus nur mit einer Herdenimmunität, beispielsweise einer Impfung, kontrollieren werden kann. Ende des Jahres 2052 waren die ersten Impfstoffe bereit für die Bevölkerung. Die ersten drei zugelassenen Impfstoffe sind von den Unternehmen Bioneca, Moderntech und Asterna. Da das Land Dendenland eine ähnliche Gesellschaft zu Deutschland aufweist, werden Sie zusätzlich beauftragt den Impfablauf auszuwerten, um aus möglichen Fehlern zu lernen. Dazu wird Ihnen der folgende Datensatz bereitgestellt:"
   ]
  },
  {
   "cell_type": "code",
   "execution_count": null,
   "id": "corresponding-plenty",
   "metadata": {
    "deletable": false,
    "editable": false,
    "execution": {
     "iopub.execute_input": "2021-04-16T12:11+0200",
     "iopub.status.busy": "2021-04-16T12:11+0200",
     "iopub.status.idle": "2021-04-16T12:11+0200",
     "shell.execute_reply": "2021-04-16T12:11+0200",
     "shell.execute_reply.started": "2021-04-16T12:11+0200"
    },
    "nbgrader": {
     "cell_type": "code",
     "checksum": "ce782891d425fc7d79d2eebbbb24a418",
     "grade": false,
     "grade_id": "daten-einlesen",
     "locked": true,
     "schema_version": 3,
     "solution": false,
     "task": false
    },
    "tags": []
   },
   "outputs": [],
   "source": [
    "%use krangl(0.17)\n",
    "var daten = DataFrame.readCSV(\"https://raw.githubusercontent.com/Limatationz/kotlin-mooc/main/Abschnitt2/daten/impfzahlenDendenland.csv\") //Liest die csv-Datei und wandelt sie in einen DataFrame um"
   ]
  },
  {
   "cell_type": "markdown",
   "id": "endangered-stockholm",
   "metadata": {
    "deletable": false,
    "editable": false,
    "nbgrader": {
     "cell_type": "markdown",
     "checksum": "272ff0e16da9b69ccb4a6374452fbf5a",
     "grade": false,
     "grade_id": "markdown-2",
     "locked": true,
     "schema_version": 3,
     "solution": false,
     "task": false
    }
   },
   "source": [
    "Der Aufbau der Daten ist folgendermaßen:"
   ]
  },
  {
   "cell_type": "code",
   "execution_count": null,
   "id": "arbitrary-finland",
   "metadata": {
    "deletable": false,
    "editable": false,
    "execution": {
     "iopub.execute_input": "2021-04-16T12:11+0200",
     "iopub.status.busy": "2021-04-16T12:11+0200",
     "iopub.status.idle": "2021-04-16T12:11+0200",
     "shell.execute_reply": "2021-04-16T12:11+0200",
     "shell.execute_reply.started": "2021-04-16T12:11+0200"
    },
    "nbgrader": {
     "cell_type": "code",
     "checksum": "e99e92ecae69b16d00be9a922d069014",
     "grade": false,
     "grade_id": "daten-kennenlernen-1",
     "locked": true,
     "schema_version": 3,
     "solution": false,
     "task": false
    },
    "tags": []
   },
   "outputs": [],
   "source": [
    "daten.schema()"
   ]
  },
  {
   "cell_type": "code",
   "execution_count": null,
   "id": "municipal-former",
   "metadata": {
    "deletable": false,
    "editable": false,
    "execution": {
     "iopub.execute_input": "2021-04-16T12:11+0200",
     "iopub.status.busy": "2021-04-16T12:11+0200",
     "iopub.status.idle": "2021-04-16T12:11+0200",
     "shell.execute_reply": "2021-04-16T12:11+0200",
     "shell.execute_reply.started": "2021-04-16T12:11+0200"
    },
    "nbgrader": {
     "cell_type": "code",
     "checksum": "c3342b35037946b013a1d1582009ba10",
     "grade": false,
     "grade_id": "daten-kennenlernen-2",
     "locked": true,
     "schema_version": 3,
     "solution": false,
     "task": false
    },
    "tags": []
   },
   "outputs": [],
   "source": [
    "daten.head(20)"
   ]
  },
  {
   "cell_type": "markdown",
   "id": "ca9baf4a",
   "metadata": {
    "deletable": false,
    "editable": false,
    "nbgrader": {
     "cell_type": "markdown",
     "checksum": "4259e0f08d198ba4954a205fd55956ef",
     "grade": false,
     "grade_id": "daten-kennenlernen-3",
     "locked": true,
     "schema_version": 3,
     "solution": false,
     "task": false
    }
   },
   "source": [
    "**Hinweis**: In diesem Übungsblatt wird wieder die Bibliothek _krangl_ verwendet. Beispiele finden Sie entweder in der Theorie oder in dem [offiziellen Repository](https://github.com/holgerbrandl/krangl#examples). Auf die Dokumentation können Sie [hier](http://holgerbrandl.github.io/krangl/javadoc/krangl/krangl/index.html) zugreifen. Implementieren Sie alle Lösungen **funktional**."
   ]
  },
  {
   "cell_type": "markdown",
   "id": "liberal-satellite",
   "metadata": {
    "deletable": false,
    "editable": false,
    "nbgrader": {
     "cell_type": "markdown",
     "checksum": "ab7c5673464e562be8d9417ba924e762",
     "grade": false,
     "grade_id": "markdown-3",
     "locked": true,
     "schema_version": 3,
     "solution": false,
     "task": false
    }
   },
   "source": [
    "## Die Daten kennenlernen\n",
    "In dieser Aufgabe sollen die Daten und deren Struktur kennengelernt werden. Es ist zu erkennen, dass in der Spalte *metric* eine Liste an Beschreibungen für die Daten, die in *value* zu finden sein, vorliegt. Implementieren Sie eine Erweiterungsmethode `gibBeschreibungen()` der Klasse `DataFrame`, die alle Beschreibungen in einer Liste zurückgibt.  \n",
    "Beispiel: [dosen_kumulativ, personen_erst_kumulativ, personen_voll_kumulativ, ...]"
   ]
  },
  {
   "cell_type": "code",
   "execution_count": null,
   "id": "senior-cement",
   "metadata": {
    "deletable": false,
    "execution": {
     "iopub.execute_input": "2021-04-14T14:03+0200",
     "iopub.status.busy": "2021-04-14T14:03+0200",
     "iopub.status.idle": "2021-04-14T14:03+0200",
     "shell.execute_reply": "2021-04-14T14:03+0200"
    },
    "nbgrader": {
     "cell_type": "code",
     "checksum": "482ce5ad0112b82e87eac49183bd4904",
     "grade": false,
     "grade_id": "aufgabe1-code",
     "locked": false,
     "schema_version": 3,
     "solution": true,
     "task": false
    },
    "tags": []
   },
   "outputs": [],
   "source": [
    "fun DataFrame.gibBeschreibungen(): List<String>{\n",
    "    // YOUR CODE HERE\n",
    "}"
   ]
  },
  {
   "cell_type": "code",
   "execution_count": null,
   "id": "south-commons",
   "metadata": {
    "deletable": false,
    "editable": false,
    "execution": {
     "iopub.execute_input": "2021-04-14T14:03+0200",
     "iopub.status.busy": "2021-04-14T14:03+0200",
     "iopub.status.idle": "2021-04-14T14:03+0200",
     "shell.execute_reply": "2021-04-14T14:03+0200",
     "shell.execute_reply.started": "2021-04-14T14:03+0200"
    },
    "nbgrader": {
     "cell_type": "code",
     "checksum": "e15957bffbbc00a6278e04095aa834a6",
     "grade": true,
     "grade_id": "aufgabe1-test",
     "locked": true,
     "points": 2,
     "schema_version": 3,
     "solution": false,
     "task": false
    },
    "tags": []
   },
   "outputs": [],
   "source": [
    "val ergebnis = listOf(\"dosen_kumulativ\", \"indikation_alter_dosen\", \"indikation_beruf_dosen\", \"indikation_medizinisch_dosen\", \"indikation_pflegeheim_dosen\", \"dosen_differenz_zum_vortag\")\n",
    "if(daten.gibBeschreibungen() != ergebnis)\n",
    "    throw AssertionError(\"daten.gibBeschreibungen(): ${daten.gibBeschreibungen()} != ${ergebnis}\")"
   ]
  },
  {
   "cell_type": "markdown",
   "id": "average-filling",
   "metadata": {
    "deletable": false,
    "editable": false,
    "nbgrader": {
     "cell_type": "markdown",
     "checksum": "3cde7dffd221c33395435354df15e842",
     "grade": false,
     "grade_id": "markdown-4",
     "locked": true,
     "schema_version": 3,
     "solution": false,
     "task": false
    }
   },
   "source": [
    "## Wieviele Dosen wurden an einem bestimmten Tag verimpft?\n",
    "Implementieren Sie eine Erweiterungsmethode `gibAnzahlDosen(datum, region)` der Klasse `DataFrame`, die die Anzahl der Impfdosen, die an dem übergebenen Datum und in der übergebenen Region verimpft wurden, zurückgibt. Zur Vereinfachung ist anzunehmen, dass das Datum als `String` im Format `yyyy-mm-dd` und die Region als `String` mit zwei Buchstaben übergeben werden. In dieser Aufgabe soll nicht mit dem Eintrag `dosen_differenz_zum_vortag` gearbeitet werden, da die Daten unvollständig sind (näheres dazu in der nächsten Aufgabe). Ist das Datum nicht in den Daten vorhanden, soll `-1` zurückgegeben werden."
   ]
  },
  {
   "cell_type": "code",
   "execution_count": null,
   "id": "early-object",
   "metadata": {
    "deletable": false,
    "execution": {
     "iopub.execute_input": "2021-04-14T14:03+0200",
     "iopub.status.busy": "2021-04-14T14:03+0200",
     "iopub.status.idle": "2021-04-14T14:03+0200",
     "shell.execute_reply": "2021-04-14T14:03+0200"
    },
    "nbgrader": {
     "cell_type": "code",
     "checksum": "3ba95f7917750928d3f9d3b9c3975ac5",
     "grade": false,
     "grade_id": "aufgabe2-code",
     "locked": false,
     "schema_version": 3,
     "solution": true,
     "task": false
    },
    "tags": []
   },
   "outputs": [],
   "source": [
    "fun DataFrame.gibAnzahlDosen(datum: String, region: String): Int {\n",
    "    // YOUR CODE HERE\n",
    "}"
   ]
  },
  {
   "cell_type": "code",
   "execution_count": null,
   "id": "greatest-newton",
   "metadata": {
    "deletable": false,
    "editable": false,
    "execution": {
     "iopub.execute_input": "2021-04-14T14:03+0200",
     "iopub.status.busy": "2021-04-14T14:03+0200",
     "iopub.status.idle": "2021-04-14T14:03+0200",
     "shell.execute_reply": "2021-04-14T14:03+0200",
     "shell.execute_reply.started": "2021-04-14T14:03+0200"
    },
    "nbgrader": {
     "cell_type": "code",
     "checksum": "0aa18ca35c03c87a97a98c303b3f0451",
     "grade": true,
     "grade_id": "aufgabe2-test",
     "locked": true,
     "points": 8,
     "schema_version": 3,
     "solution": false,
     "task": false
    },
    "tags": []
   },
   "outputs": [],
   "source": [
    "val tests = mapOf(\"2053-04-09\" to 544898, \"2052-12-27\" to 21566, \"2053-01-18\" to 74406, \"2054-03-05\" to -1, \"2050-01-03\" to -1, \"2054-23-0\" to -1)\n",
    "for ((datum, anzahl) in tests){\n",
    "    if (daten.gibAnzahlDosen(datum, \"DE\") != anzahl)\n",
    "        throw AssertionError(\"daten.gibAnzahlDosen($datum): ${daten.gibAnzahlDosen(datum, \"DE\")} != ${anzahl}\")\n",
    "}"
   ]
  },
  {
   "cell_type": "markdown",
   "id": "defensive-parallel",
   "metadata": {
    "deletable": false,
    "editable": false,
    "nbgrader": {
     "cell_type": "markdown",
     "checksum": "3ea244b9dcf637f355abb01e7af28b89",
     "grade": false,
     "grade_id": "markdown-5",
     "locked": true,
     "schema_version": 3,
     "solution": false,
     "task": false
    }
   },
   "source": [
    "## Verbesserung der Daten I\n",
    "Mit der Methode `gibAnzahlDosen(datum, region)` kann nun die Differenz der Dosen zum Vortag ausgerechnet werden. Da der Datensatz einige Lücken bezüglich des Eintrags `dosen_differenz_zum_vortag` aufweist, sollen diese jetzt gefüllt werden. Dazu bauen wir uns einen neuen Datensatz `datenVollstaendig` in der Funktion `vervollstaenigeLuecken(daten)` zusammen. Das Grundgerüst des `DataFrame`s ist bereits vorbereitet. Eine Zeile kann mit der Methode [`bindRows(map)`](https://holgerbrandl.github.io/krangl/javadoc/krangl/krangl/bind-rows.html) angehängt werden."
   ]
  },
  {
   "cell_type": "code",
   "execution_count": null,
   "id": "extraordinary-routine",
   "metadata": {
    "deletable": false,
    "execution": {
     "iopub.execute_input": "2021-04-14T14:03+0200",
     "iopub.status.busy": "2021-04-14T14:03+0200",
     "iopub.status.idle": "2021-04-14T14:03+0200",
     "shell.execute_reply": "2021-04-14T14:03+0200"
    },
    "nbgrader": {
     "cell_type": "code",
     "checksum": "95b3b51293096dca48339f521c4bb75d",
     "grade": false,
     "grade_id": "aufgabe3-code",
     "locked": false,
     "schema_version": 3,
     "solution": true,
     "task": false
    },
    "tags": []
   },
   "outputs": [],
   "source": [
    "fun vervollstaendigeLuecken(daten: DataFrame): DataFrame {\n",
    "    var datenVollstaendig: DataFrame = emptyDataFrame()\n",
    "    // YOUR CODE HERE\n",
    "    return datenVollstaendig\n",
    "}"
   ]
  },
  {
   "cell_type": "code",
   "execution_count": null,
   "id": "f9957b7b",
   "metadata": {
    "deletable": false,
    "editable": false,
    "nbgrader": {
     "cell_type": "code",
     "checksum": "50ab577beff1c90bb837cb56f05ea7f8",
     "grade": false,
     "grade_id": "aufgabe3-vorbereitung",
     "locked": true,
     "schema_version": 3,
     "solution": false,
     "task": false
    }
   },
   "outputs": [],
   "source": [
    "val testdaten = vervollstaendigeLuecken(daten)"
   ]
  },
  {
   "cell_type": "code",
   "execution_count": null,
   "id": "equipped-dimension",
   "metadata": {
    "deletable": false,
    "editable": false,
    "execution": {
     "iopub.execute_input": "2021-04-14T14:03+0200",
     "iopub.status.busy": "2021-04-14T14:03+0200",
     "iopub.status.idle": "2021-04-14T14:04+0200",
     "shell.execute_reply": "2021-04-14T14:04+0200",
     "shell.execute_reply.started": "2021-04-14T14:03+0200"
    },
    "nbgrader": {
     "cell_type": "code",
     "checksum": "648db6532b4aef38e963aa4b1d8fc940",
     "grade": true,
     "grade_id": "aufgabe3-test",
     "locked": true,
     "points": 6,
     "schema_version": 3,
     "solution": false,
     "task": false
    },
    "tags": []
   },
   "outputs": [],
   "source": [
    "//Hinweis: dieser Test kann eine längere Zeit als gewohnt benötigen, da der komplette Datensatz durchlaufen wird.\n",
    "val luecken = (testdaten.filterByRow { it[\"metric\"] == \"dosen_differenz_zum_vortag\" && it[\"value\"] == \"\" }.count().get(0).get(0) as Int)\n",
    "if (luecken > 0)\n",
    "    throw AssertionError(\"Anzahl der Lücken: ${luecken} > 0\")\n",
    "if(daten.nrow != testdaten.nrow)\n",
    "    throw AssertionError(\"Es wurden nicht alle Zeilen des Datensatzes übernommen: ${daten.nrow} != ${testdaten.nrow}\")\n",
    "daten = testdaten"
   ]
  },
  {
   "cell_type": "markdown",
   "id": "0c9d66f5",
   "metadata": {
    "deletable": false,
    "editable": false,
    "nbgrader": {
     "cell_type": "markdown",
     "checksum": "0f478db534418b50462160b4c1d84db1",
     "grade": false,
     "grade_id": "markdown-6",
     "locked": true,
     "schema_version": 3,
     "solution": false,
     "task": false
    }
   },
   "source": [
    "## Verbesserung der Daten II\n",
    "Bei genauerer Betrachtung der Daten, mit einem genaueren Blick auf die Datentypen der Spalten, fällt auf, dass alle Werte der Spalte *value* den Datentyp `String` besitzen. Da aber in dieser Spalte nur Fließkommazahlen oder nichts vorzufinden sind, würde der `Double` einen besseren Datentyp darstellen. Passen Sie Ihre Lösung von *Verbesserung der Daten I* insoweit an, dass in der Spalte *value* nur noch Werte des Datentyps `Double` zu finden sind, falls ein gültiger Wert enthalten ist. Ansonsten soll `null` eingefügt werden. Schreiben Sie die Lösung zu dieser Aufgabe in die Funktion `vervollstaendigeDaten(daten)`."
   ]
  },
  {
   "cell_type": "code",
   "execution_count": null,
   "id": "later-impact",
   "metadata": {
    "deletable": false,
    "execution": {
     "iopub.execute_input": "2021-04-14T14:04+0200",
     "iopub.status.busy": "2021-04-14T14:04+0200",
     "iopub.status.idle": "2021-04-14T14:05+0200",
     "shell.execute_reply": "2021-04-14T14:05+0200",
     "shell.execute_reply.started": "2021-04-14T14:04+0200"
    },
    "nbgrader": {
     "cell_type": "code",
     "checksum": "8335976cceda18e791dfaf579689e07d",
     "grade": false,
     "grade_id": "aufgabe4-code",
     "locked": false,
     "schema_version": 3,
     "solution": true,
     "task": false
    },
    "tags": []
   },
   "outputs": [],
   "source": [
    "fun vervollstaendigeDaten(daten: DataFrame): DataFrame {\n",
    "    var datenVollstaendig: DataFrame = emptyDataFrame()\n",
    "    // YOUR CODE HERE\n",
    "    return datenVollstaendig\n",
    "}"
   ]
  },
  {
   "cell_type": "code",
   "execution_count": null,
   "id": "62ecd320",
   "metadata": {
    "deletable": false,
    "editable": false,
    "nbgrader": {
     "cell_type": "code",
     "checksum": "9898b0dbe3950e720612064287dfa944",
     "grade": false,
     "grade_id": "aufgabe4-vorbereitung",
     "locked": true,
     "schema_version": 3,
     "solution": false,
     "task": false
    }
   },
   "outputs": [],
   "source": [
    "val testdaten = vervollstaendigeDaten(daten)"
   ]
  },
  {
   "cell_type": "code",
   "execution_count": null,
   "id": "3dc23382",
   "metadata": {
    "deletable": false,
    "editable": false,
    "nbgrader": {
     "cell_type": "code",
     "checksum": "e4ffe46736e1ffcac2188cd4e027c726",
     "grade": true,
     "grade_id": "aufgabe4-test",
     "locked": true,
     "points": 3,
     "schema_version": 3,
     "solution": false,
     "task": false
    }
   },
   "outputs": [],
   "source": [
    "//Hinweis: dieser Test kann eine längere Zeit als gewohnt benötigen, da der komplette Datensatz durchlaufen wird.\n",
    "val luecken = (testdaten.filterByRow { it[\"metric\"] == \"dosen_differenz_zum_vortag\" && it[\"value\"] == null}.count().get(0).get(0) as Int)\n",
    "if (luecken > 0)\n",
    "    throw AssertionError(\"Anzahl der Lücken: ${luecken} > 0\")\n",
    "if (testdaten.get(\"value\")::class.simpleName != \"DoubleCol\")\n",
    "    throw AssertionError(\"Datentyp der Spalte value: ${testdaten.get(\"value\")::class.simpleName} != DoubleCol\")\n",
    "if(daten.nrow != testdaten.nrow)\n",
    "    throw AssertionError(\"Es wurden nicht alle Zeilen des Datensatzes übernommen: ${daten.nrow} != ${testdaten.nrow}\")\n",
    "daten = testdaten    "
   ]
  },
  {
   "cell_type": "markdown",
   "id": "victorian-thong",
   "metadata": {
    "deletable": false,
    "editable": false,
    "execution": {
     "iopub.execute_input": "2021-04-11T16:33+0200",
     "iopub.status.busy": "2021-04-11T16:33+0200",
     "iopub.status.idle": "2021-04-11T16:33+0200",
     "shell.execute_reply": "2021-04-11T16:33+0200",
     "shell.execute_reply.started": "2021-04-11T16:33+0200"
    },
    "nbgrader": {
     "cell_type": "markdown",
     "checksum": "6d74866514a18b097b88e86802f2bd98",
     "grade": false,
     "grade_id": "markdown-7",
     "locked": true,
     "schema_version": 3,
     "solution": false,
     "task": false
    },
    "tags": []
   },
   "source": [
    "## Wann wurden am meisten Dosen mit der Indikaton Alter verimpft?\n",
    "In den Daten ist außerdem angegeben aus welchem Grund eine Impfung verabreicht wurde. Implementieren Sie eine Erweiterungsmethode `gibDatumAlter()`, die das Datum des Tages zurückgibt, an dem am meisten Dosen aufgrund der Indikation Alter verabreicht wurden."
   ]
  },
  {
   "cell_type": "code",
   "execution_count": null,
   "id": "former-mattress",
   "metadata": {
    "deletable": false,
    "execution": {
     "iopub.execute_input": "2021-04-14T14:04+0200",
     "iopub.status.busy": "2021-04-14T14:04+0200",
     "iopub.status.idle": "2021-04-14T14:04+0200",
     "shell.execute_reply": "2021-04-14T14:04+0200"
    },
    "nbgrader": {
     "cell_type": "code",
     "checksum": "eb05f7ac295d30cddba0e9757a396ab4",
     "grade": false,
     "grade_id": "aufgabe5-code",
     "locked": false,
     "schema_version": 3,
     "solution": true,
     "task": false
    }
   },
   "outputs": [],
   "source": [
    "fun DataFrame.gibDatumAlter(): String {\n",
    "    // YOUR CODE HERE\n",
    "}"
   ]
  },
  {
   "cell_type": "code",
   "execution_count": null,
   "id": "e642aff7",
   "metadata": {
    "deletable": false,
    "editable": false,
    "nbgrader": {
     "cell_type": "code",
     "checksum": "929509e182a5b4323461166b860ad230",
     "grade": true,
     "grade_id": "aufgabe5-test",
     "locked": true,
     "points": 6,
     "schema_version": 3,
     "solution": false,
     "task": false
    }
   },
   "outputs": [],
   "source": [
    "if (daten.gibDatumAlter() != \"2053-04-05\")\n",
    "    throw AssertionError(\"testdaten.gibDatumAlter(): ${testdaten.gibDatumAlter()} != 2053-04-05\")"
   ]
  },
  {
   "cell_type": "markdown",
   "id": "dangerous-cornell",
   "metadata": {
    "deletable": false,
    "editable": false,
    "nbgrader": {
     "cell_type": "markdown",
     "checksum": "d6242abdf5c6deb33ddcb539ef11a082",
     "grade": false,
     "grade_id": "markdown-8",
     "locked": true,
     "schema_version": 3,
     "solution": false,
     "task": false
    }
   },
   "source": [
    "## Wer wurde eigentlich geimpft?\n",
    "In dieser Aufgabe soll der Frage nachgegangen werden, wem eigentlich Dosen verabreicht wurden. In den Daten gibt es dazu 4 Metriken: *indikation_alter_dosen*, *indikation_beruf_dosen*, *indikation_medizinisch_dosen*, *indikation_pflegeheim_dosen*. Implementieren Sie eine Erweiterungsmethode `gibIndikationen()` der Klasse `DataFrame`, die eine Liste des Datentyps `List<Map<String, Map<String, Any>>>` zurückgibt. In dieser soll für jedes Datum eine Map, in der die verschiedenenen Indikationen der Schlüssel (Alter, Beruf, Medizinisch, Pflegeheim) sind, existieren. Die Werte zu den Indikationen sind die an diesem Tag verimpfte Dosen der Indikation. Außerdem soll unter dem Schlüssel *Max* eine weitere Map zu finden sein, die als Schlüssel die Indikation mit den meisten Dosen an diesem Datum und als Wert die Anzahl besitzt.  \n",
    "Beispiel:  \n",
    "[{2052-12-27={Alter=5833.0, Beruf=7618.0, Medizinisch=962.0, Pflegeheim=11646.0, Max={Pflegeheim=11646.0}}}, {2052-12-28={Alter=6399.0, Beruf=7346.0, Medizinisch=699.0, Pflegeheim=10121.0, Max={Pflegeheim=10121.0}}}, ... ]"
   ]
  },
  {
   "cell_type": "code",
   "execution_count": null,
   "id": "surrounded-remove",
   "metadata": {
    "deletable": false,
    "execution": {
     "iopub.execute_input": "2021-04-14T14:04+0200",
     "iopub.status.busy": "2021-04-14T14:04+0200",
     "iopub.status.idle": "2021-04-14T14:04+0200",
     "shell.execute_reply": "2021-04-14T14:04+0200"
    },
    "nbgrader": {
     "cell_type": "code",
     "checksum": "c483f167d3717d16a23b3c86b5b1b38a",
     "grade": false,
     "grade_id": "aufgabe6-code",
     "locked": false,
     "schema_version": 3,
     "solution": true,
     "task": false
    }
   },
   "outputs": [],
   "source": [
    "fun DataFrame.gibIndikationen(): List<Map<String, Map<String, Any>>> {\n",
    "    // YOUR CODE HERE\n",
    "}"
   ]
  },
  {
   "cell_type": "code",
   "execution_count": null,
   "id": "operational-repair",
   "metadata": {
    "deletable": false,
    "editable": false,
    "execution": {
     "iopub.execute_input": "2021-04-14T14:04+0200",
     "iopub.status.busy": "2021-04-14T14:04+0200",
     "iopub.status.idle": "2021-04-14T14:04+0200",
     "shell.execute_reply": "2021-04-14T14:04+0200",
     "shell.execute_reply.started": "2021-04-14T14:04+0200"
    },
    "nbgrader": {
     "cell_type": "code",
     "checksum": "2f6e27ecf11943754875044a9cd4a813",
     "grade": true,
     "grade_id": "aufgabe6-test",
     "locked": true,
     "points": 12,
     "schema_version": 3,
     "solution": false,
     "task": false
    },
    "tags": []
   },
   "outputs": [],
   "source": [
    "val testdaten = daten.gibIndikationen()\n",
    "val testZeilen = listOf(\"{2052-12-27={Alter=5833.0, Beruf=7618.0, Medizinisch=962.0, Pflegeheim=11646.0, Max={Pflegeheim=11646.0}}}\", \"{2052-12-28={Alter=6399.0, Beruf=7346.0, Medizinisch=699.0, Pflegeheim=10121.0, Max={Pflegeheim=10121.0}}}\")\n",
    "for (i in 0 until testZeilen.size){\n",
    "    if (testdaten[i].toString() != testZeilen[i])\n",
    "        throw AssertionError(\"${testdaten[i].toString()} != ${testZeilen[i]}\")\n",
    "}\n",
    "\n",
    "testdaten.forEach {\n",
    "    val max = it.values.toList()[0].values.take(4).toList().maxByOrNull { it as Double }\n",
    "    var string = it.values.toList()[0].values.drop(4)[0].toString()\n",
    "    val (indikator, dosen) = string.substring(1, string.length-1).split(\"=\")\n",
    "    if(max != dosen.toDouble())\n",
    "        throw AssertionError(\"Maximum in Zeile $it: $dosen != $max\")\n",
    "}"
   ]
  },
  {
   "cell_type": "markdown",
   "id": "54e39aa1",
   "metadata": {
    "deletable": false,
    "editable": false,
    "nbgrader": {
     "cell_type": "markdown",
     "checksum": "f476a686b4016feb5b4491f173b4339a",
     "grade": false,
     "grade_id": "markdown-9",
     "locked": true,
     "schema_version": 3,
     "solution": false,
     "task": false
    }
   },
   "source": [
    "## Mit dem neuen Datensatz arbeiten\n",
    "In der letzten Aufgabe wurde ein neuer Datensatz erstellt, der die Indikation der Impfungen in Verbindung mit den Tagen setzt und das Maximum bereitstellt. Nun sollen Sie eine Funktion höherer Ordnung `analysiereIndikation` implementieren, die diese Daten variabel wieder in seine Einzelteile zerlegen kann. Der Funktion sollen die Daten nach der Verarbeitung mit `gibIndikationen()` übergeben werden. Die Rückgabe soll eine Funktion darstellen, die ein Datum als Zeichenkette und die Indikation (Alter, Beruf, Medizinisch, Pflegeheim, Max) übergeben bekommt. Die Rückgabe stellt den Wert, der der Indikation zugeordnet ist dar (`Any`).  \n",
    "Falls Sie keine Lösung bei der Implementierung der Erweiterungsmethode `gibIndikationen()` gefunden haben, können Sie den vorbereiteten Datensatz stattdessen verwenden.\n",
    "\n",
    "Beispielaufruf: `analysiereIndikation(daten.gibIndikationen())(\"2052-12-27\", \"Beruf\")`, Rückgabe: `7618.0`"
   ]
  },
  {
   "cell_type": "code",
   "execution_count": null,
   "id": "c839373b",
   "metadata": {
    "deletable": false,
    "nbgrader": {
     "cell_type": "code",
     "checksum": "0ac56a1243cb1c55e2a82f004c235d07",
     "grade": false,
     "grade_id": "aufgabe7-code",
     "locked": false,
     "schema_version": 3,
     "solution": true,
     "task": false
    }
   },
   "outputs": [],
   "source": [
    "// YOUR CODE HERE"
   ]
  },
  {
   "cell_type": "code",
   "execution_count": null,
   "id": "d16cb8ec",
   "metadata": {
    "deletable": false,
    "nbgrader": {
     "cell_type": "code",
     "checksum": "ec6987025801dd325f60a85ca9912faf",
     "grade": false,
     "grade_id": "aufgabe7-auswahl",
     "locked": false,
     "schema_version": 3,
     "solution": true,
     "task": false
    }
   },
   "outputs": [],
   "source": [
    "//Wählen Sie aus, welche Daten im Test verwendet werden sollen, indem Sie die entpreschende Zeile auskommentieren\n",
    "// YOUR CODE HERE\n",
    "val testdaten = listOf(mapOf(\"2052-12-27\" to mapOf(\"Alter\" to 5833.0, \"Beruf\" to 7618.0, \"Medizinisch\" to 962.0, \"Pflegeheim\" to 11646.0, \"Max\" to mapOf(\"Pflegeheim\" to 11646.0))), mapOf(\"2052-12-28\" to mapOf(\"Alter\" to 6399.0, \"Beruf\" to 7346.0, \"Medizinisch\" to 699.0, \"Pflegeheim\" to 10121.0, \"Max\" to mapOf(\"Pflegeheim\" to 10121.0))))\n",
    "//val testdaten = daten.gibIndikationen()"
   ]
  },
  {
   "cell_type": "code",
   "execution_count": null,
   "id": "98084d11",
   "metadata": {
    "deletable": false,
    "editable": false,
    "nbgrader": {
     "cell_type": "code",
     "checksum": "8330a3236555901fbfa34f888d98d762",
     "grade": true,
     "grade_id": "aufgabe7-test",
     "locked": true,
     "points": 8,
     "schema_version": 3,
     "solution": false,
     "task": false
    }
   },
   "outputs": [],
   "source": [
    "val testdaten1 = listOf(mapOf(\"Alter\" to 5833.0), mapOf(\"Beruf\" to 7618.0), mapOf(\"Medizinisch\" to 962.0), mapOf(\"Pflegeheim\" to 11646.0), mapOf(\"Max\" to mapOf(\"Pflegeheim\" to 11646.0)))\n",
    "for (value in testdaten1){\n",
    "    for((indikation, wert) in value){\n",
    "        if(analysiereIndikation(testdaten)(\"2052-12-27\", indikation) != wert)\n",
    "            throw AssertionError(\"analysiereIndikation(testdaten)('2052-12-27', '$indikation'): ${analysiereIndikation(testdaten)(\"2052-12-27\", indikation)} != $wert\")\n",
    "    }\n",
    "}\n",
    "\n",
    "val testdaten2 = listOf(mapOf(\"Alter\" to 6399.0), mapOf(\"Beruf\" to 7346.0), mapOf(\"Medizinisch\" to 699.0), mapOf(\"Pflegeheim\" to 10121.0), mapOf(\"Max\" to mapOf(\"Pflegeheim\" to 10121.0)))\n",
    "for (value in testdaten2){\n",
    "    for((indikation, wert) in value){\n",
    "        if(analysiereIndikation(testdaten)(\"2052-12-28\", indikation) != wert)\n",
    "            throw AssertionError(\"analysiereIndikation(testdaten)('2052-12-28', '$indikation'): ${analysiereIndikation(testdaten)(\"2052-12-27\", indikation)} != $wert\")\n",
    "    }\n",
    "}"
   ]
  }
 ],
 "metadata": {
  "kernelspec": {
   "display_name": "Kotlin",
   "language": "kotlin",
   "name": "kotlin"
  },
  "language_info": {
   "codemirror_mode": "text/x-kotlin",
   "file_extension": ".kt",
   "mimetype": "text/x-kotlin",
   "name": "kotlin",
   "nbconvert_exporter": "",
   "pygments_lexer": "kotlin",
   "version": "1.5.20-dev-5817"
  }
 },
 "nbformat": 4,
 "nbformat_minor": 5
}
