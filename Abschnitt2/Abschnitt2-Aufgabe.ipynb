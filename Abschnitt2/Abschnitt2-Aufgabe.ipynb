{
 "cells": [
  {
   "cell_type": "markdown",
   "id": "exterior-sessions",
   "metadata": {
    "nbgrader": {
     "grade": false,
     "grade_id": "markdown-1",
     "locked": true,
     "schema_version": 3,
     "solution": false,
     "task": false
    }
   },
   "source": [
    "# Aufgabe - Impfdaten\n",
    "Kurz nach dem Bekanntwerden des Virus haben die ersten Länder auf Erde-14 mit der Impfstoffentwicklung begonnen, da allen klar war, dass das Virus nur mit einer Herdenimmunität, beispielsweise einer Impfung, kontrollieren werden kann. Ende des Jahres 2052 waren die ersten Impfstoffe bereit für die Bevölkerung. Die ersten drei zugelassenen Impfstoffe sind von den Unternehmen Bioneca, Moderntech und Asterna. Da das Land Dendenland eine ähnliche Gesellschaft zu Deutschland aufweist, werden Sie zusätzlich beauftragt den Impfablauf auszuwerten, um aus möglichen Fehlern zu lernen. Dazu wird Ihnen der folgende Datensatz bereitgestellt:"
   ]
  },
  {
   "cell_type": "code",
   "execution_count": 1,
   "id": "corresponding-plenty",
   "metadata": {
    "execution": {
     "iopub.execute_input": "2021-04-16T12:11+0200",
     "iopub.status.busy": "2021-04-16T12:11+0200",
     "iopub.status.idle": "2021-04-16T12:11+0200",
     "shell.execute_reply": "2021-04-16T12:11+0200",
     "shell.execute_reply.started": "2021-04-16T12:11+0200"
    },
    "nbgrader": {
     "grade": false,
     "grade_id": "daten-einlesen",
     "locked": true,
     "schema_version": 3,
     "solution": false,
     "task": false
    },
    "tags": []
   },
   "outputs": [],
   "source": [
    "%use krangl(0.17)\n",
    "val datenRaw = DataFrame.readCSV(\"https://raw.githubusercontent.com/Limatationz/kotlin-mooc/main/Abschnitt2/daten/impfzahlenDendenland.csv\") //Liest die csv-Datei und wandelt sie in einen DataFrame um\n",
    "var daten = datenRaw.filterByRow { \n",
    "    (!(it[\"metric\"]as String).contains(\"erst\") && !(it[\"metric\"]as String).contains(\"voll\") && !(it[\"metric\"]as String).contains(\"impfstelle\")) || it[\"metric\"] == \"personen_erst_kumulativ\" || it[\"metric\"] == \"personen_voll_kumulativ\"\n",
    "}"
   ]
  },
  {
   "cell_type": "markdown",
   "id": "endangered-stockholm",
   "metadata": {
    "nbgrader": {
     "grade": false,
     "grade_id": "markdown-2",
     "locked": true,
     "schema_version": 3,
     "solution": false,
     "task": false
    }
   },
   "source": [
    "Der Aufbau der Daten ist folgendermaßen:"
   ]
  },
  {
   "cell_type": "code",
   "execution_count": 6,
   "id": "arbitrary-finland",
   "metadata": {
    "execution": {
     "iopub.execute_input": "2021-04-16T12:11+0200",
     "iopub.status.busy": "2021-04-16T12:11+0200",
     "iopub.status.idle": "2021-04-16T12:11+0200",
     "shell.execute_reply": "2021-04-16T12:11+0200",
     "shell.execute_reply.started": "2021-04-16T12:11+0200"
    },
    "nbgrader": {
     "grade": false,
     "grade_id": "daten-kennenlernen-1",
     "locked": true,
     "schema_version": 3,
     "solution": false,
     "task": false
    },
    "tags": []
   },
   "outputs": [
    {
     "data": {
      "text/html": [
       "<html><body><table><tr><th style=\"text-align:left\">Name</th><th style=\"text-align:left\">Type</th><th style=\"text-align:left\">Values</th></tr></tr><td style=\"text-align:left\">date</td><td style=\"text-align:left\">[Str]</td><td style=\"text-align:left\">2052-12-27, 2052-12-27, 2052-12-27, 2052-12-27, 2052-12-27, 2052-12-27, 2052-12-27, 2052-12-27, 2052...</td></tr></tr><td style=\"text-align:left\">publication_date</td><td style=\"text-align:left\">[Str]</td><td style=\"text-align:left\">2052-12-28 16:15, 2052-12-28 16:15, 2052-12-28 16:15, 2052-12-28 16:15, 2052-12-28 16:15, 2052-12-28...</td></tr></tr><td style=\"text-align:left\">region</td><td style=\"text-align:left\">[Str]</td><td style=\"text-align:left\">BW, BW, BW, BW, BW, BW, BW, BW, BW, BW, BW, BW, BW, BW, BW, BY, BY, BY, BY, BY, BY, BY, BY, BY, BY, ...</td></tr></tr><td style=\"text-align:left\">metric</td><td style=\"text-align:left\">[Str]</td><td style=\"text-align:left\">dosen_kumulativ, personen_erst_kumulativ, personen_voll_kumulativ, dosen_bioneca_kumulativ, dosen_mo...</td></tr></tr><td style=\"text-align:left\">value</td><td style=\"text-align:left\">[Str]</td><td style=\"text-align:left\">2084, 2084, 0, 2084, 0, 0, 624, 964, 151, 0, , 0.018774108378495392, 0.18774108378495394, , , 3389, ...</td></tr></table>DataFrame with 22440 observations\n",
       "</body></html>"
      ]
     },
     "execution_count": 6,
     "metadata": {},
     "output_type": "execute_result"
    }
   ],
   "source": [
    "daten.schema()"
   ]
  },
  {
   "cell_type": "code",
   "execution_count": 7,
   "id": "municipal-former",
   "metadata": {
    "execution": {
     "iopub.execute_input": "2021-04-16T12:11+0200",
     "iopub.status.busy": "2021-04-16T12:11+0200",
     "iopub.status.idle": "2021-04-16T12:11+0200",
     "shell.execute_reply": "2021-04-16T12:11+0200",
     "shell.execute_reply.started": "2021-04-16T12:11+0200"
    },
    "nbgrader": {
     "grade": false,
     "grade_id": "daten-kennenlernen-2",
     "locked": true,
     "schema_version": 3,
     "solution": false,
     "task": false
    },
    "tags": []
   },
   "outputs": [
    {
     "data": {
      "text/html": [
       "<html><body><table><tr><th style=\"text-align:left\">date</th><th style=\"text-align:left\">publication_date</th><th style=\"text-align:left\">region</th><th style=\"text-align:left\">metric</th><th style=\"text-align:left\">value</th></tr><tr><td style=\"text-align:left\" title=\"2052-12-27\">2052-12-27</td><td style=\"text-align:left\" title=\"2052-12-28 16:15\">2052-12-28 16:15</td><td style=\"text-align:left\" title=\"BW\">BW</td><td style=\"text-align:left\" title=\"dosen_kumulativ\">dosen_kumulativ</td><td style=\"text-align:left\" title=\"2084\">2084</td></tr><tr><td style=\"text-align:left\" title=\"2052-12-27\">2052-12-27</td><td style=\"text-align:left\" title=\"2052-12-28 16:15\">2052-12-28 16:15</td><td style=\"text-align:left\" title=\"BW\">BW</td><td style=\"text-align:left\" title=\"personen_erst_kumulativ\">personen_erst_kumulativ</td><td style=\"text-align:left\" title=\"2084\">2084</td></tr><tr><td style=\"text-align:left\" title=\"2052-12-27\">2052-12-27</td><td style=\"text-align:left\" title=\"2052-12-28 16:15\">2052-12-28 16:15</td><td style=\"text-align:left\" title=\"BW\">BW</td><td style=\"text-align:left\" title=\"personen_voll_kumulativ\">personen_voll_kumulativ</td><td style=\"text-align:left\" title=\"0\">0</td></tr><tr><td style=\"text-align:left\" title=\"2052-12-27\">2052-12-27</td><td style=\"text-align:left\" title=\"2052-12-28 16:15\">2052-12-28 16:15</td><td style=\"text-align:left\" title=\"BW\">BW</td><td style=\"text-align:left\" title=\"dosen_bioneca_kumulativ\">dosen_bioneca_kumulativ</td><td style=\"text-align:left\" title=\"2084\">2084</td></tr><tr><td style=\"text-align:left\" title=\"2052-12-27\">2052-12-27</td><td style=\"text-align:left\" title=\"2052-12-28 16:15\">2052-12-28 16:15</td><td style=\"text-align:left\" title=\"BW\">BW</td><td style=\"text-align:left\" title=\"dosen_moderntech_kumulativ\">dosen_moderntech_kumulativ</td><td style=\"text-align:left\" title=\"0\">0</td></tr><tr><td style=\"text-align:left\" title=\"2052-12-27\">2052-12-27</td><td style=\"text-align:left\" title=\"2052-12-28 16:15\">2052-12-28 16:15</td><td style=\"text-align:left\" title=\"BW\">BW</td><td style=\"text-align:left\" title=\"dosen_asterna_kumulativ\">dosen_asterna_kumulativ</td><td style=\"text-align:left\" title=\"0\">0</td></tr></table><p>... with 14 more rows. Shape: 20 x 5. \n",
       "</p></body></html>"
      ]
     },
     "execution_count": 7,
     "metadata": {},
     "output_type": "execute_result"
    }
   ],
   "source": [
    "daten.head(20)"
   ]
  },
  {
   "cell_type": "markdown",
   "id": "ca9baf4a",
   "metadata": {
    "nbgrader": {
     "grade": false,
     "grade_id": "daten-kennenlernen-3",
     "locked": true,
     "schema_version": 3,
     "solution": false,
     "task": false
    }
   },
   "source": [
    "**Hinweis**: In diesem Übungsblatt wird wieder die Bibliothek _krangl_ verwendet. Beispiele finden Sie entweder in der Theorie oder in dem [offiziellen Repository](https://github.com/holgerbrandl/krangl#examples). Auf die Dokumentation können Sie [hier](http://holgerbrandl.github.io/krangl/javadoc/krangl/krangl/index.html) zugreifen."
   ]
  },
  {
   "cell_type": "markdown",
   "id": "liberal-satellite",
   "metadata": {
    "nbgrader": {
     "grade": false,
     "grade_id": "markdown-3",
     "locked": true,
     "schema_version": 3,
     "solution": false,
     "task": false
    }
   },
   "source": [
    "## Die Daten kennenlernen\n",
    "In dieser Aufgabe sollen die Daten und deren Struktur kennengelernt werden. Es ist zu erkennen, dass in der Spalte *metric* eine Liste an Beschreibungen für die Daten, die in *value* zu finden sein, vorliegt. Implementieren Sie eine Erweiterungsmethode `gibBeschreibungen()` der Klasse `DataFrame`, die alle Beschreibungen in einer Liste zurückgibt.  \n",
    "Beispiel: [dosen_kumulativ, personen_erst_kumulativ, personen_voll_kumulativ, ...]"
   ]
  },
  {
   "cell_type": "code",
   "execution_count": 8,
   "id": "senior-cement",
   "metadata": {
    "execution": {
     "iopub.execute_input": "2021-04-14T14:03+0200",
     "iopub.status.busy": "2021-04-14T14:03+0200",
     "iopub.status.idle": "2021-04-14T14:03+0200",
     "shell.execute_reply": "2021-04-14T14:03+0200"
    },
    "nbgrader": {
     "grade": false,
     "grade_id": "aufgabe1-code",
     "locked": false,
     "schema_version": 3,
     "solution": true,
     "task": false
    },
    "tags": []
   },
   "outputs": [],
   "source": [
    "fun DataFrame.gibBeschreibungen(): List<String>{\n",
    "    // BEGIN SOLUTION\n",
    "    return this.rows.groupBy { it[\"metric\"] as String }.keys.toList()\n",
    "    // return (this.cols.get(3).toStrings() as Array<String>).toSet().toList() | Alternative Lösung\n",
    "    // END SOLUTION\n",
    "}"
   ]
  },
  {
   "cell_type": "code",
   "execution_count": 9,
   "id": "south-commons",
   "metadata": {
    "execution": {
     "iopub.execute_input": "2021-04-14T14:03+0200",
     "iopub.status.busy": "2021-04-14T14:03+0200",
     "iopub.status.idle": "2021-04-14T14:03+0200",
     "shell.execute_reply": "2021-04-14T14:03+0200",
     "shell.execute_reply.started": "2021-04-14T14:03+0200"
    },
    "nbgrader": {
     "grade": true,
     "grade_id": "aufgabe1-test",
     "locked": true,
     "points": 2,
     "schema_version": 3,
     "solution": false,
     "task": false
    },
    "tags": []
   },
   "outputs": [],
   "source": [
    "val ergebnis = listOf(\"dosen_kumulativ\", \"personen_erst_kumulativ\", \"personen_voll_kumulativ\", \"dosen_bioneca_kumulativ\", \"dosen_moderntech_kumulativ\", \"dosen_asterna_kumulativ\", \"indikation_alter_dosen\", \"indikation_beruf_dosen\", \"indikation_medizinisch_dosen\", \"indikation_pflegeheim_dosen\", \"dosen_differenz_zum_vortag\", \"impf_quote_dosen\", \"impf_inzidenz_dosen\", \"dosen_kumulativ_alter_unter60\", \"dosen_kumulativ_alter_60plus\")\n",
    "if(daten.gibBeschreibungen() != ergebnis)\n",
    "    throw AssertionError(\"daten.gibBeschreibungen(): ${daten.gibBeschreibungen()} != ${ergebnis}\")"
   ]
  },
  {
   "cell_type": "markdown",
   "id": "average-filling",
   "metadata": {
    "nbgrader": {
     "grade": false,
     "grade_id": "markdown-4",
     "locked": true,
     "schema_version": 3,
     "solution": false,
     "task": false
    }
   },
   "source": [
    "## Wieviele Dosen wurden an einem bestimmten Tag verimpft?\n",
    "Implementieren Sie eine Erweiterungsmethode `gibAnzahlDosen(datum, region)` der Klasse `DataFrame`, die die Anzahl der Impfdosen, welche an dem übergebenen Datum und in der übergebenen Region verimpft wurden, zurückgibt. Zur Vereinfachung ist anzunehmen, dass das Datum als `String` im Format `yyyy-mm-dd` und die Region als `String` mit zwei Buchstaben übergeben werden. In dieser Aufgabe soll nicht mit dem Eintrag `dosen_differenz_zum_vortag` gearbeitet werden, da die Daten unvollständig sind (näheres dazu in der nächsten Aufgabe). Ist das Datum nicht in den Daten vorhanden, soll `-1` zurückgegeben werden."
   ]
  },
  {
   "cell_type": "code",
   "execution_count": 10,
   "id": "early-object",
   "metadata": {
    "execution": {
     "iopub.execute_input": "2021-04-14T14:03+0200",
     "iopub.status.busy": "2021-04-14T14:03+0200",
     "iopub.status.idle": "2021-04-14T14:03+0200",
     "shell.execute_reply": "2021-04-14T14:03+0200"
    },
    "nbgrader": {
     "grade": false,
     "grade_id": "aufgabe2-code",
     "locked": false,
     "schema_version": 3,
     "solution": true,
     "task": false
    },
    "tags": []
   },
   "outputs": [],
   "source": [
    "fun DataFrame.gibAnzahlDosen(datum: String, region: String): Int {\n",
    "    // BEGIN SOLUTION \n",
    "    val dosenKumulativ = daten.filterByRow { it[\"metric\"] == \"dosen_kumulativ\" && it[\"region\"] == region }.addRowNumber()\n",
    "    val rowNumber = dosenKumulativ.rows.find { it[\"date\"] == datum }?.get(\"row_number\")\n",
    "    val rowGestern = (rowNumber as Int?)?.minus(1)\n",
    "    if (rowGestern == 0){\n",
    "        return (dosenKumulativ.rows.find { it[\"row_number\"] == rowNumber }?.get(\"value\") as String).toInt()\n",
    "    }\n",
    "    else {\n",
    "        val dosenHeute = dosenKumulativ.rows.find { it[\"row_number\"] == rowNumber }?.get(\"value\") as String?\n",
    "        val dosenGestern = dosenKumulativ.rows.find { it[\"row_number\"] == rowGestern }?.get(\"value\") as String?\n",
    "        if (dosenHeute != null && dosenGestern != null){\n",
    "            return dosenHeute.toInt() - dosenGestern.toInt()\n",
    "        }\n",
    "        return -1\n",
    "    }\n",
    "    // END SOLUTION\n",
    "}"
   ]
  },
  {
   "cell_type": "code",
   "execution_count": 11,
   "id": "greatest-newton",
   "metadata": {
    "execution": {
     "iopub.execute_input": "2021-04-14T14:03+0200",
     "iopub.status.busy": "2021-04-14T14:03+0200",
     "iopub.status.idle": "2021-04-14T14:03+0200",
     "shell.execute_reply": "2021-04-14T14:03+0200",
     "shell.execute_reply.started": "2021-04-14T14:03+0200"
    },
    "nbgrader": {
     "grade": true,
     "grade_id": "aufgabe2-test",
     "locked": true,
     "points": 8,
     "schema_version": 3,
     "solution": false,
     "task": false
    },
    "tags": []
   },
   "outputs": [],
   "source": [
    "val tests = mapOf(\"2053-04-09\" to 544898, \"2052-12-27\" to 21566, \"2053-01-18\" to 74406, \"2054-03-05\" to -1, \"2050-01-03\" to -1, \"2054-23-0\" to -1)\n",
    "for ((datum, anzahl) in tests){\n",
    "    if (daten.gibAnzahlDosen(datum, \"DE\") != anzahl)\n",
    "        throw AssertionError(\"daten.gibAnzahlDosen($datum): ${daten.gibAnzahlDosen(datum, \"DE\")} != ${anzahl}\")\n",
    "}"
   ]
  },
  {
   "cell_type": "markdown",
   "id": "defensive-parallel",
   "metadata": {
    "nbgrader": {
     "grade": false,
     "grade_id": "markdown-5",
     "locked": true,
     "schema_version": 3,
     "solution": false,
     "task": false
    }
   },
   "source": [
    "## Verbesserung der Daten I\n",
    "Mit der Methode `gibAnzahlDosen(datum, region)` kann nun die Differenz der Dosen zum Vortag ausgerechnet werden. Da der Datensatz einige Lücken bezüglich des Eintrags `dosen_differenz_zum_vortag` aufweist, sollen diese jetzt vefüllt werden. Dazu bauen wir uns einen neuen Datensatz `datenVollstaendig` in der Funktion `vervollstaenigeLuecken(daten)` zusammen. Das Grundgerüst des `DataFrame`s ist bereits vorbereitet. Eine Zeile kann mit der Methode [`bindRows(map)`](https://holgerbrandl.github.io/krangl/javadoc/krangl/krangl/bind-rows.html) angehängt werden."
   ]
  },
  {
   "cell_type": "code",
   "execution_count": 12,
   "id": "extraordinary-routine",
   "metadata": {
    "execution": {
     "iopub.execute_input": "2021-04-14T14:03+0200",
     "iopub.status.busy": "2021-04-14T14:03+0200",
     "iopub.status.idle": "2021-04-14T14:03+0200",
     "shell.execute_reply": "2021-04-14T14:03+0200"
    },
    "nbgrader": {
     "grade": false,
     "grade_id": "aufgabe3-code",
     "locked": false,
     "schema_version": 3,
     "solution": true,
     "task": false
    },
    "tags": []
   },
   "outputs": [],
   "source": [
    "fun vervollstaendigeLuecken(daten: DataFrame): DataFrame {\n",
    "    var datenVollstaendig: DataFrame = emptyDataFrame()\n",
    "    // BEGIN SOLUTION \n",
    "    daten.rows.forEach {\n",
    "        if (it[\"metric\"] != \"dosen_differenz_zum_vortag\"){\n",
    "            datenVollstaendig = datenVollstaendig.bindRows(\n",
    "                mapOf(\"date\" to it[\"date\"], \"publication_date\" to it[\"publication_date\"], \"region\" to it[\"region\"], \"metric\" to it[\"metric\"], \"value\" to it[\"value\"])\n",
    "            ) \n",
    "        }\n",
    "        else{\n",
    "            val diff: String = daten.gibAnzahlDosen(it[\"date\"] as String, it[\"region\"] as String).toString()\n",
    "            datenVollstaendig = datenVollstaendig.bindRows(\n",
    "                mapOf(\"date\" to it[\"date\"], \"publication_date\" to it[\"publication_date\"], \"region\" to it[\"region\"], \"metric\" to it[\"metric\"], \"value\" to diff)\n",
    "            )\n",
    "        }\n",
    "\n",
    "    }\n",
    "    // END SOLUTION\n",
    "    return datenVollstaendig\n",
    "}"
   ]
  },
  {
   "cell_type": "code",
   "execution_count": 13,
   "id": "equipped-dimension",
   "metadata": {
    "execution": {
     "iopub.execute_input": "2021-04-14T14:03+0200",
     "iopub.status.busy": "2021-04-14T14:03+0200",
     "iopub.status.idle": "2021-04-14T14:04+0200",
     "shell.execute_reply": "2021-04-14T14:04+0200",
     "shell.execute_reply.started": "2021-04-14T14:03+0200"
    },
    "nbgrader": {
     "grade": true,
     "grade_id": "aufgabe3-test",
     "locked": true,
     "points": 6,
     "schema_version": 3,
     "solution": false,
     "task": false
    },
    "tags": []
   },
   "outputs": [],
   "source": [
    "//Hinweis: dieser Test kann eine längere Zeit als gewohnt benötigen, da der komplette Datensatz durchlaufen wird.\n",
    "val testdaten = vervollstaendigeLuecken(daten)\n",
    "val luecken = (testdaten.filterByRow { it[\"metric\"] == \"dosen_differenz_zum_vortag\" && it[\"value\"] == \"\" }.count().get(0).get(0) as Int)\n",
    "if (luecken > 0)\n",
    "    throw AssertionError(\"Anzahl der Lücken: ${luecken} > 0\")\n",
    "if(daten.nrow != testdaten.nrow)\n",
    "    throw AssertionError(\"Es wurden nicht alle Zeilen des Datensatzes übernommen: ${daten.nrow} != ${testdaten.nrow}\")\n",
    "daten = testdaten"
   ]
  },
  {
   "cell_type": "markdown",
   "id": "0c9d66f5",
   "metadata": {
    "nbgrader": {
     "grade": false,
     "grade_id": "markdown-6",
     "locked": true,
     "schema_version": 3,
     "solution": false,
     "task": false
    }
   },
   "source": [
    "## Verbesserung der Daten II\n",
    "Bei genaueren Betrachtung der Daten mit einem genaueren Blick auf die Datentypen der Spalten, fällt auf, dass alle Werte der Spalte *value* den Datentyp `String` besitzen. Da aber in dieser Spalte nur Fließkommazahlen oder nichts vorzufinden ist, würde der Datenyp `Double` besser passen. Passen Sie Ihre Lösung von *Verbesserung der Daten I* insoweit an, dass in der Spalte *value* nur noch Werte des Datentyps `Double` zu finden sind, falls ein gültiger Wert enthalten ist. Ansonsten soll `null` eingefügt werden. Schreiben Sie die Lösung zu dieser Aufgabe in die Funktion `vervollstaendigeDaten(daten)`."
   ]
  },
  {
   "cell_type": "code",
   "execution_count": 14,
   "id": "later-impact",
   "metadata": {
    "execution": {
     "iopub.execute_input": "2021-04-14T14:04+0200",
     "iopub.status.busy": "2021-04-14T14:04+0200",
     "iopub.status.idle": "2021-04-14T14:05+0200",
     "shell.execute_reply": "2021-04-14T14:05+0200",
     "shell.execute_reply.started": "2021-04-14T14:04+0200"
    },
    "nbgrader": {
     "grade": false,
     "grade_id": "aufgabe4-code",
     "locked": false,
     "schema_version": 3,
     "solution": true,
     "task": false
    },
    "tags": []
   },
   "outputs": [],
   "source": [
    "fun vervollstaendigeDaten(daten: DataFrame): DataFrame {\n",
    "    var datenVollstaendig: DataFrame = emptyDataFrame()\n",
    "    // BEGIN SOLUTION \n",
    "    daten.rows.forEach {\n",
    "        if (it[\"metric\"] != \"dosen_differenz_zum_vortag\"){\n",
    "            if(it[\"value\"] == \"\"){\n",
    "                datenVollstaendig = datenVollstaendig.bindRows(\n",
    "                    mapOf(\"date\" to it[\"date\"], \"publication_date\" to it[\"publication_date\"], \"region\" to it[\"region\"], \"metric\" to it[\"metric\"], \"value\" to null)\n",
    "                )\n",
    "            }\n",
    "            else{\n",
    "                datenVollstaendig = datenVollstaendig.bindRows(\n",
    "                    mapOf(\"date\" to it[\"date\"], \"publication_date\" to it[\"publication_date\"], \"region\" to it[\"region\"], \"metric\" to it[\"metric\"], \"value\" to (it[\"value\"] as String).toDouble())\n",
    "                )\n",
    "            }  \n",
    "        }\n",
    "        else{\n",
    "            val diff = daten.gibAnzahlDosen(it[\"date\"] as String, it[\"region\"] as String).toDouble()\n",
    "            datenVollstaendig = datenVollstaendig.bindRows(\n",
    "                mapOf(\"date\" to it[\"date\"], \"publication_date\" to it[\"publication_date\"], \"region\" to it[\"region\"], \"metric\" to it[\"metric\"], \"value\" to diff)\n",
    "            )\n",
    "        }\n",
    "\n",
    "    }\n",
    "    // END SOLUTION\n",
    "    return datenVollstaendig\n",
    "}"
   ]
  },
  {
   "cell_type": "code",
   "execution_count": 15,
   "id": "3dc23382",
   "metadata": {
    "nbgrader": {
     "grade": true,
     "grade_id": "aufgabe4-test",
     "locked": true,
     "points": 3,
     "schema_version": 3,
     "solution": false,
     "task": false
    }
   },
   "outputs": [],
   "source": [
    "//Hinweis: dieser Test kann eine längere Zeit als gewohnt benötigen, da der komplette Datensatz durchlaufen wird.\n",
    "val testdaten = vervollstaendigeDaten(daten)\n",
    "val luecken = (testdaten.filterByRow { it[\"metric\"] == \"dosen_differenz_zum_vortag\" && it[\"value\"] == null}.count().get(0).get(0) as Int)\n",
    "if (luecken > 0)\n",
    "    throw AssertionError(\"Anzahl der Lücken: ${luecken} > 0\")\n",
    "if (testdaten.get(\"value\")::class.simpleName != \"DoubleCol\")\n",
    "    throw AssertionError(\"Datentyp der Spalte value: ${testdaten.get(\"value\")::class.simpleName} != DoubleCol\")\n",
    "if(daten.nrow != testdaten.nrow)\n",
    "    throw AssertionError(\"Es wurden nicht alle Zeilen des Datensatzes übernommen: ${daten.nrow} != ${testdaten.nrow}\")\n",
    "daten = testdaten    "
   ]
  },
  {
   "cell_type": "markdown",
   "id": "victorian-thong",
   "metadata": {
    "execution": {
     "iopub.execute_input": "2021-04-11T16:33+0200",
     "iopub.status.busy": "2021-04-11T16:33+0200",
     "iopub.status.idle": "2021-04-11T16:33+0200",
     "shell.execute_reply": "2021-04-11T16:33+0200",
     "shell.execute_reply.started": "2021-04-11T16:33+0200"
    },
    "nbgrader": {
     "grade": false,
     "grade_id": "markdown-7",
     "locked": true,
     "schema_version": 3,
     "solution": false,
     "task": false
    },
    "tags": []
   },
   "source": [
    "## Wann wurden am meisten Dosen mit der Indikaton Alter verimpft?\n",
    "In den Daten ist außerdem angegeben aus welchem Grund eine Impfung verabreicht wurde. Implementieren Sie eine Erweiterungsmethode `gibDatumAlter()`, die das Datum des Tages zurückgibt, an dem am meisten Dosen augrund der Indikation Alter verabreicht wurden."
   ]
  },
  {
   "cell_type": "code",
   "execution_count": 16,
   "id": "former-mattress",
   "metadata": {
    "execution": {
     "iopub.execute_input": "2021-04-14T14:04+0200",
     "iopub.status.busy": "2021-04-14T14:04+0200",
     "iopub.status.idle": "2021-04-14T14:04+0200",
     "shell.execute_reply": "2021-04-14T14:04+0200"
    },
    "nbgrader": {
     "grade": false,
     "grade_id": "aufgabe5-code",
     "locked": false,
     "schema_version": 3,
     "solution": true,
     "task": false
    }
   },
   "outputs": [],
   "source": [
    "fun DataFrame.gibDatumAlter(): String {\n",
    "    // BEGIN SOLUTION\n",
    "    val alter = this.filterByRow { it[\"metric\"] == \"indikation_alter_dosen\" && it[\"region\"] == \"DE\" && it[\"value\"] != null }.addRowNumber()\n",
    "    //Lösung mit reduce\n",
    "    /*return alter.rows.reduce { zeile1, zeile2 ->\n",
    "        val anzahlZeile1 = zeile1[\"value\"] as Double\n",
    "        val anzahlZeile2 = zeile2[\"value\"] as Double\n",
    "        val dif01 = if (zeile1[\"row_number\"] == 1)\n",
    "                        anzahlZeile1\n",
    "                    else{\n",
    "                        val anzahlZeile0 = alter.row((zeile1[\"row_number\"] as Int)-2)[\"value\"] as Double\n",
    "                        anzahlZeile1 - anzahlZeile0\n",
    "                    }\n",
    "        val dif12 = anzahlZeile2 - anzahlZeile1\n",
    "        if(dif01 > dif12){\n",
    "            zeile1\n",
    "        }\n",
    "        else{\n",
    "            zeile2\n",
    "        }\n",
    "    }.get(\"date\") as String*/\n",
    "    \n",
    "    //Lösung mit maxByOrNull\n",
    "    return alter.rows.maxByOrNull { \n",
    "        val anzahlZeile1 = (it[\"value\"] as Double)\n",
    "        if (it[\"row_number\"] == 1 || it[\"row_number\"] == 0)\n",
    "            anzahlZeile1\n",
    "        else{\n",
    "            val anzahlZeile0 = (alter.row((it[\"row_number\"] as Int)-2)[\"value\"] as Double)\n",
    "            anzahlZeile1 - anzahlZeile0\n",
    "        }\n",
    "    }?.get(\"date\") as String\n",
    "    // END SOLUTION\n",
    "}"
   ]
  },
  {
   "cell_type": "code",
   "execution_count": 17,
   "id": "e642aff7",
   "metadata": {
    "nbgrader": {
     "grade": true,
     "grade_id": "aufgabe5-test",
     "locked": true,
     "points": 6,
     "schema_version": 3,
     "solution": false,
     "task": false
    }
   },
   "outputs": [],
   "source": [
    "if (daten.gibDatumAlter() != \"2053-04-05\")\n",
    "    throw AssertionError(\"testdaten.gibDatumAlter(): ${testdaten.gibDatumAlter()} != 2053-04-05\")"
   ]
  },
  {
   "cell_type": "markdown",
   "id": "dangerous-cornell",
   "metadata": {
    "nbgrader": {
     "grade": false,
     "grade_id": "markdown-8",
     "locked": true,
     "schema_version": 3,
     "solution": false,
     "task": false
    }
   },
   "source": [
    "## Wer wird eigentlich geimpft?\n",
    "In dieser Aufgabe soll der Frage nachgegangen werden, wer eigentlich geimpft wird. In den Daten gibt es dazu 4 Metriken: *indikation_alter_dosen*, *indikation_beruf_dosen*, *indikation_medizinisch_dosen*, *indikation_pflegeheim_dosen*. Implementieren Sie eine Erweiterungsmethode `gibIndikationen()` der Klasse `DataFrame`, die eine Liste des Datentyps `List<Map<String, Map<String, Any>>>` zurückgibt. In dieser soll für jedes Datum eine Map, in der die verschiedenenen Indikationen der Schlüssel (Alter, Beruf, Medizinisch, Pflegeheim) sind, existieren. Die Werte zu den Indikationen sind die an diesem Tag verimpften Dosen der Infikation. Außerdem soll unter dem Schlüssel *Max* eine weitere Map zu finden sein, die als Schlüssel die Indikation mit den meisten Dosen an diesem Datum und als Wert die Anzahl besitzt.  \n",
    "Beispiel:  \n",
    "[{2052-12-27={Alter=5833.0, Beruf=7618.0, Medizinisch=962.0, Pflegeheim=11646.0, Max={Pflegeheim=11646.0}}}, {2052-12-28={Alter=6399.0, Beruf=7346.0, Medizinisch=699.0, Pflegeheim=10121.0, Max={Pflegeheim=10121.0}}}, ... ]"
   ]
  },
  {
   "cell_type": "code",
   "execution_count": 18,
   "id": "surrounded-remove",
   "metadata": {
    "execution": {
     "iopub.execute_input": "2021-04-14T14:04+0200",
     "iopub.status.busy": "2021-04-14T14:04+0200",
     "iopub.status.idle": "2021-04-14T14:04+0200",
     "shell.execute_reply": "2021-04-14T14:04+0200"
    },
    "nbgrader": {
     "grade": false,
     "grade_id": "aufgabe6-code",
     "locked": false,
     "schema_version": 3,
     "solution": true,
     "task": false
    }
   },
   "outputs": [],
   "source": [
    "fun DataFrame.gibIndikationen(): List<Map<String, Map<String, Any>>> {\n",
    "    // BEGIN SOLUTION\n",
    "    val filtered = this.filterByRow { \n",
    "        (it[\"metric\"] == \"indikation_alter_dosen\" || it[\"metric\"] == \"indikation_beruf_dosen\" || \n",
    "        it[\"metric\"] == \"indikation_medizinisch_dosen\" || it[\"metric\"] == \"indikation_pflegeheim_dosen\" ) \n",
    "        && it[\"region\"] == \"DE\" && it[\"value\"] != null \n",
    "    }.addRowNumber()\n",
    "    return filtered.groupBy(\"date\").groups().map { \n",
    "        val alter = it[\"value\"][0] as Double\n",
    "        val diffAlter: Double = if (it[\"row_number\"][0] as Int > 4){\n",
    "                            val zeile0 = (it[\"row_number\"][0] as Int) - 5\n",
    "                            val alter0 = filtered.row(zeile0)[\"value\"] as Double\n",
    "                            alter - alter0\n",
    "                        }\n",
    "                        else{\n",
    "                            alter\n",
    "                        }\n",
    "        val beruf = it[\"value\"][1] as Double\n",
    "        val diffBeruf: Double = if (it[\"row_number\"][1] as Int > 4){\n",
    "                            val zeile0 = (it[\"row_number\"][1] as Int) - 5\n",
    "                            val beruf0 = filtered.row(zeile0)[\"value\"] as Double\n",
    "                            beruf - beruf0\n",
    "                        }\n",
    "                        else{\n",
    "                            beruf\n",
    "                        }\n",
    "        val medi = it[\"value\"][2] as Double\n",
    "        val diffMedi: Double = if (it[\"row_number\"][2] as Int > 4){\n",
    "                            val zeile0 = (it[\"row_number\"][2] as Int) - 5\n",
    "                            val medi0 = filtered.row(zeile0)[\"value\"] as Double\n",
    "                            medi - medi0\n",
    "                        }\n",
    "                        else{\n",
    "                            medi\n",
    "                        }\n",
    "        val pflege = it[\"value\"][3] as Double\n",
    "        val diffPflege: Double = if (it[\"row_number\"][3] as Int > 4){\n",
    "                            val zeile0 = (it[\"row_number\"][3] as Int) - 5\n",
    "                            val pflege0 = filtered.row(zeile0)[\"value\"] as Double\n",
    "                            pflege - pflege0\n",
    "                        }\n",
    "                        else{\n",
    "                            pflege\n",
    "                        }\n",
    "        val max = mapOf(\n",
    "            when (listOf(diffAlter, diffBeruf, diffMedi, diffPflege).maxOrNull()){\n",
    "                diffAlter -> \"Alter\";\n",
    "                diffBeruf -> \"Beruf\";\n",
    "                diffMedi -> \"Medizinisch\";\n",
    "                diffPflege -> \"Pflegeheim\";\n",
    "                else -> \"else\"\n",
    "            }\n",
    "            to\n",
    "             listOf(diffAlter, diffBeruf, diffMedi, diffPflege).maxOrNull()\n",
    "        )\n",
    "        mapOf(it[\"date\"][0] as String to mapOf(\"Alter\" to diffAlter, \"Beruf\" to diffBeruf, \"Medizinisch\" to diffMedi, \"Pflegeheim\" to diffPflege, \"Max\" to max))\n",
    "    }\n",
    "    // END SOLUTION\n",
    "}"
   ]
  },
  {
   "cell_type": "code",
   "execution_count": 19,
   "id": "operational-repair",
   "metadata": {
    "execution": {
     "iopub.execute_input": "2021-04-14T14:04+0200",
     "iopub.status.busy": "2021-04-14T14:04+0200",
     "iopub.status.idle": "2021-04-14T14:04+0200",
     "shell.execute_reply": "2021-04-14T14:04+0200",
     "shell.execute_reply.started": "2021-04-14T14:04+0200"
    },
    "nbgrader": {
     "grade": true,
     "grade_id": "aufgabe6-test",
     "locked": true,
     "points": 12,
     "schema_version": 3,
     "solution": false,
     "task": false
    },
    "tags": []
   },
   "outputs": [],
   "source": [
    "val testdaten = daten.gibIndikationen()\n",
    "val testZeilen = listOf(\"{2052-12-27={Alter=5833.0, Beruf=7618.0, Medizinisch=962.0, Pflegeheim=11646.0, Max={Pflegeheim=11646.0}}}\", \"{2052-12-28={Alter=6399.0, Beruf=7346.0, Medizinisch=699.0, Pflegeheim=10121.0, Max={Pflegeheim=10121.0}}}\")\n",
    "for (i in 0 until testZeilen.size){\n",
    "    if (testdaten[i].toString() != testZeilen[i])\n",
    "        throw AssertionError(\"${testdaten[i].toString()} != ${testZeilen[i]}\")\n",
    "}\n",
    "\n",
    "testdaten.forEach {\n",
    "    val max = it.values.toList()[0].values.take(4).toList().maxByOrNull { it as Double }\n",
    "    var string = it.values.toList()[0].values.drop(4)[0].toString()\n",
    "    val (indikator, dosen) = string.substring(1, string.length-1).split(\"=\")\n",
    "    if(max != dosen.toDouble())\n",
    "        throw AssertionError(\"Maximum in Zeile $it: $dosen != $max\")\n",
    "}"
   ]
  },
  {
   "cell_type": "markdown",
   "id": "54e39aa1",
   "metadata": {
    "nbgrader": {
     "grade": false,
     "grade_id": "markdown-9",
     "locked": true,
     "schema_version": 3,
     "solution": false,
     "task": false
    }
   },
   "source": [
    "## Mit dem neuen Datensatz arbeiten\n",
    "In der letzten Aufgabe wurde ein neuer Datensatz erstellt, der die Indikation der Impfungen in Verbindung mit den Tagen setzt und das Maximum bereitstellt. Nun sollen Sie eine Funktion höherer Ordnung `analysiereIndikation` implementieren, die diese Daten variabel wieder in seine Einzelteile zerlegen kann. Der Funktion sollen die Daten nach der Verarbeitung mit `gibIndikationen()` übergeben werden. Die Rückgabe soll eine Funktion darstellen, die ein Datum als Zeichenkette und die Indikation (Alter, Beruf, Medizinisch, Pflegeheim, Max) übergeben bekommt. Die Rückgabe stellt den Wert, der der Indikation zugeordnet ist dar (`Any`).  \n",
    "Falls Sie keine Lösung bei der Implementierung der Erweiterungsmethode `gibIndikationen()` gefunden haben, können Sie den vorbereiteten Datensatz stattdessen verwenden.\n",
    "\n",
    "Beispielaufruf: `analysiereIndikation(daten.gibIndikationen())(\"2052-12-27\", \"Beruf\")`, Rückgabe: `7618.0`"
   ]
  },
  {
   "cell_type": "code",
   "execution_count": 20,
   "id": "c839373b",
   "metadata": {
    "nbgrader": {
     "grade": false,
     "grade_id": "aufgabe7-code",
     "locked": false,
     "schema_version": 3,
     "solution": true,
     "task": false
    }
   },
   "outputs": [],
   "source": [
    "// BEGIN SOLUTION\n",
    "fun analysiereIndikation(daten: List<Map<String, Map<String, Any>>>): (String, String) -> Any = {datum, indikation -> daten.filter { it.keys.first() == datum }.get(0).values.toList().get(0).get(indikation) as Any }\n",
    "// END SOLUTION"
   ]
  },
  {
   "cell_type": "code",
   "execution_count": 21,
   "id": "d16cb8ec",
   "metadata": {
    "nbgrader": {
     "grade": false,
     "grade_id": "aufgabe7-auswahl",
     "locked": false,
     "schema_version": 3,
     "solution": true,
     "task": false
    }
   },
   "outputs": [],
   "source": [
    "//Wählen Sie aus, welche Daten im Test verwendet werden sollen, indem Sie die entpreschende Zeile auskommentieren\n",
    "val testdaten = listOf(mapOf(\"2052-12-27\" to mapOf(\"Alter\" to 5833.0, \"Beruf\" to 7618.0, \"Medizinisch\" to 962.0, \"Pflegeheim\" to 11646.0, \"Max\" to mapOf(\"Pflegeheim\" to 11646.0))), mapOf(\"2052-12-28\" to mapOf(\"Alter\" to 6399.0, \"Beruf\" to 7346.0, \"Medizinisch\" to 699.0, \"Pflegeheim\" to 10121.0, \"Max\" to mapOf(\"Pflegeheim\" to 10121.0))))\n",
    "//val testdaten = daten.gibIndikationen()\n",
    "// BEGIN SOLUTION\n",
    "// END SOLUTION"
   ]
  },
  {
   "cell_type": "code",
   "execution_count": 22,
   "id": "98084d11",
   "metadata": {
    "nbgrader": {
     "grade": true,
     "grade_id": "aufgabe7-test",
     "locked": true,
     "points": 8,
     "schema_version": 3,
     "solution": false,
     "task": false
    }
   },
   "outputs": [],
   "source": [
    "val testdaten1 = listOf(mapOf(\"Alter\" to 5833.0), mapOf(\"Beruf\" to 7618.0), mapOf(\"Medizinisch\" to 962.0), mapOf(\"Pflegeheim\" to 11646.0), mapOf(\"Max\" to mapOf(\"Pflegeheim\" to 11646.0)))\n",
    "for (value in testdaten1){\n",
    "    for((indikation, wert) in value){\n",
    "        if(analysiereIndikation(testdaten)(\"2052-12-27\", indikation) != wert)\n",
    "            throw AssertionError(\"analysiereIndikation(testdaten)('2052-12-27', '$indikation'): ${analysiereIndikation(testdaten)(\"2052-12-27\", indikation)} != $wert\")\n",
    "    }\n",
    "}\n",
    "\n",
    "val testdaten2 = listOf(mapOf(\"Alter\" to 6399.0), mapOf(\"Beruf\" to 7346.0), mapOf(\"Medizinisch\" to 699.0), mapOf(\"Pflegeheim\" to 10121.0), mapOf(\"Max\" to mapOf(\"Pflegeheim\" to 10121.0)))\n",
    "for (value in testdaten2){\n",
    "    for((indikation, wert) in value){\n",
    "        if(analysiereIndikation(testdaten)(\"2052-12-28\", indikation) != wert)\n",
    "            throw AssertionError(\"analysiereIndikation(testdaten)('2052-12-28', '$indikation'): ${analysiereIndikation(testdaten)(\"2052-12-27\", indikation)} != $wert\")\n",
    "    }\n",
    "}"
   ]
  }
 ],
 "metadata": {
  "celltoolbar": "Create Assignment",
  "kernelspec": {
   "display_name": "Kotlin",
   "language": "kotlin",
   "name": "kotlin"
  },
  "language_info": {
   "codemirror_mode": "text/x-kotlin",
   "file_extension": ".kt",
   "mimetype": "text/x-kotlin",
   "name": "kotlin",
   "nbconvert_exporter": "",
   "pygments_lexer": "kotlin",
   "version": "1.5.20-dev-5817"
  }
 },
 "nbformat": 4,
 "nbformat_minor": 5
}
