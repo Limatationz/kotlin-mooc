{
 "cells": [
  {
   "cell_type": "markdown",
   "id": "exterior-sessions",
   "metadata": {
    "deletable": false,
    "editable": false,
    "nbgrader": {
     "cell_type": "markdown",
     "checksum": "a9fa3e5513a51c8636ed8aa64d0efe34",
     "grade": false,
     "grade_id": "markdown-1",
     "locked": true,
     "schema_version": 3,
     "solution": false,
     "task": false
    }
   },
   "source": [
    "# Aufgabe - Impfdaten\n",
    "Kurz nach dem Bekanntwerden des Virus haben die ersten Länder auf Erde-14 mit der Impfstoffentwicklung begonnen, da allen klar war, dass das Virus nur mit einer Herdenimmunität, beispielsweise einer Impfung, kontrollieren werden kann. Ende des Jahres 2052 waren die ersten Impfstoffe bereit für die Bevölkerung. Die ersten drei zugelassenen Impfstoffe sind von den Unternehmen Bioneca, Moderntech und Asterna. Da das Land Dendenland eine ähnliche Gesellschaft zu Deutschland aufweist, werden Sie zusätzlich beauftragt den Impfablauf auszuwerten, um aus möglichen Fehlern zu lernen. Dazu wird Ihnen der folgende Datensatz bereitgestellt:"
   ]
  },
  {
   "cell_type": "code",
   "execution_count": null,
   "id": "corresponding-plenty",
   "metadata": {
    "deletable": false,
    "editable": false,
    "execution": {
     "iopub.execute_input": "2021-04-16T12:11+0200",
     "iopub.status.busy": "2021-04-16T12:11+0200",
     "iopub.status.idle": "2021-04-16T12:11+0200",
     "shell.execute_reply": "2021-04-16T12:11+0200",
     "shell.execute_reply.started": "2021-04-16T12:11+0200"
    },
    "nbgrader": {
     "cell_type": "code",
     "checksum": "b7690b3e43de7e1c371e95d9abca36d1",
     "grade": false,
     "grade_id": "daten-einlesen",
     "locked": true,
     "schema_version": 3,
     "solution": false,
     "task": false
    },
    "tags": []
   },
   "outputs": [],
   "source": [
    "%use krangl\n",
    "val datenRaw = DataFrame.readCSV(\"https://raw.githubusercontent.com/Limatationz/kotlin-mooc/main/Abschnitt2/daten/impfzahlenDendenland.csv\") //Liest die csv-Datei und wandelt sie in einen DataFrame um\n",
    "val daten = datenRaw.filterByRow { \n",
    "    (!(it[\"metric\"]as String).contains(\"erst\") && !(it[\"metric\"]as String).contains(\"voll\") && !(it[\"metric\"]as String).contains(\"impfstelle\")) || it[\"metric\"] == \"personen_erst_kumulativ\" || it[\"metric\"] == \"personen_voll_kumulativ\"\n",
    "}"
   ]
  },
  {
   "cell_type": "markdown",
   "id": "endangered-stockholm",
   "metadata": {
    "deletable": false,
    "editable": false,
    "nbgrader": {
     "cell_type": "markdown",
     "checksum": "272ff0e16da9b69ccb4a6374452fbf5a",
     "grade": false,
     "grade_id": "markdown-2",
     "locked": true,
     "schema_version": 3,
     "solution": false,
     "task": false
    }
   },
   "source": [
    "Der Aufbau der Daten ist folgendermaßen:"
   ]
  },
  {
   "cell_type": "code",
   "execution_count": null,
   "id": "arbitrary-finland",
   "metadata": {
    "deletable": false,
    "editable": false,
    "execution": {
     "iopub.execute_input": "2021-04-16T12:11+0200",
     "iopub.status.busy": "2021-04-16T12:11+0200",
     "iopub.status.idle": "2021-04-16T12:11+0200",
     "shell.execute_reply": "2021-04-16T12:11+0200",
     "shell.execute_reply.started": "2021-04-16T12:11+0200"
    },
    "nbgrader": {
     "cell_type": "code",
     "checksum": "e99e92ecae69b16d00be9a922d069014",
     "grade": false,
     "grade_id": "daten-kennenlernen-1",
     "locked": true,
     "schema_version": 3,
     "solution": false,
     "task": false
    },
    "tags": []
   },
   "outputs": [],
   "source": [
    "daten.schema()"
   ]
  },
  {
   "cell_type": "code",
   "execution_count": null,
   "id": "municipal-former",
   "metadata": {
    "deletable": false,
    "editable": false,
    "execution": {
     "iopub.execute_input": "2021-04-16T12:11+0200",
     "iopub.status.busy": "2021-04-16T12:11+0200",
     "iopub.status.idle": "2021-04-16T12:11+0200",
     "shell.execute_reply": "2021-04-16T12:11+0200",
     "shell.execute_reply.started": "2021-04-16T12:11+0200"
    },
    "nbgrader": {
     "cell_type": "code",
     "checksum": "c3342b35037946b013a1d1582009ba10",
     "grade": false,
     "grade_id": "daten-kennenlernen-2",
     "locked": true,
     "schema_version": 3,
     "solution": false,
     "task": false
    },
    "tags": []
   },
   "outputs": [],
   "source": [
    "daten.head(20)"
   ]
  },
  {
   "cell_type": "markdown",
   "id": "liberal-satellite",
   "metadata": {
    "deletable": false,
    "editable": false,
    "nbgrader": {
     "cell_type": "markdown",
     "checksum": "4f31b4db106c23e023e93d13edd0da7a",
     "grade": false,
     "grade_id": "markdown-3",
     "locked": true,
     "schema_version": 3,
     "solution": false,
     "task": false
    }
   },
   "source": [
    "## Die Daten kennenlernen\n",
    "In dieser Teilaufgabe sollen die Daten und deren Struktur kennengelernt werden. Es ist zu erkennen, dass in der Spalte *metric* eine Liste an Beschreibungen für die Daten, die in *value* zu finden sein, vorliegt. Implementieren Sie eine Erweiterungsmethode `gibBeschreibungen()` der Klasse `DataFrame`, die alle Beschreibungen in einer Liste zurückgibt.  \n",
    "Beispiel: [dosen_kumulativ, personen_erst_kumulativ, personen_voll_kumulativ, ...]"
   ]
  },
  {
   "cell_type": "code",
   "execution_count": null,
   "id": "senior-cement",
   "metadata": {
    "deletable": false,
    "execution": {
     "iopub.execute_input": "2021-04-14T14:03+0200",
     "iopub.status.busy": "2021-04-14T14:03+0200",
     "iopub.status.idle": "2021-04-14T14:03+0200",
     "shell.execute_reply": "2021-04-14T14:03+0200"
    },
    "nbgrader": {
     "cell_type": "code",
     "checksum": "388a52933d6c4c2c9825ba39e0157083",
     "grade": false,
     "grade_id": "aufgabe1-code",
     "locked": false,
     "schema_version": 3,
     "solution": true,
     "task": false
    },
    "tags": []
   },
   "outputs": [],
   "source": [
    "fun DataFrame.gibBeschreibungen(): List<String>{\n",
    "    // YOUR CODE HERE\n",
    "    throw NotImplementedError()\n",
    "}"
   ]
  },
  {
   "cell_type": "code",
   "execution_count": null,
   "id": "south-commons",
   "metadata": {
    "deletable": false,
    "editable": false,
    "execution": {
     "iopub.execute_input": "2021-04-14T14:03+0200",
     "iopub.status.busy": "2021-04-14T14:03+0200",
     "iopub.status.idle": "2021-04-14T14:03+0200",
     "shell.execute_reply": "2021-04-14T14:03+0200",
     "shell.execute_reply.started": "2021-04-14T14:03+0200"
    },
    "nbgrader": {
     "cell_type": "code",
     "checksum": "2b3305aa77fad461856312fbeaafb4c5",
     "grade": true,
     "grade_id": "aufgabe1-test",
     "locked": true,
     "points": 2,
     "schema_version": 3,
     "solution": false,
     "task": false
    },
    "tags": []
   },
   "outputs": [],
   "source": [
    "val ergebnis = listOf(\"dosen_kumulativ\", \"personen_erst_kumulativ\", \"personen_voll_kumulativ\", \"dosen_bioneca_kumulativ\", \"dosen_moderntech_kumulativ\", \"dosen_asterna_kumulativ\", \"indikation_alter_dosen\", \"indikation_beruf_dosen\", \"indikation_medizinisch_dosen\", \"indikation_pflegeheim_dosen\", \"dosen_differenz_zum_vortag\", \"impf_quote_dosen\", \"impf_inzidenz_dosen\", \"dosen_kumulativ_alter_unter60\", \"dosen_kumulativ_alter_60plus\")\n",
    "if(daten.gibBeschreibungen() != ergebnis)\n",
    "    throw AssertionError(\"daten.gibBeschreibungen(): ${daten.gibBeschreibungen()} != ${ergebnis}\")"
   ]
  },
  {
   "cell_type": "markdown",
   "id": "average-filling",
   "metadata": {
    "deletable": false,
    "editable": false,
    "nbgrader": {
     "cell_type": "markdown",
     "checksum": "49b7142070937a68b1f2abdf164bff4d",
     "grade": false,
     "grade_id": "markdown-4",
     "locked": true,
     "schema_version": 3,
     "solution": false,
     "task": false
    }
   },
   "source": [
    "## Wieviele Dosen wurden an einem bestimmten Tag verimpft?\n",
    "Implementieren Sie eine Erweiterungsmethode `gibAnzahlDosen(datum, region)` der Klasse `DataFrame`, die die Anzahl der Impfdosen, welche an dem übergebenen Datum und in der übergebenen Region verimpft wurden, zurückgibt. Zur Vereinfachung ist anzunehmen, dass das Datum als `String` im Format `yyyy-mm-dd` und die Region als `String` mit zwei Buchstaben übergeben werden. In dieser Aufgabe soll nicht mit dem Eintrag `dosen_differenz_zum_vortag` gearbeitet werden, da die Daten unvollständig sind (näheres dazu in der nächsten Aufgabe). Ist das Datum nicht in den Daten vorhanden, soll `-1` zurückgegeben werden."
   ]
  },
  {
   "cell_type": "code",
   "execution_count": null,
   "id": "early-object",
   "metadata": {
    "deletable": false,
    "execution": {
     "iopub.execute_input": "2021-04-14T14:03+0200",
     "iopub.status.busy": "2021-04-14T14:03+0200",
     "iopub.status.idle": "2021-04-14T14:03+0200",
     "shell.execute_reply": "2021-04-14T14:03+0200"
    },
    "nbgrader": {
     "cell_type": "code",
     "checksum": "b2d781b8228c2ac4e3ebc5f824633933",
     "grade": false,
     "grade_id": "aufgabe2-code",
     "locked": false,
     "schema_version": 3,
     "solution": true,
     "task": false
    },
    "tags": []
   },
   "outputs": [],
   "source": [
    "fun DataFrame.gibAnzahlDosen(datum: String, region: String): Int {\n",
    "    // YOUR CODE HERE\n",
    "    throw NotImplementedError()\n",
    "}"
   ]
  },
  {
   "cell_type": "code",
   "execution_count": null,
   "id": "greatest-newton",
   "metadata": {
    "deletable": false,
    "editable": false,
    "execution": {
     "iopub.execute_input": "2021-04-14T14:03+0200",
     "iopub.status.busy": "2021-04-14T14:03+0200",
     "iopub.status.idle": "2021-04-14T14:03+0200",
     "shell.execute_reply": "2021-04-14T14:03+0200",
     "shell.execute_reply.started": "2021-04-14T14:03+0200"
    },
    "nbgrader": {
     "cell_type": "code",
     "checksum": "6985c9af02682c52e561493944b55985",
     "grade": true,
     "grade_id": "aufgabe2-test",
     "locked": true,
     "points": 8,
     "schema_version": 3,
     "solution": false,
     "task": false
    },
    "tags": []
   },
   "outputs": [],
   "source": [
    "val tests = mapOf(\"2053-04-09\" to 544898, \"2052-12-27\" to 21566, \"2053-01-18\" to 74406, \"2054-03-05\" to -1)\n",
    "for ((datum, anzahl) in tests){\n",
    "    if (daten.gibAnzahlDosen(datum, \"DE\") != anzahl)\n",
    "        throw AssertionError(\"daten.gibAnzahlDosen($datum): ${daten.gibAnzahlDosen(datum, \"DE\")} != ${anzahl}\")\n",
    "}"
   ]
  },
  {
   "cell_type": "markdown",
   "id": "defensive-parallel",
   "metadata": {
    "deletable": false,
    "editable": false,
    "nbgrader": {
     "cell_type": "markdown",
     "checksum": "a91129238012ba12f7374c48bd2c6145",
     "grade": false,
     "grade_id": "markdown-5",
     "locked": true,
     "schema_version": 3,
     "solution": false,
     "task": false
    }
   },
   "source": [
    "## Verbesserung der Daten I\n",
    "Mit der Methode `gibAnzahlDosen(datum, region)` kann nun die Differenz der Dosen zum Vortag ausgerechnet werden. Da der Datensatz einige Lücken bezüglich des Eintrags `dosen_differenz_zum_vortag` aufweist, sollen diese jetzt vefüllt werden. Dazu bauen wir uns einen neuen Datensatz `datenVollstaendig` in der Funktion `vervollstaenigeLuecken(daten)` zusammen. Das Grundgerüst des `DataFrame`s ist bereits vorbereitet. Eine Zeile kann mit der Methode [`bindRows(map)`](https://holgerbrandl.github.io/krangl/javadoc/krangl/krangl/bind-rows.html) angehängt werden."
   ]
  },
  {
   "cell_type": "code",
   "execution_count": null,
   "id": "extraordinary-routine",
   "metadata": {
    "deletable": false,
    "execution": {
     "iopub.execute_input": "2021-04-14T14:03+0200",
     "iopub.status.busy": "2021-04-14T14:03+0200",
     "iopub.status.idle": "2021-04-14T14:03+0200",
     "shell.execute_reply": "2021-04-14T14:03+0200"
    },
    "nbgrader": {
     "cell_type": "code",
     "checksum": "b1ae2b657feaac9800775153ea3c138c",
     "grade": false,
     "grade_id": "aufgabe3-code",
     "locked": false,
     "schema_version": 3,
     "solution": true,
     "task": false
    },
    "tags": []
   },
   "outputs": [],
   "source": [
    "fun vervollstaendigeLuecken(daten: DataFrame): DataFrame {\n",
    "    var datenVollstaendig: DataFrame = emptyDataFrame()\n",
    "    // YOUR CODE HERE\n",
    "    throw NotImplementedError()\n",
    "    return datenVollstaendig\n",
    "}\n"
   ]
  },
  {
   "cell_type": "code",
   "execution_count": null,
   "id": "equipped-dimension",
   "metadata": {
    "deletable": false,
    "editable": false,
    "execution": {
     "iopub.execute_input": "2021-04-14T14:03+0200",
     "iopub.status.busy": "2021-04-14T14:03+0200",
     "iopub.status.idle": "2021-04-14T14:04+0200",
     "shell.execute_reply": "2021-04-14T14:04+0200",
     "shell.execute_reply.started": "2021-04-14T14:03+0200"
    },
    "nbgrader": {
     "cell_type": "code",
     "checksum": "debb7d3a989fa986cb3d5c8c01af3d1d",
     "grade": true,
     "grade_id": "aufgabe3-test",
     "locked": true,
     "points": 6,
     "schema_version": 3,
     "solution": false,
     "task": false
    },
    "tags": []
   },
   "outputs": [],
   "source": [
    "val testdaten = vervollstaendigeLuecken(daten)\n",
    "val luecken = (testdaten.filterByRow { it[\"metric\"] == \"dosen_differenz_zum_vortag\" && it[\"value\"] == \"\" }.count().get(0).get(0) as Int)\n",
    "if (luecken > 0)\n",
    "    throw AssertionError(\"Anzahl der Lücken: ${luecken} > 0\")"
   ]
  },
  {
   "cell_type": "markdown",
   "id": "0c9d66f5",
   "metadata": {
    "deletable": false,
    "editable": false,
    "nbgrader": {
     "cell_type": "markdown",
     "checksum": "648f33d9253d4f6dd49b282deaa7d11c",
     "grade": false,
     "grade_id": "markdown-6",
     "locked": true,
     "schema_version": 3,
     "solution": false,
     "task": false
    }
   },
   "source": [
    "## Verbesserung der Daten II\n",
    "Bei genaueren Betrachtung der Daten mit einem genaueren Blick auf die Datentypen der Spalten, fällt auf, dass alle Werte der Spalte *value* den Datentyp `String` besitzen. Da aber in dieser Spalte nur Fließkommazahlen oder nichts vorzufinden ist, würde der Datenyp `Double` besser passen. Passen Sie Ihre Lösung von *Verbesserung der Daten I* insoweit an, dass in der Spalte *value* nur noch Werte des Datentyps `Double` zu finden sind, falls ein gültiger Wert enthalten ist. Ansonsten soll `null` eingefügt werden. Schreiben Sie die Lösung zu dieser Aufgabe in die Funktion `vervollstaenigeDaten(daten)`."
   ]
  },
  {
   "cell_type": "code",
   "execution_count": null,
   "id": "later-impact",
   "metadata": {
    "deletable": false,
    "execution": {
     "iopub.execute_input": "2021-04-14T14:04+0200",
     "iopub.status.busy": "2021-04-14T14:04+0200",
     "iopub.status.idle": "2021-04-14T14:05+0200",
     "shell.execute_reply": "2021-04-14T14:05+0200",
     "shell.execute_reply.started": "2021-04-14T14:04+0200"
    },
    "nbgrader": {
     "cell_type": "code",
     "checksum": "05f77f338b18565cf1c7ee3f9bfd9446",
     "grade": false,
     "grade_id": "aufgabe4-code",
     "locked": false,
     "schema_version": 3,
     "solution": true,
     "task": false
    },
    "tags": []
   },
   "outputs": [],
   "source": [
    "fun vervollstaendigeDaten(daten: DataFrame): DataFrame {\n",
    "    var datenVollstaendig: DataFrame = emptyDataFrame()\n",
    "    // YOUR CODE HERE\n",
    "    throw NotImplementedError()\n",
    "    return datenVollstaendig\n",
    "}"
   ]
  },
  {
   "cell_type": "code",
   "execution_count": null,
   "id": "3dc23382",
   "metadata": {
    "deletable": false,
    "editable": false,
    "nbgrader": {
     "cell_type": "code",
     "checksum": "367a06ed3eb5901f172c6a6f2c3a9213",
     "grade": true,
     "grade_id": "aufgabe4-test",
     "locked": true,
     "points": 3,
     "schema_version": 3,
     "solution": false,
     "task": false
    }
   },
   "outputs": [],
   "source": [
    "val testdaten = vervollstaendigeDaten(daten)\n",
    "val luecken = (testdaten.filterByRow { it[\"metric\"] == \"dosen_differenz_zum_vortag\" && it[\"value\"] == null}.count().get(0).get(0) as Int)\n",
    "if (luecken > 0)\n",
    "    throw AssertionError(\"Anzahl der Lücken: ${luecken} > 0\")\n",
    "if (testdaten.get(\"value\")::class.simpleName != \"DoubleCol\")\n",
    "    throw AssertionError(\"Datentyp der Spalte value: ${testdaten.get(\"value\")::class.simpleName} != DoubleCol\")"
   ]
  },
  {
   "cell_type": "markdown",
   "id": "victorian-thong",
   "metadata": {
    "deletable": false,
    "editable": false,
    "execution": {
     "iopub.execute_input": "2021-04-11T16:33+0200",
     "iopub.status.busy": "2021-04-11T16:33+0200",
     "iopub.status.idle": "2021-04-11T16:33+0200",
     "shell.execute_reply": "2021-04-11T16:33+0200",
     "shell.execute_reply.started": "2021-04-11T16:33+0200"
    },
    "nbgrader": {
     "cell_type": "markdown",
     "checksum": "bf2c9bf943720b62379b6cce15c584ce",
     "grade": false,
     "grade_id": "markdown-7",
     "locked": true,
     "schema_version": 3,
     "solution": false,
     "task": false
    },
    "tags": []
   },
   "source": [
    "## Wann wurden am meisten Dosen mit der Indikaton Alter verimpft?\n",
    "In den Daten ist außerdem angegeben aus welchem Grund eine Impfung verabreicht wurde. Implementieren Sie eine Erweiterungsmethode `gibDatumAlter()`, die das Datum des Tages zurückgibt, an dem am meisten Dosen augrund der Indikation Alter verabreicht wurden."
   ]
  },
  {
   "cell_type": "code",
   "execution_count": null,
   "id": "former-mattress",
   "metadata": {
    "deletable": false,
    "execution": {
     "iopub.execute_input": "2021-04-14T14:04+0200",
     "iopub.status.busy": "2021-04-14T14:04+0200",
     "iopub.status.idle": "2021-04-14T14:04+0200",
     "shell.execute_reply": "2021-04-14T14:04+0200"
    },
    "nbgrader": {
     "cell_type": "code",
     "checksum": "588f60a5ac60fcdfe1fc3de8d93a70fb",
     "grade": false,
     "grade_id": "aufgabe5-code",
     "locked": false,
     "schema_version": 3,
     "solution": true,
     "task": false
    }
   },
   "outputs": [],
   "source": [
    "fun DataFrame.gibDatumAlter(): String {\n",
    "    // YOUR CODE HERE\n",
    "    throw NotImplementedError()\n",
    "}"
   ]
  },
  {
   "cell_type": "code",
   "execution_count": null,
   "id": "e642aff7",
   "metadata": {
    "deletable": false,
    "editable": false,
    "nbgrader": {
     "cell_type": "code",
     "checksum": "06a3adc8bc67b011e497165dd7da32f0",
     "grade": true,
     "grade_id": "aufgabe5-test",
     "locked": true,
     "points": 6,
     "schema_version": 3,
     "solution": false,
     "task": false
    }
   },
   "outputs": [],
   "source": [
    "val testdaten = vervollstaendigeDaten(daten)\n",
    "if (testdaten.gibDatumAlter() != \"2053-04-05\")\n",
    "    throw AssertionError(\"testdaten.gibDatumAlter(): ${testdaten.gibDatumAlter()} != 2053-04-05\")"
   ]
  },
  {
   "cell_type": "markdown",
   "id": "dangerous-cornell",
   "metadata": {
    "deletable": false,
    "editable": false,
    "nbgrader": {
     "cell_type": "markdown",
     "checksum": "e1804d95660bc62fdbb6e71320f8d246",
     "grade": false,
     "grade_id": "markdown-8",
     "locked": true,
     "schema_version": 3,
     "solution": false,
     "task": false
    }
   },
   "source": [
    "## Wer wird eigentlich geimpft?\n",
    "In dieser Aufgabe soll der Frage nachgegangen werden, wer eigentlich geimpft wird. In den Daten gibt es dazu 4 Metriken: *indikation_alter_dosen*, *indikation_beruf_dosen*, *indikation_medizinisch_dosen*, *indikation_pflegeheim_dosen*. Implementieren Sie eine Erweiterungsmethode `gibIndikationen()` der Klasse `DataFrame`, die eine Liste des Datentyps `List<Map<String, Map<String, Any>>>` zurückgibt. In dieser soll für jedes Datum eine Map, in der die verschiedenenen Indikationen der Schlüssel (Alter, Beruf, Medizinisch, Pflegeheim) sind, existieren. Die Werte zu den Indikationen sind die an diesem Tag verimpften Dosen der Infikation. Außerdem soll unter dem Schlüssel *Max* eine weitere Map zu finden sein, die als Schlüssel die Indikation mit den meisten Dosen an diesem Datum und als Wert die Anzahl besitzt.  \n",
    "Beispiel:  \n",
    "[{2052-12-27={Alter=5833.0, Beruf=7618.0, Medizinisch=962.0, Pflegeheim=11646.0, Max={Pflegeheim=11646.0}}}, {2052-12-28={Alter=6399.0, Beruf=7346.0, Medizinisch=699.0, Pflegeheim=10121.0, Max={Pflegeheim=10121.0}}}, ... ]"
   ]
  },
  {
   "cell_type": "code",
   "execution_count": null,
   "id": "surrounded-remove",
   "metadata": {
    "deletable": false,
    "execution": {
     "iopub.execute_input": "2021-04-14T14:04+0200",
     "iopub.status.busy": "2021-04-14T14:04+0200",
     "iopub.status.idle": "2021-04-14T14:04+0200",
     "shell.execute_reply": "2021-04-14T14:04+0200"
    },
    "nbgrader": {
     "cell_type": "code",
     "checksum": "81be9aa90e45968dcd96f2919650e74f",
     "grade": false,
     "grade_id": "aufgabe6-code",
     "locked": false,
     "schema_version": 3,
     "solution": true,
     "task": false
    }
   },
   "outputs": [],
   "source": [
    "fun DataFrame.gibIndikationen(): List<Map<String, Map<String, Any>>> {\n",
    "    // YOUR CODE HERE\n",
    "    throw NotImplementedError()\n",
    "}"
   ]
  },
  {
   "cell_type": "code",
   "execution_count": null,
   "id": "operational-repair",
   "metadata": {
    "deletable": false,
    "editable": false,
    "execution": {
     "iopub.execute_input": "2021-04-14T14:04+0200",
     "iopub.status.busy": "2021-04-14T14:04+0200",
     "iopub.status.idle": "2021-04-14T14:04+0200",
     "shell.execute_reply": "2021-04-14T14:04+0200",
     "shell.execute_reply.started": "2021-04-14T14:04+0200"
    },
    "nbgrader": {
     "cell_type": "code",
     "checksum": "bfa8a8ee0082496e61abeefd86aaf88a",
     "grade": true,
     "grade_id": "aufgabe6-test",
     "locked": true,
     "points": 12,
     "schema_version": 3,
     "solution": false,
     "task": false
    },
    "tags": []
   },
   "outputs": [],
   "source": [
    "val testdaten = vervollstaendigeDaten(daten).gibIndikationen()\n",
    "val testZeilen = listOf(\"{2052-12-27={Alter=5833.0, Beruf=7618.0, Medizinisch=962.0, Pflegeheim=11646.0, Max={Pflegeheim=11646.0}}}\", \"{2052-12-28={Alter=6399.0, Beruf=7346.0, Medizinisch=699.0, Pflegeheim=10121.0, Max={Pflegeheim=10121.0}}}\")\n",
    "for (i in 0 until testZeilen.size){\n",
    "    if (testdaten[i].toString() != testZeilen[i])\n",
    "        throw AssertionError(\"${testdaten[i].toString()} != ${testZeilen[i]}\")\n",
    "}\n",
    "\n",
    "testdaten.forEach {\n",
    "    val max = it.values.toList()[0].values.take(4).toList().maxByOrNull { it as Double }\n",
    "    var string = it.values.toList()[0].values.drop(4)[0].toString()\n",
    "    val (indikator, dosen) = string.substring(1, string.length-1).split(\"=\")\n",
    "    if(max != dosen.toDouble())\n",
    "        throw AssertionError(\"Maximum in Zeile $it: $dosen != $max\")\n",
    "}"
   ]
  }
 ],
 "metadata": {
  "kernelspec": {
   "display_name": "Kotlin",
   "language": "kotlin",
   "name": "kotlin"
  },
  "language_info": {
   "codemirror_mode": "text/x-kotlin",
   "file_extension": ".kt",
   "mimetype": "text/x-kotlin",
   "name": "kotlin",
   "nbconvert_exporter": "",
   "pygments_lexer": "kotlin",
   "version": "1.5.20-dev-5817"
  }
 },
 "nbformat": 4,
 "nbformat_minor": 5
}
