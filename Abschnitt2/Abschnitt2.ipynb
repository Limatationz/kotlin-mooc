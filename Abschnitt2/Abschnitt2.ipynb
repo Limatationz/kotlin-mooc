{
 "cells": [
  {
   "cell_type": "markdown",
   "id": "matched-governor",
   "metadata": {},
   "source": [
    "<img src=\"images/Abschnitt2.png\" style=\"margin-left: auto; margin-right: auto; display: block; margin-bottom: 20px\"/>\n",
    "<h1 style=\"display:none\">Abschnitt 2 - Funktionale Programmierung</h1>\n",
    "\n",
    "<img src=\"images/Einführung.png\" style=\"margin: 20px auto 10px 0px\"/>\n",
    "<h2 style=\"display:none\">Einführung</h2>\n",
    "<p>Nachdem im ersten Abschnitt die Grundlagen von Kotlin erlernt wurden, wird nun auf die zwei bereits bekannten Programmierparadigmen eingegangen. Während in Abschnitt 3 die objektorientierte Programmierung besprochen wird, soll es in diesem Abschnitt um die funktionale Programmierung gehen.</p>\n",
    "<p>In der funktionalen Programmierung, die sich aus der Mathematik entwickelt hat, stehen die Funktionen im Vordergrund. Diese werden als Relation zwischen Ein- und Ausgabe angesehen. Objekte oder Zustände sind verboten. Durch die klare Abgrenzung von Code und Modularität sind diese Funktionen besonders einfach zu validieren. Abgesehen von der Eingabe gibt es in der Regel keine weiteren zu beachtenden Einflussfaktoren oder Seiteneffekte. Diese Eigenschaft hilft bei der Erstellung eines Kontrollflusses, da jede Funktion nur ihr eigenes Ergebnis berechnet, dass nicht außerhalb von anderen Funktionen beeinflusst wird. Jedes Modul ist eigenständig. Wichtige Konzepte sind die bereits kennengelernten unveränderlichen Variablen und Funktionen. Hinzu kommen zwei weitere Aspekte: Lambdas, die auf dem Lambda-Kalkül beruhen und einen Objekttyp darstellen, der eine Funktion enthält, und Funktionen höherer Ordnung, die Lambdas als Parameter und Rückgabe verwenden.</p>\n",
    "<p>Bevor ab Lektion 2 die funktionalen Seiten von Kotlin präsentiert werden, müssen wir uns zunächst um den Umgang mit <code>null</code> kümmern. Bis jetzt konnten alle Variablen diesen Wert nicht annehmen, da das in Kotlin explizit angegeben und auch behandelt werden muss. Der Grund für diese Änderung ist die berühmt berüchtigte <code>NullPointerException</code>, die eine der intransparentesten Fehlermeldungen ist. Deswegen wurde Kotlin zusätzlich um einige Funktionalitäten erweitert, die einen ungewollten Zugriff auf <code>null</code> vorbeugen sollen.</p>\n",
    "\n",
    "<img src=\"images/Gliederung.png\" style=\"margin: 20px auto 10px 0px\"/>\n",
    "<h3 style=\"display:none\">Gliederung</h3>\n",
    "Dieser Abschnitt ist wie folgt strukturiert:\n",
    "<ol>\n",
    "    <li>null oder nicht null</li>\n",
    "    <li>Lambda-Ausdrücke</li>\n",
    "    <li>Erweiterte Lambda-Ausdrücke</li>\n",
    "    <li>reciever-Funktionen</li>\n",
    "    <li>Lambda-Ausdrücke in Verbindung mit ausgewählten Methoden und Datenstrukturen</li>\n",
    "    <li>Verbindung von Lambda-Ausdrücken</li>\n",
    "    <li>Funktionen höherer Ordnung</li>\n",
    "</ol>\n",
    "\n",
    "<img src=\"images/Lernziele.png\" style=\"margin: 20px auto 10px 0px\"/>\n",
    "<h3 style=\"display:none\">Lernziele</h3>\n",
    "Nach diesem Abschnitt sollst Du in der Lage sein:\n",
    "<ul>\n",
    "    <li>die Unterschiede zwischen einer nullable und nonnullable Variable aufzuzeigen.</li>\n",
    "    <li>nullable Datentypen in deinem Code zu verwenden.</li>\n",
    "    <li>das Konzept der Lambda-Ausdrücke zu nennen.</li>\n",
    "    <li>korrekte Lambda-Ausdrücke zu formulieren und diese an einen gegebenen Anwendungsfall anzupassen.</li>\n",
    "    <li>Operationen auf Datenstrukturen mit mehreren passenden Lambda-Ausdrücken auszuführen.</li>\n",
    "    <li>Funktionen höherer Ordnung zu erkennen und diese zu analysieren.</li>\n",
    "</ul>  "
   ]
  },
  {
   "cell_type": "markdown",
   "id": "discrete-pottery",
   "metadata": {},
   "source": [
    "<img src=\"images/Lektion1.png\" style=\"margin: 20px auto 20px 0px\"/>\n",
    "<h2 style=\"display:none\">Lektion 1 - null oder nicht null?</h2>\n",
    "\n",
    "Bisher konnten alle Variablen und Funktionen nicht mit dem Wert `null` umgehen. Das soll sich aber in dieser Lektion ändern. Referenziert eine Variable `null`, so ist diese mit *keinem* Wert belegt. Wird im Laufe der Ausführung der Wert einer solchen Variable abgefragt, kommt es zu der bekannten Fehlermeldung `NullPointerException`. Der Grund ist dabei meist nicht direkt zu erkennen, da er bereits vor dem Zeitpunkt der Meldung herbeigeführt wurde. Dies führt zu einer langwierigen und nervigen Fehlersuche. Das erkannte auch Tony Hoare, der Erfinder von `null`. [2009](https://qconlondon.com/london-2009/qconlondon.com/london-2009/speaker/Tony+Hoare.html) nannte er seine Innovation den \"[...] billion-dollar mistake\". Den Ersteller:innen von Kotlin war dies bewusst und deswegen entschlossen sie sich dazu eine Art *Parallelwelt* zu erschaffen: Jeder Datentyp besitzt zusätzlich eine *nullable*, zusätzlich zu der *normalen* *non-nullable* Version. Durch diese Erweiterung werden `NullPointerExceptions` zwar nicht überflüssig, sondern zu Fehlern, die bei der Kompilierung und nicht bei der Ausführung auftreten. Dies ist möglich, da bei der Deklarierung der Variablen angegeben werden muss, welche *Version* der Datentyp verwenden soll. Der *nullable* Datentyp wird mit einem angehängten `?` gekennzeichnet. Bei der Deklarierung einer *nullable*-Variable muss der Datentyp immer angegeben werden."
   ]
  },
  {
   "cell_type": "code",
   "execution_count": 1,
   "id": "hired-marble",
   "metadata": {
    "execution": {
     "iopub.execute_input": "2021-04-18T14:36+0200",
     "iopub.status.busy": "2021-04-18T14:36+0200",
     "iopub.status.idle": "2021-04-18T14:36+0200",
     "shell.execute_reply": "2021-04-18T14:36+0200",
     "shell.execute_reply.started": "2021-04-18T14:36+0200"
    }
   },
   "outputs": [
    {
     "name": "stdout",
     "output_type": "stream",
     "text": [
      "v1: 0\n",
      "v2: null\n"
     ]
    }
   ],
   "source": [
    "var v1: Int = 0 //v1 kann nicht null werden\n",
    "//v1 = null -> Error: Null can not be a value of a non-null type Int\n",
    "println(\"v1: $v1\")\n",
    "\n",
    "var v2: Int? = 0 //v2 kann null werden\n",
    "v2 = null\n",
    "println(\"v2: $v2\")\n",
    "\n",
    "val v3 = null //Datentyp: Nothing?"
   ]
  },
  {
   "cell_type": "markdown",
   "id": "twelve-clerk",
   "metadata": {},
   "source": [
    "Im Code müssen als Folge alle Zugriffe auf eine *nullable*-Variable abgesichert werden. Das heißt, es muss vorher geprüft werden, ob die Variable aktuell den Wert `null` referenziert oder nicht."
   ]
  },
  {
   "cell_type": "code",
   "execution_count": 9,
   "id": "complicated-mouse",
   "metadata": {
    "tags": []
   },
   "outputs": [
    {
     "name": "stdout",
     "output_type": "stream",
     "text": [
      "v1: Kotlin, Länge: 6; v2: null, Länge: -1; \n"
     ]
    }
   ],
   "source": [
    "val v1: String? = \"Kotlin\"\n",
    "//val vsize1 = v1.length -> Error, da v1 null sein könnte und es nicht vorher überprüft wurde\n",
    "val size1 = if (v1 != null)\n",
    "                v1.length\n",
    "             else\n",
    "                -1\n",
    "\n",
    "val v2: String? = null\n",
    "val size2 = if (v2 != null)\n",
    "                v2.length\n",
    "             else\n",
    "                -1\n",
    "println(\"v1: $v1, Länge: $size1; v2: $v2, Länge: $size2; \")"
   ]
  },
  {
   "cell_type": "markdown",
   "id": "distinct-craps",
   "metadata": {},
   "source": [
    "### Umsetzung im Java Byte Code\n",
    "Bekanntlich basiert Kotlin auf der JVM und ist somit mit Java kompatibel. In Java wird aber nicht zwischen *nullable*- und *non-nullable*-Variablen unterschieden. Deswegen werden Anmerkungen zu jeder Variable oder Methode hinzugefügt, die definieren, ob `null` zugelassen ist oder nicht. Diese werden zur Kompilierzeit überprüft. Also ist während der Ausführung kein Unterschied festzustellen. Dazu ein Beispiel:\n",
    "<table style=\"font-size: 16px\">\n",
    "<thead>\n",
    "  <tr>\n",
    "    <th style=\"font-size: 16px; width: 250px\">Kotlin</th>\n",
    "    <th style=\"font-size: 16px; width: 350px\">Java Bytecode</th>\n",
    "  </tr>\n",
    "</thead>\n",
    "<tbody>\n",
    "  <tr>\n",
    "    <td style=\"font-size: 16px\"><code>val notNullable: Int = 0<br>val nullable: Int? = 0</code></td>\n",
    "    <td style=\"font-size: 16px\"><code>@NotNull<br />static final int notNullable = 0;<br />@Nullable<br />static final int nullable = 0;</code></td>\n",
    "  </tr>\n",
    "</tbody>\n",
    "</table>"
   ]
  },
  {
   "cell_type": "markdown",
   "id": "funky-coast",
   "metadata": {},
   "source": [
    "### Sicherer Zugriff\n",
    "Jedes Mal vor einem Zugriff `null` mit einer Verzweigung zu prüfen, kann lästig und platzraubend sein. Deswegen bietet Kotlin einen sogenannten sicheren Zugriff an. Dieser kann mit `?.` benutzt werden. Im Hintergrund wird an dieser Stelle überprüft, ob die Variable `null` ist. Falls das der Fall sein sollte, wird `null` zurückgegeben. Ansonsten wird die Anweisung ausgeführt."
   ]
  },
  {
   "cell_type": "code",
   "execution_count": 10,
   "id": "uniform-congress",
   "metadata": {
    "tags": []
   },
   "outputs": [
    {
     "name": "stdout",
     "output_type": "stream",
     "text": [
      "v1: Kotlin, Länge: 6; v2: null, Länge: null; \n"
     ]
    }
   ],
   "source": [
    "val v1: String? = \"Kotlin\"\n",
    "val size1 = v1?.length\n",
    "\n",
    "val v2: String? = null\n",
    "val size2 = v2?.length\n",
    "\n",
    "println(\"v1: $v1, Länge: $size1; v2: $v2, Länge: $size2; \")"
   ]
  },
  {
   "cell_type": "markdown",
   "id": "working-abortion",
   "metadata": {},
   "source": [
    "Sichere Zugriffe können auch aneinander gehängen werden. Die Anweisung wird nur ausgeführt, wenn keine Variable den Wert `null` besitzt.\n",
    "```kotlin\n",
    "kurs?.person1?.name?.length\n",
    "```"
   ]
  },
  {
   "cell_type": "markdown",
   "id": "ordered-pride",
   "metadata": {},
   "source": [
    "### `let`\n",
    "Soll eine Operation nur ausgeführt werden, wenn der Wert nicht `null` referenziert, kann `let` zusammen mit einem sicheren Zugriff verwendet werden. Dafür wird ein Lambda-Ausdruck benötigt, der in [Lektion 2](#Lektion-2---Lambda-Ausdrücke) näher betrachtet wird. In dem Ausdruck kann auf das aktuelle Element mit `it` zugegriffen werden."
   ]
  },
  {
   "cell_type": "code",
   "execution_count": 12,
   "id": "protected-settle",
   "metadata": {
    "tags": []
   },
   "outputs": [
    {
     "name": "stdout",
     "output_type": "stream",
     "text": [
      "Java\n",
      "Kotlin\n",
      "Lua\n",
      "C++\n"
     ]
    }
   ],
   "source": [
    "val liste = listOf(\"Java\", null, \"Kotlin\", \"Lua\", null, \"C++\") //Datentyp der Elemente der Liste: String?\n",
    "for (i in 0 until liste.size){ //durchläuft die Liste liste\n",
    "    liste[i]?.let { println(it) } //Greift mit einem sicheren Zugriff auf das Element an Stelle i zu. Falls dieses null ist, passiert nichts, ansonsten wird der Wert des Elements ausgegeben.\n",
    "}"
   ]
  },
  {
   "cell_type": "markdown",
   "id": "ad5c3564-9cec-498b-9f5d-9d59f603d0dd",
   "metadata": {},
   "source": [
    "### Datenstrukturen\n",
    "Auch können Datenstrukturen mit *nullable* Elementen gefüllt werden. Dafür muss bei der Deklarierung ein *nullable* Datentyp angegeben werden."
   ]
  },
  {
   "cell_type": "code",
   "execution_count": 71,
   "id": "b332cae7-3e88-4b70-92fb-4c702efae3e1",
   "metadata": {
    "tags": []
   },
   "outputs": [
    {
     "name": "stdout",
     "output_type": "stream",
     "text": [
      "liste1: [null, null, null, null, null]\n",
      "liste2: [0, 1, 2, 3, 4]\n",
      "liste3: [0, 1, 2, 3, 4, null]\n",
      "liste4: [1, 4, null, 1, 8, null]\n"
     ]
    }
   ],
   "source": [
    "val liste1 = List<Int?>(5) {null}\n",
    "println(\"liste1: $liste1\")\n",
    "\n",
    "val liste2 = MutableList<Int>(5) {it}\n",
    "//liste2.add(null) -> Error: Null can not be a value of a non-null type Int\n",
    "println(\"liste2: $liste2\")\n",
    "\n",
    "val liste3 = MutableList<Int?>(5) {it}\n",
    "liste3.add(null) \n",
    "println(\"liste3: $liste3\")\n",
    "\n",
    "val liste4 = listOf(1,4,null,1,8,null) //Datentyp: Int?\n",
    "println(\"liste4: $liste4\")"
   ]
  },
  {
   "cell_type": "markdown",
   "id": "5c7ea369-78c2-4a40-8c24-8f808bf71cdd",
   "metadata": {},
   "source": [
    "Eine Liste mit `null` kann in eine ohne `null` umgewandelt werden. Dies ist mit der Methode `filterNotNull()` möglich."
   ]
  },
  {
   "cell_type": "code",
   "execution_count": 10,
   "id": "d730b968-a324-41f2-95f0-0c7df93814ba",
   "metadata": {
    "execution": {
     "iopub.execute_input": "2021-04-18T14:37+0200",
     "iopub.status.busy": "2021-04-18T14:37+0200",
     "iopub.status.idle": "2021-04-18T14:37+0200",
     "shell.execute_reply": "2021-04-18T14:37+0200",
     "shell.execute_reply.started": "2021-04-18T14:37+0200"
    }
   },
   "outputs": [
    {
     "name": "stdout",
     "output_type": "stream",
     "text": [
      "listeMitNull: [1, 4, null, 1, 8, null]\n",
      "listeOhneNull: [1, 4, 1, 8]\n"
     ]
    }
   ],
   "source": [
    "val listeMitNull = listOf(1,4,null,1,8,null)\n",
    "val listeOhneNull = listeMitNull.filterNotNull()\n",
    "println(\"listeMitNull: $listeMitNull\")\n",
    "println(\"listeOhneNull: $listeOhneNull\")"
   ]
  },
  {
   "cell_type": "markdown",
   "id": "sustainable-thread",
   "metadata": {},
   "source": [
    "#### Aufgabe - nullable Liste\n",
    "- Implementiere eine Funktion `erzeugeListe`, die eine leere, veränderbare Liste der Länge 5 gefüllt mit `null` initialisiert und zurückgibt.\n",
    "- Füge eine weitere Funktion `fuelleListe` hinzu, der eine Liste übergeben wird. Jedem Element soll mit einer Wahrscheinlichkeit von 50% ein neuer Wert zugewiesen werden, der zwischen 1 und 20 liegt.\n",
    "- Implementiere eine dritte Funktion `printListe`, die nur die gefüllten Einträge der Liste ausgibt. Verwende dabei nicht die Methode `filterNotNull()`."
   ]
  },
  {
   "cell_type": "code",
   "execution_count": 37,
   "id": "5ca7354a-6984-454e-98bf-345bc394e7cf",
   "metadata": {},
   "outputs": [
    {
     "name": "stdout",
     "output_type": "stream",
     "text": [
      "Test 1: Liste: [null, null, null, null, 15], Ausgabe: 15 \n",
      "Test 2: Liste: [null, null, null, null, null], Ausgabe: \n",
      "Test 3: Liste: [null, 19, null, 15, null], Ausgabe: 19 15 \n",
      "Test 4: Liste: [null, 16, 2, null, 18], Ausgabe: 16 2 18 \n",
      "Test 5: Liste: [null, null, 12, 18, 16], Ausgabe: 12 18 16 \n"
     ]
    }
   ],
   "source": [
    "//TODO\n",
    "\n",
    "//Test\n",
    "for(i in 1..5){\n",
    "    val testListe = fuelleListe(erzeugeListe())\n",
    "    print(\"Test $i: Liste: ${testListe}, Ausgabe: \")\n",
    "    printListe(testListe)\n",
    "    println()\n",
    "}"
   ]
  },
  {
   "cell_type": "code",
   "execution_count": 38,
   "id": "damaged-aluminum",
   "metadata": {
    "tags": []
   },
   "outputs": [
    {
     "name": "stdout",
     "output_type": "stream",
     "text": [
      "Test 1: Liste: [null, null, null, null, null], Ausgabe: \n",
      "Test 2: Liste: [null, 16, null, 17, null], Ausgabe: 16 17 \n",
      "Test 3: Liste: [null, 18, 2, 14, null], Ausgabe: 18 2 14 \n",
      "Test 4: Liste: [10, 5, null, null, null], Ausgabe: 10 5 \n",
      "Test 5: Liste: [null, null, null, null, 13], Ausgabe: 13 \n"
     ]
    }
   ],
   "source": [
    "//Lösung\n",
    "fun erzeugeListe() = MutableList<Int?>(5) { null }\n",
    "\n",
    "fun fuelleListe(liste: MutableList<Int?>): MutableList<Int?> {\n",
    "    for (i in 0 until liste.size){\n",
    "        if ((0..2).random() == 1){\n",
    "            liste[i] = (1..20).random()\n",
    "        }\n",
    "    }\n",
    "    return liste\n",
    "}\n",
    "\n",
    "fun printListe(liste: List<Int?>){\n",
    "    for(i in 0 until liste.size){\n",
    "        liste[i]?.let {print(\"$it \")}\n",
    "    }\n",
    "}\n",
    "\n",
    "//Test\n",
    "for(i in 1..5){\n",
    "    val testListe = fuelleListe(erzeugeListe())\n",
    "    print(\"Test $i: Liste: ${testListe}, Ausgabe: \")\n",
    "    printListe(testListe)\n",
    "    println()\n",
    "}"
   ]
  },
  {
   "cell_type": "markdown",
   "id": "gross-compatibility",
   "metadata": {},
   "source": [
    "### Elvis Operator\n",
    "Mit `?.` wurde bereits eine Möglichkeit des sicheren Zugriffs vorgestellt. Jedoch wird, falls die Variable `null` referenziert, dies auch zurückgeben. Das ist nicht immer sinnvoll. Wenn anstelle dessen ein bestimmter Wert zurückgegeben werden soll, ist der Elvis Operator `?:` zu bevorzugen. Es ist äquivalent:\n",
    "<table style=\"font-size: 16px\">\n",
    "<thead>\n",
    "  <tr>\n",
    "    <th style=\"font-size: 16px; width: 300px\">if-Verzweigung</th>\n",
    "    <th style=\"font-size: 16px; width: 300px\">Elvis-Operator</th>\n",
    "  </tr>\n",
    "</thead>\n",
    "<tbody>\n",
    "  <tr>\n",
    "    <td style=\"font-size: 16px\"><pre>val size = if (v != null)<br />   v.length<br />else<br />   -1</pre></td>\n",
    "    <td style=\"font-size: 16px\"><pre>val size = v?.length ?: -1</pre></td>\n",
    "  </tr>\n",
    "</tbody>\n",
    "</table>\n",
    "\n",
    "\n",
    "Falls die linke Seite von `?:` `null` ist, wird der Wert rechts zurückgegeben. Ansonsten wird die Anweisung ausgeführt. Der Elvis Operator kann auch in Verbindung mit `return` oder `throw` verwendet werden."
   ]
  },
  {
   "cell_type": "code",
   "execution_count": 48,
   "id": "existing-biodiversity",
   "metadata": {
    "tags": []
   },
   "outputs": [
    {
     "name": "stdout",
     "output_type": "stream",
     "text": [
      "nullableCharZuInt(null): -1\n",
      "nullableCharZuInt('A'): 65\n"
     ]
    }
   ],
   "source": [
    "fun nullableCharZuInt (a: Char?) = a?.toInt() ?: -1\n",
    "\n",
    "println(\"nullableCharZuInt(null): ${nullableCharZuInt(null)}\")\n",
    "println(\"nullableCharZuInt('A'): ${nullableCharZuInt('A')}\")"
   ]
  },
  {
   "cell_type": "markdown",
   "id": "helpful-smart",
   "metadata": {},
   "source": [
    "### `!!` Operator\n",
    "Ganz verschwunden sind die `NullPointerExceptions` aber nicht. Mit `!!` wird die Variable in eine *non-nullable*-Variable umgewandelt. Sollte bei diesem Vorgang die Variable `null` referenzieren, wird eine `NullPointerException` geworfen."
   ]
  },
  {
   "cell_type": "code",
   "execution_count": 49,
   "id": "technical-bracelet",
   "metadata": {
    "tags": []
   },
   "outputs": [
    {
     "name": "stdout",
     "output_type": "stream",
     "text": [
      "6\n"
     ]
    },
    {
     "name": "stderr",
     "output_type": "stream",
     "text": [
      "\n",
      "java.lang.NullPointerException\n",
      "org.jetbrains.kotlinx.jupyter.ReplEvalRuntimeException: \n",
      "\tat org.jetbrains.kotlinx.jupyter.repl.impl.InternalEvaluatorImpl.eval(InternalEvaluatorImpl.kt:91)\n",
      "\tat org.jetbrains.kotlinx.jupyter.repl.impl.CellExecutorImpl$execute$1$result$1.invoke(CellExecutorImpl.kt:63)\n",
      "\tat org.jetbrains.kotlinx.jupyter.repl.impl.CellExecutorImpl$execute$1$result$1.invoke(CellExecutorImpl.kt:62)\n",
      "\tat org.jetbrains.kotlinx.jupyter.ReplForJupyterImpl.withHost(repl.kt:536)\n",
      "\tat org.jetbrains.kotlinx.jupyter.repl.impl.CellExecutorImpl.execute(CellExecutorImpl.kt:62)\n",
      "\tat org.jetbrains.kotlinx.jupyter.repl.CellExecutor$DefaultImpls.execute$default(CellExecutor.kt:13)\n",
      "\tat org.jetbrains.kotlinx.jupyter.ReplForJupyterImpl$eval$1.invoke(repl.kt:371)\n",
      "\tat org.jetbrains.kotlinx.jupyter.ReplForJupyterImpl$eval$1.invoke(repl.kt:361)\n",
      "\tat org.jetbrains.kotlinx.jupyter.ReplForJupyterImpl.withEvalContext(repl.kt:346)\n",
      "\tat org.jetbrains.kotlinx.jupyter.ReplForJupyterImpl.eval(repl.kt:361)\n",
      "\tat org.jetbrains.kotlinx.jupyter.ProtocolKt$shellMessagesHandler$res$1.invoke(protocol.kt:291)\n",
      "\tat org.jetbrains.kotlinx.jupyter.ProtocolKt$shellMessagesHandler$res$1.invoke(protocol.kt:290)\n",
      "\tat org.jetbrains.kotlinx.jupyter.JupyterConnection$runExecution$execThread$1.invoke(connection.kt:162)\n",
      "\tat org.jetbrains.kotlinx.jupyter.JupyterConnection$runExecution$execThread$1.invoke(connection.kt:160)\n",
      "\tat kotlin.concurrent.ThreadsKt$thread$thread$1.run(Thread.kt:30)\n",
      "Caused by: java.lang.NullPointerException\n",
      "\tat Line_60.<init>(Line_60.jupyter-kts:5)\n",
      "\tat sun.reflect.NativeConstructorAccessorImpl.newInstance0(Native Method)\n",
      "\tat sun.reflect.NativeConstructorAccessorImpl.newInstance(NativeConstructorAccessorImpl.java:62)\n",
      "\tat sun.reflect.DelegatingConstructorAccessorImpl.newInstance(DelegatingConstructorAccessorImpl.java:45)\n",
      "\tat java.lang.reflect.Constructor.newInstance(Constructor.java:423)\n",
      "\tat kotlin.script.experimental.jvm.BasicJvmScriptEvaluator.evalWithConfigAndOtherScriptsResults(BasicJvmScriptEvaluator.kt:96)\n",
      "\tat kotlin.script.experimental.jvm.BasicJvmScriptEvaluator.invoke$suspendImpl(BasicJvmScriptEvaluator.kt:41)\n",
      "\tat kotlin.script.experimental.jvm.BasicJvmScriptEvaluator.invoke(BasicJvmScriptEvaluator.kt)\n",
      "\tat kotlin.script.experimental.jvm.BasicJvmReplEvaluator.eval(BasicJvmReplEvaluator.kt:51)\n",
      "\tat org.jetbrains.kotlinx.jupyter.repl.impl.InternalEvaluatorImpl$eval$resultWithDiagnostics$1.invokeSuspend(InternalEvaluatorImpl.kt:84)\n",
      "\tat kotlin.coroutines.jvm.internal.BaseContinuationImpl.resumeWith(ContinuationImpl.kt:33)\n",
      "\tat kotlinx.coroutines.DispatchedTask.run(DispatchedTask.kt:106)\n",
      "\tat kotlinx.coroutines.EventLoopImplBase.processNextEvent(EventLoop.common.kt:274)\n",
      "\tat kotlinx.coroutines.BlockingCoroutine.joinBlocking(Builders.kt:84)\n",
      "\tat kotlinx.coroutines.BuildersKt__BuildersKt.runBlocking(Builders.kt:59)\n",
      "\tat kotlinx.coroutines.BuildersKt.runBlocking(Unknown Source)\n",
      "\tat kotlinx.coroutines.BuildersKt__BuildersKt.runBlocking$default(Builders.kt:38)\n",
      "\tat kotlinx.coroutines.BuildersKt.runBlocking$default(Unknown Source)\n",
      "\tat org.jetbrains.kotlinx.jupyter.repl.impl.InternalEvaluatorImpl.eval(InternalEvaluatorImpl.kt:84)\n",
      "\t... 14 more\n",
      "\n"
     ]
    }
   ],
   "source": [
    "val v1: String? = \"Kotlin\"\n",
    "val v2: String? = null\n",
    "\n",
    "println(v1?.length)\n",
    "println(v2!!.length)"
   ]
  },
  {
   "cell_type": "markdown",
   "id": "sized-channels",
   "metadata": {},
   "source": [
    "#### Aufgabe - Elvis-Operator und NullPointerExceptions\n",
    "Implementiere die Funktion `konvertieren` in zwei Ausführungen. In beiden Fällen soll ein Parameter, der einen beliebigen, *nullable* Datentyp besitzt, in einen `String`, der zurückgegeben werden soll, umgewandelt werden. `konvertierenElvis` soll den des Elvis-Operator verwenden und bei Übergabe von `null` die Zeichenkette `Fehler` zurückgeben. Bei der zweiten Implementierung, mit dem Namen `konvertierenNPE`, soll der `!!`-Operator verwendet und bei einer Referenzierung auf `null` eine `NullPointerException` geworfen werden."
   ]
  },
  {
   "cell_type": "code",
   "execution_count": 69,
   "id": "f5132544-88be-4159-94dc-dc24452048ab",
   "metadata": {},
   "outputs": [
    {
     "name": "stdout",
     "output_type": "stream",
     "text": [
      "Super! konvertierenElvis ist richtig.\n",
      "Super! konvertierenNPE ist richtig.\n"
     ]
    }
   ],
   "source": [
    "//TODO\n",
    "\n",
    "//Test\n",
    "if (konvertierenElvis(12) == \"12\" && konvertierenElvis(null) == \"Fehler\")\n",
    "    println(\"Super! konvertierenElvis ist richtig.\")\n",
    "else\n",
    "    println(\"Das Verhalten von konvertierenElvis ist noch nicht richtig.\")\n",
    "\n",
    "var testNPE = true\n",
    "if (konvertierenElvis(12) != \"12\")\n",
    "    testNPE = false\n",
    "try{\n",
    "    konvertierenNPE(null)\n",
    "    testNPE = false\n",
    "}\n",
    "catch (npe: NullPointerException){\n",
    "    testNPE = true\n",
    "}\n",
    "if(testNPE)\n",
    "    println(\"Super! konvertierenNPE ist richtig.\")\n",
    "else\n",
    "    println(\"Das Verhalten von konvertierenNPE ist noch nicht richtig.\")"
   ]
  },
  {
   "cell_type": "code",
   "execution_count": 70,
   "id": "c6fffd0e-b49e-4b5f-bd35-428ac959cfd7",
   "metadata": {},
   "outputs": [
    {
     "name": "stdout",
     "output_type": "stream",
     "text": [
      "Super! konvertierenElvis ist richtig.\n",
      "Super! konvertierenNPE ist richtig.\n"
     ]
    }
   ],
   "source": [
    "//Lösung\n",
    "fun konvertierenElvis (a: Any?) = a?.toString() ?: \"Fehler\"\n",
    "fun konvertierenNPE (a: Any?) = a!!.toString()\n",
    "\n",
    "//Test\n",
    "if (konvertierenElvis(12) == \"12\" && konvertierenElvis(null) == \"Fehler\")\n",
    "    println(\"Super! konvertierenElvis ist richtig.\")\n",
    "else\n",
    "    println(\"Das Verhalten von konvertierenElvis ist noch nicht richtig.\")\n",
    "\n",
    "var testNPE = true\n",
    "if (konvertierenElvis(12) != \"12\")\n",
    "    testNPE = false\n",
    "try{\n",
    "    konvertierenNPE(null)\n",
    "    testNPE = false\n",
    "}\n",
    "catch (npe: NullPointerException){\n",
    "    testNPE = true\n",
    "}\n",
    "if(testNPE)\n",
    "    println(\"Super! konvertierenNPE ist richtig.\")\n",
    "else\n",
    "    println(\"Das Verhalten von konvertierenNPE ist noch nicht richtig.\")"
   ]
  },
  {
   "cell_type": "markdown",
   "id": "optical-entry",
   "metadata": {},
   "source": [
    "### Safe Casts\n",
    "Die in Abschnitt 1 kennengelernte Typumwandlung kann noch weiter vereinfacht werden. Durch einen *safe cast* ist keine Überprüfung durch `is` mehr nötig. Das dafür benötigte Schlüsselwort ist `as?`. Sollte die Typumwandlung nicht möglich sein, wird der Ausdruck `null`. Ansonsten wird der Wert der Variable zurückgegeben. Eine analoge `if`-Verzweigung sieht folgendermaßen aus:\n",
    "```kotlin\n",
    "val string = if (any is String) a else null\n",
    "```"
   ]
  },
  {
   "cell_type": "code",
   "execution_count": 8,
   "id": "moral-swimming",
   "metadata": {
    "execution": {
     "iopub.execute_input": "2021-04-18T14:37+0200",
     "iopub.status.busy": "2021-04-18T14:37+0200",
     "iopub.status.idle": "2021-04-18T14:37+0200",
     "shell.execute_reply": "2021-04-18T14:37+0200",
     "shell.execute_reply.started": "2021-04-18T14:37+0200"
    }
   },
   "outputs": [
    {
     "name": "stdout",
     "output_type": "stream",
     "text": [
      "1\n",
      "null\n"
     ]
    }
   ],
   "source": [
    "val any: Any? = 0\n",
    "//Wenn Int\n",
    "println((any as? Int)?.inc())\n",
    "//Wenn String\n",
    "println((any as? String)?.toUpperCase())"
   ]
  },
  {
   "cell_type": "markdown",
   "id": "typical-jefferson",
   "metadata": {},
   "source": [
    "<img src=\"images/Lektion2.png\" style=\"margin: 20px auto 20px 0px\"/>\n",
    "<h2 style=\"display:none\">Lektion 2 - Lambda-Ausdrücke</h2>\n",
    "\n",
    "Wenn noch keine Erfahrungen im Bereich der funktionalen Programmierung erlangt wurden, ist es sehr wahrscheinlich, dass bei *Lambda* zuerst an λ aus der Mathematik gedacht wird. Aber keine Angst, es wird nicht mathematisch. In der funktionalen Programmierung sind Lambdas (oder auch Closures) vereinfachte Methoden, die beispielsweise auf Datenstrukturen angewendet werden. Jedoch wird zusätzlich bei Datenstrukturen eine mitgelieferte Methode benötigt, die den Lambda-Ausdruck verwenden kann.  \n",
    "Schauen wir uns dazu ein einführendes Beispiel an. In diesem sollen alle Elemente einer Liste mit 5 addiert werden. Zuerst eine mögliche imperative Lösung:"
   ]
  },
  {
   "cell_type": "code",
   "execution_count": 11,
   "id": "worst-convergence",
   "metadata": {
    "execution": {
     "iopub.execute_input": "2021-04-18T14:37+0200",
     "iopub.status.busy": "2021-04-18T14:37+0200",
     "iopub.status.idle": "2021-04-18T14:37+0200",
     "shell.execute_reply": "2021-04-18T14:37+0200",
     "shell.execute_reply.started": "2021-04-18T14:37+0200"
    }
   },
   "outputs": [
    {
     "name": "stdout",
     "output_type": "stream",
     "text": [
      "Vorher: [0, 1, 2, 3, 4, 5, 6, 7, 8, 9, 10, 11, 12, 13, 14, 15, 16, 17, 18, 19]\n",
      "Nachher: [5, 6, 7, 8, 9, 10, 11, 12, 13, 14, 15, 16, 17, 18, 19, 20, 21, 22, 23, 24]\n"
     ]
    }
   ],
   "source": [
    "val liste = MutableList(20) { it }\n",
    "println(\"Vorher: $liste\")\n",
    "for (i in 0 until liste.size){\n",
    "    liste[i] += 5\n",
    "}\n",
    "println(\"Nachher: $liste\")"
   ]
  },
  {
   "cell_type": "markdown",
   "id": "phantom-kruger",
   "metadata": {},
   "source": [
    "Für die funktionale Lösung wird ein Lambda-Ausdruck und eine Methode, die diesen auf der Liste anwendet, benötigt. Zuerst wird auf die Methode eingegangen. Wenn eine Methode auf jedes Element einer Liste angewendet werden soll, kommt `map` zum Einsatz. Sie gibt eine Datenstruktur (in diesem Fall eine Liste) zurück, bei der eine Funktion (genauer ein Lambda-Ausdruck) auf jedes Element angewendet wurde. Der Lambda-Ausdruck muss `map` als Parameter übergeben werden.  \n",
    "Ein Lambda wird von geschweiften Klammern ummantelt. Im Inneren wird eine Funktion in einer besonderen Schreibweise definiert. Auf der linken Seite werden die Parameter mit Name und Datentyp angegeben. Die rechte Seite beinhaltet den Funktionsrumpf. Getrennt werden die beiden Seiten mit `->`.  \n",
    "Daraus ergibt sich folgender Syntax:  \n",
    ">Lambda-Ausdruck -> \"{\" Parameter \"->\" Methodenrumpf \"}\"<br>\n",
    "Parameter -> Name \":\" Datentyp {\",\" Parameter}\n",
    "\n",
    "<img src=\"images/map.png\" style=\"margin: 20px auto 20px auto\" />\n",
    "\n",
    "In unserem Beispiel soll die Methode `map` auf eine Liste mit Elementen des Datentyps `Int` anwendet werden. Nach der Definition von `map` wird der Funktionsrumpf des Lambda-Ausdrucks immer auf das aktuelle Element angewendet. Daraus lässt sich ableiten, dass wir einen Parameter benötigen, der den Datentyp der Elemente besitzt. Der Funktionsrumpf muss am Ende außerdem einen Wert zurückgeben, der dem aktuellen Element (dem Parameter des Lambdas) zugewiesen wird. Dies erfolgt ohne das Schlüsselwort `return`. Die Rückgabe ist das Ergebnis der letzten Anweisung im Funktionsrumpf.  \n",
    "Dies kann man sich folgendermaßen vorstellen:<br>\n",
    "```kotlin\n",
    "{ elem: Int -> elem + 5}\n",
    "//Entspricht\n",
    "elem = elem + 5\n",
    "```\n",
    "Mit diesem Wissen kann eine funktionale Lösung des Beispiels erstellt werden:"
   ]
  },
  {
   "cell_type": "code",
   "execution_count": 12,
   "id": "first-sudan",
   "metadata": {
    "execution": {
     "iopub.execute_input": "2021-04-18T14:37+0200",
     "iopub.status.busy": "2021-04-18T14:37+0200",
     "iopub.status.idle": "2021-04-18T14:37+0200",
     "shell.execute_reply": "2021-04-18T14:37+0200",
     "shell.execute_reply.started": "2021-04-18T14:37+0200"
    }
   },
   "outputs": [
    {
     "name": "stdout",
     "output_type": "stream",
     "text": [
      "Vorher: [0, 1, 2, 3, 4, 5, 6, 7, 8, 9, 10, 11, 12, 13, 14, 15, 16, 17, 18, 19]\n",
      "Nachher: [5, 6, 7, 8, 9, 10, 11, 12, 13, 14, 15, 16, 17, 18, 19, 20, 21, 22, 23, 24]\n"
     ]
    }
   ],
   "source": [
    "var liste = MutableList(20) { it }\n",
    "println(\"Vorher: $liste\")\n",
    "val listeNeu = liste.map( { elem: Int -> elem + 5 } )\n",
    "println(\"Nachher: $listeNeu\")"
   ]
  },
  {
   "cell_type": "markdown",
   "id": "removable-strap",
   "metadata": {},
   "source": [
    "Dieser Ausdruck kann aber noch weiter verkürzt und verschönert werden. Da dem Kompiler klar ist, dass in unseren Fall `elem` immer vom Typ `Int` ist (da der Ausdruck auf eine Liste mit `Int`-Elementen angewendet wird) kann der Datentyp des Parameters weggelassen werden."
   ]
  },
  {
   "cell_type": "code",
   "execution_count": 13,
   "id": "empty-beauty",
   "metadata": {
    "execution": {
     "iopub.execute_input": "2021-04-18T14:37+0200",
     "iopub.status.busy": "2021-04-18T14:37+0200",
     "iopub.status.idle": "2021-04-18T14:37+0200",
     "shell.execute_reply": "2021-04-18T14:37+0200",
     "shell.execute_reply.started": "2021-04-18T14:37+0200"
    }
   },
   "outputs": [
    {
     "name": "stdout",
     "output_type": "stream",
     "text": [
      "Vorher: [0, 1, 2, 3, 4, 5, 6, 7, 8, 9, 10, 11, 12, 13, 14, 15, 16, 17, 18, 19]\n",
      "Nachher: [5, 6, 7, 8, 9, 10, 11, 12, 13, 14, 15, 16, 17, 18, 19, 20, 21, 22, 23, 24]\n"
     ]
    }
   ],
   "source": [
    "var liste = MutableList(20) { it }\n",
    "println(\"Vorher: $liste\")\n",
    "val listeNeu = liste.map( { elem -> elem + 5 } )\n",
    "println(\"Nachher: $listeNeu\")"
   ]
  },
  {
   "cell_type": "markdown",
   "id": "vertical-completion",
   "metadata": {},
   "source": [
    "Falls nur ein Parameter verwendet wird, ist eine konkrete Definition dessen überflüssig. Auf den im Hintergrund definierten Parameter kann dann mit dem bereits bekannten Schlüsselwort `it` zugegriffen werden."
   ]
  },
  {
   "cell_type": "code",
   "execution_count": 14,
   "id": "suspected-binding",
   "metadata": {
    "execution": {
     "iopub.execute_input": "2021-04-18T14:37+0200",
     "iopub.status.busy": "2021-04-18T14:37+0200",
     "iopub.status.idle": "2021-04-18T14:37+0200",
     "shell.execute_reply": "2021-04-18T14:37+0200",
     "shell.execute_reply.started": "2021-04-18T14:37+0200"
    }
   },
   "outputs": [
    {
     "name": "stdout",
     "output_type": "stream",
     "text": [
      "Vorher: [0, 1, 2, 3, 4, 5, 6, 7, 8, 9, 10, 11, 12, 13, 14, 15, 16, 17, 18, 19]\n",
      "Nachher: [5, 6, 7, 8, 9, 10, 11, 12, 13, 14, 15, 16, 17, 18, 19, 20, 21, 22, 23, 24]\n"
     ]
    }
   ],
   "source": [
    "var liste = MutableList(20) { it }\n",
    "println(\"Vorher: $liste\")\n",
    "val listeNeu = liste.map( { it + 5 } )\n",
    "println(\"Nachher: $listeNeu\")"
   ]
  },
  {
   "cell_type": "markdown",
   "id": "conscious-neighbor",
   "metadata": {},
   "source": [
    "Außerdem ist es gebräuchlich den Lambda-Ausdruck nicht in den Parameterklammern, sondern hinter diesen zu übergeben. Das ist nur möglich, wenn der Ausdruck der letzte Parameter ist (was dem Regelfall entspricht)."
   ]
  },
  {
   "cell_type": "code",
   "execution_count": 15,
   "id": "internal-fellowship",
   "metadata": {
    "execution": {
     "iopub.execute_input": "2021-04-18T14:37+0200",
     "iopub.status.busy": "2021-04-18T14:37+0200",
     "iopub.status.idle": "2021-04-18T14:37+0200",
     "shell.execute_reply": "2021-04-18T14:37+0200",
     "shell.execute_reply.started": "2021-04-18T14:37+0200"
    }
   },
   "outputs": [
    {
     "name": "stdout",
     "output_type": "stream",
     "text": [
      "Vorher: [0, 1, 2, 3, 4, 5, 6, 7, 8, 9, 10, 11, 12, 13, 14, 15, 16, 17, 18, 19]\n",
      "Nachher: [5, 6, 7, 8, 9, 10, 11, 12, 13, 14, 15, 16, 17, 18, 19, 20, 21, 22, 23, 24]\n"
     ]
    }
   ],
   "source": [
    "var liste = MutableList(20) { it }\n",
    "println(\"Vorher: $liste\")\n",
    "val listeNeu = liste.map() { it + 5 } \n",
    "println(\"Nachher: $listeNeu\")"
   ]
  },
  {
   "cell_type": "markdown",
   "id": "whole-friday",
   "metadata": {},
   "source": [
    "Werden der Methode keine weiteren Parameter übergeben, ist es möglich die leeren Klammern der Parameter wegzulassen."
   ]
  },
  {
   "cell_type": "code",
   "execution_count": 16,
   "id": "downtown-plate",
   "metadata": {
    "execution": {
     "iopub.execute_input": "2021-04-18T14:37+0200",
     "iopub.status.busy": "2021-04-18T14:37+0200",
     "iopub.status.idle": "2021-04-18T14:37+0200",
     "shell.execute_reply": "2021-04-18T14:37+0200",
     "shell.execute_reply.started": "2021-04-18T14:37+0200"
    }
   },
   "outputs": [
    {
     "name": "stdout",
     "output_type": "stream",
     "text": [
      "Vorher: [0, 1, 2, 3, 4, 5, 6, 7, 8, 9, 10, 11, 12, 13, 14, 15, 16, 17, 18, 19]\n",
      "Nachher: [5, 6, 7, 8, 9, 10, 11, 12, 13, 14, 15, 16, 17, 18, 19, 20, 21, 22, 23, 24]\n"
     ]
    }
   ],
   "source": [
    "var liste = MutableList(20) { it }\n",
    "println(\"Vorher: $liste\")\n",
    "val listeNeu = liste.map { it + 5 } \n",
    "println(\"Nachher: $listeNeu\")"
   ]
  },
  {
   "cell_type": "markdown",
   "id": "permanent-april",
   "metadata": {},
   "source": [
    "#### Aufgabe - Liste umkehren\n",
    "Vervollständige folgenden Code, sodass zuerst eine Liste `liste` mit 200 Elementen erstellt wird, die mit deren Index gefüllt sind. Verwende daraufhin die Methode `map` in Verbindung mit einem passendem Lambda-Ausdruck, sodass die Werte der Liste umgedreht und in einer neuen Liste `listeUmgekehrt` gespeichert werden. (Beispiel: Voher: [0, 1, 2, 3], Nachher: [3, 2, 1, 0])"
   ]
  },
  {
   "cell_type": "code",
   "execution_count": 19,
   "id": "intensive-surrey",
   "metadata": {
    "execution": {
     "iopub.execute_input": "2021-04-18T14:37+0200",
     "iopub.status.busy": "2021-04-18T14:37+0200",
     "iopub.status.idle": "2021-04-18T14:37+0200",
     "shell.execute_reply": "2021-04-18T14:37+0200"
    }
   },
   "outputs": [
    {
     "name": "stderr",
     "output_type": "stream",
     "text": [
      "Line_24.jupyter.kts (12:5 - 19) Unresolved reference: listeUmgekehrt\n",
      "Line_24.jupyter.kts (13:75 - 89) Unresolved reference: listeUmgekehrt"
     ]
    }
   ],
   "source": [
    "//TODO \n",
    "\n",
    "//Test\n",
    "var fehler = 0\n",
    "for (i in 0..199 step 32){\n",
    "    if (liste[i] != i){\n",
    "        println(\"Fehler in liste! Element $i sollte eigentlich $i sein, ist aber ${liste[i]}\")\n",
    "        fehler++\n",
    "    }\n",
    "}\n",
    "if (listeUmgekehrt != liste.reversed()){\n",
    "    println(\"Fehler in listeUmgekehrt! \\nliste: $liste \\nlisteUmgekehrt: $listeUmgekehrt\")\n",
    "    fehler++\n",
    "}\n",
    "if(fehler == 0)\n",
    "    println(\"Super! Alle Tests bestanden!\")\n",
    "else\n",
    "    println(\"Bei $fehler Tests kamen Fehler auf.\")"
   ]
  },
  {
   "cell_type": "code",
   "execution_count": 78,
   "id": "immediate-reminder",
   "metadata": {
    "tags": []
   },
   "outputs": [
    {
     "name": "stdout",
     "output_type": "stream",
     "text": [
      "Super! Alle Tests bestanden!\n"
     ]
    }
   ],
   "source": [
    "//Lösung\n",
    "val liste = List(200) { it }\n",
    "val listeUmgekehrt = liste.map { 199 - it }\n",
    "\n",
    "\n",
    "//Test\n",
    "var fehler = 0\n",
    "for (i in 0..199 step 32){\n",
    "    if (liste[i] != i){\n",
    "        println(\"Fehler in liste! Element $i sollte eigentlich $i sein, ist aber ${liste[i]}\")\n",
    "        fehler++\n",
    "    }\n",
    "}\n",
    "if (listeUmgekehrt != liste.reversed()){\n",
    "    println(\"Fehler in listeUmgekehrt! \\nliste: $liste \\nlisteUmgekehrt: $listeUmgekehrt\")\n",
    "    fehler++\n",
    "}\n",
    "if(fehler == 0)\n",
    "    println(\"Super! Alle Tests bestanden!\")\n",
    "else\n",
    "    println(\"Bei $fehler Tests kamen Fehler auf.\")"
   ]
  },
  {
   "cell_type": "markdown",
   "id": "silent-medicare",
   "metadata": {},
   "source": [
    "<img src=\"images/Lektion3.png\" style=\"margin: 20px auto 20px 0px\"/>\n",
    "<h2 style=\"display:none\">Lektion 3 - Erweiterte Lambda-Ausdrücke</h2>\n",
    "\n",
    "In dem Methodenrumpf von Lambda-Ausdrücken ist auch eine komplexere Programmierung möglich. So können beispielsweise Kontrollstrukturen eingebunden werden:"
   ]
  },
  {
   "cell_type": "code",
   "execution_count": 21,
   "id": "radio-avatar",
   "metadata": {
    "execution": {
     "iopub.execute_input": "2021-04-18T14:37+0200",
     "iopub.status.busy": "2021-04-18T14:37+0200",
     "iopub.status.idle": "2021-04-18T14:37+0200",
     "shell.execute_reply": "2021-04-18T14:37+0200",
     "shell.execute_reply.started": "2021-04-18T14:37+0200"
    }
   },
   "outputs": [
    {
     "name": "stdout",
     "output_type": "stream",
     "text": [
      "Vorher: [0, 1, 2, 3, 4, 5, 6, 7, 8, 9, 10, 11, 12, 13, 14, 15, 16, 17, 18, 19]\n",
      "Nachher: [0, 1, 1, 3, 2, 5, 3, 7, 4, 9, 5, 11, 6, 13, 7, 15, 8, 17, 9, 19]\n"
     ]
    }
   ],
   "source": [
    "var liste = MutableList(20) { it }\n",
    "println(\"Vorher: $liste\")\n",
    "val listeNeu = liste.map() {\n",
    "    if ((it % 2) == 0){\n",
    "        it / 2 //Ergebnis\n",
    "    }\n",
    "    else {\n",
    "        it //Ergebnis\n",
    "    }\n",
    "}\n",
    "println(\"Nachher: $listeNeu\")"
   ]
  },
  {
   "cell_type": "markdown",
   "id": "north-might",
   "metadata": {},
   "source": [
    "In dem oben genannten Beispiel werden alle Elemente durch 2 dividiert, falls es keinen Rest gibt.  \n",
    "Es fällt auf, dass ein explizites `return`-Statement fehlt. Das Ergbenis des Lambda-Ausdrucks ist immer die letzte Anweisung oder Variable. Das heißt aber nicht, dass gar kein `return` verwendet werden kann. Falls ein Lambda-Ausdruck in einer Methode zu finden ist, wird mit dem `return` in dem Lambda die Methode beendet."
   ]
  },
  {
   "cell_type": "code",
   "execution_count": 81,
   "id": "covered-bolivia",
   "metadata": {
    "tags": []
   },
   "outputs": [
    {
     "name": "stdout",
     "output_type": "stream",
     "text": [
      "Alle Elemente von liste1 sind durch 2 teilbar: true\n",
      "Alle Elemente von liste2 sind durch 2 teilbar: false\n"
     ]
    }
   ],
   "source": [
    "fun div2 (liste: List<Int>): Boolean{\n",
    "    liste.map {\n",
    "        if ((it % 2) != 0)\n",
    "            return false //beendet die Methode div2\n",
    "    }\n",
    "    return true\n",
    "}\n",
    "\n",
    "val liste1 = listOf(2,4,6,8)\n",
    "println(\"Alle Elemente von liste1 sind durch 2 teilbar: ${div2(liste1)}\")\n",
    "val liste2 = listOf(1,2,3,4)\n",
    "println(\"Alle Elemente von liste2 sind durch 2 teilbar: ${div2(liste2)}\")"
   ]
  },
  {
   "cell_type": "markdown",
   "id": "intense-daily",
   "metadata": {},
   "source": [
    "In einem Lambda-Ausdruck können auch Schleifen oder Variablen verwendet werden. Außerdem ist eine weitere Anwendung von Methoden der Datenstruktur nach der Auswertung des Lambda-Ausdrucks möglich."
   ]
  },
  {
   "cell_type": "code",
   "execution_count": 86,
   "id": "continental-mixer",
   "metadata": {
    "tags": []
   },
   "outputs": [
    {
     "name": "stdout",
     "output_type": "stream",
     "text": [
      "Alle Primzahlen von liste1: [0, 1, 2, 3, 5, 7, 11, 13, 17, 19, 23, 29, 31, 37, 41, 43, 47, 53, 59, 61, 67, 71, 73, 79, 83, 89, 97]\n"
     ]
    }
   ],
   "source": [
    "fun primzahlen(liste: List<Int>): List<Int?>{\n",
    "    return liste.map {\n",
    "        var prim = true //gibt an, ob das aktuelle Element einer Primzahl ist\n",
    "        for(i in 2 until it){ //Testet alle möglichen Teiler\n",
    "            if ((it % i) == 0) { //Teiler gefunden\n",
    "                prim = false //Keine Primzahl mehr\n",
    "            }\n",
    "        }\n",
    "        if (prim) //Rückgabe des Lambda-Ausdrucks\n",
    "            it\n",
    "        else\n",
    "            null\n",
    "    }.filterNotNull() //wird nach Auswertung des Lambda-Ausdrucks angewendet\n",
    "}\n",
    "\n",
    "val liste1 = List(100) { it }\n",
    "println(\"Alle Primzahlen von liste1: ${primzahlen(liste1)}\")"
   ]
  },
  {
   "cell_type": "markdown",
   "id": "muslim-founder",
   "metadata": {},
   "source": [
    "Anstelle einer Definition des Methodenrumpfes kann einem Lambda-Ausdruck auch ein vordefinierter Lambda-Ausdruck, der in einer Variable gespeichert wurde, benutzt werden. Dabei ist zu beachten, dass die Parameter und der Rückgabetyp übereinstimmen."
   ]
  },
  {
   "cell_type": "code",
   "execution_count": 87,
   "id": "organic-official",
   "metadata": {
    "tags": []
   },
   "outputs": [
    {
     "name": "stdout",
     "output_type": "stream",
     "text": [
      "[6, 7, 8, 9, 10]\n"
     ]
    }
   ],
   "source": [
    "val add5: (Int) -> Int = { a -> a + 5 }\n",
    "\n",
    "val liste = listOf(1,2,3,4,5)\n",
    "val listeNeu = liste.map (add5)\n",
    "println(listeNeu)"
   ]
  },
  {
   "cell_type": "markdown",
   "id": "aafedd9f-e65e-4e2f-982a-a2350296d18a",
   "metadata": {},
   "source": [
    "<img src=\"images/Lektion4.png\" style=\"margin: 20px auto 20px 0px\"/>\n",
    "<h2 style=\"display:none\">Lektion 4 - Lambda-Ausdrücke in Verbindung mit ausgewählten Methoden und Datenstrukturen</h2>\n",
    "\n",
    "Im Folgenden werden verschiedene Methoden zur Bearbeitung von Datenstrukturen und Lambda-Ausdrücke, mit Hilfe der Kotlin Bibliothek *krangl*, behandelt. Mit dieser können Daten tabellarisch dargestellt und einfach verarbeitet werden.   \n",
    "Untersucht werden Daten von Erde-14. Aufgrund eines Risses in der Zeit wurde das Universum zu einem Multiversum. Forscher haben bereits 53 Parallelerden ausfindig machen können. Speziell Erde-14 ist sehr ähnlich zu unserer Welt, Erde-1. Die Länderstruktur ist identisch und die Population ähnlich rasant gestiegen. Jedoch hat sich der kalte Krieg zwischen Amerika und Urzikstan, der zweiten Weltmacht, weiter zugespitzt. Das östliche Gegenstück zur NALO besteht immer noch und Jahr für Jahr steuert man weiter auf einen offenen Konflikt zu. In diesem Sinne beauftragte 2051 die urzikstanische Regierung ein Virus zu entwickeln, dass die NALO schwer treffen sollte. Nach einigen Jahren Entwicklung passierte jedoch ein gravierender Fehler. Das Virus, später wurde es *Urz-Con-4* genannt, wurde aus einem Labor in der Provinz Subey unabsichtlich freigesetzt und hält nun, 2 Jahre später, ganz Erde-14 in Atem. Um auf Erde-1 besser auf eine Pandemie dieser Art vorbereitet zu sein, sollen die Daten von Erde-14 von Dir genauer untersucht werden.  \n",
    "Aber zuerst müssen die verwendete Bibliothek und die bereitgestellten Daten verstanden werden:"
   ]
  },
  {
   "cell_type": "code",
   "execution_count": 97,
   "id": "similar-reputation",
   "metadata": {
    "tags": []
   },
   "outputs": [],
   "source": [
    "%use krangl\n",
    "val daten = DataFrame.readCSV(\"daten/virusErde14.csv\") //Liest die csv-Datei und wandelt sie in einen DataFrame um"
   ]
  },
  {
   "cell_type": "markdown",
   "id": "cultural-gardening",
   "metadata": {},
   "source": [
    "In der Variable `daten` sind im Folgenden die Rohdaten als `DataFrame` ([Dokumentation](https://holgerbrandl.github.io/krangl/javadoc/krangl/krangl/-data-frame/index.html)) gespeichert. Ein `DataFrame` besitzt folgende Attribute:\n",
    "<ul>\n",
    "    <li><code>cols: List&lt;DataCol></code>: Liste der Spalten</li>\n",
    "    <li><code>ncols: Int</code>: Anzahl der Spalten</li>\n",
    "    <li><code>rows: Iterable&lt;DataFrameRow></code>: Liste der Zeilen</li>\n",
    "    <li><code>nrows: Int</code>: Anzahl der Zeilen</li>\n",
    "    <li><code>names: List&lt;String></code>: Liste der Namen der Spalten</li>\n",
    "</ul>"
   ]
  },
  {
   "cell_type": "code",
   "execution_count": 98,
   "id": "bright-funeral",
   "metadata": {
    "tags": []
   },
   "outputs": [
    {
     "name": "stdout",
     "output_type": "stream",
     "text": [
      "Anzahl der Spalten: 14\n",
      "Anzahl der Zeilen: 3983\n",
      "Liste der Namen der Spalten: [FIPS, Admin2, Province_State, Country_Region, Last_Update, Lat, Long_, Confirmed, Deaths, Recovered, Active, Combined_Key, Incident_Rate, Case_Fatality_Ratio]\n"
     ]
    }
   ],
   "source": [
    "println(\"Anzahl der Spalten: ${daten.ncol}\")\n",
    "println(\"Anzahl der Zeilen: ${daten.nrow}\")\n",
    "println(\"Liste der Namen der Spalten: ${daten.names}\")"
   ]
  },
  {
   "cell_type": "markdown",
   "id": "appointed-string",
   "metadata": {},
   "source": [
    "Die Daten können mit Hilfe von `head(n)` ausgegeben werden. `n` steht für die Anzahl der Zeilen, die ausgegeben werden. Es ist maximal eine Darstellung von 20 zeilen möglich."
   ]
  },
  {
   "cell_type": "code",
   "execution_count": 99,
   "id": "scenic-happening",
   "metadata": {
    "tags": []
   },
   "outputs": [
    {
     "data": {
      "text/html": [
       "<html><body><table><tr><th style=\"text-align:left\">FIPS</th><th style=\"text-align:left\">Admin2</th><th style=\"text-align:left\">Province_State</th><th style=\"text-align:left\">Country_Region</th><th style=\"text-align:left\">Last_Update</th><th style=\"text-align:left\">Lat</th><th style=\"text-align:left\">Long_</th><th style=\"text-align:left\">Confirmed</th><th style=\"text-align:left\">Deaths</th><th style=\"text-align:left\">Recovered</th><th style=\"text-align:left\">Active</th><th style=\"text-align:left\">Combined_Key</th><th style=\"text-align:left\">Incident_Rate</th><th style=\"text-align:left\">Case_Fatality_Ratio</th></tr><tr><td style=\"text-align:left\" title=\"\"></td><td style=\"text-align:left\" title=\"\"></td><td style=\"text-align:left\" title=\"\"></td><td style=\"text-align:left\" title=\"Afghanistan\">Afghanistan</td><td style=\"text-align:left\" title=\"2021-04-08 04:21:13\">2021-04-08 04:21:13</td><td style=\"text-align:left\" title=\"33.93911\">33.93911</td><td style=\"text-align:left\" title=\"67.709953\">67.709953</td><td style=\"text-align:left\" title=\"56873\">56873</td><td style=\"text-align:left\" title=\"2512\">2512</td><td style=\"text-align:left\" title=\"51940\">51940</td><td style=\"text-align:left\" title=\"2421\">2421</td><td style=\"text-align:left\" title=\"Afghanistan\">Afghanistan</td><td style=\"text-align:left\" title=\"146.0966446014229\">146.0966446014229</td><td style=\"text-align:left\" title=\"4.416858614808433\">4.416858614808433</td></tr><tr><td style=\"text-align:left\" title=\"\"></td><td style=\"text-align:left\" title=\"\"></td><td style=\"text-align:left\" title=\"\"></td><td style=\"text-align:left\" title=\"Albania\">Albania</td><td style=\"text-align:left\" title=\"2021-04-08 04:21:13\">2021-04-08 04:21:13</td><td style=\"text-align:left\" title=\"41.1533\">41.1533</td><td style=\"text-align:left\" title=\"20.1683\">20.1683</td><td style=\"text-align:left\" title=\"127192\">127192</td><td style=\"text-align:left\" title=\"2291\">2291</td><td style=\"text-align:left\" title=\"95600\">95600</td><td style=\"text-align:left\" title=\"29301\">29301</td><td style=\"text-align:left\" title=\"Albania\">Albania</td><td style=\"text-align:left\" title=\"4419.765098339009\">4419.765098339009</td><td style=\"text-align:left\" title=\"1.801213912824706\">1.801213912824706</td></tr><tr><td style=\"text-align:left\" title=\"\"></td><td style=\"text-align:left\" title=\"\"></td><td style=\"text-align:left\" title=\"\"></td><td style=\"text-align:left\" title=\"Algeria\">Algeria</td><td style=\"text-align:left\" title=\"2021-04-08 04:21:13\">2021-04-08 04:21:13</td><td style=\"text-align:left\" title=\"28.0339\">28.0339</td><td style=\"text-align:left\" title=\"1.6596\">1.6596</td><td style=\"text-align:left\" title=\"118004\">118004</td><td style=\"text-align:left\" title=\"3116\">3116</td><td style=\"text-align:left\" title=\"82192\">82192</td><td style=\"text-align:left\" title=\"32696\">32696</td><td style=\"text-align:left\" title=\"Algeria\">Algeria</td><td style=\"text-align:left\" title=\"269.1019230717044\">269.1019230717044</td><td style=\"text-align:left\" title=\"2.6405884546286567\">2.6405884546286567</td></tr><tr><td style=\"text-align:left\" title=\"\"></td><td style=\"text-align:left\" title=\"\"></td><td style=\"text-align:left\" title=\"\"></td><td style=\"text-align:left\" title=\"Andorra\">Andorra</td><td style=\"text-align:left\" title=\"2021-04-08 04:21:13\">2021-04-08 04:21:13</td><td style=\"text-align:left\" title=\"42.5063\">42.5063</td><td style=\"text-align:left\" title=\"1.5218\">1.5218</td><td style=\"text-align:left\" title=\"12363\">12363</td><td style=\"text-align:left\" title=\"119\">119</td><td style=\"text-align:left\" title=\"11616\">11616</td><td style=\"text-align:left\" title=\"628\">628</td><td style=\"text-align:left\" title=\"Andorra\">Andorra</td><td style=\"text-align:left\" title=\"16000.776548243059\">16000.776548243059</td><td style=\"text-align:left\" title=\"0.9625495429911833\">0.9625495429911833</td></tr><tr><td style=\"text-align:left\" title=\"\"></td><td style=\"text-align:left\" title=\"\"></td><td style=\"text-align:left\" title=\"\"></td><td style=\"text-align:left\" title=\"Angola\">Angola</td><td style=\"text-align:left\" title=\"2021-04-08 04:21:13\">2021-04-08 04:21:13</td><td style=\"text-align:left\" title=\"-11.2027\">-11.2027</td><td style=\"text-align:left\" title=\"17.8739\">17.8739</td><td style=\"text-align:left\" title=\"23010\">23010</td><td style=\"text-align:left\" title=\"547\">547</td><td style=\"text-align:left\" title=\"21545\">21545</td><td style=\"text-align:left\" title=\"918\">918</td><td style=\"text-align:left\" title=\"Angola\">Angola</td><td style=\"text-align:left\" title=\"70.01099120837206\">70.01099120837206</td><td style=\"text-align:left\" title=\"2.3772272924815296\">2.3772272924815296</td></tr><tr><td style=\"text-align:left\" title=\"\"></td><td style=\"text-align:left\" title=\"\"></td><td style=\"text-align:left\" title=\"\"></td><td style=\"text-align:left\" title=\"Antigua and Barbuda\">Antigua and Barbuda</td><td style=\"text-align:left\" title=\"2021-04-08 04:21:13\">2021-04-08 04:21:13</td><td style=\"text-align:left\" title=\"17.0608\">17.0608</td><td style=\"text-align:left\" title=\"-61.7964\">-61.7964</td><td style=\"text-align:left\" title=\"1177\">1177</td><td style=\"text-align:left\" title=\"29\">29</td><td style=\"text-align:left\" title=\"911\">911</td><td style=\"text-align:left\" title=\"237\">237</td><td style=\"text-align:left\" title=\"Antigua and Barbuda\">Antigua and Barbuda</td><td style=\"text-align:left\" title=\"1201.9034392614985\">1201.9034392614985</td><td style=\"text-align:left\" title=\"2.463891248937978\">2.463891248937978</td></tr><tr><td style=\"text-align:left\" title=\"\"></td><td style=\"text-align:left\" title=\"\"></td><td style=\"text-align:left\" title=\"\"></td><td style=\"text-align:left\" title=\"Argentina\">Argentina</td><td style=\"text-align:left\" title=\"2021-04-08 04:21:13\">2021-04-08 04:21:13</td><td style=\"text-align:left\" title=\"-38.4161\">-38.4161</td><td style=\"text-align:left\" title=\"-63.6167\">-63.6167</td><td style=\"text-align:left\" title=\"2450068\">2450068</td><td style=\"text-align:left\" title=\"56832\">56832</td><td style=\"text-align:left\" title=\"2174625\">2174625</td><td style=\"text-align:left\" title=\"218611\">218611</td><td style=\"text-align:left\" title=\"Argentina\">Argentina</td><td style=\"text-align:left\" title=\"5421.010905510044\">5421.010905510044</td><td style=\"text-align:left\" title=\"2.319609088400812\">2.319609088400812</td></tr><tr><td style=\"text-align:left\" title=\"\"></td><td style=\"text-align:left\" title=\"\"></td><td style=\"text-align:left\" title=\"\"></td><td style=\"text-align:left\" title=\"Armenia\">Armenia</td><td style=\"text-align:left\" title=\"2021-04-08 04:21:13\">2021-04-08 04:21:13</td><td style=\"text-align:left\" title=\"40.0691\">40.0691</td><td style=\"text-align:left\" title=\"45.0382\">45.0382</td><td style=\"text-align:left\" title=\"198898\">198898</td><td style=\"text-align:left\" title=\"3647\">3647</td><td style=\"text-align:left\" title=\"178227\">178227</td><td style=\"text-align:left\" title=\"17024\">17024</td><td style=\"text-align:left\" title=\"Armenia\">Armenia</td><td style=\"text-align:left\" title=\"6712.193502099394\">6712.193502099394</td><td style=\"text-align:left\" title=\"1.8336031533750967\">1.8336031533750967</td></tr><tr><td style=\"text-align:left\" title=\"\"></td><td style=\"text-align:left\" title=\"\"></td><td style=\"text-align:left\" title=\"Australian Capital Territory\">Australian Capital Territory</td><td style=\"text-align:left\" title=\"Australia\">Australia</td><td style=\"text-align:left\" title=\"2021-04-08 04:21:13\">2021-04-08 04:21:13</td><td style=\"text-align:left\" title=\"-35.4735\">-35.4735</td><td style=\"text-align:left\" title=\"149.0124\">149.0124</td><td style=\"text-align:left\" title=\"123\">123</td><td style=\"text-align:left\" title=\"3\">3</td><td style=\"text-align:left\" title=\"120\">120</td><td style=\"text-align:left\" title=\"0\">0</td><td style=\"text-align:left\" title=\"Australian Capital Territory, Australia\">Australian Capital Territory, Australia</td><td style=\"text-align:left\" title=\"28.73160476524177\">28.73160476524177</td><td style=\"text-align:left\" title=\"2.4390243902439024\">2.4390243902439024</td></tr><tr><td style=\"text-align:left\" title=\"\"></td><td style=\"text-align:left\" title=\"\"></td><td style=\"text-align:left\" title=\"New South Wales\">New South Wales</td><td style=\"text-align:left\" title=\"Australia\">Australia</td><td style=\"text-align:left\" title=\"2021-04-08 04:21:13\">2021-04-08 04:21:13</td><td style=\"text-align:left\" title=\"-33.8688\">-33.8688</td><td style=\"text-align:left\" title=\"151.2093\">151.2093</td><td style=\"text-align:left\" title=\"5318\">5318</td><td style=\"text-align:left\" title=\"54\">54</td><td style=\"text-align:left\" title=\"0\">0</td><td style=\"text-align:left\" title=\"5264\">5264</td><td style=\"text-align:left\" title=\"New South Wales, Australia\">New South Wales, Australia</td><td style=\"text-align:left\" title=\"65.50874599655087\">65.50874599655087</td><td style=\"text-align:left\" title=\"1.0154193305754042\">1.0154193305754042</td></tr></table></body></html>"
      ]
     },
     "execution_count": 99,
     "metadata": {},
     "output_type": "execute_result"
    }
   ],
   "source": [
    "daten.head(10)"
   ]
  },
  {
   "cell_type": "markdown",
   "id": "hispanic-peninsula",
   "metadata": {},
   "source": [
    "Die Datentypen der Spalten können mit `schema()` angezeigt werden."
   ]
  },
  {
   "cell_type": "code",
   "execution_count": 100,
   "id": "guided-beijing",
   "metadata": {
    "tags": []
   },
   "outputs": [
    {
     "name": "stdout",
     "output_type": "stream",
     "text": [
      "DataFrame with 3983 observations\n",
      "FIPS                 [Str]  , , , , , , , , , , , , , , , , , , , , , , , , , , , , , , , , , , , , , , , , , , , , , , , , , , ...\n",
      "Admin2               [Str]  , , , , , , , , , , , , , , , , , , , , , , , , , , , , , , , , , , , , , , , , , , , , , , , , , , ...\n",
      "Province_State       [Str]  , , , , , , , , Australian Capital Territory, New South Wales, Northern Territory, Queensland, South...\n",
      "Country_Region       [Str]  Afghanistan, Albania, Algeria, Andorra, Angola, Antigua and Barbuda, Argentina, Armenia, Australia, ...\n",
      "Last_Update          [Str]  2021-04-08 04:21:13, 2021-04-08 04:21:13, 2021-04-08 04:21:13, 2021-04-08 04:21:13, 2021-04-08 04:21...\n",
      "Lat                  [Str]  33.93911, 41.1533, 28.0339, 42.5063, -11.2027, 17.0608, -38.4161, 40.0691, -35.4735, -33.8688, -12.4...\n",
      "Long_                [Str]  67.709953, 20.1683, 1.6596, 1.5218, 17.8739, -61.7964, -63.6167, 45.0382, 149.0124, 151.2093, 130.84...\n",
      "Confirmed            [Int]  56873, 127192, 118004, 12363, 23010, 1177, 2450068, 198898, 123, 5318, 112, 1500, 663, 234, 20484, 9...\n",
      "Deaths               [Int]  2512, 2291, 3116, 119, 547, 29, 56832, 3647, 3, 54, 0, 6, 4, 13, 820, 9, 9546, 3780, 189, 547, 9447,...\n",
      "Recovered            [Str]  51940, 95600, 82192, 11616, 21545, 911, 2174625, 178227, 120, 0, 106, 1366, 651, 221, 19664, 928, 52...\n",
      "Active               [Str]  2421, 29301, 32696, 628, 918, 237, 218611, 17024, 0, 5264, 6, 128, 8, 0, 0, 14, 33688, 28144, 296, 1...\n",
      "Combined_Key         [Str]  Afghanistan, Albania, Algeria, Andorra, Angola, Antigua and Barbuda, Argentina, Armenia, Australian ...\n",
      "Incident_Rate        [Str]  146.0966446014229, 4419.765098339009, 269.1019230717044, 16000.776548243059, 70.01099120837206, 1201...\n",
      "Case_Fatality_Ratio  [Str]  4.416858614808433, 1.801213912824706, 2.6405884546286567, 0.9625495429911833, 2.3772272924815296, 2....\n"
     ]
    }
   ],
   "source": [
    "daten.schema()"
   ]
  },
  {
   "cell_type": "markdown",
   "id": "earlier-button",
   "metadata": {},
   "source": [
    "Sollen nur bestimmte Spalten ausgegeben werden, findet `select()` Anwendung. Als Parameter werden die Namen der Spalten übergeben."
   ]
  },
  {
   "cell_type": "code",
   "execution_count": 101,
   "id": "sharing-surge",
   "metadata": {
    "tags": []
   },
   "outputs": [
    {
     "data": {
      "text/html": [
       "<html><body><table><tr><th style=\"text-align:left\">Country_Region</th><th style=\"text-align:left\">Deaths</th></tr><tr><td style=\"text-align:left\" title=\"Afghanistan\">Afghanistan</td><td style=\"text-align:left\" title=\"2512\">2512</td></tr><tr><td style=\"text-align:left\" title=\"Albania\">Albania</td><td style=\"text-align:left\" title=\"2291\">2291</td></tr><tr><td style=\"text-align:left\" title=\"Algeria\">Algeria</td><td style=\"text-align:left\" title=\"3116\">3116</td></tr><tr><td style=\"text-align:left\" title=\"Andorra\">Andorra</td><td style=\"text-align:left\" title=\"119\">119</td></tr><tr><td style=\"text-align:left\" title=\"Angola\">Angola</td><td style=\"text-align:left\" title=\"547\">547</td></tr><tr><td style=\"text-align:left\" title=\"Antigua and Barbuda\">Antigua and Barbuda</td><td style=\"text-align:left\" title=\"29\">29</td></tr><tr><td style=\"text-align:left\" title=\"Argentina\">Argentina</td><td style=\"text-align:left\" title=\"56832\">56832</td></tr><tr><td style=\"text-align:left\" title=\"Armenia\">Armenia</td><td style=\"text-align:left\" title=\"3647\">3647</td></tr><tr><td style=\"text-align:left\" title=\"Australia\">Australia</td><td style=\"text-align:left\" title=\"3\">3</td></tr><tr><td style=\"text-align:left\" title=\"Australia\">Australia</td><td style=\"text-align:left\" title=\"54\">54</td></tr><tr><td style=\"text-align:left\" title=\"Australia\">Australia</td><td style=\"text-align:left\" title=\"0\">0</td></tr><tr><td style=\"text-align:left\" title=\"Australia\">Australia</td><td style=\"text-align:left\" title=\"6\">6</td></tr><tr><td style=\"text-align:left\" title=\"Australia\">Australia</td><td style=\"text-align:left\" title=\"4\">4</td></tr><tr><td style=\"text-align:left\" title=\"Australia\">Australia</td><td style=\"text-align:left\" title=\"13\">13</td></tr><tr><td style=\"text-align:left\" title=\"Australia\">Australia</td><td style=\"text-align:left\" title=\"820\">820</td></tr><tr><td style=\"text-align:left\" title=\"Australia\">Australia</td><td style=\"text-align:left\" title=\"9\">9</td></tr><tr><td style=\"text-align:left\" title=\"Austria\">Austria</td><td style=\"text-align:left\" title=\"9546\">9546</td></tr><tr><td style=\"text-align:left\" title=\"Azerbaijan\">Azerbaijan</td><td style=\"text-align:left\" title=\"3780\">3780</td></tr><tr><td style=\"text-align:left\" title=\"Bahamas\">Bahamas</td><td style=\"text-align:left\" title=\"189\">189</td></tr><tr><td style=\"text-align:left\" title=\"Bahrain\">Bahrain</td><td style=\"text-align:left\" title=\"547\">547</td></tr></table><p>... only showing top 20 rows</p></body></html>"
      ]
     },
     "execution_count": 101,
     "metadata": {},
     "output_type": "execute_result"
    }
   ],
   "source": [
    "daten.select(\"Country_Region\", \"Deaths\")"
   ]
  },
  {
   "cell_type": "markdown",
   "id": "570578a4-909c-426d-abae-de9ea9cf4c29",
   "metadata": {},
   "source": [
    "Nachdem ein kurzer Überblick über die Daten und die Bibliothek gegeben wurde, werden nun ausgewählte Methoden vorgestellt, mit denen die Daten analysiert werden können."
   ]
  },
  {
   "cell_type": "markdown",
   "id": "swedish-activation",
   "metadata": {},
   "source": [
    "#### `filter`\n",
    "Mit Hilfe von `filter()` können Daten in einer Datenstruktur anhand einer Bedingung aussortiert werden. Es werden nur die Daten zurückgegeben, die der Bedingung entsprechen.<br />\n",
    "Im Folgenden Beispiel sollen alle Zeilen ausgegeben werden, in denen mehr als 30000 Tote verzeichnet sind. Die Bibliothek bietet dazu eine eigene Methode für die Klasse `DataFrame` an. Mit `filterByRow()` werden alle Zeilen durchlaufen und der Lambda-Ausdruck dabei auf die Aktuellen angewendet. Das Ergebnis ist erneut ein `DataFrame`, der alle Zeilen enthält, für die der Lambda-Ausdruck wahr ist. In diesem Fall könnte auch die von Kotlin bereitgestellte Methode `filter()` verwendet werden, die auf die Liste der Zeilen angewendet wird. Der Unterschied ist, dass hier kein Dataframe, sondern eine Liste zurückgegeben wird. Diese kann danach wieder mit `dataFrameOf(liste)` in einen `DataFrame` umgewandelt werden.\n",
    "In dem Lambda-Ausdruck kann mit `it` auf die Zeile (eine Liste) zugegriffen werden. Da der Kompiler von sich aus den Datentyp der ausgewählten Spalte nicht erkennt, muss ihm das mit `as` mitgeteilt werden. Dieses Verfahren ist im Folgenden bei allen ähnlichen Zugriffen nötig.\n",
    "\n",
    "<img src=\"images/filter.png\" style=\"margin: 20px auto 20px auto\" />"
   ]
  },
  {
   "cell_type": "code",
   "execution_count": 128,
   "id": "reasonable-supply",
   "metadata": {
    "tags": []
   },
   "outputs": [
    {
     "data": {
      "text/html": [
       "<html><body><table><tr><th style=\"text-align:left\">FIPS</th><th style=\"text-align:left\">Admin2</th><th style=\"text-align:left\">Province_State</th><th style=\"text-align:left\">Country_Region</th><th style=\"text-align:left\">Last_Update</th><th style=\"text-align:left\">Lat</th><th style=\"text-align:left\">Long_</th><th style=\"text-align:left\">Confirmed</th><th style=\"text-align:left\">Deaths</th><th style=\"text-align:left\">Recovered</th><th style=\"text-align:left\">Active</th><th style=\"text-align:left\">Combined_Key</th><th style=\"text-align:left\">Incident_Rate</th><th style=\"text-align:left\">Case_Fatality_Ratio</th></tr><tr><td style=\"text-align:left\" title=\"\"></td><td style=\"text-align:left\" title=\"\"></td><td style=\"text-align:left\" title=\"\"></td><td style=\"text-align:left\" title=\"Argentina\">Argentina</td><td style=\"text-align:left\" title=\"2021-04-08 04:21:13\">2021-04-08 04:21:13</td><td style=\"text-align:left\" title=\"-38.4161\">-38.4161</td><td style=\"text-align:left\" title=\"-63.6167\">-63.6167</td><td style=\"text-align:left\" title=\"2450068\">2450068</td><td style=\"text-align:left\" title=\"56832\">56832</td><td style=\"text-align:left\" title=\"2174625\">2174625</td><td style=\"text-align:left\" title=\"218611\">218611</td><td style=\"text-align:left\" title=\"Argentina\">Argentina</td><td style=\"text-align:left\" title=\"5421.010905510044\">5421.010905510044</td><td style=\"text-align:left\" title=\"2.319609088400812\">2.319609088400812</td></tr><tr><td style=\"text-align:left\" title=\"\"></td><td style=\"text-align:left\" title=\"\"></td><td style=\"text-align:left\" title=\"Rio de Janeiro\">Rio de Janeiro</td><td style=\"text-align:left\" title=\"Brazil\">Brazil</td><td style=\"text-align:left\" title=\"2021-04-08 04:21:13\">2021-04-08 04:21:13</td><td style=\"text-align:left\" title=\"-22.9068\">-22.9068</td><td style=\"text-align:left\" title=\"-43.1729\">-43.1729</td><td style=\"text-align:left\" title=\"666025\">666025</td><td style=\"text-align:left\" title=\"38282\">38282</td><td style=\"text-align:left\" title=\"616078\">616078</td><td style=\"text-align:left\" title=\"11665\">11665</td><td style=\"text-align:left\" title=\"Rio de Janeiro, Brazil\">Rio de Janeiro, Brazil</td><td style=\"text-align:left\" title=\"3857.6727418098053\">3857.6727418098053</td><td style=\"text-align:left\" title=\"5.747832288577756\">5.747832288577756</td></tr><tr><td style=\"text-align:left\" title=\"\"></td><td style=\"text-align:left\" title=\"\"></td><td style=\"text-align:left\" title=\"Sao Paulo\">Sao Paulo</td><td style=\"text-align:left\" title=\"Brazil\">Brazil</td><td style=\"text-align:left\" title=\"2021-04-08 04:21:13\">2021-04-08 04:21:13</td><td style=\"text-align:left\" title=\"-23.5505\">-23.5505</td><td style=\"text-align:left\" title=\"-46.6333\">-46.6333</td><td style=\"text-align:left\" title=\"2576362\">2576362</td><td style=\"text-align:left\" title=\"79443\">79443</td><td style=\"text-align:left\" title=\"2218618\">2218618</td><td style=\"text-align:left\" title=\"278301\">278301</td><td style=\"text-align:left\" title=\"Sao Paulo, Brazil\">Sao Paulo, Brazil</td><td style=\"text-align:left\" title=\"5610.660621477591\">5610.660621477591</td><td style=\"text-align:left\" title=\"3.083534068581977\">3.083534068581977</td></tr><tr><td style=\"text-align:left\" title=\"\"></td><td style=\"text-align:left\" title=\"\"></td><td style=\"text-align:left\" title=\"\"></td><td style=\"text-align:left\" title=\"France\">France</td><td style=\"text-align:left\" title=\"2021-04-08 04:21:13\">2021-04-08 04:21:13</td><td style=\"text-align:left\" title=\"46.2276\">46.2276</td><td style=\"text-align:left\" title=\"2.2137\">2.2137</td><td style=\"text-align:left\" title=\"4807123\">4807123</td><td style=\"text-align:left\" title=\"96672\">96672</td><td style=\"text-align:left\" title=\"269989\">269989</td><td style=\"text-align:left\" title=\"4439553\">4439553</td><td style=\"text-align:left\" title=\"France\">France</td><td style=\"text-align:left\" title=\"7363.1720628116345\">7363.1720628116345</td><td style=\"text-align:left\" title=\"2.0110157364394463\">2.0110157364394463</td></tr><tr><td style=\"text-align:left\" title=\"\"></td><td style=\"text-align:left\" title=\"\"></td><td style=\"text-align:left\" title=\"Maharashtra\">Maharashtra</td><td style=\"text-align:left\" title=\"India\">India</td><td style=\"text-align:left\" title=\"2021-04-08 04:21:13\">2021-04-08 04:21:13</td><td style=\"text-align:left\" title=\"19.449759\">19.449759</td><td style=\"text-align:left\" title=\"76.108221\">76.108221</td><td style=\"text-align:left\" title=\"3173261\">3173261</td><td style=\"text-align:left\" title=\"56652\">56652</td><td style=\"text-align:left\" title=\"2613627\">2613627</td><td style=\"text-align:left\" title=\"502982\">502982</td><td style=\"text-align:left\" title=\"Maharashtra, India\">Maharashtra, India</td><td style=\"text-align:left\" title=\"2576.865501843314\">2576.865501843314</td><td style=\"text-align:left\" title=\"1.7852927950143402\">1.7852927950143402</td></tr><tr><td style=\"text-align:left\" title=\"\"></td><td style=\"text-align:left\" title=\"\"></td><td style=\"text-align:left\" title=\"\"></td><td style=\"text-align:left\" title=\"Indonesia\">Indonesia</td><td style=\"text-align:left\" title=\"2021-04-08 04:21:13\">2021-04-08 04:21:13</td><td style=\"text-align:left\" title=\"-0.7893\">-0.7893</td><td style=\"text-align:left\" title=\"113.9213\">113.9213</td><td style=\"text-align:left\" title=\"1547376\">1547376</td><td style=\"text-align:left\" title=\"42064\">42064</td><td style=\"text-align:left\" title=\"1391742\">1391742</td><td style=\"text-align:left\" title=\"113570\">113570</td><td style=\"text-align:left\" title=\"Indonesia\">Indonesia</td><td style=\"text-align:left\" title=\"565.7193314211061\">565.7193314211061</td><td style=\"text-align:left\" title=\"2.7184084540538307\">2.7184084540538307</td></tr><tr><td style=\"text-align:left\" title=\"\"></td><td style=\"text-align:left\" title=\"\"></td><td style=\"text-align:left\" title=\"\"></td><td style=\"text-align:left\" title=\"Iran\">Iran</td><td style=\"text-align:left\" title=\"2021-04-08 04:21:13\">2021-04-08 04:21:13</td><td style=\"text-align:left\" title=\"32.427908\">32.427908</td><td style=\"text-align:left\" title=\"53.68804599999999\">53.68804599999999</td><td style=\"text-align:left\" title=\"1984348\">1984348</td><td style=\"text-align:left\" title=\"63699\">63699</td><td style=\"text-align:left\" title=\"1675891\">1675891</td><td style=\"text-align:left\" title=\"244758\">244758</td><td style=\"text-align:left\" title=\"Iran\">Iran</td><td style=\"text-align:left\" title=\"2362.517245940859\">2362.517245940859</td><td style=\"text-align:left\" title=\"3.210072023657141\">3.210072023657141</td></tr><tr><td style=\"text-align:left\" title=\"\"></td><td style=\"text-align:left\" title=\"\"></td><td style=\"text-align:left\" title=\"Lombardia\">Lombardia</td><td style=\"text-align:left\" title=\"Italy\">Italy</td><td style=\"text-align:left\" title=\"2021-04-08 04:21:13\">2021-04-08 04:21:13</td><td style=\"text-align:left\" title=\"45.46679409\">45.46679409</td><td style=\"text-align:left\" title=\"9.190347404\">9.190347404</td><td style=\"text-align:left\" title=\"755811\">755811</td><td style=\"text-align:left\" title=\"31373\">31373</td><td style=\"text-align:left\" title=\"642145\">642145</td><td style=\"text-align:left\" title=\"82293\">82293</td><td style=\"text-align:left\" title=\"Lombardia, Italy\">Lombardia, Italy</td><td style=\"text-align:left\" title=\"7512.603157632954\">7512.603157632954</td><td style=\"text-align:left\" title=\"4.150905451230533\">4.150905451230533</td></tr><tr><td style=\"text-align:left\" title=\"\"></td><td style=\"text-align:left\" title=\"\"></td><td style=\"text-align:left\" title=\"Ciudad de Mexico\">Ciudad de Mexico</td><td style=\"text-align:left\" title=\"Mexico\">Mexico</td><td style=\"text-align:left\" title=\"2021-04-08 04:21:13\">2021-04-08 04:21:13</td><td style=\"text-align:left\" title=\"19.4326\">19.4326</td><td style=\"text-align:left\" title=\"-99.1332\">-99.1332</td><td style=\"text-align:left\" title=\"615993\">615993</td><td style=\"text-align:left\" title=\"30884\">30884</td><td style=\"text-align:left\" title=\"0\">0</td><td style=\"text-align:left\" title=\"585109\">585109</td><td style=\"text-align:left\" title=\"Ciudad de Mexico, Mexico\">Ciudad de Mexico, Mexico</td><td style=\"text-align:left\" title=\"6830.2167343320425\">6830.2167343320425</td><td style=\"text-align:left\" title=\"5.013693337424289\">5.013693337424289</td></tr><tr><td style=\"text-align:left\" title=\"\"></td><td style=\"text-align:left\" title=\"\"></td><td style=\"text-align:left\" title=\"Mexico\">Mexico</td><td style=\"text-align:left\" title=\"Mexico\">Mexico</td><td style=\"text-align:left\" title=\"2021-04-08 04:21:13\">2021-04-08 04:21:13</td><td style=\"text-align:left\" title=\"19.4969\">19.4969</td><td style=\"text-align:left\" title=\"-99.7233\">-99.7233</td><td style=\"text-align:left\" title=\"235917\">235917</td><td style=\"text-align:left\" title=\"31964\">31964</td><td style=\"text-align:left\" title=\"0\">0</td><td style=\"text-align:left\" title=\"203953\">203953</td><td style=\"text-align:left\" title=\"Mexico, Mexico\">Mexico, Mexico</td><td style=\"text-align:left\" title=\"1353.6828249594466\">1353.6828249594466</td><td style=\"text-align:left\" title=\"13.548832852231929\">13.548832852231929</td></tr><tr><td style=\"text-align:left\" title=\"\"></td><td style=\"text-align:left\" title=\"\"></td><td style=\"text-align:left\" title=\"\"></td><td style=\"text-align:left\" title=\"Poland\">Poland</td><td style=\"text-align:left\" title=\"2021-04-08 04:21:13\">2021-04-08 04:21:13</td><td style=\"text-align:left\" title=\"51.9194\">51.9194</td><td style=\"text-align:left\" title=\"19.1451\">19.1451</td><td style=\"text-align:left\" title=\"2471617\">2471617</td><td style=\"text-align:left\" title=\"55703\">55703</td><td style=\"text-align:left\" title=\"2054697\">2054697</td><td style=\"text-align:left\" title=\"361217\">361217</td><td style=\"text-align:left\" title=\"Poland\">Poland</td><td style=\"text-align:left\" title=\"6530.617475464444\">6530.617475464444</td><td style=\"text-align:left\" title=\"2.2537067838585023\">2.2537067838585023</td></tr><tr><td style=\"text-align:left\" title=\"\"></td><td style=\"text-align:left\" title=\"\"></td><td style=\"text-align:left\" title=\"\"></td><td style=\"text-align:left\" title=\"South Africa\">South Africa</td><td style=\"text-align:left\" title=\"2021-04-08 04:21:13\">2021-04-08 04:21:13</td><td style=\"text-align:left\" title=\"-30.5595\">-30.5595</td><td style=\"text-align:left\" title=\"22.9375\">22.9375</td><td style=\"text-align:left\" title=\"1553609\">1553609</td><td style=\"text-align:left\" title=\"53111\">53111</td><td style=\"text-align:left\" title=\"1479821\">1479821</td><td style=\"text-align:left\" title=\"20677\">20677</td><td style=\"text-align:left\" title=\"South Africa\">South Africa</td><td style=\"text-align:left\" title=\"2619.530122820113\">2619.530122820113</td><td style=\"text-align:left\" title=\"3.4185564064059877\">3.4185564064059877</td></tr><tr><td style=\"text-align:left\" title=\"\"></td><td style=\"text-align:left\" title=\"\"></td><td style=\"text-align:left\" title=\"\"></td><td style=\"text-align:left\" title=\"Turkey\">Turkey</td><td style=\"text-align:left\" title=\"2021-04-08 04:21:13\">2021-04-08 04:21:13</td><td style=\"text-align:left\" title=\"38.9637\">38.9637</td><td style=\"text-align:left\" title=\"35.2433\">35.2433</td><td style=\"text-align:left\" title=\"3633925\">3633925</td><td style=\"text-align:left\" title=\"32943\">32943</td><td style=\"text-align:left\" title=\"3194978\">3194978</td><td style=\"text-align:left\" title=\"406004\">406004</td><td style=\"text-align:left\" title=\"Turkey\">Turkey</td><td style=\"text-align:left\" title=\"4308.709035161605\">4308.709035161605</td><td style=\"text-align:left\" title=\"0.9065404486884017\">0.9065404486884017</td></tr><tr><td style=\"text-align:left\" title=\"\"></td><td style=\"text-align:left\" title=\"\"></td><td style=\"text-align:left\" title=\"England\">England</td><td style=\"text-align:left\" title=\"United Kingdom\">United Kingdom</td><td style=\"text-align:left\" title=\"2021-04-08 04:21:13\">2021-04-08 04:21:13</td><td style=\"text-align:left\" title=\"52.3555\">52.3555</td><td style=\"text-align:left\" title=\"-1.1743\">-1.1743</td><td style=\"text-align:left\" title=\"3818665\">3818665</td><td style=\"text-align:left\" title=\"111666\">111666</td><td style=\"text-align:left\" title=\"0\">0</td><td style=\"text-align:left\" title=\"3706999\">3706999</td><td style=\"text-align:left\" title=\"England, United Kingdom\">England, United Kingdom</td><td style=\"text-align:left\" title=\"6821.822098997449\">6821.822098997449</td><td style=\"text-align:left\" title=\"2.9242156617561372\">2.9242156617561372</td></tr></table></body></html>"
      ]
     },
     "execution_count": 128,
     "metadata": {},
     "output_type": "execute_result"
    }
   ],
   "source": [
    "//Möglichkeit 1\n",
    "val tote1 = data.filterByRow { it[\"Deaths\"] as Int > 30000 }\n",
    "// Möglichkeit 2\n",
    "val tote2 = data.rows.filter { it[\"Deaths\"] as Int > 30000 }\n",
    "\n",
    "//tote1.head(20)\n",
    "dataFrameOf(tote2).head(20)"
   ]
  },
  {
   "cell_type": "markdown",
   "id": "egyptian-machinery",
   "metadata": {},
   "source": [
    "Abgesehen von der normalen Filterung gibt es auch einige Abwandlungen.  \n",
    "`filterNot()` dreht die `filter()`-Methode um und filtert alles, was nicht der Bedingung entspricht. Um das gleiche Ergebnis wie bei `filter()` zu erlangen, muss die Bedingung des Lambda-Ausdrucks umgedreht werden."
   ]
  },
  {
   "cell_type": "code",
   "execution_count": 129,
   "id": "74576a14-5be7-42c0-a16c-9a8a945bea3b",
   "metadata": {},
   "outputs": [
    {
     "data": {
      "text/html": [
       "<html><body><table><tr><th style=\"text-align:left\">FIPS</th><th style=\"text-align:left\">Admin2</th><th style=\"text-align:left\">Province_State</th><th style=\"text-align:left\">Country_Region</th><th style=\"text-align:left\">Last_Update</th><th style=\"text-align:left\">Lat</th><th style=\"text-align:left\">Long_</th><th style=\"text-align:left\">Confirmed</th><th style=\"text-align:left\">Deaths</th><th style=\"text-align:left\">Recovered</th><th style=\"text-align:left\">Active</th><th style=\"text-align:left\">Combined_Key</th><th style=\"text-align:left\">Incident_Rate</th><th style=\"text-align:left\">Case_Fatality_Ratio</th></tr><tr><td style=\"text-align:left\" title=\"\"></td><td style=\"text-align:left\" title=\"\"></td><td style=\"text-align:left\" title=\"\"></td><td style=\"text-align:left\" title=\"Argentina\">Argentina</td><td style=\"text-align:left\" title=\"2021-04-08 04:21:13\">2021-04-08 04:21:13</td><td style=\"text-align:left\" title=\"-38.4161\">-38.4161</td><td style=\"text-align:left\" title=\"-63.6167\">-63.6167</td><td style=\"text-align:left\" title=\"2450068\">2450068</td><td style=\"text-align:left\" title=\"56832\">56832</td><td style=\"text-align:left\" title=\"2174625\">2174625</td><td style=\"text-align:left\" title=\"218611\">218611</td><td style=\"text-align:left\" title=\"Argentina\">Argentina</td><td style=\"text-align:left\" title=\"5421.010905510044\">5421.010905510044</td><td style=\"text-align:left\" title=\"2.319609088400812\">2.319609088400812</td></tr><tr><td style=\"text-align:left\" title=\"\"></td><td style=\"text-align:left\" title=\"\"></td><td style=\"text-align:left\" title=\"Rio de Janeiro\">Rio de Janeiro</td><td style=\"text-align:left\" title=\"Brazil\">Brazil</td><td style=\"text-align:left\" title=\"2021-04-08 04:21:13\">2021-04-08 04:21:13</td><td style=\"text-align:left\" title=\"-22.9068\">-22.9068</td><td style=\"text-align:left\" title=\"-43.1729\">-43.1729</td><td style=\"text-align:left\" title=\"666025\">666025</td><td style=\"text-align:left\" title=\"38282\">38282</td><td style=\"text-align:left\" title=\"616078\">616078</td><td style=\"text-align:left\" title=\"11665\">11665</td><td style=\"text-align:left\" title=\"Rio de Janeiro, Brazil\">Rio de Janeiro, Brazil</td><td style=\"text-align:left\" title=\"3857.6727418098053\">3857.6727418098053</td><td style=\"text-align:left\" title=\"5.747832288577756\">5.747832288577756</td></tr><tr><td style=\"text-align:left\" title=\"\"></td><td style=\"text-align:left\" title=\"\"></td><td style=\"text-align:left\" title=\"Sao Paulo\">Sao Paulo</td><td style=\"text-align:left\" title=\"Brazil\">Brazil</td><td style=\"text-align:left\" title=\"2021-04-08 04:21:13\">2021-04-08 04:21:13</td><td style=\"text-align:left\" title=\"-23.5505\">-23.5505</td><td style=\"text-align:left\" title=\"-46.6333\">-46.6333</td><td style=\"text-align:left\" title=\"2576362\">2576362</td><td style=\"text-align:left\" title=\"79443\">79443</td><td style=\"text-align:left\" title=\"2218618\">2218618</td><td style=\"text-align:left\" title=\"278301\">278301</td><td style=\"text-align:left\" title=\"Sao Paulo, Brazil\">Sao Paulo, Brazil</td><td style=\"text-align:left\" title=\"5610.660621477591\">5610.660621477591</td><td style=\"text-align:left\" title=\"3.083534068581977\">3.083534068581977</td></tr><tr><td style=\"text-align:left\" title=\"\"></td><td style=\"text-align:left\" title=\"\"></td><td style=\"text-align:left\" title=\"\"></td><td style=\"text-align:left\" title=\"France\">France</td><td style=\"text-align:left\" title=\"2021-04-08 04:21:13\">2021-04-08 04:21:13</td><td style=\"text-align:left\" title=\"46.2276\">46.2276</td><td style=\"text-align:left\" title=\"2.2137\">2.2137</td><td style=\"text-align:left\" title=\"4807123\">4807123</td><td style=\"text-align:left\" title=\"96672\">96672</td><td style=\"text-align:left\" title=\"269989\">269989</td><td style=\"text-align:left\" title=\"4439553\">4439553</td><td style=\"text-align:left\" title=\"France\">France</td><td style=\"text-align:left\" title=\"7363.1720628116345\">7363.1720628116345</td><td style=\"text-align:left\" title=\"2.0110157364394463\">2.0110157364394463</td></tr><tr><td style=\"text-align:left\" title=\"\"></td><td style=\"text-align:left\" title=\"\"></td><td style=\"text-align:left\" title=\"Maharashtra\">Maharashtra</td><td style=\"text-align:left\" title=\"India\">India</td><td style=\"text-align:left\" title=\"2021-04-08 04:21:13\">2021-04-08 04:21:13</td><td style=\"text-align:left\" title=\"19.449759\">19.449759</td><td style=\"text-align:left\" title=\"76.108221\">76.108221</td><td style=\"text-align:left\" title=\"3173261\">3173261</td><td style=\"text-align:left\" title=\"56652\">56652</td><td style=\"text-align:left\" title=\"2613627\">2613627</td><td style=\"text-align:left\" title=\"502982\">502982</td><td style=\"text-align:left\" title=\"Maharashtra, India\">Maharashtra, India</td><td style=\"text-align:left\" title=\"2576.865501843314\">2576.865501843314</td><td style=\"text-align:left\" title=\"1.7852927950143402\">1.7852927950143402</td></tr><tr><td style=\"text-align:left\" title=\"\"></td><td style=\"text-align:left\" title=\"\"></td><td style=\"text-align:left\" title=\"\"></td><td style=\"text-align:left\" title=\"Indonesia\">Indonesia</td><td style=\"text-align:left\" title=\"2021-04-08 04:21:13\">2021-04-08 04:21:13</td><td style=\"text-align:left\" title=\"-0.7893\">-0.7893</td><td style=\"text-align:left\" title=\"113.9213\">113.9213</td><td style=\"text-align:left\" title=\"1547376\">1547376</td><td style=\"text-align:left\" title=\"42064\">42064</td><td style=\"text-align:left\" title=\"1391742\">1391742</td><td style=\"text-align:left\" title=\"113570\">113570</td><td style=\"text-align:left\" title=\"Indonesia\">Indonesia</td><td style=\"text-align:left\" title=\"565.7193314211061\">565.7193314211061</td><td style=\"text-align:left\" title=\"2.7184084540538307\">2.7184084540538307</td></tr><tr><td style=\"text-align:left\" title=\"\"></td><td style=\"text-align:left\" title=\"\"></td><td style=\"text-align:left\" title=\"\"></td><td style=\"text-align:left\" title=\"Iran\">Iran</td><td style=\"text-align:left\" title=\"2021-04-08 04:21:13\">2021-04-08 04:21:13</td><td style=\"text-align:left\" title=\"32.427908\">32.427908</td><td style=\"text-align:left\" title=\"53.68804599999999\">53.68804599999999</td><td style=\"text-align:left\" title=\"1984348\">1984348</td><td style=\"text-align:left\" title=\"63699\">63699</td><td style=\"text-align:left\" title=\"1675891\">1675891</td><td style=\"text-align:left\" title=\"244758\">244758</td><td style=\"text-align:left\" title=\"Iran\">Iran</td><td style=\"text-align:left\" title=\"2362.517245940859\">2362.517245940859</td><td style=\"text-align:left\" title=\"3.210072023657141\">3.210072023657141</td></tr><tr><td style=\"text-align:left\" title=\"\"></td><td style=\"text-align:left\" title=\"\"></td><td style=\"text-align:left\" title=\"Lombardia\">Lombardia</td><td style=\"text-align:left\" title=\"Italy\">Italy</td><td style=\"text-align:left\" title=\"2021-04-08 04:21:13\">2021-04-08 04:21:13</td><td style=\"text-align:left\" title=\"45.46679409\">45.46679409</td><td style=\"text-align:left\" title=\"9.190347404\">9.190347404</td><td style=\"text-align:left\" title=\"755811\">755811</td><td style=\"text-align:left\" title=\"31373\">31373</td><td style=\"text-align:left\" title=\"642145\">642145</td><td style=\"text-align:left\" title=\"82293\">82293</td><td style=\"text-align:left\" title=\"Lombardia, Italy\">Lombardia, Italy</td><td style=\"text-align:left\" title=\"7512.603157632954\">7512.603157632954</td><td style=\"text-align:left\" title=\"4.150905451230533\">4.150905451230533</td></tr><tr><td style=\"text-align:left\" title=\"\"></td><td style=\"text-align:left\" title=\"\"></td><td style=\"text-align:left\" title=\"Ciudad de Mexico\">Ciudad de Mexico</td><td style=\"text-align:left\" title=\"Mexico\">Mexico</td><td style=\"text-align:left\" title=\"2021-04-08 04:21:13\">2021-04-08 04:21:13</td><td style=\"text-align:left\" title=\"19.4326\">19.4326</td><td style=\"text-align:left\" title=\"-99.1332\">-99.1332</td><td style=\"text-align:left\" title=\"615993\">615993</td><td style=\"text-align:left\" title=\"30884\">30884</td><td style=\"text-align:left\" title=\"0\">0</td><td style=\"text-align:left\" title=\"585109\">585109</td><td style=\"text-align:left\" title=\"Ciudad de Mexico, Mexico\">Ciudad de Mexico, Mexico</td><td style=\"text-align:left\" title=\"6830.2167343320425\">6830.2167343320425</td><td style=\"text-align:left\" title=\"5.013693337424289\">5.013693337424289</td></tr><tr><td style=\"text-align:left\" title=\"\"></td><td style=\"text-align:left\" title=\"\"></td><td style=\"text-align:left\" title=\"Mexico\">Mexico</td><td style=\"text-align:left\" title=\"Mexico\">Mexico</td><td style=\"text-align:left\" title=\"2021-04-08 04:21:13\">2021-04-08 04:21:13</td><td style=\"text-align:left\" title=\"19.4969\">19.4969</td><td style=\"text-align:left\" title=\"-99.7233\">-99.7233</td><td style=\"text-align:left\" title=\"235917\">235917</td><td style=\"text-align:left\" title=\"31964\">31964</td><td style=\"text-align:left\" title=\"0\">0</td><td style=\"text-align:left\" title=\"203953\">203953</td><td style=\"text-align:left\" title=\"Mexico, Mexico\">Mexico, Mexico</td><td style=\"text-align:left\" title=\"1353.6828249594466\">1353.6828249594466</td><td style=\"text-align:left\" title=\"13.548832852231929\">13.548832852231929</td></tr><tr><td style=\"text-align:left\" title=\"\"></td><td style=\"text-align:left\" title=\"\"></td><td style=\"text-align:left\" title=\"\"></td><td style=\"text-align:left\" title=\"Poland\">Poland</td><td style=\"text-align:left\" title=\"2021-04-08 04:21:13\">2021-04-08 04:21:13</td><td style=\"text-align:left\" title=\"51.9194\">51.9194</td><td style=\"text-align:left\" title=\"19.1451\">19.1451</td><td style=\"text-align:left\" title=\"2471617\">2471617</td><td style=\"text-align:left\" title=\"55703\">55703</td><td style=\"text-align:left\" title=\"2054697\">2054697</td><td style=\"text-align:left\" title=\"361217\">361217</td><td style=\"text-align:left\" title=\"Poland\">Poland</td><td style=\"text-align:left\" title=\"6530.617475464444\">6530.617475464444</td><td style=\"text-align:left\" title=\"2.2537067838585023\">2.2537067838585023</td></tr><tr><td style=\"text-align:left\" title=\"\"></td><td style=\"text-align:left\" title=\"\"></td><td style=\"text-align:left\" title=\"\"></td><td style=\"text-align:left\" title=\"South Africa\">South Africa</td><td style=\"text-align:left\" title=\"2021-04-08 04:21:13\">2021-04-08 04:21:13</td><td style=\"text-align:left\" title=\"-30.5595\">-30.5595</td><td style=\"text-align:left\" title=\"22.9375\">22.9375</td><td style=\"text-align:left\" title=\"1553609\">1553609</td><td style=\"text-align:left\" title=\"53111\">53111</td><td style=\"text-align:left\" title=\"1479821\">1479821</td><td style=\"text-align:left\" title=\"20677\">20677</td><td style=\"text-align:left\" title=\"South Africa\">South Africa</td><td style=\"text-align:left\" title=\"2619.530122820113\">2619.530122820113</td><td style=\"text-align:left\" title=\"3.4185564064059877\">3.4185564064059877</td></tr><tr><td style=\"text-align:left\" title=\"\"></td><td style=\"text-align:left\" title=\"\"></td><td style=\"text-align:left\" title=\"\"></td><td style=\"text-align:left\" title=\"Turkey\">Turkey</td><td style=\"text-align:left\" title=\"2021-04-08 04:21:13\">2021-04-08 04:21:13</td><td style=\"text-align:left\" title=\"38.9637\">38.9637</td><td style=\"text-align:left\" title=\"35.2433\">35.2433</td><td style=\"text-align:left\" title=\"3633925\">3633925</td><td style=\"text-align:left\" title=\"32943\">32943</td><td style=\"text-align:left\" title=\"3194978\">3194978</td><td style=\"text-align:left\" title=\"406004\">406004</td><td style=\"text-align:left\" title=\"Turkey\">Turkey</td><td style=\"text-align:left\" title=\"4308.709035161605\">4308.709035161605</td><td style=\"text-align:left\" title=\"0.9065404486884017\">0.9065404486884017</td></tr><tr><td style=\"text-align:left\" title=\"\"></td><td style=\"text-align:left\" title=\"\"></td><td style=\"text-align:left\" title=\"England\">England</td><td style=\"text-align:left\" title=\"United Kingdom\">United Kingdom</td><td style=\"text-align:left\" title=\"2021-04-08 04:21:13\">2021-04-08 04:21:13</td><td style=\"text-align:left\" title=\"52.3555\">52.3555</td><td style=\"text-align:left\" title=\"-1.1743\">-1.1743</td><td style=\"text-align:left\" title=\"3818665\">3818665</td><td style=\"text-align:left\" title=\"111666\">111666</td><td style=\"text-align:left\" title=\"0\">0</td><td style=\"text-align:left\" title=\"3706999\">3706999</td><td style=\"text-align:left\" title=\"England, United Kingdom\">England, United Kingdom</td><td style=\"text-align:left\" title=\"6821.822098997449\">6821.822098997449</td><td style=\"text-align:left\" title=\"2.9242156617561372\">2.9242156617561372</td></tr></table></body></html>"
      ]
     },
     "execution_count": 129,
     "metadata": {},
     "output_type": "execute_result"
    }
   ],
   "source": [
    "val tote = data.rows.filterNot { it[\"Deaths\"] as Int <= 30000 }\n",
    "dataFrameOf(tote).head(20)"
   ]
  },
  {
   "cell_type": "markdown",
   "id": "diverse-dispute",
   "metadata": {},
   "source": [
    "Die Abwandlung `filterNotNull()` wurde bereits in Lektion 1 vorgestellt.  \n",
    "Sind in einer Datenstruktur Elemente mehrerer Datentypen vorhanden, kann mit der Methode `filterIsInstance()` nach einem Datentyp gefiltert werden. Dieser wird als eine Art generischer Parameter vor den runden Klammern angegeben.  \n",
    "Im zugehörigen Beispiel sollen alle Spalten herausgefiltert werden, die den Datentyp `Int` speichern. Die gesuchte Klasse der [Spalte](https://holgerbrandl.github.io/krangl/javadoc/krangl/krangl/-data-col/index.html) entspricht dann `IntCol`."
   ]
  },
  {
   "cell_type": "code",
   "execution_count": 142,
   "id": "8711b086-a8d0-4179-b8bb-8baa51f6eff4",
   "metadata": {},
   "outputs": [
    {
     "name": "stdout",
     "output_type": "stream",
     "text": [
      "Confirmed\n",
      "Deaths\n"
     ]
    }
   ],
   "source": [
    "val spalten = daten.cols.filterIsInstance<IntCol>() //Gibt eine Liste an Spalten zurück\n",
    "for(i in 0 until spalten.size){ //Durchläuft die Einträge der Liste\n",
    "    println(spalten[i].name) //Gibt den Namen der Spalte aus\n",
    "}"
   ]
  },
  {
   "cell_type": "markdown",
   "id": "greenhouse-judgment",
   "metadata": {},
   "source": [
    "##### Aufgabe - filter\n",
    "Filtere Zeilen heraus, die dem Land Deutschland zugeordnet werden können und speichere diese in der Variable `zeilenDE`."
   ]
  },
  {
   "cell_type": "code",
   "execution_count": 149,
   "id": "relevant-washer",
   "metadata": {
    "tags": []
   },
   "outputs": [
    {
     "name": "stdout",
     "output_type": "stream",
     "text": [
      "Richtig!\n"
     ]
    },
    {
     "data": {
      "text/html": [
       "<html><body><table><tr><th style=\"text-align:left\">FIPS</th><th style=\"text-align:left\">Admin2</th><th style=\"text-align:left\">Province_State</th><th style=\"text-align:left\">Country_Region</th><th style=\"text-align:left\">Last_Update</th><th style=\"text-align:left\">Lat</th><th style=\"text-align:left\">Long_</th><th style=\"text-align:left\">Confirmed</th><th style=\"text-align:left\">Deaths</th><th style=\"text-align:left\">Recovered</th><th style=\"text-align:left\">Active</th><th style=\"text-align:left\">Combined_Key</th><th style=\"text-align:left\">Incident_Rate</th><th style=\"text-align:left\">Case_Fatality_Ratio</th></tr><tr><td style=\"text-align:left\" title=\"\"></td><td style=\"text-align:left\" title=\"\"></td><td style=\"text-align:left\" title=\"Baden-Wurttemberg\">Baden-Wurttemberg</td><td style=\"text-align:left\" title=\"Germany\">Germany</td><td style=\"text-align:left\" title=\"2021-04-08 04:21:13\">2021-04-08 04:21:13</td><td style=\"text-align:left\" title=\"48.6616\">48.6616</td><td style=\"text-align:left\" title=\"9.3501\">9.3501</td><td style=\"text-align:left\" title=\"377133\">377133</td><td style=\"text-align:left\" title=\"8831\">8831</td><td style=\"text-align:left\" title=\"341300\">341300</td><td style=\"text-align:left\" title=\"27002\">27002</td><td style=\"text-align:left\" title=\"Baden-Wurttemberg, Germany\">Baden-Wurttemberg, Germany</td><td style=\"text-align:left\" title=\"3406.9458937427617\">3406.9458937427617</td><td style=\"text-align:left\" title=\"2.341614231584083\">2.341614231584083</td></tr><tr><td style=\"text-align:left\" title=\"\"></td><td style=\"text-align:left\" title=\"\"></td><td style=\"text-align:left\" title=\"Bayern\">Bayern</td><td style=\"text-align:left\" title=\"Germany\">Germany</td><td style=\"text-align:left\" title=\"2021-04-08 04:21:13\">2021-04-08 04:21:13</td><td style=\"text-align:left\" title=\"48.7904\">48.7904</td><td style=\"text-align:left\" title=\"11.4979\">11.4979</td><td style=\"text-align:left\" title=\"517336\">517336</td><td style=\"text-align:left\" title=\"13419\">13419</td><td style=\"text-align:left\" title=\"467100\">467100</td><td style=\"text-align:left\" title=\"36817\">36817</td><td style=\"text-align:left\" title=\"Bayern, Germany\">Bayern, Germany</td><td style=\"text-align:left\" title=\"3956.1599578365253\">3956.1599578365253</td><td style=\"text-align:left\" title=\"2.5938654955386826\">2.5938654955386826</td></tr><tr><td style=\"text-align:left\" title=\"\"></td><td style=\"text-align:left\" title=\"\"></td><td style=\"text-align:left\" title=\"Berlin\">Berlin</td><td style=\"text-align:left\" title=\"Germany\">Germany</td><td style=\"text-align:left\" title=\"2021-04-08 04:21:13\">2021-04-08 04:21:13</td><td style=\"text-align:left\" title=\"52.52\">52.52</td><td style=\"text-align:left\" title=\"13.405\">13.405</td><td style=\"text-align:left\" title=\"150385\">150385</td><td style=\"text-align:left\" title=\"3098\">3098</td><td style=\"text-align:left\" title=\"138800\">138800</td><td style=\"text-align:left\" title=\"8487\">8487</td><td style=\"text-align:left\" title=\"Berlin, Germany\">Berlin, Germany</td><td style=\"text-align:left\" title=\"4125.985712349506\">4125.985712349506</td><td style=\"text-align:left\" title=\"2.0600458822355954\">2.0600458822355954</td></tr><tr><td style=\"text-align:left\" title=\"\"></td><td style=\"text-align:left\" title=\"\"></td><td style=\"text-align:left\" title=\"Brandenburg\">Brandenburg</td><td style=\"text-align:left\" title=\"Germany\">Germany</td><td style=\"text-align:left\" title=\"2021-04-08 04:21:13\">2021-04-08 04:21:13</td><td style=\"text-align:left\" title=\"52.4125\">52.4125</td><td style=\"text-align:left\" title=\"12.5316\">12.5316</td><td style=\"text-align:left\" title=\"90999\">90999</td><td style=\"text-align:left\" title=\"3358\">3358</td><td style=\"text-align:left\" title=\"81090\">81090</td><td style=\"text-align:left\" title=\"6551\">6551</td><td style=\"text-align:left\" title=\"Brandenburg, Germany\">Brandenburg, Germany</td><td style=\"text-align:left\" title=\"3622.6913548497027\">3622.6913548497027</td><td style=\"text-align:left\" title=\"3.69015044121364\">3.69015044121364</td></tr><tr><td style=\"text-align:left\" title=\"\"></td><td style=\"text-align:left\" title=\"\"></td><td style=\"text-align:left\" title=\"Bremen\">Bremen</td><td style=\"text-align:left\" title=\"Germany\">Germany</td><td style=\"text-align:left\" title=\"2021-04-08 04:21:13\">2021-04-08 04:21:13</td><td style=\"text-align:left\" title=\"53.0793\">53.0793</td><td style=\"text-align:left\" title=\"8.8017\">8.8017</td><td style=\"text-align:left\" title=\"21697\">21697</td><td style=\"text-align:left\" title=\"415\">415</td><td style=\"text-align:left\" title=\"19790\">19790</td><td style=\"text-align:left\" title=\"1492\">1492</td><td style=\"text-align:left\" title=\"Bremen, Germany\">Bremen, Germany</td><td style=\"text-align:left\" title=\"3176.785468516192\">3176.785468516192</td><td style=\"text-align:left\" title=\"1.9127068258284556\">1.9127068258284556</td></tr><tr><td style=\"text-align:left\" title=\"\"></td><td style=\"text-align:left\" title=\"\"></td><td style=\"text-align:left\" title=\"Hamburg\">Hamburg</td><td style=\"text-align:left\" title=\"Germany\">Germany</td><td style=\"text-align:left\" title=\"2021-04-08 04:21:13\">2021-04-08 04:21:13</td><td style=\"text-align:left\" title=\"53.5511\">53.5511</td><td style=\"text-align:left\" title=\"9.9937\">9.9937</td><td style=\"text-align:left\" title=\"63826\">63826</td><td style=\"text-align:left\" title=\"1404\">1404</td><td style=\"text-align:left\" title=\"55180\">55180</td><td style=\"text-align:left\" title=\"7242\">7242</td><td style=\"text-align:left\" title=\"Hamburg, Germany\">Hamburg, Germany</td><td style=\"text-align:left\" title=\"3466.583097026416\">3466.583097026416</td><td style=\"text-align:left\" title=\"2.199730517344029\">2.199730517344029</td></tr><tr><td style=\"text-align:left\" title=\"\"></td><td style=\"text-align:left\" title=\"\"></td><td style=\"text-align:left\" title=\"Hessen\">Hessen</td><td style=\"text-align:left\" title=\"Germany\">Germany</td><td style=\"text-align:left\" title=\"2021-04-08 04:21:13\">2021-04-08 04:21:13</td><td style=\"text-align:left\" title=\"50.6521\">50.6521</td><td style=\"text-align:left\" title=\"9.1624\">9.1624</td><td style=\"text-align:left\" title=\"227581\">227581</td><td style=\"text-align:left\" title=\"6441\">6441</td><td style=\"text-align:left\" title=\"202400\">202400</td><td style=\"text-align:left\" title=\"18740\">18740</td><td style=\"text-align:left\" title=\"Hessen, Germany\">Hessen, Germany</td><td style=\"text-align:left\" title=\"3632.108798720165\">3632.108798720165</td><td style=\"text-align:left\" title=\"2.8302011152073328\">2.8302011152073328</td></tr><tr><td style=\"text-align:left\" title=\"\"></td><td style=\"text-align:left\" title=\"\"></td><td style=\"text-align:left\" title=\"Mecklenburg-Vorpommern\">Mecklenburg-Vorpommern</td><td style=\"text-align:left\" title=\"Germany\">Germany</td><td style=\"text-align:left\" title=\"2021-04-08 04:21:13\">2021-04-08 04:21:13</td><td style=\"text-align:left\" title=\"53.6127\">53.6127</td><td style=\"text-align:left\" title=\"12.4296\">12.4296</td><td style=\"text-align:left\" title=\"32341\">32341</td><td style=\"text-align:left\" title=\"887\">887</td><td style=\"text-align:left\" title=\"28730\">28730</td><td style=\"text-align:left\" title=\"2724\">2724</td><td style=\"text-align:left\" title=\"Mecklenburg-Vorpommern, Germany\">Mecklenburg-Vorpommern, Germany</td><td style=\"text-align:left\" title=\"2009.1633404258623\">2009.1633404258623</td><td style=\"text-align:left\" title=\"2.742648650320027\">2.742648650320027</td></tr><tr><td style=\"text-align:left\" title=\"\"></td><td style=\"text-align:left\" title=\"\"></td><td style=\"text-align:left\" title=\"Niedersachsen\">Niedersachsen</td><td style=\"text-align:left\" title=\"Germany\">Germany</td><td style=\"text-align:left\" title=\"2021-04-08 04:21:13\">2021-04-08 04:21:13</td><td style=\"text-align:left\" title=\"52.6367\">52.6367</td><td style=\"text-align:left\" title=\"9.8451\">9.8451</td><td style=\"text-align:left\" title=\"205087\">205087</td><td style=\"text-align:left\" title=\"4962\">4962</td><td style=\"text-align:left\" title=\"186600\">186600</td><td style=\"text-align:left\" title=\"13525\">13525</td><td style=\"text-align:left\" title=\"Niedersachsen, Germany\">Niedersachsen, Germany</td><td style=\"text-align:left\" title=\"2569.22437828596\">2569.22437828596</td><td style=\"text-align:left\" title=\"2.419461009230229\">2.419461009230229</td></tr><tr><td style=\"text-align:left\" title=\"\"></td><td style=\"text-align:left\" title=\"\"></td><td style=\"text-align:left\" title=\"Nordrhein-Westfalen\">Nordrhein-Westfalen</td><td style=\"text-align:left\" title=\"Germany\">Germany</td><td style=\"text-align:left\" title=\"2021-04-08 04:21:13\">2021-04-08 04:21:13</td><td style=\"text-align:left\" title=\"51.4332\">51.4332</td><td style=\"text-align:left\" title=\"7.6616\">7.6616</td><td style=\"text-align:left\" title=\"633940\">633940</td><td style=\"text-align:left\" title=\"14462\">14462</td><td style=\"text-align:left\" title=\"572000\">572000</td><td style=\"text-align:left\" title=\"47478\">47478</td><td style=\"text-align:left\" title=\"Nordrhein-Westfalen, Germany\">Nordrhein-Westfalen, Germany</td><td style=\"text-align:left\" title=\"3535.1159178863177\">3535.1159178863177</td><td style=\"text-align:left\" title=\"2.281288450011042\">2.281288450011042</td></tr><tr><td style=\"text-align:left\" title=\"\"></td><td style=\"text-align:left\" title=\"\"></td><td style=\"text-align:left\" title=\"Rheinland-Pfalz\">Rheinland-Pfalz</td><td style=\"text-align:left\" title=\"Germany\">Germany</td><td style=\"text-align:left\" title=\"2021-04-08 04:21:13\">2021-04-08 04:21:13</td><td style=\"text-align:left\" title=\"50.1183\">50.1183</td><td style=\"text-align:left\" title=\"7.309\">7.309</td><td style=\"text-align:left\" title=\"120870\">120870</td><td style=\"text-align:left\" title=\"3362\">3362</td><td style=\"text-align:left\" title=\"108700\">108700</td><td style=\"text-align:left\" title=\"8808\">8808</td><td style=\"text-align:left\" title=\"Rheinland-Pfalz, Germany\">Rheinland-Pfalz, Germany</td><td style=\"text-align:left\" title=\"2958.98692826458\">2958.98692826458</td><td style=\"text-align:left\" title=\"2.781500785968396\">2.781500785968396</td></tr><tr><td style=\"text-align:left\" title=\"\"></td><td style=\"text-align:left\" title=\"\"></td><td style=\"text-align:left\" title=\"Saarland\">Saarland</td><td style=\"text-align:left\" title=\"Germany\">Germany</td><td style=\"text-align:left\" title=\"2021-04-08 04:21:13\">2021-04-08 04:21:13</td><td style=\"text-align:left\" title=\"49.3964\">49.3964</td><td style=\"text-align:left\" title=\"7.023\">7.023</td><td style=\"text-align:left\" title=\"32807\">32807</td><td style=\"text-align:left\" title=\"946\">946</td><td style=\"text-align:left\" title=\"30330\">30330</td><td style=\"text-align:left\" title=\"1531\">1531</td><td style=\"text-align:left\" title=\"Saarland, Germany\">Saarland, Germany</td><td style=\"text-align:left\" title=\"3312.135477819989\">3312.135477819989</td><td style=\"text-align:left\" title=\"2.8835309537598683\">2.8835309537598683</td></tr><tr><td style=\"text-align:left\" title=\"\"></td><td style=\"text-align:left\" title=\"\"></td><td style=\"text-align:left\" title=\"Sachsen\">Sachsen</td><td style=\"text-align:left\" title=\"Germany\">Germany</td><td style=\"text-align:left\" title=\"2021-04-08 04:21:13\">2021-04-08 04:21:13</td><td style=\"text-align:left\" title=\"51.1045\">51.1045</td><td style=\"text-align:left\" title=\"13.2017\">13.2017</td><td style=\"text-align:left\" title=\"229450\">229450</td><td style=\"text-align:left\" title=\"8475\">8475</td><td style=\"text-align:left\" title=\"205400\">205400</td><td style=\"text-align:left\" title=\"15575\">15575</td><td style=\"text-align:left\" title=\"Sachsen, Germany\">Sachsen, Germany</td><td style=\"text-align:left\" title=\"5626.619538261626\">5626.619538261626</td><td style=\"text-align:left\" title=\"3.6936151667029855\">3.6936151667029855</td></tr><tr><td style=\"text-align:left\" title=\"\"></td><td style=\"text-align:left\" title=\"\"></td><td style=\"text-align:left\" title=\"Sachsen-Anhalt\">Sachsen-Anhalt</td><td style=\"text-align:left\" title=\"Germany\">Germany</td><td style=\"text-align:left\" title=\"2021-04-08 04:21:13\">2021-04-08 04:21:13</td><td style=\"text-align:left\" title=\"51.9503\">51.9503</td><td style=\"text-align:left\" title=\"11.6923\">11.6923</td><td style=\"text-align:left\" title=\"76541\">76541</td><td style=\"text-align:left\" title=\"2803\">2803</td><td style=\"text-align:left\" title=\"67780\">67780</td><td style=\"text-align:left\" title=\"5958\">5958</td><td style=\"text-align:left\" title=\"Sachsen-Anhalt, Germany\">Sachsen-Anhalt, Germany</td><td style=\"text-align:left\" title=\"3466.0269046030894\">3466.0269046030894</td><td style=\"text-align:left\" title=\"3.6620895990384237\">3.6620895990384237</td></tr><tr><td style=\"text-align:left\" title=\"\"></td><td style=\"text-align:left\" title=\"\"></td><td style=\"text-align:left\" title=\"Schleswig-Holstein\">Schleswig-Holstein</td><td style=\"text-align:left\" title=\"Germany\">Germany</td><td style=\"text-align:left\" title=\"2021-04-08 04:21:13\">2021-04-08 04:21:13</td><td style=\"text-align:left\" title=\"54.2194\">54.2194</td><td style=\"text-align:left\" title=\"9.6961\">9.6961</td><td style=\"text-align:left\" title=\"51864\">51864</td><td style=\"text-align:left\" title=\"1448\">1448</td><td style=\"text-align:left\" title=\"46260\">46260</td><td style=\"text-align:left\" title=\"4156\">4156</td><td style=\"text-align:left\" title=\"Schleswig-Holstein, Germany\">Schleswig-Holstein, Germany</td><td style=\"text-align:left\" title=\"1790.443785920036\">1790.443785920036</td><td style=\"text-align:left\" title=\"2.7919173222273637\">2.7919173222273637</td></tr><tr><td style=\"text-align:left\" title=\"\"></td><td style=\"text-align:left\" title=\"\"></td><td style=\"text-align:left\" title=\"Thuringen\">Thuringen</td><td style=\"text-align:left\" title=\"Germany\">Germany</td><td style=\"text-align:left\" title=\"2021-04-08 04:21:13\">2021-04-08 04:21:13</td><td style=\"text-align:left\" title=\"51.011\">51.011</td><td style=\"text-align:left\" title=\"10.8453\">10.8453</td><td style=\"text-align:left\" title=\"99350\">99350</td><td style=\"text-align:left\" title=\"3444\">3444</td><td style=\"text-align:left\" title=\"86860\">86860</td><td style=\"text-align:left\" title=\"9046\">9046</td><td style=\"text-align:left\" title=\"Thuringen, Germany\">Thuringen, Germany</td><td style=\"text-align:left\" title=\"4635.710602875681\">4635.710602875681</td><td style=\"text-align:left\" title=\"3.466532460996477\">3.466532460996477</td></tr><tr><td style=\"text-align:left\" title=\"\"></td><td style=\"text-align:left\" title=\"\"></td><td style=\"text-align:left\" title=\"Unknown\">Unknown</td><td style=\"text-align:left\" title=\"Germany\">Germany</td><td style=\"text-align:left\" title=\"2021-04-08 04:21:13\">2021-04-08 04:21:13</td><td style=\"text-align:left\" title=\"\"></td><td style=\"text-align:left\" title=\"\"></td><td style=\"text-align:left\" title=\"9072\">9072</td><td style=\"text-align:left\" title=\"0\">0</td><td style=\"text-align:left\" title=\"0\">0</td><td style=\"text-align:left\" title=\"9072\">9072</td><td style=\"text-align:left\" title=\"Unknown, Germany\">Unknown, Germany</td><td style=\"text-align:left\" title=\"\"></td><td style=\"text-align:left\" title=\"0.0\">0.0</td></tr></table></body></html>"
      ]
     },
     "execution_count": 149,
     "metadata": {},
     "output_type": "execute_result"
    }
   ],
   "source": [
    "//TODO\n",
    "\n",
    "//Test\n",
    "val zeilenDEFrame = dataFrameOf(zeilenDE)\n",
    "if(zeilenDEFrame.nrow == 17){\n",
    "    println(\"Richtig!\")\n",
    "}\n",
    "else{\n",
    "    println(\"Falsch! Die Tabelle besitzt ${zeilenDEFrame.nrow} Zeilen, es sollten jedoch 17 sein.\")\n",
    "}\n",
    "zeilenDEFrame.head(17)"
   ]
  },
  {
   "cell_type": "code",
   "execution_count": 150,
   "id": "intense-decision",
   "metadata": {
    "tags": []
   },
   "outputs": [
    {
     "name": "stdout",
     "output_type": "stream",
     "text": [
      "Richtig!\n"
     ]
    },
    {
     "data": {
      "text/html": [
       "<html><body><table><tr><th style=\"text-align:left\">FIPS</th><th style=\"text-align:left\">Admin2</th><th style=\"text-align:left\">Province_State</th><th style=\"text-align:left\">Country_Region</th><th style=\"text-align:left\">Last_Update</th><th style=\"text-align:left\">Lat</th><th style=\"text-align:left\">Long_</th><th style=\"text-align:left\">Confirmed</th><th style=\"text-align:left\">Deaths</th><th style=\"text-align:left\">Recovered</th><th style=\"text-align:left\">Active</th><th style=\"text-align:left\">Combined_Key</th><th style=\"text-align:left\">Incident_Rate</th><th style=\"text-align:left\">Case_Fatality_Ratio</th></tr><tr><td style=\"text-align:left\" title=\"\"></td><td style=\"text-align:left\" title=\"\"></td><td style=\"text-align:left\" title=\"Baden-Wurttemberg\">Baden-Wurttemberg</td><td style=\"text-align:left\" title=\"Germany\">Germany</td><td style=\"text-align:left\" title=\"2021-04-08 04:21:13\">2021-04-08 04:21:13</td><td style=\"text-align:left\" title=\"48.6616\">48.6616</td><td style=\"text-align:left\" title=\"9.3501\">9.3501</td><td style=\"text-align:left\" title=\"377133\">377133</td><td style=\"text-align:left\" title=\"8831\">8831</td><td style=\"text-align:left\" title=\"341300\">341300</td><td style=\"text-align:left\" title=\"27002\">27002</td><td style=\"text-align:left\" title=\"Baden-Wurttemberg, Germany\">Baden-Wurttemberg, Germany</td><td style=\"text-align:left\" title=\"3406.9458937427617\">3406.9458937427617</td><td style=\"text-align:left\" title=\"2.341614231584083\">2.341614231584083</td></tr><tr><td style=\"text-align:left\" title=\"\"></td><td style=\"text-align:left\" title=\"\"></td><td style=\"text-align:left\" title=\"Bayern\">Bayern</td><td style=\"text-align:left\" title=\"Germany\">Germany</td><td style=\"text-align:left\" title=\"2021-04-08 04:21:13\">2021-04-08 04:21:13</td><td style=\"text-align:left\" title=\"48.7904\">48.7904</td><td style=\"text-align:left\" title=\"11.4979\">11.4979</td><td style=\"text-align:left\" title=\"517336\">517336</td><td style=\"text-align:left\" title=\"13419\">13419</td><td style=\"text-align:left\" title=\"467100\">467100</td><td style=\"text-align:left\" title=\"36817\">36817</td><td style=\"text-align:left\" title=\"Bayern, Germany\">Bayern, Germany</td><td style=\"text-align:left\" title=\"3956.1599578365253\">3956.1599578365253</td><td style=\"text-align:left\" title=\"2.5938654955386826\">2.5938654955386826</td></tr><tr><td style=\"text-align:left\" title=\"\"></td><td style=\"text-align:left\" title=\"\"></td><td style=\"text-align:left\" title=\"Berlin\">Berlin</td><td style=\"text-align:left\" title=\"Germany\">Germany</td><td style=\"text-align:left\" title=\"2021-04-08 04:21:13\">2021-04-08 04:21:13</td><td style=\"text-align:left\" title=\"52.52\">52.52</td><td style=\"text-align:left\" title=\"13.405\">13.405</td><td style=\"text-align:left\" title=\"150385\">150385</td><td style=\"text-align:left\" title=\"3098\">3098</td><td style=\"text-align:left\" title=\"138800\">138800</td><td style=\"text-align:left\" title=\"8487\">8487</td><td style=\"text-align:left\" title=\"Berlin, Germany\">Berlin, Germany</td><td style=\"text-align:left\" title=\"4125.985712349506\">4125.985712349506</td><td style=\"text-align:left\" title=\"2.0600458822355954\">2.0600458822355954</td></tr><tr><td style=\"text-align:left\" title=\"\"></td><td style=\"text-align:left\" title=\"\"></td><td style=\"text-align:left\" title=\"Brandenburg\">Brandenburg</td><td style=\"text-align:left\" title=\"Germany\">Germany</td><td style=\"text-align:left\" title=\"2021-04-08 04:21:13\">2021-04-08 04:21:13</td><td style=\"text-align:left\" title=\"52.4125\">52.4125</td><td style=\"text-align:left\" title=\"12.5316\">12.5316</td><td style=\"text-align:left\" title=\"90999\">90999</td><td style=\"text-align:left\" title=\"3358\">3358</td><td style=\"text-align:left\" title=\"81090\">81090</td><td style=\"text-align:left\" title=\"6551\">6551</td><td style=\"text-align:left\" title=\"Brandenburg, Germany\">Brandenburg, Germany</td><td style=\"text-align:left\" title=\"3622.6913548497027\">3622.6913548497027</td><td style=\"text-align:left\" title=\"3.69015044121364\">3.69015044121364</td></tr><tr><td style=\"text-align:left\" title=\"\"></td><td style=\"text-align:left\" title=\"\"></td><td style=\"text-align:left\" title=\"Bremen\">Bremen</td><td style=\"text-align:left\" title=\"Germany\">Germany</td><td style=\"text-align:left\" title=\"2021-04-08 04:21:13\">2021-04-08 04:21:13</td><td style=\"text-align:left\" title=\"53.0793\">53.0793</td><td style=\"text-align:left\" title=\"8.8017\">8.8017</td><td style=\"text-align:left\" title=\"21697\">21697</td><td style=\"text-align:left\" title=\"415\">415</td><td style=\"text-align:left\" title=\"19790\">19790</td><td style=\"text-align:left\" title=\"1492\">1492</td><td style=\"text-align:left\" title=\"Bremen, Germany\">Bremen, Germany</td><td style=\"text-align:left\" title=\"3176.785468516192\">3176.785468516192</td><td style=\"text-align:left\" title=\"1.9127068258284556\">1.9127068258284556</td></tr><tr><td style=\"text-align:left\" title=\"\"></td><td style=\"text-align:left\" title=\"\"></td><td style=\"text-align:left\" title=\"Hamburg\">Hamburg</td><td style=\"text-align:left\" title=\"Germany\">Germany</td><td style=\"text-align:left\" title=\"2021-04-08 04:21:13\">2021-04-08 04:21:13</td><td style=\"text-align:left\" title=\"53.5511\">53.5511</td><td style=\"text-align:left\" title=\"9.9937\">9.9937</td><td style=\"text-align:left\" title=\"63826\">63826</td><td style=\"text-align:left\" title=\"1404\">1404</td><td style=\"text-align:left\" title=\"55180\">55180</td><td style=\"text-align:left\" title=\"7242\">7242</td><td style=\"text-align:left\" title=\"Hamburg, Germany\">Hamburg, Germany</td><td style=\"text-align:left\" title=\"3466.583097026416\">3466.583097026416</td><td style=\"text-align:left\" title=\"2.199730517344029\">2.199730517344029</td></tr><tr><td style=\"text-align:left\" title=\"\"></td><td style=\"text-align:left\" title=\"\"></td><td style=\"text-align:left\" title=\"Hessen\">Hessen</td><td style=\"text-align:left\" title=\"Germany\">Germany</td><td style=\"text-align:left\" title=\"2021-04-08 04:21:13\">2021-04-08 04:21:13</td><td style=\"text-align:left\" title=\"50.6521\">50.6521</td><td style=\"text-align:left\" title=\"9.1624\">9.1624</td><td style=\"text-align:left\" title=\"227581\">227581</td><td style=\"text-align:left\" title=\"6441\">6441</td><td style=\"text-align:left\" title=\"202400\">202400</td><td style=\"text-align:left\" title=\"18740\">18740</td><td style=\"text-align:left\" title=\"Hessen, Germany\">Hessen, Germany</td><td style=\"text-align:left\" title=\"3632.108798720165\">3632.108798720165</td><td style=\"text-align:left\" title=\"2.8302011152073328\">2.8302011152073328</td></tr><tr><td style=\"text-align:left\" title=\"\"></td><td style=\"text-align:left\" title=\"\"></td><td style=\"text-align:left\" title=\"Mecklenburg-Vorpommern\">Mecklenburg-Vorpommern</td><td style=\"text-align:left\" title=\"Germany\">Germany</td><td style=\"text-align:left\" title=\"2021-04-08 04:21:13\">2021-04-08 04:21:13</td><td style=\"text-align:left\" title=\"53.6127\">53.6127</td><td style=\"text-align:left\" title=\"12.4296\">12.4296</td><td style=\"text-align:left\" title=\"32341\">32341</td><td style=\"text-align:left\" title=\"887\">887</td><td style=\"text-align:left\" title=\"28730\">28730</td><td style=\"text-align:left\" title=\"2724\">2724</td><td style=\"text-align:left\" title=\"Mecklenburg-Vorpommern, Germany\">Mecklenburg-Vorpommern, Germany</td><td style=\"text-align:left\" title=\"2009.1633404258623\">2009.1633404258623</td><td style=\"text-align:left\" title=\"2.742648650320027\">2.742648650320027</td></tr><tr><td style=\"text-align:left\" title=\"\"></td><td style=\"text-align:left\" title=\"\"></td><td style=\"text-align:left\" title=\"Niedersachsen\">Niedersachsen</td><td style=\"text-align:left\" title=\"Germany\">Germany</td><td style=\"text-align:left\" title=\"2021-04-08 04:21:13\">2021-04-08 04:21:13</td><td style=\"text-align:left\" title=\"52.6367\">52.6367</td><td style=\"text-align:left\" title=\"9.8451\">9.8451</td><td style=\"text-align:left\" title=\"205087\">205087</td><td style=\"text-align:left\" title=\"4962\">4962</td><td style=\"text-align:left\" title=\"186600\">186600</td><td style=\"text-align:left\" title=\"13525\">13525</td><td style=\"text-align:left\" title=\"Niedersachsen, Germany\">Niedersachsen, Germany</td><td style=\"text-align:left\" title=\"2569.22437828596\">2569.22437828596</td><td style=\"text-align:left\" title=\"2.419461009230229\">2.419461009230229</td></tr><tr><td style=\"text-align:left\" title=\"\"></td><td style=\"text-align:left\" title=\"\"></td><td style=\"text-align:left\" title=\"Nordrhein-Westfalen\">Nordrhein-Westfalen</td><td style=\"text-align:left\" title=\"Germany\">Germany</td><td style=\"text-align:left\" title=\"2021-04-08 04:21:13\">2021-04-08 04:21:13</td><td style=\"text-align:left\" title=\"51.4332\">51.4332</td><td style=\"text-align:left\" title=\"7.6616\">7.6616</td><td style=\"text-align:left\" title=\"633940\">633940</td><td style=\"text-align:left\" title=\"14462\">14462</td><td style=\"text-align:left\" title=\"572000\">572000</td><td style=\"text-align:left\" title=\"47478\">47478</td><td style=\"text-align:left\" title=\"Nordrhein-Westfalen, Germany\">Nordrhein-Westfalen, Germany</td><td style=\"text-align:left\" title=\"3535.1159178863177\">3535.1159178863177</td><td style=\"text-align:left\" title=\"2.281288450011042\">2.281288450011042</td></tr><tr><td style=\"text-align:left\" title=\"\"></td><td style=\"text-align:left\" title=\"\"></td><td style=\"text-align:left\" title=\"Rheinland-Pfalz\">Rheinland-Pfalz</td><td style=\"text-align:left\" title=\"Germany\">Germany</td><td style=\"text-align:left\" title=\"2021-04-08 04:21:13\">2021-04-08 04:21:13</td><td style=\"text-align:left\" title=\"50.1183\">50.1183</td><td style=\"text-align:left\" title=\"7.309\">7.309</td><td style=\"text-align:left\" title=\"120870\">120870</td><td style=\"text-align:left\" title=\"3362\">3362</td><td style=\"text-align:left\" title=\"108700\">108700</td><td style=\"text-align:left\" title=\"8808\">8808</td><td style=\"text-align:left\" title=\"Rheinland-Pfalz, Germany\">Rheinland-Pfalz, Germany</td><td style=\"text-align:left\" title=\"2958.98692826458\">2958.98692826458</td><td style=\"text-align:left\" title=\"2.781500785968396\">2.781500785968396</td></tr><tr><td style=\"text-align:left\" title=\"\"></td><td style=\"text-align:left\" title=\"\"></td><td style=\"text-align:left\" title=\"Saarland\">Saarland</td><td style=\"text-align:left\" title=\"Germany\">Germany</td><td style=\"text-align:left\" title=\"2021-04-08 04:21:13\">2021-04-08 04:21:13</td><td style=\"text-align:left\" title=\"49.3964\">49.3964</td><td style=\"text-align:left\" title=\"7.023\">7.023</td><td style=\"text-align:left\" title=\"32807\">32807</td><td style=\"text-align:left\" title=\"946\">946</td><td style=\"text-align:left\" title=\"30330\">30330</td><td style=\"text-align:left\" title=\"1531\">1531</td><td style=\"text-align:left\" title=\"Saarland, Germany\">Saarland, Germany</td><td style=\"text-align:left\" title=\"3312.135477819989\">3312.135477819989</td><td style=\"text-align:left\" title=\"2.8835309537598683\">2.8835309537598683</td></tr><tr><td style=\"text-align:left\" title=\"\"></td><td style=\"text-align:left\" title=\"\"></td><td style=\"text-align:left\" title=\"Sachsen\">Sachsen</td><td style=\"text-align:left\" title=\"Germany\">Germany</td><td style=\"text-align:left\" title=\"2021-04-08 04:21:13\">2021-04-08 04:21:13</td><td style=\"text-align:left\" title=\"51.1045\">51.1045</td><td style=\"text-align:left\" title=\"13.2017\">13.2017</td><td style=\"text-align:left\" title=\"229450\">229450</td><td style=\"text-align:left\" title=\"8475\">8475</td><td style=\"text-align:left\" title=\"205400\">205400</td><td style=\"text-align:left\" title=\"15575\">15575</td><td style=\"text-align:left\" title=\"Sachsen, Germany\">Sachsen, Germany</td><td style=\"text-align:left\" title=\"5626.619538261626\">5626.619538261626</td><td style=\"text-align:left\" title=\"3.6936151667029855\">3.6936151667029855</td></tr><tr><td style=\"text-align:left\" title=\"\"></td><td style=\"text-align:left\" title=\"\"></td><td style=\"text-align:left\" title=\"Sachsen-Anhalt\">Sachsen-Anhalt</td><td style=\"text-align:left\" title=\"Germany\">Germany</td><td style=\"text-align:left\" title=\"2021-04-08 04:21:13\">2021-04-08 04:21:13</td><td style=\"text-align:left\" title=\"51.9503\">51.9503</td><td style=\"text-align:left\" title=\"11.6923\">11.6923</td><td style=\"text-align:left\" title=\"76541\">76541</td><td style=\"text-align:left\" title=\"2803\">2803</td><td style=\"text-align:left\" title=\"67780\">67780</td><td style=\"text-align:left\" title=\"5958\">5958</td><td style=\"text-align:left\" title=\"Sachsen-Anhalt, Germany\">Sachsen-Anhalt, Germany</td><td style=\"text-align:left\" title=\"3466.0269046030894\">3466.0269046030894</td><td style=\"text-align:left\" title=\"3.6620895990384237\">3.6620895990384237</td></tr><tr><td style=\"text-align:left\" title=\"\"></td><td style=\"text-align:left\" title=\"\"></td><td style=\"text-align:left\" title=\"Schleswig-Holstein\">Schleswig-Holstein</td><td style=\"text-align:left\" title=\"Germany\">Germany</td><td style=\"text-align:left\" title=\"2021-04-08 04:21:13\">2021-04-08 04:21:13</td><td style=\"text-align:left\" title=\"54.2194\">54.2194</td><td style=\"text-align:left\" title=\"9.6961\">9.6961</td><td style=\"text-align:left\" title=\"51864\">51864</td><td style=\"text-align:left\" title=\"1448\">1448</td><td style=\"text-align:left\" title=\"46260\">46260</td><td style=\"text-align:left\" title=\"4156\">4156</td><td style=\"text-align:left\" title=\"Schleswig-Holstein, Germany\">Schleswig-Holstein, Germany</td><td style=\"text-align:left\" title=\"1790.443785920036\">1790.443785920036</td><td style=\"text-align:left\" title=\"2.7919173222273637\">2.7919173222273637</td></tr><tr><td style=\"text-align:left\" title=\"\"></td><td style=\"text-align:left\" title=\"\"></td><td style=\"text-align:left\" title=\"Thuringen\">Thuringen</td><td style=\"text-align:left\" title=\"Germany\">Germany</td><td style=\"text-align:left\" title=\"2021-04-08 04:21:13\">2021-04-08 04:21:13</td><td style=\"text-align:left\" title=\"51.011\">51.011</td><td style=\"text-align:left\" title=\"10.8453\">10.8453</td><td style=\"text-align:left\" title=\"99350\">99350</td><td style=\"text-align:left\" title=\"3444\">3444</td><td style=\"text-align:left\" title=\"86860\">86860</td><td style=\"text-align:left\" title=\"9046\">9046</td><td style=\"text-align:left\" title=\"Thuringen, Germany\">Thuringen, Germany</td><td style=\"text-align:left\" title=\"4635.710602875681\">4635.710602875681</td><td style=\"text-align:left\" title=\"3.466532460996477\">3.466532460996477</td></tr><tr><td style=\"text-align:left\" title=\"\"></td><td style=\"text-align:left\" title=\"\"></td><td style=\"text-align:left\" title=\"Unknown\">Unknown</td><td style=\"text-align:left\" title=\"Germany\">Germany</td><td style=\"text-align:left\" title=\"2021-04-08 04:21:13\">2021-04-08 04:21:13</td><td style=\"text-align:left\" title=\"\"></td><td style=\"text-align:left\" title=\"\"></td><td style=\"text-align:left\" title=\"9072\">9072</td><td style=\"text-align:left\" title=\"0\">0</td><td style=\"text-align:left\" title=\"0\">0</td><td style=\"text-align:left\" title=\"9072\">9072</td><td style=\"text-align:left\" title=\"Unknown, Germany\">Unknown, Germany</td><td style=\"text-align:left\" title=\"\"></td><td style=\"text-align:left\" title=\"0.0\">0.0</td></tr></table></body></html>"
      ]
     },
     "execution_count": 150,
     "metadata": {},
     "output_type": "execute_result"
    }
   ],
   "source": [
    "//Lösung \n",
    "val zeilenDE = daten.rows.filter { it[\"Country_Region\"] as String == \"Germany\"}\n",
    "\n",
    "//Test\n",
    "val zeilenDEFrame = dataFrameOf(zeilenDE)\n",
    "if(zeilenDEFrame.nrow == 17){\n",
    "    println(\"Richtig!\")\n",
    "}\n",
    "else{\n",
    "    println(\"Falsch! Die Tabelle besitzt ${zeilenDEFrame.nrow} Zeilen, es sollten jedoch 17 sein.\")\n",
    "}\n",
    "zeilenDEFrame.head(17)"
   ]
  },
  {
   "cell_type": "markdown",
   "id": "forward-laundry",
   "metadata": {},
   "source": [
    "#### `any`, `all` und `none`\n",
    "Mit diesen Methoden kann herausgefunden werden, ob bestimmte Aussagen über die Elemente einer Datenstruktur zutreffen."
   ]
  },
  {
   "cell_type": "markdown",
   "id": "express-party",
   "metadata": {},
   "source": [
    "##### `any`\n",
    "`any()` testet, ob es ein Element gibt, bei der die Aussage zutrifft. In diesem Fall wird `true` zurückgegeben, ansonsten `false`."
   ]
  },
  {
   "cell_type": "code",
   "execution_count": 151,
   "id": "separated-possibility",
   "metadata": {
    "tags": []
   },
   "outputs": [
    {
     "name": "stdout",
     "output_type": "stream",
     "text": [
      "Es gibt einen Eintrag, in dem die Anzahl der Toten gleich den Aktiven ist: true\n"
     ]
    },
    {
     "data": {
      "text/html": [
       "<html><body><table><tr><th style=\"text-align:left\">FIPS</th><th style=\"text-align:left\">Admin2</th><th style=\"text-align:left\">Province_State</th><th style=\"text-align:left\">Country_Region</th><th style=\"text-align:left\">Last_Update</th><th style=\"text-align:left\">Lat</th><th style=\"text-align:left\">Long_</th><th style=\"text-align:left\">Confirmed</th><th style=\"text-align:left\">Deaths</th><th style=\"text-align:left\">Recovered</th><th style=\"text-align:left\">Active</th><th style=\"text-align:left\">Combined_Key</th><th style=\"text-align:left\">Incident_Rate</th><th style=\"text-align:left\">Case_Fatality_Ratio</th></tr><tr><td style=\"text-align:left\" title=\"\"></td><td style=\"text-align:left\" title=\"\"></td><td style=\"text-align:left\" title=\"Gansu\">Gansu</td><td style=\"text-align:left\" title=\"Urzikstan\">Urzikstan</td><td style=\"text-align:left\" title=\"2021-04-08 04:21:13\">2021-04-08 04:21:13</td><td style=\"text-align:left\" title=\"35.7518\">35.7518</td><td style=\"text-align:left\" title=\"104.2861\">104.2861</td><td style=\"text-align:left\" title=\"193\">193</td><td style=\"text-align:left\" title=\"2\">2</td><td style=\"text-align:left\" title=\"189\">189</td><td style=\"text-align:left\" title=\"2\">2</td><td style=\"text-align:left\" title=\"Gansu, Urzikstan\">Gansu, Urzikstan</td><td style=\"text-align:left\" title=\"0.7318923018581721\">0.7318923018581721</td><td style=\"text-align:left\" title=\"1.0362694300518134\">1.0362694300518134</td></tr></table></body></html>"
      ]
     },
     "execution_count": 151,
     "metadata": {},
     "output_type": "execute_result"
    }
   ],
   "source": [
    "val toteAktive = daten.rows.any { it[\"Deaths\"].toString() == it[\"Active\"].toString() && it[\"Deaths\"] != 0  } //Gibt es einen Eintrag, bei dem die Anzahl der Toten gleich der der aktiven Fälle ist?\n",
    "println(\"Es gibt einen Eintrag, in dem die Anzahl der Toten gleich den Aktiven ist: $toteAktive\")\n",
    "\n",
    "val filterToteAktive =  daten.filterByRow { it[\"Deaths\"].toString() == it[\"Active\"].toString() && it[\"Deaths\"] != 0 } //Filter nach dem Ergebnis von toteAktive\n",
    "filterToteAktive.head()"
   ]
  },
  {
   "cell_type": "markdown",
   "id": "binary-heading",
   "metadata": {},
   "source": [
    "##### `all`\n",
    "`all()` findet heraus, ob die Aussage für alle Elemente wahr ist."
   ]
  },
  {
   "cell_type": "code",
   "execution_count": 154,
   "id": "fitted-kidney",
   "metadata": {
    "tags": []
   },
   "outputs": [
    {
     "name": "stdout",
     "output_type": "stream",
     "text": [
      "Alle Einträge wurden zuletzt 'heute' aktualisiert: false\n"
     ]
    },
    {
     "data": {
      "text/html": [
       "<html><body><table><tr><th style=\"text-align:left\">FIPS</th><th style=\"text-align:left\">Admin2</th><th style=\"text-align:left\">Province_State</th><th style=\"text-align:left\">Country_Region</th><th style=\"text-align:left\">Last_Update</th><th style=\"text-align:left\">Lat</th><th style=\"text-align:left\">Long_</th><th style=\"text-align:left\">Confirmed</th><th style=\"text-align:left\">Deaths</th><th style=\"text-align:left\">Recovered</th><th style=\"text-align:left\">Active</th><th style=\"text-align:left\">Combined_Key</th><th style=\"text-align:left\">Incident_Rate</th><th style=\"text-align:left\">Case_Fatality_Ratio</th></tr><tr><td style=\"text-align:left\" title=\"\"></td><td style=\"text-align:left\" title=\"\"></td><td style=\"text-align:left\" title=\"Diamond Princess\">Diamond Princess</td><td style=\"text-align:left\" title=\"Canada\">Canada</td><td style=\"text-align:left\" title=\"2020-12-21 13:27:30\">2020-12-21 13:27:30</td><td style=\"text-align:left\" title=\"\"></td><td style=\"text-align:left\" title=\"\"></td><td style=\"text-align:left\" title=\"0\">0</td><td style=\"text-align:left\" title=\"1\">1</td><td style=\"text-align:left\" title=\"0\">0</td><td style=\"text-align:left\" title=\"\"></td><td style=\"text-align:left\" title=\"Diamond Princess, Canada\">Diamond Princess, Canada</td><td style=\"text-align:left\" title=\"\"></td><td style=\"text-align:left\" title=\"\"></td></tr><tr><td style=\"text-align:left\" title=\"\"></td><td style=\"text-align:left\" title=\"\"></td><td style=\"text-align:left\" title=\"Grand Princess\">Grand Princess</td><td style=\"text-align:left\" title=\"Canada\">Canada</td><td style=\"text-align:left\" title=\"2020-12-21 13:27:30\">2020-12-21 13:27:30</td><td style=\"text-align:left\" title=\"\"></td><td style=\"text-align:left\" title=\"\"></td><td style=\"text-align:left\" title=\"13\">13</td><td style=\"text-align:left\" title=\"0\">0</td><td style=\"text-align:left\" title=\"13\">13</td><td style=\"text-align:left\" title=\"0\">0</td><td style=\"text-align:left\" title=\"Grand Princess, Canada\">Grand Princess, Canada</td><td style=\"text-align:left\" title=\"\"></td><td style=\"text-align:left\" title=\"0.0\">0.0</td></tr><tr><td style=\"text-align:left\" title=\"\"></td><td style=\"text-align:left\" title=\"\"></td><td style=\"text-align:left\" title=\"Bonaire, Sint Eustatius and Saba\">Bonaire, Sint Eustatius and Saba</td><td style=\"text-align:left\" title=\"Netherlands\">Netherlands</td><td style=\"text-align:left\" title=\"2021-01-08 23:22:27\">2021-01-08 23:22:27</td><td style=\"text-align:left\" title=\"12.1784\">12.1784</td><td style=\"text-align:left\" title=\"-68.2385\">-68.2385</td><td style=\"text-align:left\" title=\"196\">196</td><td style=\"text-align:left\" title=\"3\">3</td><td style=\"text-align:left\" title=\"180\">180</td><td style=\"text-align:left\" title=\"13\">13</td><td style=\"text-align:left\" title=\"Bonaire, Sint Eustatius and Saba, Netherlands\">Bonaire, Sint Eustatius and Saba, Netherlands</td><td style=\"text-align:left\" title=\"747.4924678692649\">747.4924678692649</td><td style=\"text-align:left\" title=\"1.530612244897959\">1.530612244897959</td></tr><tr><td style=\"text-align:left\" title=\"80001\">80001</td><td style=\"text-align:left\" title=\"Out of AL\">Out of AL</td><td style=\"text-align:left\" title=\"Alabama\">Alabama</td><td style=\"text-align:left\" title=\"US\">US</td><td style=\"text-align:left\" title=\"2020-12-21 13:27:30\">2020-12-21 13:27:30</td><td style=\"text-align:left\" title=\"\"></td><td style=\"text-align:left\" title=\"\"></td><td style=\"text-align:left\" title=\"0\">0</td><td style=\"text-align:left\" title=\"0\">0</td><td style=\"text-align:left\" title=\"\"></td><td style=\"text-align:left\" title=\"\"></td><td style=\"text-align:left\" title=\"Out of AL, Alabama, US\">Out of AL, Alabama, US</td><td style=\"text-align:left\" title=\"\"></td><td style=\"text-align:left\" title=\"\"></td></tr><tr><td style=\"text-align:left\" title=\"90001\">90001</td><td style=\"text-align:left\" title=\"Unassigned\">Unassigned</td><td style=\"text-align:left\" title=\"Alabama\">Alabama</td><td style=\"text-align:left\" title=\"US\">US</td><td style=\"text-align:left\" title=\"2020-12-21 13:27:30\">2020-12-21 13:27:30</td><td style=\"text-align:left\" title=\"\"></td><td style=\"text-align:left\" title=\"\"></td><td style=\"text-align:left\" title=\"0\">0</td><td style=\"text-align:left\" title=\"0\">0</td><td style=\"text-align:left\" title=\"\"></td><td style=\"text-align:left\" title=\"\"></td><td style=\"text-align:left\" title=\"Unassigned, Alabama, US\">Unassigned, Alabama, US</td><td style=\"text-align:left\" title=\"\"></td><td style=\"text-align:left\" title=\"\"></td></tr><tr><td style=\"text-align:left\" title=\"88888\">88888</td><td style=\"text-align:left\" title=\"\"></td><td style=\"text-align:left\" title=\"Diamond Princess\">Diamond Princess</td><td style=\"text-align:left\" title=\"US\">US</td><td style=\"text-align:left\" title=\"2020-08-04 02:27:56\">2020-08-04 02:27:56</td><td style=\"text-align:left\" title=\"\"></td><td style=\"text-align:left\" title=\"\"></td><td style=\"text-align:left\" title=\"49\">49</td><td style=\"text-align:left\" title=\"0\">0</td><td style=\"text-align:left\" title=\"\"></td><td style=\"text-align:left\" title=\"\"></td><td style=\"text-align:left\" title=\"Diamond Princess, US\">Diamond Princess, US</td><td style=\"text-align:left\" title=\"\"></td><td style=\"text-align:left\" title=\"0.0\">0.0</td></tr><tr><td style=\"text-align:left\" title=\"99999\">99999</td><td style=\"text-align:left\" title=\"\"></td><td style=\"text-align:left\" title=\"Grand Princess\">Grand Princess</td><td style=\"text-align:left\" title=\"US\">US</td><td style=\"text-align:left\" title=\"2020-08-04 02:27:56\">2020-08-04 02:27:56</td><td style=\"text-align:left\" title=\"\"></td><td style=\"text-align:left\" title=\"\"></td><td style=\"text-align:left\" title=\"103\">103</td><td style=\"text-align:left\" title=\"3\">3</td><td style=\"text-align:left\" title=\"\"></td><td style=\"text-align:left\" title=\"\"></td><td style=\"text-align:left\" title=\"Grand Princess, US\">Grand Princess, US</td><td style=\"text-align:left\" title=\"\"></td><td style=\"text-align:left\" title=\"2.912621359223301\">2.912621359223301</td></tr><tr><td style=\"text-align:left\" title=\"80023\">80023</td><td style=\"text-align:left\" title=\"Out of ME\">Out of ME</td><td style=\"text-align:left\" title=\"Maine\">Maine</td><td style=\"text-align:left\" title=\"US\">US</td><td style=\"text-align:left\" title=\"2020-08-07 22:34:20\">2020-08-07 22:34:20</td><td style=\"text-align:left\" title=\"\"></td><td style=\"text-align:left\" title=\"\"></td><td style=\"text-align:left\" title=\"0\">0</td><td style=\"text-align:left\" title=\"0\">0</td><td style=\"text-align:left\" title=\"\"></td><td style=\"text-align:left\" title=\"\"></td><td style=\"text-align:left\" title=\"Out of ME, Maine, US\">Out of ME, Maine, US</td><td style=\"text-align:left\" title=\"\"></td><td style=\"text-align:left\" title=\"\"></td></tr><tr><td style=\"text-align:left\" title=\"90032\">90032</td><td style=\"text-align:left\" title=\"Unassigned\">Unassigned</td><td style=\"text-align:left\" title=\"Nevada\">Nevada</td><td style=\"text-align:left\" title=\"US\">US</td><td style=\"text-align:left\" title=\"2021-01-24 23:22:19\">2021-01-24 23:22:19</td><td style=\"text-align:left\" title=\"\"></td><td style=\"text-align:left\" title=\"\"></td><td style=\"text-align:left\" title=\"0\">0</td><td style=\"text-align:left\" title=\"0\">0</td><td style=\"text-align:left\" title=\"\"></td><td style=\"text-align:left\" title=\"\"></td><td style=\"text-align:left\" title=\"Unassigned, Nevada, US\">Unassigned, Nevada, US</td><td style=\"text-align:left\" title=\"\"></td><td style=\"text-align:left\" title=\"\"></td></tr><tr><td style=\"text-align:left\" title=\"90051\">90051</td><td style=\"text-align:left\" title=\"Unassigned\">Unassigned</td><td style=\"text-align:left\" title=\"Virginia\">Virginia</td><td style=\"text-align:left\" title=\"US\">US</td><td style=\"text-align:left\" title=\"2020-12-21 13:27:30\">2020-12-21 13:27:30</td><td style=\"text-align:left\" title=\"\"></td><td style=\"text-align:left\" title=\"\"></td><td style=\"text-align:left\" title=\"0\">0</td><td style=\"text-align:left\" title=\"0\">0</td><td style=\"text-align:left\" title=\"\"></td><td style=\"text-align:left\" title=\"\"></td><td style=\"text-align:left\" title=\"Unassigned, Virginia, US\">Unassigned, Virginia, US</td><td style=\"text-align:left\" title=\"\"></td><td style=\"text-align:left\" title=\"\"></td></tr><tr><td style=\"text-align:left\" title=\"\"></td><td style=\"text-align:left\" title=\"\"></td><td style=\"text-align:left\" title=\"Saint Helena, Ascension and Tristan da Cunha\">Saint Helena, Ascension and Tristan da Cunha</td><td style=\"text-align:left\" title=\"United Kingdom\">United Kingdom</td><td style=\"text-align:left\" title=\"2021-03-14 23:25:24\">2021-03-14 23:25:24</td><td style=\"text-align:left\" title=\"-7.9467\">-7.9467</td><td style=\"text-align:left\" title=\"-14.3559\">-14.3559</td><td style=\"text-align:left\" title=\"4\">4</td><td style=\"text-align:left\" title=\"0\">0</td><td style=\"text-align:left\" title=\"4\">4</td><td style=\"text-align:left\" title=\"0\">0</td><td style=\"text-align:left\" title=\"Saint Helena, Ascension and Tristan da Cunha, United Kingdom\">Saint Helena, Ascension and Tristan da Cunha, U...</td><td style=\"text-align:left\" title=\"70.65889418830595\">70.65889418830595</td><td style=\"text-align:left\" title=\"0.0\">0.0</td></tr></table></body></html>"
      ]
     },
     "execution_count": 154,
     "metadata": {},
     "output_type": "execute_result"
    }
   ],
   "source": [
    "val datumHeute = \"2021-04-08\" //Datum von \"heute\", Format: Jahr-Monat-Tag\n",
    "val updateHeute = daten.rows.all { (it[\"Last_Update\"] as String).contains(datumHeute)} //Ist das Datum in Last_Update überall das \"heutige\"?\n",
    "println(\"Alle Einträge wurden zuletzt 'heute' aktualisiert: $updateHeute\")\n",
    "\n",
    "val filterUpdateHeute =  daten.filterByRow { (it[\"Last_Update\"] as String).contains(datumHeute) == false } //Filter nach falschen Zeilen für updateHeute\n",
    "filterUpdateHeute.head(20)"
   ]
  },
  {
   "cell_type": "markdown",
   "id": "metallic-doctrine",
   "metadata": {},
   "source": [
    "##### `none`\n",
    "`none()` ist das Gegenteil zu `all()`. Es wird `true` zurückgegeben, falls die Bedingung für alle Elemente falsch ist."
   ]
  },
  {
   "cell_type": "code",
   "execution_count": 38,
   "id": "concerned-oxide",
   "metadata": {
    "execution": {
     "iopub.execute_input": "2021-04-18T14:37+0200",
     "iopub.status.busy": "2021-04-18T14:37+0200",
     "iopub.status.idle": "2021-04-18T14:37+0200",
     "shell.execute_reply": "2021-04-18T14:37+0200",
     "shell.execute_reply.started": "2021-04-18T14:37+0200"
    }
   },
   "outputs": [
    {
     "name": "stdout",
     "output_type": "stream",
     "text": [
      "Es gibt keinen Eintrag, der mehr als 5 Millionen bestätigte Fälle besitzt: true\n"
     ]
    },
    {
     "data": {
      "text/html": [
       "<html><body><table><tr><th style=\"text-align:left\">FIPS</th><th style=\"text-align:left\">Admin2</th><th style=\"text-align:left\">Province_State</th><th style=\"text-align:left\">Country_Region</th><th style=\"text-align:left\">Last_Update</th><th style=\"text-align:left\">Lat</th><th style=\"text-align:left\">Long_</th><th style=\"text-align:left\">Confirmed</th><th style=\"text-align:left\">Deaths</th><th style=\"text-align:left\">Recovered</th><th style=\"text-align:left\">Active</th><th style=\"text-align:left\">Combined_Key</th><th style=\"text-align:left\">Incident_Rate</th><th style=\"text-align:left\">Case_Fatality_Ratio</th></tr></table></body></html>"
      ]
     },
     "execution_count": 38,
     "metadata": {
      "new_classpath": []
     },
     "output_type": "execute_result"
    }
   ],
   "source": [
    "val millionenBestaetigte = daten.rows.none { (it[\"Confirmed\"] as Int) > 5000000 } //Gibt es keinen Eintrag, der mehr als 5 Millionen bestätigte Fälle besitzt?\n",
    "println(\"Es gibt keinen Eintrag, der mehr als 5 Millionen bestätigte Fälle besitzt: $millionenBestaetigte\")\n",
    "\n",
    "val filterMillionenBestaetigte =  daten.filterByRow { (it[\"Confirmed\"] as Int) > 5000000 } //Filter nach Einträgen, für die die Aussage zutreffen würde\n",
    "filterMillionenBestaetigte.head(20)"
   ]
  },
  {
   "cell_type": "markdown",
   "id": "looking-detective",
   "metadata": {},
   "source": [
    "##### Aufgabe - any, all und none\n",
    "Während der Vorstellung der drei Methoden könnte aufgefallen sein, dass sich diese gegenseitig beeinflussen. Genau das soll in dieser Aufgabe genutzt werden. Vervollständige folgendes Grundgerüst, sodass alle Tests keine Fehler aufweisen.\n",
    "* `checkLaenge()` soll `true` zurückgeben, falls jede Zeichenkette der Liste länger als die übergebene Länge ist.   \n",
    "* `checkBuchstabe()` soll überprüfen, ob jede Zeichenkette der Liste den übergebenen Buchstaben beinhaltet."
   ]
  },
  {
   "cell_type": "code",
   "execution_count": 39,
   "id": "inner-compilation",
   "metadata": {
    "execution": {
     "iopub.execute_input": "2021-04-18T14:37+0200",
     "iopub.status.busy": "2021-04-18T14:37+0200",
     "iopub.status.idle": "2021-04-18T14:37+0200",
     "shell.execute_reply": "2021-04-18T14:37+0200"
    }
   },
   "outputs": [
    {
     "name": "stderr",
     "output_type": "stream",
     "text": [
      "Line_52.jupyter.kts (2:31 - 37) Parameter 'laenge' is never used\n",
      "Line_52.jupyter.kts (2:51 - 63) Type mismatch: inferred type is Unit but Boolean was expected\n",
      "Line_52.jupyter.kts (2:53 - 61) Type mismatch: inferred type is Unit but Boolean was expected\n",
      "Line_52.jupyter.kts (3:31 - 37) Parameter 'laenge' is never used\n",
      "Line_52.jupyter.kts (3:52 - 64) Type mismatch: inferred type is Unit but Boolean was expected\n",
      "Line_52.jupyter.kts (3:54 - 62) Type mismatch: inferred type is Unit but Boolean was expected\n",
      "Line_52.jupyter.kts (4:31 - 37) Parameter 'laenge' is never used\n",
      "Line_52.jupyter.kts (4:51 - 63) Type mismatch: inferred type is Unit but Boolean was expected\n",
      "Line_52.jupyter.kts (4:53 - 61) Type mismatch: inferred type is Unit but Boolean was expected\n",
      "Line_52.jupyter.kts (6:34 - 43) Parameter 'buchstabe' is never used\n",
      "Line_52.jupyter.kts (6:58 - 70) Type mismatch: inferred type is Unit but Boolean was expected\n",
      "Line_52.jupyter.kts (6:60 - 68) Type mismatch: inferred type is Unit but Boolean was expected\n",
      "Line_52.jupyter.kts (7:34 - 43) Parameter 'buchstabe' is never used\n",
      "Line_52.jupyter.kts (7:59 - 71) Type mismatch: inferred type is Unit but Boolean was expected\n",
      "Line_52.jupyter.kts (7:61 - 69) Type mismatch: inferred type is Unit but Boolean was expected\n",
      "Line_52.jupyter.kts (8:34 - 43) Parameter 'buchstabe' is never used\n",
      "Line_52.jupyter.kts (8:58 - 70) Type mismatch: inferred type is Unit but Boolean was expected\n",
      "Line_52.jupyter.kts (8:60 - 68) Type mismatch: inferred type is Unit but Boolean was expected"
     ]
    }
   ],
   "source": [
    "//Grundgerüst\n",
    "fun List<String>.checkLaenge1(laenge: Int) =  all { /*TODO*/ }\n",
    "fun List<String>.checkLaenge2(laenge: Int) =  none { /*TODO*/ }\n",
    "fun List<String>.checkLaenge3(laenge: Int) =  any { /*TODO*/ }\n",
    "\n",
    "fun List<String>.checkBuchstabe1(buchstabe: Char) =  all { /*TODO*/ }\n",
    "fun List<String>.checkBuchstabe2(buchstabe: Char) =  none { /*TODO*/ }\n",
    "fun List<String>.checkBuchstabe3(buchstabe: Char) =  any { /*TODO*/ }\n",
    "\n",
    "var fehler = 0\n",
    "val liste1 = listOf(\"Tertiär\", \"Senat\", \"Sklave\", \"Blatt\", \"Ruhm\", \"Pinguin\")\n",
    "if (liste1.checkLaenge1(4) != true){\n",
    "    println(\"Fehler! liste1.checkLaenge1(4) sollte eigentlich true sein, ist aber ${liste1.checkLaenge1(4)}\")\n",
    "    fehler++\n",
    "}\n",
    "if (liste1.checkLaenge2(4) != true){\n",
    "    println(\"Fehler! liste1.checkLaenge3(4) sollte eigentlich true sein, ist aber ${liste1.checkLaenge2(4)}\")\n",
    "    fehler++\n",
    "}\n",
    "if (liste1.checkLaenge3(4) != true){\n",
    "    println(\"Fehler! liste1.checkLaenge3(4) sollte eigentlich true sein, ist aber ${liste1.checkLaenge3(4)}\")\n",
    "    fehler++\n",
    "}\n",
    "\n",
    "if (liste1.checkLaenge1(7) != false){\n",
    "    println(\"Fehler! liste1.checkLaenge1(7) sollte eigentlich false sein, ist aber ${liste1.checkLaenge1(7)}\")\n",
    "    fehler++\n",
    "}\n",
    "if (liste1.checkLaenge2(7) != false){\n",
    "    println(\"Fehler! liste1.checkLaenge2(7) sollte eigentlich false sein, ist aber ${liste1.checkLaenge2(7)}\")\n",
    "    fehler++\n",
    "}\n",
    "if (liste1.checkLaenge3(7) != false){\n",
    "    println(\"Fehler! liste1.checkLaenge3(7) sollte eigentlich false sein, ist aber ${liste1.checkLaenge3(7)}\")\n",
    "    fehler++\n",
    "}\n",
    "\n",
    "val liste2 = listOf(\"Barretina\", \"Sockel\", \"Tablette\", \"Elefant\", \"Zauberstab\", \"Heer\")\n",
    "if (liste2.checkBuchstabe1('e') != true){\n",
    "    println(\"Fehler! liste2.checkBuchstabe1('e') sollte eigentlich true sein, ist aber ${liste2.checkBuchstabe1('e')}\")\n",
    "    fehler++\n",
    "}\n",
    "if (liste2.checkBuchstabe2('e') != true){\n",
    "    println(\"Fehler! liste2.checkBuchstabe2('e') sollte eigentlich true sein, ist aber ${liste2.checkBuchstabe2('e')}\")\n",
    "    fehler++\n",
    "}\n",
    "if (liste2.checkBuchstabe3('e') != true){\n",
    "    println(\"Fehler! liste2.checkBuchstabe3('e') sollte eigentlich true sein, ist aber ${liste2.checkBuchstabe3('e')}\")\n",
    "    fehler++\n",
    "}\n",
    "\n",
    "if (liste2.checkBuchstabe1('a') != false){\n",
    "    println(\"Fehler! liste2.checkBuchstabe1('a') sollte eigentlich false sein, ist aber ${liste2.checkBuchstabe1('a')}\")\n",
    "    fehler++\n",
    "}\n",
    "if (liste2.checkBuchstabe2('a') != false){\n",
    "    println(\"Fehler! liste2.checkBuchstabe2('a') sollte eigentlich false sein, ist aber ${liste2.checkBuchstabe2('a')}\")\n",
    "    fehler++\n",
    "}\n",
    "if (liste2.checkBuchstabe3('a') != false){\n",
    "    println(\"Fehler! liste2.checkBuchstabe3('a') sollte eigentlich false sein, ist aber ${liste2.checkBuchstabe3('a')}\")\n",
    "    fehler++\n",
    "}\n",
    "\n",
    "if(fehler == 0)\n",
    "    println(\"Super! Alle Tests bestanden!\")\n",
    "else\n",
    "    println(\"Bei $fehler Tests kamen Fehler auf.\")"
   ]
  },
  {
   "cell_type": "code",
   "execution_count": 40,
   "id": "catholic-clause",
   "metadata": {
    "execution": {
     "iopub.execute_input": "2021-04-18T14:37+0200",
     "iopub.status.busy": "2021-04-18T14:37+0200",
     "iopub.status.idle": "2021-04-18T14:37+0200",
     "shell.execute_reply": "2021-04-18T14:37+0200",
     "shell.execute_reply.started": "2021-04-18T14:37+0200"
    }
   },
   "outputs": [
    {
     "name": "stdout",
     "output_type": "stream",
     "text": [
      "Super! Alle Tests bestanden!\n"
     ]
    }
   ],
   "source": [
    "//Lösung\n",
    "fun List<String>.checkLaenge1(laenge: Int) =  all { it.length >= laenge }\n",
    "fun List<String>.checkLaenge2(laenge: Int) =  none { it.length < laenge }\n",
    "fun List<String>.checkLaenge3(laenge: Int) =  !any { it.length < laenge}\n",
    "\n",
    "fun List<String>.checkBuchstabe1(buchstabe: Char) =  all { it.contains(buchstabe) }\n",
    "fun List<String>.checkBuchstabe2(buchstabe: Char) =  none { !it.contains(buchstabe) }\n",
    "fun List<String>.checkBuchstabe3(buchstabe: Char) =  !any { !it.contains(buchstabe)}\n",
    "\n",
    "var fehler = 0\n",
    "val liste1 = listOf(\"Tertiär\", \"Senat\", \"Sklave\", \"Blatt\", \"Ruhm\", \"Pinguin\")\n",
    "if (liste1.checkLaenge1(4) != true){\n",
    "    println(\"Fehler! liste1.checkLaenge1(4) sollte eigentlich true sein, ist aber ${liste1.checkLaenge1(4)}\")\n",
    "    fehler++\n",
    "}\n",
    "if (liste1.checkLaenge2(4) != true){\n",
    "    println(\"Fehler! liste1.checkLaenge3(4) sollte eigentlich true sein, ist aber ${liste1.checkLaenge2(4)}\")\n",
    "    fehler++\n",
    "}\n",
    "if (liste1.checkLaenge3(4) != true){\n",
    "    println(\"Fehler! liste1.checkLaenge3(4) sollte eigentlich true sein, ist aber ${liste1.checkLaenge3(4)}\")\n",
    "    fehler++\n",
    "}\n",
    "\n",
    "if (liste1.checkLaenge1(7) != false){\n",
    "    println(\"Fehler! liste1.checkLaenge1(7) sollte eigentlich false sein, ist aber ${liste1.checkLaenge1(7)}\")\n",
    "    fehler++\n",
    "}\n",
    "if (liste1.checkLaenge2(7) != false){\n",
    "    println(\"Fehler! liste1.checkLaenge2(7) sollte eigentlich false sein, ist aber ${liste1.checkLaenge2(7)}\")\n",
    "    fehler++\n",
    "}\n",
    "if (liste1.checkLaenge3(7) != false){\n",
    "    println(\"Fehler! liste1.checkLaenge3(7) sollte eigentlich false sein, ist aber ${liste1.checkLaenge3(7)}\")\n",
    "    fehler++\n",
    "}\n",
    "\n",
    "val liste2 = listOf(\"Barretina\", \"Sockel\", \"Tablette\", \"Elefant\", \"Zauberstab\", \"Heer\")\n",
    "if (liste2.checkBuchstabe1('e') != true){\n",
    "    println(\"Fehler! liste2.checkBuchstabe1('e') sollte eigentlich true sein, ist aber ${liste2.checkBuchstabe1('e')}\")\n",
    "    fehler++\n",
    "}\n",
    "if (liste2.checkBuchstabe2('e') != true){\n",
    "    println(\"Fehler! liste2.checkBuchstabe2('e') sollte eigentlich true sein, ist aber ${liste2.checkBuchstabe2('e')}\")\n",
    "    fehler++\n",
    "}\n",
    "if (liste2.checkBuchstabe3('e') != true){\n",
    "    println(\"Fehler! liste2.checkBuchstabe3('e') sollte eigentlich true sein, ist aber ${liste2.checkBuchstabe3('e')}\")\n",
    "    fehler++\n",
    "}\n",
    "\n",
    "if (liste2.checkBuchstabe1('a') != false){\n",
    "    println(\"Fehler! liste2.checkBuchstabe1('a') sollte eigentlich false sein, ist aber ${liste2.checkBuchstabe1('a')}\")\n",
    "    fehler++\n",
    "}\n",
    "if (liste2.checkBuchstabe2('a') != false){\n",
    "    println(\"Fehler! liste2.checkBuchstabe2('a') sollte eigentlich false sein, ist aber ${liste2.checkBuchstabe2('a')}\")\n",
    "    fehler++\n",
    "}\n",
    "if (liste2.checkBuchstabe3('a') != false){\n",
    "    println(\"Fehler! liste2.checkBuchstabe3('a') sollte eigentlich false sein, ist aber ${liste2.checkBuchstabe3('a')}\")\n",
    "    fehler++\n",
    "}\n",
    "\n",
    "if(fehler == 0)\n",
    "    println(\"Super! Alle Tests bestanden!\")\n",
    "else\n",
    "    println(\"Bei $fehler Tests kamen Fehler auf.\")"
   ]
  },
  {
   "cell_type": "markdown",
   "id": "romance-machine",
   "metadata": {},
   "source": [
    "#### `find`, `first` und `firstOrNull`\n",
    "##### `find`\n",
    "Wird ein Element gesucht, findet `find()` Anwendung. Diese Methode gibt das erste gefundene Element, bei dem die Bedingung wahr ist, zurück. Falls kein Element gefunden wird, ist das Ergebnis `null`. Deswegen muss ein sicherer Zugriff stattfinden."
   ]
  },
  {
   "cell_type": "code",
   "execution_count": 155,
   "id": "united-ordering",
   "metadata": {
    "tags": []
   },
   "outputs": [
    {
     "name": "stdout",
     "output_type": "stream",
     "text": [
      "Bestätigte Fälle in Bayern: 517336\n",
      "Bestätigte Fälle in Bayreuth: null\n"
     ]
    }
   ],
   "source": [
    "val bayern = daten.rows.find { it[\"Province_State\"] == \"Bayern\" }?.get(\"Confirmed\") //Finde die bestätigten Fälle von Bayern\n",
    "println(\"Bestätigte Fälle in Bayern: $bayern\")\n",
    "\n",
    "val bayreuth = daten.rows.find { it[\"Province_State\"] == \"Bayreuth\" }?.get(\"Confirmed\") //Finde die bestätigten Fälle von Bayreuth\n",
    "println(\"Bestätigte Fälle in Bayreuth: $bayreuth\")"
   ]
  },
  {
   "cell_type": "markdown",
   "id": "noble-pickup",
   "metadata": {},
   "source": [
    "##### `first`\n",
    "Eine ähnliche Funktionalität bietet `first()`. Jedoch wird, falls kein Element gefunden wurde, eine `NoSuchElementException` geworfen."
   ]
  },
  {
   "cell_type": "code",
   "execution_count": 157,
   "id": "seasonal-vietnamese",
   "metadata": {
    "tags": []
   },
   "outputs": [
    {
     "name": "stdout",
     "output_type": "stream",
     "text": [
      "Bestätigte Fälle in Bayern: 517336\n",
      "Fehler: e\n"
     ]
    }
   ],
   "source": [
    "val bayern = daten.rows.first { it[\"Province_State\"] == \"Bayern\" }?.get(\"Confirmed\")\n",
    "println(\"Bestätigte Fälle in Bayern: $bayern\")\n",
    "\n",
    "try{\n",
    "    val bayreuth = daten.rows.first { it[\"Province_State\"] == \"Bayreuth\" }?.get(\"Confirmed\")\n",
    "    println(\"Bestätigte Fälle in Bayreuth: $bayreuth\")\n",
    "}\n",
    "catch (e: NoSuchElementException){\n",
    "    println(\"Fehler: e\")\n",
    "}\n"
   ]
  },
  {
   "cell_type": "markdown",
   "id": "flush-variation",
   "metadata": {},
   "source": [
    "##### `firstOrNull`\n",
    "`firstOrNull()` erweitert die `first()`-Methode, vorausgesetzt, dass bei Fehlschlag `null` zurückgegeben wird anstelle eines Fehlers. Das ähnelt der Funktionalität von `find()`."
   ]
  },
  {
   "cell_type": "code",
   "execution_count": 158,
   "id": "biological-investigator",
   "metadata": {
    "tags": []
   },
   "outputs": [
    {
     "name": "stdout",
     "output_type": "stream",
     "text": [
      "Bestätigte Fälle in Bayern: 517336\n",
      "Bestätigte Fälle in Bayreuth: null\n"
     ]
    }
   ],
   "source": [
    "val bayern = daten.rows.firstOrNull { it[\"Province_State\"] == \"Bayern\" }?.get(\"Confirmed\")\n",
    "println(\"Bestätigte Fälle in Bayern: $bayern\")\n",
    "\n",
    "val bayreuth = daten.rows.firstOrNull { it[\"Province_State\"] == \"Bayreuth\" }?.get(\"Confirmed\")\n",
    "println(\"Bestätigte Fälle in Bayreuth: $bayreuth\")"
   ]
  },
  {
   "cell_type": "markdown",
   "id": "located-violence",
   "metadata": {},
   "source": [
    "#### `partition`\n",
    "`partition()` ähnelt der bereits kennengelernten Methode `filter()`. Eine Datenstruktur wird wieder, anhand einer Bedingung, gefiltert und das Ergebnis zurückgegeben. Jedoch gibt es hier zwei Ergebnisse. Das Erste beinhaltet alle Elemente, auf die die Bedingung zutrifft, während in dem Zweiten alle anderen Elemente zu finden sind.\n",
    "\n",
    "<img src=\"images/partition.png\" style=\"margin: 20px auto 20px auto\" />"
   ]
  },
  {
   "cell_type": "code",
   "execution_count": 166,
   "id": "blessed-mother",
   "metadata": {
    "tags": []
   },
   "outputs": [
    {
     "data": {
      "text/html": [
       "<html><body><table><tr><th style=\"text-align:left\">FIPS</th><th style=\"text-align:left\">Admin2</th><th style=\"text-align:left\">Province_State</th><th style=\"text-align:left\">Country_Region</th><th style=\"text-align:left\">Last_Update</th><th style=\"text-align:left\">Lat</th><th style=\"text-align:left\">Long_</th><th style=\"text-align:left\">Confirmed</th><th style=\"text-align:left\">Deaths</th><th style=\"text-align:left\">Recovered</th><th style=\"text-align:left\">Active</th><th style=\"text-align:left\">Combined_Key</th><th style=\"text-align:left\">Incident_Rate</th><th style=\"text-align:left\">Case_Fatality_Ratio</th></tr><tr><td style=\"text-align:left\" title=\"\"></td><td style=\"text-align:left\" title=\"\"></td><td style=\"text-align:left\" title=\"Australian Capital Territory\">Australian Capital Territory</td><td style=\"text-align:left\" title=\"Australia\">Australia</td><td style=\"text-align:left\" title=\"2021-04-08 04:21:13\">2021-04-08 04:21:13</td><td style=\"text-align:left\" title=\"-35.4735\">-35.4735</td><td style=\"text-align:left\" title=\"149.0124\">149.0124</td><td style=\"text-align:left\" title=\"123\">123</td><td style=\"text-align:left\" title=\"3\">3</td><td style=\"text-align:left\" title=\"120\">120</td><td style=\"text-align:left\" title=\"0\">0</td><td style=\"text-align:left\" title=\"Australian Capital Territory, Australia\">Australian Capital Territory, Australia</td><td style=\"text-align:left\" title=\"28.73160476524177\">28.73160476524177</td><td style=\"text-align:left\" title=\"2.4390243902439024\">2.4390243902439024</td></tr><tr><td style=\"text-align:left\" title=\"\"></td><td style=\"text-align:left\" title=\"\"></td><td style=\"text-align:left\" title=\"New South Wales\">New South Wales</td><td style=\"text-align:left\" title=\"Australia\">Australia</td><td style=\"text-align:left\" title=\"2021-04-08 04:21:13\">2021-04-08 04:21:13</td><td style=\"text-align:left\" title=\"-33.8688\">-33.8688</td><td style=\"text-align:left\" title=\"151.2093\">151.2093</td><td style=\"text-align:left\" title=\"5318\">5318</td><td style=\"text-align:left\" title=\"54\">54</td><td style=\"text-align:left\" title=\"0\">0</td><td style=\"text-align:left\" title=\"5264\">5264</td><td style=\"text-align:left\" title=\"New South Wales, Australia\">New South Wales, Australia</td><td style=\"text-align:left\" title=\"65.50874599655087\">65.50874599655087</td><td style=\"text-align:left\" title=\"1.0154193305754042\">1.0154193305754042</td></tr><tr><td style=\"text-align:left\" title=\"\"></td><td style=\"text-align:left\" title=\"\"></td><td style=\"text-align:left\" title=\"Northern Territory\">Northern Territory</td><td style=\"text-align:left\" title=\"Australia\">Australia</td><td style=\"text-align:left\" title=\"2021-04-08 04:21:13\">2021-04-08 04:21:13</td><td style=\"text-align:left\" title=\"-12.4634\">-12.4634</td><td style=\"text-align:left\" title=\"130.8456\">130.8456</td><td style=\"text-align:left\" title=\"112\">112</td><td style=\"text-align:left\" title=\"0\">0</td><td style=\"text-align:left\" title=\"106\">106</td><td style=\"text-align:left\" title=\"6\">6</td><td style=\"text-align:left\" title=\"Northern Territory, Australia\">Northern Territory, Australia</td><td style=\"text-align:left\" title=\"45.602605863192174\">45.602605863192174</td><td style=\"text-align:left\" title=\"0.0\">0.0</td></tr><tr><td style=\"text-align:left\" title=\"\"></td><td style=\"text-align:left\" title=\"\"></td><td style=\"text-align:left\" title=\"Queensland\">Queensland</td><td style=\"text-align:left\" title=\"Australia\">Australia</td><td style=\"text-align:left\" title=\"2021-04-08 04:21:13\">2021-04-08 04:21:13</td><td style=\"text-align:left\" title=\"-27.4698\">-27.4698</td><td style=\"text-align:left\" title=\"153.0251\">153.0251</td><td style=\"text-align:left\" title=\"1500\">1500</td><td style=\"text-align:left\" title=\"6\">6</td><td style=\"text-align:left\" title=\"1366\">1366</td><td style=\"text-align:left\" title=\"128\">128</td><td style=\"text-align:left\" title=\"Queensland, Australia\">Queensland, Australia</td><td style=\"text-align:left\" title=\"29.322646857589678\">29.322646857589678</td><td style=\"text-align:left\" title=\"0.4\">0.4</td></tr><tr><td style=\"text-align:left\" title=\"\"></td><td style=\"text-align:left\" title=\"\"></td><td style=\"text-align:left\" title=\"South Australia\">South Australia</td><td style=\"text-align:left\" title=\"Australia\">Australia</td><td style=\"text-align:left\" title=\"2021-04-08 04:21:13\">2021-04-08 04:21:13</td><td style=\"text-align:left\" title=\"-34.9285\">-34.9285</td><td style=\"text-align:left\" title=\"138.6007\">138.6007</td><td style=\"text-align:left\" title=\"663\">663</td><td style=\"text-align:left\" title=\"4\">4</td><td style=\"text-align:left\" title=\"651\">651</td><td style=\"text-align:left\" title=\"8\">8</td><td style=\"text-align:left\" title=\"South Australia, Australia\">South Australia, Australia</td><td style=\"text-align:left\" title=\"37.74551665243381\">37.74551665243381</td><td style=\"text-align:left\" title=\"0.6033182503770739\">0.6033182503770739</td></tr><tr><td style=\"text-align:left\" title=\"\"></td><td style=\"text-align:left\" title=\"\"></td><td style=\"text-align:left\" title=\"Tasmania\">Tasmania</td><td style=\"text-align:left\" title=\"Australia\">Australia</td><td style=\"text-align:left\" title=\"2021-04-08 04:21:13\">2021-04-08 04:21:13</td><td style=\"text-align:left\" title=\"-42.8821\">-42.8821</td><td style=\"text-align:left\" title=\"147.3272\">147.3272</td><td style=\"text-align:left\" title=\"234\">234</td><td style=\"text-align:left\" title=\"13\">13</td><td style=\"text-align:left\" title=\"221\">221</td><td style=\"text-align:left\" title=\"0\">0</td><td style=\"text-align:left\" title=\"Tasmania, Australia\">Tasmania, Australia</td><td style=\"text-align:left\" title=\"43.69747899159664\">43.69747899159664</td><td style=\"text-align:left\" title=\"5.555555555555555\">5.555555555555555</td></tr><tr><td style=\"text-align:left\" title=\"\"></td><td style=\"text-align:left\" title=\"\"></td><td style=\"text-align:left\" title=\"Victoria\">Victoria</td><td style=\"text-align:left\" title=\"Australia\">Australia</td><td style=\"text-align:left\" title=\"2021-04-08 04:21:13\">2021-04-08 04:21:13</td><td style=\"text-align:left\" title=\"-37.8136\">-37.8136</td><td style=\"text-align:left\" title=\"144.9631\">144.9631</td><td style=\"text-align:left\" title=\"20484\">20484</td><td style=\"text-align:left\" title=\"820\">820</td><td style=\"text-align:left\" title=\"19664\">19664</td><td style=\"text-align:left\" title=\"0\">0</td><td style=\"text-align:left\" title=\"Victoria, Australia\">Victoria, Australia</td><td style=\"text-align:left\" title=\"308.96393610763363\">308.96393610763363</td><td style=\"text-align:left\" title=\"4.003124389767623\">4.003124389767623</td></tr><tr><td style=\"text-align:left\" title=\"\"></td><td style=\"text-align:left\" title=\"\"></td><td style=\"text-align:left\" title=\"Western Australia\">Western Australia</td><td style=\"text-align:left\" title=\"Australia\">Australia</td><td style=\"text-align:left\" title=\"2021-04-08 04:21:13\">2021-04-08 04:21:13</td><td style=\"text-align:left\" title=\"-31.9505\">-31.9505</td><td style=\"text-align:left\" title=\"115.8605\">115.8605</td><td style=\"text-align:left\" title=\"951\">951</td><td style=\"text-align:left\" title=\"9\">9</td><td style=\"text-align:left\" title=\"928\">928</td><td style=\"text-align:left\" title=\"14\">14</td><td style=\"text-align:left\" title=\"Western Australia, Australia\">Western Australia, Australia</td><td style=\"text-align:left\" title=\"36.151448338782025\">36.151448338782025</td><td style=\"text-align:left\" title=\"0.9463722397476341\">0.9463722397476341</td></tr></table></body></html>"
      ]
     },
     "execution_count": 166,
     "metadata": {},
     "output_type": "execute_result"
    }
   ],
   "source": [
    "val (australien, rest) = daten.rows.partition { it[\"Country_Region\"] == \"Australia\" }\n",
    "\n",
    "val australienFrame = dataFrameOf(australien)\n",
    "val restFrame = dataFrameOf(rest)\n",
    "australienFrame.head(20)"
   ]
  },
  {
   "cell_type": "code",
   "execution_count": 167,
   "id": "aa478e36-2d7d-4df6-9d8f-4db7732d0393",
   "metadata": {},
   "outputs": [
    {
     "data": {
      "text/html": [
       "<html><body><table><tr><th style=\"text-align:left\">FIPS</th><th style=\"text-align:left\">Admin2</th><th style=\"text-align:left\">Province_State</th><th style=\"text-align:left\">Country_Region</th><th style=\"text-align:left\">Last_Update</th><th style=\"text-align:left\">Lat</th><th style=\"text-align:left\">Long_</th><th style=\"text-align:left\">Confirmed</th><th style=\"text-align:left\">Deaths</th><th style=\"text-align:left\">Recovered</th><th style=\"text-align:left\">Active</th><th style=\"text-align:left\">Combined_Key</th><th style=\"text-align:left\">Incident_Rate</th><th style=\"text-align:left\">Case_Fatality_Ratio</th></tr><tr><td style=\"text-align:left\" title=\"\"></td><td style=\"text-align:left\" title=\"\"></td><td style=\"text-align:left\" title=\"\"></td><td style=\"text-align:left\" title=\"Afghanistan\">Afghanistan</td><td style=\"text-align:left\" title=\"2021-04-08 04:21:13\">2021-04-08 04:21:13</td><td style=\"text-align:left\" title=\"33.93911\">33.93911</td><td style=\"text-align:left\" title=\"67.709953\">67.709953</td><td style=\"text-align:left\" title=\"56873\">56873</td><td style=\"text-align:left\" title=\"2512\">2512</td><td style=\"text-align:left\" title=\"51940\">51940</td><td style=\"text-align:left\" title=\"2421\">2421</td><td style=\"text-align:left\" title=\"Afghanistan\">Afghanistan</td><td style=\"text-align:left\" title=\"146.0966446014229\">146.0966446014229</td><td style=\"text-align:left\" title=\"4.416858614808433\">4.416858614808433</td></tr><tr><td style=\"text-align:left\" title=\"\"></td><td style=\"text-align:left\" title=\"\"></td><td style=\"text-align:left\" title=\"\"></td><td style=\"text-align:left\" title=\"Albania\">Albania</td><td style=\"text-align:left\" title=\"2021-04-08 04:21:13\">2021-04-08 04:21:13</td><td style=\"text-align:left\" title=\"41.1533\">41.1533</td><td style=\"text-align:left\" title=\"20.1683\">20.1683</td><td style=\"text-align:left\" title=\"127192\">127192</td><td style=\"text-align:left\" title=\"2291\">2291</td><td style=\"text-align:left\" title=\"95600\">95600</td><td style=\"text-align:left\" title=\"29301\">29301</td><td style=\"text-align:left\" title=\"Albania\">Albania</td><td style=\"text-align:left\" title=\"4419.765098339009\">4419.765098339009</td><td style=\"text-align:left\" title=\"1.801213912824706\">1.801213912824706</td></tr><tr><td style=\"text-align:left\" title=\"\"></td><td style=\"text-align:left\" title=\"\"></td><td style=\"text-align:left\" title=\"\"></td><td style=\"text-align:left\" title=\"Algeria\">Algeria</td><td style=\"text-align:left\" title=\"2021-04-08 04:21:13\">2021-04-08 04:21:13</td><td style=\"text-align:left\" title=\"28.0339\">28.0339</td><td style=\"text-align:left\" title=\"1.6596\">1.6596</td><td style=\"text-align:left\" title=\"118004\">118004</td><td style=\"text-align:left\" title=\"3116\">3116</td><td style=\"text-align:left\" title=\"82192\">82192</td><td style=\"text-align:left\" title=\"32696\">32696</td><td style=\"text-align:left\" title=\"Algeria\">Algeria</td><td style=\"text-align:left\" title=\"269.1019230717044\">269.1019230717044</td><td style=\"text-align:left\" title=\"2.6405884546286567\">2.6405884546286567</td></tr><tr><td style=\"text-align:left\" title=\"\"></td><td style=\"text-align:left\" title=\"\"></td><td style=\"text-align:left\" title=\"\"></td><td style=\"text-align:left\" title=\"Andorra\">Andorra</td><td style=\"text-align:left\" title=\"2021-04-08 04:21:13\">2021-04-08 04:21:13</td><td style=\"text-align:left\" title=\"42.5063\">42.5063</td><td style=\"text-align:left\" title=\"1.5218\">1.5218</td><td style=\"text-align:left\" title=\"12363\">12363</td><td style=\"text-align:left\" title=\"119\">119</td><td style=\"text-align:left\" title=\"11616\">11616</td><td style=\"text-align:left\" title=\"628\">628</td><td style=\"text-align:left\" title=\"Andorra\">Andorra</td><td style=\"text-align:left\" title=\"16000.776548243059\">16000.776548243059</td><td style=\"text-align:left\" title=\"0.9625495429911833\">0.9625495429911833</td></tr><tr><td style=\"text-align:left\" title=\"\"></td><td style=\"text-align:left\" title=\"\"></td><td style=\"text-align:left\" title=\"\"></td><td style=\"text-align:left\" title=\"Angola\">Angola</td><td style=\"text-align:left\" title=\"2021-04-08 04:21:13\">2021-04-08 04:21:13</td><td style=\"text-align:left\" title=\"-11.2027\">-11.2027</td><td style=\"text-align:left\" title=\"17.8739\">17.8739</td><td style=\"text-align:left\" title=\"23010\">23010</td><td style=\"text-align:left\" title=\"547\">547</td><td style=\"text-align:left\" title=\"21545\">21545</td><td style=\"text-align:left\" title=\"918\">918</td><td style=\"text-align:left\" title=\"Angola\">Angola</td><td style=\"text-align:left\" title=\"70.01099120837206\">70.01099120837206</td><td style=\"text-align:left\" title=\"2.3772272924815296\">2.3772272924815296</td></tr><tr><td style=\"text-align:left\" title=\"\"></td><td style=\"text-align:left\" title=\"\"></td><td style=\"text-align:left\" title=\"\"></td><td style=\"text-align:left\" title=\"Antigua and Barbuda\">Antigua and Barbuda</td><td style=\"text-align:left\" title=\"2021-04-08 04:21:13\">2021-04-08 04:21:13</td><td style=\"text-align:left\" title=\"17.0608\">17.0608</td><td style=\"text-align:left\" title=\"-61.7964\">-61.7964</td><td style=\"text-align:left\" title=\"1177\">1177</td><td style=\"text-align:left\" title=\"29\">29</td><td style=\"text-align:left\" title=\"911\">911</td><td style=\"text-align:left\" title=\"237\">237</td><td style=\"text-align:left\" title=\"Antigua and Barbuda\">Antigua and Barbuda</td><td style=\"text-align:left\" title=\"1201.9034392614985\">1201.9034392614985</td><td style=\"text-align:left\" title=\"2.463891248937978\">2.463891248937978</td></tr><tr><td style=\"text-align:left\" title=\"\"></td><td style=\"text-align:left\" title=\"\"></td><td style=\"text-align:left\" title=\"\"></td><td style=\"text-align:left\" title=\"Argentina\">Argentina</td><td style=\"text-align:left\" title=\"2021-04-08 04:21:13\">2021-04-08 04:21:13</td><td style=\"text-align:left\" title=\"-38.4161\">-38.4161</td><td style=\"text-align:left\" title=\"-63.6167\">-63.6167</td><td style=\"text-align:left\" title=\"2450068\">2450068</td><td style=\"text-align:left\" title=\"56832\">56832</td><td style=\"text-align:left\" title=\"2174625\">2174625</td><td style=\"text-align:left\" title=\"218611\">218611</td><td style=\"text-align:left\" title=\"Argentina\">Argentina</td><td style=\"text-align:left\" title=\"5421.010905510044\">5421.010905510044</td><td style=\"text-align:left\" title=\"2.319609088400812\">2.319609088400812</td></tr><tr><td style=\"text-align:left\" title=\"\"></td><td style=\"text-align:left\" title=\"\"></td><td style=\"text-align:left\" title=\"\"></td><td style=\"text-align:left\" title=\"Armenia\">Armenia</td><td style=\"text-align:left\" title=\"2021-04-08 04:21:13\">2021-04-08 04:21:13</td><td style=\"text-align:left\" title=\"40.0691\">40.0691</td><td style=\"text-align:left\" title=\"45.0382\">45.0382</td><td style=\"text-align:left\" title=\"198898\">198898</td><td style=\"text-align:left\" title=\"3647\">3647</td><td style=\"text-align:left\" title=\"178227\">178227</td><td style=\"text-align:left\" title=\"17024\">17024</td><td style=\"text-align:left\" title=\"Armenia\">Armenia</td><td style=\"text-align:left\" title=\"6712.193502099394\">6712.193502099394</td><td style=\"text-align:left\" title=\"1.8336031533750967\">1.8336031533750967</td></tr><tr><td style=\"text-align:left\" title=\"\"></td><td style=\"text-align:left\" title=\"\"></td><td style=\"text-align:left\" title=\"\"></td><td style=\"text-align:left\" title=\"Austria\">Austria</td><td style=\"text-align:left\" title=\"2021-04-08 04:21:13\">2021-04-08 04:21:13</td><td style=\"text-align:left\" title=\"47.5162\">47.5162</td><td style=\"text-align:left\" title=\"14.5501\">14.5501</td><td style=\"text-align:left\" title=\"566008\">566008</td><td style=\"text-align:left\" title=\"9546\">9546</td><td style=\"text-align:left\" title=\"522774\">522774</td><td style=\"text-align:left\" title=\"33688\">33688</td><td style=\"text-align:left\" title=\"Austria\">Austria</td><td style=\"text-align:left\" title=\"6284.508793746669\">6284.508793746669</td><td style=\"text-align:left\" title=\"1.6865486000197878\">1.6865486000197878</td></tr><tr><td style=\"text-align:left\" title=\"\"></td><td style=\"text-align:left\" title=\"\"></td><td style=\"text-align:left\" title=\"\"></td><td style=\"text-align:left\" title=\"Azerbaijan\">Azerbaijan</td><td style=\"text-align:left\" title=\"2021-04-08 04:21:13\">2021-04-08 04:21:13</td><td style=\"text-align:left\" title=\"40.1431\">40.1431</td><td style=\"text-align:left\" title=\"47.5769\">47.5769</td><td style=\"text-align:left\" title=\"276464\">276464</td><td style=\"text-align:left\" title=\"3780\">3780</td><td style=\"text-align:left\" title=\"244540\">244540</td><td style=\"text-align:left\" title=\"28144\">28144</td><td style=\"text-align:left\" title=\"Azerbaijan\">Azerbaijan</td><td style=\"text-align:left\" title=\"2726.691274191441\">2726.691274191441</td><td style=\"text-align:left\" title=\"1.367266624225939\">1.367266624225939</td></tr><tr><td style=\"text-align:left\" title=\"\"></td><td style=\"text-align:left\" title=\"\"></td><td style=\"text-align:left\" title=\"\"></td><td style=\"text-align:left\" title=\"Bahamas\">Bahamas</td><td style=\"text-align:left\" title=\"2021-04-08 04:21:13\">2021-04-08 04:21:13</td><td style=\"text-align:left\" title=\"25.025885\">25.025885</td><td style=\"text-align:left\" title=\"-78.035889\">-78.035889</td><td style=\"text-align:left\" title=\"9296\">9296</td><td style=\"text-align:left\" title=\"189\">189</td><td style=\"text-align:left\" title=\"8811\">8811</td><td style=\"text-align:left\" title=\"296\">296</td><td style=\"text-align:left\" title=\"Bahamas\">Bahamas</td><td style=\"text-align:left\" title=\"2363.902677190984\">2363.902677190984</td><td style=\"text-align:left\" title=\"2.033132530120482\">2.033132530120482</td></tr><tr><td style=\"text-align:left\" title=\"\"></td><td style=\"text-align:left\" title=\"\"></td><td style=\"text-align:left\" title=\"\"></td><td style=\"text-align:left\" title=\"Bahrain\">Bahrain</td><td style=\"text-align:left\" title=\"2021-04-08 04:21:13\">2021-04-08 04:21:13</td><td style=\"text-align:left\" title=\"26.0275\">26.0275</td><td style=\"text-align:left\" title=\"50.55\">50.55</td><td style=\"text-align:left\" title=\"151931\">151931</td><td style=\"text-align:left\" title=\"547\">547</td><td style=\"text-align:left\" title=\"141119\">141119</td><td style=\"text-align:left\" title=\"10265\">10265</td><td style=\"text-align:left\" title=\"Bahrain\">Bahrain</td><td style=\"text-align:left\" title=\"8928.803355463706\">8928.803355463706</td><td style=\"text-align:left\" title=\"0.3600318565664677\">0.3600318565664677</td></tr><tr><td style=\"text-align:left\" title=\"\"></td><td style=\"text-align:left\" title=\"\"></td><td style=\"text-align:left\" title=\"\"></td><td style=\"text-align:left\" title=\"Bangladesh\">Bangladesh</td><td style=\"text-align:left\" title=\"2021-04-08 04:21:13\">2021-04-08 04:21:13</td><td style=\"text-align:left\" title=\"23.685\">23.685</td><td style=\"text-align:left\" title=\"90.3563\">90.3563</td><td style=\"text-align:left\" title=\"659278\">659278</td><td style=\"text-align:left\" title=\"9447\">9447</td><td style=\"text-align:left\" title=\"561639\">561639</td><td style=\"text-align:left\" title=\"88192\">88192</td><td style=\"text-align:left\" title=\"Bangladesh\">Bangladesh</td><td style=\"text-align:left\" title=\"400.3160300867725\">400.3160300867725</td><td style=\"text-align:left\" title=\"1.432931176226114\">1.432931176226114</td></tr><tr><td style=\"text-align:left\" title=\"\"></td><td style=\"text-align:left\" title=\"\"></td><td style=\"text-align:left\" title=\"\"></td><td style=\"text-align:left\" title=\"Barbados\">Barbados</td><td style=\"text-align:left\" title=\"2021-04-08 04:21:13\">2021-04-08 04:21:13</td><td style=\"text-align:left\" title=\"13.1939\">13.1939</td><td style=\"text-align:left\" title=\"-59.5432\">-59.5432</td><td style=\"text-align:left\" title=\"3691\">3691</td><td style=\"text-align:left\" title=\"43\">43</td><td style=\"text-align:left\" title=\"3557\">3557</td><td style=\"text-align:left\" title=\"91\">91</td><td style=\"text-align:left\" title=\"Barbados\">Barbados</td><td style=\"text-align:left\" title=\"1284.4023927257795\">1284.4023927257795</td><td style=\"text-align:left\" title=\"1.164995936060688\">1.164995936060688</td></tr><tr><td style=\"text-align:left\" title=\"\"></td><td style=\"text-align:left\" title=\"\"></td><td style=\"text-align:left\" title=\"\"></td><td style=\"text-align:left\" title=\"Belarus\">Belarus</td><td style=\"text-align:left\" title=\"2021-04-08 04:21:13\">2021-04-08 04:21:13</td><td style=\"text-align:left\" title=\"53.7098\">53.7098</td><td style=\"text-align:left\" title=\"27.9534\">27.9534</td><td style=\"text-align:left\" title=\"330536\">330536</td><td style=\"text-align:left\" title=\"2314\">2314</td><td style=\"text-align:left\" title=\"320844\">320844</td><td style=\"text-align:left\" title=\"7378\">7378</td><td style=\"text-align:left\" title=\"Belarus\">Belarus</td><td style=\"text-align:left\" title=\"3497.986786563817\">3497.986786563817</td><td style=\"text-align:left\" title=\"0.7000750296488129\">0.7000750296488129</td></tr><tr><td style=\"text-align:left\" title=\"\"></td><td style=\"text-align:left\" title=\"\"></td><td style=\"text-align:left\" title=\"Antwerp\">Antwerp</td><td style=\"text-align:left\" title=\"Belgium\">Belgium</td><td style=\"text-align:left\" title=\"2021-04-08 04:21:13\">2021-04-08 04:21:13</td><td style=\"text-align:left\" title=\"51.2195\">51.2195</td><td style=\"text-align:left\" title=\"4.4024\">4.4024</td><td style=\"text-align:left\" title=\"115402\">115402</td><td style=\"text-align:left\" title=\"0\">0</td><td style=\"text-align:left\" title=\"0\">0</td><td style=\"text-align:left\" title=\"115402\">115402</td><td style=\"text-align:left\" title=\"Antwerp, Belgium\">Antwerp, Belgium</td><td style=\"text-align:left\" title=\"6211.133991321786\">6211.133991321786</td><td style=\"text-align:left\" title=\"0.0\">0.0</td></tr><tr><td style=\"text-align:left\" title=\"\"></td><td style=\"text-align:left\" title=\"\"></td><td style=\"text-align:left\" title=\"Brussels\">Brussels</td><td style=\"text-align:left\" title=\"Belgium\">Belgium</td><td style=\"text-align:left\" title=\"2021-04-08 04:21:13\">2021-04-08 04:21:13</td><td style=\"text-align:left\" title=\"50.8503\">50.8503</td><td style=\"text-align:left\" title=\"4.3517\">4.3517</td><td style=\"text-align:left\" title=\"112945\">112945</td><td style=\"text-align:left\" title=\"0\">0</td><td style=\"text-align:left\" title=\"0\">0</td><td style=\"text-align:left\" title=\"112945\">112945</td><td style=\"text-align:left\" title=\"Brussels, Belgium\">Brussels, Belgium</td><td style=\"text-align:left\" title=\"9345.55853251273\">9345.55853251273</td><td style=\"text-align:left\" title=\"0.0\">0.0</td></tr><tr><td style=\"text-align:left\" title=\"\"></td><td style=\"text-align:left\" title=\"\"></td><td style=\"text-align:left\" title=\"East Flanders\">East Flanders</td><td style=\"text-align:left\" title=\"Belgium\">Belgium</td><td style=\"text-align:left\" title=\"2021-04-08 04:21:13\">2021-04-08 04:21:13</td><td style=\"text-align:left\" title=\"51.0362\">51.0362</td><td style=\"text-align:left\" title=\"3.7373\">3.7373</td><td style=\"text-align:left\" title=\"103311\">103311</td><td style=\"text-align:left\" title=\"0\">0</td><td style=\"text-align:left\" title=\"0\">0</td><td style=\"text-align:left\" title=\"103311\">103311</td><td style=\"text-align:left\" title=\"East Flanders, Belgium\">East Flanders, Belgium</td><td style=\"text-align:left\" title=\"6818.91986081116\">6818.91986081116</td><td style=\"text-align:left\" title=\"0.0\">0.0</td></tr><tr><td style=\"text-align:left\" title=\"\"></td><td style=\"text-align:left\" title=\"\"></td><td style=\"text-align:left\" title=\"Flemish Brabant\">Flemish Brabant</td><td style=\"text-align:left\" title=\"Belgium\">Belgium</td><td style=\"text-align:left\" title=\"2021-04-08 04:21:13\">2021-04-08 04:21:13</td><td style=\"text-align:left\" title=\"50.9167\">50.9167</td><td style=\"text-align:left\" title=\"4.5833\">4.5833</td><td style=\"text-align:left\" title=\"69895\">69895</td><td style=\"text-align:left\" title=\"0\">0</td><td style=\"text-align:left\" title=\"0\">0</td><td style=\"text-align:left\" title=\"69895\">69895</td><td style=\"text-align:left\" title=\"Flemish Brabant, Belgium\">Flemish Brabant, Belgium</td><td style=\"text-align:left\" title=\"6098.108927519794\">6098.108927519794</td><td style=\"text-align:left\" title=\"0.0\">0.0</td></tr><tr><td style=\"text-align:left\" title=\"\"></td><td style=\"text-align:left\" title=\"\"></td><td style=\"text-align:left\" title=\"Hainaut\">Hainaut</td><td style=\"text-align:left\" title=\"Belgium\">Belgium</td><td style=\"text-align:left\" title=\"2021-04-08 04:21:13\">2021-04-08 04:21:13</td><td style=\"text-align:left\" title=\"50.5257\">50.5257</td><td style=\"text-align:left\" title=\"4.0621\">4.0621</td><td style=\"text-align:left\" title=\"134717\">134717</td><td style=\"text-align:left\" title=\"0\">0</td><td style=\"text-align:left\" title=\"0\">0</td><td style=\"text-align:left\" title=\"134717\">134717</td><td style=\"text-align:left\" title=\"Hainaut, Belgium\">Hainaut, Belgium</td><td style=\"text-align:left\" title=\"10021.78924761259\">10021.78924761259</td><td style=\"text-align:left\" title=\"0.0\">0.0</td></tr></table></body></html>"
      ]
     },
     "execution_count": 167,
     "metadata": {},
     "output_type": "execute_result"
    }
   ],
   "source": [
    "restFrame.head(20)"
   ]
  },
  {
   "cell_type": "markdown",
   "id": "united-antenna",
   "metadata": {},
   "source": [
    "#### `groupBy`\n",
    "Während `partition()` die Datenstruktur nur in zwei neue Datenstrukturen aufteilt, kann dies mit `groupBy` noch erweitert werden. Hier ist eine Unterteilung in beliebig viele Gruppen möglich. Die Bedingung, anhand derer die Gruppen eingeteilt werden, wird in einem Lambda-Ausdruck festgelegt. Das Ergebnis ist eine Map, die als Schlüssel das Identifikationsmerkmal der Gruppe und als Wert zugehörige Elemente als Liste besitzt. Außerdem ist es auch möglich, die Schlüssel dieser Map selbst festzulegen, indem der Schlüssel als Ergebnis des Lambda-Ausdrucks angegeben wird.\n",
    "\n",
    "<img src=\"images/groupBy.png\" style=\"margin: 20px auto 20px auto\" />"
   ]
  },
  {
   "cell_type": "code",
   "execution_count": 179,
   "id": "optimum-dakota",
   "metadata": {
    "tags": []
   },
   "outputs": [
    {
     "name": "stdout",
     "output_type": "stream",
     "text": [
      "Ausgangsliste: [Aber, Also, Aachen, Berlin, Bitte, Klavier, Hafen, Hose]\n",
      "Nach Anfangsbuchstaben automatisch gruppiert: {A=[Aber, Also, Aachen], B=[Berlin, Bitte], K=[Klavier], H=[Hafen, Hose]}\n",
      "Nach Anfangsbuchstaben mit eigenen Schlüsseln gruppiert: {Wörter mit A am Anfang=[Aber, Also, Aachen], Rest=[Berlin, Bitte, Klavier, Hafen, Hose]}\n",
      "\n"
     ]
    },
    {
     "data": {
      "text/plain": [
       "Grouped by: *[Country_Region]\n",
       "A DataFrame: 5 x 14\n",
       "    FIPS   Admin2   Province_State   Country_Region           Last_Update        Lat       Long_\n",
       "1                                       Afghanistan   2021-04-08 04:21:13   33.93911   67.709953\n",
       "2                                           Albania   2021-04-08 04:21:13    41.1533     20.1683\n",
       "3                                           Algeria   2021-04-08 04:21:13    28.0339      1.6596\n",
       "4                                           Andorra   2021-04-08 04:21:13    42.5063      1.5218\n",
       "5                                            Angola   2021-04-08 04:21:13   -11.2027     17.8739\n",
       "and 7 more variables: Deaths, Recovered, Active, Combined_Key, Incident_Rate, Case_Fatality_Ratio"
      ]
     },
     "execution_count": 179,
     "metadata": {},
     "output_type": "execute_result"
    }
   ],
   "source": [
    "//Beispiel 1: groupBy() mit automatischer Generierung der Schlüssel\n",
    "val liste = listOf(\"Aber\", \"Also\", \"Aachen\", \"Berlin\", \"Bitte\", \"Klavier\", \"Hafen\", \"Hose\")\n",
    "val gruppen = liste.groupBy { it[0] }\n",
    "println(\"Ausgangsliste: $liste\")\n",
    "println(\"Nach Anfangsbuchstaben automatisch gruppiert: $gruppen\")\n",
    "\n",
    "//Beispiel 2: groupBy() mit eigenen Schlüsseln\n",
    "val gruppen2 = liste.groupBy { if (it[0] == 'A') \"Wörter mit A am Anfang\" else \"Rest\" }\n",
    "println(\"Nach Anfangsbuchstaben mit eigenen Schlüsseln gruppiert: $gruppen2\\n\")\n",
    "\n",
    "//Beispiel 3: gruppieren von Daten eines DataFrames\n",
    "val laender = daten.groupBy(\"Country_Region\") //Gruppiert die Daten nach der Spalte Country_Region\n",
    "laender"
   ]
  },
  {
   "cell_type": "code",
   "execution_count": 181,
   "id": "9a37b0c3-9c63-451d-a1e1-5cdec7c3fff6",
   "metadata": {},
   "outputs": [
    {
     "data": {
      "text/html": [
       "<html><body><table><tr><th style=\"text-align:left\">FIPS</th><th style=\"text-align:left\">Admin2</th><th style=\"text-align:left\">Province_State</th><th style=\"text-align:left\">Country_Region</th><th style=\"text-align:left\">Last_Update</th><th style=\"text-align:left\">Lat</th><th style=\"text-align:left\">Long_</th><th style=\"text-align:left\">Confirmed</th><th style=\"text-align:left\">Deaths</th><th style=\"text-align:left\">Recovered</th><th style=\"text-align:left\">Active</th><th style=\"text-align:left\">Combined_Key</th><th style=\"text-align:left\">Incident_Rate</th><th style=\"text-align:left\">Case_Fatality_Ratio</th></tr><tr><td style=\"text-align:left\" title=\"\"></td><td style=\"text-align:left\" title=\"\"></td><td style=\"text-align:left\" title=\"Baden-Wurttemberg\">Baden-Wurttemberg</td><td style=\"text-align:left\" title=\"Germany\">Germany</td><td style=\"text-align:left\" title=\"2021-04-08 04:21:13\">2021-04-08 04:21:13</td><td style=\"text-align:left\" title=\"48.6616\">48.6616</td><td style=\"text-align:left\" title=\"9.3501\">9.3501</td><td style=\"text-align:left\" title=\"377133\">377133</td><td style=\"text-align:left\" title=\"8831\">8831</td><td style=\"text-align:left\" title=\"341300\">341300</td><td style=\"text-align:left\" title=\"27002\">27002</td><td style=\"text-align:left\" title=\"Baden-Wurttemberg, Germany\">Baden-Wurttemberg, Germany</td><td style=\"text-align:left\" title=\"3406.9458937427617\">3406.9458937427617</td><td style=\"text-align:left\" title=\"2.341614231584083\">2.341614231584083</td></tr><tr><td style=\"text-align:left\" title=\"\"></td><td style=\"text-align:left\" title=\"\"></td><td style=\"text-align:left\" title=\"Bayern\">Bayern</td><td style=\"text-align:left\" title=\"Germany\">Germany</td><td style=\"text-align:left\" title=\"2021-04-08 04:21:13\">2021-04-08 04:21:13</td><td style=\"text-align:left\" title=\"48.7904\">48.7904</td><td style=\"text-align:left\" title=\"11.4979\">11.4979</td><td style=\"text-align:left\" title=\"517336\">517336</td><td style=\"text-align:left\" title=\"13419\">13419</td><td style=\"text-align:left\" title=\"467100\">467100</td><td style=\"text-align:left\" title=\"36817\">36817</td><td style=\"text-align:left\" title=\"Bayern, Germany\">Bayern, Germany</td><td style=\"text-align:left\" title=\"3956.1599578365253\">3956.1599578365253</td><td style=\"text-align:left\" title=\"2.5938654955386826\">2.5938654955386826</td></tr><tr><td style=\"text-align:left\" title=\"\"></td><td style=\"text-align:left\" title=\"\"></td><td style=\"text-align:left\" title=\"Berlin\">Berlin</td><td style=\"text-align:left\" title=\"Germany\">Germany</td><td style=\"text-align:left\" title=\"2021-04-08 04:21:13\">2021-04-08 04:21:13</td><td style=\"text-align:left\" title=\"52.52\">52.52</td><td style=\"text-align:left\" title=\"13.405\">13.405</td><td style=\"text-align:left\" title=\"150385\">150385</td><td style=\"text-align:left\" title=\"3098\">3098</td><td style=\"text-align:left\" title=\"138800\">138800</td><td style=\"text-align:left\" title=\"8487\">8487</td><td style=\"text-align:left\" title=\"Berlin, Germany\">Berlin, Germany</td><td style=\"text-align:left\" title=\"4125.985712349506\">4125.985712349506</td><td style=\"text-align:left\" title=\"2.0600458822355954\">2.0600458822355954</td></tr><tr><td style=\"text-align:left\" title=\"\"></td><td style=\"text-align:left\" title=\"\"></td><td style=\"text-align:left\" title=\"Brandenburg\">Brandenburg</td><td style=\"text-align:left\" title=\"Germany\">Germany</td><td style=\"text-align:left\" title=\"2021-04-08 04:21:13\">2021-04-08 04:21:13</td><td style=\"text-align:left\" title=\"52.4125\">52.4125</td><td style=\"text-align:left\" title=\"12.5316\">12.5316</td><td style=\"text-align:left\" title=\"90999\">90999</td><td style=\"text-align:left\" title=\"3358\">3358</td><td style=\"text-align:left\" title=\"81090\">81090</td><td style=\"text-align:left\" title=\"6551\">6551</td><td style=\"text-align:left\" title=\"Brandenburg, Germany\">Brandenburg, Germany</td><td style=\"text-align:left\" title=\"3622.6913548497027\">3622.6913548497027</td><td style=\"text-align:left\" title=\"3.69015044121364\">3.69015044121364</td></tr><tr><td style=\"text-align:left\" title=\"\"></td><td style=\"text-align:left\" title=\"\"></td><td style=\"text-align:left\" title=\"Bremen\">Bremen</td><td style=\"text-align:left\" title=\"Germany\">Germany</td><td style=\"text-align:left\" title=\"2021-04-08 04:21:13\">2021-04-08 04:21:13</td><td style=\"text-align:left\" title=\"53.0793\">53.0793</td><td style=\"text-align:left\" title=\"8.8017\">8.8017</td><td style=\"text-align:left\" title=\"21697\">21697</td><td style=\"text-align:left\" title=\"415\">415</td><td style=\"text-align:left\" title=\"19790\">19790</td><td style=\"text-align:left\" title=\"1492\">1492</td><td style=\"text-align:left\" title=\"Bremen, Germany\">Bremen, Germany</td><td style=\"text-align:left\" title=\"3176.785468516192\">3176.785468516192</td><td style=\"text-align:left\" title=\"1.9127068258284556\">1.9127068258284556</td></tr><tr><td style=\"text-align:left\" title=\"\"></td><td style=\"text-align:left\" title=\"\"></td><td style=\"text-align:left\" title=\"Hamburg\">Hamburg</td><td style=\"text-align:left\" title=\"Germany\">Germany</td><td style=\"text-align:left\" title=\"2021-04-08 04:21:13\">2021-04-08 04:21:13</td><td style=\"text-align:left\" title=\"53.5511\">53.5511</td><td style=\"text-align:left\" title=\"9.9937\">9.9937</td><td style=\"text-align:left\" title=\"63826\">63826</td><td style=\"text-align:left\" title=\"1404\">1404</td><td style=\"text-align:left\" title=\"55180\">55180</td><td style=\"text-align:left\" title=\"7242\">7242</td><td style=\"text-align:left\" title=\"Hamburg, Germany\">Hamburg, Germany</td><td style=\"text-align:left\" title=\"3466.583097026416\">3466.583097026416</td><td style=\"text-align:left\" title=\"2.199730517344029\">2.199730517344029</td></tr><tr><td style=\"text-align:left\" title=\"\"></td><td style=\"text-align:left\" title=\"\"></td><td style=\"text-align:left\" title=\"Hessen\">Hessen</td><td style=\"text-align:left\" title=\"Germany\">Germany</td><td style=\"text-align:left\" title=\"2021-04-08 04:21:13\">2021-04-08 04:21:13</td><td style=\"text-align:left\" title=\"50.6521\">50.6521</td><td style=\"text-align:left\" title=\"9.1624\">9.1624</td><td style=\"text-align:left\" title=\"227581\">227581</td><td style=\"text-align:left\" title=\"6441\">6441</td><td style=\"text-align:left\" title=\"202400\">202400</td><td style=\"text-align:left\" title=\"18740\">18740</td><td style=\"text-align:left\" title=\"Hessen, Germany\">Hessen, Germany</td><td style=\"text-align:left\" title=\"3632.108798720165\">3632.108798720165</td><td style=\"text-align:left\" title=\"2.8302011152073328\">2.8302011152073328</td></tr><tr><td style=\"text-align:left\" title=\"\"></td><td style=\"text-align:left\" title=\"\"></td><td style=\"text-align:left\" title=\"Mecklenburg-Vorpommern\">Mecklenburg-Vorpommern</td><td style=\"text-align:left\" title=\"Germany\">Germany</td><td style=\"text-align:left\" title=\"2021-04-08 04:21:13\">2021-04-08 04:21:13</td><td style=\"text-align:left\" title=\"53.6127\">53.6127</td><td style=\"text-align:left\" title=\"12.4296\">12.4296</td><td style=\"text-align:left\" title=\"32341\">32341</td><td style=\"text-align:left\" title=\"887\">887</td><td style=\"text-align:left\" title=\"28730\">28730</td><td style=\"text-align:left\" title=\"2724\">2724</td><td style=\"text-align:left\" title=\"Mecklenburg-Vorpommern, Germany\">Mecklenburg-Vorpommern, Germany</td><td style=\"text-align:left\" title=\"2009.1633404258623\">2009.1633404258623</td><td style=\"text-align:left\" title=\"2.742648650320027\">2.742648650320027</td></tr><tr><td style=\"text-align:left\" title=\"\"></td><td style=\"text-align:left\" title=\"\"></td><td style=\"text-align:left\" title=\"Niedersachsen\">Niedersachsen</td><td style=\"text-align:left\" title=\"Germany\">Germany</td><td style=\"text-align:left\" title=\"2021-04-08 04:21:13\">2021-04-08 04:21:13</td><td style=\"text-align:left\" title=\"52.6367\">52.6367</td><td style=\"text-align:left\" title=\"9.8451\">9.8451</td><td style=\"text-align:left\" title=\"205087\">205087</td><td style=\"text-align:left\" title=\"4962\">4962</td><td style=\"text-align:left\" title=\"186600\">186600</td><td style=\"text-align:left\" title=\"13525\">13525</td><td style=\"text-align:left\" title=\"Niedersachsen, Germany\">Niedersachsen, Germany</td><td style=\"text-align:left\" title=\"2569.22437828596\">2569.22437828596</td><td style=\"text-align:left\" title=\"2.419461009230229\">2.419461009230229</td></tr><tr><td style=\"text-align:left\" title=\"\"></td><td style=\"text-align:left\" title=\"\"></td><td style=\"text-align:left\" title=\"Nordrhein-Westfalen\">Nordrhein-Westfalen</td><td style=\"text-align:left\" title=\"Germany\">Germany</td><td style=\"text-align:left\" title=\"2021-04-08 04:21:13\">2021-04-08 04:21:13</td><td style=\"text-align:left\" title=\"51.4332\">51.4332</td><td style=\"text-align:left\" title=\"7.6616\">7.6616</td><td style=\"text-align:left\" title=\"633940\">633940</td><td style=\"text-align:left\" title=\"14462\">14462</td><td style=\"text-align:left\" title=\"572000\">572000</td><td style=\"text-align:left\" title=\"47478\">47478</td><td style=\"text-align:left\" title=\"Nordrhein-Westfalen, Germany\">Nordrhein-Westfalen, Germany</td><td style=\"text-align:left\" title=\"3535.1159178863177\">3535.1159178863177</td><td style=\"text-align:left\" title=\"2.281288450011042\">2.281288450011042</td></tr><tr><td style=\"text-align:left\" title=\"\"></td><td style=\"text-align:left\" title=\"\"></td><td style=\"text-align:left\" title=\"Rheinland-Pfalz\">Rheinland-Pfalz</td><td style=\"text-align:left\" title=\"Germany\">Germany</td><td style=\"text-align:left\" title=\"2021-04-08 04:21:13\">2021-04-08 04:21:13</td><td style=\"text-align:left\" title=\"50.1183\">50.1183</td><td style=\"text-align:left\" title=\"7.309\">7.309</td><td style=\"text-align:left\" title=\"120870\">120870</td><td style=\"text-align:left\" title=\"3362\">3362</td><td style=\"text-align:left\" title=\"108700\">108700</td><td style=\"text-align:left\" title=\"8808\">8808</td><td style=\"text-align:left\" title=\"Rheinland-Pfalz, Germany\">Rheinland-Pfalz, Germany</td><td style=\"text-align:left\" title=\"2958.98692826458\">2958.98692826458</td><td style=\"text-align:left\" title=\"2.781500785968396\">2.781500785968396</td></tr><tr><td style=\"text-align:left\" title=\"\"></td><td style=\"text-align:left\" title=\"\"></td><td style=\"text-align:left\" title=\"Saarland\">Saarland</td><td style=\"text-align:left\" title=\"Germany\">Germany</td><td style=\"text-align:left\" title=\"2021-04-08 04:21:13\">2021-04-08 04:21:13</td><td style=\"text-align:left\" title=\"49.3964\">49.3964</td><td style=\"text-align:left\" title=\"7.023\">7.023</td><td style=\"text-align:left\" title=\"32807\">32807</td><td style=\"text-align:left\" title=\"946\">946</td><td style=\"text-align:left\" title=\"30330\">30330</td><td style=\"text-align:left\" title=\"1531\">1531</td><td style=\"text-align:left\" title=\"Saarland, Germany\">Saarland, Germany</td><td style=\"text-align:left\" title=\"3312.135477819989\">3312.135477819989</td><td style=\"text-align:left\" title=\"2.8835309537598683\">2.8835309537598683</td></tr><tr><td style=\"text-align:left\" title=\"\"></td><td style=\"text-align:left\" title=\"\"></td><td style=\"text-align:left\" title=\"Sachsen\">Sachsen</td><td style=\"text-align:left\" title=\"Germany\">Germany</td><td style=\"text-align:left\" title=\"2021-04-08 04:21:13\">2021-04-08 04:21:13</td><td style=\"text-align:left\" title=\"51.1045\">51.1045</td><td style=\"text-align:left\" title=\"13.2017\">13.2017</td><td style=\"text-align:left\" title=\"229450\">229450</td><td style=\"text-align:left\" title=\"8475\">8475</td><td style=\"text-align:left\" title=\"205400\">205400</td><td style=\"text-align:left\" title=\"15575\">15575</td><td style=\"text-align:left\" title=\"Sachsen, Germany\">Sachsen, Germany</td><td style=\"text-align:left\" title=\"5626.619538261626\">5626.619538261626</td><td style=\"text-align:left\" title=\"3.6936151667029855\">3.6936151667029855</td></tr><tr><td style=\"text-align:left\" title=\"\"></td><td style=\"text-align:left\" title=\"\"></td><td style=\"text-align:left\" title=\"Sachsen-Anhalt\">Sachsen-Anhalt</td><td style=\"text-align:left\" title=\"Germany\">Germany</td><td style=\"text-align:left\" title=\"2021-04-08 04:21:13\">2021-04-08 04:21:13</td><td style=\"text-align:left\" title=\"51.9503\">51.9503</td><td style=\"text-align:left\" title=\"11.6923\">11.6923</td><td style=\"text-align:left\" title=\"76541\">76541</td><td style=\"text-align:left\" title=\"2803\">2803</td><td style=\"text-align:left\" title=\"67780\">67780</td><td style=\"text-align:left\" title=\"5958\">5958</td><td style=\"text-align:left\" title=\"Sachsen-Anhalt, Germany\">Sachsen-Anhalt, Germany</td><td style=\"text-align:left\" title=\"3466.0269046030894\">3466.0269046030894</td><td style=\"text-align:left\" title=\"3.6620895990384237\">3.6620895990384237</td></tr><tr><td style=\"text-align:left\" title=\"\"></td><td style=\"text-align:left\" title=\"\"></td><td style=\"text-align:left\" title=\"Schleswig-Holstein\">Schleswig-Holstein</td><td style=\"text-align:left\" title=\"Germany\">Germany</td><td style=\"text-align:left\" title=\"2021-04-08 04:21:13\">2021-04-08 04:21:13</td><td style=\"text-align:left\" title=\"54.2194\">54.2194</td><td style=\"text-align:left\" title=\"9.6961\">9.6961</td><td style=\"text-align:left\" title=\"51864\">51864</td><td style=\"text-align:left\" title=\"1448\">1448</td><td style=\"text-align:left\" title=\"46260\">46260</td><td style=\"text-align:left\" title=\"4156\">4156</td><td style=\"text-align:left\" title=\"Schleswig-Holstein, Germany\">Schleswig-Holstein, Germany</td><td style=\"text-align:left\" title=\"1790.443785920036\">1790.443785920036</td><td style=\"text-align:left\" title=\"2.7919173222273637\">2.7919173222273637</td></tr><tr><td style=\"text-align:left\" title=\"\"></td><td style=\"text-align:left\" title=\"\"></td><td style=\"text-align:left\" title=\"Thuringen\">Thuringen</td><td style=\"text-align:left\" title=\"Germany\">Germany</td><td style=\"text-align:left\" title=\"2021-04-08 04:21:13\">2021-04-08 04:21:13</td><td style=\"text-align:left\" title=\"51.011\">51.011</td><td style=\"text-align:left\" title=\"10.8453\">10.8453</td><td style=\"text-align:left\" title=\"99350\">99350</td><td style=\"text-align:left\" title=\"3444\">3444</td><td style=\"text-align:left\" title=\"86860\">86860</td><td style=\"text-align:left\" title=\"9046\">9046</td><td style=\"text-align:left\" title=\"Thuringen, Germany\">Thuringen, Germany</td><td style=\"text-align:left\" title=\"4635.710602875681\">4635.710602875681</td><td style=\"text-align:left\" title=\"3.466532460996477\">3.466532460996477</td></tr><tr><td style=\"text-align:left\" title=\"\"></td><td style=\"text-align:left\" title=\"\"></td><td style=\"text-align:left\" title=\"Unknown\">Unknown</td><td style=\"text-align:left\" title=\"Germany\">Germany</td><td style=\"text-align:left\" title=\"2021-04-08 04:21:13\">2021-04-08 04:21:13</td><td style=\"text-align:left\" title=\"\"></td><td style=\"text-align:left\" title=\"\"></td><td style=\"text-align:left\" title=\"9072\">9072</td><td style=\"text-align:left\" title=\"0\">0</td><td style=\"text-align:left\" title=\"0\">0</td><td style=\"text-align:left\" title=\"9072\">9072</td><td style=\"text-align:left\" title=\"Unknown, Germany\">Unknown, Germany</td><td style=\"text-align:left\" title=\"\"></td><td style=\"text-align:left\" title=\"0.0\">0.0</td></tr></table></body></html>"
      ]
     },
     "execution_count": 181,
     "metadata": {},
     "output_type": "execute_result"
    }
   ],
   "source": [
    "laender.groups()[66] //Gibt die 66. Gruppe (Deutschland) aus"
   ]
  },
  {
   "cell_type": "markdown",
   "id": "assumed-canvas",
   "metadata": {},
   "source": [
    "#### `count`\n",
    "Mit `count()` kann die Anzahl der Fälle ermittelt werden, die die Bedingung des Lambda-Ausdrucks erfüllen. Wird auf den Lambda-Ausdruck verzichtet, wird die Anzahl der Elemente zurückgegeben."
   ]
  },
  {
   "cell_type": "code",
   "execution_count": 46,
   "id": "compact-adrian",
   "metadata": {
    "execution": {
     "iopub.execute_input": "2021-04-18T14:37+0200",
     "iopub.status.busy": "2021-04-18T14:37+0200",
     "iopub.status.idle": "2021-04-18T14:37+0200",
     "shell.execute_reply": "2021-04-18T14:37+0200",
     "shell.execute_reply.started": "2021-04-18T14:37+0200"
    }
   },
   "outputs": [
    {
     "name": "stdout",
     "output_type": "stream",
     "text": [
      "Anzahl an Zeilen: 3983\n",
      "Anzahl an Zeilen von Deutschland: 17\n"
     ]
    }
   ],
   "source": [
    "println(\"Anzahl an Zeilen: ${daten.rows.count()}\")\n",
    "val zeilenDE = daten.rows.count { it[\"Country_Region\"] == \"Germany\" }\n",
    "println(\"Anzahl an Zeilen von Deutschland: $zeilenDE\")"
   ]
  },
  {
   "cell_type": "markdown",
   "id": "statistical-graphic",
   "metadata": {},
   "source": [
    "##### Aufgabe - count\n",
    "Implementiere eine Erweiterungsmethode `anzahlErhoehteSterblichkeit` für die Klasse `DataFrame`, die die Anzahl an Einträgen zurückgibt, die eine erhöhte Sterblichkeit aufweisen. Es wird zur Vereinfachung angenommen, dass eine erhöhte Sterblichkeit ab Verstorbene/bestätigte Fälle > 10% vorliegt. \n",
    "<details><summary>Tipp 1</summary><p>Mit <code>daten.schema()</code> können die Datentypen der Spalten herausgefunden werden.</p></details>\n",
    "<details><summary>Tipp 2</summary><p>Eine Division mit 0 ist nicht möglich.</p></details>\n",
    "<details><summary>Tipp 3</summary><p>Der Datentyp des Ergebnis von <code>Int</code>/<code>Int</code> ist <code>Int</code>. Mit <code>toDouble()</code> kann ein <code>Int</code>-Wert zu <code>Double</code> umgewandelt werden.</p></details>"
   ]
  },
  {
   "cell_type": "code",
   "execution_count": 47,
   "id": "advisory-truth",
   "metadata": {
    "execution": {
     "iopub.execute_input": "2021-04-18T14:37+0200",
     "iopub.status.busy": "2021-04-18T14:37+0200",
     "iopub.status.idle": "2021-04-18T14:37+0200",
     "shell.execute_reply": "2021-04-18T14:37+0200"
    }
   },
   "outputs": [
    {
     "name": "stderr",
     "output_type": "stream",
     "text": [
      "Line_65.jupyter.kts (5:19 - 46) Unresolved reference: anzahlErhoehteSterblichkeit\n",
      "Line_65.jupyter.kts (10:85 - 112) Unresolved reference: anzahlErhoehteSterblichkeit"
     ]
    }
   ],
   "source": [
    "//TODO\n",
    "\n",
    "//Test\n",
    "val anzahl = daten.anzahlErhoehteSterblichkeit()\n",
    "if (anzahl == 23){\n",
    "    println(\"Richtig!\")\n",
    "}\n",
    "else{\n",
    "    println(\"Falsch! Das Ergebnis von daten.anzahlErhoehteSterblichkeit() ist ${daten.anzahlErhoehteSterblichkeit()}, sollte aber eigentlich 23 sein.\")\n",
    "}"
   ]
  },
  {
   "cell_type": "code",
   "execution_count": 48,
   "id": "french-cyprus",
   "metadata": {
    "execution": {
     "iopub.execute_input": "2021-04-18T14:37+0200",
     "iopub.status.busy": "2021-04-18T14:37+0200",
     "iopub.status.idle": "2021-04-18T14:37+0200",
     "shell.execute_reply": "2021-04-18T14:37+0200",
     "shell.execute_reply.started": "2021-04-18T14:37+0200"
    }
   },
   "outputs": [
    {
     "name": "stdout",
     "output_type": "stream",
     "text": [
      "Richtig!\n"
     ]
    }
   ],
   "source": [
    "//Lösung\n",
    "fun DataFrame.anzahlErhoehteSterblichkeit() = this.rows.count { \n",
    "    ((it[\"Confirmed\"] as Int) != 0) && ((it[\"Deaths\"] as Int)/((it[\"Confirmed\"] as Int).toDouble()) > 0.1 ) \n",
    "}\n",
    "\n",
    "//Test\n",
    "val anzahl = daten.anzahlErhoehteSterblichkeit()\n",
    "if (anzahl == 23){\n",
    "    println(\"Richtig!\")\n",
    "}\n",
    "else{\n",
    "    println(\"Falsch! Das Ergebnis von daten.anzahlErhoehteSterblichkeit() ist ${daten.anzahlErhoehteSterblichkeit()}, sollte aber eigentlich 23 sein.\")\n",
    "}"
   ]
  },
  {
   "cell_type": "markdown",
   "id": "ordinary-hamilton",
   "metadata": {},
   "source": [
    "#### `flatten`, `flatMap`\n",
    "##### `flatten`\n",
    "Beinhaltet eine Liste oder ein Array erneut mehrere Listen oder Arrays, können diese mit `flatten` zusammengefasst werden.\n",
    "\n",
    "<img src=\"images/flatten.png\" style=\"margin: 20px auto 20px auto\" />"
   ]
  },
  {
   "cell_type": "code",
   "execution_count": 49,
   "id": "suspected-customer",
   "metadata": {
    "execution": {
     "iopub.execute_input": "2021-04-18T14:37+0200",
     "iopub.status.busy": "2021-04-18T14:37+0200",
     "iopub.status.idle": "2021-04-18T14:37+0200",
     "shell.execute_reply": "2021-04-18T14:37+0200",
     "shell.execute_reply.started": "2021-04-18T14:37+0200"
    }
   },
   "outputs": [
    {
     "name": "stdout",
     "output_type": "stream",
     "text": [
      "listen: [[1, 2, 3], [4, 5, 6], [7, 8, 9]]\n",
      "flattenListe: [1, 2, 3, 4, 5, 6, 7, 8, 9]\n"
     ]
    }
   ],
   "source": [
    "val listen = listOf(listOf(1, 2, 3), listOf(4, 5, 6), listOf(7, 8, 9))\n",
    "println(\"listen: $listen\")\n",
    "val flattenListe = listen.flatten()\n",
    "println(\"flattenListe: $flattenListe\")"
   ]
  },
  {
   "cell_type": "markdown",
   "id": "religious-matter",
   "metadata": {},
   "source": [
    "##### `flatMap`\n",
    "`flatMap()` ist eine Kombination von `map()` und `flatten()`. Zuerst wird auf alle Elemente `map()` angewendet und danach diese mit `flatten()` zusammengefasst.\n",
    "\n",
    "<img src=\"images/flatMap.png\" style=\"margin: 20px auto 20px auto\" />"
   ]
  },
  {
   "cell_type": "code",
   "execution_count": 183,
   "id": "compact-judges",
   "metadata": {
    "tags": []
   },
   "outputs": [
    {
     "name": "stdout",
     "output_type": "stream",
     "text": [
      "woerter: [Schere, Matratze, Transport] \n",
      "\n",
      "woerterMap: [[S, c, h, e, r, e], [M, a, t, r, a, t, z, e], [T, r, a, n, s, p, o, r, t]]\n",
      "woerterMapFlatten: [S, c, h, e, r, e, M, a, t, r, a, t, z, e, T, r, a, n, s, p, o, r, t] \n",
      "\n",
      "woerterFlatMap: [S, c, h, e, r, e, M, a, t, r, a, t, z, e, T, r, a, n, s, p, o, r, t]\n"
     ]
    }
   ],
   "source": [
    "val woerter = listOf(\"Schere\", \"Matratze\", \"Transport\")\n",
    "println(\"woerter: $woerter \\n\")\n",
    "\n",
    "//map() und flatten()\n",
    "val woerterMap = woerter.map { it.map { it } }\n",
    "println(\"woerterMap: $woerterMap\")\n",
    "val woerterMapFlatten = woerterMap.flatten()\n",
    "println(\"woerterMapFlatten: $woerterMapFlatten \\n\")\n",
    "\n",
    "//flatMap()\n",
    "val woerterFlatMap = woerterMap.flatMap { it }\n",
    "println(\"woerterFlatMap: $woerterFlatMap\")"
   ]
  },
  {
   "cell_type": "markdown",
   "id": "burning-posting",
   "metadata": {},
   "source": [
    "#### `reduce`\n",
    "`reduce` ist eine Methode, deren Lambda-Ausdruck zwei Parameter besitzt. Bei der ersten Ausführung betrifft das das erste und das zweite Element. Bei allen folgenden Ausführungen des Funktionsrumpfs des Lambda-Ausdrucks ist der erste Parameter das Ergebnis der vorherigen Ausführung und der Zweite das aktuelle Element."
   ]
  },
  {
   "cell_type": "code",
   "execution_count": 184,
   "id": "signal-puzzle",
   "metadata": {
    "tags": []
   },
   "outputs": [
    {
     "name": "stdout",
     "output_type": "stream",
     "text": [
      "Das Wort in woerter mit den meisten a ist: Hafen\n",
      "Das Element von Liste, dass den größten gemeinsamen Teiler mit 100 besitzt, ist: 128\n"
     ]
    }
   ],
   "source": [
    "val woerter = listOf(\"aber\", \"also\", \"aachen\", \"berlin\", \"bitte\", \"klavier\", \"hafen\", \"hose\")\n",
    "val wort = liste.reduce {a, b -> if(a.count { it == 'a' } > b.count { it == 'a' }) a else b } //Sucht das Wort mit den meisten 'a'\n",
    "println(\"Das Wort in woerter mit den meisten a ist: $wort\")\n",
    "\n",
    "fun ggt(a: Int, b: Int): Int { //Rekursive Implementierung von ggt\n",
    "    if (b == 0) return a\n",
    "    return ggt(b, (a % b))\n",
    "}\n",
    "\n",
    "val zahlen = listOf(2,52,123,74,1824,453,128,78,26) //Testzahlen\n",
    "val maxGgt100 = zahlen.reduce { a, b -> //sucht das Element, das den größten gemeinsamen Teiler mit 100 besitzt\n",
    "    val ggtA = ggt(a, 100)\n",
    "    val ggtB = ggt(b, 100)\n",
    "    if (ggtA > ggtB) //gibt das Ergebnis der Ausführung zurück, das bei der Nächsten der erste Parameter ist\n",
    "        a\n",
    "    else\n",
    "        b  \n",
    "}\n",
    "println(\"Das Element von Liste, dass den größten gemeinsamen Teiler mit 100 besitzt, ist: $maxGgt100\")"
   ]
  },
  {
   "cell_type": "markdown",
   "id": "precious-motel",
   "metadata": {},
   "source": [
    "#### `zip`, `unzip` und `zipWithNext`\n",
    "##### `zip`\n",
    "Mit Hilfe von `zip()` können zwei Datenstrukturen einfach zusammengefasst werden. Dabei entsteht eine neue Liste, deren Elemente Paare der Elemente der beiden zusammenzufassenden Listen sind.\n",
    "\n",
    "<img src=\"images/zip.png\" style=\"margin: 20px auto 20px auto\" />"
   ]
  },
  {
   "cell_type": "code",
   "execution_count": 52,
   "id": "light-lafayette",
   "metadata": {
    "execution": {
     "iopub.execute_input": "2021-04-18T14:37+0200",
     "iopub.status.busy": "2021-04-18T14:37+0200",
     "iopub.status.idle": "2021-04-18T14:37+0200",
     "shell.execute_reply": "2021-04-18T14:37+0200",
     "shell.execute_reply.started": "2021-04-18T14:37+0200"
    }
   },
   "outputs": [
    {
     "name": "stdout",
     "output_type": "stream",
     "text": [
      "liste1: [1, 2, 3, 4, 5, 6, 7, 8, 9]\n",
      "liste2: [-1, -2, -3, -4, -5, -6, -7, -8, -9]\n",
      "liste1.zip(liste2): [(1, -1), (2, -2), (3, -3), (4, -4), (5, -5), (6, -6), (7, -7), (8, -8), (9, -9)]\n"
     ]
    }
   ],
   "source": [
    "val liste1 = listOf(1,2,3,4,5,6,7,8,9)\n",
    "println(\"liste1: $liste1\")\n",
    "val liste2 = listOf(-1,-2,-3,-4,-5,-6,-7,-8,-9)\n",
    "println(\"liste2: $liste2\")\n",
    "\n",
    "val listeZip = liste1.zip(liste2)\n",
    "println(\"liste1.zip(liste2): $listeZip\")"
   ]
  },
  {
   "cell_type": "markdown",
   "id": "packed-omaha",
   "metadata": {},
   "source": [
    "##### `unzip`\n",
    "Das Gegenteil zu `zip()` ist die Methode `unzip()`. Bei Aufruf auf einer Liste von Paaren werden diese getrennt und in zwei Listen aufgeteilt.\n",
    "\n",
    "<img src=\"images/unzip.png\" style=\"margin: 20px auto 20px auto\" />"
   ]
  },
  {
   "cell_type": "code",
   "execution_count": 53,
   "id": "involved-muslim",
   "metadata": {
    "execution": {
     "iopub.execute_input": "2021-04-18T14:37+0200",
     "iopub.status.busy": "2021-04-18T14:37+0200",
     "iopub.status.idle": "2021-04-18T14:37+0200",
     "shell.execute_reply": "2021-04-18T14:37+0200",
     "shell.execute_reply.started": "2021-04-18T14:37+0200"
    }
   },
   "outputs": [
    {
     "name": "stdout",
     "output_type": "stream",
     "text": [
      "listeUnzip1: [1, 2, 3, 4, 5, 6, 7, 8, 9]\n",
      "listeUnzip2: [-1, -2, -3, -4, -5, -6, -7, -8, -9]\n"
     ]
    }
   ],
   "source": [
    "val (listeUnzip1, listeUnzip2) = listeZip.unzip()\n",
    "println(\"listeUnzip1: $listeUnzip1\")\n",
    "println(\"listeUnzip2: $listeUnzip2\")"
   ]
  },
  {
   "cell_type": "markdown",
   "id": "imported-harmony",
   "metadata": {},
   "source": [
    "##### `zipWithNext`\n",
    "Eine spezielle Form des Zusammenfügens ist `zipWithNext`. Wird diese Methode auf einer Liste aufgerufen, wird ein Lambda-Ausdruck erwartet. Diesem werden zwei Parameter, das aktuelle und das nächste Element übergeben. Im Methodenrumpf kann dann mit beiden definierten Variablen gearbeitet werden. Die Rückgabe ersetzt das aktuelle Element. \n",
    "\n",
    "<img src=\"images/zipWithNext.png\" style=\"margin: 20px auto 20px auto\" />"
   ]
  },
  {
   "cell_type": "code",
   "execution_count": 54,
   "id": "growing-difference",
   "metadata": {
    "execution": {
     "iopub.execute_input": "2021-04-18T14:37+0200",
     "iopub.status.busy": "2021-04-18T14:37+0200",
     "iopub.status.idle": "2021-04-18T14:37+0200",
     "shell.execute_reply": "2021-04-18T14:37+0200",
     "shell.execute_reply.started": "2021-04-18T14:37+0200"
    }
   },
   "outputs": [
    {
     "name": "stdout",
     "output_type": "stream",
     "text": [
      "listeZipWithNext: [12, 23, 34, 45, 56, 67, 78, 89]\n"
     ]
    }
   ],
   "source": [
    "val listeZipWithNext = liste1.zipWithNext { a, b -> \"$a$b\".toInt() }\n",
    "println(\"listeZipWithNext: $listeZipWithNext\")"
   ]
  },
  {
   "cell_type": "markdown",
   "id": "angry-thinking",
   "metadata": {},
   "source": [
    "#### `remove`\n",
    "Wie Elemente einer Datenstruktur mit `remove()` entfernt werden können, wurde bereits in Abschnitt 1 behandelt. Jedoch kann diese Funktionalität erweitert werden.  \n",
    "`removeAll()` in Verbindung mit einem Lambda-Ausdruck entfernt alle Elemente, auf die die Bedingung zutrifft. Das gleiche Ergebnis liefert auch `removeIf()`."
   ]
  },
  {
   "cell_type": "code",
   "execution_count": 188,
   "id": "pleasant-innocent",
   "metadata": {
    "tags": []
   },
   "outputs": [
    {
     "name": "stdout",
     "output_type": "stream",
     "text": [
      "fruechte: [Apfel, Ananas, Banane, Clementine, Datteln]\n",
      "Es wurden Einträge gefunden und mit removeAll() entfernt, die mehr als ein 'a' enthalten: true\n",
      "fruechte nach dem Entfernen: [Apfel, Clementine, Datteln] \n",
      "\n",
      "fruechte2: [Apfel, Ananas, Banane, Clementine, Datteln]\n",
      "Es wurden Einträge gefunden und mit removeIf() entfernt, die mehr als ein 'a' enthalten: true\n",
      "fruechte2 nach dem Entfernen: [Apfel, Clementine, Datteln]\n"
     ]
    }
   ],
   "source": [
    "//removeAll\n",
    "val fruechte = mutableListOf(\"Apfel\", \"Ananas\", \"Banane\",\"Clementine\", \"Datteln\")\n",
    "println(\"fruechte: $fruechte\")\n",
    "val ergebnis = fruechte.removeAll { it.count { it == 'a' } > 1 }\n",
    "println(\"Es wurden Einträge gefunden und mit removeAll() entfernt, die mehr als ein 'a' enthalten: $ergebnis\")\n",
    "println(\"fruechte nach dem Entfernen: $fruechte \\n\")\n",
    "\n",
    "//removeIf\n",
    "val fruechte2 = mutableListOf(\"Apfel\", \"Ananas\", \"Banane\",\"Clementine\", \"Datteln\")\n",
    "println(\"fruechte2: $fruechte2\")\n",
    "val ergebnis2 = fruechte2.removeIf { it.count { it == 'a' } > 1 }\n",
    "println(\"Es wurden Einträge gefunden und mit removeIf() entfernt, die mehr als ein 'a' enthalten: $ergebnis2\")\n",
    "println(\"fruechte2 nach dem Entfernen: $fruechte2\")"
   ]
  },
  {
   "cell_type": "markdown",
   "id": "convinced-ontario",
   "metadata": {},
   "source": [
    "##### Aufgabe - removeIf\n",
    "Implementiere eine Erweiterungsmethode `entferneSpalten` für die Klasse `DataFrame`, die alle Spalten entfernt, die nicht den Datentyp `IntCol` besitzen."
   ]
  },
  {
   "cell_type": "code",
   "execution_count": 2,
   "id": "916c4c23-5c65-47fd-9d9f-55b534ebc549",
   "metadata": {},
   "outputs": [
    {
     "name": "stderr",
     "output_type": "stream",
     "text": [
      "Line_1.jupyter-kts (2:17 - 22) Unresolved reference: daten"
     ]
    }
   ],
   "source": [
    "//TODO\n",
    "val testDaten = daten.entferneSpalten()\n",
    "if (testDaten.names == listOf(\"Confirmed\", \"Deaths\"))\n",
    "    println(\"Richtig!\")\n",
    "else\n",
    "    println(\"Falsch! Eigentlich sollten nur noch die Spalten ${listOf(\"Confirmed\", \"Deaths\")} vorhanden sein. Das Ergebnis ist jedoch ${testDaten.names} \")    "
   ]
  },
  {
   "cell_type": "code",
   "execution_count": 1,
   "id": "played-asthma",
   "metadata": {
    "tags": []
   },
   "outputs": [
    {
     "name": "stderr",
     "output_type": "stream",
     "text": [
      "Line_0.jupyter-kts (2:5 - 14) Unresolved reference: DataFrame\n",
      "Line_0.jupyter-kts (2:58 - 64) Unresolved reference: IntCol\n",
      "Line_0.jupyter-kts (4:17 - 22) Unresolved reference: daten"
     ]
    }
   ],
   "source": [
    "//Lösung\n",
    "fun DataFrame.entferneSpalten() = this.removeIf { (it is IntCol) == false }\n",
    "\n",
    "val testDaten = daten.entferneSpalten()\n",
    "if (testDaten.names == listOf(\"Confirmed\", \"Deaths\"))\n",
    "    println(\"Richtig!\")\n",
    "else\n",
    "    println(\"Falsch! Eigentlich sollten nur noch die Spalten ${listOf(\"Confirmed\", \"Deaths\")} vorhanden sein. Das Ergebnis ist jedoch ${testDaten.names} \")    "
   ]
  },
  {
   "cell_type": "markdown",
   "id": "minute-marble",
   "metadata": {},
   "source": [
    "#### `sumOf`, `minByOrNull`, `maxByOrNull`\n",
    "##### `sumOf`\n",
    "`sumOf()` erweitert `sum()` in dem Gesichtspunkt, dass zuerst die Anweisung des Funktionsrumpf des Lambda-Ausdrucks angewendet und das Ergebnis zur Summe addiert wird. "
   ]
  },
  {
   "cell_type": "code",
   "execution_count": 1,
   "id": "young-springer",
   "metadata": {
    "tags": []
   },
   "outputs": [
    {
     "name": "stderr",
     "output_type": "stream",
     "text": [
      "Line_0.jupyter-kts (7:23 - 28) Unresolved reference: daten\n",
      "Line_0.jupyter-kts (7:42 - 44) Unresolved reference: it\n",
      "Line_0.jupyter-kts (7:58 - 64) No cast needed"
     ]
    }
   ],
   "source": [
    "val liste = listOf(-3,-2,-1,0,1,2,3,4,5,6,7,8,9)\n",
    "val summe = liste.sum()\n",
    "println(\"Die Summe der Einträge von liste ist $summe.\")\n",
    "val summePositiv = liste.sumOf { it.absoluteValue }\n",
    "println(\"Die Summe der Beträge der Einträge von liste ist $summePositiv. \\n\")\n",
    "\n",
    "val summeBestaetigt = daten.rows.sumOf { it[\"Confirmed\"] as Int }\n",
    "println(\"Anzahl der bestätigten Fälle weltweit: $summeBestaetigt\")"
   ]
  },
  {
   "cell_type": "markdown",
   "id": "coordinate-beatles",
   "metadata": {},
   "source": [
    "##### minByOrNull\n",
    "Mit `minByOrNull` kann das Minimum in Verbindung mit einem Lambda-Ausdrucks gefunden werden. Dabei muss entweder angegeben werden wovon das Minimum gesucht werden soll (beispielsweise die Spalte einer Tabelle),  oder eine Anweisung. Bei der Auswertung wird zuerst die Anweisung ausgeführt und das Ergebnis dann mit dem aktuellen Minimum verglichen. Falls es kleiner ist, wird das Ausgangselement der Anweisung als Minimum gespeichert. Falls kein Minimum existiert, wird `null` zurückgegeben."
   ]
  },
  {
   "cell_type": "code",
   "execution_count": 191,
   "id": "controlling-selection",
   "metadata": {
    "tags": []
   },
   "outputs": [
    {
     "name": "stdout",
     "output_type": "stream",
     "text": [
      "Das Bundesland mit den wenigsten bestätigten Fällen ist: Bremen\n",
      "Das Element der Liste liste mit dem kleinsten Betrag ist: 0\n"
     ]
    }
   ],
   "source": [
    "//Angabe des Vergleichsorts\n",
    "val minBestaetigtDE = daten.rows\n",
    "    .filter { it[\"Country_Region\"] == \"Germany\" && it[\"Province_State\"] != \"Unknown\" } //Filtert alle Zeilen, bei denen das Land Deutschland und das Bundesland nicht Unknown ist\n",
    "    .minByOrNull { it[\"Confirmed\"] as Int } //Sucht das Minimum in der Spalte Confirmed\n",
    "println(\"Das Bundesland mit den wenigsten bestätigten Fällen ist: ${minBestaetigtDE?.get(\"Province_State\")}\")\n",
    "\n",
    "//Angabe einer Anweisung. Hier: Gesucht ist das Elements mit dem kleinstem Betrag.\n",
    "val liste = listOf(-3,-2,-1,0,1,2,3,4,5,6,7,8,9)\n",
    "val min = liste.minByOrNull { it.absoluteValue }\n",
    "println(\"Das Element der Liste liste mit dem kleinsten Betrag ist: $min\")"
   ]
  },
  {
   "cell_type": "markdown",
   "id": "republican-butter",
   "metadata": {},
   "source": [
    "##### `maxByOrNull`\n",
    "`maxByOrNull()` ist das Gegenteil von `minByOrNull` und liefert das Maximum oder `null`."
   ]
  },
  {
   "cell_type": "code",
   "execution_count": 192,
   "id": "interesting-isaac",
   "metadata": {
    "tags": []
   },
   "outputs": [
    {
     "name": "stdout",
     "output_type": "stream",
     "text": [
      "Das Bundesland mit den meisten bestätigten Fällen ist: Nordrhein-Westfalen\n",
      "Das Element der Liste liste mit dem größten Betrag ist: 9\n"
     ]
    }
   ],
   "source": [
    "//Angabe des Vergleichsorts\n",
    "val maxBestaetigtDE = daten.rows\n",
    "    .filter { it[\"Country_Region\"] == \"Germany\" && it[\"Province_State\"] != \"Unknown\" } //Filtert alle Zeilen, bei denen das Land Deutschland und das Bundesland nicht Unknown ist\n",
    "    .maxByOrNull { it[\"Confirmed\"] as Int } //Sucht das Maximum in der Spalte Confirmed\n",
    "println(\"Das Bundesland mit den meisten bestätigten Fällen ist: ${maxBestaetigtDE?.get(\"Province_State\")}\")\n",
    "\n",
    "//Angabe einer Anweisung. Hier: Gesucht ist das Elements mit dem gröten Betrag.\n",
    "val liste = listOf(-3,-2,-1,0,1,2,3,4,5,6,7,8,9)\n",
    "val max = liste.maxByOrNull { it.absoluteValue }\n",
    "println(\"Das Element der Liste liste mit dem größten Betrag ist: $max\")"
   ]
  },
  {
   "cell_type": "markdown",
   "id": "growing-associate",
   "metadata": {},
   "source": [
    "#### `take`\n",
    "Die `take()`-Methode wurde bereits in Abschnitt 1 vorgestellt. Anstelle einer bestimmen Anzahl, können mit `takeWhile()` oder `takeUnless()` so viele Elemente *genommen* werden, bis eine Bedingung nicht mehr erfüllt ist. Beide Methoden unterscheiden sich nur im Rückgabetyp. Eine weitere Erweiterung ist `takeIf()`. Diese findet bei einfachen Variablen Anwendung. Falls die Bedingung für die Variable erfüllt ist, wird diese zurückgegeben. Falls die Prüfung fehlschlägt ist die Rückgabe `null`."
   ]
  },
  {
   "cell_type": "code",
   "execution_count": 60,
   "id": "iraqi-delta",
   "metadata": {
    "execution": {
     "iopub.execute_input": "2021-04-18T14:37+0200",
     "iopub.status.busy": "2021-04-18T14:37+0200",
     "iopub.status.idle": "2021-04-18T14:37+0200",
     "shell.execute_reply": "2021-04-18T14:37+0200",
     "shell.execute_reply.started": "2021-04-18T14:37+0200"
    }
   },
   "outputs": [
    {
     "name": "stdout",
     "output_type": "stream",
     "text": [
      "Afghanistan: 2512\n",
      "Albania: 2291\n",
      "Algeria: 3116\n",
      "Andorra: 119\n",
      "Angola: 547\n",
      "\n",
      "Zahl: 1\n"
     ]
    }
   ],
   "source": [
    "val zeilen = daten.rows.takeWhile { it[\"Deaths\"] as Int > 100 } //Nimmt alle Zeilen vom Start bis die Anzahl der Tode < 100 ist.\n",
    "for (zeile in zeilen){\n",
    "    println(\"${zeile[\"Country_Region\"]}: ${zeile[\"Deaths\"]}\")\n",
    "}\n",
    "\n",
    "val zufall = (0..10).random()\n",
    "val zahl = zufall.takeIf { it < 5 } ?: -1\n",
    "println(\"\\nZahl: $zahl\")"
   ]
  },
  {
   "cell_type": "markdown",
   "id": "superb-relief",
   "metadata": {},
   "source": [
    "#### `forEach`\n",
    "Die `forEach`-Schleife sollte bereits aus Java bekannt sein. Eine ähnliche Umsetzung mit dem Schlüsselwort `in` wurde in Abschnitt 1 besprochen. Eine weitere Möglichkeit diese Art der Schleife in Kotlin umzusetzen ist `forEach()` in Verbindung mit Lambda. Die Methode erinnert stark an `map()`, da der Funktionsrumpf des Lambda-Ausdrucks an jedem Elementen der Datenstruktur angewendet wird. Jedoch wird hier kein Ergebnis zurückgegeben. Das aktuelle Element kann außerdem nicht verändert werden, da es vom Typ `val` ist."
   ]
  },
  {
   "cell_type": "code",
   "execution_count": 195,
   "id": "judicial-maintenance",
   "metadata": {
    "tags": []
   },
   "outputs": [
    {
     "name": "stdout",
     "output_type": "stream",
     "text": [
      "1 & -1\n",
      "2 & -2\n",
      "3 & -3\n",
      "4 & -4\n",
      "5 & -5\n",
      "6 & -6\n"
     ]
    }
   ],
   "source": [
    "val liste = mutableListOf (1,2,3,4,5,6)\n",
    "liste.forEach { it: Int ->\n",
    "    val invertiert =  -it\n",
    "    println(\"$it & $invertiert\")\n",
    "}"
   ]
  },
  {
   "cell_type": "markdown",
   "id": "turkish-oxide",
   "metadata": {},
   "source": [
    "##### Aufgabe - forEach\n",
    "Speichere in der Variable `schluessel` eine Liste der kombinierten Schlüssel, der aus dem Land, gegebenenfalls dem Bundesland und der Spalte *Admin2* besteht (in der Spalte *Combined_Key* zu finden). Benutze dafür eine `forEach`-Schleife und nicht die Spalte *Combined_Key*."
   ]
  },
  {
   "cell_type": "code",
   "execution_count": 62,
   "id": "circular-happiness",
   "metadata": {
    "execution": {
     "iopub.execute_input": "2021-04-18T14:37+0200",
     "iopub.status.busy": "2021-04-18T14:37+0200",
     "iopub.status.idle": "2021-04-18T14:37+0200",
     "shell.execute_reply": "2021-04-18T14:37+0200"
    }
   },
   "outputs": [
    {
     "name": "stderr",
     "output_type": "stream",
     "text": [
      "java.lang.IndexOutOfBoundsException: Index 0 out of bounds for length 0\n",
      "java.base/jdk.internal.util.Preconditions.outOfBounds(Preconditions.java:64)\n",
      "java.base/jdk.internal.util.Preconditions.outOfBoundsCheckIndex(Preconditions.java:70)\n",
      "java.base/jdk.internal.util.Preconditions.checkIndex(Preconditions.java:248)\n",
      "java.base/java.util.Objects.checkIndex(Objects.java:359)\n",
      "java.base/java.util.ArrayList.get(ArrayList.java:427)\n",
      "Line_84_jupyter.<init>(Line_84.jupyter.kts:11)\n",
      "java.base/jdk.internal.reflect.NativeConstructorAccessorImpl.newInstance0(Native Method)\n",
      "java.base/jdk.internal.reflect.NativeConstructorAccessorImpl.newInstance(NativeConstructorAccessorImpl.java:64)\n",
      "java.base/jdk.internal.reflect.DelegatingConstructorAccessorImpl.newInstance(DelegatingConstructorAccessorImpl.java:45)\n",
      "java.base/java.lang.reflect.Constructor.newInstanceWithCaller(Constructor.java:500)\n",
      "java.base/java.lang.reflect.Constructor.newInstance(Constructor.java:481)\n",
      "kotlin.script.experimental.jvm.BasicJvmScriptEvaluator.evalWithConfigAndOtherScriptsResults(BasicJvmScriptEvaluator.kt:96)\n",
      "kotlin.script.experimental.jvm.BasicJvmScriptEvaluator.invoke$suspendImpl(BasicJvmScriptEvaluator.kt:41)\n",
      "kotlin.script.experimental.jvm.BasicJvmScriptEvaluator.invoke(BasicJvmScriptEvaluator.kt)\n",
      "kotlin.script.experimental.jvm.BasicJvmReplEvaluator.eval(BasicJvmReplEvaluator.kt:51)\n",
      "org.jetbrains.kotlin.jupyter.ReplForJupyterImpl$doEval$resultWithDiagnostics$1.invokeSuspend(repl.kt:604)\n",
      "kotlin.coroutines.jvm.internal.BaseContinuationImpl.resumeWith(ContinuationImpl.kt:33)\n",
      "kotlinx.coroutines.DispatchedTask.run(DispatchedTask.kt:56)\n",
      "kotlinx.coroutines.EventLoopImplBase.processNextEvent(EventLoop.common.kt:274)\n",
      "kotlinx.coroutines.BlockingCoroutine.joinBlocking(Builders.kt:84)\n",
      "kotlinx.coroutines.BuildersKt__BuildersKt.runBlocking(Builders.kt:59)\n",
      "kotlinx.coroutines.BuildersKt.runBlocking(Unknown Source)\n",
      "kotlinx.coroutines.BuildersKt__BuildersKt.runBlocking$default(Builders.kt:38)\n",
      "kotlinx.coroutines.BuildersKt.runBlocking$default(Unknown Source)\n",
      "org.jetbrains.kotlin.jupyter.ReplForJupyterImpl.doEval(repl.kt:604)\n",
      "org.jetbrains.kotlin.jupyter.ReplForJupyterImpl.eval(repl.kt:434)\n",
      "org.jetbrains.kotlin.jupyter.ProtocolKt$shellMessagesHandler$res$1.invoke(protocol.kt:248)\n",
      "org.jetbrains.kotlin.jupyter.ProtocolKt$shellMessagesHandler$res$1.invoke(protocol.kt)\n",
      "org.jetbrains.kotlin.jupyter.ProtocolKt.evalWithIO(protocol.kt:400)\n",
      "org.jetbrains.kotlin.jupyter.ProtocolKt.shellMessagesHandler(protocol.kt:247)\n",
      "org.jetbrains.kotlin.jupyter.IkotlinKt.kernelServer(ikotlin.kt:127)\n",
      "org.jetbrains.kotlin.jupyter.IkotlinKt.kernelServer$default(ikotlin.kt:95)\n",
      "org.jetbrains.kotlin.jupyter.IkotlinKt.main(ikotlin.kt:72)\n"
     ]
    }
   ],
   "source": [
    "val schluessel = MutableList<String>(0) { \"\" }\n",
    "\n",
    "//TODO\n",
    "\n",
    "//Tests\n",
    "val combined_keys = daten.cols[11].values().toList()\n",
    "var fehler = 0\n",
    "var tests = 0\n",
    "for(i in 0 until combined_keys.size){\n",
    "    if (schluessel[i] != combined_keys[i] && combined_keys[i] != \"Northwest Territories,Canada\" && combined_keys[i] != \"District of Columbia, District of Columbia ,US\"){\n",
    "        println(\"Falsch! schluessel[$i]: ${schluessel[i]}; combined_keys[$i]: ${combined_keys[i]}\")\n",
    "        fehler++\n",
    "    }\n",
    "    tests++\n",
    "}\n",
    "if(fehler == 0)\n",
    "    println(\"Super! Alle $tests Tests bestanden!\")\n",
    "else\n",
    "    println(\"Bei $fehler vom $tests Tests kamen Fehler auf.\")"
   ]
  },
  {
   "cell_type": "code",
   "execution_count": 196,
   "id": "smaller-bracket",
   "metadata": {
    "tags": []
   },
   "outputs": [
    {
     "name": "stdout",
     "output_type": "stream",
     "text": [
      "Falsch! schluessel[124]: Subey, Urzikstan; combined_keys[124]: Hubei, Urzikstan\n",
      "Bei 1 vom 3983 Tests kamen Fehler auf.\n"
     ]
    }
   ],
   "source": [
    "//Lösung\n",
    "val schluessel = MutableList<String>(0) { \"\" }\n",
    "\n",
    "daten.rows.forEach {\n",
    "    val land = it[\"Country_Region\"] as String\n",
    "    val region = it[\"Province_State\"] as String\n",
    "    val county = it[\"Admin2\"] as String\n",
    "    when {\n",
    "        region != \"\" && county != \"\" -> schluessel.add(\"$county, $region, $land\")\n",
    "        region != \"\" -> schluessel.add(\"$region, $land\")\n",
    "        else -> schluessel.add(\"$land\")\n",
    "    }\n",
    "}\n",
    "\n",
    "//Tests\n",
    "val combined_keys = daten.cols[11].values().toList()\n",
    "var fehler = 0\n",
    "var tests = 0\n",
    "for(i in 0 until combined_keys.size){\n",
    "    if (schluessel[i] != combined_keys[i] && combined_keys[i] != \"Northwest Territories,Canada\" && combined_keys[i] != \"District of Columbia, District of Columbia ,US\"){\n",
    "        println(\"Falsch! schluessel[$i]: ${schluessel[i]}; combined_keys[$i]: ${combined_keys[i]}\")\n",
    "        fehler++\n",
    "    }\n",
    "    tests++\n",
    "}\n",
    "if(fehler == 0)\n",
    "    println(\"Super! Alle $tests Tests bestanden!\")\n",
    "else\n",
    "    println(\"Bei $fehler vom $tests Tests kamen Fehler auf.\")"
   ]
  },
  {
   "cell_type": "markdown",
   "id": "multiple-stanley",
   "metadata": {},
   "source": [
    "<img src=\"images/Lektion5.png\" style=\"margin: 20px auto 20px 0px\"/>\n",
    "<h2 style=\"display:none\">Lektion 5 - Verbindung von Lambda-Ausdrücken</h2>\n",
    "\n",
    "In den meisten bis jetzt vorgestellten Beispielen wurde nur ein Lambda-Ausdruck verwendet. Jedoch können auch Mehrere hintereinander gestellt oder ineinander verschachtelt werden. Außerdem besteht die Möglichkeit, in den Funktionsrümpfen wiederum mit Methoden zu arbeiten. Es folgen einige Beispiele. Dabei wird empfohlen, den Code erst vollständig einzukommentieren und dann Anweisung für Anweisung durchzugehen.\n",
    "#### Beispiel 1\n",
    "Gesucht ist der amerikanische Bundesstaat mit den meisten bestätigten Fällen."
   ]
  },
  {
   "cell_type": "code",
   "execution_count": 66,
   "id": "pursuant-shipping",
   "metadata": {
    "execution": {
     "iopub.execute_input": "2021-04-18T14:37+0200",
     "iopub.status.busy": "2021-04-18T14:37+0200",
     "iopub.status.idle": "2021-04-18T14:37+0200",
     "shell.execute_reply": "2021-04-18T14:37+0200",
     "shell.execute_reply.started": "2021-04-18T14:37+0200"
    }
   },
   "outputs": [
    {
     "name": "stdout",
     "output_type": "stream",
     "text": [
      "Das amerikanische Bundesland mit den meisten bestätigten Fällen ist: California.\n"
     ]
    }
   ],
   "source": [
    "val bundesstaat = daten.rows.filter{ it[\"Country_Region\"] == \"US\" } //Filtert nur die Einträge heraus, deren Country_Region US ist.\n",
    "    .groupBy { it[\"Province_State\"] }   //Gruppiert die Einträge nach dem Bundesstaat. Zurückgegeben wird eine Map mit dem Namen der Bundesstaaten als Schlüssel und einer Liste, die alle Zeilen des Bundesstaates umfasst. \n",
    "                                        //Jeder Eintrag in der Liste ist jedoch wieder eine Map, die als Schlüssel den Spaltennamen und als Wert den Eintrag an der jeweiligen Stelle besitzt.\n",
    "    .mapValues { //Iteriert über die Map und setzt jeden Wert eines Paares auf die Rückgabe des Lambda-Ausdrucks\n",
    "        it.value.sumBy { it[\"Confirmed\"] as Int }   //it ist hier ein Map-Paar bestehend aus Bundesstaat und den zugehörigen Zeilen als Liste\n",
    "                                                    //value greift auf die Liste des Bundesstaats zu\n",
    "                                                    //sumBy() iteriert über jeden Eintrag der Liste und summiert den Wert, der dem Schlüssel Confirmed zugeordnet ist\n",
    "    }                                               //Das Ergebnis ist eine Map, deren Schlüssel die Namen der Bundesstaaten und der zugehöige Werte die Summe an bestätigten Fällen sind\n",
    "    .maxByOrNull { it.value } //Iteritert durch die Map an bestätigten Fällen jedes Bundesstaates und gibt das Paar zurück, dessen Fälle am höchsten sind\n",
    "    ?.key //Greift auf den Wert des Paares zu. Es muss ein sicherer Zugriff verwendet werden, da maxByOrNull einen nullable Wert zurückgibt\n",
    "                            \n",
    "println(\"Das amerikanische Bundesland mit den meisten bestätigten Fällen ist: $bundesstaat.\")\n",
    "//Zum Nachvollziehen:\n",
    "//bundesstaat"
   ]
  },
  {
   "cell_type": "markdown",
   "id": "floral-belgium",
   "metadata": {},
   "source": [
    "#### Beispiel 2\n",
    "Gesucht ist der Eintrag, dessen Koordinaten am nähesten an vorgegebene Längen- und Breitengraden sind. Die angegebenen Koordinaten entsprechen der Position der Universität Bayreuth."
   ]
  },
  {
   "cell_type": "code",
   "execution_count": 67,
   "id": "sophisticated-apparel",
   "metadata": {
    "execution": {
     "iopub.execute_input": "2021-04-18T14:37+0200",
     "iopub.status.busy": "2021-04-18T14:37+0200",
     "iopub.status.idle": "2021-04-18T14:37+0200",
     "shell.execute_reply": "2021-04-18T14:37+0200",
     "shell.execute_reply.started": "2021-04-18T14:37+0200"
    }
   },
   "outputs": [
    {
     "name": "stdout",
     "output_type": "stream",
     "text": [
      "Der Eintrag, der am nähsten zu den gegebenen Koordinaten ist, besitzt die Werte:\n",
      "{FIPS=, Admin2=, Province_State=Bayern, Country_Region=Germany, Last_Update=2021-04-08 04:21:13, Lat=48.7904, Long_=11.4979, Confirmed=517336, Deaths=13419, Recovered=467100, Active=36817, Combined_Key=Bayern, Germany, Incident_Rate=3956.1599578365253, Case_Fatality_Ratio=2.5938654955386826}\n"
     ]
    }
   ],
   "source": [
    "val laengengrad = 49.92987060546875\n",
    "val breitengrad = 11.586241722106934\n",
    "\n",
    "fun Double.betrag() = if(this < 0) -this else this //gibt den Betrag eines Double-Werts zurück\n",
    "\n",
    "val eintrag = daten.rows.filter { (it[\"Lat\"] as String != \"\") && (it[\"Long_\"] as String != \"\") } //Filtert alle Einträge mit leeren Koordinaten heraus  \n",
    "        .minByOrNull { ((it[\"Lat\"] as String).toDouble() - laengengrad).betrag() + ((it[\"Long_\"] as String).toDouble() - breitengrad).betrag() } //Gibt den Eintrag zurück, dessen Differenz der Koordinaten zu den Angegebenen am kleinsten ist.\n",
    "\n",
    "println(\"Der Eintrag, der am nähsten zu den gegebenen Koordinaten ist, besitzt die Werte:\\n$eintrag\")"
   ]
  },
  {
   "cell_type": "markdown",
   "id": "compound-organization",
   "metadata": {},
   "source": [
    "#### Beispiel 3\n",
    "In der Spalte *Incident_Rate* ist die Anzahl der bestätigten Fälle je 100.000 Einwohner zu finden. In diesem Beispiel sollen die 3 Länder mit der höchsten Durchseuchung in Prozent (Anteil der bestätigten Fälle an der Gesamtbevölkerung) ausgegeben werden. Wobei, falls eine Untergliederung in Regionen zu finden ist, der Mittelwert ausschlaggebend sein soll."
   ]
  },
  {
   "cell_type": "code",
   "execution_count": 83,
   "id": "obvious-smile",
   "metadata": {
    "execution": {
     "iopub.execute_input": "2021-04-18T15:00+0200",
     "iopub.status.busy": "2021-04-18T15:00+0200",
     "iopub.status.idle": "2021-04-18T15:00+0200",
     "shell.execute_reply": "2021-04-18T15:00+0200",
     "shell.execute_reply.started": "2021-04-18T15:00+0200"
    },
    "tags": []
   },
   "outputs": [
    {
     "name": "stdout",
     "output_type": "stream",
     "text": [
      "Platz 1: Andorra mit einer Durchseuchung von 16.00077654824306 %\n",
      "Platz 2: Montenegro mit einer Durchseuchung von 14.856654279354586 %\n",
      "Platz 3: Czechia mit einer Durchseuchung von 14.574466555271082 %\n"
     ]
    }
   ],
   "source": [
    "val rangliste = daten.rows.filter { it[\"Incident_Rate\"] as String != \"\" } //Filtert alle Zeilen heraus, die keinen Eintrag in der Spalte Incident_Rate aufweisen\n",
    "    .groupBy { it[\"Country_Region\"] }   //Gruppiert die Einträge nach dem Land. Zurückgegeben wird eine Map mit dem Namen des Landes als Schlüssel und einer Liste, die alle Zeilen des Landes umfasst. \n",
    "                                        //Jeder Eintrag in der Liste ist jedoch wieder eine Map, die als Schlüssel den Spaltennamen und als Wert den Eintrag an der jeweiligen Stelle besitzt.\n",
    "    .mapValues { //Iteriert über die Map und setzt jeden Wert eines Paares auf die Rückgabe des Lambda-Ausdrucks\n",
    "        val inzidenzen = MutableList<Double>(0) { 0.0 } //Erstellt für jedes Land eine leere Liste, die mit den Inzidenzraten gefüllt werden soll\n",
    "        it.value.forEach{ //Iteriert über alle Einträge jedes Land\n",
    "            inzidenzen.add((it[\"Incident_Rate\"] as String).toDouble()) //Fügt der Liste die Inzidenzrate der Region hinzu\n",
    "        }  \n",
    "        (inzidenzen.average() / 100000) * 100 //Berechnet den Durchschnitt der Wert der Liste, wandelt ihn in Prozent um und gibt ihn zurück\n",
    "    }\n",
    "    .toList() //Konvertiert die Map in eine Liste aus Paaren, welche aus dem Schlüssel und dem berechneten Wert besteht, da eine Map nicht sortiert werden kann\n",
    "    .sortedByDescending { (schluessel, wert) -> wert} //Sortiert die Liste nach den Werten absteigend\n",
    "    .take(3) //Löscht alle Einträge abgesehen von den ersten Drei\n",
    "    \n",
    "//Ausgabe\n",
    "for (i in 0 until rangliste.size){\n",
    "    println(\"Platz ${i+1}: ${rangliste[i].first} mit einer Durchseuchung von ${rangliste[i].second} %\")\n",
    "}\n",
    "//Zum Nachvollziehen:\n",
    "//rangliste"
   ]
  },
  {
   "cell_type": "markdown",
   "id": "distributed-portal",
   "metadata": {},
   "source": [
    "#### Aufgabe - Komplexe Lambda-Ausdrücke\n",
    "In der Spalte *Case_Fatality_Ratio* ist der Anteil der verstorbenen Personen an der Gesamtzahl der bestätigten Fälle zu finden. Deine Aufgabe ist es, eine Erweiterungsmethode `gibGeringsteSterblichkeit()` der Klasse `DataFrame` zu implementieren, die die 10 Länder mit der geringsten Sterblichkeit zurückgibt. Diese soll aus Paaren bestehen. Jedes Paar soll zuerst das Land und dann die Sterblichkeit beinhalten. Um fehlerhaften Daten entgegenzuwirken, sollen nur Länder, die mehr als 20000 bestätigte Fälle aufweisen, ausgewählt werden. Außerdem soll das Land *Belgium* nicht berücksichtigt werden."
   ]
  },
  {
   "cell_type": "code",
   "execution_count": null,
   "id": "buried-enemy",
   "metadata": {},
   "outputs": [],
   "source": [
    "//TODO\n",
    "\n",
    "//Test\n",
    "val testErgebnis = listOf( \n",
    "    Pair(\"Singapore\", 0.049542557056511546), Pair(\"Qatar\", 0.17185729399949518), Pair(\"United Arab Emirates\", 0.319314985326216), \n",
    "    Pair(\"Bahrain\", 0.3600318565664677), Pair(\"Malaysia\", 0.36787523838541136), Pair(\"Cuba\", 0.5351024805995085), Pair(\"Kuwait\", 0.5710878000902807), \n",
    "    Pair(\"Sri Lanka\", 0.6261314024065595), Pair(\"Norway\", 0.6756890445380977), Pair(\"Belarus\", 0.7000750296488129)\n",
    ")\n",
    "val ergebnis = daten.gibGeringsteSterblichkeit()\n",
    "var fehler = 0\n",
    "for(i in 0 until testErgebnis.size){\n",
    "    if(testErgebnis[i] != ergebnis[i]){\n",
    "        println(\"Falsch! Eintrag $i sollte ${testErgebnis[i]} sein, ist aber ${ergebnis[i]}\")\n",
    "        fehler++\n",
    "    }\n",
    "}\n",
    "if(fehler == 0)\n",
    "    println(\"Super! Alle Tests bestanden!\")\n",
    "else\n",
    "    println(\"Bei $fehler Tests kamen Fehler auf.\")"
   ]
  },
  {
   "cell_type": "code",
   "execution_count": 198,
   "id": "selected-omega",
   "metadata": {
    "tags": []
   },
   "outputs": [
    {
     "name": "stdout",
     "output_type": "stream",
     "text": [
      "Super! Alle Tests bestanden!\n"
     ]
    }
   ],
   "source": [
    "fun DataFrame.gibGeringsteSterblichkeit() = this.rows.filter { it[\"Case_Fatality_Ratio\"] as String != \"\" && it[\"Confirmed\"] as Int > 50000 &&  it[\"Country_Region\"] as String != \"Belgium\"} //Filtert alle Zeilen heraus, die keinen Eintrag in der Spalte Incident_Rate aufweisen\n",
    "    .groupBy { it[\"Country_Region\"] }   //Gruppiert die Einträge nach dem Land. Zurückgegeben wird eine Map mit dem Namen des Landes als Schlüssel und einer Liste, die alle Zeilen des Landes umfasst. \n",
    "                                        //Jeder Eintrag in der Liste ist jedoch wieder eine Map, die als Schlüssel den Spaltennamen und als Wert den Eintrag an der jeweiligen Stelle besitzt.\n",
    "    .mapValues { //Iteriert über die Map und setzt jeden Wert eines Paares auf die Rückgabe des Lambda-Ausdrucks\n",
    "        val inzidenzen = MutableList<Double>(0) { 0.0 } //Erstellt für jedes Land eine leere Liste, die mit den Inzidenzraten gefüllt werden soll\n",
    "        it.value.forEach{ //Iteriert über alle Einträge jedes Land\n",
    "            inzidenzen.add((it[\"Case_Fatality_Ratio\"] as String).toDouble()) //Fügt der Liste die Inzidenzrate der Region hinzu\n",
    "        }  \n",
    "        inzidenzen.average() //Berechnet den Durchschnitt der Wert der Liste, wandelt ihn in Prozent um und gibt ihn zurück\n",
    "    }\n",
    "    .toList() //Konvertiert die Map in eine Liste aus Paaren, welche aus dem Schlüssel und dem berechneten Wert besteht, da eine Map nicht sortiert werden kann\n",
    "    .sortedBy { (schluessel, wert) -> wert} //Sortiert die Liste nach den Werten absteigend\n",
    "    .take(10) //Löscht alle Einträge abgesehen von den ersten Zehn\n",
    "\n",
    "//Test\n",
    "val testErgebnis = listOf( \n",
    "    Pair(\"Singapore\", 0.049542557056511546), Pair(\"Qatar\", 0.17185729399949518), Pair(\"United Arab Emirates\", 0.319314985326216), \n",
    "    Pair(\"Bahrain\", 0.3600318565664677), Pair(\"Malaysia\", 0.36787523838541136), Pair(\"Cuba\", 0.5351024805995085), Pair(\"Kuwait\", 0.5710878000902807), \n",
    "    Pair(\"Sri Lanka\", 0.6261314024065595), Pair(\"Norway\", 0.6756890445380977), Pair(\"Belarus\", 0.7000750296488129)\n",
    ")\n",
    "val ergebnis = daten.gibGeringsteSterblichkeit()\n",
    "var fehler = 0\n",
    "for(i in 0 until testErgebnis.size){\n",
    "    if(testErgebnis[i] != ergebnis[i]){\n",
    "        println(\"Falsch! Eintrag $i sollte ${testErgebnis[i]} sein, ist aber ${ergebnis[i]}\")\n",
    "        fehler++\n",
    "    }\n",
    "}\n",
    "if(fehler == 0)\n",
    "    println(\"Super! Alle Tests bestanden!\")\n",
    "else\n",
    "    println(\"Bei $fehler Tests kamen Fehler auf.\")"
   ]
  },
  {
   "cell_type": "markdown",
   "id": "336a8a68-86ef-4654-acf1-17842691a40a",
   "metadata": {},
   "source": [
    "<img src=\"images/Lektion6.png\" style=\"margin: 20px auto 20px 0px\"/>\n",
    "<h2 style=\"display:none\">Lektion 6 - Funktionen höherer Ordnung</h2>\n",
    "\n",
    "Ein weiteres Konzept der funktionalen Programmierung sind Funktionen höherer Ordnung. Das Charakteristische an ihnen ist, dass ihnen eine weitere Funktion übergeben wird. Ermöglicht wird dies dadurch, dass Funktionen als Objekte angesehen werden. Die bis jetzt verwendeten Funktionen werden, im Gegensatz dazu, Funktionen erster Ordnung genannt.  \n",
    "Anwendung findet diese Art der Funktion meist, wenn um eine Funktion herum noch etwas passieren soll. Gebräuchliche Beispiele sind die Zeitmessung, bei der die höhere Funktion lediglich die übergebene Funktion mit Messfunktionen einrahmt, oder auch beim Schreiben einer Datei. Die übergebene Funktion wird als Lambda übergeben. Schauen wir uns das Beispiel der Zeitmessung genauer an:"
   ]
  },
  {
   "cell_type": "code",
   "execution_count": 54,
   "id": "c7f5683c-414d-41a2-864f-178494ef8fe3",
   "metadata": {},
   "outputs": [
    {
     "name": "stdout",
     "output_type": "stream",
     "text": [
      "Dauer von fibonacci(5000, 1000, 1000): 1 ms\n",
      "Dauer von fakultaet(10000): 0 ms\n"
     ]
    }
   ],
   "source": [
    "fun messeZeit(f: () -> Any): Long {\n",
    "    val start = System.currentTimeMillis()\n",
    "    f()\n",
    "    val ende = System.currentTimeMillis()\n",
    "    return ende - start\n",
    "}\n",
    "\n",
    "fun fibonacci(n: Int, a: Long, b: Long): Long {\n",
    "    return if (n == 0) b else fibonacci(n-1, a+b, a)\n",
    "}\n",
    "\n",
    "fun fakultaet(n : Int): Int{\n",
    "    return if (n == 1) 1 else n * fakultaet(n - 1) \n",
    "}\n",
    "\n",
    "println(\"Dauer von fibonacci(5000, 1000, 1000): ${messeZeit { fibonacci(5000, 1000, 1000) }} ms\")\n",
    "println(\"Dauer von fakultaet(10000): ${messeZeit { fakultaet(10000) }} ms\")"
   ]
  },
  {
   "cell_type": "markdown",
   "id": "0b9e77ce-f681-40fb-9e5e-da59e17871e0",
   "metadata": {},
   "source": [
    "Die Funktion höherer Ordnung `messeZeit` bekommt eine Funktion (Rückgabetyp `Any`) übergeben. Im Rumpf wird die Systemzeit vor und nach dem Ausführen der übergebenen Funktion gemessen.  \n",
    "Auch können Lambdas direkt übergeben werden:"
   ]
  },
  {
   "cell_type": "code",
   "execution_count": 57,
   "id": "48ba2b0c-5a71-48d4-8721-0f58a86f34ac",
   "metadata": {},
   "outputs": [
    {
     "data": {
      "text/plain": [
       "41"
      ]
     },
     "execution_count": 57,
     "metadata": {},
     "output_type": "execute_result"
    }
   ],
   "source": [
    "fun subtrahiere (f1: () -> Int, f2: () -> Int) : Int{\n",
    "    return f1() - f2()\n",
    "}\n",
    "\n",
    "subtrahiere ( { 5 * 10 }, { 3 * 3 } )"
   ]
  },
  {
   "cell_type": "markdown",
   "id": "f27bb56e-40f0-46ee-b898-f8ad28a8dbb9",
   "metadata": {},
   "source": [
    "Weiterführen lässt sich dieses Beispiel mit der Übergabe eines weiteren Parameters an die Lambda-Ausdrücke:"
   ]
  },
  {
   "cell_type": "code",
   "execution_count": 62,
   "id": "0b5ebc1c-db83-406f-98c5-573695d8a857",
   "metadata": {},
   "outputs": [
    {
     "data": {
      "text/plain": [
       "35"
      ]
     },
     "execution_count": 62,
     "metadata": {},
     "output_type": "execute_result"
    }
   ],
   "source": [
    "fun subtrahiere (f1: (n: Int) -> Int, f2: (m: Int) -> Int, x: Int) : Int{\n",
    "    return f1(x) - f2(x)\n",
    "}\n",
    "\n",
    "subtrahiere ( { x -> x * 10 }, { it * 3 }, 5 ) //50-15=35"
   ]
  },
  {
   "cell_type": "markdown",
   "id": "806ba4ce-7855-461c-a234-582420a5f2de",
   "metadata": {},
   "source": [
    "Es endet aber nicht damit, dass die Funktionen höherer Ordnung nur Funktionen als Parameter übergeben bekommen können. Ebenso ist eine Rückgabe einer Funktion möglich."
   ]
  },
  {
   "cell_type": "code",
   "execution_count": 77,
   "id": "8f8c926e-4087-4016-bfa3-7c5c868a14b4",
   "metadata": {},
   "outputs": [
    {
     "name": "stdout",
     "output_type": "stream",
     "text": [
      "addiere5 gibt eine Funktion zurück: (kotlin.Int) -> kotlin.Int\n"
     ]
    }
   ],
   "source": [
    "fun addiere5(): (Int) -> Int = {n -> n + 5}\n",
    "println(\"addiere5 gibt eine Funktion zurück: ${addiere5()}\")"
   ]
  },
  {
   "cell_type": "markdown",
   "id": "10e74816-5e13-499a-882b-6f20ad7e91f5",
   "metadata": {},
   "source": [
    "Die Funktion höherer Ordnung `addiere5` hat selbst keinen Parameter. Der Rückgabetyp ist hier aber *unnormal*. Anstelle einer einfachen Angabe (zum Beispiel `Int`), wird ein Lambda-ähnlicher Ausdruck zurückgegeben. Dieser beschreibt den Typ der zurückgegeben Funktion. Dieser wird ein Parameter vom Typ `Int` übergeben und liefert als Ergebnis auch einen Wert vom Typ `Int`. Daraufhin ist in einem Lambda-Ausdruck der Rumpf der Funktion beschrieben. Der Parameter vom Typ `Int` wird *n* genannt (da nur ein Parameter vorhanden ist, könnte dieser auch mit `it` angesprochen werden). Nach einem `->` folgt der eigentliche Rumpf. In diesem Fall wird zu dem Parameter 5 addiert und das Ergebnis zurückgegeben.  \n",
    "Wird nun die Funktion `addiere5` ganz normal aufgerufen, wird die definierte Funktion zurückgegeben. Soll diese aber ausgeführt werden, ist ein weiterer Funktionsaufruf mit den benötigten Parametern auszuführen."
   ]
  },
  {
   "cell_type": "code",
   "execution_count": 97,
   "id": "cfdb97ec-b7b7-47c8-bae2-1430653dfc50",
   "metadata": {},
   "outputs": [
    {
     "name": "stdout",
     "output_type": "stream",
     "text": [
      "addiere5()(10): 15\n"
     ]
    }
   ],
   "source": [
    "addiere5()(10)\n",
    "println(\"addiere5()(10): ${addiere5()(10)}\")"
   ]
  },
  {
   "cell_type": "markdown",
   "id": "fccebcd7-cbb0-48c9-8e98-72ea3eeca0a4",
   "metadata": {},
   "source": [
    "Zusätzlich kann der Funktion der höheren Ordnung auch ein Parameter übergeben werden. In dem oben genannten Beispiel kann dann beispielsweise der bis jetzt feste Wert von 5 variabel gesetzt werden. Mit der Funktion `addiereN` besteht die Möglichkeit beliebige Funktionen zu generieren."
   ]
  },
  {
   "cell_type": "code",
   "execution_count": 98,
   "id": "384da8df-1ad4-4b1f-be8c-aa374d2a53a7",
   "metadata": {},
   "outputs": [
    {
     "name": "stdout",
     "output_type": "stream",
     "text": [
      "addiere10: (kotlin.Int) -> kotlin.Int\n",
      "addiere10(20): 30\n",
      "addiere50: (kotlin.Int) -> kotlin.Int\n",
      "addiere50(20): 70\n"
     ]
    }
   ],
   "source": [
    "fun addiereN(m: Int): (Int) -> Int = {n -> n + m}\n",
    "val addiere10 = addiereN(10)\n",
    "println(\"addiere10: ${addiere10}\")\n",
    "println(\"addiere10(20): ${addiere10(20)}\")\n",
    "val addiere50 = addiereN(50)\n",
    "println(\"addiere50: ${addiere50}\")\n",
    "println(\"addiere50(20): ${addiere50(20)}\")"
   ]
  },
  {
   "cell_type": "markdown",
   "id": "f197ad7c-facf-4953-a70f-18fb808b0066",
   "metadata": {},
   "source": [
    "### inline-Funktionen\n",
    "Bisher wird in den Funktionen höherer Ordnung die übergebene Funktion aufgerufen. Das heißt, es muss Arbeitsspeicher reserviert, Parameter und lokale Variablen zwischengespeichert werden. Dies kann dazu führen, dass die Schnelligkeit leidet. Für dieses Problem gibt es aber eine einfache Lösung: `inline`-Funktionen. Diese sind im Grunde Funktionen höherer Ordnung, aber kopieren den Code der übergebenen Funktion an die dafür vorgesehenen Stellen. Es wird also nicht direkt die Funktion aufgerufen, sondern diese in den Funktionsrumpf der höheren Funktion integriert. Gekennzeichnet wird dies mit dem Zusatz `inline` zu Beginn des Funktionskopf."
   ]
  },
  {
   "cell_type": "code",
   "execution_count": 66,
   "id": "7c681c8d-1e1b-4b22-a781-16b59c59716b",
   "metadata": {},
   "outputs": [
    {
     "data": {
      "text/plain": [
       "35"
      ]
     },
     "execution_count": 66,
     "metadata": {},
     "output_type": "execute_result"
    }
   ],
   "source": [
    "inline fun subtrahiereInline (f1: (n: Int) -> Int, f2: (m: Int) -> Int, x: Int) : Int{\n",
    "    return f1(x) - f2(x)\n",
    "}\n",
    "\n",
    "//Im Hintergrund wird der Code von f1 und f2 in subtrahiereInline kopiert. Für diesen konkreten Anwendungsfall:\n",
    "fun subtrahiereInlineKopiert (f1: (n: Int) -> Int, f2: (m: Int) -> Int, x: Int) : Int{\n",
    "    return (x * 10) - (x * 3)\n",
    "}\n",
    "\n",
    "subtrahiereInline ( { x -> x * 10 }, { it * 3 }, 5 ) //50-15=35"
   ]
  },
  {
   "cell_type": "markdown",
   "id": "c156353b-e544-4e16-a727-c6f77e6108f4",
   "metadata": {},
   "source": [
    "### Aufgabe - Einheiten konvertieren\n",
    "Implementiere eine Funktion höherer Ordnung mit dem Namen `konvertiere`, die zwei Parameter der Klasse `String` übergeben bekommt. Die Rückgabe soll eine Funktion sein, der ein `Double`-Parameter übergeben wird und deren Rückgabetyp ebenfalls `Double` ist. In der Funktion `konvertiere` soll, anhand der übergebenen Daten, eine passende Funktion, die einen Wert der Einheit des Ersten zur Einheit des zweiten Parameter umwandelt, generieren und zurückgeben werden. Folgende Umwandlungen sollen mindestens unterstützt werden: \n",
    "* cm <-> m\n",
    "* m <-> km\n",
    "\n",
    "Falls keine Funktion für die übergebenen Einheiten generiert werden kann, soll eine Funktion zurückgegeben werden, die den Parameter unverändert zurück gibt. "
   ]
  },
  {
   "cell_type": "code",
   "execution_count": 23,
   "id": "f3b13238-260d-4580-b769-facfe90a6f59",
   "metadata": {},
   "outputs": [
    {
     "name": "stdout",
     "output_type": "stream",
     "text": [
      "Super! Alle Tests bestanden!\n"
     ]
    }
   ],
   "source": [
    "//TODO\n",
    "\n",
    "//Tests\n",
    "var fehler = 0\n",
    "if (konvertiere (\"cm\", \"m\") (100.0) != 1.0){\n",
    "    println(\"Falsch! konvertiere ('cm', 'm') (100.0): ${konvertiere (\"cm\", \"m\") (100.0)}, richtig wäre: 1.0\")\n",
    "    fehler++\n",
    "}\n",
    "if (konvertiere (\"m\", \"cm\") (42.50) != 4250.0){\n",
    "    println(\"Falsch! konvertiere ('m', 'cm') (42.50): ${konvertiere (\"m\", \"cm\") (42.50)}, richtig wäre: 4250.0\")\n",
    "    fehler++\n",
    "}\n",
    "if (konvertiere (\"m\", \"km\") (543200.0) != 543.2){\n",
    "    println(\"Falsch! konvertiere ('m', 'km') (543200.0): ${konvertiere (\"m\", \"km\") (543200.0)}, richtig wäre: 543.2\")\n",
    "    fehler++\n",
    "}\n",
    "if (konvertiere (\"km\", \"m\") (2.5) != 2500.0){\n",
    "    println(\"Falsch! konvertiere ('km', 'm') (2.5) != 2500.0: ${konvertiere (\"km\", \"m\") (2.5) != 2500.0}, richtig wäre: 2500.0\")\n",
    "    fehler++\n",
    "}\n",
    "if (konvertiere (\"m\", \"dm\") (20.2) != 20.2){\n",
    "    println(\"Falsch! konvertiere ('cm', 'm') (20.2): ${konvertiere (\"cm\", \"m\") (20.2)}, richtig wäre: 20.2\")\n",
    "    fehler++\n",
    "}\n",
    "\n",
    "if(fehler == 0)\n",
    "    println(\"Super! Alle Tests bestanden!\")\n",
    "else\n",
    "    println(\"Bei $fehler Tests kamen Fehler auf.\")"
   ]
  },
  {
   "cell_type": "code",
   "execution_count": 24,
   "id": "ba1c8b1b-332d-42ad-b9ae-a9917b517d9c",
   "metadata": {},
   "outputs": [
    {
     "name": "stdout",
     "output_type": "stream",
     "text": [
      "Super! Alle Tests bestanden!\n"
     ]
    }
   ],
   "source": [
    "//Lösung\n",
    "fun konvertiere (von: String, nach: String): (Double) -> Double {\n",
    "    return when {\n",
    "        von == \"cm\" && nach == \"m\" -> { n -> n / 100 }\n",
    "        von == \"m\" && nach == \"cm\" -> { n -> n * 100 }\n",
    "        von == \"m\" && nach == \"km\" -> { n -> n / 1000 }\n",
    "        von == \"km\" && nach == \"m\" -> { n -> n * 1000 }\n",
    "        else -> {n -> n}\n",
    "    }\n",
    "} \n",
    "\n",
    "//Tests\n",
    "var fehler = 0\n",
    "if (konvertiere (\"cm\", \"m\") (100.0) != 1.0){\n",
    "    println(\"Falsch! konvertiere ('cm', 'm') (100.0): ${konvertiere (\"cm\", \"m\") (100.0)}, richtig wäre: 1.0\")\n",
    "    fehler++\n",
    "}\n",
    "if (konvertiere (\"m\", \"cm\") (42.50) != 4250.0){\n",
    "    println(\"Falsch! konvertiere ('m', 'cm') (42.50): ${konvertiere (\"m\", \"cm\") (42.50)}, richtig wäre: 4250.0\")\n",
    "    fehler++\n",
    "}\n",
    "if (konvertiere (\"m\", \"km\") (543200.0) != 543.2){\n",
    "    println(\"Falsch! konvertiere ('m', 'km') (543200.0): ${konvertiere (\"m\", \"km\") (543200.0)}, richtig wäre: 543.2\")\n",
    "    fehler++\n",
    "}\n",
    "if (konvertiere (\"km\", \"m\") (2.5) != 2500.0){\n",
    "    println(\"Falsch! konvertiere ('km', 'm') (2.5) != 2500.0: ${konvertiere (\"km\", \"m\") (2.5) != 2500.0}, richtig wäre: 2500.0\")\n",
    "    fehler++\n",
    "}\n",
    "if (konvertiere (\"m\", \"dm\") (20.2) != 20.2){\n",
    "    println(\"Falsch! konvertiere ('cm', 'm') (20.2): ${konvertiere (\"cm\", \"m\") (20.2)}, richtig wäre: 20.2\")\n",
    "    fehler++\n",
    "}\n",
    "\n",
    "if(fehler == 0)\n",
    "    println(\"Super! Alle Tests bestanden!\")\n",
    "else\n",
    "    println(\"Bei $fehler Tests kamen Fehler auf.\")"
   ]
  },
  {
   "cell_type": "markdown",
   "id": "4d33b0c8-a792-4b09-ade2-1fd91090d921",
   "metadata": {},
   "source": [
    "<img src=\"images/Zusammenfassung.png\" style=\"margin: 20px auto 20px 0px\"/>\n",
    "<h2 style=\"display:none\">Zusammenfassung</h2>\n",
    "\n",
    "In diesem zweiten Abschnitt wurde die funktionale Programmierung in Kotlin, mit den drei großen Themenblöckem Umgang mit <code>null</code>, Lambda-Ausdrücke und Funktionen höherer Ordnung, behandelt. Du solltest jetzt in der Lage sein:\n",
    "<ul>\n",
    "    <li>die Unterschiede zwischen einer nullable und nonnullable Variable aufzuzeigen.</li>\n",
    "    <li>nullable Datentypen in deinem Code zu verwenden.</li>\n",
    "    <li>das Konzept der Lambda-Ausdrücke zu nennen.</li>\n",
    "    <li>korrekte Lambda-Ausdrücke zu formulieren und diese an einen gegebenen Anwendungsfall anzupassen.</li>\n",
    "    <li>Operationen auf Datenstrukturen mit mehreren passenden Lambda-Ausdrücken auszuführen.</li>\n",
    "    <li>Funktionen höherer Ordnung zu erkennen und diese zu analysieren.</li>\n",
    "</ul>\n",
    "\n",
    "Das <a href=\"Abschnitt2-Zusammenfassung.ipynb\">dazugehörige Notebook</a> liefert eine Zusammenfassung zu dem gelernten Stoff. Für Dich steht nun die zweite Übung an, die diesen Abschnitt begleitet. Im nächste Abschnitt wird die objektorientierte Programmierung näher betrachtet."
   ]
  }
 ],
 "metadata": {
  "kernelspec": {
   "display_name": "Kotlin",
   "language": "kotlin",
   "name": "kotlin"
  },
  "language_info": {
   "codemirror_mode": "text/x-kotlin",
   "file_extension": ".kt",
   "mimetype": "text/x-kotlin",
   "name": "kotlin",
   "nbconvert_exporter": "",
   "pygments_lexer": "kotlin",
   "version": "1.5.20-dev-5817"
  }
 },
 "nbformat": 4,
 "nbformat_minor": 5
}
