{
 "cells": [
  {
   "cell_type": "markdown",
   "id": "matched-governor",
   "metadata": {},
   "source": [
    "<img src=\"images/Abschnitt2.png\" style=\"margin-left: auto; margin-right: auto; display: block; margin-bottom: 20px\"/>\n",
    "<h1 style=\"display:none\">Abschnitt 2 - Funktionale Programmierung</h1>\n",
    "\n",
    "<img src=\"images/Einführung.png\" style=\"margin: 20px auto 10px 0px\"/>\n",
    "<h2 style=\"display:none\">Einführung</h2>\n",
    "<p>Nachdem im ersten Abschnitt die Grundlagen von Kotlin erlernt wurden, wird nun auf die zwei bereits bekannte Programmierparadigmen eingegangen. Während in Abschnitt 3 die objektorientierte Programmierung besprochen wird, soll es in diesem Abschnitt um die funktionale Programmierung gehen.</p>\n",
    "<p>In der funktionalen Programmierung, welche sich aus der Mathematik entwickelt hat, stehen die Funktionen in dem Rampenlicht. Diese werden als Relation zwischen Ein- und Ausgabe angesehen. Objekte oder Zustände sind verboten. Durch die klare Abgrenzung von anderem Code und Modularität sind diese Funktionen besonders einfach zu validieren. Abgesehen von der Eingabe gibt es in der Regel keine weiteren zu beachtenden Einflussfaktoren oder Seiteneffekte. Diese Eigenschaft hilft bei der Erstellung eines Kontrollflusses, da jede Funktion nur sein eigenes Ergebnis berechnet, welches nicht außerhalb von anderen Funktionen beeinflusst werden. Jedes Modul ist eigenständig. Wichtige Konzepte sind die bereits kennengelernten unveränderlichen Variablen und Funktionen. Hinzu kommen zwei weitere Aspekte: Lambdas, die auf dem Lambda-Kalkül beruhen und ein Objekttyp darstellt, der eine Funktion enthält, und Funktionen höherer Ordnung, die Lambdas als Parameter und Rückgabe verwenden.</p>\n",
    "<p>Bevor ab Lektion 2 die funktionalen Seiten von Kotlin präsentiert werden, müssen wir uns zunächst um den Umgang mit <code>null</code> kümmern. Bis jetzt konnten alle Variablen diesen Wert nicht annehmen, da das in Kotlin explizit angegeben und auch behandelt werden muss. Der Grund für diese Änderung ist die berühmt berüchtigte <code>NullPointerException</code>, die eine der intransparentesten Fehlermeldungen ist. Deswegen wurde Kotlin zusätzlich um einige Funktionalitäten erweitert, die einen ungewollten Zugriff auf <code>null</code> vorbeugen sollen.</p>\n",
    "\n",
    "<img src=\"images/Gliederung.png\" style=\"margin: 20px auto 10px 0px\"/>\n",
    "<h3 style=\"display:none\">Gliederung</h3>\n",
    "Dieser Abschnitt ist wie folgt strukturiert:\n",
    "<ol>\n",
    "    <li>null oder nicht null</li>\n",
    "    <li>Lambda-Ausdrücke</li>\n",
    "    <li>Erweiterte Lambda-Ausdrücke</li>\n",
    "    <li>reciever-Funktionen</li>\n",
    "    <li>Lambda-Ausdrücke in Verbindung mit ausgewählten Methoden und Datenstrukturen</li>\n",
    "    <li>Verbindung von Lambda-Ausdrücken</li>\n",
    "    <li>Funktionen höherer Ordnung</li>\n",
    "</ol>\n",
    "\n",
    "<img src=\"images/Lernziele.png\" style=\"margin: 20px auto 10px 0px\"/>\n",
    "<h3 style=\"display:none\">Lernziele</h3>\n",
    "Nach diesem Abschnitt sollst Du in der Lage sein:\n",
    "<ul>\n",
    "    <li>die Unterschiede zwischen einer nullable und nonnullable Variable aufzuzeigen.</li>\n",
    "    <li>nullable Datentypen in deinem Code zu verwenden.</li>\n",
    "    <li>das Konzept der Lambda-Ausdrücke zu nennen.</li>\n",
    "    <li>korrekte Lambda-Ausdrücke zu formulieren und diese an einen gegebenen Anwendungsfall anzupassen.</li>\n",
    "    <li>Operationen auf Datenstrukturen mit mehreren passenden Lambda-Ausdrücken auszuführen.</li>\n",
    "    <li>Funktionen höherer Ordnung zu erkennen und ihre Aufgabe zu analysieren.</li>\n",
    "</ul>  "
   ]
  },
  {
   "cell_type": "markdown",
   "id": "discrete-pottery",
   "metadata": {},
   "source": [
    "## Lektion 1 - null oder nicht null?\n",
    "Ist eine Variable `null`, so ist diese mit keinem Wert belegt. Wird dann der Wert einer solchen Variable abgefragt, kommt es zu der bekannten Fehlermeldung `NullPointerException`. Der Grund ist dabei meist nicht direkt erkenntbar, da er irgendwo vor der Stelle stattgefunden hat. Dies führt zu langwierigen und nervigen Debugging. Das erkannte auch Tony Hoare, der Erfinder von `null`. 2009 nannte er seine Erfindung den \"[...] billion-dollar mistake\" ([Quelle](https://qconlondon.com/london-2009/qconlondon.com/london-2009/speaker/Tony+Hoare.html)). Den Ersteller:innen von Kotlin war dies bewusst und entschlossen sich dazu, Variablen in 2 weiter Typen zu unterteilen: \"nullable\" und \"non-nullable\" Variablen. Dadurch wurden die `NullPointerExceptions` zwar nicht überflüssig, sondern zu Fehlern, die bei der Kompilierung und nicht bei der Ausführung auftreten. Dies ist möglich, da bei der Deklarierung der Variable angegeben werden muss, ob diese den Wert `null` annehmen kann. Kenntlich gemacht wird das durch ein `?`. Bei der Deklarierung einer \"nullable\"-Variable muss der Datentyp angewendet werden."
   ]
  },
  {
   "cell_type": "code",
   "execution_count": 1,
   "id": "hired-marble",
   "metadata": {
    "execution": {
     "iopub.execute_input": "2021-04-18T14:36+0200",
     "iopub.status.busy": "2021-04-18T14:36+0200",
     "iopub.status.idle": "2021-04-18T14:36+0200",
     "shell.execute_reply": "2021-04-18T14:36+0200",
     "shell.execute_reply.started": "2021-04-18T14:36+0200"
    }
   },
   "outputs": [
    {
     "name": "stdout",
     "output_type": "stream",
     "text": [
      "v1: 0\n",
      "v2: null\n"
     ]
    }
   ],
   "source": [
    "var v1: Int = 0 //v1 kann nicht null werden\n",
    "//v1 = null -> Error: Null can not be a value of a non-null type Int\n",
    "println(\"v1: $v1\")\n",
    "\n",
    "var v2: Int? = 0 //v2 kann null werden\n",
    "v2 = null\n",
    "println(\"v2: $v2\")\n",
    "\n",
    "val v3 = null //Datentyp: Nothing?"
   ]
  },
  {
   "cell_type": "markdown",
   "id": "twelve-clerk",
   "metadata": {},
   "source": [
    "Im Code müssen dann alle Zugriffe auf eine `null`-Variable abgesichert sein. Das heißt es muss vorher geprüft werden, ob die Variable `null` ist oder nicht."
   ]
  },
  {
   "cell_type": "code",
   "execution_count": 2,
   "id": "complicated-mouse",
   "metadata": {
    "execution": {
     "iopub.execute_input": "2021-04-18T14:36+0200",
     "iopub.status.busy": "2021-04-18T14:36+0200",
     "iopub.status.idle": "2021-04-18T14:37+0200",
     "shell.execute_reply": "2021-04-18T14:37+0200",
     "shell.execute_reply.started": "2021-04-18T14:36+0200"
    }
   },
   "outputs": [
    {
     "name": "stdout",
     "output_type": "stream",
     "text": [
      "v1: Kotlin, Länge: 6; v2: null, Länge: -1; \n"
     ]
    }
   ],
   "source": [
    "val v1: String? = \"Kotlin\"\n",
    "//val vsize1 = v1.length -> Error, da v1 null sein könnte und es nicht vorher überprüft wurde\n",
    "val size1 = if (v1 != null)\n",
    "            v1.length\n",
    "         else\n",
    "            -1\n",
    "\n",
    "val v2: String? = null\n",
    "val size2 = if (v2 != null)\n",
    "            v2.length\n",
    "         else\n",
    "            -1\n",
    "println(\"v1: $v1, Länge: $size1; v2: $v2, Länge: $size2; \")"
   ]
  },
  {
   "cell_type": "markdown",
   "id": "distinct-craps",
   "metadata": {},
   "source": [
    "### Umsetzung im Java Byte Code\n",
    "Bekanntlich basiert Kotlin auf der JVM und ist somit mit Java kompatibel. In Java wird aber nicht zwischen nullable- und nonnullable-Variablen unterschiedenen. Deswegen werden Anmerkungen zu jeder Variable oder Methode hinzugefügt, die definieren, ob `null` zugelassen ist oder nicht. Diese werden zur Kompilierzeit überprüft. Also ist während der Ausführung kein Unterschied zwischen den beiden Typen festzustellen. Dazu ein Beispiel:\n",
    "<table style=\"font-size: 16px\">\n",
    "<thead>\n",
    "  <tr>\n",
    "    <th>Kotlin</th>\n",
    "    <th>Java Bytecode</th>\n",
    "  </tr>\n",
    "</thead>\n",
    "<tbody>\n",
    "  <tr>\n",
    "    <td><code>val notNullable: Int = 0<br>val nullable: Int? = 0</code></td>\n",
    "    <td><code>@NotNull<br />static final int notNullable = 0;<br />@Nullable<br />static final int nullable = 0;</code></td>\n",
    "  </tr>\n",
    "</tbody>\n",
    "</table>"
   ]
  },
  {
   "cell_type": "markdown",
   "id": "funky-coast",
   "metadata": {},
   "source": [
    "### Sicherer Zugriff\n",
    "Jedes Mal vor einem Zugriff `null` mit einer Verzweigung zu prüfen kann lästig und platzraubend sein. Deswegen liefert Kotlin einen sogenannten sicheren Zugriff mit. Dieser kann mit `?.` benutzt werden. Im Hintergrund wird dann geprüft, ob die Variable `null` ist. Falls das der Fall sein sollte, wird `null` zurückgegeben. Ansonsten wird die Anweisung ausgeführt."
   ]
  },
  {
   "cell_type": "code",
   "execution_count": 3,
   "id": "uniform-congress",
   "metadata": {
    "execution": {
     "iopub.execute_input": "2021-04-18T14:37+0200",
     "iopub.status.busy": "2021-04-18T14:37+0200",
     "iopub.status.idle": "2021-04-18T14:37+0200",
     "shell.execute_reply": "2021-04-18T14:37+0200",
     "shell.execute_reply.started": "2021-04-18T14:37+0200"
    }
   },
   "outputs": [
    {
     "name": "stdout",
     "output_type": "stream",
     "text": [
      "v1: Kotlin, Länge: 6; v2: null, Länge: null; \n"
     ]
    }
   ],
   "source": [
    "val v1: String? = \"Kotlin\"\n",
    "val size1 = v1?.length\n",
    "\n",
    "val v2: String? = null\n",
    "val size2 = v2?.length\n",
    "\n",
    "println(\"v1: $v1, Länge: $size1; v2: $v2, Länge: $size2; \")"
   ]
  },
  {
   "cell_type": "markdown",
   "id": "working-abortion",
   "metadata": {},
   "source": [
    "_Quiz: Welchen Typ hat die Variable size1_\n",
    "\n",
    "Sichere Zugriffe können auch aneinander gehangen werden. Die Anweisung wird nur ausgeführt, wenn keine Variable den Wert `null` besitzt.\n",
    "```kotlin\n",
    "kurs?.person1?.name?.length\n",
    "```"
   ]
  },
  {
   "cell_type": "markdown",
   "id": "ordered-pride",
   "metadata": {},
   "source": [
    "### `let`\n",
    "Soll eine Operation nur ausgeführt werden, wenn der Wert nicht `null` ist, kann `let` zusammen mit einem sicheren Zugriff verwendet werden. Dafür wird eine Lambda-Operation benötigt, die in [Lektion 2](#Lektion-2---Lambda-Ausdrücke) näher betrachtet werden. In dem Lamda-Ausdruck kann auf den Wert mit `it` zugegriffen werden."
   ]
  },
  {
   "cell_type": "code",
   "execution_count": 4,
   "id": "protected-settle",
   "metadata": {
    "execution": {
     "iopub.execute_input": "2021-04-18T14:37+0200",
     "iopub.status.busy": "2021-04-18T14:37+0200",
     "iopub.status.idle": "2021-04-18T14:37+0200",
     "shell.execute_reply": "2021-04-18T14:37+0200",
     "shell.execute_reply.started": "2021-04-18T14:37+0200"
    }
   },
   "outputs": [
    {
     "name": "stdout",
     "output_type": "stream",
     "text": [
      "Java\n",
      "Kotlin\n",
      "Lua\n",
      "C++\n"
     ]
    }
   ],
   "source": [
    "val liste = listOf(\"Java\", null, \"Kotlin\", \"Lua\", null, \"C++\")\n",
    "for (i in 0 until liste.size){\n",
    "    liste[i]?.let { println(it) }\n",
    "}"
   ]
  },
  {
   "cell_type": "markdown",
   "id": "sustainable-thread",
   "metadata": {},
   "source": [
    "#### Aufgabe\n",
    "- Schreiben Sie eine Methode `initArray`, die ein leeres Array `array` der Länge 5 mit null initialisiert und zurückgibt.\n",
    "- Schreiben Sie eine weitere Methode `fillArray`, die ein Array übergeben bekommt. Diese soll die Elemente des Arrays zu je einer Wahrscheinlichkeit von 50% mit zufälligen Zahlen zwischen 1 und 20 füllen.\n",
    "- Schreiben Sie eine dritte Methode `printArray`, die nur die gefüllten Einträge des Arrays ausgibt.\n",
    "- Testen Sie alle 3 Methoden aus."
   ]
  },
  {
   "cell_type": "code",
   "execution_count": 5,
   "id": "damaged-aluminum",
   "metadata": {
    "execution": {
     "iopub.execute_input": "2021-04-18T14:37+0200",
     "iopub.status.busy": "2021-04-18T14:37+0200",
     "iopub.status.idle": "2021-04-18T14:37+0200",
     "shell.execute_reply": "2021-04-18T14:37+0200",
     "shell.execute_reply.started": "2021-04-18T14:37+0200"
    }
   },
   "outputs": [
    {
     "name": "stdout",
     "output_type": "stream",
     "text": [
      "2 "
     ]
    }
   ],
   "source": [
    "//Lösung\n",
    "\n",
    "fun initArray() = Array<Int?>(5) { null }\n",
    "\n",
    "fun fillArray(array: Array<Int?>): Array<Int?> {\n",
    "    for (i in 0 until array.size){\n",
    "        if ((0..2).random() == 1){\n",
    "            array[i] = (0..20).random()\n",
    "        }\n",
    "    }\n",
    "    return array\n",
    "}\n",
    "\n",
    "fun printArray(array: Array<Int?>){\n",
    "    for(i in 0 until array.size){\n",
    "        array[i]?.let {print(\"$it \")}\n",
    "    }\n",
    "}\n",
    "\n",
    "printArray(fillArray(initArray()))"
   ]
  },
  {
   "cell_type": "markdown",
   "id": "gross-compatibility",
   "metadata": {},
   "source": [
    "### Elvis Operator\n",
    "Mit `?.` wurde bereits eine Möglichkeit des sicheren Zugriffs vorgestellt. Jedoch wird, falls die Variable `null` ist, `null` zurückgeben. Dies ist nicht immer sinnvoll. Wenn dann ein bestimmter Wert zurückgegeben werden soll, ist der Elvis Operator `?:` zu bevorzugen. Es ist äquivalent:\n",
    "```kotlin\n",
    "    val v: String? = ?\n",
    "    \n",
    "    //Möglichkeit 1\n",
    "    val size = if (v != null)\n",
    "                    v.length\n",
    "               else\n",
    "                    -1\n",
    "\n",
    "    //Möglichkeit 2\n",
    "    val size = v?.length ?: -1\n",
    "```\n",
    "\n",
    "Falls die linke Seite von `?:` `null` ist, wird der Wert rechts zurückgegeben. Ansonsten wird die Anweisung ausgeführt. Der Elvis Operator kann auch in Verbindung mit `return` oder `throw` verwendet werden."
   ]
  },
  {
   "cell_type": "code",
   "execution_count": 6,
   "id": "existing-biodiversity",
   "metadata": {
    "execution": {
     "iopub.execute_input": "2021-04-18T14:37+0200",
     "iopub.status.busy": "2021-04-18T14:37+0200",
     "iopub.status.idle": "2021-04-18T14:37+0200",
     "shell.execute_reply": "2021-04-18T14:37+0200",
     "shell.execute_reply.started": "2021-04-18T14:37+0200"
    }
   },
   "outputs": [
    {
     "name": "stdout",
     "output_type": "stream",
     "text": [
      "foo(null): -1\n",
      "foo('Kotlin'): 6\n"
     ]
    }
   ],
   "source": [
    "//Besseres Beispiel\n",
    "\n",
    "fun foo (a: String?): Int {\n",
    "    val l = a?.length ?: return -1\n",
    "    return l\n",
    "}\n",
    "println(\"foo(null): ${foo(null)}\")\n",
    "println(\"foo('Kotlin'): ${foo(\"Kotlin\")}\")"
   ]
  },
  {
   "cell_type": "markdown",
   "id": "helpful-smart",
   "metadata": {},
   "source": [
    "### `!!` Operator\n",
    "Jedoch kann auch mit `NullPointerExceptions` gearbeitet werden. Mit `!!` wird die Variable in eine `non-nullable`-Variable umgewandelt. Sollte bei diesem Vorgang die Variable `null` sein, wird eine `NullPointerException` geworfen."
   ]
  },
  {
   "cell_type": "code",
   "execution_count": 7,
   "id": "technical-bracelet",
   "metadata": {
    "execution": {
     "iopub.execute_input": "2021-04-18T14:37+0200",
     "iopub.status.busy": "2021-04-18T14:37+0200",
     "iopub.status.idle": "2021-04-18T14:37+0200",
     "shell.execute_reply": "2021-04-18T14:37+0200"
    }
   },
   "outputs": [
    {
     "name": "stdout",
     "output_type": "stream",
     "text": [
      "6\n"
     ]
    },
    {
     "name": "stderr",
     "output_type": "stream",
     "text": [
      "java.lang.NullPointerException\n",
      "Line_10_jupyter.<init>(Line_10.jupyter.kts:5)\n",
      "java.base/jdk.internal.reflect.NativeConstructorAccessorImpl.newInstance0(Native Method)\n",
      "java.base/jdk.internal.reflect.NativeConstructorAccessorImpl.newInstance(NativeConstructorAccessorImpl.java:64)\n",
      "java.base/jdk.internal.reflect.DelegatingConstructorAccessorImpl.newInstance(DelegatingConstructorAccessorImpl.java:45)\n",
      "java.base/java.lang.reflect.Constructor.newInstanceWithCaller(Constructor.java:500)\n",
      "java.base/java.lang.reflect.Constructor.newInstance(Constructor.java:481)\n",
      "kotlin.script.experimental.jvm.BasicJvmScriptEvaluator.evalWithConfigAndOtherScriptsResults(BasicJvmScriptEvaluator.kt:96)\n",
      "kotlin.script.experimental.jvm.BasicJvmScriptEvaluator.invoke$suspendImpl(BasicJvmScriptEvaluator.kt:41)\n",
      "kotlin.script.experimental.jvm.BasicJvmScriptEvaluator.invoke(BasicJvmScriptEvaluator.kt)\n",
      "kotlin.script.experimental.jvm.BasicJvmReplEvaluator.eval(BasicJvmReplEvaluator.kt:51)\n",
      "org.jetbrains.kotlin.jupyter.ReplForJupyterImpl$doEval$resultWithDiagnostics$1.invokeSuspend(repl.kt:604)\n",
      "kotlin.coroutines.jvm.internal.BaseContinuationImpl.resumeWith(ContinuationImpl.kt:33)\n",
      "kotlinx.coroutines.DispatchedTask.run(DispatchedTask.kt:56)\n",
      "kotlinx.coroutines.EventLoopImplBase.processNextEvent(EventLoop.common.kt:274)\n",
      "kotlinx.coroutines.BlockingCoroutine.joinBlocking(Builders.kt:84)\n",
      "kotlinx.coroutines.BuildersKt__BuildersKt.runBlocking(Builders.kt:59)\n",
      "kotlinx.coroutines.BuildersKt.runBlocking(Unknown Source)\n",
      "kotlinx.coroutines.BuildersKt__BuildersKt.runBlocking$default(Builders.kt:38)\n",
      "kotlinx.coroutines.BuildersKt.runBlocking$default(Unknown Source)\n",
      "org.jetbrains.kotlin.jupyter.ReplForJupyterImpl.doEval(repl.kt:604)\n",
      "org.jetbrains.kotlin.jupyter.ReplForJupyterImpl.eval(repl.kt:434)\n",
      "org.jetbrains.kotlin.jupyter.ProtocolKt$shellMessagesHandler$res$1.invoke(protocol.kt:248)\n",
      "org.jetbrains.kotlin.jupyter.ProtocolKt$shellMessagesHandler$res$1.invoke(protocol.kt)\n",
      "org.jetbrains.kotlin.jupyter.ProtocolKt.evalWithIO(protocol.kt:400)\n",
      "org.jetbrains.kotlin.jupyter.ProtocolKt.shellMessagesHandler(protocol.kt:247)\n",
      "org.jetbrains.kotlin.jupyter.IkotlinKt.kernelServer(ikotlin.kt:127)\n",
      "org.jetbrains.kotlin.jupyter.IkotlinKt.kernelServer$default(ikotlin.kt:95)\n",
      "org.jetbrains.kotlin.jupyter.IkotlinKt.main(ikotlin.kt:72)\n"
     ]
    }
   ],
   "source": [
    "val v1: String? = \"Kotlin\"\n",
    "val v2: String? = null\n",
    "\n",
    "println(v1?.length)\n",
    "println(v2!!.length)"
   ]
  },
  {
   "cell_type": "markdown",
   "id": "sized-channels",
   "metadata": {},
   "source": [
    "#### Aufgabe\n",
    "Schreiben Sie eine Methode _TODO_ zwei mal. Das erste Mal unter Verwendung des Elvis-Operatos. Bei der zweiten Implementierung soll der `!!`-Operator verwendet werden."
   ]
  },
  {
   "cell_type": "markdown",
   "id": "optical-entry",
   "metadata": {},
   "source": [
    "### Safe Casts\n",
    "Die in Abschnitt 1 kennengelernte Typumwandlung kann noch weiter vereinfacht werden. Durch einen \"safe cast\" ist keine Überprüfung durch `is` mehr nötig. Das dafür benötigte Schlüsselwort ist `as?`. Sollte die Typumwandlung nicht gehen, wird der Ausdruck `null`. Ansonsten wird die Variable zurückgegeben. Eine analoge `if`-Verzweigung sieht folgendermaßen aus:\n",
    "```kotlin\n",
    "val string = if (any is String) a else null\n",
    "```"
   ]
  },
  {
   "cell_type": "code",
   "execution_count": 8,
   "id": "moral-swimming",
   "metadata": {
    "execution": {
     "iopub.execute_input": "2021-04-18T14:37+0200",
     "iopub.status.busy": "2021-04-18T14:37+0200",
     "iopub.status.idle": "2021-04-18T14:37+0200",
     "shell.execute_reply": "2021-04-18T14:37+0200",
     "shell.execute_reply.started": "2021-04-18T14:37+0200"
    }
   },
   "outputs": [
    {
     "name": "stdout",
     "output_type": "stream",
     "text": [
      "1\n",
      "null\n"
     ]
    }
   ],
   "source": [
    "val any: Any? = 0\n",
    "//Wenn Int\n",
    "println((any as? Int)?.inc())\n",
    "//Wenn String\n",
    "println((any as? String)?.toUpperCase())"
   ]
  },
  {
   "cell_type": "markdown",
   "id": "lesbian-commerce",
   "metadata": {},
   "source": [
    "### Datenstrukturen\n",
    "Auch können Datenstrukturen mit nullable Elementen gefüllt werden. Dafür muss bei der Deklarierung ein nullable Datentyp angegeben werden."
   ]
  },
  {
   "cell_type": "code",
   "execution_count": 9,
   "id": "together-absolute",
   "metadata": {
    "execution": {
     "iopub.execute_input": "2021-04-18T14:37+0200",
     "iopub.status.busy": "2021-04-18T14:37+0200",
     "iopub.status.idle": "2021-04-18T14:37+0200",
     "shell.execute_reply": "2021-04-18T14:37+0200",
     "shell.execute_reply.started": "2021-04-18T14:37+0200"
    }
   },
   "outputs": [
    {
     "name": "stdout",
     "output_type": "stream",
     "text": [
      "liste1: [null, null, null, null, null]\n",
      "liste2: [0, 1, 2, 3, 4]\n",
      "liste3: [0, 1, 2, 3, 4, null]\n",
      "liste4: [1, 4, null, 1, 8, null]\n"
     ]
    }
   ],
   "source": [
    "val liste1 = List<Int?>(5) {null}\n",
    "println(\"liste1: $liste1\")\n",
    "\n",
    "val liste2 = MutableList<Int>(5) {it}\n",
    "//liste2.add(null) -> Error: Null can not be a value of a non-null type Int\n",
    "println(\"liste2: $liste2\")\n",
    "\n",
    "val liste3 = MutableList<Int?>(5) {it}\n",
    "liste3.add(null) \n",
    "println(\"liste3: $liste3\")\n",
    "\n",
    "val liste4 = listOf(1,4,null,1,8,null) //Datentyp: Int?\n",
    "println(\"liste4: $liste4\")"
   ]
  },
  {
   "cell_type": "markdown",
   "id": "broad-equity",
   "metadata": {},
   "source": [
    "Eine Liste mit `null` kann in eine ohne `null` umgewandelt werden. Dies kann mit der Methode `filterNotNull()` bewerkstelligt werden."
   ]
  },
  {
   "cell_type": "code",
   "execution_count": 10,
   "id": "square-helena",
   "metadata": {
    "execution": {
     "iopub.execute_input": "2021-04-18T14:37+0200",
     "iopub.status.busy": "2021-04-18T14:37+0200",
     "iopub.status.idle": "2021-04-18T14:37+0200",
     "shell.execute_reply": "2021-04-18T14:37+0200",
     "shell.execute_reply.started": "2021-04-18T14:37+0200"
    }
   },
   "outputs": [
    {
     "name": "stdout",
     "output_type": "stream",
     "text": [
      "listeMitNull: [1, 4, null, 1, 8, null]\n",
      "listeOhneNull: [1, 4, 1, 8]\n"
     ]
    }
   ],
   "source": [
    "val listeMitNull = listOf(1,4,null,1,8,null)\n",
    "val listeOhneNull = listeMitNull.filterNotNull()\n",
    "println(\"listeMitNull: $listeMitNull\")\n",
    "println(\"listeOhneNull: $listeOhneNull\")"
   ]
  },
  {
   "cell_type": "markdown",
   "id": "forty-trouble",
   "metadata": {
    "tags": []
   },
   "source": [
    "## Lektion 2 - Lambda-Ausdrücke"
   ]
  },
  {
   "cell_type": "markdown",
   "id": "typical-jefferson",
   "metadata": {},
   "source": [
    "### Einführung\n",
    "So genannte Lambda-Ausdrücke sind ein wichtiger Teil der funktionalen Programmierung in Kotlin. Eigenschaften dieses Programmierparadigmas sind:\n",
    "<ol>\n",
    "<li>Computerprogramme werden als Funktionen verstanden, die für eine Eingabe eine Ausgabe liefern, die nur von dieser abhängig ist.</li>\n",
    "<li>Funktionen werden nicht als Abfolge von Anweisungen dargestellt, sondern als ineinander verschachtelte Funktionsaufrufe.</li>\n",
    "<li>Funktionen sind gegenüber allen anderen Datenobjekten gleichberechtigt. Das bedeutet, dass sie als Parameter in Funktionen eingehen dürfen und ebenso als Berechnungsergebnisse aus Funktionen hervorgehen können. Insbesondere können Funktionen wie andere Datenobjekte zur Laufzeit erstellt werden oder entfallen.</li>\n",
    "<li>Eine Funktion kann auf Variablen Bezug nehmen, die dem Kontext angehören, in dem ihre Erstellung erfolgt ist. Dies kann sie auch dann noch tun, wenn sie den Kontext verlassen hat. Die Belegung der Variablen zum Zeitpunkt des Verlassens dieses Kontextes wird dann innerhalb dieser Funktion eingefroren. Eine so entstandene Funktion heißt Closure und die eingefrorenen Variablenbelegungen heißen Closure-Variablen.</li>\n",
    "<li>Funktionsdefinitionen können ohne explizite Namensgebung literal in der Stellung eines Funktionssymbols verwendet werden. Solche Funktionen heißen anonym und werden oft salopp „Lambdas“ genannt.</li>\n",
    "</ol>\n",
    "\n",
    "[Quelle](https://de.wikipedia.org/wiki/Funktionale_Programmierung#Definition)<br>\n",
    "Kotlin versteht sich selbst nicht als eine funktionale Programmiersprache. Da es auf der JVM aufbaut, wird der erste Gedanke zu Kotlin eher an die objektorientierte Seite denken. Jedoch wurden auch von den Entwickler:innen funktionale Aspekte eingebracht. So werden Funktionen als eigener _Datentyp_ angesehen. Sie können übergeben, zurückgegeben und auch in Datenstrukturen gespeichert werden.\n",
    "In dieser Lektion wird es aber vor Allem um Lambda-Ausdrücke gehen. Mit diesen ist es möglich in Verbindung mit speziellen Methoden Anweisungen bis hin zu ganzen Methoden auf Datenstrukturen anzuwenden. Dadurch enfällt die Verwendung von Schleifen. Ein solcher Ansatz hat den Vorteil, dass er sowohl eleganter als auch effizienter als die explizite Verwendung von Schleifen ist. Aber im Gegenzug kann es manchmal zu Geschwindigkeitseinbußen kommen.\n",
    "\n",
    "### Erste Schritte mit Lambda\n",
    "Wenn noch keine Erfahrungen in funktionaler Programmierung erlangt wurden, ist es sehr wahrscheinlich, dass man bei _Lambda_ zuerst an λ aus der Mathematik denkt. Aber keine Angst, damit hat es nichts zutun. In der funktionalen Programmierung sind Lambdas (oder auch Closures) vereinfachte Methoden, welche meist auf Datenstrukturen angewendet werden. Jedoch wird zusätzlich bei Datenstrukturen eine mitgelieferte Methode benötoigt, die den Lambda-Ausdruck anwenden kann.<br>Schauen wir uns dazu ein einführendes Beispiel an. In diesem sollen alle Elemente einer Liste mit 5 addiert werden. Zuerst die objektorientierte Lösung:"
   ]
  },
  {
   "cell_type": "code",
   "execution_count": 11,
   "id": "worst-convergence",
   "metadata": {
    "execution": {
     "iopub.execute_input": "2021-04-18T14:37+0200",
     "iopub.status.busy": "2021-04-18T14:37+0200",
     "iopub.status.idle": "2021-04-18T14:37+0200",
     "shell.execute_reply": "2021-04-18T14:37+0200",
     "shell.execute_reply.started": "2021-04-18T14:37+0200"
    }
   },
   "outputs": [
    {
     "name": "stdout",
     "output_type": "stream",
     "text": [
      "Vorher: [0, 1, 2, 3, 4, 5, 6, 7, 8, 9, 10, 11, 12, 13, 14, 15, 16, 17, 18, 19]\n",
      "Nachher: [5, 6, 7, 8, 9, 10, 11, 12, 13, 14, 15, 16, 17, 18, 19, 20, 21, 22, 23, 24]\n"
     ]
    }
   ],
   "source": [
    "val liste = MutableList(20) { it }\n",
    "println(\"Vorher: $liste\")\n",
    "for (i in 0 until liste.size){\n",
    "    liste[i] += 5\n",
    "}\n",
    "println(\"Nachher: $liste\")"
   ]
  },
  {
   "cell_type": "markdown",
   "id": "phantom-kruger",
   "metadata": {},
   "source": [
    "Für die funktionale Lösung wird ein Lambda-Ausdruck und eine Methode, die diesen auf der Liste anwendet, benötigt. Kümmern wir uns zuerst um die Methode. Wenn eine Methode auf jedes Element einer Liste angewendet werden soll, kommt `map` zum Einsatz. Sie gibt eine Datenstruktur (in diesem Fall eine Liste) zurück, bei der eine Methode (genauer ein Lambda-Ausdruck) auf jedes Element angewendet wurde. Der Lambda-Ausdruck muss `map` als Parameter übergeben werden.<br>\n",
    "Ein Lambda wird von geschweiften Klammern ummantelt. Im Inneren wird eine Funktion in einer besonderen Schreibweise definiert. Auf der linken Seite werden die Parameter mit Name und Datentyp angegeben. Die rechte Seite beinhaltet den Methodenrumpf. Getrennt werden die beiden Seiten mit `->`. <br>Daraus ergibt sich folgender Syntax:<br>\n",
    ">Lambda-Ausdruck -> \"{\" Parameter \"->\" Methodenrumpf \"}\"<br>\n",
    "Parameter -> Name \":\" Datentyp {\",\" Parameter}\n",
    "\n",
    "In unserem Beispiel möchten wir die Methode `map` auf eine Liste mit Elementen des Datentyps `Int` anwenden. Nach der Definition von `map` wird der Methodenrumpf immer auf das aktuelle ELement angewendet. Daraus lässt sich schlussfolgern, dass wir einen Parameter benötigen, der den Datentyp der Elemente besitzt. Der Methodenrumpf muss einen Wert \"zurückgeben\" (es wird kein `return` verwendet), der dem aktuellen Element (dem Parameter) zugewiesen wird.\n",
    "Dies kann man sich folgendermaßen vorstellen:<br>\n",
    "```kotlin\n",
    "{ elem: Int -> elem + 5}\n",
    "//Entspricht\n",
    "elem = elem + 5\n",
    "```\n",
    "Daraus ergibt sich folgende funktionale Lösung des Beispiels:"
   ]
  },
  {
   "cell_type": "code",
   "execution_count": 12,
   "id": "first-sudan",
   "metadata": {
    "execution": {
     "iopub.execute_input": "2021-04-18T14:37+0200",
     "iopub.status.busy": "2021-04-18T14:37+0200",
     "iopub.status.idle": "2021-04-18T14:37+0200",
     "shell.execute_reply": "2021-04-18T14:37+0200",
     "shell.execute_reply.started": "2021-04-18T14:37+0200"
    }
   },
   "outputs": [
    {
     "name": "stdout",
     "output_type": "stream",
     "text": [
      "Vorher: [0, 1, 2, 3, 4, 5, 6, 7, 8, 9, 10, 11, 12, 13, 14, 15, 16, 17, 18, 19]\n",
      "Nachher: [5, 6, 7, 8, 9, 10, 11, 12, 13, 14, 15, 16, 17, 18, 19, 20, 21, 22, 23, 24]\n"
     ]
    }
   ],
   "source": [
    "var liste = MutableList(20) { it }\n",
    "println(\"Vorher: $liste\")\n",
    "val listeNeu = liste.map( { elem: Int -> elem + 5 } )\n",
    "println(\"Nachher: $listeNeu\")"
   ]
  },
  {
   "cell_type": "markdown",
   "id": "removable-strap",
   "metadata": {},
   "source": [
    "Dieser Ausdruck kann aber noch weiter verkürzt und verschönert werden. Da dem Kompiler klar ist, dass in unseren Fall `elem` immer vom Typ `Int` ist, da der Ausdruck auf eine Liste mit `Int`-Elementen angewendet wird, kann der Datentyp des Parameters weggelassen werden."
   ]
  },
  {
   "cell_type": "code",
   "execution_count": 13,
   "id": "empty-beauty",
   "metadata": {
    "execution": {
     "iopub.execute_input": "2021-04-18T14:37+0200",
     "iopub.status.busy": "2021-04-18T14:37+0200",
     "iopub.status.idle": "2021-04-18T14:37+0200",
     "shell.execute_reply": "2021-04-18T14:37+0200",
     "shell.execute_reply.started": "2021-04-18T14:37+0200"
    }
   },
   "outputs": [
    {
     "name": "stdout",
     "output_type": "stream",
     "text": [
      "Vorher: [0, 1, 2, 3, 4, 5, 6, 7, 8, 9, 10, 11, 12, 13, 14, 15, 16, 17, 18, 19]\n",
      "Nachher: [5, 6, 7, 8, 9, 10, 11, 12, 13, 14, 15, 16, 17, 18, 19, 20, 21, 22, 23, 24]\n"
     ]
    }
   ],
   "source": [
    "var liste = MutableList(20) { it }\n",
    "println(\"Vorher: $liste\")\n",
    "val listeNeu = liste.map( { elem -> elem + 5 } )\n",
    "println(\"Nachher: $listeNeu\")"
   ]
  },
  {
   "cell_type": "markdown",
   "id": "vertical-completion",
   "metadata": {},
   "source": [
    "Falls nur ein Parameter verwendet wird, kann dieser ebenfalls weggelassen werden. Auf den im Hintergund definierten Parameter kann mit `it` zugegriffen werden."
   ]
  },
  {
   "cell_type": "code",
   "execution_count": 14,
   "id": "suspected-binding",
   "metadata": {
    "execution": {
     "iopub.execute_input": "2021-04-18T14:37+0200",
     "iopub.status.busy": "2021-04-18T14:37+0200",
     "iopub.status.idle": "2021-04-18T14:37+0200",
     "shell.execute_reply": "2021-04-18T14:37+0200",
     "shell.execute_reply.started": "2021-04-18T14:37+0200"
    }
   },
   "outputs": [
    {
     "name": "stdout",
     "output_type": "stream",
     "text": [
      "Vorher: [0, 1, 2, 3, 4, 5, 6, 7, 8, 9, 10, 11, 12, 13, 14, 15, 16, 17, 18, 19]\n",
      "Nachher: [5, 6, 7, 8, 9, 10, 11, 12, 13, 14, 15, 16, 17, 18, 19, 20, 21, 22, 23, 24]\n"
     ]
    }
   ],
   "source": [
    "var liste = MutableList(20) { it }\n",
    "println(\"Vorher: $liste\")\n",
    "val listeNeu = liste.map( { it + 5 } )\n",
    "println(\"Nachher: $listeNeu\")"
   ]
  },
  {
   "cell_type": "markdown",
   "id": "conscious-neighbor",
   "metadata": {},
   "source": [
    "Außerdem ist es üblich den Lambda-Ausdruck nicht zu übergeben, sondern hinter der Parameterliste zu übergeben. Dies ist nur möglich, falls der Ausdruck der letzte Parameter ist (was der Regelfall ist)."
   ]
  },
  {
   "cell_type": "code",
   "execution_count": 15,
   "id": "internal-fellowship",
   "metadata": {
    "execution": {
     "iopub.execute_input": "2021-04-18T14:37+0200",
     "iopub.status.busy": "2021-04-18T14:37+0200",
     "iopub.status.idle": "2021-04-18T14:37+0200",
     "shell.execute_reply": "2021-04-18T14:37+0200",
     "shell.execute_reply.started": "2021-04-18T14:37+0200"
    }
   },
   "outputs": [
    {
     "name": "stdout",
     "output_type": "stream",
     "text": [
      "Vorher: [0, 1, 2, 3, 4, 5, 6, 7, 8, 9, 10, 11, 12, 13, 14, 15, 16, 17, 18, 19]\n",
      "Nachher: [5, 6, 7, 8, 9, 10, 11, 12, 13, 14, 15, 16, 17, 18, 19, 20, 21, 22, 23, 24]\n"
     ]
    }
   ],
   "source": [
    "var liste = MutableList(20) { it }\n",
    "println(\"Vorher: $liste\")\n",
    "val listeNeu = liste.map() { it + 5 } \n",
    "println(\"Nachher: $listeNeu\")"
   ]
  },
  {
   "cell_type": "markdown",
   "id": "whole-friday",
   "metadata": {},
   "source": [
    "Werden der Methode keine weiteren Parameter übergeben, können die leeren Klammern auch weggelassen werden."
   ]
  },
  {
   "cell_type": "code",
   "execution_count": 16,
   "id": "downtown-plate",
   "metadata": {
    "execution": {
     "iopub.execute_input": "2021-04-18T14:37+0200",
     "iopub.status.busy": "2021-04-18T14:37+0200",
     "iopub.status.idle": "2021-04-18T14:37+0200",
     "shell.execute_reply": "2021-04-18T14:37+0200",
     "shell.execute_reply.started": "2021-04-18T14:37+0200"
    }
   },
   "outputs": [
    {
     "name": "stdout",
     "output_type": "stream",
     "text": [
      "Vorher: [0, 1, 2, 3, 4, 5, 6, 7, 8, 9, 10, 11, 12, 13, 14, 15, 16, 17, 18, 19]\n",
      "Nachher: [5, 6, 7, 8, 9, 10, 11, 12, 13, 14, 15, 16, 17, 18, 19, 20, 21, 22, 23, 24]\n"
     ]
    }
   ],
   "source": [
    "var liste = MutableList(20) { it }\n",
    "println(\"Vorher: $liste\")\n",
    "val listeNeu = liste.map { it + 5 } \n",
    "println(\"Nachher: $listeNeu\")"
   ]
  },
  {
   "cell_type": "markdown",
   "id": "offshore-wages",
   "metadata": {},
   "source": [
    "Wie bereits in der Einfühung erwähnt, ist die funktionale Lösungen meist langsamer als die Objektorientierte. Um dies festzustellen, wurden beide Lösungen mit einer Zeitmessung versehen:"
   ]
  },
  {
   "cell_type": "code",
   "execution_count": 17,
   "id": "seven-workstation",
   "metadata": {
    "execution": {
     "iopub.execute_input": "2021-04-18T14:37+0200",
     "iopub.status.busy": "2021-04-18T14:37+0200",
     "iopub.status.idle": "2021-04-18T14:37+0200",
     "shell.execute_reply": "2021-04-18T14:37+0200",
     "shell.execute_reply.started": "2021-04-18T14:37+0200"
    }
   },
   "outputs": [
    {
     "name": "stdout",
     "output_type": "stream",
     "text": [
      "Zeit mit Schleife: 52\n"
     ]
    }
   ],
   "source": [
    "val startTime = System.currentTimeMillis()\n",
    "\n",
    "val liste = MutableList(100000) { it }\n",
    "for(i in 0 until liste.size){\n",
    "    liste[i] *= liste[i] \n",
    "}\n",
    "\n",
    "val endTime = System.currentTimeMillis()\n",
    "println(\"Zeit mit Schleife: ${endTime - startTime}\")"
   ]
  },
  {
   "cell_type": "code",
   "execution_count": 18,
   "id": "partial-attraction",
   "metadata": {
    "execution": {
     "iopub.execute_input": "2021-04-18T14:37+0200",
     "iopub.status.busy": "2021-04-18T14:37+0200",
     "iopub.status.idle": "2021-04-18T14:37+0200",
     "shell.execute_reply": "2021-04-18T14:37+0200",
     "shell.execute_reply.started": "2021-04-18T14:37+0200"
    }
   },
   "outputs": [
    {
     "name": "stdout",
     "output_type": "stream",
     "text": [
      "Zeit mit Lambda-Ausdruck: 10\n"
     ]
    }
   ],
   "source": [
    "val startTime = System.currentTimeMillis()\n",
    "\n",
    "var liste = List(100000) { it }\n",
    "liste = liste.map { it * it }\n",
    "\n",
    "val endTime = System.currentTimeMillis()\n",
    "println(\"Zeit mit Lambda-Ausdruck: ${endTime - startTime}\")"
   ]
  },
  {
   "cell_type": "markdown",
   "id": "permanent-april",
   "metadata": {},
   "source": [
    "#### Aufgabe\n",
    "Vervollständigen Sie folgenden Code, sodass zuerst eine Liste `liste` mit 200 Elementen erstellt wird, welche mit deren Index gefüllt sind. Benutzen Sie daraufhin die Methode `map` in Verbindung mit einem passendem Lambda-Ausdruck, sodass die Werte der Liste umgedreht und in einer neuen Liste `listeUmgekehrt` gespeichert werden. (Beispiel: Voher: [0, 1, 2, 3], Nachher: [3, 2, 1, 0])"
   ]
  },
  {
   "cell_type": "code",
   "execution_count": 19,
   "id": "intensive-surrey",
   "metadata": {
    "execution": {
     "iopub.execute_input": "2021-04-18T14:37+0200",
     "iopub.status.busy": "2021-04-18T14:37+0200",
     "iopub.status.idle": "2021-04-18T14:37+0200",
     "shell.execute_reply": "2021-04-18T14:37+0200"
    }
   },
   "outputs": [
    {
     "name": "stderr",
     "output_type": "stream",
     "text": [
      "Line_24.jupyter.kts (12:5 - 19) Unresolved reference: listeUmgekehrt\n",
      "Line_24.jupyter.kts (13:75 - 89) Unresolved reference: listeUmgekehrt"
     ]
    }
   ],
   "source": [
    "//Gerüst\n",
    "//TODO \n",
    "\n",
    "//Test\n",
    "var fehler = 0\n",
    "for (i in 0..199 step 32){\n",
    "    if (liste[i] != i){\n",
    "        println(\"Fehler in liste! Element $i sollte eigentlich $i sein, ist aber ${liste[i]}\")\n",
    "        fehler++\n",
    "    }\n",
    "}\n",
    "if (listeUmgekehrt != liste.reversed()){\n",
    "    println(\"Fehler in listeUmgekehrt! \\nliste: $liste \\nlisteUmgekehrt: $listeUmgekehrt\")\n",
    "    fehler++\n",
    "}\n",
    "if(fehler == 0)\n",
    "    println(\"Super! Alle Tests bestanden!\")\n",
    "else\n",
    "    println(\"Bei $fehler Tests kamen Fehler auf.\")"
   ]
  },
  {
   "cell_type": "code",
   "execution_count": 20,
   "id": "immediate-reminder",
   "metadata": {
    "execution": {
     "iopub.execute_input": "2021-04-18T14:37+0200",
     "iopub.status.busy": "2021-04-18T14:37+0200",
     "iopub.status.idle": "2021-04-18T14:37+0200",
     "shell.execute_reply": "2021-04-18T14:37+0200",
     "shell.execute_reply.started": "2021-04-18T14:37+0200"
    }
   },
   "outputs": [
    {
     "name": "stdout",
     "output_type": "stream",
     "text": [
      "Super! Alle Tests bestanden!\n"
     ]
    }
   ],
   "source": [
    "//Lösung\n",
    "\n",
    "val liste = List(200) { it }\n",
    "val listeUmgekehrt = liste.map { 199 - it }\n",
    "\n",
    "\n",
    "//Test\n",
    "var fehler = 0\n",
    "for (i in 0..199 step 32){\n",
    "    if (liste[i] != i){\n",
    "        println(\"Fehler in liste! Element $i sollte eigentlich $i sein, ist aber ${liste[i]}\")\n",
    "        fehler++\n",
    "    }\n",
    "}\n",
    "if (listeUmgekehrt != liste.reversed()){\n",
    "    println(\"Fehler in listeUmgekehrt! \\nliste: $liste \\nlisteUmgekehrt: $listeUmgekehrt\")\n",
    "    fehler++\n",
    "}\n",
    "if(fehler == 0)\n",
    "    println(\"Super! Alle Tests bestanden!\")\n",
    "else\n",
    "    println(\"Bei $fehler Tests kamen Fehler auf.\")"
   ]
  },
  {
   "cell_type": "markdown",
   "id": "subjective-gabriel",
   "metadata": {},
   "source": [
    "## Lektion 3 - Erweiterte Lambda-Ausdrücke"
   ]
  },
  {
   "cell_type": "markdown",
   "id": "silent-medicare",
   "metadata": {},
   "source": [
    "In dem Methodenrumpf von Lambda-Ausdrücken ist auch komplexere Programmierung möglich. So können beispielsweise Kontrollstrukturen eingebunden werden:"
   ]
  },
  {
   "cell_type": "code",
   "execution_count": 21,
   "id": "radio-avatar",
   "metadata": {
    "execution": {
     "iopub.execute_input": "2021-04-18T14:37+0200",
     "iopub.status.busy": "2021-04-18T14:37+0200",
     "iopub.status.idle": "2021-04-18T14:37+0200",
     "shell.execute_reply": "2021-04-18T14:37+0200",
     "shell.execute_reply.started": "2021-04-18T14:37+0200"
    }
   },
   "outputs": [
    {
     "name": "stdout",
     "output_type": "stream",
     "text": [
      "Vorher: [0, 1, 2, 3, 4, 5, 6, 7, 8, 9, 10, 11, 12, 13, 14, 15, 16, 17, 18, 19]\n",
      "Nachher: [0, 1, 1, 3, 2, 5, 3, 7, 4, 9, 5, 11, 6, 13, 7, 15, 8, 17, 9, 19]\n"
     ]
    }
   ],
   "source": [
    "var liste = MutableList(20) { it }\n",
    "println(\"Vorher: $liste\")\n",
    "val listeNeu = liste.map() {\n",
    "    if ((it % 2) == 0){\n",
    "        it / 2 //Ergebnis\n",
    "    }\n",
    "    else {\n",
    "        it //Ergebnis\n",
    "    }\n",
    "}\n",
    "println(\"Nachher: $listeNeu\")"
   ]
  },
  {
   "cell_type": "markdown",
   "id": "north-might",
   "metadata": {},
   "source": [
    "In dem obigen Beispiel werden alle Elemente durch 2 geteilt, falls es keinen Rest gibt.<br />\n",
    "Es fällt auf, dass ein explizites `return`-Statement fehlt. Das Ergbenis des Lambda-Ausdrucks ist immer die letzte Anweisung oder Variable. Das heißt aber nicht, dass garkein `return` verwendet werden kann. Falls ein Lambda-Ausdruck in einer Methode zu finden ist, wird mit dem `return` in dem Lambda die Methode beendet."
   ]
  },
  {
   "cell_type": "code",
   "execution_count": 22,
   "id": "covered-bolivia",
   "metadata": {
    "execution": {
     "iopub.execute_input": "2021-04-18T14:37+0200",
     "iopub.status.busy": "2021-04-18T14:37+0200",
     "iopub.status.idle": "2021-04-18T14:37+0200",
     "shell.execute_reply": "2021-04-18T14:37+0200",
     "shell.execute_reply.started": "2021-04-18T14:37+0200"
    },
    "tags": []
   },
   "outputs": [
    {
     "name": "stdout",
     "output_type": "stream",
     "text": [
      "Alle Elemente von liste1 sind durch 2 teilbar: true\n",
      "Alle Elemente von liste2 sind durch 2 teilbar: false\n"
     ]
    }
   ],
   "source": [
    "fun div2 (liste: List<Int>): Boolean{\n",
    "    liste.map {\n",
    "        if ((it % 2) != 0){\n",
    "            return false //beendet die Methode div2\n",
    "        }\n",
    "        0 //Rückgabe des Lambdas\n",
    "    }\n",
    "    return true\n",
    "}\n",
    "\n",
    "val liste1 = listOf(2,4,6,8)\n",
    "println(\"Alle Elemente von liste1 sind durch 2 teilbar: ${div2(liste1)}\")\n",
    "val liste2 = listOf(1,2,3,4)\n",
    "println(\"Alle Elemente von liste2 sind durch 2 teilbar: ${div2(liste2)}\")"
   ]
  },
  {
   "cell_type": "markdown",
   "id": "intense-daily",
   "metadata": {},
   "source": [
    "Auch können in einem Lambda-Ausdruck Schleifen oder Variablen verwendet werden. Außerdem können auf diesen auch Methoden der Datenstruktur, die dieser zurückgibt, angewendet werden."
   ]
  },
  {
   "cell_type": "code",
   "execution_count": 23,
   "id": "continental-mixer",
   "metadata": {
    "execution": {
     "iopub.execute_input": "2021-04-18T14:37+0200",
     "iopub.status.busy": "2021-04-18T14:37+0200",
     "iopub.status.idle": "2021-04-18T14:37+0200",
     "shell.execute_reply": "2021-04-18T14:37+0200",
     "shell.execute_reply.started": "2021-04-18T14:37+0200"
    }
   },
   "outputs": [
    {
     "name": "stdout",
     "output_type": "stream",
     "text": [
      "Alle Primzahlen von liste1: [0, 1, 2, 3, 5, 7, 11, 13, 17, 19, 23, 29, 31, 37, 41, 43, 47, 53, 59, 61, 67, 71, 73, 79, 83, 89, 97]\n"
     ]
    }
   ],
   "source": [
    "fun primzahlen(liste: List<Int>): List<Int?>{\n",
    "    return liste.map {\n",
    "        var prim = true\n",
    "        for(i in 2 until it){\n",
    "            if ((it % i) == 0) {\n",
    "                prim = false\n",
    "            }\n",
    "        }\n",
    "        if (prim)\n",
    "            it\n",
    "        else\n",
    "            null\n",
    "    }.filterNotNull() //wird nach Auswertung des Lambda-Ausdrucks angewendet\n",
    "}\n",
    "\n",
    "val liste1 = List(100) { it }\n",
    "println(\"Alle Primzahlen von liste1: ${primzahlen(liste1)}\")"
   ]
  },
  {
   "cell_type": "markdown",
   "id": "muslim-founder",
   "metadata": {},
   "source": [
    "Anstelle einer Definition des Methodenrumpfes kann einem Lambda-Ausdruck auch ein vordefinierter Lambda-Ausdruck, der in einer Variable gespeichert wurde, benutzt werden. Dabei ist zu beachten, dass die Parameter und der Rückgabetyp übereinstimmen."
   ]
  },
  {
   "cell_type": "code",
   "execution_count": 24,
   "id": "organic-official",
   "metadata": {
    "execution": {
     "iopub.execute_input": "2021-04-18T14:37+0200",
     "iopub.status.busy": "2021-04-18T14:37+0200",
     "iopub.status.idle": "2021-04-18T14:37+0200",
     "shell.execute_reply": "2021-04-18T14:37+0200",
     "shell.execute_reply.started": "2021-04-18T14:37+0200"
    }
   },
   "outputs": [
    {
     "name": "stdout",
     "output_type": "stream",
     "text": [
      "[6, 7, 8, 9, 10]\n"
     ]
    }
   ],
   "source": [
    "val add5: (Int) -> Int = { a -> a + 5 }\n",
    "\n",
    "val liste = listOf(1,2,3,4,5)\n",
    "val listeNeu = liste.map (add5)\n",
    "println(listeNeu)"
   ]
  },
  {
   "cell_type": "markdown",
   "id": "b09d86b9-d38a-4eae-b0f6-7d91b48d8a58",
   "metadata": {},
   "source": [
    "## Lektion 4 - reciever-Funktion"
   ]
  },
  {
   "cell_type": "markdown",
   "id": "median-delay",
   "metadata": {},
   "source": [
    "## Lektion 5 - Lambda-Ausdrücke in Verbindung mit ausgewählten Methoden und Datenstrukturen\n",
    "Im folgenden werden verschiedene Methoden zur Bearbeitung von Datenstrukturen und Lambda-Ausdrücke behandelt. Dazu wird die Kotlin Bibliothek `krangl` verwendet. Mit dieser können Daten tabellarisch dargestellt werden.<br /> \n",
    "Untersucht werden Daten von Erde-14. Aufgrund eines Risses in der Zeit wurde das Universum zu einem Multiversum. Forscher haben bereits 53 Parallelerden ausfindig machen können. Speziell Erde-14 ist sehr nahe an unserer Welt, Erde-1. Die Länderstruktur ist identisch und auch ist die Population ähnlich rasant gestiegen. Jedoch hat sich der kalte Krieg zwischen Amerika und Urzikstan, der zweiten Weltmacht, weiter zugespitzt. Das östliche Gegenstpck zur NALO besteht immernoch und Jahr für Jahr steuert man weiter auf einen offenen Konflikt zu. In diesem Sinne beauftragte 2051 die urzikstanische Regierung ein Virus zu entwickeln, dass die NALO schwer treffen sollte. Nach einigen Jahren Entwicklung passierte jedoch ein folgenschwerer Fehler. Das Virus, später wurde es \"Urz-Con-4\"- genannt, wurde aus einem Labor in der Provinz Subey unabsichtlich freigesetzt und hält nun, 2 Jahre später, die ganze Welt in Atem. Um auf Erde-1 besser auf solch eine Pandemie vorbereitet zu sein, sollen die Daten von Erde-14 von Ihnen genauer untersucht werden.<br />\n",
    "Ein kleines Einführungsbeispiel zur Bibliothek:"
   ]
  },
  {
   "cell_type": "code",
   "execution_count": 5,
   "id": "similar-reputation",
   "metadata": {
    "tags": []
   },
   "outputs": [],
   "source": [
    "%use krangl\n",
    "val data = DataFrame.readCSV(\"data/virusErde14.csv\") //Liest die csv-Datei und wandelt sie in einen DataFrame um"
   ]
  },
  {
   "cell_type": "markdown",
   "id": "cultural-gardening",
   "metadata": {},
   "source": [
    "In der Variable `data` sind im folgenden die Rohdaten als `DataFrame` ([Dokumentation](https://holgerbrandl.github.io/krangl/javadoc/krangl/krangl/-data-frame/index.html)) gespeichert. Ein `DataFrame` besitzt folgende Attribute:\n",
    "<ul>\n",
    "    <li><code>cols: List&lt;DataCol></code>: Liste der Spalten</li>\n",
    "    <li><code>ncols: Int</code>: Anzahl der Spalten</li>\n",
    "    <li><code>rows: Iterable&lt;DataFrameRow></code>: Liste der Zeilen</li>\n",
    "    <li><code>nrows: Int</code>: Anzahl der Zeilen</li>\n",
    "    <li><code>names: List&lt;String></code>: Liste der Namen der Spalten</li>\n",
    "</ul>"
   ]
  },
  {
   "cell_type": "code",
   "execution_count": 6,
   "id": "bright-funeral",
   "metadata": {
    "tags": []
   },
   "outputs": [
    {
     "name": "stdout",
     "output_type": "stream",
     "text": [
      "Anzahl der Spalten: 14\n",
      "Anzahl der Zeilen: 3983\n",
      "Liste der Namen der Spalten: [FIPS, Admin2, Province_State, Country_Region, Last_Update, Lat, Long_, Confirmed, Deaths, Recovered, Active, Combined_Key, Incident_Rate, Case_Fatality_Ratio]\n"
     ]
    }
   ],
   "source": [
    "println(\"Anzahl der Spalten: ${data.ncol}\")\n",
    "println(\"Anzahl der Zeilen: ${data.nrow}\")\n",
    "println(\"Liste der Namen der Spalten: ${data.names}\")"
   ]
  },
  {
   "cell_type": "markdown",
   "id": "appointed-string",
   "metadata": {},
   "source": [
    "Die Daten können mit Hilfe von `head(n)` ausgegeben werden. Dabei ist `n` die Anzahl der Zeilen. Maximal können 20 Zeilen ausgegeben werden."
   ]
  },
  {
   "cell_type": "code",
   "execution_count": 4,
   "id": "scenic-happening",
   "metadata": {
    "tags": []
   },
   "outputs": [
    {
     "data": {
      "text/html": [
       "<html><body><table><tr><th style=\"text-align:left\">FIPS</th><th style=\"text-align:left\">Admin2</th><th style=\"text-align:left\">Province_State</th><th style=\"text-align:left\">Country_Region</th><th style=\"text-align:left\">Last_Update</th><th style=\"text-align:left\">Lat</th><th style=\"text-align:left\">Long_</th><th style=\"text-align:left\">Confirmed</th><th style=\"text-align:left\">Deaths</th><th style=\"text-align:left\">Recovered</th><th style=\"text-align:left\">Active</th><th style=\"text-align:left\">Combined_Key</th><th style=\"text-align:left\">Incident_Rate</th><th style=\"text-align:left\">Case_Fatality_Ratio</th></tr><tr><td style=\"text-align:left\" title=\"\"></td><td style=\"text-align:left\" title=\"\"></td><td style=\"text-align:left\" title=\"\"></td><td style=\"text-align:left\" title=\"Afghanistan\">Afghanistan</td><td style=\"text-align:left\" title=\"2021-04-08 04:21:13\">2021-04-08 04:21:13</td><td style=\"text-align:left\" title=\"33.93911\">33.93911</td><td style=\"text-align:left\" title=\"67.709953\">67.709953</td><td style=\"text-align:left\" title=\"56873\">56873</td><td style=\"text-align:left\" title=\"2512\">2512</td><td style=\"text-align:left\" title=\"51940\">51940</td><td style=\"text-align:left\" title=\"2421\">2421</td><td style=\"text-align:left\" title=\"Afghanistan\">Afghanistan</td><td style=\"text-align:left\" title=\"146.0966446014229\">146.0966446014229</td><td style=\"text-align:left\" title=\"4.416858614808433\">4.416858614808433</td></tr><tr><td style=\"text-align:left\" title=\"\"></td><td style=\"text-align:left\" title=\"\"></td><td style=\"text-align:left\" title=\"\"></td><td style=\"text-align:left\" title=\"Albania\">Albania</td><td style=\"text-align:left\" title=\"2021-04-08 04:21:13\">2021-04-08 04:21:13</td><td style=\"text-align:left\" title=\"41.1533\">41.1533</td><td style=\"text-align:left\" title=\"20.1683\">20.1683</td><td style=\"text-align:left\" title=\"127192\">127192</td><td style=\"text-align:left\" title=\"2291\">2291</td><td style=\"text-align:left\" title=\"95600\">95600</td><td style=\"text-align:left\" title=\"29301\">29301</td><td style=\"text-align:left\" title=\"Albania\">Albania</td><td style=\"text-align:left\" title=\"4419.765098339009\">4419.765098339009</td><td style=\"text-align:left\" title=\"1.801213912824706\">1.801213912824706</td></tr><tr><td style=\"text-align:left\" title=\"\"></td><td style=\"text-align:left\" title=\"\"></td><td style=\"text-align:left\" title=\"\"></td><td style=\"text-align:left\" title=\"Algeria\">Algeria</td><td style=\"text-align:left\" title=\"2021-04-08 04:21:13\">2021-04-08 04:21:13</td><td style=\"text-align:left\" title=\"28.0339\">28.0339</td><td style=\"text-align:left\" title=\"1.6596\">1.6596</td><td style=\"text-align:left\" title=\"118004\">118004</td><td style=\"text-align:left\" title=\"3116\">3116</td><td style=\"text-align:left\" title=\"82192\">82192</td><td style=\"text-align:left\" title=\"32696\">32696</td><td style=\"text-align:left\" title=\"Algeria\">Algeria</td><td style=\"text-align:left\" title=\"269.1019230717044\">269.1019230717044</td><td style=\"text-align:left\" title=\"2.6405884546286567\">2.6405884546286567</td></tr><tr><td style=\"text-align:left\" title=\"\"></td><td style=\"text-align:left\" title=\"\"></td><td style=\"text-align:left\" title=\"\"></td><td style=\"text-align:left\" title=\"Andorra\">Andorra</td><td style=\"text-align:left\" title=\"2021-04-08 04:21:13\">2021-04-08 04:21:13</td><td style=\"text-align:left\" title=\"42.5063\">42.5063</td><td style=\"text-align:left\" title=\"1.5218\">1.5218</td><td style=\"text-align:left\" title=\"12363\">12363</td><td style=\"text-align:left\" title=\"119\">119</td><td style=\"text-align:left\" title=\"11616\">11616</td><td style=\"text-align:left\" title=\"628\">628</td><td style=\"text-align:left\" title=\"Andorra\">Andorra</td><td style=\"text-align:left\" title=\"16000.776548243059\">16000.776548243059</td><td style=\"text-align:left\" title=\"0.9625495429911833\">0.9625495429911833</td></tr><tr><td style=\"text-align:left\" title=\"\"></td><td style=\"text-align:left\" title=\"\"></td><td style=\"text-align:left\" title=\"\"></td><td style=\"text-align:left\" title=\"Angola\">Angola</td><td style=\"text-align:left\" title=\"2021-04-08 04:21:13\">2021-04-08 04:21:13</td><td style=\"text-align:left\" title=\"-11.2027\">-11.2027</td><td style=\"text-align:left\" title=\"17.8739\">17.8739</td><td style=\"text-align:left\" title=\"23010\">23010</td><td style=\"text-align:left\" title=\"547\">547</td><td style=\"text-align:left\" title=\"21545\">21545</td><td style=\"text-align:left\" title=\"918\">918</td><td style=\"text-align:left\" title=\"Angola\">Angola</td><td style=\"text-align:left\" title=\"70.01099120837206\">70.01099120837206</td><td style=\"text-align:left\" title=\"2.3772272924815296\">2.3772272924815296</td></tr><tr><td style=\"text-align:left\" title=\"\"></td><td style=\"text-align:left\" title=\"\"></td><td style=\"text-align:left\" title=\"\"></td><td style=\"text-align:left\" title=\"Antigua and Barbuda\">Antigua and Barbuda</td><td style=\"text-align:left\" title=\"2021-04-08 04:21:13\">2021-04-08 04:21:13</td><td style=\"text-align:left\" title=\"17.0608\">17.0608</td><td style=\"text-align:left\" title=\"-61.7964\">-61.7964</td><td style=\"text-align:left\" title=\"1177\">1177</td><td style=\"text-align:left\" title=\"29\">29</td><td style=\"text-align:left\" title=\"911\">911</td><td style=\"text-align:left\" title=\"237\">237</td><td style=\"text-align:left\" title=\"Antigua and Barbuda\">Antigua and Barbuda</td><td style=\"text-align:left\" title=\"1201.9034392614985\">1201.9034392614985</td><td style=\"text-align:left\" title=\"2.463891248937978\">2.463891248937978</td></tr><tr><td style=\"text-align:left\" title=\"\"></td><td style=\"text-align:left\" title=\"\"></td><td style=\"text-align:left\" title=\"\"></td><td style=\"text-align:left\" title=\"Argentina\">Argentina</td><td style=\"text-align:left\" title=\"2021-04-08 04:21:13\">2021-04-08 04:21:13</td><td style=\"text-align:left\" title=\"-38.4161\">-38.4161</td><td style=\"text-align:left\" title=\"-63.6167\">-63.6167</td><td style=\"text-align:left\" title=\"2450068\">2450068</td><td style=\"text-align:left\" title=\"56832\">56832</td><td style=\"text-align:left\" title=\"2174625\">2174625</td><td style=\"text-align:left\" title=\"218611\">218611</td><td style=\"text-align:left\" title=\"Argentina\">Argentina</td><td style=\"text-align:left\" title=\"5421.010905510044\">5421.010905510044</td><td style=\"text-align:left\" title=\"2.319609088400812\">2.319609088400812</td></tr><tr><td style=\"text-align:left\" title=\"\"></td><td style=\"text-align:left\" title=\"\"></td><td style=\"text-align:left\" title=\"\"></td><td style=\"text-align:left\" title=\"Armenia\">Armenia</td><td style=\"text-align:left\" title=\"2021-04-08 04:21:13\">2021-04-08 04:21:13</td><td style=\"text-align:left\" title=\"40.0691\">40.0691</td><td style=\"text-align:left\" title=\"45.0382\">45.0382</td><td style=\"text-align:left\" title=\"198898\">198898</td><td style=\"text-align:left\" title=\"3647\">3647</td><td style=\"text-align:left\" title=\"178227\">178227</td><td style=\"text-align:left\" title=\"17024\">17024</td><td style=\"text-align:left\" title=\"Armenia\">Armenia</td><td style=\"text-align:left\" title=\"6712.193502099394\">6712.193502099394</td><td style=\"text-align:left\" title=\"1.8336031533750967\">1.8336031533750967</td></tr><tr><td style=\"text-align:left\" title=\"\"></td><td style=\"text-align:left\" title=\"\"></td><td style=\"text-align:left\" title=\"Australian Capital Territory\">Australian Capital Territory</td><td style=\"text-align:left\" title=\"Australia\">Australia</td><td style=\"text-align:left\" title=\"2021-04-08 04:21:13\">2021-04-08 04:21:13</td><td style=\"text-align:left\" title=\"-35.4735\">-35.4735</td><td style=\"text-align:left\" title=\"149.0124\">149.0124</td><td style=\"text-align:left\" title=\"123\">123</td><td style=\"text-align:left\" title=\"3\">3</td><td style=\"text-align:left\" title=\"120\">120</td><td style=\"text-align:left\" title=\"0\">0</td><td style=\"text-align:left\" title=\"Australian Capital Territory, Australia\">Australian Capital Territory, Australia</td><td style=\"text-align:left\" title=\"28.73160476524177\">28.73160476524177</td><td style=\"text-align:left\" title=\"2.4390243902439024\">2.4390243902439024</td></tr><tr><td style=\"text-align:left\" title=\"\"></td><td style=\"text-align:left\" title=\"\"></td><td style=\"text-align:left\" title=\"New South Wales\">New South Wales</td><td style=\"text-align:left\" title=\"Australia\">Australia</td><td style=\"text-align:left\" title=\"2021-04-08 04:21:13\">2021-04-08 04:21:13</td><td style=\"text-align:left\" title=\"-33.8688\">-33.8688</td><td style=\"text-align:left\" title=\"151.2093\">151.2093</td><td style=\"text-align:left\" title=\"5318\">5318</td><td style=\"text-align:left\" title=\"54\">54</td><td style=\"text-align:left\" title=\"0\">0</td><td style=\"text-align:left\" title=\"5264\">5264</td><td style=\"text-align:left\" title=\"New South Wales, Australia\">New South Wales, Australia</td><td style=\"text-align:left\" title=\"65.50874599655087\">65.50874599655087</td><td style=\"text-align:left\" title=\"1.0154193305754042\">1.0154193305754042</td></tr></table></body></html>"
      ]
     },
     "execution_count": 4,
     "metadata": {},
     "output_type": "execute_result"
    }
   ],
   "source": [
    "data.head(10)"
   ]
  },
  {
   "cell_type": "markdown",
   "id": "hispanic-peninsula",
   "metadata": {},
   "source": [
    "Die Datentypen der Spalten können mit `schema()` angezeigt werden."
   ]
  },
  {
   "cell_type": "code",
   "execution_count": 29,
   "id": "guided-beijing",
   "metadata": {
    "execution": {
     "iopub.execute_input": "2021-04-18T14:37+0200",
     "iopub.status.busy": "2021-04-18T14:37+0200",
     "iopub.status.idle": "2021-04-18T14:37+0200",
     "shell.execute_reply": "2021-04-18T14:37+0200",
     "shell.execute_reply.started": "2021-04-18T14:37+0200"
    }
   },
   "outputs": [
    {
     "name": "stdout",
     "output_type": "stream",
     "text": [
      "DataFrame with 3983 observations\n",
      "FIPS                 [Str]  , , , , , , , , , , , , , , , , , , , , , , , , , , , , , , , , , , , , , , , , , , , , , , , , , , ...\n",
      "Admin2               [Str]  , , , , , , , , , , , , , , , , , , , , , , , , , , , , , , , , , , , , , , , , , , , , , , , , , , ...\n",
      "Province_State       [Str]  , , , , , , , , Australian Capital Territory, New South Wales, Northern Territory, Queensland, South...\n",
      "Country_Region       [Str]  Afghanistan, Albania, Algeria, Andorra, Angola, Antigua and Barbuda, Argentina, Armenia, Australia, ...\n",
      "Last_Update          [Str]  2021-04-08 04:21:13, 2021-04-08 04:21:13, 2021-04-08 04:21:13, 2021-04-08 04:21:13, 2021-04-08 04:21...\n",
      "Lat                  [Str]  33.93911, 41.1533, 28.0339, 42.5063, -11.2027, 17.0608, -38.4161, 40.0691, -35.4735, -33.8688, -12.4...\n",
      "Long_                [Str]  67.709953, 20.1683, 1.6596, 1.5218, 17.8739, -61.7964, -63.6167, 45.0382, 149.0124, 151.2093, 130.84...\n",
      "Confirmed            [Int]  56873, 127192, 118004, 12363, 23010, 1177, 2450068, 198898, 123, 5318, 112, 1500, 663, 234, 20484, 9...\n",
      "Deaths               [Int]  2512, 2291, 3116, 119, 547, 29, 56832, 3647, 3, 54, 0, 6, 4, 13, 820, 9, 9546, 3780, 189, 547, 9447,...\n",
      "Recovered            [Str]  51940, 95600, 82192, 11616, 21545, 911, 2174625, 178227, 120, 0, 106, 1366, 651, 221, 19664, 928, 52...\n",
      "Active               [Str]  2421, 29301, 32696, 628, 918, 237, 218611, 17024, 0, 5264, 6, 128, 8, 0, 0, 14, 33688, 28144, 296, 1...\n",
      "Combined_Key         [Str]  Afghanistan, Albania, Algeria, Andorra, Angola, Antigua and Barbuda, Argentina, Armenia, Australian ...\n",
      "Incident_Rate        [Str]  146.0966446014229, 4419.765098339009, 269.1019230717044, 16000.776548243059, 70.01099120837206, 1201...\n",
      "Case_Fatality_Ratio  [Str]  4.416858614808433, 1.801213912824706, 2.6405884546286567, 0.9625495429911833, 2.3772272924815296, 2....\n"
     ]
    }
   ],
   "source": [
    "data.schema()"
   ]
  },
  {
   "cell_type": "markdown",
   "id": "earlier-button",
   "metadata": {},
   "source": [
    "Sollen nur bestimmte Spalten ausgegeben werden, findet `select()` Anwendung. Als Parameter werden die Namen der Spalten übergeben."
   ]
  },
  {
   "cell_type": "code",
   "execution_count": 30,
   "id": "sharing-surge",
   "metadata": {
    "execution": {
     "iopub.execute_input": "2021-04-18T14:37+0200",
     "iopub.status.busy": "2021-04-18T14:37+0200",
     "iopub.status.idle": "2021-04-18T14:37+0200",
     "shell.execute_reply": "2021-04-18T14:37+0200",
     "shell.execute_reply.started": "2021-04-18T14:37+0200"
    }
   },
   "outputs": [
    {
     "data": {
      "text/html": [
       "<html><body><table><tr><th style=\"text-align:left\">Country_Region</th><th style=\"text-align:left\">Deaths</th></tr><tr><td style=\"text-align:left\" title=\"Afghanistan\">Afghanistan</td><td style=\"text-align:left\" title=\"2512\">2512</td></tr><tr><td style=\"text-align:left\" title=\"Albania\">Albania</td><td style=\"text-align:left\" title=\"2291\">2291</td></tr><tr><td style=\"text-align:left\" title=\"Algeria\">Algeria</td><td style=\"text-align:left\" title=\"3116\">3116</td></tr><tr><td style=\"text-align:left\" title=\"Andorra\">Andorra</td><td style=\"text-align:left\" title=\"119\">119</td></tr><tr><td style=\"text-align:left\" title=\"Angola\">Angola</td><td style=\"text-align:left\" title=\"547\">547</td></tr><tr><td style=\"text-align:left\" title=\"Antigua and Barbuda\">Antigua and Barbuda</td><td style=\"text-align:left\" title=\"29\">29</td></tr><tr><td style=\"text-align:left\" title=\"Argentina\">Argentina</td><td style=\"text-align:left\" title=\"56832\">56832</td></tr><tr><td style=\"text-align:left\" title=\"Armenia\">Armenia</td><td style=\"text-align:left\" title=\"3647\">3647</td></tr><tr><td style=\"text-align:left\" title=\"Australia\">Australia</td><td style=\"text-align:left\" title=\"3\">3</td></tr><tr><td style=\"text-align:left\" title=\"Australia\">Australia</td><td style=\"text-align:left\" title=\"54\">54</td></tr><tr><td style=\"text-align:left\" title=\"Australia\">Australia</td><td style=\"text-align:left\" title=\"0\">0</td></tr><tr><td style=\"text-align:left\" title=\"Australia\">Australia</td><td style=\"text-align:left\" title=\"6\">6</td></tr><tr><td style=\"text-align:left\" title=\"Australia\">Australia</td><td style=\"text-align:left\" title=\"4\">4</td></tr><tr><td style=\"text-align:left\" title=\"Australia\">Australia</td><td style=\"text-align:left\" title=\"13\">13</td></tr><tr><td style=\"text-align:left\" title=\"Australia\">Australia</td><td style=\"text-align:left\" title=\"820\">820</td></tr><tr><td style=\"text-align:left\" title=\"Australia\">Australia</td><td style=\"text-align:left\" title=\"9\">9</td></tr><tr><td style=\"text-align:left\" title=\"Austria\">Austria</td><td style=\"text-align:left\" title=\"9546\">9546</td></tr><tr><td style=\"text-align:left\" title=\"Azerbaijan\">Azerbaijan</td><td style=\"text-align:left\" title=\"3780\">3780</td></tr><tr><td style=\"text-align:left\" title=\"Bahamas\">Bahamas</td><td style=\"text-align:left\" title=\"189\">189</td></tr><tr><td style=\"text-align:left\" title=\"Bahrain\">Bahrain</td><td style=\"text-align:left\" title=\"547\">547</td></tr></table><p>... only showing top 20 rows</p></body></html>"
      ]
     },
     "execution_count": 30,
     "metadata": {
      "new_classpath": []
     },
     "output_type": "execute_result"
    }
   ],
   "source": [
    "data.select(\"Country_Region\", \"Deaths\")"
   ]
  },
  {
   "cell_type": "markdown",
   "id": "swedish-activation",
   "metadata": {},
   "source": [
    "#### `filter`\n",
    "Mit Hilfe von `filter()` können Daten in einer Datenstruktur anhand einer Bedingung aussortiert werden. Es werden nur die Daten zurückgegeben, die der Bedingung entsprechen.<br />\n",
    "Im folgenden Beispiel sollen alle Zeilen ausgegeben werden, die mehr als 30000 Tote haben. Statt `filter()` wird `filterByRow()` benutzt, da die Zeilen gefiltert werden soll. Außerdem muss dem Kompiler mit einer Typumwandlung klar gemacht werden, dass in dieser Zeile ein Wert des Typs `Int` zu finden ist. Dies ist bei bei jedem Zugriff auf einen EIntrag nötig. "
   ]
  },
  {
   "cell_type": "code",
   "execution_count": 31,
   "id": "reasonable-supply",
   "metadata": {
    "execution": {
     "iopub.execute_input": "2021-04-18T14:37+0200",
     "iopub.status.busy": "2021-04-18T14:37+0200",
     "iopub.status.idle": "2021-04-18T14:37+0200",
     "shell.execute_reply": "2021-04-18T14:37+0200",
     "shell.execute_reply.started": "2021-04-18T14:37+0200"
    }
   },
   "outputs": [
    {
     "data": {
      "text/html": [
       "<html><body><table><tr><th style=\"text-align:left\">FIPS</th><th style=\"text-align:left\">Admin2</th><th style=\"text-align:left\">Province_State</th><th style=\"text-align:left\">Country_Region</th><th style=\"text-align:left\">Last_Update</th><th style=\"text-align:left\">Lat</th><th style=\"text-align:left\">Long_</th><th style=\"text-align:left\">Confirmed</th><th style=\"text-align:left\">Deaths</th><th style=\"text-align:left\">Recovered</th><th style=\"text-align:left\">Active</th><th style=\"text-align:left\">Combined_Key</th><th style=\"text-align:left\">Incident_Rate</th><th style=\"text-align:left\">Case_Fatality_Ratio</th></tr><tr><td style=\"text-align:left\" title=\"\"></td><td style=\"text-align:left\" title=\"\"></td><td style=\"text-align:left\" title=\"\"></td><td style=\"text-align:left\" title=\"Argentina\">Argentina</td><td style=\"text-align:left\" title=\"2021-04-08 04:21:13\">2021-04-08 04:21:13</td><td style=\"text-align:left\" title=\"-38.4161\">-38.4161</td><td style=\"text-align:left\" title=\"-63.6167\">-63.6167</td><td style=\"text-align:left\" title=\"2450068\">2450068</td><td style=\"text-align:left\" title=\"56832\">56832</td><td style=\"text-align:left\" title=\"2174625\">2174625</td><td style=\"text-align:left\" title=\"218611\">218611</td><td style=\"text-align:left\" title=\"Argentina\">Argentina</td><td style=\"text-align:left\" title=\"5421.010905510044\">5421.010905510044</td><td style=\"text-align:left\" title=\"2.319609088400812\">2.319609088400812</td></tr><tr><td style=\"text-align:left\" title=\"\"></td><td style=\"text-align:left\" title=\"\"></td><td style=\"text-align:left\" title=\"Rio de Janeiro\">Rio de Janeiro</td><td style=\"text-align:left\" title=\"Brazil\">Brazil</td><td style=\"text-align:left\" title=\"2021-04-08 04:21:13\">2021-04-08 04:21:13</td><td style=\"text-align:left\" title=\"-22.9068\">-22.9068</td><td style=\"text-align:left\" title=\"-43.1729\">-43.1729</td><td style=\"text-align:left\" title=\"666025\">666025</td><td style=\"text-align:left\" title=\"38282\">38282</td><td style=\"text-align:left\" title=\"616078\">616078</td><td style=\"text-align:left\" title=\"11665\">11665</td><td style=\"text-align:left\" title=\"Rio de Janeiro, Brazil\">Rio de Janeiro, Brazil</td><td style=\"text-align:left\" title=\"3857.6727418098053\">3857.6727418098053</td><td style=\"text-align:left\" title=\"5.747832288577756\">5.747832288577756</td></tr><tr><td style=\"text-align:left\" title=\"\"></td><td style=\"text-align:left\" title=\"\"></td><td style=\"text-align:left\" title=\"Sao Paulo\">Sao Paulo</td><td style=\"text-align:left\" title=\"Brazil\">Brazil</td><td style=\"text-align:left\" title=\"2021-04-08 04:21:13\">2021-04-08 04:21:13</td><td style=\"text-align:left\" title=\"-23.5505\">-23.5505</td><td style=\"text-align:left\" title=\"-46.6333\">-46.6333</td><td style=\"text-align:left\" title=\"2576362\">2576362</td><td style=\"text-align:left\" title=\"79443\">79443</td><td style=\"text-align:left\" title=\"2218618\">2218618</td><td style=\"text-align:left\" title=\"278301\">278301</td><td style=\"text-align:left\" title=\"Sao Paulo, Brazil\">Sao Paulo, Brazil</td><td style=\"text-align:left\" title=\"5610.660621477591\">5610.660621477591</td><td style=\"text-align:left\" title=\"3.083534068581977\">3.083534068581977</td></tr><tr><td style=\"text-align:left\" title=\"\"></td><td style=\"text-align:left\" title=\"\"></td><td style=\"text-align:left\" title=\"\"></td><td style=\"text-align:left\" title=\"France\">France</td><td style=\"text-align:left\" title=\"2021-04-08 04:21:13\">2021-04-08 04:21:13</td><td style=\"text-align:left\" title=\"46.2276\">46.2276</td><td style=\"text-align:left\" title=\"2.2137\">2.2137</td><td style=\"text-align:left\" title=\"4807123\">4807123</td><td style=\"text-align:left\" title=\"96672\">96672</td><td style=\"text-align:left\" title=\"269989\">269989</td><td style=\"text-align:left\" title=\"4439553\">4439553</td><td style=\"text-align:left\" title=\"France\">France</td><td style=\"text-align:left\" title=\"7363.1720628116345\">7363.1720628116345</td><td style=\"text-align:left\" title=\"2.0110157364394463\">2.0110157364394463</td></tr><tr><td style=\"text-align:left\" title=\"\"></td><td style=\"text-align:left\" title=\"\"></td><td style=\"text-align:left\" title=\"Maharashtra\">Maharashtra</td><td style=\"text-align:left\" title=\"India\">India</td><td style=\"text-align:left\" title=\"2021-04-08 04:21:13\">2021-04-08 04:21:13</td><td style=\"text-align:left\" title=\"19.449759\">19.449759</td><td style=\"text-align:left\" title=\"76.108221\">76.108221</td><td style=\"text-align:left\" title=\"3173261\">3173261</td><td style=\"text-align:left\" title=\"56652\">56652</td><td style=\"text-align:left\" title=\"2613627\">2613627</td><td style=\"text-align:left\" title=\"502982\">502982</td><td style=\"text-align:left\" title=\"Maharashtra, India\">Maharashtra, India</td><td style=\"text-align:left\" title=\"2576.865501843314\">2576.865501843314</td><td style=\"text-align:left\" title=\"1.7852927950143402\">1.7852927950143402</td></tr><tr><td style=\"text-align:left\" title=\"\"></td><td style=\"text-align:left\" title=\"\"></td><td style=\"text-align:left\" title=\"\"></td><td style=\"text-align:left\" title=\"Indonesia\">Indonesia</td><td style=\"text-align:left\" title=\"2021-04-08 04:21:13\">2021-04-08 04:21:13</td><td style=\"text-align:left\" title=\"-0.7893\">-0.7893</td><td style=\"text-align:left\" title=\"113.9213\">113.9213</td><td style=\"text-align:left\" title=\"1547376\">1547376</td><td style=\"text-align:left\" title=\"42064\">42064</td><td style=\"text-align:left\" title=\"1391742\">1391742</td><td style=\"text-align:left\" title=\"113570\">113570</td><td style=\"text-align:left\" title=\"Indonesia\">Indonesia</td><td style=\"text-align:left\" title=\"565.7193314211061\">565.7193314211061</td><td style=\"text-align:left\" title=\"2.7184084540538307\">2.7184084540538307</td></tr><tr><td style=\"text-align:left\" title=\"\"></td><td style=\"text-align:left\" title=\"\"></td><td style=\"text-align:left\" title=\"\"></td><td style=\"text-align:left\" title=\"Iran\">Iran</td><td style=\"text-align:left\" title=\"2021-04-08 04:21:13\">2021-04-08 04:21:13</td><td style=\"text-align:left\" title=\"32.427908\">32.427908</td><td style=\"text-align:left\" title=\"53.68804599999999\">53.68804599999999</td><td style=\"text-align:left\" title=\"1984348\">1984348</td><td style=\"text-align:left\" title=\"63699\">63699</td><td style=\"text-align:left\" title=\"1675891\">1675891</td><td style=\"text-align:left\" title=\"244758\">244758</td><td style=\"text-align:left\" title=\"Iran\">Iran</td><td style=\"text-align:left\" title=\"2362.517245940859\">2362.517245940859</td><td style=\"text-align:left\" title=\"3.210072023657141\">3.210072023657141</td></tr><tr><td style=\"text-align:left\" title=\"\"></td><td style=\"text-align:left\" title=\"\"></td><td style=\"text-align:left\" title=\"Lombardia\">Lombardia</td><td style=\"text-align:left\" title=\"Italy\">Italy</td><td style=\"text-align:left\" title=\"2021-04-08 04:21:13\">2021-04-08 04:21:13</td><td style=\"text-align:left\" title=\"45.46679409\">45.46679409</td><td style=\"text-align:left\" title=\"9.190347404\">9.190347404</td><td style=\"text-align:left\" title=\"755811\">755811</td><td style=\"text-align:left\" title=\"31373\">31373</td><td style=\"text-align:left\" title=\"642145\">642145</td><td style=\"text-align:left\" title=\"82293\">82293</td><td style=\"text-align:left\" title=\"Lombardia, Italy\">Lombardia, Italy</td><td style=\"text-align:left\" title=\"7512.603157632954\">7512.603157632954</td><td style=\"text-align:left\" title=\"4.150905451230533\">4.150905451230533</td></tr><tr><td style=\"text-align:left\" title=\"\"></td><td style=\"text-align:left\" title=\"\"></td><td style=\"text-align:left\" title=\"Ciudad de Mexico\">Ciudad de Mexico</td><td style=\"text-align:left\" title=\"Mexico\">Mexico</td><td style=\"text-align:left\" title=\"2021-04-08 04:21:13\">2021-04-08 04:21:13</td><td style=\"text-align:left\" title=\"19.4326\">19.4326</td><td style=\"text-align:left\" title=\"-99.1332\">-99.1332</td><td style=\"text-align:left\" title=\"615993\">615993</td><td style=\"text-align:left\" title=\"30884\">30884</td><td style=\"text-align:left\" title=\"0\">0</td><td style=\"text-align:left\" title=\"585109\">585109</td><td style=\"text-align:left\" title=\"Ciudad de Mexico, Mexico\">Ciudad de Mexico, Mexico</td><td style=\"text-align:left\" title=\"6830.2167343320425\">6830.2167343320425</td><td style=\"text-align:left\" title=\"5.013693337424289\">5.013693337424289</td></tr><tr><td style=\"text-align:left\" title=\"\"></td><td style=\"text-align:left\" title=\"\"></td><td style=\"text-align:left\" title=\"Mexico\">Mexico</td><td style=\"text-align:left\" title=\"Mexico\">Mexico</td><td style=\"text-align:left\" title=\"2021-04-08 04:21:13\">2021-04-08 04:21:13</td><td style=\"text-align:left\" title=\"19.4969\">19.4969</td><td style=\"text-align:left\" title=\"-99.7233\">-99.7233</td><td style=\"text-align:left\" title=\"235917\">235917</td><td style=\"text-align:left\" title=\"31964\">31964</td><td style=\"text-align:left\" title=\"0\">0</td><td style=\"text-align:left\" title=\"203953\">203953</td><td style=\"text-align:left\" title=\"Mexico, Mexico\">Mexico, Mexico</td><td style=\"text-align:left\" title=\"1353.6828249594466\">1353.6828249594466</td><td style=\"text-align:left\" title=\"13.548832852231929\">13.548832852231929</td></tr><tr><td style=\"text-align:left\" title=\"\"></td><td style=\"text-align:left\" title=\"\"></td><td style=\"text-align:left\" title=\"\"></td><td style=\"text-align:left\" title=\"Poland\">Poland</td><td style=\"text-align:left\" title=\"2021-04-08 04:21:13\">2021-04-08 04:21:13</td><td style=\"text-align:left\" title=\"51.9194\">51.9194</td><td style=\"text-align:left\" title=\"19.1451\">19.1451</td><td style=\"text-align:left\" title=\"2471617\">2471617</td><td style=\"text-align:left\" title=\"55703\">55703</td><td style=\"text-align:left\" title=\"2054697\">2054697</td><td style=\"text-align:left\" title=\"361217\">361217</td><td style=\"text-align:left\" title=\"Poland\">Poland</td><td style=\"text-align:left\" title=\"6530.617475464444\">6530.617475464444</td><td style=\"text-align:left\" title=\"2.2537067838585023\">2.2537067838585023</td></tr><tr><td style=\"text-align:left\" title=\"\"></td><td style=\"text-align:left\" title=\"\"></td><td style=\"text-align:left\" title=\"\"></td><td style=\"text-align:left\" title=\"South Africa\">South Africa</td><td style=\"text-align:left\" title=\"2021-04-08 04:21:13\">2021-04-08 04:21:13</td><td style=\"text-align:left\" title=\"-30.5595\">-30.5595</td><td style=\"text-align:left\" title=\"22.9375\">22.9375</td><td style=\"text-align:left\" title=\"1553609\">1553609</td><td style=\"text-align:left\" title=\"53111\">53111</td><td style=\"text-align:left\" title=\"1479821\">1479821</td><td style=\"text-align:left\" title=\"20677\">20677</td><td style=\"text-align:left\" title=\"South Africa\">South Africa</td><td style=\"text-align:left\" title=\"2619.530122820113\">2619.530122820113</td><td style=\"text-align:left\" title=\"3.4185564064059877\">3.4185564064059877</td></tr><tr><td style=\"text-align:left\" title=\"\"></td><td style=\"text-align:left\" title=\"\"></td><td style=\"text-align:left\" title=\"\"></td><td style=\"text-align:left\" title=\"Turkey\">Turkey</td><td style=\"text-align:left\" title=\"2021-04-08 04:21:13\">2021-04-08 04:21:13</td><td style=\"text-align:left\" title=\"38.9637\">38.9637</td><td style=\"text-align:left\" title=\"35.2433\">35.2433</td><td style=\"text-align:left\" title=\"3633925\">3633925</td><td style=\"text-align:left\" title=\"32943\">32943</td><td style=\"text-align:left\" title=\"3194978\">3194978</td><td style=\"text-align:left\" title=\"406004\">406004</td><td style=\"text-align:left\" title=\"Turkey\">Turkey</td><td style=\"text-align:left\" title=\"4308.709035161605\">4308.709035161605</td><td style=\"text-align:left\" title=\"0.9065404486884017\">0.9065404486884017</td></tr><tr><td style=\"text-align:left\" title=\"\"></td><td style=\"text-align:left\" title=\"\"></td><td style=\"text-align:left\" title=\"England\">England</td><td style=\"text-align:left\" title=\"United Kingdom\">United Kingdom</td><td style=\"text-align:left\" title=\"2021-04-08 04:21:13\">2021-04-08 04:21:13</td><td style=\"text-align:left\" title=\"52.3555\">52.3555</td><td style=\"text-align:left\" title=\"-1.1743\">-1.1743</td><td style=\"text-align:left\" title=\"3818665\">3818665</td><td style=\"text-align:left\" title=\"111666\">111666</td><td style=\"text-align:left\" title=\"0\">0</td><td style=\"text-align:left\" title=\"3706999\">3706999</td><td style=\"text-align:left\" title=\"England, United Kingdom\">England, United Kingdom</td><td style=\"text-align:left\" title=\"6821.822098997449\">6821.822098997449</td><td style=\"text-align:left\" title=\"2.9242156617561372\">2.9242156617561372</td></tr></table></body></html>"
      ]
     },
     "execution_count": 31,
     "metadata": {
      "new_classpath": []
     },
     "output_type": "execute_result"
    }
   ],
   "source": [
    "val aktiveFaelle = data.filterByRow { it[\"Deaths\"] as Int > 30000 }\n",
    "aktiveFaelle.head(50)"
   ]
  },
  {
   "cell_type": "markdown",
   "id": "egyptian-machinery",
   "metadata": {},
   "source": [
    "Abgesehen von der normalen Filterung gibt es auch einige Abwandlungen, die jedoch nicht bei einem `DataFrame` angewendet werden können. <br />\n",
    "`filterNot()` dreht die `filter()`-Methode um und filtert alles, was nicht der Bedingung entspricht."
   ]
  },
  {
   "cell_type": "code",
   "execution_count": 32,
   "id": "pressing-commissioner",
   "metadata": {
    "execution": {
     "iopub.execute_input": "2021-04-18T14:37+0200",
     "iopub.status.busy": "2021-04-18T14:37+0200",
     "iopub.status.idle": "2021-04-18T14:37+0200",
     "shell.execute_reply": "2021-04-18T14:37+0200",
     "shell.execute_reply.started": "2021-04-18T14:37+0200"
    }
   },
   "outputs": [
    {
     "name": "stdout",
     "output_type": "stream",
     "text": [
      "gefilterteListe (it > 10): [0, 1, 2, 3, 4, 5, 6, 7, 8, 9, 10]\n"
     ]
    }
   ],
   "source": [
    "val liste = List(20) { it }\n",
    "val gefilterteListe = liste.filterNot { it > 10}\n",
    "println(\"gefilterteListe (it > 10): $gefilterteListe\")"
   ]
  },
  {
   "cell_type": "markdown",
   "id": "diverse-dispute",
   "metadata": {},
   "source": [
    "Die Abwandlung `filterNotNull()` wurde bereits in [Lektion 1](#Datenstrukturen) vorgestellt.<br />\n",
    "Sind in einer Datenstruktur Elemente mehrerer Datentypen vorhanden, kann mit der Methode `filterIsInstance()` nach einem Datentyp gefiltert werden. Dieser wird als eine Art generischer Parameter vor den runden Klammern angegeben."
   ]
  },
  {
   "cell_type": "code",
   "execution_count": 33,
   "id": "simple-frank",
   "metadata": {
    "execution": {
     "iopub.execute_input": "2021-04-18T14:37+0200",
     "iopub.status.busy": "2021-04-18T14:37+0200",
     "iopub.status.idle": "2021-04-18T14:37+0200",
     "shell.execute_reply": "2021-04-18T14:37+0200",
     "shell.execute_reply.started": "2021-04-18T14:37+0200"
    }
   },
   "outputs": [
    {
     "name": "stdout",
     "output_type": "stream",
     "text": [
      "gefilterteListe (String): [Kotlin, Java, C]\n"
     ]
    }
   ],
   "source": [
    "val liste = listOf(\"Kotlin\", 2, \"Java\", 3.0, \"C\")\n",
    "val gefilterteListe = liste.filterIsInstance<String>()\n",
    "println(\"gefilterteListe (String): $gefilterteListe\")"
   ]
  },
  {
   "cell_type": "markdown",
   "id": "greenhouse-judgment",
   "metadata": {},
   "source": [
    "##### Aufgabe\n",
    "Filtern Sie alle Zeilen heraus, die Deutschland betreffen und speichern sie diese in der Variable `zeilenDE`."
   ]
  },
  {
   "cell_type": "code",
   "execution_count": 34,
   "id": "relevant-washer",
   "metadata": {
    "execution": {
     "iopub.execute_input": "2021-04-18T14:37+0200",
     "iopub.status.busy": "2021-04-18T14:37+0200",
     "iopub.status.idle": "2021-04-18T14:37+0200",
     "shell.execute_reply": "2021-04-18T14:37+0200"
    }
   },
   "outputs": [
    {
     "name": "stderr",
     "output_type": "stream",
     "text": [
      "Line_43.jupyter.kts (3:4 - 12) Unresolved reference: zeilenDE\n",
      "Line_43.jupyter.kts (7:44 - 52) Unresolved reference: zeilenDE\n",
      "Line_43.jupyter.kts (9:1 - 9) Unresolved reference: zeilenDE"
     ]
    }
   ],
   "source": [
    "//TODO\n",
    "\n",
    "if(zeilenDE.nrow == 17){\n",
    "    println(\"Richtig!\")\n",
    "}\n",
    "else{\n",
    "    println(\"Falsch! Die Tabelle besitzt ${zeilenDE.nrow} Zeilen, es sollten jedoch 17 sein.\")\n",
    "}\n",
    "zeilenDE.head(17)"
   ]
  },
  {
   "cell_type": "code",
   "execution_count": 35,
   "id": "intense-decision",
   "metadata": {
    "execution": {
     "iopub.execute_input": "2021-04-18T14:37+0200",
     "iopub.status.busy": "2021-04-18T14:37+0200",
     "iopub.status.idle": "2021-04-18T14:37+0200",
     "shell.execute_reply": "2021-04-18T14:37+0200",
     "shell.execute_reply.started": "2021-04-18T14:37+0200"
    }
   },
   "outputs": [
    {
     "name": "stdout",
     "output_type": "stream",
     "text": [
      "Richtig!\n"
     ]
    },
    {
     "data": {
      "text/html": [
       "<html><body><table><tr><th style=\"text-align:left\">FIPS</th><th style=\"text-align:left\">Admin2</th><th style=\"text-align:left\">Province_State</th><th style=\"text-align:left\">Country_Region</th><th style=\"text-align:left\">Last_Update</th><th style=\"text-align:left\">Lat</th><th style=\"text-align:left\">Long_</th><th style=\"text-align:left\">Confirmed</th><th style=\"text-align:left\">Deaths</th><th style=\"text-align:left\">Recovered</th><th style=\"text-align:left\">Active</th><th style=\"text-align:left\">Combined_Key</th><th style=\"text-align:left\">Incident_Rate</th><th style=\"text-align:left\">Case_Fatality_Ratio</th></tr><tr><td style=\"text-align:left\" title=\"\"></td><td style=\"text-align:left\" title=\"\"></td><td style=\"text-align:left\" title=\"Baden-Wurttemberg\">Baden-Wurttemberg</td><td style=\"text-align:left\" title=\"Germany\">Germany</td><td style=\"text-align:left\" title=\"2021-04-08 04:21:13\">2021-04-08 04:21:13</td><td style=\"text-align:left\" title=\"48.6616\">48.6616</td><td style=\"text-align:left\" title=\"9.3501\">9.3501</td><td style=\"text-align:left\" title=\"377133\">377133</td><td style=\"text-align:left\" title=\"8831\">8831</td><td style=\"text-align:left\" title=\"341300\">341300</td><td style=\"text-align:left\" title=\"27002\">27002</td><td style=\"text-align:left\" title=\"Baden-Wurttemberg, Germany\">Baden-Wurttemberg, Germany</td><td style=\"text-align:left\" title=\"3406.9458937427617\">3406.9458937427617</td><td style=\"text-align:left\" title=\"2.341614231584083\">2.341614231584083</td></tr><tr><td style=\"text-align:left\" title=\"\"></td><td style=\"text-align:left\" title=\"\"></td><td style=\"text-align:left\" title=\"Bayern\">Bayern</td><td style=\"text-align:left\" title=\"Germany\">Germany</td><td style=\"text-align:left\" title=\"2021-04-08 04:21:13\">2021-04-08 04:21:13</td><td style=\"text-align:left\" title=\"48.7904\">48.7904</td><td style=\"text-align:left\" title=\"11.4979\">11.4979</td><td style=\"text-align:left\" title=\"517336\">517336</td><td style=\"text-align:left\" title=\"13419\">13419</td><td style=\"text-align:left\" title=\"467100\">467100</td><td style=\"text-align:left\" title=\"36817\">36817</td><td style=\"text-align:left\" title=\"Bayern, Germany\">Bayern, Germany</td><td style=\"text-align:left\" title=\"3956.1599578365253\">3956.1599578365253</td><td style=\"text-align:left\" title=\"2.5938654955386826\">2.5938654955386826</td></tr><tr><td style=\"text-align:left\" title=\"\"></td><td style=\"text-align:left\" title=\"\"></td><td style=\"text-align:left\" title=\"Berlin\">Berlin</td><td style=\"text-align:left\" title=\"Germany\">Germany</td><td style=\"text-align:left\" title=\"2021-04-08 04:21:13\">2021-04-08 04:21:13</td><td style=\"text-align:left\" title=\"52.52\">52.52</td><td style=\"text-align:left\" title=\"13.405\">13.405</td><td style=\"text-align:left\" title=\"150385\">150385</td><td style=\"text-align:left\" title=\"3098\">3098</td><td style=\"text-align:left\" title=\"138800\">138800</td><td style=\"text-align:left\" title=\"8487\">8487</td><td style=\"text-align:left\" title=\"Berlin, Germany\">Berlin, Germany</td><td style=\"text-align:left\" title=\"4125.985712349506\">4125.985712349506</td><td style=\"text-align:left\" title=\"2.0600458822355954\">2.0600458822355954</td></tr><tr><td style=\"text-align:left\" title=\"\"></td><td style=\"text-align:left\" title=\"\"></td><td style=\"text-align:left\" title=\"Brandenburg\">Brandenburg</td><td style=\"text-align:left\" title=\"Germany\">Germany</td><td style=\"text-align:left\" title=\"2021-04-08 04:21:13\">2021-04-08 04:21:13</td><td style=\"text-align:left\" title=\"52.4125\">52.4125</td><td style=\"text-align:left\" title=\"12.5316\">12.5316</td><td style=\"text-align:left\" title=\"90999\">90999</td><td style=\"text-align:left\" title=\"3358\">3358</td><td style=\"text-align:left\" title=\"81090\">81090</td><td style=\"text-align:left\" title=\"6551\">6551</td><td style=\"text-align:left\" title=\"Brandenburg, Germany\">Brandenburg, Germany</td><td style=\"text-align:left\" title=\"3622.6913548497027\">3622.6913548497027</td><td style=\"text-align:left\" title=\"3.69015044121364\">3.69015044121364</td></tr><tr><td style=\"text-align:left\" title=\"\"></td><td style=\"text-align:left\" title=\"\"></td><td style=\"text-align:left\" title=\"Bremen\">Bremen</td><td style=\"text-align:left\" title=\"Germany\">Germany</td><td style=\"text-align:left\" title=\"2021-04-08 04:21:13\">2021-04-08 04:21:13</td><td style=\"text-align:left\" title=\"53.0793\">53.0793</td><td style=\"text-align:left\" title=\"8.8017\">8.8017</td><td style=\"text-align:left\" title=\"21697\">21697</td><td style=\"text-align:left\" title=\"415\">415</td><td style=\"text-align:left\" title=\"19790\">19790</td><td style=\"text-align:left\" title=\"1492\">1492</td><td style=\"text-align:left\" title=\"Bremen, Germany\">Bremen, Germany</td><td style=\"text-align:left\" title=\"3176.785468516192\">3176.785468516192</td><td style=\"text-align:left\" title=\"1.9127068258284556\">1.9127068258284556</td></tr><tr><td style=\"text-align:left\" title=\"\"></td><td style=\"text-align:left\" title=\"\"></td><td style=\"text-align:left\" title=\"Hamburg\">Hamburg</td><td style=\"text-align:left\" title=\"Germany\">Germany</td><td style=\"text-align:left\" title=\"2021-04-08 04:21:13\">2021-04-08 04:21:13</td><td style=\"text-align:left\" title=\"53.5511\">53.5511</td><td style=\"text-align:left\" title=\"9.9937\">9.9937</td><td style=\"text-align:left\" title=\"63826\">63826</td><td style=\"text-align:left\" title=\"1404\">1404</td><td style=\"text-align:left\" title=\"55180\">55180</td><td style=\"text-align:left\" title=\"7242\">7242</td><td style=\"text-align:left\" title=\"Hamburg, Germany\">Hamburg, Germany</td><td style=\"text-align:left\" title=\"3466.583097026416\">3466.583097026416</td><td style=\"text-align:left\" title=\"2.199730517344029\">2.199730517344029</td></tr><tr><td style=\"text-align:left\" title=\"\"></td><td style=\"text-align:left\" title=\"\"></td><td style=\"text-align:left\" title=\"Hessen\">Hessen</td><td style=\"text-align:left\" title=\"Germany\">Germany</td><td style=\"text-align:left\" title=\"2021-04-08 04:21:13\">2021-04-08 04:21:13</td><td style=\"text-align:left\" title=\"50.6521\">50.6521</td><td style=\"text-align:left\" title=\"9.1624\">9.1624</td><td style=\"text-align:left\" title=\"227581\">227581</td><td style=\"text-align:left\" title=\"6441\">6441</td><td style=\"text-align:left\" title=\"202400\">202400</td><td style=\"text-align:left\" title=\"18740\">18740</td><td style=\"text-align:left\" title=\"Hessen, Germany\">Hessen, Germany</td><td style=\"text-align:left\" title=\"3632.108798720165\">3632.108798720165</td><td style=\"text-align:left\" title=\"2.8302011152073328\">2.8302011152073328</td></tr><tr><td style=\"text-align:left\" title=\"\"></td><td style=\"text-align:left\" title=\"\"></td><td style=\"text-align:left\" title=\"Mecklenburg-Vorpommern\">Mecklenburg-Vorpommern</td><td style=\"text-align:left\" title=\"Germany\">Germany</td><td style=\"text-align:left\" title=\"2021-04-08 04:21:13\">2021-04-08 04:21:13</td><td style=\"text-align:left\" title=\"53.6127\">53.6127</td><td style=\"text-align:left\" title=\"12.4296\">12.4296</td><td style=\"text-align:left\" title=\"32341\">32341</td><td style=\"text-align:left\" title=\"887\">887</td><td style=\"text-align:left\" title=\"28730\">28730</td><td style=\"text-align:left\" title=\"2724\">2724</td><td style=\"text-align:left\" title=\"Mecklenburg-Vorpommern, Germany\">Mecklenburg-Vorpommern, Germany</td><td style=\"text-align:left\" title=\"2009.1633404258623\">2009.1633404258623</td><td style=\"text-align:left\" title=\"2.742648650320027\">2.742648650320027</td></tr><tr><td style=\"text-align:left\" title=\"\"></td><td style=\"text-align:left\" title=\"\"></td><td style=\"text-align:left\" title=\"Niedersachsen\">Niedersachsen</td><td style=\"text-align:left\" title=\"Germany\">Germany</td><td style=\"text-align:left\" title=\"2021-04-08 04:21:13\">2021-04-08 04:21:13</td><td style=\"text-align:left\" title=\"52.6367\">52.6367</td><td style=\"text-align:left\" title=\"9.8451\">9.8451</td><td style=\"text-align:left\" title=\"205087\">205087</td><td style=\"text-align:left\" title=\"4962\">4962</td><td style=\"text-align:left\" title=\"186600\">186600</td><td style=\"text-align:left\" title=\"13525\">13525</td><td style=\"text-align:left\" title=\"Niedersachsen, Germany\">Niedersachsen, Germany</td><td style=\"text-align:left\" title=\"2569.22437828596\">2569.22437828596</td><td style=\"text-align:left\" title=\"2.419461009230229\">2.419461009230229</td></tr><tr><td style=\"text-align:left\" title=\"\"></td><td style=\"text-align:left\" title=\"\"></td><td style=\"text-align:left\" title=\"Nordrhein-Westfalen\">Nordrhein-Westfalen</td><td style=\"text-align:left\" title=\"Germany\">Germany</td><td style=\"text-align:left\" title=\"2021-04-08 04:21:13\">2021-04-08 04:21:13</td><td style=\"text-align:left\" title=\"51.4332\">51.4332</td><td style=\"text-align:left\" title=\"7.6616\">7.6616</td><td style=\"text-align:left\" title=\"633940\">633940</td><td style=\"text-align:left\" title=\"14462\">14462</td><td style=\"text-align:left\" title=\"572000\">572000</td><td style=\"text-align:left\" title=\"47478\">47478</td><td style=\"text-align:left\" title=\"Nordrhein-Westfalen, Germany\">Nordrhein-Westfalen, Germany</td><td style=\"text-align:left\" title=\"3535.1159178863177\">3535.1159178863177</td><td style=\"text-align:left\" title=\"2.281288450011042\">2.281288450011042</td></tr><tr><td style=\"text-align:left\" title=\"\"></td><td style=\"text-align:left\" title=\"\"></td><td style=\"text-align:left\" title=\"Rheinland-Pfalz\">Rheinland-Pfalz</td><td style=\"text-align:left\" title=\"Germany\">Germany</td><td style=\"text-align:left\" title=\"2021-04-08 04:21:13\">2021-04-08 04:21:13</td><td style=\"text-align:left\" title=\"50.1183\">50.1183</td><td style=\"text-align:left\" title=\"7.309\">7.309</td><td style=\"text-align:left\" title=\"120870\">120870</td><td style=\"text-align:left\" title=\"3362\">3362</td><td style=\"text-align:left\" title=\"108700\">108700</td><td style=\"text-align:left\" title=\"8808\">8808</td><td style=\"text-align:left\" title=\"Rheinland-Pfalz, Germany\">Rheinland-Pfalz, Germany</td><td style=\"text-align:left\" title=\"2958.98692826458\">2958.98692826458</td><td style=\"text-align:left\" title=\"2.781500785968396\">2.781500785968396</td></tr><tr><td style=\"text-align:left\" title=\"\"></td><td style=\"text-align:left\" title=\"\"></td><td style=\"text-align:left\" title=\"Saarland\">Saarland</td><td style=\"text-align:left\" title=\"Germany\">Germany</td><td style=\"text-align:left\" title=\"2021-04-08 04:21:13\">2021-04-08 04:21:13</td><td style=\"text-align:left\" title=\"49.3964\">49.3964</td><td style=\"text-align:left\" title=\"7.023\">7.023</td><td style=\"text-align:left\" title=\"32807\">32807</td><td style=\"text-align:left\" title=\"946\">946</td><td style=\"text-align:left\" title=\"30330\">30330</td><td style=\"text-align:left\" title=\"1531\">1531</td><td style=\"text-align:left\" title=\"Saarland, Germany\">Saarland, Germany</td><td style=\"text-align:left\" title=\"3312.135477819989\">3312.135477819989</td><td style=\"text-align:left\" title=\"2.8835309537598683\">2.8835309537598683</td></tr><tr><td style=\"text-align:left\" title=\"\"></td><td style=\"text-align:left\" title=\"\"></td><td style=\"text-align:left\" title=\"Sachsen\">Sachsen</td><td style=\"text-align:left\" title=\"Germany\">Germany</td><td style=\"text-align:left\" title=\"2021-04-08 04:21:13\">2021-04-08 04:21:13</td><td style=\"text-align:left\" title=\"51.1045\">51.1045</td><td style=\"text-align:left\" title=\"13.2017\">13.2017</td><td style=\"text-align:left\" title=\"229450\">229450</td><td style=\"text-align:left\" title=\"8475\">8475</td><td style=\"text-align:left\" title=\"205400\">205400</td><td style=\"text-align:left\" title=\"15575\">15575</td><td style=\"text-align:left\" title=\"Sachsen, Germany\">Sachsen, Germany</td><td style=\"text-align:left\" title=\"5626.619538261626\">5626.619538261626</td><td style=\"text-align:left\" title=\"3.6936151667029855\">3.6936151667029855</td></tr><tr><td style=\"text-align:left\" title=\"\"></td><td style=\"text-align:left\" title=\"\"></td><td style=\"text-align:left\" title=\"Sachsen-Anhalt\">Sachsen-Anhalt</td><td style=\"text-align:left\" title=\"Germany\">Germany</td><td style=\"text-align:left\" title=\"2021-04-08 04:21:13\">2021-04-08 04:21:13</td><td style=\"text-align:left\" title=\"51.9503\">51.9503</td><td style=\"text-align:left\" title=\"11.6923\">11.6923</td><td style=\"text-align:left\" title=\"76541\">76541</td><td style=\"text-align:left\" title=\"2803\">2803</td><td style=\"text-align:left\" title=\"67780\">67780</td><td style=\"text-align:left\" title=\"5958\">5958</td><td style=\"text-align:left\" title=\"Sachsen-Anhalt, Germany\">Sachsen-Anhalt, Germany</td><td style=\"text-align:left\" title=\"3466.0269046030894\">3466.0269046030894</td><td style=\"text-align:left\" title=\"3.6620895990384237\">3.6620895990384237</td></tr><tr><td style=\"text-align:left\" title=\"\"></td><td style=\"text-align:left\" title=\"\"></td><td style=\"text-align:left\" title=\"Schleswig-Holstein\">Schleswig-Holstein</td><td style=\"text-align:left\" title=\"Germany\">Germany</td><td style=\"text-align:left\" title=\"2021-04-08 04:21:13\">2021-04-08 04:21:13</td><td style=\"text-align:left\" title=\"54.2194\">54.2194</td><td style=\"text-align:left\" title=\"9.6961\">9.6961</td><td style=\"text-align:left\" title=\"51864\">51864</td><td style=\"text-align:left\" title=\"1448\">1448</td><td style=\"text-align:left\" title=\"46260\">46260</td><td style=\"text-align:left\" title=\"4156\">4156</td><td style=\"text-align:left\" title=\"Schleswig-Holstein, Germany\">Schleswig-Holstein, Germany</td><td style=\"text-align:left\" title=\"1790.443785920036\">1790.443785920036</td><td style=\"text-align:left\" title=\"2.7919173222273637\">2.7919173222273637</td></tr><tr><td style=\"text-align:left\" title=\"\"></td><td style=\"text-align:left\" title=\"\"></td><td style=\"text-align:left\" title=\"Thuringen\">Thuringen</td><td style=\"text-align:left\" title=\"Germany\">Germany</td><td style=\"text-align:left\" title=\"2021-04-08 04:21:13\">2021-04-08 04:21:13</td><td style=\"text-align:left\" title=\"51.011\">51.011</td><td style=\"text-align:left\" title=\"10.8453\">10.8453</td><td style=\"text-align:left\" title=\"99350\">99350</td><td style=\"text-align:left\" title=\"3444\">3444</td><td style=\"text-align:left\" title=\"86860\">86860</td><td style=\"text-align:left\" title=\"9046\">9046</td><td style=\"text-align:left\" title=\"Thuringen, Germany\">Thuringen, Germany</td><td style=\"text-align:left\" title=\"4635.710602875681\">4635.710602875681</td><td style=\"text-align:left\" title=\"3.466532460996477\">3.466532460996477</td></tr><tr><td style=\"text-align:left\" title=\"\"></td><td style=\"text-align:left\" title=\"\"></td><td style=\"text-align:left\" title=\"Unknown\">Unknown</td><td style=\"text-align:left\" title=\"Germany\">Germany</td><td style=\"text-align:left\" title=\"2021-04-08 04:21:13\">2021-04-08 04:21:13</td><td style=\"text-align:left\" title=\"\"></td><td style=\"text-align:left\" title=\"\"></td><td style=\"text-align:left\" title=\"9072\">9072</td><td style=\"text-align:left\" title=\"0\">0</td><td style=\"text-align:left\" title=\"0\">0</td><td style=\"text-align:left\" title=\"9072\">9072</td><td style=\"text-align:left\" title=\"Unknown, Germany\">Unknown, Germany</td><td style=\"text-align:left\" title=\"\"></td><td style=\"text-align:left\" title=\"0.0\">0.0</td></tr></table></body></html>"
      ]
     },
     "execution_count": 35,
     "metadata": {
      "new_classpath": []
     },
     "output_type": "execute_result"
    }
   ],
   "source": [
    "//Lösung \n",
    "val zeilenDE = data.filterByRow { it[\"Country_Region\"] as String == \"Germany\"}\n",
    "\n",
    "if(zeilenDE.nrow == 17){\n",
    "    println(\"Richtig!\")\n",
    "}\n",
    "else{\n",
    "    println(\"Falsch! Die Tabelle besitzt ${zeilenDE.nrow} Zeilen, es sollten jedoch 17 sein.\")\n",
    "}\n",
    "zeilenDE.head(17)"
   ]
  },
  {
   "cell_type": "markdown",
   "id": "forward-laundry",
   "metadata": {},
   "source": [
    "#### `any`, `all` und `none`\n",
    "Mit diesen Methoden kann herausgefunden werden, ob bestimmte Aussagen über die Elemente einer Datenstruktur wahr sind."
   ]
  },
  {
   "cell_type": "markdown",
   "id": "express-party",
   "metadata": {},
   "source": [
    "##### `any`\n",
    "`any()` testet, ob es ein Element gibt, bei der die Aussage zutrifft. In diesem Fall wird `true` zurückgegeben, ansonsten `false`."
   ]
  },
  {
   "cell_type": "code",
   "execution_count": 36,
   "id": "separated-possibility",
   "metadata": {
    "execution": {
     "iopub.execute_input": "2021-04-18T14:37+0200",
     "iopub.status.busy": "2021-04-18T14:37+0200",
     "iopub.status.idle": "2021-04-18T14:37+0200",
     "shell.execute_reply": "2021-04-18T14:37+0200",
     "shell.execute_reply.started": "2021-04-18T14:37+0200"
    }
   },
   "outputs": [
    {
     "name": "stdout",
     "output_type": "stream",
     "text": [
      "Es gibt einen Eintrag, in dem die Anzahl der Toten gleich den Aktiven ist: true\n"
     ]
    },
    {
     "data": {
      "text/html": [
       "<html><body><table><tr><th style=\"text-align:left\">FIPS</th><th style=\"text-align:left\">Admin2</th><th style=\"text-align:left\">Province_State</th><th style=\"text-align:left\">Country_Region</th><th style=\"text-align:left\">Last_Update</th><th style=\"text-align:left\">Lat</th><th style=\"text-align:left\">Long_</th><th style=\"text-align:left\">Confirmed</th><th style=\"text-align:left\">Deaths</th><th style=\"text-align:left\">Recovered</th><th style=\"text-align:left\">Active</th><th style=\"text-align:left\">Combined_Key</th><th style=\"text-align:left\">Incident_Rate</th><th style=\"text-align:left\">Case_Fatality_Ratio</th></tr><tr><td style=\"text-align:left\" title=\"\"></td><td style=\"text-align:left\" title=\"\"></td><td style=\"text-align:left\" title=\"Gansu\">Gansu</td><td style=\"text-align:left\" title=\"Urzikstan\">Urzikstan</td><td style=\"text-align:left\" title=\"2021-04-08 04:21:13\">2021-04-08 04:21:13</td><td style=\"text-align:left\" title=\"35.7518\">35.7518</td><td style=\"text-align:left\" title=\"104.2861\">104.2861</td><td style=\"text-align:left\" title=\"193\">193</td><td style=\"text-align:left\" title=\"2\">2</td><td style=\"text-align:left\" title=\"189\">189</td><td style=\"text-align:left\" title=\"2\">2</td><td style=\"text-align:left\" title=\"Gansu, Urzikstan\">Gansu, Urzikstan</td><td style=\"text-align:left\" title=\"0.7318923018581721\">0.7318923018581721</td><td style=\"text-align:left\" title=\"1.0362694300518134\">1.0362694300518134</td></tr></table></body></html>"
      ]
     },
     "execution_count": 36,
     "metadata": {
      "new_classpath": []
     },
     "output_type": "execute_result"
    }
   ],
   "source": [
    "val toteAktive = data.rows.any { it[\"Deaths\"].toString() == it[\"Active\"].toString() && it[\"Deaths\"] != 0  }\n",
    "val filterToteAktive =  data.filterByRow { it[\"Deaths\"].toString() == it[\"Active\"].toString() && it[\"Deaths\"] != 0 }\n",
    "println(\"Es gibt einen Eintrag, in dem die Anzahl der Toten gleich den Aktiven ist: $toteAktive\")\n",
    "filterToteAktive.head()"
   ]
  },
  {
   "cell_type": "markdown",
   "id": "binary-heading",
   "metadata": {},
   "source": [
    "##### `all`\n",
    "`all()` findet heraus, ob die Aussage für alle Elemente wahr ist."
   ]
  },
  {
   "cell_type": "code",
   "execution_count": 37,
   "id": "fitted-kidney",
   "metadata": {
    "execution": {
     "iopub.execute_input": "2021-04-18T14:37+0200",
     "iopub.status.busy": "2021-04-18T14:37+0200",
     "iopub.status.idle": "2021-04-18T14:37+0200",
     "shell.execute_reply": "2021-04-18T14:37+0200",
     "shell.execute_reply.started": "2021-04-18T14:37+0200"
    }
   },
   "outputs": [
    {
     "name": "stdout",
     "output_type": "stream",
     "text": [
      "Alle Einträge wurden heute zuletzt aktualisiert: false\n"
     ]
    },
    {
     "data": {
      "text/html": [
       "<html><body><table><tr><th style=\"text-align:left\">FIPS</th><th style=\"text-align:left\">Admin2</th><th style=\"text-align:left\">Province_State</th><th style=\"text-align:left\">Country_Region</th><th style=\"text-align:left\">Last_Update</th><th style=\"text-align:left\">Lat</th><th style=\"text-align:left\">Long_</th><th style=\"text-align:left\">Confirmed</th><th style=\"text-align:left\">Deaths</th><th style=\"text-align:left\">Recovered</th><th style=\"text-align:left\">Active</th><th style=\"text-align:left\">Combined_Key</th><th style=\"text-align:left\">Incident_Rate</th><th style=\"text-align:left\">Case_Fatality_Ratio</th></tr><tr><td style=\"text-align:left\" title=\"\"></td><td style=\"text-align:left\" title=\"\"></td><td style=\"text-align:left\" title=\"Diamond Princess\">Diamond Princess</td><td style=\"text-align:left\" title=\"Canada\">Canada</td><td style=\"text-align:left\" title=\"2020-12-21 13:27:30\">2020-12-21 13:27:30</td><td style=\"text-align:left\" title=\"\"></td><td style=\"text-align:left\" title=\"\"></td><td style=\"text-align:left\" title=\"0\">0</td><td style=\"text-align:left\" title=\"1\">1</td><td style=\"text-align:left\" title=\"0\">0</td><td style=\"text-align:left\" title=\"\"></td><td style=\"text-align:left\" title=\"Diamond Princess, Canada\">Diamond Princess, Canada</td><td style=\"text-align:left\" title=\"\"></td><td style=\"text-align:left\" title=\"\"></td></tr><tr><td style=\"text-align:left\" title=\"\"></td><td style=\"text-align:left\" title=\"\"></td><td style=\"text-align:left\" title=\"Grand Princess\">Grand Princess</td><td style=\"text-align:left\" title=\"Canada\">Canada</td><td style=\"text-align:left\" title=\"2020-12-21 13:27:30\">2020-12-21 13:27:30</td><td style=\"text-align:left\" title=\"\"></td><td style=\"text-align:left\" title=\"\"></td><td style=\"text-align:left\" title=\"13\">13</td><td style=\"text-align:left\" title=\"0\">0</td><td style=\"text-align:left\" title=\"13\">13</td><td style=\"text-align:left\" title=\"0\">0</td><td style=\"text-align:left\" title=\"Grand Princess, Canada\">Grand Princess, Canada</td><td style=\"text-align:left\" title=\"\"></td><td style=\"text-align:left\" title=\"0.0\">0.0</td></tr><tr><td style=\"text-align:left\" title=\"\"></td><td style=\"text-align:left\" title=\"\"></td><td style=\"text-align:left\" title=\"Bonaire, Sint Eustatius and Saba\">Bonaire, Sint Eustatius and Saba</td><td style=\"text-align:left\" title=\"Netherlands\">Netherlands</td><td style=\"text-align:left\" title=\"2021-01-08 23:22:27\">2021-01-08 23:22:27</td><td style=\"text-align:left\" title=\"12.1784\">12.1784</td><td style=\"text-align:left\" title=\"-68.2385\">-68.2385</td><td style=\"text-align:left\" title=\"196\">196</td><td style=\"text-align:left\" title=\"3\">3</td><td style=\"text-align:left\" title=\"180\">180</td><td style=\"text-align:left\" title=\"13\">13</td><td style=\"text-align:left\" title=\"Bonaire, Sint Eustatius and Saba, Netherlands\">Bonaire, Sint Eustatius and Saba, Netherlands</td><td style=\"text-align:left\" title=\"747.4924678692649\">747.4924678692649</td><td style=\"text-align:left\" title=\"1.530612244897959\">1.530612244897959</td></tr><tr><td style=\"text-align:left\" title=\"80001\">80001</td><td style=\"text-align:left\" title=\"Out of AL\">Out of AL</td><td style=\"text-align:left\" title=\"Alabama\">Alabama</td><td style=\"text-align:left\" title=\"US\">US</td><td style=\"text-align:left\" title=\"2020-12-21 13:27:30\">2020-12-21 13:27:30</td><td style=\"text-align:left\" title=\"\"></td><td style=\"text-align:left\" title=\"\"></td><td style=\"text-align:left\" title=\"0\">0</td><td style=\"text-align:left\" title=\"0\">0</td><td style=\"text-align:left\" title=\"\"></td><td style=\"text-align:left\" title=\"\"></td><td style=\"text-align:left\" title=\"Out of AL, Alabama, US\">Out of AL, Alabama, US</td><td style=\"text-align:left\" title=\"\"></td><td style=\"text-align:left\" title=\"\"></td></tr><tr><td style=\"text-align:left\" title=\"90001\">90001</td><td style=\"text-align:left\" title=\"Unassigned\">Unassigned</td><td style=\"text-align:left\" title=\"Alabama\">Alabama</td><td style=\"text-align:left\" title=\"US\">US</td><td style=\"text-align:left\" title=\"2020-12-21 13:27:30\">2020-12-21 13:27:30</td><td style=\"text-align:left\" title=\"\"></td><td style=\"text-align:left\" title=\"\"></td><td style=\"text-align:left\" title=\"0\">0</td><td style=\"text-align:left\" title=\"0\">0</td><td style=\"text-align:left\" title=\"\"></td><td style=\"text-align:left\" title=\"\"></td><td style=\"text-align:left\" title=\"Unassigned, Alabama, US\">Unassigned, Alabama, US</td><td style=\"text-align:left\" title=\"\"></td><td style=\"text-align:left\" title=\"\"></td></tr><tr><td style=\"text-align:left\" title=\"88888\">88888</td><td style=\"text-align:left\" title=\"\"></td><td style=\"text-align:left\" title=\"Diamond Princess\">Diamond Princess</td><td style=\"text-align:left\" title=\"US\">US</td><td style=\"text-align:left\" title=\"2020-08-04 02:27:56\">2020-08-04 02:27:56</td><td style=\"text-align:left\" title=\"\"></td><td style=\"text-align:left\" title=\"\"></td><td style=\"text-align:left\" title=\"49\">49</td><td style=\"text-align:left\" title=\"0\">0</td><td style=\"text-align:left\" title=\"\"></td><td style=\"text-align:left\" title=\"\"></td><td style=\"text-align:left\" title=\"Diamond Princess, US\">Diamond Princess, US</td><td style=\"text-align:left\" title=\"\"></td><td style=\"text-align:left\" title=\"0.0\">0.0</td></tr><tr><td style=\"text-align:left\" title=\"99999\">99999</td><td style=\"text-align:left\" title=\"\"></td><td style=\"text-align:left\" title=\"Grand Princess\">Grand Princess</td><td style=\"text-align:left\" title=\"US\">US</td><td style=\"text-align:left\" title=\"2020-08-04 02:27:56\">2020-08-04 02:27:56</td><td style=\"text-align:left\" title=\"\"></td><td style=\"text-align:left\" title=\"\"></td><td style=\"text-align:left\" title=\"103\">103</td><td style=\"text-align:left\" title=\"3\">3</td><td style=\"text-align:left\" title=\"\"></td><td style=\"text-align:left\" title=\"\"></td><td style=\"text-align:left\" title=\"Grand Princess, US\">Grand Princess, US</td><td style=\"text-align:left\" title=\"\"></td><td style=\"text-align:left\" title=\"2.912621359223301\">2.912621359223301</td></tr><tr><td style=\"text-align:left\" title=\"80023\">80023</td><td style=\"text-align:left\" title=\"Out of ME\">Out of ME</td><td style=\"text-align:left\" title=\"Maine\">Maine</td><td style=\"text-align:left\" title=\"US\">US</td><td style=\"text-align:left\" title=\"2020-08-07 22:34:20\">2020-08-07 22:34:20</td><td style=\"text-align:left\" title=\"\"></td><td style=\"text-align:left\" title=\"\"></td><td style=\"text-align:left\" title=\"0\">0</td><td style=\"text-align:left\" title=\"0\">0</td><td style=\"text-align:left\" title=\"\"></td><td style=\"text-align:left\" title=\"\"></td><td style=\"text-align:left\" title=\"Out of ME, Maine, US\">Out of ME, Maine, US</td><td style=\"text-align:left\" title=\"\"></td><td style=\"text-align:left\" title=\"\"></td></tr><tr><td style=\"text-align:left\" title=\"90032\">90032</td><td style=\"text-align:left\" title=\"Unassigned\">Unassigned</td><td style=\"text-align:left\" title=\"Nevada\">Nevada</td><td style=\"text-align:left\" title=\"US\">US</td><td style=\"text-align:left\" title=\"2021-01-24 23:22:19\">2021-01-24 23:22:19</td><td style=\"text-align:left\" title=\"\"></td><td style=\"text-align:left\" title=\"\"></td><td style=\"text-align:left\" title=\"0\">0</td><td style=\"text-align:left\" title=\"0\">0</td><td style=\"text-align:left\" title=\"\"></td><td style=\"text-align:left\" title=\"\"></td><td style=\"text-align:left\" title=\"Unassigned, Nevada, US\">Unassigned, Nevada, US</td><td style=\"text-align:left\" title=\"\"></td><td style=\"text-align:left\" title=\"\"></td></tr><tr><td style=\"text-align:left\" title=\"90051\">90051</td><td style=\"text-align:left\" title=\"Unassigned\">Unassigned</td><td style=\"text-align:left\" title=\"Virginia\">Virginia</td><td style=\"text-align:left\" title=\"US\">US</td><td style=\"text-align:left\" title=\"2020-12-21 13:27:30\">2020-12-21 13:27:30</td><td style=\"text-align:left\" title=\"\"></td><td style=\"text-align:left\" title=\"\"></td><td style=\"text-align:left\" title=\"0\">0</td><td style=\"text-align:left\" title=\"0\">0</td><td style=\"text-align:left\" title=\"\"></td><td style=\"text-align:left\" title=\"\"></td><td style=\"text-align:left\" title=\"Unassigned, Virginia, US\">Unassigned, Virginia, US</td><td style=\"text-align:left\" title=\"\"></td><td style=\"text-align:left\" title=\"\"></td></tr><tr><td style=\"text-align:left\" title=\"\"></td><td style=\"text-align:left\" title=\"\"></td><td style=\"text-align:left\" title=\"Saint Helena, Ascension and Tristan da Cunha\">Saint Helena, Ascension and Tristan da Cunha</td><td style=\"text-align:left\" title=\"United Kingdom\">United Kingdom</td><td style=\"text-align:left\" title=\"2021-03-14 23:25:24\">2021-03-14 23:25:24</td><td style=\"text-align:left\" title=\"-7.9467\">-7.9467</td><td style=\"text-align:left\" title=\"-14.3559\">-14.3559</td><td style=\"text-align:left\" title=\"4\">4</td><td style=\"text-align:left\" title=\"0\">0</td><td style=\"text-align:left\" title=\"4\">4</td><td style=\"text-align:left\" title=\"0\">0</td><td style=\"text-align:left\" title=\"Saint Helena, Ascension and Tristan da Cunha, United Kingdom\">Saint Helena, Ascension and Tristan da Cunha, U...</td><td style=\"text-align:left\" title=\"70.65889418830595\">70.65889418830595</td><td style=\"text-align:left\" title=\"0.0\">0.0</td></tr></table></body></html>"
      ]
     },
     "execution_count": 37,
     "metadata": {
      "new_classpath": []
     },
     "output_type": "execute_result"
    }
   ],
   "source": [
    "val datumHeute = \"2021-04-08\" //Format: Jahr-Monat-Tag\n",
    "val updateHeute = data.rows.all { (it[\"Last_Update\"] as String).contains(datumHeute)}\n",
    "val filterUpdateHeute =  data.filterByRow { (it[\"Last_Update\"] as String).contains(datumHeute) == false }\n",
    "println(\"Alle Einträge wurden heute zuletzt aktualisiert: $updateHeute\")\n",
    "filterUpdateHeute.head(20)"
   ]
  },
  {
   "cell_type": "markdown",
   "id": "metallic-doctrine",
   "metadata": {},
   "source": [
    "##### `none`\n",
    "`none()` ist das Gegenteil zu `all()`. Es wird `true` zurückgegeben, falls die Bedinung für alle Elemente falsch ist."
   ]
  },
  {
   "cell_type": "code",
   "execution_count": 38,
   "id": "concerned-oxide",
   "metadata": {
    "execution": {
     "iopub.execute_input": "2021-04-18T14:37+0200",
     "iopub.status.busy": "2021-04-18T14:37+0200",
     "iopub.status.idle": "2021-04-18T14:37+0200",
     "shell.execute_reply": "2021-04-18T14:37+0200",
     "shell.execute_reply.started": "2021-04-18T14:37+0200"
    }
   },
   "outputs": [
    {
     "name": "stdout",
     "output_type": "stream",
     "text": [
      "Es gibt keinen Eintrag, der mehr als 5 Millionen bestätigte Fälle besitzt: true\n"
     ]
    },
    {
     "data": {
      "text/html": [
       "<html><body><table><tr><th style=\"text-align:left\">FIPS</th><th style=\"text-align:left\">Admin2</th><th style=\"text-align:left\">Province_State</th><th style=\"text-align:left\">Country_Region</th><th style=\"text-align:left\">Last_Update</th><th style=\"text-align:left\">Lat</th><th style=\"text-align:left\">Long_</th><th style=\"text-align:left\">Confirmed</th><th style=\"text-align:left\">Deaths</th><th style=\"text-align:left\">Recovered</th><th style=\"text-align:left\">Active</th><th style=\"text-align:left\">Combined_Key</th><th style=\"text-align:left\">Incident_Rate</th><th style=\"text-align:left\">Case_Fatality_Ratio</th></tr></table></body></html>"
      ]
     },
     "execution_count": 38,
     "metadata": {
      "new_classpath": []
     },
     "output_type": "execute_result"
    }
   ],
   "source": [
    "val millionenBestaetigte = data.rows.none { (it[\"Confirmed\"] as Int) > 5000000 }\n",
    "val filterMillionenBestaetigte =  data.filterByRow { (it[\"Confirmed\"] as Int) > 5000000 }\n",
    "println(\"Es gibt keinen Eintrag, der mehr als 5 Millionen bestätigte Fälle besitzt: $millionenBestaetigte\")\n",
    "filterMillionenBestaetigte.head(20)"
   ]
  },
  {
   "cell_type": "markdown",
   "id": "looking-detective",
   "metadata": {},
   "source": [
    "##### Aufgabe\n",
    "Während der Vorstellung der drei Methoden könnte aufgefallen sein, dass sie sich gegenseitig beeinflussen. Genau dies soll in dieser Aufgabe genutzt werden. Vervollständigen Sie folgendes Grundgerüst, sodass alle Tests keine Fehler aufweisen. Die Methode `checkLaenge()` soll `true` zurückgeben, falls jede Zeichenkette der Liste länger als die übergebene Länge ist. `checkBuchstabe()` soll überprüfen, ob jede Zeichenkette der Liste den übergebenen Buchstaben beinhaltet."
   ]
  },
  {
   "cell_type": "code",
   "execution_count": 39,
   "id": "inner-compilation",
   "metadata": {
    "execution": {
     "iopub.execute_input": "2021-04-18T14:37+0200",
     "iopub.status.busy": "2021-04-18T14:37+0200",
     "iopub.status.idle": "2021-04-18T14:37+0200",
     "shell.execute_reply": "2021-04-18T14:37+0200"
    }
   },
   "outputs": [
    {
     "name": "stderr",
     "output_type": "stream",
     "text": [
      "Line_52.jupyter.kts (2:31 - 37) Parameter 'laenge' is never used\n",
      "Line_52.jupyter.kts (2:51 - 63) Type mismatch: inferred type is Unit but Boolean was expected\n",
      "Line_52.jupyter.kts (2:53 - 61) Type mismatch: inferred type is Unit but Boolean was expected\n",
      "Line_52.jupyter.kts (3:31 - 37) Parameter 'laenge' is never used\n",
      "Line_52.jupyter.kts (3:52 - 64) Type mismatch: inferred type is Unit but Boolean was expected\n",
      "Line_52.jupyter.kts (3:54 - 62) Type mismatch: inferred type is Unit but Boolean was expected\n",
      "Line_52.jupyter.kts (4:31 - 37) Parameter 'laenge' is never used\n",
      "Line_52.jupyter.kts (4:51 - 63) Type mismatch: inferred type is Unit but Boolean was expected\n",
      "Line_52.jupyter.kts (4:53 - 61) Type mismatch: inferred type is Unit but Boolean was expected\n",
      "Line_52.jupyter.kts (6:34 - 43) Parameter 'buchstabe' is never used\n",
      "Line_52.jupyter.kts (6:58 - 70) Type mismatch: inferred type is Unit but Boolean was expected\n",
      "Line_52.jupyter.kts (6:60 - 68) Type mismatch: inferred type is Unit but Boolean was expected\n",
      "Line_52.jupyter.kts (7:34 - 43) Parameter 'buchstabe' is never used\n",
      "Line_52.jupyter.kts (7:59 - 71) Type mismatch: inferred type is Unit but Boolean was expected\n",
      "Line_52.jupyter.kts (7:61 - 69) Type mismatch: inferred type is Unit but Boolean was expected\n",
      "Line_52.jupyter.kts (8:34 - 43) Parameter 'buchstabe' is never used\n",
      "Line_52.jupyter.kts (8:58 - 70) Type mismatch: inferred type is Unit but Boolean was expected\n",
      "Line_52.jupyter.kts (8:60 - 68) Type mismatch: inferred type is Unit but Boolean was expected"
     ]
    }
   ],
   "source": [
    "//Grundgerüst\n",
    "fun List<String>.checkLaenge1(laenge: Int) =  all { /*TODO*/ }\n",
    "fun List<String>.checkLaenge2(laenge: Int) =  none { /*TODO*/ }\n",
    "fun List<String>.checkLaenge3(laenge: Int) =  any { /*TODO*/ }\n",
    "\n",
    "fun List<String>.checkBuchstabe1(buchstabe: Char) =  all { /*TODO*/ }\n",
    "fun List<String>.checkBuchstabe2(buchstabe: Char) =  none { /*TODO*/ }\n",
    "fun List<String>.checkBuchstabe3(buchstabe: Char) =  any { /*TODO*/ }\n",
    "\n",
    "var fehler = 0\n",
    "val liste1 = listOf(\"Tertiär\", \"Senat\", \"Sklave\", \"Blatt\", \"Ruhm\", \"Pinguin\")\n",
    "if (liste1.checkLaenge1(4) != true){\n",
    "    println(\"Fehler! liste1.checkLaenge1(4) sollte eigentlich true sein, ist aber ${liste1.checkLaenge1(4)}\")\n",
    "    fehler++\n",
    "}\n",
    "if (liste1.checkLaenge2(4) != true){\n",
    "    println(\"Fehler! liste1.checkLaenge3(4) sollte eigentlich true sein, ist aber ${liste1.checkLaenge2(4)}\")\n",
    "    fehler++\n",
    "}\n",
    "if (liste1.checkLaenge3(4) != true){\n",
    "    println(\"Fehler! liste1.checkLaenge3(4) sollte eigentlich true sein, ist aber ${liste1.checkLaenge3(4)}\")\n",
    "    fehler++\n",
    "}\n",
    "\n",
    "if (liste1.checkLaenge1(7) != false){\n",
    "    println(\"Fehler! liste1.checkLaenge1(7) sollte eigentlich false sein, ist aber ${liste1.checkLaenge1(7)}\")\n",
    "    fehler++\n",
    "}\n",
    "if (liste1.checkLaenge2(7) != false){\n",
    "    println(\"Fehler! liste1.checkLaenge2(7) sollte eigentlich false sein, ist aber ${liste1.checkLaenge2(7)}\")\n",
    "    fehler++\n",
    "}\n",
    "if (liste1.checkLaenge3(7) != false){\n",
    "    println(\"Fehler! liste1.checkLaenge3(7) sollte eigentlich false sein, ist aber ${liste1.checkLaenge3(7)}\")\n",
    "    fehler++\n",
    "}\n",
    "\n",
    "val liste2 = listOf(\"Barretina\", \"Sockel\", \"Tablette\", \"Elefant\", \"Zauberstab\", \"Heer\")\n",
    "if (liste2.checkBuchstabe1('e') != true){\n",
    "    println(\"Fehler! liste2.checkBuchstabe1('e') sollte eigentlich true sein, ist aber ${liste2.checkBuchstabe1('e')}\")\n",
    "    fehler++\n",
    "}\n",
    "if (liste2.checkBuchstabe2('e') != true){\n",
    "    println(\"Fehler! liste2.checkBuchstabe2('e') sollte eigentlich true sein, ist aber ${liste2.checkBuchstabe2('e')}\")\n",
    "    fehler++\n",
    "}\n",
    "if (liste2.checkBuchstabe3('e') != true){\n",
    "    println(\"Fehler! liste2.checkBuchstabe3('e') sollte eigentlich true sein, ist aber ${liste2.checkBuchstabe3('e')}\")\n",
    "    fehler++\n",
    "}\n",
    "\n",
    "if (liste2.checkBuchstabe1('a') != false){\n",
    "    println(\"Fehler! liste2.checkBuchstabe1('a') sollte eigentlich false sein, ist aber ${liste2.checkBuchstabe1('a')}\")\n",
    "    fehler++\n",
    "}\n",
    "if (liste2.checkBuchstabe2('a') != false){\n",
    "    println(\"Fehler! liste2.checkBuchstabe2('a') sollte eigentlich false sein, ist aber ${liste2.checkBuchstabe2('a')}\")\n",
    "    fehler++\n",
    "}\n",
    "if (liste2.checkBuchstabe3('a') != false){\n",
    "    println(\"Fehler! liste2.checkBuchstabe3('a') sollte eigentlich false sein, ist aber ${liste2.checkBuchstabe3('a')}\")\n",
    "    fehler++\n",
    "}\n",
    "\n",
    "if(fehler == 0)\n",
    "    println(\"Super! Alle Tests bestanden!\")\n",
    "else\n",
    "    println(\"Bei $fehler Tests kamen Fehler auf.\")"
   ]
  },
  {
   "cell_type": "code",
   "execution_count": 40,
   "id": "catholic-clause",
   "metadata": {
    "execution": {
     "iopub.execute_input": "2021-04-18T14:37+0200",
     "iopub.status.busy": "2021-04-18T14:37+0200",
     "iopub.status.idle": "2021-04-18T14:37+0200",
     "shell.execute_reply": "2021-04-18T14:37+0200",
     "shell.execute_reply.started": "2021-04-18T14:37+0200"
    }
   },
   "outputs": [
    {
     "name": "stdout",
     "output_type": "stream",
     "text": [
      "Super! Alle Tests bestanden!\n"
     ]
    }
   ],
   "source": [
    "//Lösung\n",
    "fun List<String>.checkLaenge1(laenge: Int) =  all { it.length >= laenge }\n",
    "fun List<String>.checkLaenge2(laenge: Int) =  none { it.length < laenge }\n",
    "fun List<String>.checkLaenge3(laenge: Int) =  !any { it.length < laenge}\n",
    "\n",
    "fun List<String>.checkBuchstabe1(buchstabe: Char) =  all { it.contains(buchstabe) }\n",
    "fun List<String>.checkBuchstabe2(buchstabe: Char) =  none { !it.contains(buchstabe) }\n",
    "fun List<String>.checkBuchstabe3(buchstabe: Char) =  !any { !it.contains(buchstabe)}\n",
    "\n",
    "var fehler = 0\n",
    "val liste1 = listOf(\"Tertiär\", \"Senat\", \"Sklave\", \"Blatt\", \"Ruhm\", \"Pinguin\")\n",
    "if (liste1.checkLaenge1(4) != true){\n",
    "    println(\"Fehler! liste1.checkLaenge1(4) sollte eigentlich true sein, ist aber ${liste1.checkLaenge1(4)}\")\n",
    "    fehler++\n",
    "}\n",
    "if (liste1.checkLaenge2(4) != true){\n",
    "    println(\"Fehler! liste1.checkLaenge3(4) sollte eigentlich true sein, ist aber ${liste1.checkLaenge2(4)}\")\n",
    "    fehler++\n",
    "}\n",
    "if (liste1.checkLaenge3(4) != true){\n",
    "    println(\"Fehler! liste1.checkLaenge3(4) sollte eigentlich true sein, ist aber ${liste1.checkLaenge3(4)}\")\n",
    "    fehler++\n",
    "}\n",
    "\n",
    "if (liste1.checkLaenge1(7) != false){\n",
    "    println(\"Fehler! liste1.checkLaenge1(7) sollte eigentlich false sein, ist aber ${liste1.checkLaenge1(7)}\")\n",
    "    fehler++\n",
    "}\n",
    "if (liste1.checkLaenge2(7) != false){\n",
    "    println(\"Fehler! liste1.checkLaenge2(7) sollte eigentlich false sein, ist aber ${liste1.checkLaenge2(7)}\")\n",
    "    fehler++\n",
    "}\n",
    "if (liste1.checkLaenge3(7) != false){\n",
    "    println(\"Fehler! liste1.checkLaenge3(7) sollte eigentlich false sein, ist aber ${liste1.checkLaenge3(7)}\")\n",
    "    fehler++\n",
    "}\n",
    "\n",
    "val liste2 = listOf(\"Barretina\", \"Sockel\", \"Tablette\", \"Elefant\", \"Zauberstab\", \"Heer\")\n",
    "if (liste2.checkBuchstabe1('e') != true){\n",
    "    println(\"Fehler! liste2.checkBuchstabe1('e') sollte eigentlich true sein, ist aber ${liste2.checkBuchstabe1('e')}\")\n",
    "    fehler++\n",
    "}\n",
    "if (liste2.checkBuchstabe2('e') != true){\n",
    "    println(\"Fehler! liste2.checkBuchstabe2('e') sollte eigentlich true sein, ist aber ${liste2.checkBuchstabe2('e')}\")\n",
    "    fehler++\n",
    "}\n",
    "if (liste2.checkBuchstabe3('e') != true){\n",
    "    println(\"Fehler! liste2.checkBuchstabe3('e') sollte eigentlich true sein, ist aber ${liste2.checkBuchstabe3('e')}\")\n",
    "    fehler++\n",
    "}\n",
    "\n",
    "if (liste2.checkBuchstabe1('a') != false){\n",
    "    println(\"Fehler! liste2.checkBuchstabe1('a') sollte eigentlich false sein, ist aber ${liste2.checkBuchstabe1('a')}\")\n",
    "    fehler++\n",
    "}\n",
    "if (liste2.checkBuchstabe2('a') != false){\n",
    "    println(\"Fehler! liste2.checkBuchstabe2('a') sollte eigentlich false sein, ist aber ${liste2.checkBuchstabe2('a')}\")\n",
    "    fehler++\n",
    "}\n",
    "if (liste2.checkBuchstabe3('a') != false){\n",
    "    println(\"Fehler! liste2.checkBuchstabe3('a') sollte eigentlich false sein, ist aber ${liste2.checkBuchstabe3('a')}\")\n",
    "    fehler++\n",
    "}\n",
    "\n",
    "if(fehler == 0)\n",
    "    println(\"Super! Alle Tests bestanden!\")\n",
    "else\n",
    "    println(\"Bei $fehler Tests kamen Fehler auf.\")"
   ]
  },
  {
   "cell_type": "markdown",
   "id": "romance-machine",
   "metadata": {},
   "source": [
    "#### `find`, `first` und `firstOrNull`\n",
    "##### `find`\n",
    "Wird ein Element gesucht, findet `find()` Anwendung. Diese Methode gibt das erste gefundene Element, bei dem die Bedingung wahr ist zurück. Falls kein Element gefunden wird, ist das Ergebnis `null`."
   ]
  },
  {
   "cell_type": "code",
   "execution_count": 41,
   "id": "united-ordering",
   "metadata": {
    "execution": {
     "iopub.execute_input": "2021-04-18T14:37+0200",
     "iopub.status.busy": "2021-04-18T14:37+0200",
     "iopub.status.idle": "2021-04-18T14:37+0200",
     "shell.execute_reply": "2021-04-18T14:37+0200",
     "shell.execute_reply.started": "2021-04-18T14:37+0200"
    }
   },
   "outputs": [
    {
     "name": "stdout",
     "output_type": "stream",
     "text": [
      "Bestätigte Fälle in Bayern: 517336\n",
      "Bestätigte Fälle in Bayreuth: null\n"
     ]
    }
   ],
   "source": [
    "val bayern = data.rows.find { it[\"Province_State\"] == \"Bayern\" }?.get(\"Confirmed\")\n",
    "println(\"Bestätigte Fälle in Bayern: $bayern\")\n",
    "val bayreuth = data.rows.find { it[\"Province_State\"] == \"Bayreuth\" }?.get(\"Confirmed\")\n",
    "println(\"Bestätigte Fälle in Bayreuth: $bayreuth\")"
   ]
  },
  {
   "cell_type": "markdown",
   "id": "noble-pickup",
   "metadata": {},
   "source": [
    "##### `first`\n",
    "Eine ähnliche Funktionalität besitzt `first()`. Jedoch wird, falls kein Element gefundenden wurde, eine `NoSuchElementException` geworfen."
   ]
  },
  {
   "cell_type": "code",
   "execution_count": 42,
   "id": "seasonal-vietnamese",
   "metadata": {
    "execution": {
     "iopub.execute_input": "2021-04-18T14:37+0200",
     "iopub.status.busy": "2021-04-18T14:37+0200",
     "iopub.status.idle": "2021-04-18T14:37+0200",
     "shell.execute_reply": "2021-04-18T14:37+0200"
    }
   },
   "outputs": [
    {
     "name": "stdout",
     "output_type": "stream",
     "text": [
      "Bestätigte Fälle in Bayern: 517336\n"
     ]
    },
    {
     "name": "stderr",
     "output_type": "stream",
     "text": [
      "java.util.NoSuchElementException: Collection contains no element matching the predicate.\n",
      "Line_57_jupyter.<init>(Line_57.jupyter.kts:8)\n",
      "java.base/jdk.internal.reflect.NativeConstructorAccessorImpl.newInstance0(Native Method)\n",
      "java.base/jdk.internal.reflect.NativeConstructorAccessorImpl.newInstance(NativeConstructorAccessorImpl.java:64)\n",
      "java.base/jdk.internal.reflect.DelegatingConstructorAccessorImpl.newInstance(DelegatingConstructorAccessorImpl.java:45)\n",
      "java.base/java.lang.reflect.Constructor.newInstanceWithCaller(Constructor.java:500)\n",
      "java.base/java.lang.reflect.Constructor.newInstance(Constructor.java:481)\n",
      "kotlin.script.experimental.jvm.BasicJvmScriptEvaluator.evalWithConfigAndOtherScriptsResults(BasicJvmScriptEvaluator.kt:96)\n",
      "kotlin.script.experimental.jvm.BasicJvmScriptEvaluator.invoke$suspendImpl(BasicJvmScriptEvaluator.kt:41)\n",
      "kotlin.script.experimental.jvm.BasicJvmScriptEvaluator.invoke(BasicJvmScriptEvaluator.kt)\n",
      "kotlin.script.experimental.jvm.BasicJvmReplEvaluator.eval(BasicJvmReplEvaluator.kt:51)\n",
      "org.jetbrains.kotlin.jupyter.ReplForJupyterImpl$doEval$resultWithDiagnostics$1.invokeSuspend(repl.kt:604)\n",
      "kotlin.coroutines.jvm.internal.BaseContinuationImpl.resumeWith(ContinuationImpl.kt:33)\n",
      "kotlinx.coroutines.DispatchedTask.run(DispatchedTask.kt:56)\n",
      "kotlinx.coroutines.EventLoopImplBase.processNextEvent(EventLoop.common.kt:274)\n",
      "kotlinx.coroutines.BlockingCoroutine.joinBlocking(Builders.kt:84)\n",
      "kotlinx.coroutines.BuildersKt__BuildersKt.runBlocking(Builders.kt:59)\n",
      "kotlinx.coroutines.BuildersKt.runBlocking(Unknown Source)\n",
      "kotlinx.coroutines.BuildersKt__BuildersKt.runBlocking$default(Builders.kt:38)\n",
      "kotlinx.coroutines.BuildersKt.runBlocking$default(Unknown Source)\n",
      "org.jetbrains.kotlin.jupyter.ReplForJupyterImpl.doEval(repl.kt:604)\n",
      "org.jetbrains.kotlin.jupyter.ReplForJupyterImpl.eval(repl.kt:434)\n",
      "org.jetbrains.kotlin.jupyter.ProtocolKt$shellMessagesHandler$res$1.invoke(protocol.kt:248)\n",
      "org.jetbrains.kotlin.jupyter.ProtocolKt$shellMessagesHandler$res$1.invoke(protocol.kt)\n",
      "org.jetbrains.kotlin.jupyter.ProtocolKt.evalWithIO(protocol.kt:400)\n",
      "org.jetbrains.kotlin.jupyter.ProtocolKt.shellMessagesHandler(protocol.kt:247)\n",
      "org.jetbrains.kotlin.jupyter.IkotlinKt.kernelServer(ikotlin.kt:127)\n",
      "org.jetbrains.kotlin.jupyter.IkotlinKt.kernelServer$default(ikotlin.kt:95)\n",
      "org.jetbrains.kotlin.jupyter.IkotlinKt.main(ikotlin.kt:72)\n"
     ]
    }
   ],
   "source": [
    "val bayern = data.rows.first { it[\"Province_State\"] == \"Bayern\" }?.get(\"Confirmed\")\n",
    "println(\"Bestätigte Fälle in Bayern: $bayern\")\n",
    "val bayreuth = data.rows.first { it[\"Province_State\"] == \"Bayreuth\" }?.get(\"Confirmed\")\n",
    "println(\"Bestätigte Fälle in Bayreuth: $bayreuth\")"
   ]
  },
  {
   "cell_type": "markdown",
   "id": "flush-variation",
   "metadata": {},
   "source": [
    "##### `firstOrNull`\n",
    "`firstOrNull()` erweitert die `first()`-Methode dadurch, dass bei Fehlschlag `null` zurückgegeben wird anstelle des Fehlers. Diese Methode besitzt die gleiche Funktionalität wie `find()`."
   ]
  },
  {
   "cell_type": "code",
   "execution_count": 43,
   "id": "biological-investigator",
   "metadata": {
    "execution": {
     "iopub.execute_input": "2021-04-18T14:37+0200",
     "iopub.status.busy": "2021-04-18T14:37+0200",
     "iopub.status.idle": "2021-04-18T14:37+0200",
     "shell.execute_reply": "2021-04-18T14:37+0200",
     "shell.execute_reply.started": "2021-04-18T14:37+0200"
    }
   },
   "outputs": [
    {
     "name": "stdout",
     "output_type": "stream",
     "text": [
      "Bestätigte Fälle in Bayern: 517336\n",
      "Bestätigte Fälle in Bayreuth: null\n"
     ]
    }
   ],
   "source": [
    "val bayern = data.rows.firstOrNull { it[\"Province_State\"] == \"Bayern\" }?.get(\"Confirmed\")\n",
    "println(\"Bestätigte Fälle in Bayern: $bayern\")\n",
    "val bayreuth = data.rows.firstOrNull { it[\"Province_State\"] == \"Bayreuth\" }?.get(\"Confirmed\")\n",
    "println(\"Bestätigte Fälle in Bayreuth: $bayreuth\")"
   ]
  },
  {
   "cell_type": "markdown",
   "id": "located-violence",
   "metadata": {},
   "source": [
    "#### `partition`\n",
    "`partition()` ähnelt der bereits kennengelernten Methode `filter()`. Eine Datenstruktur wird wieder anhand einer Bedingung gefiltert und das Ergebnis zurückgegeben. Jedoch gibt es hier zwei Ergebnisse. Das Erste beinhaltet alle Elemente, auf die die Bedinung zutrifft, während in dem Zweiten alle Anderen Elemente zu finden sind."
   ]
  },
  {
   "cell_type": "code",
   "execution_count": 44,
   "id": "blessed-mother",
   "metadata": {
    "execution": {
     "iopub.execute_input": "2021-04-18T14:37+0200",
     "iopub.status.busy": "2021-04-18T14:37+0200",
     "iopub.status.idle": "2021-04-18T14:37+0200",
     "shell.execute_reply": "2021-04-18T14:37+0200",
     "shell.execute_reply.started": "2021-04-18T14:37+0200"
    }
   },
   "outputs": [
    {
     "name": "stdout",
     "output_type": "stream",
     "text": [
      "negativ: [-5, -4, -3, -2, -1], positiv: [1, 2, 3, 4, 5]\n"
     ]
    }
   ],
   "source": [
    "val liste = listOf(-5,-4,-3,-2,-1,1,2,3,4,5)\n",
    "val (negativ, positiv) = liste.partition { it < 0 }\n",
    "println(\"negativ: $negativ, positiv: $positiv\")"
   ]
  },
  {
   "cell_type": "markdown",
   "id": "united-antenna",
   "metadata": {},
   "source": [
    "#### `groupBy`\n",
    "Während `partition()` die Datenstruktur nur in zwei neue Datenstrukturen aufteilt, kann dies mit `groupBy` noch erweitert werden. Hier ist eine Unterteilung in beliebig viele Gruppen möglich. Die Bedingung anhand derer die Gruppen eingeteilt werden, wird in einem Lambda-Ausdruck festgelegt. Das Ergebnis sind eine Map, die als Schlüssel das Identifikationsmerkmal der Gruppe und als Wert zugehörigen Elemente als Liste besitzt. Außerdem ist es auch möglich die Schlüssel dieser Map selbst festzulegen anstelle einer automatischen Generierung. Dabei ist der Schlüssel das Ergebnis des Lambda-Ausdrucks."
   ]
  },
  {
   "cell_type": "code",
   "execution_count": 45,
   "id": "optimum-dakota",
   "metadata": {
    "execution": {
     "iopub.execute_input": "2021-04-18T14:37+0200",
     "iopub.status.busy": "2021-04-18T14:37+0200",
     "iopub.status.idle": "2021-04-18T14:37+0200",
     "shell.execute_reply": "2021-04-18T14:37+0200",
     "shell.execute_reply.started": "2021-04-18T14:37+0200"
    }
   },
   "outputs": [
    {
     "name": "stdout",
     "output_type": "stream",
     "text": [
      "liste: [Aber, Also, Aachen, Berlin, Bitte, Klavier, Hafen, Hose]\n",
      "Nach Anfangsbuchstaben automatisch gruppiert: {A=[Aber, Also, Aachen], B=[Berlin, Bitte], K=[Klavier], H=[Hafen, Hose]}\n",
      "Nach Anfangsbuchstaben mit eigenen Schlüsseln gruppiert: {Wörter mit A am Anfang=[Aber, Also, Aachen], Rest=[Berlin, Bitte, Klavier, Hafen, Hose]}\n",
      "\n"
     ]
    },
    {
     "data": {
      "text/html": [
       "<html><body><table><tr><th style=\"text-align:left\">FIPS</th><th style=\"text-align:left\">Admin2</th><th style=\"text-align:left\">Province_State</th><th style=\"text-align:left\">Country_Region</th><th style=\"text-align:left\">Last_Update</th><th style=\"text-align:left\">Lat</th><th style=\"text-align:left\">Long_</th><th style=\"text-align:left\">Confirmed</th><th style=\"text-align:left\">Deaths</th><th style=\"text-align:left\">Recovered</th><th style=\"text-align:left\">Active</th><th style=\"text-align:left\">Combined_Key</th><th style=\"text-align:left\">Incident_Rate</th><th style=\"text-align:left\">Case_Fatality_Ratio</th></tr><tr><td style=\"text-align:left\" title=\"\"></td><td style=\"text-align:left\" title=\"\"></td><td style=\"text-align:left\" title=\"Baden-Wurttemberg\">Baden-Wurttemberg</td><td style=\"text-align:left\" title=\"Germany\">Germany</td><td style=\"text-align:left\" title=\"2021-04-08 04:21:13\">2021-04-08 04:21:13</td><td style=\"text-align:left\" title=\"48.6616\">48.6616</td><td style=\"text-align:left\" title=\"9.3501\">9.3501</td><td style=\"text-align:left\" title=\"377133\">377133</td><td style=\"text-align:left\" title=\"8831\">8831</td><td style=\"text-align:left\" title=\"341300\">341300</td><td style=\"text-align:left\" title=\"27002\">27002</td><td style=\"text-align:left\" title=\"Baden-Wurttemberg, Germany\">Baden-Wurttemberg, Germany</td><td style=\"text-align:left\" title=\"3406.9458937427617\">3406.9458937427617</td><td style=\"text-align:left\" title=\"2.341614231584083\">2.341614231584083</td></tr><tr><td style=\"text-align:left\" title=\"\"></td><td style=\"text-align:left\" title=\"\"></td><td style=\"text-align:left\" title=\"Bayern\">Bayern</td><td style=\"text-align:left\" title=\"Germany\">Germany</td><td style=\"text-align:left\" title=\"2021-04-08 04:21:13\">2021-04-08 04:21:13</td><td style=\"text-align:left\" title=\"48.7904\">48.7904</td><td style=\"text-align:left\" title=\"11.4979\">11.4979</td><td style=\"text-align:left\" title=\"517336\">517336</td><td style=\"text-align:left\" title=\"13419\">13419</td><td style=\"text-align:left\" title=\"467100\">467100</td><td style=\"text-align:left\" title=\"36817\">36817</td><td style=\"text-align:left\" title=\"Bayern, Germany\">Bayern, Germany</td><td style=\"text-align:left\" title=\"3956.1599578365253\">3956.1599578365253</td><td style=\"text-align:left\" title=\"2.5938654955386826\">2.5938654955386826</td></tr><tr><td style=\"text-align:left\" title=\"\"></td><td style=\"text-align:left\" title=\"\"></td><td style=\"text-align:left\" title=\"Berlin\">Berlin</td><td style=\"text-align:left\" title=\"Germany\">Germany</td><td style=\"text-align:left\" title=\"2021-04-08 04:21:13\">2021-04-08 04:21:13</td><td style=\"text-align:left\" title=\"52.52\">52.52</td><td style=\"text-align:left\" title=\"13.405\">13.405</td><td style=\"text-align:left\" title=\"150385\">150385</td><td style=\"text-align:left\" title=\"3098\">3098</td><td style=\"text-align:left\" title=\"138800\">138800</td><td style=\"text-align:left\" title=\"8487\">8487</td><td style=\"text-align:left\" title=\"Berlin, Germany\">Berlin, Germany</td><td style=\"text-align:left\" title=\"4125.985712349506\">4125.985712349506</td><td style=\"text-align:left\" title=\"2.0600458822355954\">2.0600458822355954</td></tr><tr><td style=\"text-align:left\" title=\"\"></td><td style=\"text-align:left\" title=\"\"></td><td style=\"text-align:left\" title=\"Brandenburg\">Brandenburg</td><td style=\"text-align:left\" title=\"Germany\">Germany</td><td style=\"text-align:left\" title=\"2021-04-08 04:21:13\">2021-04-08 04:21:13</td><td style=\"text-align:left\" title=\"52.4125\">52.4125</td><td style=\"text-align:left\" title=\"12.5316\">12.5316</td><td style=\"text-align:left\" title=\"90999\">90999</td><td style=\"text-align:left\" title=\"3358\">3358</td><td style=\"text-align:left\" title=\"81090\">81090</td><td style=\"text-align:left\" title=\"6551\">6551</td><td style=\"text-align:left\" title=\"Brandenburg, Germany\">Brandenburg, Germany</td><td style=\"text-align:left\" title=\"3622.6913548497027\">3622.6913548497027</td><td style=\"text-align:left\" title=\"3.69015044121364\">3.69015044121364</td></tr><tr><td style=\"text-align:left\" title=\"\"></td><td style=\"text-align:left\" title=\"\"></td><td style=\"text-align:left\" title=\"Bremen\">Bremen</td><td style=\"text-align:left\" title=\"Germany\">Germany</td><td style=\"text-align:left\" title=\"2021-04-08 04:21:13\">2021-04-08 04:21:13</td><td style=\"text-align:left\" title=\"53.0793\">53.0793</td><td style=\"text-align:left\" title=\"8.8017\">8.8017</td><td style=\"text-align:left\" title=\"21697\">21697</td><td style=\"text-align:left\" title=\"415\">415</td><td style=\"text-align:left\" title=\"19790\">19790</td><td style=\"text-align:left\" title=\"1492\">1492</td><td style=\"text-align:left\" title=\"Bremen, Germany\">Bremen, Germany</td><td style=\"text-align:left\" title=\"3176.785468516192\">3176.785468516192</td><td style=\"text-align:left\" title=\"1.9127068258284556\">1.9127068258284556</td></tr><tr><td style=\"text-align:left\" title=\"\"></td><td style=\"text-align:left\" title=\"\"></td><td style=\"text-align:left\" title=\"Hamburg\">Hamburg</td><td style=\"text-align:left\" title=\"Germany\">Germany</td><td style=\"text-align:left\" title=\"2021-04-08 04:21:13\">2021-04-08 04:21:13</td><td style=\"text-align:left\" title=\"53.5511\">53.5511</td><td style=\"text-align:left\" title=\"9.9937\">9.9937</td><td style=\"text-align:left\" title=\"63826\">63826</td><td style=\"text-align:left\" title=\"1404\">1404</td><td style=\"text-align:left\" title=\"55180\">55180</td><td style=\"text-align:left\" title=\"7242\">7242</td><td style=\"text-align:left\" title=\"Hamburg, Germany\">Hamburg, Germany</td><td style=\"text-align:left\" title=\"3466.583097026416\">3466.583097026416</td><td style=\"text-align:left\" title=\"2.199730517344029\">2.199730517344029</td></tr><tr><td style=\"text-align:left\" title=\"\"></td><td style=\"text-align:left\" title=\"\"></td><td style=\"text-align:left\" title=\"Hessen\">Hessen</td><td style=\"text-align:left\" title=\"Germany\">Germany</td><td style=\"text-align:left\" title=\"2021-04-08 04:21:13\">2021-04-08 04:21:13</td><td style=\"text-align:left\" title=\"50.6521\">50.6521</td><td style=\"text-align:left\" title=\"9.1624\">9.1624</td><td style=\"text-align:left\" title=\"227581\">227581</td><td style=\"text-align:left\" title=\"6441\">6441</td><td style=\"text-align:left\" title=\"202400\">202400</td><td style=\"text-align:left\" title=\"18740\">18740</td><td style=\"text-align:left\" title=\"Hessen, Germany\">Hessen, Germany</td><td style=\"text-align:left\" title=\"3632.108798720165\">3632.108798720165</td><td style=\"text-align:left\" title=\"2.8302011152073328\">2.8302011152073328</td></tr><tr><td style=\"text-align:left\" title=\"\"></td><td style=\"text-align:left\" title=\"\"></td><td style=\"text-align:left\" title=\"Mecklenburg-Vorpommern\">Mecklenburg-Vorpommern</td><td style=\"text-align:left\" title=\"Germany\">Germany</td><td style=\"text-align:left\" title=\"2021-04-08 04:21:13\">2021-04-08 04:21:13</td><td style=\"text-align:left\" title=\"53.6127\">53.6127</td><td style=\"text-align:left\" title=\"12.4296\">12.4296</td><td style=\"text-align:left\" title=\"32341\">32341</td><td style=\"text-align:left\" title=\"887\">887</td><td style=\"text-align:left\" title=\"28730\">28730</td><td style=\"text-align:left\" title=\"2724\">2724</td><td style=\"text-align:left\" title=\"Mecklenburg-Vorpommern, Germany\">Mecklenburg-Vorpommern, Germany</td><td style=\"text-align:left\" title=\"2009.1633404258623\">2009.1633404258623</td><td style=\"text-align:left\" title=\"2.742648650320027\">2.742648650320027</td></tr><tr><td style=\"text-align:left\" title=\"\"></td><td style=\"text-align:left\" title=\"\"></td><td style=\"text-align:left\" title=\"Niedersachsen\">Niedersachsen</td><td style=\"text-align:left\" title=\"Germany\">Germany</td><td style=\"text-align:left\" title=\"2021-04-08 04:21:13\">2021-04-08 04:21:13</td><td style=\"text-align:left\" title=\"52.6367\">52.6367</td><td style=\"text-align:left\" title=\"9.8451\">9.8451</td><td style=\"text-align:left\" title=\"205087\">205087</td><td style=\"text-align:left\" title=\"4962\">4962</td><td style=\"text-align:left\" title=\"186600\">186600</td><td style=\"text-align:left\" title=\"13525\">13525</td><td style=\"text-align:left\" title=\"Niedersachsen, Germany\">Niedersachsen, Germany</td><td style=\"text-align:left\" title=\"2569.22437828596\">2569.22437828596</td><td style=\"text-align:left\" title=\"2.419461009230229\">2.419461009230229</td></tr><tr><td style=\"text-align:left\" title=\"\"></td><td style=\"text-align:left\" title=\"\"></td><td style=\"text-align:left\" title=\"Nordrhein-Westfalen\">Nordrhein-Westfalen</td><td style=\"text-align:left\" title=\"Germany\">Germany</td><td style=\"text-align:left\" title=\"2021-04-08 04:21:13\">2021-04-08 04:21:13</td><td style=\"text-align:left\" title=\"51.4332\">51.4332</td><td style=\"text-align:left\" title=\"7.6616\">7.6616</td><td style=\"text-align:left\" title=\"633940\">633940</td><td style=\"text-align:left\" title=\"14462\">14462</td><td style=\"text-align:left\" title=\"572000\">572000</td><td style=\"text-align:left\" title=\"47478\">47478</td><td style=\"text-align:left\" title=\"Nordrhein-Westfalen, Germany\">Nordrhein-Westfalen, Germany</td><td style=\"text-align:left\" title=\"3535.1159178863177\">3535.1159178863177</td><td style=\"text-align:left\" title=\"2.281288450011042\">2.281288450011042</td></tr><tr><td style=\"text-align:left\" title=\"\"></td><td style=\"text-align:left\" title=\"\"></td><td style=\"text-align:left\" title=\"Rheinland-Pfalz\">Rheinland-Pfalz</td><td style=\"text-align:left\" title=\"Germany\">Germany</td><td style=\"text-align:left\" title=\"2021-04-08 04:21:13\">2021-04-08 04:21:13</td><td style=\"text-align:left\" title=\"50.1183\">50.1183</td><td style=\"text-align:left\" title=\"7.309\">7.309</td><td style=\"text-align:left\" title=\"120870\">120870</td><td style=\"text-align:left\" title=\"3362\">3362</td><td style=\"text-align:left\" title=\"108700\">108700</td><td style=\"text-align:left\" title=\"8808\">8808</td><td style=\"text-align:left\" title=\"Rheinland-Pfalz, Germany\">Rheinland-Pfalz, Germany</td><td style=\"text-align:left\" title=\"2958.98692826458\">2958.98692826458</td><td style=\"text-align:left\" title=\"2.781500785968396\">2.781500785968396</td></tr><tr><td style=\"text-align:left\" title=\"\"></td><td style=\"text-align:left\" title=\"\"></td><td style=\"text-align:left\" title=\"Saarland\">Saarland</td><td style=\"text-align:left\" title=\"Germany\">Germany</td><td style=\"text-align:left\" title=\"2021-04-08 04:21:13\">2021-04-08 04:21:13</td><td style=\"text-align:left\" title=\"49.3964\">49.3964</td><td style=\"text-align:left\" title=\"7.023\">7.023</td><td style=\"text-align:left\" title=\"32807\">32807</td><td style=\"text-align:left\" title=\"946\">946</td><td style=\"text-align:left\" title=\"30330\">30330</td><td style=\"text-align:left\" title=\"1531\">1531</td><td style=\"text-align:left\" title=\"Saarland, Germany\">Saarland, Germany</td><td style=\"text-align:left\" title=\"3312.135477819989\">3312.135477819989</td><td style=\"text-align:left\" title=\"2.8835309537598683\">2.8835309537598683</td></tr><tr><td style=\"text-align:left\" title=\"\"></td><td style=\"text-align:left\" title=\"\"></td><td style=\"text-align:left\" title=\"Sachsen\">Sachsen</td><td style=\"text-align:left\" title=\"Germany\">Germany</td><td style=\"text-align:left\" title=\"2021-04-08 04:21:13\">2021-04-08 04:21:13</td><td style=\"text-align:left\" title=\"51.1045\">51.1045</td><td style=\"text-align:left\" title=\"13.2017\">13.2017</td><td style=\"text-align:left\" title=\"229450\">229450</td><td style=\"text-align:left\" title=\"8475\">8475</td><td style=\"text-align:left\" title=\"205400\">205400</td><td style=\"text-align:left\" title=\"15575\">15575</td><td style=\"text-align:left\" title=\"Sachsen, Germany\">Sachsen, Germany</td><td style=\"text-align:left\" title=\"5626.619538261626\">5626.619538261626</td><td style=\"text-align:left\" title=\"3.6936151667029855\">3.6936151667029855</td></tr><tr><td style=\"text-align:left\" title=\"\"></td><td style=\"text-align:left\" title=\"\"></td><td style=\"text-align:left\" title=\"Sachsen-Anhalt\">Sachsen-Anhalt</td><td style=\"text-align:left\" title=\"Germany\">Germany</td><td style=\"text-align:left\" title=\"2021-04-08 04:21:13\">2021-04-08 04:21:13</td><td style=\"text-align:left\" title=\"51.9503\">51.9503</td><td style=\"text-align:left\" title=\"11.6923\">11.6923</td><td style=\"text-align:left\" title=\"76541\">76541</td><td style=\"text-align:left\" title=\"2803\">2803</td><td style=\"text-align:left\" title=\"67780\">67780</td><td style=\"text-align:left\" title=\"5958\">5958</td><td style=\"text-align:left\" title=\"Sachsen-Anhalt, Germany\">Sachsen-Anhalt, Germany</td><td style=\"text-align:left\" title=\"3466.0269046030894\">3466.0269046030894</td><td style=\"text-align:left\" title=\"3.6620895990384237\">3.6620895990384237</td></tr><tr><td style=\"text-align:left\" title=\"\"></td><td style=\"text-align:left\" title=\"\"></td><td style=\"text-align:left\" title=\"Schleswig-Holstein\">Schleswig-Holstein</td><td style=\"text-align:left\" title=\"Germany\">Germany</td><td style=\"text-align:left\" title=\"2021-04-08 04:21:13\">2021-04-08 04:21:13</td><td style=\"text-align:left\" title=\"54.2194\">54.2194</td><td style=\"text-align:left\" title=\"9.6961\">9.6961</td><td style=\"text-align:left\" title=\"51864\">51864</td><td style=\"text-align:left\" title=\"1448\">1448</td><td style=\"text-align:left\" title=\"46260\">46260</td><td style=\"text-align:left\" title=\"4156\">4156</td><td style=\"text-align:left\" title=\"Schleswig-Holstein, Germany\">Schleswig-Holstein, Germany</td><td style=\"text-align:left\" title=\"1790.443785920036\">1790.443785920036</td><td style=\"text-align:left\" title=\"2.7919173222273637\">2.7919173222273637</td></tr><tr><td style=\"text-align:left\" title=\"\"></td><td style=\"text-align:left\" title=\"\"></td><td style=\"text-align:left\" title=\"Thuringen\">Thuringen</td><td style=\"text-align:left\" title=\"Germany\">Germany</td><td style=\"text-align:left\" title=\"2021-04-08 04:21:13\">2021-04-08 04:21:13</td><td style=\"text-align:left\" title=\"51.011\">51.011</td><td style=\"text-align:left\" title=\"10.8453\">10.8453</td><td style=\"text-align:left\" title=\"99350\">99350</td><td style=\"text-align:left\" title=\"3444\">3444</td><td style=\"text-align:left\" title=\"86860\">86860</td><td style=\"text-align:left\" title=\"9046\">9046</td><td style=\"text-align:left\" title=\"Thuringen, Germany\">Thuringen, Germany</td><td style=\"text-align:left\" title=\"4635.710602875681\">4635.710602875681</td><td style=\"text-align:left\" title=\"3.466532460996477\">3.466532460996477</td></tr><tr><td style=\"text-align:left\" title=\"\"></td><td style=\"text-align:left\" title=\"\"></td><td style=\"text-align:left\" title=\"Unknown\">Unknown</td><td style=\"text-align:left\" title=\"Germany\">Germany</td><td style=\"text-align:left\" title=\"2021-04-08 04:21:13\">2021-04-08 04:21:13</td><td style=\"text-align:left\" title=\"\"></td><td style=\"text-align:left\" title=\"\"></td><td style=\"text-align:left\" title=\"9072\">9072</td><td style=\"text-align:left\" title=\"0\">0</td><td style=\"text-align:left\" title=\"0\">0</td><td style=\"text-align:left\" title=\"9072\">9072</td><td style=\"text-align:left\" title=\"Unknown, Germany\">Unknown, Germany</td><td style=\"text-align:left\" title=\"\"></td><td style=\"text-align:left\" title=\"0.0\">0.0</td></tr></table></body></html>"
      ]
     },
     "execution_count": 45,
     "metadata": {
      "new_classpath": []
     },
     "output_type": "execute_result"
    }
   ],
   "source": [
    "//Beispiel 1: groupBy() mit automatischer Generierung\n",
    "val liste = listOf(\"Aber\", \"Also\", \"Aachen\", \"Berlin\", \"Bitte\", \"Klavier\", \"Hafen\", \"Hose\")\n",
    "val gruppen = liste.groupBy { it[0] }\n",
    "println(\"liste: $liste\")\n",
    "println(\"Nach Anfangsbuchstaben automatisch gruppiert: $gruppen\")\n",
    "\n",
    "//Beispiel 2: groupBy() mit eigenen Schlüsseln\n",
    "val gruppen2 = liste.groupBy { if (it[0] == 'A') \"Wörter mit A am Anfang\" else \"Rest\" }\n",
    "println(\"Nach Anfangsbuchstaben mit eigenen Schlüsseln gruppiert: $gruppen2\\n\")\n",
    "\n",
    "//Beispiel 3: gruppieren von Daten eines DataFrames\n",
    "val laender = data.groupBy(\"Country_Region\") //Gruppiert die Daten nach der Spalte Country_Region\n",
    "laender.groups()[66] //Gibt die 66. Gruppe aus"
   ]
  },
  {
   "cell_type": "markdown",
   "id": "assumed-canvas",
   "metadata": {},
   "source": [
    "#### `count`\n",
    "Mit `count()` kann die Anzahl der Fälle zurück, die die Bedingung des Lambda-Ausdrucks erfüllt. Wird auf den Lambda-Ausdruck verzichtet, wird die Anzahl der Elemente zurückgegeben."
   ]
  },
  {
   "cell_type": "code",
   "execution_count": 46,
   "id": "compact-adrian",
   "metadata": {
    "execution": {
     "iopub.execute_input": "2021-04-18T14:37+0200",
     "iopub.status.busy": "2021-04-18T14:37+0200",
     "iopub.status.idle": "2021-04-18T14:37+0200",
     "shell.execute_reply": "2021-04-18T14:37+0200",
     "shell.execute_reply.started": "2021-04-18T14:37+0200"
    }
   },
   "outputs": [
    {
     "name": "stdout",
     "output_type": "stream",
     "text": [
      "Anzahl an Zeilen: 3983\n",
      "Anzahl an Zeilen von Deutschland: 17\n"
     ]
    }
   ],
   "source": [
    "println(\"Anzahl an Zeilen: ${data.rows.count()}\")\n",
    "val zeilenDE = data.rows.count { it[\"Country_Region\"] == \"Germany\" }\n",
    "println(\"Anzahl an Zeilen von Deutschland: $zeilenDE\")"
   ]
  },
  {
   "cell_type": "markdown",
   "id": "statistical-graphic",
   "metadata": {},
   "source": [
    "##### Aufgabe\n",
    "Schreiben Sie eine Erweiterungsmethode `anzahlErhoehteSterblichkeit` für die Klasse `DataFrame`, die die Anzahl an Einträgen zurückgibt, die eine erhöhte Sterblichkeit aufweisen. Es wird zur Vereinfachung angenommen, dass eine erhöhte Sterblichkeit ab Tote/bestätigte Fälle > 10% vorliegt. \n",
    "<details><summary>Tipp 1</summary><p>Mit <code>data.schema()</code> können Sie die Datentypen der Spalten herausfinden.</p></details>\n",
    "<details><summary>Tipp 2</summary><p>Eine Division mit 0 ist nicht möglich.</p></details>\n",
    "<details><summary>Tipp 2</summary><p>Der Datentyp des Ergebnis von Int/Int ist Int. Mit <code>toDouble()</code> kann ein Int-Wert zu Double umgewandelt werden.</p></details>"
   ]
  },
  {
   "cell_type": "code",
   "execution_count": 47,
   "id": "advisory-truth",
   "metadata": {
    "execution": {
     "iopub.execute_input": "2021-04-18T14:37+0200",
     "iopub.status.busy": "2021-04-18T14:37+0200",
     "iopub.status.idle": "2021-04-18T14:37+0200",
     "shell.execute_reply": "2021-04-18T14:37+0200"
    }
   },
   "outputs": [
    {
     "name": "stderr",
     "output_type": "stream",
     "text": [
      "Line_65.jupyter.kts (5:19 - 46) Unresolved reference: anzahlErhoehteSterblichkeit\n",
      "Line_65.jupyter.kts (10:85 - 112) Unresolved reference: anzahlErhoehteSterblichkeit"
     ]
    }
   ],
   "source": [
    "//Grundgerüst\n",
    "//TODO\n",
    "\n",
    "//Test\n",
    "val anzahl = data.anzahlErhoehteSterblichkeit()\n",
    "if (anzahl == 23){\n",
    "    println(\"Richtig!\")\n",
    "}\n",
    "else{\n",
    "    println(\"Falsch! Das Ergebnis von data.anzahlErhoehteSterblichkeit() ist ${data.anzahlErhoehteSterblichkeit()}, sollte aber eigentlich 23 sein.\")\n",
    "}"
   ]
  },
  {
   "cell_type": "code",
   "execution_count": 48,
   "id": "french-cyprus",
   "metadata": {
    "execution": {
     "iopub.execute_input": "2021-04-18T14:37+0200",
     "iopub.status.busy": "2021-04-18T14:37+0200",
     "iopub.status.idle": "2021-04-18T14:37+0200",
     "shell.execute_reply": "2021-04-18T14:37+0200",
     "shell.execute_reply.started": "2021-04-18T14:37+0200"
    }
   },
   "outputs": [
    {
     "name": "stdout",
     "output_type": "stream",
     "text": [
      "Richtig!\n"
     ]
    }
   ],
   "source": [
    "//Lösung\n",
    "fun DataFrame.anzahlErhoehteSterblichkeit() = this.rows.count { \n",
    "    ((it[\"Confirmed\"] as Int) != 0) && ((it[\"Deaths\"] as Int)/((it[\"Confirmed\"] as Int).toDouble()) > 0.1 ) \n",
    "}\n",
    "\n",
    "//Test\n",
    "val anzahl = data.anzahlErhoehteSterblichkeit()\n",
    "if (anzahl == 23){\n",
    "    println(\"Richtig!\")\n",
    "}\n",
    "else{\n",
    "    println(\"Falsch! Das Ergebnis von data.anzahlErhoehteSterblichkeit() ist ${data.anzahlErhoehteSterblichkeit()}, sollte aber eigentlich 23 sein.\")\n",
    "}"
   ]
  },
  {
   "cell_type": "markdown",
   "id": "ordinary-hamilton",
   "metadata": {},
   "source": [
    "#### `flatten`, `flatMap`\n",
    "##### `flatten`\n",
    "Beinhaltet eine Liste oder ein Array wiederum mehrere Listen oder Arrays, können diese mit `flatten` in eine Liste oder ein Array umgewandelt werden."
   ]
  },
  {
   "cell_type": "code",
   "execution_count": 49,
   "id": "suspected-customer",
   "metadata": {
    "execution": {
     "iopub.execute_input": "2021-04-18T14:37+0200",
     "iopub.status.busy": "2021-04-18T14:37+0200",
     "iopub.status.idle": "2021-04-18T14:37+0200",
     "shell.execute_reply": "2021-04-18T14:37+0200",
     "shell.execute_reply.started": "2021-04-18T14:37+0200"
    }
   },
   "outputs": [
    {
     "name": "stdout",
     "output_type": "stream",
     "text": [
      "listen: [[1, 2, 3], [4, 5, 6], [7, 8, 9]]\n",
      "flattenListe: [1, 2, 3, 4, 5, 6, 7, 8, 9]\n"
     ]
    }
   ],
   "source": [
    "val listen = listOf(listOf(1, 2, 3), listOf(4, 5, 6), listOf(7, 8, 9))\n",
    "println(\"listen: $listen\")\n",
    "val flattenListe = listen.flatten()\n",
    "println(\"flattenListe: $flattenListe\")"
   ]
  },
  {
   "cell_type": "markdown",
   "id": "religious-matter",
   "metadata": {},
   "source": [
    "##### `flatMap`\n",
    "`flatMap()` ist eine Kombination von `map()` und `flatten()`. Zuerst wird auf alle Elemente `map()` angewendet und danach alle Ergebnisse mit `flatten()` zusammengefasst."
   ]
  },
  {
   "cell_type": "code",
   "execution_count": 50,
   "id": "compact-judges",
   "metadata": {
    "execution": {
     "iopub.execute_input": "2021-04-18T14:37+0200",
     "iopub.status.busy": "2021-04-18T14:37+0200",
     "iopub.status.idle": "2021-04-18T14:37+0200",
     "shell.execute_reply": "2021-04-18T14:37+0200",
     "shell.execute_reply.started": "2021-04-18T14:37+0200"
    }
   },
   "outputs": [
    {
     "name": "stdout",
     "output_type": "stream",
     "text": [
      "woerter: [Schere, Matratze, Transport]\n",
      "woerterMap: [[S, c, h, e, r, e], [M, a, t, r, a, t, z, e], [T, r, a, n, s, p, o, r, t]]\n",
      "woerterMapFlatten: [S, c, h, e, r, e, M, a, t, r, a, t, z, e, T, r, a, n, s, p, o, r, t]\n",
      "woerterFlatMap: [S, c, h, e, r, e, M, a, t, r, a, t, z, e, T, r, a, n, s, p, o, r, t]\n"
     ]
    }
   ],
   "source": [
    "val woerter = listOf(\"Schere\", \"Matratze\", \"Transport\")\n",
    "println(\"woerter: $woerter\")\n",
    "//map() und flatten()\n",
    "val woerterMap = woerter.map { it.map { it } }\n",
    "println(\"woerterMap: $woerterMap\")\n",
    "val woerterMapFlatten = woerterMap.flatten()\n",
    "println(\"woerterMapFlatten: $woerterMapFlatten\")\n",
    "\n",
    "//flatMap()\n",
    "val woerterFlatMap = woerterMap.flatMap { it }\n",
    "println(\"woerterFlatMap: $woerterFlatMap\")"
   ]
  },
  {
   "cell_type": "markdown",
   "id": "burning-posting",
   "metadata": {},
   "source": [
    "#### `reduce`\n",
    "`reduce` ist eine Methode, deren Lambda-Ausdruck zwei Parameter besitzt. Bei der ersten Ausführung sind das das erste und das zweite Element. Bei allen folgenden Ausführungen des Methodenrumpfs ist der erste Parameter das Ergebnis der vorherigen Ausführung und der Zweite das aktuelle Element."
   ]
  },
  {
   "cell_type": "code",
   "execution_count": 51,
   "id": "signal-puzzle",
   "metadata": {
    "execution": {
     "iopub.execute_input": "2021-04-18T14:37+0200",
     "iopub.status.busy": "2021-04-18T14:37+0200",
     "iopub.status.idle": "2021-04-18T14:37+0200",
     "shell.execute_reply": "2021-04-18T14:37+0200",
     "shell.execute_reply.started": "2021-04-18T14:37+0200"
    }
   },
   "outputs": [
    {
     "name": "stdout",
     "output_type": "stream",
     "text": [
      "Das Wort in woerter mit den meisten a ist: Hafen\n",
      "Das Element von Liste, dass den größten gemeinsamen Teiler mit 100 besitzt, ist: 128\n"
     ]
    }
   ],
   "source": [
    "val woerter = listOf(\"aber\", \"also\", \"aachen\", \"berlin\", \"bitte\", \"klavier\", \"hafen\", \"hose\")\n",
    "val wort = liste.reduce {a, b -> if(a.count { it == 'a' } > b.count { it == 'a' }) a else b }\n",
    "println(\"Das Wort in woerter mit den meisten a ist: $wort\")\n",
    "\n",
    "fun ggt(a: Int, b: Int): Int {\n",
    "    if (b == 0) return a\n",
    "    return ggt(b, (a % b))\n",
    "}\n",
    "\n",
    "val zahlen = listOf(2,52,123,74,1824,453,128,78,26)\n",
    "val maxGgt100 = zahlen.reduce { a, b ->\n",
    "    val ggtA = ggt(a, 100)\n",
    "    val ggtB = ggt(b, 100)\n",
    "    if (ggtA > ggtB)\n",
    "        a\n",
    "    else\n",
    "        b  \n",
    "}\n",
    "println(\"Das Element von Liste, dass den größten gemeinsamen Teiler mit 100 besitzt, ist: $maxGgt100\")"
   ]
  },
  {
   "cell_type": "markdown",
   "id": "precious-motel",
   "metadata": {},
   "source": [
    "#### `zip`, `unzip` und `zipWithNext`\n",
    "##### `zip`\n",
    "Mit Hilfe von `zip()` können 2 Datenstrukturen einfach zusammengefasst werden. Dabei entsteht eine neue Liste, deren Elemente Paare der Elemente der beiden zusammenzufassenden Listen sind."
   ]
  },
  {
   "cell_type": "code",
   "execution_count": 52,
   "id": "light-lafayette",
   "metadata": {
    "execution": {
     "iopub.execute_input": "2021-04-18T14:37+0200",
     "iopub.status.busy": "2021-04-18T14:37+0200",
     "iopub.status.idle": "2021-04-18T14:37+0200",
     "shell.execute_reply": "2021-04-18T14:37+0200",
     "shell.execute_reply.started": "2021-04-18T14:37+0200"
    }
   },
   "outputs": [
    {
     "name": "stdout",
     "output_type": "stream",
     "text": [
      "liste1: [1, 2, 3, 4, 5, 6, 7, 8, 9]\n",
      "liste2: [-1, -2, -3, -4, -5, -6, -7, -8, -9]\n",
      "liste1.zip(liste2): [(1, -1), (2, -2), (3, -3), (4, -4), (5, -5), (6, -6), (7, -7), (8, -8), (9, -9)]\n"
     ]
    }
   ],
   "source": [
    "val liste1 = listOf(1,2,3,4,5,6,7,8,9)\n",
    "println(\"liste1: $liste1\")\n",
    "val liste2 = listOf(-1,-2,-3,-4,-5,-6,-7,-8,-9)\n",
    "println(\"liste2: $liste2\")\n",
    "\n",
    "val listeZip = liste1.zip(liste2)\n",
    "println(\"liste1.zip(liste2): $listeZip\")"
   ]
  },
  {
   "cell_type": "markdown",
   "id": "packed-omaha",
   "metadata": {},
   "source": [
    "##### `unzip`\n",
    "Das Gegenteil zu `zip()` ist die Methode `unzip()`. Bei Aufruf auf einer Liste von Paaren werden diese getrennt und in zwei Listen aufgeteilt."
   ]
  },
  {
   "cell_type": "code",
   "execution_count": 53,
   "id": "involved-muslim",
   "metadata": {
    "execution": {
     "iopub.execute_input": "2021-04-18T14:37+0200",
     "iopub.status.busy": "2021-04-18T14:37+0200",
     "iopub.status.idle": "2021-04-18T14:37+0200",
     "shell.execute_reply": "2021-04-18T14:37+0200",
     "shell.execute_reply.started": "2021-04-18T14:37+0200"
    }
   },
   "outputs": [
    {
     "name": "stdout",
     "output_type": "stream",
     "text": [
      "listeUnzip1: [1, 2, 3, 4, 5, 6, 7, 8, 9]\n",
      "listeUnzip2: [-1, -2, -3, -4, -5, -6, -7, -8, -9]\n"
     ]
    }
   ],
   "source": [
    "val (listeUnzip1, listeUnzip2) = listeZip.unzip()\n",
    "println(\"listeUnzip1: $listeUnzip1\")\n",
    "println(\"listeUnzip2: $listeUnzip2\")"
   ]
  },
  {
   "cell_type": "markdown",
   "id": "imported-harmony",
   "metadata": {},
   "source": [
    "##### `zipWithNext`\n",
    "Eine spezielle Form des Zusammenfügens ist `zipWithNext`. Wird diese Methode auf einer Liste aufgerufen, wird ein Lambda-Ausdruck erwartet. Diesem werden zwei Parameter, das aktuelle und das nächste Element übergeben. Im Methodenrumpf kann dann mit beiden definierten Variablen gearbeitet werden."
   ]
  },
  {
   "cell_type": "code",
   "execution_count": 54,
   "id": "growing-difference",
   "metadata": {
    "execution": {
     "iopub.execute_input": "2021-04-18T14:37+0200",
     "iopub.status.busy": "2021-04-18T14:37+0200",
     "iopub.status.idle": "2021-04-18T14:37+0200",
     "shell.execute_reply": "2021-04-18T14:37+0200",
     "shell.execute_reply.started": "2021-04-18T14:37+0200"
    }
   },
   "outputs": [
    {
     "name": "stdout",
     "output_type": "stream",
     "text": [
      "listeZipWithNext: [12, 23, 34, 45, 56, 67, 78, 89]\n"
     ]
    }
   ],
   "source": [
    "val listeZipWithNext = liste1.zipWithNext { a, b -> \"$a$b\".toInt() }\n",
    "println(\"listeZipWithNext: $listeZipWithNext\")"
   ]
  },
  {
   "cell_type": "markdown",
   "id": "angry-thinking",
   "metadata": {},
   "source": [
    "#### `remove`\n",
    "Wie Elemente einer Datenstruktur einfach entfernt werden könne, wurde bereits in Abschnitt 1 behandelt. Jedoch kann diese Funktionalität erweitert werden. <br />\n",
    "`removeAll()` in Verbindung mit einem Lambda-Ausdruck entfernt alle Elemente, auf die die Bedingung zutrifft. Das gleiche Ergebnis liefert auch `removeIf()`."
   ]
  },
  {
   "cell_type": "code",
   "execution_count": 55,
   "id": "pleasant-innocent",
   "metadata": {
    "execution": {
     "iopub.execute_input": "2021-04-18T14:37+0200",
     "iopub.status.busy": "2021-04-18T14:37+0200",
     "iopub.status.idle": "2021-04-18T14:37+0200",
     "shell.execute_reply": "2021-04-18T14:37+0200",
     "shell.execute_reply.started": "2021-04-18T14:37+0200"
    }
   },
   "outputs": [
    {
     "name": "stdout",
     "output_type": "stream",
     "text": [
      "fruechte: [Apfel, Ananas, Banane, Clementine, Datteln]\n",
      "Es wurden Einträge gefunden und mit removeAll() entfernt, die mehr als 1 a enthalten: true\n",
      "fruechte nach dem Entfernen: [Apfel, Clementine, Datteln] \n",
      "\n",
      "fruechte2: [Apfel, Ananas, Banane, Clementine, Datteln]\n",
      "Es wurden Einträge gefunden und mit removeIf() entfernt, die mehr als 1 a enthalten: true\n",
      "fruechte2 nach dem Entfernen: [Apfel, Clementine, Datteln]\n"
     ]
    }
   ],
   "source": [
    "//removeAll\n",
    "val fruechte = mutableListOf(\"Apfel\", \"Ananas\", \"Banane\",\"Clementine\", \"Datteln\")\n",
    "println(\"fruechte: $fruechte\")\n",
    "val ergebnis = fruechte.removeAll { it.count { it == 'a' } > 1 }\n",
    "println(\"Es wurden Einträge gefunden und mit removeAll() entfernt, die mehr als 1 a enthalten: $ergebnis\")\n",
    "println(\"fruechte nach dem Entfernen: $fruechte \\n\")\n",
    "\n",
    "//removeIf\n",
    "val fruechte2 = mutableListOf(\"Apfel\", \"Ananas\", \"Banane\",\"Clementine\", \"Datteln\")\n",
    "println(\"fruechte2: $fruechte2\")\n",
    "val ergebnis2 = fruechte2.removeIf { it.count { it == 'a' } > 1 }\n",
    "println(\"Es wurden Einträge gefunden und mit removeIf() entfernt, die mehr als 1 a enthalten: $ergebnis2\")\n",
    "println(\"fruechte2 nach dem Entfernen: $fruechte2\")"
   ]
  },
  {
   "cell_type": "markdown",
   "id": "convinced-ontario",
   "metadata": {},
   "source": [
    "##### Aufgabe\n",
    "Implementieren Sie eine Erweiterungsmethode `entferneSpalten` für die Klasse `DataFrame`, die alle Spalten entfernt, die nicht den Datentyp `IntCol` besitzen."
   ]
  },
  {
   "cell_type": "code",
   "execution_count": 56,
   "id": "played-asthma",
   "metadata": {
    "execution": {
     "iopub.execute_input": "2021-04-18T14:37+0200",
     "iopub.status.busy": "2021-04-18T14:37+0200",
     "iopub.status.idle": "2021-04-18T14:37+0200",
     "shell.execute_reply": "2021-04-18T14:37+0200",
     "shell.execute_reply.started": "2021-04-18T14:37+0200"
    }
   },
   "outputs": [
    {
     "name": "stdout",
     "output_type": "stream",
     "text": [
      "Richtig!\n"
     ]
    }
   ],
   "source": [
    "fun DataFrame.entferneSpalten() = this.removeIf { (it is IntCol) == false }\n",
    "\n",
    "val testData = data.entferneSpalten()\n",
    "if (testData.names == listOf(\"Confirmed\", \"Deaths\"))\n",
    "    println(\"Richtig!\")\n",
    "else\n",
    "    println(\"Falsch! Eigentlich sollten nur noch die Spalten ${listOf(\"Confirmed\", \"Deaths\")} vorhanden sein. Das Ergebnis ist jedoch ${testData.names} \")    "
   ]
  },
  {
   "cell_type": "markdown",
   "id": "minute-marble",
   "metadata": {},
   "source": [
    "#### `sumOf`, `minByOrNull`, `maxByOrNull`\n",
    "##### `sumOf`\n",
    "`sumOf()` erweitert `sum()` in der Hinsicht, dass zuerst die Anweisung des Methodenrumpf des Lambda-Ausdrucks angewendet wird und das Ergebnis zur Summe addiert wird. "
   ]
  },
  {
   "cell_type": "code",
   "execution_count": 57,
   "id": "young-springer",
   "metadata": {
    "execution": {
     "iopub.execute_input": "2021-04-18T14:37+0200",
     "iopub.status.busy": "2021-04-18T14:37+0200",
     "iopub.status.idle": "2021-04-18T14:37+0200",
     "shell.execute_reply": "2021-04-18T14:37+0200",
     "shell.execute_reply.started": "2021-04-18T14:37+0200"
    }
   },
   "outputs": [
    {
     "name": "stdout",
     "output_type": "stream",
     "text": [
      "Die Summe der Einträge von liste ist 39.\n",
      "Die Summe der Beträge der Einträge von liste ist 51. \n",
      "\n",
      "Anzahl der bestätigten Fälle weltweit: 133103485\n"
     ]
    }
   ],
   "source": [
    "val liste = listOf(-3,-2,-1,0,1,2,3,4,5,6,7,8,9)\n",
    "val summe = liste.sum()\n",
    "println(\"Die Summe der Einträge von liste ist $summe.\")\n",
    "val summePositiv = liste.sumOf { it.absoluteValue }\n",
    "println(\"Die Summe der Beträge der Einträge von liste ist $summePositiv. \\n\")\n",
    "\n",
    "val summeBestaetigt = data.rows.sumOf { it[\"Confirmed\"] as Int }\n",
    "println(\"Anzahl der bestätigten Fälle weltweit: $summeBestaetigt\")"
   ]
  },
  {
   "cell_type": "markdown",
   "id": "coordinate-beatles",
   "metadata": {},
   "source": [
    "##### minByOrNull\n",
    "Mit `minByOrNull` kann das Minimum in Verbindung mit einem Lambda-Ausdrucks gefunden werden. In diesem muss entweder angegeben werden wovon das Minimum gesucht werden soll (Beispielsweise die Spalte einer Tabelle) oder eine Anweisung. Bei der Auswertung wird zuerst die Anweisung ausgeführt und das Ergebnis dann mit dem aktuellen Minimum verglichen. Falls es kleiner ist, wird das Ausgangselement der Anweisung als Minimum gespeichert. Falls kein Minimum existiert, wird `null` zurückgegeben."
   ]
  },
  {
   "cell_type": "code",
   "execution_count": 58,
   "id": "controlling-selection",
   "metadata": {
    "execution": {
     "iopub.execute_input": "2021-04-18T14:37+0200",
     "iopub.status.busy": "2021-04-18T14:37+0200",
     "iopub.status.idle": "2021-04-18T14:37+0200",
     "shell.execute_reply": "2021-04-18T14:37+0200",
     "shell.execute_reply.started": "2021-04-18T14:37+0200"
    }
   },
   "outputs": [
    {
     "name": "stdout",
     "output_type": "stream",
     "text": [
      "Das Bundesland mit den wenigsten bestätigten Fällen ist: Bremen\n",
      "Das Element der Liste liste mit dem kleinsten Betrag ist: 0\n"
     ]
    }
   ],
   "source": [
    "//Angabe des Vergleichsorts\n",
    "val minBestaetigtDE = data.rows\n",
    "    .filter { it[\"Country_Region\"] == \"Germany\" && it[\"Province_State\"] != \"Unknown\" } //Filtert alle Zeilen, bei denen das Land Deutschland und das Bundesland nicht Unknown ist\n",
    "    .minByOrNull { it[\"Confirmed\"] as Int } //Sucht das Minimum in der Spalte Confirmed\n",
    "println(\"Das Bundesland mit den wenigsten bestätigten Fällen ist: ${minBestaetigtDE?.get(\"Province_State\")}\")\n",
    "\n",
    "//Angabe einer Anweisung. Hier: Gesucht ist das Minimum des Elements mit dem kleinstem Betrag.\n",
    "val liste = listOf(-3,-2,-1,0,1,2,3,4,5,6,7,8,9)\n",
    "val min = liste.minByOrNull { it.absoluteValue }\n",
    "println(\"Das Element der Liste liste mit dem kleinsten Betrag ist: $min\")"
   ]
  },
  {
   "cell_type": "markdown",
   "id": "republican-butter",
   "metadata": {},
   "source": [
    "##### `maxByOrNull`\n",
    "`maxByOrNull()` ist das Gegenteil von `minByOrNull` und liefert das Maximum oder `null`."
   ]
  },
  {
   "cell_type": "code",
   "execution_count": 59,
   "id": "interesting-isaac",
   "metadata": {
    "execution": {
     "iopub.execute_input": "2021-04-18T14:37+0200",
     "iopub.status.busy": "2021-04-18T14:37+0200",
     "iopub.status.idle": "2021-04-18T14:37+0200",
     "shell.execute_reply": "2021-04-18T14:37+0200",
     "shell.execute_reply.started": "2021-04-18T14:37+0200"
    }
   },
   "outputs": [
    {
     "name": "stdout",
     "output_type": "stream",
     "text": [
      "Das Bundesland mit den meisten bestätigten Fällen ist: Nordrhein-Westfalen\n",
      "Das Element der Liste liste mit dem größten Betrag ist: 9\n"
     ]
    }
   ],
   "source": [
    "//Angabe des Vergleichsorts\n",
    "val maxBestaetigtDE = data.rows\n",
    "    .filter { it[\"Country_Region\"] == \"Germany\" && it[\"Province_State\"] != \"Unknown\" } //Filtert alle Zeilen, bei denen das Land Deutschland und das Bundesland nicht Unknown ist\n",
    "    .maxByOrNull { it[\"Confirmed\"] as Int } //Sucht das Maximum in der Spalte Confirmed\n",
    "println(\"Das Bundesland mit den meisten bestätigten Fällen ist: ${maxBestaetigtDE?.get(\"Province_State\")}\")\n",
    "\n",
    "//Angabe einer Anweisung. Hier: Gesucht ist das Minimum des Elements mit dem kleinstem Betrag.\n",
    "val liste = listOf(-3,-2,-1,0,1,2,3,4,5,6,7,8,9)\n",
    "val max = liste.maxByOrNull { it.absoluteValue }\n",
    "println(\"Das Element der Liste liste mit dem größten Betrag ist: $max\")"
   ]
  },
  {
   "cell_type": "markdown",
   "id": "growing-associate",
   "metadata": {},
   "source": [
    "#### `take`\n",
    "Die normale `take()`-Methode wurde bereits in Abschnitt 1 vorgestellt. Anstelle einer bestimmen Anzahl, können mit `takeWhile()` oder `takeUnless()` so viele Elemente genommen werden, bis eine Bedingung nicht mehr erfüllt ist. Beide Methoden unterschieden sich nur im Rückgabetyp. Eine weitere Erweiterung ist `takeIf()`. Diese findet bei primitiven Variablen Anwendung. Falls die Bedingung für die Variable erfüllt ist, wird diese zurückgegeben. Falls die Prüfung fehlschlägt ist due Rückgabe `null`."
   ]
  },
  {
   "cell_type": "code",
   "execution_count": 60,
   "id": "iraqi-delta",
   "metadata": {
    "execution": {
     "iopub.execute_input": "2021-04-18T14:37+0200",
     "iopub.status.busy": "2021-04-18T14:37+0200",
     "iopub.status.idle": "2021-04-18T14:37+0200",
     "shell.execute_reply": "2021-04-18T14:37+0200",
     "shell.execute_reply.started": "2021-04-18T14:37+0200"
    }
   },
   "outputs": [
    {
     "name": "stdout",
     "output_type": "stream",
     "text": [
      "Afghanistan: 2512\n",
      "Albania: 2291\n",
      "Algeria: 3116\n",
      "Andorra: 119\n",
      "Angola: 547\n",
      "\n",
      "Zahl: 1\n"
     ]
    }
   ],
   "source": [
    "val zeilen = data.rows.takeWhile { it[\"Deaths\"] as Int > 100 } //Nimmt alle Zeilen vom Start bis die Anzahl der Tode < 100 ist.\n",
    "for (zeile in zeilen){\n",
    "    println(\"${zeile[\"Country_Region\"]}: ${zeile[\"Deaths\"]}\")\n",
    "}\n",
    "\n",
    "val zufall = (0..10).random()\n",
    "val zahl = zufall.takeIf { it < 5 } ?: -1\n",
    "println(\"\\nZahl: $zahl\")"
   ]
  },
  {
   "cell_type": "markdown",
   "id": "superb-relief",
   "metadata": {},
   "source": [
    "#### `forEach`\n",
    "Die `forEach`-Schleife sollte bereits aus Java bekannt sein. Eine ähnliche Umsetzung mit dem Schlüsselwort `in` wurde in Abschnitt 1 besprochen. Eine weitere Möglichkeit diese Art der Schleife in Kotlin umzusetzen ist `forEach()` in Verbindung mit Lambdas. Diese Methode erinnert stark an `map()`, da der Methodenrumpf des Lambda-Ausdrucks an jedem Elementen der Datenstruktur angewendet wird. Jedoch wird hier kein Ergebnis zurückgegeben. Das aktuelle Element kann außerdem nicht verändert werden."
   ]
  },
  {
   "cell_type": "code",
   "execution_count": 61,
   "id": "judicial-maintenance",
   "metadata": {
    "execution": {
     "iopub.execute_input": "2021-04-18T14:37+0200",
     "iopub.status.busy": "2021-04-18T14:37+0200",
     "iopub.status.idle": "2021-04-18T14:37+0200",
     "shell.execute_reply": "2021-04-18T14:37+0200",
     "shell.execute_reply.started": "2021-04-18T14:37+0200"
    }
   },
   "outputs": [
    {
     "name": "stdout",
     "output_type": "stream",
     "text": [
      "1 & -1\n",
      "2 & -2\n",
      "3 & -3\n",
      "4 & -4\n",
      "5 & -5\n",
      "6 & -6\n"
     ]
    }
   ],
   "source": [
    "val liste = mutableListOf (1,2,3,4,5,6)\n",
    "liste.forEach { it: Int ->\n",
    "    val invertiert =  it * -1\n",
    "    println(\"$it & $invertiert\")\n",
    "}"
   ]
  },
  {
   "cell_type": "markdown",
   "id": "turkish-oxide",
   "metadata": {},
   "source": [
    "##### Aufgabe\n",
    "Speichern Sie in der Variable `schluessel` eine Liste der kombinierten Schlüssel, der aus dem Land und gegebenenfalls dem Bundesland besteht (in der Spalte Combined_Key zu finden). Benutzen Sie dafür eine `forEach`-Schleife und nicht die Spalte Combined_Key."
   ]
  },
  {
   "cell_type": "code",
   "execution_count": 62,
   "id": "circular-happiness",
   "metadata": {
    "execution": {
     "iopub.execute_input": "2021-04-18T14:37+0200",
     "iopub.status.busy": "2021-04-18T14:37+0200",
     "iopub.status.idle": "2021-04-18T14:37+0200",
     "shell.execute_reply": "2021-04-18T14:37+0200"
    }
   },
   "outputs": [
    {
     "name": "stderr",
     "output_type": "stream",
     "text": [
      "java.lang.IndexOutOfBoundsException: Index 0 out of bounds for length 0\n",
      "java.base/jdk.internal.util.Preconditions.outOfBounds(Preconditions.java:64)\n",
      "java.base/jdk.internal.util.Preconditions.outOfBoundsCheckIndex(Preconditions.java:70)\n",
      "java.base/jdk.internal.util.Preconditions.checkIndex(Preconditions.java:248)\n",
      "java.base/java.util.Objects.checkIndex(Objects.java:359)\n",
      "java.base/java.util.ArrayList.get(ArrayList.java:427)\n",
      "Line_84_jupyter.<init>(Line_84.jupyter.kts:11)\n",
      "java.base/jdk.internal.reflect.NativeConstructorAccessorImpl.newInstance0(Native Method)\n",
      "java.base/jdk.internal.reflect.NativeConstructorAccessorImpl.newInstance(NativeConstructorAccessorImpl.java:64)\n",
      "java.base/jdk.internal.reflect.DelegatingConstructorAccessorImpl.newInstance(DelegatingConstructorAccessorImpl.java:45)\n",
      "java.base/java.lang.reflect.Constructor.newInstanceWithCaller(Constructor.java:500)\n",
      "java.base/java.lang.reflect.Constructor.newInstance(Constructor.java:481)\n",
      "kotlin.script.experimental.jvm.BasicJvmScriptEvaluator.evalWithConfigAndOtherScriptsResults(BasicJvmScriptEvaluator.kt:96)\n",
      "kotlin.script.experimental.jvm.BasicJvmScriptEvaluator.invoke$suspendImpl(BasicJvmScriptEvaluator.kt:41)\n",
      "kotlin.script.experimental.jvm.BasicJvmScriptEvaluator.invoke(BasicJvmScriptEvaluator.kt)\n",
      "kotlin.script.experimental.jvm.BasicJvmReplEvaluator.eval(BasicJvmReplEvaluator.kt:51)\n",
      "org.jetbrains.kotlin.jupyter.ReplForJupyterImpl$doEval$resultWithDiagnostics$1.invokeSuspend(repl.kt:604)\n",
      "kotlin.coroutines.jvm.internal.BaseContinuationImpl.resumeWith(ContinuationImpl.kt:33)\n",
      "kotlinx.coroutines.DispatchedTask.run(DispatchedTask.kt:56)\n",
      "kotlinx.coroutines.EventLoopImplBase.processNextEvent(EventLoop.common.kt:274)\n",
      "kotlinx.coroutines.BlockingCoroutine.joinBlocking(Builders.kt:84)\n",
      "kotlinx.coroutines.BuildersKt__BuildersKt.runBlocking(Builders.kt:59)\n",
      "kotlinx.coroutines.BuildersKt.runBlocking(Unknown Source)\n",
      "kotlinx.coroutines.BuildersKt__BuildersKt.runBlocking$default(Builders.kt:38)\n",
      "kotlinx.coroutines.BuildersKt.runBlocking$default(Unknown Source)\n",
      "org.jetbrains.kotlin.jupyter.ReplForJupyterImpl.doEval(repl.kt:604)\n",
      "org.jetbrains.kotlin.jupyter.ReplForJupyterImpl.eval(repl.kt:434)\n",
      "org.jetbrains.kotlin.jupyter.ProtocolKt$shellMessagesHandler$res$1.invoke(protocol.kt:248)\n",
      "org.jetbrains.kotlin.jupyter.ProtocolKt$shellMessagesHandler$res$1.invoke(protocol.kt)\n",
      "org.jetbrains.kotlin.jupyter.ProtocolKt.evalWithIO(protocol.kt:400)\n",
      "org.jetbrains.kotlin.jupyter.ProtocolKt.shellMessagesHandler(protocol.kt:247)\n",
      "org.jetbrains.kotlin.jupyter.IkotlinKt.kernelServer(ikotlin.kt:127)\n",
      "org.jetbrains.kotlin.jupyter.IkotlinKt.kernelServer$default(ikotlin.kt:95)\n",
      "org.jetbrains.kotlin.jupyter.IkotlinKt.main(ikotlin.kt:72)\n"
     ]
    }
   ],
   "source": [
    "//Grundgerüst\n",
    "val schluessel = MutableList<String>(0) { \"\" }\n",
    "\n",
    "//TODO\n",
    "\n",
    "//Tests\n",
    "val combined_keys = data.cols[11].values().toList()\n",
    "var fehler = 0\n",
    "var tests = 0\n",
    "for(i in 0 until combined_keys.size){\n",
    "    if (schluessel[i] != combined_keys[i] && combined_keys[i] != \"Northwest Territories,Canada\" && combined_keys[i] != \"District of Columbia, District of Columbia ,US\"){\n",
    "        println(\"Falsch! schluessel[$i]: ${schluessel[i]}; combined_keys[$i]: ${combined_keys[i]}\")\n",
    "        fehler++\n",
    "    }\n",
    "    tests++\n",
    "}\n",
    "if(fehler == 0)\n",
    "    println(\"Super! Alle $tests Tests bestanden!\")\n",
    "else\n",
    "    println(\"Bei $fehler vom $tests Tests kamen Fehler auf.\")"
   ]
  },
  {
   "cell_type": "code",
   "execution_count": 63,
   "id": "smaller-bracket",
   "metadata": {
    "execution": {
     "iopub.execute_input": "2021-04-18T14:37+0200",
     "iopub.status.busy": "2021-04-18T14:37+0200",
     "iopub.status.idle": "2021-04-18T14:37+0200",
     "shell.execute_reply": "2021-04-18T14:37+0200",
     "shell.execute_reply.started": "2021-04-18T14:37+0200"
    }
   },
   "outputs": [
    {
     "name": "stdout",
     "output_type": "stream",
     "text": [
      "Falsch! schluessel[124]: Subey, Urzikstan; combined_keys[124]: Hubei, Urzikstan\n",
      "Bei 1 vom 3983 Tests kamen Fehler auf.\n"
     ]
    }
   ],
   "source": [
    "//Lösung\n",
    "val schluessel = MutableList<String>(0) { \"\" }\n",
    "\n",
    "data.rows.forEach {\n",
    "    val land = it[\"Country_Region\"] as String\n",
    "    val region = it[\"Province_State\"] as String\n",
    "    val county = it[\"Admin2\"] as String\n",
    "    when {\n",
    "        region != \"\" && county != \"\" -> schluessel.add(\"$county, $region, $land\")\n",
    "        region != \"\" -> schluessel.add(\"$region, $land\")\n",
    "        else -> schluessel.add(\"$land\")\n",
    "    }\n",
    "}\n",
    "\n",
    "//Tests\n",
    "val combined_keys = data.cols[11].values().toList()\n",
    "var fehler = 0\n",
    "var tests = 0\n",
    "for(i in 0 until combined_keys.size){\n",
    "    if (schluessel[i] != combined_keys[i] && combined_keys[i] != \"Northwest Territories,Canada\" && combined_keys[i] != \"District of Columbia, District of Columbia ,US\"){\n",
    "        println(\"Falsch! schluessel[$i]: ${schluessel[i]}; combined_keys[$i]: ${combined_keys[i]}\")\n",
    "        fehler++\n",
    "    }\n",
    "    tests++\n",
    "}\n",
    "if(fehler == 0)\n",
    "    println(\"Super! Alle $tests Tests bestanden!\")\n",
    "else\n",
    "    println(\"Bei $fehler vom $tests Tests kamen Fehler auf.\")"
   ]
  },
  {
   "cell_type": "code",
   "execution_count": 64,
   "id": "empty-transportation",
   "metadata": {
    "execution": {
     "iopub.execute_input": "2021-04-18T14:37+0200",
     "iopub.status.busy": "2021-04-18T14:37+0200",
     "iopub.status.idle": "2021-04-18T14:37+0200",
     "shell.execute_reply": "2021-04-18T14:37+0200",
     "shell.execute_reply.started": "2021-04-18T14:37+0200"
    }
   },
   "outputs": [
    {
     "name": "stdout",
     "output_type": "stream",
     "text": [
      "DataFrame with 3983 observations\n",
      "FIPS                 [Str]  , , , , , , , , , , , , , , , , , , , , , , , , , , , , , , , , , , , , , , , , , , , , , , , , , , ...\n",
      "Admin2               [Str]  , , , , , , , , , , , , , , , , , , , , , , , , , , , , , , , , , , , , , , , , , , , , , , , , , , ...\n",
      "Province_State       [Str]  , , , , , , , , Australian Capital Territory, New South Wales, Northern Territory, Queensland, South...\n",
      "Country_Region       [Str]  Afghanistan, Albania, Algeria, Andorra, Angola, Antigua and Barbuda, Argentina, Armenia, Australia, ...\n",
      "Last_Update          [Str]  2021-04-08 04:21:13, 2021-04-08 04:21:13, 2021-04-08 04:21:13, 2021-04-08 04:21:13, 2021-04-08 04:21...\n",
      "Lat                  [Str]  33.93911, 41.1533, 28.0339, 42.5063, -11.2027, 17.0608, -38.4161, 40.0691, -35.4735, -33.8688, -12.4...\n",
      "Long_                [Str]  67.709953, 20.1683, 1.6596, 1.5218, 17.8739, -61.7964, -63.6167, 45.0382, 149.0124, 151.2093, 130.84...\n",
      "Confirmed            [Int]  56873, 127192, 118004, 12363, 23010, 1177, 2450068, 198898, 123, 5318, 112, 1500, 663, 234, 20484, 9...\n",
      "Deaths               [Int]  2512, 2291, 3116, 119, 547, 29, 56832, 3647, 3, 54, 0, 6, 4, 13, 820, 9, 9546, 3780, 189, 547, 9447,...\n",
      "Recovered            [Str]  51940, 95600, 82192, 11616, 21545, 911, 2174625, 178227, 120, 0, 106, 1366, 651, 221, 19664, 928, 52...\n",
      "Active               [Str]  2421, 29301, 32696, 628, 918, 237, 218611, 17024, 0, 5264, 6, 128, 8, 0, 0, 14, 33688, 28144, 296, 1...\n",
      "Combined_Key         [Str]  Afghanistan, Albania, Algeria, Andorra, Angola, Antigua and Barbuda, Argentina, Armenia, Australian ...\n",
      "Incident_Rate        [Str]  146.0966446014229, 4419.765098339009, 269.1019230717044, 16000.776548243059, 70.01099120837206, 1201...\n",
      "Case_Fatality_Ratio  [Str]  4.416858614808433, 1.801213912824706, 2.6405884546286567, 0.9625495429911833, 2.3772272924815296, 2....\n"
     ]
    }
   ],
   "source": [
    "data.schema()"
   ]
  },
  {
   "cell_type": "code",
   "execution_count": 65,
   "id": "heated-avatar",
   "metadata": {
    "execution": {
     "iopub.execute_input": "2021-04-18T14:37+0200",
     "iopub.status.busy": "2021-04-18T14:37+0200",
     "iopub.status.idle": "2021-04-18T14:37+0200",
     "shell.execute_reply": "2021-04-18T14:37+0200",
     "shell.execute_reply.started": "2021-04-18T14:37+0200"
    }
   },
   "outputs": [
    {
     "data": {
      "text/html": [
       "<html><body><table><tr><th style=\"text-align:left\">FIPS</th><th style=\"text-align:left\">Admin2</th><th style=\"text-align:left\">Province_State</th><th style=\"text-align:left\">Country_Region</th><th style=\"text-align:left\">Last_Update</th><th style=\"text-align:left\">Lat</th><th style=\"text-align:left\">Long_</th><th style=\"text-align:left\">Confirmed</th><th style=\"text-align:left\">Deaths</th><th style=\"text-align:left\">Recovered</th><th style=\"text-align:left\">Active</th><th style=\"text-align:left\">Combined_Key</th><th style=\"text-align:left\">Incident_Rate</th><th style=\"text-align:left\">Case_Fatality_Ratio</th></tr><tr><td style=\"text-align:left\" title=\"\"></td><td style=\"text-align:left\" title=\"\"></td><td style=\"text-align:left\" title=\"\"></td><td style=\"text-align:left\" title=\"Afghanistan\">Afghanistan</td><td style=\"text-align:left\" title=\"2021-04-08 04:21:13\">2021-04-08 04:21:13</td><td style=\"text-align:left\" title=\"33.93911\">33.93911</td><td style=\"text-align:left\" title=\"67.709953\">67.709953</td><td style=\"text-align:left\" title=\"56873\">56873</td><td style=\"text-align:left\" title=\"2512\">2512</td><td style=\"text-align:left\" title=\"51940\">51940</td><td style=\"text-align:left\" title=\"2421\">2421</td><td style=\"text-align:left\" title=\"Afghanistan\">Afghanistan</td><td style=\"text-align:left\" title=\"146.0966446014229\">146.0966446014229</td><td style=\"text-align:left\" title=\"4.416858614808433\">4.416858614808433</td></tr><tr><td style=\"text-align:left\" title=\"\"></td><td style=\"text-align:left\" title=\"\"></td><td style=\"text-align:left\" title=\"\"></td><td style=\"text-align:left\" title=\"Albania\">Albania</td><td style=\"text-align:left\" title=\"2021-04-08 04:21:13\">2021-04-08 04:21:13</td><td style=\"text-align:left\" title=\"41.1533\">41.1533</td><td style=\"text-align:left\" title=\"20.1683\">20.1683</td><td style=\"text-align:left\" title=\"127192\">127192</td><td style=\"text-align:left\" title=\"2291\">2291</td><td style=\"text-align:left\" title=\"95600\">95600</td><td style=\"text-align:left\" title=\"29301\">29301</td><td style=\"text-align:left\" title=\"Albania\">Albania</td><td style=\"text-align:left\" title=\"4419.765098339009\">4419.765098339009</td><td style=\"text-align:left\" title=\"1.801213912824706\">1.801213912824706</td></tr><tr><td style=\"text-align:left\" title=\"\"></td><td style=\"text-align:left\" title=\"\"></td><td style=\"text-align:left\" title=\"\"></td><td style=\"text-align:left\" title=\"Algeria\">Algeria</td><td style=\"text-align:left\" title=\"2021-04-08 04:21:13\">2021-04-08 04:21:13</td><td style=\"text-align:left\" title=\"28.0339\">28.0339</td><td style=\"text-align:left\" title=\"1.6596\">1.6596</td><td style=\"text-align:left\" title=\"118004\">118004</td><td style=\"text-align:left\" title=\"3116\">3116</td><td style=\"text-align:left\" title=\"82192\">82192</td><td style=\"text-align:left\" title=\"32696\">32696</td><td style=\"text-align:left\" title=\"Algeria\">Algeria</td><td style=\"text-align:left\" title=\"269.1019230717044\">269.1019230717044</td><td style=\"text-align:left\" title=\"2.6405884546286567\">2.6405884546286567</td></tr><tr><td style=\"text-align:left\" title=\"\"></td><td style=\"text-align:left\" title=\"\"></td><td style=\"text-align:left\" title=\"\"></td><td style=\"text-align:left\" title=\"Andorra\">Andorra</td><td style=\"text-align:left\" title=\"2021-04-08 04:21:13\">2021-04-08 04:21:13</td><td style=\"text-align:left\" title=\"42.5063\">42.5063</td><td style=\"text-align:left\" title=\"1.5218\">1.5218</td><td style=\"text-align:left\" title=\"12363\">12363</td><td style=\"text-align:left\" title=\"119\">119</td><td style=\"text-align:left\" title=\"11616\">11616</td><td style=\"text-align:left\" title=\"628\">628</td><td style=\"text-align:left\" title=\"Andorra\">Andorra</td><td style=\"text-align:left\" title=\"16000.776548243059\">16000.776548243059</td><td style=\"text-align:left\" title=\"0.9625495429911833\">0.9625495429911833</td></tr><tr><td style=\"text-align:left\" title=\"\"></td><td style=\"text-align:left\" title=\"\"></td><td style=\"text-align:left\" title=\"\"></td><td style=\"text-align:left\" title=\"Angola\">Angola</td><td style=\"text-align:left\" title=\"2021-04-08 04:21:13\">2021-04-08 04:21:13</td><td style=\"text-align:left\" title=\"-11.2027\">-11.2027</td><td style=\"text-align:left\" title=\"17.8739\">17.8739</td><td style=\"text-align:left\" title=\"23010\">23010</td><td style=\"text-align:left\" title=\"547\">547</td><td style=\"text-align:left\" title=\"21545\">21545</td><td style=\"text-align:left\" title=\"918\">918</td><td style=\"text-align:left\" title=\"Angola\">Angola</td><td style=\"text-align:left\" title=\"70.01099120837206\">70.01099120837206</td><td style=\"text-align:left\" title=\"2.3772272924815296\">2.3772272924815296</td></tr><tr><td style=\"text-align:left\" title=\"\"></td><td style=\"text-align:left\" title=\"\"></td><td style=\"text-align:left\" title=\"\"></td><td style=\"text-align:left\" title=\"Antigua and Barbuda\">Antigua and Barbuda</td><td style=\"text-align:left\" title=\"2021-04-08 04:21:13\">2021-04-08 04:21:13</td><td style=\"text-align:left\" title=\"17.0608\">17.0608</td><td style=\"text-align:left\" title=\"-61.7964\">-61.7964</td><td style=\"text-align:left\" title=\"1177\">1177</td><td style=\"text-align:left\" title=\"29\">29</td><td style=\"text-align:left\" title=\"911\">911</td><td style=\"text-align:left\" title=\"237\">237</td><td style=\"text-align:left\" title=\"Antigua and Barbuda\">Antigua and Barbuda</td><td style=\"text-align:left\" title=\"1201.9034392614985\">1201.9034392614985</td><td style=\"text-align:left\" title=\"2.463891248937978\">2.463891248937978</td></tr><tr><td style=\"text-align:left\" title=\"\"></td><td style=\"text-align:left\" title=\"\"></td><td style=\"text-align:left\" title=\"\"></td><td style=\"text-align:left\" title=\"Argentina\">Argentina</td><td style=\"text-align:left\" title=\"2021-04-08 04:21:13\">2021-04-08 04:21:13</td><td style=\"text-align:left\" title=\"-38.4161\">-38.4161</td><td style=\"text-align:left\" title=\"-63.6167\">-63.6167</td><td style=\"text-align:left\" title=\"2450068\">2450068</td><td style=\"text-align:left\" title=\"56832\">56832</td><td style=\"text-align:left\" title=\"2174625\">2174625</td><td style=\"text-align:left\" title=\"218611\">218611</td><td style=\"text-align:left\" title=\"Argentina\">Argentina</td><td style=\"text-align:left\" title=\"5421.010905510044\">5421.010905510044</td><td style=\"text-align:left\" title=\"2.319609088400812\">2.319609088400812</td></tr><tr><td style=\"text-align:left\" title=\"\"></td><td style=\"text-align:left\" title=\"\"></td><td style=\"text-align:left\" title=\"\"></td><td style=\"text-align:left\" title=\"Armenia\">Armenia</td><td style=\"text-align:left\" title=\"2021-04-08 04:21:13\">2021-04-08 04:21:13</td><td style=\"text-align:left\" title=\"40.0691\">40.0691</td><td style=\"text-align:left\" title=\"45.0382\">45.0382</td><td style=\"text-align:left\" title=\"198898\">198898</td><td style=\"text-align:left\" title=\"3647\">3647</td><td style=\"text-align:left\" title=\"178227\">178227</td><td style=\"text-align:left\" title=\"17024\">17024</td><td style=\"text-align:left\" title=\"Armenia\">Armenia</td><td style=\"text-align:left\" title=\"6712.193502099394\">6712.193502099394</td><td style=\"text-align:left\" title=\"1.8336031533750967\">1.8336031533750967</td></tr><tr><td style=\"text-align:left\" title=\"\"></td><td style=\"text-align:left\" title=\"\"></td><td style=\"text-align:left\" title=\"Australian Capital Territory\">Australian Capital Territory</td><td style=\"text-align:left\" title=\"Australia\">Australia</td><td style=\"text-align:left\" title=\"2021-04-08 04:21:13\">2021-04-08 04:21:13</td><td style=\"text-align:left\" title=\"-35.4735\">-35.4735</td><td style=\"text-align:left\" title=\"149.0124\">149.0124</td><td style=\"text-align:left\" title=\"123\">123</td><td style=\"text-align:left\" title=\"3\">3</td><td style=\"text-align:left\" title=\"120\">120</td><td style=\"text-align:left\" title=\"0\">0</td><td style=\"text-align:left\" title=\"Australian Capital Territory, Australia\">Australian Capital Territory, Australia</td><td style=\"text-align:left\" title=\"28.73160476524177\">28.73160476524177</td><td style=\"text-align:left\" title=\"2.4390243902439024\">2.4390243902439024</td></tr><tr><td style=\"text-align:left\" title=\"\"></td><td style=\"text-align:left\" title=\"\"></td><td style=\"text-align:left\" title=\"New South Wales\">New South Wales</td><td style=\"text-align:left\" title=\"Australia\">Australia</td><td style=\"text-align:left\" title=\"2021-04-08 04:21:13\">2021-04-08 04:21:13</td><td style=\"text-align:left\" title=\"-33.8688\">-33.8688</td><td style=\"text-align:left\" title=\"151.2093\">151.2093</td><td style=\"text-align:left\" title=\"5318\">5318</td><td style=\"text-align:left\" title=\"54\">54</td><td style=\"text-align:left\" title=\"0\">0</td><td style=\"text-align:left\" title=\"5264\">5264</td><td style=\"text-align:left\" title=\"New South Wales, Australia\">New South Wales, Australia</td><td style=\"text-align:left\" title=\"65.50874599655087\">65.50874599655087</td><td style=\"text-align:left\" title=\"1.0154193305754042\">1.0154193305754042</td></tr><tr><td style=\"text-align:left\" title=\"\"></td><td style=\"text-align:left\" title=\"\"></td><td style=\"text-align:left\" title=\"Northern Territory\">Northern Territory</td><td style=\"text-align:left\" title=\"Australia\">Australia</td><td style=\"text-align:left\" title=\"2021-04-08 04:21:13\">2021-04-08 04:21:13</td><td style=\"text-align:left\" title=\"-12.4634\">-12.4634</td><td style=\"text-align:left\" title=\"130.8456\">130.8456</td><td style=\"text-align:left\" title=\"112\">112</td><td style=\"text-align:left\" title=\"0\">0</td><td style=\"text-align:left\" title=\"106\">106</td><td style=\"text-align:left\" title=\"6\">6</td><td style=\"text-align:left\" title=\"Northern Territory, Australia\">Northern Territory, Australia</td><td style=\"text-align:left\" title=\"45.602605863192174\">45.602605863192174</td><td style=\"text-align:left\" title=\"0.0\">0.0</td></tr><tr><td style=\"text-align:left\" title=\"\"></td><td style=\"text-align:left\" title=\"\"></td><td style=\"text-align:left\" title=\"Queensland\">Queensland</td><td style=\"text-align:left\" title=\"Australia\">Australia</td><td style=\"text-align:left\" title=\"2021-04-08 04:21:13\">2021-04-08 04:21:13</td><td style=\"text-align:left\" title=\"-27.4698\">-27.4698</td><td style=\"text-align:left\" title=\"153.0251\">153.0251</td><td style=\"text-align:left\" title=\"1500\">1500</td><td style=\"text-align:left\" title=\"6\">6</td><td style=\"text-align:left\" title=\"1366\">1366</td><td style=\"text-align:left\" title=\"128\">128</td><td style=\"text-align:left\" title=\"Queensland, Australia\">Queensland, Australia</td><td style=\"text-align:left\" title=\"29.322646857589678\">29.322646857589678</td><td style=\"text-align:left\" title=\"0.4\">0.4</td></tr><tr><td style=\"text-align:left\" title=\"\"></td><td style=\"text-align:left\" title=\"\"></td><td style=\"text-align:left\" title=\"South Australia\">South Australia</td><td style=\"text-align:left\" title=\"Australia\">Australia</td><td style=\"text-align:left\" title=\"2021-04-08 04:21:13\">2021-04-08 04:21:13</td><td style=\"text-align:left\" title=\"-34.9285\">-34.9285</td><td style=\"text-align:left\" title=\"138.6007\">138.6007</td><td style=\"text-align:left\" title=\"663\">663</td><td style=\"text-align:left\" title=\"4\">4</td><td style=\"text-align:left\" title=\"651\">651</td><td style=\"text-align:left\" title=\"8\">8</td><td style=\"text-align:left\" title=\"South Australia, Australia\">South Australia, Australia</td><td style=\"text-align:left\" title=\"37.74551665243381\">37.74551665243381</td><td style=\"text-align:left\" title=\"0.6033182503770739\">0.6033182503770739</td></tr><tr><td style=\"text-align:left\" title=\"\"></td><td style=\"text-align:left\" title=\"\"></td><td style=\"text-align:left\" title=\"Tasmania\">Tasmania</td><td style=\"text-align:left\" title=\"Australia\">Australia</td><td style=\"text-align:left\" title=\"2021-04-08 04:21:13\">2021-04-08 04:21:13</td><td style=\"text-align:left\" title=\"-42.8821\">-42.8821</td><td style=\"text-align:left\" title=\"147.3272\">147.3272</td><td style=\"text-align:left\" title=\"234\">234</td><td style=\"text-align:left\" title=\"13\">13</td><td style=\"text-align:left\" title=\"221\">221</td><td style=\"text-align:left\" title=\"0\">0</td><td style=\"text-align:left\" title=\"Tasmania, Australia\">Tasmania, Australia</td><td style=\"text-align:left\" title=\"43.69747899159664\">43.69747899159664</td><td style=\"text-align:left\" title=\"5.555555555555555\">5.555555555555555</td></tr><tr><td style=\"text-align:left\" title=\"\"></td><td style=\"text-align:left\" title=\"\"></td><td style=\"text-align:left\" title=\"Victoria\">Victoria</td><td style=\"text-align:left\" title=\"Australia\">Australia</td><td style=\"text-align:left\" title=\"2021-04-08 04:21:13\">2021-04-08 04:21:13</td><td style=\"text-align:left\" title=\"-37.8136\">-37.8136</td><td style=\"text-align:left\" title=\"144.9631\">144.9631</td><td style=\"text-align:left\" title=\"20484\">20484</td><td style=\"text-align:left\" title=\"820\">820</td><td style=\"text-align:left\" title=\"19664\">19664</td><td style=\"text-align:left\" title=\"0\">0</td><td style=\"text-align:left\" title=\"Victoria, Australia\">Victoria, Australia</td><td style=\"text-align:left\" title=\"308.96393610763363\">308.96393610763363</td><td style=\"text-align:left\" title=\"4.003124389767623\">4.003124389767623</td></tr><tr><td style=\"text-align:left\" title=\"\"></td><td style=\"text-align:left\" title=\"\"></td><td style=\"text-align:left\" title=\"Western Australia\">Western Australia</td><td style=\"text-align:left\" title=\"Australia\">Australia</td><td style=\"text-align:left\" title=\"2021-04-08 04:21:13\">2021-04-08 04:21:13</td><td style=\"text-align:left\" title=\"-31.9505\">-31.9505</td><td style=\"text-align:left\" title=\"115.8605\">115.8605</td><td style=\"text-align:left\" title=\"951\">951</td><td style=\"text-align:left\" title=\"9\">9</td><td style=\"text-align:left\" title=\"928\">928</td><td style=\"text-align:left\" title=\"14\">14</td><td style=\"text-align:left\" title=\"Western Australia, Australia\">Western Australia, Australia</td><td style=\"text-align:left\" title=\"36.151448338782025\">36.151448338782025</td><td style=\"text-align:left\" title=\"0.9463722397476341\">0.9463722397476341</td></tr><tr><td style=\"text-align:left\" title=\"\"></td><td style=\"text-align:left\" title=\"\"></td><td style=\"text-align:left\" title=\"\"></td><td style=\"text-align:left\" title=\"Austria\">Austria</td><td style=\"text-align:left\" title=\"2021-04-08 04:21:13\">2021-04-08 04:21:13</td><td style=\"text-align:left\" title=\"47.5162\">47.5162</td><td style=\"text-align:left\" title=\"14.5501\">14.5501</td><td style=\"text-align:left\" title=\"566008\">566008</td><td style=\"text-align:left\" title=\"9546\">9546</td><td style=\"text-align:left\" title=\"522774\">522774</td><td style=\"text-align:left\" title=\"33688\">33688</td><td style=\"text-align:left\" title=\"Austria\">Austria</td><td style=\"text-align:left\" title=\"6284.508793746669\">6284.508793746669</td><td style=\"text-align:left\" title=\"1.6865486000197878\">1.6865486000197878</td></tr><tr><td style=\"text-align:left\" title=\"\"></td><td style=\"text-align:left\" title=\"\"></td><td style=\"text-align:left\" title=\"\"></td><td style=\"text-align:left\" title=\"Azerbaijan\">Azerbaijan</td><td style=\"text-align:left\" title=\"2021-04-08 04:21:13\">2021-04-08 04:21:13</td><td style=\"text-align:left\" title=\"40.1431\">40.1431</td><td style=\"text-align:left\" title=\"47.5769\">47.5769</td><td style=\"text-align:left\" title=\"276464\">276464</td><td style=\"text-align:left\" title=\"3780\">3780</td><td style=\"text-align:left\" title=\"244540\">244540</td><td style=\"text-align:left\" title=\"28144\">28144</td><td style=\"text-align:left\" title=\"Azerbaijan\">Azerbaijan</td><td style=\"text-align:left\" title=\"2726.691274191441\">2726.691274191441</td><td style=\"text-align:left\" title=\"1.367266624225939\">1.367266624225939</td></tr><tr><td style=\"text-align:left\" title=\"\"></td><td style=\"text-align:left\" title=\"\"></td><td style=\"text-align:left\" title=\"\"></td><td style=\"text-align:left\" title=\"Bahamas\">Bahamas</td><td style=\"text-align:left\" title=\"2021-04-08 04:21:13\">2021-04-08 04:21:13</td><td style=\"text-align:left\" title=\"25.025885\">25.025885</td><td style=\"text-align:left\" title=\"-78.035889\">-78.035889</td><td style=\"text-align:left\" title=\"9296\">9296</td><td style=\"text-align:left\" title=\"189\">189</td><td style=\"text-align:left\" title=\"8811\">8811</td><td style=\"text-align:left\" title=\"296\">296</td><td style=\"text-align:left\" title=\"Bahamas\">Bahamas</td><td style=\"text-align:left\" title=\"2363.902677190984\">2363.902677190984</td><td style=\"text-align:left\" title=\"2.033132530120482\">2.033132530120482</td></tr><tr><td style=\"text-align:left\" title=\"\"></td><td style=\"text-align:left\" title=\"\"></td><td style=\"text-align:left\" title=\"\"></td><td style=\"text-align:left\" title=\"Bahrain\">Bahrain</td><td style=\"text-align:left\" title=\"2021-04-08 04:21:13\">2021-04-08 04:21:13</td><td style=\"text-align:left\" title=\"26.0275\">26.0275</td><td style=\"text-align:left\" title=\"50.55\">50.55</td><td style=\"text-align:left\" title=\"151931\">151931</td><td style=\"text-align:left\" title=\"547\">547</td><td style=\"text-align:left\" title=\"141119\">141119</td><td style=\"text-align:left\" title=\"10265\">10265</td><td style=\"text-align:left\" title=\"Bahrain\">Bahrain</td><td style=\"text-align:left\" title=\"8928.803355463706\">8928.803355463706</td><td style=\"text-align:left\" title=\"0.3600318565664677\">0.3600318565664677</td></tr></table></body></html>"
      ]
     },
     "execution_count": 65,
     "metadata": {
      "new_classpath": []
     },
     "output_type": "execute_result"
    }
   ],
   "source": [
    "data.head(20)"
   ]
  },
  {
   "cell_type": "markdown",
   "id": "multiple-stanley",
   "metadata": {},
   "source": [
    "## Lektion 6 - Verbindung von Lambda-Ausdrücken\n",
    "In den meisten bis jetzt vorgestellten Beispielen wurde nur ein Lambda-Ausdruck verwendet. Jedoch können auch mehrere hintereinander gestellt oder ineinander verschachtelt werden. Auch kann in den Methodenrümpfen wiederum mit Methoden gearbeitet werden. Es folgen einige Beispiele. Es wird empfohlen den Code erst vollständig einzukommentieren und dann Anweisung für Anweisung durchzugehen.\n",
    "#### Beispiel 1\n",
    "Gesucht ist den amerikanische Bundesstaat mit den meisten bestätigten Fällen."
   ]
  },
  {
   "cell_type": "code",
   "execution_count": 66,
   "id": "pursuant-shipping",
   "metadata": {
    "execution": {
     "iopub.execute_input": "2021-04-18T14:37+0200",
     "iopub.status.busy": "2021-04-18T14:37+0200",
     "iopub.status.idle": "2021-04-18T14:37+0200",
     "shell.execute_reply": "2021-04-18T14:37+0200",
     "shell.execute_reply.started": "2021-04-18T14:37+0200"
    }
   },
   "outputs": [
    {
     "name": "stdout",
     "output_type": "stream",
     "text": [
      "Das amerikanische Bundesland mit den meisten bestätigten Fällen ist: California.\n"
     ]
    }
   ],
   "source": [
    "val bundesstaat = data.rows.filter{ it[\"Country_Region\"] == \"US\" } //Filtert nur die Einträge heraus, deren Country_Region US ist.\n",
    "    .groupBy { it[\"Province_State\"] }   //Gruppiert die Einträge nach dem Bundesstaat. Zurückgegeben wird eine Map mit dem Namen der Bundesstaaten als Schlüssel und einer Liste, die alle Zeilen des Bundesstaates umfasst. \n",
    "                                        //Jeder Eintrag in der Liste ist jedoch wieder eine Map, die als Schlüssel den Spaltennamen und als Wert den Eintrag an der jeweiligen Stelle besitzt.\n",
    "    .mapValues { //Iteriert über die Map und setzt jeden Wert eines Paares auf die Rückgabe des Lambda-Ausdrucks\n",
    "        it.value.sumBy { it[\"Confirmed\"] as Int }   //it ist hier ein Map-Paar bestehend aus Bundesstaat und den zugehörigen Zeilen als Liste\n",
    "                                                    //value greift auf die Liste des Bundesstaats zu\n",
    "                                                    //sumBy() iteriert über jeden Eintrag der Liste und summiert den Wert, der dem Schlüssel Confirmed zugeordnet ist\n",
    "    }                                               //Das Ergebnis ist eine Map, deren Schlüssel die Namen der Bundesstaaten und der zugehöige Werte die Summe an bestätigten Fällen sind\n",
    "    .maxByOrNull { it.value } //Iteritert durch die Map an bestätigten Fällen jedes Bundesstaates und gibt das Paar zurück, dessen Fälle am höchsten sind\n",
    "    ?.key //Greift auf den Wert des Paares zu. Es muss ein sicherer Zugriff verwendet werden, da maxByOrNull einen nullable Wert zurückgibt\n",
    "                            \n",
    "println(\"Das amerikanische Bundesland mit den meisten bestätigten Fällen ist: $bundesstaat.\")\n",
    "//Zum Nachvollziehen:\n",
    "//bundesstaat"
   ]
  },
  {
   "cell_type": "markdown",
   "id": "floral-belgium",
   "metadata": {},
   "source": [
    "#### Beispiel 2\n",
    "Gesucht ist der Eintrag, dessen Koordinaten am nähesten an vorgegebenen Längen- und Breitengraden sind. Die angegebenen Koordinaten entsprechen der Position der Universität Bayreuth."
   ]
  },
  {
   "cell_type": "code",
   "execution_count": 67,
   "id": "sophisticated-apparel",
   "metadata": {
    "execution": {
     "iopub.execute_input": "2021-04-18T14:37+0200",
     "iopub.status.busy": "2021-04-18T14:37+0200",
     "iopub.status.idle": "2021-04-18T14:37+0200",
     "shell.execute_reply": "2021-04-18T14:37+0200",
     "shell.execute_reply.started": "2021-04-18T14:37+0200"
    }
   },
   "outputs": [
    {
     "name": "stdout",
     "output_type": "stream",
     "text": [
      "Der Eintrag, der am nähsten zu den gegebenen Koordinaten ist, besitzt die Werte:\n",
      "{FIPS=, Admin2=, Province_State=Bayern, Country_Region=Germany, Last_Update=2021-04-08 04:21:13, Lat=48.7904, Long_=11.4979, Confirmed=517336, Deaths=13419, Recovered=467100, Active=36817, Combined_Key=Bayern, Germany, Incident_Rate=3956.1599578365253, Case_Fatality_Ratio=2.5938654955386826}\n"
     ]
    }
   ],
   "source": [
    "val laengengrad = 49.92987060546875\n",
    "val breitengrad = 11.586241722106934\n",
    "\n",
    "fun Double.betrag() = if(this < 0) -this else this //gibt den Betrag eines Double-Werts zurück\n",
    "\n",
    "val eintrag = data.rows.filter { (it[\"Lat\"] as String != \"\") && (it[\"Long_\"] as String != \"\") } //Filtert alle Einträge mit leeren Koordinaten heraus  \n",
    "        .minByOrNull { ((it[\"Lat\"] as String).toDouble() - laengengrad).betrag() + ((it[\"Long_\"] as String).toDouble() - breitengrad).betrag() } //Gibt den Eintrag zurück, dessen Differenz der Koordinaten zu den Angegebenen am kleinsten ist.\n",
    "\n",
    "println(\"Der Eintrag, der am nähsten zu den gegebenen Koordinaten ist, besitzt die Werte:\\n$eintrag\")"
   ]
  },
  {
   "cell_type": "markdown",
   "id": "compound-organization",
   "metadata": {},
   "source": [
    "#### Beispiel 3\n",
    "In der Spalte Incident_Rate ist die Anzahl der bestätigten Fälle je 100.000 Einwohner zu finden. In diesem Beispiel sollen die 3 Länder mit der höchsten Durchseuchung in Prozent (Anteil der bestätigten Fälle an der Gesamtbevölkerung) ausgegeben werden. Dabei soll, falls eine Untergliederung in Regionen zu finden ist, der Mittelwert ausschlaggebend sein."
   ]
  },
  {
   "cell_type": "code",
   "execution_count": 83,
   "id": "obvious-smile",
   "metadata": {
    "execution": {
     "iopub.execute_input": "2021-04-18T15:00+0200",
     "iopub.status.busy": "2021-04-18T15:00+0200",
     "iopub.status.idle": "2021-04-18T15:00+0200",
     "shell.execute_reply": "2021-04-18T15:00+0200",
     "shell.execute_reply.started": "2021-04-18T15:00+0200"
    },
    "tags": []
   },
   "outputs": [
    {
     "name": "stdout",
     "output_type": "stream",
     "text": [
      "Platz 1: Andorra mit einer Durchseuchung von 16.00077654824306 %\n",
      "Platz 2: Montenegro mit einer Durchseuchung von 14.856654279354586 %\n",
      "Platz 3: Czechia mit einer Durchseuchung von 14.574466555271082 %\n"
     ]
    }
   ],
   "source": [
    "val rangliste = data.rows.filter { it[\"Incident_Rate\"] as String != \"\" } //Filtert alle Zeilen heraus, die keinen Eintrag in der Spalte Incident_Rate aufweisen\n",
    "    .groupBy { it[\"Country_Region\"] }   //Gruppiert die Einträge nach dem Land. Zurückgegeben wird eine Map mit dem Namen des Landes als Schlüssel und einer Liste, die alle Zeilen des Landes umfasst. \n",
    "                                        //Jeder Eintrag in der Liste ist jedoch wieder eine Map, die als Schlüssel den Spaltennamen und als Wert den Eintrag an der jeweiligen Stelle besitzt.\n",
    "    .mapValues { //Iteriert über die Map und setzt jeden Wert eines Paares auf die Rückgabe des Lambda-Ausdrucks\n",
    "        val inzidenzen = MutableList<Double>(0) { 0.0 } //Erstellt für jedes Land eine leere Liste, die mit den Inzidenzraten gefüllt werden soll\n",
    "        it.value.forEach{ //Iteriert über alle Einträge jedes Land\n",
    "            inzidenzen.add((it[\"Incident_Rate\"] as String).toDouble()) //Fügt der Liste die Inzidenzrate der Region hinzu\n",
    "        }  \n",
    "        (inzidenzen.average() / 100000) * 100 //Berechnet den Durchschnitt der Wert der Liste, wandelt ihn in Prozent um und gibt ihn zurück\n",
    "    }\n",
    "    .toList() //Konvertiert die Map in eine Liste aus Paaren, welche aus dem Schlüssel und dem berechneten Wert besteht, da eine Map nicht sortiert werden kann\n",
    "    .sortedByDescending { (schluessel, wert) -> wert} //Sortiert die Liste nach den Werten absteigend\n",
    "    .take(3) //Löscht alle Einträge abgesehen von den ersten Drei\n",
    "    \n",
    "//Ausgabe\n",
    "for (i in 0 until rangliste.size){\n",
    "    println(\"Platz ${i+1}: ${rangliste[i].first} mit einer Durchseuchung von ${rangliste[i].second} %\")\n",
    "}\n",
    "//Zum Nachvollziehen:\n",
    "//rangliste"
   ]
  },
  {
   "cell_type": "markdown",
   "id": "distributed-portal",
   "metadata": {},
   "source": [
    "#### Aufgabe\n",
    "In der Spalte Case_Fatality_Ratio ist der Anteil der verstorbenen Personen an der Gesamtzahl der bestätigten Fälle zu finden. Ihre Aufgabe ist es eine Erweiterungsmethode `gibGeringsteSterblichkeit()` der Klasse `DataFrame` zu implentieren, die die 10 Länder mit der geringsten Sterblichkeit zurückgibt. Zurückgegeben soll eine Liste, die aus Paaren besteht. Jedes Paar soll zuerst das Land und dann die Sterblichkeit beinhalten. Um fehlerhafte Daten entgegenzuwirken, sollen nur Länder, die mehr als 20000 bestätigte Fälle aufweisen, ausgewählt werden. Außerdem soll das Land Belgium nicht berücksichtigt werden."
   ]
  },
  {
   "cell_type": "code",
   "execution_count": null,
   "id": "buried-enemy",
   "metadata": {},
   "outputs": [],
   "source": [
    "//TODO\n",
    "\n",
    "//Test\n",
    "val testErgebnis = listOf( \n",
    "    Pair(\"Singapore\", 0.049542557056511546), Pair(\"Qatar\", 0.17185729399949518), Pair(\"United Arab Emirates\", 0.319314985326216), \n",
    "    Pair(\"Bahrain\", 0.3600318565664677), Pair(\"Malaysia\", 0.36787523838541136), Pair(\"Cuba\", 0.5351024805995085), Pair(\"Kuwait\", 0.5710878000902807), \n",
    "    Pair(\"Sri Lanka\", 0.6261314024065595), Pair(\"Norway\", 0.6756890445380977), Pair(\"Belarus\", 0.7000750296488129)\n",
    ")\n",
    "val ergebnis = data.gibGeringsteSterblichkeit()\n",
    "var fehler = 0\n",
    "for(i in 0 until testErgebnis.size){\n",
    "    if(testErgebnis[i] != ergebnis[i]){\n",
    "        println(\"Falsch! Eintrag $i sollte ${testErgebnis[i]} sein, ist aber ${ergebnis[i]}\")\n",
    "        fehler++\n",
    "    }\n",
    "}\n",
    "if(fehler == 0)\n",
    "    println(\"Super! Alle Tests bestanden!\")\n",
    "else\n",
    "    println(\"Bei $fehler Tests kamen Fehler auf.\")"
   ]
  },
  {
   "cell_type": "code",
   "execution_count": 94,
   "id": "selected-omega",
   "metadata": {
    "execution": {
     "iopub.execute_input": "2021-04-18T15:13+0200",
     "iopub.status.busy": "2021-04-18T15:13+0200",
     "iopub.status.idle": "2021-04-18T15:13+0200",
     "shell.execute_reply": "2021-04-18T15:13+0200",
     "shell.execute_reply.started": "2021-04-18T15:13+0200"
    },
    "tags": []
   },
   "outputs": [
    {
     "name": "stdout",
     "output_type": "stream",
     "text": [
      "Super! Alle Tests bestanden!\n"
     ]
    }
   ],
   "source": [
    "fun DataFrame.gibGeringsteSterblichkeit() = this.rows.filter { it[\"Case_Fatality_Ratio\"] as String != \"\" && it[\"Confirmed\"] as Int > 50000 &&  it[\"Country_Region\"] as String != \"Belgium\"} //Filtert alle Zeilen heraus, die keinen Eintrag in der Spalte Incident_Rate aufweisen\n",
    "    .groupBy { it[\"Country_Region\"] }   //Gruppiert die Einträge nach dem Land. Zurückgegeben wird eine Map mit dem Namen des Landes als Schlüssel und einer Liste, die alle Zeilen des Landes umfasst. \n",
    "                                        //Jeder Eintrag in der Liste ist jedoch wieder eine Map, die als Schlüssel den Spaltennamen und als Wert den Eintrag an der jeweiligen Stelle besitzt.\n",
    "    .mapValues { //Iteriert über die Map und setzt jeden Wert eines Paares auf die Rückgabe des Lambda-Ausdrucks\n",
    "        val inzidenzen = MutableList<Double>(0) { 0.0 } //Erstellt für jedes Land eine leere Liste, die mit den Inzidenzraten gefüllt werden soll\n",
    "        it.value.forEach{ //Iteriert über alle Einträge jedes Land\n",
    "            inzidenzen.add((it[\"Case_Fatality_Ratio\"] as String).toDouble()) //Fügt der Liste die Inzidenzrate der Region hinzu\n",
    "        }  \n",
    "        inzidenzen.average() //Berechnet den Durchschnitt der Wert der Liste, wandelt ihn in Prozent um und gibt ihn zurück\n",
    "    }\n",
    "    .toList() //Konvertiert die Map in eine Liste aus Paaren, welche aus dem Schlüssel und dem berechneten Wert besteht, da eine Map nicht sortiert werden kann\n",
    "    .sortedBy { (schluessel, wert) -> wert} //Sortiert die Liste nach den Werten absteigend\n",
    "    .take(10) //Löscht alle Einträge abgesehen von den ersten Zehn\n",
    "\n",
    "//Test\n",
    "val testErgebnis = listOf( \n",
    "    Pair(\"Singapore\", 0.049542557056511546), Pair(\"Qatar\", 0.17185729399949518), Pair(\"United Arab Emirates\", 0.319314985326216), \n",
    "    Pair(\"Bahrain\", 0.3600318565664677), Pair(\"Malaysia\", 0.36787523838541136), Pair(\"Cuba\", 0.5351024805995085), Pair(\"Kuwait\", 0.5710878000902807), \n",
    "    Pair(\"Sri Lanka\", 0.6261314024065595), Pair(\"Norway\", 0.6756890445380977), Pair(\"Belarus\", 0.7000750296488129)\n",
    ")\n",
    "val ergebnis = data.gibGeringsteSterblichkeit()\n",
    "var fehler = 0\n",
    "for(i in 0 until testErgebnis.size){\n",
    "    if(testErgebnis[i] != ergebnis[i]){\n",
    "        println(\"Falsch! Eintrag $i sollte ${testErgebnis[i]} sein, ist aber ${ergebnis[i]}\")\n",
    "        fehler++\n",
    "    }\n",
    "}\n",
    "if(fehler == 0)\n",
    "    println(\"Super! Alle Tests bestanden!\")\n",
    "else\n",
    "    println(\"Bei $fehler Tests kamen Fehler auf.\")"
   ]
  },
  {
   "cell_type": "markdown",
   "id": "336a8a68-86ef-4654-acf1-17842691a40a",
   "metadata": {},
   "source": [
    "## Lektion 7 - Funktionen höherer Ordnung"
   ]
  },
  {
   "cell_type": "markdown",
   "id": "equal-lewis",
   "metadata": {},
   "source": [
    "## Zusammenfassung\n",
    "Variablen, die den Wert `null` annehmen können (sogenannte **\"nullable\"-Variablen**), benötigen in Kotlin eine konkrete Initialsierung. Dadurch sollen die häufig auftretenen Probleme mit `NullPointerExceptions` der Vergangenheit angewöhnen. Das eine Variable den Wert `null` annehmen kann, wird bei der Deklarierung durch ein `?` nach dem Datentyp gekennzeichnet (Beispielsweise `val nullable: Int?`). Eine implizite Zuweisung des Datentyps durch den Kompiler ist nicht möglich. Falls eine Variable mit `null` initianilisert werden würde, würde sie von dem Kompiler den Datentyp `Nothing?` zugewiesen bekommen.<br />\n",
    "**Zugriffe auf eine nullable-Variable** müssen immer eine `null`-Prüfung vorangestellt sein. Eine bereits bekannte Möglichkeit ist eine Abfrage mit Hilfe einer `if`-Verzweigung. Jedoch bietet Kotlin auch eine schönere Möglichkeit. Durch die Verwendung des Zeichens `?` zwischen dem Variablenname und dem Punkt bei Aufruf einer Methode, findet ein **sicherer Zugriff** statt. Sollte die Variable zu diesem Zeitpunkt den Wert `null` besitzen, wird die Methode nicht ausgeführt und `null` zurückgegeben. Ansonsten wird die Methode ausgeführt und im Bedarfsfall das Ergebnis zurückgegeben. Sichere Zugriffe könen auch aneinander angehangen werden. Die Anweisung wird nur ausgeführt, wenn alle Variablen nicht den Wert `null` besitzen.<br />\n",
    "Soll jedoch nichts zurückgegeben werden und die Methode auf der Variable nur ausgeführt werden, wenn diese nicht `null` ist, kann die Methode **`let`** in Verbindung mit einem Lambda-Ausdruck und einem sicheren Zugriff verwendet werden. Der Methodenrumpf des Ausdrucks wird nur ausgeführt, wenn der sichere Zugriff erfolgreich ist.<br />\n",
    "Eine weitere Erweiterung des sicheren Zugriffs ist der **Elvis Operator** `?:`. Mit diesem kann ein Standardwert für den Fall, dass der sichere Zugriff fehlschlägt (die Variable `null` ist), definiert werden. Beispielsweise würde `a?.length ?: -1` -1 zurückgeben, falls `a` den Wert `null` besitzt. Ansonsten wird die Methode ganz normal ausgeführt.<br />\n",
    "Alle kennengelerten Möglichkeiten bei der Verwendung von nullable-Variablen führen dazu, dass keine `NullPointerExceptions` auftreten. Jedoch können diese auch von der Entwickler:in konkret gewünscht werden. Dann findet der **Operator `!!`** Anwendung, der den sicheren Zugriff ersetzt. Im Hintergund wird die Variable zu einer nonnullable-Variable umgewandelt und kann bei diesem Zugriff, wie aus Java gewohnt, eine `NullPointerException` werfen.<br />\n",
    "Mit diesen Informationen kann jetzt die Typumwandlung weiter vereinfacht werden. Während bis jetzt vorher eine Prüfung des Datentyps mit `is` vorgenommen werden musste, kann diese mit einem **safe cast** mit `as?` entfallen. Sollte eine Typumwandlung mit `as?` scheitern, wird der Ausdruck `null`. Deswegen ist eine Behandlung dieser \"Bedrohung\" durch `null`, zum Beispiel mit einem sicheren Zugriff, nötig.<br />\n",
    "Auch können **Datenstrukturen** mit `null` gefüllt werden. Dazu muss bei der Deklarierung ein nullable-Datentyp angegeben werden. Sollen aus einer Datenstruktur alle `null`-Elemente herausgeiltert werden, kann die Methode `filterNotNull()` verwendet werden.\n",
    "<br />\n",
    "<br />\n",
    "Der zweite große Themenbereich dieses Abschnittes war die **funktionale Programmierung**. Kotlin ist an sich eher eine objektorierntierte Programmiersprache, da sie bekanntlich auf der JVM aufbaut. Es wurden jedoch einige funktionale Elemente eingebaut. So werden Funktionen als ein eigener Datentyp angesehen. Ein anderer wichtiger Aspekt sind **Lambdas**. Dies sind kleine, anonyme Methoden, die ausgewählten Methoden als Parameter übergeben werden. Sie eignen sich vor Allem zu Operationen auf Datenstrukturen.Dies wird nun näher beleuchtet. Ein Lambda-Ausdrucks besitzt folgenden Syntax:<br />\n",
    ">Lambda-Ausdruck -> \"{\" Parameter \"->\" Methodenrumpf \"}\"\n",
    "\n",
    "Wird ein Lambda-Ausdruck übergeben, kann dieser entweder als Parameter in den dafür vorgesehenen Klammern übergeben werden oder auch hinter die Klammern geschrieben werden, falls er als letztes Argument übergeben wird. Falls zusätzlich keine weiteren Parameter existieren, können die runden Klammern komplett weggelassen werden. Ein Beispiel ohne Vereinfachung: `liste.map( { elem: Int ->  elem + 5} )`. Wird dem Lambda-Asdruck von der Methode nur ein Parameter übergeben, muss dieser nicht explizit angegeben und im Methodenrumpf mit `it` verwendet werden. Das Beispiel könnte somit zu `liste.map { it + 5 }` vereinfacht werden.<br />\n",
    "Der **Methodenrumpf** in einem Lambda-Ausdruck kann als vollwertige Codefläche verstanden werden. In ihm können auch Kontrollstrukturen, Schleifen oder auch neue Variablen verwendet werden. Eine Besonderheit stellt aber die Rückgabe dar, falls sie verlangt wird. Es wird immer das Ergebnis der letzten Anweisung oder Verzweigung zurückgegeben. Dabei entfällt das Schlüsselwort `return`.< br />\n",
    "Lambda-Ausdrücke können auch in Variablen gespeichert werden. In diesem Fall müssen aber immer die Datentypen der Parameter und der Rückgabe, sowie die Parameter selbst, angegeben werden. Es wird folgender Syntax angewendet:\n",
    ">LambdaInEinerVariable -> Variable \":\" LambdaAusdruck<br />\n",
    "LambdaAusdruck -> \"(\" DatentypenParameter \")\" \"->\" DatentypRückgabe \"=\" \"{\" Parameter \"->\" Methodenrumpf \"}\"\n",
    "\n",
    "Lambda-Ausdrücke können auch in einer Sequenz ausgeführt werden. Dabei wird von Vorne mit der Auswertung angefangen und der folgende Ausdruck auf die Rückgabe angewendet.\n",
    "<br />\n",
    "<br />\n",
    "Der größte Anwendungsbereich von Lambda-Ausdrücken ist in Verbindung mit ausgewählten Methoden die Arbeit mit Datenstrukturen. Es werden nun ausgewählte Methoden und deren Anwendung vorgestellt.\n",
    "<ul>\n",
    "    <li><code>map</code>: wird <code>map()</code> in Verbindung mit einem Lambda-Ausdrucks auf einer Datenstruktur aufgerufen, wird durch diese iteriert. Bei jeder Iteration wird dem Lambda das aktuelle Element übergeben und durch die Rückgabe ersetzt.</li>\n",
    "    <li><code>filter</code>: um nur bestimmte Elemente aus einer Datenstruktur herauszufiltern, kann die Methode <code>filter()</code> benutzt werden. Als Rückgabe des Lambda-Ausdrucks wird ein boolscher Ausdruck erwartet, mit dem die Filterung durchgeführt werden kann. Die Methode gibt eine Datenstruktur der gleichen Klasse zurück, welche nur die Elemente beinhaltet, die der Bedingung entsprechen.</li>\n",
    "    <li><code>any</code>, <code>all</code> und <code>none</code></li>\n",
    "    <ul>\n",
    "        <li><code>any</code>: mit <code>any()</code> kann getestet werden, ob ein Element der Datenstruktur der Bedingung des Lambda-Ausdrucks genügt. Falls ja, wird `true` zurückgegeben, ansonsten `false`.</li>\n",
    "        <li><code>all</code>: während <code>any()</code> nur überprüft, ob ein Element die Bedingung erfüllen kann, kann mit <code>all()</code> getestet werden, ob diese für alle Elemente zutrifft.</li>\n",
    "        <li><code>none</code>: <code>none()</code> ist das Gegenteil zu <code>all()</code>. Es wird zurückgegeben, ob der boolsche Ausdruck in dem Lambda für kein Element wahr ist.</li>\n",
    "    </ul>\n",
    "    <li><code>find</code>, <code>first</code> und <code>firstOrNull</code></li>\n",
    "    <ul>\n",
    "        <li><code>find</code>: Eine weitere fundamentale Funktion bietet <code>find()</code>. Wird diese Methode auf einer Datenstruktur in Verbindung mit einem Lambda-Ausdrucks aufgerufen, wird das erste Element zurückgegeben, das die Bedingung, dem Inhalt des Lambdas, erfüllt. Wird keine ELement gefunden, beinhaltet die Rückgabe <code>null</code>.</li>\n",
    "        <li><code>first</code>: <code>first()</code> besitzt auf dem ersten Blick die gleiche Funktionalität wie <code>find()</code>. Es wird das erste Element zurückgegeben, dass der Bedingung des Lambda-Ausdrucks genügt. Der Unterschied ist aber in dem zweiten Fall, dass kein Element gefunden wird, zu finden. Anstelle von <code>null</code> wird eine <code>NoSuchElementException</code> geworfen.</li>\n",
    "        <li><code>firstOrNull</code>: <code>firstOrNull()</code> ist identisch zu <code>find()</code>.</li>\n",
    "    </ul>\n",
    "    <li><code>partition</code>: <code>partition()</code> ist eine Erweiterung der Methode <code>filter()</code>. Die Datenstruktur wird dabei in zwei Rückgaben geteilt, wobei die Erste eine Datenstruktur ist, deren Elemente der Bedingung des Lambda-Ausdrucks erfüllen, und die Zweite alle restlichen Elemente enthält.</li>\n",
    "    <li><code>groupBy</code>: Eine, bereits aus der Arbeit mit Datenbanken bekannte, Funktionalität ist das Gruppieren. In Kotlin können Datenstrukturen mit der Methode <code>groupBy()</code> und einem Lambda-Ausdruck, der eine bedingung enthält, zusammengefasst werden. Es wird eine Map zurückgegeben, deren Schlüssel das Grupperiungskriterium und deren Wert eine Liste ist, die die Elemente, die das Kriterium fallen, enthält. Der Schlüssel kann auch selbst gewählt werden, indem dieser zurückgegeben wird.</li>\n",
    "    <li><code>count</code>: Mit Hilfe von <code>count()</code> kann die Anzahl der Elemente abgefragt werden, die eine Bedingung, die in dem Lambda-Ausdruck zu finden ist, erfüllen.</li>\n",
    "    <li><code>flatten</code> und <code>flatMap</code></li>\n",
    "    <ul>\n",
    "        <li><code>flatten</code>: <code>flatten()</code> kann auf Listen oder Arrays aufgerufen werden. die wiederum mehrere Listen oder Arrays beinhalten. Die Rückgabe ist nur noch eine Liste oder Array, die alle Elemente beinhaltet.</li>\n",
    "        <li><code>flatMap</code>: Eine Verbindung von <code>flatten()</code> und <code>map()</code> ist <code>flatMap()</code>. Bei Aufruf wird zuerst auf alle Elemente der Datenstruktur <code>map()</code> mit der Anweisung im Lambda-Ausdruck angewendet und das Ergebnis dann in eine Datenstruktur mit <code>flatten()</code> zusammengefasst.</li>\n",
    "    </ul>\n",
    "    <li><code>reduce</code>: Eine Methode, die dem Lambda-Ausdruck zwei Parameter übergibt, ist <code>reduce()</code>. Bei der ersten Ausführung sind das die ersten beiden Elemente der Datenstruktur. In Allen darauf folgenden ist der erste Parameter die Rückgabe der vorherigen Aufführung und der Zweite das aktuelle Element.</li>\n",
    "    <li><code>zip</code>, <code>unzip</code> und <code>flatMap</code></li>\n",
    "    <ul>\n",
    "        <li><code>zip</code>: Zwei Datenstrukturen können mit Hilfe von <code>zip()</code> zusammengefasst werden.</li>\n",
    "        <li><code>unzip</code>: <code>unzip()</code> ist das Gegenteil zu <code>zip()</code> und macht aus einer Datenstruktur zwei gleichgroße und gibt sie als Paar zurück.</li>\n",
    "        <li><code>zipWithNext</code>: Sollen immer zwei folgende Elemente einer Datenstruktur in einer bestimmten Form zusammengefasst werden, kann dies mit <code>zipWithNext()</code> und einem Lambda-Ausdruck bewerkstelligt werden. Dabei werden die beiden Elemente dem Ausdruck übergeben und mit der Rückgabe ersetzt.</li>\n",
    "    </ul>\n",
    "    <li><code>removeAll</code>, <code>removeIf</code>: Sollen alle Elemente, die eine Bedingung erfüllen, entfernt werden, können die Methoden <code>removeAll()</code> und <code>removeIf()</code> mit einem Lambda-Ausdruck, in dem die Bedingung definiert wird, verwendet werden.</li>\n",
    "    <li><code>sumOf</code>, <code>minByOrNull</code> und <code>maxByOrNull</code></li>\n",
    "    <ul>\n",
    "        <li><code>sumOf</code>: <code>sumOf()</code> erweitert die Methode <code>sum()</code> dadurch, dass zuerst der Lambda-Ausdruck ausgewertet wird und die Rückgabe zur Summe hinzugefügt wird.</li>\n",
    "        <li><code>minByOrNull</code>: mit <code>minByOrNull()</code> kann bestimmt werden, wovon das Minimum gesucht werden soll, oder, ähnlich zu <code>sumOf()</code>, erst die Rückgabe des Lambda-Ausdrucks geprüft wird. Wird kein Minimum gefunden, ist die Rückgabe <code>null</code>.</li>\n",
    "        <li><code>maxByOrNull</code>: <code>maxByORNull()</code> ist das Gegenteil zu <code>minByOrNull()</code> und gibt das Maximum oder <code>null</code> zurück.</li>\n",
    "    </ul>\n",
    "    <li><code>takeWhile</code>, <code>takeUnless</code> und <code>takeIf</code></li>\n",
    "    <ul>\n",
    "        <li><code>takeWhile</code>, <code>takeUnless</code>: Sollen anstelle einer bestimmten Anzahl soviele Elemente genommen werden, bis die Bedingung eines Lambda-Ausdrucks nicht mehr erfüllt wird, findet <code>takeWhile()</code> oder <code>takeUnless()</code> Anwendung.</li>\n",
    "        <li><code>takeIf</code>: <code>takeIf()</code> findet vor Allem bei primitiven Datentypen Anwendung und gibt das Element zurück, falls es der Bedinung des Lambda-Ausrucks genügt, ansonsten ist die Rückgabe <code>null</code>.</li>\n",
    "    </ul>\n",
    "    <li><code>forEach</code>: Die bereits aus Java bekannte <code>for-each</code>-Schleife kann in Kotlin mit der Methode <code>forEach()</code> auf einer Datenstruktur angewendet werden. Daraufhin wird der Code des Lambda-Ausdrucks auf alle Elemente angewandt. Das Lambda besitzt dabei keine Rückgabe.</li>\n",
    "</ul>"
   ]
  },
  {
   "cell_type": "code",
   "execution_count": null,
   "id": "ambient-windows",
   "metadata": {},
   "outputs": [],
   "source": []
  }
 ],
 "metadata": {
  "kernelspec": {
   "display_name": "Kotlin",
   "language": "kotlin",
   "name": "kotlin"
  },
  "language_info": {
   "codemirror_mode": "text/x-kotlin",
   "file_extension": ".kt",
   "mimetype": "text/x-kotlin",
   "name": "kotlin",
   "nbconvert_exporter": "",
   "pygments_lexer": "kotlin",
   "version": "1.5.20-dev-5817"
  }
 },
 "nbformat": 4,
 "nbformat_minor": 5
}
